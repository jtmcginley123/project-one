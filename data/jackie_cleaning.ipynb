{
 "metadata": {
  "language_info": {
   "codemirror_mode": {
    "name": "ipython",
    "version": 3
   },
   "file_extension": ".py",
   "mimetype": "text/x-python",
   "name": "python",
   "nbconvert_exporter": "python",
   "pygments_lexer": "ipython3",
   "version": "3.8.3-final"
  },
  "orig_nbformat": 2,
  "kernelspec": {
   "name": "Python 3.8.3 64-bit ('base': conda)",
   "display_name": "Python 3.8.3 64-bit ('base': conda)",
   "metadata": {
    "interpreter": {
     "hash": "dca0ade3e726a953b501b15e8e990130d2b7799f14cfd9f4271676035ebe5511"
    }
   }
  }
 },
 "nbformat": 4,
 "nbformat_minor": 2,
 "cells": [
  {
   "cell_type": "code",
   "execution_count": 14,
   "metadata": {},
   "outputs": [
    {
     "output_type": "execute_result",
     "data": {
      "text/plain": [
       "     Stratacat  Year              CHA type               Codes   Def Desc  \\\n",
       "0     <9 years  2011  Emergency Department  3052*, 9696, E8541  All Codes   \n",
       "1     <9 years  2011  Emergency Department  3052*, 9696, E8541  All Codes   \n",
       "2     <9 years  2012  Emergency Department  3052*, 9696, E8541  All Codes   \n",
       "3     <9 years  2012  Emergency Department  3052*, 9696, E8541  All Codes   \n",
       "4     <9 years  2013  Emergency Department  3052*, 9696, E8541  All Codes   \n",
       "..         ...   ...                   ...                 ...        ...   \n",
       "157  66+ years  2017  Emergency Department        T40.7*, F12*  All Codes   \n",
       "158  66+ years  2018  Emergency Department        T40.7*, F12*  All Codes   \n",
       "159  66+ years  2018  Emergency Department        T40.7*, F12*  All Codes   \n",
       "160  66+ years  2019  Emergency Department        T40.7*, F12*  All Codes   \n",
       "161  66+ years  2019  Emergency Department        T40.7*, F12*  All Codes   \n",
       "\n",
       "     def  Denom Type Race/Eth FN Rate Description   Rate Method Desc  \\\n",
       "0      1  Discharges                         Crude               NaN   \n",
       "1      1  Discharges                         Crude               NaN   \n",
       "2      1  Discharges                         Crude               NaN   \n",
       "3      1  Discharges                         Crude               NaN   \n",
       "4      1  Discharges                         Crude               NaN   \n",
       "..   ...         ...         ...               ...               ...   \n",
       "157    1  Discharges                         Crude               NaN   \n",
       "158    1  Discharges                         Crude               NaN   \n",
       "159    1  Discharges                         Crude               NaN   \n",
       "160    1  Discharges                         Crude               NaN   \n",
       "161    1  Discharges                         Crude               NaN   \n",
       "\n",
       "     Wide CI FN    Denom    Lcl    N   Rate    Ucl  Wban  \n",
       "0           NaN  219,673    3.2   13    5.9   10.1     7  \n",
       "1           NaN  219,673    3.2   13    5.9   10.1     7  \n",
       "2           NaN  228,912    3.7   15    6.6   10.8     7  \n",
       "3           NaN  228,912    3.7   15    6.6   10.8     7  \n",
       "4           NaN  241,067    3.8   16    6.6   10.8     7  \n",
       "..          ...      ...    ...  ...    ...    ...   ...  \n",
       "157         NaN  270,247  222.0  649  240.2  259.3    37  \n",
       "158         NaN  278,825  262.9  787  282.3  302.7    40  \n",
       "159         NaN  278,825  262.9  787  282.3  302.7    40  \n",
       "160         NaN  285,521  164.1  512  179.3  195.5    31  \n",
       "161         NaN  285,521  164.1  512  179.3  195.5    31  \n",
       "\n",
       "[162 rows x 17 columns]"
      ],
      "text/html": "<div>\n<style scoped>\n    .dataframe tbody tr th:only-of-type {\n        vertical-align: middle;\n    }\n\n    .dataframe tbody tr th {\n        vertical-align: top;\n    }\n\n    .dataframe thead th {\n        text-align: right;\n    }\n</style>\n<table border=\"1\" class=\"dataframe\">\n  <thead>\n    <tr style=\"text-align: right;\">\n      <th></th>\n      <th>Stratacat</th>\n      <th>Year</th>\n      <th>CHA type</th>\n      <th>Codes</th>\n      <th>Def Desc</th>\n      <th>def</th>\n      <th>Denom Type</th>\n      <th>Race/Eth FN</th>\n      <th>Rate Description</th>\n      <th>Rate Method Desc</th>\n      <th>Wide CI FN</th>\n      <th>Denom</th>\n      <th>Lcl</th>\n      <th>N</th>\n      <th>Rate</th>\n      <th>Ucl</th>\n      <th>Wban</th>\n    </tr>\n  </thead>\n  <tbody>\n    <tr>\n      <th>0</th>\n      <td>&lt;9 years</td>\n      <td>2011</td>\n      <td>Emergency Department</td>\n      <td>3052*, 9696, E8541</td>\n      <td>All Codes</td>\n      <td>1</td>\n      <td>Discharges</td>\n      <td></td>\n      <td>Crude</td>\n      <td>NaN</td>\n      <td>NaN</td>\n      <td>219,673</td>\n      <td>3.2</td>\n      <td>13</td>\n      <td>5.9</td>\n      <td>10.1</td>\n      <td>7</td>\n    </tr>\n    <tr>\n      <th>1</th>\n      <td>&lt;9 years</td>\n      <td>2011</td>\n      <td>Emergency Department</td>\n      <td>3052*, 9696, E8541</td>\n      <td>All Codes</td>\n      <td>1</td>\n      <td>Discharges</td>\n      <td></td>\n      <td>Crude</td>\n      <td>NaN</td>\n      <td>NaN</td>\n      <td>219,673</td>\n      <td>3.2</td>\n      <td>13</td>\n      <td>5.9</td>\n      <td>10.1</td>\n      <td>7</td>\n    </tr>\n    <tr>\n      <th>2</th>\n      <td>&lt;9 years</td>\n      <td>2012</td>\n      <td>Emergency Department</td>\n      <td>3052*, 9696, E8541</td>\n      <td>All Codes</td>\n      <td>1</td>\n      <td>Discharges</td>\n      <td></td>\n      <td>Crude</td>\n      <td>NaN</td>\n      <td>NaN</td>\n      <td>228,912</td>\n      <td>3.7</td>\n      <td>15</td>\n      <td>6.6</td>\n      <td>10.8</td>\n      <td>7</td>\n    </tr>\n    <tr>\n      <th>3</th>\n      <td>&lt;9 years</td>\n      <td>2012</td>\n      <td>Emergency Department</td>\n      <td>3052*, 9696, E8541</td>\n      <td>All Codes</td>\n      <td>1</td>\n      <td>Discharges</td>\n      <td></td>\n      <td>Crude</td>\n      <td>NaN</td>\n      <td>NaN</td>\n      <td>228,912</td>\n      <td>3.7</td>\n      <td>15</td>\n      <td>6.6</td>\n      <td>10.8</td>\n      <td>7</td>\n    </tr>\n    <tr>\n      <th>4</th>\n      <td>&lt;9 years</td>\n      <td>2013</td>\n      <td>Emergency Department</td>\n      <td>3052*, 9696, E8541</td>\n      <td>All Codes</td>\n      <td>1</td>\n      <td>Discharges</td>\n      <td></td>\n      <td>Crude</td>\n      <td>NaN</td>\n      <td>NaN</td>\n      <td>241,067</td>\n      <td>3.8</td>\n      <td>16</td>\n      <td>6.6</td>\n      <td>10.8</td>\n      <td>7</td>\n    </tr>\n    <tr>\n      <th>...</th>\n      <td>...</td>\n      <td>...</td>\n      <td>...</td>\n      <td>...</td>\n      <td>...</td>\n      <td>...</td>\n      <td>...</td>\n      <td>...</td>\n      <td>...</td>\n      <td>...</td>\n      <td>...</td>\n      <td>...</td>\n      <td>...</td>\n      <td>...</td>\n      <td>...</td>\n      <td>...</td>\n      <td>...</td>\n    </tr>\n    <tr>\n      <th>157</th>\n      <td>66+ years</td>\n      <td>2017</td>\n      <td>Emergency Department</td>\n      <td>T40.7*, F12*</td>\n      <td>All Codes</td>\n      <td>1</td>\n      <td>Discharges</td>\n      <td></td>\n      <td>Crude</td>\n      <td>NaN</td>\n      <td>NaN</td>\n      <td>270,247</td>\n      <td>222.0</td>\n      <td>649</td>\n      <td>240.2</td>\n      <td>259.3</td>\n      <td>37</td>\n    </tr>\n    <tr>\n      <th>158</th>\n      <td>66+ years</td>\n      <td>2018</td>\n      <td>Emergency Department</td>\n      <td>T40.7*, F12*</td>\n      <td>All Codes</td>\n      <td>1</td>\n      <td>Discharges</td>\n      <td></td>\n      <td>Crude</td>\n      <td>NaN</td>\n      <td>NaN</td>\n      <td>278,825</td>\n      <td>262.9</td>\n      <td>787</td>\n      <td>282.3</td>\n      <td>302.7</td>\n      <td>40</td>\n    </tr>\n    <tr>\n      <th>159</th>\n      <td>66+ years</td>\n      <td>2018</td>\n      <td>Emergency Department</td>\n      <td>T40.7*, F12*</td>\n      <td>All Codes</td>\n      <td>1</td>\n      <td>Discharges</td>\n      <td></td>\n      <td>Crude</td>\n      <td>NaN</td>\n      <td>NaN</td>\n      <td>278,825</td>\n      <td>262.9</td>\n      <td>787</td>\n      <td>282.3</td>\n      <td>302.7</td>\n      <td>40</td>\n    </tr>\n    <tr>\n      <th>160</th>\n      <td>66+ years</td>\n      <td>2019</td>\n      <td>Emergency Department</td>\n      <td>T40.7*, F12*</td>\n      <td>All Codes</td>\n      <td>1</td>\n      <td>Discharges</td>\n      <td></td>\n      <td>Crude</td>\n      <td>NaN</td>\n      <td>NaN</td>\n      <td>285,521</td>\n      <td>164.1</td>\n      <td>512</td>\n      <td>179.3</td>\n      <td>195.5</td>\n      <td>31</td>\n    </tr>\n    <tr>\n      <th>161</th>\n      <td>66+ years</td>\n      <td>2019</td>\n      <td>Emergency Department</td>\n      <td>T40.7*, F12*</td>\n      <td>All Codes</td>\n      <td>1</td>\n      <td>Discharges</td>\n      <td></td>\n      <td>Crude</td>\n      <td>NaN</td>\n      <td>NaN</td>\n      <td>285,521</td>\n      <td>164.1</td>\n      <td>512</td>\n      <td>179.3</td>\n      <td>195.5</td>\n      <td>31</td>\n    </tr>\n  </tbody>\n</table>\n<p>162 rows × 17 columns</p>\n</div>"
     },
     "metadata": {},
     "execution_count": 14
    }
   ],
   "source": [
    "# Import the necessary libraries for reading csv files\n",
    "import os\n",
    "import csv\n",
    "import pandas as pd \n",
    "\n",
    "# Set the path for the csv file\n",
    "csvpath = os.path.join('rawdata/Jackie-CO-Discharges-Age.tsv')\n",
    "\n",
    "# Open the csv\n",
    "with open(csvpath, newline=\"\", encoding='utf8', errors='ignore') as csvfile:\n",
    "    csvreader = pd.read_csv(csvfile, delimiter=\"\\t\")\n",
    "\n",
    "    # Iterate through the data and search for the number the user inputted. Remember to skip the header of the CSV.\n",
    "    # csv_header = next(csvreader)\n",
    "    df = pd.DataFrame(csvreader)\n",
    "df"
   ]
  },
  {
   "cell_type": "code",
   "execution_count": 16,
   "metadata": {},
   "outputs": [
    {
     "output_type": "execute_result",
     "data": {
      "text/plain": [
       "     Stratacat  Year               Codes\n",
       "0     <9 years  2011  3052*, 9696, E8541\n",
       "1     <9 years  2011  3052*, 9696, E8541\n",
       "2     <9 years  2012  3052*, 9696, E8541\n",
       "3     <9 years  2012  3052*, 9696, E8541\n",
       "4     <9 years  2013  3052*, 9696, E8541\n",
       "..         ...   ...                 ...\n",
       "157  66+ years  2017        T40.7*, F12*\n",
       "158  66+ years  2018        T40.7*, F12*\n",
       "159  66+ years  2018        T40.7*, F12*\n",
       "160  66+ years  2019        T40.7*, F12*\n",
       "161  66+ years  2019        T40.7*, F12*\n",
       "\n",
       "[162 rows x 3 columns]"
      ],
      "text/html": "<div>\n<style scoped>\n    .dataframe tbody tr th:only-of-type {\n        vertical-align: middle;\n    }\n\n    .dataframe tbody tr th {\n        vertical-align: top;\n    }\n\n    .dataframe thead th {\n        text-align: right;\n    }\n</style>\n<table border=\"1\" class=\"dataframe\">\n  <thead>\n    <tr style=\"text-align: right;\">\n      <th></th>\n      <th>Stratacat</th>\n      <th>Year</th>\n      <th>Codes</th>\n    </tr>\n  </thead>\n  <tbody>\n    <tr>\n      <th>0</th>\n      <td>&lt;9 years</td>\n      <td>2011</td>\n      <td>3052*, 9696, E8541</td>\n    </tr>\n    <tr>\n      <th>1</th>\n      <td>&lt;9 years</td>\n      <td>2011</td>\n      <td>3052*, 9696, E8541</td>\n    </tr>\n    <tr>\n      <th>2</th>\n      <td>&lt;9 years</td>\n      <td>2012</td>\n      <td>3052*, 9696, E8541</td>\n    </tr>\n    <tr>\n      <th>3</th>\n      <td>&lt;9 years</td>\n      <td>2012</td>\n      <td>3052*, 9696, E8541</td>\n    </tr>\n    <tr>\n      <th>4</th>\n      <td>&lt;9 years</td>\n      <td>2013</td>\n      <td>3052*, 9696, E8541</td>\n    </tr>\n    <tr>\n      <th>...</th>\n      <td>...</td>\n      <td>...</td>\n      <td>...</td>\n    </tr>\n    <tr>\n      <th>157</th>\n      <td>66+ years</td>\n      <td>2017</td>\n      <td>T40.7*, F12*</td>\n    </tr>\n    <tr>\n      <th>158</th>\n      <td>66+ years</td>\n      <td>2018</td>\n      <td>T40.7*, F12*</td>\n    </tr>\n    <tr>\n      <th>159</th>\n      <td>66+ years</td>\n      <td>2018</td>\n      <td>T40.7*, F12*</td>\n    </tr>\n    <tr>\n      <th>160</th>\n      <td>66+ years</td>\n      <td>2019</td>\n      <td>T40.7*, F12*</td>\n    </tr>\n    <tr>\n      <th>161</th>\n      <td>66+ years</td>\n      <td>2019</td>\n      <td>T40.7*, F12*</td>\n    </tr>\n  </tbody>\n</table>\n<p>162 rows × 3 columns</p>\n</div>"
     },
     "metadata": {},
     "execution_count": 16
    }
   ],
   "source": [
    "df_clean = df[['Stratacat', 'Year', 'Codes']]\n",
    "df_clean"
   ]
  },
  {
   "cell_type": "code",
   "execution_count": 17,
   "metadata": {},
   "outputs": [
    {
     "output_type": "execute_result",
     "data": {
      "text/plain": [
       "          sub  Year               CHA_type  Codes                   Def Desc  \\\n",
       "0   Marijuana  2011  Emergency Department   3043*  Use, Abuse, or Dependence   \n",
       "1   Marijuana  2011  Emergency Department   3043*  Use, Abuse, or Dependence   \n",
       "2   Marijuana  2012  Emergency Department   3043*  Use, Abuse, or Dependence   \n",
       "3   Marijuana  2012  Emergency Department   3043*  Use, Abuse, or Dependence   \n",
       "4   Marijuana  2013  Emergency Department   3043*  Use, Abuse, or Dependence   \n",
       "5   Marijuana  2013  Emergency Department   3043*  Use, Abuse, or Dependence   \n",
       "6   Marijuana  2014  Emergency Department   3043*  Use, Abuse, or Dependence   \n",
       "7   Marijuana  2014  Emergency Department   3043*  Use, Abuse, or Dependence   \n",
       "8   Marijuana  2015  Emergency Department   3043*  Use, Abuse, or Dependence   \n",
       "9   Marijuana  2015  Emergency Department   3043*  Use, Abuse, or Dependence   \n",
       "10  Marijuana  2016  Emergency Department    F12*  Use, Abuse, or Dependence   \n",
       "11  Marijuana  2016  Emergency Department    F12*  Use, Abuse, or Dependence   \n",
       "12  Marijuana  2017  Emergency Department    F12*  Use, Abuse, or Dependence   \n",
       "13  Marijuana  2017  Emergency Department    F12*  Use, Abuse, or Dependence   \n",
       "14  Marijuana  2018  Emergency Department    F12*  Use, Abuse, or Dependence   \n",
       "15  Marijuana  2018  Emergency Department    F12*  Use, Abuse, or Dependence   \n",
       "16  Marijuana  2019  Emergency Department    F12*  Use, Abuse, or Dependence   \n",
       "17  Marijuana  2019  Emergency Department    F12*  Use, Abuse, or Dependence   \n",
       "\n",
       "    def  Denom Type Rate Description   Rate Method Desc      Denom      Lcl  \\\n",
       "0     3  Discharges             Crude               NaN  1,327,248    589.1   \n",
       "1     3  Discharges             Crude               NaN  1,327,248    589.1   \n",
       "2     3  Discharges             Crude               NaN  1,424,217    672.3   \n",
       "3     3  Discharges             Crude               NaN  1,424,217    672.3   \n",
       "4     3  Discharges             Crude               NaN  1,620,114    838.6   \n",
       "5     3  Discharges             Crude               NaN  1,620,114    838.6   \n",
       "6     3  Discharges             Crude               NaN  1,756,313    996.9   \n",
       "7     3  Discharges             Crude               NaN  1,756,313    996.9   \n",
       "8     3  Discharges             Crude               NaN  1,851,377    751.7   \n",
       "9     3  Discharges             Crude               NaN  1,851,377    751.7   \n",
       "10    3  Discharges             Crude               NaN  1,920,533  1,020.7   \n",
       "11    3  Discharges             Crude               NaN  1,920,533  1,020.7   \n",
       "12    3  Discharges             Crude               NaN  1,911,468  1,089.4   \n",
       "13    3  Discharges             Crude               NaN  1,911,468  1,089.4   \n",
       "14    3  Discharges             Crude               NaN  1,911,545  1,111.0   \n",
       "15    3  Discharges             Crude               NaN  1,911,545  1,111.0   \n",
       "16    3  Discharges             Crude               NaN  1,848,243    800.8   \n",
       "17    3  Discharges             Crude               NaN  1,848,243    800.8   \n",
       "\n",
       "         N     Rate      Ucl  Wban  Avg. Year  \n",
       "0    7,993    602.2    615.5    26       2011  \n",
       "1    7,993    602.2    615.5    26       2011  \n",
       "2    9,767    685.8    699.5    27       2012  \n",
       "3    9,767    685.8    699.5    27       2012  \n",
       "4   13,815    852.7    867.0    28       2013  \n",
       "5   13,815    852.7    867.0    28       2013  \n",
       "6   17,767  1,011.6  1,026.5    30       2014  \n",
       "7   17,767  1,011.6  1,026.5    30       2014  \n",
       "8   14,148    764.2    776.8    25       2015  \n",
       "9   14,148    764.2    776.8    25       2015  \n",
       "10  19,876  1,034.9  1,049.3    29       2016  \n",
       "11  19,876  1,034.9  1,049.3    29       2016  \n",
       "12  21,106  1,104.2  1,119.1    30       2017  \n",
       "13  21,106  1,104.2  1,119.1    30       2017  \n",
       "14  21,523  1,125.9  1,141.0    30       2018  \n",
       "15  21,523  1,125.9  1,141.0    30       2018  \n",
       "16  15,039    813.7    826.7    26       2019  \n",
       "17  15,039    813.7    826.7    26       2019  "
      ],
      "text/html": "<div>\n<style scoped>\n    .dataframe tbody tr th:only-of-type {\n        vertical-align: middle;\n    }\n\n    .dataframe tbody tr th {\n        vertical-align: top;\n    }\n\n    .dataframe thead th {\n        text-align: right;\n    }\n</style>\n<table border=\"1\" class=\"dataframe\">\n  <thead>\n    <tr style=\"text-align: right;\">\n      <th></th>\n      <th>sub</th>\n      <th>Year</th>\n      <th>CHA_type</th>\n      <th>Codes</th>\n      <th>Def Desc</th>\n      <th>def</th>\n      <th>Denom Type</th>\n      <th>Rate Description</th>\n      <th>Rate Method Desc</th>\n      <th>Denom</th>\n      <th>Lcl</th>\n      <th>N</th>\n      <th>Rate</th>\n      <th>Ucl</th>\n      <th>Wban</th>\n      <th>Avg. Year</th>\n    </tr>\n  </thead>\n  <tbody>\n    <tr>\n      <th>0</th>\n      <td>Marijuana</td>\n      <td>2011</td>\n      <td>Emergency Department</td>\n      <td>3043*</td>\n      <td>Use, Abuse, or Dependence</td>\n      <td>3</td>\n      <td>Discharges</td>\n      <td>Crude</td>\n      <td>NaN</td>\n      <td>1,327,248</td>\n      <td>589.1</td>\n      <td>7,993</td>\n      <td>602.2</td>\n      <td>615.5</td>\n      <td>26</td>\n      <td>2011</td>\n    </tr>\n    <tr>\n      <th>1</th>\n      <td>Marijuana</td>\n      <td>2011</td>\n      <td>Emergency Department</td>\n      <td>3043*</td>\n      <td>Use, Abuse, or Dependence</td>\n      <td>3</td>\n      <td>Discharges</td>\n      <td>Crude</td>\n      <td>NaN</td>\n      <td>1,327,248</td>\n      <td>589.1</td>\n      <td>7,993</td>\n      <td>602.2</td>\n      <td>615.5</td>\n      <td>26</td>\n      <td>2011</td>\n    </tr>\n    <tr>\n      <th>2</th>\n      <td>Marijuana</td>\n      <td>2012</td>\n      <td>Emergency Department</td>\n      <td>3043*</td>\n      <td>Use, Abuse, or Dependence</td>\n      <td>3</td>\n      <td>Discharges</td>\n      <td>Crude</td>\n      <td>NaN</td>\n      <td>1,424,217</td>\n      <td>672.3</td>\n      <td>9,767</td>\n      <td>685.8</td>\n      <td>699.5</td>\n      <td>27</td>\n      <td>2012</td>\n    </tr>\n    <tr>\n      <th>3</th>\n      <td>Marijuana</td>\n      <td>2012</td>\n      <td>Emergency Department</td>\n      <td>3043*</td>\n      <td>Use, Abuse, or Dependence</td>\n      <td>3</td>\n      <td>Discharges</td>\n      <td>Crude</td>\n      <td>NaN</td>\n      <td>1,424,217</td>\n      <td>672.3</td>\n      <td>9,767</td>\n      <td>685.8</td>\n      <td>699.5</td>\n      <td>27</td>\n      <td>2012</td>\n    </tr>\n    <tr>\n      <th>4</th>\n      <td>Marijuana</td>\n      <td>2013</td>\n      <td>Emergency Department</td>\n      <td>3043*</td>\n      <td>Use, Abuse, or Dependence</td>\n      <td>3</td>\n      <td>Discharges</td>\n      <td>Crude</td>\n      <td>NaN</td>\n      <td>1,620,114</td>\n      <td>838.6</td>\n      <td>13,815</td>\n      <td>852.7</td>\n      <td>867.0</td>\n      <td>28</td>\n      <td>2013</td>\n    </tr>\n    <tr>\n      <th>5</th>\n      <td>Marijuana</td>\n      <td>2013</td>\n      <td>Emergency Department</td>\n      <td>3043*</td>\n      <td>Use, Abuse, or Dependence</td>\n      <td>3</td>\n      <td>Discharges</td>\n      <td>Crude</td>\n      <td>NaN</td>\n      <td>1,620,114</td>\n      <td>838.6</td>\n      <td>13,815</td>\n      <td>852.7</td>\n      <td>867.0</td>\n      <td>28</td>\n      <td>2013</td>\n    </tr>\n    <tr>\n      <th>6</th>\n      <td>Marijuana</td>\n      <td>2014</td>\n      <td>Emergency Department</td>\n      <td>3043*</td>\n      <td>Use, Abuse, or Dependence</td>\n      <td>3</td>\n      <td>Discharges</td>\n      <td>Crude</td>\n      <td>NaN</td>\n      <td>1,756,313</td>\n      <td>996.9</td>\n      <td>17,767</td>\n      <td>1,011.6</td>\n      <td>1,026.5</td>\n      <td>30</td>\n      <td>2014</td>\n    </tr>\n    <tr>\n      <th>7</th>\n      <td>Marijuana</td>\n      <td>2014</td>\n      <td>Emergency Department</td>\n      <td>3043*</td>\n      <td>Use, Abuse, or Dependence</td>\n      <td>3</td>\n      <td>Discharges</td>\n      <td>Crude</td>\n      <td>NaN</td>\n      <td>1,756,313</td>\n      <td>996.9</td>\n      <td>17,767</td>\n      <td>1,011.6</td>\n      <td>1,026.5</td>\n      <td>30</td>\n      <td>2014</td>\n    </tr>\n    <tr>\n      <th>8</th>\n      <td>Marijuana</td>\n      <td>2015</td>\n      <td>Emergency Department</td>\n      <td>3043*</td>\n      <td>Use, Abuse, or Dependence</td>\n      <td>3</td>\n      <td>Discharges</td>\n      <td>Crude</td>\n      <td>NaN</td>\n      <td>1,851,377</td>\n      <td>751.7</td>\n      <td>14,148</td>\n      <td>764.2</td>\n      <td>776.8</td>\n      <td>25</td>\n      <td>2015</td>\n    </tr>\n    <tr>\n      <th>9</th>\n      <td>Marijuana</td>\n      <td>2015</td>\n      <td>Emergency Department</td>\n      <td>3043*</td>\n      <td>Use, Abuse, or Dependence</td>\n      <td>3</td>\n      <td>Discharges</td>\n      <td>Crude</td>\n      <td>NaN</td>\n      <td>1,851,377</td>\n      <td>751.7</td>\n      <td>14,148</td>\n      <td>764.2</td>\n      <td>776.8</td>\n      <td>25</td>\n      <td>2015</td>\n    </tr>\n    <tr>\n      <th>10</th>\n      <td>Marijuana</td>\n      <td>2016</td>\n      <td>Emergency Department</td>\n      <td>F12*</td>\n      <td>Use, Abuse, or Dependence</td>\n      <td>3</td>\n      <td>Discharges</td>\n      <td>Crude</td>\n      <td>NaN</td>\n      <td>1,920,533</td>\n      <td>1,020.7</td>\n      <td>19,876</td>\n      <td>1,034.9</td>\n      <td>1,049.3</td>\n      <td>29</td>\n      <td>2016</td>\n    </tr>\n    <tr>\n      <th>11</th>\n      <td>Marijuana</td>\n      <td>2016</td>\n      <td>Emergency Department</td>\n      <td>F12*</td>\n      <td>Use, Abuse, or Dependence</td>\n      <td>3</td>\n      <td>Discharges</td>\n      <td>Crude</td>\n      <td>NaN</td>\n      <td>1,920,533</td>\n      <td>1,020.7</td>\n      <td>19,876</td>\n      <td>1,034.9</td>\n      <td>1,049.3</td>\n      <td>29</td>\n      <td>2016</td>\n    </tr>\n    <tr>\n      <th>12</th>\n      <td>Marijuana</td>\n      <td>2017</td>\n      <td>Emergency Department</td>\n      <td>F12*</td>\n      <td>Use, Abuse, or Dependence</td>\n      <td>3</td>\n      <td>Discharges</td>\n      <td>Crude</td>\n      <td>NaN</td>\n      <td>1,911,468</td>\n      <td>1,089.4</td>\n      <td>21,106</td>\n      <td>1,104.2</td>\n      <td>1,119.1</td>\n      <td>30</td>\n      <td>2017</td>\n    </tr>\n    <tr>\n      <th>13</th>\n      <td>Marijuana</td>\n      <td>2017</td>\n      <td>Emergency Department</td>\n      <td>F12*</td>\n      <td>Use, Abuse, or Dependence</td>\n      <td>3</td>\n      <td>Discharges</td>\n      <td>Crude</td>\n      <td>NaN</td>\n      <td>1,911,468</td>\n      <td>1,089.4</td>\n      <td>21,106</td>\n      <td>1,104.2</td>\n      <td>1,119.1</td>\n      <td>30</td>\n      <td>2017</td>\n    </tr>\n    <tr>\n      <th>14</th>\n      <td>Marijuana</td>\n      <td>2018</td>\n      <td>Emergency Department</td>\n      <td>F12*</td>\n      <td>Use, Abuse, or Dependence</td>\n      <td>3</td>\n      <td>Discharges</td>\n      <td>Crude</td>\n      <td>NaN</td>\n      <td>1,911,545</td>\n      <td>1,111.0</td>\n      <td>21,523</td>\n      <td>1,125.9</td>\n      <td>1,141.0</td>\n      <td>30</td>\n      <td>2018</td>\n    </tr>\n    <tr>\n      <th>15</th>\n      <td>Marijuana</td>\n      <td>2018</td>\n      <td>Emergency Department</td>\n      <td>F12*</td>\n      <td>Use, Abuse, or Dependence</td>\n      <td>3</td>\n      <td>Discharges</td>\n      <td>Crude</td>\n      <td>NaN</td>\n      <td>1,911,545</td>\n      <td>1,111.0</td>\n      <td>21,523</td>\n      <td>1,125.9</td>\n      <td>1,141.0</td>\n      <td>30</td>\n      <td>2018</td>\n    </tr>\n    <tr>\n      <th>16</th>\n      <td>Marijuana</td>\n      <td>2019</td>\n      <td>Emergency Department</td>\n      <td>F12*</td>\n      <td>Use, Abuse, or Dependence</td>\n      <td>3</td>\n      <td>Discharges</td>\n      <td>Crude</td>\n      <td>NaN</td>\n      <td>1,848,243</td>\n      <td>800.8</td>\n      <td>15,039</td>\n      <td>813.7</td>\n      <td>826.7</td>\n      <td>26</td>\n      <td>2019</td>\n    </tr>\n    <tr>\n      <th>17</th>\n      <td>Marijuana</td>\n      <td>2019</td>\n      <td>Emergency Department</td>\n      <td>F12*</td>\n      <td>Use, Abuse, or Dependence</td>\n      <td>3</td>\n      <td>Discharges</td>\n      <td>Crude</td>\n      <td>NaN</td>\n      <td>1,848,243</td>\n      <td>800.8</td>\n      <td>15,039</td>\n      <td>813.7</td>\n      <td>826.7</td>\n      <td>26</td>\n      <td>2019</td>\n    </tr>\n  </tbody>\n</table>\n</div>"
     },
     "metadata": {},
     "execution_count": 17
    }
   ],
   "source": [
    "# Import the necessary libraries for reading csv files\n",
    "import os\n",
    "import csv\n",
    "import pandas as pd \n",
    "\n",
    "# Set the path for the csv file\n",
    "csvpath = os.path.join('rawdata/Jackie-CO-Discharges.tsv')\n",
    "\n",
    "# Open the csv\n",
    "with open(csvpath, newline=\"\", encoding='utf8', errors='ignore') as csvfile:\n",
    "    csvreader = pd.read_csv(csvfile, delimiter=\"\\t\")\n",
    "\n",
    "    # Iterate through the data and search for the number the user inputted. Remember to skip the header of the CSV.\n",
    "    # csv_header = next(csvreader)\n",
    "    df2 = pd.DataFrame(csvreader)\n",
    "df2"
   ]
  },
  {
   "cell_type": "code",
   "execution_count": 18,
   "metadata": {},
   "outputs": [
    {
     "output_type": "execute_result",
     "data": {
      "text/plain": [
       "          sub  Year  Codes                   Def Desc\n",
       "0   Marijuana  2011  3043*  Use, Abuse, or Dependence\n",
       "1   Marijuana  2011  3043*  Use, Abuse, or Dependence\n",
       "2   Marijuana  2012  3043*  Use, Abuse, or Dependence\n",
       "3   Marijuana  2012  3043*  Use, Abuse, or Dependence\n",
       "4   Marijuana  2013  3043*  Use, Abuse, or Dependence\n",
       "5   Marijuana  2013  3043*  Use, Abuse, or Dependence\n",
       "6   Marijuana  2014  3043*  Use, Abuse, or Dependence\n",
       "7   Marijuana  2014  3043*  Use, Abuse, or Dependence\n",
       "8   Marijuana  2015  3043*  Use, Abuse, or Dependence\n",
       "9   Marijuana  2015  3043*  Use, Abuse, or Dependence\n",
       "10  Marijuana  2016   F12*  Use, Abuse, or Dependence\n",
       "11  Marijuana  2016   F12*  Use, Abuse, or Dependence\n",
       "12  Marijuana  2017   F12*  Use, Abuse, or Dependence\n",
       "13  Marijuana  2017   F12*  Use, Abuse, or Dependence\n",
       "14  Marijuana  2018   F12*  Use, Abuse, or Dependence\n",
       "15  Marijuana  2018   F12*  Use, Abuse, or Dependence\n",
       "16  Marijuana  2019   F12*  Use, Abuse, or Dependence\n",
       "17  Marijuana  2019   F12*  Use, Abuse, or Dependence"
      ],
      "text/html": "<div>\n<style scoped>\n    .dataframe tbody tr th:only-of-type {\n        vertical-align: middle;\n    }\n\n    .dataframe tbody tr th {\n        vertical-align: top;\n    }\n\n    .dataframe thead th {\n        text-align: right;\n    }\n</style>\n<table border=\"1\" class=\"dataframe\">\n  <thead>\n    <tr style=\"text-align: right;\">\n      <th></th>\n      <th>sub</th>\n      <th>Year</th>\n      <th>Codes</th>\n      <th>Def Desc</th>\n    </tr>\n  </thead>\n  <tbody>\n    <tr>\n      <th>0</th>\n      <td>Marijuana</td>\n      <td>2011</td>\n      <td>3043*</td>\n      <td>Use, Abuse, or Dependence</td>\n    </tr>\n    <tr>\n      <th>1</th>\n      <td>Marijuana</td>\n      <td>2011</td>\n      <td>3043*</td>\n      <td>Use, Abuse, or Dependence</td>\n    </tr>\n    <tr>\n      <th>2</th>\n      <td>Marijuana</td>\n      <td>2012</td>\n      <td>3043*</td>\n      <td>Use, Abuse, or Dependence</td>\n    </tr>\n    <tr>\n      <th>3</th>\n      <td>Marijuana</td>\n      <td>2012</td>\n      <td>3043*</td>\n      <td>Use, Abuse, or Dependence</td>\n    </tr>\n    <tr>\n      <th>4</th>\n      <td>Marijuana</td>\n      <td>2013</td>\n      <td>3043*</td>\n      <td>Use, Abuse, or Dependence</td>\n    </tr>\n    <tr>\n      <th>5</th>\n      <td>Marijuana</td>\n      <td>2013</td>\n      <td>3043*</td>\n      <td>Use, Abuse, or Dependence</td>\n    </tr>\n    <tr>\n      <th>6</th>\n      <td>Marijuana</td>\n      <td>2014</td>\n      <td>3043*</td>\n      <td>Use, Abuse, or Dependence</td>\n    </tr>\n    <tr>\n      <th>7</th>\n      <td>Marijuana</td>\n      <td>2014</td>\n      <td>3043*</td>\n      <td>Use, Abuse, or Dependence</td>\n    </tr>\n    <tr>\n      <th>8</th>\n      <td>Marijuana</td>\n      <td>2015</td>\n      <td>3043*</td>\n      <td>Use, Abuse, or Dependence</td>\n    </tr>\n    <tr>\n      <th>9</th>\n      <td>Marijuana</td>\n      <td>2015</td>\n      <td>3043*</td>\n      <td>Use, Abuse, or Dependence</td>\n    </tr>\n    <tr>\n      <th>10</th>\n      <td>Marijuana</td>\n      <td>2016</td>\n      <td>F12*</td>\n      <td>Use, Abuse, or Dependence</td>\n    </tr>\n    <tr>\n      <th>11</th>\n      <td>Marijuana</td>\n      <td>2016</td>\n      <td>F12*</td>\n      <td>Use, Abuse, or Dependence</td>\n    </tr>\n    <tr>\n      <th>12</th>\n      <td>Marijuana</td>\n      <td>2017</td>\n      <td>F12*</td>\n      <td>Use, Abuse, or Dependence</td>\n    </tr>\n    <tr>\n      <th>13</th>\n      <td>Marijuana</td>\n      <td>2017</td>\n      <td>F12*</td>\n      <td>Use, Abuse, or Dependence</td>\n    </tr>\n    <tr>\n      <th>14</th>\n      <td>Marijuana</td>\n      <td>2018</td>\n      <td>F12*</td>\n      <td>Use, Abuse, or Dependence</td>\n    </tr>\n    <tr>\n      <th>15</th>\n      <td>Marijuana</td>\n      <td>2018</td>\n      <td>F12*</td>\n      <td>Use, Abuse, or Dependence</td>\n    </tr>\n    <tr>\n      <th>16</th>\n      <td>Marijuana</td>\n      <td>2019</td>\n      <td>F12*</td>\n      <td>Use, Abuse, or Dependence</td>\n    </tr>\n    <tr>\n      <th>17</th>\n      <td>Marijuana</td>\n      <td>2019</td>\n      <td>F12*</td>\n      <td>Use, Abuse, or Dependence</td>\n    </tr>\n  </tbody>\n</table>\n</div>"
     },
     "metadata": {},
     "execution_count": 18
    }
   ],
   "source": [
    "df2_clean = df2[['sub', 'Year', 'Codes', 'Def Desc',]]\n",
    "df2_clean"
   ]
  },
  {
   "cell_type": "code",
   "execution_count": 19,
   "metadata": {},
   "outputs": [
    {
     "output_type": "execute_result",
     "data": {
      "text/plain": [
       "   Codes  CHA type  Rate Method Desc Rate Description   def  \\\n",
       "0   F12*  Hospital               NaN             Crude    3   \n",
       "1   F12*  Hospital               NaN             Crude    3   \n",
       "2   F12*  Hospital               NaN             Crude    3   \n",
       "3   F12*  Hospital               NaN             Crude    3   \n",
       "4   F12*  Hospital               NaN             Crude    3   \n",
       "..   ...       ...               ...               ...  ...   \n",
       "59  F12*  Hospital               NaN             Crude    3   \n",
       "60  F12*  Hospital               NaN             Crude    3   \n",
       "61  F12*  Hospital               NaN             Crude    3   \n",
       "62  F12*  Hospital               NaN             Crude    3   \n",
       "63  F12*  Hospital               NaN             Crude    3   \n",
       "\n",
       "                     Def Desc           Denom Type       County Label  \\\n",
       "0   Use, Abuse, or Dependence  Colorado Discharges       Adams County   \n",
       "1   Use, Abuse, or Dependence  Colorado Discharges     Alamosa County   \n",
       "2   Use, Abuse, or Dependence  Colorado Discharges    Arapahoe County   \n",
       "3   Use, Abuse, or Dependence  Colorado Discharges   Archuleta County   \n",
       "4   Use, Abuse, or Dependence  Colorado Discharges        Baca County   \n",
       "..                        ...                  ...                ...   \n",
       "59  Use, Abuse, or Dependence  Colorado Discharges      Summit County   \n",
       "60  Use, Abuse, or Dependence  Colorado Discharges      Teller County   \n",
       "61  Use, Abuse, or Dependence  Colorado Discharges  Washington County   \n",
       "62  Use, Abuse, or Dependence  Colorado Discharges        Weld County   \n",
       "63  Use, Abuse, or Dependence  Colorado Discharges        Yuma County   \n",
       "\n",
       "      Countynm  REGION      County   Denom  Suppression LCL  \\\n",
       "0        Adams      14       Adams  43,215             31.8   \n",
       "1      Alamosa       8     Alamosa   1,408             16.2   \n",
       "2     Arapahoe      15    Arapahoe  55,220             33.7   \n",
       "3    Archuleta       9   Archuleta     888             12.1   \n",
       "4         Baca       6        Baca     812              4.3   \n",
       "..         ...     ...         ...     ...              ...   \n",
       "59      Summit      12      Summit   1,482             26.9   \n",
       "60      Teller      17      Teller   1,894             37.4   \n",
       "61  Washington       1  Washington     453              7.7   \n",
       "62        Weld      18        Weld  26,351             30.9   \n",
       "63        Yuma       1        Yuma   1,104              6.3   \n",
       "\n",
       "    Suppression Label Suppression N  Suppression Rate  Suppression UCL  Year  \n",
       "0                33.4         1,445              33.4             35.2  2018  \n",
       "1                23.4            33              23.4             32.8  2018  \n",
       "2                35.3         1,947              35.3             36.8  2018  \n",
       "3                20.3            18              20.3             31.8  2018  \n",
       "4                 9.9             8               9.9             19.3  2018  \n",
       "..                ...           ...               ...              ...   ...  \n",
       "59               35.8            53              35.8             46.5  2018  \n",
       "60               46.5            88              46.5             56.9  2018  \n",
       "61               17.7             8              17.7             34.5  2018  \n",
       "62               33.0           869              33.0             35.2  2018  \n",
       "63               11.8            13              11.8             20.1  2018  \n",
       "\n",
       "[64 rows x 18 columns]"
      ],
      "text/html": "<div>\n<style scoped>\n    .dataframe tbody tr th:only-of-type {\n        vertical-align: middle;\n    }\n\n    .dataframe tbody tr th {\n        vertical-align: top;\n    }\n\n    .dataframe thead th {\n        text-align: right;\n    }\n</style>\n<table border=\"1\" class=\"dataframe\">\n  <thead>\n    <tr style=\"text-align: right;\">\n      <th></th>\n      <th>Codes</th>\n      <th>CHA type</th>\n      <th>Rate Method Desc</th>\n      <th>Rate Description</th>\n      <th>def</th>\n      <th>Def Desc</th>\n      <th>Denom Type</th>\n      <th>County Label</th>\n      <th>Countynm</th>\n      <th>REGION</th>\n      <th>County</th>\n      <th>Denom</th>\n      <th>Suppression LCL</th>\n      <th>Suppression Label</th>\n      <th>Suppression N</th>\n      <th>Suppression Rate</th>\n      <th>Suppression UCL</th>\n      <th>Year</th>\n    </tr>\n  </thead>\n  <tbody>\n    <tr>\n      <th>0</th>\n      <td>F12*</td>\n      <td>Hospital</td>\n      <td>NaN</td>\n      <td>Crude</td>\n      <td>3</td>\n      <td>Use, Abuse, or Dependence</td>\n      <td>Colorado Discharges</td>\n      <td>Adams County</td>\n      <td>Adams</td>\n      <td>14</td>\n      <td>Adams</td>\n      <td>43,215</td>\n      <td>31.8</td>\n      <td>33.4</td>\n      <td>1,445</td>\n      <td>33.4</td>\n      <td>35.2</td>\n      <td>2018</td>\n    </tr>\n    <tr>\n      <th>1</th>\n      <td>F12*</td>\n      <td>Hospital</td>\n      <td>NaN</td>\n      <td>Crude</td>\n      <td>3</td>\n      <td>Use, Abuse, or Dependence</td>\n      <td>Colorado Discharges</td>\n      <td>Alamosa County</td>\n      <td>Alamosa</td>\n      <td>8</td>\n      <td>Alamosa</td>\n      <td>1,408</td>\n      <td>16.2</td>\n      <td>23.4</td>\n      <td>33</td>\n      <td>23.4</td>\n      <td>32.8</td>\n      <td>2018</td>\n    </tr>\n    <tr>\n      <th>2</th>\n      <td>F12*</td>\n      <td>Hospital</td>\n      <td>NaN</td>\n      <td>Crude</td>\n      <td>3</td>\n      <td>Use, Abuse, or Dependence</td>\n      <td>Colorado Discharges</td>\n      <td>Arapahoe County</td>\n      <td>Arapahoe</td>\n      <td>15</td>\n      <td>Arapahoe</td>\n      <td>55,220</td>\n      <td>33.7</td>\n      <td>35.3</td>\n      <td>1,947</td>\n      <td>35.3</td>\n      <td>36.8</td>\n      <td>2018</td>\n    </tr>\n    <tr>\n      <th>3</th>\n      <td>F12*</td>\n      <td>Hospital</td>\n      <td>NaN</td>\n      <td>Crude</td>\n      <td>3</td>\n      <td>Use, Abuse, or Dependence</td>\n      <td>Colorado Discharges</td>\n      <td>Archuleta County</td>\n      <td>Archuleta</td>\n      <td>9</td>\n      <td>Archuleta</td>\n      <td>888</td>\n      <td>12.1</td>\n      <td>20.3</td>\n      <td>18</td>\n      <td>20.3</td>\n      <td>31.8</td>\n      <td>2018</td>\n    </tr>\n    <tr>\n      <th>4</th>\n      <td>F12*</td>\n      <td>Hospital</td>\n      <td>NaN</td>\n      <td>Crude</td>\n      <td>3</td>\n      <td>Use, Abuse, or Dependence</td>\n      <td>Colorado Discharges</td>\n      <td>Baca County</td>\n      <td>Baca</td>\n      <td>6</td>\n      <td>Baca</td>\n      <td>812</td>\n      <td>4.3</td>\n      <td>9.9</td>\n      <td>8</td>\n      <td>9.9</td>\n      <td>19.3</td>\n      <td>2018</td>\n    </tr>\n    <tr>\n      <th>...</th>\n      <td>...</td>\n      <td>...</td>\n      <td>...</td>\n      <td>...</td>\n      <td>...</td>\n      <td>...</td>\n      <td>...</td>\n      <td>...</td>\n      <td>...</td>\n      <td>...</td>\n      <td>...</td>\n      <td>...</td>\n      <td>...</td>\n      <td>...</td>\n      <td>...</td>\n      <td>...</td>\n      <td>...</td>\n      <td>...</td>\n    </tr>\n    <tr>\n      <th>59</th>\n      <td>F12*</td>\n      <td>Hospital</td>\n      <td>NaN</td>\n      <td>Crude</td>\n      <td>3</td>\n      <td>Use, Abuse, or Dependence</td>\n      <td>Colorado Discharges</td>\n      <td>Summit County</td>\n      <td>Summit</td>\n      <td>12</td>\n      <td>Summit</td>\n      <td>1,482</td>\n      <td>26.9</td>\n      <td>35.8</td>\n      <td>53</td>\n      <td>35.8</td>\n      <td>46.5</td>\n      <td>2018</td>\n    </tr>\n    <tr>\n      <th>60</th>\n      <td>F12*</td>\n      <td>Hospital</td>\n      <td>NaN</td>\n      <td>Crude</td>\n      <td>3</td>\n      <td>Use, Abuse, or Dependence</td>\n      <td>Colorado Discharges</td>\n      <td>Teller County</td>\n      <td>Teller</td>\n      <td>17</td>\n      <td>Teller</td>\n      <td>1,894</td>\n      <td>37.4</td>\n      <td>46.5</td>\n      <td>88</td>\n      <td>46.5</td>\n      <td>56.9</td>\n      <td>2018</td>\n    </tr>\n    <tr>\n      <th>61</th>\n      <td>F12*</td>\n      <td>Hospital</td>\n      <td>NaN</td>\n      <td>Crude</td>\n      <td>3</td>\n      <td>Use, Abuse, or Dependence</td>\n      <td>Colorado Discharges</td>\n      <td>Washington County</td>\n      <td>Washington</td>\n      <td>1</td>\n      <td>Washington</td>\n      <td>453</td>\n      <td>7.7</td>\n      <td>17.7</td>\n      <td>8</td>\n      <td>17.7</td>\n      <td>34.5</td>\n      <td>2018</td>\n    </tr>\n    <tr>\n      <th>62</th>\n      <td>F12*</td>\n      <td>Hospital</td>\n      <td>NaN</td>\n      <td>Crude</td>\n      <td>3</td>\n      <td>Use, Abuse, or Dependence</td>\n      <td>Colorado Discharges</td>\n      <td>Weld County</td>\n      <td>Weld</td>\n      <td>18</td>\n      <td>Weld</td>\n      <td>26,351</td>\n      <td>30.9</td>\n      <td>33.0</td>\n      <td>869</td>\n      <td>33.0</td>\n      <td>35.2</td>\n      <td>2018</td>\n    </tr>\n    <tr>\n      <th>63</th>\n      <td>F12*</td>\n      <td>Hospital</td>\n      <td>NaN</td>\n      <td>Crude</td>\n      <td>3</td>\n      <td>Use, Abuse, or Dependence</td>\n      <td>Colorado Discharges</td>\n      <td>Yuma County</td>\n      <td>Yuma</td>\n      <td>1</td>\n      <td>Yuma</td>\n      <td>1,104</td>\n      <td>6.3</td>\n      <td>11.8</td>\n      <td>13</td>\n      <td>11.8</td>\n      <td>20.1</td>\n      <td>2018</td>\n    </tr>\n  </tbody>\n</table>\n<p>64 rows × 18 columns</p>\n</div>"
     },
     "metadata": {},
     "execution_count": 19
    }
   ],
   "source": [
    "# Import the necessary libraries for reading csv files\n",
    "import os\n",
    "import csv\n",
    "import pandas as pd \n",
    "\n",
    "# Set the path for the csv file\n",
    "csvpath = os.path.join('rawdata/Jackie-CO-Geo-Hosp-Discharges-MJ-related.tsv')\n",
    "\n",
    "# Open the csv\n",
    "with open(csvpath, newline=\"\", encoding='utf8', errors='ignore') as csvfile:\n",
    "    csvreader = pd.read_csv(csvfile, delimiter=\"\\t\")\n",
    "\n",
    "    # Iterate through the data and search for the number the user inputted. Remember to skip the header of the CSV.\n",
    "    # csv_header = next(csvreader)\n",
    "    df3 = pd.DataFrame(csvreader)\n",
    "df3"
   ]
  },
  {
   "cell_type": "code",
   "execution_count": 20,
   "metadata": {},
   "outputs": [
    {
     "output_type": "execute_result",
     "data": {
      "text/plain": [
       "         County Label  Year Codes                   Def Desc\n",
       "0        Adams County  2018  F12*  Use, Abuse, or Dependence\n",
       "1      Alamosa County  2018  F12*  Use, Abuse, or Dependence\n",
       "2     Arapahoe County  2018  F12*  Use, Abuse, or Dependence\n",
       "3    Archuleta County  2018  F12*  Use, Abuse, or Dependence\n",
       "4         Baca County  2018  F12*  Use, Abuse, or Dependence\n",
       "..                ...   ...   ...                        ...\n",
       "59      Summit County  2018  F12*  Use, Abuse, or Dependence\n",
       "60      Teller County  2018  F12*  Use, Abuse, or Dependence\n",
       "61  Washington County  2018  F12*  Use, Abuse, or Dependence\n",
       "62        Weld County  2018  F12*  Use, Abuse, or Dependence\n",
       "63        Yuma County  2018  F12*  Use, Abuse, or Dependence\n",
       "\n",
       "[64 rows x 4 columns]"
      ],
      "text/html": "<div>\n<style scoped>\n    .dataframe tbody tr th:only-of-type {\n        vertical-align: middle;\n    }\n\n    .dataframe tbody tr th {\n        vertical-align: top;\n    }\n\n    .dataframe thead th {\n        text-align: right;\n    }\n</style>\n<table border=\"1\" class=\"dataframe\">\n  <thead>\n    <tr style=\"text-align: right;\">\n      <th></th>\n      <th>County Label</th>\n      <th>Year</th>\n      <th>Codes</th>\n      <th>Def Desc</th>\n    </tr>\n  </thead>\n  <tbody>\n    <tr>\n      <th>0</th>\n      <td>Adams County</td>\n      <td>2018</td>\n      <td>F12*</td>\n      <td>Use, Abuse, or Dependence</td>\n    </tr>\n    <tr>\n      <th>1</th>\n      <td>Alamosa County</td>\n      <td>2018</td>\n      <td>F12*</td>\n      <td>Use, Abuse, or Dependence</td>\n    </tr>\n    <tr>\n      <th>2</th>\n      <td>Arapahoe County</td>\n      <td>2018</td>\n      <td>F12*</td>\n      <td>Use, Abuse, or Dependence</td>\n    </tr>\n    <tr>\n      <th>3</th>\n      <td>Archuleta County</td>\n      <td>2018</td>\n      <td>F12*</td>\n      <td>Use, Abuse, or Dependence</td>\n    </tr>\n    <tr>\n      <th>4</th>\n      <td>Baca County</td>\n      <td>2018</td>\n      <td>F12*</td>\n      <td>Use, Abuse, or Dependence</td>\n    </tr>\n    <tr>\n      <th>...</th>\n      <td>...</td>\n      <td>...</td>\n      <td>...</td>\n      <td>...</td>\n    </tr>\n    <tr>\n      <th>59</th>\n      <td>Summit County</td>\n      <td>2018</td>\n      <td>F12*</td>\n      <td>Use, Abuse, or Dependence</td>\n    </tr>\n    <tr>\n      <th>60</th>\n      <td>Teller County</td>\n      <td>2018</td>\n      <td>F12*</td>\n      <td>Use, Abuse, or Dependence</td>\n    </tr>\n    <tr>\n      <th>61</th>\n      <td>Washington County</td>\n      <td>2018</td>\n      <td>F12*</td>\n      <td>Use, Abuse, or Dependence</td>\n    </tr>\n    <tr>\n      <th>62</th>\n      <td>Weld County</td>\n      <td>2018</td>\n      <td>F12*</td>\n      <td>Use, Abuse, or Dependence</td>\n    </tr>\n    <tr>\n      <th>63</th>\n      <td>Yuma County</td>\n      <td>2018</td>\n      <td>F12*</td>\n      <td>Use, Abuse, or Dependence</td>\n    </tr>\n  </tbody>\n</table>\n<p>64 rows × 4 columns</p>\n</div>"
     },
     "metadata": {},
     "execution_count": 20
    }
   ],
   "source": [
    "df3_clean = df3[['County Label', 'Year', 'Codes', 'Def Desc',]]\n",
    "df3_clean"
   ]
  },
  {
   "cell_type": "code",
   "execution_count": null,
   "metadata": {},
   "outputs": [],
   "source": []
  }
 ]
}