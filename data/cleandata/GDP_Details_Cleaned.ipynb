{
 "metadata": {
  "language_info": {
   "codemirror_mode": {
    "name": "ipython",
    "version": 3
   },
   "file_extension": ".py",
   "mimetype": "text/x-python",
   "name": "python",
   "nbconvert_exporter": "python",
   "pygments_lexer": "ipython3",
   "version": "3.8.3-final"
  },
  "orig_nbformat": 2,
  "kernelspec": {
   "name": "python3",
   "display_name": "Python 3"
  }
 },
 "nbformat": 4,
 "nbformat_minor": 2,
 "cells": [
  {
   "cell_type": "code",
   "execution_count": 1,
   "metadata": {},
   "outputs": [],
   "source": [
    "import numpy as np\n",
    "import pandas as pd\n",
    "from pathlib import Path\n",
    "import csv"
   ]
  },
  {
   "cell_type": "code",
   "execution_count": 2,
   "metadata": {},
   "outputs": [],
   "source": [
    "path = Path(\"../rawdata/Howard-USA-GDP-Details.csv\")\n",
    "df = pd.read_csv(path, skiprows=4)"
   ]
  },
  {
   "cell_type": "code",
   "execution_count": 3,
   "metadata": {},
   "outputs": [],
   "source": [
    "#drop nulls\n",
    "df = df.dropna()"
   ]
  },
  {
   "cell_type": "code",
   "execution_count": 4,
   "metadata": {},
   "outputs": [],
   "source": [
    "# drop geofips\n",
    "df2 = df.drop(columns=[\"GeoFips\"])"
   ]
  },
  {
   "cell_type": "code",
   "execution_count": 5,
   "metadata": {},
   "outputs": [],
   "source": [
    "#far west data frame\n",
    "fw_df = df2[(df2.GeoName == 'Far West')]\n",
    "#rocky mountain\n",
    "rm_df = df2[(df2.GeoName == 'Rocky Mountain')]\n",
    "#Southwest df\n",
    "sw_df = df2[(df2.GeoName == 'Southwest')]\n",
    "#Southeast df\n",
    "se_df = df2[(df2.GeoName == 'Southeast')]\n",
    "#plains df\n",
    "pl_df=df2[(df2.GeoName =='Plains')]\n",
    "#Great Lakes df\n",
    "gl_df=df2[(df2.GeoName=='Great Lakes')]\n",
    "#Mideast df\n",
    "me_df = df2[(df2.GeoName=='Mideast')]\n",
    "#New england df\n",
    "ne_df = df2[(df2.GeoName=='New England')]\n",
    "#US df\n",
    "us_df = df2[(df2.GeoName=='United States *')]"
   ]
  },
  {
   "cell_type": "code",
   "execution_count": null,
   "metadata": {},
   "outputs": [],
   "source": []
  }
 ]
}