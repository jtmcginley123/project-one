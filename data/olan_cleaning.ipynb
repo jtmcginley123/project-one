{
 "metadata": {
  "language_info": {
   "codemirror_mode": {
    "name": "ipython",
    "version": 3
   },
   "file_extension": ".py",
   "mimetype": "text/x-python",
   "name": "python",
   "nbconvert_exporter": "python",
   "pygments_lexer": "ipython3",
   "version": "3.8.3-final"
  },
  "orig_nbformat": 2,
  "kernelspec": {
   "name": "python3",
   "display_name": "Python 3"
  }
 },
 "nbformat": 4,
 "nbformat_minor": 2,
 "cells": [
  {
   "cell_type": "code",
   "execution_count": 38,
   "metadata": {},
   "outputs": [],
   "source": [
    "import pandas as pd"
   ]
  },
  {
   "cell_type": "code",
   "execution_count": 198,
   "metadata": {},
   "outputs": [],
   "source": [
    "# Open original file and save to file to be cleaned\n",
    "\n",
    "#df = pd.read_csv(\"rawdata/Olan-CO-counties-GDP-Details.csv\", skiprows=4)\n",
    "#df.to_csv(\"cleandata/COGDPbyCounties-detailed.csv\", index=False)\n",
    "\n",
    "#-------------------------------------------------------------------------------------------------------------------\n",
    "# Start cleaning file\n",
    "DetailedCountiesGDP = pd.read_csv(\"cleandata/COGDPbyCounties-detailed.csv\")\n",
    "\n",
    "#DetailedCountiesGDP.drop(df.tail(10).index,inplace=True)\n",
    "\n",
    "#DetailedCountiesGDP.drop(columns=['GeoFips'], inplace=True)\n",
    "#DetailedCountiesGDP.to_csv(\"cleandata/COGDPbyCounties-detailed.csv\", index=False)\n",
    "#-------------------------------------------------------------------------------------------------------------------\n",
    "#DetailedCountiesGDP.drop(columns=['LineCode'], inplace=True)\n",
    "\n",
    "#DetailedCountiesGDP.to_csv(\"cleandata/COGDPbyCounties-detailed.csv\", index=False)\n",
    "#-------------------------------------------------------------------------------------------------------------------\n",
    "\n",
    "#Drop null values\n",
    "#cols = [\"GeoName\", \"Description\", \"2010\", \"2011\", \"2012\", \"2013\", \"2014\", \"2015\", \"2016\", \"2017\", \"2018\"]\n",
    "\n",
    "#DetailedCountiesGDP = DetailedCountiesGDP[cols].replace({\"(D)\":None})\n",
    "#DetailedCountiesGDP = DetailedCountiesGDP[cols].replace({\"(NA)\":None})\n",
    "#DetailedCountiesGDP = DetailedCountiesGDP.dropna()\n",
    "\n",
    "#Change column types\n",
    "#yearcols = [\"2010\", \"2011\", \"2012\", \"2013\", \"2014\", \"2015\", \"2016\", \"2017\", \"2018\"]\n",
    "#DetailedCountiesGDP[yearcols] = DetailedCountiesGDP[yearcols].astype('int')\n",
    "\n",
    "#DetailedCountiesGDP.to_csv(\"cleandata/COGDPbyCounties-detailed.csv\", index=False)\n",
    "#-------------------------------------------------------------------------------------------------------------------"
   ]
  },
  {
   "cell_type": "code",
   "execution_count": 197,
   "metadata": {},
   "outputs": [
    {
     "output_type": "execute_result",
     "data": {
      "text/plain": [
       "GeoName        object\n",
       "Description    object\n",
       "2010            int64\n",
       "2011            int64\n",
       "2012            int64\n",
       "2013            int64\n",
       "2014            int64\n",
       "2015            int64\n",
       "2016            int64\n",
       "2017            int64\n",
       "2018            int64\n",
       "dtype: object"
      ]
     },
     "metadata": {},
     "execution_count": 197
    }
   ],
   "source": [
    "DetailedCountiesGDP.dtypes"
   ]
  },
  {
   "cell_type": "code",
   "execution_count": null,
   "metadata": {},
   "outputs": [],
   "source": []
  }
 ]
}