{
 "metadata": {
  "language_info": {
   "codemirror_mode": {
    "name": "ipython",
    "version": 3
   },
   "file_extension": ".py",
   "mimetype": "text/x-python",
   "name": "python",
   "nbconvert_exporter": "python",
   "pygments_lexer": "ipython3",
   "version": "3.7.7-final"
  },
  "orig_nbformat": 2,
  "kernelspec": {
   "name": "Python 3.7.7 64-bit ('pyvizenv3': conda)",
   "display_name": "Python 3.7.7 64-bit ('pyvizenv3': conda)",
   "metadata": {
    "interpreter": {
     "hash": "2548420f6680aedd74e3e2beb38ae873a37a41cd3aad112f0ad46785fbe9b2a9"
    }
   }
  }
 },
 "nbformat": 4,
 "nbformat_minor": 2,
 "cells": [
  {
   "cell_type": "code",
   "execution_count": null,
   "metadata": {},
   "outputs": [],
   "source": [
    "import pandas as pd\n",
    "#import plotly.express as px"
   ]
  },
  {
   "cell_type": "code",
   "execution_count": null,
   "metadata": {},
   "outputs": [],
   "source": [
    "# Colorado GDP (Detailed)\n",
    "\n",
    "#df = pd.read_csv(\"rawdata/Olan-CO-counties-GDP-Details.csv\", skiprows=4)\n",
    "#df.to_csv(\"cleandata/COGDPbyCounties-detailed.csv\", index=False)\n",
    "\n",
    "#-------------------------------------------------------------------------------------------------------------------\n",
    "# Start cleaning file\n",
    "DetailedCountiesGDP = pd.read_csv(\"cleandata/COGDPbyCounties-detailed.csv\")\n",
    "\n",
    "#DetailedCountiesGDP.drop(df.tail(10).index,inplace=True)\n",
    "\n",
    "#DetailedCountiesGDP.drop(columns=['GeoFips'], inplace=True)\n",
    "#DetailedCountiesGDP.to_csv(\"cleandata/COGDPbyCounties-detailed.csv\", index=False)\n",
    "#-------------------------------------------------------------------------------------------------------------------\n",
    "#DetailedCountiesGDP.drop(columns=['LineCode'], inplace=True)\n",
    "\n",
    "#DetailedCountiesGDP.to_csv(\"cleandata/COGDPbyCounties-detailed.csv\", index=False)\n",
    "#-------------------------------------------------------------------------------------------------------------------\n",
    "\n",
    "#Drop null values\n",
    "#cols = [\"GeoName\", \"Description\", \"2010\", \"2011\", \"2012\", \"2013\", \"2014\", \"2015\", \"2016\", \"2017\", \"2018\"]\n",
    "\n",
    "#DetailedCountiesGDP = DetailedCountiesGDP[cols].replace({\"(D)\":None})\n",
    "#DetailedCountiesGDP = DetailedCountiesGDP[cols].replace({\"(NA)\":None})\n",
    "#DetailedCountiesGDP = DetailedCountiesGDP.dropna()\n",
    "\n",
    "#Change column types\n",
    "#yearcols = [\"2010\", \"2011\", \"2012\", \"2013\", \"2014\", \"2015\", \"2016\", \"2017\", \"2018\"]\n",
    "#DetailedCountiesGDP[yearcols] = DetailedCountiesGDP[yearcols].astype('int')\n",
    "\n",
    "#DetailedCountiesGDP.to_csv(\"cleandata/COGDPbyCounties-detailed.csv\", index=False)\n",
    "#-------------------------------------------------------------------------------------------------------------------\n",
    "#DetailedCountiesGDP = DetailedCountiesGDP.drop(DetailedCountiesGDP.index[1])\n",
    "\n",
    "#DetailedCountiesGDP.head()\n",
    "\n",
    "#ColoradoDF = DetailedCountiesGDP[(DetailedCountiesGDP.GeoName=='Colorado')]\n",
    "\n",
    "#ColoradoDF.to_csv(\"cleandata/COGDPDetailed.csv\", index=False)\n",
    "\n",
    "#ColoradoDF.head()\n"
   ]
  },
  {
   "cell_type": "code",
   "execution_count": null,
   "metadata": {},
   "outputs": [],
   "source": [
    "#df = pd.read_csv(\"rawdata/Olan-CO-counties-GDP-Totals.csv\", skiprows=4)\n",
    "#df.to_csv(\"cleandata/COGDPbyCounties-Totals.csv\", index=False)\n",
    "#-------------------------------------------------------------------------------------------------------------------\n",
    "#TotalCountiesGDP = pd.read_csv(\"cleandata/COGDPbyCounties-Totals.csv\")\n",
    "#TotalCountiesGDP.drop(df.tail(6).index,inplace=True)\n",
    "#TotalCountiesGDP.drop(columns=['GeoFips'], inplace=True)\n",
    "#TotalCountiesGDP.to_csv(\"cleandata/#COGDPbyCounties-Totals.csv\", index=False)\n",
    "#-------------------------------------------------------------------------------------------------------------------\n",
    "#No null values, change columns type\n",
    "#yearcols = [\"2010\", \"2011\", \"2012\", \"2013\", \"2014\", \"2015\", \"2016\", \"2017\", \"2018\"]\n",
    "#TotalCountiesGDP[yearcols] = TotalCountiesGDP[yearcols].astype('int')\n",
    "\n",
    "#TotalCountiesGDP = TotalCountiesGDP.drop([0])\n",
    "#TotalCountiesGDP.to_csv(\"cleandata/COGDPbyCounties-Totals.csv\", index=False)\n",
    "\n",
    "\n",
    "\n",
    "#TotalCountiesGDP.head()\n"
   ]
  },
  {
   "cell_type": "code",
   "execution_count": 63,
   "metadata": {},
   "outputs": [],
   "source": [
    "#df = pd.read_csv(\"rawdata/Olan-DPS-Colorado-Marijuana-Arrests.csv\")\n",
    "#df.to_csv(\"cleandata/COMarijuanaArrestsbyCounties.csv\", index=False)\n",
    "#-------------------------------------------------------------------------------------------------------------------\n",
    "#MarijuanaArrests = pd.read_csv(\"cleandata/COMarijuanaArrestsbyCounties.csv\",skiprows=1,header=None)\n",
    "#MarijuanaArrests.columns = ['Arrest Year', 'County', 'Agency', 'Age Group', 'Gender', 'Race Code', 'NCIC Code', 'Number of Arrests']\n",
    "#MarijuanaArrests.drop(columns=['Agency'], inplace=True)\n",
    "#MarijuanaArrests.to_csv(\"cleandata/COMarijuanaArrestsbyCounties.csv\", index=False)\n",
    "#-------------------------------------------------------------------------------------------------------------------\n",
    "#MarijuanaArrests.groupby(['Arrest Year', 'County'])\n",
    "#df_tr = MarijuanaArrests.transpose()\n",
    "#df_tr.head(10)\n",
    "\n",
    "#MarijuanaArrests = pd.read_csv(\"cleandata/COMarijuanaArrests.csv\")\n",
    "\n",
    "#MarijuanaArrests.drop(columns=['Age Group', 'Gender', 'Race Code'], inplace=True)\n",
    "\n",
    "\n",
    "#MarijuanaArrests = MarijuanaArrests[['County', 'Arrest Year', 'Age Group', 'Gender', 'Race Code', 'NCIC Code', 'Number of Arrests']]\n",
    "#-------------------------------------------------------------------------------------------------------------------\n",
    "##DROP SOME MORE COLUMNS & RENAME COLUMNS\n",
    "#MarijuanaArrests =  MarijuanaArrests.drop(columns=['Age Group', 'Gender', 'Race Code'])\n",
    "#MarijuanaArrests.columns = ['Year', 'County', 'Offense Type', 'Number of Arrests']\n",
    "#-------------------------------------------------------------------------------------------------------------------\n",
    "#MarijuanaArrests['County'] = MarijuanaArrests['County'].replace(['#NULL'],\"N/A\")\n",
    "#MarijuanaArrests['County'] = MarijuanaArrests['County'].replace([None],\"Location not Available\")\n",
    "#MarijuanaArrests['County'] = MarijuanaArrests['County'].replace([\"Acet (All Crimes Enforcement Team)\"],\"Location not Available\")\n",
    "#-------------------------------------------------------------------------------------------------------------------\n",
    "\n",
    "#MarijuanaArrests.to_csv(\"cleandata/COMarijuanaArrests.csv\", index=False)\n",
    "\n",
    "#MarijuanaArrests.head()"
   ]
  },
  {
   "cell_type": "code",
   "execution_count": 65,
   "metadata": {},
   "outputs": [
    {
     "output_type": "execute_result",
     "data": {
      "text/plain": [
       "Year                  6790\n",
       "County                6790\n",
       "Offense Type          6790\n",
       "Number of Offenses    6790\n",
       "dtype: int64"
      ]
     },
     "metadata": {},
     "execution_count": 65
    }
   ],
   "source": [
    "#df = pd.read_csv(\"rawdata/Olan-DPS-Marijuana-Offenses.csv\")\n",
    "#df.to_csv(\"cleandata/COMarijuanaOffenses.csv\", index=False)\n",
    "#-------------------------------------------------------------------------------------------------------------------\n",
    "## DELETE UNWANTED COLUMNS\n",
    "MJOffenses = pd.read_csv('cleandata/COMarijuanaOffenses.csv')\n",
    "#MJOffenses = MJOffenses.drop(columns=['AgeGroup', 'Agency', 'Gender', 'RaceCode', 'Location', 'LocationGroup'])\n",
    "#-------------------------------------------------------------------------------------------------------------------\n",
    "## FILLED IN BLANK COUNTIES AND RENAMED COLUMNS\n",
    "#MJOffenses['County'] = MJOffenses['County'].replace([None],\"N/A\")\n",
    "#MJOffenses.columns = ['Year', 'County', 'Offense Type', 'Number of Offenses']\n",
    "#-------------------------------------------------------------------------------------------------------------------\n",
    "\n",
    "MJOffenses.isnull().count()\n",
    "\n",
    "#MJOffenses.to_csv(\"cleandata/COMarijuanaOffenses.csv\", index=False)\n",
    "\n",
    "#MJOffenses.head(20)"
   ]
  },
  {
   "cell_type": "code",
   "execution_count": null,
   "metadata": {},
   "outputs": [],
   "source": []
  }
 ]
}