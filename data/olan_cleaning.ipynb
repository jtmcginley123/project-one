{
 "metadata": {
  "language_info": {
   "codemirror_mode": {
    "name": "ipython",
    "version": 3
   },
   "file_extension": ".py",
   "mimetype": "text/x-python",
   "name": "python",
   "nbconvert_exporter": "python",
   "pygments_lexer": "ipython3",
   "version": "3.8.3-final"
  },
  "orig_nbformat": 2,
  "kernelspec": {
   "name": "python3",
   "display_name": "Python 3"
  }
 },
 "nbformat": 4,
 "nbformat_minor": 2,
 "cells": [
  {
   "cell_type": "code",
   "execution_count": 38,
   "metadata": {},
   "outputs": [],
   "source": [
    "import pandas as pd"
   ]
  },
  {
   "cell_type": "code",
   "execution_count": 198,
   "metadata": {},
   "outputs": [],
   "source": [
    "# Colorado GDP (Detailed)\n",
    "\n",
    "#df = pd.read_csv(\"rawdata/Olan-CO-counties-GDP-Details.csv\", skiprows=4)\n",
    "#df.to_csv(\"cleandata/COGDPbyCounties-detailed.csv\", index=False)\n",
    "\n",
    "#-------------------------------------------------------------------------------------------------------------------\n",
    "# Start cleaning file\n",
    "#DetailedCountiesGDP = pd.read_csv(\"cleandata/COGDPbyCounties-detailed.csv\")\n",
    "\n",
    "#DetailedCountiesGDP.drop(df.tail(10).index,inplace=True)\n",
    "\n",
    "#DetailedCountiesGDP.drop(columns=['GeoFips'], inplace=True)\n",
    "#DetailedCountiesGDP.to_csv(\"cleandata/COGDPbyCounties-detailed.csv\", index=False)\n",
    "#-------------------------------------------------------------------------------------------------------------------\n",
    "#DetailedCountiesGDP.drop(columns=['LineCode'], inplace=True)\n",
    "\n",
    "#DetailedCountiesGDP.to_csv(\"cleandata/COGDPbyCounties-detailed.csv\", index=False)\n",
    "#-------------------------------------------------------------------------------------------------------------------\n",
    "\n",
    "#Drop null values\n",
    "#cols = [\"GeoName\", \"Description\", \"2010\", \"2011\", \"2012\", \"2013\", \"2014\", \"2015\", \"2016\", \"2017\", \"2018\"]\n",
    "\n",
    "#DetailedCountiesGDP = DetailedCountiesGDP[cols].replace({\"(D)\":None})\n",
    "#DetailedCountiesGDP = DetailedCountiesGDP[cols].replace({\"(NA)\":None})\n",
    "#DetailedCountiesGDP = DetailedCountiesGDP.dropna()\n",
    "\n",
    "#Change column types\n",
    "#yearcols = [\"2010\", \"2011\", \"2012\", \"2013\", \"2014\", \"2015\", \"2016\", \"2017\", \"2018\"]\n",
    "#DetailedCountiesGDP[yearcols] = DetailedCountiesGDP[yearcols].astype('int')\n",
    "\n",
    "#DetailedCountiesGDP.to_csv(\"cleandata/COGDPbyCounties-detailed.csv\", index=False)\n",
    "#-------------------------------------------------------------------------------------------------------------------\n",
    "\n",
    "#Group data\n",
    "#Transpose"
   ]
  },
  {
   "cell_type": "code",
   "execution_count": 223,
   "metadata": {},
   "outputs": [],
   "source": [
    "#df = pd.read_csv(\"rawdata/Olan-CO-counties-GDP-Totals.csv\", skiprows=4)\n",
    "#df.to_csv(\"cleandata/COGDPbyCounties-Totals.csv\", index=False)\n",
    "#-------------------------------------------------------------------------------------------------------------------\n",
    "#TotalCountiesGDP = pd.read_csv(\"cleandata/COGDPbyCounties-Totals.csv\")\n",
    "#TotalCountiesGDP.drop(df.tail(6).index,inplace=True)\n",
    "#TotalCountiesGDP.drop(columns=['GeoFips'], inplace=True)\n",
    "#TotalCountiesGDP.to_csv(\"cleandata/#COGDPbyCounties-Totals.csv\", index=False)\n",
    "#-------------------------------------------------------------------------------------------------------------------\n",
    "#No null values, change columns type\n",
    "#yearcols = [\"2010\", \"2011\", \"2012\", \"2013\", \"2014\", \"2015\", \"2016\", \"2017\", \"2018\"]\n",
    "#TotalCountiesGDP[yearcols] = TotalCountiesGDP[yearcols].astype('int')\n",
    "#TotalCountiesGDP.to_csv(\"cleandata/COGDPbyCounties-Totals.csv\", index=False)\n",
    "\n"
   ]
  },
  {
   "cell_type": "code",
   "execution_count": 255,
   "metadata": {},
   "outputs": [
    {
     "output_type": "execute_result",
     "data": {
      "text/plain": [
       "    Arrest Year County    Age Group  Gender         Race Code     NCIC Code  \\\n",
       "0          2012  Adams  21 or older  Female         Hispianic  MJPossession   \n",
       "1          2012  Adams  21 or older    Male  African American  MJPossession   \n",
       "2          2012  Adams  21 or older    Male             Asian  MJPossession   \n",
       "3          2012  Adams  21 or older    Male           Unknown  MJPossession   \n",
       "4          2012  Adams  21 or older    Male             White  MJPossession   \n",
       "5          2012  Adams     Under 18    Male  African American  MJPossession   \n",
       "6          2012  Adams     Under 18    Male           Unknown  MJPossession   \n",
       "7          2012  Adams  21 or older    Male         Hispianic       MJSales   \n",
       "8          2012  Adams     18 to 20  Female             White  MJPossession   \n",
       "9          2012  Adams  21 or older    Male         Hispianic  MJPossession   \n",
       "10         2012  Adams  21 or older    Male           Unknown  MJPossession   \n",
       "11         2012  Adams     18 to 20    Male  African American  MJPossession   \n",
       "12         2012  Adams     18 to 20    Male         Hispianic  MJPossession   \n",
       "13         2012  Adams     18 to 20    Male             White  MJPossession   \n",
       "14         2012  Adams     Under 18  Female         Hispianic  MJPossession   \n",
       "15         2012  Adams     Under 18    Male             Asian  MJPossession   \n",
       "16         2012  Adams  21 or older    Male             White  MJProduction   \n",
       "17         2012  Adams     18 to 20  Female         Hispianic  MJPossession   \n",
       "18         2012  Adams     18 to 20    Male  African American  MJPossession   \n",
       "19         2012  Adams     18 to 20    Male         Hispianic  MJPossession   \n",
       "\n",
       "    Number of Arrests  \n",
       "0                   6  \n",
       "1                   5  \n",
       "2                   1  \n",
       "3                   1  \n",
       "4                  33  \n",
       "5                   4  \n",
       "6                   2  \n",
       "7                   1  \n",
       "8                   3  \n",
       "9                  17  \n",
       "10                  2  \n",
       "11                  3  \n",
       "12                  8  \n",
       "13                 30  \n",
       "14                  7  \n",
       "15                  1  \n",
       "16                  2  \n",
       "17                  5  \n",
       "18                  3  \n",
       "19                 46  "
      ],
      "text/html": "<div>\n<style scoped>\n    .dataframe tbody tr th:only-of-type {\n        vertical-align: middle;\n    }\n\n    .dataframe tbody tr th {\n        vertical-align: top;\n    }\n\n    .dataframe thead th {\n        text-align: right;\n    }\n</style>\n<table border=\"1\" class=\"dataframe\">\n  <thead>\n    <tr style=\"text-align: right;\">\n      <th></th>\n      <th>Arrest Year</th>\n      <th>County</th>\n      <th>Age Group</th>\n      <th>Gender</th>\n      <th>Race Code</th>\n      <th>NCIC Code</th>\n      <th>Number of Arrests</th>\n    </tr>\n  </thead>\n  <tbody>\n    <tr>\n      <th>0</th>\n      <td>2012</td>\n      <td>Adams</td>\n      <td>21 or older</td>\n      <td>Female</td>\n      <td>Hispianic</td>\n      <td>MJPossession</td>\n      <td>6</td>\n    </tr>\n    <tr>\n      <th>1</th>\n      <td>2012</td>\n      <td>Adams</td>\n      <td>21 or older</td>\n      <td>Male</td>\n      <td>African American</td>\n      <td>MJPossession</td>\n      <td>5</td>\n    </tr>\n    <tr>\n      <th>2</th>\n      <td>2012</td>\n      <td>Adams</td>\n      <td>21 or older</td>\n      <td>Male</td>\n      <td>Asian</td>\n      <td>MJPossession</td>\n      <td>1</td>\n    </tr>\n    <tr>\n      <th>3</th>\n      <td>2012</td>\n      <td>Adams</td>\n      <td>21 or older</td>\n      <td>Male</td>\n      <td>Unknown</td>\n      <td>MJPossession</td>\n      <td>1</td>\n    </tr>\n    <tr>\n      <th>4</th>\n      <td>2012</td>\n      <td>Adams</td>\n      <td>21 or older</td>\n      <td>Male</td>\n      <td>White</td>\n      <td>MJPossession</td>\n      <td>33</td>\n    </tr>\n    <tr>\n      <th>5</th>\n      <td>2012</td>\n      <td>Adams</td>\n      <td>Under 18</td>\n      <td>Male</td>\n      <td>African American</td>\n      <td>MJPossession</td>\n      <td>4</td>\n    </tr>\n    <tr>\n      <th>6</th>\n      <td>2012</td>\n      <td>Adams</td>\n      <td>Under 18</td>\n      <td>Male</td>\n      <td>Unknown</td>\n      <td>MJPossession</td>\n      <td>2</td>\n    </tr>\n    <tr>\n      <th>7</th>\n      <td>2012</td>\n      <td>Adams</td>\n      <td>21 or older</td>\n      <td>Male</td>\n      <td>Hispianic</td>\n      <td>MJSales</td>\n      <td>1</td>\n    </tr>\n    <tr>\n      <th>8</th>\n      <td>2012</td>\n      <td>Adams</td>\n      <td>18 to 20</td>\n      <td>Female</td>\n      <td>White</td>\n      <td>MJPossession</td>\n      <td>3</td>\n    </tr>\n    <tr>\n      <th>9</th>\n      <td>2012</td>\n      <td>Adams</td>\n      <td>21 or older</td>\n      <td>Male</td>\n      <td>Hispianic</td>\n      <td>MJPossession</td>\n      <td>17</td>\n    </tr>\n    <tr>\n      <th>10</th>\n      <td>2012</td>\n      <td>Adams</td>\n      <td>21 or older</td>\n      <td>Male</td>\n      <td>Unknown</td>\n      <td>MJPossession</td>\n      <td>2</td>\n    </tr>\n    <tr>\n      <th>11</th>\n      <td>2012</td>\n      <td>Adams</td>\n      <td>18 to 20</td>\n      <td>Male</td>\n      <td>African American</td>\n      <td>MJPossession</td>\n      <td>3</td>\n    </tr>\n    <tr>\n      <th>12</th>\n      <td>2012</td>\n      <td>Adams</td>\n      <td>18 to 20</td>\n      <td>Male</td>\n      <td>Hispianic</td>\n      <td>MJPossession</td>\n      <td>8</td>\n    </tr>\n    <tr>\n      <th>13</th>\n      <td>2012</td>\n      <td>Adams</td>\n      <td>18 to 20</td>\n      <td>Male</td>\n      <td>White</td>\n      <td>MJPossession</td>\n      <td>30</td>\n    </tr>\n    <tr>\n      <th>14</th>\n      <td>2012</td>\n      <td>Adams</td>\n      <td>Under 18</td>\n      <td>Female</td>\n      <td>Hispianic</td>\n      <td>MJPossession</td>\n      <td>7</td>\n    </tr>\n    <tr>\n      <th>15</th>\n      <td>2012</td>\n      <td>Adams</td>\n      <td>Under 18</td>\n      <td>Male</td>\n      <td>Asian</td>\n      <td>MJPossession</td>\n      <td>1</td>\n    </tr>\n    <tr>\n      <th>16</th>\n      <td>2012</td>\n      <td>Adams</td>\n      <td>21 or older</td>\n      <td>Male</td>\n      <td>White</td>\n      <td>MJProduction</td>\n      <td>2</td>\n    </tr>\n    <tr>\n      <th>17</th>\n      <td>2012</td>\n      <td>Adams</td>\n      <td>18 to 20</td>\n      <td>Female</td>\n      <td>Hispianic</td>\n      <td>MJPossession</td>\n      <td>5</td>\n    </tr>\n    <tr>\n      <th>18</th>\n      <td>2012</td>\n      <td>Adams</td>\n      <td>18 to 20</td>\n      <td>Male</td>\n      <td>African American</td>\n      <td>MJPossession</td>\n      <td>3</td>\n    </tr>\n    <tr>\n      <th>19</th>\n      <td>2012</td>\n      <td>Adams</td>\n      <td>18 to 20</td>\n      <td>Male</td>\n      <td>Hispianic</td>\n      <td>MJPossession</td>\n      <td>46</td>\n    </tr>\n  </tbody>\n</table>\n</div>"
     },
     "metadata": {},
     "execution_count": 255
    }
   ],
   "source": [
    "#df = pd.read_csv(\"rawdata/Olan-DPS-Colorado-Marijuana-Arrests.csv\")\n",
    "#df.to_csv(\"cleandata/COMarijuanaArrestsbyCounties.csv\", index=False)\n",
    "#-------------------------------------------------------------------------------------------------------------------\n",
    "#MarijuanaArrests = pd.read_csv(\"cleandata/COMarijuanaArrestsbyCounties.csv\",skiprows=1,header=None)\n",
    "#MarijuanaArrests.columns = ['Arrest Year', 'County', 'Agency', 'Age Group', 'Gender', 'Race Code', 'NCIC Code', 'Number of Arrests']\n",
    "#MarijuanaArrests.drop(columns=['Agency'], inplace=True)\n",
    "#MarijuanaArrests.to_csv(\"cleandata/COMarijuanaArrestsbyCounties.csv\", index=False)\n",
    "#-------------------------------------------------------------------------------------------------------------------\n",
    "#MarijuanaArrests.groupby(['Arrest Year', 'County'])\n",
    "#df_tr = MarijuanaArrests.transpose()\n",
    "#df_tr.head(10)\n",
    "\n",
    "MarijuanaArrests.head(20)"
   ]
  },
  {
   "cell_type": "code",
   "execution_count": null,
   "metadata": {},
   "outputs": [],
   "source": []
  },
  {
   "cell_type": "code",
   "execution_count": null,
   "metadata": {},
   "outputs": [],
   "source": []
  }
 ]
}