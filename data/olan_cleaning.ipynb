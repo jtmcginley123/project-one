{
 "metadata": {
  "language_info": {
   "codemirror_mode": {
    "name": "ipython",
    "version": 3
   },
   "file_extension": ".py",
   "mimetype": "text/x-python",
   "name": "python",
   "nbconvert_exporter": "python",
   "pygments_lexer": "ipython3",
   "version": "3.8.5-final"
  },
  "orig_nbformat": 2,
  "kernelspec": {
   "name": "Python 3.8.5 64-bit",
   "display_name": "Python 3.8.5 64-bit",
   "metadata": {
    "interpreter": {
     "hash": "aee8b7b246df8f9039afb4144a1f6fd8d2ca17a180786b69acc140d282b71a49"
    }
   }
  }
 },
 "nbformat": 4,
 "nbformat_minor": 2,
 "cells": [
  {
   "cell_type": "code",
   "execution_count": 1,
   "metadata": {},
   "outputs": [
    {
     "output_type": "error",
     "ename": "ModuleNotFoundError",
     "evalue": "No module named 'pandas'",
     "traceback": [
      "\u001b[0;31m---------------------------------------------------------------------------\u001b[0m",
      "\u001b[0;31mModuleNotFoundError\u001b[0m                       Traceback (most recent call last)",
      "\u001b[0;32m<ipython-input-1-1f26fcb3a8b0>\u001b[0m in \u001b[0;36m<module>\u001b[0;34m\u001b[0m\n\u001b[0;32m----> 1\u001b[0;31m \u001b[0;32mimport\u001b[0m \u001b[0mpandas\u001b[0m \u001b[0;32mas\u001b[0m \u001b[0mpd\u001b[0m\u001b[0;34m\u001b[0m\u001b[0;34m\u001b[0m\u001b[0m\n\u001b[0m\u001b[1;32m      2\u001b[0m \u001b[0;32mimport\u001b[0m \u001b[0mos\u001b[0m\u001b[0;34m\u001b[0m\u001b[0;34m\u001b[0m\u001b[0m\n\u001b[1;32m      3\u001b[0m \u001b[0;31m#import plotly.express as px\u001b[0m\u001b[0;34m\u001b[0m\u001b[0;34m\u001b[0m\u001b[0;34m\u001b[0m\u001b[0m\n",
      "\u001b[0;31mModuleNotFoundError\u001b[0m: No module named 'pandas'"
     ]
    }
   ],
   "source": [
    "import pandas as pd\n",
    "import os\n",
    "#import plotly.express as px"
   ]
  },
  {
   "cell_type": "code",
   "execution_count": 2,
   "metadata": {},
   "outputs": [],
   "source": [
    "# Colorado GDP (Detailed)\n",
    "\n",
    "#df = pd.read_csv(\"rawdata/Olan-CO-counties-GDP-Details.csv\", skiprows=4)\n",
    "#df.to_csv(\"cleandata/COGDPbyCounties-detailed.csv\", index=False)\n",
    "\n",
    "#-------------------------------------------------------------------------------------------------------------------\n",
    "# Start cleaning file\n",
    "#DetailedCountiesGDP = pd.read_csv(\"cleandata/COGDPbyCounties-detailed.csv\")\n",
    "\n",
    "#DetailedCountiesGDP.drop(df.tail(10).index,inplace=True)\n",
    "\n",
    "#DetailedCountiesGDP.drop(columns=['GeoFips'], inplace=True)\n",
    "#DetailedCountiesGDP.to_csv(\"cleandata/COGDPbyCounties-detailed.csv\", index=False)\n",
    "#-------------------------------------------------------------------------------------------------------------------\n",
    "#DetailedCountiesGDP.drop(columns=['LineCode'], inplace=True)\n",
    "\n",
    "#DetailedCountiesGDP.to_csv(\"cleandata/COGDPbyCounties-detailed.csv\", index=False)\n",
    "#-------------------------------------------------------------------------------------------------------------------\n",
    "\n",
    "#Drop null values\n",
    "#cols = [\"GeoName\", \"Description\", \"2010\", \"2011\", \"2012\", \"2013\", \"2014\", \"2015\", \"2016\", \"2017\", \"2018\"]\n",
    "\n",
    "#DetailedCountiesGDP = DetailedCountiesGDP[cols].replace({\"(D)\":None})\n",
    "#DetailedCountiesGDP = DetailedCountiesGDP[cols].replace({\"(NA)\":None})\n",
    "#DetailedCountiesGDP = DetailedCountiesGDP.dropna()\n",
    "\n",
    "#Change column types\n",
    "#yearcols = [\"2010\", \"2011\", \"2012\", \"2013\", \"2014\", \"2015\", \"2016\", \"2017\", \"2018\"]\n",
    "#DetailedCountiesGDP[yearcols] = DetailedCountiesGDP[yearcols].astype('int')\n",
    "\n",
    "#DetailedCountiesGDP.to_csv(\"cleandata/COGDPbyCounties-detailed.csv\", index=False)\n",
    "#-------------------------------------------------------------------------------------------------------------------\n",
    "#DetailedCountiesGDP = DetailedCountiesGDP.drop(DetailedCountiesGDP.index[1])\n",
    "\n",
    "#DetailedCountiesGDP.head()\n",
    "\n",
    "#ColoradoDF = DetailedCountiesGDP[(DetailedCountiesGDP.GeoName=='Colorado')]\n",
    "\n",
    "#ColoradoDF.columns = ['Location', 'Description', \"2010\", \"2011\", \"2012\", \"2013\", \"2014\", \"2015\", \"2016\", \"2017\", \"2018\"]\n",
    "\n",
    "#ColoradoDF.to_csv(\"cleandata/COGDPDetailed.csv\", index=False)\n",
    "#-------------------------------------------------------------------------------------------------------------------\n",
    "##REMOVED LOCATION COLUMN\n",
    "#ExtraCleaning = pd.read_csv(\"cleandata/COGDPDetailed.csv\")\n",
    "#ExtraCleaning.drop(columns=['Location'], inplace=True)\n",
    "#-------------------------------------------------------------------------------------------------------------------\n",
    "##REMOVE INDEX, TRANSPOSE, DROP TOTAL COLUMNS\n",
    "#ExtraCleaning.set_index(\"Description\", inplace=True)\n",
    "#ExtraCleaning = ExtraCleaning.transpose()\n",
    "\n",
    "#ExtraCleaning.drop(columns=['All industry total', '  Private industries', 'Private goods-producing industries 2/', 'Private services-providing industries 3/'], inplace=True)\n",
    "\n",
    "#ExtraCleaning.to_csv(\"cleandata/COGDPDetailed.csv\", index=True)\n",
    "\n",
    "\n",
    "#ColoradoDF.head()\n",
    "#DetailedCountiesGDP.head()\n",
    "#ExtraCleaning.head(10)\n",
    "#ExtraCleaning.columns\n"
   ]
  },
  {
   "cell_type": "code",
   "execution_count": 3,
   "metadata": {},
   "outputs": [],
   "source": [
    "#df = pd.read_csv(\"rawdata/Olan-CO-counties-GDP-Totals.csv\", skiprows=4)\n",
    "#df.to_csv(\"cleandata/COGDPbyCounties-Totals.csv\", index=False)\n",
    "#-------------------------------------------------------------------------------------------------------------------\n",
    "#TotalCountiesGDP = pd.read_csv(\"cleandata/COGDPbyCounties-Totals.csv\")\n",
    "#TotalCountiesGDP.drop(df.tail(6).index,inplace=True)\n",
    "#TotalCountiesGDP.drop(columns=['GeoFips'], inplace=True)\n",
    "#TotalCountiesGDP.to_csv(\"cleandata/#COGDPbyCounties-Totals.csv\", index=False)\n",
    "#-------------------------------------------------------------------------------------------------------------------\n",
    "#No null values, change columns type\n",
    "#yearcols = [\"2010\", \"2011\", \"2012\", \"2013\", \"2014\", \"2015\", \"2016\", \"2017\", \"2018\"]\n",
    "#TotalCountiesGDP[yearcols] = TotalCountiesGDP[yearcols].astype('int')\n",
    "\n",
    "#TotalCountiesGDP.columns = ['Location', \"2010\", \"2011\", \"2012\", \"2013\", \"2014\", \"2015\", \"2016\", \"2017\", \"2018\"]\n",
    "\n",
    "#TotalCountiesGDP = TotalCountiesGDP.drop([0])\n",
    "#TotalCountiesGDP.to_csv(\"cleandata/COGDPbyCounties-Totals.csv\", index=False)\n",
    "\n",
    "\n",
    "\n",
    "#TotalCountiesGDP.head()\n"
   ]
  },
  {
   "cell_type": "code",
   "execution_count": 4,
   "metadata": {},
   "outputs": [],
   "source": [
    "#df = pd.read_csv(\"rawdata/Olan-DPS-Colorado-Marijuana-Arrests.csv\")\n",
    "#df.to_csv(\"cleandata/COMarijuanaArrestsbyCounties.csv\", index=False)\n",
    "#-------------------------------------------------------------------------------------------------------------------\n",
    "#MarijuanaArrests = pd.read_csv(\"cleandata/COMarijuanaArrestsbyCounties.csv\",skiprows=1,header=None)\n",
    "#MarijuanaArrests.columns = ['Arrest Year', 'County', 'Agency', 'Age Group', 'Gender', 'Race Code', 'NCIC Code', 'Number of Arrests']\n",
    "#MarijuanaArrests.drop(columns=['Agency'], inplace=True)\n",
    "#MarijuanaArrests.to_csv(\"cleandata/COMarijuanaArrestsbyCounties.csv\", index=False)\n",
    "#-------------------------------------------------------------------------------------------------------------------\n",
    "#MarijuanaArrests.groupby(['Arrest Year', 'County'])\n",
    "#df_tr = MarijuanaArrests.transpose()\n",
    "#df_tr.head(10)\n",
    "\n",
    "#MarijuanaArrests = pd.read_csv(\"cleandata/COMarijuanaArrests.csv\")\n",
    "\n",
    "#MarijuanaArrests.drop(columns=['Age Group', 'Gender', 'Race Code'], inplace=True)\n",
    "\n",
    "\n",
    "#MarijuanaArrests = MarijuanaArrests[['County', 'Arrest Year', 'Age Group', 'Gender', 'Race Code', 'NCIC Code', 'Number of Arrests']]\n",
    "#-------------------------------------------------------------------------------------------------------------------\n",
    "##DROP SOME MORE COLUMNS & RENAME COLUMNS\n",
    "#MarijuanaArrests =  MarijuanaArrests.drop(columns=['Age Group', 'Gender', 'Race Code'])\n",
    "#MarijuanaArrests.columns = ['Year', 'County', 'Offense Type', 'Number of Arrests']\n",
    "#-------------------------------------------------------------------------------------------------------------------\n",
    "#MarijuanaArrests['County'] = MarijuanaArrests['County'].replace(['#NULL'],\"N/A\")\n",
    "#MarijuanaArrests['County'] = MarijuanaArrests['County'].replace([None],\"Location not Available\")\n",
    "#MarijuanaArrests['County'] = MarijuanaArrests['County'].replace([\"Acet (All Crimes Enforcement Team)\"],\"Location not Available\")\n",
    "#-------------------------------------------------------------------------------------------------------------------\n",
    "#Clean = pd.read_csv(\"cleandata/COMarijuanaArrests.csv\")\n",
    "#Clean = Clean.groupby(['Year', 'County', 'Offense Type']).sum()\n",
    "\n",
    "#MarijuanaArrests.to_csv(\"cleandata/COMarijuanaArrests.csv\", index=False)\n",
    "#Clean.to_csv(\"cleandata/GROUPEDArrests.csv\")\n",
    "\n",
    "#Clean.head(10)"
   ]
  },
  {
   "cell_type": "code",
   "execution_count": 5,
   "metadata": {},
   "outputs": [],
   "source": [
    "#df = pd.read_csv(\"rawdata/Olan-DPS-Marijuana-Offenses.csv\")\n",
    "#df.to_csv(\"cleandata/COMarijuanaOffenses.csv\", index=False)\n",
    "#-------------------------------------------------------------------------------------------------------------------\n",
    "## DELETE UNWANTED COLUMNS\n",
    "#MJOffenses = pd.read_csv('cleandata/COMarijuanaOffenses.csv')\n",
    "#MJOffenses = MJOffenses.drop(columns=['AgeGroup', 'Agency', 'Gender', 'RaceCode', 'Location', 'LocationGroup'])\n",
    "#-------------------------------------------------------------------------------------------------------------------\n",
    "## FILLED IN BLANK COUNTIES AND RENAMED COLUMNS\n",
    "#MJOffenses['County'] = MJOffenses['County'].replace([None],\"N/A\")\n",
    "#MJOffenses.columns = ['Year', 'County', 'Offense Type', 'Number of Offenses']\n",
    "#MJOffenses['County'] = MJOffenses['County'].replace([None],\"Location not Available\")\n",
    "#-------------------------------------------------------------------------------------------------------------------\n",
    "#Group = pd.read_csv('cleandata/COMarijuanaOffenses.csv')\n",
    "#Group = Group.groupby(['Year', 'County', 'Offense Type']).sum()\n",
    "#MJOffenses.to_csv(\"cleandata/COMarijuanaOffenses.csv\", index=False)\n",
    "#Group.to_csv(\"cleandata/GROUPEDOffenses.csv\")\n",
    "\n",
    "#MJOffenses.head(20)\n",
    "#Group.head(10)"
   ]
  },
  {
   "cell_type": "code",
   "execution_count": 6,
   "metadata": {},
   "outputs": [],
   "source": [
    "#Arrests = pd.read_csv(\"cleandata/GROUPEDArrests.csv\")\n",
    "#Offenses = pd.read_csv(\"cleandata/GROUPEDOffenses.csv\")\n",
    "\n",
    "#column_appended_data = pd.concat([Arrests, Offenses], axis=\"rows\", join=\"outer\")\n",
    "#NewColumn = column_appended_data.groupby(['Year', 'County', 'Offense Type']).sum()\n",
    "#NewColumn.to_csv(\"cleandata/GROUPEDArrestsOffenses.csv\")\n",
    "\n",
    "#Arrests.head(10)\n",
    "#Offenses.head(10)\n",
    "#column_appended_data.head(30)\n",
    "#NewColumn.head(20)"
   ]
  },
  {
   "cell_type": "code",
   "execution_count": 7,
   "metadata": {},
   "outputs": [],
   "source": [
    "#GEOCODES CLEANING\n",
    "#df = pd.read_csv(\"rawdata/Geocodes_USA_with_Counties.csv\")\n",
    "#df.to_csv(\"cleandata/CountyGeocodes\", index=False)\n",
    "#Geo = pd.read_csv(\"cleandata/CountyGeocodes\")\n",
    "#-------------------------------------------------------------------------------------------------------------------\n",
    "#Geo.drop(columns=['zip', 'primary_city', 'decommissioned', 'estimated_population', 'world_region', 'country', 'type', 'notes'], inplace=True)\n",
    "#Geo= Geo[(Geo.state=='CO')]\n",
    "#Geo = Geo.drop_duplicates(subset=['county'])\n",
    "#Geo.dropna(inplace=True)\n",
    "#Geo.reset_index()\n",
    "#-------------------------------------------------------------------------------------------------------------------\n",
    "#Geo.to_csv(\"cleandata/CountyGeocodes\", index=False)\n",
    "\n",
    "#Geo.head(10)"
   ]
  },
  {
   "cell_type": "code",
   "execution_count": 8,
   "metadata": {},
   "outputs": [],
   "source": [
    "#OAdf = pd.read_csv(\"cleandata/GROUPEDArrestsOffenses.csv\")\n",
    "#Geodf = pd.read_csv(\"cleandata/CountyGeocodes.csv\")\n",
    "\n",
    "#Geodf.drop(columns=['state'], inplace=True)\n",
    "#Geodf.columns = ['latitude', 'longtitude', 'County']\n",
    "\n",
    "\n",
    "#Codes = OAdf.set_index('County').combine_first(Geodf.set_index('County')).reset_index()\n",
    "#Codes = Codes[['Year', 'County', 'latitude', 'longtitude', 'Offense Type', 'Number of Arrests', 'Number of Offenses']]\n",
    "#Codes.dropna(inplace=True)\n",
    "\n",
    "#Codes.to_csv(\"cleandata/FinalizedCrimeStats.csv\", index=False)\n",
    "#Codes.head(10)\n",
    "#Geodf.head(10)"
   ]
  },
  {
   "cell_type": "code",
   "execution_count": null,
   "metadata": {},
   "outputs": [],
   "source": []
  }
 ]
}