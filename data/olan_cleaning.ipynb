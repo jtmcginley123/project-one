{
 "metadata": {
  "language_info": {
   "codemirror_mode": {
    "name": "ipython",
    "version": 3
   },
   "file_extension": ".py",
   "mimetype": "text/x-python",
   "name": "python",
   "nbconvert_exporter": "python",
   "pygments_lexer": "ipython3",
   "version": "3.7.7-final"
  },
  "orig_nbformat": 2,
  "kernelspec": {
   "name": "Python 3.7.7 64-bit ('pyvizenv3': conda)",
   "display_name": "Python 3.7.7 64-bit ('pyvizenv3': conda)",
   "metadata": {
    "interpreter": {
     "hash": "2548420f6680aedd74e3e2beb38ae873a37a41cd3aad112f0ad46785fbe9b2a9"
    }
   }
  }
 },
 "nbformat": 4,
 "nbformat_minor": 2,
 "cells": [
  {
   "cell_type": "code",
   "execution_count": 4,
   "metadata": {},
   "outputs": [],
   "source": [
    "import pandas as pd\n",
    "import plotly.express as px"
   ]
  },
  {
   "cell_type": "code",
   "execution_count": 5,
   "metadata": {},
   "outputs": [],
   "source": [
    "# Colorado GDP (Detailed)\n",
    "\n",
    "#df = pd.read_csv(\"rawdata/Olan-CO-counties-GDP-Details.csv\", skiprows=4)\n",
    "#df.to_csv(\"cleandata/COGDPbyCounties-detailed.csv\", index=False)\n",
    "\n",
    "#-------------------------------------------------------------------------------------------------------------------\n",
    "# Start cleaning file\n",
    "#DetailedCountiesGDP = pd.read_csv(\"cleandata/COGDPbyCounties-detailed.csv\")\n",
    "\n",
    "#DetailedCountiesGDP.drop(df.tail(10).index,inplace=True)\n",
    "\n",
    "#DetailedCountiesGDP.drop(columns=['GeoFips'], inplace=True)\n",
    "#DetailedCountiesGDP.to_csv(\"cleandata/COGDPbyCounties-detailed.csv\", index=False)\n",
    "#-------------------------------------------------------------------------------------------------------------------\n",
    "#DetailedCountiesGDP.drop(columns=['LineCode'], inplace=True)\n",
    "\n",
    "#DetailedCountiesGDP.to_csv(\"cleandata/COGDPbyCounties-detailed.csv\", index=False)\n",
    "#-------------------------------------------------------------------------------------------------------------------\n",
    "\n",
    "#Drop null values\n",
    "#cols = [\"GeoName\", \"Description\", \"2010\", \"2011\", \"2012\", \"2013\", \"2014\", \"2015\", \"2016\", \"2017\", \"2018\"]\n",
    "\n",
    "#DetailedCountiesGDP = DetailedCountiesGDP[cols].replace({\"(D)\":None})\n",
    "#DetailedCountiesGDP = DetailedCountiesGDP[cols].replace({\"(NA)\":None})\n",
    "#DetailedCountiesGDP = DetailedCountiesGDP.dropna()\n",
    "\n",
    "#Change column types\n",
    "#yearcols = [\"2010\", \"2011\", \"2012\", \"2013\", \"2014\", \"2015\", \"2016\", \"2017\", \"2018\"]\n",
    "#DetailedCountiesGDP[yearcols] = DetailedCountiesGDP[yearcols].astype('int')\n",
    "\n",
    "#DetailedCountiesGDP.to_csv(\"cleandata/COGDPbyCounties-detailed.csv\", index=False)\n",
    "#-------------------------------------------------------------------------------------------------------------------\n",
    "\n",
    "#Group data\n",
    "#Transpose"
   ]
  },
  {
   "cell_type": "code",
   "execution_count": 6,
   "metadata": {},
   "outputs": [],
   "source": [
    "#df = pd.read_csv(\"rawdata/Olan-CO-counties-GDP-Totals.csv\", skiprows=4)\n",
    "#df.to_csv(\"cleandata/COGDPbyCounties-Totals.csv\", index=False)\n",
    "#-------------------------------------------------------------------------------------------------------------------\n",
    "#TotalCountiesGDP = pd.read_csv(\"cleandata/COGDPbyCounties-Totals.csv\")\n",
    "#TotalCountiesGDP.drop(df.tail(6).index,inplace=True)\n",
    "#TotalCountiesGDP.drop(columns=['GeoFips'], inplace=True)\n",
    "#TotalCountiesGDP.to_csv(\"cleandata/#COGDPbyCounties-Totals.csv\", index=False)\n",
    "#-------------------------------------------------------------------------------------------------------------------\n",
    "#No null values, change columns type\n",
    "#yearcols = [\"2010\", \"2011\", \"2012\", \"2013\", \"2014\", \"2015\", \"2016\", \"2017\", \"2018\"]\n",
    "#TotalCountiesGDP[yearcols] = TotalCountiesGDP[yearcols].astype('int')\n",
    "#TotalCountiesGDP.to_csv(\"cleandata/COGDPbyCounties-Totals.csv\", index=False)\n",
    "\n"
   ]
  },
  {
   "cell_type": "code",
   "execution_count": 14,
   "metadata": {},
   "outputs": [
    {
     "output_type": "execute_result",
     "data": {
      "text/plain": [
       "   Arrest Year County    Age Group  Gender         Race Code     NCIC Code  \\\n",
       "0         2012  Adams  21 or older  Female         Hispianic  MJPossession   \n",
       "1         2012  Adams  21 or older    Male  African American  MJPossession   \n",
       "2         2012  Adams  21 or older    Male             Asian  MJPossession   \n",
       "3         2012  Adams  21 or older    Male           Unknown  MJPossession   \n",
       "4         2012  Adams  21 or older    Male             White  MJPossession   \n",
       "\n",
       "   Number of Arrests  \n",
       "0                  6  \n",
       "1                  5  \n",
       "2                  1  \n",
       "3                  1  \n",
       "4                 33  "
      ],
      "text/html": "<div>\n<style scoped>\n    .dataframe tbody tr th:only-of-type {\n        vertical-align: middle;\n    }\n\n    .dataframe tbody tr th {\n        vertical-align: top;\n    }\n\n    .dataframe thead th {\n        text-align: right;\n    }\n</style>\n<table border=\"1\" class=\"dataframe\">\n  <thead>\n    <tr style=\"text-align: right;\">\n      <th></th>\n      <th>Arrest Year</th>\n      <th>County</th>\n      <th>Age Group</th>\n      <th>Gender</th>\n      <th>Race Code</th>\n      <th>NCIC Code</th>\n      <th>Number of Arrests</th>\n    </tr>\n  </thead>\n  <tbody>\n    <tr>\n      <th>0</th>\n      <td>2012</td>\n      <td>Adams</td>\n      <td>21 or older</td>\n      <td>Female</td>\n      <td>Hispianic</td>\n      <td>MJPossession</td>\n      <td>6</td>\n    </tr>\n    <tr>\n      <th>1</th>\n      <td>2012</td>\n      <td>Adams</td>\n      <td>21 or older</td>\n      <td>Male</td>\n      <td>African American</td>\n      <td>MJPossession</td>\n      <td>5</td>\n    </tr>\n    <tr>\n      <th>2</th>\n      <td>2012</td>\n      <td>Adams</td>\n      <td>21 or older</td>\n      <td>Male</td>\n      <td>Asian</td>\n      <td>MJPossession</td>\n      <td>1</td>\n    </tr>\n    <tr>\n      <th>3</th>\n      <td>2012</td>\n      <td>Adams</td>\n      <td>21 or older</td>\n      <td>Male</td>\n      <td>Unknown</td>\n      <td>MJPossession</td>\n      <td>1</td>\n    </tr>\n    <tr>\n      <th>4</th>\n      <td>2012</td>\n      <td>Adams</td>\n      <td>21 or older</td>\n      <td>Male</td>\n      <td>White</td>\n      <td>MJPossession</td>\n      <td>33</td>\n    </tr>\n  </tbody>\n</table>\n</div>"
     },
     "metadata": {},
     "execution_count": 14
    }
   ],
   "source": [
    "#df = pd.read_csv(\"rawdata/Olan-DPS-Colorado-Marijuana-Arrests.csv\")\n",
    "#df.to_csv(\"cleandata/COMarijuanaArrestsbyCounties.csv\", index=False)\n",
    "#-------------------------------------------------------------------------------------------------------------------\n",
    "#MarijuanaArrests = pd.read_csv(\"cleandata/COMarijuanaArrestsbyCounties.csv\",skiprows=1,header=None)\n",
    "#MarijuanaArrests.columns = ['Arrest Year', 'County', 'Agency', 'Age Group', 'Gender', 'Race Code', 'NCIC Code', 'Number of Arrests']\n",
    "#MarijuanaArrests.drop(columns=['Agency'], inplace=True)\n",
    "#MarijuanaArrests.to_csv(\"cleandata/COMarijuanaArrestsbyCounties.csv\", index=False)\n",
    "#-------------------------------------------------------------------------------------------------------------------\n",
    "#MarijuanaArrests.groupby(['Arrest Year', 'County'])\n",
    "#df_tr = MarijuanaArrests.transpose()\n",
    "#df_tr.head(10)\n",
    "\n",
    "MarijuanaArrests = pd.read_csv(\"cleandata/COMarijuanaArrestsbyCounties.csv\")\n",
    "\n",
    "#MarijuanaArrests.drop(columns=['Age Group', 'Gender', 'Race Code'], inplace=True)\n",
    "\n",
    "\n",
    "#MarijuanaArrests = MarijuanaArrests[['County', 'Arrest Year', 'Age Group', 'Gender', 'Race Code', 'NCIC Code', 'Number of Arrests']]\n",
    "\n",
    "#df_tr = MarijuanaArrests.transpose()\n",
    "#df_tr.head(10)\n",
    "\n",
    "#MarijuanaArrests.to_csv(\"cleandata/test.csv\", index=False)\n",
    "\n",
    "MarijuanaArrests.head()"
   ]
  },
  {
   "cell_type": "code",
   "execution_count": null,
   "metadata": {},
   "outputs": [],
   "source": []
  }
 ]
}