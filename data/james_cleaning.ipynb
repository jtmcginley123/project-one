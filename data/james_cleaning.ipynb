{
 "metadata": {
  "language_info": {
   "codemirror_mode": {
    "name": "ipython",
    "version": 3
   },
   "file_extension": ".py",
   "mimetype": "text/x-python",
   "name": "python",
   "nbconvert_exporter": "python",
   "pygments_lexer": "ipython3",
   "version": "3.8.3-final"
  },
  "orig_nbformat": 2,
  "kernelspec": {
   "name": "python3",
   "display_name": "Python 3"
  }
 },
 "nbformat": 4,
 "nbformat_minor": 2,
 "cells": [
  {
   "cell_type": "code",
   "execution_count": 9,
   "metadata": {},
   "outputs": [
    {
     "output_type": "execute_result",
     "data": {
      "text/plain": [
       "                                    Licensee                          DBA  \\\n",
       "0                      1617 WAZEE STREET LLC                          NaN   \n",
       "1       3-D DENVER'S DISCREET DISPENSARY LLC                          NaN   \n",
       "2                        4625 E. COLFAX, LLC                          NaN   \n",
       "3                          5280 WELLNESS LLC                          NaN   \n",
       "4        A CUT OFF THE TOP MEDICAL MARIJUANA                          NaN   \n",
       "...                                      ...                          ...   \n",
       "191504   NORDIC ANALYTICAL LABORATORIES, LLC                          NaN   \n",
       "191505    NORDIC ANALYTICAL LABORATORIES LLC                          NaN   \n",
       "191506                      PHYTATECH CO LLC                          NaN   \n",
       "191507                 RM3 LABS COLORADO LLC                          NaN   \n",
       "191508       TEQ ANALYTICAL LABORATORIES INC  TEQ ANALYTICAL LABORATORIES   \n",
       "\n",
       "       License_No                            Street_Address      City  \\\n",
       "0             NaN                             1617 Wazee St    Denver   \n",
       "1             NaN                        4305 Brighton Blvd  Brighton   \n",
       "2             NaN                        4625 E. Colfax Ave    Denver   \n",
       "3             NaN                         1321 Elati Street    Denver   \n",
       "4             NaN                           2059 W. 9th Ave    Denver   \n",
       "...           ...                                       ...       ...   \n",
       "191504  405-00003                         3960 Grape Street    Denver   \n",
       "191505  405-00019                  417 East Northern Avenue    Pueblo   \n",
       "191506  405-00008               879 North Federal Boulevard    Denver   \n",
       "191507  405-00010             1700 55th Street, Units B & E   Boulder   \n",
       "191508  405-00014  12635 East Montview Boulevard, Suite 175    Aurora   \n",
       "\n",
       "            ZIP                              Category  Month  Year  \\\n",
       "0       80202.0             Medical Marijuana Centers      1  2013   \n",
       "1       80216.0             Medical Marijuana Centers      1  2013   \n",
       "2       80216.0             Medical Marijuana Centers      1  2013   \n",
       "3       80204.0             Medical Marijuana Centers      1  2013   \n",
       "4       80204.0             Medical Marijuana Centers      1  2013   \n",
       "...         ...                                   ...    ...   ...   \n",
       "191504  80207.0  Medical Marijuana Testing Facilities     12  2019   \n",
       "191505  81006.0  Medical Marijuana Testing Facilities     12  2019   \n",
       "191506  80204.0  Medical Marijuana Testing Facilities     12  2019   \n",
       "191507  80301.0  Medical Marijuana Testing Facilities     12  2019   \n",
       "191508  80045.0  Medical Marijuana Testing Facilities     12  2019   \n",
       "\n",
       "                                Certification  \n",
       "0                                         NaN  \n",
       "1                                         NaN  \n",
       "2                                         NaN  \n",
       "3                                         NaN  \n",
       "4                                         NaN  \n",
       "...                                       ...  \n",
       "191504  Residual Solvents Contaminate Testing  \n",
       "191505  Residual Solvents Contaminate Testing  \n",
       "191506  Residual Solvents Contaminate Testing  \n",
       "191507  Residual Solvents Contaminate Testing  \n",
       "191508  Residual Solvents Contaminate Testing  \n",
       "\n",
       "[191509 rows x 10 columns]"
      ],
      "text/html": "<div>\n<style scoped>\n    .dataframe tbody tr th:only-of-type {\n        vertical-align: middle;\n    }\n\n    .dataframe tbody tr th {\n        vertical-align: top;\n    }\n\n    .dataframe thead th {\n        text-align: right;\n    }\n</style>\n<table border=\"1\" class=\"dataframe\">\n  <thead>\n    <tr style=\"text-align: right;\">\n      <th></th>\n      <th>Licensee</th>\n      <th>DBA</th>\n      <th>License_No</th>\n      <th>Street_Address</th>\n      <th>City</th>\n      <th>ZIP</th>\n      <th>Category</th>\n      <th>Month</th>\n      <th>Year</th>\n      <th>Certification</th>\n    </tr>\n  </thead>\n  <tbody>\n    <tr>\n      <th>0</th>\n      <td>1617 WAZEE STREET LLC</td>\n      <td>NaN</td>\n      <td>NaN</td>\n      <td>1617 Wazee St</td>\n      <td>Denver</td>\n      <td>80202.0</td>\n      <td>Medical Marijuana Centers</td>\n      <td>1</td>\n      <td>2013</td>\n      <td>NaN</td>\n    </tr>\n    <tr>\n      <th>1</th>\n      <td>3-D DENVER'S DISCREET DISPENSARY LLC</td>\n      <td>NaN</td>\n      <td>NaN</td>\n      <td>4305 Brighton Blvd</td>\n      <td>Brighton</td>\n      <td>80216.0</td>\n      <td>Medical Marijuana Centers</td>\n      <td>1</td>\n      <td>2013</td>\n      <td>NaN</td>\n    </tr>\n    <tr>\n      <th>2</th>\n      <td>4625 E. COLFAX, LLC</td>\n      <td>NaN</td>\n      <td>NaN</td>\n      <td>4625 E. Colfax Ave</td>\n      <td>Denver</td>\n      <td>80216.0</td>\n      <td>Medical Marijuana Centers</td>\n      <td>1</td>\n      <td>2013</td>\n      <td>NaN</td>\n    </tr>\n    <tr>\n      <th>3</th>\n      <td>5280 WELLNESS LLC</td>\n      <td>NaN</td>\n      <td>NaN</td>\n      <td>1321 Elati Street</td>\n      <td>Denver</td>\n      <td>80204.0</td>\n      <td>Medical Marijuana Centers</td>\n      <td>1</td>\n      <td>2013</td>\n      <td>NaN</td>\n    </tr>\n    <tr>\n      <th>4</th>\n      <td>A CUT OFF THE TOP MEDICAL MARIJUANA</td>\n      <td>NaN</td>\n      <td>NaN</td>\n      <td>2059 W. 9th Ave</td>\n      <td>Denver</td>\n      <td>80204.0</td>\n      <td>Medical Marijuana Centers</td>\n      <td>1</td>\n      <td>2013</td>\n      <td>NaN</td>\n    </tr>\n    <tr>\n      <th>...</th>\n      <td>...</td>\n      <td>...</td>\n      <td>...</td>\n      <td>...</td>\n      <td>...</td>\n      <td>...</td>\n      <td>...</td>\n      <td>...</td>\n      <td>...</td>\n      <td>...</td>\n    </tr>\n    <tr>\n      <th>191504</th>\n      <td>NORDIC ANALYTICAL LABORATORIES, LLC</td>\n      <td>NaN</td>\n      <td>405-00003</td>\n      <td>3960 Grape Street</td>\n      <td>Denver</td>\n      <td>80207.0</td>\n      <td>Medical Marijuana Testing Facilities</td>\n      <td>12</td>\n      <td>2019</td>\n      <td>Residual Solvents Contaminate Testing</td>\n    </tr>\n    <tr>\n      <th>191505</th>\n      <td>NORDIC ANALYTICAL LABORATORIES LLC</td>\n      <td>NaN</td>\n      <td>405-00019</td>\n      <td>417 East Northern Avenue</td>\n      <td>Pueblo</td>\n      <td>81006.0</td>\n      <td>Medical Marijuana Testing Facilities</td>\n      <td>12</td>\n      <td>2019</td>\n      <td>Residual Solvents Contaminate Testing</td>\n    </tr>\n    <tr>\n      <th>191506</th>\n      <td>PHYTATECH CO LLC</td>\n      <td>NaN</td>\n      <td>405-00008</td>\n      <td>879 North Federal Boulevard</td>\n      <td>Denver</td>\n      <td>80204.0</td>\n      <td>Medical Marijuana Testing Facilities</td>\n      <td>12</td>\n      <td>2019</td>\n      <td>Residual Solvents Contaminate Testing</td>\n    </tr>\n    <tr>\n      <th>191507</th>\n      <td>RM3 LABS COLORADO LLC</td>\n      <td>NaN</td>\n      <td>405-00010</td>\n      <td>1700 55th Street, Units B &amp; E</td>\n      <td>Boulder</td>\n      <td>80301.0</td>\n      <td>Medical Marijuana Testing Facilities</td>\n      <td>12</td>\n      <td>2019</td>\n      <td>Residual Solvents Contaminate Testing</td>\n    </tr>\n    <tr>\n      <th>191508</th>\n      <td>TEQ ANALYTICAL LABORATORIES INC</td>\n      <td>TEQ ANALYTICAL LABORATORIES</td>\n      <td>405-00014</td>\n      <td>12635 East Montview Boulevard, Suite 175</td>\n      <td>Aurora</td>\n      <td>80045.0</td>\n      <td>Medical Marijuana Testing Facilities</td>\n      <td>12</td>\n      <td>2019</td>\n      <td>Residual Solvents Contaminate Testing</td>\n    </tr>\n  </tbody>\n</table>\n<p>191509 rows × 10 columns</p>\n</div>"
     },
     "metadata": {},
     "execution_count": 9
    }
   ],
   "source": [
    "# Imports\n",
    "import pandas as pd \n",
    "\n",
    "#Dispensary Addresses in CO\n",
    "dispensary_address = pd.read_csv(\"rawdata/James-Licensed-Marijuana-Businesses-Colorado.csv\")\n",
    "dispensary_address\n"
   ]
  },
  {
   "cell_type": "code",
   "execution_count": 10,
   "metadata": {},
   "outputs": [],
   "source": [
    "#Licensee,DBA,License_No,Street_Address,City,ZIP,Category,Month,Year,Certification\n",
    "dispensary_address_clean = df[['Licensee', 'Street_Address', 'City', 'ZIP']]"
   ]
  },
  {
   "cell_type": "code",
   "execution_count": 11,
   "metadata": {},
   "outputs": [
    {
     "output_type": "execute_result",
     "data": {
      "text/plain": [
       "                                    Licensee  \\\n",
       "0                      1617 WAZEE STREET LLC   \n",
       "1       3-D DENVER'S DISCREET DISPENSARY LLC   \n",
       "2                        4625 E. COLFAX, LLC   \n",
       "3                          5280 WELLNESS LLC   \n",
       "4        A CUT OFF THE TOP MEDICAL MARIJUANA   \n",
       "...                                      ...   \n",
       "191504   NORDIC ANALYTICAL LABORATORIES, LLC   \n",
       "191505    NORDIC ANALYTICAL LABORATORIES LLC   \n",
       "191506                      PHYTATECH CO LLC   \n",
       "191507                 RM3 LABS COLORADO LLC   \n",
       "191508       TEQ ANALYTICAL LABORATORIES INC   \n",
       "\n",
       "                                  Street_Address      City      ZIP  \n",
       "0                                  1617 Wazee St    Denver  80202.0  \n",
       "1                             4305 Brighton Blvd  Brighton  80216.0  \n",
       "2                             4625 E. Colfax Ave    Denver  80216.0  \n",
       "3                              1321 Elati Street    Denver  80204.0  \n",
       "4                                2059 W. 9th Ave    Denver  80204.0  \n",
       "...                                          ...       ...      ...  \n",
       "191504                         3960 Grape Street    Denver  80207.0  \n",
       "191505                  417 East Northern Avenue    Pueblo  81006.0  \n",
       "191506               879 North Federal Boulevard    Denver  80204.0  \n",
       "191507             1700 55th Street, Units B & E   Boulder  80301.0  \n",
       "191508  12635 East Montview Boulevard, Suite 175    Aurora  80045.0  \n",
       "\n",
       "[191509 rows x 4 columns]"
      ],
      "text/html": "<div>\n<style scoped>\n    .dataframe tbody tr th:only-of-type {\n        vertical-align: middle;\n    }\n\n    .dataframe tbody tr th {\n        vertical-align: top;\n    }\n\n    .dataframe thead th {\n        text-align: right;\n    }\n</style>\n<table border=\"1\" class=\"dataframe\">\n  <thead>\n    <tr style=\"text-align: right;\">\n      <th></th>\n      <th>Licensee</th>\n      <th>Street_Address</th>\n      <th>City</th>\n      <th>ZIP</th>\n    </tr>\n  </thead>\n  <tbody>\n    <tr>\n      <th>0</th>\n      <td>1617 WAZEE STREET LLC</td>\n      <td>1617 Wazee St</td>\n      <td>Denver</td>\n      <td>80202.0</td>\n    </tr>\n    <tr>\n      <th>1</th>\n      <td>3-D DENVER'S DISCREET DISPENSARY LLC</td>\n      <td>4305 Brighton Blvd</td>\n      <td>Brighton</td>\n      <td>80216.0</td>\n    </tr>\n    <tr>\n      <th>2</th>\n      <td>4625 E. COLFAX, LLC</td>\n      <td>4625 E. Colfax Ave</td>\n      <td>Denver</td>\n      <td>80216.0</td>\n    </tr>\n    <tr>\n      <th>3</th>\n      <td>5280 WELLNESS LLC</td>\n      <td>1321 Elati Street</td>\n      <td>Denver</td>\n      <td>80204.0</td>\n    </tr>\n    <tr>\n      <th>4</th>\n      <td>A CUT OFF THE TOP MEDICAL MARIJUANA</td>\n      <td>2059 W. 9th Ave</td>\n      <td>Denver</td>\n      <td>80204.0</td>\n    </tr>\n    <tr>\n      <th>...</th>\n      <td>...</td>\n      <td>...</td>\n      <td>...</td>\n      <td>...</td>\n    </tr>\n    <tr>\n      <th>191504</th>\n      <td>NORDIC ANALYTICAL LABORATORIES, LLC</td>\n      <td>3960 Grape Street</td>\n      <td>Denver</td>\n      <td>80207.0</td>\n    </tr>\n    <tr>\n      <th>191505</th>\n      <td>NORDIC ANALYTICAL LABORATORIES LLC</td>\n      <td>417 East Northern Avenue</td>\n      <td>Pueblo</td>\n      <td>81006.0</td>\n    </tr>\n    <tr>\n      <th>191506</th>\n      <td>PHYTATECH CO LLC</td>\n      <td>879 North Federal Boulevard</td>\n      <td>Denver</td>\n      <td>80204.0</td>\n    </tr>\n    <tr>\n      <th>191507</th>\n      <td>RM3 LABS COLORADO LLC</td>\n      <td>1700 55th Street, Units B &amp; E</td>\n      <td>Boulder</td>\n      <td>80301.0</td>\n    </tr>\n    <tr>\n      <th>191508</th>\n      <td>TEQ ANALYTICAL LABORATORIES INC</td>\n      <td>12635 East Montview Boulevard, Suite 175</td>\n      <td>Aurora</td>\n      <td>80045.0</td>\n    </tr>\n  </tbody>\n</table>\n<p>191509 rows × 4 columns</p>\n</div>"
     },
     "metadata": {},
     "execution_count": 11
    }
   ],
   "source": [
    "dispensary_address_clean"
   ]
  },
  {
   "cell_type": "code",
   "execution_count": 12,
   "metadata": {},
   "outputs": [
    {
     "output_type": "execute_result",
     "data": {
      "text/plain": [
       "      Month  Year      County  Med_Sales  Rec_Sales Med_Blank_Code  \\\n",
       "0        12  2019        Yuma        NaN        NaN             NL   \n",
       "1        12  2019        Weld   314840.0  2448689.0            NaN   \n",
       "2        12  2019  Washington        NaN        NaN             NL   \n",
       "3        12  2019      Teller        NaN        NaN             NL   \n",
       "4        12  2019      Summit        NaN  2476854.0             NR   \n",
       "...     ...   ...         ...        ...        ...            ...   \n",
       "5004      8  2020     Chaffee        NaN        NaN             NR   \n",
       "5005      8  2020      Pitkin        NaN  1644529.0             NR   \n",
       "5006      8  2020     Prowers        NaN        NaN             NL   \n",
       "5007      8  2020  Broomfield        NaN        NaN             NL   \n",
       "5008      8  2020     Alamosa        NaN        NaN             NR   \n",
       "\n",
       "     Rec_Blank_Code                ID  \n",
       "0                NL        122019Yuma  \n",
       "1               NaN        122019Weld  \n",
       "2                NL  122019Washington  \n",
       "3                NL      122019Teller  \n",
       "4               NaN      122019Summit  \n",
       "...             ...               ...  \n",
       "5004             NR      82020Chaffee  \n",
       "5005            NaN       82020Pitkin  \n",
       "5006             NL      82020Prowers  \n",
       "5007             NL   82020Broomfield  \n",
       "5008             NL      82020Alamosa  \n",
       "\n",
       "[5009 rows x 8 columns]"
      ],
      "text/html": "<div>\n<style scoped>\n    .dataframe tbody tr th:only-of-type {\n        vertical-align: middle;\n    }\n\n    .dataframe tbody tr th {\n        vertical-align: top;\n    }\n\n    .dataframe thead th {\n        text-align: right;\n    }\n</style>\n<table border=\"1\" class=\"dataframe\">\n  <thead>\n    <tr style=\"text-align: right;\">\n      <th></th>\n      <th>Month</th>\n      <th>Year</th>\n      <th>County</th>\n      <th>Med_Sales</th>\n      <th>Rec_Sales</th>\n      <th>Med_Blank_Code</th>\n      <th>Rec_Blank_Code</th>\n      <th>ID</th>\n    </tr>\n  </thead>\n  <tbody>\n    <tr>\n      <th>0</th>\n      <td>12</td>\n      <td>2019</td>\n      <td>Yuma</td>\n      <td>NaN</td>\n      <td>NaN</td>\n      <td>NL</td>\n      <td>NL</td>\n      <td>122019Yuma</td>\n    </tr>\n    <tr>\n      <th>1</th>\n      <td>12</td>\n      <td>2019</td>\n      <td>Weld</td>\n      <td>314840.0</td>\n      <td>2448689.0</td>\n      <td>NaN</td>\n      <td>NaN</td>\n      <td>122019Weld</td>\n    </tr>\n    <tr>\n      <th>2</th>\n      <td>12</td>\n      <td>2019</td>\n      <td>Washington</td>\n      <td>NaN</td>\n      <td>NaN</td>\n      <td>NL</td>\n      <td>NL</td>\n      <td>122019Washington</td>\n    </tr>\n    <tr>\n      <th>3</th>\n      <td>12</td>\n      <td>2019</td>\n      <td>Teller</td>\n      <td>NaN</td>\n      <td>NaN</td>\n      <td>NL</td>\n      <td>NL</td>\n      <td>122019Teller</td>\n    </tr>\n    <tr>\n      <th>4</th>\n      <td>12</td>\n      <td>2019</td>\n      <td>Summit</td>\n      <td>NaN</td>\n      <td>2476854.0</td>\n      <td>NR</td>\n      <td>NaN</td>\n      <td>122019Summit</td>\n    </tr>\n    <tr>\n      <th>...</th>\n      <td>...</td>\n      <td>...</td>\n      <td>...</td>\n      <td>...</td>\n      <td>...</td>\n      <td>...</td>\n      <td>...</td>\n      <td>...</td>\n    </tr>\n    <tr>\n      <th>5004</th>\n      <td>8</td>\n      <td>2020</td>\n      <td>Chaffee</td>\n      <td>NaN</td>\n      <td>NaN</td>\n      <td>NR</td>\n      <td>NR</td>\n      <td>82020Chaffee</td>\n    </tr>\n    <tr>\n      <th>5005</th>\n      <td>8</td>\n      <td>2020</td>\n      <td>Pitkin</td>\n      <td>NaN</td>\n      <td>1644529.0</td>\n      <td>NR</td>\n      <td>NaN</td>\n      <td>82020Pitkin</td>\n    </tr>\n    <tr>\n      <th>5006</th>\n      <td>8</td>\n      <td>2020</td>\n      <td>Prowers</td>\n      <td>NaN</td>\n      <td>NaN</td>\n      <td>NL</td>\n      <td>NL</td>\n      <td>82020Prowers</td>\n    </tr>\n    <tr>\n      <th>5007</th>\n      <td>8</td>\n      <td>2020</td>\n      <td>Broomfield</td>\n      <td>NaN</td>\n      <td>NaN</td>\n      <td>NL</td>\n      <td>NL</td>\n      <td>82020Broomfield</td>\n    </tr>\n    <tr>\n      <th>5008</th>\n      <td>8</td>\n      <td>2020</td>\n      <td>Alamosa</td>\n      <td>NaN</td>\n      <td>NaN</td>\n      <td>NR</td>\n      <td>NL</td>\n      <td>82020Alamosa</td>\n    </tr>\n  </tbody>\n</table>\n<p>5009 rows × 8 columns</p>\n</div>"
     },
     "metadata": {},
     "execution_count": 12
    }
   ],
   "source": [
    "state_sales_tax_rev = pd.read_csv(\"rawdata/James-Marijuana-Sales-Revenue-Colorado.csv\")\n",
    "state_sales_tax_rev"
   ]
  },
  {
   "cell_type": "code",
   "execution_count": 22,
   "metadata": {},
   "outputs": [
    {
     "output_type": "error",
     "ename": "KeyError",
     "evalue": "\"['County'] not in index\"",
     "traceback": [
      "\u001b[0;31m---------------------------------------------------------------------------\u001b[0m",
      "\u001b[0;31mKeyError\u001b[0m                                  Traceback (most recent call last)",
      "\u001b[0;32m<ipython-input-22-fa804f555ba7>\u001b[0m in \u001b[0;36m<module>\u001b[0;34m\u001b[0m\n\u001b[1;32m      1\u001b[0m \u001b[0;31m#Month,Year,County,Med_Sales,Rec_Sales,Med_Blank_Code,Rec_Blank_Code,ID\u001b[0m\u001b[0;34m\u001b[0m\u001b[0;34m\u001b[0m\u001b[0;34m\u001b[0m\u001b[0m\n\u001b[0;32m----> 2\u001b[0;31m \u001b[0mstate_sales_tax_rev_clean\u001b[0m \u001b[0;34m=\u001b[0m \u001b[0mdf\u001b[0m\u001b[0;34m[\u001b[0m\u001b[0;34m[\u001b[0m\u001b[0;34m'Month'\u001b[0m\u001b[0;34m,\u001b[0m \u001b[0;34m'Year'\u001b[0m\u001b[0;34m,\u001b[0m \u001b[0;34m'County'\u001b[0m\u001b[0;34m]\u001b[0m\u001b[0;34m]\u001b[0m\u001b[0;31m#, 'Med_Sales', 'Rec_Sales']]\u001b[0m\u001b[0;34m\u001b[0m\u001b[0;34m\u001b[0m\u001b[0m\n\u001b[0m",
      "\u001b[0;32m~/opt/anaconda3/lib/python3.8/site-packages/pandas/core/frame.py\u001b[0m in \u001b[0;36m__getitem__\u001b[0;34m(self, key)\u001b[0m\n\u001b[1;32m   2906\u001b[0m             \u001b[0;32mif\u001b[0m \u001b[0mis_iterator\u001b[0m\u001b[0;34m(\u001b[0m\u001b[0mkey\u001b[0m\u001b[0;34m)\u001b[0m\u001b[0;34m:\u001b[0m\u001b[0;34m\u001b[0m\u001b[0;34m\u001b[0m\u001b[0m\n\u001b[1;32m   2907\u001b[0m                 \u001b[0mkey\u001b[0m \u001b[0;34m=\u001b[0m \u001b[0mlist\u001b[0m\u001b[0;34m(\u001b[0m\u001b[0mkey\u001b[0m\u001b[0;34m)\u001b[0m\u001b[0;34m\u001b[0m\u001b[0;34m\u001b[0m\u001b[0m\n\u001b[0;32m-> 2908\u001b[0;31m             \u001b[0mindexer\u001b[0m \u001b[0;34m=\u001b[0m \u001b[0mself\u001b[0m\u001b[0;34m.\u001b[0m\u001b[0mloc\u001b[0m\u001b[0;34m.\u001b[0m\u001b[0m_get_listlike_indexer\u001b[0m\u001b[0;34m(\u001b[0m\u001b[0mkey\u001b[0m\u001b[0;34m,\u001b[0m \u001b[0maxis\u001b[0m\u001b[0;34m=\u001b[0m\u001b[0;36m1\u001b[0m\u001b[0;34m,\u001b[0m \u001b[0mraise_missing\u001b[0m\u001b[0;34m=\u001b[0m\u001b[0;32mTrue\u001b[0m\u001b[0;34m)\u001b[0m\u001b[0;34m[\u001b[0m\u001b[0;36m1\u001b[0m\u001b[0;34m]\u001b[0m\u001b[0;34m\u001b[0m\u001b[0;34m\u001b[0m\u001b[0m\n\u001b[0m\u001b[1;32m   2909\u001b[0m \u001b[0;34m\u001b[0m\u001b[0m\n\u001b[1;32m   2910\u001b[0m         \u001b[0;31m# take() does not accept boolean indexers\u001b[0m\u001b[0;34m\u001b[0m\u001b[0;34m\u001b[0m\u001b[0;34m\u001b[0m\u001b[0m\n",
      "\u001b[0;32m~/opt/anaconda3/lib/python3.8/site-packages/pandas/core/indexing.py\u001b[0m in \u001b[0;36m_get_listlike_indexer\u001b[0;34m(self, key, axis, raise_missing)\u001b[0m\n\u001b[1;32m   1252\u001b[0m             \u001b[0mkeyarr\u001b[0m\u001b[0;34m,\u001b[0m \u001b[0mindexer\u001b[0m\u001b[0;34m,\u001b[0m \u001b[0mnew_indexer\u001b[0m \u001b[0;34m=\u001b[0m \u001b[0max\u001b[0m\u001b[0;34m.\u001b[0m\u001b[0m_reindex_non_unique\u001b[0m\u001b[0;34m(\u001b[0m\u001b[0mkeyarr\u001b[0m\u001b[0;34m)\u001b[0m\u001b[0;34m\u001b[0m\u001b[0;34m\u001b[0m\u001b[0m\n\u001b[1;32m   1253\u001b[0m \u001b[0;34m\u001b[0m\u001b[0m\n\u001b[0;32m-> 1254\u001b[0;31m         \u001b[0mself\u001b[0m\u001b[0;34m.\u001b[0m\u001b[0m_validate_read_indexer\u001b[0m\u001b[0;34m(\u001b[0m\u001b[0mkeyarr\u001b[0m\u001b[0;34m,\u001b[0m \u001b[0mindexer\u001b[0m\u001b[0;34m,\u001b[0m \u001b[0maxis\u001b[0m\u001b[0;34m,\u001b[0m \u001b[0mraise_missing\u001b[0m\u001b[0;34m=\u001b[0m\u001b[0mraise_missing\u001b[0m\u001b[0;34m)\u001b[0m\u001b[0;34m\u001b[0m\u001b[0;34m\u001b[0m\u001b[0m\n\u001b[0m\u001b[1;32m   1255\u001b[0m         \u001b[0;32mreturn\u001b[0m \u001b[0mkeyarr\u001b[0m\u001b[0;34m,\u001b[0m \u001b[0mindexer\u001b[0m\u001b[0;34m\u001b[0m\u001b[0;34m\u001b[0m\u001b[0m\n\u001b[1;32m   1256\u001b[0m \u001b[0;34m\u001b[0m\u001b[0m\n",
      "\u001b[0;32m~/opt/anaconda3/lib/python3.8/site-packages/pandas/core/indexing.py\u001b[0m in \u001b[0;36m_validate_read_indexer\u001b[0;34m(self, key, indexer, axis, raise_missing)\u001b[0m\n\u001b[1;32m   1302\u001b[0m             \u001b[0;32mif\u001b[0m \u001b[0mraise_missing\u001b[0m\u001b[0;34m:\u001b[0m\u001b[0;34m\u001b[0m\u001b[0;34m\u001b[0m\u001b[0m\n\u001b[1;32m   1303\u001b[0m                 \u001b[0mnot_found\u001b[0m \u001b[0;34m=\u001b[0m \u001b[0mlist\u001b[0m\u001b[0;34m(\u001b[0m\u001b[0mset\u001b[0m\u001b[0;34m(\u001b[0m\u001b[0mkey\u001b[0m\u001b[0;34m)\u001b[0m \u001b[0;34m-\u001b[0m \u001b[0mset\u001b[0m\u001b[0;34m(\u001b[0m\u001b[0max\u001b[0m\u001b[0;34m)\u001b[0m\u001b[0;34m)\u001b[0m\u001b[0;34m\u001b[0m\u001b[0;34m\u001b[0m\u001b[0m\n\u001b[0;32m-> 1304\u001b[0;31m                 \u001b[0;32mraise\u001b[0m \u001b[0mKeyError\u001b[0m\u001b[0;34m(\u001b[0m\u001b[0;34mf\"{not_found} not in index\"\u001b[0m\u001b[0;34m)\u001b[0m\u001b[0;34m\u001b[0m\u001b[0;34m\u001b[0m\u001b[0m\n\u001b[0m\u001b[1;32m   1305\u001b[0m \u001b[0;34m\u001b[0m\u001b[0m\n\u001b[1;32m   1306\u001b[0m             \u001b[0;31m# we skip the warning on Categorical\u001b[0m\u001b[0;34m\u001b[0m\u001b[0;34m\u001b[0m\u001b[0;34m\u001b[0m\u001b[0m\n",
      "\u001b[0;31mKeyError\u001b[0m: \"['County'] not in index\""
     ]
    }
   ],
   "source": [
    "#Month,Year,County,Med_Sales,Rec_Sales,Med_Blank_Code,Rec_Blank_Code,ID\n",
    "#state_sales_tax_rev_clean = df[['Month', 'Year', 'County']]#, 'Med_Sales', 'Rec_Sales']]"
   ]
  },
  {
   "cell_type": "code",
   "execution_count": 23,
   "metadata": {},
   "outputs": [
    {
     "output_type": "execute_result",
     "data": {
      "text/plain": [
       "      Month  Year      County  Med_Tax_Rev  Rec_Tax_Rev  \\\n",
       "0         8  2019       Adams      17037.0          NaN   \n",
       "1         8  2019     Alamosa          NaN          NaN   \n",
       "2         8  2019    Arapahoe      24256.0          NaN   \n",
       "3         8  2019     Boulder      33557.0          NaN   \n",
       "4         8  2019     Chaffee          NaN          NaN   \n",
       "...     ...   ...         ...          ...          ...   \n",
       "2690      9  2020  Las Animas       1051.0          NaN   \n",
       "2691      9  2020   Jefferson      49815.0          NaN   \n",
       "2692      9  2020      Custer          NaN          NaN   \n",
       "2693      9  2020     Chaffee          NaN          NaN   \n",
       "2694      9  2020        Bent          NaN          NaN   \n",
       "\n",
       "     Med_RemainderOfState_Counties Rec_RemainderOfState_Counties  \\\n",
       "0                              NaN                           NaN   \n",
       "1                              NaN                           NaN   \n",
       "2                              NaN                           NaN   \n",
       "3                              NaN                           NaN   \n",
       "4                              NaN                           NaN   \n",
       "...                            ...                           ...   \n",
       "2690                           NaN                           NaN   \n",
       "2691                           NaN                           NaN   \n",
       "2692                           NaN                           NaN   \n",
       "2693                           NaN                           NaN   \n",
       "2694                           NaN                           NaN   \n",
       "\n",
       "     Med_Blank_Code Rec_Blank_Code               ID  \n",
       "0               NaN            NaN       82019Adams  \n",
       "1                NR            NaN     82019Alamosa  \n",
       "2               NaN            NaN    82019Arapahoe  \n",
       "3               NaN            NaN     82019Boulder  \n",
       "4                NR            NaN     82019Chaffee  \n",
       "...             ...            ...              ...  \n",
       "2690            NaN            NaN  92020Las Animas  \n",
       "2691            NaN            NaN   92020Jefferson  \n",
       "2692            NaN            NaN      92020Custer  \n",
       "2693             NR            NaN     92020Chaffee  \n",
       "2694            NaN            NaN        92020Bent  \n",
       "\n",
       "[2695 rows x 10 columns]"
      ],
      "text/html": "<div>\n<style scoped>\n    .dataframe tbody tr th:only-of-type {\n        vertical-align: middle;\n    }\n\n    .dataframe tbody tr th {\n        vertical-align: top;\n    }\n\n    .dataframe thead th {\n        text-align: right;\n    }\n</style>\n<table border=\"1\" class=\"dataframe\">\n  <thead>\n    <tr style=\"text-align: right;\">\n      <th></th>\n      <th>Month</th>\n      <th>Year</th>\n      <th>County</th>\n      <th>Med_Tax_Rev</th>\n      <th>Rec_Tax_Rev</th>\n      <th>Med_RemainderOfState_Counties</th>\n      <th>Rec_RemainderOfState_Counties</th>\n      <th>Med_Blank_Code</th>\n      <th>Rec_Blank_Code</th>\n      <th>ID</th>\n    </tr>\n  </thead>\n  <tbody>\n    <tr>\n      <th>0</th>\n      <td>8</td>\n      <td>2019</td>\n      <td>Adams</td>\n      <td>17037.0</td>\n      <td>NaN</td>\n      <td>NaN</td>\n      <td>NaN</td>\n      <td>NaN</td>\n      <td>NaN</td>\n      <td>82019Adams</td>\n    </tr>\n    <tr>\n      <th>1</th>\n      <td>8</td>\n      <td>2019</td>\n      <td>Alamosa</td>\n      <td>NaN</td>\n      <td>NaN</td>\n      <td>NaN</td>\n      <td>NaN</td>\n      <td>NR</td>\n      <td>NaN</td>\n      <td>82019Alamosa</td>\n    </tr>\n    <tr>\n      <th>2</th>\n      <td>8</td>\n      <td>2019</td>\n      <td>Arapahoe</td>\n      <td>24256.0</td>\n      <td>NaN</td>\n      <td>NaN</td>\n      <td>NaN</td>\n      <td>NaN</td>\n      <td>NaN</td>\n      <td>82019Arapahoe</td>\n    </tr>\n    <tr>\n      <th>3</th>\n      <td>8</td>\n      <td>2019</td>\n      <td>Boulder</td>\n      <td>33557.0</td>\n      <td>NaN</td>\n      <td>NaN</td>\n      <td>NaN</td>\n      <td>NaN</td>\n      <td>NaN</td>\n      <td>82019Boulder</td>\n    </tr>\n    <tr>\n      <th>4</th>\n      <td>8</td>\n      <td>2019</td>\n      <td>Chaffee</td>\n      <td>NaN</td>\n      <td>NaN</td>\n      <td>NaN</td>\n      <td>NaN</td>\n      <td>NR</td>\n      <td>NaN</td>\n      <td>82019Chaffee</td>\n    </tr>\n    <tr>\n      <th>...</th>\n      <td>...</td>\n      <td>...</td>\n      <td>...</td>\n      <td>...</td>\n      <td>...</td>\n      <td>...</td>\n      <td>...</td>\n      <td>...</td>\n      <td>...</td>\n      <td>...</td>\n    </tr>\n    <tr>\n      <th>2690</th>\n      <td>9</td>\n      <td>2020</td>\n      <td>Las Animas</td>\n      <td>1051.0</td>\n      <td>NaN</td>\n      <td>NaN</td>\n      <td>NaN</td>\n      <td>NaN</td>\n      <td>NaN</td>\n      <td>92020Las Animas</td>\n    </tr>\n    <tr>\n      <th>2691</th>\n      <td>9</td>\n      <td>2020</td>\n      <td>Jefferson</td>\n      <td>49815.0</td>\n      <td>NaN</td>\n      <td>NaN</td>\n      <td>NaN</td>\n      <td>NaN</td>\n      <td>NaN</td>\n      <td>92020Jefferson</td>\n    </tr>\n    <tr>\n      <th>2692</th>\n      <td>9</td>\n      <td>2020</td>\n      <td>Custer</td>\n      <td>NaN</td>\n      <td>NaN</td>\n      <td>NaN</td>\n      <td>NaN</td>\n      <td>NaN</td>\n      <td>NaN</td>\n      <td>92020Custer</td>\n    </tr>\n    <tr>\n      <th>2693</th>\n      <td>9</td>\n      <td>2020</td>\n      <td>Chaffee</td>\n      <td>NaN</td>\n      <td>NaN</td>\n      <td>NaN</td>\n      <td>NaN</td>\n      <td>NR</td>\n      <td>NaN</td>\n      <td>92020Chaffee</td>\n    </tr>\n    <tr>\n      <th>2694</th>\n      <td>9</td>\n      <td>2020</td>\n      <td>Bent</td>\n      <td>NaN</td>\n      <td>NaN</td>\n      <td>NaN</td>\n      <td>NaN</td>\n      <td>NaN</td>\n      <td>NaN</td>\n      <td>92020Bent</td>\n    </tr>\n  </tbody>\n</table>\n<p>2695 rows × 10 columns</p>\n</div>"
     },
     "metadata": {},
     "execution_count": 23
    }
   ],
   "source": [
    "state_sales_tax_rev = pd.read_csv(\"rawdata/James-State-Sales-Tax-Revenue-from-Marijuana-Colorado.csv\")\n",
    "state_sales_tax_rev"
   ]
  },
  {
   "cell_type": "code",
   "execution_count": 25,
   "metadata": {},
   "outputs": [
    {
     "output_type": "error",
     "ename": "KeyError",
     "evalue": "\"['County', 'Med_Tax_Rev'] not in index\"",
     "traceback": [
      "\u001b[0;31m---------------------------------------------------------------------------\u001b[0m",
      "\u001b[0;31mKeyError\u001b[0m                                  Traceback (most recent call last)",
      "\u001b[0;32m<ipython-input-25-4046cff61da9>\u001b[0m in \u001b[0;36m<module>\u001b[0;34m\u001b[0m\n\u001b[0;32m----> 1\u001b[0;31m \u001b[0mstate_sales_tax_rev_clean\u001b[0m \u001b[0;34m=\u001b[0m \u001b[0mdf\u001b[0m\u001b[0;34m[\u001b[0m\u001b[0;34m[\u001b[0m\u001b[0;34m'Month'\u001b[0m\u001b[0;34m,\u001b[0m \u001b[0;34m'Year'\u001b[0m\u001b[0;34m,\u001b[0m \u001b[0;34m'County'\u001b[0m\u001b[0;34m,\u001b[0m \u001b[0;34m'Med_Tax_Rev'\u001b[0m\u001b[0;34m]\u001b[0m\u001b[0;34m]\u001b[0m\u001b[0;34m\u001b[0m\u001b[0;34m\u001b[0m\u001b[0m\n\u001b[0m",
      "\u001b[0;32m~/opt/anaconda3/lib/python3.8/site-packages/pandas/core/frame.py\u001b[0m in \u001b[0;36m__getitem__\u001b[0;34m(self, key)\u001b[0m\n\u001b[1;32m   2906\u001b[0m             \u001b[0;32mif\u001b[0m \u001b[0mis_iterator\u001b[0m\u001b[0;34m(\u001b[0m\u001b[0mkey\u001b[0m\u001b[0;34m)\u001b[0m\u001b[0;34m:\u001b[0m\u001b[0;34m\u001b[0m\u001b[0;34m\u001b[0m\u001b[0m\n\u001b[1;32m   2907\u001b[0m                 \u001b[0mkey\u001b[0m \u001b[0;34m=\u001b[0m \u001b[0mlist\u001b[0m\u001b[0;34m(\u001b[0m\u001b[0mkey\u001b[0m\u001b[0;34m)\u001b[0m\u001b[0;34m\u001b[0m\u001b[0;34m\u001b[0m\u001b[0m\n\u001b[0;32m-> 2908\u001b[0;31m             \u001b[0mindexer\u001b[0m \u001b[0;34m=\u001b[0m \u001b[0mself\u001b[0m\u001b[0;34m.\u001b[0m\u001b[0mloc\u001b[0m\u001b[0;34m.\u001b[0m\u001b[0m_get_listlike_indexer\u001b[0m\u001b[0;34m(\u001b[0m\u001b[0mkey\u001b[0m\u001b[0;34m,\u001b[0m \u001b[0maxis\u001b[0m\u001b[0;34m=\u001b[0m\u001b[0;36m1\u001b[0m\u001b[0;34m,\u001b[0m \u001b[0mraise_missing\u001b[0m\u001b[0;34m=\u001b[0m\u001b[0;32mTrue\u001b[0m\u001b[0;34m)\u001b[0m\u001b[0;34m[\u001b[0m\u001b[0;36m1\u001b[0m\u001b[0;34m]\u001b[0m\u001b[0;34m\u001b[0m\u001b[0;34m\u001b[0m\u001b[0m\n\u001b[0m\u001b[1;32m   2909\u001b[0m \u001b[0;34m\u001b[0m\u001b[0m\n\u001b[1;32m   2910\u001b[0m         \u001b[0;31m# take() does not accept boolean indexers\u001b[0m\u001b[0;34m\u001b[0m\u001b[0;34m\u001b[0m\u001b[0;34m\u001b[0m\u001b[0m\n",
      "\u001b[0;32m~/opt/anaconda3/lib/python3.8/site-packages/pandas/core/indexing.py\u001b[0m in \u001b[0;36m_get_listlike_indexer\u001b[0;34m(self, key, axis, raise_missing)\u001b[0m\n\u001b[1;32m   1252\u001b[0m             \u001b[0mkeyarr\u001b[0m\u001b[0;34m,\u001b[0m \u001b[0mindexer\u001b[0m\u001b[0;34m,\u001b[0m \u001b[0mnew_indexer\u001b[0m \u001b[0;34m=\u001b[0m \u001b[0max\u001b[0m\u001b[0;34m.\u001b[0m\u001b[0m_reindex_non_unique\u001b[0m\u001b[0;34m(\u001b[0m\u001b[0mkeyarr\u001b[0m\u001b[0;34m)\u001b[0m\u001b[0;34m\u001b[0m\u001b[0;34m\u001b[0m\u001b[0m\n\u001b[1;32m   1253\u001b[0m \u001b[0;34m\u001b[0m\u001b[0m\n\u001b[0;32m-> 1254\u001b[0;31m         \u001b[0mself\u001b[0m\u001b[0;34m.\u001b[0m\u001b[0m_validate_read_indexer\u001b[0m\u001b[0;34m(\u001b[0m\u001b[0mkeyarr\u001b[0m\u001b[0;34m,\u001b[0m \u001b[0mindexer\u001b[0m\u001b[0;34m,\u001b[0m \u001b[0maxis\u001b[0m\u001b[0;34m,\u001b[0m \u001b[0mraise_missing\u001b[0m\u001b[0;34m=\u001b[0m\u001b[0mraise_missing\u001b[0m\u001b[0;34m)\u001b[0m\u001b[0;34m\u001b[0m\u001b[0;34m\u001b[0m\u001b[0m\n\u001b[0m\u001b[1;32m   1255\u001b[0m         \u001b[0;32mreturn\u001b[0m \u001b[0mkeyarr\u001b[0m\u001b[0;34m,\u001b[0m \u001b[0mindexer\u001b[0m\u001b[0;34m\u001b[0m\u001b[0;34m\u001b[0m\u001b[0m\n\u001b[1;32m   1256\u001b[0m \u001b[0;34m\u001b[0m\u001b[0m\n",
      "\u001b[0;32m~/opt/anaconda3/lib/python3.8/site-packages/pandas/core/indexing.py\u001b[0m in \u001b[0;36m_validate_read_indexer\u001b[0;34m(self, key, indexer, axis, raise_missing)\u001b[0m\n\u001b[1;32m   1302\u001b[0m             \u001b[0;32mif\u001b[0m \u001b[0mraise_missing\u001b[0m\u001b[0;34m:\u001b[0m\u001b[0;34m\u001b[0m\u001b[0;34m\u001b[0m\u001b[0m\n\u001b[1;32m   1303\u001b[0m                 \u001b[0mnot_found\u001b[0m \u001b[0;34m=\u001b[0m \u001b[0mlist\u001b[0m\u001b[0;34m(\u001b[0m\u001b[0mset\u001b[0m\u001b[0;34m(\u001b[0m\u001b[0mkey\u001b[0m\u001b[0;34m)\u001b[0m \u001b[0;34m-\u001b[0m \u001b[0mset\u001b[0m\u001b[0;34m(\u001b[0m\u001b[0max\u001b[0m\u001b[0;34m)\u001b[0m\u001b[0;34m)\u001b[0m\u001b[0;34m\u001b[0m\u001b[0;34m\u001b[0m\u001b[0m\n\u001b[0;32m-> 1304\u001b[0;31m                 \u001b[0;32mraise\u001b[0m \u001b[0mKeyError\u001b[0m\u001b[0;34m(\u001b[0m\u001b[0;34mf\"{not_found} not in index\"\u001b[0m\u001b[0;34m)\u001b[0m\u001b[0;34m\u001b[0m\u001b[0;34m\u001b[0m\u001b[0m\n\u001b[0m\u001b[1;32m   1305\u001b[0m \u001b[0;34m\u001b[0m\u001b[0m\n\u001b[1;32m   1306\u001b[0m             \u001b[0;31m# we skip the warning on Categorical\u001b[0m\u001b[0;34m\u001b[0m\u001b[0;34m\u001b[0m\u001b[0;34m\u001b[0m\u001b[0m\n",
      "\u001b[0;31mKeyError\u001b[0m: \"['County', 'Med_Tax_Rev'] not in index\""
     ]
    }
   ],
   "source": [
    "state_sales_tax_rev_clean = df[['Month', 'Year', 'County', 'Med_Tax_Rev']]"
   ]
  },
  {
   "cell_type": "code",
   "execution_count": null,
   "metadata": {},
   "outputs": [],
   "source": []
  }
 ]
}