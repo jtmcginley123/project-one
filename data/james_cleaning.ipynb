{
 "metadata": {
  "language_info": {
   "codemirror_mode": {
    "name": "ipython",
    "version": 3
   },
   "file_extension": ".py",
   "mimetype": "text/x-python",
   "name": "python",
   "nbconvert_exporter": "python",
   "pygments_lexer": "ipython3",
   "version": "3.8.3-final"
  },
  "orig_nbformat": 2,
  "kernelspec": {
   "name": "Python 3.8.3 64-bit ('base': conda)",
   "display_name": "Python 3.8.3 64-bit ('base': conda)",
   "metadata": {
    "interpreter": {
     "hash": "dca0ade3e726a953b501b15e8e990130d2b7799f14cfd9f4271676035ebe5511"
    }
   }
  }
 },
 "nbformat": 4,
 "nbformat_minor": 2,
 "cells": [
  {
   "cell_type": "code",
   "execution_count": 1,
   "metadata": {},
   "outputs": [
    {
     "output_type": "execute_result",
     "data": {
      "text/plain": [
       "         Fips   County\n",
       "0        08001   Adams\n",
       "1      08003   Alamosa\n",
       "2     08005   Arapahoe\n",
       "3    08007   Archuleta\n",
       "4         08009   Baca\n",
       "..                 ...\n",
       "58      08117   Summit\n",
       "59      08119   Teller\n",
       "60  08121   Washington\n",
       "61        08123   Weld\n",
       "62        08125   Yuma\n",
       "\n",
       "[63 rows x 1 columns]"
      ],
      "text/html": "<div>\n<style scoped>\n    .dataframe tbody tr th:only-of-type {\n        vertical-align: middle;\n    }\n\n    .dataframe tbody tr th {\n        vertical-align: top;\n    }\n\n    .dataframe thead th {\n        text-align: right;\n    }\n</style>\n<table border=\"1\" class=\"dataframe\">\n  <thead>\n    <tr style=\"text-align: right;\">\n      <th></th>\n      <th>Fips   County</th>\n    </tr>\n  </thead>\n  <tbody>\n    <tr>\n      <th>0</th>\n      <td>08001   Adams</td>\n    </tr>\n    <tr>\n      <th>1</th>\n      <td>08003   Alamosa</td>\n    </tr>\n    <tr>\n      <th>2</th>\n      <td>08005   Arapahoe</td>\n    </tr>\n    <tr>\n      <th>3</th>\n      <td>08007   Archuleta</td>\n    </tr>\n    <tr>\n      <th>4</th>\n      <td>08009   Baca</td>\n    </tr>\n    <tr>\n      <th>...</th>\n      <td>...</td>\n    </tr>\n    <tr>\n      <th>58</th>\n      <td>08117   Summit</td>\n    </tr>\n    <tr>\n      <th>59</th>\n      <td>08119   Teller</td>\n    </tr>\n    <tr>\n      <th>60</th>\n      <td>08121   Washington</td>\n    </tr>\n    <tr>\n      <th>61</th>\n      <td>08123   Weld</td>\n    </tr>\n    <tr>\n      <th>62</th>\n      <td>08125   Yuma</td>\n    </tr>\n  </tbody>\n</table>\n<p>63 rows × 1 columns</p>\n</div>"
     },
     "metadata": {},
     "execution_count": 1
    }
   ],
   "source": [
    "# Imports\n",
    "import os\n",
    "import csv\n",
    "import pandas as pd \n",
    "from pathlib import Path\n",
    "\n",
    "# Set the path for the csv file\n",
    "csvpath = os.path.join('rawdata/James-CO-FIPS.tsv')\n",
    "\n",
    "# Open the csv\n",
    "with open(csvpath, newline=\"\", encoding='utf8', errors='ignore') as csvfile:\n",
    "    csvreader = pd.read_csv(csvfile, delimiter=\"\\t\")\n",
    "\n",
    "# Create FIPS dataframe - FIPS is used from US Census as the county code\n",
    "fips = pd.DataFrame(csvreader)\n",
    "fips\n",
    "\n",
    "\n"
   ]
  },
  {
   "cell_type": "code",
   "execution_count": 2,
   "metadata": {},
   "outputs": [],
   "source": [
    "#Import file\n",
    "sales_rev = pd.read_csv(\"rawdata/James-Marijuana-Sales-Revenue-Colorado.csv\")\n",
    "sales_rev = sales_rev.sort_values(by=['Year'])\n",
    "\n",
    "#Changed NaN to 0 **State this in findings/presentation/dashboard\n",
    "sales_rev['Med_Sales'] = sales_rev['Med_Sales'].fillna(0)\n",
    "sales_rev['Rec_Sales'] = sales_rev['Rec_Sales'].fillna(0)\n",
    "sales_rev_clean = sales_rev[['Year', 'County', 'Med_Sales', 'Rec_Sales']]\n",
    "\n",
    "#sales_fips_merged = pd.merge(left=sales_rev_clean, right=fips, how='left', left_on='County', right_on='County')\n",
    "# In this case `species_id` is the only column name in  both dataframes, so if we skipped `left_on`\n",
    "# And `right_on` arguments we would still get the same result\n",
    "#m#erged_left = pd.merge(left=survey_sub, right=species_sub, how='left', left_on='species_id', right_on='species_id')\n",
    "#merged_left\n",
    "# What's the size of the output data?\n",
    "#sales_fips_merged.shape\n",
    "#sales_fips_merged\n",
    "\n",
    "\n",
    "#sales_rev_clean = sales_rev_clean.append(fips)\n",
    "#In [13]: result = df1.append(df2)\n",
    "#sales_rev_clean"
   ]
  },
  {
   "cell_type": "code",
   "execution_count": 3,
   "metadata": {},
   "outputs": [
    {
     "output_type": "execute_result",
     "data": {
      "text/plain": [
       "                  Med_Sales   Rec_Sales\n",
       "Year County                            \n",
       "2014 Adams        5781889.0   2749908.0\n",
       "     Alamosa            0.0         0.0\n",
       "     Arapahoe    16861284.0   2221928.0\n",
       "     Archuleta          0.0         0.0\n",
       "     Baca               0.0         0.0\n",
       "...                     ...         ...\n",
       "2020 Summit             0.0  18189436.0\n",
       "     Teller             0.0         0.0\n",
       "     Washington         0.0         0.0\n",
       "     Weld         2407512.0  21840133.0\n",
       "     Yuma               0.0         0.0\n",
       "\n",
       "[450 rows x 2 columns]"
      ],
      "text/html": "<div>\n<style scoped>\n    .dataframe tbody tr th:only-of-type {\n        vertical-align: middle;\n    }\n\n    .dataframe tbody tr th {\n        vertical-align: top;\n    }\n\n    .dataframe thead th {\n        text-align: right;\n    }\n</style>\n<table border=\"1\" class=\"dataframe\">\n  <thead>\n    <tr style=\"text-align: right;\">\n      <th></th>\n      <th></th>\n      <th>Med_Sales</th>\n      <th>Rec_Sales</th>\n    </tr>\n    <tr>\n      <th>Year</th>\n      <th>County</th>\n      <th></th>\n      <th></th>\n    </tr>\n  </thead>\n  <tbody>\n    <tr>\n      <th rowspan=\"5\" valign=\"top\">2014</th>\n      <th>Adams</th>\n      <td>5781889.0</td>\n      <td>2749908.0</td>\n    </tr>\n    <tr>\n      <th>Alamosa</th>\n      <td>0.0</td>\n      <td>0.0</td>\n    </tr>\n    <tr>\n      <th>Arapahoe</th>\n      <td>16861284.0</td>\n      <td>2221928.0</td>\n    </tr>\n    <tr>\n      <th>Archuleta</th>\n      <td>0.0</td>\n      <td>0.0</td>\n    </tr>\n    <tr>\n      <th>Baca</th>\n      <td>0.0</td>\n      <td>0.0</td>\n    </tr>\n    <tr>\n      <th>...</th>\n      <th>...</th>\n      <td>...</td>\n      <td>...</td>\n    </tr>\n    <tr>\n      <th rowspan=\"5\" valign=\"top\">2020</th>\n      <th>Summit</th>\n      <td>0.0</td>\n      <td>18189436.0</td>\n    </tr>\n    <tr>\n      <th>Teller</th>\n      <td>0.0</td>\n      <td>0.0</td>\n    </tr>\n    <tr>\n      <th>Washington</th>\n      <td>0.0</td>\n      <td>0.0</td>\n    </tr>\n    <tr>\n      <th>Weld</th>\n      <td>2407512.0</td>\n      <td>21840133.0</td>\n    </tr>\n    <tr>\n      <th>Yuma</th>\n      <td>0.0</td>\n      <td>0.0</td>\n    </tr>\n  </tbody>\n</table>\n<p>450 rows × 2 columns</p>\n</div>"
     },
     "metadata": {},
     "execution_count": 3
    }
   ],
   "source": [
    "#Group data by year, then county, and add up the med sales and rec sales -- could not get rec sales out of scientific notation\n",
    "#sales_rev_clean.dtypes\n",
    "sales_rev_clean.groupby(['Year', 'County']).sum()\n",
    "\n"
   ]
  },
  {
   "cell_type": "code",
   "execution_count": 4,
   "metadata": {},
   "outputs": [
    {
     "output_type": "execute_result",
     "data": {
      "text/plain": [
       "Year           int64\n",
       "County        object\n",
       "Med_Sales    float64\n",
       "Rec_Sales    float64\n",
       "dtype: object"
      ]
     },
     "metadata": {},
     "execution_count": 4
    }
   ],
   "source": [
    "sales_rev_clean.dtypes"
   ]
  },
  {
   "cell_type": "code",
   "execution_count": 5,
   "metadata": {},
   "outputs": [],
   "source": [
    "#Create clean file\n",
    "sales_rev_clean.to_csv(\"cleandata/CO_Cannabis_Sales_Revenue.csv\", index=False)"
   ]
  },
  {
   "cell_type": "code",
   "execution_count": 6,
   "metadata": {},
   "outputs": [
    {
     "output_type": "execute_result",
     "data": {
      "text/plain": [
       "                  Med_Tax_Rev  Rec_Tax_Rev\n",
       "Year County                               \n",
       "2014 Adams           150247.0      38490.0\n",
       "     Arapahoe        333697.0      23467.0\n",
       "     Boulder         895194.0     622487.0\n",
       "     Chaffee          15178.0          0.0\n",
       "     Clear Creek      33243.0     116133.0\n",
       "...                       ...          ...\n",
       "2020 Summit               0.0          0.0\n",
       "     Teller               0.0          0.0\n",
       "     Washington           0.0          0.0\n",
       "     Weld             81547.0          0.0\n",
       "     Yuma                 0.0          0.0\n",
       "\n",
       "[296 rows x 2 columns]"
      ],
      "text/html": "<div>\n<style scoped>\n    .dataframe tbody tr th:only-of-type {\n        vertical-align: middle;\n    }\n\n    .dataframe tbody tr th {\n        vertical-align: top;\n    }\n\n    .dataframe thead th {\n        text-align: right;\n    }\n</style>\n<table border=\"1\" class=\"dataframe\">\n  <thead>\n    <tr style=\"text-align: right;\">\n      <th></th>\n      <th></th>\n      <th>Med_Tax_Rev</th>\n      <th>Rec_Tax_Rev</th>\n    </tr>\n    <tr>\n      <th>Year</th>\n      <th>County</th>\n      <th></th>\n      <th></th>\n    </tr>\n  </thead>\n  <tbody>\n    <tr>\n      <th rowspan=\"5\" valign=\"top\">2014</th>\n      <th>Adams</th>\n      <td>150247.0</td>\n      <td>38490.0</td>\n    </tr>\n    <tr>\n      <th>Arapahoe</th>\n      <td>333697.0</td>\n      <td>23467.0</td>\n    </tr>\n    <tr>\n      <th>Boulder</th>\n      <td>895194.0</td>\n      <td>622487.0</td>\n    </tr>\n    <tr>\n      <th>Chaffee</th>\n      <td>15178.0</td>\n      <td>0.0</td>\n    </tr>\n    <tr>\n      <th>Clear Creek</th>\n      <td>33243.0</td>\n      <td>116133.0</td>\n    </tr>\n    <tr>\n      <th>...</th>\n      <th>...</th>\n      <td>...</td>\n      <td>...</td>\n    </tr>\n    <tr>\n      <th rowspan=\"5\" valign=\"top\">2020</th>\n      <th>Summit</th>\n      <td>0.0</td>\n      <td>0.0</td>\n    </tr>\n    <tr>\n      <th>Teller</th>\n      <td>0.0</td>\n      <td>0.0</td>\n    </tr>\n    <tr>\n      <th>Washington</th>\n      <td>0.0</td>\n      <td>0.0</td>\n    </tr>\n    <tr>\n      <th>Weld</th>\n      <td>81547.0</td>\n      <td>0.0</td>\n    </tr>\n    <tr>\n      <th>Yuma</th>\n      <td>0.0</td>\n      <td>0.0</td>\n    </tr>\n  </tbody>\n</table>\n<p>296 rows × 2 columns</p>\n</div>"
     },
     "metadata": {},
     "execution_count": 6
    }
   ],
   "source": [
    "#Import file\n",
    "tax_rev = pd.read_csv(\"rawdata/James-State-Sales-Tax-Revenue-from-Marijuana-Colorado.csv\")\n",
    "tax_rev = tax_rev.sort_values(by=['Year'])\n",
    "\n",
    "#Changed NaN to 0 **State this in findings/presentation/dashboard\n",
    "tax_rev['Med_Tax_Rev'] = tax_rev['Med_Tax_Rev'].fillna(0)\n",
    "tax_rev['Rec_Tax_Rev'] = tax_rev['Rec_Tax_Rev'].fillna(0)\n",
    "\n",
    "tax_rev_clean = tax_rev[['Year', 'County', 'Med_Tax_Rev', 'Rec_Tax_Rev']]\n",
    "tax_rev_clean = tax_rev_clean.groupby(['Year','County']).sum()\n",
    "\n",
    "tax_rev_clean"
   ]
  },
  {
   "cell_type": "code",
   "execution_count": 7,
   "metadata": {},
   "outputs": [
    {
     "output_type": "execute_result",
     "data": {
      "text/plain": [
       "                  Med_Tax_Rev  Rec_Tax_Rev\n",
       "Year County                               \n",
       "2014 Adams           150247.0      38490.0\n",
       "     Arapahoe        333697.0      23467.0\n",
       "     Boulder         895194.0     622487.0\n",
       "     Chaffee          15178.0          0.0\n",
       "     Clear Creek      33243.0     116133.0\n",
       "...                       ...          ...\n",
       "2020 Summit               0.0          0.0\n",
       "     Teller               0.0          0.0\n",
       "     Washington           0.0          0.0\n",
       "     Weld             81547.0          0.0\n",
       "     Yuma                 0.0          0.0\n",
       "\n",
       "[296 rows x 2 columns]"
      ],
      "text/html": "<div>\n<style scoped>\n    .dataframe tbody tr th:only-of-type {\n        vertical-align: middle;\n    }\n\n    .dataframe tbody tr th {\n        vertical-align: top;\n    }\n\n    .dataframe thead th {\n        text-align: right;\n    }\n</style>\n<table border=\"1\" class=\"dataframe\">\n  <thead>\n    <tr style=\"text-align: right;\">\n      <th></th>\n      <th></th>\n      <th>Med_Tax_Rev</th>\n      <th>Rec_Tax_Rev</th>\n    </tr>\n    <tr>\n      <th>Year</th>\n      <th>County</th>\n      <th></th>\n      <th></th>\n    </tr>\n  </thead>\n  <tbody>\n    <tr>\n      <th rowspan=\"5\" valign=\"top\">2014</th>\n      <th>Adams</th>\n      <td>150247.0</td>\n      <td>38490.0</td>\n    </tr>\n    <tr>\n      <th>Arapahoe</th>\n      <td>333697.0</td>\n      <td>23467.0</td>\n    </tr>\n    <tr>\n      <th>Boulder</th>\n      <td>895194.0</td>\n      <td>622487.0</td>\n    </tr>\n    <tr>\n      <th>Chaffee</th>\n      <td>15178.0</td>\n      <td>0.0</td>\n    </tr>\n    <tr>\n      <th>Clear Creek</th>\n      <td>33243.0</td>\n      <td>116133.0</td>\n    </tr>\n    <tr>\n      <th>...</th>\n      <th>...</th>\n      <td>...</td>\n      <td>...</td>\n    </tr>\n    <tr>\n      <th rowspan=\"5\" valign=\"top\">2020</th>\n      <th>Summit</th>\n      <td>0.0</td>\n      <td>0.0</td>\n    </tr>\n    <tr>\n      <th>Teller</th>\n      <td>0.0</td>\n      <td>0.0</td>\n    </tr>\n    <tr>\n      <th>Washington</th>\n      <td>0.0</td>\n      <td>0.0</td>\n    </tr>\n    <tr>\n      <th>Weld</th>\n      <td>81547.0</td>\n      <td>0.0</td>\n    </tr>\n    <tr>\n      <th>Yuma</th>\n      <td>0.0</td>\n      <td>0.0</td>\n    </tr>\n  </tbody>\n</table>\n<p>296 rows × 2 columns</p>\n</div>"
     },
     "metadata": {},
     "execution_count": 7
    }
   ],
   "source": [
    "tax_rev_clean = tax_rev_clean.groupby(['Year', 'County']).sum()\n",
    "tax_rev_clean"
   ]
  },
  {
   "cell_type": "code",
   "execution_count": 8,
   "metadata": {},
   "outputs": [],
   "source": [
    "#Create clean file\n",
    "tax_rev_clean.to_csv(\"cleandata/CO_Cannabis_Tax_Revenue.csv\", index=False)"
   ]
  },
  {
   "cell_type": "code",
   "execution_count": null,
   "metadata": {},
   "outputs": [],
   "source": []
  }
 ]
}