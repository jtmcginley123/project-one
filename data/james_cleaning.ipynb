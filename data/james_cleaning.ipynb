{
 "metadata": {
  "language_info": {
   "codemirror_mode": {
    "name": "ipython",
    "version": 3
   },
   "file_extension": ".py",
   "mimetype": "text/x-python",
   "name": "python",
   "nbconvert_exporter": "python",
   "pygments_lexer": "ipython3",
   "version": "3.7.7-final"
  },
  "orig_nbformat": 2,
  "kernelspec": {
   "name": "Python 3.7.7 64-bit ('pyvizenv': conda)",
   "display_name": "Python 3.7.7 64-bit ('pyvizenv': conda)",
   "metadata": {
    "interpreter": {
     "hash": "0301e634c1217bf99f62beb7219719ae24ede3b4b139bdd2d61be65c06ac4a7b"
    }
   }
  }
 },
 "nbformat": 4,
 "nbformat_minor": 2,
 "cells": [
  {
   "cell_type": "code",
   "execution_count": 119,
   "metadata": {},
   "outputs": [],
   "source": [
    "# Imports\n",
    "import pandas as pd \n",
    "import numpy as np\n",
    "import geocoder\n",
    "\n",
    "#https://data.colorado.gov/Revenue/State-Sales-Tax-Revenue-from-Marijuana-in-Colorado/3sm5-jtur\n",
    "\n",
    "#Dispensary Addresses in CO\n",
    "#dispensary_address = pd.read_csv(\"rawdata/James-Licensed-Marijuana-Businesses-Colorado.csv\")\n",
    "\n",
    "#dispensary_address = pd.read_csv(\"rawdata/James-Licensed-Marijuana-Businesses-Colorado.csv\")\n",
    "\n",
    "#dispensary_address.head()\n",
    "#Licensee,DBA,License_No,Street_Address,City,ZIP,Category,Month,Year,Certification\n",
    "\n",
    "#dispensary_address_clean = dispensary_address[['ZIP'[0:5]]]\n",
    "#dispensary_address_clean = dispensary_address[['Licensee', 'Street_Address', 'City', 'ZIP']]\n",
    "#dispensary_address_clean['ZIP']= dispensary_address_clean['ZIP'].astype('int')\n",
    "#dispensary_address_clean.head()\n",
    "#dispensary_address_clean.value_counts()\n",
    "#dispensary_address_clean.ZIP.unique()\n",
    "#dispensary_address_clean.isnull().sum(axis=0) #//gives me the number of is null for zip\n",
    "\n",
    "#dispensary_address_clean\n",
    "\n",
    "### find the zip codes and insert to complete data set\n",
    "\n",
    "\n",
    "##//\n",
    "#df_zip_proper = pandas.io.parsers.read_csv('zip/sample.csv', dtype={'zip': pandas.Categorical})\n",
    "#df_zip_proper\n",
    "\n",
    "###need to cut out the \".0\" at the end of the ZIP\n",
    "###need to use MapQuest api\n",
    "###set to remove .0 -- figure out - //set something like .0 gets blanked\n",
    "#dispensary_address_clean.dtypes\n"
   ]
  },
  {
   "cell_type": "code",
   "execution_count": 160,
   "metadata": {},
   "outputs": [
    {
     "output_type": "execute_result",
     "data": {
      "text/plain": [
       "<pandas.core.groupby.generic.DataFrameGroupBy object at 0x7fe0c7a0a7d0>"
      ]
     },
     "metadata": {},
     "execution_count": 160
    }
   ],
   "source": [
    "\n",
    "sales_rev = pd.read_csv(\"rawdata/James-Marijuana-Sales-Revenue-Colorado.csv\")\n",
    "sales_rev.head()\n",
    "#sales_rev.count()\n",
    "#sales_rev.isnull().mean() % 100\n",
    "\n",
    "#sales_rev['Med_Sales'] = sales_rev['Med_Sales'].replace(np.nan,'unknown')\n",
    "sales_rev['Med_Sales'] = sales_rev['Med_Sales'].fillna(0)\n",
    "sales_rev['Rec_Sales'] = sales_rev['Rec_Sales'].fillna(0)\n",
    "\n",
    "#replacing the nan turns the col into strings\n",
    "#sales_rev['Rec_Sales'] = sales_rev['Rec_Sales'].fillna('unknown')\n",
    "#sales_rev['Med_Sales'] = sales_rev['Med_Sales'].replace(0,\"unknown\")\n",
    "\n",
    "\n",
    "#MarijuanaArrests.groupby(['Arrest Year', 'County'])\n",
    "#df_tr = MarijuanaArrests.transpose()\n",
    "#df_tr.head(10)\n",
    "\n",
    "\n",
    "#sales_rev['Med_Sales'].fillna(0)\n",
    "sales_rev_clean = sales_rev[['Month', 'Year', 'County', 'Med_Sales', 'Rec_Sales']]\n",
    "#sales_rev_clean.groupby(['Month', 'Year'])\n",
    "\n",
    "#sales_rev_clean = sales_rev_clean.groupby(\"Month\")[\"Year\"]#.count()\n",
    "#sales_rev_clean = sales_rev_clean.groupby(\"County\").groups\n",
    "\n",
    "\n",
    "#grouped = sales_rev_clean.groupby('Year')\n",
    "#grouped['Med_Sales'].agg(np.mean)\n",
    "#grouped['Med_Sales'].agg(np.sum)\n",
    "\n",
    "#grouped = sales_rev_clean.groupby('Year','Med_Sales')\n",
    "#grouped['Med_Sales'].agg(np.mean)\n",
    "#grouped['Med_Sales'].agg(np.sum)\n",
    "\n",
    "#sum_df = df.groupby(['year','month']).agg({'score': 'sum', 'num_attempts': 'sum'})\n",
    "sum_df = sales_rev_clean.groupby(['Year','Month'])#.agg({'score': 'sum', 'num_attempts': 'sum'})\n",
    "sum_df\n",
    "#(\"{0:.2f}\".format(a)) \n",
    "#sales_rev_clean"
   ]
  },
  {
   "cell_type": "code",
   "execution_count": 159,
   "metadata": {},
   "outputs": [
    {
     "output_type": "error",
     "ename": "SyntaxError",
     "evalue": "unexpected EOF while parsing (<ipython-input-159-df97d8db2ccb>, line 1)",
     "traceback": [
      "\u001b[0;36m  File \u001b[0;32m\"<ipython-input-159-df97d8db2ccb>\"\u001b[0;36m, line \u001b[0;32m1\u001b[0m\n\u001b[0;31m    sales_rev_clean.groupby(['Year', 'Month']\u001b[0m\n\u001b[0m                                             ^\u001b[0m\n\u001b[0;31mSyntaxError\u001b[0m\u001b[0;31m:\u001b[0m unexpected EOF while parsing\n"
     ]
    }
   ],
   "source": [
    "sales_rev_clean.groupby(['Year', 'Month']\n"
   ]
  },
  {
   "cell_type": "code",
   "execution_count": null,
   "metadata": {},
   "outputs": [],
   "source": []
  },
  {
   "cell_type": "code",
   "execution_count": null,
   "metadata": {},
   "outputs": [],
   "source": []
  }
 ]
}