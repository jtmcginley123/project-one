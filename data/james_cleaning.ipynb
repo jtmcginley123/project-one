{
 "metadata": {
  "language_info": {
   "codemirror_mode": {
    "name": "ipython",
    "version": 3
   },
   "file_extension": ".py",
   "mimetype": "text/x-python",
   "name": "python",
   "nbconvert_exporter": "python",
   "pygments_lexer": "ipython3",
   "version": "3.7.7-final"
  },
  "orig_nbformat": 2,
  "kernelspec": {
   "name": "Python 3.7.7 64-bit ('pyvizenv': conda)",
   "display_name": "Python 3.7.7 64-bit ('pyvizenv': conda)",
   "metadata": {
    "interpreter": {
     "hash": "0301e634c1217bf99f62beb7219719ae24ede3b4b139bdd2d61be65c06ac4a7b"
    }
   }
  }
 },
 "nbformat": 4,
 "nbformat_minor": 2,
 "cells": [
  {
   "cell_type": "code",
   "execution_count": 1,
   "metadata": {},
   "outputs": [],
   "source": [
    "# Imports\n",
    "import pandas as pd \n",
    "from pathlib import Path\n",
    "import numpy as np\n"
   ]
  },
  {
   "cell_type": "code",
   "execution_count": 2,
   "metadata": {},
   "outputs": [
    {
     "output_type": "execute_result",
     "data": {
      "text/plain": [
       "      Year       County   Med_Sales   Rec_Sales\n",
       "3775  2014     Cheyenne         0.0         0.0\n",
       "3983  2014   San Miguel     46369.0    591931.0\n",
       "3982  2014     Sedgwick         0.0         0.0\n",
       "3981  2014       Summit    177412.0    941538.0\n",
       "3980  2014       Teller         0.0         0.0\n",
       "3979  2014   Washington         0.0         0.0\n",
       "3978  2014         Weld    275556.0   1291047.0\n",
       "3977  2014         Yuma         0.0         0.0\n",
       "3976  2014        Adams    453206.0         0.0\n",
       "3975  2014      Alamosa         0.0         0.0\n",
       "3984  2014     San Juan         0.0         0.0\n",
       "3974  2014     Arapahoe   1353297.0         0.0\n",
       "3972  2014         Baca         0.0         0.0\n",
       "3971  2014         Bent         0.0         0.0\n",
       "3970  2014      Boulder   2715576.0   3314834.0\n",
       "3969  2014   Broomfield         0.0         0.0\n",
       "3968  2014      Chaffee         0.0         0.0\n",
       "3967  2014     Cheyenne         0.0         0.0\n",
       "3966  2014  Clear Creek    102603.0    375860.0\n",
       "3965  2014      Conejos         0.0         0.0\n",
       "3964  2014     Costilla         0.0         0.0\n",
       "3973  2014    Archuleta         0.0         0.0\n",
       "3963  2014      Crowley         0.0         0.0\n",
       "3985  2014     Saguache         0.0         0.0\n",
       "3987  2014   Rio Grande         0.0         0.0\n",
       "4007  2014     La Plata    657993.0         0.0\n",
       "4006  2014         Lake         0.0         0.0\n",
       "4005  2014      Larimer   1207539.0   1340810.0\n",
       "4004  2014   Las Animas         0.0         0.0\n",
       "4003  2014      Lincoln         0.0         0.0\n",
       "...    ...          ...         ...         ...\n",
       "4679  2020  Clear Creek         0.0    678872.0\n",
       "4678  2020   Las Animas         0.0   4382701.0\n",
       "4677  2020        Eagle         0.0   1886687.0\n",
       "4676  2020      Lincoln         0.0         0.0\n",
       "4675  2020    Jefferson   1644343.0   5200066.0\n",
       "4674  2020      Mineral         0.0         0.0\n",
       "4673  2020      Jackson         0.0         0.0\n",
       "4672  2020         Lake         0.0    295013.0\n",
       "4671  2020   Rio Grande         0.0         0.0\n",
       "4670  2020       Elbert         0.0         0.0\n",
       "4669  2020       Denver  13752429.0  37144790.0\n",
       "4668  2020       Morgan         0.0   1752738.0\n",
       "4667  2020         Yuma         0.0         0.0\n",
       "4666  2020   San Miguel         0.0    484426.0\n",
       "4665  2020      Alamosa         0.0         0.0\n",
       "4664  2020       Pueblo   1455541.0   7337911.0\n",
       "4663  2020         Bent         0.0         0.0\n",
       "4662  2020        Logan         0.0         0.0\n",
       "4661  2020       Pitkin         0.0   1202870.0\n",
       "4660  2020       Gilpin         0.0    246896.0\n",
       "4659  2020     La Plata         0.0   2802713.0\n",
       "4658  2020         Park         0.0    461899.0\n",
       "4657  2020        Delta         0.0         0.0\n",
       "4656  2020       Custer         0.0         0.0\n",
       "4655  2020     Hinsdale         0.0         0.0\n",
       "4654  2020     Saguache         0.0    325910.0\n",
       "4653  2020        Routt         0.0   1220117.0\n",
       "4652  2020         Baca         0.0         0.0\n",
       "4650  2020      Crowley         0.0         0.0\n",
       "5008  2020      Alamosa         0.0         0.0\n",
       "\n",
       "[5009 rows x 4 columns]"
      ],
      "text/html": "<div>\n<style scoped>\n    .dataframe tbody tr th:only-of-type {\n        vertical-align: middle;\n    }\n\n    .dataframe tbody tr th {\n        vertical-align: top;\n    }\n\n    .dataframe thead th {\n        text-align: right;\n    }\n</style>\n<table border=\"1\" class=\"dataframe\">\n  <thead>\n    <tr style=\"text-align: right;\">\n      <th></th>\n      <th>Year</th>\n      <th>County</th>\n      <th>Med_Sales</th>\n      <th>Rec_Sales</th>\n    </tr>\n  </thead>\n  <tbody>\n    <tr>\n      <th>3775</th>\n      <td>2014</td>\n      <td>Cheyenne</td>\n      <td>0.0</td>\n      <td>0.0</td>\n    </tr>\n    <tr>\n      <th>3983</th>\n      <td>2014</td>\n      <td>San Miguel</td>\n      <td>46369.0</td>\n      <td>591931.0</td>\n    </tr>\n    <tr>\n      <th>3982</th>\n      <td>2014</td>\n      <td>Sedgwick</td>\n      <td>0.0</td>\n      <td>0.0</td>\n    </tr>\n    <tr>\n      <th>3981</th>\n      <td>2014</td>\n      <td>Summit</td>\n      <td>177412.0</td>\n      <td>941538.0</td>\n    </tr>\n    <tr>\n      <th>3980</th>\n      <td>2014</td>\n      <td>Teller</td>\n      <td>0.0</td>\n      <td>0.0</td>\n    </tr>\n    <tr>\n      <th>3979</th>\n      <td>2014</td>\n      <td>Washington</td>\n      <td>0.0</td>\n      <td>0.0</td>\n    </tr>\n    <tr>\n      <th>3978</th>\n      <td>2014</td>\n      <td>Weld</td>\n      <td>275556.0</td>\n      <td>1291047.0</td>\n    </tr>\n    <tr>\n      <th>3977</th>\n      <td>2014</td>\n      <td>Yuma</td>\n      <td>0.0</td>\n      <td>0.0</td>\n    </tr>\n    <tr>\n      <th>3976</th>\n      <td>2014</td>\n      <td>Adams</td>\n      <td>453206.0</td>\n      <td>0.0</td>\n    </tr>\n    <tr>\n      <th>3975</th>\n      <td>2014</td>\n      <td>Alamosa</td>\n      <td>0.0</td>\n      <td>0.0</td>\n    </tr>\n    <tr>\n      <th>3984</th>\n      <td>2014</td>\n      <td>San Juan</td>\n      <td>0.0</td>\n      <td>0.0</td>\n    </tr>\n    <tr>\n      <th>3974</th>\n      <td>2014</td>\n      <td>Arapahoe</td>\n      <td>1353297.0</td>\n      <td>0.0</td>\n    </tr>\n    <tr>\n      <th>3972</th>\n      <td>2014</td>\n      <td>Baca</td>\n      <td>0.0</td>\n      <td>0.0</td>\n    </tr>\n    <tr>\n      <th>3971</th>\n      <td>2014</td>\n      <td>Bent</td>\n      <td>0.0</td>\n      <td>0.0</td>\n    </tr>\n    <tr>\n      <th>3970</th>\n      <td>2014</td>\n      <td>Boulder</td>\n      <td>2715576.0</td>\n      <td>3314834.0</td>\n    </tr>\n    <tr>\n      <th>3969</th>\n      <td>2014</td>\n      <td>Broomfield</td>\n      <td>0.0</td>\n      <td>0.0</td>\n    </tr>\n    <tr>\n      <th>3968</th>\n      <td>2014</td>\n      <td>Chaffee</td>\n      <td>0.0</td>\n      <td>0.0</td>\n    </tr>\n    <tr>\n      <th>3967</th>\n      <td>2014</td>\n      <td>Cheyenne</td>\n      <td>0.0</td>\n      <td>0.0</td>\n    </tr>\n    <tr>\n      <th>3966</th>\n      <td>2014</td>\n      <td>Clear Creek</td>\n      <td>102603.0</td>\n      <td>375860.0</td>\n    </tr>\n    <tr>\n      <th>3965</th>\n      <td>2014</td>\n      <td>Conejos</td>\n      <td>0.0</td>\n      <td>0.0</td>\n    </tr>\n    <tr>\n      <th>3964</th>\n      <td>2014</td>\n      <td>Costilla</td>\n      <td>0.0</td>\n      <td>0.0</td>\n    </tr>\n    <tr>\n      <th>3973</th>\n      <td>2014</td>\n      <td>Archuleta</td>\n      <td>0.0</td>\n      <td>0.0</td>\n    </tr>\n    <tr>\n      <th>3963</th>\n      <td>2014</td>\n      <td>Crowley</td>\n      <td>0.0</td>\n      <td>0.0</td>\n    </tr>\n    <tr>\n      <th>3985</th>\n      <td>2014</td>\n      <td>Saguache</td>\n      <td>0.0</td>\n      <td>0.0</td>\n    </tr>\n    <tr>\n      <th>3987</th>\n      <td>2014</td>\n      <td>Rio Grande</td>\n      <td>0.0</td>\n      <td>0.0</td>\n    </tr>\n    <tr>\n      <th>4007</th>\n      <td>2014</td>\n      <td>La Plata</td>\n      <td>657993.0</td>\n      <td>0.0</td>\n    </tr>\n    <tr>\n      <th>4006</th>\n      <td>2014</td>\n      <td>Lake</td>\n      <td>0.0</td>\n      <td>0.0</td>\n    </tr>\n    <tr>\n      <th>4005</th>\n      <td>2014</td>\n      <td>Larimer</td>\n      <td>1207539.0</td>\n      <td>1340810.0</td>\n    </tr>\n    <tr>\n      <th>4004</th>\n      <td>2014</td>\n      <td>Las Animas</td>\n      <td>0.0</td>\n      <td>0.0</td>\n    </tr>\n    <tr>\n      <th>4003</th>\n      <td>2014</td>\n      <td>Lincoln</td>\n      <td>0.0</td>\n      <td>0.0</td>\n    </tr>\n    <tr>\n      <th>...</th>\n      <td>...</td>\n      <td>...</td>\n      <td>...</td>\n      <td>...</td>\n    </tr>\n    <tr>\n      <th>4679</th>\n      <td>2020</td>\n      <td>Clear Creek</td>\n      <td>0.0</td>\n      <td>678872.0</td>\n    </tr>\n    <tr>\n      <th>4678</th>\n      <td>2020</td>\n      <td>Las Animas</td>\n      <td>0.0</td>\n      <td>4382701.0</td>\n    </tr>\n    <tr>\n      <th>4677</th>\n      <td>2020</td>\n      <td>Eagle</td>\n      <td>0.0</td>\n      <td>1886687.0</td>\n    </tr>\n    <tr>\n      <th>4676</th>\n      <td>2020</td>\n      <td>Lincoln</td>\n      <td>0.0</td>\n      <td>0.0</td>\n    </tr>\n    <tr>\n      <th>4675</th>\n      <td>2020</td>\n      <td>Jefferson</td>\n      <td>1644343.0</td>\n      <td>5200066.0</td>\n    </tr>\n    <tr>\n      <th>4674</th>\n      <td>2020</td>\n      <td>Mineral</td>\n      <td>0.0</td>\n      <td>0.0</td>\n    </tr>\n    <tr>\n      <th>4673</th>\n      <td>2020</td>\n      <td>Jackson</td>\n      <td>0.0</td>\n      <td>0.0</td>\n    </tr>\n    <tr>\n      <th>4672</th>\n      <td>2020</td>\n      <td>Lake</td>\n      <td>0.0</td>\n      <td>295013.0</td>\n    </tr>\n    <tr>\n      <th>4671</th>\n      <td>2020</td>\n      <td>Rio Grande</td>\n      <td>0.0</td>\n      <td>0.0</td>\n    </tr>\n    <tr>\n      <th>4670</th>\n      <td>2020</td>\n      <td>Elbert</td>\n      <td>0.0</td>\n      <td>0.0</td>\n    </tr>\n    <tr>\n      <th>4669</th>\n      <td>2020</td>\n      <td>Denver</td>\n      <td>13752429.0</td>\n      <td>37144790.0</td>\n    </tr>\n    <tr>\n      <th>4668</th>\n      <td>2020</td>\n      <td>Morgan</td>\n      <td>0.0</td>\n      <td>1752738.0</td>\n    </tr>\n    <tr>\n      <th>4667</th>\n      <td>2020</td>\n      <td>Yuma</td>\n      <td>0.0</td>\n      <td>0.0</td>\n    </tr>\n    <tr>\n      <th>4666</th>\n      <td>2020</td>\n      <td>San Miguel</td>\n      <td>0.0</td>\n      <td>484426.0</td>\n    </tr>\n    <tr>\n      <th>4665</th>\n      <td>2020</td>\n      <td>Alamosa</td>\n      <td>0.0</td>\n      <td>0.0</td>\n    </tr>\n    <tr>\n      <th>4664</th>\n      <td>2020</td>\n      <td>Pueblo</td>\n      <td>1455541.0</td>\n      <td>7337911.0</td>\n    </tr>\n    <tr>\n      <th>4663</th>\n      <td>2020</td>\n      <td>Bent</td>\n      <td>0.0</td>\n      <td>0.0</td>\n    </tr>\n    <tr>\n      <th>4662</th>\n      <td>2020</td>\n      <td>Logan</td>\n      <td>0.0</td>\n      <td>0.0</td>\n    </tr>\n    <tr>\n      <th>4661</th>\n      <td>2020</td>\n      <td>Pitkin</td>\n      <td>0.0</td>\n      <td>1202870.0</td>\n    </tr>\n    <tr>\n      <th>4660</th>\n      <td>2020</td>\n      <td>Gilpin</td>\n      <td>0.0</td>\n      <td>246896.0</td>\n    </tr>\n    <tr>\n      <th>4659</th>\n      <td>2020</td>\n      <td>La Plata</td>\n      <td>0.0</td>\n      <td>2802713.0</td>\n    </tr>\n    <tr>\n      <th>4658</th>\n      <td>2020</td>\n      <td>Park</td>\n      <td>0.0</td>\n      <td>461899.0</td>\n    </tr>\n    <tr>\n      <th>4657</th>\n      <td>2020</td>\n      <td>Delta</td>\n      <td>0.0</td>\n      <td>0.0</td>\n    </tr>\n    <tr>\n      <th>4656</th>\n      <td>2020</td>\n      <td>Custer</td>\n      <td>0.0</td>\n      <td>0.0</td>\n    </tr>\n    <tr>\n      <th>4655</th>\n      <td>2020</td>\n      <td>Hinsdale</td>\n      <td>0.0</td>\n      <td>0.0</td>\n    </tr>\n    <tr>\n      <th>4654</th>\n      <td>2020</td>\n      <td>Saguache</td>\n      <td>0.0</td>\n      <td>325910.0</td>\n    </tr>\n    <tr>\n      <th>4653</th>\n      <td>2020</td>\n      <td>Routt</td>\n      <td>0.0</td>\n      <td>1220117.0</td>\n    </tr>\n    <tr>\n      <th>4652</th>\n      <td>2020</td>\n      <td>Baca</td>\n      <td>0.0</td>\n      <td>0.0</td>\n    </tr>\n    <tr>\n      <th>4650</th>\n      <td>2020</td>\n      <td>Crowley</td>\n      <td>0.0</td>\n      <td>0.0</td>\n    </tr>\n    <tr>\n      <th>5008</th>\n      <td>2020</td>\n      <td>Alamosa</td>\n      <td>0.0</td>\n      <td>0.0</td>\n    </tr>\n  </tbody>\n</table>\n<p>5009 rows × 4 columns</p>\n</div>"
     },
     "metadata": {},
     "execution_count": 2
    }
   ],
   "source": [
    "#Import file\n",
    "sales_rev = pd.read_csv(\"rawdata/James-Marijuana-Sales-Revenue-Colorado.csv\")\n",
    "sales_rev = sales_rev.sort_values(by=['Year'])\n",
    "\n",
    "#Changed NaN to 0 **State this in findings/presentation/dashboard\n",
    "sales_rev['Med_Sales'] = sales_rev['Med_Sales'].fillna(0)\n",
    "sales_rev['Rec_Sales'] = sales_rev['Rec_Sales'].fillna(0)\n",
    "sales_rev_clean = sales_rev[['Year', 'County', 'Med_Sales', 'Rec_Sales']]\n",
    "\n",
    "sales_rev_clean"
   ]
  },
  {
   "cell_type": "code",
   "execution_count": 5,
   "metadata": {},
   "outputs": [
    {
     "output_type": "execute_result",
     "data": {
      "text/plain": [
       "                           Med_Sales     Rec_Sales\n",
       "Year County                                       \n",
       "2014 Adams                 5781889.0  2.749908e+06\n",
       "     Alamosa                     0.0  0.000000e+00\n",
       "     Arapahoe             16861284.0  2.221928e+06\n",
       "     Archuleta                   0.0  0.000000e+00\n",
       "     Baca                        0.0  0.000000e+00\n",
       "     Bent                        0.0  0.000000e+00\n",
       "     Boulder              34337366.0  2.859816e+07\n",
       "     Broomfield                  0.0  0.000000e+00\n",
       "     Chaffee                438160.0  0.000000e+00\n",
       "     Cheyenne                    0.0  0.000000e+00\n",
       "     Clear Creek           1242045.0  4.853720e+06\n",
       "     Conejos                     0.0  0.000000e+00\n",
       "     Costilla                    0.0  0.000000e+00\n",
       "     Crowley                     0.0  0.000000e+00\n",
       "     Custer                      0.0  0.000000e+00\n",
       "     Delta                       0.0  0.000000e+00\n",
       "     Denver              174581324.0  1.513496e+08\n",
       "     Dolores                     0.0  0.000000e+00\n",
       "     Douglas                     0.0  0.000000e+00\n",
       "     Eagle                 2259892.0  2.234618e+06\n",
       "     El Paso              67026306.0  0.000000e+00\n",
       "     Elbert                      0.0  0.000000e+00\n",
       "     Fremont               2530928.0  0.000000e+00\n",
       "     Garfield              4892957.0  3.851563e+06\n",
       "     Gilpin                 371332.0  1.376578e+06\n",
       "     Grand                       0.0  0.000000e+00\n",
       "     Gunnison                36244.0  1.418437e+06\n",
       "     Hinsdale                    0.0  0.000000e+00\n",
       "     Huerfano                    0.0  0.000000e+00\n",
       "     Jackson                     0.0  0.000000e+00\n",
       "...                              ...           ...\n",
       "2020 Larimer               6474163.0  7.103410e+07\n",
       "     Las Animas             263546.0  4.619512e+07\n",
       "     Lincoln                     0.0  0.000000e+00\n",
       "     Logan                       0.0  0.000000e+00\n",
       "     Mesa                        0.0  1.929342e+07\n",
       "     Mineral                     0.0  0.000000e+00\n",
       "     Moffat                      0.0  7.068563e+06\n",
       "     Montezuma                   0.0  1.986398e+07\n",
       "     Montrose                    0.0  0.000000e+00\n",
       "     Morgan                      0.0  1.516220e+07\n",
       "     Otero                       0.0  2.173614e+06\n",
       "     Ouray                       0.0  6.617177e+06\n",
       "     Park                        0.0  4.511739e+06\n",
       "     Phillips                    0.0  0.000000e+00\n",
       "     Pitkin                      0.0  9.740196e+06\n",
       "     Prowers                     0.0  0.000000e+00\n",
       "     Pueblo                8643753.0  7.133999e+07\n",
       "     Rio Blanco                  0.0  0.000000e+00\n",
       "     Rio Grande                  0.0  0.000000e+00\n",
       "     Routt                  662154.0  8.851276e+06\n",
       "     Saguache                    0.0  3.126444e+06\n",
       "     San Juan                    0.0  2.142510e+05\n",
       "     San Miguel                  0.0  3.748262e+06\n",
       "     Sedgwick                    0.0  0.000000e+00\n",
       "     Sum of NR Counties  294387679.0  1.130819e+09\n",
       "     Summit                      0.0  1.818944e+07\n",
       "     Teller                      0.0  0.000000e+00\n",
       "     Washington                  0.0  0.000000e+00\n",
       "     Weld                  2407512.0  2.184013e+07\n",
       "     Yuma                        0.0  0.000000e+00\n",
       "\n",
       "[450 rows x 2 columns]"
      ],
      "text/html": "<div>\n<style scoped>\n    .dataframe tbody tr th:only-of-type {\n        vertical-align: middle;\n    }\n\n    .dataframe tbody tr th {\n        vertical-align: top;\n    }\n\n    .dataframe thead th {\n        text-align: right;\n    }\n</style>\n<table border=\"1\" class=\"dataframe\">\n  <thead>\n    <tr style=\"text-align: right;\">\n      <th></th>\n      <th></th>\n      <th>Med_Sales</th>\n      <th>Rec_Sales</th>\n    </tr>\n    <tr>\n      <th>Year</th>\n      <th>County</th>\n      <th></th>\n      <th></th>\n    </tr>\n  </thead>\n  <tbody>\n    <tr>\n      <th rowspan=\"30\" valign=\"top\">2014</th>\n      <th>Adams</th>\n      <td>5781889.0</td>\n      <td>2.749908e+06</td>\n    </tr>\n    <tr>\n      <th>Alamosa</th>\n      <td>0.0</td>\n      <td>0.000000e+00</td>\n    </tr>\n    <tr>\n      <th>Arapahoe</th>\n      <td>16861284.0</td>\n      <td>2.221928e+06</td>\n    </tr>\n    <tr>\n      <th>Archuleta</th>\n      <td>0.0</td>\n      <td>0.000000e+00</td>\n    </tr>\n    <tr>\n      <th>Baca</th>\n      <td>0.0</td>\n      <td>0.000000e+00</td>\n    </tr>\n    <tr>\n      <th>Bent</th>\n      <td>0.0</td>\n      <td>0.000000e+00</td>\n    </tr>\n    <tr>\n      <th>Boulder</th>\n      <td>34337366.0</td>\n      <td>2.859816e+07</td>\n    </tr>\n    <tr>\n      <th>Broomfield</th>\n      <td>0.0</td>\n      <td>0.000000e+00</td>\n    </tr>\n    <tr>\n      <th>Chaffee</th>\n      <td>438160.0</td>\n      <td>0.000000e+00</td>\n    </tr>\n    <tr>\n      <th>Cheyenne</th>\n      <td>0.0</td>\n      <td>0.000000e+00</td>\n    </tr>\n    <tr>\n      <th>Clear Creek</th>\n      <td>1242045.0</td>\n      <td>4.853720e+06</td>\n    </tr>\n    <tr>\n      <th>Conejos</th>\n      <td>0.0</td>\n      <td>0.000000e+00</td>\n    </tr>\n    <tr>\n      <th>Costilla</th>\n      <td>0.0</td>\n      <td>0.000000e+00</td>\n    </tr>\n    <tr>\n      <th>Crowley</th>\n      <td>0.0</td>\n      <td>0.000000e+00</td>\n    </tr>\n    <tr>\n      <th>Custer</th>\n      <td>0.0</td>\n      <td>0.000000e+00</td>\n    </tr>\n    <tr>\n      <th>Delta</th>\n      <td>0.0</td>\n      <td>0.000000e+00</td>\n    </tr>\n    <tr>\n      <th>Denver</th>\n      <td>174581324.0</td>\n      <td>1.513496e+08</td>\n    </tr>\n    <tr>\n      <th>Dolores</th>\n      <td>0.0</td>\n      <td>0.000000e+00</td>\n    </tr>\n    <tr>\n      <th>Douglas</th>\n      <td>0.0</td>\n      <td>0.000000e+00</td>\n    </tr>\n    <tr>\n      <th>Eagle</th>\n      <td>2259892.0</td>\n      <td>2.234618e+06</td>\n    </tr>\n    <tr>\n      <th>El Paso</th>\n      <td>67026306.0</td>\n      <td>0.000000e+00</td>\n    </tr>\n    <tr>\n      <th>Elbert</th>\n      <td>0.0</td>\n      <td>0.000000e+00</td>\n    </tr>\n    <tr>\n      <th>Fremont</th>\n      <td>2530928.0</td>\n      <td>0.000000e+00</td>\n    </tr>\n    <tr>\n      <th>Garfield</th>\n      <td>4892957.0</td>\n      <td>3.851563e+06</td>\n    </tr>\n    <tr>\n      <th>Gilpin</th>\n      <td>371332.0</td>\n      <td>1.376578e+06</td>\n    </tr>\n    <tr>\n      <th>Grand</th>\n      <td>0.0</td>\n      <td>0.000000e+00</td>\n    </tr>\n    <tr>\n      <th>Gunnison</th>\n      <td>36244.0</td>\n      <td>1.418437e+06</td>\n    </tr>\n    <tr>\n      <th>Hinsdale</th>\n      <td>0.0</td>\n      <td>0.000000e+00</td>\n    </tr>\n    <tr>\n      <th>Huerfano</th>\n      <td>0.0</td>\n      <td>0.000000e+00</td>\n    </tr>\n    <tr>\n      <th>Jackson</th>\n      <td>0.0</td>\n      <td>0.000000e+00</td>\n    </tr>\n    <tr>\n      <th>...</th>\n      <th>...</th>\n      <td>...</td>\n      <td>...</td>\n    </tr>\n    <tr>\n      <th rowspan=\"30\" valign=\"top\">2020</th>\n      <th>Larimer</th>\n      <td>6474163.0</td>\n      <td>7.103410e+07</td>\n    </tr>\n    <tr>\n      <th>Las Animas</th>\n      <td>263546.0</td>\n      <td>4.619512e+07</td>\n    </tr>\n    <tr>\n      <th>Lincoln</th>\n      <td>0.0</td>\n      <td>0.000000e+00</td>\n    </tr>\n    <tr>\n      <th>Logan</th>\n      <td>0.0</td>\n      <td>0.000000e+00</td>\n    </tr>\n    <tr>\n      <th>Mesa</th>\n      <td>0.0</td>\n      <td>1.929342e+07</td>\n    </tr>\n    <tr>\n      <th>Mineral</th>\n      <td>0.0</td>\n      <td>0.000000e+00</td>\n    </tr>\n    <tr>\n      <th>Moffat</th>\n      <td>0.0</td>\n      <td>7.068563e+06</td>\n    </tr>\n    <tr>\n      <th>Montezuma</th>\n      <td>0.0</td>\n      <td>1.986398e+07</td>\n    </tr>\n    <tr>\n      <th>Montrose</th>\n      <td>0.0</td>\n      <td>0.000000e+00</td>\n    </tr>\n    <tr>\n      <th>Morgan</th>\n      <td>0.0</td>\n      <td>1.516220e+07</td>\n    </tr>\n    <tr>\n      <th>Otero</th>\n      <td>0.0</td>\n      <td>2.173614e+06</td>\n    </tr>\n    <tr>\n      <th>Ouray</th>\n      <td>0.0</td>\n      <td>6.617177e+06</td>\n    </tr>\n    <tr>\n      <th>Park</th>\n      <td>0.0</td>\n      <td>4.511739e+06</td>\n    </tr>\n    <tr>\n      <th>Phillips</th>\n      <td>0.0</td>\n      <td>0.000000e+00</td>\n    </tr>\n    <tr>\n      <th>Pitkin</th>\n      <td>0.0</td>\n      <td>9.740196e+06</td>\n    </tr>\n    <tr>\n      <th>Prowers</th>\n      <td>0.0</td>\n      <td>0.000000e+00</td>\n    </tr>\n    <tr>\n      <th>Pueblo</th>\n      <td>8643753.0</td>\n      <td>7.133999e+07</td>\n    </tr>\n    <tr>\n      <th>Rio Blanco</th>\n      <td>0.0</td>\n      <td>0.000000e+00</td>\n    </tr>\n    <tr>\n      <th>Rio Grande</th>\n      <td>0.0</td>\n      <td>0.000000e+00</td>\n    </tr>\n    <tr>\n      <th>Routt</th>\n      <td>662154.0</td>\n      <td>8.851276e+06</td>\n    </tr>\n    <tr>\n      <th>Saguache</th>\n      <td>0.0</td>\n      <td>3.126444e+06</td>\n    </tr>\n    <tr>\n      <th>San Juan</th>\n      <td>0.0</td>\n      <td>2.142510e+05</td>\n    </tr>\n    <tr>\n      <th>San Miguel</th>\n      <td>0.0</td>\n      <td>3.748262e+06</td>\n    </tr>\n    <tr>\n      <th>Sedgwick</th>\n      <td>0.0</td>\n      <td>0.000000e+00</td>\n    </tr>\n    <tr>\n      <th>Sum of NR Counties</th>\n      <td>294387679.0</td>\n      <td>1.130819e+09</td>\n    </tr>\n    <tr>\n      <th>Summit</th>\n      <td>0.0</td>\n      <td>1.818944e+07</td>\n    </tr>\n    <tr>\n      <th>Teller</th>\n      <td>0.0</td>\n      <td>0.000000e+00</td>\n    </tr>\n    <tr>\n      <th>Washington</th>\n      <td>0.0</td>\n      <td>0.000000e+00</td>\n    </tr>\n    <tr>\n      <th>Weld</th>\n      <td>2407512.0</td>\n      <td>2.184013e+07</td>\n    </tr>\n    <tr>\n      <th>Yuma</th>\n      <td>0.0</td>\n      <td>0.000000e+00</td>\n    </tr>\n  </tbody>\n</table>\n<p>450 rows × 2 columns</p>\n</div>"
     },
     "metadata": {},
     "execution_count": 5
    }
   ],
   "source": [
    "#Group data by year, then county, and add up the med sales and rec sales -- could not get rec sales out of scientific notation\n",
    "#sales_rev_clean.dtypes\n",
    "sales_rev_clean.groupby(['Year', 'County']).sum()\n",
    "\n"
   ]
  },
  {
   "cell_type": "code",
   "execution_count": 6,
   "metadata": {},
   "outputs": [
    {
     "output_type": "execute_result",
     "data": {
      "text/plain": [
       "Year           int64\n",
       "County        object\n",
       "Med_Sales    float64\n",
       "Rec_Sales    float64\n",
       "dtype: object"
      ]
     },
     "metadata": {},
     "execution_count": 6
    }
   ],
   "source": [
    "sales_rev_clean.dtypes"
   ]
  },
  {
   "cell_type": "code",
   "execution_count": 7,
   "metadata": {},
   "outputs": [],
   "source": [
    "#Create clean file\n",
    "sales_rev_clean.to_csv(\"cleandata/CO_Cannabis_Sales_Revenue.csv\", index=False)"
   ]
  },
  {
   "cell_type": "code",
   "execution_count": 8,
   "metadata": {},
   "outputs": [
    {
     "output_type": "execute_result",
     "data": {
      "text/plain": [
       "                         Med_Tax_Rev  Rec_Tax_Rev\n",
       "Year County                                      \n",
       "2014 Adams                  150247.0      38490.0\n",
       "     Arapahoe               333697.0      23467.0\n",
       "     Boulder                895194.0     622487.0\n",
       "     Chaffee                 15178.0          0.0\n",
       "     Clear Creek             33243.0     116133.0\n",
       "     Denver                4746441.0    3525489.0\n",
       "     Eagle                   62120.0      32566.0\n",
       "     El Paso               1743466.0          0.0\n",
       "     Fremont                 68284.0          0.0\n",
       "     Garfield               138898.0      77124.0\n",
       "     Gilpin                  10186.0      37084.0\n",
       "     Gunnison                 3655.0      22372.0\n",
       "     Jefferson              582515.0     388588.0\n",
       "     La Plata               178213.0      18997.0\n",
       "     Larimer                347192.0     160891.0\n",
       "     Montezuma               29099.0          0.0\n",
       "     Pitkin                  46770.0      58342.0\n",
       "     Pueblo                 122830.0     373412.0\n",
       "     Remainder of State     211599.0     839332.0\n",
       "     Routt                   45293.0          0.0\n",
       "     San Miguel              21932.0      98608.0\n",
       "     Summit                  67317.0     261887.0\n",
       "     Weld                   144272.0     184845.0\n",
       "2015 Adams                  148254.0     461943.0\n",
       "     Arapahoe               629605.0    1276430.0\n",
       "     Boulder                857746.0    1441729.0\n",
       "     Chaffee                     0.0      74682.0\n",
       "     Clear Creek             29310.0     158936.0\n",
       "     Denver                4938367.0    5937202.0\n",
       "     Eagle                  104788.0     226720.0\n",
       "...                              ...          ...\n",
       "2020 Larimer                203122.0          0.0\n",
       "     Las Animas               8362.0          0.0\n",
       "     Lincoln                     0.0          0.0\n",
       "     Logan                       0.0          0.0\n",
       "     Mesa                        0.0          0.0\n",
       "     Mineral                     0.0          0.0\n",
       "     Moffat                      0.0          0.0\n",
       "     Montezuma                   0.0          0.0\n",
       "     Montrose                    0.0          0.0\n",
       "     Morgan                      0.0          0.0\n",
       "     Otero                       0.0          0.0\n",
       "     Ouray                       0.0          0.0\n",
       "     Park                        0.0          0.0\n",
       "     Phillips                    0.0          0.0\n",
       "     Pitkin                   2048.0          0.0\n",
       "     Prowers                     0.0          0.0\n",
       "     Pueblo                 255330.0          0.0\n",
       "     Rio Blanco                  0.0          0.0\n",
       "     Rio Grande                  0.0          0.0\n",
       "     Routt                   32993.0          0.0\n",
       "     Saguache                    0.0          0.0\n",
       "     San Juan                    0.0          0.0\n",
       "     San Miguel                  0.0          0.0\n",
       "     Sedgwick                    0.0          0.0\n",
       "     Sum of NR Counties     303844.0          0.0\n",
       "     Summit                      0.0          0.0\n",
       "     Teller                      0.0          0.0\n",
       "     Washington                  0.0          0.0\n",
       "     Weld                    81547.0          0.0\n",
       "     Yuma                        0.0          0.0\n",
       "\n",
       "[296 rows x 2 columns]"
      ],
      "text/html": "<div>\n<style scoped>\n    .dataframe tbody tr th:only-of-type {\n        vertical-align: middle;\n    }\n\n    .dataframe tbody tr th {\n        vertical-align: top;\n    }\n\n    .dataframe thead th {\n        text-align: right;\n    }\n</style>\n<table border=\"1\" class=\"dataframe\">\n  <thead>\n    <tr style=\"text-align: right;\">\n      <th></th>\n      <th></th>\n      <th>Med_Tax_Rev</th>\n      <th>Rec_Tax_Rev</th>\n    </tr>\n    <tr>\n      <th>Year</th>\n      <th>County</th>\n      <th></th>\n      <th></th>\n    </tr>\n  </thead>\n  <tbody>\n    <tr>\n      <th rowspan=\"23\" valign=\"top\">2014</th>\n      <th>Adams</th>\n      <td>150247.0</td>\n      <td>38490.0</td>\n    </tr>\n    <tr>\n      <th>Arapahoe</th>\n      <td>333697.0</td>\n      <td>23467.0</td>\n    </tr>\n    <tr>\n      <th>Boulder</th>\n      <td>895194.0</td>\n      <td>622487.0</td>\n    </tr>\n    <tr>\n      <th>Chaffee</th>\n      <td>15178.0</td>\n      <td>0.0</td>\n    </tr>\n    <tr>\n      <th>Clear Creek</th>\n      <td>33243.0</td>\n      <td>116133.0</td>\n    </tr>\n    <tr>\n      <th>Denver</th>\n      <td>4746441.0</td>\n      <td>3525489.0</td>\n    </tr>\n    <tr>\n      <th>Eagle</th>\n      <td>62120.0</td>\n      <td>32566.0</td>\n    </tr>\n    <tr>\n      <th>El Paso</th>\n      <td>1743466.0</td>\n      <td>0.0</td>\n    </tr>\n    <tr>\n      <th>Fremont</th>\n      <td>68284.0</td>\n      <td>0.0</td>\n    </tr>\n    <tr>\n      <th>Garfield</th>\n      <td>138898.0</td>\n      <td>77124.0</td>\n    </tr>\n    <tr>\n      <th>Gilpin</th>\n      <td>10186.0</td>\n      <td>37084.0</td>\n    </tr>\n    <tr>\n      <th>Gunnison</th>\n      <td>3655.0</td>\n      <td>22372.0</td>\n    </tr>\n    <tr>\n      <th>Jefferson</th>\n      <td>582515.0</td>\n      <td>388588.0</td>\n    </tr>\n    <tr>\n      <th>La Plata</th>\n      <td>178213.0</td>\n      <td>18997.0</td>\n    </tr>\n    <tr>\n      <th>Larimer</th>\n      <td>347192.0</td>\n      <td>160891.0</td>\n    </tr>\n    <tr>\n      <th>Montezuma</th>\n      <td>29099.0</td>\n      <td>0.0</td>\n    </tr>\n    <tr>\n      <th>Pitkin</th>\n      <td>46770.0</td>\n      <td>58342.0</td>\n    </tr>\n    <tr>\n      <th>Pueblo</th>\n      <td>122830.0</td>\n      <td>373412.0</td>\n    </tr>\n    <tr>\n      <th>Remainder of State</th>\n      <td>211599.0</td>\n      <td>839332.0</td>\n    </tr>\n    <tr>\n      <th>Routt</th>\n      <td>45293.0</td>\n      <td>0.0</td>\n    </tr>\n    <tr>\n      <th>San Miguel</th>\n      <td>21932.0</td>\n      <td>98608.0</td>\n    </tr>\n    <tr>\n      <th>Summit</th>\n      <td>67317.0</td>\n      <td>261887.0</td>\n    </tr>\n    <tr>\n      <th>Weld</th>\n      <td>144272.0</td>\n      <td>184845.0</td>\n    </tr>\n    <tr>\n      <th rowspan=\"7\" valign=\"top\">2015</th>\n      <th>Adams</th>\n      <td>148254.0</td>\n      <td>461943.0</td>\n    </tr>\n    <tr>\n      <th>Arapahoe</th>\n      <td>629605.0</td>\n      <td>1276430.0</td>\n    </tr>\n    <tr>\n      <th>Boulder</th>\n      <td>857746.0</td>\n      <td>1441729.0</td>\n    </tr>\n    <tr>\n      <th>Chaffee</th>\n      <td>0.0</td>\n      <td>74682.0</td>\n    </tr>\n    <tr>\n      <th>Clear Creek</th>\n      <td>29310.0</td>\n      <td>158936.0</td>\n    </tr>\n    <tr>\n      <th>Denver</th>\n      <td>4938367.0</td>\n      <td>5937202.0</td>\n    </tr>\n    <tr>\n      <th>Eagle</th>\n      <td>104788.0</td>\n      <td>226720.0</td>\n    </tr>\n    <tr>\n      <th>...</th>\n      <th>...</th>\n      <td>...</td>\n      <td>...</td>\n    </tr>\n    <tr>\n      <th rowspan=\"30\" valign=\"top\">2020</th>\n      <th>Larimer</th>\n      <td>203122.0</td>\n      <td>0.0</td>\n    </tr>\n    <tr>\n      <th>Las Animas</th>\n      <td>8362.0</td>\n      <td>0.0</td>\n    </tr>\n    <tr>\n      <th>Lincoln</th>\n      <td>0.0</td>\n      <td>0.0</td>\n    </tr>\n    <tr>\n      <th>Logan</th>\n      <td>0.0</td>\n      <td>0.0</td>\n    </tr>\n    <tr>\n      <th>Mesa</th>\n      <td>0.0</td>\n      <td>0.0</td>\n    </tr>\n    <tr>\n      <th>Mineral</th>\n      <td>0.0</td>\n      <td>0.0</td>\n    </tr>\n    <tr>\n      <th>Moffat</th>\n      <td>0.0</td>\n      <td>0.0</td>\n    </tr>\n    <tr>\n      <th>Montezuma</th>\n      <td>0.0</td>\n      <td>0.0</td>\n    </tr>\n    <tr>\n      <th>Montrose</th>\n      <td>0.0</td>\n      <td>0.0</td>\n    </tr>\n    <tr>\n      <th>Morgan</th>\n      <td>0.0</td>\n      <td>0.0</td>\n    </tr>\n    <tr>\n      <th>Otero</th>\n      <td>0.0</td>\n      <td>0.0</td>\n    </tr>\n    <tr>\n      <th>Ouray</th>\n      <td>0.0</td>\n      <td>0.0</td>\n    </tr>\n    <tr>\n      <th>Park</th>\n      <td>0.0</td>\n      <td>0.0</td>\n    </tr>\n    <tr>\n      <th>Phillips</th>\n      <td>0.0</td>\n      <td>0.0</td>\n    </tr>\n    <tr>\n      <th>Pitkin</th>\n      <td>2048.0</td>\n      <td>0.0</td>\n    </tr>\n    <tr>\n      <th>Prowers</th>\n      <td>0.0</td>\n      <td>0.0</td>\n    </tr>\n    <tr>\n      <th>Pueblo</th>\n      <td>255330.0</td>\n      <td>0.0</td>\n    </tr>\n    <tr>\n      <th>Rio Blanco</th>\n      <td>0.0</td>\n      <td>0.0</td>\n    </tr>\n    <tr>\n      <th>Rio Grande</th>\n      <td>0.0</td>\n      <td>0.0</td>\n    </tr>\n    <tr>\n      <th>Routt</th>\n      <td>32993.0</td>\n      <td>0.0</td>\n    </tr>\n    <tr>\n      <th>Saguache</th>\n      <td>0.0</td>\n      <td>0.0</td>\n    </tr>\n    <tr>\n      <th>San Juan</th>\n      <td>0.0</td>\n      <td>0.0</td>\n    </tr>\n    <tr>\n      <th>San Miguel</th>\n      <td>0.0</td>\n      <td>0.0</td>\n    </tr>\n    <tr>\n      <th>Sedgwick</th>\n      <td>0.0</td>\n      <td>0.0</td>\n    </tr>\n    <tr>\n      <th>Sum of NR Counties</th>\n      <td>303844.0</td>\n      <td>0.0</td>\n    </tr>\n    <tr>\n      <th>Summit</th>\n      <td>0.0</td>\n      <td>0.0</td>\n    </tr>\n    <tr>\n      <th>Teller</th>\n      <td>0.0</td>\n      <td>0.0</td>\n    </tr>\n    <tr>\n      <th>Washington</th>\n      <td>0.0</td>\n      <td>0.0</td>\n    </tr>\n    <tr>\n      <th>Weld</th>\n      <td>81547.0</td>\n      <td>0.0</td>\n    </tr>\n    <tr>\n      <th>Yuma</th>\n      <td>0.0</td>\n      <td>0.0</td>\n    </tr>\n  </tbody>\n</table>\n<p>296 rows × 2 columns</p>\n</div>"
     },
     "metadata": {},
     "execution_count": 8
    }
   ],
   "source": [
    "#Import file\n",
    "tax_rev = pd.read_csv(\"rawdata/James-State-Sales-Tax-Revenue-from-Marijuana-Colorado.csv\")\n",
    "tax_rev = tax_rev.sort_values(by=['Year'])\n",
    "\n",
    "#Changed NaN to 0 **State this in findings/presentation/dashboard\n",
    "tax_rev['Med_Tax_Rev'] = tax_rev['Med_Tax_Rev'].fillna(0)\n",
    "tax_rev['Rec_Tax_Rev'] = tax_rev['Rec_Tax_Rev'].fillna(0)\n",
    "\n",
    "tax_rev_clean = tax_rev[['Year', 'County', 'Med_Tax_Rev', 'Rec_Tax_Rev']]\n",
    "tax_rev_clean = tax_rev_clean.groupby(['Year','County']).sum()\n",
    "\n",
    "tax_rev_clean"
   ]
  },
  {
   "cell_type": "code",
   "execution_count": 33,
   "metadata": {},
   "outputs": [
    {
     "output_type": "execute_result",
     "data": {
      "text/plain": [
       "                         Med_Tax_Rev  Rec_Tax_Rev\n",
       "Year County                                      \n",
       "2014 Adams                  150247.0      38490.0\n",
       "     Arapahoe               333697.0      23467.0\n",
       "     Boulder                895194.0     622487.0\n",
       "     Chaffee                 15178.0          0.0\n",
       "     Clear Creek             33243.0     116133.0\n",
       "     Denver                4746441.0    3525489.0\n",
       "     Eagle                   62120.0      32566.0\n",
       "     El Paso               1743466.0          0.0\n",
       "     Fremont                 68284.0          0.0\n",
       "     Garfield               138898.0      77124.0\n",
       "     Gilpin                  10186.0      37084.0\n",
       "     Gunnison                 3655.0      22372.0\n",
       "     Jefferson              582515.0     388588.0\n",
       "     La Plata               178213.0      18997.0\n",
       "     Larimer                347192.0     160891.0\n",
       "     Montezuma               29099.0          0.0\n",
       "     Pitkin                  46770.0      58342.0\n",
       "     Pueblo                 122830.0     373412.0\n",
       "     Remainder of State     211599.0     839332.0\n",
       "     Routt                   45293.0          0.0\n",
       "     San Miguel              21932.0      98608.0\n",
       "     Summit                  67317.0     261887.0\n",
       "     Weld                   144272.0     184845.0\n",
       "2015 Adams                  148254.0     461943.0\n",
       "     Arapahoe               629605.0    1276430.0\n",
       "     Boulder                857746.0    1441729.0\n",
       "     Chaffee                     0.0      74682.0\n",
       "     Clear Creek             29310.0     158936.0\n",
       "     Denver                4938367.0    5937202.0\n",
       "     Eagle                  104788.0     226720.0\n",
       "...                              ...          ...\n",
       "2020 Larimer                203122.0          0.0\n",
       "     Las Animas               8362.0          0.0\n",
       "     Lincoln                     0.0          0.0\n",
       "     Logan                       0.0          0.0\n",
       "     Mesa                        0.0          0.0\n",
       "     Mineral                     0.0          0.0\n",
       "     Moffat                      0.0          0.0\n",
       "     Montezuma                   0.0          0.0\n",
       "     Montrose                    0.0          0.0\n",
       "     Morgan                      0.0          0.0\n",
       "     Otero                       0.0          0.0\n",
       "     Ouray                       0.0          0.0\n",
       "     Park                        0.0          0.0\n",
       "     Phillips                    0.0          0.0\n",
       "     Pitkin                   2048.0          0.0\n",
       "     Prowers                     0.0          0.0\n",
       "     Pueblo                 255330.0          0.0\n",
       "     Rio Blanco                  0.0          0.0\n",
       "     Rio Grande                  0.0          0.0\n",
       "     Routt                   32993.0          0.0\n",
       "     Saguache                    0.0          0.0\n",
       "     San Juan                    0.0          0.0\n",
       "     San Miguel                  0.0          0.0\n",
       "     Sedgwick                    0.0          0.0\n",
       "     Sum of NR Counties     303844.0          0.0\n",
       "     Summit                      0.0          0.0\n",
       "     Teller                      0.0          0.0\n",
       "     Washington                  0.0          0.0\n",
       "     Weld                    81547.0          0.0\n",
       "     Yuma                        0.0          0.0\n",
       "\n",
       "[296 rows x 2 columns]"
      ],
      "text/html": "<div>\n<style scoped>\n    .dataframe tbody tr th:only-of-type {\n        vertical-align: middle;\n    }\n\n    .dataframe tbody tr th {\n        vertical-align: top;\n    }\n\n    .dataframe thead th {\n        text-align: right;\n    }\n</style>\n<table border=\"1\" class=\"dataframe\">\n  <thead>\n    <tr style=\"text-align: right;\">\n      <th></th>\n      <th></th>\n      <th>Med_Tax_Rev</th>\n      <th>Rec_Tax_Rev</th>\n    </tr>\n    <tr>\n      <th>Year</th>\n      <th>County</th>\n      <th></th>\n      <th></th>\n    </tr>\n  </thead>\n  <tbody>\n    <tr>\n      <th rowspan=\"23\" valign=\"top\">2014</th>\n      <th>Adams</th>\n      <td>150247.0</td>\n      <td>38490.0</td>\n    </tr>\n    <tr>\n      <th>Arapahoe</th>\n      <td>333697.0</td>\n      <td>23467.0</td>\n    </tr>\n    <tr>\n      <th>Boulder</th>\n      <td>895194.0</td>\n      <td>622487.0</td>\n    </tr>\n    <tr>\n      <th>Chaffee</th>\n      <td>15178.0</td>\n      <td>0.0</td>\n    </tr>\n    <tr>\n      <th>Clear Creek</th>\n      <td>33243.0</td>\n      <td>116133.0</td>\n    </tr>\n    <tr>\n      <th>Denver</th>\n      <td>4746441.0</td>\n      <td>3525489.0</td>\n    </tr>\n    <tr>\n      <th>Eagle</th>\n      <td>62120.0</td>\n      <td>32566.0</td>\n    </tr>\n    <tr>\n      <th>El Paso</th>\n      <td>1743466.0</td>\n      <td>0.0</td>\n    </tr>\n    <tr>\n      <th>Fremont</th>\n      <td>68284.0</td>\n      <td>0.0</td>\n    </tr>\n    <tr>\n      <th>Garfield</th>\n      <td>138898.0</td>\n      <td>77124.0</td>\n    </tr>\n    <tr>\n      <th>Gilpin</th>\n      <td>10186.0</td>\n      <td>37084.0</td>\n    </tr>\n    <tr>\n      <th>Gunnison</th>\n      <td>3655.0</td>\n      <td>22372.0</td>\n    </tr>\n    <tr>\n      <th>Jefferson</th>\n      <td>582515.0</td>\n      <td>388588.0</td>\n    </tr>\n    <tr>\n      <th>La Plata</th>\n      <td>178213.0</td>\n      <td>18997.0</td>\n    </tr>\n    <tr>\n      <th>Larimer</th>\n      <td>347192.0</td>\n      <td>160891.0</td>\n    </tr>\n    <tr>\n      <th>Montezuma</th>\n      <td>29099.0</td>\n      <td>0.0</td>\n    </tr>\n    <tr>\n      <th>Pitkin</th>\n      <td>46770.0</td>\n      <td>58342.0</td>\n    </tr>\n    <tr>\n      <th>Pueblo</th>\n      <td>122830.0</td>\n      <td>373412.0</td>\n    </tr>\n    <tr>\n      <th>Remainder of State</th>\n      <td>211599.0</td>\n      <td>839332.0</td>\n    </tr>\n    <tr>\n      <th>Routt</th>\n      <td>45293.0</td>\n      <td>0.0</td>\n    </tr>\n    <tr>\n      <th>San Miguel</th>\n      <td>21932.0</td>\n      <td>98608.0</td>\n    </tr>\n    <tr>\n      <th>Summit</th>\n      <td>67317.0</td>\n      <td>261887.0</td>\n    </tr>\n    <tr>\n      <th>Weld</th>\n      <td>144272.0</td>\n      <td>184845.0</td>\n    </tr>\n    <tr>\n      <th rowspan=\"7\" valign=\"top\">2015</th>\n      <th>Adams</th>\n      <td>148254.0</td>\n      <td>461943.0</td>\n    </tr>\n    <tr>\n      <th>Arapahoe</th>\n      <td>629605.0</td>\n      <td>1276430.0</td>\n    </tr>\n    <tr>\n      <th>Boulder</th>\n      <td>857746.0</td>\n      <td>1441729.0</td>\n    </tr>\n    <tr>\n      <th>Chaffee</th>\n      <td>0.0</td>\n      <td>74682.0</td>\n    </tr>\n    <tr>\n      <th>Clear Creek</th>\n      <td>29310.0</td>\n      <td>158936.0</td>\n    </tr>\n    <tr>\n      <th>Denver</th>\n      <td>4938367.0</td>\n      <td>5937202.0</td>\n    </tr>\n    <tr>\n      <th>Eagle</th>\n      <td>104788.0</td>\n      <td>226720.0</td>\n    </tr>\n    <tr>\n      <th>...</th>\n      <th>...</th>\n      <td>...</td>\n      <td>...</td>\n    </tr>\n    <tr>\n      <th rowspan=\"30\" valign=\"top\">2020</th>\n      <th>Larimer</th>\n      <td>203122.0</td>\n      <td>0.0</td>\n    </tr>\n    <tr>\n      <th>Las Animas</th>\n      <td>8362.0</td>\n      <td>0.0</td>\n    </tr>\n    <tr>\n      <th>Lincoln</th>\n      <td>0.0</td>\n      <td>0.0</td>\n    </tr>\n    <tr>\n      <th>Logan</th>\n      <td>0.0</td>\n      <td>0.0</td>\n    </tr>\n    <tr>\n      <th>Mesa</th>\n      <td>0.0</td>\n      <td>0.0</td>\n    </tr>\n    <tr>\n      <th>Mineral</th>\n      <td>0.0</td>\n      <td>0.0</td>\n    </tr>\n    <tr>\n      <th>Moffat</th>\n      <td>0.0</td>\n      <td>0.0</td>\n    </tr>\n    <tr>\n      <th>Montezuma</th>\n      <td>0.0</td>\n      <td>0.0</td>\n    </tr>\n    <tr>\n      <th>Montrose</th>\n      <td>0.0</td>\n      <td>0.0</td>\n    </tr>\n    <tr>\n      <th>Morgan</th>\n      <td>0.0</td>\n      <td>0.0</td>\n    </tr>\n    <tr>\n      <th>Otero</th>\n      <td>0.0</td>\n      <td>0.0</td>\n    </tr>\n    <tr>\n      <th>Ouray</th>\n      <td>0.0</td>\n      <td>0.0</td>\n    </tr>\n    <tr>\n      <th>Park</th>\n      <td>0.0</td>\n      <td>0.0</td>\n    </tr>\n    <tr>\n      <th>Phillips</th>\n      <td>0.0</td>\n      <td>0.0</td>\n    </tr>\n    <tr>\n      <th>Pitkin</th>\n      <td>2048.0</td>\n      <td>0.0</td>\n    </tr>\n    <tr>\n      <th>Prowers</th>\n      <td>0.0</td>\n      <td>0.0</td>\n    </tr>\n    <tr>\n      <th>Pueblo</th>\n      <td>255330.0</td>\n      <td>0.0</td>\n    </tr>\n    <tr>\n      <th>Rio Blanco</th>\n      <td>0.0</td>\n      <td>0.0</td>\n    </tr>\n    <tr>\n      <th>Rio Grande</th>\n      <td>0.0</td>\n      <td>0.0</td>\n    </tr>\n    <tr>\n      <th>Routt</th>\n      <td>32993.0</td>\n      <td>0.0</td>\n    </tr>\n    <tr>\n      <th>Saguache</th>\n      <td>0.0</td>\n      <td>0.0</td>\n    </tr>\n    <tr>\n      <th>San Juan</th>\n      <td>0.0</td>\n      <td>0.0</td>\n    </tr>\n    <tr>\n      <th>San Miguel</th>\n      <td>0.0</td>\n      <td>0.0</td>\n    </tr>\n    <tr>\n      <th>Sedgwick</th>\n      <td>0.0</td>\n      <td>0.0</td>\n    </tr>\n    <tr>\n      <th>Sum of NR Counties</th>\n      <td>303844.0</td>\n      <td>0.0</td>\n    </tr>\n    <tr>\n      <th>Summit</th>\n      <td>0.0</td>\n      <td>0.0</td>\n    </tr>\n    <tr>\n      <th>Teller</th>\n      <td>0.0</td>\n      <td>0.0</td>\n    </tr>\n    <tr>\n      <th>Washington</th>\n      <td>0.0</td>\n      <td>0.0</td>\n    </tr>\n    <tr>\n      <th>Weld</th>\n      <td>81547.0</td>\n      <td>0.0</td>\n    </tr>\n    <tr>\n      <th>Yuma</th>\n      <td>0.0</td>\n      <td>0.0</td>\n    </tr>\n  </tbody>\n</table>\n<p>296 rows × 2 columns</p>\n</div>"
     },
     "metadata": {},
     "execution_count": 33
    }
   ],
   "source": [
    "tax_rev_clean.groupby(['Year', 'County']).sum()"
   ]
  },
  {
   "cell_type": "code",
   "execution_count": 9,
   "metadata": {},
   "outputs": [],
   "source": [
    "#Create clean file\n",
    "tax_rev_clean.to_csv(\"cleandata/CO_Cannabis_Tax_Revenue.csv\", index=False)"
   ]
  },
  {
   "cell_type": "code",
   "execution_count": null,
   "metadata": {},
   "outputs": [],
   "source": []
  }
 ]
}