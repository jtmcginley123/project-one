{
 "metadata": {
  "language_info": {
   "codemirror_mode": {
    "name": "ipython",
    "version": 3
   },
   "file_extension": ".py",
   "mimetype": "text/x-python",
   "name": "python",
   "nbconvert_exporter": "python",
   "pygments_lexer": "ipython3",
   "version": "3.7.7-final"
  },
  "orig_nbformat": 2,
  "kernelspec": {
   "name": "python3",
   "display_name": "Python 3"
  }
 },
 "nbformat": 4,
 "nbformat_minor": 2,
 "cells": [
  {
   "cell_type": "code",
   "execution_count": 4,
   "metadata": {},
   "outputs": [
    {
     "output_type": "execute_result",
     "data": {
      "text/plain": [
       "                               Licensee  DBA License_No      Street_Address  \\\n",
       "0                 1617 WAZEE STREET LLC  NaN        NaN       1617 Wazee St   \n",
       "1  3-D DENVER'S DISCREET DISPENSARY LLC  NaN        NaN  4305 Brighton Blvd   \n",
       "2                   4625 E. COLFAX, LLC  NaN        NaN  4625 E. Colfax Ave   \n",
       "3                     5280 WELLNESS LLC  NaN        NaN   1321 Elati Street   \n",
       "4   A CUT OFF THE TOP MEDICAL MARIJUANA  NaN        NaN     2059 W. 9th Ave   \n",
       "\n",
       "       City      ZIP                   Category  Month  Year Certification  \n",
       "0    Denver  80202.0  Medical Marijuana Centers      1  2013           NaN  \n",
       "1  Brighton  80216.0  Medical Marijuana Centers      1  2013           NaN  \n",
       "2    Denver  80216.0  Medical Marijuana Centers      1  2013           NaN  \n",
       "3    Denver  80204.0  Medical Marijuana Centers      1  2013           NaN  \n",
       "4    Denver  80204.0  Medical Marijuana Centers      1  2013           NaN  "
      ],
      "text/html": "<div>\n<style scoped>\n    .dataframe tbody tr th:only-of-type {\n        vertical-align: middle;\n    }\n\n    .dataframe tbody tr th {\n        vertical-align: top;\n    }\n\n    .dataframe thead th {\n        text-align: right;\n    }\n</style>\n<table border=\"1\" class=\"dataframe\">\n  <thead>\n    <tr style=\"text-align: right;\">\n      <th></th>\n      <th>Licensee</th>\n      <th>DBA</th>\n      <th>License_No</th>\n      <th>Street_Address</th>\n      <th>City</th>\n      <th>ZIP</th>\n      <th>Category</th>\n      <th>Month</th>\n      <th>Year</th>\n      <th>Certification</th>\n    </tr>\n  </thead>\n  <tbody>\n    <tr>\n      <th>0</th>\n      <td>1617 WAZEE STREET LLC</td>\n      <td>NaN</td>\n      <td>NaN</td>\n      <td>1617 Wazee St</td>\n      <td>Denver</td>\n      <td>80202.0</td>\n      <td>Medical Marijuana Centers</td>\n      <td>1</td>\n      <td>2013</td>\n      <td>NaN</td>\n    </tr>\n    <tr>\n      <th>1</th>\n      <td>3-D DENVER'S DISCREET DISPENSARY LLC</td>\n      <td>NaN</td>\n      <td>NaN</td>\n      <td>4305 Brighton Blvd</td>\n      <td>Brighton</td>\n      <td>80216.0</td>\n      <td>Medical Marijuana Centers</td>\n      <td>1</td>\n      <td>2013</td>\n      <td>NaN</td>\n    </tr>\n    <tr>\n      <th>2</th>\n      <td>4625 E. COLFAX, LLC</td>\n      <td>NaN</td>\n      <td>NaN</td>\n      <td>4625 E. Colfax Ave</td>\n      <td>Denver</td>\n      <td>80216.0</td>\n      <td>Medical Marijuana Centers</td>\n      <td>1</td>\n      <td>2013</td>\n      <td>NaN</td>\n    </tr>\n    <tr>\n      <th>3</th>\n      <td>5280 WELLNESS LLC</td>\n      <td>NaN</td>\n      <td>NaN</td>\n      <td>1321 Elati Street</td>\n      <td>Denver</td>\n      <td>80204.0</td>\n      <td>Medical Marijuana Centers</td>\n      <td>1</td>\n      <td>2013</td>\n      <td>NaN</td>\n    </tr>\n    <tr>\n      <th>4</th>\n      <td>A CUT OFF THE TOP MEDICAL MARIJUANA</td>\n      <td>NaN</td>\n      <td>NaN</td>\n      <td>2059 W. 9th Ave</td>\n      <td>Denver</td>\n      <td>80204.0</td>\n      <td>Medical Marijuana Centers</td>\n      <td>1</td>\n      <td>2013</td>\n      <td>NaN</td>\n    </tr>\n  </tbody>\n</table>\n</div>"
     },
     "metadata": {},
     "execution_count": 4
    }
   ],
   "source": [
    "# Imports\n",
    "import pandas as pd \n",
    "\n",
    "#Dispensary Addresses in CO\n",
    "dispensary_address = pd.read_csv(\"rawdata/James-Licensed-Marijuana-Businesses-Colorado.csv\")\n",
    "dispensary_address.head()\n"
   ]
  },
  {
   "cell_type": "code",
   "execution_count": 5,
   "metadata": {},
   "outputs": [],
   "source": [
    "#Licensee,DBA,License_No,Street_Address,City,ZIP,Category,Month,Year,Certification\n",
    "dispensary_address_clean = dispensary_address[['Licensee', 'Street_Address', 'City', 'ZIP']]\n",
    "\n",
    "###need to cut out the \".0\" at the end of the ZIP\n",
    "###need to use MapQuest api\n",
    "###set to remove .0 -- figure out - //set something like .0 gets blanked\n"
   ]
  },
  {
   "cell_type": "code",
   "execution_count": 7,
   "metadata": {},
   "outputs": [
    {
     "output_type": "execute_result",
     "data": {
      "text/plain": [
       "Licensee           object\n",
       "Street_Address     object\n",
       "City               object\n",
       "ZIP               float64\n",
       "dtype: object"
      ]
     },
     "metadata": {},
     "execution_count": 7
    }
   ],
   "source": [
    "dispensary_address_clean.dtypes"
   ]
  },
  {
   "cell_type": "code",
   "execution_count": 11,
   "metadata": {},
   "outputs": [
    {
     "output_type": "execute_result",
     "data": {
      "text/plain": [
       "      Month  Year              County   Med_Sales    Rec_Sales Med_Blank_Code  \\\n",
       "0        12  2019                Yuma         NaN          NaN             NL   \n",
       "1        12  2019                Weld    314840.0    2448689.0            NaN   \n",
       "2        12  2019          Washington         NaN          NaN             NL   \n",
       "3        12  2019              Teller         NaN          NaN             NL   \n",
       "4        12  2019              Summit         NaN    2476854.0             NR   \n",
       "5        12  2019  Sum of NR Counties  27314662.0  116437714.0            NaN   \n",
       "6        12  2019            Sedgwick         NaN          NaN             NR   \n",
       "7        12  2019          San Miguel         NaN     444533.0             NR   \n",
       "8        12  2019            San Juan         NaN      13232.0             NL   \n",
       "9        12  2019            Saguache         NaN     246391.0             NL   \n",
       "10       12  2019               Routt    153737.0    1112789.0            NaN   \n",
       "11       12  2019          Rio Grande         NaN          NaN             NL   \n",
       "12       12  2019          Rio Blanco         NaN          NaN             NL   \n",
       "13       12  2019              Pueblo    754498.0    6312066.0            NaN   \n",
       "14       12  2019             Prowers         NaN          NaN             NL   \n",
       "15       12  2019              Pitkin         NaN    1305423.0             NR   \n",
       "16       12  2019            Phillips         NaN          NaN             NL   \n",
       "17       12  2019                Park         NaN     405939.0             NR   \n",
       "18       12  2019               Ouray         NaN     730178.0             NL   \n",
       "19       12  2019               Otero         NaN          NaN             NR   \n",
       "20       12  2019              Morgan         NaN    1452645.0             NR   \n",
       "21       12  2019            Montrose         NaN          NaN             NR   \n",
       "22       12  2019           Montezuma         NaN    1793908.0             NR   \n",
       "23       12  2019              Moffat         NaN     853209.0             NR   \n",
       "24       12  2019             Mineral         NaN          NaN             NL   \n",
       "25       12  2019                Mesa         NaN    1896560.0             NR   \n",
       "26       12  2019               Logan         NaN          NaN             NL   \n",
       "27       12  2019             Lincoln         NaN          NaN             NL   \n",
       "28       12  2019          Las Animas     27183.0    4024747.0            NaN   \n",
       "29       12  2019             Larimer    805873.0    8164102.0            NaN   \n",
       "...     ...   ...                 ...         ...          ...            ...   \n",
       "4979      8  2020         Clear Creek         NaN     936015.0             NL   \n",
       "4980      8  2020               Ouray         NaN    1179244.0             NL   \n",
       "4981      8  2020                Yuma         NaN          NaN             NL   \n",
       "4982      8  2020             El Paso  13634778.0          NaN            NaN   \n",
       "4983      8  2020             Jackson         NaN          NaN             NL   \n",
       "4984      8  2020              Pueblo    796964.0   11593542.0            NaN   \n",
       "4985      8  2020              Morgan         NaN    2129366.0             NR   \n",
       "4986      8  2020            San Juan         NaN          NaN             NL   \n",
       "4987      8  2020             Fremont         NaN          NaN             NR   \n",
       "4988      8  2020              Moffat         NaN    1566169.0             NR   \n",
       "4989      8  2020          San Miguel         NaN     652208.0             NR   \n",
       "4990      8  2020               Logan         NaN          NaN             NL   \n",
       "4991      8  2020          Kit Carson         NaN          NaN             NL   \n",
       "4992      8  2020          Washington         NaN          NaN             NL   \n",
       "4993      8  2020               Eagle    134938.0    2077635.0            NaN   \n",
       "4994      8  2020          Las Animas     37764.0    8014108.0            NaN   \n",
       "4995      8  2020              Elbert         NaN          NaN             NL   \n",
       "4996      8  2020              Summit         NaN    2915208.0             NR   \n",
       "4997      8  2020          Rio Blanco         NaN          NaN             NL   \n",
       "4998      8  2020            Sedgwick         NaN          NaN             NL   \n",
       "4999      8  2020            Montrose         NaN          NaN             NR   \n",
       "5000      8  2020             Douglas         NaN          NaN             NL   \n",
       "5001      8  2020               Kiowa         NaN          NaN             NL   \n",
       "5002      8  2020                Bent         NaN          NaN             NL   \n",
       "5003      8  2020            Gunnison         NaN    1172858.0             NL   \n",
       "5004      8  2020             Chaffee         NaN          NaN             NR   \n",
       "5005      8  2020              Pitkin         NaN    1644529.0             NR   \n",
       "5006      8  2020             Prowers         NaN          NaN             NL   \n",
       "5007      8  2020          Broomfield         NaN          NaN             NL   \n",
       "5008      8  2020             Alamosa         NaN          NaN             NR   \n",
       "\n",
       "     Rec_Blank_Code                        ID  \n",
       "0                NL                122019Yuma  \n",
       "1               NaN                122019Weld  \n",
       "2                NL          122019Washington  \n",
       "3                NL              122019Teller  \n",
       "4               NaN              122019Summit  \n",
       "5               NaN  122019Sum of NR Counties  \n",
       "6                NR            122019Sedgwick  \n",
       "7               NaN          122019San Miguel  \n",
       "8               NaN            122019San Juan  \n",
       "9               NaN            122019Saguache  \n",
       "10              NaN               122019Routt  \n",
       "11               NL          122019Rio Grande  \n",
       "12               NL          122019Rio Blanco  \n",
       "13              NaN              122019Pueblo  \n",
       "14               NL             122019Prowers  \n",
       "15              NaN              122019Pitkin  \n",
       "16               NL            122019Phillips  \n",
       "17              NaN                122019Park  \n",
       "18              NaN               122019Ouray  \n",
       "19               NR               122019Otero  \n",
       "20              NaN              122019Morgan  \n",
       "21               NR            122019Montrose  \n",
       "22              NaN           122019Montezuma  \n",
       "23              NaN              122019Moffat  \n",
       "24               NL             122019Mineral  \n",
       "25              NaN                122019Mesa  \n",
       "26               NL               122019Logan  \n",
       "27               NL             122019Lincoln  \n",
       "28              NaN          122019Las Animas  \n",
       "29              NaN             122019Larimer  \n",
       "...             ...                       ...  \n",
       "4979            NaN          82020Clear Creek  \n",
       "4980            NaN                82020Ouray  \n",
       "4981             NL                 82020Yuma  \n",
       "4982             NR              82020El Paso  \n",
       "4983             NL              82020Jackson  \n",
       "4984            NaN               82020Pueblo  \n",
       "4985            NaN               82020Morgan  \n",
       "4986             NR             82020San Juan  \n",
       "4987             NL              82020Fremont  \n",
       "4988            NaN               82020Moffat  \n",
       "4989            NaN           82020San Miguel  \n",
       "4990             NL                82020Logan  \n",
       "4991             NL           82020Kit Carson  \n",
       "4992             NL           82020Washington  \n",
       "4993            NaN                82020Eagle  \n",
       "4994            NaN           82020Las Animas  \n",
       "4995             NL               82020Elbert  \n",
       "4996            NaN               82020Summit  \n",
       "4997             NL           82020Rio Blanco  \n",
       "4998             NR             82020Sedgwick  \n",
       "4999             NR             82020Montrose  \n",
       "5000             NL              82020Douglas  \n",
       "5001             NL                82020Kiowa  \n",
       "5002             NR                 82020Bent  \n",
       "5003            NaN             82020Gunnison  \n",
       "5004             NR              82020Chaffee  \n",
       "5005            NaN               82020Pitkin  \n",
       "5006             NL              82020Prowers  \n",
       "5007             NL           82020Broomfield  \n",
       "5008             NL              82020Alamosa  \n",
       "\n",
       "[5009 rows x 8 columns]"
      ],
      "text/html": "<div>\n<style scoped>\n    .dataframe tbody tr th:only-of-type {\n        vertical-align: middle;\n    }\n\n    .dataframe tbody tr th {\n        vertical-align: top;\n    }\n\n    .dataframe thead th {\n        text-align: right;\n    }\n</style>\n<table border=\"1\" class=\"dataframe\">\n  <thead>\n    <tr style=\"text-align: right;\">\n      <th></th>\n      <th>Month</th>\n      <th>Year</th>\n      <th>County</th>\n      <th>Med_Sales</th>\n      <th>Rec_Sales</th>\n      <th>Med_Blank_Code</th>\n      <th>Rec_Blank_Code</th>\n      <th>ID</th>\n    </tr>\n  </thead>\n  <tbody>\n    <tr>\n      <th>0</th>\n      <td>12</td>\n      <td>2019</td>\n      <td>Yuma</td>\n      <td>NaN</td>\n      <td>NaN</td>\n      <td>NL</td>\n      <td>NL</td>\n      <td>122019Yuma</td>\n    </tr>\n    <tr>\n      <th>1</th>\n      <td>12</td>\n      <td>2019</td>\n      <td>Weld</td>\n      <td>314840.0</td>\n      <td>2448689.0</td>\n      <td>NaN</td>\n      <td>NaN</td>\n      <td>122019Weld</td>\n    </tr>\n    <tr>\n      <th>2</th>\n      <td>12</td>\n      <td>2019</td>\n      <td>Washington</td>\n      <td>NaN</td>\n      <td>NaN</td>\n      <td>NL</td>\n      <td>NL</td>\n      <td>122019Washington</td>\n    </tr>\n    <tr>\n      <th>3</th>\n      <td>12</td>\n      <td>2019</td>\n      <td>Teller</td>\n      <td>NaN</td>\n      <td>NaN</td>\n      <td>NL</td>\n      <td>NL</td>\n      <td>122019Teller</td>\n    </tr>\n    <tr>\n      <th>4</th>\n      <td>12</td>\n      <td>2019</td>\n      <td>Summit</td>\n      <td>NaN</td>\n      <td>2476854.0</td>\n      <td>NR</td>\n      <td>NaN</td>\n      <td>122019Summit</td>\n    </tr>\n    <tr>\n      <th>5</th>\n      <td>12</td>\n      <td>2019</td>\n      <td>Sum of NR Counties</td>\n      <td>27314662.0</td>\n      <td>116437714.0</td>\n      <td>NaN</td>\n      <td>NaN</td>\n      <td>122019Sum of NR Counties</td>\n    </tr>\n    <tr>\n      <th>6</th>\n      <td>12</td>\n      <td>2019</td>\n      <td>Sedgwick</td>\n      <td>NaN</td>\n      <td>NaN</td>\n      <td>NR</td>\n      <td>NR</td>\n      <td>122019Sedgwick</td>\n    </tr>\n    <tr>\n      <th>7</th>\n      <td>12</td>\n      <td>2019</td>\n      <td>San Miguel</td>\n      <td>NaN</td>\n      <td>444533.0</td>\n      <td>NR</td>\n      <td>NaN</td>\n      <td>122019San Miguel</td>\n    </tr>\n    <tr>\n      <th>8</th>\n      <td>12</td>\n      <td>2019</td>\n      <td>San Juan</td>\n      <td>NaN</td>\n      <td>13232.0</td>\n      <td>NL</td>\n      <td>NaN</td>\n      <td>122019San Juan</td>\n    </tr>\n    <tr>\n      <th>9</th>\n      <td>12</td>\n      <td>2019</td>\n      <td>Saguache</td>\n      <td>NaN</td>\n      <td>246391.0</td>\n      <td>NL</td>\n      <td>NaN</td>\n      <td>122019Saguache</td>\n    </tr>\n    <tr>\n      <th>10</th>\n      <td>12</td>\n      <td>2019</td>\n      <td>Routt</td>\n      <td>153737.0</td>\n      <td>1112789.0</td>\n      <td>NaN</td>\n      <td>NaN</td>\n      <td>122019Routt</td>\n    </tr>\n    <tr>\n      <th>11</th>\n      <td>12</td>\n      <td>2019</td>\n      <td>Rio Grande</td>\n      <td>NaN</td>\n      <td>NaN</td>\n      <td>NL</td>\n      <td>NL</td>\n      <td>122019Rio Grande</td>\n    </tr>\n    <tr>\n      <th>12</th>\n      <td>12</td>\n      <td>2019</td>\n      <td>Rio Blanco</td>\n      <td>NaN</td>\n      <td>NaN</td>\n      <td>NL</td>\n      <td>NL</td>\n      <td>122019Rio Blanco</td>\n    </tr>\n    <tr>\n      <th>13</th>\n      <td>12</td>\n      <td>2019</td>\n      <td>Pueblo</td>\n      <td>754498.0</td>\n      <td>6312066.0</td>\n      <td>NaN</td>\n      <td>NaN</td>\n      <td>122019Pueblo</td>\n    </tr>\n    <tr>\n      <th>14</th>\n      <td>12</td>\n      <td>2019</td>\n      <td>Prowers</td>\n      <td>NaN</td>\n      <td>NaN</td>\n      <td>NL</td>\n      <td>NL</td>\n      <td>122019Prowers</td>\n    </tr>\n    <tr>\n      <th>15</th>\n      <td>12</td>\n      <td>2019</td>\n      <td>Pitkin</td>\n      <td>NaN</td>\n      <td>1305423.0</td>\n      <td>NR</td>\n      <td>NaN</td>\n      <td>122019Pitkin</td>\n    </tr>\n    <tr>\n      <th>16</th>\n      <td>12</td>\n      <td>2019</td>\n      <td>Phillips</td>\n      <td>NaN</td>\n      <td>NaN</td>\n      <td>NL</td>\n      <td>NL</td>\n      <td>122019Phillips</td>\n    </tr>\n    <tr>\n      <th>17</th>\n      <td>12</td>\n      <td>2019</td>\n      <td>Park</td>\n      <td>NaN</td>\n      <td>405939.0</td>\n      <td>NR</td>\n      <td>NaN</td>\n      <td>122019Park</td>\n    </tr>\n    <tr>\n      <th>18</th>\n      <td>12</td>\n      <td>2019</td>\n      <td>Ouray</td>\n      <td>NaN</td>\n      <td>730178.0</td>\n      <td>NL</td>\n      <td>NaN</td>\n      <td>122019Ouray</td>\n    </tr>\n    <tr>\n      <th>19</th>\n      <td>12</td>\n      <td>2019</td>\n      <td>Otero</td>\n      <td>NaN</td>\n      <td>NaN</td>\n      <td>NR</td>\n      <td>NR</td>\n      <td>122019Otero</td>\n    </tr>\n    <tr>\n      <th>20</th>\n      <td>12</td>\n      <td>2019</td>\n      <td>Morgan</td>\n      <td>NaN</td>\n      <td>1452645.0</td>\n      <td>NR</td>\n      <td>NaN</td>\n      <td>122019Morgan</td>\n    </tr>\n    <tr>\n      <th>21</th>\n      <td>12</td>\n      <td>2019</td>\n      <td>Montrose</td>\n      <td>NaN</td>\n      <td>NaN</td>\n      <td>NR</td>\n      <td>NR</td>\n      <td>122019Montrose</td>\n    </tr>\n    <tr>\n      <th>22</th>\n      <td>12</td>\n      <td>2019</td>\n      <td>Montezuma</td>\n      <td>NaN</td>\n      <td>1793908.0</td>\n      <td>NR</td>\n      <td>NaN</td>\n      <td>122019Montezuma</td>\n    </tr>\n    <tr>\n      <th>23</th>\n      <td>12</td>\n      <td>2019</td>\n      <td>Moffat</td>\n      <td>NaN</td>\n      <td>853209.0</td>\n      <td>NR</td>\n      <td>NaN</td>\n      <td>122019Moffat</td>\n    </tr>\n    <tr>\n      <th>24</th>\n      <td>12</td>\n      <td>2019</td>\n      <td>Mineral</td>\n      <td>NaN</td>\n      <td>NaN</td>\n      <td>NL</td>\n      <td>NL</td>\n      <td>122019Mineral</td>\n    </tr>\n    <tr>\n      <th>25</th>\n      <td>12</td>\n      <td>2019</td>\n      <td>Mesa</td>\n      <td>NaN</td>\n      <td>1896560.0</td>\n      <td>NR</td>\n      <td>NaN</td>\n      <td>122019Mesa</td>\n    </tr>\n    <tr>\n      <th>26</th>\n      <td>12</td>\n      <td>2019</td>\n      <td>Logan</td>\n      <td>NaN</td>\n      <td>NaN</td>\n      <td>NL</td>\n      <td>NL</td>\n      <td>122019Logan</td>\n    </tr>\n    <tr>\n      <th>27</th>\n      <td>12</td>\n      <td>2019</td>\n      <td>Lincoln</td>\n      <td>NaN</td>\n      <td>NaN</td>\n      <td>NL</td>\n      <td>NL</td>\n      <td>122019Lincoln</td>\n    </tr>\n    <tr>\n      <th>28</th>\n      <td>12</td>\n      <td>2019</td>\n      <td>Las Animas</td>\n      <td>27183.0</td>\n      <td>4024747.0</td>\n      <td>NaN</td>\n      <td>NaN</td>\n      <td>122019Las Animas</td>\n    </tr>\n    <tr>\n      <th>29</th>\n      <td>12</td>\n      <td>2019</td>\n      <td>Larimer</td>\n      <td>805873.0</td>\n      <td>8164102.0</td>\n      <td>NaN</td>\n      <td>NaN</td>\n      <td>122019Larimer</td>\n    </tr>\n    <tr>\n      <th>...</th>\n      <td>...</td>\n      <td>...</td>\n      <td>...</td>\n      <td>...</td>\n      <td>...</td>\n      <td>...</td>\n      <td>...</td>\n      <td>...</td>\n    </tr>\n    <tr>\n      <th>4979</th>\n      <td>8</td>\n      <td>2020</td>\n      <td>Clear Creek</td>\n      <td>NaN</td>\n      <td>936015.0</td>\n      <td>NL</td>\n      <td>NaN</td>\n      <td>82020Clear Creek</td>\n    </tr>\n    <tr>\n      <th>4980</th>\n      <td>8</td>\n      <td>2020</td>\n      <td>Ouray</td>\n      <td>NaN</td>\n      <td>1179244.0</td>\n      <td>NL</td>\n      <td>NaN</td>\n      <td>82020Ouray</td>\n    </tr>\n    <tr>\n      <th>4981</th>\n      <td>8</td>\n      <td>2020</td>\n      <td>Yuma</td>\n      <td>NaN</td>\n      <td>NaN</td>\n      <td>NL</td>\n      <td>NL</td>\n      <td>82020Yuma</td>\n    </tr>\n    <tr>\n      <th>4982</th>\n      <td>8</td>\n      <td>2020</td>\n      <td>El Paso</td>\n      <td>13634778.0</td>\n      <td>NaN</td>\n      <td>NaN</td>\n      <td>NR</td>\n      <td>82020El Paso</td>\n    </tr>\n    <tr>\n      <th>4983</th>\n      <td>8</td>\n      <td>2020</td>\n      <td>Jackson</td>\n      <td>NaN</td>\n      <td>NaN</td>\n      <td>NL</td>\n      <td>NL</td>\n      <td>82020Jackson</td>\n    </tr>\n    <tr>\n      <th>4984</th>\n      <td>8</td>\n      <td>2020</td>\n      <td>Pueblo</td>\n      <td>796964.0</td>\n      <td>11593542.0</td>\n      <td>NaN</td>\n      <td>NaN</td>\n      <td>82020Pueblo</td>\n    </tr>\n    <tr>\n      <th>4985</th>\n      <td>8</td>\n      <td>2020</td>\n      <td>Morgan</td>\n      <td>NaN</td>\n      <td>2129366.0</td>\n      <td>NR</td>\n      <td>NaN</td>\n      <td>82020Morgan</td>\n    </tr>\n    <tr>\n      <th>4986</th>\n      <td>8</td>\n      <td>2020</td>\n      <td>San Juan</td>\n      <td>NaN</td>\n      <td>NaN</td>\n      <td>NL</td>\n      <td>NR</td>\n      <td>82020San Juan</td>\n    </tr>\n    <tr>\n      <th>4987</th>\n      <td>8</td>\n      <td>2020</td>\n      <td>Fremont</td>\n      <td>NaN</td>\n      <td>NaN</td>\n      <td>NR</td>\n      <td>NL</td>\n      <td>82020Fremont</td>\n    </tr>\n    <tr>\n      <th>4988</th>\n      <td>8</td>\n      <td>2020</td>\n      <td>Moffat</td>\n      <td>NaN</td>\n      <td>1566169.0</td>\n      <td>NR</td>\n      <td>NaN</td>\n      <td>82020Moffat</td>\n    </tr>\n    <tr>\n      <th>4989</th>\n      <td>8</td>\n      <td>2020</td>\n      <td>San Miguel</td>\n      <td>NaN</td>\n      <td>652208.0</td>\n      <td>NR</td>\n      <td>NaN</td>\n      <td>82020San Miguel</td>\n    </tr>\n    <tr>\n      <th>4990</th>\n      <td>8</td>\n      <td>2020</td>\n      <td>Logan</td>\n      <td>NaN</td>\n      <td>NaN</td>\n      <td>NL</td>\n      <td>NL</td>\n      <td>82020Logan</td>\n    </tr>\n    <tr>\n      <th>4991</th>\n      <td>8</td>\n      <td>2020</td>\n      <td>Kit Carson</td>\n      <td>NaN</td>\n      <td>NaN</td>\n      <td>NL</td>\n      <td>NL</td>\n      <td>82020Kit Carson</td>\n    </tr>\n    <tr>\n      <th>4992</th>\n      <td>8</td>\n      <td>2020</td>\n      <td>Washington</td>\n      <td>NaN</td>\n      <td>NaN</td>\n      <td>NL</td>\n      <td>NL</td>\n      <td>82020Washington</td>\n    </tr>\n    <tr>\n      <th>4993</th>\n      <td>8</td>\n      <td>2020</td>\n      <td>Eagle</td>\n      <td>134938.0</td>\n      <td>2077635.0</td>\n      <td>NaN</td>\n      <td>NaN</td>\n      <td>82020Eagle</td>\n    </tr>\n    <tr>\n      <th>4994</th>\n      <td>8</td>\n      <td>2020</td>\n      <td>Las Animas</td>\n      <td>37764.0</td>\n      <td>8014108.0</td>\n      <td>NaN</td>\n      <td>NaN</td>\n      <td>82020Las Animas</td>\n    </tr>\n    <tr>\n      <th>4995</th>\n      <td>8</td>\n      <td>2020</td>\n      <td>Elbert</td>\n      <td>NaN</td>\n      <td>NaN</td>\n      <td>NL</td>\n      <td>NL</td>\n      <td>82020Elbert</td>\n    </tr>\n    <tr>\n      <th>4996</th>\n      <td>8</td>\n      <td>2020</td>\n      <td>Summit</td>\n      <td>NaN</td>\n      <td>2915208.0</td>\n      <td>NR</td>\n      <td>NaN</td>\n      <td>82020Summit</td>\n    </tr>\n    <tr>\n      <th>4997</th>\n      <td>8</td>\n      <td>2020</td>\n      <td>Rio Blanco</td>\n      <td>NaN</td>\n      <td>NaN</td>\n      <td>NL</td>\n      <td>NL</td>\n      <td>82020Rio Blanco</td>\n    </tr>\n    <tr>\n      <th>4998</th>\n      <td>8</td>\n      <td>2020</td>\n      <td>Sedgwick</td>\n      <td>NaN</td>\n      <td>NaN</td>\n      <td>NL</td>\n      <td>NR</td>\n      <td>82020Sedgwick</td>\n    </tr>\n    <tr>\n      <th>4999</th>\n      <td>8</td>\n      <td>2020</td>\n      <td>Montrose</td>\n      <td>NaN</td>\n      <td>NaN</td>\n      <td>NR</td>\n      <td>NR</td>\n      <td>82020Montrose</td>\n    </tr>\n    <tr>\n      <th>5000</th>\n      <td>8</td>\n      <td>2020</td>\n      <td>Douglas</td>\n      <td>NaN</td>\n      <td>NaN</td>\n      <td>NL</td>\n      <td>NL</td>\n      <td>82020Douglas</td>\n    </tr>\n    <tr>\n      <th>5001</th>\n      <td>8</td>\n      <td>2020</td>\n      <td>Kiowa</td>\n      <td>NaN</td>\n      <td>NaN</td>\n      <td>NL</td>\n      <td>NL</td>\n      <td>82020Kiowa</td>\n    </tr>\n    <tr>\n      <th>5002</th>\n      <td>8</td>\n      <td>2020</td>\n      <td>Bent</td>\n      <td>NaN</td>\n      <td>NaN</td>\n      <td>NL</td>\n      <td>NR</td>\n      <td>82020Bent</td>\n    </tr>\n    <tr>\n      <th>5003</th>\n      <td>8</td>\n      <td>2020</td>\n      <td>Gunnison</td>\n      <td>NaN</td>\n      <td>1172858.0</td>\n      <td>NL</td>\n      <td>NaN</td>\n      <td>82020Gunnison</td>\n    </tr>\n    <tr>\n      <th>5004</th>\n      <td>8</td>\n      <td>2020</td>\n      <td>Chaffee</td>\n      <td>NaN</td>\n      <td>NaN</td>\n      <td>NR</td>\n      <td>NR</td>\n      <td>82020Chaffee</td>\n    </tr>\n    <tr>\n      <th>5005</th>\n      <td>8</td>\n      <td>2020</td>\n      <td>Pitkin</td>\n      <td>NaN</td>\n      <td>1644529.0</td>\n      <td>NR</td>\n      <td>NaN</td>\n      <td>82020Pitkin</td>\n    </tr>\n    <tr>\n      <th>5006</th>\n      <td>8</td>\n      <td>2020</td>\n      <td>Prowers</td>\n      <td>NaN</td>\n      <td>NaN</td>\n      <td>NL</td>\n      <td>NL</td>\n      <td>82020Prowers</td>\n    </tr>\n    <tr>\n      <th>5007</th>\n      <td>8</td>\n      <td>2020</td>\n      <td>Broomfield</td>\n      <td>NaN</td>\n      <td>NaN</td>\n      <td>NL</td>\n      <td>NL</td>\n      <td>82020Broomfield</td>\n    </tr>\n    <tr>\n      <th>5008</th>\n      <td>8</td>\n      <td>2020</td>\n      <td>Alamosa</td>\n      <td>NaN</td>\n      <td>NaN</td>\n      <td>NR</td>\n      <td>NL</td>\n      <td>82020Alamosa</td>\n    </tr>\n  </tbody>\n</table>\n<p>5009 rows × 8 columns</p>\n</div>"
     },
     "metadata": {},
     "execution_count": 11
    }
   ],
   "source": [
    "df = pd.read_csv(\"rawdata/James-Marijuana-Sales-Revenue-Colorado.csv\")\n",
    "df"
   ]
  },
  {
   "cell_type": "code",
   "execution_count": 13,
   "metadata": {},
   "outputs": [
    {
     "output_type": "execute_result",
     "data": {
      "text/plain": [
       "      Month  Year              County\n",
       "0        12  2019                Yuma\n",
       "1        12  2019                Weld\n",
       "2        12  2019          Washington\n",
       "3        12  2019              Teller\n",
       "4        12  2019              Summit\n",
       "5        12  2019  Sum of NR Counties\n",
       "6        12  2019            Sedgwick\n",
       "7        12  2019          San Miguel\n",
       "8        12  2019            San Juan\n",
       "9        12  2019            Saguache\n",
       "10       12  2019               Routt\n",
       "11       12  2019          Rio Grande\n",
       "12       12  2019          Rio Blanco\n",
       "13       12  2019              Pueblo\n",
       "14       12  2019             Prowers\n",
       "15       12  2019              Pitkin\n",
       "16       12  2019            Phillips\n",
       "17       12  2019                Park\n",
       "18       12  2019               Ouray\n",
       "19       12  2019               Otero\n",
       "20       12  2019              Morgan\n",
       "21       12  2019            Montrose\n",
       "22       12  2019           Montezuma\n",
       "23       12  2019              Moffat\n",
       "24       12  2019             Mineral\n",
       "25       12  2019                Mesa\n",
       "26       12  2019               Logan\n",
       "27       12  2019             Lincoln\n",
       "28       12  2019          Las Animas\n",
       "29       12  2019             Larimer\n",
       "...     ...   ...                 ...\n",
       "4979      8  2020         Clear Creek\n",
       "4980      8  2020               Ouray\n",
       "4981      8  2020                Yuma\n",
       "4982      8  2020             El Paso\n",
       "4983      8  2020             Jackson\n",
       "4984      8  2020              Pueblo\n",
       "4985      8  2020              Morgan\n",
       "4986      8  2020            San Juan\n",
       "4987      8  2020             Fremont\n",
       "4988      8  2020              Moffat\n",
       "4989      8  2020          San Miguel\n",
       "4990      8  2020               Logan\n",
       "4991      8  2020          Kit Carson\n",
       "4992      8  2020          Washington\n",
       "4993      8  2020               Eagle\n",
       "4994      8  2020          Las Animas\n",
       "4995      8  2020              Elbert\n",
       "4996      8  2020              Summit\n",
       "4997      8  2020          Rio Blanco\n",
       "4998      8  2020            Sedgwick\n",
       "4999      8  2020            Montrose\n",
       "5000      8  2020             Douglas\n",
       "5001      8  2020               Kiowa\n",
       "5002      8  2020                Bent\n",
       "5003      8  2020            Gunnison\n",
       "5004      8  2020             Chaffee\n",
       "5005      8  2020              Pitkin\n",
       "5006      8  2020             Prowers\n",
       "5007      8  2020          Broomfield\n",
       "5008      8  2020             Alamosa\n",
       "\n",
       "[5009 rows x 3 columns]"
      ],
      "text/html": "<div>\n<style scoped>\n    .dataframe tbody tr th:only-of-type {\n        vertical-align: middle;\n    }\n\n    .dataframe tbody tr th {\n        vertical-align: top;\n    }\n\n    .dataframe thead th {\n        text-align: right;\n    }\n</style>\n<table border=\"1\" class=\"dataframe\">\n  <thead>\n    <tr style=\"text-align: right;\">\n      <th></th>\n      <th>Month</th>\n      <th>Year</th>\n      <th>County</th>\n    </tr>\n  </thead>\n  <tbody>\n    <tr>\n      <th>0</th>\n      <td>12</td>\n      <td>2019</td>\n      <td>Yuma</td>\n    </tr>\n    <tr>\n      <th>1</th>\n      <td>12</td>\n      <td>2019</td>\n      <td>Weld</td>\n    </tr>\n    <tr>\n      <th>2</th>\n      <td>12</td>\n      <td>2019</td>\n      <td>Washington</td>\n    </tr>\n    <tr>\n      <th>3</th>\n      <td>12</td>\n      <td>2019</td>\n      <td>Teller</td>\n    </tr>\n    <tr>\n      <th>4</th>\n      <td>12</td>\n      <td>2019</td>\n      <td>Summit</td>\n    </tr>\n    <tr>\n      <th>5</th>\n      <td>12</td>\n      <td>2019</td>\n      <td>Sum of NR Counties</td>\n    </tr>\n    <tr>\n      <th>6</th>\n      <td>12</td>\n      <td>2019</td>\n      <td>Sedgwick</td>\n    </tr>\n    <tr>\n      <th>7</th>\n      <td>12</td>\n      <td>2019</td>\n      <td>San Miguel</td>\n    </tr>\n    <tr>\n      <th>8</th>\n      <td>12</td>\n      <td>2019</td>\n      <td>San Juan</td>\n    </tr>\n    <tr>\n      <th>9</th>\n      <td>12</td>\n      <td>2019</td>\n      <td>Saguache</td>\n    </tr>\n    <tr>\n      <th>10</th>\n      <td>12</td>\n      <td>2019</td>\n      <td>Routt</td>\n    </tr>\n    <tr>\n      <th>11</th>\n      <td>12</td>\n      <td>2019</td>\n      <td>Rio Grande</td>\n    </tr>\n    <tr>\n      <th>12</th>\n      <td>12</td>\n      <td>2019</td>\n      <td>Rio Blanco</td>\n    </tr>\n    <tr>\n      <th>13</th>\n      <td>12</td>\n      <td>2019</td>\n      <td>Pueblo</td>\n    </tr>\n    <tr>\n      <th>14</th>\n      <td>12</td>\n      <td>2019</td>\n      <td>Prowers</td>\n    </tr>\n    <tr>\n      <th>15</th>\n      <td>12</td>\n      <td>2019</td>\n      <td>Pitkin</td>\n    </tr>\n    <tr>\n      <th>16</th>\n      <td>12</td>\n      <td>2019</td>\n      <td>Phillips</td>\n    </tr>\n    <tr>\n      <th>17</th>\n      <td>12</td>\n      <td>2019</td>\n      <td>Park</td>\n    </tr>\n    <tr>\n      <th>18</th>\n      <td>12</td>\n      <td>2019</td>\n      <td>Ouray</td>\n    </tr>\n    <tr>\n      <th>19</th>\n      <td>12</td>\n      <td>2019</td>\n      <td>Otero</td>\n    </tr>\n    <tr>\n      <th>20</th>\n      <td>12</td>\n      <td>2019</td>\n      <td>Morgan</td>\n    </tr>\n    <tr>\n      <th>21</th>\n      <td>12</td>\n      <td>2019</td>\n      <td>Montrose</td>\n    </tr>\n    <tr>\n      <th>22</th>\n      <td>12</td>\n      <td>2019</td>\n      <td>Montezuma</td>\n    </tr>\n    <tr>\n      <th>23</th>\n      <td>12</td>\n      <td>2019</td>\n      <td>Moffat</td>\n    </tr>\n    <tr>\n      <th>24</th>\n      <td>12</td>\n      <td>2019</td>\n      <td>Mineral</td>\n    </tr>\n    <tr>\n      <th>25</th>\n      <td>12</td>\n      <td>2019</td>\n      <td>Mesa</td>\n    </tr>\n    <tr>\n      <th>26</th>\n      <td>12</td>\n      <td>2019</td>\n      <td>Logan</td>\n    </tr>\n    <tr>\n      <th>27</th>\n      <td>12</td>\n      <td>2019</td>\n      <td>Lincoln</td>\n    </tr>\n    <tr>\n      <th>28</th>\n      <td>12</td>\n      <td>2019</td>\n      <td>Las Animas</td>\n    </tr>\n    <tr>\n      <th>29</th>\n      <td>12</td>\n      <td>2019</td>\n      <td>Larimer</td>\n    </tr>\n    <tr>\n      <th>...</th>\n      <td>...</td>\n      <td>...</td>\n      <td>...</td>\n    </tr>\n    <tr>\n      <th>4979</th>\n      <td>8</td>\n      <td>2020</td>\n      <td>Clear Creek</td>\n    </tr>\n    <tr>\n      <th>4980</th>\n      <td>8</td>\n      <td>2020</td>\n      <td>Ouray</td>\n    </tr>\n    <tr>\n      <th>4981</th>\n      <td>8</td>\n      <td>2020</td>\n      <td>Yuma</td>\n    </tr>\n    <tr>\n      <th>4982</th>\n      <td>8</td>\n      <td>2020</td>\n      <td>El Paso</td>\n    </tr>\n    <tr>\n      <th>4983</th>\n      <td>8</td>\n      <td>2020</td>\n      <td>Jackson</td>\n    </tr>\n    <tr>\n      <th>4984</th>\n      <td>8</td>\n      <td>2020</td>\n      <td>Pueblo</td>\n    </tr>\n    <tr>\n      <th>4985</th>\n      <td>8</td>\n      <td>2020</td>\n      <td>Morgan</td>\n    </tr>\n    <tr>\n      <th>4986</th>\n      <td>8</td>\n      <td>2020</td>\n      <td>San Juan</td>\n    </tr>\n    <tr>\n      <th>4987</th>\n      <td>8</td>\n      <td>2020</td>\n      <td>Fremont</td>\n    </tr>\n    <tr>\n      <th>4988</th>\n      <td>8</td>\n      <td>2020</td>\n      <td>Moffat</td>\n    </tr>\n    <tr>\n      <th>4989</th>\n      <td>8</td>\n      <td>2020</td>\n      <td>San Miguel</td>\n    </tr>\n    <tr>\n      <th>4990</th>\n      <td>8</td>\n      <td>2020</td>\n      <td>Logan</td>\n    </tr>\n    <tr>\n      <th>4991</th>\n      <td>8</td>\n      <td>2020</td>\n      <td>Kit Carson</td>\n    </tr>\n    <tr>\n      <th>4992</th>\n      <td>8</td>\n      <td>2020</td>\n      <td>Washington</td>\n    </tr>\n    <tr>\n      <th>4993</th>\n      <td>8</td>\n      <td>2020</td>\n      <td>Eagle</td>\n    </tr>\n    <tr>\n      <th>4994</th>\n      <td>8</td>\n      <td>2020</td>\n      <td>Las Animas</td>\n    </tr>\n    <tr>\n      <th>4995</th>\n      <td>8</td>\n      <td>2020</td>\n      <td>Elbert</td>\n    </tr>\n    <tr>\n      <th>4996</th>\n      <td>8</td>\n      <td>2020</td>\n      <td>Summit</td>\n    </tr>\n    <tr>\n      <th>4997</th>\n      <td>8</td>\n      <td>2020</td>\n      <td>Rio Blanco</td>\n    </tr>\n    <tr>\n      <th>4998</th>\n      <td>8</td>\n      <td>2020</td>\n      <td>Sedgwick</td>\n    </tr>\n    <tr>\n      <th>4999</th>\n      <td>8</td>\n      <td>2020</td>\n      <td>Montrose</td>\n    </tr>\n    <tr>\n      <th>5000</th>\n      <td>8</td>\n      <td>2020</td>\n      <td>Douglas</td>\n    </tr>\n    <tr>\n      <th>5001</th>\n      <td>8</td>\n      <td>2020</td>\n      <td>Kiowa</td>\n    </tr>\n    <tr>\n      <th>5002</th>\n      <td>8</td>\n      <td>2020</td>\n      <td>Bent</td>\n    </tr>\n    <tr>\n      <th>5003</th>\n      <td>8</td>\n      <td>2020</td>\n      <td>Gunnison</td>\n    </tr>\n    <tr>\n      <th>5004</th>\n      <td>8</td>\n      <td>2020</td>\n      <td>Chaffee</td>\n    </tr>\n    <tr>\n      <th>5005</th>\n      <td>8</td>\n      <td>2020</td>\n      <td>Pitkin</td>\n    </tr>\n    <tr>\n      <th>5006</th>\n      <td>8</td>\n      <td>2020</td>\n      <td>Prowers</td>\n    </tr>\n    <tr>\n      <th>5007</th>\n      <td>8</td>\n      <td>2020</td>\n      <td>Broomfield</td>\n    </tr>\n    <tr>\n      <th>5008</th>\n      <td>8</td>\n      <td>2020</td>\n      <td>Alamosa</td>\n    </tr>\n  </tbody>\n</table>\n<p>5009 rows × 3 columns</p>\n</div>"
     },
     "metadata": {},
     "execution_count": 13
    }
   ],
   "source": [
    "#Month,Year,County,Med_Sales,Rec_Sales,Med_Blank_Code,Rec_Blank_Code,ID\n",
    "state_sales_tax_rev_clean = df[['Month', 'Year', 'County']]\n",
    "#, 'Med_Sales', 'Rec_Sales']]\n",
    "state_sales_tax_rev_clean"
   ]
  },
  {
   "cell_type": "code",
   "execution_count": 23,
   "metadata": {},
   "outputs": [
    {
     "output_type": "execute_result",
     "data": {
      "text/plain": [
       "      Month  Year      County  Med_Tax_Rev  Rec_Tax_Rev  \\\n",
       "0         8  2019       Adams      17037.0          NaN   \n",
       "1         8  2019     Alamosa          NaN          NaN   \n",
       "2         8  2019    Arapahoe      24256.0          NaN   \n",
       "3         8  2019     Boulder      33557.0          NaN   \n",
       "4         8  2019     Chaffee          NaN          NaN   \n",
       "...     ...   ...         ...          ...          ...   \n",
       "2690      9  2020  Las Animas       1051.0          NaN   \n",
       "2691      9  2020   Jefferson      49815.0          NaN   \n",
       "2692      9  2020      Custer          NaN          NaN   \n",
       "2693      9  2020     Chaffee          NaN          NaN   \n",
       "2694      9  2020        Bent          NaN          NaN   \n",
       "\n",
       "     Med_RemainderOfState_Counties Rec_RemainderOfState_Counties  \\\n",
       "0                              NaN                           NaN   \n",
       "1                              NaN                           NaN   \n",
       "2                              NaN                           NaN   \n",
       "3                              NaN                           NaN   \n",
       "4                              NaN                           NaN   \n",
       "...                            ...                           ...   \n",
       "2690                           NaN                           NaN   \n",
       "2691                           NaN                           NaN   \n",
       "2692                           NaN                           NaN   \n",
       "2693                           NaN                           NaN   \n",
       "2694                           NaN                           NaN   \n",
       "\n",
       "     Med_Blank_Code Rec_Blank_Code               ID  \n",
       "0               NaN            NaN       82019Adams  \n",
       "1                NR            NaN     82019Alamosa  \n",
       "2               NaN            NaN    82019Arapahoe  \n",
       "3               NaN            NaN     82019Boulder  \n",
       "4                NR            NaN     82019Chaffee  \n",
       "...             ...            ...              ...  \n",
       "2690            NaN            NaN  92020Las Animas  \n",
       "2691            NaN            NaN   92020Jefferson  \n",
       "2692            NaN            NaN      92020Custer  \n",
       "2693             NR            NaN     92020Chaffee  \n",
       "2694            NaN            NaN        92020Bent  \n",
       "\n",
       "[2695 rows x 10 columns]"
      ],
      "text/html": "<div>\n<style scoped>\n    .dataframe tbody tr th:only-of-type {\n        vertical-align: middle;\n    }\n\n    .dataframe tbody tr th {\n        vertical-align: top;\n    }\n\n    .dataframe thead th {\n        text-align: right;\n    }\n</style>\n<table border=\"1\" class=\"dataframe\">\n  <thead>\n    <tr style=\"text-align: right;\">\n      <th></th>\n      <th>Month</th>\n      <th>Year</th>\n      <th>County</th>\n      <th>Med_Tax_Rev</th>\n      <th>Rec_Tax_Rev</th>\n      <th>Med_RemainderOfState_Counties</th>\n      <th>Rec_RemainderOfState_Counties</th>\n      <th>Med_Blank_Code</th>\n      <th>Rec_Blank_Code</th>\n      <th>ID</th>\n    </tr>\n  </thead>\n  <tbody>\n    <tr>\n      <th>0</th>\n      <td>8</td>\n      <td>2019</td>\n      <td>Adams</td>\n      <td>17037.0</td>\n      <td>NaN</td>\n      <td>NaN</td>\n      <td>NaN</td>\n      <td>NaN</td>\n      <td>NaN</td>\n      <td>82019Adams</td>\n    </tr>\n    <tr>\n      <th>1</th>\n      <td>8</td>\n      <td>2019</td>\n      <td>Alamosa</td>\n      <td>NaN</td>\n      <td>NaN</td>\n      <td>NaN</td>\n      <td>NaN</td>\n      <td>NR</td>\n      <td>NaN</td>\n      <td>82019Alamosa</td>\n    </tr>\n    <tr>\n      <th>2</th>\n      <td>8</td>\n      <td>2019</td>\n      <td>Arapahoe</td>\n      <td>24256.0</td>\n      <td>NaN</td>\n      <td>NaN</td>\n      <td>NaN</td>\n      <td>NaN</td>\n      <td>NaN</td>\n      <td>82019Arapahoe</td>\n    </tr>\n    <tr>\n      <th>3</th>\n      <td>8</td>\n      <td>2019</td>\n      <td>Boulder</td>\n      <td>33557.0</td>\n      <td>NaN</td>\n      <td>NaN</td>\n      <td>NaN</td>\n      <td>NaN</td>\n      <td>NaN</td>\n      <td>82019Boulder</td>\n    </tr>\n    <tr>\n      <th>4</th>\n      <td>8</td>\n      <td>2019</td>\n      <td>Chaffee</td>\n      <td>NaN</td>\n      <td>NaN</td>\n      <td>NaN</td>\n      <td>NaN</td>\n      <td>NR</td>\n      <td>NaN</td>\n      <td>82019Chaffee</td>\n    </tr>\n    <tr>\n      <th>...</th>\n      <td>...</td>\n      <td>...</td>\n      <td>...</td>\n      <td>...</td>\n      <td>...</td>\n      <td>...</td>\n      <td>...</td>\n      <td>...</td>\n      <td>...</td>\n      <td>...</td>\n    </tr>\n    <tr>\n      <th>2690</th>\n      <td>9</td>\n      <td>2020</td>\n      <td>Las Animas</td>\n      <td>1051.0</td>\n      <td>NaN</td>\n      <td>NaN</td>\n      <td>NaN</td>\n      <td>NaN</td>\n      <td>NaN</td>\n      <td>92020Las Animas</td>\n    </tr>\n    <tr>\n      <th>2691</th>\n      <td>9</td>\n      <td>2020</td>\n      <td>Jefferson</td>\n      <td>49815.0</td>\n      <td>NaN</td>\n      <td>NaN</td>\n      <td>NaN</td>\n      <td>NaN</td>\n      <td>NaN</td>\n      <td>92020Jefferson</td>\n    </tr>\n    <tr>\n      <th>2692</th>\n      <td>9</td>\n      <td>2020</td>\n      <td>Custer</td>\n      <td>NaN</td>\n      <td>NaN</td>\n      <td>NaN</td>\n      <td>NaN</td>\n      <td>NaN</td>\n      <td>NaN</td>\n      <td>92020Custer</td>\n    </tr>\n    <tr>\n      <th>2693</th>\n      <td>9</td>\n      <td>2020</td>\n      <td>Chaffee</td>\n      <td>NaN</td>\n      <td>NaN</td>\n      <td>NaN</td>\n      <td>NaN</td>\n      <td>NR</td>\n      <td>NaN</td>\n      <td>92020Chaffee</td>\n    </tr>\n    <tr>\n      <th>2694</th>\n      <td>9</td>\n      <td>2020</td>\n      <td>Bent</td>\n      <td>NaN</td>\n      <td>NaN</td>\n      <td>NaN</td>\n      <td>NaN</td>\n      <td>NaN</td>\n      <td>NaN</td>\n      <td>92020Bent</td>\n    </tr>\n  </tbody>\n</table>\n<p>2695 rows × 10 columns</p>\n</div>"
     },
     "metadata": {},
     "execution_count": 23
    }
   ],
   "source": [
    "#state_sales_tax_rev = pd.read_csv(\"rawdata/James-State-Sales-Tax-Revenue-from-Marijuana-Colorado.csv\")\n",
    "#state_sales_tax_rev"
   ]
  },
  {
   "cell_type": "code",
   "execution_count": 1,
   "metadata": {},
   "outputs": [
    {
     "output_type": "error",
     "ename": "NameError",
     "evalue": "name 'df' is not defined",
     "traceback": [
      "\u001b[0;31m---------------------------------------------------------------------------\u001b[0m",
      "\u001b[0;31mNameError\u001b[0m                                 Traceback (most recent call last)",
      "\u001b[0;32m<ipython-input-1-4046cff61da9>\u001b[0m in \u001b[0;36m<module>\u001b[0;34m\u001b[0m\n\u001b[0;32m----> 1\u001b[0;31m \u001b[0mstate_sales_tax_rev_clean\u001b[0m \u001b[0;34m=\u001b[0m \u001b[0mdf\u001b[0m\u001b[0;34m[\u001b[0m\u001b[0;34m[\u001b[0m\u001b[0;34m'Month'\u001b[0m\u001b[0;34m,\u001b[0m \u001b[0;34m'Year'\u001b[0m\u001b[0;34m,\u001b[0m \u001b[0;34m'County'\u001b[0m\u001b[0;34m,\u001b[0m \u001b[0;34m'Med_Tax_Rev'\u001b[0m\u001b[0;34m]\u001b[0m\u001b[0;34m]\u001b[0m\u001b[0;34m\u001b[0m\u001b[0;34m\u001b[0m\u001b[0m\n\u001b[0m",
      "\u001b[0;31mNameError\u001b[0m: name 'df' is not defined"
     ]
    }
   ],
   "source": [
    "state_sales_tax_rev_clean = df[['Month', 'Year', 'County', 'Med_Tax_Rev']]"
   ]
  },
  {
   "cell_type": "code",
   "execution_count": null,
   "metadata": {},
   "outputs": [],
   "source": []
  }
 ]
}