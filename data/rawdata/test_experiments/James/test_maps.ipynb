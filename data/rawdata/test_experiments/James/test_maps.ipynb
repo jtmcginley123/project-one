{
 "metadata": {
  "language_info": {
   "codemirror_mode": {
    "name": "ipython",
    "version": 3
   },
   "file_extension": ".py",
   "mimetype": "text/x-python",
   "name": "python",
   "nbconvert_exporter": "python",
   "pygments_lexer": "ipython3",
   "version": 3
  },
  "orig_nbformat": 2
 },
 "nbformat": 4,
 "nbformat_minor": 2,
 "cells": [
  {
   "cell_type": "code",
   "execution_count": null,
   "metadata": {},
   "outputs": [],
   "source": [
    "import plotly.figure_factory as ff\n",
    "import numpy as np\n",
    "import pandas as pd\n",
    "\n",
    "fips = ['08001', '08003', '08005',\n",
    "        '08007', '08009', '08011',\n",
    "        '08013', '08015', '08017',\n",
    "        '08019', '08021', '08023',]\n",
    "values = range(len(fips))\n",
    "\n",
    "colorscale = [\n",
    "    'rgb(193, 193, 193)',\n",
    "    'rgb(239,239,239)',\n",
    "    'rgb(195, 196, 222)',\n",
    "    'rgb(144,148,194)',\n",
    "    'rgb(101,104,168)',\n",
    "    'rgb(65, 53, 132)'\n",
    "]\n",
    "\n",
    "fig = ff.create_choropleth(\n",
    "        fips=fips, values=values, scope=['CO'],\n",
    "        binning_endpoints=[14348, 63983, 134827, 426762, 2081313], colorscale=colorscale,\n",
    "        county_outline={'color': 'rgb(255,255,255)', 'width': 0.5}, round_legend_values=True,\n",
    "        legend_title='Sales Tax by County', title='Colorado Counties'\n",
    "        )\n",
    "fig.layout.template = None\n",
    "fig.show()\n",
    "\n",
    "\n",
    "\n",
    "\n",
    "#Set mapbox api\n",
    "px.set_mapbox_access_token(map_box_api)\n",
    "\n",
    "\n",
    "# Read in data\n",
    "df = pd.read_csv(Path(\"../Resources/population_counts.csv\")).drop_duplicates()\n",
    "data_to_plot = df[[\"Year\", \"PopulationCount\", \"Latitude\", \"Longitude\"]]\n",
    "filtered_data = df[df[\"StateDesc\"] == \"California\"]"
   ]
  }
 ]
}