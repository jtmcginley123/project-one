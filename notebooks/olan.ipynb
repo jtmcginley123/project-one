{
 "metadata": {
  "language_info": {
   "codemirror_mode": {
    "name": "ipython",
    "version": 3
   },
   "file_extension": ".py",
   "mimetype": "text/x-python",
   "name": "python",
   "nbconvert_exporter": "python",
   "pygments_lexer": "ipython3",
   "version": "3.7.7-final"
  },
  "orig_nbformat": 2,
  "kernelspec": {
   "name": "Python 3.7.7 64-bit ('pyvizenv3': conda)",
   "display_name": "Python 3.7.7 64-bit ('pyvizenv3': conda)",
   "metadata": {
    "interpreter": {
     "hash": "2548420f6680aedd74e3e2beb38ae873a37a41cd3aad112f0ad46785fbe9b2a9"
    }
   }
  }
 },
 "nbformat": 4,
 "nbformat_minor": 2,
 "cells": [
  {
   "cell_type": "code",
   "execution_count": 104,
   "metadata": {},
   "outputs": [],
   "source": [
    "import os\n",
    "import pandas as pd\n",
    "#import altair as alt\n",
    "#from vega_datasets import data\n",
    "#import pygal\n",
    "import matplotlib.pyplot as plt\n",
    "import plotly.express as px\n",
    "#import numpy as np\n",
    "import seaborn as sns\n",
    "%matplotlib inline\n"
   ]
  },
  {
   "cell_type": "code",
   "execution_count": 105,
   "metadata": {},
   "outputs": [
    {
     "output_type": "display_data",
     "data": {
      "text/plain": "<Figure size 864x504 with 1 Axes>",
      "image/svg+xml": "<?xml version=\"1.0\" encoding=\"utf-8\" standalone=\"no\"?>\n<!DOCTYPE svg PUBLIC \"-//W3C//DTD SVG 1.1//EN\"\n  \"http://www.w3.org/Graphics/SVG/1.1/DTD/svg11.dtd\">\n<!-- Created with matplotlib (https://matplotlib.org/) -->\n<svg height=\"862.387187pt\" version=\"1.1\" viewBox=\"0 0 748.2625 862.387187\" width=\"748.2625pt\" xmlns=\"http://www.w3.org/2000/svg\" xmlns:xlink=\"http://www.w3.org/1999/xlink\">\n <metadata>\n  <rdf:RDF xmlns:cc=\"http://creativecommons.org/ns#\" xmlns:dc=\"http://purl.org/dc/elements/1.1/\" xmlns:rdf=\"http://www.w3.org/1999/02/22-rdf-syntax-ns#\">\n   <cc:Work>\n    <dc:type rdf:resource=\"http://purl.org/dc/dcmitype/StillImage\"/>\n    <dc:date>2020-11-06T09:59:45.163873</dc:date>\n    <dc:format>image/svg+xml</dc:format>\n    <dc:creator>\n     <cc:Agent>\n      <dc:title>Matplotlib v3.3.1, https://matplotlib.org/</dc:title>\n     </cc:Agent>\n    </dc:creator>\n   </cc:Work>\n  </rdf:RDF>\n </metadata>\n <defs>\n  <style type=\"text/css\">*{stroke-linecap:butt;stroke-linejoin:round;}</style>\n </defs>\n <g id=\"figure_1\">\n  <g id=\"patch_1\">\n   <path d=\"M 0 862.387187 \nL 748.2625 862.387187 \nL 748.2625 0 \nL 0 0 \nz\n\" style=\"fill:none;\"/>\n  </g>\n  <g id=\"axes_1\">\n   <g id=\"patch_2\">\n    <path d=\"M 71.4625 438.12 \nL 741.0625 438.12 \nL 741.0625 57.6 \nL 71.4625 57.6 \nz\n\" style=\"fill:#ffffff;\"/>\n   </g>\n   <g id=\"patch_3\">\n    <path clip-path=\"url(#p62d8ab093b)\" d=\"M 77.234914 438.12 \nL 88.779741 438.12 \nL 88.779741 435.919984 \nL 77.234914 435.919984 \nz\n\" style=\"fill:#0b0405;\"/>\n   </g>\n   <g id=\"patch_4\">\n    <path clip-path=\"url(#p62d8ab093b)\" d=\"M 100.324569 438.12 \nL 111.869397 438.12 \nL 111.869397 429.744788 \nL 100.324569 429.744788 \nz\n\" style=\"fill:#0b0405;\"/>\n   </g>\n   <g id=\"patch_5\">\n    <path clip-path=\"url(#p62d8ab093b)\" d=\"M 123.414224 438.12 \nL 134.959052 438.12 \nL 134.959052 435.491128 \nL 123.414224 435.491128 \nz\n\" style=\"fill:#0b0405;\"/>\n   </g>\n   <g id=\"patch_6\">\n    <path clip-path=\"url(#p62d8ab093b)\" d=\"M 146.503879 438.12 \nL 158.048707 438.12 \nL 158.048707 431.208072 \nL 146.503879 431.208072 \nz\n\" style=\"fill:#0b0405;\"/>\n   </g>\n   <g id=\"patch_7\">\n    <path clip-path=\"url(#p62d8ab093b)\" d=\"M 169.593534 438.12 \nL 181.138362 438.12 \nL 181.138362 423.12315 \nL 169.593534 423.12315 \nz\n\" style=\"fill:#0b0405;\"/>\n   </g>\n   <g id=\"patch_8\">\n    <path clip-path=\"url(#p62d8ab093b)\" d=\"M 192.68319 438.12 \nL 204.228017 438.12 \nL 204.228017 429.396526 \nL 192.68319 429.396526 \nz\n\" style=\"fill:#0b0405;\"/>\n   </g>\n   <g id=\"patch_9\">\n    <path clip-path=\"url(#p62d8ab093b)\" d=\"M 215.772845 438.12 \nL 227.317672 438.12 \nL 227.317672 431.795601 \nL 215.772845 431.795601 \nz\n\" style=\"fill:#0b0405;\"/>\n   </g>\n   <g id=\"patch_10\">\n    <path clip-path=\"url(#p62d8ab093b)\" d=\"M 238.8625 438.12 \nL 250.407328 438.12 \nL 250.407328 427.420871 \nL 238.8625 427.420871 \nz\n\" style=\"fill:#0b0405;\"/>\n   </g>\n   <g id=\"patch_11\">\n    <path clip-path=\"url(#p62d8ab093b)\" d=\"M 261.952155 438.12 \nL 273.496983 438.12 \nL 273.496983 427.621091 \nL 261.952155 427.621091 \nz\n\" style=\"fill:#0b0405;\"/>\n   </g>\n   <g id=\"patch_12\">\n    <path clip-path=\"url(#p62d8ab093b)\" d=\"M 285.04181 438.12 \nL 296.586638 438.12 \nL 296.586638 432.749016 \nL 285.04181 432.749016 \nz\n\" style=\"fill:#0b0405;\"/>\n   </g>\n   <g id=\"patch_13\">\n    <path clip-path=\"url(#p62d8ab093b)\" d=\"M 308.131466 438.12 \nL 319.676293 438.12 \nL 319.676293 424.887768 \nL 308.131466 424.887768 \nz\n\" style=\"fill:#0b0405;\"/>\n   </g>\n   <g id=\"patch_14\">\n    <path clip-path=\"url(#p62d8ab093b)\" d=\"M 331.221121 438.12 \nL 342.765948 438.12 \nL 342.765948 402.147011 \nL 331.221121 402.147011 \nz\n\" style=\"fill:#0b0405;\"/>\n   </g>\n   <g id=\"patch_15\">\n    <path clip-path=\"url(#p62d8ab093b)\" d=\"M 354.310776 438.12 \nL 365.855603 438.12 \nL 365.855603 428.043154 \nL 354.310776 428.043154 \nz\n\" style=\"fill:#0b0405;\"/>\n   </g>\n   <g id=\"patch_16\">\n    <path clip-path=\"url(#p62d8ab093b)\" d=\"M 377.400431 438.12 \nL 388.945259 438.12 \nL 388.945259 412.227627 \nL 377.400431 412.227627 \nz\n\" style=\"fill:#0b0405;\"/>\n   </g>\n   <g id=\"patch_17\">\n    <path clip-path=\"url(#p62d8ab093b)\" d=\"M 400.490086 438.12 \nL 412.034914 438.12 \nL 412.034914 411.778975 \nL 400.490086 411.778975 \nz\n\" style=\"fill:#0b0405;\"/>\n   </g>\n   <g id=\"patch_18\">\n    <path clip-path=\"url(#p62d8ab093b)\" d=\"M 423.579741 438.12 \nL 435.124569 438.12 \nL 435.124569 421.041321 \nL 423.579741 421.041321 \nz\n\" style=\"fill:#0b0405;\"/>\n   </g>\n   <g id=\"patch_19\">\n    <path clip-path=\"url(#p62d8ab093b)\" d=\"M 446.669397 438.12 \nL 458.214224 438.12 \nL 458.214224 434.453907 \nL 446.669397 434.453907 \nz\n\" style=\"fill:#0b0405;\"/>\n   </g>\n   <g id=\"patch_20\">\n    <path clip-path=\"url(#p62d8ab093b)\" d=\"M 469.759052 438.12 \nL 481.303879 438.12 \nL 481.303879 432.52377 \nL 469.759052 432.52377 \nz\n\" style=\"fill:#0b0405;\"/>\n   </g>\n   <g id=\"patch_21\">\n    <path clip-path=\"url(#p62d8ab093b)\" d=\"M 492.848707 438.12 \nL 504.393534 438.12 \nL 504.393534 424.521978 \nL 492.848707 424.521978 \nz\n\" style=\"fill:#0b0405;\"/>\n   </g>\n   <g id=\"patch_22\">\n    <path clip-path=\"url(#p62d8ab093b)\" d=\"M 515.938362 438.12 \nL 527.48319 438.12 \nL 527.48319 436.297018 \nL 515.938362 436.297018 \nz\n\" style=\"fill:#0b0405;\"/>\n   </g>\n   <g id=\"patch_23\">\n    <path clip-path=\"url(#p62d8ab093b)\" d=\"M 539.028017 438.12 \nL 550.572845 438.12 \nL 550.572845 426.343799 \nL 539.028017 426.343799 \nz\n\" style=\"fill:#0b0405;\"/>\n   </g>\n   <g id=\"patch_24\">\n    <path clip-path=\"url(#p62d8ab093b)\" d=\"M 562.117672 438.12 \nL 573.6625 438.12 \nL 573.6625 430.047126 \nL 562.117672 430.047126 \nz\n\" style=\"fill:#0b0405;\"/>\n   </g>\n   <g id=\"patch_25\">\n    <path clip-path=\"url(#p62d8ab093b)\" d=\"M 585.207328 438.12 \nL 596.752155 438.12 \nL 596.752155 435.894044 \nL 585.207328 435.894044 \nz\n\" style=\"fill:#0b0405;\"/>\n   </g>\n   <g id=\"patch_26\">\n    <path clip-path=\"url(#p62d8ab093b)\" d=\"M 608.296983 438.12 \nL 619.84181 438.12 \nL 619.84181 432.273452 \nL 608.296983 432.273452 \nz\n\" style=\"fill:#0b0405;\"/>\n   </g>\n   <g id=\"patch_27\">\n    <path clip-path=\"url(#p62d8ab093b)\" d=\"M 631.386638 438.12 \nL 642.931466 438.12 \nL 642.931466 433.774742 \nL 631.386638 433.774742 \nz\n\" style=\"fill:#0b0405;\"/>\n   </g>\n   <g id=\"patch_28\">\n    <path clip-path=\"url(#p62d8ab093b)\" d=\"M 654.476293 438.12 \nL 666.021121 438.12 \nL 666.021121 413.192864 \nL 654.476293 413.192864 \nz\n\" style=\"fill:#0b0405;\"/>\n   </g>\n   <g id=\"patch_29\">\n    <path clip-path=\"url(#p62d8ab093b)\" d=\"M 677.565948 438.12 \nL 689.110776 438.12 \nL 689.110776 427.589328 \nL 677.565948 427.589328 \nz\n\" style=\"fill:#0b0405;\"/>\n   </g>\n   <g id=\"patch_30\">\n    <path clip-path=\"url(#p62d8ab093b)\" d=\"M 700.655603 438.12 \nL 712.200431 438.12 \nL 712.200431 416.921744 \nL 700.655603 416.921744 \nz\n\" style=\"fill:#0b0405;\"/>\n   </g>\n   <g id=\"patch_31\">\n    <path clip-path=\"url(#p62d8ab093b)\" d=\"M 723.745259 438.12 \nL 735.290086 438.12 \nL 735.290086 430.127265 \nL 723.745259 430.127265 \nz\n\" style=\"fill:#0b0405;\"/>\n   </g>\n   <g id=\"patch_32\">\n    <path clip-path=\"url(#p62d8ab093b)\" d=\"M 77.234914 435.919984 \nL 88.779741 435.919984 \nL 88.779741 433.867041 \nL 77.234914 433.867041 \nz\n\" style=\"fill:#2b1c35;\"/>\n   </g>\n   <g id=\"patch_33\">\n    <path clip-path=\"url(#p62d8ab093b)\" d=\"M 100.324569 429.744788 \nL 111.869397 429.744788 \nL 111.869397 421.242052 \nL 100.324569 421.242052 \nz\n\" style=\"fill:#2b1c35;\"/>\n   </g>\n   <g id=\"patch_34\">\n    <path clip-path=\"url(#p62d8ab093b)\" d=\"M 123.414224 435.491128 \nL 134.959052 435.491128 \nL 134.959052 432.777272 \nL 123.414224 432.777272 \nz\n\" style=\"fill:#2b1c35;\"/>\n   </g>\n   <g id=\"patch_35\">\n    <path clip-path=\"url(#p62d8ab093b)\" d=\"M 146.503879 431.208072 \nL 158.048707 431.208072 \nL 158.048707 424.291977 \nL 146.503879 424.291977 \nz\n\" style=\"fill:#2b1c35;\"/>\n   </g>\n   <g id=\"patch_36\">\n    <path clip-path=\"url(#p62d8ab093b)\" d=\"M 169.593534 423.12315 \nL 181.138362 423.12315 \nL 181.138362 408.093826 \nL 169.593534 408.093826 \nz\n\" style=\"fill:#2b1c35;\"/>\n   </g>\n   <g id=\"patch_37\">\n    <path clip-path=\"url(#p62d8ab093b)\" d=\"M 192.68319 429.396526 \nL 204.228017 429.396526 \nL 204.228017 420.274066 \nL 192.68319 420.274066 \nz\n\" style=\"fill:#2b1c35;\"/>\n   </g>\n   <g id=\"patch_38\">\n    <path clip-path=\"url(#p62d8ab093b)\" d=\"M 215.772845 431.795601 \nL 227.317672 431.795601 \nL 227.317672 425.875399 \nL 215.772845 425.875399 \nz\n\" style=\"fill:#2b1c35;\"/>\n   </g>\n   <g id=\"patch_39\">\n    <path clip-path=\"url(#p62d8ab093b)\" d=\"M 238.8625 427.420871 \nL 250.407328 427.420871 \nL 250.407328 416.643109 \nL 238.8625 416.643109 \nz\n\" style=\"fill:#2b1c35;\"/>\n   </g>\n   <g id=\"patch_40\">\n    <path clip-path=\"url(#p62d8ab093b)\" d=\"M 261.952155 427.621091 \nL 273.496983 427.621091 \nL 273.496983 417.240098 \nL 261.952155 417.240098 \nz\n\" style=\"fill:#2b1c35;\"/>\n   </g>\n   <g id=\"patch_41\">\n    <path clip-path=\"url(#p62d8ab093b)\" d=\"M 285.04181 432.749016 \nL 296.586638 432.749016 \nL 296.586638 427.566562 \nL 285.04181 427.566562 \nz\n\" style=\"fill:#2b1c35;\"/>\n   </g>\n   <g id=\"patch_42\">\n    <path clip-path=\"url(#p62d8ab093b)\" d=\"M 308.131466 424.887768 \nL 319.676293 424.887768 \nL 319.676293 411.579331 \nL 308.131466 411.579331 \nz\n\" style=\"fill:#2b1c35;\"/>\n   </g>\n   <g id=\"patch_43\">\n    <path clip-path=\"url(#p62d8ab093b)\" d=\"M 331.221121 402.147011 \nL 342.765948 402.147011 \nL 342.765948 364.464883 \nL 331.221121 364.464883 \nz\n\" style=\"fill:#2b1c35;\"/>\n   </g>\n   <g id=\"patch_44\">\n    <path clip-path=\"url(#p62d8ab093b)\" d=\"M 354.310776 428.043154 \nL 365.855603 428.043154 \nL 365.855603 417.570607 \nL 354.310776 417.570607 \nz\n\" style=\"fill:#2b1c35;\"/>\n   </g>\n   <g id=\"patch_45\">\n    <path clip-path=\"url(#p62d8ab093b)\" d=\"M 377.400431 412.227627 \nL 388.945259 412.227627 \nL 388.945259 385.025381 \nL 377.400431 385.025381 \nz\n\" style=\"fill:#2b1c35;\"/>\n   </g>\n   <g id=\"patch_46\">\n    <path clip-path=\"url(#p62d8ab093b)\" d=\"M 400.490086 411.778975 \nL 412.034914 411.778975 \nL 412.034914 384.711495 \nL 400.490086 384.711495 \nz\n\" style=\"fill:#2b1c35;\"/>\n   </g>\n   <g id=\"patch_47\">\n    <path clip-path=\"url(#p62d8ab093b)\" d=\"M 423.579741 421.041321 \nL 435.124569 421.041321 \nL 435.124569 403.469033 \nL 423.579741 403.469033 \nz\n\" style=\"fill:#2b1c35;\"/>\n   </g>\n   <g id=\"patch_48\">\n    <path clip-path=\"url(#p62d8ab093b)\" d=\"M 446.669397 434.453907 \nL 458.214224 434.453907 \nL 458.214224 430.616754 \nL 446.669397 430.616754 \nz\n\" style=\"fill:#2b1c35;\"/>\n   </g>\n   <g id=\"patch_49\">\n    <path clip-path=\"url(#p62d8ab093b)\" d=\"M 469.759052 432.52377 \nL 481.303879 432.52377 \nL 481.303879 426.865744 \nL 469.759052 426.865744 \nz\n\" style=\"fill:#2b1c35;\"/>\n   </g>\n   <g id=\"patch_50\">\n    <path clip-path=\"url(#p62d8ab093b)\" d=\"M 492.848707 424.521978 \nL 504.393534 424.521978 \nL 504.393534 410.683219 \nL 492.848707 410.683219 \nz\n\" style=\"fill:#2b1c35;\"/>\n   </g>\n   <g id=\"patch_51\">\n    <path clip-path=\"url(#p62d8ab093b)\" d=\"M 515.938362 436.297018 \nL 527.48319 436.297018 \nL 527.48319 434.489614 \nL 515.938362 434.489614 \nz\n\" style=\"fill:#2b1c35;\"/>\n   </g>\n   <g id=\"patch_52\">\n    <path clip-path=\"url(#p62d8ab093b)\" d=\"M 539.028017 426.343799 \nL 550.572845 426.343799 \nL 550.572845 414.312407 \nL 539.028017 414.312407 \nz\n\" style=\"fill:#2b1c35;\"/>\n   </g>\n   <g id=\"patch_53\">\n    <path clip-path=\"url(#p62d8ab093b)\" d=\"M 562.117672 430.047126 \nL 573.6625 430.047126 \nL 573.6625 421.622564 \nL 562.117672 421.622564 \nz\n\" style=\"fill:#2b1c35;\"/>\n   </g>\n   <g id=\"patch_54\">\n    <path clip-path=\"url(#p62d8ab093b)\" d=\"M 585.207328 435.894044 \nL 596.752155 435.894044 \nL 596.752155 433.589251 \nL 585.207328 433.589251 \nz\n\" style=\"fill:#2b1c35;\"/>\n   </g>\n   <g id=\"patch_55\">\n    <path clip-path=\"url(#p62d8ab093b)\" d=\"M 608.296983 432.273452 \nL 619.84181 432.273452 \nL 619.84181 426.153931 \nL 608.296983 426.153931 \nz\n\" style=\"fill:#2b1c35;\"/>\n   </g>\n   <g id=\"patch_56\">\n    <path clip-path=\"url(#p62d8ab093b)\" d=\"M 631.386638 433.774742 \nL 642.931466 433.774742 \nL 642.931466 429.456622 \nL 631.386638 429.456622 \nz\n\" style=\"fill:#2b1c35;\"/>\n   </g>\n   <g id=\"patch_57\">\n    <path clip-path=\"url(#p62d8ab093b)\" d=\"M 654.476293 413.192864 \nL 666.021121 413.192864 \nL 666.021121 388.486544 \nL 654.476293 388.486544 \nz\n\" style=\"fill:#2b1c35;\"/>\n   </g>\n   <g id=\"patch_58\">\n    <path clip-path=\"url(#p62d8ab093b)\" d=\"M 677.565948 427.589328 \nL 689.110776 427.589328 \nL 689.110776 417.0497 \nL 677.565948 417.0497 \nz\n\" style=\"fill:#2b1c35;\"/>\n   </g>\n   <g id=\"patch_59\">\n    <path clip-path=\"url(#p62d8ab093b)\" d=\"M 700.655603 416.921744 \nL 712.200431 416.921744 \nL 712.200431 395.763114 \nL 700.655603 395.763114 \nz\n\" style=\"fill:#2b1c35;\"/>\n   </g>\n   <g id=\"patch_60\">\n    <path clip-path=\"url(#p62d8ab093b)\" d=\"M 723.745259 430.127265 \nL 735.290086 430.127265 \nL 735.290086 422.224661 \nL 723.745259 422.224661 \nz\n\" style=\"fill:#2b1c35;\"/>\n   </g>\n   <g id=\"patch_61\">\n    <path clip-path=\"url(#p62d8ab093b)\" d=\"M 77.234914 433.867041 \nL 88.779741 433.867041 \nL 88.779741 432.048318 \nL 77.234914 432.048318 \nz\n\" style=\"fill:#3e356b;\"/>\n   </g>\n   <g id=\"patch_62\">\n    <path clip-path=\"url(#p62d8ab093b)\" d=\"M 100.324569 421.242052 \nL 111.869397 421.242052 \nL 111.869397 412.469141 \nL 100.324569 412.469141 \nz\n\" style=\"fill:#3e356b;\"/>\n   </g>\n   <g id=\"patch_63\">\n    <path clip-path=\"url(#p62d8ab093b)\" d=\"M 123.414224 432.777272 \nL 134.959052 432.777272 \nL 134.959052 430.102031 \nL 123.414224 430.102031 \nz\n\" style=\"fill:#3e356b;\"/>\n   </g>\n   <g id=\"patch_64\">\n    <path clip-path=\"url(#p62d8ab093b)\" d=\"M 146.503879 424.291977 \nL 158.048707 424.291977 \nL 158.048707 417.127995 \nL 146.503879 417.127995 \nz\n\" style=\"fill:#3e356b;\"/>\n   </g>\n   <g id=\"patch_65\">\n    <path clip-path=\"url(#p62d8ab093b)\" d=\"M 169.593534 408.093826 \nL 181.138362 408.093826 \nL 181.138362 393.335845 \nL 169.593534 393.335845 \nz\n\" style=\"fill:#3e356b;\"/>\n   </g>\n   <g id=\"patch_66\">\n    <path clip-path=\"url(#p62d8ab093b)\" d=\"M 192.68319 420.274066 \nL 204.228017 420.274066 \nL 204.228017 410.900742 \nL 192.68319 410.900742 \nz\n\" style=\"fill:#3e356b;\"/>\n   </g>\n   <g id=\"patch_67\">\n    <path clip-path=\"url(#p62d8ab093b)\" d=\"M 215.772845 425.875399 \nL 227.317672 425.875399 \nL 227.317672 420.490741 \nL 215.772845 420.490741 \nz\n\" style=\"fill:#3e356b;\"/>\n   </g>\n   <g id=\"patch_68\">\n    <path clip-path=\"url(#p62d8ab093b)\" d=\"M 238.8625 416.643109 \nL 250.407328 416.643109 \nL 250.407328 405.402939 \nL 238.8625 405.402939 \nz\n\" style=\"fill:#3e356b;\"/>\n   </g>\n   <g id=\"patch_69\">\n    <path clip-path=\"url(#p62d8ab093b)\" d=\"M 261.952155 417.240098 \nL 273.496983 417.240098 \nL 273.496983 406.717615 \nL 261.952155 406.717615 \nz\n\" style=\"fill:#3e356b;\"/>\n   </g>\n   <g id=\"patch_70\">\n    <path clip-path=\"url(#p62d8ab093b)\" d=\"M 285.04181 427.566562 \nL 296.586638 427.566562 \nL 296.586638 422.055004 \nL 285.04181 422.055004 \nz\n\" style=\"fill:#3e356b;\"/>\n   </g>\n   <g id=\"patch_71\">\n    <path clip-path=\"url(#p62d8ab093b)\" d=\"M 308.131466 411.579331 \nL 319.676293 411.579331 \nL 319.676293 398.879534 \nL 308.131466 398.879534 \nz\n\" style=\"fill:#3e356b;\"/>\n   </g>\n   <g id=\"patch_72\">\n    <path clip-path=\"url(#p62d8ab093b)\" d=\"M 331.221121 364.464883 \nL 342.765948 364.464883 \nL 342.765948 326.004935 \nL 331.221121 326.004935 \nz\n\" style=\"fill:#3e356b;\"/>\n   </g>\n   <g id=\"patch_73\">\n    <path clip-path=\"url(#p62d8ab093b)\" d=\"M 354.310776 417.570607 \nL 365.855603 417.570607 \nL 365.855603 406.490159 \nL 354.310776 406.490159 \nz\n\" style=\"fill:#3e356b;\"/>\n   </g>\n   <g id=\"patch_74\">\n    <path clip-path=\"url(#p62d8ab093b)\" d=\"M 377.400431 385.025381 \nL 388.945259 385.025381 \nL 388.945259 357.645881 \nL 377.400431 357.645881 \nz\n\" style=\"fill:#3e356b;\"/>\n   </g>\n   <g id=\"patch_75\">\n    <path clip-path=\"url(#p62d8ab093b)\" d=\"M 400.490086 384.711495 \nL 412.034914 384.711495 \nL 412.034914 355.810033 \nL 400.490086 355.810033 \nz\n\" style=\"fill:#3e356b;\"/>\n   </g>\n   <g id=\"patch_76\">\n    <path clip-path=\"url(#p62d8ab093b)\" d=\"M 423.579741 403.469033 \nL 435.124569 403.469033 \nL 435.124569 385.188006 \nL 423.579741 385.188006 \nz\n\" style=\"fill:#3e356b;\"/>\n   </g>\n   <g id=\"patch_77\">\n    <path clip-path=\"url(#p62d8ab093b)\" d=\"M 446.669397 430.616754 \nL 458.214224 430.616754 \nL 458.214224 426.007702 \nL 446.669397 426.007702 \nz\n\" style=\"fill:#3e356b;\"/>\n   </g>\n   <g id=\"patch_78\">\n    <path clip-path=\"url(#p62d8ab093b)\" d=\"M 469.759052 426.865744 \nL 481.303879 426.865744 \nL 481.303879 420.854361 \nL 469.759052 420.854361 \nz\n\" style=\"fill:#3e356b;\"/>\n   </g>\n   <g id=\"patch_79\">\n    <path clip-path=\"url(#p62d8ab093b)\" d=\"M 492.848707 410.683219 \nL 504.393534 410.683219 \nL 504.393534 396.489928 \nL 492.848707 396.489928 \nz\n\" style=\"fill:#3e356b;\"/>\n   </g>\n   <g id=\"patch_80\">\n    <path clip-path=\"url(#p62d8ab093b)\" d=\"M 515.938362 434.489614 \nL 527.48319 434.489614 \nL 527.48319 432.640617 \nL 515.938362 432.640617 \nz\n\" style=\"fill:#3e356b;\"/>\n   </g>\n   <g id=\"patch_81\">\n    <path clip-path=\"url(#p62d8ab093b)\" d=\"M 539.028017 414.312407 \nL 550.572845 414.312407 \nL 550.572845 401.968113 \nL 539.028017 401.968113 \nz\n\" style=\"fill:#3e356b;\"/>\n   </g>\n   <g id=\"patch_82\">\n    <path clip-path=\"url(#p62d8ab093b)\" d=\"M 562.117672 421.622564 \nL 573.6625 421.622564 \nL 573.6625 413.075098 \nL 562.117672 413.075098 \nz\n\" style=\"fill:#3e356b;\"/>\n   </g>\n   <g id=\"patch_83\">\n    <path clip-path=\"url(#p62d8ab093b)\" d=\"M 585.207328 433.589251 \nL 596.752155 433.589251 \nL 596.752155 431.298525 \nL 585.207328 431.298525 \nz\n\" style=\"fill:#3e356b;\"/>\n   </g>\n   <g id=\"patch_84\">\n    <path clip-path=\"url(#p62d8ab093b)\" d=\"M 608.296983 426.153931 \nL 619.84181 426.153931 \nL 619.84181 419.897192 \nL 608.296983 419.897192 \nz\n\" style=\"fill:#3e356b;\"/>\n   </g>\n   <g id=\"patch_85\">\n    <path clip-path=\"url(#p62d8ab093b)\" d=\"M 631.386638 429.456622 \nL 642.931466 429.456622 \nL 642.931466 425.024443 \nL 631.386638 425.024443 \nz\n\" style=\"fill:#3e356b;\"/>\n   </g>\n   <g id=\"patch_86\">\n    <path clip-path=\"url(#p62d8ab093b)\" d=\"M 654.476293 388.486544 \nL 666.021121 388.486544 \nL 666.021121 363.844738 \nL 654.476293 363.844738 \nz\n\" style=\"fill:#3e356b;\"/>\n   </g>\n   <g id=\"patch_87\">\n    <path clip-path=\"url(#p62d8ab093b)\" d=\"M 677.565948 417.0497 \nL 689.110776 417.0497 \nL 689.110776 406.458065 \nL 677.565948 406.458065 \nz\n\" style=\"fill:#3e356b;\"/>\n   </g>\n   <g id=\"patch_88\">\n    <path clip-path=\"url(#p62d8ab093b)\" d=\"M 700.655603 395.763114 \nL 712.200431 395.763114 \nL 712.200431 374.000461 \nL 700.655603 374.000461 \nz\n\" style=\"fill:#3e356b;\"/>\n   </g>\n   <g id=\"patch_89\">\n    <path clip-path=\"url(#p62d8ab093b)\" d=\"M 723.745259 422.224661 \nL 735.290086 422.224661 \nL 735.290086 414.037863 \nL 723.745259 414.037863 \nz\n\" style=\"fill:#3e356b;\"/>\n   </g>\n   <g id=\"patch_90\">\n    <path clip-path=\"url(#p62d8ab093b)\" d=\"M 77.234914 432.048318 \nL 88.779741 432.048318 \nL 88.779741 430.210123 \nL 77.234914 430.210123 \nz\n\" style=\"fill:#3b5698;\"/>\n   </g>\n   <g id=\"patch_91\">\n    <path clip-path=\"url(#p62d8ab093b)\" d=\"M 100.324569 412.469141 \nL 111.869397 412.469141 \nL 111.869397 403.156283 \nL 100.324569 403.156283 \nz\n\" style=\"fill:#3b5698;\"/>\n   </g>\n   <g id=\"patch_92\">\n    <path clip-path=\"url(#p62d8ab093b)\" d=\"M 123.414224 430.102031 \nL 134.959052 430.102031 \nL 134.959052 427.550465 \nL 123.414224 427.550465 \nz\n\" style=\"fill:#3b5698;\"/>\n   </g>\n   <g id=\"patch_93\">\n    <path clip-path=\"url(#p62d8ab093b)\" d=\"M 146.503879 417.127995 \nL 158.048707 417.127995 \nL 158.048707 408.64409 \nL 146.503879 408.64409 \nz\n\" style=\"fill:#3b5698;\"/>\n   </g>\n   <g id=\"patch_94\">\n    <path clip-path=\"url(#p62d8ab093b)\" d=\"M 169.593534 393.335845 \nL 181.138362 393.335845 \nL 181.138362 378.287739 \nL 169.593534 378.287739 \nz\n\" style=\"fill:#3b5698;\"/>\n   </g>\n   <g id=\"patch_95\">\n    <path clip-path=\"url(#p62d8ab093b)\" d=\"M 192.68319 410.900742 \nL 204.228017 410.900742 \nL 204.228017 401.11987 \nL 192.68319 401.11987 \nz\n\" style=\"fill:#3b5698;\"/>\n   </g>\n   <g id=\"patch_96\">\n    <path clip-path=\"url(#p62d8ab093b)\" d=\"M 215.772845 420.490741 \nL 227.317672 420.490741 \nL 227.317672 415.224622 \nL 215.772845 415.224622 \nz\n\" style=\"fill:#3b5698;\"/>\n   </g>\n   <g id=\"patch_97\">\n    <path clip-path=\"url(#p62d8ab093b)\" d=\"M 238.8625 405.402939 \nL 250.407328 405.402939 \nL 250.407328 393.756769 \nL 238.8625 393.756769 \nz\n\" style=\"fill:#3b5698;\"/>\n   </g>\n   <g id=\"patch_98\">\n    <path clip-path=\"url(#p62d8ab093b)\" d=\"M 261.952155 406.717615 \nL 273.496983 406.717615 \nL 273.496983 395.916425 \nL 261.952155 395.916425 \nz\n\" style=\"fill:#3b5698;\"/>\n   </g>\n   <g id=\"patch_99\">\n    <path clip-path=\"url(#p62d8ab093b)\" d=\"M 285.04181 422.055004 \nL 296.586638 422.055004 \nL 296.586638 415.189761 \nL 285.04181 415.189761 \nz\n\" style=\"fill:#3b5698;\"/>\n   </g>\n   <g id=\"patch_100\">\n    <path clip-path=\"url(#p62d8ab093b)\" d=\"M 308.131466 398.879534 \nL 319.676293 398.879534 \nL 319.676293 385.240387 \nL 308.131466 385.240387 \nz\n\" style=\"fill:#3b5698;\"/>\n   </g>\n   <g id=\"patch_101\">\n    <path clip-path=\"url(#p62d8ab093b)\" d=\"M 331.221121 326.004935 \nL 342.765948 326.004935 \nL 342.765948 287.464023 \nL 331.221121 287.464023 \nz\n\" style=\"fill:#3b5698;\"/>\n   </g>\n   <g id=\"patch_102\">\n    <path clip-path=\"url(#p62d8ab093b)\" d=\"M 354.310776 406.490159 \nL 365.855603 406.490159 \nL 365.855603 395.751853 \nL 354.310776 395.751853 \nz\n\" style=\"fill:#3b5698;\"/>\n   </g>\n   <g id=\"patch_103\">\n    <path clip-path=\"url(#p62d8ab093b)\" d=\"M 377.400431 357.645881 \nL 388.945259 357.645881 \nL 388.945259 329.840079 \nL 377.400431 329.840079 \nz\n\" style=\"fill:#3b5698;\"/>\n   </g>\n   <g id=\"patch_104\">\n    <path clip-path=\"url(#p62d8ab093b)\" d=\"M 400.490086 355.810033 \nL 412.034914 355.810033 \nL 412.034914 326.587298 \nL 400.490086 326.587298 \nz\n\" style=\"fill:#3b5698;\"/>\n   </g>\n   <g id=\"patch_105\">\n    <path clip-path=\"url(#p62d8ab093b)\" d=\"M 423.579741 385.188006 \nL 435.124569 385.188006 \nL 435.124569 366.168702 \nL 423.579741 366.168702 \nz\n\" style=\"fill:#3b5698;\"/>\n   </g>\n   <g id=\"patch_106\">\n    <path clip-path=\"url(#p62d8ab093b)\" d=\"M 446.669397 426.007702 \nL 458.214224 426.007702 \nL 458.214224 421.804503 \nL 446.669397 421.804503 \nz\n\" style=\"fill:#3b5698;\"/>\n   </g>\n   <g id=\"patch_107\">\n    <path clip-path=\"url(#p62d8ab093b)\" d=\"M 469.759052 420.854361 \nL 481.303879 420.854361 \nL 481.303879 414.854621 \nL 469.759052 414.854621 \nz\n\" style=\"fill:#3b5698;\"/>\n   </g>\n   <g id=\"patch_108\">\n    <path clip-path=\"url(#p62d8ab093b)\" d=\"M 492.848707 396.489928 \nL 504.393534 396.489928 \nL 504.393534 382.100031 \nL 492.848707 382.100031 \nz\n\" style=\"fill:#3b5698;\"/>\n   </g>\n   <g id=\"patch_109\">\n    <path clip-path=\"url(#p62d8ab093b)\" d=\"M 515.938362 432.640617 \nL 527.48319 432.640617 \nL 527.48319 430.792453 \nL 515.938362 430.792453 \nz\n\" style=\"fill:#3b5698;\"/>\n   </g>\n   <g id=\"patch_110\">\n    <path clip-path=\"url(#p62d8ab093b)\" d=\"M 539.028017 401.968113 \nL 550.572845 401.968113 \nL 550.572845 389.426098 \nL 539.028017 389.426098 \nz\n\" style=\"fill:#3b5698;\"/>\n   </g>\n   <g id=\"patch_111\">\n    <path clip-path=\"url(#p62d8ab093b)\" d=\"M 562.117672 413.075098 \nL 573.6625 413.075098 \nL 573.6625 403.71695 \nL 562.117672 403.71695 \nz\n\" style=\"fill:#3b5698;\"/>\n   </g>\n   <g id=\"patch_112\">\n    <path clip-path=\"url(#p62d8ab093b)\" d=\"M 585.207328 431.298525 \nL 596.752155 431.298525 \nL 596.752155 428.41181 \nL 585.207328 428.41181 \nz\n\" style=\"fill:#3b5698;\"/>\n   </g>\n   <g id=\"patch_113\">\n    <path clip-path=\"url(#p62d8ab093b)\" d=\"M 608.296983 419.897192 \nL 619.84181 419.897192 \nL 619.84181 413.423036 \nL 608.296983 413.423036 \nz\n\" style=\"fill:#3b5698;\"/>\n   </g>\n   <g id=\"patch_114\">\n    <path clip-path=\"url(#p62d8ab093b)\" d=\"M 631.386638 425.024443 \nL 642.931466 425.024443 \nL 642.931466 420.556482 \nL 631.386638 420.556482 \nz\n\" style=\"fill:#3b5698;\"/>\n   </g>\n   <g id=\"patch_115\">\n    <path clip-path=\"url(#p62d8ab093b)\" d=\"M 654.476293 363.844738 \nL 666.021121 363.844738 \nL 666.021121 339.277386 \nL 654.476293 339.277386 \nz\n\" style=\"fill:#3b5698;\"/>\n   </g>\n   <g id=\"patch_116\">\n    <path clip-path=\"url(#p62d8ab093b)\" d=\"M 677.565948 406.458065 \nL 689.110776 406.458065 \nL 689.110776 395.306622 \nL 677.565948 395.306622 \nz\n\" style=\"fill:#3b5698;\"/>\n   </g>\n   <g id=\"patch_117\">\n    <path clip-path=\"url(#p62d8ab093b)\" d=\"M 700.655603 374.000461 \nL 712.200431 374.000461 \nL 712.200431 351.552951 \nL 700.655603 351.552951 \nz\n\" style=\"fill:#3b5698;\"/>\n   </g>\n   <g id=\"patch_118\">\n    <path clip-path=\"url(#p62d8ab093b)\" d=\"M 723.745259 414.037863 \nL 735.290086 414.037863 \nL 735.290086 404.622439 \nL 723.745259 404.622439 \nz\n\" style=\"fill:#3b5698;\"/>\n   </g>\n   <g id=\"patch_119\">\n    <path clip-path=\"url(#p62d8ab093b)\" d=\"M 77.234914 430.210123 \nL 88.779741 430.210123 \nL 88.779741 428.165374 \nL 77.234914 428.165374 \nz\n\" style=\"fill:#357ba3;\"/>\n   </g>\n   <g id=\"patch_120\">\n    <path clip-path=\"url(#p62d8ab093b)\" d=\"M 100.324569 403.156283 \nL 111.869397 403.156283 \nL 111.869397 391.501339 \nL 100.324569 391.501339 \nz\n\" style=\"fill:#357ba3;\"/>\n   </g>\n   <g id=\"patch_121\">\n    <path clip-path=\"url(#p62d8ab093b)\" d=\"M 123.414224 427.550465 \nL 134.959052 427.550465 \nL 134.959052 424.99881 \nL 123.414224 424.99881 \nz\n\" style=\"fill:#357ba3;\"/>\n   </g>\n   <g id=\"patch_122\">\n    <path clip-path=\"url(#p62d8ab093b)\" d=\"M 146.503879 408.64409 \nL 158.048707 408.64409 \nL 158.048707 399.151387 \nL 146.503879 399.151387 \nz\n\" style=\"fill:#357ba3;\"/>\n   </g>\n   <g id=\"patch_123\">\n    <path clip-path=\"url(#p62d8ab093b)\" d=\"M 169.593534 378.287739 \nL 181.138362 378.287739 \nL 181.138362 362.587683 \nL 169.593534 362.587683 \nz\n\" style=\"fill:#357ba3;\"/>\n   </g>\n   <g id=\"patch_124\">\n    <path clip-path=\"url(#p62d8ab093b)\" d=\"M 192.68319 401.11987 \nL 204.228017 401.11987 \nL 204.228017 391.393511 \nL 192.68319 391.393511 \nz\n\" style=\"fill:#357ba3;\"/>\n   </g>\n   <g id=\"patch_125\">\n    <path clip-path=\"url(#p62d8ab093b)\" d=\"M 215.772845 415.224622 \nL 227.317672 415.224622 \nL 227.317672 409.251014 \nL 215.772845 409.251014 \nz\n\" style=\"fill:#357ba3;\"/>\n   </g>\n   <g id=\"patch_126\">\n    <path clip-path=\"url(#p62d8ab093b)\" d=\"M 238.8625 393.756769 \nL 250.407328 393.756769 \nL 250.407328 381.428849 \nL 238.8625 381.428849 \nz\n\" style=\"fill:#357ba3;\"/>\n   </g>\n   <g id=\"patch_127\">\n    <path clip-path=\"url(#p62d8ab093b)\" d=\"M 261.952155 395.916425 \nL 273.496983 395.916425 \nL 273.496983 384.749275 \nL 261.952155 384.749275 \nz\n\" style=\"fill:#357ba3;\"/>\n   </g>\n   <g id=\"patch_128\">\n    <path clip-path=\"url(#p62d8ab093b)\" d=\"M 285.04181 415.189761 \nL 296.586638 415.189761 \nL 296.586638 407.760903 \nL 285.04181 407.760903 \nz\n\" style=\"fill:#357ba3;\"/>\n   </g>\n   <g id=\"patch_129\">\n    <path clip-path=\"url(#p62d8ab093b)\" d=\"M 308.131466 385.240387 \nL 319.676293 385.240387 \nL 319.676293 371.450088 \nL 308.131466 371.450088 \nz\n\" style=\"fill:#357ba3;\"/>\n   </g>\n   <g id=\"patch_130\">\n    <path clip-path=\"url(#p62d8ab093b)\" d=\"M 331.221121 287.464023 \nL 342.765948 287.464023 \nL 342.765948 248.625862 \nL 331.221121 248.625862 \nz\n\" style=\"fill:#357ba3;\"/>\n   </g>\n   <g id=\"patch_131\">\n    <path clip-path=\"url(#p62d8ab093b)\" d=\"M 354.310776 395.751853 \nL 365.855603 395.751853 \nL 365.855603 385.074499 \nL 354.310776 385.074499 \nz\n\" style=\"fill:#357ba3;\"/>\n   </g>\n   <g id=\"patch_132\">\n    <path clip-path=\"url(#p62d8ab093b)\" d=\"M 377.400431 329.840079 \nL 388.945259 329.840079 \nL 388.945259 301.669803 \nL 377.400431 301.669803 \nz\n\" style=\"fill:#357ba3;\"/>\n   </g>\n   <g id=\"patch_133\">\n    <path clip-path=\"url(#p62d8ab093b)\" d=\"M 400.490086 326.587298 \nL 412.034914 326.587298 \nL 412.034914 295.789778 \nL 400.490086 295.789778 \nz\n\" style=\"fill:#357ba3;\"/>\n   </g>\n   <g id=\"patch_134\">\n    <path clip-path=\"url(#p62d8ab093b)\" d=\"M 423.579741 366.168702 \nL 435.124569 366.168702 \nL 435.124569 346.282042 \nL 423.579741 346.282042 \nz\n\" style=\"fill:#357ba3;\"/>\n   </g>\n   <g id=\"patch_135\">\n    <path clip-path=\"url(#p62d8ab093b)\" d=\"M 446.669397 421.804503 \nL 458.214224 421.804503 \nL 458.214224 417.194555 \nL 446.669397 417.194555 \nz\n\" style=\"fill:#357ba3;\"/>\n   </g>\n   <g id=\"patch_136\">\n    <path clip-path=\"url(#p62d8ab093b)\" d=\"M 469.759052 414.854621 \nL 481.303879 414.854621 \nL 481.303879 408.551127 \nL 469.759052 408.551127 \nz\n\" style=\"fill:#357ba3;\"/>\n   </g>\n   <g id=\"patch_137\">\n    <path clip-path=\"url(#p62d8ab093b)\" d=\"M 492.848707 382.100031 \nL 504.393534 382.100031 \nL 504.393534 367.150329 \nL 492.848707 367.150329 \nz\n\" style=\"fill:#357ba3;\"/>\n   </g>\n   <g id=\"patch_138\">\n    <path clip-path=\"url(#p62d8ab093b)\" d=\"M 515.938362 430.792453 \nL 527.48319 430.792453 \nL 527.48319 428.905333 \nL 515.938362 428.905333 \nz\n\" style=\"fill:#357ba3;\"/>\n   </g>\n   <g id=\"patch_139\">\n    <path clip-path=\"url(#p62d8ab093b)\" d=\"M 539.028017 389.426098 \nL 550.572845 389.426098 \nL 550.572845 376.362199 \nL 539.028017 376.362199 \nz\n\" style=\"fill:#357ba3;\"/>\n   </g>\n   <g id=\"patch_140\">\n    <path clip-path=\"url(#p62d8ab093b)\" d=\"M 562.117672 403.71695 \nL 573.6625 403.71695 \nL 573.6625 393.955181 \nL 562.117672 393.955181 \nz\n\" style=\"fill:#357ba3;\"/>\n   </g>\n   <g id=\"patch_141\">\n    <path clip-path=\"url(#p62d8ab093b)\" d=\"M 585.207328 428.41181 \nL 596.752155 428.41181 \nL 596.752155 425.144068 \nL 585.207328 425.144068 \nz\n\" style=\"fill:#357ba3;\"/>\n   </g>\n   <g id=\"patch_142\">\n    <path clip-path=\"url(#p62d8ab093b)\" d=\"M 608.296983 413.423036 \nL 619.84181 413.423036 \nL 619.84181 406.921657 \nL 608.296983 406.921657 \nz\n\" style=\"fill:#357ba3;\"/>\n   </g>\n   <g id=\"patch_143\">\n    <path clip-path=\"url(#p62d8ab093b)\" d=\"M 631.386638 420.556482 \nL 642.931466 420.556482 \nL 642.931466 415.918509 \nL 631.386638 415.918509 \nz\n\" style=\"fill:#357ba3;\"/>\n   </g>\n   <g id=\"patch_144\">\n    <path clip-path=\"url(#p62d8ab093b)\" d=\"M 654.476293 339.277386 \nL 666.021121 339.277386 \nL 666.021121 314.33054 \nL 654.476293 314.33054 \nz\n\" style=\"fill:#357ba3;\"/>\n   </g>\n   <g id=\"patch_145\">\n    <path clip-path=\"url(#p62d8ab093b)\" d=\"M 677.565948 395.306622 \nL 689.110776 395.306622 \nL 689.110776 381.598184 \nL 677.565948 381.598184 \nz\n\" style=\"fill:#357ba3;\"/>\n   </g>\n   <g id=\"patch_146\">\n    <path clip-path=\"url(#p62d8ab093b)\" d=\"M 700.655603 351.552951 \nL 712.200431 351.552951 \nL 712.200431 328.056943 \nL 700.655603 328.056943 \nz\n\" style=\"fill:#357ba3;\"/>\n   </g>\n   <g id=\"patch_147\">\n    <path clip-path=\"url(#p62d8ab093b)\" d=\"M 723.745259 404.622439 \nL 735.290086 404.622439 \nL 735.290086 394.647301 \nL 723.745259 394.647301 \nz\n\" style=\"fill:#357ba3;\"/>\n   </g>\n   <g id=\"patch_148\">\n    <path clip-path=\"url(#p62d8ab093b)\" d=\"M 77.234914 428.165374 \nL 88.779741 428.165374 \nL 88.779741 425.675571 \nL 77.234914 425.675571 \nz\n\" style=\"fill:#359fab;\"/>\n   </g>\n   <g id=\"patch_149\">\n    <path clip-path=\"url(#p62d8ab093b)\" d=\"M 100.324569 391.501339 \nL 111.869397 391.501339 \nL 111.869397 378.264702 \nL 100.324569 378.264702 \nz\n\" style=\"fill:#359fab;\"/>\n   </g>\n   <g id=\"patch_150\">\n    <path clip-path=\"url(#p62d8ab093b)\" d=\"M 123.414224 424.99881 \nL 134.959052 424.99881 \nL 134.959052 422.444958 \nL 123.414224 422.444958 \nz\n\" style=\"fill:#359fab;\"/>\n   </g>\n   <g id=\"patch_151\">\n    <path clip-path=\"url(#p62d8ab093b)\" d=\"M 146.503879 399.151387 \nL 158.048707 399.151387 \nL 158.048707 388.994567 \nL 146.503879 388.994567 \nz\n\" style=\"fill:#359fab;\"/>\n   </g>\n   <g id=\"patch_152\">\n    <path clip-path=\"url(#p62d8ab093b)\" d=\"M 169.593534 362.587683 \nL 181.138362 362.587683 \nL 181.138362 346.530365 \nL 169.593534 346.530365 \nz\n\" style=\"fill:#359fab;\"/>\n   </g>\n   <g id=\"patch_153\">\n    <path clip-path=\"url(#p62d8ab093b)\" d=\"M 192.68319 391.393511 \nL 204.228017 391.393511 \nL 204.228017 381.456056 \nL 192.68319 381.456056 \nz\n\" style=\"fill:#359fab;\"/>\n   </g>\n   <g id=\"patch_154\">\n    <path clip-path=\"url(#p62d8ab093b)\" d=\"M 215.772845 409.251014 \nL 227.317672 409.251014 \nL 227.317672 403.13132 \nL 215.772845 403.13132 \nz\n\" style=\"fill:#359fab;\"/>\n   </g>\n   <g id=\"patch_155\">\n    <path clip-path=\"url(#p62d8ab093b)\" d=\"M 238.8625 381.428849 \nL 250.407328 381.428849 \nL 250.407328 368.545551 \nL 238.8625 368.545551 \nz\n\" style=\"fill:#359fab;\"/>\n   </g>\n   <g id=\"patch_156\">\n    <path clip-path=\"url(#p62d8ab093b)\" d=\"M 261.952155 384.749275 \nL 273.496983 384.749275 \nL 273.496983 373.015794 \nL 261.952155 373.015794 \nz\n\" style=\"fill:#359fab;\"/>\n   </g>\n   <g id=\"patch_157\">\n    <path clip-path=\"url(#p62d8ab093b)\" d=\"M 285.04181 407.760903 \nL 296.586638 407.760903 \nL 296.586638 399.942419 \nL 285.04181 399.942419 \nz\n\" style=\"fill:#359fab;\"/>\n   </g>\n   <g id=\"patch_158\">\n    <path clip-path=\"url(#p62d8ab093b)\" d=\"M 308.131466 371.450088 \nL 319.676293 371.450088 \nL 319.676293 357.753786 \nL 308.131466 357.753786 \nz\n\" style=\"fill:#359fab;\"/>\n   </g>\n   <g id=\"patch_159\">\n    <path clip-path=\"url(#p62d8ab093b)\" d=\"M 331.221121 248.625862 \nL 342.765948 248.625862 \nL 342.765948 207.966254 \nL 331.221121 207.966254 \nz\n\" style=\"fill:#359fab;\"/>\n   </g>\n   <g id=\"patch_160\">\n    <path clip-path=\"url(#p62d8ab093b)\" d=\"M 354.310776 385.074499 \nL 365.855603 385.074499 \nL 365.855603 374.095394 \nL 354.310776 374.095394 \nz\n\" style=\"fill:#359fab;\"/>\n   </g>\n   <g id=\"patch_161\">\n    <path clip-path=\"url(#p62d8ab093b)\" d=\"M 377.400431 301.669803 \nL 388.945259 301.669803 \nL 388.945259 271.967622 \nL 377.400431 271.967622 \nz\n\" style=\"fill:#359fab;\"/>\n   </g>\n   <g id=\"patch_162\">\n    <path clip-path=\"url(#p62d8ab093b)\" d=\"M 400.490086 295.789778 \nL 412.034914 295.789778 \nL 412.034914 264.016736 \nL 400.490086 264.016736 \nz\n\" style=\"fill:#359fab;\"/>\n   </g>\n   <g id=\"patch_163\">\n    <path clip-path=\"url(#p62d8ab093b)\" d=\"M 423.579741 346.282042 \nL 435.124569 346.282042 \nL 435.124569 325.761693 \nL 423.579741 325.761693 \nz\n\" style=\"fill:#359fab;\"/>\n   </g>\n   <g id=\"patch_164\">\n    <path clip-path=\"url(#p62d8ab093b)\" d=\"M 446.669397 417.194555 \nL 458.214224 417.194555 \nL 458.214224 412.317758 \nL 446.669397 412.317758 \nz\n\" style=\"fill:#359fab;\"/>\n   </g>\n   <g id=\"patch_165\">\n    <path clip-path=\"url(#p62d8ab093b)\" d=\"M 469.759052 408.551127 \nL 481.303879 408.551127 \nL 481.303879 402.165739 \nL 469.759052 402.165739 \nz\n\" style=\"fill:#359fab;\"/>\n   </g>\n   <g id=\"patch_166\">\n    <path clip-path=\"url(#p62d8ab093b)\" d=\"M 492.848707 367.150329 \nL 504.393534 367.150329 \nL 504.393534 351.387406 \nL 492.848707 351.387406 \nz\n\" style=\"fill:#359fab;\"/>\n   </g>\n   <g id=\"patch_167\">\n    <path clip-path=\"url(#p62d8ab093b)\" d=\"M 515.938362 428.905333 \nL 527.48319 428.905333 \nL 527.48319 427.005263 \nL 515.938362 427.005263 \nz\n\" style=\"fill:#359fab;\"/>\n   </g>\n   <g id=\"patch_168\">\n    <path clip-path=\"url(#p62d8ab093b)\" d=\"M 539.028017 376.362199 \nL 550.572845 376.362199 \nL 550.572845 362.493695 \nL 539.028017 362.493695 \nz\n\" style=\"fill:#359fab;\"/>\n   </g>\n   <g id=\"patch_169\">\n    <path clip-path=\"url(#p62d8ab093b)\" d=\"M 562.117672 393.955181 \nL 573.6625 393.955181 \nL 573.6625 383.53856 \nL 562.117672 383.53856 \nz\n\" style=\"fill:#359fab;\"/>\n   </g>\n   <g id=\"patch_170\">\n    <path clip-path=\"url(#p62d8ab093b)\" d=\"M 585.207328 425.144068 \nL 596.752155 425.144068 \nL 596.752155 421.627203 \nL 585.207328 421.627203 \nz\n\" style=\"fill:#359fab;\"/>\n   </g>\n   <g id=\"patch_171\">\n    <path clip-path=\"url(#p62d8ab093b)\" d=\"M 608.296983 406.921657 \nL 619.84181 406.921657 \nL 619.84181 400.013367 \nL 608.296983 400.013367 \nz\n\" style=\"fill:#359fab;\"/>\n   </g>\n   <g id=\"patch_172\">\n    <path clip-path=\"url(#p62d8ab093b)\" d=\"M 631.386638 415.918509 \nL 642.931466 415.918509 \nL 642.931466 411.168697 \nL 631.386638 411.168697 \nz\n\" style=\"fill:#359fab;\"/>\n   </g>\n   <g id=\"patch_173\">\n    <path clip-path=\"url(#p62d8ab093b)\" d=\"M 654.476293 314.33054 \nL 666.021121 314.33054 \nL 666.021121 288.587959 \nL 654.476293 288.587959 \nz\n\" style=\"fill:#359fab;\"/>\n   </g>\n   <g id=\"patch_174\">\n    <path clip-path=\"url(#p62d8ab093b)\" d=\"M 677.565948 381.598184 \nL 689.110776 381.598184 \nL 689.110776 365.81839 \nL 677.565948 365.81839 \nz\n\" style=\"fill:#359fab;\"/>\n   </g>\n   <g id=\"patch_175\">\n    <path clip-path=\"url(#p62d8ab093b)\" d=\"M 700.655603 328.056943 \nL 712.200431 328.056943 \nL 712.200431 303.439187 \nL 700.655603 303.439187 \nz\n\" style=\"fill:#359fab;\"/>\n   </g>\n   <g id=\"patch_176\">\n    <path clip-path=\"url(#p62d8ab093b)\" d=\"M 723.745259 394.647301 \nL 735.290086 394.647301 \nL 735.290086 384.283719 \nL 723.745259 384.283719 \nz\n\" style=\"fill:#359fab;\"/>\n   </g>\n   <g id=\"patch_177\">\n    <path clip-path=\"url(#p62d8ab093b)\" d=\"M 77.234914 425.675571 \nL 88.779741 425.675571 \nL 88.779741 422.966457 \nL 77.234914 422.966457 \nz\n\" style=\"fill:#4bc2ad;\"/>\n   </g>\n   <g id=\"patch_178\">\n    <path clip-path=\"url(#p62d8ab093b)\" d=\"M 100.324569 378.264702 \nL 111.869397 378.264702 \nL 111.869397 366.014491 \nL 100.324569 366.014491 \nz\n\" style=\"fill:#4bc2ad;\"/>\n   </g>\n   <g id=\"patch_179\">\n    <path clip-path=\"url(#p62d8ab093b)\" d=\"M 123.414224 422.444958 \nL 134.959052 422.444958 \nL 134.959052 419.84847 \nL 123.414224 419.84847 \nz\n\" style=\"fill:#4bc2ad;\"/>\n   </g>\n   <g id=\"patch_180\">\n    <path clip-path=\"url(#p62d8ab093b)\" d=\"M 146.503879 388.994567 \nL 158.048707 388.994567 \nL 158.048707 378.230545 \nL 146.503879 378.230545 \nz\n\" style=\"fill:#4bc2ad;\"/>\n   </g>\n   <g id=\"patch_181\">\n    <path clip-path=\"url(#p62d8ab093b)\" d=\"M 169.593534 346.530365 \nL 181.138362 346.530365 \nL 181.138362 330.663305 \nL 169.593534 330.663305 \nz\n\" style=\"fill:#4bc2ad;\"/>\n   </g>\n   <g id=\"patch_182\">\n    <path clip-path=\"url(#p62d8ab093b)\" d=\"M 192.68319 381.456056 \nL 204.228017 381.456056 \nL 204.228017 371.525225 \nL 192.68319 371.525225 \nz\n\" style=\"fill:#4bc2ad;\"/>\n   </g>\n   <g id=\"patch_183\">\n    <path clip-path=\"url(#p62d8ab093b)\" d=\"M 215.772845 403.13132 \nL 227.317672 403.13132 \nL 227.317672 397.194847 \nL 215.772845 397.194847 \nz\n\" style=\"fill:#4bc2ad;\"/>\n   </g>\n   <g id=\"patch_184\">\n    <path clip-path=\"url(#p62d8ab093b)\" d=\"M 238.8625 368.545551 \nL 250.407328 368.545551 \nL 250.407328 355.607632 \nL 238.8625 355.607632 \nz\n\" style=\"fill:#4bc2ad;\"/>\n   </g>\n   <g id=\"patch_185\">\n    <path clip-path=\"url(#p62d8ab093b)\" d=\"M 261.952155 373.015794 \nL 273.496983 373.015794 \nL 273.496983 360.685983 \nL 261.952155 360.685983 \nz\n\" style=\"fill:#4bc2ad;\"/>\n   </g>\n   <g id=\"patch_186\">\n    <path clip-path=\"url(#p62d8ab093b)\" d=\"M 285.04181 399.942419 \nL 296.586638 399.942419 \nL 296.586638 392.14809 \nL 285.04181 392.14809 \nz\n\" style=\"fill:#4bc2ad;\"/>\n   </g>\n   <g id=\"patch_187\">\n    <path clip-path=\"url(#p62d8ab093b)\" d=\"M 308.131466 357.753786 \nL 319.676293 357.753786 \nL 319.676293 343.500497 \nL 308.131466 343.500497 \nz\n\" style=\"fill:#4bc2ad;\"/>\n   </g>\n   <g id=\"patch_188\">\n    <path clip-path=\"url(#p62d8ab093b)\" d=\"M 331.221121 207.966254 \nL 342.765948 207.966254 \nL 342.765948 165.399636 \nL 331.221121 165.399636 \nz\n\" style=\"fill:#4bc2ad;\"/>\n   </g>\n   <g id=\"patch_189\">\n    <path clip-path=\"url(#p62d8ab093b)\" d=\"M 354.310776 374.095394 \nL 365.855603 374.095394 \nL 365.855603 362.84377 \nL 354.310776 362.84377 \nz\n\" style=\"fill:#4bc2ad;\"/>\n   </g>\n   <g id=\"patch_190\">\n    <path clip-path=\"url(#p62d8ab093b)\" d=\"M 377.400431 271.967622 \nL 388.945259 271.967622 \nL 388.945259 240.609713 \nL 377.400431 240.609713 \nz\n\" style=\"fill:#4bc2ad;\"/>\n   </g>\n   <g id=\"patch_191\">\n    <path clip-path=\"url(#p62d8ab093b)\" d=\"M 400.490086 264.016736 \nL 412.034914 264.016736 \nL 412.034914 231.684799 \nL 400.490086 231.684799 \nz\n\" style=\"fill:#4bc2ad;\"/>\n   </g>\n   <g id=\"patch_192\">\n    <path clip-path=\"url(#p62d8ab093b)\" d=\"M 423.579741 325.761693 \nL 435.124569 325.761693 \nL 435.124569 304.330818 \nL 423.579741 304.330818 \nz\n\" style=\"fill:#4bc2ad;\"/>\n   </g>\n   <g id=\"patch_193\">\n    <path clip-path=\"url(#p62d8ab093b)\" d=\"M 446.669397 412.317758 \nL 458.214224 412.317758 \nL 458.214224 407.822105 \nL 446.669397 407.822105 \nz\n\" style=\"fill:#4bc2ad;\"/>\n   </g>\n   <g id=\"patch_194\">\n    <path clip-path=\"url(#p62d8ab093b)\" d=\"M 469.759052 402.165739 \nL 481.303879 402.165739 \nL 481.303879 395.759212 \nL 469.759052 395.759212 \nz\n\" style=\"fill:#4bc2ad;\"/>\n   </g>\n   <g id=\"patch_195\">\n    <path clip-path=\"url(#p62d8ab093b)\" d=\"M 492.848707 351.387406 \nL 504.393534 351.387406 \nL 504.393534 334.95924 \nL 492.848707 334.95924 \nz\n\" style=\"fill:#4bc2ad;\"/>\n   </g>\n   <g id=\"patch_196\">\n    <path clip-path=\"url(#p62d8ab093b)\" d=\"M 515.938362 427.005263 \nL 527.48319 427.005263 \nL 527.48319 425.05127 \nL 515.938362 425.05127 \nz\n\" style=\"fill:#4bc2ad;\"/>\n   </g>\n   <g id=\"patch_197\">\n    <path clip-path=\"url(#p62d8ab093b)\" d=\"M 539.028017 362.493695 \nL 550.572845 362.493695 \nL 550.572845 348.012149 \nL 539.028017 348.012149 \nz\n\" style=\"fill:#4bc2ad;\"/>\n   </g>\n   <g id=\"patch_198\">\n    <path clip-path=\"url(#p62d8ab093b)\" d=\"M 562.117672 383.53856 \nL 573.6625 383.53856 \nL 573.6625 372.974804 \nL 562.117672 372.974804 \nz\n\" style=\"fill:#4bc2ad;\"/>\n   </g>\n   <g id=\"patch_199\">\n    <path clip-path=\"url(#p62d8ab093b)\" d=\"M 585.207328 421.627203 \nL 596.752155 421.627203 \nL 596.752155 417.968271 \nL 585.207328 417.968271 \nz\n\" style=\"fill:#4bc2ad;\"/>\n   </g>\n   <g id=\"patch_200\">\n    <path clip-path=\"url(#p62d8ab093b)\" d=\"M 608.296983 400.013367 \nL 619.84181 400.013367 \nL 619.84181 393.097042 \nL 608.296983 393.097042 \nz\n\" style=\"fill:#4bc2ad;\"/>\n   </g>\n   <g id=\"patch_201\">\n    <path clip-path=\"url(#p62d8ab093b)\" d=\"M 631.386638 411.168697 \nL 642.931466 411.168697 \nL 642.931466 406.379598 \nL 631.386638 406.379598 \nz\n\" style=\"fill:#4bc2ad;\"/>\n   </g>\n   <g id=\"patch_202\">\n    <path clip-path=\"url(#p62d8ab093b)\" d=\"M 654.476293 288.587959 \nL 666.021121 288.587959 \nL 666.021121 262.320595 \nL 654.476293 262.320595 \nz\n\" style=\"fill:#4bc2ad;\"/>\n   </g>\n   <g id=\"patch_203\">\n    <path clip-path=\"url(#p62d8ab093b)\" d=\"M 677.565948 365.81839 \nL 689.110776 365.81839 \nL 689.110776 350.68603 \nL 677.565948 350.68603 \nz\n\" style=\"fill:#4bc2ad;\"/>\n   </g>\n   <g id=\"patch_204\">\n    <path clip-path=\"url(#p62d8ab093b)\" d=\"M 700.655603 303.439187 \nL 712.200431 303.439187 \nL 712.200431 278.170258 \nL 700.655603 278.170258 \nz\n\" style=\"fill:#4bc2ad;\"/>\n   </g>\n   <g id=\"patch_205\">\n    <path clip-path=\"url(#p62d8ab093b)\" d=\"M 723.745259 384.283719 \nL 735.290086 384.283719 \nL 735.290086 373.902236 \nL 723.745259 373.902236 \nz\n\" style=\"fill:#4bc2ad;\"/>\n   </g>\n   <g id=\"patch_206\">\n    <path clip-path=\"url(#p62d8ab093b)\" d=\"M 77.234914 422.966457 \nL 88.779741 422.966457 \nL 88.779741 420.730362 \nL 77.234914 420.730362 \nz\n\" style=\"fill:#99ddb6;\"/>\n   </g>\n   <g id=\"patch_207\">\n    <path clip-path=\"url(#p62d8ab093b)\" d=\"M 100.324569 366.014491 \nL 111.869397 366.014491 \nL 111.869397 352.56203 \nL 100.324569 352.56203 \nz\n\" style=\"fill:#99ddb6;\"/>\n   </g>\n   <g id=\"patch_208\">\n    <path clip-path=\"url(#p62d8ab093b)\" d=\"M 123.414224 419.84847 \nL 134.959052 419.84847 \nL 134.959052 417.31762 \nL 123.414224 417.31762 \nz\n\" style=\"fill:#99ddb6;\"/>\n   </g>\n   <g id=\"patch_209\">\n    <path clip-path=\"url(#p62d8ab093b)\" d=\"M 146.503879 378.230545 \nL 158.048707 378.230545 \nL 158.048707 366.969272 \nL 146.503879 366.969272 \nz\n\" style=\"fill:#99ddb6;\"/>\n   </g>\n   <g id=\"patch_210\">\n    <path clip-path=\"url(#p62d8ab093b)\" d=\"M 169.593534 330.663305 \nL 181.138362 330.663305 \nL 181.138362 313.993866 \nL 169.593534 313.993866 \nz\n\" style=\"fill:#99ddb6;\"/>\n   </g>\n   <g id=\"patch_211\">\n    <path clip-path=\"url(#p62d8ab093b)\" d=\"M 192.68319 371.525225 \nL 204.228017 371.525225 \nL 204.228017 360.960593 \nL 192.68319 360.960593 \nz\n\" style=\"fill:#99ddb6;\"/>\n   </g>\n   <g id=\"patch_212\">\n    <path clip-path=\"url(#p62d8ab093b)\" d=\"M 215.772845 397.194847 \nL 227.317672 397.194847 \nL 227.317672 391.088817 \nL 215.772845 391.088817 \nz\n\" style=\"fill:#99ddb6;\"/>\n   </g>\n   <g id=\"patch_213\">\n    <path clip-path=\"url(#p62d8ab093b)\" d=\"M 238.8625 355.607632 \nL 250.407328 355.607632 \nL 250.407328 342.150983 \nL 238.8625 342.150983 \nz\n\" style=\"fill:#99ddb6;\"/>\n   </g>\n   <g id=\"patch_214\">\n    <path clip-path=\"url(#p62d8ab093b)\" d=\"M 261.952155 360.685983 \nL 273.496983 360.685983 \nL 273.496983 347.87084 \nL 261.952155 347.87084 \nz\n\" style=\"fill:#99ddb6;\"/>\n   </g>\n   <g id=\"patch_215\">\n    <path clip-path=\"url(#p62d8ab093b)\" d=\"M 285.04181 392.14809 \nL 296.586638 392.14809 \nL 296.586638 383.978522 \nL 285.04181 383.978522 \nz\n\" style=\"fill:#99ddb6;\"/>\n   </g>\n   <g id=\"patch_216\">\n    <path clip-path=\"url(#p62d8ab093b)\" d=\"M 308.131466 343.500497 \nL 319.676293 343.500497 \nL 319.676293 328.361749 \nL 308.131466 328.361749 \nz\n\" style=\"fill:#99ddb6;\"/>\n   </g>\n   <g id=\"patch_217\">\n    <path clip-path=\"url(#p62d8ab093b)\" d=\"M 331.221121 165.399636 \nL 342.765948 165.399636 \nL 342.765948 121.275791 \nL 331.221121 121.275791 \nz\n\" style=\"fill:#99ddb6;\"/>\n   </g>\n   <g id=\"patch_218\">\n    <path clip-path=\"url(#p62d8ab093b)\" d=\"M 354.310776 362.84377 \nL 365.855603 362.84377 \nL 365.855603 351.513721 \nL 354.310776 351.513721 \nz\n\" style=\"fill:#99ddb6;\"/>\n   </g>\n   <g id=\"patch_219\">\n    <path clip-path=\"url(#p62d8ab093b)\" d=\"M 377.400431 240.609713 \nL 388.945259 240.609713 \nL 388.945259 207.738243 \nL 377.400431 207.738243 \nz\n\" style=\"fill:#99ddb6;\"/>\n   </g>\n   <g id=\"patch_220\">\n    <path clip-path=\"url(#p62d8ab093b)\" d=\"M 400.490086 231.684799 \nL 412.034914 231.684799 \nL 412.034914 196.991049 \nL 400.490086 196.991049 \nz\n\" style=\"fill:#99ddb6;\"/>\n   </g>\n   <g id=\"patch_221\">\n    <path clip-path=\"url(#p62d8ab093b)\" d=\"M 423.579741 304.330818 \nL 435.124569 304.330818 \nL 435.124569 281.929822 \nL 423.579741 281.929822 \nz\n\" style=\"fill:#99ddb6;\"/>\n   </g>\n   <g id=\"patch_222\">\n    <path clip-path=\"url(#p62d8ab093b)\" d=\"M 446.669397 407.822105 \nL 458.214224 407.822105 \nL 458.214224 402.319337 \nL 446.669397 402.319337 \nz\n\" style=\"fill:#99ddb6;\"/>\n   </g>\n   <g id=\"patch_223\">\n    <path clip-path=\"url(#p62d8ab093b)\" d=\"M 469.759052 395.759212 \nL 481.303879 395.759212 \nL 481.303879 388.938367 \nL 469.759052 388.938367 \nz\n\" style=\"fill:#99ddb6;\"/>\n   </g>\n   <g id=\"patch_224\">\n    <path clip-path=\"url(#p62d8ab093b)\" d=\"M 492.848707 334.95924 \nL 504.393534 334.95924 \nL 504.393534 318.247388 \nL 492.848707 318.247388 \nz\n\" style=\"fill:#99ddb6;\"/>\n   </g>\n   <g id=\"patch_225\">\n    <path clip-path=\"url(#p62d8ab093b)\" d=\"M 515.938362 425.05127 \nL 527.48319 425.05127 \nL 527.48319 423.14597 \nL 515.938362 423.14597 \nz\n\" style=\"fill:#99ddb6;\"/>\n   </g>\n   <g id=\"patch_226\">\n    <path clip-path=\"url(#p62d8ab093b)\" d=\"M 539.028017 348.012149 \nL 550.572845 348.012149 \nL 550.572845 333.192697 \nL 539.028017 333.192697 \nz\n\" style=\"fill:#99ddb6;\"/>\n   </g>\n   <g id=\"patch_227\">\n    <path clip-path=\"url(#p62d8ab093b)\" d=\"M 562.117672 372.974804 \nL 573.6625 372.974804 \nL 573.6625 362.079553 \nL 562.117672 362.079553 \nz\n\" style=\"fill:#99ddb6;\"/>\n   </g>\n   <g id=\"patch_228\">\n    <path clip-path=\"url(#p62d8ab093b)\" d=\"M 585.207328 417.968271 \nL 596.752155 417.968271 \nL 596.752155 414.277064 \nL 585.207328 414.277064 \nz\n\" style=\"fill:#99ddb6;\"/>\n   </g>\n   <g id=\"patch_229\">\n    <path clip-path=\"url(#p62d8ab093b)\" d=\"M 608.296983 393.097042 \nL 619.84181 393.097042 \nL 619.84181 385.884682 \nL 608.296983 385.884682 \nz\n\" style=\"fill:#99ddb6;\"/>\n   </g>\n   <g id=\"patch_230\">\n    <path clip-path=\"url(#p62d8ab093b)\" d=\"M 631.386638 406.379598 \nL 642.931466 406.379598 \nL 642.931466 401.553714 \nL 631.386638 401.553714 \nz\n\" style=\"fill:#99ddb6;\"/>\n   </g>\n   <g id=\"patch_231\">\n    <path clip-path=\"url(#p62d8ab093b)\" d=\"M 654.476293 262.320595 \nL 666.021121 262.320595 \nL 666.021121 235.511999 \nL 654.476293 235.511999 \nz\n\" style=\"fill:#99ddb6;\"/>\n   </g>\n   <g id=\"patch_232\">\n    <path clip-path=\"url(#p62d8ab093b)\" d=\"M 677.565948 350.68603 \nL 689.110776 350.68603 \nL 689.110776 334.975682 \nL 677.565948 334.975682 \nz\n\" style=\"fill:#99ddb6;\"/>\n   </g>\n   <g id=\"patch_233\">\n    <path clip-path=\"url(#p62d8ab093b)\" d=\"M 700.655603 278.170258 \nL 712.200431 278.170258 \nL 712.200431 251.897161 \nL 700.655603 251.897161 \nz\n\" style=\"fill:#99ddb6;\"/>\n   </g>\n   <g id=\"patch_234\">\n    <path clip-path=\"url(#p62d8ab093b)\" d=\"M 723.745259 373.902236 \nL 735.290086 373.902236 \nL 735.290086 363.20671 \nL 723.745259 363.20671 \nz\n\" style=\"fill:#99ddb6;\"/>\n   </g>\n   <g id=\"patch_235\">\n    <path clip-path=\"url(#p62d8ab093b)\" d=\"M 77.234914 420.730362 \nL 88.779741 420.730362 \nL 88.779741 418.560003 \nL 77.234914 418.560003 \nz\n\" style=\"fill:#def5e5;\"/>\n   </g>\n   <g id=\"patch_236\">\n    <path clip-path=\"url(#p62d8ab093b)\" d=\"M 100.324569 352.56203 \nL 111.869397 352.56203 \nL 111.869397 338.760328 \nL 100.324569 338.760328 \nz\n\" style=\"fill:#def5e5;\"/>\n   </g>\n   <g id=\"patch_237\">\n    <path clip-path=\"url(#p62d8ab093b)\" d=\"M 123.414224 417.31762 \nL 134.959052 417.31762 \nL 134.959052 414.779744 \nL 123.414224 414.779744 \nz\n\" style=\"fill:#def5e5;\"/>\n   </g>\n   <g id=\"patch_238\">\n    <path clip-path=\"url(#p62d8ab093b)\" d=\"M 146.503879 366.969272 \nL 158.048707 366.969272 \nL 158.048707 355.237142 \nL 146.503879 355.237142 \nz\n\" style=\"fill:#def5e5;\"/>\n   </g>\n   <g id=\"patch_239\">\n    <path clip-path=\"url(#p62d8ab093b)\" d=\"M 169.593534 313.993866 \nL 181.138362 313.993866 \nL 181.138362 296.530939 \nL 169.593534 296.530939 \nz\n\" style=\"fill:#def5e5;\"/>\n   </g>\n   <g id=\"patch_240\">\n    <path clip-path=\"url(#p62d8ab093b)\" d=\"M 192.68319 360.960593 \nL 204.228017 360.960593 \nL 204.228017 350.030648 \nL 192.68319 350.030648 \nz\n\" style=\"fill:#def5e5;\"/>\n   </g>\n   <g id=\"patch_241\">\n    <path clip-path=\"url(#p62d8ab093b)\" d=\"M 215.772845 391.088817 \nL 227.317672 391.088817 \nL 227.317672 384.559373 \nL 215.772845 384.559373 \nz\n\" style=\"fill:#def5e5;\"/>\n   </g>\n   <g id=\"patch_242\">\n    <path clip-path=\"url(#p62d8ab093b)\" d=\"M 238.8625 342.150983 \nL 250.407328 342.150983 \nL 250.407328 328.599166 \nL 238.8625 328.599166 \nz\n\" style=\"fill:#def5e5;\"/>\n   </g>\n   <g id=\"patch_243\">\n    <path clip-path=\"url(#p62d8ab093b)\" d=\"M 261.952155 347.87084 \nL 273.496983 347.87084 \nL 273.496983 334.690023 \nL 261.952155 334.690023 \nz\n\" style=\"fill:#def5e5;\"/>\n   </g>\n   <g id=\"patch_244\">\n    <path clip-path=\"url(#p62d8ab093b)\" d=\"M 285.04181 383.978522 \nL 296.586638 383.978522 \nL 296.586638 375.200682 \nL 285.04181 375.200682 \nz\n\" style=\"fill:#def5e5;\"/>\n   </g>\n   <g id=\"patch_245\">\n    <path clip-path=\"url(#p62d8ab093b)\" d=\"M 308.131466 328.361749 \nL 319.676293 328.361749 \nL 319.676293 312.75084 \nL 308.131466 312.75084 \nz\n\" style=\"fill:#def5e5;\"/>\n   </g>\n   <g id=\"patch_246\">\n    <path clip-path=\"url(#p62d8ab093b)\" d=\"M 331.221121 121.275791 \nL 342.765948 121.275791 \nL 342.765948 75.72 \nL 331.221121 75.72 \nz\n\" style=\"fill:#def5e5;\"/>\n   </g>\n   <g id=\"patch_247\">\n    <path clip-path=\"url(#p62d8ab093b)\" d=\"M 354.310776 351.513721 \nL 365.855603 351.513721 \nL 365.855603 339.884265 \nL 354.310776 339.884265 \nz\n\" style=\"fill:#def5e5;\"/>\n   </g>\n   <g id=\"patch_248\">\n    <path clip-path=\"url(#p62d8ab093b)\" d=\"M 377.400431 207.738243 \nL 388.945259 207.738243 \nL 388.945259 173.722215 \nL 377.400431 173.722215 \nz\n\" style=\"fill:#def5e5;\"/>\n   </g>\n   <g id=\"patch_249\">\n    <path clip-path=\"url(#p62d8ab093b)\" d=\"M 400.490086 196.991049 \nL 412.034914 196.991049 \nL 412.034914 160.300229 \nL 400.490086 160.300229 \nz\n\" style=\"fill:#def5e5;\"/>\n   </g>\n   <g id=\"patch_250\">\n    <path clip-path=\"url(#p62d8ab093b)\" d=\"M 423.579741 281.929822 \nL 435.124569 281.929822 \nL 435.124569 257.896681 \nL 423.579741 257.896681 \nz\n\" style=\"fill:#def5e5;\"/>\n   </g>\n   <g id=\"patch_251\">\n    <path clip-path=\"url(#p62d8ab093b)\" d=\"M 446.669397 402.319337 \nL 458.214224 402.319337 \nL 458.214224 396.898926 \nL 446.669397 396.898926 \nz\n\" style=\"fill:#def5e5;\"/>\n   </g>\n   <g id=\"patch_252\">\n    <path clip-path=\"url(#p62d8ab093b)\" d=\"M 469.759052 388.938367 \nL 481.303879 388.938367 \nL 481.303879 381.693482 \nL 469.759052 381.693482 \nz\n\" style=\"fill:#def5e5;\"/>\n   </g>\n   <g id=\"patch_253\">\n    <path clip-path=\"url(#p62d8ab093b)\" d=\"M 492.848707 318.247388 \nL 504.393534 318.247388 \nL 504.393534 300.981961 \nL 492.848707 300.981961 \nz\n\" style=\"fill:#def5e5;\"/>\n   </g>\n   <g id=\"patch_254\">\n    <path clip-path=\"url(#p62d8ab093b)\" d=\"M 515.938362 423.14597 \nL 527.48319 423.14597 \nL 527.48319 421.202998 \nL 515.938362 421.202998 \nz\n\" style=\"fill:#def5e5;\"/>\n   </g>\n   <g id=\"patch_255\">\n    <path clip-path=\"url(#p62d8ab093b)\" d=\"M 539.028017 333.192697 \nL 550.572845 333.192697 \nL 550.572845 317.854925 \nL 539.028017 317.854925 \nz\n\" style=\"fill:#def5e5;\"/>\n   </g>\n   <g id=\"patch_256\">\n    <path clip-path=\"url(#p62d8ab093b)\" d=\"M 562.117672 362.079553 \nL 573.6625 362.079553 \nL 573.6625 350.755733 \nL 562.117672 350.755733 \nz\n\" style=\"fill:#def5e5;\"/>\n   </g>\n   <g id=\"patch_257\">\n    <path clip-path=\"url(#p62d8ab093b)\" d=\"M 585.207328 414.277064 \nL 596.752155 414.277064 \nL 596.752155 410.410468 \nL 585.207328 410.410468 \nz\n\" style=\"fill:#def5e5;\"/>\n   </g>\n   <g id=\"patch_258\">\n    <path clip-path=\"url(#p62d8ab093b)\" d=\"M 608.296983 385.884682 \nL 619.84181 385.884682 \nL 619.84181 378.417174 \nL 608.296983 378.417174 \nz\n\" style=\"fill:#def5e5;\"/>\n   </g>\n   <g id=\"patch_259\">\n    <path clip-path=\"url(#p62d8ab093b)\" d=\"M 631.386638 401.553714 \nL 642.931466 401.553714 \nL 642.931466 396.549507 \nL 631.386638 396.549507 \nz\n\" style=\"fill:#def5e5;\"/>\n   </g>\n   <g id=\"patch_260\">\n    <path clip-path=\"url(#p62d8ab093b)\" d=\"M 654.476293 235.511999 \nL 666.021121 235.511999 \nL 666.021121 208.309235 \nL 654.476293 208.309235 \nz\n\" style=\"fill:#def5e5;\"/>\n   </g>\n   <g id=\"patch_261\">\n    <path clip-path=\"url(#p62d8ab093b)\" d=\"M 677.565948 334.975682 \nL 689.110776 334.975682 \nL 689.110776 318.989074 \nL 677.565948 318.989074 \nz\n\" style=\"fill:#def5e5;\"/>\n   </g>\n   <g id=\"patch_262\">\n    <path clip-path=\"url(#p62d8ab093b)\" d=\"M 700.655603 251.897161 \nL 712.200431 251.897161 \nL 712.200431 225.167639 \nL 700.655603 225.167639 \nz\n\" style=\"fill:#def5e5;\"/>\n   </g>\n   <g id=\"patch_263\">\n    <path clip-path=\"url(#p62d8ab093b)\" d=\"M 723.745259 363.20671 \nL 735.290086 363.20671 \nL 735.290086 351.893582 \nL 723.745259 351.893582 \nz\n\" style=\"fill:#def5e5;\"/>\n   </g>\n   <g id=\"matplotlib.axis_1\">\n    <g id=\"xtick_1\">\n     <g id=\"line2d_1\">\n      <defs>\n       <path d=\"M 0 0 \nL 0 3.5 \n\" id=\"mafcee03cdb\" style=\"stroke:#000000;stroke-width:0.8;\"/>\n      </defs>\n      <g>\n       <use style=\"stroke:#000000;stroke-width:0.8;\" x=\"83.007328\" xlink:href=\"#mafcee03cdb\" y=\"438.12\"/>\n      </g>\n     </g>\n     <g id=\"text_1\">\n      <!--     Agriculture, forestry, fishing and hunting -->\n      <g transform=\"translate(85.766703 661.248125)rotate(-90)scale(0.1 -0.1)\">\n       <defs>\n        <path id=\"DejaVuSans-32\"/>\n        <path d=\"M 34.1875 63.1875 \nL 20.796875 26.90625 \nL 47.609375 26.90625 \nz\nM 28.609375 72.90625 \nL 39.796875 72.90625 \nL 67.578125 0 \nL 57.328125 0 \nL 50.6875 18.703125 \nL 17.828125 18.703125 \nL 11.1875 0 \nL 0.78125 0 \nz\n\" id=\"DejaVuSans-65\"/>\n        <path d=\"M 45.40625 27.984375 \nQ 45.40625 37.75 41.375 43.109375 \nQ 37.359375 48.484375 30.078125 48.484375 \nQ 22.859375 48.484375 18.828125 43.109375 \nQ 14.796875 37.75 14.796875 27.984375 \nQ 14.796875 18.265625 18.828125 12.890625 \nQ 22.859375 7.515625 30.078125 7.515625 \nQ 37.359375 7.515625 41.375 12.890625 \nQ 45.40625 18.265625 45.40625 27.984375 \nz\nM 54.390625 6.78125 \nQ 54.390625 -7.171875 48.1875 -13.984375 \nQ 42 -20.796875 29.203125 -20.796875 \nQ 24.46875 -20.796875 20.265625 -20.09375 \nQ 16.0625 -19.390625 12.109375 -17.921875 \nL 12.109375 -9.1875 \nQ 16.0625 -11.328125 19.921875 -12.34375 \nQ 23.78125 -13.375 27.78125 -13.375 \nQ 36.625 -13.375 41.015625 -8.765625 \nQ 45.40625 -4.15625 45.40625 5.171875 \nL 45.40625 9.625 \nQ 42.625 4.78125 38.28125 2.390625 \nQ 33.9375 0 27.875 0 \nQ 17.828125 0 11.671875 7.65625 \nQ 5.515625 15.328125 5.515625 27.984375 \nQ 5.515625 40.671875 11.671875 48.328125 \nQ 17.828125 56 27.875 56 \nQ 33.9375 56 38.28125 53.609375 \nQ 42.625 51.21875 45.40625 46.390625 \nL 45.40625 54.6875 \nL 54.390625 54.6875 \nz\n\" id=\"DejaVuSans-103\"/>\n        <path d=\"M 41.109375 46.296875 \nQ 39.59375 47.171875 37.8125 47.578125 \nQ 36.03125 48 33.890625 48 \nQ 26.265625 48 22.1875 43.046875 \nQ 18.109375 38.09375 18.109375 28.8125 \nL 18.109375 0 \nL 9.078125 0 \nL 9.078125 54.6875 \nL 18.109375 54.6875 \nL 18.109375 46.1875 \nQ 20.953125 51.171875 25.484375 53.578125 \nQ 30.03125 56 36.53125 56 \nQ 37.453125 56 38.578125 55.875 \nQ 39.703125 55.765625 41.0625 55.515625 \nz\n\" id=\"DejaVuSans-114\"/>\n        <path d=\"M 9.421875 54.6875 \nL 18.40625 54.6875 \nL 18.40625 0 \nL 9.421875 0 \nz\nM 9.421875 75.984375 \nL 18.40625 75.984375 \nL 18.40625 64.59375 \nL 9.421875 64.59375 \nz\n\" id=\"DejaVuSans-105\"/>\n        <path d=\"M 48.78125 52.59375 \nL 48.78125 44.1875 \nQ 44.96875 46.296875 41.140625 47.34375 \nQ 37.3125 48.390625 33.40625 48.390625 \nQ 24.65625 48.390625 19.8125 42.84375 \nQ 14.984375 37.3125 14.984375 27.296875 \nQ 14.984375 17.28125 19.8125 11.734375 \nQ 24.65625 6.203125 33.40625 6.203125 \nQ 37.3125 6.203125 41.140625 7.25 \nQ 44.96875 8.296875 48.78125 10.40625 \nL 48.78125 2.09375 \nQ 45.015625 0.34375 40.984375 -0.53125 \nQ 36.96875 -1.421875 32.421875 -1.421875 \nQ 20.0625 -1.421875 12.78125 6.34375 \nQ 5.515625 14.109375 5.515625 27.296875 \nQ 5.515625 40.671875 12.859375 48.328125 \nQ 20.21875 56 33.015625 56 \nQ 37.15625 56 41.109375 55.140625 \nQ 45.0625 54.296875 48.78125 52.59375 \nz\n\" id=\"DejaVuSans-99\"/>\n        <path d=\"M 8.5 21.578125 \nL 8.5 54.6875 \nL 17.484375 54.6875 \nL 17.484375 21.921875 \nQ 17.484375 14.15625 20.5 10.265625 \nQ 23.53125 6.390625 29.59375 6.390625 \nQ 36.859375 6.390625 41.078125 11.03125 \nQ 45.3125 15.671875 45.3125 23.6875 \nL 45.3125 54.6875 \nL 54.296875 54.6875 \nL 54.296875 0 \nL 45.3125 0 \nL 45.3125 8.40625 \nQ 42.046875 3.421875 37.71875 1 \nQ 33.40625 -1.421875 27.6875 -1.421875 \nQ 18.265625 -1.421875 13.375 4.4375 \nQ 8.5 10.296875 8.5 21.578125 \nz\nM 31.109375 56 \nz\n\" id=\"DejaVuSans-117\"/>\n        <path d=\"M 9.421875 75.984375 \nL 18.40625 75.984375 \nL 18.40625 0 \nL 9.421875 0 \nz\n\" id=\"DejaVuSans-108\"/>\n        <path d=\"M 18.3125 70.21875 \nL 18.3125 54.6875 \nL 36.8125 54.6875 \nL 36.8125 47.703125 \nL 18.3125 47.703125 \nL 18.3125 18.015625 \nQ 18.3125 11.328125 20.140625 9.421875 \nQ 21.96875 7.515625 27.59375 7.515625 \nL 36.8125 7.515625 \nL 36.8125 0 \nL 27.59375 0 \nQ 17.1875 0 13.234375 3.875 \nQ 9.28125 7.765625 9.28125 18.015625 \nL 9.28125 47.703125 \nL 2.6875 47.703125 \nL 2.6875 54.6875 \nL 9.28125 54.6875 \nL 9.28125 70.21875 \nz\n\" id=\"DejaVuSans-116\"/>\n        <path d=\"M 56.203125 29.59375 \nL 56.203125 25.203125 \nL 14.890625 25.203125 \nQ 15.484375 15.921875 20.484375 11.0625 \nQ 25.484375 6.203125 34.421875 6.203125 \nQ 39.59375 6.203125 44.453125 7.46875 \nQ 49.3125 8.734375 54.109375 11.28125 \nL 54.109375 2.78125 \nQ 49.265625 0.734375 44.1875 -0.34375 \nQ 39.109375 -1.421875 33.890625 -1.421875 \nQ 20.796875 -1.421875 13.15625 6.1875 \nQ 5.515625 13.8125 5.515625 26.8125 \nQ 5.515625 40.234375 12.765625 48.109375 \nQ 20.015625 56 32.328125 56 \nQ 43.359375 56 49.78125 48.890625 \nQ 56.203125 41.796875 56.203125 29.59375 \nz\nM 47.21875 32.234375 \nQ 47.125 39.59375 43.09375 43.984375 \nQ 39.0625 48.390625 32.421875 48.390625 \nQ 24.90625 48.390625 20.390625 44.140625 \nQ 15.875 39.890625 15.1875 32.171875 \nz\n\" id=\"DejaVuSans-101\"/>\n        <path d=\"M 11.71875 12.40625 \nL 22.015625 12.40625 \nL 22.015625 4 \nL 14.015625 -11.625 \nL 7.71875 -11.625 \nL 11.71875 4 \nz\n\" id=\"DejaVuSans-44\"/>\n        <path d=\"M 37.109375 75.984375 \nL 37.109375 68.5 \nL 28.515625 68.5 \nQ 23.6875 68.5 21.796875 66.546875 \nQ 19.921875 64.59375 19.921875 59.515625 \nL 19.921875 54.6875 \nL 34.71875 54.6875 \nL 34.71875 47.703125 \nL 19.921875 47.703125 \nL 19.921875 0 \nL 10.890625 0 \nL 10.890625 47.703125 \nL 2.296875 47.703125 \nL 2.296875 54.6875 \nL 10.890625 54.6875 \nL 10.890625 58.5 \nQ 10.890625 67.625 15.140625 71.796875 \nQ 19.390625 75.984375 28.609375 75.984375 \nz\n\" id=\"DejaVuSans-102\"/>\n        <path d=\"M 30.609375 48.390625 \nQ 23.390625 48.390625 19.1875 42.75 \nQ 14.984375 37.109375 14.984375 27.296875 \nQ 14.984375 17.484375 19.15625 11.84375 \nQ 23.34375 6.203125 30.609375 6.203125 \nQ 37.796875 6.203125 41.984375 11.859375 \nQ 46.1875 17.53125 46.1875 27.296875 \nQ 46.1875 37.015625 41.984375 42.703125 \nQ 37.796875 48.390625 30.609375 48.390625 \nz\nM 30.609375 56 \nQ 42.328125 56 49.015625 48.375 \nQ 55.71875 40.765625 55.71875 27.296875 \nQ 55.71875 13.875 49.015625 6.21875 \nQ 42.328125 -1.421875 30.609375 -1.421875 \nQ 18.84375 -1.421875 12.171875 6.21875 \nQ 5.515625 13.875 5.515625 27.296875 \nQ 5.515625 40.765625 12.171875 48.375 \nQ 18.84375 56 30.609375 56 \nz\n\" id=\"DejaVuSans-111\"/>\n        <path d=\"M 44.28125 53.078125 \nL 44.28125 44.578125 \nQ 40.484375 46.53125 36.375 47.5 \nQ 32.28125 48.484375 27.875 48.484375 \nQ 21.1875 48.484375 17.84375 46.4375 \nQ 14.5 44.390625 14.5 40.28125 \nQ 14.5 37.15625 16.890625 35.375 \nQ 19.28125 33.59375 26.515625 31.984375 \nL 29.59375 31.296875 \nQ 39.15625 29.25 43.1875 25.515625 \nQ 47.21875 21.78125 47.21875 15.09375 \nQ 47.21875 7.46875 41.1875 3.015625 \nQ 35.15625 -1.421875 24.609375 -1.421875 \nQ 20.21875 -1.421875 15.453125 -0.5625 \nQ 10.6875 0.296875 5.421875 2 \nL 5.421875 11.28125 \nQ 10.40625 8.6875 15.234375 7.390625 \nQ 20.0625 6.109375 24.8125 6.109375 \nQ 31.15625 6.109375 34.5625 8.28125 \nQ 37.984375 10.453125 37.984375 14.40625 \nQ 37.984375 18.0625 35.515625 20.015625 \nQ 33.0625 21.96875 24.703125 23.78125 \nL 21.578125 24.515625 \nQ 13.234375 26.265625 9.515625 29.90625 \nQ 5.8125 33.546875 5.8125 39.890625 \nQ 5.8125 47.609375 11.28125 51.796875 \nQ 16.75 56 26.8125 56 \nQ 31.78125 56 36.171875 55.265625 \nQ 40.578125 54.546875 44.28125 53.078125 \nz\n\" id=\"DejaVuSans-115\"/>\n        <path d=\"M 32.171875 -5.078125 \nQ 28.375 -14.84375 24.75 -17.8125 \nQ 21.140625 -20.796875 15.09375 -20.796875 \nL 7.90625 -20.796875 \nL 7.90625 -13.28125 \nL 13.1875 -13.28125 \nQ 16.890625 -13.28125 18.9375 -11.515625 \nQ 21 -9.765625 23.484375 -3.21875 \nL 25.09375 0.875 \nL 2.984375 54.6875 \nL 12.5 54.6875 \nL 29.59375 11.921875 \nL 46.6875 54.6875 \nL 56.203125 54.6875 \nz\n\" id=\"DejaVuSans-121\"/>\n        <path d=\"M 54.890625 33.015625 \nL 54.890625 0 \nL 45.90625 0 \nL 45.90625 32.71875 \nQ 45.90625 40.484375 42.875 44.328125 \nQ 39.84375 48.1875 33.796875 48.1875 \nQ 26.515625 48.1875 22.3125 43.546875 \nQ 18.109375 38.921875 18.109375 30.90625 \nL 18.109375 0 \nL 9.078125 0 \nL 9.078125 75.984375 \nL 18.109375 75.984375 \nL 18.109375 46.1875 \nQ 21.34375 51.125 25.703125 53.5625 \nQ 30.078125 56 35.796875 56 \nQ 45.21875 56 50.046875 50.171875 \nQ 54.890625 44.34375 54.890625 33.015625 \nz\n\" id=\"DejaVuSans-104\"/>\n        <path d=\"M 54.890625 33.015625 \nL 54.890625 0 \nL 45.90625 0 \nL 45.90625 32.71875 \nQ 45.90625 40.484375 42.875 44.328125 \nQ 39.84375 48.1875 33.796875 48.1875 \nQ 26.515625 48.1875 22.3125 43.546875 \nQ 18.109375 38.921875 18.109375 30.90625 \nL 18.109375 0 \nL 9.078125 0 \nL 9.078125 54.6875 \nL 18.109375 54.6875 \nL 18.109375 46.1875 \nQ 21.34375 51.125 25.703125 53.5625 \nQ 30.078125 56 35.796875 56 \nQ 45.21875 56 50.046875 50.171875 \nQ 54.890625 44.34375 54.890625 33.015625 \nz\n\" id=\"DejaVuSans-110\"/>\n        <path d=\"M 34.28125 27.484375 \nQ 23.390625 27.484375 19.1875 25 \nQ 14.984375 22.515625 14.984375 16.5 \nQ 14.984375 11.71875 18.140625 8.90625 \nQ 21.296875 6.109375 26.703125 6.109375 \nQ 34.1875 6.109375 38.703125 11.40625 \nQ 43.21875 16.703125 43.21875 25.484375 \nL 43.21875 27.484375 \nz\nM 52.203125 31.203125 \nL 52.203125 0 \nL 43.21875 0 \nL 43.21875 8.296875 \nQ 40.140625 3.328125 35.546875 0.953125 \nQ 30.953125 -1.421875 24.3125 -1.421875 \nQ 15.921875 -1.421875 10.953125 3.296875 \nQ 6 8.015625 6 15.921875 \nQ 6 25.140625 12.171875 29.828125 \nQ 18.359375 34.515625 30.609375 34.515625 \nL 43.21875 34.515625 \nL 43.21875 35.40625 \nQ 43.21875 41.609375 39.140625 45 \nQ 35.0625 48.390625 27.6875 48.390625 \nQ 23 48.390625 18.546875 47.265625 \nQ 14.109375 46.140625 10.015625 43.890625 \nL 10.015625 52.203125 \nQ 14.9375 54.109375 19.578125 55.046875 \nQ 24.21875 56 28.609375 56 \nQ 40.484375 56 46.34375 49.84375 \nQ 52.203125 43.703125 52.203125 31.203125 \nz\n\" id=\"DejaVuSans-97\"/>\n        <path d=\"M 45.40625 46.390625 \nL 45.40625 75.984375 \nL 54.390625 75.984375 \nL 54.390625 0 \nL 45.40625 0 \nL 45.40625 8.203125 \nQ 42.578125 3.328125 38.25 0.953125 \nQ 33.9375 -1.421875 27.875 -1.421875 \nQ 17.96875 -1.421875 11.734375 6.484375 \nQ 5.515625 14.40625 5.515625 27.296875 \nQ 5.515625 40.1875 11.734375 48.09375 \nQ 17.96875 56 27.875 56 \nQ 33.9375 56 38.25 53.625 \nQ 42.578125 51.265625 45.40625 46.390625 \nz\nM 14.796875 27.296875 \nQ 14.796875 17.390625 18.875 11.75 \nQ 22.953125 6.109375 30.078125 6.109375 \nQ 37.203125 6.109375 41.296875 11.75 \nQ 45.40625 17.390625 45.40625 27.296875 \nQ 45.40625 37.203125 41.296875 42.84375 \nQ 37.203125 48.484375 30.078125 48.484375 \nQ 22.953125 48.484375 18.875 42.84375 \nQ 14.796875 37.203125 14.796875 27.296875 \nz\n\" id=\"DejaVuSans-100\"/>\n       </defs>\n       <use xlink:href=\"#DejaVuSans-32\"/>\n       <use x=\"31.787109\" xlink:href=\"#DejaVuSans-32\"/>\n       <use x=\"63.574219\" xlink:href=\"#DejaVuSans-32\"/>\n       <use x=\"95.361328\" xlink:href=\"#DejaVuSans-32\"/>\n       <use x=\"127.148438\" xlink:href=\"#DejaVuSans-65\"/>\n       <use x=\"195.556641\" xlink:href=\"#DejaVuSans-103\"/>\n       <use x=\"259.033203\" xlink:href=\"#DejaVuSans-114\"/>\n       <use x=\"300.146484\" xlink:href=\"#DejaVuSans-105\"/>\n       <use x=\"327.929688\" xlink:href=\"#DejaVuSans-99\"/>\n       <use x=\"382.910156\" xlink:href=\"#DejaVuSans-117\"/>\n       <use x=\"446.289062\" xlink:href=\"#DejaVuSans-108\"/>\n       <use x=\"474.072266\" xlink:href=\"#DejaVuSans-116\"/>\n       <use x=\"513.28125\" xlink:href=\"#DejaVuSans-117\"/>\n       <use x=\"576.660156\" xlink:href=\"#DejaVuSans-114\"/>\n       <use x=\"615.523438\" xlink:href=\"#DejaVuSans-101\"/>\n       <use x=\"677.046875\" xlink:href=\"#DejaVuSans-44\"/>\n       <use x=\"708.833984\" xlink:href=\"#DejaVuSans-32\"/>\n       <use x=\"740.621094\" xlink:href=\"#DejaVuSans-102\"/>\n       <use x=\"775.826172\" xlink:href=\"#DejaVuSans-111\"/>\n       <use x=\"837.007812\" xlink:href=\"#DejaVuSans-114\"/>\n       <use x=\"875.871094\" xlink:href=\"#DejaVuSans-101\"/>\n       <use x=\"937.394531\" xlink:href=\"#DejaVuSans-115\"/>\n       <use x=\"989.494141\" xlink:href=\"#DejaVuSans-116\"/>\n       <use x=\"1028.703125\" xlink:href=\"#DejaVuSans-114\"/>\n       <use x=\"1069.816406\" xlink:href=\"#DejaVuSans-121\"/>\n       <use x=\"1128.996094\" xlink:href=\"#DejaVuSans-44\"/>\n       <use x=\"1160.783203\" xlink:href=\"#DejaVuSans-32\"/>\n       <use x=\"1192.570312\" xlink:href=\"#DejaVuSans-102\"/>\n       <use x=\"1227.775391\" xlink:href=\"#DejaVuSans-105\"/>\n       <use x=\"1255.558594\" xlink:href=\"#DejaVuSans-115\"/>\n       <use x=\"1307.658203\" xlink:href=\"#DejaVuSans-104\"/>\n       <use x=\"1371.037109\" xlink:href=\"#DejaVuSans-105\"/>\n       <use x=\"1398.820312\" xlink:href=\"#DejaVuSans-110\"/>\n       <use x=\"1462.199219\" xlink:href=\"#DejaVuSans-103\"/>\n       <use x=\"1525.675781\" xlink:href=\"#DejaVuSans-32\"/>\n       <use x=\"1557.462891\" xlink:href=\"#DejaVuSans-97\"/>\n       <use x=\"1618.742188\" xlink:href=\"#DejaVuSans-110\"/>\n       <use x=\"1682.121094\" xlink:href=\"#DejaVuSans-100\"/>\n       <use x=\"1745.597656\" xlink:href=\"#DejaVuSans-32\"/>\n       <use x=\"1777.384766\" xlink:href=\"#DejaVuSans-104\"/>\n       <use x=\"1840.763672\" xlink:href=\"#DejaVuSans-117\"/>\n       <use x=\"1904.142578\" xlink:href=\"#DejaVuSans-110\"/>\n       <use x=\"1967.521484\" xlink:href=\"#DejaVuSans-116\"/>\n       <use x=\"2006.730469\" xlink:href=\"#DejaVuSans-105\"/>\n       <use x=\"2034.513672\" xlink:href=\"#DejaVuSans-110\"/>\n       <use x=\"2097.892578\" xlink:href=\"#DejaVuSans-103\"/>\n      </g>\n     </g>\n    </g>\n    <g id=\"xtick_2\">\n     <g id=\"line2d_2\">\n      <g>\n       <use style=\"stroke:#000000;stroke-width:0.8;\" x=\"106.096983\" xlink:href=\"#mafcee03cdb\" y=\"438.12\"/>\n      </g>\n     </g>\n     <g id=\"text_2\">\n      <!--     Mining, quarrying, and oil and gas extraction -->\n      <g transform=\"translate(108.856358 682.4075)rotate(-90)scale(0.1 -0.1)\">\n       <defs>\n        <path d=\"M 9.8125 72.90625 \nL 24.515625 72.90625 \nL 43.109375 23.296875 \nL 61.8125 72.90625 \nL 76.515625 72.90625 \nL 76.515625 0 \nL 66.890625 0 \nL 66.890625 64.015625 \nL 48.09375 14.015625 \nL 38.1875 14.015625 \nL 19.390625 64.015625 \nL 19.390625 0 \nL 9.8125 0 \nz\n\" id=\"DejaVuSans-77\"/>\n        <path d=\"M 14.796875 27.296875 \nQ 14.796875 17.390625 18.875 11.75 \nQ 22.953125 6.109375 30.078125 6.109375 \nQ 37.203125 6.109375 41.296875 11.75 \nQ 45.40625 17.390625 45.40625 27.296875 \nQ 45.40625 37.203125 41.296875 42.84375 \nQ 37.203125 48.484375 30.078125 48.484375 \nQ 22.953125 48.484375 18.875 42.84375 \nQ 14.796875 37.203125 14.796875 27.296875 \nz\nM 45.40625 8.203125 \nQ 42.578125 3.328125 38.25 0.953125 \nQ 33.9375 -1.421875 27.875 -1.421875 \nQ 17.96875 -1.421875 11.734375 6.484375 \nQ 5.515625 14.40625 5.515625 27.296875 \nQ 5.515625 40.1875 11.734375 48.09375 \nQ 17.96875 56 27.875 56 \nQ 33.9375 56 38.25 53.625 \nQ 42.578125 51.265625 45.40625 46.390625 \nL 45.40625 54.6875 \nL 54.390625 54.6875 \nL 54.390625 -20.796875 \nL 45.40625 -20.796875 \nz\n\" id=\"DejaVuSans-113\"/>\n        <path d=\"M 54.890625 54.6875 \nL 35.109375 28.078125 \nL 55.90625 0 \nL 45.3125 0 \nL 29.390625 21.484375 \nL 13.484375 0 \nL 2.875 0 \nL 24.125 28.609375 \nL 4.6875 54.6875 \nL 15.28125 54.6875 \nL 29.78125 35.203125 \nL 44.28125 54.6875 \nz\n\" id=\"DejaVuSans-120\"/>\n       </defs>\n       <use xlink:href=\"#DejaVuSans-32\"/>\n       <use x=\"31.787109\" xlink:href=\"#DejaVuSans-32\"/>\n       <use x=\"63.574219\" xlink:href=\"#DejaVuSans-32\"/>\n       <use x=\"95.361328\" xlink:href=\"#DejaVuSans-32\"/>\n       <use x=\"127.148438\" xlink:href=\"#DejaVuSans-77\"/>\n       <use x=\"213.427734\" xlink:href=\"#DejaVuSans-105\"/>\n       <use x=\"241.210938\" xlink:href=\"#DejaVuSans-110\"/>\n       <use x=\"304.589844\" xlink:href=\"#DejaVuSans-105\"/>\n       <use x=\"332.373047\" xlink:href=\"#DejaVuSans-110\"/>\n       <use x=\"395.751953\" xlink:href=\"#DejaVuSans-103\"/>\n       <use x=\"459.228516\" xlink:href=\"#DejaVuSans-44\"/>\n       <use x=\"491.015625\" xlink:href=\"#DejaVuSans-32\"/>\n       <use x=\"522.802734\" xlink:href=\"#DejaVuSans-113\"/>\n       <use x=\"586.279297\" xlink:href=\"#DejaVuSans-117\"/>\n       <use x=\"649.658203\" xlink:href=\"#DejaVuSans-97\"/>\n       <use x=\"710.9375\" xlink:href=\"#DejaVuSans-114\"/>\n       <use x=\"750.300781\" xlink:href=\"#DejaVuSans-114\"/>\n       <use x=\"791.414062\" xlink:href=\"#DejaVuSans-121\"/>\n       <use x=\"850.59375\" xlink:href=\"#DejaVuSans-105\"/>\n       <use x=\"878.376953\" xlink:href=\"#DejaVuSans-110\"/>\n       <use x=\"941.755859\" xlink:href=\"#DejaVuSans-103\"/>\n       <use x=\"1005.232422\" xlink:href=\"#DejaVuSans-44\"/>\n       <use x=\"1037.019531\" xlink:href=\"#DejaVuSans-32\"/>\n       <use x=\"1068.806641\" xlink:href=\"#DejaVuSans-97\"/>\n       <use x=\"1130.085938\" xlink:href=\"#DejaVuSans-110\"/>\n       <use x=\"1193.464844\" xlink:href=\"#DejaVuSans-100\"/>\n       <use x=\"1256.941406\" xlink:href=\"#DejaVuSans-32\"/>\n       <use x=\"1288.728516\" xlink:href=\"#DejaVuSans-111\"/>\n       <use x=\"1349.910156\" xlink:href=\"#DejaVuSans-105\"/>\n       <use x=\"1377.693359\" xlink:href=\"#DejaVuSans-108\"/>\n       <use x=\"1405.476562\" xlink:href=\"#DejaVuSans-32\"/>\n       <use x=\"1437.263672\" xlink:href=\"#DejaVuSans-97\"/>\n       <use x=\"1498.542969\" xlink:href=\"#DejaVuSans-110\"/>\n       <use x=\"1561.921875\" xlink:href=\"#DejaVuSans-100\"/>\n       <use x=\"1625.398438\" xlink:href=\"#DejaVuSans-32\"/>\n       <use x=\"1657.185547\" xlink:href=\"#DejaVuSans-103\"/>\n       <use x=\"1720.662109\" xlink:href=\"#DejaVuSans-97\"/>\n       <use x=\"1781.941406\" xlink:href=\"#DejaVuSans-115\"/>\n       <use x=\"1834.041016\" xlink:href=\"#DejaVuSans-32\"/>\n       <use x=\"1865.828125\" xlink:href=\"#DejaVuSans-101\"/>\n       <use x=\"1925.601562\" xlink:href=\"#DejaVuSans-120\"/>\n       <use x=\"1984.78125\" xlink:href=\"#DejaVuSans-116\"/>\n       <use x=\"2023.990234\" xlink:href=\"#DejaVuSans-114\"/>\n       <use x=\"2065.103516\" xlink:href=\"#DejaVuSans-97\"/>\n       <use x=\"2126.382812\" xlink:href=\"#DejaVuSans-99\"/>\n       <use x=\"2181.363281\" xlink:href=\"#DejaVuSans-116\"/>\n       <use x=\"2220.572266\" xlink:href=\"#DejaVuSans-105\"/>\n       <use x=\"2248.355469\" xlink:href=\"#DejaVuSans-111\"/>\n       <use x=\"2309.537109\" xlink:href=\"#DejaVuSans-110\"/>\n      </g>\n     </g>\n    </g>\n    <g id=\"xtick_3\">\n     <g id=\"line2d_3\">\n      <g>\n       <use style=\"stroke:#000000;stroke-width:0.8;\" x=\"129.186638\" xlink:href=\"#mafcee03cdb\" y=\"438.12\"/>\n      </g>\n     </g>\n     <g id=\"text_3\">\n      <!--     Utilities -->\n      <g transform=\"translate(131.946013 495.466875)rotate(-90)scale(0.1 -0.1)\">\n       <defs>\n        <path d=\"M 8.6875 72.90625 \nL 18.609375 72.90625 \nL 18.609375 28.609375 \nQ 18.609375 16.890625 22.84375 11.734375 \nQ 27.09375 6.59375 36.625 6.59375 \nQ 46.09375 6.59375 50.34375 11.734375 \nQ 54.59375 16.890625 54.59375 28.609375 \nL 54.59375 72.90625 \nL 64.5 72.90625 \nL 64.5 27.390625 \nQ 64.5 13.140625 57.4375 5.859375 \nQ 50.390625 -1.421875 36.625 -1.421875 \nQ 22.796875 -1.421875 15.734375 5.859375 \nQ 8.6875 13.140625 8.6875 27.390625 \nz\n\" id=\"DejaVuSans-85\"/>\n       </defs>\n       <use xlink:href=\"#DejaVuSans-32\"/>\n       <use x=\"31.787109\" xlink:href=\"#DejaVuSans-32\"/>\n       <use x=\"63.574219\" xlink:href=\"#DejaVuSans-32\"/>\n       <use x=\"95.361328\" xlink:href=\"#DejaVuSans-32\"/>\n       <use x=\"127.148438\" xlink:href=\"#DejaVuSans-85\"/>\n       <use x=\"200.341797\" xlink:href=\"#DejaVuSans-116\"/>\n       <use x=\"239.550781\" xlink:href=\"#DejaVuSans-105\"/>\n       <use x=\"267.333984\" xlink:href=\"#DejaVuSans-108\"/>\n       <use x=\"295.117188\" xlink:href=\"#DejaVuSans-105\"/>\n       <use x=\"322.900391\" xlink:href=\"#DejaVuSans-116\"/>\n       <use x=\"362.109375\" xlink:href=\"#DejaVuSans-105\"/>\n       <use x=\"389.892578\" xlink:href=\"#DejaVuSans-101\"/>\n       <use x=\"451.416016\" xlink:href=\"#DejaVuSans-115\"/>\n      </g>\n     </g>\n    </g>\n    <g id=\"xtick_4\">\n     <g id=\"line2d_4\">\n      <g>\n       <use style=\"stroke:#000000;stroke-width:0.8;\" x=\"152.276293\" xlink:href=\"#mafcee03cdb\" y=\"438.12\"/>\n      </g>\n     </g>\n     <g id=\"text_4\">\n      <!--     Construction -->\n      <g transform=\"translate(155.035668 521.502812)rotate(-90)scale(0.1 -0.1)\">\n       <defs>\n        <path d=\"M 64.40625 67.28125 \nL 64.40625 56.890625 \nQ 59.421875 61.53125 53.78125 63.8125 \nQ 48.140625 66.109375 41.796875 66.109375 \nQ 29.296875 66.109375 22.65625 58.46875 \nQ 16.015625 50.828125 16.015625 36.375 \nQ 16.015625 21.96875 22.65625 14.328125 \nQ 29.296875 6.6875 41.796875 6.6875 \nQ 48.140625 6.6875 53.78125 8.984375 \nQ 59.421875 11.28125 64.40625 15.921875 \nL 64.40625 5.609375 \nQ 59.234375 2.09375 53.4375 0.328125 \nQ 47.65625 -1.421875 41.21875 -1.421875 \nQ 24.65625 -1.421875 15.125 8.703125 \nQ 5.609375 18.84375 5.609375 36.375 \nQ 5.609375 53.953125 15.125 64.078125 \nQ 24.65625 74.21875 41.21875 74.21875 \nQ 47.75 74.21875 53.53125 72.484375 \nQ 59.328125 70.75 64.40625 67.28125 \nz\n\" id=\"DejaVuSans-67\"/>\n       </defs>\n       <use xlink:href=\"#DejaVuSans-32\"/>\n       <use x=\"31.787109\" xlink:href=\"#DejaVuSans-32\"/>\n       <use x=\"63.574219\" xlink:href=\"#DejaVuSans-32\"/>\n       <use x=\"95.361328\" xlink:href=\"#DejaVuSans-32\"/>\n       <use x=\"127.148438\" xlink:href=\"#DejaVuSans-67\"/>\n       <use x=\"196.972656\" xlink:href=\"#DejaVuSans-111\"/>\n       <use x=\"258.154297\" xlink:href=\"#DejaVuSans-110\"/>\n       <use x=\"321.533203\" xlink:href=\"#DejaVuSans-115\"/>\n       <use x=\"373.632812\" xlink:href=\"#DejaVuSans-116\"/>\n       <use x=\"412.841797\" xlink:href=\"#DejaVuSans-114\"/>\n       <use x=\"453.955078\" xlink:href=\"#DejaVuSans-117\"/>\n       <use x=\"517.333984\" xlink:href=\"#DejaVuSans-99\"/>\n       <use x=\"572.314453\" xlink:href=\"#DejaVuSans-116\"/>\n       <use x=\"611.523438\" xlink:href=\"#DejaVuSans-105\"/>\n       <use x=\"639.306641\" xlink:href=\"#DejaVuSans-111\"/>\n       <use x=\"700.488281\" xlink:href=\"#DejaVuSans-110\"/>\n      </g>\n     </g>\n    </g>\n    <g id=\"xtick_5\">\n     <g id=\"line2d_5\">\n      <g>\n       <use style=\"stroke:#000000;stroke-width:0.8;\" x=\"175.365948\" xlink:href=\"#mafcee03cdb\" y=\"438.12\"/>\n      </g>\n     </g>\n     <g id=\"text_5\">\n      <!--     Manufacturing -->\n      <g transform=\"translate(178.125323 530.243437)rotate(-90)scale(0.1 -0.1)\">\n       <use xlink:href=\"#DejaVuSans-32\"/>\n       <use x=\"31.787109\" xlink:href=\"#DejaVuSans-32\"/>\n       <use x=\"63.574219\" xlink:href=\"#DejaVuSans-32\"/>\n       <use x=\"95.361328\" xlink:href=\"#DejaVuSans-32\"/>\n       <use x=\"127.148438\" xlink:href=\"#DejaVuSans-77\"/>\n       <use x=\"213.427734\" xlink:href=\"#DejaVuSans-97\"/>\n       <use x=\"274.707031\" xlink:href=\"#DejaVuSans-110\"/>\n       <use x=\"338.085938\" xlink:href=\"#DejaVuSans-117\"/>\n       <use x=\"401.464844\" xlink:href=\"#DejaVuSans-102\"/>\n       <use x=\"436.669922\" xlink:href=\"#DejaVuSans-97\"/>\n       <use x=\"497.949219\" xlink:href=\"#DejaVuSans-99\"/>\n       <use x=\"552.929688\" xlink:href=\"#DejaVuSans-116\"/>\n       <use x=\"592.138672\" xlink:href=\"#DejaVuSans-117\"/>\n       <use x=\"655.517578\" xlink:href=\"#DejaVuSans-114\"/>\n       <use x=\"696.630859\" xlink:href=\"#DejaVuSans-105\"/>\n       <use x=\"724.414062\" xlink:href=\"#DejaVuSans-110\"/>\n       <use x=\"787.792969\" xlink:href=\"#DejaVuSans-103\"/>\n      </g>\n     </g>\n    </g>\n    <g id=\"xtick_6\">\n     <g id=\"line2d_6\">\n      <g>\n       <use style=\"stroke:#000000;stroke-width:0.8;\" x=\"198.455603\" xlink:href=\"#mafcee03cdb\" y=\"438.12\"/>\n      </g>\n     </g>\n     <g id=\"text_6\">\n      <!--       Durable goods manufacturing -->\n      <g transform=\"translate(201.214978 613.768437)rotate(-90)scale(0.1 -0.1)\">\n       <defs>\n        <path d=\"M 19.671875 64.796875 \nL 19.671875 8.109375 \nL 31.59375 8.109375 \nQ 46.6875 8.109375 53.6875 14.9375 \nQ 60.6875 21.78125 60.6875 36.53125 \nQ 60.6875 51.171875 53.6875 57.984375 \nQ 46.6875 64.796875 31.59375 64.796875 \nz\nM 9.8125 72.90625 \nL 30.078125 72.90625 \nQ 51.265625 72.90625 61.171875 64.09375 \nQ 71.09375 55.28125 71.09375 36.53125 \nQ 71.09375 17.671875 61.125 8.828125 \nQ 51.171875 0 30.078125 0 \nL 9.8125 0 \nz\n\" id=\"DejaVuSans-68\"/>\n        <path d=\"M 48.6875 27.296875 \nQ 48.6875 37.203125 44.609375 42.84375 \nQ 40.53125 48.484375 33.40625 48.484375 \nQ 26.265625 48.484375 22.1875 42.84375 \nQ 18.109375 37.203125 18.109375 27.296875 \nQ 18.109375 17.390625 22.1875 11.75 \nQ 26.265625 6.109375 33.40625 6.109375 \nQ 40.53125 6.109375 44.609375 11.75 \nQ 48.6875 17.390625 48.6875 27.296875 \nz\nM 18.109375 46.390625 \nQ 20.953125 51.265625 25.265625 53.625 \nQ 29.59375 56 35.59375 56 \nQ 45.5625 56 51.78125 48.09375 \nQ 58.015625 40.1875 58.015625 27.296875 \nQ 58.015625 14.40625 51.78125 6.484375 \nQ 45.5625 -1.421875 35.59375 -1.421875 \nQ 29.59375 -1.421875 25.265625 0.953125 \nQ 20.953125 3.328125 18.109375 8.203125 \nL 18.109375 0 \nL 9.078125 0 \nL 9.078125 75.984375 \nL 18.109375 75.984375 \nz\n\" id=\"DejaVuSans-98\"/>\n        <path d=\"M 52 44.1875 \nQ 55.375 50.25 60.0625 53.125 \nQ 64.75 56 71.09375 56 \nQ 79.640625 56 84.28125 50.015625 \nQ 88.921875 44.046875 88.921875 33.015625 \nL 88.921875 0 \nL 79.890625 0 \nL 79.890625 32.71875 \nQ 79.890625 40.578125 77.09375 44.375 \nQ 74.3125 48.1875 68.609375 48.1875 \nQ 61.625 48.1875 57.5625 43.546875 \nQ 53.515625 38.921875 53.515625 30.90625 \nL 53.515625 0 \nL 44.484375 0 \nL 44.484375 32.71875 \nQ 44.484375 40.625 41.703125 44.40625 \nQ 38.921875 48.1875 33.109375 48.1875 \nQ 26.21875 48.1875 22.15625 43.53125 \nQ 18.109375 38.875 18.109375 30.90625 \nL 18.109375 0 \nL 9.078125 0 \nL 9.078125 54.6875 \nL 18.109375 54.6875 \nL 18.109375 46.1875 \nQ 21.1875 51.21875 25.484375 53.609375 \nQ 29.78125 56 35.6875 56 \nQ 41.65625 56 45.828125 52.96875 \nQ 50 49.953125 52 44.1875 \nz\n\" id=\"DejaVuSans-109\"/>\n       </defs>\n       <use xlink:href=\"#DejaVuSans-32\"/>\n       <use x=\"31.787109\" xlink:href=\"#DejaVuSans-32\"/>\n       <use x=\"63.574219\" xlink:href=\"#DejaVuSans-32\"/>\n       <use x=\"95.361328\" xlink:href=\"#DejaVuSans-32\"/>\n       <use x=\"127.148438\" xlink:href=\"#DejaVuSans-32\"/>\n       <use x=\"158.935547\" xlink:href=\"#DejaVuSans-32\"/>\n       <use x=\"190.722656\" xlink:href=\"#DejaVuSans-68\"/>\n       <use x=\"267.724609\" xlink:href=\"#DejaVuSans-117\"/>\n       <use x=\"331.103516\" xlink:href=\"#DejaVuSans-114\"/>\n       <use x=\"372.216797\" xlink:href=\"#DejaVuSans-97\"/>\n       <use x=\"433.496094\" xlink:href=\"#DejaVuSans-98\"/>\n       <use x=\"496.972656\" xlink:href=\"#DejaVuSans-108\"/>\n       <use x=\"524.755859\" xlink:href=\"#DejaVuSans-101\"/>\n       <use x=\"586.279297\" xlink:href=\"#DejaVuSans-32\"/>\n       <use x=\"618.066406\" xlink:href=\"#DejaVuSans-103\"/>\n       <use x=\"681.542969\" xlink:href=\"#DejaVuSans-111\"/>\n       <use x=\"742.724609\" xlink:href=\"#DejaVuSans-111\"/>\n       <use x=\"803.90625\" xlink:href=\"#DejaVuSans-100\"/>\n       <use x=\"867.382812\" xlink:href=\"#DejaVuSans-115\"/>\n       <use x=\"919.482422\" xlink:href=\"#DejaVuSans-32\"/>\n       <use x=\"951.269531\" xlink:href=\"#DejaVuSans-109\"/>\n       <use x=\"1048.681641\" xlink:href=\"#DejaVuSans-97\"/>\n       <use x=\"1109.960938\" xlink:href=\"#DejaVuSans-110\"/>\n       <use x=\"1173.339844\" xlink:href=\"#DejaVuSans-117\"/>\n       <use x=\"1236.71875\" xlink:href=\"#DejaVuSans-102\"/>\n       <use x=\"1271.923828\" xlink:href=\"#DejaVuSans-97\"/>\n       <use x=\"1333.203125\" xlink:href=\"#DejaVuSans-99\"/>\n       <use x=\"1388.183594\" xlink:href=\"#DejaVuSans-116\"/>\n       <use x=\"1427.392578\" xlink:href=\"#DejaVuSans-117\"/>\n       <use x=\"1490.771484\" xlink:href=\"#DejaVuSans-114\"/>\n       <use x=\"1531.884766\" xlink:href=\"#DejaVuSans-105\"/>\n       <use x=\"1559.667969\" xlink:href=\"#DejaVuSans-110\"/>\n       <use x=\"1623.046875\" xlink:href=\"#DejaVuSans-103\"/>\n      </g>\n     </g>\n    </g>\n    <g id=\"xtick_7\">\n     <g id=\"line2d_7\">\n      <g>\n       <use style=\"stroke:#000000;stroke-width:0.8;\" x=\"221.545259\" xlink:href=\"#mafcee03cdb\" y=\"438.12\"/>\n      </g>\n     </g>\n     <g id=\"text_7\">\n      <!--       Nondurable goods manufacturing -->\n      <g transform=\"translate(224.304634 632.354375)rotate(-90)scale(0.1 -0.1)\">\n       <defs>\n        <path d=\"M 9.8125 72.90625 \nL 23.09375 72.90625 \nL 55.421875 11.921875 \nL 55.421875 72.90625 \nL 64.984375 72.90625 \nL 64.984375 0 \nL 51.703125 0 \nL 19.390625 60.984375 \nL 19.390625 0 \nL 9.8125 0 \nz\n\" id=\"DejaVuSans-78\"/>\n       </defs>\n       <use xlink:href=\"#DejaVuSans-32\"/>\n       <use x=\"31.787109\" xlink:href=\"#DejaVuSans-32\"/>\n       <use x=\"63.574219\" xlink:href=\"#DejaVuSans-32\"/>\n       <use x=\"95.361328\" xlink:href=\"#DejaVuSans-32\"/>\n       <use x=\"127.148438\" xlink:href=\"#DejaVuSans-32\"/>\n       <use x=\"158.935547\" xlink:href=\"#DejaVuSans-32\"/>\n       <use x=\"190.722656\" xlink:href=\"#DejaVuSans-78\"/>\n       <use x=\"265.527344\" xlink:href=\"#DejaVuSans-111\"/>\n       <use x=\"326.708984\" xlink:href=\"#DejaVuSans-110\"/>\n       <use x=\"390.087891\" xlink:href=\"#DejaVuSans-100\"/>\n       <use x=\"453.564453\" xlink:href=\"#DejaVuSans-117\"/>\n       <use x=\"516.943359\" xlink:href=\"#DejaVuSans-114\"/>\n       <use x=\"558.056641\" xlink:href=\"#DejaVuSans-97\"/>\n       <use x=\"619.335938\" xlink:href=\"#DejaVuSans-98\"/>\n       <use x=\"682.8125\" xlink:href=\"#DejaVuSans-108\"/>\n       <use x=\"710.595703\" xlink:href=\"#DejaVuSans-101\"/>\n       <use x=\"772.119141\" xlink:href=\"#DejaVuSans-32\"/>\n       <use x=\"803.90625\" xlink:href=\"#DejaVuSans-103\"/>\n       <use x=\"867.382812\" xlink:href=\"#DejaVuSans-111\"/>\n       <use x=\"928.564453\" xlink:href=\"#DejaVuSans-111\"/>\n       <use x=\"989.746094\" xlink:href=\"#DejaVuSans-100\"/>\n       <use x=\"1053.222656\" xlink:href=\"#DejaVuSans-115\"/>\n       <use x=\"1105.322266\" xlink:href=\"#DejaVuSans-32\"/>\n       <use x=\"1137.109375\" xlink:href=\"#DejaVuSans-109\"/>\n       <use x=\"1234.521484\" xlink:href=\"#DejaVuSans-97\"/>\n       <use x=\"1295.800781\" xlink:href=\"#DejaVuSans-110\"/>\n       <use x=\"1359.179688\" xlink:href=\"#DejaVuSans-117\"/>\n       <use x=\"1422.558594\" xlink:href=\"#DejaVuSans-102\"/>\n       <use x=\"1457.763672\" xlink:href=\"#DejaVuSans-97\"/>\n       <use x=\"1519.042969\" xlink:href=\"#DejaVuSans-99\"/>\n       <use x=\"1574.023438\" xlink:href=\"#DejaVuSans-116\"/>\n       <use x=\"1613.232422\" xlink:href=\"#DejaVuSans-117\"/>\n       <use x=\"1676.611328\" xlink:href=\"#DejaVuSans-114\"/>\n       <use x=\"1717.724609\" xlink:href=\"#DejaVuSans-105\"/>\n       <use x=\"1745.507812\" xlink:href=\"#DejaVuSans-110\"/>\n       <use x=\"1808.886719\" xlink:href=\"#DejaVuSans-103\"/>\n      </g>\n     </g>\n    </g>\n    <g id=\"xtick_8\">\n     <g id=\"line2d_8\">\n      <g>\n       <use style=\"stroke:#000000;stroke-width:0.8;\" x=\"244.634914\" xlink:href=\"#mafcee03cdb\" y=\"438.12\"/>\n      </g>\n     </g>\n     <g id=\"text_8\">\n      <!--     Wholesale trade -->\n      <g transform=\"translate(247.394289 539.215312)rotate(-90)scale(0.1 -0.1)\">\n       <defs>\n        <path d=\"M 3.328125 72.90625 \nL 13.28125 72.90625 \nL 28.609375 11.28125 \nL 43.890625 72.90625 \nL 54.984375 72.90625 \nL 70.3125 11.28125 \nL 85.59375 72.90625 \nL 95.609375 72.90625 \nL 77.296875 0 \nL 64.890625 0 \nL 49.515625 63.28125 \nL 33.984375 0 \nL 21.578125 0 \nz\n\" id=\"DejaVuSans-87\"/>\n       </defs>\n       <use xlink:href=\"#DejaVuSans-32\"/>\n       <use x=\"31.787109\" xlink:href=\"#DejaVuSans-32\"/>\n       <use x=\"63.574219\" xlink:href=\"#DejaVuSans-32\"/>\n       <use x=\"95.361328\" xlink:href=\"#DejaVuSans-32\"/>\n       <use x=\"127.148438\" xlink:href=\"#DejaVuSans-87\"/>\n       <use x=\"226.025391\" xlink:href=\"#DejaVuSans-104\"/>\n       <use x=\"289.404297\" xlink:href=\"#DejaVuSans-111\"/>\n       <use x=\"350.585938\" xlink:href=\"#DejaVuSans-108\"/>\n       <use x=\"378.369141\" xlink:href=\"#DejaVuSans-101\"/>\n       <use x=\"439.892578\" xlink:href=\"#DejaVuSans-115\"/>\n       <use x=\"491.992188\" xlink:href=\"#DejaVuSans-97\"/>\n       <use x=\"553.271484\" xlink:href=\"#DejaVuSans-108\"/>\n       <use x=\"581.054688\" xlink:href=\"#DejaVuSans-101\"/>\n       <use x=\"642.578125\" xlink:href=\"#DejaVuSans-32\"/>\n       <use x=\"674.365234\" xlink:href=\"#DejaVuSans-116\"/>\n       <use x=\"713.574219\" xlink:href=\"#DejaVuSans-114\"/>\n       <use x=\"754.6875\" xlink:href=\"#DejaVuSans-97\"/>\n       <use x=\"815.966797\" xlink:href=\"#DejaVuSans-100\"/>\n       <use x=\"879.443359\" xlink:href=\"#DejaVuSans-101\"/>\n      </g>\n     </g>\n    </g>\n    <g id=\"xtick_9\">\n     <g id=\"line2d_9\">\n      <g>\n       <use style=\"stroke:#000000;stroke-width:0.8;\" x=\"267.724569\" xlink:href=\"#mafcee03cdb\" y=\"438.12\"/>\n      </g>\n     </g>\n     <g id=\"text_9\">\n      <!--     Retail trade -->\n      <g transform=\"translate(270.483944 515.927812)rotate(-90)scale(0.1 -0.1)\">\n       <defs>\n        <path d=\"M 44.390625 34.1875 \nQ 47.5625 33.109375 50.5625 29.59375 \nQ 53.5625 26.078125 56.59375 19.921875 \nL 66.609375 0 \nL 56 0 \nL 46.6875 18.703125 \nQ 43.0625 26.03125 39.671875 28.421875 \nQ 36.28125 30.8125 30.421875 30.8125 \nL 19.671875 30.8125 \nL 19.671875 0 \nL 9.8125 0 \nL 9.8125 72.90625 \nL 32.078125 72.90625 \nQ 44.578125 72.90625 50.734375 67.671875 \nQ 56.890625 62.453125 56.890625 51.90625 \nQ 56.890625 45.015625 53.6875 40.46875 \nQ 50.484375 35.9375 44.390625 34.1875 \nz\nM 19.671875 64.796875 \nL 19.671875 38.921875 \nL 32.078125 38.921875 \nQ 39.203125 38.921875 42.84375 42.21875 \nQ 46.484375 45.515625 46.484375 51.90625 \nQ 46.484375 58.296875 42.84375 61.546875 \nQ 39.203125 64.796875 32.078125 64.796875 \nz\n\" id=\"DejaVuSans-82\"/>\n       </defs>\n       <use xlink:href=\"#DejaVuSans-32\"/>\n       <use x=\"31.787109\" xlink:href=\"#DejaVuSans-32\"/>\n       <use x=\"63.574219\" xlink:href=\"#DejaVuSans-32\"/>\n       <use x=\"95.361328\" xlink:href=\"#DejaVuSans-32\"/>\n       <use x=\"127.148438\" xlink:href=\"#DejaVuSans-82\"/>\n       <use x=\"192.130859\" xlink:href=\"#DejaVuSans-101\"/>\n       <use x=\"253.654297\" xlink:href=\"#DejaVuSans-116\"/>\n       <use x=\"292.863281\" xlink:href=\"#DejaVuSans-97\"/>\n       <use x=\"354.142578\" xlink:href=\"#DejaVuSans-105\"/>\n       <use x=\"381.925781\" xlink:href=\"#DejaVuSans-108\"/>\n       <use x=\"409.708984\" xlink:href=\"#DejaVuSans-32\"/>\n       <use x=\"441.496094\" xlink:href=\"#DejaVuSans-116\"/>\n       <use x=\"480.705078\" xlink:href=\"#DejaVuSans-114\"/>\n       <use x=\"521.818359\" xlink:href=\"#DejaVuSans-97\"/>\n       <use x=\"583.097656\" xlink:href=\"#DejaVuSans-100\"/>\n       <use x=\"646.574219\" xlink:href=\"#DejaVuSans-101\"/>\n      </g>\n     </g>\n    </g>\n    <g id=\"xtick_10\">\n     <g id=\"line2d_10\">\n      <g>\n       <use style=\"stroke:#000000;stroke-width:0.8;\" x=\"290.814224\" xlink:href=\"#mafcee03cdb\" y=\"438.12\"/>\n      </g>\n     </g>\n     <g id=\"text_10\">\n      <!--     Transportation and warehousing -->\n      <g transform=\"translate(293.573599 619.015312)rotate(-90)scale(0.1 -0.1)\">\n       <defs>\n        <path d=\"M -0.296875 72.90625 \nL 61.375 72.90625 \nL 61.375 64.59375 \nL 35.5 64.59375 \nL 35.5 0 \nL 25.59375 0 \nL 25.59375 64.59375 \nL -0.296875 64.59375 \nz\n\" id=\"DejaVuSans-84\"/>\n        <path d=\"M 18.109375 8.203125 \nL 18.109375 -20.796875 \nL 9.078125 -20.796875 \nL 9.078125 54.6875 \nL 18.109375 54.6875 \nL 18.109375 46.390625 \nQ 20.953125 51.265625 25.265625 53.625 \nQ 29.59375 56 35.59375 56 \nQ 45.5625 56 51.78125 48.09375 \nQ 58.015625 40.1875 58.015625 27.296875 \nQ 58.015625 14.40625 51.78125 6.484375 \nQ 45.5625 -1.421875 35.59375 -1.421875 \nQ 29.59375 -1.421875 25.265625 0.953125 \nQ 20.953125 3.328125 18.109375 8.203125 \nz\nM 48.6875 27.296875 \nQ 48.6875 37.203125 44.609375 42.84375 \nQ 40.53125 48.484375 33.40625 48.484375 \nQ 26.265625 48.484375 22.1875 42.84375 \nQ 18.109375 37.203125 18.109375 27.296875 \nQ 18.109375 17.390625 22.1875 11.75 \nQ 26.265625 6.109375 33.40625 6.109375 \nQ 40.53125 6.109375 44.609375 11.75 \nQ 48.6875 17.390625 48.6875 27.296875 \nz\n\" id=\"DejaVuSans-112\"/>\n        <path d=\"M 4.203125 54.6875 \nL 13.1875 54.6875 \nL 24.421875 12.015625 \nL 35.59375 54.6875 \nL 46.1875 54.6875 \nL 57.421875 12.015625 \nL 68.609375 54.6875 \nL 77.59375 54.6875 \nL 63.28125 0 \nL 52.6875 0 \nL 40.921875 44.828125 \nL 29.109375 0 \nL 18.5 0 \nz\n\" id=\"DejaVuSans-119\"/>\n       </defs>\n       <use xlink:href=\"#DejaVuSans-32\"/>\n       <use x=\"31.787109\" xlink:href=\"#DejaVuSans-32\"/>\n       <use x=\"63.574219\" xlink:href=\"#DejaVuSans-32\"/>\n       <use x=\"95.361328\" xlink:href=\"#DejaVuSans-32\"/>\n       <use x=\"127.148438\" xlink:href=\"#DejaVuSans-84\"/>\n       <use x=\"173.482422\" xlink:href=\"#DejaVuSans-114\"/>\n       <use x=\"214.595703\" xlink:href=\"#DejaVuSans-97\"/>\n       <use x=\"275.875\" xlink:href=\"#DejaVuSans-110\"/>\n       <use x=\"339.253906\" xlink:href=\"#DejaVuSans-115\"/>\n       <use x=\"391.353516\" xlink:href=\"#DejaVuSans-112\"/>\n       <use x=\"454.830078\" xlink:href=\"#DejaVuSans-111\"/>\n       <use x=\"516.011719\" xlink:href=\"#DejaVuSans-114\"/>\n       <use x=\"557.125\" xlink:href=\"#DejaVuSans-116\"/>\n       <use x=\"596.333984\" xlink:href=\"#DejaVuSans-97\"/>\n       <use x=\"657.613281\" xlink:href=\"#DejaVuSans-116\"/>\n       <use x=\"696.822266\" xlink:href=\"#DejaVuSans-105\"/>\n       <use x=\"724.605469\" xlink:href=\"#DejaVuSans-111\"/>\n       <use x=\"785.787109\" xlink:href=\"#DejaVuSans-110\"/>\n       <use x=\"849.166016\" xlink:href=\"#DejaVuSans-32\"/>\n       <use x=\"880.953125\" xlink:href=\"#DejaVuSans-97\"/>\n       <use x=\"942.232422\" xlink:href=\"#DejaVuSans-110\"/>\n       <use x=\"1005.611328\" xlink:href=\"#DejaVuSans-100\"/>\n       <use x=\"1069.087891\" xlink:href=\"#DejaVuSans-32\"/>\n       <use x=\"1100.875\" xlink:href=\"#DejaVuSans-119\"/>\n       <use x=\"1182.662109\" xlink:href=\"#DejaVuSans-97\"/>\n       <use x=\"1243.941406\" xlink:href=\"#DejaVuSans-114\"/>\n       <use x=\"1282.804688\" xlink:href=\"#DejaVuSans-101\"/>\n       <use x=\"1344.328125\" xlink:href=\"#DejaVuSans-104\"/>\n       <use x=\"1407.707031\" xlink:href=\"#DejaVuSans-111\"/>\n       <use x=\"1468.888672\" xlink:href=\"#DejaVuSans-117\"/>\n       <use x=\"1532.267578\" xlink:href=\"#DejaVuSans-115\"/>\n       <use x=\"1584.367188\" xlink:href=\"#DejaVuSans-105\"/>\n       <use x=\"1612.150391\" xlink:href=\"#DejaVuSans-110\"/>\n       <use x=\"1675.529297\" xlink:href=\"#DejaVuSans-103\"/>\n      </g>\n     </g>\n    </g>\n    <g id=\"xtick_11\">\n     <g id=\"line2d_11\">\n      <g>\n       <use style=\"stroke:#000000;stroke-width:0.8;\" x=\"313.903879\" xlink:href=\"#mafcee03cdb\" y=\"438.12\"/>\n      </g>\n     </g>\n     <g id=\"text_11\">\n      <!--     Information -->\n      <g transform=\"translate(316.663254 515.718437)rotate(-90)scale(0.1 -0.1)\">\n       <defs>\n        <path d=\"M 9.8125 72.90625 \nL 19.671875 72.90625 \nL 19.671875 0 \nL 9.8125 0 \nz\n\" id=\"DejaVuSans-73\"/>\n       </defs>\n       <use xlink:href=\"#DejaVuSans-32\"/>\n       <use x=\"31.787109\" xlink:href=\"#DejaVuSans-32\"/>\n       <use x=\"63.574219\" xlink:href=\"#DejaVuSans-32\"/>\n       <use x=\"95.361328\" xlink:href=\"#DejaVuSans-32\"/>\n       <use x=\"127.148438\" xlink:href=\"#DejaVuSans-73\"/>\n       <use x=\"156.640625\" xlink:href=\"#DejaVuSans-110\"/>\n       <use x=\"220.019531\" xlink:href=\"#DejaVuSans-102\"/>\n       <use x=\"255.224609\" xlink:href=\"#DejaVuSans-111\"/>\n       <use x=\"316.40625\" xlink:href=\"#DejaVuSans-114\"/>\n       <use x=\"355.769531\" xlink:href=\"#DejaVuSans-109\"/>\n       <use x=\"453.181641\" xlink:href=\"#DejaVuSans-97\"/>\n       <use x=\"514.460938\" xlink:href=\"#DejaVuSans-116\"/>\n       <use x=\"553.669922\" xlink:href=\"#DejaVuSans-105\"/>\n       <use x=\"581.453125\" xlink:href=\"#DejaVuSans-111\"/>\n       <use x=\"642.634766\" xlink:href=\"#DejaVuSans-110\"/>\n      </g>\n     </g>\n    </g>\n    <g id=\"xtick_12\">\n     <g id=\"line2d_12\">\n      <g>\n       <use style=\"stroke:#000000;stroke-width:0.8;\" x=\"336.993534\" xlink:href=\"#mafcee03cdb\" y=\"438.12\"/>\n      </g>\n     </g>\n     <g id=\"text_12\">\n      <!--     Finance, insurance, real estate, rental, and leasing -->\n      <g transform=\"translate(339.752909 710.943437)rotate(-90)scale(0.1 -0.1)\">\n       <defs>\n        <path d=\"M 9.8125 72.90625 \nL 51.703125 72.90625 \nL 51.703125 64.59375 \nL 19.671875 64.59375 \nL 19.671875 43.109375 \nL 48.578125 43.109375 \nL 48.578125 34.8125 \nL 19.671875 34.8125 \nL 19.671875 0 \nL 9.8125 0 \nz\n\" id=\"DejaVuSans-70\"/>\n       </defs>\n       <use xlink:href=\"#DejaVuSans-32\"/>\n       <use x=\"31.787109\" xlink:href=\"#DejaVuSans-32\"/>\n       <use x=\"63.574219\" xlink:href=\"#DejaVuSans-32\"/>\n       <use x=\"95.361328\" xlink:href=\"#DejaVuSans-32\"/>\n       <use x=\"127.148438\" xlink:href=\"#DejaVuSans-70\"/>\n       <use x=\"177.417969\" xlink:href=\"#DejaVuSans-105\"/>\n       <use x=\"205.201172\" xlink:href=\"#DejaVuSans-110\"/>\n       <use x=\"268.580078\" xlink:href=\"#DejaVuSans-97\"/>\n       <use x=\"329.859375\" xlink:href=\"#DejaVuSans-110\"/>\n       <use x=\"393.238281\" xlink:href=\"#DejaVuSans-99\"/>\n       <use x=\"448.21875\" xlink:href=\"#DejaVuSans-101\"/>\n       <use x=\"509.742188\" xlink:href=\"#DejaVuSans-44\"/>\n       <use x=\"541.529297\" xlink:href=\"#DejaVuSans-32\"/>\n       <use x=\"573.316406\" xlink:href=\"#DejaVuSans-105\"/>\n       <use x=\"601.099609\" xlink:href=\"#DejaVuSans-110\"/>\n       <use x=\"664.478516\" xlink:href=\"#DejaVuSans-115\"/>\n       <use x=\"716.578125\" xlink:href=\"#DejaVuSans-117\"/>\n       <use x=\"779.957031\" xlink:href=\"#DejaVuSans-114\"/>\n       <use x=\"821.070312\" xlink:href=\"#DejaVuSans-97\"/>\n       <use x=\"882.349609\" xlink:href=\"#DejaVuSans-110\"/>\n       <use x=\"945.728516\" xlink:href=\"#DejaVuSans-99\"/>\n       <use x=\"1000.708984\" xlink:href=\"#DejaVuSans-101\"/>\n       <use x=\"1062.232422\" xlink:href=\"#DejaVuSans-44\"/>\n       <use x=\"1094.019531\" xlink:href=\"#DejaVuSans-32\"/>\n       <use x=\"1125.806641\" xlink:href=\"#DejaVuSans-114\"/>\n       <use x=\"1164.669922\" xlink:href=\"#DejaVuSans-101\"/>\n       <use x=\"1226.193359\" xlink:href=\"#DejaVuSans-97\"/>\n       <use x=\"1287.472656\" xlink:href=\"#DejaVuSans-108\"/>\n       <use x=\"1315.255859\" xlink:href=\"#DejaVuSans-32\"/>\n       <use x=\"1347.042969\" xlink:href=\"#DejaVuSans-101\"/>\n       <use x=\"1408.566406\" xlink:href=\"#DejaVuSans-115\"/>\n       <use x=\"1460.666016\" xlink:href=\"#DejaVuSans-116\"/>\n       <use x=\"1499.875\" xlink:href=\"#DejaVuSans-97\"/>\n       <use x=\"1561.154297\" xlink:href=\"#DejaVuSans-116\"/>\n       <use x=\"1600.363281\" xlink:href=\"#DejaVuSans-101\"/>\n       <use x=\"1661.886719\" xlink:href=\"#DejaVuSans-44\"/>\n       <use x=\"1693.673828\" xlink:href=\"#DejaVuSans-32\"/>\n       <use x=\"1725.460938\" xlink:href=\"#DejaVuSans-114\"/>\n       <use x=\"1764.324219\" xlink:href=\"#DejaVuSans-101\"/>\n       <use x=\"1825.847656\" xlink:href=\"#DejaVuSans-110\"/>\n       <use x=\"1889.226562\" xlink:href=\"#DejaVuSans-116\"/>\n       <use x=\"1928.435547\" xlink:href=\"#DejaVuSans-97\"/>\n       <use x=\"1989.714844\" xlink:href=\"#DejaVuSans-108\"/>\n       <use x=\"2017.498047\" xlink:href=\"#DejaVuSans-44\"/>\n       <use x=\"2049.285156\" xlink:href=\"#DejaVuSans-32\"/>\n       <use x=\"2081.072266\" xlink:href=\"#DejaVuSans-97\"/>\n       <use x=\"2142.351562\" xlink:href=\"#DejaVuSans-110\"/>\n       <use x=\"2205.730469\" xlink:href=\"#DejaVuSans-100\"/>\n       <use x=\"2269.207031\" xlink:href=\"#DejaVuSans-32\"/>\n       <use x=\"2300.994141\" xlink:href=\"#DejaVuSans-108\"/>\n       <use x=\"2328.777344\" xlink:href=\"#DejaVuSans-101\"/>\n       <use x=\"2390.300781\" xlink:href=\"#DejaVuSans-97\"/>\n       <use x=\"2451.580078\" xlink:href=\"#DejaVuSans-115\"/>\n       <use x=\"2503.679688\" xlink:href=\"#DejaVuSans-105\"/>\n       <use x=\"2531.462891\" xlink:href=\"#DejaVuSans-110\"/>\n       <use x=\"2594.841797\" xlink:href=\"#DejaVuSans-103\"/>\n      </g>\n     </g>\n    </g>\n    <g id=\"xtick_13\">\n     <g id=\"line2d_13\">\n      <g>\n       <use style=\"stroke:#000000;stroke-width:0.8;\" x=\"360.08319\" xlink:href=\"#mafcee03cdb\" y=\"438.12\"/>\n      </g>\n     </g>\n     <g id=\"text_13\">\n      <!--       Finance and insurance -->\n      <g transform=\"translate(362.842565 576.509062)rotate(-90)scale(0.1 -0.1)\">\n       <use xlink:href=\"#DejaVuSans-32\"/>\n       <use x=\"31.787109\" xlink:href=\"#DejaVuSans-32\"/>\n       <use x=\"63.574219\" xlink:href=\"#DejaVuSans-32\"/>\n       <use x=\"95.361328\" xlink:href=\"#DejaVuSans-32\"/>\n       <use x=\"127.148438\" xlink:href=\"#DejaVuSans-32\"/>\n       <use x=\"158.935547\" xlink:href=\"#DejaVuSans-32\"/>\n       <use x=\"190.722656\" xlink:href=\"#DejaVuSans-70\"/>\n       <use x=\"240.992188\" xlink:href=\"#DejaVuSans-105\"/>\n       <use x=\"268.775391\" xlink:href=\"#DejaVuSans-110\"/>\n       <use x=\"332.154297\" xlink:href=\"#DejaVuSans-97\"/>\n       <use x=\"393.433594\" xlink:href=\"#DejaVuSans-110\"/>\n       <use x=\"456.8125\" xlink:href=\"#DejaVuSans-99\"/>\n       <use x=\"511.792969\" xlink:href=\"#DejaVuSans-101\"/>\n       <use x=\"573.316406\" xlink:href=\"#DejaVuSans-32\"/>\n       <use x=\"605.103516\" xlink:href=\"#DejaVuSans-97\"/>\n       <use x=\"666.382812\" xlink:href=\"#DejaVuSans-110\"/>\n       <use x=\"729.761719\" xlink:href=\"#DejaVuSans-100\"/>\n       <use x=\"793.238281\" xlink:href=\"#DejaVuSans-32\"/>\n       <use x=\"825.025391\" xlink:href=\"#DejaVuSans-105\"/>\n       <use x=\"852.808594\" xlink:href=\"#DejaVuSans-110\"/>\n       <use x=\"916.1875\" xlink:href=\"#DejaVuSans-115\"/>\n       <use x=\"968.287109\" xlink:href=\"#DejaVuSans-117\"/>\n       <use x=\"1031.666016\" xlink:href=\"#DejaVuSans-114\"/>\n       <use x=\"1072.779297\" xlink:href=\"#DejaVuSans-97\"/>\n       <use x=\"1134.058594\" xlink:href=\"#DejaVuSans-110\"/>\n       <use x=\"1197.4375\" xlink:href=\"#DejaVuSans-99\"/>\n       <use x=\"1252.417969\" xlink:href=\"#DejaVuSans-101\"/>\n      </g>\n     </g>\n    </g>\n    <g id=\"xtick_14\">\n     <g id=\"line2d_14\">\n      <g>\n       <use style=\"stroke:#000000;stroke-width:0.8;\" x=\"383.172845\" xlink:href=\"#mafcee03cdb\" y=\"438.12\"/>\n      </g>\n     </g>\n     <g id=\"text_14\">\n      <!--       Real estate and rental and leasing -->\n      <g transform=\"translate(385.93222 635.685625)rotate(-90)scale(0.1 -0.1)\">\n       <use xlink:href=\"#DejaVuSans-32\"/>\n       <use x=\"31.787109\" xlink:href=\"#DejaVuSans-32\"/>\n       <use x=\"63.574219\" xlink:href=\"#DejaVuSans-32\"/>\n       <use x=\"95.361328\" xlink:href=\"#DejaVuSans-32\"/>\n       <use x=\"127.148438\" xlink:href=\"#DejaVuSans-32\"/>\n       <use x=\"158.935547\" xlink:href=\"#DejaVuSans-32\"/>\n       <use x=\"190.722656\" xlink:href=\"#DejaVuSans-82\"/>\n       <use x=\"255.705078\" xlink:href=\"#DejaVuSans-101\"/>\n       <use x=\"317.228516\" xlink:href=\"#DejaVuSans-97\"/>\n       <use x=\"378.507812\" xlink:href=\"#DejaVuSans-108\"/>\n       <use x=\"406.291016\" xlink:href=\"#DejaVuSans-32\"/>\n       <use x=\"438.078125\" xlink:href=\"#DejaVuSans-101\"/>\n       <use x=\"499.601562\" xlink:href=\"#DejaVuSans-115\"/>\n       <use x=\"551.701172\" xlink:href=\"#DejaVuSans-116\"/>\n       <use x=\"590.910156\" xlink:href=\"#DejaVuSans-97\"/>\n       <use x=\"652.189453\" xlink:href=\"#DejaVuSans-116\"/>\n       <use x=\"691.398438\" xlink:href=\"#DejaVuSans-101\"/>\n       <use x=\"752.921875\" xlink:href=\"#DejaVuSans-32\"/>\n       <use x=\"784.708984\" xlink:href=\"#DejaVuSans-97\"/>\n       <use x=\"845.988281\" xlink:href=\"#DejaVuSans-110\"/>\n       <use x=\"909.367188\" xlink:href=\"#DejaVuSans-100\"/>\n       <use x=\"972.84375\" xlink:href=\"#DejaVuSans-32\"/>\n       <use x=\"1004.630859\" xlink:href=\"#DejaVuSans-114\"/>\n       <use x=\"1043.494141\" xlink:href=\"#DejaVuSans-101\"/>\n       <use x=\"1105.017578\" xlink:href=\"#DejaVuSans-110\"/>\n       <use x=\"1168.396484\" xlink:href=\"#DejaVuSans-116\"/>\n       <use x=\"1207.605469\" xlink:href=\"#DejaVuSans-97\"/>\n       <use x=\"1268.884766\" xlink:href=\"#DejaVuSans-108\"/>\n       <use x=\"1296.667969\" xlink:href=\"#DejaVuSans-32\"/>\n       <use x=\"1328.455078\" xlink:href=\"#DejaVuSans-97\"/>\n       <use x=\"1389.734375\" xlink:href=\"#DejaVuSans-110\"/>\n       <use x=\"1453.113281\" xlink:href=\"#DejaVuSans-100\"/>\n       <use x=\"1516.589844\" xlink:href=\"#DejaVuSans-32\"/>\n       <use x=\"1548.376953\" xlink:href=\"#DejaVuSans-108\"/>\n       <use x=\"1576.160156\" xlink:href=\"#DejaVuSans-101\"/>\n       <use x=\"1637.683594\" xlink:href=\"#DejaVuSans-97\"/>\n       <use x=\"1698.962891\" xlink:href=\"#DejaVuSans-115\"/>\n       <use x=\"1751.0625\" xlink:href=\"#DejaVuSans-105\"/>\n       <use x=\"1778.845703\" xlink:href=\"#DejaVuSans-110\"/>\n       <use x=\"1842.224609\" xlink:href=\"#DejaVuSans-103\"/>\n      </g>\n     </g>\n    </g>\n    <g id=\"xtick_15\">\n     <g id=\"line2d_15\">\n      <g>\n       <use style=\"stroke:#000000;stroke-width:0.8;\" x=\"406.2625\" xlink:href=\"#mafcee03cdb\" y=\"438.12\"/>\n      </g>\n     </g>\n     <g id=\"text_15\">\n      <!--     Professional and business services -->\n      <g transform=\"translate(409.021875 630.887187)rotate(-90)scale(0.1 -0.1)\">\n       <defs>\n        <path d=\"M 19.671875 64.796875 \nL 19.671875 37.40625 \nL 32.078125 37.40625 \nQ 38.96875 37.40625 42.71875 40.96875 \nQ 46.484375 44.53125 46.484375 51.125 \nQ 46.484375 57.671875 42.71875 61.234375 \nQ 38.96875 64.796875 32.078125 64.796875 \nz\nM 9.8125 72.90625 \nL 32.078125 72.90625 \nQ 44.34375 72.90625 50.609375 67.359375 \nQ 56.890625 61.8125 56.890625 51.125 \nQ 56.890625 40.328125 50.609375 34.8125 \nQ 44.34375 29.296875 32.078125 29.296875 \nL 19.671875 29.296875 \nL 19.671875 0 \nL 9.8125 0 \nz\n\" id=\"DejaVuSans-80\"/>\n        <path d=\"M 2.984375 54.6875 \nL 12.5 54.6875 \nL 29.59375 8.796875 \nL 46.6875 54.6875 \nL 56.203125 54.6875 \nL 35.6875 0 \nL 23.484375 0 \nz\n\" id=\"DejaVuSans-118\"/>\n       </defs>\n       <use xlink:href=\"#DejaVuSans-32\"/>\n       <use x=\"31.787109\" xlink:href=\"#DejaVuSans-32\"/>\n       <use x=\"63.574219\" xlink:href=\"#DejaVuSans-32\"/>\n       <use x=\"95.361328\" xlink:href=\"#DejaVuSans-32\"/>\n       <use x=\"127.148438\" xlink:href=\"#DejaVuSans-80\"/>\n       <use x=\"185.701172\" xlink:href=\"#DejaVuSans-114\"/>\n       <use x=\"224.564453\" xlink:href=\"#DejaVuSans-111\"/>\n       <use x=\"285.746094\" xlink:href=\"#DejaVuSans-102\"/>\n       <use x=\"320.951172\" xlink:href=\"#DejaVuSans-101\"/>\n       <use x=\"382.474609\" xlink:href=\"#DejaVuSans-115\"/>\n       <use x=\"434.574219\" xlink:href=\"#DejaVuSans-115\"/>\n       <use x=\"486.673828\" xlink:href=\"#DejaVuSans-105\"/>\n       <use x=\"514.457031\" xlink:href=\"#DejaVuSans-111\"/>\n       <use x=\"575.638672\" xlink:href=\"#DejaVuSans-110\"/>\n       <use x=\"639.017578\" xlink:href=\"#DejaVuSans-97\"/>\n       <use x=\"700.296875\" xlink:href=\"#DejaVuSans-108\"/>\n       <use x=\"728.080078\" xlink:href=\"#DejaVuSans-32\"/>\n       <use x=\"759.867188\" xlink:href=\"#DejaVuSans-97\"/>\n       <use x=\"821.146484\" xlink:href=\"#DejaVuSans-110\"/>\n       <use x=\"884.525391\" xlink:href=\"#DejaVuSans-100\"/>\n       <use x=\"948.001953\" xlink:href=\"#DejaVuSans-32\"/>\n       <use x=\"979.789062\" xlink:href=\"#DejaVuSans-98\"/>\n       <use x=\"1043.265625\" xlink:href=\"#DejaVuSans-117\"/>\n       <use x=\"1106.644531\" xlink:href=\"#DejaVuSans-115\"/>\n       <use x=\"1158.744141\" xlink:href=\"#DejaVuSans-105\"/>\n       <use x=\"1186.527344\" xlink:href=\"#DejaVuSans-110\"/>\n       <use x=\"1249.90625\" xlink:href=\"#DejaVuSans-101\"/>\n       <use x=\"1311.429688\" xlink:href=\"#DejaVuSans-115\"/>\n       <use x=\"1363.529297\" xlink:href=\"#DejaVuSans-115\"/>\n       <use x=\"1415.628906\" xlink:href=\"#DejaVuSans-32\"/>\n       <use x=\"1447.416016\" xlink:href=\"#DejaVuSans-115\"/>\n       <use x=\"1499.515625\" xlink:href=\"#DejaVuSans-101\"/>\n       <use x=\"1561.039062\" xlink:href=\"#DejaVuSans-114\"/>\n       <use x=\"1602.152344\" xlink:href=\"#DejaVuSans-118\"/>\n       <use x=\"1661.332031\" xlink:href=\"#DejaVuSans-105\"/>\n       <use x=\"1689.115234\" xlink:href=\"#DejaVuSans-99\"/>\n       <use x=\"1744.095703\" xlink:href=\"#DejaVuSans-101\"/>\n       <use x=\"1805.619141\" xlink:href=\"#DejaVuSans-115\"/>\n      </g>\n     </g>\n    </g>\n    <g id=\"xtick_16\">\n     <g id=\"line2d_16\">\n      <g>\n       <use style=\"stroke:#000000;stroke-width:0.8;\" x=\"429.352155\" xlink:href=\"#mafcee03cdb\" y=\"438.12\"/>\n      </g>\n     </g>\n     <g id=\"text_16\">\n      <!--       Professional, scientific, and technical services -->\n      <g transform=\"translate(432.11153 693.096562)rotate(-90)scale(0.1 -0.1)\">\n       <use xlink:href=\"#DejaVuSans-32\"/>\n       <use x=\"31.787109\" xlink:href=\"#DejaVuSans-32\"/>\n       <use x=\"63.574219\" xlink:href=\"#DejaVuSans-32\"/>\n       <use x=\"95.361328\" xlink:href=\"#DejaVuSans-32\"/>\n       <use x=\"127.148438\" xlink:href=\"#DejaVuSans-32\"/>\n       <use x=\"158.935547\" xlink:href=\"#DejaVuSans-32\"/>\n       <use x=\"190.722656\" xlink:href=\"#DejaVuSans-80\"/>\n       <use x=\"249.275391\" xlink:href=\"#DejaVuSans-114\"/>\n       <use x=\"288.138672\" xlink:href=\"#DejaVuSans-111\"/>\n       <use x=\"349.320312\" xlink:href=\"#DejaVuSans-102\"/>\n       <use x=\"384.525391\" xlink:href=\"#DejaVuSans-101\"/>\n       <use x=\"446.048828\" xlink:href=\"#DejaVuSans-115\"/>\n       <use x=\"498.148438\" xlink:href=\"#DejaVuSans-115\"/>\n       <use x=\"550.248047\" xlink:href=\"#DejaVuSans-105\"/>\n       <use x=\"578.03125\" xlink:href=\"#DejaVuSans-111\"/>\n       <use x=\"639.212891\" xlink:href=\"#DejaVuSans-110\"/>\n       <use x=\"702.591797\" xlink:href=\"#DejaVuSans-97\"/>\n       <use x=\"763.871094\" xlink:href=\"#DejaVuSans-108\"/>\n       <use x=\"791.654297\" xlink:href=\"#DejaVuSans-44\"/>\n       <use x=\"823.441406\" xlink:href=\"#DejaVuSans-32\"/>\n       <use x=\"855.228516\" xlink:href=\"#DejaVuSans-115\"/>\n       <use x=\"907.328125\" xlink:href=\"#DejaVuSans-99\"/>\n       <use x=\"962.308594\" xlink:href=\"#DejaVuSans-105\"/>\n       <use x=\"990.091797\" xlink:href=\"#DejaVuSans-101\"/>\n       <use x=\"1051.615234\" xlink:href=\"#DejaVuSans-110\"/>\n       <use x=\"1114.994141\" xlink:href=\"#DejaVuSans-116\"/>\n       <use x=\"1154.203125\" xlink:href=\"#DejaVuSans-105\"/>\n       <use x=\"1181.986328\" xlink:href=\"#DejaVuSans-102\"/>\n       <use x=\"1217.191406\" xlink:href=\"#DejaVuSans-105\"/>\n       <use x=\"1244.974609\" xlink:href=\"#DejaVuSans-99\"/>\n       <use x=\"1299.955078\" xlink:href=\"#DejaVuSans-44\"/>\n       <use x=\"1331.742188\" xlink:href=\"#DejaVuSans-32\"/>\n       <use x=\"1363.529297\" xlink:href=\"#DejaVuSans-97\"/>\n       <use x=\"1424.808594\" xlink:href=\"#DejaVuSans-110\"/>\n       <use x=\"1488.1875\" xlink:href=\"#DejaVuSans-100\"/>\n       <use x=\"1551.664062\" xlink:href=\"#DejaVuSans-32\"/>\n       <use x=\"1583.451172\" xlink:href=\"#DejaVuSans-116\"/>\n       <use x=\"1622.660156\" xlink:href=\"#DejaVuSans-101\"/>\n       <use x=\"1684.183594\" xlink:href=\"#DejaVuSans-99\"/>\n       <use x=\"1739.164062\" xlink:href=\"#DejaVuSans-104\"/>\n       <use x=\"1802.542969\" xlink:href=\"#DejaVuSans-110\"/>\n       <use x=\"1865.921875\" xlink:href=\"#DejaVuSans-105\"/>\n       <use x=\"1893.705078\" xlink:href=\"#DejaVuSans-99\"/>\n       <use x=\"1948.685547\" xlink:href=\"#DejaVuSans-97\"/>\n       <use x=\"2009.964844\" xlink:href=\"#DejaVuSans-108\"/>\n       <use x=\"2037.748047\" xlink:href=\"#DejaVuSans-32\"/>\n       <use x=\"2069.535156\" xlink:href=\"#DejaVuSans-115\"/>\n       <use x=\"2121.634766\" xlink:href=\"#DejaVuSans-101\"/>\n       <use x=\"2183.158203\" xlink:href=\"#DejaVuSans-114\"/>\n       <use x=\"2224.271484\" xlink:href=\"#DejaVuSans-118\"/>\n       <use x=\"2283.451172\" xlink:href=\"#DejaVuSans-105\"/>\n       <use x=\"2311.234375\" xlink:href=\"#DejaVuSans-99\"/>\n       <use x=\"2366.214844\" xlink:href=\"#DejaVuSans-101\"/>\n       <use x=\"2427.738281\" xlink:href=\"#DejaVuSans-115\"/>\n      </g>\n     </g>\n    </g>\n    <g id=\"xtick_17\">\n     <g id=\"line2d_17\">\n      <g>\n       <use style=\"stroke:#000000;stroke-width:0.8;\" x=\"452.44181\" xlink:href=\"#mafcee03cdb\" y=\"438.12\"/>\n      </g>\n     </g>\n     <g id=\"text_17\">\n      <!--       Management of companies and enterprises -->\n      <g transform=\"translate(455.201185 682.02625)rotate(-90)scale(0.1 -0.1)\">\n       <use xlink:href=\"#DejaVuSans-32\"/>\n       <use x=\"31.787109\" xlink:href=\"#DejaVuSans-32\"/>\n       <use x=\"63.574219\" xlink:href=\"#DejaVuSans-32\"/>\n       <use x=\"95.361328\" xlink:href=\"#DejaVuSans-32\"/>\n       <use x=\"127.148438\" xlink:href=\"#DejaVuSans-32\"/>\n       <use x=\"158.935547\" xlink:href=\"#DejaVuSans-32\"/>\n       <use x=\"190.722656\" xlink:href=\"#DejaVuSans-77\"/>\n       <use x=\"277.001953\" xlink:href=\"#DejaVuSans-97\"/>\n       <use x=\"338.28125\" xlink:href=\"#DejaVuSans-110\"/>\n       <use x=\"401.660156\" xlink:href=\"#DejaVuSans-97\"/>\n       <use x=\"462.939453\" xlink:href=\"#DejaVuSans-103\"/>\n       <use x=\"526.416016\" xlink:href=\"#DejaVuSans-101\"/>\n       <use x=\"587.939453\" xlink:href=\"#DejaVuSans-109\"/>\n       <use x=\"685.351562\" xlink:href=\"#DejaVuSans-101\"/>\n       <use x=\"746.875\" xlink:href=\"#DejaVuSans-110\"/>\n       <use x=\"810.253906\" xlink:href=\"#DejaVuSans-116\"/>\n       <use x=\"849.462891\" xlink:href=\"#DejaVuSans-32\"/>\n       <use x=\"881.25\" xlink:href=\"#DejaVuSans-111\"/>\n       <use x=\"942.431641\" xlink:href=\"#DejaVuSans-102\"/>\n       <use x=\"977.636719\" xlink:href=\"#DejaVuSans-32\"/>\n       <use x=\"1009.423828\" xlink:href=\"#DejaVuSans-99\"/>\n       <use x=\"1064.404297\" xlink:href=\"#DejaVuSans-111\"/>\n       <use x=\"1125.585938\" xlink:href=\"#DejaVuSans-109\"/>\n       <use x=\"1222.998047\" xlink:href=\"#DejaVuSans-112\"/>\n       <use x=\"1286.474609\" xlink:href=\"#DejaVuSans-97\"/>\n       <use x=\"1347.753906\" xlink:href=\"#DejaVuSans-110\"/>\n       <use x=\"1411.132812\" xlink:href=\"#DejaVuSans-105\"/>\n       <use x=\"1438.916016\" xlink:href=\"#DejaVuSans-101\"/>\n       <use x=\"1500.439453\" xlink:href=\"#DejaVuSans-115\"/>\n       <use x=\"1552.539062\" xlink:href=\"#DejaVuSans-32\"/>\n       <use x=\"1584.326172\" xlink:href=\"#DejaVuSans-97\"/>\n       <use x=\"1645.605469\" xlink:href=\"#DejaVuSans-110\"/>\n       <use x=\"1708.984375\" xlink:href=\"#DejaVuSans-100\"/>\n       <use x=\"1772.460938\" xlink:href=\"#DejaVuSans-32\"/>\n       <use x=\"1804.248047\" xlink:href=\"#DejaVuSans-101\"/>\n       <use x=\"1865.771484\" xlink:href=\"#DejaVuSans-110\"/>\n       <use x=\"1929.150391\" xlink:href=\"#DejaVuSans-116\"/>\n       <use x=\"1968.359375\" xlink:href=\"#DejaVuSans-101\"/>\n       <use x=\"2029.882812\" xlink:href=\"#DejaVuSans-114\"/>\n       <use x=\"2070.996094\" xlink:href=\"#DejaVuSans-112\"/>\n       <use x=\"2134.472656\" xlink:href=\"#DejaVuSans-114\"/>\n       <use x=\"2175.585938\" xlink:href=\"#DejaVuSans-105\"/>\n       <use x=\"2203.369141\" xlink:href=\"#DejaVuSans-115\"/>\n       <use x=\"2255.46875\" xlink:href=\"#DejaVuSans-101\"/>\n       <use x=\"2316.992188\" xlink:href=\"#DejaVuSans-115\"/>\n      </g>\n     </g>\n    </g>\n    <g id=\"xtick_18\">\n     <g id=\"line2d_18\">\n      <g>\n       <use style=\"stroke:#000000;stroke-width:0.8;\" x=\"475.531466\" xlink:href=\"#mafcee03cdb\" y=\"438.12\"/>\n      </g>\n     </g>\n     <g id=\"text_18\">\n      <!--       Administrative and support and waste management and remediation services -->\n      <g transform=\"translate(478.290841 855.187187)rotate(-90)scale(0.1 -0.1)\">\n       <use xlink:href=\"#DejaVuSans-32\"/>\n       <use x=\"31.787109\" xlink:href=\"#DejaVuSans-32\"/>\n       <use x=\"63.574219\" xlink:href=\"#DejaVuSans-32\"/>\n       <use x=\"95.361328\" xlink:href=\"#DejaVuSans-32\"/>\n       <use x=\"127.148438\" xlink:href=\"#DejaVuSans-32\"/>\n       <use x=\"158.935547\" xlink:href=\"#DejaVuSans-32\"/>\n       <use x=\"190.722656\" xlink:href=\"#DejaVuSans-65\"/>\n       <use x=\"257.380859\" xlink:href=\"#DejaVuSans-100\"/>\n       <use x=\"320.857422\" xlink:href=\"#DejaVuSans-109\"/>\n       <use x=\"418.269531\" xlink:href=\"#DejaVuSans-105\"/>\n       <use x=\"446.052734\" xlink:href=\"#DejaVuSans-110\"/>\n       <use x=\"509.431641\" xlink:href=\"#DejaVuSans-105\"/>\n       <use x=\"537.214844\" xlink:href=\"#DejaVuSans-115\"/>\n       <use x=\"589.314453\" xlink:href=\"#DejaVuSans-116\"/>\n       <use x=\"628.523438\" xlink:href=\"#DejaVuSans-114\"/>\n       <use x=\"669.636719\" xlink:href=\"#DejaVuSans-97\"/>\n       <use x=\"730.916016\" xlink:href=\"#DejaVuSans-116\"/>\n       <use x=\"770.125\" xlink:href=\"#DejaVuSans-105\"/>\n       <use x=\"797.908203\" xlink:href=\"#DejaVuSans-118\"/>\n       <use x=\"857.087891\" xlink:href=\"#DejaVuSans-101\"/>\n       <use x=\"918.611328\" xlink:href=\"#DejaVuSans-32\"/>\n       <use x=\"950.398438\" xlink:href=\"#DejaVuSans-97\"/>\n       <use x=\"1011.677734\" xlink:href=\"#DejaVuSans-110\"/>\n       <use x=\"1075.056641\" xlink:href=\"#DejaVuSans-100\"/>\n       <use x=\"1138.533203\" xlink:href=\"#DejaVuSans-32\"/>\n       <use x=\"1170.320312\" xlink:href=\"#DejaVuSans-115\"/>\n       <use x=\"1222.419922\" xlink:href=\"#DejaVuSans-117\"/>\n       <use x=\"1285.798828\" xlink:href=\"#DejaVuSans-112\"/>\n       <use x=\"1349.275391\" xlink:href=\"#DejaVuSans-112\"/>\n       <use x=\"1412.751953\" xlink:href=\"#DejaVuSans-111\"/>\n       <use x=\"1473.933594\" xlink:href=\"#DejaVuSans-114\"/>\n       <use x=\"1515.046875\" xlink:href=\"#DejaVuSans-116\"/>\n       <use x=\"1554.255859\" xlink:href=\"#DejaVuSans-32\"/>\n       <use x=\"1586.042969\" xlink:href=\"#DejaVuSans-97\"/>\n       <use x=\"1647.322266\" xlink:href=\"#DejaVuSans-110\"/>\n       <use x=\"1710.701172\" xlink:href=\"#DejaVuSans-100\"/>\n       <use x=\"1774.177734\" xlink:href=\"#DejaVuSans-32\"/>\n       <use x=\"1805.964844\" xlink:href=\"#DejaVuSans-119\"/>\n       <use x=\"1887.751953\" xlink:href=\"#DejaVuSans-97\"/>\n       <use x=\"1949.03125\" xlink:href=\"#DejaVuSans-115\"/>\n       <use x=\"2001.130859\" xlink:href=\"#DejaVuSans-116\"/>\n       <use x=\"2040.339844\" xlink:href=\"#DejaVuSans-101\"/>\n       <use x=\"2101.863281\" xlink:href=\"#DejaVuSans-32\"/>\n       <use x=\"2133.650391\" xlink:href=\"#DejaVuSans-109\"/>\n       <use x=\"2231.0625\" xlink:href=\"#DejaVuSans-97\"/>\n       <use x=\"2292.341797\" xlink:href=\"#DejaVuSans-110\"/>\n       <use x=\"2355.720703\" xlink:href=\"#DejaVuSans-97\"/>\n       <use x=\"2417\" xlink:href=\"#DejaVuSans-103\"/>\n       <use x=\"2480.476562\" xlink:href=\"#DejaVuSans-101\"/>\n       <use x=\"2542\" xlink:href=\"#DejaVuSans-109\"/>\n       <use x=\"2639.412109\" xlink:href=\"#DejaVuSans-101\"/>\n       <use x=\"2700.935547\" xlink:href=\"#DejaVuSans-110\"/>\n       <use x=\"2764.314453\" xlink:href=\"#DejaVuSans-116\"/>\n       <use x=\"2803.523438\" xlink:href=\"#DejaVuSans-32\"/>\n       <use x=\"2835.310547\" xlink:href=\"#DejaVuSans-97\"/>\n       <use x=\"2896.589844\" xlink:href=\"#DejaVuSans-110\"/>\n       <use x=\"2959.96875\" xlink:href=\"#DejaVuSans-100\"/>\n       <use x=\"3023.445312\" xlink:href=\"#DejaVuSans-32\"/>\n       <use x=\"3055.232422\" xlink:href=\"#DejaVuSans-114\"/>\n       <use x=\"3094.095703\" xlink:href=\"#DejaVuSans-101\"/>\n       <use x=\"3155.619141\" xlink:href=\"#DejaVuSans-109\"/>\n       <use x=\"3253.03125\" xlink:href=\"#DejaVuSans-101\"/>\n       <use x=\"3314.554688\" xlink:href=\"#DejaVuSans-100\"/>\n       <use x=\"3378.03125\" xlink:href=\"#DejaVuSans-105\"/>\n       <use x=\"3405.814453\" xlink:href=\"#DejaVuSans-97\"/>\n       <use x=\"3467.09375\" xlink:href=\"#DejaVuSans-116\"/>\n       <use x=\"3506.302734\" xlink:href=\"#DejaVuSans-105\"/>\n       <use x=\"3534.085938\" xlink:href=\"#DejaVuSans-111\"/>\n       <use x=\"3595.267578\" xlink:href=\"#DejaVuSans-110\"/>\n       <use x=\"3658.646484\" xlink:href=\"#DejaVuSans-32\"/>\n       <use x=\"3690.433594\" xlink:href=\"#DejaVuSans-115\"/>\n       <use x=\"3742.533203\" xlink:href=\"#DejaVuSans-101\"/>\n       <use x=\"3804.056641\" xlink:href=\"#DejaVuSans-114\"/>\n       <use x=\"3845.169922\" xlink:href=\"#DejaVuSans-118\"/>\n       <use x=\"3904.349609\" xlink:href=\"#DejaVuSans-105\"/>\n       <use x=\"3932.132812\" xlink:href=\"#DejaVuSans-99\"/>\n       <use x=\"3987.113281\" xlink:href=\"#DejaVuSans-101\"/>\n       <use x=\"4048.636719\" xlink:href=\"#DejaVuSans-115\"/>\n      </g>\n     </g>\n    </g>\n    <g id=\"xtick_19\">\n     <g id=\"line2d_19\">\n      <g>\n       <use style=\"stroke:#000000;stroke-width:0.8;\" x=\"498.621121\" xlink:href=\"#mafcee03cdb\" y=\"438.12\"/>\n      </g>\n     </g>\n     <g id=\"text_19\">\n      <!--     Educational services, health care, and social assistance -->\n      <g transform=\"translate(501.380496 736.198125)rotate(-90)scale(0.1 -0.1)\">\n       <defs>\n        <path d=\"M 9.8125 72.90625 \nL 55.90625 72.90625 \nL 55.90625 64.59375 \nL 19.671875 64.59375 \nL 19.671875 43.015625 \nL 54.390625 43.015625 \nL 54.390625 34.71875 \nL 19.671875 34.71875 \nL 19.671875 8.296875 \nL 56.78125 8.296875 \nL 56.78125 0 \nL 9.8125 0 \nz\n\" id=\"DejaVuSans-69\"/>\n       </defs>\n       <use xlink:href=\"#DejaVuSans-32\"/>\n       <use x=\"31.787109\" xlink:href=\"#DejaVuSans-32\"/>\n       <use x=\"63.574219\" xlink:href=\"#DejaVuSans-32\"/>\n       <use x=\"95.361328\" xlink:href=\"#DejaVuSans-32\"/>\n       <use x=\"127.148438\" xlink:href=\"#DejaVuSans-69\"/>\n       <use x=\"190.332031\" xlink:href=\"#DejaVuSans-100\"/>\n       <use x=\"253.808594\" xlink:href=\"#DejaVuSans-117\"/>\n       <use x=\"317.1875\" xlink:href=\"#DejaVuSans-99\"/>\n       <use x=\"372.167969\" xlink:href=\"#DejaVuSans-97\"/>\n       <use x=\"433.447266\" xlink:href=\"#DejaVuSans-116\"/>\n       <use x=\"472.65625\" xlink:href=\"#DejaVuSans-105\"/>\n       <use x=\"500.439453\" xlink:href=\"#DejaVuSans-111\"/>\n       <use x=\"561.621094\" xlink:href=\"#DejaVuSans-110\"/>\n       <use x=\"625\" xlink:href=\"#DejaVuSans-97\"/>\n       <use x=\"686.279297\" xlink:href=\"#DejaVuSans-108\"/>\n       <use x=\"714.0625\" xlink:href=\"#DejaVuSans-32\"/>\n       <use x=\"745.849609\" xlink:href=\"#DejaVuSans-115\"/>\n       <use x=\"797.949219\" xlink:href=\"#DejaVuSans-101\"/>\n       <use x=\"859.472656\" xlink:href=\"#DejaVuSans-114\"/>\n       <use x=\"900.585938\" xlink:href=\"#DejaVuSans-118\"/>\n       <use x=\"959.765625\" xlink:href=\"#DejaVuSans-105\"/>\n       <use x=\"987.548828\" xlink:href=\"#DejaVuSans-99\"/>\n       <use x=\"1042.529297\" xlink:href=\"#DejaVuSans-101\"/>\n       <use x=\"1104.052734\" xlink:href=\"#DejaVuSans-115\"/>\n       <use x=\"1156.152344\" xlink:href=\"#DejaVuSans-44\"/>\n       <use x=\"1187.939453\" xlink:href=\"#DejaVuSans-32\"/>\n       <use x=\"1219.726562\" xlink:href=\"#DejaVuSans-104\"/>\n       <use x=\"1283.105469\" xlink:href=\"#DejaVuSans-101\"/>\n       <use x=\"1344.628906\" xlink:href=\"#DejaVuSans-97\"/>\n       <use x=\"1405.908203\" xlink:href=\"#DejaVuSans-108\"/>\n       <use x=\"1433.691406\" xlink:href=\"#DejaVuSans-116\"/>\n       <use x=\"1472.900391\" xlink:href=\"#DejaVuSans-104\"/>\n       <use x=\"1536.279297\" xlink:href=\"#DejaVuSans-32\"/>\n       <use x=\"1568.066406\" xlink:href=\"#DejaVuSans-99\"/>\n       <use x=\"1623.046875\" xlink:href=\"#DejaVuSans-97\"/>\n       <use x=\"1684.326172\" xlink:href=\"#DejaVuSans-114\"/>\n       <use x=\"1723.189453\" xlink:href=\"#DejaVuSans-101\"/>\n       <use x=\"1784.712891\" xlink:href=\"#DejaVuSans-44\"/>\n       <use x=\"1816.5\" xlink:href=\"#DejaVuSans-32\"/>\n       <use x=\"1848.287109\" xlink:href=\"#DejaVuSans-97\"/>\n       <use x=\"1909.566406\" xlink:href=\"#DejaVuSans-110\"/>\n       <use x=\"1972.945312\" xlink:href=\"#DejaVuSans-100\"/>\n       <use x=\"2036.421875\" xlink:href=\"#DejaVuSans-32\"/>\n       <use x=\"2068.208984\" xlink:href=\"#DejaVuSans-115\"/>\n       <use x=\"2120.308594\" xlink:href=\"#DejaVuSans-111\"/>\n       <use x=\"2181.490234\" xlink:href=\"#DejaVuSans-99\"/>\n       <use x=\"2236.470703\" xlink:href=\"#DejaVuSans-105\"/>\n       <use x=\"2264.253906\" xlink:href=\"#DejaVuSans-97\"/>\n       <use x=\"2325.533203\" xlink:href=\"#DejaVuSans-108\"/>\n       <use x=\"2353.316406\" xlink:href=\"#DejaVuSans-32\"/>\n       <use x=\"2385.103516\" xlink:href=\"#DejaVuSans-97\"/>\n       <use x=\"2446.382812\" xlink:href=\"#DejaVuSans-115\"/>\n       <use x=\"2498.482422\" xlink:href=\"#DejaVuSans-115\"/>\n       <use x=\"2550.582031\" xlink:href=\"#DejaVuSans-105\"/>\n       <use x=\"2578.365234\" xlink:href=\"#DejaVuSans-115\"/>\n       <use x=\"2630.464844\" xlink:href=\"#DejaVuSans-116\"/>\n       <use x=\"2669.673828\" xlink:href=\"#DejaVuSans-97\"/>\n       <use x=\"2730.953125\" xlink:href=\"#DejaVuSans-110\"/>\n       <use x=\"2794.332031\" xlink:href=\"#DejaVuSans-99\"/>\n       <use x=\"2849.3125\" xlink:href=\"#DejaVuSans-101\"/>\n      </g>\n     </g>\n    </g>\n    <g id=\"xtick_20\">\n     <g id=\"line2d_20\">\n      <g>\n       <use style=\"stroke:#000000;stroke-width:0.8;\" x=\"521.710776\" xlink:href=\"#mafcee03cdb\" y=\"438.12\"/>\n      </g>\n     </g>\n     <g id=\"text_20\">\n      <!--       Educational services -->\n      <g transform=\"translate(524.470151 567.090312)rotate(-90)scale(0.1 -0.1)\">\n       <use xlink:href=\"#DejaVuSans-32\"/>\n       <use x=\"31.787109\" xlink:href=\"#DejaVuSans-32\"/>\n       <use x=\"63.574219\" xlink:href=\"#DejaVuSans-32\"/>\n       <use x=\"95.361328\" xlink:href=\"#DejaVuSans-32\"/>\n       <use x=\"127.148438\" xlink:href=\"#DejaVuSans-32\"/>\n       <use x=\"158.935547\" xlink:href=\"#DejaVuSans-32\"/>\n       <use x=\"190.722656\" xlink:href=\"#DejaVuSans-69\"/>\n       <use x=\"253.90625\" xlink:href=\"#DejaVuSans-100\"/>\n       <use x=\"317.382812\" xlink:href=\"#DejaVuSans-117\"/>\n       <use x=\"380.761719\" xlink:href=\"#DejaVuSans-99\"/>\n       <use x=\"435.742188\" xlink:href=\"#DejaVuSans-97\"/>\n       <use x=\"497.021484\" xlink:href=\"#DejaVuSans-116\"/>\n       <use x=\"536.230469\" xlink:href=\"#DejaVuSans-105\"/>\n       <use x=\"564.013672\" xlink:href=\"#DejaVuSans-111\"/>\n       <use x=\"625.195312\" xlink:href=\"#DejaVuSans-110\"/>\n       <use x=\"688.574219\" xlink:href=\"#DejaVuSans-97\"/>\n       <use x=\"749.853516\" xlink:href=\"#DejaVuSans-108\"/>\n       <use x=\"777.636719\" xlink:href=\"#DejaVuSans-32\"/>\n       <use x=\"809.423828\" xlink:href=\"#DejaVuSans-115\"/>\n       <use x=\"861.523438\" xlink:href=\"#DejaVuSans-101\"/>\n       <use x=\"923.046875\" xlink:href=\"#DejaVuSans-114\"/>\n       <use x=\"964.160156\" xlink:href=\"#DejaVuSans-118\"/>\n       <use x=\"1023.339844\" xlink:href=\"#DejaVuSans-105\"/>\n       <use x=\"1051.123047\" xlink:href=\"#DejaVuSans-99\"/>\n       <use x=\"1106.103516\" xlink:href=\"#DejaVuSans-101\"/>\n       <use x=\"1167.626953\" xlink:href=\"#DejaVuSans-115\"/>\n      </g>\n     </g>\n    </g>\n    <g id=\"xtick_21\">\n     <g id=\"line2d_21\">\n      <g>\n       <use style=\"stroke:#000000;stroke-width:0.8;\" x=\"544.800431\" xlink:href=\"#mafcee03cdb\" y=\"438.12\"/>\n      </g>\n     </g>\n     <g id=\"text_21\">\n      <!--       Health care and social assistance -->\n      <g transform=\"translate(547.559806 631.30125)rotate(-90)scale(0.1 -0.1)\">\n       <defs>\n        <path d=\"M 9.8125 72.90625 \nL 19.671875 72.90625 \nL 19.671875 43.015625 \nL 55.515625 43.015625 \nL 55.515625 72.90625 \nL 65.375 72.90625 \nL 65.375 0 \nL 55.515625 0 \nL 55.515625 34.71875 \nL 19.671875 34.71875 \nL 19.671875 0 \nL 9.8125 0 \nz\n\" id=\"DejaVuSans-72\"/>\n       </defs>\n       <use xlink:href=\"#DejaVuSans-32\"/>\n       <use x=\"31.787109\" xlink:href=\"#DejaVuSans-32\"/>\n       <use x=\"63.574219\" xlink:href=\"#DejaVuSans-32\"/>\n       <use x=\"95.361328\" xlink:href=\"#DejaVuSans-32\"/>\n       <use x=\"127.148438\" xlink:href=\"#DejaVuSans-32\"/>\n       <use x=\"158.935547\" xlink:href=\"#DejaVuSans-32\"/>\n       <use x=\"190.722656\" xlink:href=\"#DejaVuSans-72\"/>\n       <use x=\"265.917969\" xlink:href=\"#DejaVuSans-101\"/>\n       <use x=\"327.441406\" xlink:href=\"#DejaVuSans-97\"/>\n       <use x=\"388.720703\" xlink:href=\"#DejaVuSans-108\"/>\n       <use x=\"416.503906\" xlink:href=\"#DejaVuSans-116\"/>\n       <use x=\"455.712891\" xlink:href=\"#DejaVuSans-104\"/>\n       <use x=\"519.091797\" xlink:href=\"#DejaVuSans-32\"/>\n       <use x=\"550.878906\" xlink:href=\"#DejaVuSans-99\"/>\n       <use x=\"605.859375\" xlink:href=\"#DejaVuSans-97\"/>\n       <use x=\"667.138672\" xlink:href=\"#DejaVuSans-114\"/>\n       <use x=\"706.001953\" xlink:href=\"#DejaVuSans-101\"/>\n       <use x=\"767.525391\" xlink:href=\"#DejaVuSans-32\"/>\n       <use x=\"799.3125\" xlink:href=\"#DejaVuSans-97\"/>\n       <use x=\"860.591797\" xlink:href=\"#DejaVuSans-110\"/>\n       <use x=\"923.970703\" xlink:href=\"#DejaVuSans-100\"/>\n       <use x=\"987.447266\" xlink:href=\"#DejaVuSans-32\"/>\n       <use x=\"1019.234375\" xlink:href=\"#DejaVuSans-115\"/>\n       <use x=\"1071.333984\" xlink:href=\"#DejaVuSans-111\"/>\n       <use x=\"1132.515625\" xlink:href=\"#DejaVuSans-99\"/>\n       <use x=\"1187.496094\" xlink:href=\"#DejaVuSans-105\"/>\n       <use x=\"1215.279297\" xlink:href=\"#DejaVuSans-97\"/>\n       <use x=\"1276.558594\" xlink:href=\"#DejaVuSans-108\"/>\n       <use x=\"1304.341797\" xlink:href=\"#DejaVuSans-32\"/>\n       <use x=\"1336.128906\" xlink:href=\"#DejaVuSans-97\"/>\n       <use x=\"1397.408203\" xlink:href=\"#DejaVuSans-115\"/>\n       <use x=\"1449.507812\" xlink:href=\"#DejaVuSans-115\"/>\n       <use x=\"1501.607422\" xlink:href=\"#DejaVuSans-105\"/>\n       <use x=\"1529.390625\" xlink:href=\"#DejaVuSans-115\"/>\n       <use x=\"1581.490234\" xlink:href=\"#DejaVuSans-116\"/>\n       <use x=\"1620.699219\" xlink:href=\"#DejaVuSans-97\"/>\n       <use x=\"1681.978516\" xlink:href=\"#DejaVuSans-110\"/>\n       <use x=\"1745.357422\" xlink:href=\"#DejaVuSans-99\"/>\n       <use x=\"1800.337891\" xlink:href=\"#DejaVuSans-101\"/>\n      </g>\n     </g>\n    </g>\n    <g id=\"xtick_22\">\n     <g id=\"line2d_22\">\n      <g>\n       <use style=\"stroke:#000000;stroke-width:0.8;\" x=\"567.890086\" xlink:href=\"#mafcee03cdb\" y=\"438.12\"/>\n      </g>\n     </g>\n     <g id=\"text_22\">\n      <!--     Arts, entertainment, recreation, accommodation, and food services -->\n      <g transform=\"translate(570.649461 794.971562)rotate(-90)scale(0.1 -0.1)\">\n       <use xlink:href=\"#DejaVuSans-32\"/>\n       <use x=\"31.787109\" xlink:href=\"#DejaVuSans-32\"/>\n       <use x=\"63.574219\" xlink:href=\"#DejaVuSans-32\"/>\n       <use x=\"95.361328\" xlink:href=\"#DejaVuSans-32\"/>\n       <use x=\"127.148438\" xlink:href=\"#DejaVuSans-65\"/>\n       <use x=\"195.556641\" xlink:href=\"#DejaVuSans-114\"/>\n       <use x=\"236.669922\" xlink:href=\"#DejaVuSans-116\"/>\n       <use x=\"275.878906\" xlink:href=\"#DejaVuSans-115\"/>\n       <use x=\"327.978516\" xlink:href=\"#DejaVuSans-44\"/>\n       <use x=\"359.765625\" xlink:href=\"#DejaVuSans-32\"/>\n       <use x=\"391.552734\" xlink:href=\"#DejaVuSans-101\"/>\n       <use x=\"453.076172\" xlink:href=\"#DejaVuSans-110\"/>\n       <use x=\"516.455078\" xlink:href=\"#DejaVuSans-116\"/>\n       <use x=\"555.664062\" xlink:href=\"#DejaVuSans-101\"/>\n       <use x=\"617.1875\" xlink:href=\"#DejaVuSans-114\"/>\n       <use x=\"658.300781\" xlink:href=\"#DejaVuSans-116\"/>\n       <use x=\"697.509766\" xlink:href=\"#DejaVuSans-97\"/>\n       <use x=\"758.789062\" xlink:href=\"#DejaVuSans-105\"/>\n       <use x=\"786.572266\" xlink:href=\"#DejaVuSans-110\"/>\n       <use x=\"849.951172\" xlink:href=\"#DejaVuSans-109\"/>\n       <use x=\"947.363281\" xlink:href=\"#DejaVuSans-101\"/>\n       <use x=\"1008.886719\" xlink:href=\"#DejaVuSans-110\"/>\n       <use x=\"1072.265625\" xlink:href=\"#DejaVuSans-116\"/>\n       <use x=\"1111.474609\" xlink:href=\"#DejaVuSans-44\"/>\n       <use x=\"1143.261719\" xlink:href=\"#DejaVuSans-32\"/>\n       <use x=\"1175.048828\" xlink:href=\"#DejaVuSans-114\"/>\n       <use x=\"1213.912109\" xlink:href=\"#DejaVuSans-101\"/>\n       <use x=\"1275.435547\" xlink:href=\"#DejaVuSans-99\"/>\n       <use x=\"1330.416016\" xlink:href=\"#DejaVuSans-114\"/>\n       <use x=\"1369.279297\" xlink:href=\"#DejaVuSans-101\"/>\n       <use x=\"1430.802734\" xlink:href=\"#DejaVuSans-97\"/>\n       <use x=\"1492.082031\" xlink:href=\"#DejaVuSans-116\"/>\n       <use x=\"1531.291016\" xlink:href=\"#DejaVuSans-105\"/>\n       <use x=\"1559.074219\" xlink:href=\"#DejaVuSans-111\"/>\n       <use x=\"1620.255859\" xlink:href=\"#DejaVuSans-110\"/>\n       <use x=\"1683.634766\" xlink:href=\"#DejaVuSans-44\"/>\n       <use x=\"1715.421875\" xlink:href=\"#DejaVuSans-32\"/>\n       <use x=\"1747.208984\" xlink:href=\"#DejaVuSans-97\"/>\n       <use x=\"1808.488281\" xlink:href=\"#DejaVuSans-99\"/>\n       <use x=\"1863.46875\" xlink:href=\"#DejaVuSans-99\"/>\n       <use x=\"1918.449219\" xlink:href=\"#DejaVuSans-111\"/>\n       <use x=\"1979.630859\" xlink:href=\"#DejaVuSans-109\"/>\n       <use x=\"2077.042969\" xlink:href=\"#DejaVuSans-109\"/>\n       <use x=\"2174.455078\" xlink:href=\"#DejaVuSans-111\"/>\n       <use x=\"2235.636719\" xlink:href=\"#DejaVuSans-100\"/>\n       <use x=\"2299.113281\" xlink:href=\"#DejaVuSans-97\"/>\n       <use x=\"2360.392578\" xlink:href=\"#DejaVuSans-116\"/>\n       <use x=\"2399.601562\" xlink:href=\"#DejaVuSans-105\"/>\n       <use x=\"2427.384766\" xlink:href=\"#DejaVuSans-111\"/>\n       <use x=\"2488.566406\" xlink:href=\"#DejaVuSans-110\"/>\n       <use x=\"2551.945312\" xlink:href=\"#DejaVuSans-44\"/>\n       <use x=\"2583.732422\" xlink:href=\"#DejaVuSans-32\"/>\n       <use x=\"2615.519531\" xlink:href=\"#DejaVuSans-97\"/>\n       <use x=\"2676.798828\" xlink:href=\"#DejaVuSans-110\"/>\n       <use x=\"2740.177734\" xlink:href=\"#DejaVuSans-100\"/>\n       <use x=\"2803.654297\" xlink:href=\"#DejaVuSans-32\"/>\n       <use x=\"2835.441406\" xlink:href=\"#DejaVuSans-102\"/>\n       <use x=\"2870.646484\" xlink:href=\"#DejaVuSans-111\"/>\n       <use x=\"2931.828125\" xlink:href=\"#DejaVuSans-111\"/>\n       <use x=\"2993.009766\" xlink:href=\"#DejaVuSans-100\"/>\n       <use x=\"3056.486328\" xlink:href=\"#DejaVuSans-32\"/>\n       <use x=\"3088.273438\" xlink:href=\"#DejaVuSans-115\"/>\n       <use x=\"3140.373047\" xlink:href=\"#DejaVuSans-101\"/>\n       <use x=\"3201.896484\" xlink:href=\"#DejaVuSans-114\"/>\n       <use x=\"3243.009766\" xlink:href=\"#DejaVuSans-118\"/>\n       <use x=\"3302.189453\" xlink:href=\"#DejaVuSans-105\"/>\n       <use x=\"3329.972656\" xlink:href=\"#DejaVuSans-99\"/>\n       <use x=\"3384.953125\" xlink:href=\"#DejaVuSans-101\"/>\n       <use x=\"3446.476562\" xlink:href=\"#DejaVuSans-115\"/>\n      </g>\n     </g>\n    </g>\n    <g id=\"xtick_23\">\n     <g id=\"line2d_23\">\n      <g>\n       <use style=\"stroke:#000000;stroke-width:0.8;\" x=\"590.979741\" xlink:href=\"#mafcee03cdb\" y=\"438.12\"/>\n      </g>\n     </g>\n     <g id=\"text_23\">\n      <!--       Arts, entertainment, and recreation -->\n      <g transform=\"translate(593.739116 641.824687)rotate(-90)scale(0.1 -0.1)\">\n       <use xlink:href=\"#DejaVuSans-32\"/>\n       <use x=\"31.787109\" xlink:href=\"#DejaVuSans-32\"/>\n       <use x=\"63.574219\" xlink:href=\"#DejaVuSans-32\"/>\n       <use x=\"95.361328\" xlink:href=\"#DejaVuSans-32\"/>\n       <use x=\"127.148438\" xlink:href=\"#DejaVuSans-32\"/>\n       <use x=\"158.935547\" xlink:href=\"#DejaVuSans-32\"/>\n       <use x=\"190.722656\" xlink:href=\"#DejaVuSans-65\"/>\n       <use x=\"259.130859\" xlink:href=\"#DejaVuSans-114\"/>\n       <use x=\"300.244141\" xlink:href=\"#DejaVuSans-116\"/>\n       <use x=\"339.453125\" xlink:href=\"#DejaVuSans-115\"/>\n       <use x=\"391.552734\" xlink:href=\"#DejaVuSans-44\"/>\n       <use x=\"423.339844\" xlink:href=\"#DejaVuSans-32\"/>\n       <use x=\"455.126953\" xlink:href=\"#DejaVuSans-101\"/>\n       <use x=\"516.650391\" xlink:href=\"#DejaVuSans-110\"/>\n       <use x=\"580.029297\" xlink:href=\"#DejaVuSans-116\"/>\n       <use x=\"619.238281\" xlink:href=\"#DejaVuSans-101\"/>\n       <use x=\"680.761719\" xlink:href=\"#DejaVuSans-114\"/>\n       <use x=\"721.875\" xlink:href=\"#DejaVuSans-116\"/>\n       <use x=\"761.083984\" xlink:href=\"#DejaVuSans-97\"/>\n       <use x=\"822.363281\" xlink:href=\"#DejaVuSans-105\"/>\n       <use x=\"850.146484\" xlink:href=\"#DejaVuSans-110\"/>\n       <use x=\"913.525391\" xlink:href=\"#DejaVuSans-109\"/>\n       <use x=\"1010.9375\" xlink:href=\"#DejaVuSans-101\"/>\n       <use x=\"1072.460938\" xlink:href=\"#DejaVuSans-110\"/>\n       <use x=\"1135.839844\" xlink:href=\"#DejaVuSans-116\"/>\n       <use x=\"1175.048828\" xlink:href=\"#DejaVuSans-44\"/>\n       <use x=\"1206.835938\" xlink:href=\"#DejaVuSans-32\"/>\n       <use x=\"1238.623047\" xlink:href=\"#DejaVuSans-97\"/>\n       <use x=\"1299.902344\" xlink:href=\"#DejaVuSans-110\"/>\n       <use x=\"1363.28125\" xlink:href=\"#DejaVuSans-100\"/>\n       <use x=\"1426.757812\" xlink:href=\"#DejaVuSans-32\"/>\n       <use x=\"1458.544922\" xlink:href=\"#DejaVuSans-114\"/>\n       <use x=\"1497.408203\" xlink:href=\"#DejaVuSans-101\"/>\n       <use x=\"1558.931641\" xlink:href=\"#DejaVuSans-99\"/>\n       <use x=\"1613.912109\" xlink:href=\"#DejaVuSans-114\"/>\n       <use x=\"1652.775391\" xlink:href=\"#DejaVuSans-101\"/>\n       <use x=\"1714.298828\" xlink:href=\"#DejaVuSans-97\"/>\n       <use x=\"1775.578125\" xlink:href=\"#DejaVuSans-116\"/>\n       <use x=\"1814.787109\" xlink:href=\"#DejaVuSans-105\"/>\n       <use x=\"1842.570312\" xlink:href=\"#DejaVuSans-111\"/>\n       <use x=\"1903.751953\" xlink:href=\"#DejaVuSans-110\"/>\n      </g>\n     </g>\n    </g>\n    <g id=\"xtick_24\">\n     <g id=\"line2d_24\">\n      <g>\n       <use style=\"stroke:#000000;stroke-width:0.8;\" x=\"614.069397\" xlink:href=\"#mafcee03cdb\" y=\"438.12\"/>\n      </g>\n     </g>\n     <g id=\"text_24\">\n      <!--       Accommodation and food services -->\n      <g transform=\"translate(616.828772 636.687187)rotate(-90)scale(0.1 -0.1)\">\n       <use xlink:href=\"#DejaVuSans-32\"/>\n       <use x=\"31.787109\" xlink:href=\"#DejaVuSans-32\"/>\n       <use x=\"63.574219\" xlink:href=\"#DejaVuSans-32\"/>\n       <use x=\"95.361328\" xlink:href=\"#DejaVuSans-32\"/>\n       <use x=\"127.148438\" xlink:href=\"#DejaVuSans-32\"/>\n       <use x=\"158.935547\" xlink:href=\"#DejaVuSans-32\"/>\n       <use x=\"190.722656\" xlink:href=\"#DejaVuSans-65\"/>\n       <use x=\"257.380859\" xlink:href=\"#DejaVuSans-99\"/>\n       <use x=\"312.361328\" xlink:href=\"#DejaVuSans-99\"/>\n       <use x=\"367.341797\" xlink:href=\"#DejaVuSans-111\"/>\n       <use x=\"428.523438\" xlink:href=\"#DejaVuSans-109\"/>\n       <use x=\"525.935547\" xlink:href=\"#DejaVuSans-109\"/>\n       <use x=\"623.347656\" xlink:href=\"#DejaVuSans-111\"/>\n       <use x=\"684.529297\" xlink:href=\"#DejaVuSans-100\"/>\n       <use x=\"748.005859\" xlink:href=\"#DejaVuSans-97\"/>\n       <use x=\"809.285156\" xlink:href=\"#DejaVuSans-116\"/>\n       <use x=\"848.494141\" xlink:href=\"#DejaVuSans-105\"/>\n       <use x=\"876.277344\" xlink:href=\"#DejaVuSans-111\"/>\n       <use x=\"937.458984\" xlink:href=\"#DejaVuSans-110\"/>\n       <use x=\"1000.837891\" xlink:href=\"#DejaVuSans-32\"/>\n       <use x=\"1032.625\" xlink:href=\"#DejaVuSans-97\"/>\n       <use x=\"1093.904297\" xlink:href=\"#DejaVuSans-110\"/>\n       <use x=\"1157.283203\" xlink:href=\"#DejaVuSans-100\"/>\n       <use x=\"1220.759766\" xlink:href=\"#DejaVuSans-32\"/>\n       <use x=\"1252.546875\" xlink:href=\"#DejaVuSans-102\"/>\n       <use x=\"1287.751953\" xlink:href=\"#DejaVuSans-111\"/>\n       <use x=\"1348.933594\" xlink:href=\"#DejaVuSans-111\"/>\n       <use x=\"1410.115234\" xlink:href=\"#DejaVuSans-100\"/>\n       <use x=\"1473.591797\" xlink:href=\"#DejaVuSans-32\"/>\n       <use x=\"1505.378906\" xlink:href=\"#DejaVuSans-115\"/>\n       <use x=\"1557.478516\" xlink:href=\"#DejaVuSans-101\"/>\n       <use x=\"1619.001953\" xlink:href=\"#DejaVuSans-114\"/>\n       <use x=\"1660.115234\" xlink:href=\"#DejaVuSans-118\"/>\n       <use x=\"1719.294922\" xlink:href=\"#DejaVuSans-105\"/>\n       <use x=\"1747.078125\" xlink:href=\"#DejaVuSans-99\"/>\n       <use x=\"1802.058594\" xlink:href=\"#DejaVuSans-101\"/>\n       <use x=\"1863.582031\" xlink:href=\"#DejaVuSans-115\"/>\n      </g>\n     </g>\n    </g>\n    <g id=\"xtick_25\">\n     <g id=\"line2d_25\">\n      <g>\n       <use style=\"stroke:#000000;stroke-width:0.8;\" x=\"637.159052\" xlink:href=\"#mafcee03cdb\" y=\"438.12\"/>\n      </g>\n     </g>\n     <g id=\"text_25\">\n      <!--     Other services (except government and government enterprises) -->\n      <g transform=\"translate(639.918427 784.998125)rotate(-90)scale(0.1 -0.1)\">\n       <defs>\n        <path d=\"M 39.40625 66.21875 \nQ 28.65625 66.21875 22.328125 58.203125 \nQ 16.015625 50.203125 16.015625 36.375 \nQ 16.015625 22.609375 22.328125 14.59375 \nQ 28.65625 6.59375 39.40625 6.59375 \nQ 50.140625 6.59375 56.421875 14.59375 \nQ 62.703125 22.609375 62.703125 36.375 \nQ 62.703125 50.203125 56.421875 58.203125 \nQ 50.140625 66.21875 39.40625 66.21875 \nz\nM 39.40625 74.21875 \nQ 54.734375 74.21875 63.90625 63.9375 \nQ 73.09375 53.65625 73.09375 36.375 \nQ 73.09375 19.140625 63.90625 8.859375 \nQ 54.734375 -1.421875 39.40625 -1.421875 \nQ 24.03125 -1.421875 14.8125 8.828125 \nQ 5.609375 19.09375 5.609375 36.375 \nQ 5.609375 53.65625 14.8125 63.9375 \nQ 24.03125 74.21875 39.40625 74.21875 \nz\n\" id=\"DejaVuSans-79\"/>\n        <path d=\"M 31 75.875 \nQ 24.46875 64.65625 21.28125 53.65625 \nQ 18.109375 42.671875 18.109375 31.390625 \nQ 18.109375 20.125 21.3125 9.0625 \nQ 24.515625 -2 31 -13.1875 \nL 23.1875 -13.1875 \nQ 15.875 -1.703125 12.234375 9.375 \nQ 8.59375 20.453125 8.59375 31.390625 \nQ 8.59375 42.28125 12.203125 53.3125 \nQ 15.828125 64.359375 23.1875 75.875 \nz\n\" id=\"DejaVuSans-40\"/>\n        <path d=\"M 8.015625 75.875 \nL 15.828125 75.875 \nQ 23.140625 64.359375 26.78125 53.3125 \nQ 30.421875 42.28125 30.421875 31.390625 \nQ 30.421875 20.453125 26.78125 9.375 \nQ 23.140625 -1.703125 15.828125 -13.1875 \nL 8.015625 -13.1875 \nQ 14.5 -2 17.703125 9.0625 \nQ 20.90625 20.125 20.90625 31.390625 \nQ 20.90625 42.671875 17.703125 53.65625 \nQ 14.5 64.65625 8.015625 75.875 \nz\n\" id=\"DejaVuSans-41\"/>\n       </defs>\n       <use xlink:href=\"#DejaVuSans-32\"/>\n       <use x=\"31.787109\" xlink:href=\"#DejaVuSans-32\"/>\n       <use x=\"63.574219\" xlink:href=\"#DejaVuSans-32\"/>\n       <use x=\"95.361328\" xlink:href=\"#DejaVuSans-32\"/>\n       <use x=\"127.148438\" xlink:href=\"#DejaVuSans-79\"/>\n       <use x=\"205.859375\" xlink:href=\"#DejaVuSans-116\"/>\n       <use x=\"245.068359\" xlink:href=\"#DejaVuSans-104\"/>\n       <use x=\"308.447266\" xlink:href=\"#DejaVuSans-101\"/>\n       <use x=\"369.970703\" xlink:href=\"#DejaVuSans-114\"/>\n       <use x=\"411.083984\" xlink:href=\"#DejaVuSans-32\"/>\n       <use x=\"442.871094\" xlink:href=\"#DejaVuSans-115\"/>\n       <use x=\"494.970703\" xlink:href=\"#DejaVuSans-101\"/>\n       <use x=\"556.494141\" xlink:href=\"#DejaVuSans-114\"/>\n       <use x=\"597.607422\" xlink:href=\"#DejaVuSans-118\"/>\n       <use x=\"656.787109\" xlink:href=\"#DejaVuSans-105\"/>\n       <use x=\"684.570312\" xlink:href=\"#DejaVuSans-99\"/>\n       <use x=\"739.550781\" xlink:href=\"#DejaVuSans-101\"/>\n       <use x=\"801.074219\" xlink:href=\"#DejaVuSans-115\"/>\n       <use x=\"853.173828\" xlink:href=\"#DejaVuSans-32\"/>\n       <use x=\"884.960938\" xlink:href=\"#DejaVuSans-40\"/>\n       <use x=\"923.974609\" xlink:href=\"#DejaVuSans-101\"/>\n       <use x=\"983.748047\" xlink:href=\"#DejaVuSans-120\"/>\n       <use x=\"1041.177734\" xlink:href=\"#DejaVuSans-99\"/>\n       <use x=\"1096.158203\" xlink:href=\"#DejaVuSans-101\"/>\n       <use x=\"1157.681641\" xlink:href=\"#DejaVuSans-112\"/>\n       <use x=\"1221.158203\" xlink:href=\"#DejaVuSans-116\"/>\n       <use x=\"1260.367188\" xlink:href=\"#DejaVuSans-32\"/>\n       <use x=\"1292.154297\" xlink:href=\"#DejaVuSans-103\"/>\n       <use x=\"1355.630859\" xlink:href=\"#DejaVuSans-111\"/>\n       <use x=\"1416.8125\" xlink:href=\"#DejaVuSans-118\"/>\n       <use x=\"1475.992188\" xlink:href=\"#DejaVuSans-101\"/>\n       <use x=\"1537.515625\" xlink:href=\"#DejaVuSans-114\"/>\n       <use x=\"1576.878906\" xlink:href=\"#DejaVuSans-110\"/>\n       <use x=\"1640.257812\" xlink:href=\"#DejaVuSans-109\"/>\n       <use x=\"1737.669922\" xlink:href=\"#DejaVuSans-101\"/>\n       <use x=\"1799.193359\" xlink:href=\"#DejaVuSans-110\"/>\n       <use x=\"1862.572266\" xlink:href=\"#DejaVuSans-116\"/>\n       <use x=\"1901.78125\" xlink:href=\"#DejaVuSans-32\"/>\n       <use x=\"1933.568359\" xlink:href=\"#DejaVuSans-97\"/>\n       <use x=\"1994.847656\" xlink:href=\"#DejaVuSans-110\"/>\n       <use x=\"2058.226562\" xlink:href=\"#DejaVuSans-100\"/>\n       <use x=\"2121.703125\" xlink:href=\"#DejaVuSans-32\"/>\n       <use x=\"2153.490234\" xlink:href=\"#DejaVuSans-103\"/>\n       <use x=\"2216.966797\" xlink:href=\"#DejaVuSans-111\"/>\n       <use x=\"2278.148438\" xlink:href=\"#DejaVuSans-118\"/>\n       <use x=\"2337.328125\" xlink:href=\"#DejaVuSans-101\"/>\n       <use x=\"2398.851562\" xlink:href=\"#DejaVuSans-114\"/>\n       <use x=\"2438.214844\" xlink:href=\"#DejaVuSans-110\"/>\n       <use x=\"2501.59375\" xlink:href=\"#DejaVuSans-109\"/>\n       <use x=\"2599.005859\" xlink:href=\"#DejaVuSans-101\"/>\n       <use x=\"2660.529297\" xlink:href=\"#DejaVuSans-110\"/>\n       <use x=\"2723.908203\" xlink:href=\"#DejaVuSans-116\"/>\n       <use x=\"2763.117188\" xlink:href=\"#DejaVuSans-32\"/>\n       <use x=\"2794.904297\" xlink:href=\"#DejaVuSans-101\"/>\n       <use x=\"2856.427734\" xlink:href=\"#DejaVuSans-110\"/>\n       <use x=\"2919.806641\" xlink:href=\"#DejaVuSans-116\"/>\n       <use x=\"2959.015625\" xlink:href=\"#DejaVuSans-101\"/>\n       <use x=\"3020.539062\" xlink:href=\"#DejaVuSans-114\"/>\n       <use x=\"3061.652344\" xlink:href=\"#DejaVuSans-112\"/>\n       <use x=\"3125.128906\" xlink:href=\"#DejaVuSans-114\"/>\n       <use x=\"3166.242188\" xlink:href=\"#DejaVuSans-105\"/>\n       <use x=\"3194.025391\" xlink:href=\"#DejaVuSans-115\"/>\n       <use x=\"3246.125\" xlink:href=\"#DejaVuSans-101\"/>\n       <use x=\"3307.648438\" xlink:href=\"#DejaVuSans-115\"/>\n       <use x=\"3359.748047\" xlink:href=\"#DejaVuSans-41\"/>\n      </g>\n     </g>\n    </g>\n    <g id=\"xtick_26\">\n     <g id=\"line2d_26\">\n      <g>\n       <use style=\"stroke:#000000;stroke-width:0.8;\" x=\"660.248707\" xlink:href=\"#mafcee03cdb\" y=\"438.12\"/>\n      </g>\n     </g>\n     <g id=\"text_26\">\n      <!-- Government and government enterprises -->\n      <g transform=\"translate(663.008082 653.280937)rotate(-90)scale(0.1 -0.1)\">\n       <defs>\n        <path d=\"M 59.515625 10.40625 \nL 59.515625 29.984375 \nL 43.40625 29.984375 \nL 43.40625 38.09375 \nL 69.28125 38.09375 \nL 69.28125 6.78125 \nQ 63.578125 2.734375 56.6875 0.65625 \nQ 49.8125 -1.421875 42 -1.421875 \nQ 24.90625 -1.421875 15.25 8.5625 \nQ 5.609375 18.5625 5.609375 36.375 \nQ 5.609375 54.25 15.25 64.234375 \nQ 24.90625 74.21875 42 74.21875 \nQ 49.125 74.21875 55.546875 72.453125 \nQ 61.96875 70.703125 67.390625 67.28125 \nL 67.390625 56.78125 \nQ 61.921875 61.421875 55.765625 63.765625 \nQ 49.609375 66.109375 42.828125 66.109375 \nQ 29.4375 66.109375 22.71875 58.640625 \nQ 16.015625 51.171875 16.015625 36.375 \nQ 16.015625 21.625 22.71875 14.15625 \nQ 29.4375 6.6875 42.828125 6.6875 \nQ 48.046875 6.6875 52.140625 7.59375 \nQ 56.25 8.5 59.515625 10.40625 \nz\n\" id=\"DejaVuSans-71\"/>\n       </defs>\n       <use xlink:href=\"#DejaVuSans-71\"/>\n       <use x=\"77.490234\" xlink:href=\"#DejaVuSans-111\"/>\n       <use x=\"138.671875\" xlink:href=\"#DejaVuSans-118\"/>\n       <use x=\"197.851562\" xlink:href=\"#DejaVuSans-101\"/>\n       <use x=\"259.375\" xlink:href=\"#DejaVuSans-114\"/>\n       <use x=\"298.738281\" xlink:href=\"#DejaVuSans-110\"/>\n       <use x=\"362.117188\" xlink:href=\"#DejaVuSans-109\"/>\n       <use x=\"459.529297\" xlink:href=\"#DejaVuSans-101\"/>\n       <use x=\"521.052734\" xlink:href=\"#DejaVuSans-110\"/>\n       <use x=\"584.431641\" xlink:href=\"#DejaVuSans-116\"/>\n       <use x=\"623.640625\" xlink:href=\"#DejaVuSans-32\"/>\n       <use x=\"655.427734\" xlink:href=\"#DejaVuSans-97\"/>\n       <use x=\"716.707031\" xlink:href=\"#DejaVuSans-110\"/>\n       <use x=\"780.085938\" xlink:href=\"#DejaVuSans-100\"/>\n       <use x=\"843.5625\" xlink:href=\"#DejaVuSans-32\"/>\n       <use x=\"875.349609\" xlink:href=\"#DejaVuSans-103\"/>\n       <use x=\"938.826172\" xlink:href=\"#DejaVuSans-111\"/>\n       <use x=\"1000.007812\" xlink:href=\"#DejaVuSans-118\"/>\n       <use x=\"1059.1875\" xlink:href=\"#DejaVuSans-101\"/>\n       <use x=\"1120.710938\" xlink:href=\"#DejaVuSans-114\"/>\n       <use x=\"1160.074219\" xlink:href=\"#DejaVuSans-110\"/>\n       <use x=\"1223.453125\" xlink:href=\"#DejaVuSans-109\"/>\n       <use x=\"1320.865234\" xlink:href=\"#DejaVuSans-101\"/>\n       <use x=\"1382.388672\" xlink:href=\"#DejaVuSans-110\"/>\n       <use x=\"1445.767578\" xlink:href=\"#DejaVuSans-116\"/>\n       <use x=\"1484.976562\" xlink:href=\"#DejaVuSans-32\"/>\n       <use x=\"1516.763672\" xlink:href=\"#DejaVuSans-101\"/>\n       <use x=\"1578.287109\" xlink:href=\"#DejaVuSans-110\"/>\n       <use x=\"1641.666016\" xlink:href=\"#DejaVuSans-116\"/>\n       <use x=\"1680.875\" xlink:href=\"#DejaVuSans-101\"/>\n       <use x=\"1742.398438\" xlink:href=\"#DejaVuSans-114\"/>\n       <use x=\"1783.511719\" xlink:href=\"#DejaVuSans-112\"/>\n       <use x=\"1846.988281\" xlink:href=\"#DejaVuSans-114\"/>\n       <use x=\"1888.101562\" xlink:href=\"#DejaVuSans-105\"/>\n       <use x=\"1915.884766\" xlink:href=\"#DejaVuSans-115\"/>\n       <use x=\"1967.984375\" xlink:href=\"#DejaVuSans-101\"/>\n       <use x=\"2029.507812\" xlink:href=\"#DejaVuSans-115\"/>\n      </g>\n     </g>\n    </g>\n    <g id=\"xtick_27\">\n     <g id=\"line2d_27\">\n      <g>\n       <use style=\"stroke:#000000;stroke-width:0.8;\" x=\"683.338362\" xlink:href=\"#mafcee03cdb\" y=\"438.12\"/>\n      </g>\n     </g>\n     <g id=\"text_27\">\n      <!-- Natural resources and mining -->\n      <g transform=\"translate(686.097737 593.124687)rotate(-90)scale(0.1 -0.1)\">\n       <use xlink:href=\"#DejaVuSans-78\"/>\n       <use x=\"74.804688\" xlink:href=\"#DejaVuSans-97\"/>\n       <use x=\"136.083984\" xlink:href=\"#DejaVuSans-116\"/>\n       <use x=\"175.292969\" xlink:href=\"#DejaVuSans-117\"/>\n       <use x=\"238.671875\" xlink:href=\"#DejaVuSans-114\"/>\n       <use x=\"279.785156\" xlink:href=\"#DejaVuSans-97\"/>\n       <use x=\"341.064453\" xlink:href=\"#DejaVuSans-108\"/>\n       <use x=\"368.847656\" xlink:href=\"#DejaVuSans-32\"/>\n       <use x=\"400.634766\" xlink:href=\"#DejaVuSans-114\"/>\n       <use x=\"439.498047\" xlink:href=\"#DejaVuSans-101\"/>\n       <use x=\"501.021484\" xlink:href=\"#DejaVuSans-115\"/>\n       <use x=\"553.121094\" xlink:href=\"#DejaVuSans-111\"/>\n       <use x=\"614.302734\" xlink:href=\"#DejaVuSans-117\"/>\n       <use x=\"677.681641\" xlink:href=\"#DejaVuSans-114\"/>\n       <use x=\"716.544922\" xlink:href=\"#DejaVuSans-99\"/>\n       <use x=\"771.525391\" xlink:href=\"#DejaVuSans-101\"/>\n       <use x=\"833.048828\" xlink:href=\"#DejaVuSans-115\"/>\n       <use x=\"885.148438\" xlink:href=\"#DejaVuSans-32\"/>\n       <use x=\"916.935547\" xlink:href=\"#DejaVuSans-97\"/>\n       <use x=\"978.214844\" xlink:href=\"#DejaVuSans-110\"/>\n       <use x=\"1041.59375\" xlink:href=\"#DejaVuSans-100\"/>\n       <use x=\"1105.070312\" xlink:href=\"#DejaVuSans-32\"/>\n       <use x=\"1136.857422\" xlink:href=\"#DejaVuSans-109\"/>\n       <use x=\"1234.269531\" xlink:href=\"#DejaVuSans-105\"/>\n       <use x=\"1262.052734\" xlink:href=\"#DejaVuSans-110\"/>\n       <use x=\"1325.431641\" xlink:href=\"#DejaVuSans-105\"/>\n       <use x=\"1353.214844\" xlink:href=\"#DejaVuSans-110\"/>\n       <use x=\"1416.59375\" xlink:href=\"#DejaVuSans-103\"/>\n      </g>\n     </g>\n    </g>\n    <g id=\"xtick_28\">\n     <g id=\"line2d_28\">\n      <g>\n       <use style=\"stroke:#000000;stroke-width:0.8;\" x=\"706.428017\" xlink:href=\"#mafcee03cdb\" y=\"438.12\"/>\n      </g>\n     </g>\n     <g id=\"text_28\">\n      <!-- Trade -->\n      <g transform=\"translate(709.187392 472.493437)rotate(-90)scale(0.1 -0.1)\">\n       <use xlink:href=\"#DejaVuSans-84\"/>\n       <use x=\"46.333984\" xlink:href=\"#DejaVuSans-114\"/>\n       <use x=\"87.447266\" xlink:href=\"#DejaVuSans-97\"/>\n       <use x=\"148.726562\" xlink:href=\"#DejaVuSans-100\"/>\n       <use x=\"212.203125\" xlink:href=\"#DejaVuSans-101\"/>\n      </g>\n     </g>\n    </g>\n    <g id=\"xtick_29\">\n     <g id=\"line2d_29\">\n      <g>\n       <use style=\"stroke:#000000;stroke-width:0.8;\" x=\"729.517672\" xlink:href=\"#mafcee03cdb\" y=\"438.12\"/>\n      </g>\n     </g>\n     <g id=\"text_29\">\n      <!-- Transportation and utilities -->\n      <g transform=\"translate(732.277047 579.143437)rotate(-90)scale(0.1 -0.1)\">\n       <use xlink:href=\"#DejaVuSans-84\"/>\n       <use x=\"46.333984\" xlink:href=\"#DejaVuSans-114\"/>\n       <use x=\"87.447266\" xlink:href=\"#DejaVuSans-97\"/>\n       <use x=\"148.726562\" xlink:href=\"#DejaVuSans-110\"/>\n       <use x=\"212.105469\" xlink:href=\"#DejaVuSans-115\"/>\n       <use x=\"264.205078\" xlink:href=\"#DejaVuSans-112\"/>\n       <use x=\"327.681641\" xlink:href=\"#DejaVuSans-111\"/>\n       <use x=\"388.863281\" xlink:href=\"#DejaVuSans-114\"/>\n       <use x=\"429.976562\" xlink:href=\"#DejaVuSans-116\"/>\n       <use x=\"469.185547\" xlink:href=\"#DejaVuSans-97\"/>\n       <use x=\"530.464844\" xlink:href=\"#DejaVuSans-116\"/>\n       <use x=\"569.673828\" xlink:href=\"#DejaVuSans-105\"/>\n       <use x=\"597.457031\" xlink:href=\"#DejaVuSans-111\"/>\n       <use x=\"658.638672\" xlink:href=\"#DejaVuSans-110\"/>\n       <use x=\"722.017578\" xlink:href=\"#DejaVuSans-32\"/>\n       <use x=\"753.804688\" xlink:href=\"#DejaVuSans-97\"/>\n       <use x=\"815.083984\" xlink:href=\"#DejaVuSans-110\"/>\n       <use x=\"878.462891\" xlink:href=\"#DejaVuSans-100\"/>\n       <use x=\"941.939453\" xlink:href=\"#DejaVuSans-32\"/>\n       <use x=\"973.726562\" xlink:href=\"#DejaVuSans-117\"/>\n       <use x=\"1037.105469\" xlink:href=\"#DejaVuSans-116\"/>\n       <use x=\"1076.314453\" xlink:href=\"#DejaVuSans-105\"/>\n       <use x=\"1104.097656\" xlink:href=\"#DejaVuSans-108\"/>\n       <use x=\"1131.880859\" xlink:href=\"#DejaVuSans-105\"/>\n       <use x=\"1159.664062\" xlink:href=\"#DejaVuSans-116\"/>\n       <use x=\"1198.873047\" xlink:href=\"#DejaVuSans-105\"/>\n       <use x=\"1226.65625\" xlink:href=\"#DejaVuSans-101\"/>\n       <use x=\"1288.179688\" xlink:href=\"#DejaVuSans-115\"/>\n      </g>\n     </g>\n    </g>\n   </g>\n   <g id=\"matplotlib.axis_2\">\n    <g id=\"ytick_1\">\n     <g id=\"line2d_30\">\n      <defs>\n       <path d=\"M 0 0 \nL -3.5 0 \n\" id=\"m2236ab0d4b\" style=\"stroke:#000000;stroke-width:0.8;\"/>\n      </defs>\n      <g>\n       <use style=\"stroke:#000000;stroke-width:0.8;\" x=\"71.4625\" xlink:href=\"#m2236ab0d4b\" y=\"438.12\"/>\n      </g>\n     </g>\n     <g id=\"text_30\">\n      <!-- 0 -->\n      <g transform=\"translate(58.1 441.919219)scale(0.1 -0.1)\">\n       <defs>\n        <path d=\"M 31.78125 66.40625 \nQ 24.171875 66.40625 20.328125 58.90625 \nQ 16.5 51.421875 16.5 36.375 \nQ 16.5 21.390625 20.328125 13.890625 \nQ 24.171875 6.390625 31.78125 6.390625 \nQ 39.453125 6.390625 43.28125 13.890625 \nQ 47.125 21.390625 47.125 36.375 \nQ 47.125 51.421875 43.28125 58.90625 \nQ 39.453125 66.40625 31.78125 66.40625 \nz\nM 31.78125 74.21875 \nQ 44.046875 74.21875 50.515625 64.515625 \nQ 56.984375 54.828125 56.984375 36.375 \nQ 56.984375 17.96875 50.515625 8.265625 \nQ 44.046875 -1.421875 31.78125 -1.421875 \nQ 19.53125 -1.421875 13.0625 8.265625 \nQ 6.59375 17.96875 6.59375 36.375 \nQ 6.59375 54.828125 13.0625 64.515625 \nQ 19.53125 74.21875 31.78125 74.21875 \nz\n\" id=\"DejaVuSans-48\"/>\n       </defs>\n       <use xlink:href=\"#DejaVuSans-48\"/>\n      </g>\n     </g>\n    </g>\n    <g id=\"ytick_2\">\n     <g id=\"line2d_31\">\n      <g>\n       <use style=\"stroke:#000000;stroke-width:0.8;\" x=\"71.4625\" xlink:href=\"#m2236ab0d4b\" y=\"367.068761\"/>\n      </g>\n     </g>\n     <g id=\"text_31\">\n      <!-- 100000000 -->\n      <g transform=\"translate(7.2 370.86798)scale(0.1 -0.1)\">\n       <defs>\n        <path d=\"M 12.40625 8.296875 \nL 28.515625 8.296875 \nL 28.515625 63.921875 \nL 10.984375 60.40625 \nL 10.984375 69.390625 \nL 28.421875 72.90625 \nL 38.28125 72.90625 \nL 38.28125 8.296875 \nL 54.390625 8.296875 \nL 54.390625 0 \nL 12.40625 0 \nz\n\" id=\"DejaVuSans-49\"/>\n       </defs>\n       <use xlink:href=\"#DejaVuSans-49\"/>\n       <use x=\"63.623047\" xlink:href=\"#DejaVuSans-48\"/>\n       <use x=\"127.246094\" xlink:href=\"#DejaVuSans-48\"/>\n       <use x=\"190.869141\" xlink:href=\"#DejaVuSans-48\"/>\n       <use x=\"254.492188\" xlink:href=\"#DejaVuSans-48\"/>\n       <use x=\"318.115234\" xlink:href=\"#DejaVuSans-48\"/>\n       <use x=\"381.738281\" xlink:href=\"#DejaVuSans-48\"/>\n       <use x=\"445.361328\" xlink:href=\"#DejaVuSans-48\"/>\n       <use x=\"508.984375\" xlink:href=\"#DejaVuSans-48\"/>\n      </g>\n     </g>\n    </g>\n    <g id=\"ytick_3\">\n     <g id=\"line2d_32\">\n      <g>\n       <use style=\"stroke:#000000;stroke-width:0.8;\" x=\"71.4625\" xlink:href=\"#m2236ab0d4b\" y=\"296.017522\"/>\n      </g>\n     </g>\n     <g id=\"text_32\">\n      <!-- 200000000 -->\n      <g transform=\"translate(7.2 299.81674)scale(0.1 -0.1)\">\n       <defs>\n        <path d=\"M 19.1875 8.296875 \nL 53.609375 8.296875 \nL 53.609375 0 \nL 7.328125 0 \nL 7.328125 8.296875 \nQ 12.9375 14.109375 22.625 23.890625 \nQ 32.328125 33.6875 34.8125 36.53125 \nQ 39.546875 41.84375 41.421875 45.53125 \nQ 43.3125 49.21875 43.3125 52.78125 \nQ 43.3125 58.59375 39.234375 62.25 \nQ 35.15625 65.921875 28.609375 65.921875 \nQ 23.96875 65.921875 18.8125 64.3125 \nQ 13.671875 62.703125 7.8125 59.421875 \nL 7.8125 69.390625 \nQ 13.765625 71.78125 18.9375 73 \nQ 24.125 74.21875 28.421875 74.21875 \nQ 39.75 74.21875 46.484375 68.546875 \nQ 53.21875 62.890625 53.21875 53.421875 \nQ 53.21875 48.921875 51.53125 44.890625 \nQ 49.859375 40.875 45.40625 35.40625 \nQ 44.1875 33.984375 37.640625 27.21875 \nQ 31.109375 20.453125 19.1875 8.296875 \nz\n\" id=\"DejaVuSans-50\"/>\n       </defs>\n       <use xlink:href=\"#DejaVuSans-50\"/>\n       <use x=\"63.623047\" xlink:href=\"#DejaVuSans-48\"/>\n       <use x=\"127.246094\" xlink:href=\"#DejaVuSans-48\"/>\n       <use x=\"190.869141\" xlink:href=\"#DejaVuSans-48\"/>\n       <use x=\"254.492188\" xlink:href=\"#DejaVuSans-48\"/>\n       <use x=\"318.115234\" xlink:href=\"#DejaVuSans-48\"/>\n       <use x=\"381.738281\" xlink:href=\"#DejaVuSans-48\"/>\n       <use x=\"445.361328\" xlink:href=\"#DejaVuSans-48\"/>\n       <use x=\"508.984375\" xlink:href=\"#DejaVuSans-48\"/>\n      </g>\n     </g>\n    </g>\n    <g id=\"ytick_4\">\n     <g id=\"line2d_33\">\n      <g>\n       <use style=\"stroke:#000000;stroke-width:0.8;\" x=\"71.4625\" xlink:href=\"#m2236ab0d4b\" y=\"224.966283\"/>\n      </g>\n     </g>\n     <g id=\"text_33\">\n      <!-- 300000000 -->\n      <g transform=\"translate(7.2 228.765501)scale(0.1 -0.1)\">\n       <defs>\n        <path d=\"M 40.578125 39.3125 \nQ 47.65625 37.796875 51.625 33 \nQ 55.609375 28.21875 55.609375 21.1875 \nQ 55.609375 10.40625 48.1875 4.484375 \nQ 40.765625 -1.421875 27.09375 -1.421875 \nQ 22.515625 -1.421875 17.65625 -0.515625 \nQ 12.796875 0.390625 7.625 2.203125 \nL 7.625 11.71875 \nQ 11.71875 9.328125 16.59375 8.109375 \nQ 21.484375 6.890625 26.8125 6.890625 \nQ 36.078125 6.890625 40.9375 10.546875 \nQ 45.796875 14.203125 45.796875 21.1875 \nQ 45.796875 27.640625 41.28125 31.265625 \nQ 36.765625 34.90625 28.71875 34.90625 \nL 20.21875 34.90625 \nL 20.21875 43.015625 \nL 29.109375 43.015625 \nQ 36.375 43.015625 40.234375 45.921875 \nQ 44.09375 48.828125 44.09375 54.296875 \nQ 44.09375 59.90625 40.109375 62.90625 \nQ 36.140625 65.921875 28.71875 65.921875 \nQ 24.65625 65.921875 20.015625 65.03125 \nQ 15.375 64.15625 9.8125 62.3125 \nL 9.8125 71.09375 \nQ 15.4375 72.65625 20.34375 73.4375 \nQ 25.25 74.21875 29.59375 74.21875 \nQ 40.828125 74.21875 47.359375 69.109375 \nQ 53.90625 64.015625 53.90625 55.328125 \nQ 53.90625 49.265625 50.4375 45.09375 \nQ 46.96875 40.921875 40.578125 39.3125 \nz\n\" id=\"DejaVuSans-51\"/>\n       </defs>\n       <use xlink:href=\"#DejaVuSans-51\"/>\n       <use x=\"63.623047\" xlink:href=\"#DejaVuSans-48\"/>\n       <use x=\"127.246094\" xlink:href=\"#DejaVuSans-48\"/>\n       <use x=\"190.869141\" xlink:href=\"#DejaVuSans-48\"/>\n       <use x=\"254.492188\" xlink:href=\"#DejaVuSans-48\"/>\n       <use x=\"318.115234\" xlink:href=\"#DejaVuSans-48\"/>\n       <use x=\"381.738281\" xlink:href=\"#DejaVuSans-48\"/>\n       <use x=\"445.361328\" xlink:href=\"#DejaVuSans-48\"/>\n       <use x=\"508.984375\" xlink:href=\"#DejaVuSans-48\"/>\n      </g>\n     </g>\n    </g>\n    <g id=\"ytick_5\">\n     <g id=\"line2d_34\">\n      <g>\n       <use style=\"stroke:#000000;stroke-width:0.8;\" x=\"71.4625\" xlink:href=\"#m2236ab0d4b\" y=\"153.915043\"/>\n      </g>\n     </g>\n     <g id=\"text_34\">\n      <!-- 400000000 -->\n      <g transform=\"translate(7.2 157.714262)scale(0.1 -0.1)\">\n       <defs>\n        <path d=\"M 37.796875 64.3125 \nL 12.890625 25.390625 \nL 37.796875 25.390625 \nz\nM 35.203125 72.90625 \nL 47.609375 72.90625 \nL 47.609375 25.390625 \nL 58.015625 25.390625 \nL 58.015625 17.1875 \nL 47.609375 17.1875 \nL 47.609375 0 \nL 37.796875 0 \nL 37.796875 17.1875 \nL 4.890625 17.1875 \nL 4.890625 26.703125 \nz\n\" id=\"DejaVuSans-52\"/>\n       </defs>\n       <use xlink:href=\"#DejaVuSans-52\"/>\n       <use x=\"63.623047\" xlink:href=\"#DejaVuSans-48\"/>\n       <use x=\"127.246094\" xlink:href=\"#DejaVuSans-48\"/>\n       <use x=\"190.869141\" xlink:href=\"#DejaVuSans-48\"/>\n       <use x=\"254.492188\" xlink:href=\"#DejaVuSans-48\"/>\n       <use x=\"318.115234\" xlink:href=\"#DejaVuSans-48\"/>\n       <use x=\"381.738281\" xlink:href=\"#DejaVuSans-48\"/>\n       <use x=\"445.361328\" xlink:href=\"#DejaVuSans-48\"/>\n       <use x=\"508.984375\" xlink:href=\"#DejaVuSans-48\"/>\n      </g>\n     </g>\n    </g>\n    <g id=\"ytick_6\">\n     <g id=\"line2d_35\">\n      <g>\n       <use style=\"stroke:#000000;stroke-width:0.8;\" x=\"71.4625\" xlink:href=\"#m2236ab0d4b\" y=\"82.863804\"/>\n      </g>\n     </g>\n     <g id=\"text_35\">\n      <!-- 500000000 -->\n      <g transform=\"translate(7.2 86.663023)scale(0.1 -0.1)\">\n       <defs>\n        <path d=\"M 10.796875 72.90625 \nL 49.515625 72.90625 \nL 49.515625 64.59375 \nL 19.828125 64.59375 \nL 19.828125 46.734375 \nQ 21.96875 47.46875 24.109375 47.828125 \nQ 26.265625 48.1875 28.421875 48.1875 \nQ 40.625 48.1875 47.75 41.5 \nQ 54.890625 34.8125 54.890625 23.390625 \nQ 54.890625 11.625 47.5625 5.09375 \nQ 40.234375 -1.421875 26.90625 -1.421875 \nQ 22.3125 -1.421875 17.546875 -0.640625 \nQ 12.796875 0.140625 7.71875 1.703125 \nL 7.71875 11.625 \nQ 12.109375 9.234375 16.796875 8.0625 \nQ 21.484375 6.890625 26.703125 6.890625 \nQ 35.15625 6.890625 40.078125 11.328125 \nQ 45.015625 15.765625 45.015625 23.390625 \nQ 45.015625 31 40.078125 35.4375 \nQ 35.15625 39.890625 26.703125 39.890625 \nQ 22.75 39.890625 18.8125 39.015625 \nQ 14.890625 38.140625 10.796875 36.28125 \nz\n\" id=\"DejaVuSans-53\"/>\n       </defs>\n       <use xlink:href=\"#DejaVuSans-53\"/>\n       <use x=\"63.623047\" xlink:href=\"#DejaVuSans-48\"/>\n       <use x=\"127.246094\" xlink:href=\"#DejaVuSans-48\"/>\n       <use x=\"190.869141\" xlink:href=\"#DejaVuSans-48\"/>\n       <use x=\"254.492188\" xlink:href=\"#DejaVuSans-48\"/>\n       <use x=\"318.115234\" xlink:href=\"#DejaVuSans-48\"/>\n       <use x=\"381.738281\" xlink:href=\"#DejaVuSans-48\"/>\n       <use x=\"445.361328\" xlink:href=\"#DejaVuSans-48\"/>\n       <use x=\"508.984375\" xlink:href=\"#DejaVuSans-48\"/>\n      </g>\n     </g>\n    </g>\n   </g>\n   <g id=\"patch_264\">\n    <path d=\"M 71.4625 438.12 \nL 71.4625 57.6 \n\" style=\"fill:none;stroke:#000000;stroke-linecap:square;stroke-linejoin:miter;stroke-width:0.8;\"/>\n   </g>\n   <g id=\"patch_265\">\n    <path d=\"M 741.0625 438.12 \nL 741.0625 57.6 \n\" style=\"fill:none;stroke:#000000;stroke-linecap:square;stroke-linejoin:miter;stroke-width:0.8;\"/>\n   </g>\n   <g id=\"patch_266\">\n    <path d=\"M 71.4625 438.12 \nL 741.0625 438.12 \n\" style=\"fill:none;stroke:#000000;stroke-linecap:square;stroke-linejoin:miter;stroke-width:0.8;\"/>\n   </g>\n   <g id=\"patch_267\">\n    <path d=\"M 71.4625 57.6 \nL 741.0625 57.6 \n\" style=\"fill:none;stroke:#000000;stroke-linecap:square;stroke-linejoin:miter;stroke-width:0.8;\"/>\n   </g>\n   <g id=\"legend_1\">\n    <g id=\"patch_268\">\n     <path d=\"M 673.109375 212.38125 \nL 734.0625 212.38125 \nQ 736.0625 212.38125 736.0625 210.38125 \nL 736.0625 64.6 \nQ 736.0625 62.6 734.0625 62.6 \nL 673.109375 62.6 \nQ 671.109375 62.6 671.109375 64.6 \nL 671.109375 210.38125 \nQ 671.109375 212.38125 673.109375 212.38125 \nz\n\" style=\"fill:#ffffff;opacity:0.8;stroke:#cccccc;stroke-linejoin:miter;\"/>\n    </g>\n    <g id=\"text_36\">\n     <!-- Description -->\n     <g transform=\"translate(675.109375 74.198437)scale(0.1 -0.1)\">\n      <use xlink:href=\"#DejaVuSans-68\"/>\n      <use x=\"77.001953\" xlink:href=\"#DejaVuSans-101\"/>\n      <use x=\"138.525391\" xlink:href=\"#DejaVuSans-115\"/>\n      <use x=\"190.625\" xlink:href=\"#DejaVuSans-99\"/>\n      <use x=\"245.605469\" xlink:href=\"#DejaVuSans-114\"/>\n      <use x=\"286.71875\" xlink:href=\"#DejaVuSans-105\"/>\n      <use x=\"314.501953\" xlink:href=\"#DejaVuSans-112\"/>\n      <use x=\"377.978516\" xlink:href=\"#DejaVuSans-116\"/>\n      <use x=\"417.1875\" xlink:href=\"#DejaVuSans-105\"/>\n      <use x=\"444.970703\" xlink:href=\"#DejaVuSans-111\"/>\n      <use x=\"506.152344\" xlink:href=\"#DejaVuSans-110\"/>\n     </g>\n    </g>\n    <g id=\"patch_269\">\n     <path d=\"M 676.860937 88.876562 \nL 696.860937 88.876562 \nL 696.860937 81.876562 \nL 676.860937 81.876562 \nz\n\" style=\"fill:#0b0405;\"/>\n    </g>\n    <g id=\"text_37\">\n     <!-- 2010 -->\n     <g transform=\"translate(704.860937 88.876562)scale(0.1 -0.1)\">\n      <use xlink:href=\"#DejaVuSans-50\"/>\n      <use x=\"63.623047\" xlink:href=\"#DejaVuSans-48\"/>\n      <use x=\"127.246094\" xlink:href=\"#DejaVuSans-49\"/>\n      <use x=\"190.869141\" xlink:href=\"#DejaVuSans-48\"/>\n     </g>\n    </g>\n    <g id=\"patch_270\">\n     <path d=\"M 676.860937 103.554688 \nL 696.860937 103.554688 \nL 696.860937 96.554688 \nL 676.860937 96.554688 \nz\n\" style=\"fill:#2b1c35;\"/>\n    </g>\n    <g id=\"text_38\">\n     <!-- 2011 -->\n     <g transform=\"translate(704.860937 103.554688)scale(0.1 -0.1)\">\n      <use xlink:href=\"#DejaVuSans-50\"/>\n      <use x=\"63.623047\" xlink:href=\"#DejaVuSans-48\"/>\n      <use x=\"127.246094\" xlink:href=\"#DejaVuSans-49\"/>\n      <use x=\"190.869141\" xlink:href=\"#DejaVuSans-49\"/>\n     </g>\n    </g>\n    <g id=\"patch_271\">\n     <path d=\"M 676.860937 118.232813 \nL 696.860937 118.232813 \nL 696.860937 111.232813 \nL 676.860937 111.232813 \nz\n\" style=\"fill:#3e356b;\"/>\n    </g>\n    <g id=\"text_39\">\n     <!-- 2012 -->\n     <g transform=\"translate(704.860937 118.232813)scale(0.1 -0.1)\">\n      <use xlink:href=\"#DejaVuSans-50\"/>\n      <use x=\"63.623047\" xlink:href=\"#DejaVuSans-48\"/>\n      <use x=\"127.246094\" xlink:href=\"#DejaVuSans-49\"/>\n      <use x=\"190.869141\" xlink:href=\"#DejaVuSans-50\"/>\n     </g>\n    </g>\n    <g id=\"patch_272\">\n     <path d=\"M 676.860937 132.910937 \nL 696.860937 132.910937 \nL 696.860937 125.910937 \nL 676.860937 125.910937 \nz\n\" style=\"fill:#3b5698;\"/>\n    </g>\n    <g id=\"text_40\">\n     <!-- 2013 -->\n     <g transform=\"translate(704.860937 132.910937)scale(0.1 -0.1)\">\n      <use xlink:href=\"#DejaVuSans-50\"/>\n      <use x=\"63.623047\" xlink:href=\"#DejaVuSans-48\"/>\n      <use x=\"127.246094\" xlink:href=\"#DejaVuSans-49\"/>\n      <use x=\"190.869141\" xlink:href=\"#DejaVuSans-51\"/>\n     </g>\n    </g>\n    <g id=\"patch_273\">\n     <path d=\"M 676.860937 147.589062 \nL 696.860937 147.589062 \nL 696.860937 140.589062 \nL 676.860937 140.589062 \nz\n\" style=\"fill:#357ba3;\"/>\n    </g>\n    <g id=\"text_41\">\n     <!-- 2014 -->\n     <g transform=\"translate(704.860937 147.589062)scale(0.1 -0.1)\">\n      <use xlink:href=\"#DejaVuSans-50\"/>\n      <use x=\"63.623047\" xlink:href=\"#DejaVuSans-48\"/>\n      <use x=\"127.246094\" xlink:href=\"#DejaVuSans-49\"/>\n      <use x=\"190.869141\" xlink:href=\"#DejaVuSans-52\"/>\n     </g>\n    </g>\n    <g id=\"patch_274\">\n     <path d=\"M 676.860937 162.267187 \nL 696.860937 162.267187 \nL 696.860937 155.267187 \nL 676.860937 155.267187 \nz\n\" style=\"fill:#359fab;\"/>\n    </g>\n    <g id=\"text_42\">\n     <!-- 2015 -->\n     <g transform=\"translate(704.860937 162.267187)scale(0.1 -0.1)\">\n      <use xlink:href=\"#DejaVuSans-50\"/>\n      <use x=\"63.623047\" xlink:href=\"#DejaVuSans-48\"/>\n      <use x=\"127.246094\" xlink:href=\"#DejaVuSans-49\"/>\n      <use x=\"190.869141\" xlink:href=\"#DejaVuSans-53\"/>\n     </g>\n    </g>\n    <g id=\"patch_275\">\n     <path d=\"M 676.860937 176.945312 \nL 696.860937 176.945312 \nL 696.860937 169.945312 \nL 676.860937 169.945312 \nz\n\" style=\"fill:#4bc2ad;\"/>\n    </g>\n    <g id=\"text_43\">\n     <!-- 2016 -->\n     <g transform=\"translate(704.860937 176.945312)scale(0.1 -0.1)\">\n      <defs>\n       <path d=\"M 33.015625 40.375 \nQ 26.375 40.375 22.484375 35.828125 \nQ 18.609375 31.296875 18.609375 23.390625 \nQ 18.609375 15.53125 22.484375 10.953125 \nQ 26.375 6.390625 33.015625 6.390625 \nQ 39.65625 6.390625 43.53125 10.953125 \nQ 47.40625 15.53125 47.40625 23.390625 \nQ 47.40625 31.296875 43.53125 35.828125 \nQ 39.65625 40.375 33.015625 40.375 \nz\nM 52.59375 71.296875 \nL 52.59375 62.3125 \nQ 48.875 64.0625 45.09375 64.984375 \nQ 41.3125 65.921875 37.59375 65.921875 \nQ 27.828125 65.921875 22.671875 59.328125 \nQ 17.53125 52.734375 16.796875 39.40625 \nQ 19.671875 43.65625 24.015625 45.921875 \nQ 28.375 48.1875 33.59375 48.1875 \nQ 44.578125 48.1875 50.953125 41.515625 \nQ 57.328125 34.859375 57.328125 23.390625 \nQ 57.328125 12.15625 50.6875 5.359375 \nQ 44.046875 -1.421875 33.015625 -1.421875 \nQ 20.359375 -1.421875 13.671875 8.265625 \nQ 6.984375 17.96875 6.984375 36.375 \nQ 6.984375 53.65625 15.1875 63.9375 \nQ 23.390625 74.21875 37.203125 74.21875 \nQ 40.921875 74.21875 44.703125 73.484375 \nQ 48.484375 72.75 52.59375 71.296875 \nz\n\" id=\"DejaVuSans-54\"/>\n      </defs>\n      <use xlink:href=\"#DejaVuSans-50\"/>\n      <use x=\"63.623047\" xlink:href=\"#DejaVuSans-48\"/>\n      <use x=\"127.246094\" xlink:href=\"#DejaVuSans-49\"/>\n      <use x=\"190.869141\" xlink:href=\"#DejaVuSans-54\"/>\n     </g>\n    </g>\n    <g id=\"patch_276\">\n     <path d=\"M 676.860937 191.623438 \nL 696.860937 191.623438 \nL 696.860937 184.623438 \nL 676.860937 184.623438 \nz\n\" style=\"fill:#99ddb6;\"/>\n    </g>\n    <g id=\"text_44\">\n     <!-- 2017 -->\n     <g transform=\"translate(704.860937 191.623438)scale(0.1 -0.1)\">\n      <defs>\n       <path d=\"M 8.203125 72.90625 \nL 55.078125 72.90625 \nL 55.078125 68.703125 \nL 28.609375 0 \nL 18.3125 0 \nL 43.21875 64.59375 \nL 8.203125 64.59375 \nz\n\" id=\"DejaVuSans-55\"/>\n      </defs>\n      <use xlink:href=\"#DejaVuSans-50\"/>\n      <use x=\"63.623047\" xlink:href=\"#DejaVuSans-48\"/>\n      <use x=\"127.246094\" xlink:href=\"#DejaVuSans-49\"/>\n      <use x=\"190.869141\" xlink:href=\"#DejaVuSans-55\"/>\n     </g>\n    </g>\n    <g id=\"patch_277\">\n     <path d=\"M 676.860937 206.301562 \nL 696.860937 206.301562 \nL 696.860937 199.301562 \nL 676.860937 199.301562 \nz\n\" style=\"fill:#def5e5;\"/>\n    </g>\n    <g id=\"text_45\">\n     <!-- 2018 -->\n     <g transform=\"translate(704.860937 206.301562)scale(0.1 -0.1)\">\n      <defs>\n       <path d=\"M 31.78125 34.625 \nQ 24.75 34.625 20.71875 30.859375 \nQ 16.703125 27.09375 16.703125 20.515625 \nQ 16.703125 13.921875 20.71875 10.15625 \nQ 24.75 6.390625 31.78125 6.390625 \nQ 38.8125 6.390625 42.859375 10.171875 \nQ 46.921875 13.96875 46.921875 20.515625 \nQ 46.921875 27.09375 42.890625 30.859375 \nQ 38.875 34.625 31.78125 34.625 \nz\nM 21.921875 38.8125 \nQ 15.578125 40.375 12.03125 44.71875 \nQ 8.5 49.078125 8.5 55.328125 \nQ 8.5 64.0625 14.71875 69.140625 \nQ 20.953125 74.21875 31.78125 74.21875 \nQ 42.671875 74.21875 48.875 69.140625 \nQ 55.078125 64.0625 55.078125 55.328125 \nQ 55.078125 49.078125 51.53125 44.71875 \nQ 48 40.375 41.703125 38.8125 \nQ 48.828125 37.15625 52.796875 32.3125 \nQ 56.78125 27.484375 56.78125 20.515625 \nQ 56.78125 9.90625 50.3125 4.234375 \nQ 43.84375 -1.421875 31.78125 -1.421875 \nQ 19.734375 -1.421875 13.25 4.234375 \nQ 6.78125 9.90625 6.78125 20.515625 \nQ 6.78125 27.484375 10.78125 32.3125 \nQ 14.796875 37.15625 21.921875 38.8125 \nz\nM 18.3125 54.390625 \nQ 18.3125 48.734375 21.84375 45.5625 \nQ 25.390625 42.390625 31.78125 42.390625 \nQ 38.140625 42.390625 41.71875 45.5625 \nQ 45.3125 48.734375 45.3125 54.390625 \nQ 45.3125 60.0625 41.71875 63.234375 \nQ 38.140625 66.40625 31.78125 66.40625 \nQ 25.390625 66.40625 21.84375 63.234375 \nQ 18.3125 60.0625 18.3125 54.390625 \nz\n\" id=\"DejaVuSans-56\"/>\n      </defs>\n      <use xlink:href=\"#DejaVuSans-50\"/>\n      <use x=\"63.623047\" xlink:href=\"#DejaVuSans-48\"/>\n      <use x=\"127.246094\" xlink:href=\"#DejaVuSans-49\"/>\n      <use x=\"190.869141\" xlink:href=\"#DejaVuSans-56\"/>\n     </g>\n    </g>\n   </g>\n  </g>\n  <g id=\"text_46\">\n   <!-- Colorado Gross Domestic Product by Industry -->\n   <g transform=\"translate(241.210937 16.318125)scale(0.12 -0.12)\">\n    <defs>\n     <path d=\"M 67 4 \nQ 61.8125 1.3125 56.203125 -0.046875 \nQ 50.59375 -1.421875 44.484375 -1.421875 \nQ 26.265625 -1.421875 15.625 8.765625 \nQ 4.984375 18.953125 4.984375 36.375 \nQ 4.984375 53.859375 15.625 64.03125 \nQ 26.265625 74.21875 44.484375 74.21875 \nQ 50.59375 74.21875 56.203125 72.84375 \nQ 61.8125 71.484375 67 68.796875 \nL 67 53.71875 \nQ 61.765625 57.28125 56.6875 58.9375 \nQ 51.609375 60.59375 46 60.59375 \nQ 35.9375 60.59375 30.171875 54.140625 \nQ 24.421875 47.703125 24.421875 36.375 \nQ 24.421875 25.09375 30.171875 18.640625 \nQ 35.9375 12.203125 46 12.203125 \nQ 51.609375 12.203125 56.6875 13.859375 \nQ 61.765625 15.53125 67 19.09375 \nz\n\" id=\"DejaVuSans-Bold-67\"/>\n     <path d=\"M 34.421875 43.5 \nQ 28.609375 43.5 25.5625 39.328125 \nQ 22.515625 35.15625 22.515625 27.296875 \nQ 22.515625 19.4375 25.5625 15.25 \nQ 28.609375 11.078125 34.421875 11.078125 \nQ 40.140625 11.078125 43.15625 15.25 \nQ 46.1875 19.4375 46.1875 27.296875 \nQ 46.1875 35.15625 43.15625 39.328125 \nQ 40.140625 43.5 34.421875 43.5 \nz\nM 34.421875 56 \nQ 48.53125 56 56.46875 48.375 \nQ 64.40625 40.765625 64.40625 27.296875 \nQ 64.40625 13.8125 56.46875 6.1875 \nQ 48.53125 -1.421875 34.421875 -1.421875 \nQ 20.265625 -1.421875 12.28125 6.1875 \nQ 4.296875 13.8125 4.296875 27.296875 \nQ 4.296875 40.765625 12.28125 48.375 \nQ 20.265625 56 34.421875 56 \nz\n\" id=\"DejaVuSans-Bold-111\"/>\n     <path d=\"M 8.40625 75.984375 \nL 25.875 75.984375 \nL 25.875 0 \nL 8.40625 0 \nz\n\" id=\"DejaVuSans-Bold-108\"/>\n     <path d=\"M 49.03125 39.796875 \nQ 46.734375 40.875 44.453125 41.375 \nQ 42.1875 41.890625 39.890625 41.890625 \nQ 33.15625 41.890625 29.515625 37.5625 \nQ 25.875 33.25 25.875 25.203125 \nL 25.875 0 \nL 8.40625 0 \nL 8.40625 54.6875 \nL 25.875 54.6875 \nL 25.875 45.703125 \nQ 29.25 51.078125 33.609375 53.53125 \nQ 37.984375 56 44.09375 56 \nQ 44.96875 56 45.984375 55.921875 \nQ 47.015625 55.859375 48.96875 55.609375 \nz\n\" id=\"DejaVuSans-Bold-114\"/>\n     <path d=\"M 32.90625 24.609375 \nQ 27.4375 24.609375 24.671875 22.75 \nQ 21.921875 20.90625 21.921875 17.28125 \nQ 21.921875 13.96875 24.140625 12.078125 \nQ 26.375 10.203125 30.328125 10.203125 \nQ 35.25 10.203125 38.625 13.734375 \nQ 42 17.28125 42 22.609375 \nL 42 24.609375 \nz\nM 59.625 31.203125 \nL 59.625 0 \nL 42 0 \nL 42 8.109375 \nQ 38.484375 3.125 34.078125 0.84375 \nQ 29.6875 -1.421875 23.390625 -1.421875 \nQ 14.890625 -1.421875 9.59375 3.53125 \nQ 4.296875 8.5 4.296875 16.40625 \nQ 4.296875 26.03125 10.90625 30.515625 \nQ 17.53125 35.015625 31.6875 35.015625 \nL 42 35.015625 \nL 42 36.375 \nQ 42 40.53125 38.71875 42.453125 \nQ 35.453125 44.390625 28.515625 44.390625 \nQ 22.90625 44.390625 18.0625 43.265625 \nQ 13.234375 42.140625 9.078125 39.890625 \nL 9.078125 53.21875 \nQ 14.703125 54.59375 20.359375 55.296875 \nQ 26.03125 56 31.6875 56 \nQ 46.484375 56 53.046875 50.171875 \nQ 59.625 44.34375 59.625 31.203125 \nz\n\" id=\"DejaVuSans-Bold-97\"/>\n     <path d=\"M 45.609375 46.6875 \nL 45.609375 75.984375 \nL 63.1875 75.984375 \nL 63.1875 0 \nL 45.609375 0 \nL 45.609375 7.90625 \nQ 42 3.078125 37.640625 0.828125 \nQ 33.296875 -1.421875 27.59375 -1.421875 \nQ 17.484375 -1.421875 10.984375 6.609375 \nQ 4.5 14.65625 4.5 27.296875 \nQ 4.5 39.9375 10.984375 47.96875 \nQ 17.484375 56 27.59375 56 \nQ 33.25 56 37.625 53.734375 \nQ 42 51.46875 45.609375 46.6875 \nz\nM 34.078125 11.28125 \nQ 39.703125 11.28125 42.65625 15.375 \nQ 45.609375 19.484375 45.609375 27.296875 \nQ 45.609375 35.109375 42.65625 39.203125 \nQ 39.703125 43.3125 34.078125 43.3125 \nQ 28.515625 43.3125 25.5625 39.203125 \nQ 22.609375 35.109375 22.609375 27.296875 \nQ 22.609375 19.484375 25.5625 15.375 \nQ 28.515625 11.28125 34.078125 11.28125 \nz\n\" id=\"DejaVuSans-Bold-100\"/>\n     <path id=\"DejaVuSans-Bold-32\"/>\n     <path d=\"M 74.703125 5.421875 \nQ 67.671875 2 60.109375 0.28125 \nQ 52.546875 -1.421875 44.484375 -1.421875 \nQ 26.265625 -1.421875 15.625 8.765625 \nQ 4.984375 18.953125 4.984375 36.375 \nQ 4.984375 54 15.8125 64.109375 \nQ 26.65625 74.21875 45.515625 74.21875 \nQ 52.78125 74.21875 59.4375 72.84375 \nQ 66.109375 71.484375 72.015625 68.796875 \nL 72.015625 53.71875 \nQ 65.921875 57.171875 59.890625 58.875 \nQ 53.859375 60.59375 47.796875 60.59375 \nQ 36.578125 60.59375 30.5 54.3125 \nQ 24.421875 48.046875 24.421875 36.375 \nQ 24.421875 24.8125 30.28125 18.5 \nQ 36.140625 12.203125 46.921875 12.203125 \nQ 49.859375 12.203125 52.375 12.5625 \nQ 54.890625 12.9375 56.890625 13.71875 \nL 56.890625 27.875 \nL 45.40625 27.875 \nL 45.40625 40.484375 \nL 74.703125 40.484375 \nz\n\" id=\"DejaVuSans-Bold-71\"/>\n     <path d=\"M 51.125 52.984375 \nL 51.125 39.703125 \nQ 45.515625 42.046875 40.28125 43.21875 \nQ 35.0625 44.390625 30.421875 44.390625 \nQ 25.4375 44.390625 23.015625 43.140625 \nQ 20.609375 41.890625 20.609375 39.3125 \nQ 20.609375 37.203125 22.4375 36.078125 \nQ 24.265625 34.96875 29 34.421875 \nL 32.078125 33.984375 \nQ 45.515625 32.28125 50.140625 28.375 \nQ 54.78125 24.46875 54.78125 16.109375 \nQ 54.78125 7.375 48.328125 2.96875 \nQ 41.890625 -1.421875 29.109375 -1.421875 \nQ 23.6875 -1.421875 17.890625 -0.5625 \nQ 12.109375 0.296875 6 2 \nL 6 15.28125 \nQ 11.234375 12.75 16.71875 11.46875 \nQ 22.21875 10.203125 27.875 10.203125 \nQ 33.015625 10.203125 35.59375 11.609375 \nQ 38.1875 13.03125 38.1875 15.828125 \nQ 38.1875 18.171875 36.40625 19.3125 \nQ 34.625 20.453125 29.296875 21.09375 \nL 26.21875 21.484375 \nQ 14.546875 22.953125 9.859375 26.90625 \nQ 5.171875 30.859375 5.171875 38.921875 \nQ 5.171875 47.609375 11.125 51.796875 \nQ 17.09375 56 29.390625 56 \nQ 34.234375 56 39.546875 55.265625 \nQ 44.875 54.546875 51.125 52.984375 \nz\n\" id=\"DejaVuSans-Bold-115\"/>\n     <path d=\"M 27.984375 58.6875 \nL 27.984375 14.203125 \nL 34.71875 14.203125 \nQ 46.234375 14.203125 52.3125 19.921875 \nQ 58.40625 25.640625 58.40625 36.53125 \nQ 58.40625 47.359375 52.34375 53.015625 \nQ 46.296875 58.6875 34.71875 58.6875 \nz\nM 9.1875 72.90625 \nL 29 72.90625 \nQ 45.609375 72.90625 53.734375 70.53125 \nQ 61.859375 68.171875 67.671875 62.5 \nQ 72.796875 57.5625 75.28125 51.109375 \nQ 77.78125 44.671875 77.78125 36.53125 \nQ 77.78125 28.265625 75.28125 21.796875 \nQ 72.796875 15.328125 67.671875 10.40625 \nQ 61.8125 4.734375 53.609375 2.359375 \nQ 45.40625 0 29 0 \nL 9.1875 0 \nz\n\" id=\"DejaVuSans-Bold-68\"/>\n     <path d=\"M 59.078125 45.609375 \nQ 62.40625 50.6875 66.96875 53.34375 \nQ 71.53125 56 77 56 \nQ 86.421875 56 91.359375 50.1875 \nQ 96.296875 44.390625 96.296875 33.296875 \nL 96.296875 0 \nL 78.71875 0 \nL 78.71875 28.515625 \nQ 78.765625 29.15625 78.78125 29.828125 \nQ 78.8125 30.515625 78.8125 31.78125 \nQ 78.8125 37.59375 77.09375 40.203125 \nQ 75.390625 42.828125 71.578125 42.828125 \nQ 66.609375 42.828125 63.890625 38.71875 \nQ 61.1875 34.625 61.078125 26.859375 \nL 61.078125 0 \nL 43.5 0 \nL 43.5 28.515625 \nQ 43.5 37.59375 41.9375 40.203125 \nQ 40.375 42.828125 36.375 42.828125 \nQ 31.34375 42.828125 28.609375 38.703125 \nQ 25.875 34.578125 25.875 26.90625 \nL 25.875 0 \nL 8.296875 0 \nL 8.296875 54.6875 \nL 25.875 54.6875 \nL 25.875 46.6875 \nQ 29.109375 51.3125 33.28125 53.65625 \nQ 37.453125 56 42.484375 56 \nQ 48.140625 56 52.484375 53.265625 \nQ 56.84375 50.53125 59.078125 45.609375 \nz\n\" id=\"DejaVuSans-Bold-109\"/>\n     <path d=\"M 62.984375 27.484375 \nL 62.984375 22.515625 \nL 22.125 22.515625 \nQ 22.75 16.359375 26.5625 13.28125 \nQ 30.375 10.203125 37.203125 10.203125 \nQ 42.71875 10.203125 48.5 11.84375 \nQ 54.296875 13.484375 60.40625 16.796875 \nL 60.40625 3.328125 \nQ 54.203125 0.984375 48 -0.21875 \nQ 41.796875 -1.421875 35.59375 -1.421875 \nQ 20.75 -1.421875 12.515625 6.125 \nQ 4.296875 13.671875 4.296875 27.296875 \nQ 4.296875 40.671875 12.375 48.328125 \nQ 20.453125 56 34.625 56 \nQ 47.515625 56 55.25 48.234375 \nQ 62.984375 40.484375 62.984375 27.484375 \nz\nM 45.015625 33.296875 \nQ 45.015625 38.28125 42.109375 41.328125 \nQ 39.203125 44.390625 34.515625 44.390625 \nQ 29.4375 44.390625 26.265625 41.53125 \nQ 23.09375 38.671875 22.3125 33.296875 \nz\n\" id=\"DejaVuSans-Bold-101\"/>\n     <path d=\"M 27.484375 70.21875 \nL 27.484375 54.6875 \nL 45.515625 54.6875 \nL 45.515625 42.1875 \nL 27.484375 42.1875 \nL 27.484375 19 \nQ 27.484375 15.1875 29 13.84375 \nQ 30.515625 12.5 35.015625 12.5 \nL 44 12.5 \nL 44 0 \nL 29 0 \nQ 18.65625 0 14.328125 4.3125 \nQ 10.015625 8.640625 10.015625 19 \nL 10.015625 42.1875 \nL 1.3125 42.1875 \nL 1.3125 54.6875 \nL 10.015625 54.6875 \nL 10.015625 70.21875 \nz\n\" id=\"DejaVuSans-Bold-116\"/>\n     <path d=\"M 8.40625 54.6875 \nL 25.875 54.6875 \nL 25.875 0 \nL 8.40625 0 \nz\nM 8.40625 75.984375 \nL 25.875 75.984375 \nL 25.875 61.71875 \nL 8.40625 61.71875 \nz\n\" id=\"DejaVuSans-Bold-105\"/>\n     <path d=\"M 52.59375 52.984375 \nL 52.59375 38.71875 \nQ 49.03125 41.15625 45.4375 42.328125 \nQ 41.84375 43.5 37.984375 43.5 \nQ 30.671875 43.5 26.59375 39.234375 \nQ 22.515625 34.96875 22.515625 27.296875 \nQ 22.515625 19.625 26.59375 15.34375 \nQ 30.671875 11.078125 37.984375 11.078125 \nQ 42.09375 11.078125 45.78125 12.296875 \nQ 49.46875 13.53125 52.59375 15.921875 \nL 52.59375 1.609375 \nQ 48.484375 0.09375 44.265625 -0.65625 \nQ 40.046875 -1.421875 35.796875 -1.421875 \nQ 21 -1.421875 12.640625 6.171875 \nQ 4.296875 13.765625 4.296875 27.296875 \nQ 4.296875 40.828125 12.640625 48.40625 \nQ 21 56 35.796875 56 \nQ 40.09375 56 44.265625 55.25 \nQ 48.4375 54.5 52.59375 52.984375 \nz\n\" id=\"DejaVuSans-Bold-99\"/>\n     <path d=\"M 9.1875 72.90625 \nL 40.375 72.90625 \nQ 54.296875 72.90625 61.734375 66.71875 \nQ 69.1875 60.546875 69.1875 49.125 \nQ 69.1875 37.640625 61.734375 31.46875 \nQ 54.296875 25.296875 40.375 25.296875 \nL 27.984375 25.296875 \nL 27.984375 0 \nL 9.1875 0 \nz\nM 27.984375 59.28125 \nL 27.984375 38.921875 \nL 38.375 38.921875 \nQ 43.84375 38.921875 46.828125 41.578125 \nQ 49.8125 44.234375 49.8125 49.125 \nQ 49.8125 54 46.828125 56.640625 \nQ 43.84375 59.28125 38.375 59.28125 \nz\n\" id=\"DejaVuSans-Bold-80\"/>\n     <path d=\"M 7.8125 21.296875 \nL 7.8125 54.6875 \nL 25.390625 54.6875 \nL 25.390625 49.21875 \nQ 25.390625 44.78125 25.34375 38.0625 \nQ 25.296875 31.34375 25.296875 29.109375 \nQ 25.296875 22.515625 25.640625 19.609375 \nQ 25.984375 16.703125 26.8125 15.375 \nQ 27.875 13.671875 29.609375 12.734375 \nQ 31.34375 11.8125 33.59375 11.8125 \nQ 39.0625 11.8125 42.1875 16.015625 \nQ 45.3125 20.21875 45.3125 27.6875 \nL 45.3125 54.6875 \nL 62.796875 54.6875 \nL 62.796875 0 \nL 45.3125 0 \nL 45.3125 7.90625 \nQ 41.359375 3.125 36.9375 0.84375 \nQ 32.515625 -1.421875 27.203125 -1.421875 \nQ 17.71875 -1.421875 12.765625 4.390625 \nQ 7.8125 10.203125 7.8125 21.296875 \nz\n\" id=\"DejaVuSans-Bold-117\"/>\n     <path d=\"M 37.5 11.28125 \nQ 43.109375 11.28125 46.0625 15.375 \nQ 49.03125 19.484375 49.03125 27.296875 \nQ 49.03125 35.109375 46.0625 39.203125 \nQ 43.109375 43.3125 37.5 43.3125 \nQ 31.890625 43.3125 28.875 39.1875 \nQ 25.875 35.0625 25.875 27.296875 \nQ 25.875 19.53125 28.875 15.40625 \nQ 31.890625 11.28125 37.5 11.28125 \nz\nM 25.875 46.6875 \nQ 29.5 51.46875 33.890625 53.734375 \nQ 38.28125 56 44 56 \nQ 54.109375 56 60.59375 47.96875 \nQ 67.09375 39.9375 67.09375 27.296875 \nQ 67.09375 14.65625 60.59375 6.609375 \nQ 54.109375 -1.421875 44 -1.421875 \nQ 38.28125 -1.421875 33.890625 0.84375 \nQ 29.5 3.125 25.875 7.90625 \nL 25.875 0 \nL 8.40625 0 \nL 8.40625 75.984375 \nL 25.875 75.984375 \nz\n\" id=\"DejaVuSans-Bold-98\"/>\n     <path d=\"M 1.21875 54.6875 \nL 18.703125 54.6875 \nL 33.40625 17.578125 \nL 45.90625 54.6875 \nL 63.375 54.6875 \nL 40.375 -5.171875 \nQ 36.921875 -14.3125 32.296875 -17.9375 \nQ 27.6875 -21.578125 20.125 -21.578125 \nL 10.015625 -21.578125 \nL 10.015625 -10.109375 \nL 15.484375 -10.109375 \nQ 19.921875 -10.109375 21.9375 -8.6875 \nQ 23.96875 -7.28125 25.09375 -3.609375 \nL 25.59375 -2.09375 \nz\n\" id=\"DejaVuSans-Bold-121\"/>\n     <path d=\"M 9.1875 72.90625 \nL 27.984375 72.90625 \nL 27.984375 0 \nL 9.1875 0 \nz\n\" id=\"DejaVuSans-Bold-73\"/>\n     <path d=\"M 63.375 33.296875 \nL 63.375 0 \nL 45.796875 0 \nL 45.796875 5.421875 \nL 45.796875 25.484375 \nQ 45.796875 32.5625 45.484375 35.25 \nQ 45.171875 37.9375 44.390625 39.203125 \nQ 43.359375 40.921875 41.59375 41.875 \nQ 39.84375 42.828125 37.59375 42.828125 \nQ 32.125 42.828125 29 38.59375 \nQ 25.875 34.375 25.875 26.90625 \nL 25.875 0 \nL 8.40625 0 \nL 8.40625 54.6875 \nL 25.875 54.6875 \nL 25.875 46.6875 \nQ 29.828125 51.46875 34.265625 53.734375 \nQ 38.71875 56 44.09375 56 \nQ 53.5625 56 58.46875 50.1875 \nQ 63.375 44.390625 63.375 33.296875 \nz\n\" id=\"DejaVuSans-Bold-110\"/>\n    </defs>\n    <use xlink:href=\"#DejaVuSans-Bold-67\"/>\n    <use x=\"73.388672\" xlink:href=\"#DejaVuSans-Bold-111\"/>\n    <use x=\"142.089844\" xlink:href=\"#DejaVuSans-Bold-108\"/>\n    <use x=\"176.367188\" xlink:href=\"#DejaVuSans-Bold-111\"/>\n    <use x=\"245.068359\" xlink:href=\"#DejaVuSans-Bold-114\"/>\n    <use x=\"294.384766\" xlink:href=\"#DejaVuSans-Bold-97\"/>\n    <use x=\"361.865234\" xlink:href=\"#DejaVuSans-Bold-100\"/>\n    <use x=\"433.447266\" xlink:href=\"#DejaVuSans-Bold-111\"/>\n    <use x=\"502.148438\" xlink:href=\"#DejaVuSans-Bold-32\"/>\n    <use x=\"536.962891\" xlink:href=\"#DejaVuSans-Bold-71\"/>\n    <use x=\"619.042969\" xlink:href=\"#DejaVuSans-Bold-114\"/>\n    <use x=\"668.359375\" xlink:href=\"#DejaVuSans-Bold-111\"/>\n    <use x=\"737.060547\" xlink:href=\"#DejaVuSans-Bold-115\"/>\n    <use x=\"796.582031\" xlink:href=\"#DejaVuSans-Bold-115\"/>\n    <use x=\"856.103516\" xlink:href=\"#DejaVuSans-Bold-32\"/>\n    <use x=\"890.917969\" xlink:href=\"#DejaVuSans-Bold-68\"/>\n    <use x=\"973.925781\" xlink:href=\"#DejaVuSans-Bold-111\"/>\n    <use x=\"1042.626953\" xlink:href=\"#DejaVuSans-Bold-109\"/>\n    <use x=\"1146.826172\" xlink:href=\"#DejaVuSans-Bold-101\"/>\n    <use x=\"1214.648438\" xlink:href=\"#DejaVuSans-Bold-115\"/>\n    <use x=\"1274.169922\" xlink:href=\"#DejaVuSans-Bold-116\"/>\n    <use x=\"1321.972656\" xlink:href=\"#DejaVuSans-Bold-105\"/>\n    <use x=\"1356.25\" xlink:href=\"#DejaVuSans-Bold-99\"/>\n    <use x=\"1415.527344\" xlink:href=\"#DejaVuSans-Bold-32\"/>\n    <use x=\"1450.341797\" xlink:href=\"#DejaVuSans-Bold-80\"/>\n    <use x=\"1523.632812\" xlink:href=\"#DejaVuSans-Bold-114\"/>\n    <use x=\"1572.949219\" xlink:href=\"#DejaVuSans-Bold-111\"/>\n    <use x=\"1641.650391\" xlink:href=\"#DejaVuSans-Bold-100\"/>\n    <use x=\"1713.232422\" xlink:href=\"#DejaVuSans-Bold-117\"/>\n    <use x=\"1784.423828\" xlink:href=\"#DejaVuSans-Bold-99\"/>\n    <use x=\"1843.701172\" xlink:href=\"#DejaVuSans-Bold-116\"/>\n    <use x=\"1891.503906\" xlink:href=\"#DejaVuSans-Bold-32\"/>\n    <use x=\"1926.318359\" xlink:href=\"#DejaVuSans-Bold-98\"/>\n    <use x=\"1997.900391\" xlink:href=\"#DejaVuSans-Bold-121\"/>\n    <use x=\"2063.085938\" xlink:href=\"#DejaVuSans-Bold-32\"/>\n    <use x=\"2097.900391\" xlink:href=\"#DejaVuSans-Bold-73\"/>\n    <use x=\"2135.107422\" xlink:href=\"#DejaVuSans-Bold-110\"/>\n    <use x=\"2206.298828\" xlink:href=\"#DejaVuSans-Bold-100\"/>\n    <use x=\"2277.880859\" xlink:href=\"#DejaVuSans-Bold-117\"/>\n    <use x=\"2349.072266\" xlink:href=\"#DejaVuSans-Bold-115\"/>\n    <use x=\"2408.59375\" xlink:href=\"#DejaVuSans-Bold-116\"/>\n    <use x=\"2456.396484\" xlink:href=\"#DejaVuSans-Bold-114\"/>\n    <use x=\"2505.712891\" xlink:href=\"#DejaVuSans-Bold-121\"/>\n   </g>\n  </g>\n </g>\n <defs>\n  <clipPath id=\"p62d8ab093b\">\n   <rect height=\"380.52\" width=\"669.6\" x=\"71.4625\" y=\"57.6\"/>\n  </clipPath>\n </defs>\n</svg>\n",
      "image/png": "[encoded data removed]"
     },
     "metadata": {
      "needs_background": "light"
     }
    }
   ],
   "source": [
    "#TOTAL COLORADO GDP BY INDUSTRY\n",
    "#READING DATA\n",
    "DetailedGDP = pd.read_csv(\"../data/cleandata/COGDPDetailed.csv\")\n",
    "DetailedGDP.set_index(\"Description\", inplace=True)\n",
    "#DetailedGDP.head(10)\n",
    "\n",
    "\n",
    "DetailedGDP.T.plot.bar(stacked=True, figsize=(12,7), cmap=\"mako\")\n",
    "plt.suptitle('Colorado Gross Domestic Product by Industry', weight='bold')\n",
    "plt.ticklabel_format(style='plain', axis='y')"
   ]
  },
  {
   "cell_type": "code",
   "execution_count": 106,
   "metadata": {},
   "outputs": [
    {
     "output_type": "display_data",
     "data": {
      "text/plain": "<Figure size 1224x504 with 1 Axes>",
      "image/svg+xml": "<?xml version=\"1.0\" encoding=\"utf-8\" standalone=\"no\"?>\n<!DOCTYPE svg PUBLIC \"-//W3C//DTD SVG 1.1//EN\"\n  \"http://www.w3.org/Graphics/SVG/1.1/DTD/svg11.dtd\">\n<!-- Created with matplotlib (https://matplotlib.org/) -->\n<svg height=\"525.30125pt\" version=\"1.1\" viewBox=\"0 0 1027.2625 525.30125\" width=\"1027.2625pt\" xmlns=\"http://www.w3.org/2000/svg\" xmlns:xlink=\"http://www.w3.org/1999/xlink\">\n <metadata>\n  <rdf:RDF xmlns:cc=\"http://creativecommons.org/ns#\" xmlns:dc=\"http://purl.org/dc/elements/1.1/\" xmlns:rdf=\"http://www.w3.org/1999/02/22-rdf-syntax-ns#\">\n   <cc:Work>\n    <dc:type rdf:resource=\"http://purl.org/dc/dcmitype/StillImage\"/>\n    <dc:date>2020-11-06T09:59:50.983899</dc:date>\n    <dc:format>image/svg+xml</dc:format>\n    <dc:creator>\n     <cc:Agent>\n      <dc:title>Matplotlib v3.3.1, https://matplotlib.org/</dc:title>\n     </cc:Agent>\n    </dc:creator>\n   </cc:Work>\n  </rdf:RDF>\n </metadata>\n <defs>\n  <style type=\"text/css\">*{stroke-linecap:butt;stroke-linejoin:round;}</style>\n </defs>\n <g id=\"figure_1\">\n  <g id=\"patch_1\">\n   <path d=\"M 0 525.30125 \nL 1027.2625 525.30125 \nL 1027.2625 0 \nL 0 0 \nz\n\" style=\"fill:none;\"/>\n  </g>\n  <g id=\"axes_1\">\n   <g id=\"patch_2\">\n    <path d=\"M 71.4625 438.12 \nL 1020.0625 438.12 \nL 1020.0625 57.6 \nL 71.4625 57.6 \nz\n\" style=\"fill:#ffffff;\"/>\n   </g>\n   <g id=\"patch_3\">\n    <path clip-path=\"url(#p78f6205787)\" d=\"M 75.226786 438.12 \nL 82.755357 438.12 \nL 82.755357 437.710747 \nL 75.226786 437.710747 \nz\n\" style=\"fill:#0b0405;\"/>\n   </g>\n   <g id=\"patch_4\">\n    <path clip-path=\"url(#p78f6205787)\" d=\"M 90.283929 438.12 \nL 97.8125 438.12 \nL 97.8125 416.583202 \nL 90.283929 416.583202 \nz\n\" style=\"fill:#0b0405;\"/>\n   </g>\n   <g id=\"patch_5\">\n    <path clip-path=\"url(#p78f6205787)\" d=\"M 105.341071 438.12 \nL 112.869643 438.12 \nL 112.869643 437.851443 \nL 105.341071 437.851443 \nz\n\" style=\"fill:#0b0405;\"/>\n   </g>\n   <g id=\"patch_6\">\n    <path clip-path=\"url(#p78f6205787)\" d=\"M 120.398214 438.12 \nL 127.926786 438.12 \nL 127.926786 437.968834 \nL 120.398214 437.968834 \nz\n\" style=\"fill:#0b0405;\"/>\n   </g>\n   <g id=\"patch_7\">\n    <path clip-path=\"url(#p78f6205787)\" d=\"M 135.455357 438.12 \nL 142.983929 438.12 \nL 142.983929 437.999441 \nL 135.455357 437.999441 \nz\n\" style=\"fill:#0b0405;\"/>\n   </g>\n   <g id=\"patch_8\">\n    <path clip-path=\"url(#p78f6205787)\" d=\"M 150.5125 438.12 \nL 158.041071 438.12 \nL 158.041071 424.503824 \nL 150.5125 424.503824 \nz\n\" style=\"fill:#0b0405;\"/>\n   </g>\n   <g id=\"patch_9\">\n    <path clip-path=\"url(#p78f6205787)\" d=\"M 165.569643 438.12 \nL 173.098214 438.12 \nL 173.098214 434.121189 \nL 165.569643 434.121189 \nz\n\" style=\"fill:#0b0405;\"/>\n   </g>\n   <g id=\"patch_10\">\n    <path clip-path=\"url(#p78f6205787)\" d=\"M 180.626786 438.12 \nL 188.155357 438.12 \nL 188.155357 437.755494 \nL 180.626786 437.755494 \nz\n\" style=\"fill:#0b0405;\"/>\n   </g>\n   <g id=\"patch_11\">\n    <path clip-path=\"url(#p78f6205787)\" d=\"M 195.683929 438.12 \nL 203.2125 438.12 \nL 203.2125 437.934126 \nL 195.683929 437.934126 \nz\n\" style=\"fill:#0b0405;\"/>\n   </g>\n   <g id=\"patch_12\">\n    <path clip-path=\"url(#p78f6205787)\" d=\"M 210.741071 438.12 \nL 218.269643 438.12 \nL 218.269643 437.713011 \nL 210.741071 437.713011 \nz\n\" style=\"fill:#0b0405;\"/>\n   </g>\n   <g id=\"patch_13\">\n    <path clip-path=\"url(#p78f6205787)\" d=\"M 225.798214 438.12 \nL 233.326786 438.12 \nL 233.326786 438.013275 \nL 225.798214 438.013275 \nz\n\" style=\"fill:#0b0405;\"/>\n   </g>\n   <g id=\"patch_14\">\n    <path clip-path=\"url(#p78f6205787)\" d=\"M 240.855357 438.12 \nL 248.383929 438.12 \nL 248.383929 438.062142 \nL 240.855357 438.062142 \nz\n\" style=\"fill:#0b0405;\"/>\n   </g>\n   <g id=\"patch_15\">\n    <path clip-path=\"url(#p78f6205787)\" d=\"M 255.9125 438.12 \nL 263.441071 438.12 \nL 263.441071 438.047516 \nL 255.9125 438.047516 \nz\n\" style=\"fill:#0b0405;\"/>\n   </g>\n   <g id=\"patch_16\">\n    <path clip-path=\"url(#p78f6205787)\" d=\"M 270.969643 438.12 \nL 278.498214 438.12 \nL 278.498214 438.039877 \nL 270.969643 438.039877 \nz\n\" style=\"fill:#0b0405;\"/>\n   </g>\n   <g id=\"patch_17\">\n    <path clip-path=\"url(#p78f6205787)\" d=\"M 286.026786 438.12 \nL 293.555357 438.12 \nL 293.555357 437.589973 \nL 286.026786 437.589973 \nz\n\" style=\"fill:#0b0405;\"/>\n   </g>\n   <g id=\"patch_18\">\n    <path clip-path=\"url(#p78f6205787)\" d=\"M 301.083929 438.12 \nL 308.6125 438.12 \nL 308.6125 403.229007 \nL 301.083929 403.229007 \nz\n\" style=\"fill:#0b0405;\"/>\n   </g>\n   <g id=\"patch_19\">\n    <path clip-path=\"url(#p78f6205787)\" d=\"M 316.141071 438.12 \nL 323.669643 438.12 \nL 323.669643 438.005176 \nL 316.141071 438.005176 \nz\n\" style=\"fill:#0b0405;\"/>\n   </g>\n   <g id=\"patch_20\">\n    <path clip-path=\"url(#p78f6205787)\" d=\"M 331.198214 438.12 \nL 338.726786 438.12 \nL 338.726786 430.791538 \nL 331.198214 430.791538 \nz\n\" style=\"fill:#0b0405;\"/>\n   </g>\n   <g id=\"patch_21\">\n    <path clip-path=\"url(#p78f6205787)\" d=\"M 346.255357 438.12 \nL 353.783929 438.12 \nL 353.783929 436.301974 \nL 346.255357 436.301974 \nz\n\" style=\"fill:#0b0405;\"/>\n   </g>\n   <g id=\"patch_22\">\n    <path clip-path=\"url(#p78f6205787)\" d=\"M 361.3125 438.12 \nL 368.841071 438.12 \nL 368.841071 437.879393 \nL 361.3125 437.879393 \nz\n\" style=\"fill:#0b0405;\"/>\n   </g>\n   <g id=\"patch_23\">\n    <path clip-path=\"url(#p78f6205787)\" d=\"M 376.369643 438.12 \nL 383.898214 438.12 \nL 383.898214 419.452576 \nL 376.369643 419.452576 \nz\n\" style=\"fill:#0b0405;\"/>\n   </g>\n   <g id=\"patch_24\">\n    <path clip-path=\"url(#p78f6205787)\" d=\"M 391.426786 438.12 \nL 398.955357 438.12 \nL 398.955357 437.302328 \nL 391.426786 437.302328 \nz\n\" style=\"fill:#0b0405;\"/>\n   </g>\n   <g id=\"patch_25\">\n    <path clip-path=\"url(#p78f6205787)\" d=\"M 406.483929 438.12 \nL 414.0125 438.12 \nL 414.0125 435.324712 \nL 406.483929 435.324712 \nz\n\" style=\"fill:#0b0405;\"/>\n   </g>\n   <g id=\"patch_26\">\n    <path clip-path=\"url(#p78f6205787)\" d=\"M 421.541071 438.12 \nL 429.069643 438.12 \nL 429.069643 437.697004 \nL 421.541071 437.697004 \nz\n\" style=\"fill:#0b0405;\"/>\n   </g>\n   <g id=\"patch_27\">\n    <path clip-path=\"url(#p78f6205787)\" d=\"M 436.598214 438.12 \nL 444.126786 438.12 \nL 444.126786 437.704299 \nL 436.598214 437.704299 \nz\n\" style=\"fill:#0b0405;\"/>\n   </g>\n   <g id=\"patch_28\">\n    <path clip-path=\"url(#p78f6205787)\" d=\"M 451.655357 438.12 \nL 459.183929 438.12 \nL 459.183929 437.346898 \nL 451.655357 437.346898 \nz\n\" style=\"fill:#0b0405;\"/>\n   </g>\n   <g id=\"patch_29\">\n    <path clip-path=\"url(#p78f6205787)\" d=\"M 466.7125 438.12 \nL 474.241071 438.12 \nL 474.241071 438.089192 \nL 466.7125 438.089192 \nz\n\" style=\"fill:#0b0405;\"/>\n   </g>\n   <g id=\"patch_30\">\n    <path clip-path=\"url(#p78f6205787)\" d=\"M 481.769643 438.12 \nL 489.298214 438.12 \nL 489.298214 437.946229 \nL 481.769643 437.946229 \nz\n\" style=\"fill:#0b0405;\"/>\n   </g>\n   <g id=\"patch_31\">\n    <path clip-path=\"url(#p78f6205787)\" d=\"M 496.826786 438.12 \nL 504.355357 438.12 \nL 504.355357 438.067516 \nL 496.826786 438.067516 \nz\n\" style=\"fill:#0b0405;\"/>\n   </g>\n   <g id=\"patch_32\">\n    <path clip-path=\"url(#p78f6205787)\" d=\"M 511.883929 438.12 \nL 519.4125 438.12 \nL 519.4125 422.141178 \nL 511.883929 422.141178 \nz\n\" style=\"fill:#0b0405;\"/>\n   </g>\n   <g id=\"patch_33\">\n    <path clip-path=\"url(#p78f6205787)\" d=\"M 526.941071 438.12 \nL 534.469643 438.12 \nL 534.469643 438.053305 \nL 526.941071 438.053305 \nz\n\" style=\"fill:#0b0405;\"/>\n   </g>\n   <g id=\"patch_34\">\n    <path clip-path=\"url(#p78f6205787)\" d=\"M 541.998214 438.12 \nL 549.526786 438.12 \nL 549.526786 437.773079 \nL 541.998214 437.773079 \nz\n\" style=\"fill:#0b0405;\"/>\n   </g>\n   <g id=\"patch_35\">\n    <path clip-path=\"url(#p78f6205787)\" d=\"M 557.055357 438.12 \nL 564.583929 438.12 \nL 564.583929 437.995615 \nL 557.055357 437.995615 \nz\n\" style=\"fill:#0b0405;\"/>\n   </g>\n   <g id=\"patch_36\">\n    <path clip-path=\"url(#p78f6205787)\" d=\"M 572.1125 438.12 \nL 579.641071 438.12 \nL 579.641071 435.789121 \nL 572.1125 435.789121 \nz\n\" style=\"fill:#0b0405;\"/>\n   </g>\n   <g id=\"patch_37\">\n    <path clip-path=\"url(#p78f6205787)\" d=\"M 587.169643 438.12 \nL 594.698214 438.12 \nL 594.698214 429.710532 \nL 587.169643 429.710532 \nz\n\" style=\"fill:#0b0405;\"/>\n   </g>\n   <g id=\"patch_38\">\n    <path clip-path=\"url(#p78f6205787)\" d=\"M 602.226786 438.12 \nL 609.755357 438.12 \nL 609.755357 437.584155 \nL 602.226786 437.584155 \nz\n\" style=\"fill:#0b0405;\"/>\n   </g>\n   <g id=\"patch_39\">\n    <path clip-path=\"url(#p78f6205787)\" d=\"M 617.283929 438.12 \nL 624.8125 438.12 \nL 624.8125 437.984237 \nL 617.283929 437.984237 \nz\n\" style=\"fill:#0b0405;\"/>\n   </g>\n   <g id=\"patch_40\">\n    <path clip-path=\"url(#p78f6205787)\" d=\"M 632.341071 438.12 \nL 639.869643 438.12 \nL 639.869643 437.405925 \nL 632.341071 437.405925 \nz\n\" style=\"fill:#0b0405;\"/>\n   </g>\n   <g id=\"patch_41\">\n    <path clip-path=\"url(#p78f6205787)\" d=\"M 647.398214 438.12 \nL 654.926786 438.12 \nL 654.926786 434.357422 \nL 647.398214 434.357422 \nz\n\" style=\"fill:#0b0405;\"/>\n   </g>\n   <g id=\"patch_42\">\n    <path clip-path=\"url(#p78f6205787)\" d=\"M 662.455357 438.12 \nL 669.983929 438.12 \nL 669.983929 438.084989 \nL 662.455357 438.084989 \nz\n\" style=\"fill:#0b0405;\"/>\n   </g>\n   <g id=\"patch_43\">\n    <path clip-path=\"url(#p78f6205787)\" d=\"M 677.5125 438.12 \nL 685.041071 438.12 \nL 685.041071 437.302798 \nL 677.5125 437.302798 \nz\n\" style=\"fill:#0b0405;\"/>\n   </g>\n   <g id=\"patch_44\">\n    <path clip-path=\"url(#p78f6205787)\" d=\"M 692.569643 438.12 \nL 700.098214 438.12 \nL 700.098214 437.260378 \nL 692.569643 437.260378 \nz\n\" style=\"fill:#0b0405;\"/>\n   </g>\n   <g id=\"patch_45\">\n    <path clip-path=\"url(#p78f6205787)\" d=\"M 707.626786 438.12 \nL 715.155357 438.12 \nL 715.155357 437.25441 \nL 707.626786 437.25441 \nz\n\" style=\"fill:#0b0405;\"/>\n   </g>\n   <g id=\"patch_46\">\n    <path clip-path=\"url(#p78f6205787)\" d=\"M 722.683929 438.12 \nL 730.2125 438.12 \nL 730.2125 437.214959 \nL 722.683929 437.214959 \nz\n\" style=\"fill:#0b0405;\"/>\n   </g>\n   <g id=\"patch_47\">\n    <path clip-path=\"url(#p78f6205787)\" d=\"M 737.741071 438.12 \nL 745.269643 438.12 \nL 745.269643 437.740371 \nL 737.741071 437.740371 \nz\n\" style=\"fill:#0b0405;\"/>\n   </g>\n   <g id=\"patch_48\">\n    <path clip-path=\"url(#p78f6205787)\" d=\"M 752.798214 438.12 \nL 760.326786 438.12 \nL 760.326786 438.016322 \nL 752.798214 438.016322 \nz\n\" style=\"fill:#0b0405;\"/>\n   </g>\n   <g id=\"patch_49\">\n    <path clip-path=\"url(#p78f6205787)\" d=\"M 767.855357 438.12 \nL 775.383929 438.12 \nL 775.383929 437.894633 \nL 767.855357 437.894633 \nz\n\" style=\"fill:#0b0405;\"/>\n   </g>\n   <g id=\"patch_50\">\n    <path clip-path=\"url(#p78f6205787)\" d=\"M 782.9125 438.12 \nL 790.441071 438.12 \nL 790.441071 437.961406 \nL 782.9125 437.961406 \nz\n\" style=\"fill:#0b0405;\"/>\n   </g>\n   <g id=\"patch_51\">\n    <path clip-path=\"url(#p78f6205787)\" d=\"M 797.969643 438.12 \nL 805.498214 438.12 \nL 805.498214 437.078931 \nL 797.969643 437.078931 \nz\n\" style=\"fill:#0b0405;\"/>\n   </g>\n   <g id=\"patch_52\">\n    <path clip-path=\"url(#p78f6205787)\" d=\"M 813.026786 438.12 \nL 820.555357 438.12 \nL 820.555357 437.724587 \nL 813.026786 437.724587 \nz\n\" style=\"fill:#0b0405;\"/>\n   </g>\n   <g id=\"patch_53\">\n    <path clip-path=\"url(#p78f6205787)\" d=\"M 828.083929 438.12 \nL 835.6125 438.12 \nL 835.6125 434.6086 \nL 828.083929 434.6086 \nz\n\" style=\"fill:#0b0405;\"/>\n   </g>\n   <g id=\"patch_54\">\n    <path clip-path=\"url(#p78f6205787)\" d=\"M 843.141071 438.12 \nL 850.669643 438.12 \nL 850.669643 437.538616 \nL 843.141071 437.538616 \nz\n\" style=\"fill:#0b0405;\"/>\n   </g>\n   <g id=\"patch_55\">\n    <path clip-path=\"url(#p78f6205787)\" d=\"M 858.198214 438.12 \nL 865.726786 438.12 \nL 865.726786 437.857318 \nL 858.198214 437.857318 \nz\n\" style=\"fill:#0b0405;\"/>\n   </g>\n   <g id=\"patch_56\">\n    <path clip-path=\"url(#p78f6205787)\" d=\"M 873.255357 438.12 \nL 880.783929 438.12 \nL 880.783929 436.844939 \nL 873.255357 436.844939 \nz\n\" style=\"fill:#0b0405;\"/>\n   </g>\n   <g id=\"patch_57\">\n    <path clip-path=\"url(#p78f6205787)\" d=\"M 888.3125 438.12 \nL 895.841071 438.12 \nL 895.841071 438.006989 \nL 888.3125 438.006989 \nz\n\" style=\"fill:#0b0405;\"/>\n   </g>\n   <g id=\"patch_58\">\n    <path clip-path=\"url(#p78f6205787)\" d=\"M 903.369643 438.12 \nL 910.898214 438.12 \nL 910.898214 438.090889 \nL 903.369643 438.090889 \nz\n\" style=\"fill:#0b0405;\"/>\n   </g>\n   <g id=\"patch_59\">\n    <path clip-path=\"url(#p78f6205787)\" d=\"M 918.426786 438.12 \nL 925.955357 438.12 \nL 925.955357 437.793655 \nL 918.426786 437.793655 \nz\n\" style=\"fill:#0b0405;\"/>\n   </g>\n   <g id=\"patch_60\">\n    <path clip-path=\"url(#p78f6205787)\" d=\"M 933.483929 438.12 \nL 941.0125 438.12 \nL 941.0125 438.021269 \nL 933.483929 438.021269 \nz\n\" style=\"fill:#0b0405;\"/>\n   </g>\n   <g id=\"patch_61\">\n    <path clip-path=\"url(#p78f6205787)\" d=\"M 948.541071 438.12 \nL 956.069643 438.12 \nL 956.069643 436.929678 \nL 948.541071 436.929678 \nz\n\" style=\"fill:#0b0405;\"/>\n   </g>\n   <g id=\"patch_62\">\n    <path clip-path=\"url(#p78f6205787)\" d=\"M 963.598214 438.12 \nL 971.126786 438.12 \nL 971.126786 437.596276 \nL 963.598214 437.596276 \nz\n\" style=\"fill:#0b0405;\"/>\n   </g>\n   <g id=\"patch_63\">\n    <path clip-path=\"url(#p78f6205787)\" d=\"M 978.655357 438.12 \nL 986.183929 438.12 \nL 986.183929 437.93739 \nL 978.655357 437.93739 \nz\n\" style=\"fill:#0b0405;\"/>\n   </g>\n   <g id=\"patch_64\">\n    <path clip-path=\"url(#p78f6205787)\" d=\"M 993.7125 438.12 \nL 1001.241071 438.12 \nL 1001.241071 431.142108 \nL 993.7125 431.142108 \nz\n\" style=\"fill:#0b0405;\"/>\n   </g>\n   <g id=\"patch_65\">\n    <path clip-path=\"url(#p78f6205787)\" d=\"M 1008.769643 438.12 \nL 1016.298214 438.12 \nL 1016.298214 437.599508 \nL 1008.769643 437.599508 \nz\n\" style=\"fill:#0b0405;\"/>\n   </g>\n   <g id=\"patch_66\">\n    <path clip-path=\"url(#p78f6205787)\" d=\"M 75.226786 437.710747 \nL 82.755357 437.710747 \nL 82.755357 437.286251 \nL 75.226786 437.286251 \nz\n\" style=\"fill:#2b1c35;\"/>\n   </g>\n   <g id=\"patch_67\">\n    <path clip-path=\"url(#p78f6205787)\" d=\"M 90.283929 416.583202 \nL 97.8125 416.583202 \nL 97.8125 394.288043 \nL 90.283929 394.288043 \nz\n\" style=\"fill:#2b1c35;\"/>\n   </g>\n   <g id=\"patch_68\">\n    <path clip-path=\"url(#p78f6205787)\" d=\"M 105.341071 437.851443 \nL 112.869643 437.851443 \nL 112.869643 437.585574 \nL 105.341071 437.585574 \nz\n\" style=\"fill:#2b1c35;\"/>\n   </g>\n   <g id=\"patch_69\">\n    <path clip-path=\"url(#p78f6205787)\" d=\"M 120.398214 437.968834 \nL 127.926786 437.968834 \nL 127.926786 437.827594 \nL 120.398214 437.827594 \nz\n\" style=\"fill:#2b1c35;\"/>\n   </g>\n   <g id=\"patch_70\">\n    <path clip-path=\"url(#p78f6205787)\" d=\"M 135.455357 437.999441 \nL 142.983929 437.999441 \nL 142.983929 437.875215 \nL 135.455357 437.875215 \nz\n\" style=\"fill:#2b1c35;\"/>\n   </g>\n   <g id=\"patch_71\">\n    <path clip-path=\"url(#p78f6205787)\" d=\"M 150.5125 424.503824 \nL 158.041071 424.503824 \nL 158.041071 410.943622 \nL 150.5125 410.943622 \nz\n\" style=\"fill:#2b1c35;\"/>\n   </g>\n   <g id=\"patch_72\">\n    <path clip-path=\"url(#p78f6205787)\" d=\"M 165.569643 434.121189 \nL 173.098214 434.121189 \nL 173.098214 429.802755 \nL 165.569643 429.802755 \nz\n\" style=\"fill:#2b1c35;\"/>\n   </g>\n   <g id=\"patch_73\">\n    <path clip-path=\"url(#p78f6205787)\" d=\"M 180.626786 437.755494 \nL 188.155357 437.755494 \nL 188.155357 437.389046 \nL 180.626786 437.389046 \nz\n\" style=\"fill:#2b1c35;\"/>\n   </g>\n   <g id=\"patch_74\">\n    <path clip-path=\"url(#p78f6205787)\" d=\"M 195.683929 437.934126 \nL 203.2125 437.934126 \nL 203.2125 437.767744 \nL 195.683929 437.767744 \nz\n\" style=\"fill:#2b1c35;\"/>\n   </g>\n   <g id=\"patch_75\">\n    <path clip-path=\"url(#p78f6205787)\" d=\"M 210.741071 437.713011 \nL 218.269643 437.713011 \nL 218.269643 437.309236 \nL 210.741071 437.309236 \nz\n\" style=\"fill:#2b1c35;\"/>\n   </g>\n   <g id=\"patch_76\">\n    <path clip-path=\"url(#p78f6205787)\" d=\"M 225.798214 438.013275 \nL 233.326786 438.013275 \nL 233.326786 437.890788 \nL 225.798214 437.890788 \nz\n\" style=\"fill:#2b1c35;\"/>\n   </g>\n   <g id=\"patch_77\">\n    <path clip-path=\"url(#p78f6205787)\" d=\"M 240.855357 438.062142 \nL 248.383929 438.062142 \nL 248.383929 437.993594 \nL 240.855357 437.993594 \nz\n\" style=\"fill:#2b1c35;\"/>\n   </g>\n   <g id=\"patch_78\">\n    <path clip-path=\"url(#p78f6205787)\" d=\"M 255.9125 438.047516 \nL 263.441071 438.047516 \nL 263.441071 437.980648 \nL 255.9125 437.980648 \nz\n\" style=\"fill:#2b1c35;\"/>\n   </g>\n   <g id=\"patch_79\">\n    <path clip-path=\"url(#p78f6205787)\" d=\"M 270.969643 438.039877 \nL 278.498214 438.039877 \nL 278.498214 437.960253 \nL 270.969643 437.960253 \nz\n\" style=\"fill:#2b1c35;\"/>\n   </g>\n   <g id=\"patch_80\">\n    <path clip-path=\"url(#p78f6205787)\" d=\"M 286.026786 437.589973 \nL 293.555357 437.589973 \nL 293.555357 437.008238 \nL 286.026786 437.008238 \nz\n\" style=\"fill:#2b1c35;\"/>\n   </g>\n   <g id=\"patch_81\">\n    <path clip-path=\"url(#p78f6205787)\" d=\"M 301.083929 403.229007 \nL 308.6125 403.229007 \nL 308.6125 367.852703 \nL 301.083929 367.852703 \nz\n\" style=\"fill:#2b1c35;\"/>\n   </g>\n   <g id=\"patch_82\">\n    <path clip-path=\"url(#p78f6205787)\" d=\"M 316.141071 438.005176 \nL 323.669643 438.005176 \nL 323.669643 437.902346 \nL 316.141071 437.902346 \nz\n\" style=\"fill:#2b1c35;\"/>\n   </g>\n   <g id=\"patch_83\">\n    <path clip-path=\"url(#p78f6205787)\" d=\"M 331.198214 430.791538 \nL 338.726786 430.791538 \nL 338.726786 423.214896 \nL 331.198214 423.214896 \nz\n\" style=\"fill:#2b1c35;\"/>\n   </g>\n   <g id=\"patch_84\">\n    <path clip-path=\"url(#p78f6205787)\" d=\"M 346.255357 436.301974 \nL 353.783929 436.301974 \nL 353.783929 434.533874 \nL 346.255357 434.533874 \nz\n\" style=\"fill:#2b1c35;\"/>\n   </g>\n   <g id=\"patch_85\">\n    <path clip-path=\"url(#p78f6205787)\" d=\"M 361.3125 437.879393 \nL 368.841071 437.879393 \nL 368.841071 437.638079 \nL 361.3125 437.638079 \nz\n\" style=\"fill:#2b1c35;\"/>\n   </g>\n   <g id=\"patch_86\">\n    <path clip-path=\"url(#p78f6205787)\" d=\"M 376.369643 419.452576 \nL 383.898214 419.452576 \nL 383.898214 400.35991 \nL 376.369643 400.35991 \nz\n\" style=\"fill:#2b1c35;\"/>\n   </g>\n   <g id=\"patch_87\">\n    <path clip-path=\"url(#p78f6205787)\" d=\"M 391.426786 437.302328 \nL 398.955357 437.302328 \nL 398.955357 436.47093 \nL 391.426786 436.47093 \nz\n\" style=\"fill:#2b1c35;\"/>\n   </g>\n   <g id=\"patch_88\">\n    <path clip-path=\"url(#p78f6205787)\" d=\"M 406.483929 435.324712 \nL 414.0125 435.324712 \nL 414.0125 432.689501 \nL 406.483929 432.689501 \nz\n\" style=\"fill:#2b1c35;\"/>\n   </g>\n   <g id=\"patch_89\">\n    <path clip-path=\"url(#p78f6205787)\" d=\"M 421.541071 437.697004 \nL 429.069643 437.697004 \nL 429.069643 437.306528 \nL 421.541071 437.306528 \nz\n\" style=\"fill:#2b1c35;\"/>\n   </g>\n   <g id=\"patch_90\">\n    <path clip-path=\"url(#p78f6205787)\" d=\"M 436.598214 437.704299 \nL 444.126786 437.704299 \nL 444.126786 437.290608 \nL 436.598214 437.290608 \nz\n\" style=\"fill:#2b1c35;\"/>\n   </g>\n   <g id=\"patch_91\">\n    <path clip-path=\"url(#p78f6205787)\" d=\"M 451.655357 437.346898 \nL 459.183929 437.346898 \nL 459.183929 436.59778 \nL 451.655357 436.59778 \nz\n\" style=\"fill:#2b1c35;\"/>\n   </g>\n   <g id=\"patch_92\">\n    <path clip-path=\"url(#p78f6205787)\" d=\"M 466.7125 438.089192 \nL 474.241071 438.089192 \nL 474.241071 438.05779 \nL 466.7125 438.05779 \nz\n\" style=\"fill:#2b1c35;\"/>\n   </g>\n   <g id=\"patch_93\">\n    <path clip-path=\"url(#p78f6205787)\" d=\"M 481.769643 437.946229 \nL 489.298214 437.946229 \nL 489.298214 437.793441 \nL 481.769643 437.793441 \nz\n\" style=\"fill:#2b1c35;\"/>\n   </g>\n   <g id=\"patch_94\">\n    <path clip-path=\"url(#p78f6205787)\" d=\"M 496.826786 438.067516 \nL 504.355357 438.067516 \nL 504.355357 438.012534 \nL 496.826786 438.012534 \nz\n\" style=\"fill:#2b1c35;\"/>\n   </g>\n   <g id=\"patch_95\">\n    <path clip-path=\"url(#p78f6205787)\" d=\"M 511.883929 422.141178 \nL 519.4125 422.141178 \nL 519.4125 406.144221 \nL 511.883929 406.144221 \nz\n\" style=\"fill:#2b1c35;\"/>\n   </g>\n   <g id=\"patch_96\">\n    <path clip-path=\"url(#p78f6205787)\" d=\"M 526.941071 438.053305 \nL 534.469643 438.053305 \nL 534.469643 437.990227 \nL 526.941071 437.990227 \nz\n\" style=\"fill:#2b1c35;\"/>\n   </g>\n   <g id=\"patch_97\">\n    <path clip-path=\"url(#p78f6205787)\" d=\"M 541.998214 437.773079 \nL 549.526786 437.773079 \nL 549.526786 437.481687 \nL 541.998214 437.481687 \nz\n\" style=\"fill:#2b1c35;\"/>\n   </g>\n   <g id=\"patch_98\">\n    <path clip-path=\"url(#p78f6205787)\" d=\"M 557.055357 437.995615 \nL 564.583929 437.995615 \nL 564.583929 437.858427 \nL 557.055357 437.858427 \nz\n\" style=\"fill:#2b1c35;\"/>\n   </g>\n   <g id=\"patch_99\">\n    <path clip-path=\"url(#p78f6205787)\" d=\"M 572.1125 435.789121 \nL 579.641071 435.789121 \nL 579.641071 433.623028 \nL 572.1125 433.623028 \nz\n\" style=\"fill:#2b1c35;\"/>\n   </g>\n   <g id=\"patch_100\">\n    <path clip-path=\"url(#p78f6205787)\" d=\"M 587.169643 429.710532 \nL 594.698214 429.710532 \nL 594.698214 421.184309 \nL 587.169643 421.184309 \nz\n\" style=\"fill:#2b1c35;\"/>\n   </g>\n   <g id=\"patch_101\">\n    <path clip-path=\"url(#p78f6205787)\" d=\"M 602.226786 437.584155 \nL 609.755357 437.584155 \nL 609.755357 437.102257 \nL 602.226786 437.102257 \nz\n\" style=\"fill:#2b1c35;\"/>\n   </g>\n   <g id=\"patch_102\">\n    <path clip-path=\"url(#p78f6205787)\" d=\"M 617.283929 437.984237 \nL 624.8125 437.984237 \nL 624.8125 437.820043 \nL 617.283929 437.820043 \nz\n\" style=\"fill:#2b1c35;\"/>\n   </g>\n   <g id=\"patch_103\">\n    <path clip-path=\"url(#p78f6205787)\" d=\"M 632.341071 437.405925 \nL 639.869643 437.405925 \nL 639.869643 436.698511 \nL 632.341071 436.698511 \nz\n\" style=\"fill:#2b1c35;\"/>\n   </g>\n   <g id=\"patch_104\">\n    <path clip-path=\"url(#p78f6205787)\" d=\"M 647.398214 434.357422 \nL 654.926786 434.357422 \nL 654.926786 430.573671 \nL 647.398214 430.573671 \nz\n\" style=\"fill:#2b1c35;\"/>\n   </g>\n   <g id=\"patch_105\">\n    <path clip-path=\"url(#p78f6205787)\" d=\"M 662.455357 438.084989 \nL 669.983929 438.084989 \nL 669.983929 438.04611 \nL 662.455357 438.04611 \nz\n\" style=\"fill:#2b1c35;\"/>\n   </g>\n   <g id=\"patch_106\">\n    <path clip-path=\"url(#p78f6205787)\" d=\"M 677.5125 437.302798 \nL 685.041071 437.302798 \nL 685.041071 436.507419 \nL 677.5125 436.507419 \nz\n\" style=\"fill:#2b1c35;\"/>\n   </g>\n   <g id=\"patch_107\">\n    <path clip-path=\"url(#p78f6205787)\" d=\"M 692.569643 437.260378 \nL 700.098214 437.260378 \nL 700.098214 436.139761 \nL 692.569643 436.139761 \nz\n\" style=\"fill:#2b1c35;\"/>\n   </g>\n   <g id=\"patch_108\">\n    <path clip-path=\"url(#p78f6205787)\" d=\"M 707.626786 437.25441 \nL 715.155357 437.25441 \nL 715.155357 436.398545 \nL 707.626786 436.398545 \nz\n\" style=\"fill:#2b1c35;\"/>\n   </g>\n   <g id=\"patch_109\">\n    <path clip-path=\"url(#p78f6205787)\" d=\"M 722.683929 437.214959 \nL 730.2125 437.214959 \nL 730.2125 436.326416 \nL 722.683929 436.326416 \nz\n\" style=\"fill:#2b1c35;\"/>\n   </g>\n   <g id=\"patch_110\">\n    <path clip-path=\"url(#p78f6205787)\" d=\"M 737.741071 437.740371 \nL 745.269643 437.740371 \nL 745.269643 437.350083 \nL 737.741071 437.350083 \nz\n\" style=\"fill:#2b1c35;\"/>\n   </g>\n   <g id=\"patch_111\">\n    <path clip-path=\"url(#p78f6205787)\" d=\"M 752.798214 438.016322 \nL 760.326786 438.016322 \nL 760.326786 437.917741 \nL 752.798214 437.917741 \nz\n\" style=\"fill:#2b1c35;\"/>\n   </g>\n   <g id=\"patch_112\">\n    <path clip-path=\"url(#p78f6205787)\" d=\"M 767.855357 437.894633 \nL 775.383929 437.894633 \nL 775.383929 437.669354 \nL 767.855357 437.669354 \nz\n\" style=\"fill:#2b1c35;\"/>\n   </g>\n   <g id=\"patch_113\">\n    <path clip-path=\"url(#p78f6205787)\" d=\"M 782.9125 437.961406 \nL 790.441071 437.961406 \nL 790.441071 437.786986 \nL 782.9125 437.786986 \nz\n\" style=\"fill:#2b1c35;\"/>\n   </g>\n   <g id=\"patch_114\">\n    <path clip-path=\"url(#p78f6205787)\" d=\"M 797.969643 437.078931 \nL 805.498214 437.078931 \nL 805.498214 436.043921 \nL 797.969643 436.043921 \nz\n\" style=\"fill:#2b1c35;\"/>\n   </g>\n   <g id=\"patch_115\">\n    <path clip-path=\"url(#p78f6205787)\" d=\"M 813.026786 437.724587 \nL 820.555357 437.724587 \nL 820.555357 437.367186 \nL 813.026786 437.367186 \nz\n\" style=\"fill:#2b1c35;\"/>\n   </g>\n   <g id=\"patch_116\">\n    <path clip-path=\"url(#p78f6205787)\" d=\"M 828.083929 434.6086 \nL 835.6125 434.6086 \nL 835.6125 430.986003 \nL 828.083929 430.986003 \nz\n\" style=\"fill:#2b1c35;\"/>\n   </g>\n   <g id=\"patch_117\">\n    <path clip-path=\"url(#p78f6205787)\" d=\"M 843.141071 437.538616 \nL 850.669643 437.538616 \nL 850.669643 436.980493 \nL 843.141071 436.980493 \nz\n\" style=\"fill:#2b1c35;\"/>\n   </g>\n   <g id=\"patch_118\">\n    <path clip-path=\"url(#p78f6205787)\" d=\"M 858.198214 437.857318 \nL 865.726786 437.857318 \nL 865.726786 437.581617 \nL 858.198214 437.581617 \nz\n\" style=\"fill:#2b1c35;\"/>\n   </g>\n   <g id=\"patch_119\">\n    <path clip-path=\"url(#p78f6205787)\" d=\"M 873.255357 436.844939 \nL 880.783929 436.844939 \nL 880.783929 435.55907 \nL 873.255357 435.55907 \nz\n\" style=\"fill:#2b1c35;\"/>\n   </g>\n   <g id=\"patch_120\">\n    <path clip-path=\"url(#p78f6205787)\" d=\"M 888.3125 438.006989 \nL 895.841071 438.006989 \nL 895.841071 437.876488 \nL 888.3125 437.876488 \nz\n\" style=\"fill:#2b1c35;\"/>\n   </g>\n   <g id=\"patch_121\">\n    <path clip-path=\"url(#p78f6205787)\" d=\"M 903.369643 438.090889 \nL 910.898214 438.090889 \nL 910.898214 438.059825 \nL 903.369643 438.059825 \nz\n\" style=\"fill:#2b1c35;\"/>\n   </g>\n   <g id=\"patch_122\">\n    <path clip-path=\"url(#p78f6205787)\" d=\"M 918.426786 437.793655 \nL 925.955357 437.793655 \nL 925.955357 437.475771 \nL 918.426786 437.475771 \nz\n\" style=\"fill:#2b1c35;\"/>\n   </g>\n   <g id=\"patch_123\">\n    <path clip-path=\"url(#p78f6205787)\" d=\"M 933.483929 438.021269 \nL 941.0125 438.021269 \nL 941.0125 437.922963 \nL 933.483929 437.922963 \nz\n\" style=\"fill:#2b1c35;\"/>\n   </g>\n   <g id=\"patch_124\">\n    <path clip-path=\"url(#p78f6205787)\" d=\"M 948.541071 436.929678 \nL 956.069643 436.929678 \nL 956.069643 435.749061 \nL 948.541071 435.749061 \nz\n\" style=\"fill:#2b1c35;\"/>\n   </g>\n   <g id=\"patch_125\">\n    <path clip-path=\"url(#p78f6205787)\" d=\"M 963.598214 437.596276 \nL 971.126786 437.596276 \nL 971.126786 437.078413 \nL 963.598214 437.078413 \nz\n\" style=\"fill:#2b1c35;\"/>\n   </g>\n   <g id=\"patch_126\">\n    <path clip-path=\"url(#p78f6205787)\" d=\"M 978.655357 437.93739 \nL 986.183929 437.93739 \nL 986.183929 437.755125 \nL 978.655357 437.755125 \nz\n\" style=\"fill:#2b1c35;\"/>\n   </g>\n   <g id=\"patch_127\">\n    <path clip-path=\"url(#p78f6205787)\" d=\"M 993.7125 431.142108 \nL 1001.241071 431.142108 \nL 1001.241071 423.884817 \nL 993.7125 423.884817 \nz\n\" style=\"fill:#2b1c35;\"/>\n   </g>\n   <g id=\"patch_128\">\n    <path clip-path=\"url(#p78f6205787)\" d=\"M 1008.769643 437.599508 \nL 1016.298214 437.599508 \nL 1016.298214 437.096819 \nL 1008.769643 437.096819 \nz\n\" style=\"fill:#2b1c35;\"/>\n   </g>\n   <g id=\"patch_129\">\n    <path clip-path=\"url(#p78f6205787)\" d=\"M 75.226786 437.286251 \nL 82.755357 437.286251 \nL 82.755357 436.877328 \nL 75.226786 436.877328 \nz\n\" style=\"fill:#3e356b;\"/>\n   </g>\n   <g id=\"patch_130\">\n    <path clip-path=\"url(#p78f6205787)\" d=\"M 90.283929 394.288043 \nL 97.8125 394.288043 \nL 97.8125 371.59175 \nL 90.283929 371.59175 \nz\n\" style=\"fill:#3e356b;\"/>\n   </g>\n   <g id=\"patch_131\">\n    <path clip-path=\"url(#p78f6205787)\" d=\"M 105.341071 437.585574 \nL 112.869643 437.585574 \nL 112.869643 437.30625 \nL 105.341071 437.30625 \nz\n\" style=\"fill:#3e356b;\"/>\n   </g>\n   <g id=\"patch_132\">\n    <path clip-path=\"url(#p78f6205787)\" d=\"M 120.398214 437.827594 \nL 127.926786 437.827594 \nL 127.926786 437.730469 \nL 120.398214 437.730469 \nz\n\" style=\"fill:#3e356b;\"/>\n   </g>\n   <g id=\"patch_133\">\n    <path clip-path=\"url(#p78f6205787)\" d=\"M 135.455357 437.875215 \nL 142.983929 437.875215 \nL 142.983929 437.765801 \nL 135.455357 437.765801 \nz\n\" style=\"fill:#3e356b;\"/>\n   </g>\n   <g id=\"patch_134\">\n    <path clip-path=\"url(#p78f6205787)\" d=\"M 150.5125 410.943622 \nL 158.041071 410.943622 \nL 158.041071 397.341433 \nL 150.5125 397.341433 \nz\n\" style=\"fill:#3e356b;\"/>\n   </g>\n   <g id=\"patch_135\">\n    <path clip-path=\"url(#p78f6205787)\" d=\"M 165.569643 429.802755 \nL 173.098214 429.802755 \nL 173.098214 425.15295 \nL 165.569643 425.15295 \nz\n\" style=\"fill:#3e356b;\"/>\n   </g>\n   <g id=\"patch_136\">\n    <path clip-path=\"url(#p78f6205787)\" d=\"M 180.626786 437.389046 \nL 188.155357 437.389046 \nL 188.155357 437.018462 \nL 180.626786 437.018462 \nz\n\" style=\"fill:#3e356b;\"/>\n   </g>\n   <g id=\"patch_137\">\n    <path clip-path=\"url(#p78f6205787)\" d=\"M 195.683929 437.767744 \nL 203.2125 437.767744 \nL 203.2125 437.620099 \nL 195.683929 437.620099 \nz\n\" style=\"fill:#3e356b;\"/>\n   </g>\n   <g id=\"patch_138\">\n    <path clip-path=\"url(#p78f6205787)\" d=\"M 210.741071 437.309236 \nL 218.269643 437.309236 \nL 218.269643 436.964215 \nL 210.741071 436.964215 \nz\n\" style=\"fill:#3e356b;\"/>\n   </g>\n   <g id=\"patch_139\">\n    <path clip-path=\"url(#p78f6205787)\" d=\"M 225.798214 437.890788 \nL 233.326786 437.890788 \nL 233.326786 437.775183 \nL 225.798214 437.775183 \nz\n\" style=\"fill:#3e356b;\"/>\n   </g>\n   <g id=\"patch_140\">\n    <path clip-path=\"url(#p78f6205787)\" d=\"M 240.855357 437.993594 \nL 248.383929 437.993594 \nL 248.383929 437.934445 \nL 240.855357 437.934445 \nz\n\" style=\"fill:#3e356b;\"/>\n   </g>\n   <g id=\"patch_141\">\n    <path clip-path=\"url(#p78f6205787)\" d=\"M 255.9125 437.980648 \nL 263.441071 437.980648 \nL 263.441071 437.895438 \nL 255.9125 437.895438 \nz\n\" style=\"fill:#3e356b;\"/>\n   </g>\n   <g id=\"patch_142\">\n    <path clip-path=\"url(#p78f6205787)\" d=\"M 270.969643 437.960253 \nL 278.498214 437.960253 \nL 278.498214 437.881621 \nL 270.969643 437.881621 \nz\n\" style=\"fill:#3e356b;\"/>\n   </g>\n   <g id=\"patch_143\">\n    <path clip-path=\"url(#p78f6205787)\" d=\"M 286.026786 437.008238 \nL 293.555357 437.008238 \nL 293.555357 436.411034 \nL 286.026786 436.411034 \nz\n\" style=\"fill:#3e356b;\"/>\n   </g>\n   <g id=\"patch_144\">\n    <path clip-path=\"url(#p78f6205787)\" d=\"M 301.083929 367.852703 \nL 308.6125 367.852703 \nL 308.6125 331.404662 \nL 301.083929 331.404662 \nz\n\" style=\"fill:#3e356b;\"/>\n   </g>\n   <g id=\"patch_145\">\n    <path clip-path=\"url(#p78f6205787)\" d=\"M 316.141071 437.902346 \nL 323.669643 437.902346 \nL 323.669643 437.833892 \nL 316.141071 437.833892 \nz\n\" style=\"fill:#3e356b;\"/>\n   </g>\n   <g id=\"patch_146\">\n    <path clip-path=\"url(#p78f6205787)\" d=\"M 331.198214 423.214896 \nL 338.726786 423.214896 \nL 338.726786 414.838894 \nL 331.198214 414.838894 \nz\n\" style=\"fill:#3e356b;\"/>\n   </g>\n   <g id=\"patch_147\">\n    <path clip-path=\"url(#p78f6205787)\" d=\"M 346.255357 434.533874 \nL 353.783929 434.533874 \nL 353.783929 432.823573 \nL 346.255357 432.823573 \nz\n\" style=\"fill:#3e356b;\"/>\n   </g>\n   <g id=\"patch_148\">\n    <path clip-path=\"url(#p78f6205787)\" d=\"M 361.3125 437.638079 \nL 368.841071 437.638079 \nL 368.841071 437.391363 \nL 361.3125 437.391363 \nz\n\" style=\"fill:#3e356b;\"/>\n   </g>\n   <g id=\"patch_149\">\n    <path clip-path=\"url(#p78f6205787)\" d=\"M 376.369643 400.35991 \nL 383.898214 400.35991 \nL 383.898214 381.203083 \nL 376.369643 381.203083 \nz\n\" style=\"fill:#3e356b;\"/>\n   </g>\n   <g id=\"patch_150\">\n    <path clip-path=\"url(#p78f6205787)\" d=\"M 391.426786 436.47093 \nL 398.955357 436.47093 \nL 398.955357 435.651257 \nL 391.426786 435.651257 \nz\n\" style=\"fill:#3e356b;\"/>\n   </g>\n   <g id=\"patch_151\">\n    <path clip-path=\"url(#p78f6205787)\" d=\"M 406.483929 432.689501 \nL 414.0125 432.689501 \nL 414.0125 430.149026 \nL 406.483929 430.149026 \nz\n\" style=\"fill:#3e356b;\"/>\n   </g>\n   <g id=\"patch_152\">\n    <path clip-path=\"url(#p78f6205787)\" d=\"M 421.541071 437.306528 \nL 429.069643 437.306528 \nL 429.069643 436.948678 \nL 421.541071 436.948678 \nz\n\" style=\"fill:#3e356b;\"/>\n   </g>\n   <g id=\"patch_153\">\n    <path clip-path=\"url(#p78f6205787)\" d=\"M 436.598214 437.290608 \nL 444.126786 437.290608 \nL 444.126786 436.887018 \nL 436.598214 436.887018 \nz\n\" style=\"fill:#3e356b;\"/>\n   </g>\n   <g id=\"patch_154\">\n    <path clip-path=\"url(#p78f6205787)\" d=\"M 451.655357 436.59778 \nL 459.183929 436.59778 \nL 459.183929 435.859844 \nL 451.655357 435.859844 \nz\n\" style=\"fill:#3e356b;\"/>\n   </g>\n   <g id=\"patch_155\">\n    <path clip-path=\"url(#p78f6205787)\" d=\"M 466.7125 438.05779 \nL 474.241071 438.05779 \nL 474.241071 438.026309 \nL 466.7125 438.026309 \nz\n\" style=\"fill:#3e356b;\"/>\n   </g>\n   <g id=\"patch_156\">\n    <path clip-path=\"url(#p78f6205787)\" d=\"M 481.769643 437.793441 \nL 489.298214 437.793441 \nL 489.298214 437.65519 \nL 481.769643 437.65519 \nz\n\" style=\"fill:#3e356b;\"/>\n   </g>\n   <g id=\"patch_157\">\n    <path clip-path=\"url(#p78f6205787)\" d=\"M 496.826786 438.012534 \nL 504.355357 438.012534 \nL 504.355357 437.967276 \nL 496.826786 437.967276 \nz\n\" style=\"fill:#3e356b;\"/>\n   </g>\n   <g id=\"patch_158\">\n    <path clip-path=\"url(#p78f6205787)\" d=\"M 511.883929 406.144221 \nL 519.4125 406.144221 \nL 519.4125 390.089498 \nL 511.883929 390.089498 \nz\n\" style=\"fill:#3e356b;\"/>\n   </g>\n   <g id=\"patch_159\">\n    <path clip-path=\"url(#p78f6205787)\" d=\"M 526.941071 437.990227 \nL 534.469643 437.990227 \nL 534.469643 437.927816 \nL 526.941071 437.927816 \nz\n\" style=\"fill:#3e356b;\"/>\n   </g>\n   <g id=\"patch_160\">\n    <path clip-path=\"url(#p78f6205787)\" d=\"M 541.998214 437.481687 \nL 549.526786 437.481687 \nL 549.526786 437.22041 \nL 541.998214 437.22041 \nz\n\" style=\"fill:#3e356b;\"/>\n   </g>\n   <g id=\"patch_161\">\n    <path clip-path=\"url(#p78f6205787)\" d=\"M 557.055357 437.858427 \nL 564.583929 437.858427 \nL 564.583929 437.672985 \nL 557.055357 437.672985 \nz\n\" style=\"fill:#3e356b;\"/>\n   </g>\n   <g id=\"patch_162\">\n    <path clip-path=\"url(#p78f6205787)\" d=\"M 572.1125 433.623028 \nL 579.641071 433.623028 \nL 579.641071 431.517701 \nL 572.1125 431.517701 \nz\n\" style=\"fill:#3e356b;\"/>\n   </g>\n   <g id=\"patch_163\">\n    <path clip-path=\"url(#p78f6205787)\" d=\"M 587.169643 421.184309 \nL 594.698214 421.184309 \nL 594.698214 412.460381 \nL 587.169643 412.460381 \nz\n\" style=\"fill:#3e356b;\"/>\n   </g>\n   <g id=\"patch_164\">\n    <path clip-path=\"url(#p78f6205787)\" d=\"M 602.226786 437.102257 \nL 609.755357 437.102257 \nL 609.755357 436.646528 \nL 602.226786 436.646528 \nz\n\" style=\"fill:#3e356b;\"/>\n   </g>\n   <g id=\"patch_165\">\n    <path clip-path=\"url(#p78f6205787)\" d=\"M 617.283929 437.820043 \nL 624.8125 437.820043 \nL 624.8125 437.626018 \nL 617.283929 437.626018 \nz\n\" style=\"fill:#3e356b;\"/>\n   </g>\n   <g id=\"patch_166\">\n    <path clip-path=\"url(#p78f6205787)\" d=\"M 632.341071 436.698511 \nL 639.869643 436.698511 \nL 639.869643 435.97926 \nL 632.341071 435.97926 \nz\n\" style=\"fill:#3e356b;\"/>\n   </g>\n   <g id=\"patch_167\">\n    <path clip-path=\"url(#p78f6205787)\" d=\"M 647.398214 430.573671 \nL 654.926786 430.573671 \nL 654.926786 426.814564 \nL 647.398214 426.814564 \nz\n\" style=\"fill:#3e356b;\"/>\n   </g>\n   <g id=\"patch_168\">\n    <path clip-path=\"url(#p78f6205787)\" d=\"M 662.455357 438.04611 \nL 669.983929 438.04611 \nL 669.983929 438.004724 \nL 662.455357 438.004724 \nz\n\" style=\"fill:#3e356b;\"/>\n   </g>\n   <g id=\"patch_169\">\n    <path clip-path=\"url(#p78f6205787)\" d=\"M 677.5125 436.507419 \nL 685.041071 436.507419 \nL 685.041071 435.763033 \nL 677.5125 435.763033 \nz\n\" style=\"fill:#3e356b;\"/>\n   </g>\n   <g id=\"patch_170\">\n    <path clip-path=\"url(#p78f6205787)\" d=\"M 692.569643 436.139761 \nL 700.098214 436.139761 \nL 700.098214 435.118314 \nL 692.569643 435.118314 \nz\n\" style=\"fill:#3e356b;\"/>\n   </g>\n   <g id=\"patch_171\">\n    <path clip-path=\"url(#p78f6205787)\" d=\"M 707.626786 436.398545 \nL 715.155357 436.398545 \nL 715.155357 435.549347 \nL 707.626786 435.549347 \nz\n\" style=\"fill:#3e356b;\"/>\n   </g>\n   <g id=\"patch_172\">\n    <path clip-path=\"url(#p78f6205787)\" d=\"M 722.683929 436.326416 \nL 730.2125 436.326416 \nL 730.2125 435.409089 \nL 722.683929 435.409089 \nz\n\" style=\"fill:#3e356b;\"/>\n   </g>\n   <g id=\"patch_173\">\n    <path clip-path=\"url(#p78f6205787)\" d=\"M 737.741071 437.350083 \nL 745.269643 437.350083 \nL 745.269643 436.964958 \nL 737.741071 436.964958 \nz\n\" style=\"fill:#3e356b;\"/>\n   </g>\n   <g id=\"patch_174\">\n    <path clip-path=\"url(#p78f6205787)\" d=\"M 752.798214 437.917741 \nL 760.326786 437.917741 \nL 760.326786 437.81171 \nL 752.798214 437.81171 \nz\n\" style=\"fill:#3e356b;\"/>\n   </g>\n   <g id=\"patch_175\">\n    <path clip-path=\"url(#p78f6205787)\" d=\"M 767.855357 437.669354 \nL 775.383929 437.669354 \nL 775.383929 437.445356 \nL 767.855357 437.445356 \nz\n\" style=\"fill:#3e356b;\"/>\n   </g>\n   <g id=\"patch_176\">\n    <path clip-path=\"url(#p78f6205787)\" d=\"M 782.9125 437.786986 \nL 790.441071 437.786986 \nL 790.441071 437.628277 \nL 782.9125 437.628277 \nz\n\" style=\"fill:#3e356b;\"/>\n   </g>\n   <g id=\"patch_177\">\n    <path clip-path=\"url(#p78f6205787)\" d=\"M 797.969643 436.043921 \nL 805.498214 436.043921 \nL 805.498214 434.988374 \nL 797.969643 434.988374 \nz\n\" style=\"fill:#3e356b;\"/>\n   </g>\n   <g id=\"patch_178\">\n    <path clip-path=\"url(#p78f6205787)\" d=\"M 813.026786 437.367186 \nL 820.555357 437.367186 \nL 820.555357 436.990607 \nL 813.026786 436.990607 \nz\n\" style=\"fill:#3e356b;\"/>\n   </g>\n   <g id=\"patch_179\">\n    <path clip-path=\"url(#p78f6205787)\" d=\"M 828.083929 430.986003 \nL 835.6125 430.986003 \nL 835.6125 427.265011 \nL 828.083929 427.265011 \nz\n\" style=\"fill:#3e356b;\"/>\n   </g>\n   <g id=\"patch_180\">\n    <path clip-path=\"url(#p78f6205787)\" d=\"M 843.141071 436.980493 \nL 850.669643 436.980493 \nL 850.669643 436.442846 \nL 843.141071 436.442846 \nz\n\" style=\"fill:#3e356b;\"/>\n   </g>\n   <g id=\"patch_181\">\n    <path clip-path=\"url(#p78f6205787)\" d=\"M 858.198214 437.581617 \nL 865.726786 437.581617 \nL 865.726786 437.332851 \nL 858.198214 437.332851 \nz\n\" style=\"fill:#3e356b;\"/>\n   </g>\n   <g id=\"patch_182\">\n    <path clip-path=\"url(#p78f6205787)\" d=\"M 873.255357 435.55907 \nL 880.783929 435.55907 \nL 880.783929 434.321405 \nL 873.255357 434.321405 \nz\n\" style=\"fill:#3e356b;\"/>\n   </g>\n   <g id=\"patch_183\">\n    <path clip-path=\"url(#p78f6205787)\" d=\"M 888.3125 437.876488 \nL 895.841071 437.876488 \nL 895.841071 437.766114 \nL 888.3125 437.766114 \nz\n\" style=\"fill:#3e356b;\"/>\n   </g>\n   <g id=\"patch_184\">\n    <path clip-path=\"url(#p78f6205787)\" d=\"M 903.369643 438.059825 \nL 910.898214 438.059825 \nL 910.898214 438.028755 \nL 903.369643 438.028755 \nz\n\" style=\"fill:#3e356b;\"/>\n   </g>\n   <g id=\"patch_185\">\n    <path clip-path=\"url(#p78f6205787)\" d=\"M 918.426786 437.475771 \nL 925.955357 437.475771 \nL 925.955357 437.166174 \nL 918.426786 437.166174 \nz\n\" style=\"fill:#3e356b;\"/>\n   </g>\n   <g id=\"patch_186\">\n    <path clip-path=\"url(#p78f6205787)\" d=\"M 933.483929 437.922963 \nL 941.0125 437.922963 \nL 941.0125 437.827191 \nL 933.483929 437.827191 \nz\n\" style=\"fill:#3e356b;\"/>\n   </g>\n   <g id=\"patch_187\">\n    <path clip-path=\"url(#p78f6205787)\" d=\"M 948.541071 435.749061 \nL 956.069643 435.749061 \nL 956.069643 434.592417 \nL 948.541071 434.592417 \nz\n\" style=\"fill:#3e356b;\"/>\n   </g>\n   <g id=\"patch_188\">\n    <path clip-path=\"url(#p78f6205787)\" d=\"M 963.598214 437.078413 \nL 971.126786 437.078413 \nL 971.126786 436.572724 \nL 963.598214 436.572724 \nz\n\" style=\"fill:#3e356b;\"/>\n   </g>\n   <g id=\"patch_189\">\n    <path clip-path=\"url(#p78f6205787)\" d=\"M 978.655357 437.755125 \nL 986.183929 437.755125 \nL 986.183929 437.588661 \nL 978.655357 437.588661 \nz\n\" style=\"fill:#3e356b;\"/>\n   </g>\n   <g id=\"patch_190\">\n    <path clip-path=\"url(#p78f6205787)\" d=\"M 993.7125 423.884817 \nL 1001.241071 423.884817 \nL 1001.241071 415.945667 \nL 993.7125 415.945667 \nz\n\" style=\"fill:#3e356b;\"/>\n   </g>\n   <g id=\"patch_191\">\n    <path clip-path=\"url(#p78f6205787)\" d=\"M 1008.769643 437.096819 \nL 1016.298214 437.096819 \nL 1016.298214 436.566964 \nL 1008.769643 436.566964 \nz\n\" style=\"fill:#3e356b;\"/>\n   </g>\n   <g id=\"patch_192\">\n    <path clip-path=\"url(#p78f6205787)\" d=\"M 75.226786 436.877328 \nL 82.755357 436.877328 \nL 82.755357 436.47768 \nL 75.226786 436.47768 \nz\n\" style=\"fill:#3b5698;\"/>\n   </g>\n   <g id=\"patch_193\">\n    <path clip-path=\"url(#p78f6205787)\" d=\"M 90.283929 371.59175 \nL 97.8125 371.59175 \nL 97.8125 347.445089 \nL 90.283929 347.445089 \nz\n\" style=\"fill:#3b5698;\"/>\n   </g>\n   <g id=\"patch_194\">\n    <path clip-path=\"url(#p78f6205787)\" d=\"M 105.341071 437.30625 \nL 112.869643 437.30625 \nL 112.869643 437.023752 \nL 105.341071 437.023752 \nz\n\" style=\"fill:#3b5698;\"/>\n   </g>\n   <g id=\"patch_195\">\n    <path clip-path=\"url(#p78f6205787)\" d=\"M 120.398214 437.730469 \nL 127.926786 437.730469 \nL 127.926786 437.613305 \nL 120.398214 437.613305 \nz\n\" style=\"fill:#3b5698;\"/>\n   </g>\n   <g id=\"patch_196\">\n    <path clip-path=\"url(#p78f6205787)\" d=\"M 135.455357 437.765801 \nL 142.983929 437.765801 \nL 142.983929 437.651483 \nL 135.455357 437.651483 \nz\n\" style=\"fill:#3b5698;\"/>\n   </g>\n   <g id=\"patch_197\">\n    <path clip-path=\"url(#p78f6205787)\" d=\"M 150.5125 397.341433 \nL 158.041071 397.341433 \nL 158.041071 383.451349 \nL 150.5125 383.451349 \nz\n\" style=\"fill:#3b5698;\"/>\n   </g>\n   <g id=\"patch_198\">\n    <path clip-path=\"url(#p78f6205787)\" d=\"M 165.569643 425.15295 \nL 173.098214 425.15295 \nL 173.098214 420.337245 \nL 165.569643 420.337245 \nz\n\" style=\"fill:#3b5698;\"/>\n   </g>\n   <g id=\"patch_199\">\n    <path clip-path=\"url(#p78f6205787)\" d=\"M 180.626786 437.018462 \nL 188.155357 437.018462 \nL 188.155357 436.641165 \nL 180.626786 436.641165 \nz\n\" style=\"fill:#3b5698;\"/>\n   </g>\n   <g id=\"patch_200\">\n    <path clip-path=\"url(#p78f6205787)\" d=\"M 195.683929 437.620099 \nL 203.2125 437.620099 \nL 203.2125 437.460414 \nL 195.683929 437.460414 \nz\n\" style=\"fill:#3b5698;\"/>\n   </g>\n   <g id=\"patch_201\">\n    <path clip-path=\"url(#p78f6205787)\" d=\"M 210.741071 436.964215 \nL 218.269643 436.964215 \nL 218.269643 436.580382 \nL 210.741071 436.580382 \nz\n\" style=\"fill:#3b5698;\"/>\n   </g>\n   <g id=\"patch_202\">\n    <path clip-path=\"url(#p78f6205787)\" d=\"M 225.798214 437.775183 \nL 233.326786 437.775183 \nL 233.326786 437.649227 \nL 225.798214 437.649227 \nz\n\" style=\"fill:#3b5698;\"/>\n   </g>\n   <g id=\"patch_203\">\n    <path clip-path=\"url(#p78f6205787)\" d=\"M 240.855357 437.934445 \nL 248.383929 437.934445 \nL 248.383929 437.870509 \nL 240.855357 437.870509 \nz\n\" style=\"fill:#3b5698;\"/>\n   </g>\n   <g id=\"patch_204\">\n    <path clip-path=\"url(#p78f6205787)\" d=\"M 255.9125 437.895438 \nL 263.441071 437.895438 \nL 263.441071 437.810117 \nL 255.9125 437.810117 \nz\n\" style=\"fill:#3b5698;\"/>\n   </g>\n   <g id=\"patch_205\">\n    <path clip-path=\"url(#p78f6205787)\" d=\"M 270.969643 437.881621 \nL 278.498214 437.881621 \nL 278.498214 437.800112 \nL 270.969643 437.800112 \nz\n\" style=\"fill:#3b5698;\"/>\n   </g>\n   <g id=\"patch_206\">\n    <path clip-path=\"url(#p78f6205787)\" d=\"M 286.026786 436.411034 \nL 293.555357 436.411034 \nL 293.555357 435.835721 \nL 286.026786 435.835721 \nz\n\" style=\"fill:#3b5698;\"/>\n   </g>\n   <g id=\"patch_207\">\n    <path clip-path=\"url(#p78f6205787)\" d=\"M 301.083929 331.404662 \nL 308.6125 331.404662 \nL 308.6125 293.053069 \nL 301.083929 293.053069 \nz\n\" style=\"fill:#3b5698;\"/>\n   </g>\n   <g id=\"patch_208\">\n    <path clip-path=\"url(#p78f6205787)\" d=\"M 316.141071 437.833892 \nL 323.669643 437.833892 \nL 323.669643 437.757106 \nL 316.141071 437.757106 \nz\n\" style=\"fill:#3b5698;\"/>\n   </g>\n   <g id=\"patch_209\">\n    <path clip-path=\"url(#p78f6205787)\" d=\"M 331.198214 414.838894 \nL 338.726786 414.838894 \nL 338.726786 406.311937 \nL 331.198214 406.311937 \nz\n\" style=\"fill:#3b5698;\"/>\n   </g>\n   <g id=\"patch_210\">\n    <path clip-path=\"url(#p78f6205787)\" d=\"M 346.255357 432.823573 \nL 353.783929 432.823573 \nL 353.783929 430.941977 \nL 346.255357 430.941977 \nz\n\" style=\"fill:#3b5698;\"/>\n   </g>\n   <g id=\"patch_211\">\n    <path clip-path=\"url(#p78f6205787)\" d=\"M 361.3125 437.391363 \nL 368.841071 437.391363 \nL 368.841071 437.125865 \nL 361.3125 437.125865 \nz\n\" style=\"fill:#3b5698;\"/>\n   </g>\n   <g id=\"patch_212\">\n    <path clip-path=\"url(#p78f6205787)\" d=\"M 376.369643 381.203083 \nL 383.898214 381.203083 \nL 383.898214 361.818573 \nL 376.369643 361.818573 \nz\n\" style=\"fill:#3b5698;\"/>\n   </g>\n   <g id=\"patch_213\">\n    <path clip-path=\"url(#p78f6205787)\" d=\"M 391.426786 435.651257 \nL 398.955357 435.651257 \nL 398.955357 434.8551 \nL 391.426786 434.8551 \nz\n\" style=\"fill:#3b5698;\"/>\n   </g>\n   <g id=\"patch_214\">\n    <path clip-path=\"url(#p78f6205787)\" d=\"M 406.483929 430.149026 \nL 414.0125 430.149026 \nL 414.0125 427.591806 \nL 406.483929 427.591806 \nz\n\" style=\"fill:#3b5698;\"/>\n   </g>\n   <g id=\"patch_215\">\n    <path clip-path=\"url(#p78f6205787)\" d=\"M 421.541071 436.948678 \nL 429.069643 436.948678 \nL 429.069643 436.597897 \nL 421.541071 436.597897 \nz\n\" style=\"fill:#3b5698;\"/>\n   </g>\n   <g id=\"patch_216\">\n    <path clip-path=\"url(#p78f6205787)\" d=\"M 436.598214 436.887018 \nL 444.126786 436.887018 \nL 444.126786 436.47406 \nL 436.598214 436.47406 \nz\n\" style=\"fill:#3b5698;\"/>\n   </g>\n   <g id=\"patch_217\">\n    <path clip-path=\"url(#p78f6205787)\" d=\"M 451.655357 435.859844 \nL 459.183929 435.859844 \nL 459.183929 435.225842 \nL 451.655357 435.225842 \nz\n\" style=\"fill:#3b5698;\"/>\n   </g>\n   <g id=\"patch_218\">\n    <path clip-path=\"url(#p78f6205787)\" d=\"M 466.7125 438.026309 \nL 474.241071 438.026309 \nL 474.241071 437.995193 \nL 466.7125 437.995193 \nz\n\" style=\"fill:#3b5698;\"/>\n   </g>\n   <g id=\"patch_219\">\n    <path clip-path=\"url(#p78f6205787)\" d=\"M 481.769643 437.65519 \nL 489.298214 437.65519 \nL 489.298214 437.511761 \nL 481.769643 437.511761 \nz\n\" style=\"fill:#3b5698;\"/>\n   </g>\n   <g id=\"patch_220\">\n    <path clip-path=\"url(#p78f6205787)\" d=\"M 496.826786 437.967276 \nL 504.355357 437.967276 \nL 504.355357 437.920331 \nL 496.826786 437.920331 \nz\n\" style=\"fill:#3b5698;\"/>\n   </g>\n   <g id=\"patch_221\">\n    <path clip-path=\"url(#p78f6205787)\" d=\"M 511.883929 390.089498 \nL 519.4125 390.089498 \nL 519.4125 373.852825 \nL 511.883929 373.852825 \nz\n\" style=\"fill:#3b5698;\"/>\n   </g>\n   <g id=\"patch_222\">\n    <path clip-path=\"url(#p78f6205787)\" d=\"M 526.941071 437.927816 \nL 534.469643 437.927816 \nL 534.469643 437.861945 \nL 526.941071 437.861945 \nz\n\" style=\"fill:#3b5698;\"/>\n   </g>\n   <g id=\"patch_223\">\n    <path clip-path=\"url(#p78f6205787)\" d=\"M 541.998214 437.22041 \nL 549.526786 437.22041 \nL 549.526786 436.979177 \nL 541.998214 436.979177 \nz\n\" style=\"fill:#3b5698;\"/>\n   </g>\n   <g id=\"patch_224\">\n    <path clip-path=\"url(#p78f6205787)\" d=\"M 557.055357 437.672985 \nL 564.583929 437.672985 \nL 564.583929 437.487404 \nL 557.055357 437.487404 \nz\n\" style=\"fill:#3b5698;\"/>\n   </g>\n   <g id=\"patch_225\">\n    <path clip-path=\"url(#p78f6205787)\" d=\"M 572.1125 431.517701 \nL 579.641071 431.517701 \nL 579.641071 429.229645 \nL 572.1125 429.229645 \nz\n\" style=\"fill:#3b5698;\"/>\n   </g>\n   <g id=\"patch_226\">\n    <path clip-path=\"url(#p78f6205787)\" d=\"M 587.169643 412.460381 \nL 594.698214 412.460381 \nL 594.698214 403.418631 \nL 587.169643 403.418631 \nz\n\" style=\"fill:#3b5698;\"/>\n   </g>\n   <g id=\"patch_227\">\n    <path clip-path=\"url(#p78f6205787)\" d=\"M 602.226786 436.646528 \nL 609.755357 436.646528 \nL 609.755357 436.191261 \nL 602.226786 436.191261 \nz\n\" style=\"fill:#3b5698;\"/>\n   </g>\n   <g id=\"patch_228\">\n    <path clip-path=\"url(#p78f6205787)\" d=\"M 617.283929 437.626018 \nL 624.8125 437.626018 \nL 624.8125 437.410089 \nL 617.283929 437.410089 \nz\n\" style=\"fill:#3b5698;\"/>\n   </g>\n   <g id=\"patch_229\">\n    <path clip-path=\"url(#p78f6205787)\" d=\"M 632.341071 435.97926 \nL 639.869643 435.97926 \nL 639.869643 435.249873 \nL 632.341071 435.249873 \nz\n\" style=\"fill:#3b5698;\"/>\n   </g>\n   <g id=\"patch_230\">\n    <path clip-path=\"url(#p78f6205787)\" d=\"M 647.398214 426.814564 \nL 654.926786 426.814564 \nL 654.926786 423.112665 \nL 647.398214 423.112665 \nz\n\" style=\"fill:#3b5698;\"/>\n   </g>\n   <g id=\"patch_231\">\n    <path clip-path=\"url(#p78f6205787)\" d=\"M 662.455357 438.004724 \nL 669.983929 438.004724 \nL 669.983929 437.960362 \nL 662.455357 437.960362 \nz\n\" style=\"fill:#3b5698;\"/>\n   </g>\n   <g id=\"patch_232\">\n    <path clip-path=\"url(#p78f6205787)\" d=\"M 677.5125 435.763033 \nL 685.041071 435.763033 \nL 685.041071 435.049855 \nL 677.5125 435.049855 \nz\n\" style=\"fill:#3b5698;\"/>\n   </g>\n   <g id=\"patch_233\">\n    <path clip-path=\"url(#p78f6205787)\" d=\"M 692.569643 435.118314 \nL 700.098214 435.118314 \nL 700.098214 434.269319 \nL 692.569643 434.269319 \nz\n\" style=\"fill:#3b5698;\"/>\n   </g>\n   <g id=\"patch_234\">\n    <path clip-path=\"url(#p78f6205787)\" d=\"M 707.626786 435.549347 \nL 715.155357 435.549347 \nL 715.155357 434.726392 \nL 707.626786 434.726392 \nz\n\" style=\"fill:#3b5698;\"/>\n   </g>\n   <g id=\"patch_235\">\n    <path clip-path=\"url(#p78f6205787)\" d=\"M 722.683929 435.409089 \nL 730.2125 435.409089 \nL 730.2125 434.490625 \nL 722.683929 434.490625 \nz\n\" style=\"fill:#3b5698;\"/>\n   </g>\n   <g id=\"patch_236\">\n    <path clip-path=\"url(#p78f6205787)\" d=\"M 737.741071 436.964958 \nL 745.269643 436.964958 \nL 745.269643 436.567986 \nL 737.741071 436.567986 \nz\n\" style=\"fill:#3b5698;\"/>\n   </g>\n   <g id=\"patch_237\">\n    <path clip-path=\"url(#p78f6205787)\" d=\"M 752.798214 437.81171 \nL 760.326786 437.81171 \nL 760.326786 437.687221 \nL 752.798214 437.687221 \nz\n\" style=\"fill:#3b5698;\"/>\n   </g>\n   <g id=\"patch_238\">\n    <path clip-path=\"url(#p78f6205787)\" d=\"M 767.855357 437.445356 \nL 775.383929 437.445356 \nL 775.383929 437.226277 \nL 767.855357 437.226277 \nz\n\" style=\"fill:#3b5698;\"/>\n   </g>\n   <g id=\"patch_239\">\n    <path clip-path=\"url(#p78f6205787)\" d=\"M 782.9125 437.628277 \nL 790.441071 437.628277 \nL 790.441071 437.479 \nL 782.9125 437.479 \nz\n\" style=\"fill:#3b5698;\"/>\n   </g>\n   <g id=\"patch_240\">\n    <path clip-path=\"url(#p78f6205787)\" d=\"M 797.969643 434.988374 \nL 805.498214 434.988374 \nL 805.498214 433.877312 \nL 797.969643 433.877312 \nz\n\" style=\"fill:#3b5698;\"/>\n   </g>\n   <g id=\"patch_241\">\n    <path clip-path=\"url(#p78f6205787)\" d=\"M 813.026786 436.990607 \nL 820.555357 436.990607 \nL 820.555357 436.606605 \nL 813.026786 436.606605 \nz\n\" style=\"fill:#3b5698;\"/>\n   </g>\n   <g id=\"patch_242\">\n    <path clip-path=\"url(#p78f6205787)\" d=\"M 828.083929 427.265011 \nL 835.6125 427.265011 \nL 835.6125 423.606288 \nL 828.083929 423.606288 \nz\n\" style=\"fill:#3b5698;\"/>\n   </g>\n   <g id=\"patch_243\">\n    <path clip-path=\"url(#p78f6205787)\" d=\"M 843.141071 436.442846 \nL 850.669643 436.442846 \nL 850.669643 435.914302 \nL 843.141071 435.914302 \nz\n\" style=\"fill:#3b5698;\"/>\n   </g>\n   <g id=\"patch_244\">\n    <path clip-path=\"url(#p78f6205787)\" d=\"M 858.198214 437.332851 \nL 865.726786 437.332851 \nL 865.726786 437.08468 \nL 858.198214 437.08468 \nz\n\" style=\"fill:#3b5698;\"/>\n   </g>\n   <g id=\"patch_245\">\n    <path clip-path=\"url(#p78f6205787)\" d=\"M 873.255357 434.321405 \nL 880.783929 434.321405 \nL 880.783929 433.134672 \nL 873.255357 433.134672 \nz\n\" style=\"fill:#3b5698;\"/>\n   </g>\n   <g id=\"patch_246\">\n    <path clip-path=\"url(#p78f6205787)\" d=\"M 888.3125 437.766114 \nL 895.841071 437.766114 \nL 895.841071 437.66538 \nL 888.3125 437.66538 \nz\n\" style=\"fill:#3b5698;\"/>\n   </g>\n   <g id=\"patch_247\">\n    <path clip-path=\"url(#p78f6205787)\" d=\"M 903.369643 438.028755 \nL 910.898214 438.028755 \nL 910.898214 437.994377 \nL 903.369643 437.994377 \nz\n\" style=\"fill:#3b5698;\"/>\n   </g>\n   <g id=\"patch_248\">\n    <path clip-path=\"url(#p78f6205787)\" d=\"M 918.426786 437.166174 \nL 925.955357 437.166174 \nL 925.955357 436.836416 \nL 918.426786 436.836416 \nz\n\" style=\"fill:#3b5698;\"/>\n   </g>\n   <g id=\"patch_249\">\n    <path clip-path=\"url(#p78f6205787)\" d=\"M 933.483929 437.827191 \nL 941.0125 437.827191 \nL 941.0125 437.735295 \nL 933.483929 437.735295 \nz\n\" style=\"fill:#3b5698;\"/>\n   </g>\n   <g id=\"patch_250\">\n    <path clip-path=\"url(#p78f6205787)\" d=\"M 948.541071 434.592417 \nL 956.069643 434.592417 \nL 956.069643 433.413828 \nL 948.541071 433.413828 \nz\n\" style=\"fill:#3b5698;\"/>\n   </g>\n   <g id=\"patch_251\">\n    <path clip-path=\"url(#p78f6205787)\" d=\"M 963.598214 436.572724 \nL 971.126786 436.572724 \nL 971.126786 436.060758 \nL 963.598214 436.060758 \nz\n\" style=\"fill:#3b5698;\"/>\n   </g>\n   <g id=\"patch_252\">\n    <path clip-path=\"url(#p78f6205787)\" d=\"M 978.655357 437.588661 \nL 986.183929 437.588661 \nL 986.183929 437.425449 \nL 978.655357 437.425449 \nz\n\" style=\"fill:#3b5698;\"/>\n   </g>\n   <g id=\"patch_253\">\n    <path clip-path=\"url(#p78f6205787)\" d=\"M 993.7125 415.945667 \nL 1001.241071 415.945667 \nL 1001.241071 407.152743 \nL 993.7125 407.152743 \nz\n\" style=\"fill:#3b5698;\"/>\n   </g>\n   <g id=\"patch_254\">\n    <path clip-path=\"url(#p78f6205787)\" d=\"M 1008.769643 436.566964 \nL 1016.298214 436.566964 \nL 1016.298214 436.064055 \nL 1008.769643 436.064055 \nz\n\" style=\"fill:#3b5698;\"/>\n   </g>\n   <g id=\"patch_255\">\n    <path clip-path=\"url(#p78f6205787)\" d=\"M 75.226786 436.47768 \nL 82.755357 436.47768 \nL 82.755357 436.077779 \nL 75.226786 436.077779 \nz\n\" style=\"fill:#357ba3;\"/>\n   </g>\n   <g id=\"patch_256\">\n    <path clip-path=\"url(#p78f6205787)\" d=\"M 90.283929 347.445089 \nL 97.8125 347.445089 \nL 97.8125 321.946777 \nL 90.283929 321.946777 \nz\n\" style=\"fill:#357ba3;\"/>\n   </g>\n   <g id=\"patch_257\">\n    <path clip-path=\"url(#p78f6205787)\" d=\"M 105.341071 437.023752 \nL 112.869643 437.023752 \nL 112.869643 436.730636 \nL 105.341071 436.730636 \nz\n\" style=\"fill:#357ba3;\"/>\n   </g>\n   <g id=\"patch_258\">\n    <path clip-path=\"url(#p78f6205787)\" d=\"M 120.398214 437.613305 \nL 127.926786 437.613305 \nL 127.926786 437.52437 \nL 120.398214 437.52437 \nz\n\" style=\"fill:#357ba3;\"/>\n   </g>\n   <g id=\"patch_259\">\n    <path clip-path=\"url(#p78f6205787)\" d=\"M 135.455357 437.651483 \nL 142.983929 437.651483 \nL 142.983929 437.540276 \nL 135.455357 437.540276 \nz\n\" style=\"fill:#357ba3;\"/>\n   </g>\n   <g id=\"patch_260\">\n    <path clip-path=\"url(#p78f6205787)\" d=\"M 150.5125 383.451349 \nL 158.041071 383.451349 \nL 158.041071 369.073962 \nL 150.5125 369.073962 \nz\n\" style=\"fill:#357ba3;\"/>\n   </g>\n   <g id=\"patch_261\">\n    <path clip-path=\"url(#p78f6205787)\" d=\"M 165.569643 420.337245 \nL 173.098214 420.337245 \nL 173.098214 415.641886 \nL 165.569643 415.641886 \nz\n\" style=\"fill:#357ba3;\"/>\n   </g>\n   <g id=\"patch_262\">\n    <path clip-path=\"url(#p78f6205787)\" d=\"M 180.626786 436.641165 \nL 188.155357 436.641165 \nL 188.155357 436.251322 \nL 180.626786 436.251322 \nz\n\" style=\"fill:#357ba3;\"/>\n   </g>\n   <g id=\"patch_263\">\n    <path clip-path=\"url(#p78f6205787)\" d=\"M 195.683929 437.460414 \nL 203.2125 437.460414 \nL 203.2125 437.311945 \nL 195.683929 437.311945 \nz\n\" style=\"fill:#357ba3;\"/>\n   </g>\n   <g id=\"patch_264\">\n    <path clip-path=\"url(#p78f6205787)\" d=\"M 210.741071 436.580382 \nL 218.269643 436.580382 \nL 218.269643 436.176243 \nL 210.741071 436.176243 \nz\n\" style=\"fill:#357ba3;\"/>\n   </g>\n   <g id=\"patch_265\">\n    <path clip-path=\"url(#p78f6205787)\" d=\"M 225.798214 437.649227 \nL 233.326786 437.649227 \nL 233.326786 437.522296 \nL 225.798214 437.522296 \nz\n\" style=\"fill:#357ba3;\"/>\n   </g>\n   <g id=\"patch_266\">\n    <path clip-path=\"url(#p78f6205787)\" d=\"M 240.855357 437.870509 \nL 248.383929 437.870509 \nL 248.383929 437.804647 \nL 240.855357 437.804647 \nz\n\" style=\"fill:#357ba3;\"/>\n   </g>\n   <g id=\"patch_267\">\n    <path clip-path=\"url(#p78f6205787)\" d=\"M 255.9125 437.810117 \nL 263.441071 437.810117 \nL 263.441071 437.722849 \nL 255.9125 437.722849 \nz\n\" style=\"fill:#357ba3;\"/>\n   </g>\n   <g id=\"patch_268\">\n    <path clip-path=\"url(#p78f6205787)\" d=\"M 270.969643 437.800112 \nL 278.498214 437.800112 \nL 278.498214 437.714899 \nL 270.969643 437.714899 \nz\n\" style=\"fill:#357ba3;\"/>\n   </g>\n   <g id=\"patch_269\">\n    <path clip-path=\"url(#p78f6205787)\" d=\"M 286.026786 435.835721 \nL 293.555357 435.835721 \nL 293.555357 435.289069 \nL 286.026786 435.289069 \nz\n\" style=\"fill:#357ba3;\"/>\n   </g>\n   <g id=\"patch_270\">\n    <path clip-path=\"url(#p78f6205787)\" d=\"M 301.083929 293.053069 \nL 308.6125 293.053069 \nL 308.6125 252.889311 \nL 301.083929 252.889311 \nz\n\" style=\"fill:#357ba3;\"/>\n   </g>\n   <g id=\"patch_271\">\n    <path clip-path=\"url(#p78f6205787)\" d=\"M 316.141071 437.757106 \nL 323.669643 437.757106 \nL 323.669643 437.61063 \nL 316.141071 437.61063 \nz\n\" style=\"fill:#357ba3;\"/>\n   </g>\n   <g id=\"patch_272\">\n    <path clip-path=\"url(#p78f6205787)\" d=\"M 331.198214 406.311937 \nL 338.726786 406.311937 \nL 338.726786 397.328647 \nL 331.198214 397.328647 \nz\n\" style=\"fill:#357ba3;\"/>\n   </g>\n   <g id=\"patch_273\">\n    <path clip-path=\"url(#p78f6205787)\" d=\"M 346.255357 430.941977 \nL 353.783929 430.941977 \nL 353.783929 428.951299 \nL 346.255357 428.951299 \nz\n\" style=\"fill:#357ba3;\"/>\n   </g>\n   <g id=\"patch_274\">\n    <path clip-path=\"url(#p78f6205787)\" d=\"M 361.3125 437.125865 \nL 368.841071 437.125865 \nL 368.841071 436.861386 \nL 361.3125 436.861386 \nz\n\" style=\"fill:#357ba3;\"/>\n   </g>\n   <g id=\"patch_275\">\n    <path clip-path=\"url(#p78f6205787)\" d=\"M 376.369643 361.818573 \nL 383.898214 361.818573 \nL 383.898214 342.201563 \nL 376.369643 342.201563 \nz\n\" style=\"fill:#357ba3;\"/>\n   </g>\n   <g id=\"patch_276\">\n    <path clip-path=\"url(#p78f6205787)\" d=\"M 391.426786 434.8551 \nL 398.955357 434.8551 \nL 398.955357 434.054556 \nL 391.426786 434.054556 \nz\n\" style=\"fill:#357ba3;\"/>\n   </g>\n   <g id=\"patch_277\">\n    <path clip-path=\"url(#p78f6205787)\" d=\"M 406.483929 427.591806 \nL 414.0125 427.591806 \nL 414.0125 424.830411 \nL 406.483929 424.830411 \nz\n\" style=\"fill:#357ba3;\"/>\n   </g>\n   <g id=\"patch_278\">\n    <path clip-path=\"url(#p78f6205787)\" d=\"M 421.541071 436.597897 \nL 429.069643 436.597897 \nL 429.069643 436.2638 \nL 421.541071 436.2638 \nz\n\" style=\"fill:#357ba3;\"/>\n   </g>\n   <g id=\"patch_279\">\n    <path clip-path=\"url(#p78f6205787)\" d=\"M 436.598214 436.47406 \nL 444.126786 436.47406 \nL 444.126786 436.052919 \nL 436.598214 436.052919 \nz\n\" style=\"fill:#357ba3;\"/>\n   </g>\n   <g id=\"patch_280\">\n    <path clip-path=\"url(#p78f6205787)\" d=\"M 451.655357 435.225842 \nL 459.183929 435.225842 \nL 459.183929 434.599902 \nL 451.655357 434.599902 \nz\n\" style=\"fill:#357ba3;\"/>\n   </g>\n   <g id=\"patch_281\">\n    <path clip-path=\"url(#p78f6205787)\" d=\"M 466.7125 437.995193 \nL 474.241071 437.995193 \nL 474.241071 437.9635 \nL 466.7125 437.9635 \nz\n\" style=\"fill:#357ba3;\"/>\n   </g>\n   <g id=\"patch_282\">\n    <path clip-path=\"url(#p78f6205787)\" d=\"M 481.769643 437.511761 \nL 489.298214 437.511761 \nL 489.298214 437.357782 \nL 481.769643 437.357782 \nz\n\" style=\"fill:#357ba3;\"/>\n   </g>\n   <g id=\"patch_283\">\n    <path clip-path=\"url(#p78f6205787)\" d=\"M 496.826786 437.920331 \nL 504.355357 437.920331 \nL 504.355357 437.867907 \nL 496.826786 437.867907 \nz\n\" style=\"fill:#357ba3;\"/>\n   </g>\n   <g id=\"patch_284\">\n    <path clip-path=\"url(#p78f6205787)\" d=\"M 511.883929 373.852825 \nL 519.4125 373.852825 \nL 519.4125 357.091733 \nL 511.883929 357.091733 \nz\n\" style=\"fill:#357ba3;\"/>\n   </g>\n   <g id=\"patch_285\">\n    <path clip-path=\"url(#p78f6205787)\" d=\"M 526.941071 437.861945 \nL 534.469643 437.861945 \nL 534.469643 437.802539 \nL 526.941071 437.802539 \nz\n\" style=\"fill:#357ba3;\"/>\n   </g>\n   <g id=\"patch_286\">\n    <path clip-path=\"url(#p78f6205787)\" d=\"M 541.998214 436.979177 \nL 549.526786 436.979177 \nL 549.526786 436.750422 \nL 541.998214 436.750422 \nz\n\" style=\"fill:#357ba3;\"/>\n   </g>\n   <g id=\"patch_287\">\n    <path clip-path=\"url(#p78f6205787)\" d=\"M 557.055357 437.487404 \nL 564.583929 437.487404 \nL 564.583929 437.291457 \nL 557.055357 437.291457 \nz\n\" style=\"fill:#357ba3;\"/>\n   </g>\n   <g id=\"patch_288\">\n    <path clip-path=\"url(#p78f6205787)\" d=\"M 572.1125 429.229645 \nL 579.641071 429.229645 \nL 579.641071 426.799532 \nL 572.1125 426.799532 \nz\n\" style=\"fill:#357ba3;\"/>\n   </g>\n   <g id=\"patch_289\">\n    <path clip-path=\"url(#p78f6205787)\" d=\"M 587.169643 403.418631 \nL 594.698214 403.418631 \nL 594.698214 394.022713 \nL 587.169643 394.022713 \nz\n\" style=\"fill:#357ba3;\"/>\n   </g>\n   <g id=\"patch_290\">\n    <path clip-path=\"url(#p78f6205787)\" d=\"M 602.226786 436.191261 \nL 609.755357 436.191261 \nL 609.755357 435.7046 \nL 602.226786 435.7046 \nz\n\" style=\"fill:#357ba3;\"/>\n   </g>\n   <g id=\"patch_291\">\n    <path clip-path=\"url(#p78f6205787)\" d=\"M 617.283929 437.410089 \nL 624.8125 437.410089 \nL 624.8125 437.175173 \nL 617.283929 437.175173 \nz\n\" style=\"fill:#357ba3;\"/>\n   </g>\n   <g id=\"patch_292\">\n    <path clip-path=\"url(#p78f6205787)\" d=\"M 632.341071 435.249873 \nL 639.869643 435.249873 \nL 639.869643 434.49252 \nL 632.341071 434.49252 \nz\n\" style=\"fill:#357ba3;\"/>\n   </g>\n   <g id=\"patch_293\">\n    <path clip-path=\"url(#p78f6205787)\" d=\"M 647.398214 423.112665 \nL 654.926786 423.112665 \nL 654.926786 419.302416 \nL 647.398214 419.302416 \nz\n\" style=\"fill:#357ba3;\"/>\n   </g>\n   <g id=\"patch_294\">\n    <path clip-path=\"url(#p78f6205787)\" d=\"M 662.455357 437.960362 \nL 669.983929 437.960362 \nL 669.983929 437.916344 \nL 662.455357 437.916344 \nz\n\" style=\"fill:#357ba3;\"/>\n   </g>\n   <g id=\"patch_295\">\n    <path clip-path=\"url(#p78f6205787)\" d=\"M 677.5125 435.049855 \nL 685.041071 435.049855 \nL 685.041071 434.317508 \nL 677.5125 434.317508 \nz\n\" style=\"fill:#357ba3;\"/>\n   </g>\n   <g id=\"patch_296\">\n    <path clip-path=\"url(#p78f6205787)\" d=\"M 692.569643 434.269319 \nL 700.098214 434.269319 \nL 700.098214 433.203866 \nL 692.569643 433.203866 \nz\n\" style=\"fill:#357ba3;\"/>\n   </g>\n   <g id=\"patch_297\">\n    <path clip-path=\"url(#p78f6205787)\" d=\"M 707.626786 434.726392 \nL 715.155357 434.726392 \nL 715.155357 433.891623 \nL 707.626786 433.891623 \nz\n\" style=\"fill:#357ba3;\"/>\n   </g>\n   <g id=\"patch_298\">\n    <path clip-path=\"url(#p78f6205787)\" d=\"M 722.683929 434.490625 \nL 730.2125 434.490625 \nL 730.2125 433.525698 \nL 722.683929 433.525698 \nz\n\" style=\"fill:#357ba3;\"/>\n   </g>\n   <g id=\"patch_299\">\n    <path clip-path=\"url(#p78f6205787)\" d=\"M 737.741071 436.567986 \nL 745.269643 436.567986 \nL 745.269643 436.188433 \nL 737.741071 436.188433 \nz\n\" style=\"fill:#357ba3;\"/>\n   </g>\n   <g id=\"patch_300\">\n    <path clip-path=\"url(#p78f6205787)\" d=\"M 752.798214 437.687221 \nL 760.326786 437.687221 \nL 760.326786 437.555439 \nL 752.798214 437.555439 \nz\n\" style=\"fill:#357ba3;\"/>\n   </g>\n   <g id=\"patch_301\">\n    <path clip-path=\"url(#p78f6205787)\" d=\"M 767.855357 437.226277 \nL 775.383929 437.226277 \nL 775.383929 437.007341 \nL 767.855357 437.007341 \nz\n\" style=\"fill:#357ba3;\"/>\n   </g>\n   <g id=\"patch_302\">\n    <path clip-path=\"url(#p78f6205787)\" d=\"M 782.9125 437.479 \nL 790.441071 437.479 \nL 790.441071 437.331569 \nL 782.9125 437.331569 \nz\n\" style=\"fill:#357ba3;\"/>\n   </g>\n   <g id=\"patch_303\">\n    <path clip-path=\"url(#p78f6205787)\" d=\"M 797.969643 433.877312 \nL 805.498214 433.877312 \nL 805.498214 432.70027 \nL 797.969643 432.70027 \nz\n\" style=\"fill:#357ba3;\"/>\n   </g>\n   <g id=\"patch_304\">\n    <path clip-path=\"url(#p78f6205787)\" d=\"M 813.026786 436.606605 \nL 820.555357 436.606605 \nL 820.555357 436.251987 \nL 813.026786 436.251987 \nz\n\" style=\"fill:#357ba3;\"/>\n   </g>\n   <g id=\"patch_305\">\n    <path clip-path=\"url(#p78f6205787)\" d=\"M 828.083929 423.606288 \nL 835.6125 423.606288 \nL 835.6125 419.97761 \nL 828.083929 419.97761 \nz\n\" style=\"fill:#357ba3;\"/>\n   </g>\n   <g id=\"patch_306\">\n    <path clip-path=\"url(#p78f6205787)\" d=\"M 843.141071 435.914302 \nL 850.669643 435.914302 \nL 850.669643 435.346455 \nL 843.141071 435.346455 \nz\n\" style=\"fill:#357ba3;\"/>\n   </g>\n   <g id=\"patch_307\">\n    <path clip-path=\"url(#p78f6205787)\" d=\"M 858.198214 437.08468 \nL 865.726786 437.08468 \nL 865.726786 436.834136 \nL 858.198214 436.834136 \nz\n\" style=\"fill:#357ba3;\"/>\n   </g>\n   <g id=\"patch_308\">\n    <path clip-path=\"url(#p78f6205787)\" d=\"M 873.255357 433.134672 \nL 880.783929 433.134672 \nL 880.783929 431.974354 \nL 873.255357 431.974354 \nz\n\" style=\"fill:#357ba3;\"/>\n   </g>\n   <g id=\"patch_309\">\n    <path clip-path=\"url(#p78f6205787)\" d=\"M 888.3125 437.66538 \nL 895.841071 437.66538 \nL 895.841071 437.56676 \nL 888.3125 437.56676 \nz\n\" style=\"fill:#357ba3;\"/>\n   </g>\n   <g id=\"patch_310\">\n    <path clip-path=\"url(#p78f6205787)\" d=\"M 903.369643 437.994377 \nL 910.898214 437.994377 \nL 910.898214 437.962441 \nL 903.369643 437.962441 \nz\n\" style=\"fill:#357ba3;\"/>\n   </g>\n   <g id=\"patch_311\">\n    <path clip-path=\"url(#p78f6205787)\" d=\"M 918.426786 436.836416 \nL 925.955357 436.836416 \nL 925.955357 436.477519 \nL 918.426786 436.477519 \nz\n\" style=\"fill:#357ba3;\"/>\n   </g>\n   <g id=\"patch_312\">\n    <path clip-path=\"url(#p78f6205787)\" d=\"M 933.483929 437.735295 \nL 941.0125 437.735295 \nL 941.0125 437.6354 \nL 933.483929 437.6354 \nz\n\" style=\"fill:#357ba3;\"/>\n   </g>\n   <g id=\"patch_313\">\n    <path clip-path=\"url(#p78f6205787)\" d=\"M 948.541071 433.413828 \nL 956.069643 433.413828 \nL 956.069643 432.204117 \nL 948.541071 432.204117 \nz\n\" style=\"fill:#357ba3;\"/>\n   </g>\n   <g id=\"patch_314\">\n    <path clip-path=\"url(#p78f6205787)\" d=\"M 963.598214 436.060758 \nL 971.126786 436.060758 \nL 971.126786 435.533477 \nL 963.598214 435.533477 \nz\n\" style=\"fill:#357ba3;\"/>\n   </g>\n   <g id=\"patch_315\">\n    <path clip-path=\"url(#p78f6205787)\" d=\"M 978.655357 437.425449 \nL 986.183929 437.425449 \nL 986.183929 437.257211 \nL 978.655357 437.257211 \nz\n\" style=\"fill:#357ba3;\"/>\n   </g>\n   <g id=\"patch_316\">\n    <path clip-path=\"url(#p78f6205787)\" d=\"M 993.7125 407.152743 \nL 1001.241071 407.152743 \nL 1001.241071 396.740758 \nL 993.7125 396.740758 \nz\n\" style=\"fill:#357ba3;\"/>\n   </g>\n   <g id=\"patch_317\">\n    <path clip-path=\"url(#p78f6205787)\" d=\"M 1008.769643 436.064055 \nL 1016.298214 436.064055 \nL 1016.298214 435.524509 \nL 1008.769643 435.524509 \nz\n\" style=\"fill:#357ba3;\"/>\n   </g>\n   <g id=\"patch_318\">\n    <path clip-path=\"url(#p78f6205787)\" d=\"M 75.226786 436.077779 \nL 82.755357 436.077779 \nL 82.755357 435.636855 \nL 75.226786 435.636855 \nz\n\" style=\"fill:#359fab;\"/>\n   </g>\n   <g id=\"patch_319\">\n    <path clip-path=\"url(#p78f6205787)\" d=\"M 90.283929 321.946777 \nL 97.8125 321.946777 \nL 97.8125 295.347377 \nL 90.283929 295.347377 \nz\n\" style=\"fill:#359fab;\"/>\n   </g>\n   <g id=\"patch_320\">\n    <path clip-path=\"url(#p78f6205787)\" d=\"M 105.341071 436.730636 \nL 112.869643 436.730636 \nL 112.869643 436.421491 \nL 105.341071 436.421491 \nz\n\" style=\"fill:#359fab;\"/>\n   </g>\n   <g id=\"patch_321\">\n    <path clip-path=\"url(#p78f6205787)\" d=\"M 120.398214 437.52437 \nL 127.926786 437.52437 \nL 127.926786 437.445546 \nL 120.398214 437.445546 \nz\n\" style=\"fill:#359fab;\"/>\n   </g>\n   <g id=\"patch_322\">\n    <path clip-path=\"url(#p78f6205787)\" d=\"M 135.455357 437.540276 \nL 142.983929 437.540276 \nL 142.983929 437.425132 \nL 135.455357 437.425132 \nz\n\" style=\"fill:#359fab;\"/>\n   </g>\n   <g id=\"patch_323\">\n    <path clip-path=\"url(#p78f6205787)\" d=\"M 150.5125 369.073962 \nL 158.041071 369.073962 \nL 158.041071 353.98261 \nL 150.5125 353.98261 \nz\n\" style=\"fill:#359fab;\"/>\n   </g>\n   <g id=\"patch_324\">\n    <path clip-path=\"url(#p78f6205787)\" d=\"M 165.569643 415.641886 \nL 173.098214 415.641886 \nL 173.098214 410.585405 \nL 165.569643 410.585405 \nz\n\" style=\"fill:#359fab;\"/>\n   </g>\n   <g id=\"patch_325\">\n    <path clip-path=\"url(#p78f6205787)\" d=\"M 180.626786 436.251322 \nL 188.155357 436.251322 \nL 188.155357 435.84788 \nL 180.626786 435.84788 \nz\n\" style=\"fill:#359fab;\"/>\n   </g>\n   <g id=\"patch_326\">\n    <path clip-path=\"url(#p78f6205787)\" d=\"M 195.683929 437.311945 \nL 203.2125 437.311945 \nL 203.2125 437.166871 \nL 195.683929 437.166871 \nz\n\" style=\"fill:#359fab;\"/>\n   </g>\n   <g id=\"patch_327\">\n    <path clip-path=\"url(#p78f6205787)\" d=\"M 210.741071 436.176243 \nL 218.269643 436.176243 \nL 218.269643 435.750423 \nL 210.741071 435.750423 \nz\n\" style=\"fill:#359fab;\"/>\n   </g>\n   <g id=\"patch_328\">\n    <path clip-path=\"url(#p78f6205787)\" d=\"M 225.798214 437.522296 \nL 233.326786 437.522296 \nL 233.326786 437.378725 \nL 225.798214 437.378725 \nz\n\" style=\"fill:#359fab;\"/>\n   </g>\n   <g id=\"patch_329\">\n    <path clip-path=\"url(#p78f6205787)\" d=\"M 240.855357 437.804647 \nL 248.383929 437.804647 \nL 248.383929 437.733413 \nL 240.855357 437.733413 \nz\n\" style=\"fill:#359fab;\"/>\n   </g>\n   <g id=\"patch_330\">\n    <path clip-path=\"url(#p78f6205787)\" d=\"M 255.9125 437.722849 \nL 263.441071 437.722849 \nL 263.441071 437.610675 \nL 255.9125 437.610675 \nz\n\" style=\"fill:#359fab;\"/>\n   </g>\n   <g id=\"patch_331\">\n    <path clip-path=\"url(#p78f6205787)\" d=\"M 270.969643 437.714899 \nL 278.498214 437.714899 \nL 278.498214 437.621441 \nL 270.969643 437.621441 \nz\n\" style=\"fill:#359fab;\"/>\n   </g>\n   <g id=\"patch_332\">\n    <path clip-path=\"url(#p78f6205787)\" d=\"M 286.026786 435.289069 \nL 293.555357 435.289069 \nL 293.555357 434.761943 \nL 286.026786 434.761943 \nz\n\" style=\"fill:#359fab;\"/>\n   </g>\n   <g id=\"patch_333\">\n    <path clip-path=\"url(#p78f6205787)\" d=\"M 301.083929 252.889311 \nL 308.6125 252.889311 \nL 308.6125 210.206114 \nL 301.083929 210.206114 \nz\n\" style=\"fill:#359fab;\"/>\n   </g>\n   <g id=\"patch_334\">\n    <path clip-path=\"url(#p78f6205787)\" d=\"M 316.141071 437.61063 \nL 323.669643 437.61063 \nL 323.669643 437.466536 \nL 316.141071 437.466536 \nz\n\" style=\"fill:#359fab;\"/>\n   </g>\n   <g id=\"patch_335\">\n    <path clip-path=\"url(#p78f6205787)\" d=\"M 331.198214 397.328647 \nL 338.726786 397.328647 \nL 338.726786 387.893319 \nL 331.198214 387.893319 \nz\n\" style=\"fill:#359fab;\"/>\n   </g>\n   <g id=\"patch_336\">\n    <path clip-path=\"url(#p78f6205787)\" d=\"M 346.255357 428.951299 \nL 353.783929 428.951299 \nL 353.783929 426.863395 \nL 346.255357 426.863395 \nz\n\" style=\"fill:#359fab;\"/>\n   </g>\n   <g id=\"patch_337\">\n    <path clip-path=\"url(#p78f6205787)\" d=\"M 361.3125 436.861386 \nL 368.841071 436.861386 \nL 368.841071 436.589555 \nL 361.3125 436.589555 \nz\n\" style=\"fill:#359fab;\"/>\n   </g>\n   <g id=\"patch_338\">\n    <path clip-path=\"url(#p78f6205787)\" d=\"M 376.369643 342.201563 \nL 383.898214 342.201563 \nL 383.898214 322.096049 \nL 376.369643 322.096049 \nz\n\" style=\"fill:#359fab;\"/>\n   </g>\n   <g id=\"patch_339\">\n    <path clip-path=\"url(#p78f6205787)\" d=\"M 391.426786 434.054556 \nL 398.955357 434.054556 \nL 398.955357 433.223528 \nL 391.426786 433.223528 \nz\n\" style=\"fill:#359fab;\"/>\n   </g>\n   <g id=\"patch_340\">\n    <path clip-path=\"url(#p78f6205787)\" d=\"M 406.483929 424.830411 \nL 414.0125 424.830411 \nL 414.0125 422.014188 \nL 406.483929 422.014188 \nz\n\" style=\"fill:#359fab;\"/>\n   </g>\n   <g id=\"patch_341\">\n    <path clip-path=\"url(#p78f6205787)\" d=\"M 421.541071 436.2638 \nL 429.069643 436.2638 \nL 429.069643 435.927242 \nL 421.541071 435.927242 \nz\n\" style=\"fill:#359fab;\"/>\n   </g>\n   <g id=\"patch_342\">\n    <path clip-path=\"url(#p78f6205787)\" d=\"M 436.598214 436.052919 \nL 444.126786 436.052919 \nL 444.126786 435.617694 \nL 436.598214 435.617694 \nz\n\" style=\"fill:#359fab;\"/>\n   </g>\n   <g id=\"patch_343\">\n    <path clip-path=\"url(#p78f6205787)\" d=\"M 451.655357 434.599902 \nL 459.183929 434.599902 \nL 459.183929 433.984958 \nL 451.655357 433.984958 \nz\n\" style=\"fill:#359fab;\"/>\n   </g>\n   <g id=\"patch_344\">\n    <path clip-path=\"url(#p78f6205787)\" d=\"M 466.7125 437.9635 \nL 474.241071 437.9635 \nL 474.241071 437.931413 \nL 466.7125 437.931413 \nz\n\" style=\"fill:#359fab;\"/>\n   </g>\n   <g id=\"patch_345\">\n    <path clip-path=\"url(#p78f6205787)\" d=\"M 481.769643 437.357782 \nL 489.298214 437.357782 \nL 489.298214 437.202154 \nL 481.769643 437.202154 \nz\n\" style=\"fill:#359fab;\"/>\n   </g>\n   <g id=\"patch_346\">\n    <path clip-path=\"url(#p78f6205787)\" d=\"M 496.826786 437.867907 \nL 504.355357 437.867907 \nL 504.355357 437.808536 \nL 496.826786 437.808536 \nz\n\" style=\"fill:#359fab;\"/>\n   </g>\n   <g id=\"patch_347\">\n    <path clip-path=\"url(#p78f6205787)\" d=\"M 511.883929 357.091733 \nL 519.4125 357.091733 \nL 519.4125 339.73283 \nL 511.883929 339.73283 \nz\n\" style=\"fill:#359fab;\"/>\n   </g>\n   <g id=\"patch_348\">\n    <path clip-path=\"url(#p78f6205787)\" d=\"M 526.941071 437.802539 \nL 534.469643 437.802539 \nL 534.469643 437.746255 \nL 526.941071 437.746255 \nz\n\" style=\"fill:#359fab;\"/>\n   </g>\n   <g id=\"patch_349\">\n    <path clip-path=\"url(#p78f6205787)\" d=\"M 541.998214 436.750422 \nL 549.526786 436.750422 \nL 549.526786 436.538595 \nL 541.998214 436.538595 \nz\n\" style=\"fill:#359fab;\"/>\n   </g>\n   <g id=\"patch_350\">\n    <path clip-path=\"url(#p78f6205787)\" d=\"M 557.055357 437.291457 \nL 564.583929 437.291457 \nL 564.583929 437.106851 \nL 557.055357 437.106851 \nz\n\" style=\"fill:#359fab;\"/>\n   </g>\n   <g id=\"patch_351\">\n    <path clip-path=\"url(#p78f6205787)\" d=\"M 572.1125 426.799532 \nL 579.641071 426.799532 \nL 579.641071 424.470108 \nL 572.1125 424.470108 \nz\n\" style=\"fill:#359fab;\"/>\n   </g>\n   <g id=\"patch_352\">\n    <path clip-path=\"url(#p78f6205787)\" d=\"M 587.169643 394.022713 \nL 594.698214 394.022713 \nL 594.698214 384.180415 \nL 587.169643 384.180415 \nz\n\" style=\"fill:#359fab;\"/>\n   </g>\n   <g id=\"patch_353\">\n    <path clip-path=\"url(#p78f6205787)\" d=\"M 602.226786 435.7046 \nL 609.755357 435.7046 \nL 609.755357 435.226062 \nL 602.226786 435.226062 \nz\n\" style=\"fill:#359fab;\"/>\n   </g>\n   <g id=\"patch_354\">\n    <path clip-path=\"url(#p78f6205787)\" d=\"M 617.283929 437.175173 \nL 624.8125 437.175173 \nL 624.8125 436.93316 \nL 617.283929 436.93316 \nz\n\" style=\"fill:#359fab;\"/>\n   </g>\n   <g id=\"patch_355\">\n    <path clip-path=\"url(#p78f6205787)\" d=\"M 632.341071 434.49252 \nL 639.869643 434.49252 \nL 639.869643 433.682171 \nL 632.341071 433.682171 \nz\n\" style=\"fill:#359fab;\"/>\n   </g>\n   <g id=\"patch_356\">\n    <path clip-path=\"url(#p78f6205787)\" d=\"M 647.398214 419.302416 \nL 654.926786 419.302416 \nL 654.926786 415.469636 \nL 647.398214 415.469636 \nz\n\" style=\"fill:#359fab;\"/>\n   </g>\n   <g id=\"patch_357\">\n    <path clip-path=\"url(#p78f6205787)\" d=\"M 662.455357 437.916344 \nL 669.983929 437.916344 \nL 669.983929 437.869244 \nL 662.455357 437.869244 \nz\n\" style=\"fill:#359fab;\"/>\n   </g>\n   <g id=\"patch_358\">\n    <path clip-path=\"url(#p78f6205787)\" d=\"M 677.5125 434.317508 \nL 685.041071 434.317508 \nL 685.041071 433.623209 \nL 677.5125 433.623209 \nz\n\" style=\"fill:#359fab;\"/>\n   </g>\n   <g id=\"patch_359\">\n    <path clip-path=\"url(#p78f6205787)\" d=\"M 692.569643 433.203866 \nL 700.098214 433.203866 \nL 700.098214 431.999897 \nL 692.569643 431.999897 \nz\n\" style=\"fill:#359fab;\"/>\n   </g>\n   <g id=\"patch_360\">\n    <path clip-path=\"url(#p78f6205787)\" d=\"M 707.626786 433.891623 \nL 715.155357 433.891623 \nL 715.155357 433.025187 \nL 707.626786 433.025187 \nz\n\" style=\"fill:#359fab;\"/>\n   </g>\n   <g id=\"patch_361\">\n    <path clip-path=\"url(#p78f6205787)\" d=\"M 722.683929 433.525698 \nL 730.2125 433.525698 \nL 730.2125 432.508559 \nL 722.683929 432.508559 \nz\n\" style=\"fill:#359fab;\"/>\n   </g>\n   <g id=\"patch_362\">\n    <path clip-path=\"url(#p78f6205787)\" d=\"M 737.741071 436.188433 \nL 745.269643 436.188433 \nL 745.269643 435.79038 \nL 737.741071 435.79038 \nz\n\" style=\"fill:#359fab;\"/>\n   </g>\n   <g id=\"patch_363\">\n    <path clip-path=\"url(#p78f6205787)\" d=\"M 752.798214 437.555439 \nL 760.326786 437.555439 \nL 760.326786 437.412919 \nL 752.798214 437.412919 \nz\n\" style=\"fill:#359fab;\"/>\n   </g>\n   <g id=\"patch_364\">\n    <path clip-path=\"url(#p78f6205787)\" d=\"M 767.855357 437.007341 \nL 775.383929 437.007341 \nL 775.383929 436.774591 \nL 767.855357 436.774591 \nz\n\" style=\"fill:#359fab;\"/>\n   </g>\n   <g id=\"patch_365\">\n    <path clip-path=\"url(#p78f6205787)\" d=\"M 782.9125 437.331569 \nL 790.441071 437.331569 \nL 790.441071 437.199181 \nL 782.9125 437.199181 \nz\n\" style=\"fill:#359fab;\"/>\n   </g>\n   <g id=\"patch_366\">\n    <path clip-path=\"url(#p78f6205787)\" d=\"M 797.969643 432.70027 \nL 805.498214 432.70027 \nL 805.498214 431.495203 \nL 797.969643 431.495203 \nz\n\" style=\"fill:#359fab;\"/>\n   </g>\n   <g id=\"patch_367\">\n    <path clip-path=\"url(#p78f6205787)\" d=\"M 813.026786 436.251987 \nL 820.555357 436.251987 \nL 820.555357 435.877367 \nL 813.026786 435.877367 \nz\n\" style=\"fill:#359fab;\"/>\n   </g>\n   <g id=\"patch_368\">\n    <path clip-path=\"url(#p78f6205787)\" d=\"M 828.083929 419.97761 \nL 835.6125 419.97761 \nL 835.6125 416.2275 \nL 828.083929 416.2275 \nz\n\" style=\"fill:#359fab;\"/>\n   </g>\n   <g id=\"patch_369\">\n    <path clip-path=\"url(#p78f6205787)\" d=\"M 843.141071 435.346455 \nL 850.669643 435.346455 \nL 850.669643 434.803055 \nL 843.141071 434.803055 \nz\n\" style=\"fill:#359fab;\"/>\n   </g>\n   <g id=\"patch_370\">\n    <path clip-path=\"url(#p78f6205787)\" d=\"M 858.198214 436.834136 \nL 865.726786 436.834136 \nL 865.726786 436.54408 \nL 858.198214 436.54408 \nz\n\" style=\"fill:#359fab;\"/>\n   </g>\n   <g id=\"patch_371\">\n    <path clip-path=\"url(#p78f6205787)\" d=\"M 873.255357 431.974354 \nL 880.783929 431.974354 \nL 880.783929 430.9047 \nL 873.255357 430.9047 \nz\n\" style=\"fill:#359fab;\"/>\n   </g>\n   <g id=\"patch_372\">\n    <path clip-path=\"url(#p78f6205787)\" d=\"M 888.3125 437.56676 \nL 895.841071 437.56676 \nL 895.841071 437.444278 \nL 888.3125 437.444278 \nz\n\" style=\"fill:#359fab;\"/>\n   </g>\n   <g id=\"patch_373\">\n    <path clip-path=\"url(#p78f6205787)\" d=\"M 903.369643 437.962441 \nL 910.898214 437.962441 \nL 910.898214 437.929584 \nL 903.369643 437.929584 \nz\n\" style=\"fill:#359fab;\"/>\n   </g>\n   <g id=\"patch_374\">\n    <path clip-path=\"url(#p78f6205787)\" d=\"M 918.426786 436.477519 \nL 925.955357 436.477519 \nL 925.955357 436.069668 \nL 918.426786 436.069668 \nz\n\" style=\"fill:#359fab;\"/>\n   </g>\n   <g id=\"patch_375\">\n    <path clip-path=\"url(#p78f6205787)\" d=\"M 933.483929 437.6354 \nL 941.0125 437.6354 \nL 941.0125 437.547652 \nL 933.483929 437.547652 \nz\n\" style=\"fill:#359fab;\"/>\n   </g>\n   <g id=\"patch_376\">\n    <path clip-path=\"url(#p78f6205787)\" d=\"M 948.541071 432.204117 \nL 956.069643 432.204117 \nL 956.069643 430.90316 \nL 948.541071 430.90316 \nz\n\" style=\"fill:#359fab;\"/>\n   </g>\n   <g id=\"patch_377\">\n    <path clip-path=\"url(#p78f6205787)\" d=\"M 963.598214 435.533477 \nL 971.126786 435.533477 \nL 971.126786 434.978977 \nL 963.598214 434.978977 \nz\n\" style=\"fill:#359fab;\"/>\n   </g>\n   <g id=\"patch_378\">\n    <path clip-path=\"url(#p78f6205787)\" d=\"M 978.655357 437.257211 \nL 986.183929 437.257211 \nL 986.183929 437.111384 \nL 978.655357 437.111384 \nz\n\" style=\"fill:#359fab;\"/>\n   </g>\n   <g id=\"patch_379\">\n    <path clip-path=\"url(#p78f6205787)\" d=\"M 993.7125 396.740758 \nL 1001.241071 396.740758 \nL 1001.241071 385.230296 \nL 993.7125 385.230296 \nz\n\" style=\"fill:#359fab;\"/>\n   </g>\n   <g id=\"patch_380\">\n    <path clip-path=\"url(#p78f6205787)\" d=\"M 1008.769643 435.524509 \nL 1016.298214 435.524509 \nL 1016.298214 434.980193 \nL 1008.769643 434.980193 \nz\n\" style=\"fill:#359fab;\"/>\n   </g>\n   <g id=\"patch_381\">\n    <path clip-path=\"url(#p78f6205787)\" d=\"M 75.226786 435.636855 \nL 82.755357 435.636855 \nL 82.755357 435.197903 \nL 75.226786 435.197903 \nz\n\" style=\"fill:#4bc2ad;\"/>\n   </g>\n   <g id=\"patch_382\">\n    <path clip-path=\"url(#p78f6205787)\" d=\"M 90.283929 295.347377 \nL 97.8125 295.347377 \nL 97.8125 268.04414 \nL 90.283929 268.04414 \nz\n\" style=\"fill:#4bc2ad;\"/>\n   </g>\n   <g id=\"patch_383\">\n    <path clip-path=\"url(#p78f6205787)\" d=\"M 105.341071 436.421491 \nL 112.869643 436.421491 \nL 112.869643 436.101168 \nL 105.341071 436.101168 \nz\n\" style=\"fill:#4bc2ad;\"/>\n   </g>\n   <g id=\"patch_384\">\n    <path clip-path=\"url(#p78f6205787)\" d=\"M 120.398214 437.445546 \nL 127.926786 437.445546 \nL 127.926786 437.364411 \nL 120.398214 437.364411 \nz\n\" style=\"fill:#4bc2ad;\"/>\n   </g>\n   <g id=\"patch_385\">\n    <path clip-path=\"url(#p78f6205787)\" d=\"M 135.455357 437.425132 \nL 142.983929 437.425132 \nL 142.983929 437.304481 \nL 135.455357 437.304481 \nz\n\" style=\"fill:#4bc2ad;\"/>\n   </g>\n   <g id=\"patch_386\">\n    <path clip-path=\"url(#p78f6205787)\" d=\"M 150.5125 353.98261 \nL 158.041071 353.98261 \nL 158.041071 338.389652 \nL 150.5125 338.389652 \nz\n\" style=\"fill:#4bc2ad;\"/>\n   </g>\n   <g id=\"patch_387\">\n    <path clip-path=\"url(#p78f6205787)\" d=\"M 165.569643 410.585405 \nL 173.098214 410.585405 \nL 173.098214 405.528274 \nL 165.569643 405.528274 \nz\n\" style=\"fill:#4bc2ad;\"/>\n   </g>\n   <g id=\"patch_388\">\n    <path clip-path=\"url(#p78f6205787)\" d=\"M 180.626786 435.84788 \nL 188.155357 435.84788 \nL 188.155357 435.425682 \nL 180.626786 435.425682 \nz\n\" style=\"fill:#4bc2ad;\"/>\n   </g>\n   <g id=\"patch_389\">\n    <path clip-path=\"url(#p78f6205787)\" d=\"M 195.683929 437.166871 \nL 203.2125 437.166871 \nL 203.2125 437.013673 \nL 195.683929 437.013673 \nz\n\" style=\"fill:#4bc2ad;\"/>\n   </g>\n   <g id=\"patch_390\">\n    <path clip-path=\"url(#p78f6205787)\" d=\"M 210.741071 435.750423 \nL 218.269643 435.750423 \nL 218.269643 435.421235 \nL 210.741071 435.421235 \nz\n\" style=\"fill:#4bc2ad;\"/>\n   </g>\n   <g id=\"patch_391\">\n    <path clip-path=\"url(#p78f6205787)\" d=\"M 225.798214 437.378725 \nL 233.326786 437.378725 \nL 233.326786 437.234302 \nL 225.798214 437.234302 \nz\n\" style=\"fill:#4bc2ad;\"/>\n   </g>\n   <g id=\"patch_392\">\n    <path clip-path=\"url(#p78f6205787)\" d=\"M 240.855357 437.733413 \nL 248.383929 437.733413 \nL 248.383929 437.669285 \nL 240.855357 437.669285 \nz\n\" style=\"fill:#4bc2ad;\"/>\n   </g>\n   <g id=\"patch_393\">\n    <path clip-path=\"url(#p78f6205787)\" d=\"M 255.9125 437.610675 \nL 263.441071 437.610675 \nL 263.441071 437.489507 \nL 255.9125 437.489507 \nz\n\" style=\"fill:#4bc2ad;\"/>\n   </g>\n   <g id=\"patch_394\">\n    <path clip-path=\"url(#p78f6205787)\" d=\"M 270.969643 437.621441 \nL 278.498214 437.621441 \nL 278.498214 437.537105 \nL 270.969643 437.537105 \nz\n\" style=\"fill:#4bc2ad;\"/>\n   </g>\n   <g id=\"patch_395\">\n    <path clip-path=\"url(#p78f6205787)\" d=\"M 286.026786 434.761943 \nL 293.555357 434.761943 \nL 293.555357 434.258489 \nL 286.026786 434.258489 \nz\n\" style=\"fill:#4bc2ad;\"/>\n   </g>\n   <g id=\"patch_396\">\n    <path clip-path=\"url(#p78f6205787)\" d=\"M 301.083929 210.206114 \nL 308.6125 210.206114 \nL 308.6125 166.98483 \nL 301.083929 166.98483 \nz\n\" style=\"fill:#4bc2ad;\"/>\n   </g>\n   <g id=\"patch_397\">\n    <path clip-path=\"url(#p78f6205787)\" d=\"M 316.141071 437.466536 \nL 323.669643 437.466536 \nL 323.669643 437.338903 \nL 316.141071 437.338903 \nz\n\" style=\"fill:#4bc2ad;\"/>\n   </g>\n   <g id=\"patch_398\">\n    <path clip-path=\"url(#p78f6205787)\" d=\"M 331.198214 387.893319 \nL 338.726786 387.893319 \nL 338.726786 378.351733 \nL 331.198214 378.351733 \nz\n\" style=\"fill:#4bc2ad;\"/>\n   </g>\n   <g id=\"patch_399\">\n    <path clip-path=\"url(#p78f6205787)\" d=\"M 346.255357 426.863395 \nL 353.783929 426.863395 \nL 353.783929 424.722151 \nL 346.255357 424.722151 \nz\n\" style=\"fill:#4bc2ad;\"/>\n   </g>\n   <g id=\"patch_400\">\n    <path clip-path=\"url(#p78f6205787)\" d=\"M 361.3125 436.589555 \nL 368.841071 436.589555 \nL 368.841071 436.307745 \nL 361.3125 436.307745 \nz\n\" style=\"fill:#4bc2ad;\"/>\n   </g>\n   <g id=\"patch_401\">\n    <path clip-path=\"url(#p78f6205787)\" d=\"M 376.369643 322.096049 \nL 383.898214 322.096049 \nL 383.898214 301.520443 \nL 376.369643 301.520443 \nz\n\" style=\"fill:#4bc2ad;\"/>\n   </g>\n   <g id=\"patch_402\">\n    <path clip-path=\"url(#p78f6205787)\" d=\"M 391.426786 433.223528 \nL 398.955357 433.223528 \nL 398.955357 432.378161 \nL 391.426786 432.378161 \nz\n\" style=\"fill:#4bc2ad;\"/>\n   </g>\n   <g id=\"patch_403\">\n    <path clip-path=\"url(#p78f6205787)\" d=\"M 406.483929 422.014188 \nL 414.0125 422.014188 \nL 414.0125 419.187484 \nL 406.483929 419.187484 \nz\n\" style=\"fill:#4bc2ad;\"/>\n   </g>\n   <g id=\"patch_404\">\n    <path clip-path=\"url(#p78f6205787)\" d=\"M 421.541071 435.927242 \nL 429.069643 435.927242 \nL 429.069643 435.592202 \nL 421.541071 435.592202 \nz\n\" style=\"fill:#4bc2ad;\"/>\n   </g>\n   <g id=\"patch_405\">\n    <path clip-path=\"url(#p78f6205787)\" d=\"M 436.598214 435.617694 \nL 444.126786 435.617694 \nL 444.126786 435.177034 \nL 436.598214 435.177034 \nz\n\" style=\"fill:#4bc2ad;\"/>\n   </g>\n   <g id=\"patch_406\">\n    <path clip-path=\"url(#p78f6205787)\" d=\"M 451.655357 433.984958 \nL 459.183929 433.984958 \nL 459.183929 433.356863 \nL 451.655357 433.356863 \nz\n\" style=\"fill:#4bc2ad;\"/>\n   </g>\n   <g id=\"patch_407\">\n    <path clip-path=\"url(#p78f6205787)\" d=\"M 466.7125 437.931413 \nL 474.241071 437.931413 \nL 474.241071 437.899471 \nL 466.7125 437.899471 \nz\n\" style=\"fill:#4bc2ad;\"/>\n   </g>\n   <g id=\"patch_408\">\n    <path clip-path=\"url(#p78f6205787)\" d=\"M 481.769643 437.202154 \nL 489.298214 437.202154 \nL 489.298214 437.037947 \nL 481.769643 437.037947 \nz\n\" style=\"fill:#4bc2ad;\"/>\n   </g>\n   <g id=\"patch_409\">\n    <path clip-path=\"url(#p78f6205787)\" d=\"M 496.826786 437.808536 \nL 504.355357 437.808536 \nL 504.355357 437.746192 \nL 496.826786 437.746192 \nz\n\" style=\"fill:#4bc2ad;\"/>\n   </g>\n   <g id=\"patch_410\">\n    <path clip-path=\"url(#p78f6205787)\" d=\"M 511.883929 339.73283 \nL 519.4125 339.73283 \nL 519.4125 321.35873 \nL 511.883929 321.35873 \nz\n\" style=\"fill:#4bc2ad;\"/>\n   </g>\n   <g id=\"patch_411\">\n    <path clip-path=\"url(#p78f6205787)\" d=\"M 526.941071 437.746255 \nL 534.469643 437.746255 \nL 534.469643 437.690996 \nL 526.941071 437.690996 \nz\n\" style=\"fill:#4bc2ad;\"/>\n   </g>\n   <g id=\"patch_412\">\n    <path clip-path=\"url(#p78f6205787)\" d=\"M 541.998214 436.538595 \nL 549.526786 436.538595 \nL 549.526786 436.322045 \nL 541.998214 436.322045 \nz\n\" style=\"fill:#4bc2ad;\"/>\n   </g>\n   <g id=\"patch_413\">\n    <path clip-path=\"url(#p78f6205787)\" d=\"M 557.055357 437.106851 \nL 564.583929 437.106851 \nL 564.583929 436.929423 \nL 557.055357 436.929423 \nz\n\" style=\"fill:#4bc2ad;\"/>\n   </g>\n   <g id=\"patch_414\">\n    <path clip-path=\"url(#p78f6205787)\" d=\"M 572.1125 424.470108 \nL 579.641071 424.470108 \nL 579.641071 422.023878 \nL 572.1125 422.023878 \nz\n\" style=\"fill:#4bc2ad;\"/>\n   </g>\n   <g id=\"patch_415\">\n    <path clip-path=\"url(#p78f6205787)\" d=\"M 587.169643 384.180415 \nL 594.698214 384.180415 \nL 594.698214 373.955896 \nL 587.169643 373.955896 \nz\n\" style=\"fill:#4bc2ad;\"/>\n   </g>\n   <g id=\"patch_416\">\n    <path clip-path=\"url(#p78f6205787)\" d=\"M 602.226786 435.226062 \nL 609.755357 435.226062 \nL 609.755357 434.736027 \nL 602.226786 434.736027 \nz\n\" style=\"fill:#4bc2ad;\"/>\n   </g>\n   <g id=\"patch_417\">\n    <path clip-path=\"url(#p78f6205787)\" d=\"M 617.283929 436.93316 \nL 624.8125 436.93316 \nL 624.8125 436.684119 \nL 617.283929 436.684119 \nz\n\" style=\"fill:#4bc2ad;\"/>\n   </g>\n   <g id=\"patch_418\">\n    <path clip-path=\"url(#p78f6205787)\" d=\"M 632.341071 433.682171 \nL 639.869643 433.682171 \nL 639.869643 432.859576 \nL 632.341071 432.859576 \nz\n\" style=\"fill:#4bc2ad;\"/>\n   </g>\n   <g id=\"patch_419\">\n    <path clip-path=\"url(#p78f6205787)\" d=\"M 647.398214 415.469636 \nL 654.926786 415.469636 \nL 654.926786 411.678275 \nL 647.398214 411.678275 \nz\n\" style=\"fill:#4bc2ad;\"/>\n   </g>\n   <g id=\"patch_420\">\n    <path clip-path=\"url(#p78f6205787)\" d=\"M 662.455357 437.869244 \nL 669.983929 437.869244 \nL 669.983929 437.823315 \nL 662.455357 437.823315 \nz\n\" style=\"fill:#4bc2ad;\"/>\n   </g>\n   <g id=\"patch_421\">\n    <path clip-path=\"url(#p78f6205787)\" d=\"M 677.5125 433.623209 \nL 685.041071 433.623209 \nL 685.041071 432.927463 \nL 677.5125 432.927463 \nz\n\" style=\"fill:#4bc2ad;\"/>\n   </g>\n   <g id=\"patch_422\">\n    <path clip-path=\"url(#p78f6205787)\" d=\"M 692.569643 431.999897 \nL 700.098214 431.999897 \nL 700.098214 430.742544 \nL 692.569643 430.742544 \nz\n\" style=\"fill:#4bc2ad;\"/>\n   </g>\n   <g id=\"patch_423\">\n    <path clip-path=\"url(#p78f6205787)\" d=\"M 707.626786 433.025187 \nL 715.155357 433.025187 \nL 715.155357 432.150034 \nL 707.626786 432.150034 \nz\n\" style=\"fill:#4bc2ad;\"/>\n   </g>\n   <g id=\"patch_424\">\n    <path clip-path=\"url(#p78f6205787)\" d=\"M 722.683929 432.508559 \nL 730.2125 432.508559 \nL 730.2125 431.513438 \nL 722.683929 431.513438 \nz\n\" style=\"fill:#4bc2ad;\"/>\n   </g>\n   <g id=\"patch_425\">\n    <path clip-path=\"url(#p78f6205787)\" d=\"M 737.741071 435.79038 \nL 745.269643 435.79038 \nL 745.269643 435.403826 \nL 737.741071 435.403826 \nz\n\" style=\"fill:#4bc2ad;\"/>\n   </g>\n   <g id=\"patch_426\">\n    <path clip-path=\"url(#p78f6205787)\" d=\"M 752.798214 437.412919 \nL 760.326786 437.412919 \nL 760.326786 437.284366 \nL 752.798214 437.284366 \nz\n\" style=\"fill:#4bc2ad;\"/>\n   </g>\n   <g id=\"patch_427\">\n    <path clip-path=\"url(#p78f6205787)\" d=\"M 767.855357 436.774591 \nL 775.383929 436.774591 \nL 775.383929 436.531884 \nL 767.855357 436.531884 \nz\n\" style=\"fill:#4bc2ad;\"/>\n   </g>\n   <g id=\"patch_428\">\n    <path clip-path=\"url(#p78f6205787)\" d=\"M 782.9125 437.199181 \nL 790.441071 437.199181 \nL 790.441071 437.054123 \nL 782.9125 437.054123 \nz\n\" style=\"fill:#4bc2ad;\"/>\n   </g>\n   <g id=\"patch_429\">\n    <path clip-path=\"url(#p78f6205787)\" d=\"M 797.969643 431.495203 \nL 805.498214 431.495203 \nL 805.498214 430.254212 \nL 797.969643 430.254212 \nz\n\" style=\"fill:#4bc2ad;\"/>\n   </g>\n   <g id=\"patch_430\">\n    <path clip-path=\"url(#p78f6205787)\" d=\"M 813.026786 435.877367 \nL 820.555357 435.877367 \nL 820.555357 435.482559 \nL 813.026786 435.482559 \nz\n\" style=\"fill:#4bc2ad;\"/>\n   </g>\n   <g id=\"patch_431\">\n    <path clip-path=\"url(#p78f6205787)\" d=\"M 828.083929 416.2275 \nL 835.6125 416.2275 \nL 835.6125 412.370696 \nL 828.083929 412.370696 \nz\n\" style=\"fill:#4bc2ad;\"/>\n   </g>\n   <g id=\"patch_432\">\n    <path clip-path=\"url(#p78f6205787)\" d=\"M 843.141071 434.803055 \nL 850.669643 434.803055 \nL 850.669643 434.295549 \nL 843.141071 434.295549 \nz\n\" style=\"fill:#4bc2ad;\"/>\n   </g>\n   <g id=\"patch_433\">\n    <path clip-path=\"url(#p78f6205787)\" d=\"M 858.198214 436.54408 \nL 865.726786 436.54408 \nL 865.726786 436.251179 \nL 858.198214 436.251179 \nz\n\" style=\"fill:#4bc2ad;\"/>\n   </g>\n   <g id=\"patch_434\">\n    <path clip-path=\"url(#p78f6205787)\" d=\"M 873.255357 430.9047 \nL 880.783929 430.9047 \nL 880.783929 429.842066 \nL 873.255357 429.842066 \nz\n\" style=\"fill:#4bc2ad;\"/>\n   </g>\n   <g id=\"patch_435\">\n    <path clip-path=\"url(#p78f6205787)\" d=\"M 888.3125 437.444278 \nL 895.841071 437.444278 \nL 895.841071 437.325616 \nL 888.3125 437.325616 \nz\n\" style=\"fill:#4bc2ad;\"/>\n   </g>\n   <g id=\"patch_436\">\n    <path clip-path=\"url(#p78f6205787)\" d=\"M 903.369643 437.929584 \nL 910.898214 437.929584 \nL 910.898214 437.902119 \nL 903.369643 437.902119 \nz\n\" style=\"fill:#4bc2ad;\"/>\n   </g>\n   <g id=\"patch_437\">\n    <path clip-path=\"url(#p78f6205787)\" d=\"M 918.426786 436.069668 \nL 925.955357 436.069668 \nL 925.955357 435.665229 \nL 918.426786 435.665229 \nz\n\" style=\"fill:#4bc2ad;\"/>\n   </g>\n   <g id=\"patch_438\">\n    <path clip-path=\"url(#p78f6205787)\" d=\"M 933.483929 437.547652 \nL 941.0125 437.547652 \nL 941.0125 437.453292 \nL 933.483929 437.453292 \nz\n\" style=\"fill:#4bc2ad;\"/>\n   </g>\n   <g id=\"patch_439\">\n    <path clip-path=\"url(#p78f6205787)\" d=\"M 948.541071 430.90316 \nL 956.069643 430.90316 \nL 956.069643 429.573521 \nL 948.541071 429.573521 \nz\n\" style=\"fill:#4bc2ad;\"/>\n   </g>\n   <g id=\"patch_440\">\n    <path clip-path=\"url(#p78f6205787)\" d=\"M 963.598214 434.978977 \nL 971.126786 434.978977 \nL 971.126786 434.43218 \nL 963.598214 434.43218 \nz\n\" style=\"fill:#4bc2ad;\"/>\n   </g>\n   <g id=\"patch_441\">\n    <path clip-path=\"url(#p78f6205787)\" d=\"M 978.655357 437.111384 \nL 986.183929 437.111384 \nL 986.183929 436.959378 \nL 978.655357 436.959378 \nz\n\" style=\"fill:#4bc2ad;\"/>\n   </g>\n   <g id=\"patch_442\">\n    <path clip-path=\"url(#p78f6205787)\" d=\"M 993.7125 385.230296 \nL 1001.241071 385.230296 \nL 1001.241071 373.509 \nL 993.7125 373.509 \nz\n\" style=\"fill:#4bc2ad;\"/>\n   </g>\n   <g id=\"patch_443\">\n    <path clip-path=\"url(#p78f6205787)\" d=\"M 1008.769643 434.980193 \nL 1016.298214 434.980193 \nL 1016.298214 434.40653 \nL 1008.769643 434.40653 \nz\n\" style=\"fill:#4bc2ad;\"/>\n   </g>\n   <g id=\"patch_444\">\n    <path clip-path=\"url(#p78f6205787)\" d=\"M 75.226786 435.197903 \nL 82.755357 435.197903 \nL 82.755357 434.76232 \nL 75.226786 434.76232 \nz\n\" style=\"fill:#99ddb6;\"/>\n   </g>\n   <g id=\"patch_445\">\n    <path clip-path=\"url(#p78f6205787)\" d=\"M 90.283929 268.04414 \nL 97.8125 268.04414 \nL 97.8125 239.648605 \nL 90.283929 239.648605 \nz\n\" style=\"fill:#99ddb6;\"/>\n   </g>\n   <g id=\"patch_446\">\n    <path clip-path=\"url(#p78f6205787)\" d=\"M 105.341071 436.101168 \nL 112.869643 436.101168 \nL 112.869643 435.782234 \nL 105.341071 435.782234 \nz\n\" style=\"fill:#99ddb6;\"/>\n   </g>\n   <g id=\"patch_447\">\n    <path clip-path=\"url(#p78f6205787)\" d=\"M 120.398214 437.364411 \nL 127.926786 437.364411 \nL 127.926786 437.279565 \nL 120.398214 437.279565 \nz\n\" style=\"fill:#99ddb6;\"/>\n   </g>\n   <g id=\"patch_448\">\n    <path clip-path=\"url(#p78f6205787)\" d=\"M 135.455357 437.304481 \nL 142.983929 437.304481 \nL 142.983929 437.195523 \nL 135.455357 437.195523 \nz\n\" style=\"fill:#99ddb6;\"/>\n   </g>\n   <g id=\"patch_449\">\n    <path clip-path=\"url(#p78f6205787)\" d=\"M 150.5125 338.389652 \nL 158.041071 338.389652 \nL 158.041071 322.008105 \nL 150.5125 322.008105 \nz\n\" style=\"fill:#99ddb6;\"/>\n   </g>\n   <g id=\"patch_450\">\n    <path clip-path=\"url(#p78f6205787)\" d=\"M 165.569643 405.528274 \nL 173.098214 405.528274 \nL 173.098214 399.958702 \nL 165.569643 399.958702 \nz\n\" style=\"fill:#99ddb6;\"/>\n   </g>\n   <g id=\"patch_451\">\n    <path clip-path=\"url(#p78f6205787)\" d=\"M 180.626786 435.425682 \nL 188.155357 435.425682 \nL 188.155357 434.984867 \nL 180.626786 434.984867 \nz\n\" style=\"fill:#99ddb6;\"/>\n   </g>\n   <g id=\"patch_452\">\n    <path clip-path=\"url(#p78f6205787)\" d=\"M 195.683929 437.013673 \nL 203.2125 437.013673 \nL 203.2125 436.846042 \nL 195.683929 436.846042 \nz\n\" style=\"fill:#99ddb6;\"/>\n   </g>\n   <g id=\"patch_453\">\n    <path clip-path=\"url(#p78f6205787)\" d=\"M 210.741071 435.421235 \nL 218.269643 435.421235 \nL 218.269643 435.081768 \nL 210.741071 435.081768 \nz\n\" style=\"fill:#99ddb6;\"/>\n   </g>\n   <g id=\"patch_454\">\n    <path clip-path=\"url(#p78f6205787)\" d=\"M 225.798214 437.234302 \nL 233.326786 437.234302 \nL 233.326786 437.086217 \nL 225.798214 437.086217 \nz\n\" style=\"fill:#99ddb6;\"/>\n   </g>\n   <g id=\"patch_455\">\n    <path clip-path=\"url(#p78f6205787)\" d=\"M 240.855357 437.669285 \nL 248.383929 437.669285 \nL 248.383929 437.599555 \nL 240.855357 437.599555 \nz\n\" style=\"fill:#99ddb6;\"/>\n   </g>\n   <g id=\"patch_456\">\n    <path clip-path=\"url(#p78f6205787)\" d=\"M 255.9125 437.489507 \nL 263.441071 437.489507 \nL 263.441071 437.38716 \nL 255.9125 437.38716 \nz\n\" style=\"fill:#99ddb6;\"/>\n   </g>\n   <g id=\"patch_457\">\n    <path clip-path=\"url(#p78f6205787)\" d=\"M 270.969643 437.537105 \nL 278.498214 437.537105 \nL 278.498214 437.453289 \nL 270.969643 437.453289 \nz\n\" style=\"fill:#99ddb6;\"/>\n   </g>\n   <g id=\"patch_458\">\n    <path clip-path=\"url(#p78f6205787)\" d=\"M 286.026786 434.258489 \nL 293.555357 434.258489 \nL 293.555357 433.759174 \nL 286.026786 433.759174 \nz\n\" style=\"fill:#99ddb6;\"/>\n   </g>\n   <g id=\"patch_459\">\n    <path clip-path=\"url(#p78f6205787)\" d=\"M 301.083929 166.98483 \nL 308.6125 166.98483 \nL 308.6125 122.355861 \nL 301.083929 122.355861 \nz\n\" style=\"fill:#99ddb6;\"/>\n   </g>\n   <g id=\"patch_460\">\n    <path clip-path=\"url(#p78f6205787)\" d=\"M 316.141071 437.338903 \nL 323.669643 437.338903 \nL 323.669643 437.21373 \nL 316.141071 437.21373 \nz\n\" style=\"fill:#99ddb6;\"/>\n   </g>\n   <g id=\"patch_461\">\n    <path clip-path=\"url(#p78f6205787)\" d=\"M 331.198214 378.351733 \nL 338.726786 378.351733 \nL 338.726786 368.21525 \nL 331.198214 368.21525 \nz\n\" style=\"fill:#99ddb6;\"/>\n   </g>\n   <g id=\"patch_462\">\n    <path clip-path=\"url(#p78f6205787)\" d=\"M 346.255357 424.722151 \nL 353.783929 424.722151 \nL 353.783929 422.519506 \nL 346.255357 422.519506 \nz\n\" style=\"fill:#99ddb6;\"/>\n   </g>\n   <g id=\"patch_463\">\n    <path clip-path=\"url(#p78f6205787)\" d=\"M 361.3125 436.307745 \nL 368.841071 436.307745 \nL 368.841071 436.007 \nL 361.3125 436.007 \nz\n\" style=\"fill:#99ddb6;\"/>\n   </g>\n   <g id=\"patch_464\">\n    <path clip-path=\"url(#p78f6205787)\" d=\"M 376.369643 301.520443 \nL 383.898214 301.520443 \nL 383.898214 280.04084 \nL 376.369643 280.04084 \nz\n\" style=\"fill:#99ddb6;\"/>\n   </g>\n   <g id=\"patch_465\">\n    <path clip-path=\"url(#p78f6205787)\" d=\"M 391.426786 432.378161 \nL 398.955357 432.378161 \nL 398.955357 431.515657 \nL 391.426786 431.515657 \nz\n\" style=\"fill:#99ddb6;\"/>\n   </g>\n   <g id=\"patch_466\">\n    <path clip-path=\"url(#p78f6205787)\" d=\"M 406.483929 419.187484 \nL 414.0125 419.187484 \nL 414.0125 416.324139 \nL 406.483929 416.324139 \nz\n\" style=\"fill:#99ddb6;\"/>\n   </g>\n   <g id=\"patch_467\">\n    <path clip-path=\"url(#p78f6205787)\" d=\"M 421.541071 435.592202 \nL 429.069643 435.592202 \nL 429.069643 435.224442 \nL 421.541071 435.224442 \nz\n\" style=\"fill:#99ddb6;\"/>\n   </g>\n   <g id=\"patch_468\">\n    <path clip-path=\"url(#p78f6205787)\" d=\"M 436.598214 435.177034 \nL 444.126786 435.177034 \nL 444.126786 434.720976 \nL 436.598214 434.720976 \nz\n\" style=\"fill:#99ddb6;\"/>\n   </g>\n   <g id=\"patch_469\">\n    <path clip-path=\"url(#p78f6205787)\" d=\"M 451.655357 433.356863 \nL 459.183929 433.356863 \nL 459.183929 432.682706 \nL 451.655357 432.682706 \nz\n\" style=\"fill:#99ddb6;\"/>\n   </g>\n   <g id=\"patch_470\">\n    <path clip-path=\"url(#p78f6205787)\" d=\"M 466.7125 437.899471 \nL 474.241071 437.899471 \nL 474.241071 437.864665 \nL 466.7125 437.864665 \nz\n\" style=\"fill:#99ddb6;\"/>\n   </g>\n   <g id=\"patch_471\">\n    <path clip-path=\"url(#p78f6205787)\" d=\"M 481.769643 437.037947 \nL 489.298214 437.037947 \nL 489.298214 436.857288 \nL 481.769643 436.857288 \nz\n\" style=\"fill:#99ddb6;\"/>\n   </g>\n   <g id=\"patch_472\">\n    <path clip-path=\"url(#p78f6205787)\" d=\"M 496.826786 437.746192 \nL 504.355357 437.746192 \nL 504.355357 437.680459 \nL 496.826786 437.680459 \nz\n\" style=\"fill:#99ddb6;\"/>\n   </g>\n   <g id=\"patch_473\">\n    <path clip-path=\"url(#p78f6205787)\" d=\"M 511.883929 321.35873 \nL 519.4125 321.35873 \nL 519.4125 302.429743 \nL 511.883929 302.429743 \nz\n\" style=\"fill:#99ddb6;\"/>\n   </g>\n   <g id=\"patch_474\">\n    <path clip-path=\"url(#p78f6205787)\" d=\"M 526.941071 437.690996 \nL 534.469643 437.690996 \nL 534.469643 437.630664 \nL 526.941071 437.630664 \nz\n\" style=\"fill:#99ddb6;\"/>\n   </g>\n   <g id=\"patch_475\">\n    <path clip-path=\"url(#p78f6205787)\" d=\"M 541.998214 436.322045 \nL 549.526786 436.322045 \nL 549.526786 436.101221 \nL 541.998214 436.101221 \nz\n\" style=\"fill:#99ddb6;\"/>\n   </g>\n   <g id=\"patch_476\">\n    <path clip-path=\"url(#p78f6205787)\" d=\"M 557.055357 436.929423 \nL 564.583929 436.929423 \nL 564.583929 436.731785 \nL 557.055357 436.731785 \nz\n\" style=\"fill:#99ddb6;\"/>\n   </g>\n   <g id=\"patch_477\">\n    <path clip-path=\"url(#p78f6205787)\" d=\"M 572.1125 422.023878 \nL 579.641071 422.023878 \nL 579.641071 419.593913 \nL 572.1125 419.593913 \nz\n\" style=\"fill:#99ddb6;\"/>\n   </g>\n   <g id=\"patch_478\">\n    <path clip-path=\"url(#p78f6205787)\" d=\"M 587.169643 373.955896 \nL 594.698214 373.955896 \nL 594.698214 363.223605 \nL 587.169643 363.223605 \nz\n\" style=\"fill:#99ddb6;\"/>\n   </g>\n   <g id=\"patch_479\">\n    <path clip-path=\"url(#p78f6205787)\" d=\"M 602.226786 434.736027 \nL 609.755357 434.736027 \nL 609.755357 434.254078 \nL 602.226786 434.254078 \nz\n\" style=\"fill:#99ddb6;\"/>\n   </g>\n   <g id=\"patch_480\">\n    <path clip-path=\"url(#p78f6205787)\" d=\"M 617.283929 436.684119 \nL 624.8125 436.684119 \nL 624.8125 436.419919 \nL 617.283929 436.419919 \nz\n\" style=\"fill:#99ddb6;\"/>\n   </g>\n   <g id=\"patch_481\">\n    <path clip-path=\"url(#p78f6205787)\" d=\"M 632.341071 432.859576 \nL 639.869643 432.859576 \nL 639.869643 432.133888 \nL 632.341071 432.133888 \nz\n\" style=\"fill:#99ddb6;\"/>\n   </g>\n   <g id=\"patch_482\">\n    <path clip-path=\"url(#p78f6205787)\" d=\"M 647.398214 411.678275 \nL 654.926786 411.678275 \nL 654.926786 407.703975 \nL 647.398214 407.703975 \nz\n\" style=\"fill:#99ddb6;\"/>\n   </g>\n   <g id=\"patch_483\">\n    <path clip-path=\"url(#p78f6205787)\" d=\"M 662.455357 437.823315 \nL 669.983929 437.823315 \nL 669.983929 437.774649 \nL 662.455357 437.774649 \nz\n\" style=\"fill:#99ddb6;\"/>\n   </g>\n   <g id=\"patch_484\">\n    <path clip-path=\"url(#p78f6205787)\" d=\"M 677.5125 432.927463 \nL 685.041071 432.927463 \nL 685.041071 432.244356 \nL 677.5125 432.244356 \nz\n\" style=\"fill:#99ddb6;\"/>\n   </g>\n   <g id=\"patch_485\">\n    <path clip-path=\"url(#p78f6205787)\" d=\"M 692.569643 430.742544 \nL 700.098214 430.742544 \nL 700.098214 429.395109 \nL 692.569643 429.395109 \nz\n\" style=\"fill:#99ddb6;\"/>\n   </g>\n   <g id=\"patch_486\">\n    <path clip-path=\"url(#p78f6205787)\" d=\"M 707.626786 432.150034 \nL 715.155357 432.150034 \nL 715.155357 431.245199 \nL 707.626786 431.245199 \nz\n\" style=\"fill:#99ddb6;\"/>\n   </g>\n   <g id=\"patch_487\">\n    <path clip-path=\"url(#p78f6205787)\" d=\"M 722.683929 431.513438 \nL 730.2125 431.513438 \nL 730.2125 430.475078 \nL 722.683929 430.475078 \nz\n\" style=\"fill:#99ddb6;\"/>\n   </g>\n   <g id=\"patch_488\">\n    <path clip-path=\"url(#p78f6205787)\" d=\"M 737.741071 435.403826 \nL 745.269643 435.403826 \nL 745.269643 435.018297 \nL 737.741071 435.018297 \nz\n\" style=\"fill:#99ddb6;\"/>\n   </g>\n   <g id=\"patch_489\">\n    <path clip-path=\"url(#p78f6205787)\" d=\"M 752.798214 437.284366 \nL 760.326786 437.284366 \nL 760.326786 437.153307 \nL 752.798214 437.153307 \nz\n\" style=\"fill:#99ddb6;\"/>\n   </g>\n   <g id=\"patch_490\">\n    <path clip-path=\"url(#p78f6205787)\" d=\"M 767.855357 436.531884 \nL 775.383929 436.531884 \nL 775.383929 436.276428 \nL 767.855357 436.276428 \nz\n\" style=\"fill:#99ddb6;\"/>\n   </g>\n   <g id=\"patch_491\">\n    <path clip-path=\"url(#p78f6205787)\" d=\"M 782.9125 437.054123 \nL 790.441071 437.054123 \nL 790.441071 436.919387 \nL 782.9125 436.919387 \nz\n\" style=\"fill:#99ddb6;\"/>\n   </g>\n   <g id=\"patch_492\">\n    <path clip-path=\"url(#p78f6205787)\" d=\"M 797.969643 430.254212 \nL 805.498214 430.254212 \nL 805.498214 429.008274 \nL 797.969643 429.008274 \nz\n\" style=\"fill:#99ddb6;\"/>\n   </g>\n   <g id=\"patch_493\">\n    <path clip-path=\"url(#p78f6205787)\" d=\"M 813.026786 435.482559 \nL 820.555357 435.482559 \nL 820.555357 435.121772 \nL 813.026786 435.121772 \nz\n\" style=\"fill:#99ddb6;\"/>\n   </g>\n   <g id=\"patch_494\">\n    <path clip-path=\"url(#p78f6205787)\" d=\"M 828.083929 412.370696 \nL 835.6125 412.370696 \nL 835.6125 408.418501 \nL 828.083929 408.418501 \nz\n\" style=\"fill:#99ddb6;\"/>\n   </g>\n   <g id=\"patch_495\">\n    <path clip-path=\"url(#p78f6205787)\" d=\"M 843.141071 434.295549 \nL 850.669643 434.295549 \nL 850.669643 433.793277 \nL 843.141071 433.793277 \nz\n\" style=\"fill:#99ddb6;\"/>\n   </g>\n   <g id=\"patch_496\">\n    <path clip-path=\"url(#p78f6205787)\" d=\"M 858.198214 436.251179 \nL 865.726786 436.251179 \nL 865.726786 435.968463 \nL 858.198214 435.968463 \nz\n\" style=\"fill:#99ddb6;\"/>\n   </g>\n   <g id=\"patch_497\">\n    <path clip-path=\"url(#p78f6205787)\" d=\"M 873.255357 429.842066 \nL 880.783929 429.842066 \nL 880.783929 428.744573 \nL 873.255357 428.744573 \nz\n\" style=\"fill:#99ddb6;\"/>\n   </g>\n   <g id=\"patch_498\">\n    <path clip-path=\"url(#p78f6205787)\" d=\"M 888.3125 437.325616 \nL 895.841071 437.325616 \nL 895.841071 437.215107 \nL 888.3125 437.215107 \nz\n\" style=\"fill:#99ddb6;\"/>\n   </g>\n   <g id=\"patch_499\">\n    <path clip-path=\"url(#p78f6205787)\" d=\"M 903.369643 437.902119 \nL 910.898214 437.902119 \nL 910.898214 437.872442 \nL 903.369643 437.872442 \nz\n\" style=\"fill:#99ddb6;\"/>\n   </g>\n   <g id=\"patch_500\">\n    <path clip-path=\"url(#p78f6205787)\" d=\"M 918.426786 435.665229 \nL 925.955357 435.665229 \nL 925.955357 435.26064 \nL 918.426786 435.26064 \nz\n\" style=\"fill:#99ddb6;\"/>\n   </g>\n   <g id=\"patch_501\">\n    <path clip-path=\"url(#p78f6205787)\" d=\"M 933.483929 437.453292 \nL 941.0125 437.453292 \nL 941.0125 437.370382 \nL 933.483929 437.370382 \nz\n\" style=\"fill:#99ddb6;\"/>\n   </g>\n   <g id=\"patch_502\">\n    <path clip-path=\"url(#p78f6205787)\" d=\"M 948.541071 429.573521 \nL 956.069643 429.573521 \nL 956.069643 428.175072 \nL 948.541071 428.175072 \nz\n\" style=\"fill:#99ddb6;\"/>\n   </g>\n   <g id=\"patch_503\">\n    <path clip-path=\"url(#p78f6205787)\" d=\"M 963.598214 434.43218 \nL 971.126786 434.43218 \nL 971.126786 433.845779 \nL 963.598214 433.845779 \nz\n\" style=\"fill:#99ddb6;\"/>\n   </g>\n   <g id=\"patch_504\">\n    <path clip-path=\"url(#p78f6205787)\" d=\"M 978.655357 436.959378 \nL 986.183929 436.959378 \nL 986.183929 436.826747 \nL 978.655357 436.826747 \nz\n\" style=\"fill:#99ddb6;\"/>\n   </g>\n   <g id=\"patch_505\">\n    <path clip-path=\"url(#p78f6205787)\" d=\"M 993.7125 373.509 \nL 1001.241071 373.509 \nL 1001.241071 361.015265 \nL 993.7125 361.015265 \nz\n\" style=\"fill:#99ddb6;\"/>\n   </g>\n   <g id=\"patch_506\">\n    <path clip-path=\"url(#p78f6205787)\" d=\"M 1008.769643 434.40653 \nL 1016.298214 434.40653 \nL 1016.298214 433.885964 \nL 1008.769643 433.885964 \nz\n\" style=\"fill:#99ddb6;\"/>\n   </g>\n   <g id=\"patch_507\">\n    <path clip-path=\"url(#p78f6205787)\" d=\"M 75.226786 434.76232 \nL 82.755357 434.76232 \nL 82.755357 434.315261 \nL 75.226786 434.315261 \nz\n\" style=\"fill:#def5e5;\"/>\n   </g>\n   <g id=\"patch_508\">\n    <path clip-path=\"url(#p78f6205787)\" d=\"M 90.283929 239.648605 \nL 97.8125 239.648605 \nL 97.8125 210.332177 \nL 90.283929 210.332177 \nz\n\" style=\"fill:#def5e5;\"/>\n   </g>\n   <g id=\"patch_509\">\n    <path clip-path=\"url(#p78f6205787)\" d=\"M 105.341071 435.782234 \nL 112.869643 435.782234 \nL 112.869643 435.460739 \nL 105.341071 435.460739 \nz\n\" style=\"fill:#def5e5;\"/>\n   </g>\n   <g id=\"patch_510\">\n    <path clip-path=\"url(#p78f6205787)\" d=\"M 120.398214 437.279565 \nL 127.926786 437.279565 \nL 127.926786 437.188048 \nL 120.398214 437.188048 \nz\n\" style=\"fill:#def5e5;\"/>\n   </g>\n   <g id=\"patch_511\">\n    <path clip-path=\"url(#p78f6205787)\" d=\"M 135.455357 437.195523 \nL 142.983929 437.195523 \nL 142.983929 437.085241 \nL 135.455357 437.085241 \nz\n\" style=\"fill:#def5e5;\"/>\n   </g>\n   <g id=\"patch_512\">\n    <path clip-path=\"url(#p78f6205787)\" d=\"M 150.5125 322.008105 \nL 158.041071 322.008105 \nL 158.041071 305.152703 \nL 150.5125 305.152703 \nz\n\" style=\"fill:#def5e5;\"/>\n   </g>\n   <g id=\"patch_513\">\n    <path clip-path=\"url(#p78f6205787)\" d=\"M 165.569643 399.958702 \nL 173.098214 399.958702 \nL 173.098214 394.599281 \nL 165.569643 394.599281 \nz\n\" style=\"fill:#def5e5;\"/>\n   </g>\n   <g id=\"patch_514\">\n    <path clip-path=\"url(#p78f6205787)\" d=\"M 180.626786 434.984867 \nL 188.155357 434.984867 \nL 188.155357 434.52412 \nL 180.626786 434.52412 \nz\n\" style=\"fill:#def5e5;\"/>\n   </g>\n   <g id=\"patch_515\">\n    <path clip-path=\"url(#p78f6205787)\" d=\"M 195.683929 436.846042 \nL 203.2125 436.846042 \nL 203.2125 436.689243 \nL 195.683929 436.689243 \nz\n\" style=\"fill:#def5e5;\"/>\n   </g>\n   <g id=\"patch_516\">\n    <path clip-path=\"url(#p78f6205787)\" d=\"M 210.741071 435.081768 \nL 218.269643 435.081768 \nL 218.269643 434.748559 \nL 210.741071 434.748559 \nz\n\" style=\"fill:#def5e5;\"/>\n   </g>\n   <g id=\"patch_517\">\n    <path clip-path=\"url(#p78f6205787)\" d=\"M 225.798214 437.086217 \nL 233.326786 437.086217 \nL 233.326786 436.923618 \nL 225.798214 436.923618 \nz\n\" style=\"fill:#def5e5;\"/>\n   </g>\n   <g id=\"patch_518\">\n    <path clip-path=\"url(#p78f6205787)\" d=\"M 240.855357 437.599555 \nL 248.383929 437.599555 \nL 248.383929 437.527883 \nL 240.855357 437.527883 \nz\n\" style=\"fill:#def5e5;\"/>\n   </g>\n   <g id=\"patch_519\">\n    <path clip-path=\"url(#p78f6205787)\" d=\"M 255.9125 437.38716 \nL 263.441071 437.38716 \nL 263.441071 437.302856 \nL 255.9125 437.302856 \nz\n\" style=\"fill:#def5e5;\"/>\n   </g>\n   <g id=\"patch_520\">\n    <path clip-path=\"url(#p78f6205787)\" d=\"M 270.969643 437.453289 \nL 278.498214 437.453289 \nL 278.498214 437.368219 \nL 270.969643 437.368219 \nz\n\" style=\"fill:#def5e5;\"/>\n   </g>\n   <g id=\"patch_521\">\n    <path clip-path=\"url(#p78f6205787)\" d=\"M 286.026786 433.759174 \nL 293.555357 433.759174 \nL 293.555357 433.236158 \nL 286.026786 433.236158 \nz\n\" style=\"fill:#def5e5;\"/>\n   </g>\n   <g id=\"patch_522\">\n    <path clip-path=\"url(#p78f6205787)\" d=\"M 301.083929 122.355861 \nL 308.6125 122.355861 \nL 308.6125 75.72 \nL 301.083929 75.72 \nz\n\" style=\"fill:#def5e5;\"/>\n   </g>\n   <g id=\"patch_523\">\n    <path clip-path=\"url(#p78f6205787)\" d=\"M 316.141071 437.21373 \nL 323.669643 437.21373 \nL 323.669643 437.10949 \nL 316.141071 437.10949 \nz\n\" style=\"fill:#def5e5;\"/>\n   </g>\n   <g id=\"patch_524\">\n    <path clip-path=\"url(#p78f6205787)\" d=\"M 331.198214 368.21525 \nL 338.726786 368.21525 \nL 338.726786 357.734808 \nL 331.198214 357.734808 \nz\n\" style=\"fill:#def5e5;\"/>\n   </g>\n   <g id=\"patch_525\">\n    <path clip-path=\"url(#p78f6205787)\" d=\"M 346.255357 422.519506 \nL 353.783929 422.519506 \nL 353.783929 420.27243 \nL 346.255357 420.27243 \nz\n\" style=\"fill:#def5e5;\"/>\n   </g>\n   <g id=\"patch_526\">\n    <path clip-path=\"url(#p78f6205787)\" d=\"M 361.3125 436.007 \nL 368.841071 436.007 \nL 368.841071 435.684734 \nL 361.3125 435.684734 \nz\n\" style=\"fill:#def5e5;\"/>\n   </g>\n   <g id=\"patch_527\">\n    <path clip-path=\"url(#p78f6205787)\" d=\"M 376.369643 280.04084 \nL 383.898214 280.04084 \nL 383.898214 257.839981 \nL 376.369643 257.839981 \nz\n\" style=\"fill:#def5e5;\"/>\n   </g>\n   <g id=\"patch_528\">\n    <path clip-path=\"url(#p78f6205787)\" d=\"M 391.426786 431.515657 \nL 398.955357 431.515657 \nL 398.955357 430.633498 \nL 391.426786 430.633498 \nz\n\" style=\"fill:#def5e5;\"/>\n   </g>\n   <g id=\"patch_529\">\n    <path clip-path=\"url(#p78f6205787)\" d=\"M 406.483929 416.324139 \nL 414.0125 416.324139 \nL 414.0125 413.499107 \nL 406.483929 413.499107 \nz\n\" style=\"fill:#def5e5;\"/>\n   </g>\n   <g id=\"patch_530\">\n    <path clip-path=\"url(#p78f6205787)\" d=\"M 421.541071 435.224442 \nL 429.069643 435.224442 \nL 429.069643 434.87485 \nL 421.541071 434.87485 \nz\n\" style=\"fill:#def5e5;\"/>\n   </g>\n   <g id=\"patch_531\">\n    <path clip-path=\"url(#p78f6205787)\" d=\"M 436.598214 434.720976 \nL 444.126786 434.720976 \nL 444.126786 434.245191 \nL 436.598214 434.245191 \nz\n\" style=\"fill:#def5e5;\"/>\n   </g>\n   <g id=\"patch_532\">\n    <path clip-path=\"url(#p78f6205787)\" d=\"M 451.655357 432.682706 \nL 459.183929 432.682706 \nL 459.183929 431.997743 \nL 451.655357 431.997743 \nz\n\" style=\"fill:#def5e5;\"/>\n   </g>\n   <g id=\"patch_533\">\n    <path clip-path=\"url(#p78f6205787)\" d=\"M 466.7125 437.864665 \nL 474.241071 437.864665 \nL 474.241071 437.829583 \nL 466.7125 437.829583 \nz\n\" style=\"fill:#def5e5;\"/>\n   </g>\n   <g id=\"patch_534\">\n    <path clip-path=\"url(#p78f6205787)\" d=\"M 481.769643 436.857288 \nL 489.298214 436.857288 \nL 489.298214 436.674953 \nL 481.769643 436.674953 \nz\n\" style=\"fill:#def5e5;\"/>\n   </g>\n   <g id=\"patch_535\">\n    <path clip-path=\"url(#p78f6205787)\" d=\"M 496.826786 437.680459 \nL 504.355357 437.680459 \nL 504.355357 437.601468 \nL 496.826786 437.601468 \nz\n\" style=\"fill:#def5e5;\"/>\n   </g>\n   <g id=\"patch_536\">\n    <path clip-path=\"url(#p78f6205787)\" d=\"M 511.883929 302.429743 \nL 519.4125 302.429743 \nL 519.4125 282.827517 \nL 511.883929 282.827517 \nz\n\" style=\"fill:#def5e5;\"/>\n   </g>\n   <g id=\"patch_537\">\n    <path clip-path=\"url(#p78f6205787)\" d=\"M 526.941071 437.630664 \nL 534.469643 437.630664 \nL 534.469643 437.581536 \nL 526.941071 437.581536 \nz\n\" style=\"fill:#def5e5;\"/>\n   </g>\n   <g id=\"patch_538\">\n    <path clip-path=\"url(#p78f6205787)\" d=\"M 541.998214 436.101221 \nL 549.526786 436.101221 \nL 549.526786 435.840582 \nL 541.998214 435.840582 \nz\n\" style=\"fill:#def5e5;\"/>\n   </g>\n   <g id=\"patch_539\">\n    <path clip-path=\"url(#p78f6205787)\" d=\"M 557.055357 436.731785 \nL 564.583929 436.731785 \nL 564.583929 436.525793 \nL 557.055357 436.525793 \nz\n\" style=\"fill:#def5e5;\"/>\n   </g>\n   <g id=\"patch_540\">\n    <path clip-path=\"url(#p78f6205787)\" d=\"M 572.1125 419.593913 \nL 579.641071 419.593913 \nL 579.641071 417.253357 \nL 572.1125 417.253357 \nz\n\" style=\"fill:#def5e5;\"/>\n   </g>\n   <g id=\"patch_541\">\n    <path clip-path=\"url(#p78f6205787)\" d=\"M 587.169643 363.223605 \nL 594.698214 363.223605 \nL 594.698214 352.044127 \nL 587.169643 352.044127 \nz\n\" style=\"fill:#def5e5;\"/>\n   </g>\n   <g id=\"patch_542\">\n    <path clip-path=\"url(#p78f6205787)\" d=\"M 602.226786 434.254078 \nL 609.755357 434.254078 \nL 609.755357 433.780452 \nL 602.226786 433.780452 \nz\n\" style=\"fill:#def5e5;\"/>\n   </g>\n   <g id=\"patch_543\">\n    <path clip-path=\"url(#p78f6205787)\" d=\"M 617.283929 436.419919 \nL 624.8125 436.419919 \nL 624.8125 436.15902 \nL 617.283929 436.15902 \nz\n\" style=\"fill:#def5e5;\"/>\n   </g>\n   <g id=\"patch_544\">\n    <path clip-path=\"url(#p78f6205787)\" d=\"M 632.341071 432.133888 \nL 639.869643 432.133888 \nL 639.869643 431.427119 \nL 632.341071 431.427119 \nz\n\" style=\"fill:#def5e5;\"/>\n   </g>\n   <g id=\"patch_545\">\n    <path clip-path=\"url(#p78f6205787)\" d=\"M 647.398214 407.703975 \nL 654.926786 407.703975 \nL 654.926786 403.541198 \nL 647.398214 403.541198 \nz\n\" style=\"fill:#def5e5;\"/>\n   </g>\n   <g id=\"patch_546\">\n    <path clip-path=\"url(#p78f6205787)\" d=\"M 662.455357 437.774649 \nL 669.983929 437.774649 \nL 669.983929 437.72333 \nL 662.455357 437.72333 \nz\n\" style=\"fill:#def5e5;\"/>\n   </g>\n   <g id=\"patch_547\">\n    <path clip-path=\"url(#p78f6205787)\" d=\"M 677.5125 432.244356 \nL 685.041071 432.244356 \nL 685.041071 431.586708 \nL 677.5125 431.586708 \nz\n\" style=\"fill:#def5e5;\"/>\n   </g>\n   <g id=\"patch_548\">\n    <path clip-path=\"url(#p78f6205787)\" d=\"M 692.569643 429.395109 \nL 700.098214 429.395109 \nL 700.098214 428.19743 \nL 692.569643 428.19743 \nz\n\" style=\"fill:#def5e5;\"/>\n   </g>\n   <g id=\"patch_549\">\n    <path clip-path=\"url(#p78f6205787)\" d=\"M 707.626786 431.245199 \nL 715.155357 431.245199 \nL 715.155357 430.304135 \nL 707.626786 430.304135 \nz\n\" style=\"fill:#def5e5;\"/>\n   </g>\n   <g id=\"patch_550\">\n    <path clip-path=\"url(#p78f6205787)\" d=\"M 722.683929 430.475078 \nL 730.2125 430.475078 \nL 730.2125 429.41504 \nL 722.683929 429.41504 \nz\n\" style=\"fill:#def5e5;\"/>\n   </g>\n   <g id=\"patch_551\">\n    <path clip-path=\"url(#p78f6205787)\" d=\"M 737.741071 435.018297 \nL 745.269643 435.018297 \nL 745.269643 434.622719 \nL 737.741071 434.622719 \nz\n\" style=\"fill:#def5e5;\"/>\n   </g>\n   <g id=\"patch_552\">\n    <path clip-path=\"url(#p78f6205787)\" d=\"M 752.798214 437.153307 \nL 760.326786 437.153307 \nL 760.326786 437.019825 \nL 752.798214 437.019825 \nz\n\" style=\"fill:#def5e5;\"/>\n   </g>\n   <g id=\"patch_553\">\n    <path clip-path=\"url(#p78f6205787)\" d=\"M 767.855357 436.276428 \nL 775.383929 436.276428 \nL 775.383929 436.00961 \nL 767.855357 436.00961 \nz\n\" style=\"fill:#def5e5;\"/>\n   </g>\n   <g id=\"patch_554\">\n    <path clip-path=\"url(#p78f6205787)\" d=\"M 782.9125 436.919387 \nL 790.441071 436.919387 \nL 790.441071 436.777381 \nL 782.9125 436.777381 \nz\n\" style=\"fill:#def5e5;\"/>\n   </g>\n   <g id=\"patch_555\">\n    <path clip-path=\"url(#p78f6205787)\" d=\"M 797.969643 429.008274 \nL 805.498214 429.008274 \nL 805.498214 427.742838 \nL 797.969643 427.742838 \nz\n\" style=\"fill:#def5e5;\"/>\n   </g>\n   <g id=\"patch_556\">\n    <path clip-path=\"url(#p78f6205787)\" d=\"M 813.026786 435.121772 \nL 820.555357 435.121772 \nL 820.555357 434.732091 \nL 813.026786 434.732091 \nz\n\" style=\"fill:#def5e5;\"/>\n   </g>\n   <g id=\"patch_557\">\n    <path clip-path=\"url(#p78f6205787)\" d=\"M 828.083929 408.418501 \nL 835.6125 408.418501 \nL 835.6125 404.367696 \nL 828.083929 404.367696 \nz\n\" style=\"fill:#def5e5;\"/>\n   </g>\n   <g id=\"patch_558\">\n    <path clip-path=\"url(#p78f6205787)\" d=\"M 843.141071 433.793277 \nL 850.669643 433.793277 \nL 850.669643 433.30299 \nL 843.141071 433.30299 \nz\n\" style=\"fill:#def5e5;\"/>\n   </g>\n   <g id=\"patch_559\">\n    <path clip-path=\"url(#p78f6205787)\" d=\"M 858.198214 435.968463 \nL 865.726786 435.968463 \nL 865.726786 435.678449 \nL 858.198214 435.678449 \nz\n\" style=\"fill:#def5e5;\"/>\n   </g>\n   <g id=\"patch_560\">\n    <path clip-path=\"url(#p78f6205787)\" d=\"M 873.255357 428.744573 \nL 880.783929 428.744573 \nL 880.783929 427.628687 \nL 873.255357 427.628687 \nz\n\" style=\"fill:#def5e5;\"/>\n   </g>\n   <g id=\"patch_561\">\n    <path clip-path=\"url(#p78f6205787)\" d=\"M 888.3125 437.215107 \nL 895.841071 437.215107 \nL 895.841071 437.101497 \nL 888.3125 437.101497 \nz\n\" style=\"fill:#def5e5;\"/>\n   </g>\n   <g id=\"patch_562\">\n    <path clip-path=\"url(#p78f6205787)\" d=\"M 903.369643 437.872442 \nL 910.898214 437.872442 \nL 910.898214 437.842697 \nL 903.369643 437.842697 \nz\n\" style=\"fill:#def5e5;\"/>\n   </g>\n   <g id=\"patch_563\">\n    <path clip-path=\"url(#p78f6205787)\" d=\"M 918.426786 435.26064 \nL 925.955357 435.26064 \nL 925.955357 434.840596 \nL 918.426786 434.840596 \nz\n\" style=\"fill:#def5e5;\"/>\n   </g>\n   <g id=\"patch_564\">\n    <path clip-path=\"url(#p78f6205787)\" d=\"M 933.483929 437.370382 \nL 941.0125 437.370382 \nL 941.0125 437.288858 \nL 933.483929 437.288858 \nz\n\" style=\"fill:#def5e5;\"/>\n   </g>\n   <g id=\"patch_565\">\n    <path clip-path=\"url(#p78f6205787)\" d=\"M 948.541071 428.175072 \nL 956.069643 428.175072 \nL 956.069643 426.74772 \nL 948.541071 426.74772 \nz\n\" style=\"fill:#def5e5;\"/>\n   </g>\n   <g id=\"patch_566\">\n    <path clip-path=\"url(#p78f6205787)\" d=\"M 963.598214 433.845779 \nL 971.126786 433.845779 \nL 971.126786 433.274505 \nL 963.598214 433.274505 \nz\n\" style=\"fill:#def5e5;\"/>\n   </g>\n   <g id=\"patch_567\">\n    <path clip-path=\"url(#p78f6205787)\" d=\"M 978.655357 436.826747 \nL 986.183929 436.826747 \nL 986.183929 436.666561 \nL 978.655357 436.666561 \nz\n\" style=\"fill:#def5e5;\"/>\n   </g>\n   <g id=\"patch_568\">\n    <path clip-path=\"url(#p78f6205787)\" d=\"M 993.7125 361.015265 \nL 1001.241071 361.015265 \nL 1001.241071 347.347428 \nL 993.7125 347.347428 \nz\n\" style=\"fill:#def5e5;\"/>\n   </g>\n   <g id=\"patch_569\">\n    <path clip-path=\"url(#p78f6205787)\" d=\"M 1008.769643 433.885964 \nL 1016.298214 433.885964 \nL 1016.298214 433.437765 \nL 1008.769643 433.437765 \nz\n\" style=\"fill:#def5e5;\"/>\n   </g>\n   <g id=\"matplotlib.axis_1\">\n    <g id=\"xtick_1\">\n     <g id=\"line2d_1\">\n      <defs>\n       <path d=\"M 0 0 \nL 0 3.5 \n\" id=\"mde7f18eb00\" style=\"stroke:#000000;stroke-width:0.8;\"/>\n      </defs>\n      <g>\n       <use style=\"stroke:#000000;stroke-width:0.8;\" x=\"78.991071\" xlink:href=\"#mde7f18eb00\" y=\"438.12\"/>\n      </g>\n     </g>\n     <g id=\"text_1\">\n      <!-- Alamosa -->\n      <g transform=\"translate(81.750446 488.06375)rotate(-90)scale(0.1 -0.1)\">\n       <defs>\n        <path d=\"M 34.1875 63.1875 \nL 20.796875 26.90625 \nL 47.609375 26.90625 \nz\nM 28.609375 72.90625 \nL 39.796875 72.90625 \nL 67.578125 0 \nL 57.328125 0 \nL 50.6875 18.703125 \nL 17.828125 18.703125 \nL 11.1875 0 \nL 0.78125 0 \nz\n\" id=\"DejaVuSans-65\"/>\n        <path d=\"M 9.421875 75.984375 \nL 18.40625 75.984375 \nL 18.40625 0 \nL 9.421875 0 \nz\n\" id=\"DejaVuSans-108\"/>\n        <path d=\"M 34.28125 27.484375 \nQ 23.390625 27.484375 19.1875 25 \nQ 14.984375 22.515625 14.984375 16.5 \nQ 14.984375 11.71875 18.140625 8.90625 \nQ 21.296875 6.109375 26.703125 6.109375 \nQ 34.1875 6.109375 38.703125 11.40625 \nQ 43.21875 16.703125 43.21875 25.484375 \nL 43.21875 27.484375 \nz\nM 52.203125 31.203125 \nL 52.203125 0 \nL 43.21875 0 \nL 43.21875 8.296875 \nQ 40.140625 3.328125 35.546875 0.953125 \nQ 30.953125 -1.421875 24.3125 -1.421875 \nQ 15.921875 -1.421875 10.953125 3.296875 \nQ 6 8.015625 6 15.921875 \nQ 6 25.140625 12.171875 29.828125 \nQ 18.359375 34.515625 30.609375 34.515625 \nL 43.21875 34.515625 \nL 43.21875 35.40625 \nQ 43.21875 41.609375 39.140625 45 \nQ 35.0625 48.390625 27.6875 48.390625 \nQ 23 48.390625 18.546875 47.265625 \nQ 14.109375 46.140625 10.015625 43.890625 \nL 10.015625 52.203125 \nQ 14.9375 54.109375 19.578125 55.046875 \nQ 24.21875 56 28.609375 56 \nQ 40.484375 56 46.34375 49.84375 \nQ 52.203125 43.703125 52.203125 31.203125 \nz\n\" id=\"DejaVuSans-97\"/>\n        <path d=\"M 52 44.1875 \nQ 55.375 50.25 60.0625 53.125 \nQ 64.75 56 71.09375 56 \nQ 79.640625 56 84.28125 50.015625 \nQ 88.921875 44.046875 88.921875 33.015625 \nL 88.921875 0 \nL 79.890625 0 \nL 79.890625 32.71875 \nQ 79.890625 40.578125 77.09375 44.375 \nQ 74.3125 48.1875 68.609375 48.1875 \nQ 61.625 48.1875 57.5625 43.546875 \nQ 53.515625 38.921875 53.515625 30.90625 \nL 53.515625 0 \nL 44.484375 0 \nL 44.484375 32.71875 \nQ 44.484375 40.625 41.703125 44.40625 \nQ 38.921875 48.1875 33.109375 48.1875 \nQ 26.21875 48.1875 22.15625 43.53125 \nQ 18.109375 38.875 18.109375 30.90625 \nL 18.109375 0 \nL 9.078125 0 \nL 9.078125 54.6875 \nL 18.109375 54.6875 \nL 18.109375 46.1875 \nQ 21.1875 51.21875 25.484375 53.609375 \nQ 29.78125 56 35.6875 56 \nQ 41.65625 56 45.828125 52.96875 \nQ 50 49.953125 52 44.1875 \nz\n\" id=\"DejaVuSans-109\"/>\n        <path d=\"M 30.609375 48.390625 \nQ 23.390625 48.390625 19.1875 42.75 \nQ 14.984375 37.109375 14.984375 27.296875 \nQ 14.984375 17.484375 19.15625 11.84375 \nQ 23.34375 6.203125 30.609375 6.203125 \nQ 37.796875 6.203125 41.984375 11.859375 \nQ 46.1875 17.53125 46.1875 27.296875 \nQ 46.1875 37.015625 41.984375 42.703125 \nQ 37.796875 48.390625 30.609375 48.390625 \nz\nM 30.609375 56 \nQ 42.328125 56 49.015625 48.375 \nQ 55.71875 40.765625 55.71875 27.296875 \nQ 55.71875 13.875 49.015625 6.21875 \nQ 42.328125 -1.421875 30.609375 -1.421875 \nQ 18.84375 -1.421875 12.171875 6.21875 \nQ 5.515625 13.875 5.515625 27.296875 \nQ 5.515625 40.765625 12.171875 48.375 \nQ 18.84375 56 30.609375 56 \nz\n\" id=\"DejaVuSans-111\"/>\n        <path d=\"M 44.28125 53.078125 \nL 44.28125 44.578125 \nQ 40.484375 46.53125 36.375 47.5 \nQ 32.28125 48.484375 27.875 48.484375 \nQ 21.1875 48.484375 17.84375 46.4375 \nQ 14.5 44.390625 14.5 40.28125 \nQ 14.5 37.15625 16.890625 35.375 \nQ 19.28125 33.59375 26.515625 31.984375 \nL 29.59375 31.296875 \nQ 39.15625 29.25 43.1875 25.515625 \nQ 47.21875 21.78125 47.21875 15.09375 \nQ 47.21875 7.46875 41.1875 3.015625 \nQ 35.15625 -1.421875 24.609375 -1.421875 \nQ 20.21875 -1.421875 15.453125 -0.5625 \nQ 10.6875 0.296875 5.421875 2 \nL 5.421875 11.28125 \nQ 10.40625 8.6875 15.234375 7.390625 \nQ 20.0625 6.109375 24.8125 6.109375 \nQ 31.15625 6.109375 34.5625 8.28125 \nQ 37.984375 10.453125 37.984375 14.40625 \nQ 37.984375 18.0625 35.515625 20.015625 \nQ 33.0625 21.96875 24.703125 23.78125 \nL 21.578125 24.515625 \nQ 13.234375 26.265625 9.515625 29.90625 \nQ 5.8125 33.546875 5.8125 39.890625 \nQ 5.8125 47.609375 11.28125 51.796875 \nQ 16.75 56 26.8125 56 \nQ 31.78125 56 36.171875 55.265625 \nQ 40.578125 54.546875 44.28125 53.078125 \nz\n\" id=\"DejaVuSans-115\"/>\n       </defs>\n       <use xlink:href=\"#DejaVuSans-65\"/>\n       <use x=\"68.408203\" xlink:href=\"#DejaVuSans-108\"/>\n       <use x=\"96.191406\" xlink:href=\"#DejaVuSans-97\"/>\n       <use x=\"157.470703\" xlink:href=\"#DejaVuSans-109\"/>\n       <use x=\"254.882812\" xlink:href=\"#DejaVuSans-111\"/>\n       <use x=\"316.064453\" xlink:href=\"#DejaVuSans-115\"/>\n       <use x=\"368.164062\" xlink:href=\"#DejaVuSans-97\"/>\n      </g>\n     </g>\n    </g>\n    <g id=\"xtick_2\">\n     <g id=\"line2d_2\">\n      <g>\n       <use style=\"stroke:#000000;stroke-width:0.8;\" x=\"94.048214\" xlink:href=\"#mde7f18eb00\" y=\"438.12\"/>\n      </g>\n     </g>\n     <g id=\"text_2\">\n      <!-- Arapahoe -->\n      <g transform=\"translate(96.807589 493.285625)rotate(-90)scale(0.1 -0.1)\">\n       <defs>\n        <path d=\"M 41.109375 46.296875 \nQ 39.59375 47.171875 37.8125 47.578125 \nQ 36.03125 48 33.890625 48 \nQ 26.265625 48 22.1875 43.046875 \nQ 18.109375 38.09375 18.109375 28.8125 \nL 18.109375 0 \nL 9.078125 0 \nL 9.078125 54.6875 \nL 18.109375 54.6875 \nL 18.109375 46.1875 \nQ 20.953125 51.171875 25.484375 53.578125 \nQ 30.03125 56 36.53125 56 \nQ 37.453125 56 38.578125 55.875 \nQ 39.703125 55.765625 41.0625 55.515625 \nz\n\" id=\"DejaVuSans-114\"/>\n        <path d=\"M 18.109375 8.203125 \nL 18.109375 -20.796875 \nL 9.078125 -20.796875 \nL 9.078125 54.6875 \nL 18.109375 54.6875 \nL 18.109375 46.390625 \nQ 20.953125 51.265625 25.265625 53.625 \nQ 29.59375 56 35.59375 56 \nQ 45.5625 56 51.78125 48.09375 \nQ 58.015625 40.1875 58.015625 27.296875 \nQ 58.015625 14.40625 51.78125 6.484375 \nQ 45.5625 -1.421875 35.59375 -1.421875 \nQ 29.59375 -1.421875 25.265625 0.953125 \nQ 20.953125 3.328125 18.109375 8.203125 \nz\nM 48.6875 27.296875 \nQ 48.6875 37.203125 44.609375 42.84375 \nQ 40.53125 48.484375 33.40625 48.484375 \nQ 26.265625 48.484375 22.1875 42.84375 \nQ 18.109375 37.203125 18.109375 27.296875 \nQ 18.109375 17.390625 22.1875 11.75 \nQ 26.265625 6.109375 33.40625 6.109375 \nQ 40.53125 6.109375 44.609375 11.75 \nQ 48.6875 17.390625 48.6875 27.296875 \nz\n\" id=\"DejaVuSans-112\"/>\n        <path d=\"M 54.890625 33.015625 \nL 54.890625 0 \nL 45.90625 0 \nL 45.90625 32.71875 \nQ 45.90625 40.484375 42.875 44.328125 \nQ 39.84375 48.1875 33.796875 48.1875 \nQ 26.515625 48.1875 22.3125 43.546875 \nQ 18.109375 38.921875 18.109375 30.90625 \nL 18.109375 0 \nL 9.078125 0 \nL 9.078125 75.984375 \nL 18.109375 75.984375 \nL 18.109375 46.1875 \nQ 21.34375 51.125 25.703125 53.5625 \nQ 30.078125 56 35.796875 56 \nQ 45.21875 56 50.046875 50.171875 \nQ 54.890625 44.34375 54.890625 33.015625 \nz\n\" id=\"DejaVuSans-104\"/>\n        <path d=\"M 56.203125 29.59375 \nL 56.203125 25.203125 \nL 14.890625 25.203125 \nQ 15.484375 15.921875 20.484375 11.0625 \nQ 25.484375 6.203125 34.421875 6.203125 \nQ 39.59375 6.203125 44.453125 7.46875 \nQ 49.3125 8.734375 54.109375 11.28125 \nL 54.109375 2.78125 \nQ 49.265625 0.734375 44.1875 -0.34375 \nQ 39.109375 -1.421875 33.890625 -1.421875 \nQ 20.796875 -1.421875 13.15625 6.1875 \nQ 5.515625 13.8125 5.515625 26.8125 \nQ 5.515625 40.234375 12.765625 48.109375 \nQ 20.015625 56 32.328125 56 \nQ 43.359375 56 49.78125 48.890625 \nQ 56.203125 41.796875 56.203125 29.59375 \nz\nM 47.21875 32.234375 \nQ 47.125 39.59375 43.09375 43.984375 \nQ 39.0625 48.390625 32.421875 48.390625 \nQ 24.90625 48.390625 20.390625 44.140625 \nQ 15.875 39.890625 15.1875 32.171875 \nz\n\" id=\"DejaVuSans-101\"/>\n       </defs>\n       <use xlink:href=\"#DejaVuSans-65\"/>\n       <use x=\"68.408203\" xlink:href=\"#DejaVuSans-114\"/>\n       <use x=\"109.521484\" xlink:href=\"#DejaVuSans-97\"/>\n       <use x=\"170.800781\" xlink:href=\"#DejaVuSans-112\"/>\n       <use x=\"234.277344\" xlink:href=\"#DejaVuSans-97\"/>\n       <use x=\"295.556641\" xlink:href=\"#DejaVuSans-104\"/>\n       <use x=\"358.935547\" xlink:href=\"#DejaVuSans-111\"/>\n       <use x=\"420.117188\" xlink:href=\"#DejaVuSans-101\"/>\n      </g>\n     </g>\n    </g>\n    <g id=\"xtick_3\">\n     <g id=\"line2d_3\">\n      <g>\n       <use style=\"stroke:#000000;stroke-width:0.8;\" x=\"109.105357\" xlink:href=\"#mde7f18eb00\" y=\"438.12\"/>\n      </g>\n     </g>\n     <g id=\"text_3\">\n      <!-- Archuleta -->\n      <g transform=\"translate(111.864732 492.999687)rotate(-90)scale(0.1 -0.1)\">\n       <defs>\n        <path d=\"M 48.78125 52.59375 \nL 48.78125 44.1875 \nQ 44.96875 46.296875 41.140625 47.34375 \nQ 37.3125 48.390625 33.40625 48.390625 \nQ 24.65625 48.390625 19.8125 42.84375 \nQ 14.984375 37.3125 14.984375 27.296875 \nQ 14.984375 17.28125 19.8125 11.734375 \nQ 24.65625 6.203125 33.40625 6.203125 \nQ 37.3125 6.203125 41.140625 7.25 \nQ 44.96875 8.296875 48.78125 10.40625 \nL 48.78125 2.09375 \nQ 45.015625 0.34375 40.984375 -0.53125 \nQ 36.96875 -1.421875 32.421875 -1.421875 \nQ 20.0625 -1.421875 12.78125 6.34375 \nQ 5.515625 14.109375 5.515625 27.296875 \nQ 5.515625 40.671875 12.859375 48.328125 \nQ 20.21875 56 33.015625 56 \nQ 37.15625 56 41.109375 55.140625 \nQ 45.0625 54.296875 48.78125 52.59375 \nz\n\" id=\"DejaVuSans-99\"/>\n        <path d=\"M 8.5 21.578125 \nL 8.5 54.6875 \nL 17.484375 54.6875 \nL 17.484375 21.921875 \nQ 17.484375 14.15625 20.5 10.265625 \nQ 23.53125 6.390625 29.59375 6.390625 \nQ 36.859375 6.390625 41.078125 11.03125 \nQ 45.3125 15.671875 45.3125 23.6875 \nL 45.3125 54.6875 \nL 54.296875 54.6875 \nL 54.296875 0 \nL 45.3125 0 \nL 45.3125 8.40625 \nQ 42.046875 3.421875 37.71875 1 \nQ 33.40625 -1.421875 27.6875 -1.421875 \nQ 18.265625 -1.421875 13.375 4.4375 \nQ 8.5 10.296875 8.5 21.578125 \nz\nM 31.109375 56 \nz\n\" id=\"DejaVuSans-117\"/>\n        <path d=\"M 18.3125 70.21875 \nL 18.3125 54.6875 \nL 36.8125 54.6875 \nL 36.8125 47.703125 \nL 18.3125 47.703125 \nL 18.3125 18.015625 \nQ 18.3125 11.328125 20.140625 9.421875 \nQ 21.96875 7.515625 27.59375 7.515625 \nL 36.8125 7.515625 \nL 36.8125 0 \nL 27.59375 0 \nQ 17.1875 0 13.234375 3.875 \nQ 9.28125 7.765625 9.28125 18.015625 \nL 9.28125 47.703125 \nL 2.6875 47.703125 \nL 2.6875 54.6875 \nL 9.28125 54.6875 \nL 9.28125 70.21875 \nz\n\" id=\"DejaVuSans-116\"/>\n       </defs>\n       <use xlink:href=\"#DejaVuSans-65\"/>\n       <use x=\"68.408203\" xlink:href=\"#DejaVuSans-114\"/>\n       <use x=\"107.271484\" xlink:href=\"#DejaVuSans-99\"/>\n       <use x=\"162.251953\" xlink:href=\"#DejaVuSans-104\"/>\n       <use x=\"225.630859\" xlink:href=\"#DejaVuSans-117\"/>\n       <use x=\"289.009766\" xlink:href=\"#DejaVuSans-108\"/>\n       <use x=\"316.792969\" xlink:href=\"#DejaVuSans-101\"/>\n       <use x=\"378.316406\" xlink:href=\"#DejaVuSans-116\"/>\n       <use x=\"417.525391\" xlink:href=\"#DejaVuSans-97\"/>\n      </g>\n     </g>\n    </g>\n    <g id=\"xtick_4\">\n     <g id=\"line2d_4\">\n      <g>\n       <use style=\"stroke:#000000;stroke-width:0.8;\" x=\"124.1625\" xlink:href=\"#mde7f18eb00\" y=\"438.12\"/>\n      </g>\n     </g>\n     <g id=\"text_4\">\n      <!-- Baca -->\n      <g transform=\"translate(126.921875 469.735625)rotate(-90)scale(0.1 -0.1)\">\n       <defs>\n        <path d=\"M 19.671875 34.8125 \nL 19.671875 8.109375 \nL 35.5 8.109375 \nQ 43.453125 8.109375 47.28125 11.40625 \nQ 51.125 14.703125 51.125 21.484375 \nQ 51.125 28.328125 47.28125 31.5625 \nQ 43.453125 34.8125 35.5 34.8125 \nz\nM 19.671875 64.796875 \nL 19.671875 42.828125 \nL 34.28125 42.828125 \nQ 41.5 42.828125 45.03125 45.53125 \nQ 48.578125 48.25 48.578125 53.8125 \nQ 48.578125 59.328125 45.03125 62.0625 \nQ 41.5 64.796875 34.28125 64.796875 \nz\nM 9.8125 72.90625 \nL 35.015625 72.90625 \nQ 46.296875 72.90625 52.390625 68.21875 \nQ 58.5 63.53125 58.5 54.890625 \nQ 58.5 48.1875 55.375 44.234375 \nQ 52.25 40.28125 46.1875 39.3125 \nQ 53.46875 37.75 57.5 32.78125 \nQ 61.53125 27.828125 61.53125 20.40625 \nQ 61.53125 10.640625 54.890625 5.3125 \nQ 48.25 0 35.984375 0 \nL 9.8125 0 \nz\n\" id=\"DejaVuSans-66\"/>\n       </defs>\n       <use xlink:href=\"#DejaVuSans-66\"/>\n       <use x=\"68.603516\" xlink:href=\"#DejaVuSans-97\"/>\n       <use x=\"129.882812\" xlink:href=\"#DejaVuSans-99\"/>\n       <use x=\"184.863281\" xlink:href=\"#DejaVuSans-97\"/>\n      </g>\n     </g>\n    </g>\n    <g id=\"xtick_5\">\n     <g id=\"line2d_5\">\n      <g>\n       <use style=\"stroke:#000000;stroke-width:0.8;\" x=\"139.219643\" xlink:href=\"#mde7f18eb00\" y=\"438.12\"/>\n      </g>\n     </g>\n     <g id=\"text_5\">\n      <!-- Bent -->\n      <g transform=\"translate(141.979018 468.391875)rotate(-90)scale(0.1 -0.1)\">\n       <defs>\n        <path d=\"M 54.890625 33.015625 \nL 54.890625 0 \nL 45.90625 0 \nL 45.90625 32.71875 \nQ 45.90625 40.484375 42.875 44.328125 \nQ 39.84375 48.1875 33.796875 48.1875 \nQ 26.515625 48.1875 22.3125 43.546875 \nQ 18.109375 38.921875 18.109375 30.90625 \nL 18.109375 0 \nL 9.078125 0 \nL 9.078125 54.6875 \nL 18.109375 54.6875 \nL 18.109375 46.1875 \nQ 21.34375 51.125 25.703125 53.5625 \nQ 30.078125 56 35.796875 56 \nQ 45.21875 56 50.046875 50.171875 \nQ 54.890625 44.34375 54.890625 33.015625 \nz\n\" id=\"DejaVuSans-110\"/>\n       </defs>\n       <use xlink:href=\"#DejaVuSans-66\"/>\n       <use x=\"68.603516\" xlink:href=\"#DejaVuSans-101\"/>\n       <use x=\"130.126953\" xlink:href=\"#DejaVuSans-110\"/>\n       <use x=\"193.505859\" xlink:href=\"#DejaVuSans-116\"/>\n      </g>\n     </g>\n    </g>\n    <g id=\"xtick_6\">\n     <g id=\"line2d_6\">\n      <g>\n       <use style=\"stroke:#000000;stroke-width:0.8;\" x=\"154.276786\" xlink:href=\"#mde7f18eb00\" y=\"438.12\"/>\n      </g>\n     </g>\n     <g id=\"text_6\">\n      <!-- Boulder* -->\n      <g transform=\"translate(157.036161 488.827812)rotate(-90)scale(0.1 -0.1)\">\n       <defs>\n        <path d=\"M 45.40625 46.390625 \nL 45.40625 75.984375 \nL 54.390625 75.984375 \nL 54.390625 0 \nL 45.40625 0 \nL 45.40625 8.203125 \nQ 42.578125 3.328125 38.25 0.953125 \nQ 33.9375 -1.421875 27.875 -1.421875 \nQ 17.96875 -1.421875 11.734375 6.484375 \nQ 5.515625 14.40625 5.515625 27.296875 \nQ 5.515625 40.1875 11.734375 48.09375 \nQ 17.96875 56 27.875 56 \nQ 33.9375 56 38.25 53.625 \nQ 42.578125 51.265625 45.40625 46.390625 \nz\nM 14.796875 27.296875 \nQ 14.796875 17.390625 18.875 11.75 \nQ 22.953125 6.109375 30.078125 6.109375 \nQ 37.203125 6.109375 41.296875 11.75 \nQ 45.40625 17.390625 45.40625 27.296875 \nQ 45.40625 37.203125 41.296875 42.84375 \nQ 37.203125 48.484375 30.078125 48.484375 \nQ 22.953125 48.484375 18.875 42.84375 \nQ 14.796875 37.203125 14.796875 27.296875 \nz\n\" id=\"DejaVuSans-100\"/>\n        <path d=\"M 47.015625 60.890625 \nL 29.5 51.421875 \nL 47.015625 41.890625 \nL 44.1875 37.109375 \nL 27.78125 47.015625 \nL 27.78125 28.609375 \nL 22.21875 28.609375 \nL 22.21875 47.015625 \nL 5.8125 37.109375 \nL 2.984375 41.890625 \nL 20.515625 51.421875 \nL 2.984375 60.890625 \nL 5.8125 65.71875 \nL 22.21875 55.8125 \nL 22.21875 74.21875 \nL 27.78125 74.21875 \nL 27.78125 55.8125 \nL 44.1875 65.71875 \nz\n\" id=\"DejaVuSans-42\"/>\n       </defs>\n       <use xlink:href=\"#DejaVuSans-66\"/>\n       <use x=\"68.603516\" xlink:href=\"#DejaVuSans-111\"/>\n       <use x=\"129.785156\" xlink:href=\"#DejaVuSans-117\"/>\n       <use x=\"193.164062\" xlink:href=\"#DejaVuSans-108\"/>\n       <use x=\"220.947266\" xlink:href=\"#DejaVuSans-100\"/>\n       <use x=\"284.423828\" xlink:href=\"#DejaVuSans-101\"/>\n       <use x=\"345.947266\" xlink:href=\"#DejaVuSans-114\"/>\n       <use x=\"387.060547\" xlink:href=\"#DejaVuSans-42\"/>\n      </g>\n     </g>\n    </g>\n    <g id=\"xtick_7\">\n     <g id=\"line2d_7\">\n      <g>\n       <use style=\"stroke:#000000;stroke-width:0.8;\" x=\"169.333929\" xlink:href=\"#mde7f18eb00\" y=\"438.12\"/>\n      </g>\n     </g>\n     <g id=\"text_7\">\n      <!-- Broomfield* -->\n      <g transform=\"translate(172.093304 504.423125)rotate(-90)scale(0.1 -0.1)\">\n       <defs>\n        <path d=\"M 37.109375 75.984375 \nL 37.109375 68.5 \nL 28.515625 68.5 \nQ 23.6875 68.5 21.796875 66.546875 \nQ 19.921875 64.59375 19.921875 59.515625 \nL 19.921875 54.6875 \nL 34.71875 54.6875 \nL 34.71875 47.703125 \nL 19.921875 47.703125 \nL 19.921875 0 \nL 10.890625 0 \nL 10.890625 47.703125 \nL 2.296875 47.703125 \nL 2.296875 54.6875 \nL 10.890625 54.6875 \nL 10.890625 58.5 \nQ 10.890625 67.625 15.140625 71.796875 \nQ 19.390625 75.984375 28.609375 75.984375 \nz\n\" id=\"DejaVuSans-102\"/>\n        <path d=\"M 9.421875 54.6875 \nL 18.40625 54.6875 \nL 18.40625 0 \nL 9.421875 0 \nz\nM 9.421875 75.984375 \nL 18.40625 75.984375 \nL 18.40625 64.59375 \nL 9.421875 64.59375 \nz\n\" id=\"DejaVuSans-105\"/>\n       </defs>\n       <use xlink:href=\"#DejaVuSans-66\"/>\n       <use x=\"68.603516\" xlink:href=\"#DejaVuSans-114\"/>\n       <use x=\"107.466797\" xlink:href=\"#DejaVuSans-111\"/>\n       <use x=\"168.648438\" xlink:href=\"#DejaVuSans-111\"/>\n       <use x=\"229.830078\" xlink:href=\"#DejaVuSans-109\"/>\n       <use x=\"327.242188\" xlink:href=\"#DejaVuSans-102\"/>\n       <use x=\"362.447266\" xlink:href=\"#DejaVuSans-105\"/>\n       <use x=\"390.230469\" xlink:href=\"#DejaVuSans-101\"/>\n       <use x=\"451.753906\" xlink:href=\"#DejaVuSans-108\"/>\n       <use x=\"479.537109\" xlink:href=\"#DejaVuSans-100\"/>\n       <use x=\"543.013672\" xlink:href=\"#DejaVuSans-42\"/>\n      </g>\n     </g>\n    </g>\n    <g id=\"xtick_8\">\n     <g id=\"line2d_8\">\n      <g>\n       <use style=\"stroke:#000000;stroke-width:0.8;\" x=\"184.391071\" xlink:href=\"#mde7f18eb00\" y=\"438.12\"/>\n      </g>\n     </g>\n     <g id=\"text_8\">\n      <!-- Chaffee -->\n      <g transform=\"translate(187.150446 483.915312)rotate(-90)scale(0.1 -0.1)\">\n       <defs>\n        <path d=\"M 64.40625 67.28125 \nL 64.40625 56.890625 \nQ 59.421875 61.53125 53.78125 63.8125 \nQ 48.140625 66.109375 41.796875 66.109375 \nQ 29.296875 66.109375 22.65625 58.46875 \nQ 16.015625 50.828125 16.015625 36.375 \nQ 16.015625 21.96875 22.65625 14.328125 \nQ 29.296875 6.6875 41.796875 6.6875 \nQ 48.140625 6.6875 53.78125 8.984375 \nQ 59.421875 11.28125 64.40625 15.921875 \nL 64.40625 5.609375 \nQ 59.234375 2.09375 53.4375 0.328125 \nQ 47.65625 -1.421875 41.21875 -1.421875 \nQ 24.65625 -1.421875 15.125 8.703125 \nQ 5.609375 18.84375 5.609375 36.375 \nQ 5.609375 53.953125 15.125 64.078125 \nQ 24.65625 74.21875 41.21875 74.21875 \nQ 47.75 74.21875 53.53125 72.484375 \nQ 59.328125 70.75 64.40625 67.28125 \nz\n\" id=\"DejaVuSans-67\"/>\n       </defs>\n       <use xlink:href=\"#DejaVuSans-67\"/>\n       <use x=\"69.824219\" xlink:href=\"#DejaVuSans-104\"/>\n       <use x=\"133.203125\" xlink:href=\"#DejaVuSans-97\"/>\n       <use x=\"194.482422\" xlink:href=\"#DejaVuSans-102\"/>\n       <use x=\"229.6875\" xlink:href=\"#DejaVuSans-102\"/>\n       <use x=\"264.892578\" xlink:href=\"#DejaVuSans-101\"/>\n       <use x=\"326.416016\" xlink:href=\"#DejaVuSans-101\"/>\n      </g>\n     </g>\n    </g>\n    <g id=\"xtick_9\">\n     <g id=\"line2d_9\">\n      <g>\n       <use style=\"stroke:#000000;stroke-width:0.8;\" x=\"199.448214\" xlink:href=\"#mde7f18eb00\" y=\"438.12\"/>\n      </g>\n     </g>\n     <g id=\"text_9\">\n      <!-- Cheyenne -->\n      <g transform=\"translate(202.207589 495.493437)rotate(-90)scale(0.1 -0.1)\">\n       <defs>\n        <path d=\"M 32.171875 -5.078125 \nQ 28.375 -14.84375 24.75 -17.8125 \nQ 21.140625 -20.796875 15.09375 -20.796875 \nL 7.90625 -20.796875 \nL 7.90625 -13.28125 \nL 13.1875 -13.28125 \nQ 16.890625 -13.28125 18.9375 -11.515625 \nQ 21 -9.765625 23.484375 -3.21875 \nL 25.09375 0.875 \nL 2.984375 54.6875 \nL 12.5 54.6875 \nL 29.59375 11.921875 \nL 46.6875 54.6875 \nL 56.203125 54.6875 \nz\n\" id=\"DejaVuSans-121\"/>\n       </defs>\n       <use xlink:href=\"#DejaVuSans-67\"/>\n       <use x=\"69.824219\" xlink:href=\"#DejaVuSans-104\"/>\n       <use x=\"133.203125\" xlink:href=\"#DejaVuSans-101\"/>\n       <use x=\"194.726562\" xlink:href=\"#DejaVuSans-121\"/>\n       <use x=\"253.90625\" xlink:href=\"#DejaVuSans-101\"/>\n       <use x=\"315.429688\" xlink:href=\"#DejaVuSans-110\"/>\n       <use x=\"378.808594\" xlink:href=\"#DejaVuSans-110\"/>\n       <use x=\"442.1875\" xlink:href=\"#DejaVuSans-101\"/>\n      </g>\n     </g>\n    </g>\n    <g id=\"xtick_10\">\n     <g id=\"line2d_10\">\n      <g>\n       <use style=\"stroke:#000000;stroke-width:0.8;\" x=\"214.505357\" xlink:href=\"#mde7f18eb00\" y=\"438.12\"/>\n      </g>\n     </g>\n     <g id=\"text_10\">\n      <!-- Clear Creek -->\n      <g transform=\"translate(217.264732 503.416875)rotate(-90)scale(0.1 -0.1)\">\n       <defs>\n        <path id=\"DejaVuSans-32\"/>\n        <path d=\"M 9.078125 75.984375 \nL 18.109375 75.984375 \nL 18.109375 31.109375 \nL 44.921875 54.6875 \nL 56.390625 54.6875 \nL 27.390625 29.109375 \nL 57.625 0 \nL 45.90625 0 \nL 18.109375 26.703125 \nL 18.109375 0 \nL 9.078125 0 \nz\n\" id=\"DejaVuSans-107\"/>\n       </defs>\n       <use xlink:href=\"#DejaVuSans-67\"/>\n       <use x=\"69.824219\" xlink:href=\"#DejaVuSans-108\"/>\n       <use x=\"97.607422\" xlink:href=\"#DejaVuSans-101\"/>\n       <use x=\"159.130859\" xlink:href=\"#DejaVuSans-97\"/>\n       <use x=\"220.410156\" xlink:href=\"#DejaVuSans-114\"/>\n       <use x=\"261.523438\" xlink:href=\"#DejaVuSans-32\"/>\n       <use x=\"293.310547\" xlink:href=\"#DejaVuSans-67\"/>\n       <use x=\"363.134766\" xlink:href=\"#DejaVuSans-114\"/>\n       <use x=\"401.998047\" xlink:href=\"#DejaVuSans-101\"/>\n       <use x=\"463.521484\" xlink:href=\"#DejaVuSans-101\"/>\n       <use x=\"525.044922\" xlink:href=\"#DejaVuSans-107\"/>\n      </g>\n     </g>\n    </g>\n    <g id=\"xtick_11\">\n     <g id=\"line2d_11\">\n      <g>\n       <use style=\"stroke:#000000;stroke-width:0.8;\" x=\"229.5625\" xlink:href=\"#mde7f18eb00\" y=\"438.12\"/>\n      </g>\n     </g>\n     <g id=\"text_11\">\n      <!-- Conejos -->\n      <g transform=\"translate(232.321875 484.818437)rotate(-90)scale(0.1 -0.1)\">\n       <defs>\n        <path d=\"M 9.421875 54.6875 \nL 18.40625 54.6875 \nL 18.40625 -0.984375 \nQ 18.40625 -11.421875 14.421875 -16.109375 \nQ 10.453125 -20.796875 1.609375 -20.796875 \nL -1.8125 -20.796875 \nL -1.8125 -13.1875 \nL 0.59375 -13.1875 \nQ 5.71875 -13.1875 7.5625 -10.8125 \nQ 9.421875 -8.453125 9.421875 -0.984375 \nz\nM 9.421875 75.984375 \nL 18.40625 75.984375 \nL 18.40625 64.59375 \nL 9.421875 64.59375 \nz\n\" id=\"DejaVuSans-106\"/>\n       </defs>\n       <use xlink:href=\"#DejaVuSans-67\"/>\n       <use x=\"69.824219\" xlink:href=\"#DejaVuSans-111\"/>\n       <use x=\"131.005859\" xlink:href=\"#DejaVuSans-110\"/>\n       <use x=\"194.384766\" xlink:href=\"#DejaVuSans-101\"/>\n       <use x=\"255.908203\" xlink:href=\"#DejaVuSans-106\"/>\n       <use x=\"283.691406\" xlink:href=\"#DejaVuSans-111\"/>\n       <use x=\"344.873047\" xlink:href=\"#DejaVuSans-115\"/>\n      </g>\n     </g>\n    </g>\n    <g id=\"xtick_12\">\n     <g id=\"line2d_12\">\n      <g>\n       <use style=\"stroke:#000000;stroke-width:0.8;\" x=\"244.619643\" xlink:href=\"#mde7f18eb00\" y=\"438.12\"/>\n      </g>\n     </g>\n     <g id=\"text_12\">\n      <!-- Costilla -->\n      <g transform=\"translate(247.379018 481.81375)rotate(-90)scale(0.1 -0.1)\">\n       <use xlink:href=\"#DejaVuSans-67\"/>\n       <use x=\"69.824219\" xlink:href=\"#DejaVuSans-111\"/>\n       <use x=\"131.005859\" xlink:href=\"#DejaVuSans-115\"/>\n       <use x=\"183.105469\" xlink:href=\"#DejaVuSans-116\"/>\n       <use x=\"222.314453\" xlink:href=\"#DejaVuSans-105\"/>\n       <use x=\"250.097656\" xlink:href=\"#DejaVuSans-108\"/>\n       <use x=\"277.880859\" xlink:href=\"#DejaVuSans-108\"/>\n       <use x=\"305.664062\" xlink:href=\"#DejaVuSans-97\"/>\n      </g>\n     </g>\n    </g>\n    <g id=\"xtick_13\">\n     <g id=\"line2d_13\">\n      <g>\n       <use style=\"stroke:#000000;stroke-width:0.8;\" x=\"259.676786\" xlink:href=\"#mde7f18eb00\" y=\"438.12\"/>\n      </g>\n     </g>\n     <g id=\"text_13\">\n      <!-- Crowley -->\n      <g transform=\"translate(262.436161 485.135625)rotate(-90)scale(0.1 -0.1)\">\n       <defs>\n        <path d=\"M 4.203125 54.6875 \nL 13.1875 54.6875 \nL 24.421875 12.015625 \nL 35.59375 54.6875 \nL 46.1875 54.6875 \nL 57.421875 12.015625 \nL 68.609375 54.6875 \nL 77.59375 54.6875 \nL 63.28125 0 \nL 52.6875 0 \nL 40.921875 44.828125 \nL 29.109375 0 \nL 18.5 0 \nz\n\" id=\"DejaVuSans-119\"/>\n       </defs>\n       <use xlink:href=\"#DejaVuSans-67\"/>\n       <use x=\"69.824219\" xlink:href=\"#DejaVuSans-114\"/>\n       <use x=\"108.6875\" xlink:href=\"#DejaVuSans-111\"/>\n       <use x=\"169.869141\" xlink:href=\"#DejaVuSans-119\"/>\n       <use x=\"251.65625\" xlink:href=\"#DejaVuSans-108\"/>\n       <use x=\"279.439453\" xlink:href=\"#DejaVuSans-101\"/>\n       <use x=\"340.962891\" xlink:href=\"#DejaVuSans-121\"/>\n      </g>\n     </g>\n    </g>\n    <g id=\"xtick_14\">\n     <g id=\"line2d_14\">\n      <g>\n       <use style=\"stroke:#000000;stroke-width:0.8;\" x=\"274.733929\" xlink:href=\"#mde7f18eb00\" y=\"438.12\"/>\n      </g>\n     </g>\n     <g id=\"text_14\">\n      <!-- Custer -->\n      <g transform=\"translate(277.493304 477.834062)rotate(-90)scale(0.1 -0.1)\">\n       <use xlink:href=\"#DejaVuSans-67\"/>\n       <use x=\"69.824219\" xlink:href=\"#DejaVuSans-117\"/>\n       <use x=\"133.203125\" xlink:href=\"#DejaVuSans-115\"/>\n       <use x=\"185.302734\" xlink:href=\"#DejaVuSans-116\"/>\n       <use x=\"224.511719\" xlink:href=\"#DejaVuSans-101\"/>\n       <use x=\"286.035156\" xlink:href=\"#DejaVuSans-114\"/>\n      </g>\n     </g>\n    </g>\n    <g id=\"xtick_15\">\n     <g id=\"line2d_15\">\n      <g>\n       <use style=\"stroke:#000000;stroke-width:0.8;\" x=\"289.791071\" xlink:href=\"#mde7f18eb00\" y=\"438.12\"/>\n      </g>\n     </g>\n     <g id=\"text_15\">\n      <!-- Delta -->\n      <g transform=\"translate(292.550446 471.799688)rotate(-90)scale(0.1 -0.1)\">\n       <defs>\n        <path d=\"M 19.671875 64.796875 \nL 19.671875 8.109375 \nL 31.59375 8.109375 \nQ 46.6875 8.109375 53.6875 14.9375 \nQ 60.6875 21.78125 60.6875 36.53125 \nQ 60.6875 51.171875 53.6875 57.984375 \nQ 46.6875 64.796875 31.59375 64.796875 \nz\nM 9.8125 72.90625 \nL 30.078125 72.90625 \nQ 51.265625 72.90625 61.171875 64.09375 \nQ 71.09375 55.28125 71.09375 36.53125 \nQ 71.09375 17.671875 61.125 8.828125 \nQ 51.171875 0 30.078125 0 \nL 9.8125 0 \nz\n\" id=\"DejaVuSans-68\"/>\n       </defs>\n       <use xlink:href=\"#DejaVuSans-68\"/>\n       <use x=\"77.001953\" xlink:href=\"#DejaVuSans-101\"/>\n       <use x=\"138.525391\" xlink:href=\"#DejaVuSans-108\"/>\n       <use x=\"166.308594\" xlink:href=\"#DejaVuSans-116\"/>\n       <use x=\"205.517578\" xlink:href=\"#DejaVuSans-97\"/>\n      </g>\n     </g>\n    </g>\n    <g id=\"xtick_16\">\n     <g id=\"line2d_16\">\n      <g>\n       <use style=\"stroke:#000000;stroke-width:0.8;\" x=\"304.848214\" xlink:href=\"#mde7f18eb00\" y=\"438.12\"/>\n      </g>\n     </g>\n     <g id=\"text_16\">\n      <!-- Denver -->\n      <g transform=\"translate(307.607589 481.493437)rotate(-90)scale(0.1 -0.1)\">\n       <defs>\n        <path d=\"M 2.984375 54.6875 \nL 12.5 54.6875 \nL 29.59375 8.796875 \nL 46.6875 54.6875 \nL 56.203125 54.6875 \nL 35.6875 0 \nL 23.484375 0 \nz\n\" id=\"DejaVuSans-118\"/>\n       </defs>\n       <use xlink:href=\"#DejaVuSans-68\"/>\n       <use x=\"77.001953\" xlink:href=\"#DejaVuSans-101\"/>\n       <use x=\"138.525391\" xlink:href=\"#DejaVuSans-110\"/>\n       <use x=\"201.904297\" xlink:href=\"#DejaVuSans-118\"/>\n       <use x=\"261.083984\" xlink:href=\"#DejaVuSans-101\"/>\n       <use x=\"322.607422\" xlink:href=\"#DejaVuSans-114\"/>\n      </g>\n     </g>\n    </g>\n    <g id=\"xtick_17\">\n     <g id=\"line2d_17\">\n      <g>\n       <use style=\"stroke:#000000;stroke-width:0.8;\" x=\"319.905357\" xlink:href=\"#mde7f18eb00\" y=\"438.12\"/>\n      </g>\n     </g>\n     <g id=\"text_17\">\n      <!-- Dolores -->\n      <g transform=\"translate(322.664732 483.084062)rotate(-90)scale(0.1 -0.1)\">\n       <use xlink:href=\"#DejaVuSans-68\"/>\n       <use x=\"77.001953\" xlink:href=\"#DejaVuSans-111\"/>\n       <use x=\"138.183594\" xlink:href=\"#DejaVuSans-108\"/>\n       <use x=\"165.966797\" xlink:href=\"#DejaVuSans-111\"/>\n       <use x=\"227.148438\" xlink:href=\"#DejaVuSans-114\"/>\n       <use x=\"266.011719\" xlink:href=\"#DejaVuSans-101\"/>\n       <use x=\"327.535156\" xlink:href=\"#DejaVuSans-115\"/>\n      </g>\n     </g>\n    </g>\n    <g id=\"xtick_18\">\n     <g id=\"line2d_18\">\n      <g>\n       <use style=\"stroke:#000000;stroke-width:0.8;\" x=\"334.9625\" xlink:href=\"#mde7f18eb00\" y=\"438.12\"/>\n      </g>\n     </g>\n     <g id=\"text_18\">\n      <!-- Douglas -->\n      <g transform=\"translate(337.721875 485.740312)rotate(-90)scale(0.1 -0.1)\">\n       <defs>\n        <path d=\"M 45.40625 27.984375 \nQ 45.40625 37.75 41.375 43.109375 \nQ 37.359375 48.484375 30.078125 48.484375 \nQ 22.859375 48.484375 18.828125 43.109375 \nQ 14.796875 37.75 14.796875 27.984375 \nQ 14.796875 18.265625 18.828125 12.890625 \nQ 22.859375 7.515625 30.078125 7.515625 \nQ 37.359375 7.515625 41.375 12.890625 \nQ 45.40625 18.265625 45.40625 27.984375 \nz\nM 54.390625 6.78125 \nQ 54.390625 -7.171875 48.1875 -13.984375 \nQ 42 -20.796875 29.203125 -20.796875 \nQ 24.46875 -20.796875 20.265625 -20.09375 \nQ 16.0625 -19.390625 12.109375 -17.921875 \nL 12.109375 -9.1875 \nQ 16.0625 -11.328125 19.921875 -12.34375 \nQ 23.78125 -13.375 27.78125 -13.375 \nQ 36.625 -13.375 41.015625 -8.765625 \nQ 45.40625 -4.15625 45.40625 5.171875 \nL 45.40625 9.625 \nQ 42.625 4.78125 38.28125 2.390625 \nQ 33.9375 0 27.875 0 \nQ 17.828125 0 11.671875 7.65625 \nQ 5.515625 15.328125 5.515625 27.984375 \nQ 5.515625 40.671875 11.671875 48.328125 \nQ 17.828125 56 27.875 56 \nQ 33.9375 56 38.28125 53.609375 \nQ 42.625 51.21875 45.40625 46.390625 \nL 45.40625 54.6875 \nL 54.390625 54.6875 \nz\n\" id=\"DejaVuSans-103\"/>\n       </defs>\n       <use xlink:href=\"#DejaVuSans-68\"/>\n       <use x=\"77.001953\" xlink:href=\"#DejaVuSans-111\"/>\n       <use x=\"138.183594\" xlink:href=\"#DejaVuSans-117\"/>\n       <use x=\"201.5625\" xlink:href=\"#DejaVuSans-103\"/>\n       <use x=\"265.039062\" xlink:href=\"#DejaVuSans-108\"/>\n       <use x=\"292.822266\" xlink:href=\"#DejaVuSans-97\"/>\n       <use x=\"354.101562\" xlink:href=\"#DejaVuSans-115\"/>\n      </g>\n     </g>\n    </g>\n    <g id=\"xtick_19\">\n     <g id=\"line2d_19\">\n      <g>\n       <use style=\"stroke:#000000;stroke-width:0.8;\" x=\"350.019643\" xlink:href=\"#mde7f18eb00\" y=\"438.12\"/>\n      </g>\n     </g>\n     <g id=\"text_19\">\n      <!-- Eagle -->\n      <g transform=\"translate(352.779018 472.846563)rotate(-90)scale(0.1 -0.1)\">\n       <defs>\n        <path d=\"M 9.8125 72.90625 \nL 55.90625 72.90625 \nL 55.90625 64.59375 \nL 19.671875 64.59375 \nL 19.671875 43.015625 \nL 54.390625 43.015625 \nL 54.390625 34.71875 \nL 19.671875 34.71875 \nL 19.671875 8.296875 \nL 56.78125 8.296875 \nL 56.78125 0 \nL 9.8125 0 \nz\n\" id=\"DejaVuSans-69\"/>\n       </defs>\n       <use xlink:href=\"#DejaVuSans-69\"/>\n       <use x=\"63.183594\" xlink:href=\"#DejaVuSans-97\"/>\n       <use x=\"124.462891\" xlink:href=\"#DejaVuSans-103\"/>\n       <use x=\"187.939453\" xlink:href=\"#DejaVuSans-108\"/>\n       <use x=\"215.722656\" xlink:href=\"#DejaVuSans-101\"/>\n      </g>\n     </g>\n    </g>\n    <g id=\"xtick_20\">\n     <g id=\"line2d_20\">\n      <g>\n       <use style=\"stroke:#000000;stroke-width:0.8;\" x=\"365.076786\" xlink:href=\"#mde7f18eb00\" y=\"438.12\"/>\n      </g>\n     </g>\n     <g id=\"text_20\">\n      <!-- Elbert -->\n      <g transform=\"translate(367.836161 474.749687)rotate(-90)scale(0.1 -0.1)\">\n       <defs>\n        <path d=\"M 48.6875 27.296875 \nQ 48.6875 37.203125 44.609375 42.84375 \nQ 40.53125 48.484375 33.40625 48.484375 \nQ 26.265625 48.484375 22.1875 42.84375 \nQ 18.109375 37.203125 18.109375 27.296875 \nQ 18.109375 17.390625 22.1875 11.75 \nQ 26.265625 6.109375 33.40625 6.109375 \nQ 40.53125 6.109375 44.609375 11.75 \nQ 48.6875 17.390625 48.6875 27.296875 \nz\nM 18.109375 46.390625 \nQ 20.953125 51.265625 25.265625 53.625 \nQ 29.59375 56 35.59375 56 \nQ 45.5625 56 51.78125 48.09375 \nQ 58.015625 40.1875 58.015625 27.296875 \nQ 58.015625 14.40625 51.78125 6.484375 \nQ 45.5625 -1.421875 35.59375 -1.421875 \nQ 29.59375 -1.421875 25.265625 0.953125 \nQ 20.953125 3.328125 18.109375 8.203125 \nL 18.109375 0 \nL 9.078125 0 \nL 9.078125 75.984375 \nL 18.109375 75.984375 \nz\n\" id=\"DejaVuSans-98\"/>\n       </defs>\n       <use xlink:href=\"#DejaVuSans-69\"/>\n       <use x=\"63.183594\" xlink:href=\"#DejaVuSans-108\"/>\n       <use x=\"90.966797\" xlink:href=\"#DejaVuSans-98\"/>\n       <use x=\"154.443359\" xlink:href=\"#DejaVuSans-101\"/>\n       <use x=\"215.966797\" xlink:href=\"#DejaVuSans-114\"/>\n       <use x=\"257.080078\" xlink:href=\"#DejaVuSans-116\"/>\n      </g>\n     </g>\n    </g>\n    <g id=\"xtick_21\">\n     <g id=\"line2d_21\">\n      <g>\n       <use style=\"stroke:#000000;stroke-width:0.8;\" x=\"380.133929\" xlink:href=\"#mde7f18eb00\" y=\"438.12\"/>\n      </g>\n     </g>\n     <g id=\"text_21\">\n      <!-- El Paso -->\n      <g transform=\"translate(382.893304 480.430937)rotate(-90)scale(0.1 -0.1)\">\n       <defs>\n        <path d=\"M 19.671875 64.796875 \nL 19.671875 37.40625 \nL 32.078125 37.40625 \nQ 38.96875 37.40625 42.71875 40.96875 \nQ 46.484375 44.53125 46.484375 51.125 \nQ 46.484375 57.671875 42.71875 61.234375 \nQ 38.96875 64.796875 32.078125 64.796875 \nz\nM 9.8125 72.90625 \nL 32.078125 72.90625 \nQ 44.34375 72.90625 50.609375 67.359375 \nQ 56.890625 61.8125 56.890625 51.125 \nQ 56.890625 40.328125 50.609375 34.8125 \nQ 44.34375 29.296875 32.078125 29.296875 \nL 19.671875 29.296875 \nL 19.671875 0 \nL 9.8125 0 \nz\n\" id=\"DejaVuSans-80\"/>\n       </defs>\n       <use xlink:href=\"#DejaVuSans-69\"/>\n       <use x=\"63.183594\" xlink:href=\"#DejaVuSans-108\"/>\n       <use x=\"90.966797\" xlink:href=\"#DejaVuSans-32\"/>\n       <use x=\"122.753906\" xlink:href=\"#DejaVuSans-80\"/>\n       <use x=\"178.556641\" xlink:href=\"#DejaVuSans-97\"/>\n       <use x=\"239.835938\" xlink:href=\"#DejaVuSans-115\"/>\n       <use x=\"291.935547\" xlink:href=\"#DejaVuSans-111\"/>\n      </g>\n     </g>\n    </g>\n    <g id=\"xtick_22\">\n     <g id=\"line2d_22\">\n      <g>\n       <use style=\"stroke:#000000;stroke-width:0.8;\" x=\"395.191071\" xlink:href=\"#mde7f18eb00\" y=\"438.12\"/>\n      </g>\n     </g>\n     <g id=\"text_22\">\n      <!-- Fremont -->\n      <g transform=\"translate(397.950446 486.302812)rotate(-90)scale(0.1 -0.1)\">\n       <defs>\n        <path d=\"M 9.8125 72.90625 \nL 51.703125 72.90625 \nL 51.703125 64.59375 \nL 19.671875 64.59375 \nL 19.671875 43.109375 \nL 48.578125 43.109375 \nL 48.578125 34.8125 \nL 19.671875 34.8125 \nL 19.671875 0 \nL 9.8125 0 \nz\n\" id=\"DejaVuSans-70\"/>\n       </defs>\n       <use xlink:href=\"#DejaVuSans-70\"/>\n       <use x=\"50.269531\" xlink:href=\"#DejaVuSans-114\"/>\n       <use x=\"89.132812\" xlink:href=\"#DejaVuSans-101\"/>\n       <use x=\"150.65625\" xlink:href=\"#DejaVuSans-109\"/>\n       <use x=\"248.068359\" xlink:href=\"#DejaVuSans-111\"/>\n       <use x=\"309.25\" xlink:href=\"#DejaVuSans-110\"/>\n       <use x=\"372.628906\" xlink:href=\"#DejaVuSans-116\"/>\n      </g>\n     </g>\n    </g>\n    <g id=\"xtick_23\">\n     <g id=\"line2d_23\">\n      <g>\n       <use style=\"stroke:#000000;stroke-width:0.8;\" x=\"410.248214\" xlink:href=\"#mde7f18eb00\" y=\"438.12\"/>\n      </g>\n     </g>\n     <g id=\"text_23\">\n      <!-- Garfield -->\n      <g transform=\"translate(413.007589 484.685625)rotate(-90)scale(0.1 -0.1)\">\n       <defs>\n        <path d=\"M 59.515625 10.40625 \nL 59.515625 29.984375 \nL 43.40625 29.984375 \nL 43.40625 38.09375 \nL 69.28125 38.09375 \nL 69.28125 6.78125 \nQ 63.578125 2.734375 56.6875 0.65625 \nQ 49.8125 -1.421875 42 -1.421875 \nQ 24.90625 -1.421875 15.25 8.5625 \nQ 5.609375 18.5625 5.609375 36.375 \nQ 5.609375 54.25 15.25 64.234375 \nQ 24.90625 74.21875 42 74.21875 \nQ 49.125 74.21875 55.546875 72.453125 \nQ 61.96875 70.703125 67.390625 67.28125 \nL 67.390625 56.78125 \nQ 61.921875 61.421875 55.765625 63.765625 \nQ 49.609375 66.109375 42.828125 66.109375 \nQ 29.4375 66.109375 22.71875 58.640625 \nQ 16.015625 51.171875 16.015625 36.375 \nQ 16.015625 21.625 22.71875 14.15625 \nQ 29.4375 6.6875 42.828125 6.6875 \nQ 48.046875 6.6875 52.140625 7.59375 \nQ 56.25 8.5 59.515625 10.40625 \nz\n\" id=\"DejaVuSans-71\"/>\n       </defs>\n       <use xlink:href=\"#DejaVuSans-71\"/>\n       <use x=\"77.490234\" xlink:href=\"#DejaVuSans-97\"/>\n       <use x=\"138.769531\" xlink:href=\"#DejaVuSans-114\"/>\n       <use x=\"179.882812\" xlink:href=\"#DejaVuSans-102\"/>\n       <use x=\"215.087891\" xlink:href=\"#DejaVuSans-105\"/>\n       <use x=\"242.871094\" xlink:href=\"#DejaVuSans-101\"/>\n       <use x=\"304.394531\" xlink:href=\"#DejaVuSans-108\"/>\n       <use x=\"332.177734\" xlink:href=\"#DejaVuSans-100\"/>\n      </g>\n     </g>\n    </g>\n    <g id=\"xtick_24\">\n     <g id=\"line2d_24\">\n      <g>\n       <use style=\"stroke:#000000;stroke-width:0.8;\" x=\"425.305357\" xlink:href=\"#mde7f18eb00\" y=\"438.12\"/>\n      </g>\n     </g>\n     <g id=\"text_24\">\n      <!-- Gilpin -->\n      <g transform=\"translate(428.064732 473.88875)rotate(-90)scale(0.1 -0.1)\">\n       <use xlink:href=\"#DejaVuSans-71\"/>\n       <use x=\"77.490234\" xlink:href=\"#DejaVuSans-105\"/>\n       <use x=\"105.273438\" xlink:href=\"#DejaVuSans-108\"/>\n       <use x=\"133.056641\" xlink:href=\"#DejaVuSans-112\"/>\n       <use x=\"196.533203\" xlink:href=\"#DejaVuSans-105\"/>\n       <use x=\"224.316406\" xlink:href=\"#DejaVuSans-110\"/>\n      </g>\n     </g>\n    </g>\n    <g id=\"xtick_25\">\n     <g id=\"line2d_25\">\n      <g>\n       <use style=\"stroke:#000000;stroke-width:0.8;\" x=\"440.3625\" xlink:href=\"#mde7f18eb00\" y=\"438.12\"/>\n      </g>\n     </g>\n     <g id=\"text_25\">\n      <!-- Grand -->\n      <g transform=\"translate(443.121875 475.793437)rotate(-90)scale(0.1 -0.1)\">\n       <use xlink:href=\"#DejaVuSans-71\"/>\n       <use x=\"77.490234\" xlink:href=\"#DejaVuSans-114\"/>\n       <use x=\"118.603516\" xlink:href=\"#DejaVuSans-97\"/>\n       <use x=\"179.882812\" xlink:href=\"#DejaVuSans-110\"/>\n       <use x=\"243.261719\" xlink:href=\"#DejaVuSans-100\"/>\n      </g>\n     </g>\n    </g>\n    <g id=\"xtick_26\">\n     <g id=\"line2d_26\">\n      <g>\n       <use style=\"stroke:#000000;stroke-width:0.8;\" x=\"455.419643\" xlink:href=\"#mde7f18eb00\" y=\"438.12\"/>\n      </g>\n     </g>\n     <g id=\"text_26\">\n      <!-- Gunnison -->\n      <g transform=\"translate(458.179018 492.324687)rotate(-90)scale(0.1 -0.1)\">\n       <use xlink:href=\"#DejaVuSans-71\"/>\n       <use x=\"77.490234\" xlink:href=\"#DejaVuSans-117\"/>\n       <use x=\"140.869141\" xlink:href=\"#DejaVuSans-110\"/>\n       <use x=\"204.248047\" xlink:href=\"#DejaVuSans-110\"/>\n       <use x=\"267.626953\" xlink:href=\"#DejaVuSans-105\"/>\n       <use x=\"295.410156\" xlink:href=\"#DejaVuSans-115\"/>\n       <use x=\"347.509766\" xlink:href=\"#DejaVuSans-111\"/>\n       <use x=\"408.691406\" xlink:href=\"#DejaVuSans-110\"/>\n      </g>\n     </g>\n    </g>\n    <g id=\"xtick_27\">\n     <g id=\"line2d_27\">\n      <g>\n       <use style=\"stroke:#000000;stroke-width:0.8;\" x=\"470.476786\" xlink:href=\"#mde7f18eb00\" y=\"438.12\"/>\n      </g>\n     </g>\n     <g id=\"text_27\">\n      <!-- Hinsdale -->\n      <g transform=\"translate(473.236161 488.373125)rotate(-90)scale(0.1 -0.1)\">\n       <defs>\n        <path d=\"M 9.8125 72.90625 \nL 19.671875 72.90625 \nL 19.671875 43.015625 \nL 55.515625 43.015625 \nL 55.515625 72.90625 \nL 65.375 72.90625 \nL 65.375 0 \nL 55.515625 0 \nL 55.515625 34.71875 \nL 19.671875 34.71875 \nL 19.671875 0 \nL 9.8125 0 \nz\n\" id=\"DejaVuSans-72\"/>\n       </defs>\n       <use xlink:href=\"#DejaVuSans-72\"/>\n       <use x=\"75.195312\" xlink:href=\"#DejaVuSans-105\"/>\n       <use x=\"102.978516\" xlink:href=\"#DejaVuSans-110\"/>\n       <use x=\"166.357422\" xlink:href=\"#DejaVuSans-115\"/>\n       <use x=\"218.457031\" xlink:href=\"#DejaVuSans-100\"/>\n       <use x=\"281.933594\" xlink:href=\"#DejaVuSans-97\"/>\n       <use x=\"343.212891\" xlink:href=\"#DejaVuSans-108\"/>\n       <use x=\"370.996094\" xlink:href=\"#DejaVuSans-101\"/>\n      </g>\n     </g>\n    </g>\n    <g id=\"xtick_28\">\n     <g id=\"line2d_28\">\n      <g>\n       <use style=\"stroke:#000000;stroke-width:0.8;\" x=\"485.533929\" xlink:href=\"#mde7f18eb00\" y=\"438.12\"/>\n      </g>\n     </g>\n     <g id=\"text_28\">\n      <!-- Huerfano -->\n      <g transform=\"translate(488.293304 491.346563)rotate(-90)scale(0.1 -0.1)\">\n       <use xlink:href=\"#DejaVuSans-72\"/>\n       <use x=\"75.195312\" xlink:href=\"#DejaVuSans-117\"/>\n       <use x=\"138.574219\" xlink:href=\"#DejaVuSans-101\"/>\n       <use x=\"200.097656\" xlink:href=\"#DejaVuSans-114\"/>\n       <use x=\"241.210938\" xlink:href=\"#DejaVuSans-102\"/>\n       <use x=\"276.416016\" xlink:href=\"#DejaVuSans-97\"/>\n       <use x=\"337.695312\" xlink:href=\"#DejaVuSans-110\"/>\n       <use x=\"401.074219\" xlink:href=\"#DejaVuSans-111\"/>\n      </g>\n     </g>\n    </g>\n    <g id=\"xtick_29\">\n     <g id=\"line2d_29\">\n      <g>\n       <use style=\"stroke:#000000;stroke-width:0.8;\" x=\"500.591071\" xlink:href=\"#mde7f18eb00\" y=\"438.12\"/>\n      </g>\n     </g>\n     <g id=\"text_29\">\n      <!-- Jackson -->\n      <g transform=\"translate(503.350446 483.152812)rotate(-90)scale(0.1 -0.1)\">\n       <defs>\n        <path d=\"M 9.8125 72.90625 \nL 19.671875 72.90625 \nL 19.671875 5.078125 \nQ 19.671875 -8.109375 14.671875 -14.0625 \nQ 9.671875 -20.015625 -1.421875 -20.015625 \nL -5.171875 -20.015625 \nL -5.171875 -11.71875 \nL -2.09375 -11.71875 \nQ 4.4375 -11.71875 7.125 -8.046875 \nQ 9.8125 -4.390625 9.8125 5.078125 \nz\n\" id=\"DejaVuSans-74\"/>\n       </defs>\n       <use xlink:href=\"#DejaVuSans-74\"/>\n       <use x=\"29.492188\" xlink:href=\"#DejaVuSans-97\"/>\n       <use x=\"90.771484\" xlink:href=\"#DejaVuSans-99\"/>\n       <use x=\"145.751953\" xlink:href=\"#DejaVuSans-107\"/>\n       <use x=\"203.662109\" xlink:href=\"#DejaVuSans-115\"/>\n       <use x=\"255.761719\" xlink:href=\"#DejaVuSans-111\"/>\n       <use x=\"316.943359\" xlink:href=\"#DejaVuSans-110\"/>\n      </g>\n     </g>\n    </g>\n    <g id=\"xtick_30\">\n     <g id=\"line2d_30\">\n      <g>\n       <use style=\"stroke:#000000;stroke-width:0.8;\" x=\"515.648214\" xlink:href=\"#mde7f18eb00\" y=\"438.12\"/>\n      </g>\n     </g>\n     <g id=\"text_30\">\n      <!-- Jefferson* -->\n      <g transform=\"translate(518.407589 494.193437)rotate(-90)scale(0.1 -0.1)\">\n       <use xlink:href=\"#DejaVuSans-74\"/>\n       <use x=\"29.492188\" xlink:href=\"#DejaVuSans-101\"/>\n       <use x=\"91.015625\" xlink:href=\"#DejaVuSans-102\"/>\n       <use x=\"126.220703\" xlink:href=\"#DejaVuSans-102\"/>\n       <use x=\"161.425781\" xlink:href=\"#DejaVuSans-101\"/>\n       <use x=\"222.949219\" xlink:href=\"#DejaVuSans-114\"/>\n       <use x=\"264.0625\" xlink:href=\"#DejaVuSans-115\"/>\n       <use x=\"316.162109\" xlink:href=\"#DejaVuSans-111\"/>\n       <use x=\"377.34375\" xlink:href=\"#DejaVuSans-110\"/>\n       <use x=\"440.722656\" xlink:href=\"#DejaVuSans-42\"/>\n      </g>\n     </g>\n    </g>\n    <g id=\"xtick_31\">\n     <g id=\"line2d_31\">\n      <g>\n       <use style=\"stroke:#000000;stroke-width:0.8;\" x=\"530.705357\" xlink:href=\"#mde7f18eb00\" y=\"438.12\"/>\n      </g>\n     </g>\n     <g id=\"text_31\">\n      <!-- Kiowa -->\n      <g transform=\"translate(533.464732 474.880937)rotate(-90)scale(0.1 -0.1)\">\n       <defs>\n        <path d=\"M 9.8125 72.90625 \nL 19.671875 72.90625 \nL 19.671875 42.09375 \nL 52.390625 72.90625 \nL 65.09375 72.90625 \nL 28.90625 38.921875 \nL 67.671875 0 \nL 54.6875 0 \nL 19.671875 35.109375 \nL 19.671875 0 \nL 9.8125 0 \nz\n\" id=\"DejaVuSans-75\"/>\n       </defs>\n       <use xlink:href=\"#DejaVuSans-75\"/>\n       <use x=\"65.576172\" xlink:href=\"#DejaVuSans-105\"/>\n       <use x=\"93.359375\" xlink:href=\"#DejaVuSans-111\"/>\n       <use x=\"154.541016\" xlink:href=\"#DejaVuSans-119\"/>\n       <use x=\"236.328125\" xlink:href=\"#DejaVuSans-97\"/>\n      </g>\n     </g>\n    </g>\n    <g id=\"xtick_32\">\n     <g id=\"line2d_32\">\n      <g>\n       <use style=\"stroke:#000000;stroke-width:0.8;\" x=\"545.7625\" xlink:href=\"#mde7f18eb00\" y=\"438.12\"/>\n      </g>\n     </g>\n     <g id=\"text_32\">\n      <!-- Kit Carson -->\n      <g transform=\"translate(548.521875 496.441875)rotate(-90)scale(0.1 -0.1)\">\n       <use xlink:href=\"#DejaVuSans-75\"/>\n       <use x=\"65.576172\" xlink:href=\"#DejaVuSans-105\"/>\n       <use x=\"93.359375\" xlink:href=\"#DejaVuSans-116\"/>\n       <use x=\"132.568359\" xlink:href=\"#DejaVuSans-32\"/>\n       <use x=\"164.355469\" xlink:href=\"#DejaVuSans-67\"/>\n       <use x=\"234.179688\" xlink:href=\"#DejaVuSans-97\"/>\n       <use x=\"295.458984\" xlink:href=\"#DejaVuSans-114\"/>\n       <use x=\"336.572266\" xlink:href=\"#DejaVuSans-115\"/>\n       <use x=\"388.671875\" xlink:href=\"#DejaVuSans-111\"/>\n       <use x=\"449.853516\" xlink:href=\"#DejaVuSans-110\"/>\n      </g>\n     </g>\n    </g>\n    <g id=\"xtick_33\">\n     <g id=\"line2d_33\">\n      <g>\n       <use style=\"stroke:#000000;stroke-width:0.8;\" x=\"560.819643\" xlink:href=\"#mde7f18eb00\" y=\"438.12\"/>\n      </g>\n     </g>\n     <g id=\"text_33\">\n      <!-- Lake -->\n      <g transform=\"translate(563.579018 468.40125)rotate(-90)scale(0.1 -0.1)\">\n       <defs>\n        <path d=\"M 9.8125 72.90625 \nL 19.671875 72.90625 \nL 19.671875 8.296875 \nL 55.171875 8.296875 \nL 55.171875 0 \nL 9.8125 0 \nz\n\" id=\"DejaVuSans-76\"/>\n       </defs>\n       <use xlink:href=\"#DejaVuSans-76\"/>\n       <use x=\"55.712891\" xlink:href=\"#DejaVuSans-97\"/>\n       <use x=\"116.992188\" xlink:href=\"#DejaVuSans-107\"/>\n       <use x=\"171.277344\" xlink:href=\"#DejaVuSans-101\"/>\n      </g>\n     </g>\n    </g>\n    <g id=\"xtick_34\">\n     <g id=\"line2d_34\">\n      <g>\n       <use style=\"stroke:#000000;stroke-width:0.8;\" x=\"575.876786\" xlink:href=\"#mde7f18eb00\" y=\"438.12\"/>\n      </g>\n     </g>\n     <g id=\"text_34\">\n      <!-- La Plata -->\n      <g transform=\"translate(578.636161 484.9825)rotate(-90)scale(0.1 -0.1)\">\n       <use xlink:href=\"#DejaVuSans-76\"/>\n       <use x=\"55.712891\" xlink:href=\"#DejaVuSans-97\"/>\n       <use x=\"116.992188\" xlink:href=\"#DejaVuSans-32\"/>\n       <use x=\"148.779297\" xlink:href=\"#DejaVuSans-80\"/>\n       <use x=\"209.082031\" xlink:href=\"#DejaVuSans-108\"/>\n       <use x=\"236.865234\" xlink:href=\"#DejaVuSans-97\"/>\n       <use x=\"298.144531\" xlink:href=\"#DejaVuSans-116\"/>\n       <use x=\"337.353516\" xlink:href=\"#DejaVuSans-97\"/>\n      </g>\n     </g>\n    </g>\n    <g id=\"xtick_35\">\n     <g id=\"line2d_35\">\n      <g>\n       <use style=\"stroke:#000000;stroke-width:0.8;\" x=\"590.933929\" xlink:href=\"#mde7f18eb00\" y=\"438.12\"/>\n      </g>\n     </g>\n     <g id=\"text_35\">\n      <!-- Larimer -->\n      <g transform=\"translate(593.693304 483.71375)rotate(-90)scale(0.1 -0.1)\">\n       <use xlink:href=\"#DejaVuSans-76\"/>\n       <use x=\"55.712891\" xlink:href=\"#DejaVuSans-97\"/>\n       <use x=\"116.992188\" xlink:href=\"#DejaVuSans-114\"/>\n       <use x=\"158.105469\" xlink:href=\"#DejaVuSans-105\"/>\n       <use x=\"185.888672\" xlink:href=\"#DejaVuSans-109\"/>\n       <use x=\"283.300781\" xlink:href=\"#DejaVuSans-101\"/>\n       <use x=\"344.824219\" xlink:href=\"#DejaVuSans-114\"/>\n      </g>\n     </g>\n    </g>\n    <g id=\"xtick_36\">\n     <g id=\"line2d_36\">\n      <g>\n       <use style=\"stroke:#000000;stroke-width:0.8;\" x=\"605.991071\" xlink:href=\"#mde7f18eb00\" y=\"438.12\"/>\n      </g>\n     </g>\n     <g id=\"text_36\">\n      <!-- Las Animas -->\n      <g transform=\"translate(608.750446 502.241875)rotate(-90)scale(0.1 -0.1)\">\n       <use xlink:href=\"#DejaVuSans-76\"/>\n       <use x=\"55.712891\" xlink:href=\"#DejaVuSans-97\"/>\n       <use x=\"116.992188\" xlink:href=\"#DejaVuSans-115\"/>\n       <use x=\"169.091797\" xlink:href=\"#DejaVuSans-32\"/>\n       <use x=\"200.878906\" xlink:href=\"#DejaVuSans-65\"/>\n       <use x=\"269.287109\" xlink:href=\"#DejaVuSans-110\"/>\n       <use x=\"332.666016\" xlink:href=\"#DejaVuSans-105\"/>\n       <use x=\"360.449219\" xlink:href=\"#DejaVuSans-109\"/>\n       <use x=\"457.861328\" xlink:href=\"#DejaVuSans-97\"/>\n       <use x=\"519.140625\" xlink:href=\"#DejaVuSans-115\"/>\n      </g>\n     </g>\n    </g>\n    <g id=\"xtick_37\">\n     <g id=\"line2d_37\">\n      <g>\n       <use style=\"stroke:#000000;stroke-width:0.8;\" x=\"621.048214\" xlink:href=\"#mde7f18eb00\" y=\"438.12\"/>\n      </g>\n     </g>\n     <g id=\"text_37\">\n      <!-- Lincoln -->\n      <g transform=\"translate(623.807589 480.540312)rotate(-90)scale(0.1 -0.1)\">\n       <use xlink:href=\"#DejaVuSans-76\"/>\n       <use x=\"55.712891\" xlink:href=\"#DejaVuSans-105\"/>\n       <use x=\"83.496094\" xlink:href=\"#DejaVuSans-110\"/>\n       <use x=\"146.875\" xlink:href=\"#DejaVuSans-99\"/>\n       <use x=\"201.855469\" xlink:href=\"#DejaVuSans-111\"/>\n       <use x=\"263.037109\" xlink:href=\"#DejaVuSans-108\"/>\n       <use x=\"290.820312\" xlink:href=\"#DejaVuSans-110\"/>\n      </g>\n     </g>\n    </g>\n    <g id=\"xtick_38\">\n     <g id=\"line2d_38\">\n      <g>\n       <use style=\"stroke:#000000;stroke-width:0.8;\" x=\"636.105357\" xlink:href=\"#mde7f18eb00\" y=\"438.12\"/>\n      </g>\n     </g>\n     <g id=\"text_38\">\n      <!-- Logan -->\n      <g transform=\"translate(638.864732 475.449687)rotate(-90)scale(0.1 -0.1)\">\n       <use xlink:href=\"#DejaVuSans-76\"/>\n       <use x=\"53.962891\" xlink:href=\"#DejaVuSans-111\"/>\n       <use x=\"115.144531\" xlink:href=\"#DejaVuSans-103\"/>\n       <use x=\"178.621094\" xlink:href=\"#DejaVuSans-97\"/>\n       <use x=\"239.900391\" xlink:href=\"#DejaVuSans-110\"/>\n      </g>\n     </g>\n    </g>\n    <g id=\"xtick_39\">\n     <g id=\"line2d_39\">\n      <g>\n       <use style=\"stroke:#000000;stroke-width:0.8;\" x=\"651.1625\" xlink:href=\"#mde7f18eb00\" y=\"438.12\"/>\n      </g>\n     </g>\n     <g id=\"text_39\">\n      <!-- Mesa -->\n      <g transform=\"translate(653.921875 471.23875)rotate(-90)scale(0.1 -0.1)\">\n       <defs>\n        <path d=\"M 9.8125 72.90625 \nL 24.515625 72.90625 \nL 43.109375 23.296875 \nL 61.8125 72.90625 \nL 76.515625 72.90625 \nL 76.515625 0 \nL 66.890625 0 \nL 66.890625 64.015625 \nL 48.09375 14.015625 \nL 38.1875 14.015625 \nL 19.390625 64.015625 \nL 19.390625 0 \nL 9.8125 0 \nz\n\" id=\"DejaVuSans-77\"/>\n       </defs>\n       <use xlink:href=\"#DejaVuSans-77\"/>\n       <use x=\"86.279297\" xlink:href=\"#DejaVuSans-101\"/>\n       <use x=\"147.802734\" xlink:href=\"#DejaVuSans-115\"/>\n       <use x=\"199.902344\" xlink:href=\"#DejaVuSans-97\"/>\n      </g>\n     </g>\n    </g>\n    <g id=\"xtick_40\">\n     <g id=\"line2d_40\">\n      <g>\n       <use style=\"stroke:#000000;stroke-width:0.8;\" x=\"666.219643\" xlink:href=\"#mde7f18eb00\" y=\"438.12\"/>\n      </g>\n     </g>\n     <g id=\"text_40\">\n      <!-- Mineral -->\n      <g transform=\"translate(668.979018 482.034063)rotate(-90)scale(0.1 -0.1)\">\n       <use xlink:href=\"#DejaVuSans-77\"/>\n       <use x=\"86.279297\" xlink:href=\"#DejaVuSans-105\"/>\n       <use x=\"114.0625\" xlink:href=\"#DejaVuSans-110\"/>\n       <use x=\"177.441406\" xlink:href=\"#DejaVuSans-101\"/>\n       <use x=\"238.964844\" xlink:href=\"#DejaVuSans-114\"/>\n       <use x=\"280.078125\" xlink:href=\"#DejaVuSans-97\"/>\n       <use x=\"341.357422\" xlink:href=\"#DejaVuSans-108\"/>\n      </g>\n     </g>\n    </g>\n    <g id=\"xtick_41\">\n     <g id=\"line2d_41\">\n      <g>\n       <use style=\"stroke:#000000;stroke-width:0.8;\" x=\"681.276786\" xlink:href=\"#mde7f18eb00\" y=\"438.12\"/>\n      </g>\n     </g>\n     <g id=\"text_41\">\n      <!-- Moffat -->\n      <g transform=\"translate(684.036161 476.955938)rotate(-90)scale(0.1 -0.1)\">\n       <use xlink:href=\"#DejaVuSans-77\"/>\n       <use x=\"86.279297\" xlink:href=\"#DejaVuSans-111\"/>\n       <use x=\"147.460938\" xlink:href=\"#DejaVuSans-102\"/>\n       <use x=\"182.666016\" xlink:href=\"#DejaVuSans-102\"/>\n       <use x=\"217.871094\" xlink:href=\"#DejaVuSans-97\"/>\n       <use x=\"279.150391\" xlink:href=\"#DejaVuSans-116\"/>\n      </g>\n     </g>\n    </g>\n    <g id=\"xtick_42\">\n     <g id=\"line2d_42\">\n      <g>\n       <use style=\"stroke:#000000;stroke-width:0.8;\" x=\"696.333929\" xlink:href=\"#mde7f18eb00\" y=\"438.12\"/>\n      </g>\n     </g>\n     <g id=\"text_42\">\n      <!-- Montezuma -->\n      <g transform=\"translate(699.093304 503.7325)rotate(-90)scale(0.1 -0.1)\">\n       <defs>\n        <path d=\"M 5.515625 54.6875 \nL 48.1875 54.6875 \nL 48.1875 46.484375 \nL 14.40625 7.171875 \nL 48.1875 7.171875 \nL 48.1875 0 \nL 4.296875 0 \nL 4.296875 8.203125 \nL 38.09375 47.515625 \nL 5.515625 47.515625 \nz\n\" id=\"DejaVuSans-122\"/>\n       </defs>\n       <use xlink:href=\"#DejaVuSans-77\"/>\n       <use x=\"86.279297\" xlink:href=\"#DejaVuSans-111\"/>\n       <use x=\"147.460938\" xlink:href=\"#DejaVuSans-110\"/>\n       <use x=\"210.839844\" xlink:href=\"#DejaVuSans-116\"/>\n       <use x=\"250.048828\" xlink:href=\"#DejaVuSans-101\"/>\n       <use x=\"311.572266\" xlink:href=\"#DejaVuSans-122\"/>\n       <use x=\"364.0625\" xlink:href=\"#DejaVuSans-117\"/>\n       <use x=\"427.441406\" xlink:href=\"#DejaVuSans-109\"/>\n       <use x=\"524.853516\" xlink:href=\"#DejaVuSans-97\"/>\n      </g>\n     </g>\n    </g>\n    <g id=\"xtick_43\">\n     <g id=\"line2d_43\">\n      <g>\n       <use style=\"stroke:#000000;stroke-width:0.8;\" x=\"711.391071\" xlink:href=\"#mde7f18eb00\" y=\"438.12\"/>\n      </g>\n     </g>\n     <g id=\"text_43\">\n      <!-- Montrose -->\n      <g transform=\"translate(714.150446 491.491875)rotate(-90)scale(0.1 -0.1)\">\n       <use xlink:href=\"#DejaVuSans-77\"/>\n       <use x=\"86.279297\" xlink:href=\"#DejaVuSans-111\"/>\n       <use x=\"147.460938\" xlink:href=\"#DejaVuSans-110\"/>\n       <use x=\"210.839844\" xlink:href=\"#DejaVuSans-116\"/>\n       <use x=\"250.048828\" xlink:href=\"#DejaVuSans-114\"/>\n       <use x=\"288.912109\" xlink:href=\"#DejaVuSans-111\"/>\n       <use x=\"350.09375\" xlink:href=\"#DejaVuSans-115\"/>\n       <use x=\"402.193359\" xlink:href=\"#DejaVuSans-101\"/>\n      </g>\n     </g>\n    </g>\n    <g id=\"xtick_44\">\n     <g id=\"line2d_44\">\n      <g>\n       <use style=\"stroke:#000000;stroke-width:0.8;\" x=\"726.448214\" xlink:href=\"#mde7f18eb00\" y=\"438.12\"/>\n      </g>\n     </g>\n     <g id=\"text_44\">\n      <!-- Morgan -->\n      <g transform=\"translate(729.207589 482.616875)rotate(-90)scale(0.1 -0.1)\">\n       <use xlink:href=\"#DejaVuSans-77\"/>\n       <use x=\"86.279297\" xlink:href=\"#DejaVuSans-111\"/>\n       <use x=\"147.460938\" xlink:href=\"#DejaVuSans-114\"/>\n       <use x=\"186.824219\" xlink:href=\"#DejaVuSans-103\"/>\n       <use x=\"250.300781\" xlink:href=\"#DejaVuSans-97\"/>\n       <use x=\"311.580078\" xlink:href=\"#DejaVuSans-110\"/>\n      </g>\n     </g>\n    </g>\n    <g id=\"xtick_45\">\n     <g id=\"line2d_45\">\n      <g>\n       <use style=\"stroke:#000000;stroke-width:0.8;\" x=\"741.505357\" xlink:href=\"#mde7f18eb00\" y=\"438.12\"/>\n      </g>\n     </g>\n     <g id=\"text_45\">\n      <!-- Otero -->\n      <g transform=\"translate(744.264732 473.07)rotate(-90)scale(0.1 -0.1)\">\n       <defs>\n        <path d=\"M 39.40625 66.21875 \nQ 28.65625 66.21875 22.328125 58.203125 \nQ 16.015625 50.203125 16.015625 36.375 \nQ 16.015625 22.609375 22.328125 14.59375 \nQ 28.65625 6.59375 39.40625 6.59375 \nQ 50.140625 6.59375 56.421875 14.59375 \nQ 62.703125 22.609375 62.703125 36.375 \nQ 62.703125 50.203125 56.421875 58.203125 \nQ 50.140625 66.21875 39.40625 66.21875 \nz\nM 39.40625 74.21875 \nQ 54.734375 74.21875 63.90625 63.9375 \nQ 73.09375 53.65625 73.09375 36.375 \nQ 73.09375 19.140625 63.90625 8.859375 \nQ 54.734375 -1.421875 39.40625 -1.421875 \nQ 24.03125 -1.421875 14.8125 8.828125 \nQ 5.609375 19.09375 5.609375 36.375 \nQ 5.609375 53.65625 14.8125 63.9375 \nQ 24.03125 74.21875 39.40625 74.21875 \nz\n\" id=\"DejaVuSans-79\"/>\n       </defs>\n       <use xlink:href=\"#DejaVuSans-79\"/>\n       <use x=\"78.710938\" xlink:href=\"#DejaVuSans-116\"/>\n       <use x=\"117.919922\" xlink:href=\"#DejaVuSans-101\"/>\n       <use x=\"179.443359\" xlink:href=\"#DejaVuSans-114\"/>\n       <use x=\"218.306641\" xlink:href=\"#DejaVuSans-111\"/>\n      </g>\n     </g>\n    </g>\n    <g id=\"xtick_46\">\n     <g id=\"line2d_46\">\n      <g>\n       <use style=\"stroke:#000000;stroke-width:0.8;\" x=\"756.5625\" xlink:href=\"#mde7f18eb00\" y=\"438.12\"/>\n      </g>\n     </g>\n     <g id=\"text_46\">\n      <!-- Ouray -->\n      <g transform=\"translate(759.321875 475.487188)rotate(-90)scale(0.1 -0.1)\">\n       <use xlink:href=\"#DejaVuSans-79\"/>\n       <use x=\"78.710938\" xlink:href=\"#DejaVuSans-117\"/>\n       <use x=\"142.089844\" xlink:href=\"#DejaVuSans-114\"/>\n       <use x=\"183.203125\" xlink:href=\"#DejaVuSans-97\"/>\n       <use x=\"244.482422\" xlink:href=\"#DejaVuSans-121\"/>\n      </g>\n     </g>\n    </g>\n    <g id=\"xtick_47\">\n     <g id=\"line2d_47\">\n      <g>\n       <use style=\"stroke:#000000;stroke-width:0.8;\" x=\"771.619643\" xlink:href=\"#mde7f18eb00\" y=\"438.12\"/>\n      </g>\n     </g>\n     <g id=\"text_47\">\n      <!-- Park -->\n      <g transform=\"translate(774.379018 466.729375)rotate(-90)scale(0.1 -0.1)\">\n       <use xlink:href=\"#DejaVuSans-80\"/>\n       <use x=\"55.802734\" xlink:href=\"#DejaVuSans-97\"/>\n       <use x=\"117.082031\" xlink:href=\"#DejaVuSans-114\"/>\n       <use x=\"158.195312\" xlink:href=\"#DejaVuSans-107\"/>\n      </g>\n     </g>\n    </g>\n    <g id=\"xtick_48\">\n     <g id=\"line2d_48\">\n      <g>\n       <use style=\"stroke:#000000;stroke-width:0.8;\" x=\"786.676786\" xlink:href=\"#mde7f18eb00\" y=\"438.12\"/>\n      </g>\n     </g>\n     <g id=\"text_48\">\n      <!-- Phillips -->\n      <g transform=\"translate(789.436161 480.1575)rotate(-90)scale(0.1 -0.1)\">\n       <use xlink:href=\"#DejaVuSans-80\"/>\n       <use x=\"60.302734\" xlink:href=\"#DejaVuSans-104\"/>\n       <use x=\"123.681641\" xlink:href=\"#DejaVuSans-105\"/>\n       <use x=\"151.464844\" xlink:href=\"#DejaVuSans-108\"/>\n       <use x=\"179.248047\" xlink:href=\"#DejaVuSans-108\"/>\n       <use x=\"207.03125\" xlink:href=\"#DejaVuSans-105\"/>\n       <use x=\"234.814453\" xlink:href=\"#DejaVuSans-112\"/>\n       <use x=\"298.291016\" xlink:href=\"#DejaVuSans-115\"/>\n      </g>\n     </g>\n    </g>\n    <g id=\"xtick_49\">\n     <g id=\"line2d_49\">\n      <g>\n       <use style=\"stroke:#000000;stroke-width:0.8;\" x=\"801.733929\" xlink:href=\"#mde7f18eb00\" y=\"438.12\"/>\n      </g>\n     </g>\n     <g id=\"text_49\">\n      <!-- Pitkin -->\n      <g transform=\"translate(804.493304 472.529375)rotate(-90)scale(0.1 -0.1)\">\n       <use xlink:href=\"#DejaVuSans-80\"/>\n       <use x=\"58.052734\" xlink:href=\"#DejaVuSans-105\"/>\n       <use x=\"85.835938\" xlink:href=\"#DejaVuSans-116\"/>\n       <use x=\"125.044922\" xlink:href=\"#DejaVuSans-107\"/>\n       <use x=\"182.955078\" xlink:href=\"#DejaVuSans-105\"/>\n       <use x=\"210.738281\" xlink:href=\"#DejaVuSans-110\"/>\n      </g>\n     </g>\n    </g>\n    <g id=\"xtick_50\">\n     <g id=\"line2d_50\">\n      <g>\n       <use style=\"stroke:#000000;stroke-width:0.8;\" x=\"816.791071\" xlink:href=\"#mde7f18eb00\" y=\"438.12\"/>\n      </g>\n     </g>\n     <g id=\"text_50\">\n      <!-- Prowers -->\n      <g transform=\"translate(819.550446 484.630937)rotate(-90)scale(0.1 -0.1)\">\n       <use xlink:href=\"#DejaVuSans-80\"/>\n       <use x=\"58.552734\" xlink:href=\"#DejaVuSans-114\"/>\n       <use x=\"97.416016\" xlink:href=\"#DejaVuSans-111\"/>\n       <use x=\"158.597656\" xlink:href=\"#DejaVuSans-119\"/>\n       <use x=\"240.384766\" xlink:href=\"#DejaVuSans-101\"/>\n       <use x=\"301.908203\" xlink:href=\"#DejaVuSans-114\"/>\n       <use x=\"343.021484\" xlink:href=\"#DejaVuSans-115\"/>\n      </g>\n     </g>\n    </g>\n    <g id=\"xtick_51\">\n     <g id=\"line2d_51\">\n      <g>\n       <use style=\"stroke:#000000;stroke-width:0.8;\" x=\"831.848214\" xlink:href=\"#mde7f18eb00\" y=\"438.12\"/>\n      </g>\n     </g>\n     <g id=\"text_51\">\n      <!-- Pueblo -->\n      <g transform=\"translate(834.607589 478.710625)rotate(-90)scale(0.1 -0.1)\">\n       <use xlink:href=\"#DejaVuSans-80\"/>\n       <use x=\"58.552734\" xlink:href=\"#DejaVuSans-117\"/>\n       <use x=\"121.931641\" xlink:href=\"#DejaVuSans-101\"/>\n       <use x=\"183.455078\" xlink:href=\"#DejaVuSans-98\"/>\n       <use x=\"246.931641\" xlink:href=\"#DejaVuSans-108\"/>\n       <use x=\"274.714844\" xlink:href=\"#DejaVuSans-111\"/>\n      </g>\n     </g>\n    </g>\n    <g id=\"xtick_52\">\n     <g id=\"line2d_52\">\n      <g>\n       <use style=\"stroke:#000000;stroke-width:0.8;\" x=\"846.905357\" xlink:href=\"#mde7f18eb00\" y=\"438.12\"/>\n      </g>\n     </g>\n     <g id=\"text_52\">\n      <!-- Rio Blanco -->\n      <g transform=\"translate(849.664732 497.865312)rotate(-90)scale(0.1 -0.1)\">\n       <defs>\n        <path d=\"M 44.390625 34.1875 \nQ 47.5625 33.109375 50.5625 29.59375 \nQ 53.5625 26.078125 56.59375 19.921875 \nL 66.609375 0 \nL 56 0 \nL 46.6875 18.703125 \nQ 43.0625 26.03125 39.671875 28.421875 \nQ 36.28125 30.8125 30.421875 30.8125 \nL 19.671875 30.8125 \nL 19.671875 0 \nL 9.8125 0 \nL 9.8125 72.90625 \nL 32.078125 72.90625 \nQ 44.578125 72.90625 50.734375 67.671875 \nQ 56.890625 62.453125 56.890625 51.90625 \nQ 56.890625 45.015625 53.6875 40.46875 \nQ 50.484375 35.9375 44.390625 34.1875 \nz\nM 19.671875 64.796875 \nL 19.671875 38.921875 \nL 32.078125 38.921875 \nQ 39.203125 38.921875 42.84375 42.21875 \nQ 46.484375 45.515625 46.484375 51.90625 \nQ 46.484375 58.296875 42.84375 61.546875 \nQ 39.203125 64.796875 32.078125 64.796875 \nz\n\" id=\"DejaVuSans-82\"/>\n       </defs>\n       <use xlink:href=\"#DejaVuSans-82\"/>\n       <use x=\"69.482422\" xlink:href=\"#DejaVuSans-105\"/>\n       <use x=\"97.265625\" xlink:href=\"#DejaVuSans-111\"/>\n       <use x=\"158.447266\" xlink:href=\"#DejaVuSans-32\"/>\n       <use x=\"190.234375\" xlink:href=\"#DejaVuSans-66\"/>\n       <use x=\"258.837891\" xlink:href=\"#DejaVuSans-108\"/>\n       <use x=\"286.621094\" xlink:href=\"#DejaVuSans-97\"/>\n       <use x=\"347.900391\" xlink:href=\"#DejaVuSans-110\"/>\n       <use x=\"411.279297\" xlink:href=\"#DejaVuSans-99\"/>\n       <use x=\"466.259766\" xlink:href=\"#DejaVuSans-111\"/>\n      </g>\n     </g>\n    </g>\n    <g id=\"xtick_53\">\n     <g id=\"line2d_53\">\n      <g>\n       <use style=\"stroke:#000000;stroke-width:0.8;\" x=\"861.9625\" xlink:href=\"#mde7f18eb00\" y=\"438.12\"/>\n      </g>\n     </g>\n     <g id=\"text_53\">\n      <!-- Rio Grande -->\n      <g transform=\"translate(864.721875 500.97)rotate(-90)scale(0.1 -0.1)\">\n       <use xlink:href=\"#DejaVuSans-82\"/>\n       <use x=\"69.482422\" xlink:href=\"#DejaVuSans-105\"/>\n       <use x=\"97.265625\" xlink:href=\"#DejaVuSans-111\"/>\n       <use x=\"158.447266\" xlink:href=\"#DejaVuSans-32\"/>\n       <use x=\"190.234375\" xlink:href=\"#DejaVuSans-71\"/>\n       <use x=\"267.724609\" xlink:href=\"#DejaVuSans-114\"/>\n       <use x=\"308.837891\" xlink:href=\"#DejaVuSans-97\"/>\n       <use x=\"370.117188\" xlink:href=\"#DejaVuSans-110\"/>\n       <use x=\"433.496094\" xlink:href=\"#DejaVuSans-100\"/>\n       <use x=\"496.972656\" xlink:href=\"#DejaVuSans-101\"/>\n      </g>\n     </g>\n    </g>\n    <g id=\"xtick_54\">\n     <g id=\"line2d_54\">\n      <g>\n       <use style=\"stroke:#000000;stroke-width:0.8;\" x=\"877.019643\" xlink:href=\"#mde7f18eb00\" y=\"438.12\"/>\n      </g>\n     </g>\n     <g id=\"text_54\">\n      <!-- Routt -->\n      <g transform=\"translate(879.779018 471.915312)rotate(-90)scale(0.1 -0.1)\">\n       <use xlink:href=\"#DejaVuSans-82\"/>\n       <use x=\"64.982422\" xlink:href=\"#DejaVuSans-111\"/>\n       <use x=\"126.164062\" xlink:href=\"#DejaVuSans-117\"/>\n       <use x=\"189.542969\" xlink:href=\"#DejaVuSans-116\"/>\n       <use x=\"228.751953\" xlink:href=\"#DejaVuSans-116\"/>\n      </g>\n     </g>\n    </g>\n    <g id=\"xtick_55\">\n     <g id=\"line2d_55\">\n      <g>\n       <use style=\"stroke:#000000;stroke-width:0.8;\" x=\"892.076786\" xlink:href=\"#mde7f18eb00\" y=\"438.12\"/>\n      </g>\n     </g>\n     <g id=\"text_55\">\n      <!-- Saguache -->\n      <g transform=\"translate(894.836161 494.399687)rotate(-90)scale(0.1 -0.1)\">\n       <defs>\n        <path d=\"M 53.515625 70.515625 \nL 53.515625 60.890625 \nQ 47.90625 63.578125 42.921875 64.890625 \nQ 37.9375 66.21875 33.296875 66.21875 \nQ 25.25 66.21875 20.875 63.09375 \nQ 16.5 59.96875 16.5 54.203125 \nQ 16.5 49.359375 19.40625 46.890625 \nQ 22.3125 44.4375 30.421875 42.921875 \nL 36.375 41.703125 \nQ 47.40625 39.59375 52.65625 34.296875 \nQ 57.90625 29 57.90625 20.125 \nQ 57.90625 9.515625 50.796875 4.046875 \nQ 43.703125 -1.421875 29.984375 -1.421875 \nQ 24.8125 -1.421875 18.96875 -0.25 \nQ 13.140625 0.921875 6.890625 3.21875 \nL 6.890625 13.375 \nQ 12.890625 10.015625 18.65625 8.296875 \nQ 24.421875 6.59375 29.984375 6.59375 \nQ 38.421875 6.59375 43.015625 9.90625 \nQ 47.609375 13.234375 47.609375 19.390625 \nQ 47.609375 24.75 44.3125 27.78125 \nQ 41.015625 30.8125 33.5 32.328125 \nL 27.484375 33.5 \nQ 16.453125 35.6875 11.515625 40.375 \nQ 6.59375 45.0625 6.59375 53.421875 \nQ 6.59375 63.09375 13.40625 68.65625 \nQ 20.21875 74.21875 32.171875 74.21875 \nQ 37.3125 74.21875 42.625 73.28125 \nQ 47.953125 72.359375 53.515625 70.515625 \nz\n\" id=\"DejaVuSans-83\"/>\n       </defs>\n       <use xlink:href=\"#DejaVuSans-83\"/>\n       <use x=\"63.476562\" xlink:href=\"#DejaVuSans-97\"/>\n       <use x=\"124.755859\" xlink:href=\"#DejaVuSans-103\"/>\n       <use x=\"188.232422\" xlink:href=\"#DejaVuSans-117\"/>\n       <use x=\"251.611328\" xlink:href=\"#DejaVuSans-97\"/>\n       <use x=\"312.890625\" xlink:href=\"#DejaVuSans-99\"/>\n       <use x=\"367.871094\" xlink:href=\"#DejaVuSans-104\"/>\n       <use x=\"431.25\" xlink:href=\"#DejaVuSans-101\"/>\n      </g>\n     </g>\n    </g>\n    <g id=\"xtick_56\">\n     <g id=\"line2d_56\">\n      <g>\n       <use style=\"stroke:#000000;stroke-width:0.8;\" x=\"907.133929\" xlink:href=\"#mde7f18eb00\" y=\"438.12\"/>\n      </g>\n     </g>\n     <g id=\"text_56\">\n      <!-- San Juan -->\n      <g transform=\"translate(909.893304 488.865312)rotate(-90)scale(0.1 -0.1)\">\n       <use xlink:href=\"#DejaVuSans-83\"/>\n       <use x=\"63.476562\" xlink:href=\"#DejaVuSans-97\"/>\n       <use x=\"124.755859\" xlink:href=\"#DejaVuSans-110\"/>\n       <use x=\"188.134766\" xlink:href=\"#DejaVuSans-32\"/>\n       <use x=\"219.921875\" xlink:href=\"#DejaVuSans-74\"/>\n       <use x=\"249.414062\" xlink:href=\"#DejaVuSans-117\"/>\n       <use x=\"312.792969\" xlink:href=\"#DejaVuSans-97\"/>\n       <use x=\"374.072266\" xlink:href=\"#DejaVuSans-110\"/>\n      </g>\n     </g>\n    </g>\n    <g id=\"xtick_57\">\n     <g id=\"line2d_57\">\n      <g>\n       <use style=\"stroke:#000000;stroke-width:0.8;\" x=\"922.191071\" xlink:href=\"#mde7f18eb00\" y=\"438.12\"/>\n      </g>\n     </g>\n     <g id=\"text_57\">\n      <!-- San Miguel -->\n      <g transform=\"translate(924.950446 500.135625)rotate(-90)scale(0.1 -0.1)\">\n       <use xlink:href=\"#DejaVuSans-83\"/>\n       <use x=\"63.476562\" xlink:href=\"#DejaVuSans-97\"/>\n       <use x=\"124.755859\" xlink:href=\"#DejaVuSans-110\"/>\n       <use x=\"188.134766\" xlink:href=\"#DejaVuSans-32\"/>\n       <use x=\"219.921875\" xlink:href=\"#DejaVuSans-77\"/>\n       <use x=\"306.201172\" xlink:href=\"#DejaVuSans-105\"/>\n       <use x=\"333.984375\" xlink:href=\"#DejaVuSans-103\"/>\n       <use x=\"397.460938\" xlink:href=\"#DejaVuSans-117\"/>\n       <use x=\"460.839844\" xlink:href=\"#DejaVuSans-101\"/>\n       <use x=\"522.363281\" xlink:href=\"#DejaVuSans-108\"/>\n      </g>\n     </g>\n    </g>\n    <g id=\"xtick_58\">\n     <g id=\"line2d_58\">\n      <g>\n       <use style=\"stroke:#000000;stroke-width:0.8;\" x=\"937.248214\" xlink:href=\"#mde7f18eb00\" y=\"438.12\"/>\n      </g>\n     </g>\n     <g id=\"text_58\">\n      <!-- Sedgwick -->\n      <g transform=\"translate(940.007589 492.56375)rotate(-90)scale(0.1 -0.1)\">\n       <use xlink:href=\"#DejaVuSans-83\"/>\n       <use x=\"63.476562\" xlink:href=\"#DejaVuSans-101\"/>\n       <use x=\"125\" xlink:href=\"#DejaVuSans-100\"/>\n       <use x=\"188.476562\" xlink:href=\"#DejaVuSans-103\"/>\n       <use x=\"251.953125\" xlink:href=\"#DejaVuSans-119\"/>\n       <use x=\"333.740234\" xlink:href=\"#DejaVuSans-105\"/>\n       <use x=\"361.523438\" xlink:href=\"#DejaVuSans-99\"/>\n       <use x=\"416.503906\" xlink:href=\"#DejaVuSans-107\"/>\n      </g>\n     </g>\n    </g>\n    <g id=\"xtick_59\">\n     <g id=\"line2d_59\">\n      <g>\n       <use style=\"stroke:#000000;stroke-width:0.8;\" x=\"952.305357\" xlink:href=\"#mde7f18eb00\" y=\"438.12\"/>\n      </g>\n     </g>\n     <g id=\"text_59\">\n      <!-- Summit -->\n      <g transform=\"translate(955.064732 483.985625)rotate(-90)scale(0.1 -0.1)\">\n       <use xlink:href=\"#DejaVuSans-83\"/>\n       <use x=\"63.476562\" xlink:href=\"#DejaVuSans-117\"/>\n       <use x=\"126.855469\" xlink:href=\"#DejaVuSans-109\"/>\n       <use x=\"224.267578\" xlink:href=\"#DejaVuSans-109\"/>\n       <use x=\"321.679688\" xlink:href=\"#DejaVuSans-105\"/>\n       <use x=\"349.462891\" xlink:href=\"#DejaVuSans-116\"/>\n      </g>\n     </g>\n    </g>\n    <g id=\"xtick_60\">\n     <g id=\"line2d_60\">\n      <g>\n       <use style=\"stroke:#000000;stroke-width:0.8;\" x=\"967.3625\" xlink:href=\"#mde7f18eb00\" y=\"438.12\"/>\n      </g>\n     </g>\n     <g id=\"text_60\">\n      <!-- Teller -->\n      <g transform=\"translate(970.121875 471.50125)rotate(-90)scale(0.1 -0.1)\">\n       <defs>\n        <path d=\"M -0.296875 72.90625 \nL 61.375 72.90625 \nL 61.375 64.59375 \nL 35.5 64.59375 \nL 35.5 0 \nL 25.59375 0 \nL 25.59375 64.59375 \nL -0.296875 64.59375 \nz\n\" id=\"DejaVuSans-84\"/>\n       </defs>\n       <use xlink:href=\"#DejaVuSans-84\"/>\n       <use x=\"44.083984\" xlink:href=\"#DejaVuSans-101\"/>\n       <use x=\"105.607422\" xlink:href=\"#DejaVuSans-108\"/>\n       <use x=\"133.390625\" xlink:href=\"#DejaVuSans-108\"/>\n       <use x=\"161.173828\" xlink:href=\"#DejaVuSans-101\"/>\n       <use x=\"222.697266\" xlink:href=\"#DejaVuSans-114\"/>\n      </g>\n     </g>\n    </g>\n    <g id=\"xtick_61\">\n     <g id=\"line2d_61\">\n      <g>\n       <use style=\"stroke:#000000;stroke-width:0.8;\" x=\"982.419643\" xlink:href=\"#mde7f18eb00\" y=\"438.12\"/>\n      </g>\n     </g>\n     <g id=\"text_61\">\n      <!-- Washington -->\n      <g transform=\"translate(985.179018 503.885625)rotate(-90)scale(0.1 -0.1)\">\n       <defs>\n        <path d=\"M 3.328125 72.90625 \nL 13.28125 72.90625 \nL 28.609375 11.28125 \nL 43.890625 72.90625 \nL 54.984375 72.90625 \nL 70.3125 11.28125 \nL 85.59375 72.90625 \nL 95.609375 72.90625 \nL 77.296875 0 \nL 64.890625 0 \nL 49.515625 63.28125 \nL 33.984375 0 \nL 21.578125 0 \nz\n\" id=\"DejaVuSans-87\"/>\n       </defs>\n       <use xlink:href=\"#DejaVuSans-87\"/>\n       <use x=\"92.501953\" xlink:href=\"#DejaVuSans-97\"/>\n       <use x=\"153.78125\" xlink:href=\"#DejaVuSans-115\"/>\n       <use x=\"205.880859\" xlink:href=\"#DejaVuSans-104\"/>\n       <use x=\"269.259766\" xlink:href=\"#DejaVuSans-105\"/>\n       <use x=\"297.042969\" xlink:href=\"#DejaVuSans-110\"/>\n       <use x=\"360.421875\" xlink:href=\"#DejaVuSans-103\"/>\n       <use x=\"423.898438\" xlink:href=\"#DejaVuSans-116\"/>\n       <use x=\"463.107422\" xlink:href=\"#DejaVuSans-111\"/>\n       <use x=\"524.289062\" xlink:href=\"#DejaVuSans-110\"/>\n      </g>\n     </g>\n    </g>\n    <g id=\"xtick_62\">\n     <g id=\"line2d_62\">\n      <g>\n       <use style=\"stroke:#000000;stroke-width:0.8;\" x=\"997.476786\" xlink:href=\"#mde7f18eb00\" y=\"438.12\"/>\n      </g>\n     </g>\n     <g id=\"text_62\">\n      <!-- Weld* -->\n      <g transform=\"translate(1000.236161 474.699687)rotate(-90)scale(0.1 -0.1)\">\n       <use xlink:href=\"#DejaVuSans-87\"/>\n       <use x=\"93.001953\" xlink:href=\"#DejaVuSans-101\"/>\n       <use x=\"154.525391\" xlink:href=\"#DejaVuSans-108\"/>\n       <use x=\"182.308594\" xlink:href=\"#DejaVuSans-100\"/>\n       <use x=\"245.785156\" xlink:href=\"#DejaVuSans-42\"/>\n      </g>\n     </g>\n    </g>\n    <g id=\"xtick_63\">\n     <g id=\"line2d_63\">\n      <g>\n       <use style=\"stroke:#000000;stroke-width:0.8;\" x=\"1012.533929\" xlink:href=\"#mde7f18eb00\" y=\"438.12\"/>\n      </g>\n     </g>\n     <g id=\"text_63\">\n      <!-- Yuma -->\n      <g transform=\"translate(1015.293304 472.284063)rotate(-90)scale(0.1 -0.1)\">\n       <defs>\n        <path d=\"M -0.203125 72.90625 \nL 10.40625 72.90625 \nL 30.609375 42.921875 \nL 50.6875 72.90625 \nL 61.28125 72.90625 \nL 35.5 34.71875 \nL 35.5 0 \nL 25.59375 0 \nL 25.59375 34.71875 \nz\n\" id=\"DejaVuSans-89\"/>\n       </defs>\n       <use xlink:href=\"#DejaVuSans-89\"/>\n       <use x=\"49.583984\" xlink:href=\"#DejaVuSans-117\"/>\n       <use x=\"112.962891\" xlink:href=\"#DejaVuSans-109\"/>\n       <use x=\"210.375\" xlink:href=\"#DejaVuSans-97\"/>\n      </g>\n     </g>\n    </g>\n    <g id=\"text_64\">\n     <!-- Location -->\n     <g transform=\"translate(524.614063 516.021562)scale(0.1 -0.1)\">\n      <use xlink:href=\"#DejaVuSans-76\"/>\n      <use x=\"53.962891\" xlink:href=\"#DejaVuSans-111\"/>\n      <use x=\"115.144531\" xlink:href=\"#DejaVuSans-99\"/>\n      <use x=\"170.125\" xlink:href=\"#DejaVuSans-97\"/>\n      <use x=\"231.404297\" xlink:href=\"#DejaVuSans-116\"/>\n      <use x=\"270.613281\" xlink:href=\"#DejaVuSans-105\"/>\n      <use x=\"298.396484\" xlink:href=\"#DejaVuSans-111\"/>\n      <use x=\"359.578125\" xlink:href=\"#DejaVuSans-110\"/>\n     </g>\n    </g>\n   </g>\n   <g id=\"matplotlib.axis_2\">\n    <g id=\"ytick_1\">\n     <g id=\"line2d_64\">\n      <defs>\n       <path d=\"M 0 0 \nL -3.5 0 \n\" id=\"m937f42b71b\" style=\"stroke:#000000;stroke-width:0.8;\"/>\n      </defs>\n      <g>\n       <use style=\"stroke:#000000;stroke-width:0.8;\" x=\"71.4625\" xlink:href=\"#m937f42b71b\" y=\"438.12\"/>\n      </g>\n     </g>\n     <g id=\"text_65\">\n      <!-- 0 -->\n      <g transform=\"translate(58.1 441.919219)scale(0.1 -0.1)\">\n       <defs>\n        <path d=\"M 31.78125 66.40625 \nQ 24.171875 66.40625 20.328125 58.90625 \nQ 16.5 51.421875 16.5 36.375 \nQ 16.5 21.390625 20.328125 13.890625 \nQ 24.171875 6.390625 31.78125 6.390625 \nQ 39.453125 6.390625 43.28125 13.890625 \nQ 47.125 21.390625 47.125 36.375 \nQ 47.125 51.421875 43.28125 58.90625 \nQ 39.453125 66.40625 31.78125 66.40625 \nz\nM 31.78125 74.21875 \nQ 44.046875 74.21875 50.515625 64.515625 \nQ 56.984375 54.828125 56.984375 36.375 \nQ 56.984375 17.96875 50.515625 8.265625 \nQ 44.046875 -1.421875 31.78125 -1.421875 \nQ 19.53125 -1.421875 13.0625 8.265625 \nQ 6.59375 17.96875 6.59375 36.375 \nQ 6.59375 54.828125 13.0625 64.515625 \nQ 19.53125 74.21875 31.78125 74.21875 \nz\n\" id=\"DejaVuSans-48\"/>\n       </defs>\n       <use xlink:href=\"#DejaVuSans-48\"/>\n      </g>\n     </g>\n    </g>\n    <g id=\"ytick_2\">\n     <g id=\"line2d_65\">\n      <g>\n       <use style=\"stroke:#000000;stroke-width:0.8;\" x=\"71.4625\" xlink:href=\"#m937f42b71b\" y=\"371.549057\"/>\n      </g>\n     </g>\n     <g id=\"text_66\">\n      <!-- 100000000 -->\n      <g transform=\"translate(7.2 375.348276)scale(0.1 -0.1)\">\n       <defs>\n        <path d=\"M 12.40625 8.296875 \nL 28.515625 8.296875 \nL 28.515625 63.921875 \nL 10.984375 60.40625 \nL 10.984375 69.390625 \nL 28.421875 72.90625 \nL 38.28125 72.90625 \nL 38.28125 8.296875 \nL 54.390625 8.296875 \nL 54.390625 0 \nL 12.40625 0 \nz\n\" id=\"DejaVuSans-49\"/>\n       </defs>\n       <use xlink:href=\"#DejaVuSans-49\"/>\n       <use x=\"63.623047\" xlink:href=\"#DejaVuSans-48\"/>\n       <use x=\"127.246094\" xlink:href=\"#DejaVuSans-48\"/>\n       <use x=\"190.869141\" xlink:href=\"#DejaVuSans-48\"/>\n       <use x=\"254.492188\" xlink:href=\"#DejaVuSans-48\"/>\n       <use x=\"318.115234\" xlink:href=\"#DejaVuSans-48\"/>\n       <use x=\"381.738281\" xlink:href=\"#DejaVuSans-48\"/>\n       <use x=\"445.361328\" xlink:href=\"#DejaVuSans-48\"/>\n       <use x=\"508.984375\" xlink:href=\"#DejaVuSans-48\"/>\n      </g>\n     </g>\n    </g>\n    <g id=\"ytick_3\">\n     <g id=\"line2d_66\">\n      <g>\n       <use style=\"stroke:#000000;stroke-width:0.8;\" x=\"71.4625\" xlink:href=\"#m937f42b71b\" y=\"304.978114\"/>\n      </g>\n     </g>\n     <g id=\"text_67\">\n      <!-- 200000000 -->\n      <g transform=\"translate(7.2 308.777333)scale(0.1 -0.1)\">\n       <defs>\n        <path d=\"M 19.1875 8.296875 \nL 53.609375 8.296875 \nL 53.609375 0 \nL 7.328125 0 \nL 7.328125 8.296875 \nQ 12.9375 14.109375 22.625 23.890625 \nQ 32.328125 33.6875 34.8125 36.53125 \nQ 39.546875 41.84375 41.421875 45.53125 \nQ 43.3125 49.21875 43.3125 52.78125 \nQ 43.3125 58.59375 39.234375 62.25 \nQ 35.15625 65.921875 28.609375 65.921875 \nQ 23.96875 65.921875 18.8125 64.3125 \nQ 13.671875 62.703125 7.8125 59.421875 \nL 7.8125 69.390625 \nQ 13.765625 71.78125 18.9375 73 \nQ 24.125 74.21875 28.421875 74.21875 \nQ 39.75 74.21875 46.484375 68.546875 \nQ 53.21875 62.890625 53.21875 53.421875 \nQ 53.21875 48.921875 51.53125 44.890625 \nQ 49.859375 40.875 45.40625 35.40625 \nQ 44.1875 33.984375 37.640625 27.21875 \nQ 31.109375 20.453125 19.1875 8.296875 \nz\n\" id=\"DejaVuSans-50\"/>\n       </defs>\n       <use xlink:href=\"#DejaVuSans-50\"/>\n       <use x=\"63.623047\" xlink:href=\"#DejaVuSans-48\"/>\n       <use x=\"127.246094\" xlink:href=\"#DejaVuSans-48\"/>\n       <use x=\"190.869141\" xlink:href=\"#DejaVuSans-48\"/>\n       <use x=\"254.492188\" xlink:href=\"#DejaVuSans-48\"/>\n       <use x=\"318.115234\" xlink:href=\"#DejaVuSans-48\"/>\n       <use x=\"381.738281\" xlink:href=\"#DejaVuSans-48\"/>\n       <use x=\"445.361328\" xlink:href=\"#DejaVuSans-48\"/>\n       <use x=\"508.984375\" xlink:href=\"#DejaVuSans-48\"/>\n      </g>\n     </g>\n    </g>\n    <g id=\"ytick_4\">\n     <g id=\"line2d_67\">\n      <g>\n       <use style=\"stroke:#000000;stroke-width:0.8;\" x=\"71.4625\" xlink:href=\"#m937f42b71b\" y=\"238.407172\"/>\n      </g>\n     </g>\n     <g id=\"text_68\">\n      <!-- 300000000 -->\n      <g transform=\"translate(7.2 242.20639)scale(0.1 -0.1)\">\n       <defs>\n        <path d=\"M 40.578125 39.3125 \nQ 47.65625 37.796875 51.625 33 \nQ 55.609375 28.21875 55.609375 21.1875 \nQ 55.609375 10.40625 48.1875 4.484375 \nQ 40.765625 -1.421875 27.09375 -1.421875 \nQ 22.515625 -1.421875 17.65625 -0.515625 \nQ 12.796875 0.390625 7.625 2.203125 \nL 7.625 11.71875 \nQ 11.71875 9.328125 16.59375 8.109375 \nQ 21.484375 6.890625 26.8125 6.890625 \nQ 36.078125 6.890625 40.9375 10.546875 \nQ 45.796875 14.203125 45.796875 21.1875 \nQ 45.796875 27.640625 41.28125 31.265625 \nQ 36.765625 34.90625 28.71875 34.90625 \nL 20.21875 34.90625 \nL 20.21875 43.015625 \nL 29.109375 43.015625 \nQ 36.375 43.015625 40.234375 45.921875 \nQ 44.09375 48.828125 44.09375 54.296875 \nQ 44.09375 59.90625 40.109375 62.90625 \nQ 36.140625 65.921875 28.71875 65.921875 \nQ 24.65625 65.921875 20.015625 65.03125 \nQ 15.375 64.15625 9.8125 62.3125 \nL 9.8125 71.09375 \nQ 15.4375 72.65625 20.34375 73.4375 \nQ 25.25 74.21875 29.59375 74.21875 \nQ 40.828125 74.21875 47.359375 69.109375 \nQ 53.90625 64.015625 53.90625 55.328125 \nQ 53.90625 49.265625 50.4375 45.09375 \nQ 46.96875 40.921875 40.578125 39.3125 \nz\n\" id=\"DejaVuSans-51\"/>\n       </defs>\n       <use xlink:href=\"#DejaVuSans-51\"/>\n       <use x=\"63.623047\" xlink:href=\"#DejaVuSans-48\"/>\n       <use x=\"127.246094\" xlink:href=\"#DejaVuSans-48\"/>\n       <use x=\"190.869141\" xlink:href=\"#DejaVuSans-48\"/>\n       <use x=\"254.492188\" xlink:href=\"#DejaVuSans-48\"/>\n       <use x=\"318.115234\" xlink:href=\"#DejaVuSans-48\"/>\n       <use x=\"381.738281\" xlink:href=\"#DejaVuSans-48\"/>\n       <use x=\"445.361328\" xlink:href=\"#DejaVuSans-48\"/>\n       <use x=\"508.984375\" xlink:href=\"#DejaVuSans-48\"/>\n      </g>\n     </g>\n    </g>\n    <g id=\"ytick_5\">\n     <g id=\"line2d_68\">\n      <g>\n       <use style=\"stroke:#000000;stroke-width:0.8;\" x=\"71.4625\" xlink:href=\"#m937f42b71b\" y=\"171.836229\"/>\n      </g>\n     </g>\n     <g id=\"text_69\">\n      <!-- 400000000 -->\n      <g transform=\"translate(7.2 175.635448)scale(0.1 -0.1)\">\n       <defs>\n        <path d=\"M 37.796875 64.3125 \nL 12.890625 25.390625 \nL 37.796875 25.390625 \nz\nM 35.203125 72.90625 \nL 47.609375 72.90625 \nL 47.609375 25.390625 \nL 58.015625 25.390625 \nL 58.015625 17.1875 \nL 47.609375 17.1875 \nL 47.609375 0 \nL 37.796875 0 \nL 37.796875 17.1875 \nL 4.890625 17.1875 \nL 4.890625 26.703125 \nz\n\" id=\"DejaVuSans-52\"/>\n       </defs>\n       <use xlink:href=\"#DejaVuSans-52\"/>\n       <use x=\"63.623047\" xlink:href=\"#DejaVuSans-48\"/>\n       <use x=\"127.246094\" xlink:href=\"#DejaVuSans-48\"/>\n       <use x=\"190.869141\" xlink:href=\"#DejaVuSans-48\"/>\n       <use x=\"254.492188\" xlink:href=\"#DejaVuSans-48\"/>\n       <use x=\"318.115234\" xlink:href=\"#DejaVuSans-48\"/>\n       <use x=\"381.738281\" xlink:href=\"#DejaVuSans-48\"/>\n       <use x=\"445.361328\" xlink:href=\"#DejaVuSans-48\"/>\n       <use x=\"508.984375\" xlink:href=\"#DejaVuSans-48\"/>\n      </g>\n     </g>\n    </g>\n    <g id=\"ytick_6\">\n     <g id=\"line2d_69\">\n      <g>\n       <use style=\"stroke:#000000;stroke-width:0.8;\" x=\"71.4625\" xlink:href=\"#m937f42b71b\" y=\"105.265286\"/>\n      </g>\n     </g>\n     <g id=\"text_70\">\n      <!-- 500000000 -->\n      <g transform=\"translate(7.2 109.064505)scale(0.1 -0.1)\">\n       <defs>\n        <path d=\"M 10.796875 72.90625 \nL 49.515625 72.90625 \nL 49.515625 64.59375 \nL 19.828125 64.59375 \nL 19.828125 46.734375 \nQ 21.96875 47.46875 24.109375 47.828125 \nQ 26.265625 48.1875 28.421875 48.1875 \nQ 40.625 48.1875 47.75 41.5 \nQ 54.890625 34.8125 54.890625 23.390625 \nQ 54.890625 11.625 47.5625 5.09375 \nQ 40.234375 -1.421875 26.90625 -1.421875 \nQ 22.3125 -1.421875 17.546875 -0.640625 \nQ 12.796875 0.140625 7.71875 1.703125 \nL 7.71875 11.625 \nQ 12.109375 9.234375 16.796875 8.0625 \nQ 21.484375 6.890625 26.703125 6.890625 \nQ 35.15625 6.890625 40.078125 11.328125 \nQ 45.015625 15.765625 45.015625 23.390625 \nQ 45.015625 31 40.078125 35.4375 \nQ 35.15625 39.890625 26.703125 39.890625 \nQ 22.75 39.890625 18.8125 39.015625 \nQ 14.890625 38.140625 10.796875 36.28125 \nz\n\" id=\"DejaVuSans-53\"/>\n       </defs>\n       <use xlink:href=\"#DejaVuSans-53\"/>\n       <use x=\"63.623047\" xlink:href=\"#DejaVuSans-48\"/>\n       <use x=\"127.246094\" xlink:href=\"#DejaVuSans-48\"/>\n       <use x=\"190.869141\" xlink:href=\"#DejaVuSans-48\"/>\n       <use x=\"254.492188\" xlink:href=\"#DejaVuSans-48\"/>\n       <use x=\"318.115234\" xlink:href=\"#DejaVuSans-48\"/>\n       <use x=\"381.738281\" xlink:href=\"#DejaVuSans-48\"/>\n       <use x=\"445.361328\" xlink:href=\"#DejaVuSans-48\"/>\n       <use x=\"508.984375\" xlink:href=\"#DejaVuSans-48\"/>\n      </g>\n     </g>\n    </g>\n   </g>\n   <g id=\"patch_570\">\n    <path d=\"M 71.4625 438.12 \nL 71.4625 57.6 \n\" style=\"fill:none;stroke:#000000;stroke-linecap:square;stroke-linejoin:miter;stroke-width:0.8;\"/>\n   </g>\n   <g id=\"patch_571\">\n    <path d=\"M 1020.0625 438.12 \nL 1020.0625 57.6 \n\" style=\"fill:none;stroke:#000000;stroke-linecap:square;stroke-linejoin:miter;stroke-width:0.8;\"/>\n   </g>\n   <g id=\"patch_572\">\n    <path d=\"M 71.4625 438.12 \nL 1020.0625 438.12 \n\" style=\"fill:none;stroke:#000000;stroke-linecap:square;stroke-linejoin:miter;stroke-width:0.8;\"/>\n   </g>\n   <g id=\"patch_573\">\n    <path d=\"M 71.4625 57.6 \nL 1020.0625 57.6 \n\" style=\"fill:none;stroke:#000000;stroke-linecap:square;stroke-linejoin:miter;stroke-width:0.8;\"/>\n   </g>\n   <g id=\"legend_1\">\n    <g id=\"patch_574\">\n     <path d=\"M 955.6125 197.703125 \nL 1013.0625 197.703125 \nQ 1015.0625 197.703125 1015.0625 195.703125 \nL 1015.0625 64.6 \nQ 1015.0625 62.6 1013.0625 62.6 \nL 955.6125 62.6 \nQ 953.6125 62.6 953.6125 64.6 \nL 953.6125 195.703125 \nQ 953.6125 197.703125 955.6125 197.703125 \nz\n\" style=\"fill:#ffffff;opacity:0.8;stroke:#cccccc;stroke-linejoin:miter;\"/>\n    </g>\n    <g id=\"patch_575\">\n     <path d=\"M 957.6125 74.198438 \nL 977.6125 74.198438 \nL 977.6125 67.198438 \nL 957.6125 67.198438 \nz\n\" style=\"fill:#0b0405;\"/>\n    </g>\n    <g id=\"text_71\">\n     <!-- 2010 -->\n     <g transform=\"translate(985.6125 74.198438)scale(0.1 -0.1)\">\n      <use xlink:href=\"#DejaVuSans-50\"/>\n      <use x=\"63.623047\" xlink:href=\"#DejaVuSans-48\"/>\n      <use x=\"127.246094\" xlink:href=\"#DejaVuSans-49\"/>\n      <use x=\"190.869141\" xlink:href=\"#DejaVuSans-48\"/>\n     </g>\n    </g>\n    <g id=\"patch_576\">\n     <path d=\"M 957.6125 88.876563 \nL 977.6125 88.876563 \nL 977.6125 81.876563 \nL 957.6125 81.876563 \nz\n\" style=\"fill:#2b1c35;\"/>\n    </g>\n    <g id=\"text_72\">\n     <!-- 2011 -->\n     <g transform=\"translate(985.6125 88.876563)scale(0.1 -0.1)\">\n      <use xlink:href=\"#DejaVuSans-50\"/>\n      <use x=\"63.623047\" xlink:href=\"#DejaVuSans-48\"/>\n      <use x=\"127.246094\" xlink:href=\"#DejaVuSans-49\"/>\n      <use x=\"190.869141\" xlink:href=\"#DejaVuSans-49\"/>\n     </g>\n    </g>\n    <g id=\"patch_577\">\n     <path d=\"M 957.6125 103.554688 \nL 977.6125 103.554688 \nL 977.6125 96.554688 \nL 957.6125 96.554688 \nz\n\" style=\"fill:#3e356b;\"/>\n    </g>\n    <g id=\"text_73\">\n     <!-- 2012 -->\n     <g transform=\"translate(985.6125 103.554688)scale(0.1 -0.1)\">\n      <use xlink:href=\"#DejaVuSans-50\"/>\n      <use x=\"63.623047\" xlink:href=\"#DejaVuSans-48\"/>\n      <use x=\"127.246094\" xlink:href=\"#DejaVuSans-49\"/>\n      <use x=\"190.869141\" xlink:href=\"#DejaVuSans-50\"/>\n     </g>\n    </g>\n    <g id=\"patch_578\">\n     <path d=\"M 957.6125 118.232813 \nL 977.6125 118.232813 \nL 977.6125 111.232813 \nL 957.6125 111.232813 \nz\n\" style=\"fill:#3b5698;\"/>\n    </g>\n    <g id=\"text_74\">\n     <!-- 2013 -->\n     <g transform=\"translate(985.6125 118.232813)scale(0.1 -0.1)\">\n      <use xlink:href=\"#DejaVuSans-50\"/>\n      <use x=\"63.623047\" xlink:href=\"#DejaVuSans-48\"/>\n      <use x=\"127.246094\" xlink:href=\"#DejaVuSans-49\"/>\n      <use x=\"190.869141\" xlink:href=\"#DejaVuSans-51\"/>\n     </g>\n    </g>\n    <g id=\"patch_579\">\n     <path d=\"M 957.6125 132.910938 \nL 977.6125 132.910938 \nL 977.6125 125.910938 \nL 957.6125 125.910938 \nz\n\" style=\"fill:#357ba3;\"/>\n    </g>\n    <g id=\"text_75\">\n     <!-- 2014 -->\n     <g transform=\"translate(985.6125 132.910938)scale(0.1 -0.1)\">\n      <use xlink:href=\"#DejaVuSans-50\"/>\n      <use x=\"63.623047\" xlink:href=\"#DejaVuSans-48\"/>\n      <use x=\"127.246094\" xlink:href=\"#DejaVuSans-49\"/>\n      <use x=\"190.869141\" xlink:href=\"#DejaVuSans-52\"/>\n     </g>\n    </g>\n    <g id=\"patch_580\">\n     <path d=\"M 957.6125 147.589063 \nL 977.6125 147.589063 \nL 977.6125 140.589063 \nL 957.6125 140.589063 \nz\n\" style=\"fill:#359fab;\"/>\n    </g>\n    <g id=\"text_76\">\n     <!-- 2015 -->\n     <g transform=\"translate(985.6125 147.589063)scale(0.1 -0.1)\">\n      <use xlink:href=\"#DejaVuSans-50\"/>\n      <use x=\"63.623047\" xlink:href=\"#DejaVuSans-48\"/>\n      <use x=\"127.246094\" xlink:href=\"#DejaVuSans-49\"/>\n      <use x=\"190.869141\" xlink:href=\"#DejaVuSans-53\"/>\n     </g>\n    </g>\n    <g id=\"patch_581\">\n     <path d=\"M 957.6125 162.267187 \nL 977.6125 162.267187 \nL 977.6125 155.267187 \nL 957.6125 155.267187 \nz\n\" style=\"fill:#4bc2ad;\"/>\n    </g>\n    <g id=\"text_77\">\n     <!-- 2016 -->\n     <g transform=\"translate(985.6125 162.267187)scale(0.1 -0.1)\">\n      <defs>\n       <path d=\"M 33.015625 40.375 \nQ 26.375 40.375 22.484375 35.828125 \nQ 18.609375 31.296875 18.609375 23.390625 \nQ 18.609375 15.53125 22.484375 10.953125 \nQ 26.375 6.390625 33.015625 6.390625 \nQ 39.65625 6.390625 43.53125 10.953125 \nQ 47.40625 15.53125 47.40625 23.390625 \nQ 47.40625 31.296875 43.53125 35.828125 \nQ 39.65625 40.375 33.015625 40.375 \nz\nM 52.59375 71.296875 \nL 52.59375 62.3125 \nQ 48.875 64.0625 45.09375 64.984375 \nQ 41.3125 65.921875 37.59375 65.921875 \nQ 27.828125 65.921875 22.671875 59.328125 \nQ 17.53125 52.734375 16.796875 39.40625 \nQ 19.671875 43.65625 24.015625 45.921875 \nQ 28.375 48.1875 33.59375 48.1875 \nQ 44.578125 48.1875 50.953125 41.515625 \nQ 57.328125 34.859375 57.328125 23.390625 \nQ 57.328125 12.15625 50.6875 5.359375 \nQ 44.046875 -1.421875 33.015625 -1.421875 \nQ 20.359375 -1.421875 13.671875 8.265625 \nQ 6.984375 17.96875 6.984375 36.375 \nQ 6.984375 53.65625 15.1875 63.9375 \nQ 23.390625 74.21875 37.203125 74.21875 \nQ 40.921875 74.21875 44.703125 73.484375 \nQ 48.484375 72.75 52.59375 71.296875 \nz\n\" id=\"DejaVuSans-54\"/>\n      </defs>\n      <use xlink:href=\"#DejaVuSans-50\"/>\n      <use x=\"63.623047\" xlink:href=\"#DejaVuSans-48\"/>\n      <use x=\"127.246094\" xlink:href=\"#DejaVuSans-49\"/>\n      <use x=\"190.869141\" xlink:href=\"#DejaVuSans-54\"/>\n     </g>\n    </g>\n    <g id=\"patch_582\">\n     <path d=\"M 957.6125 176.945312 \nL 977.6125 176.945312 \nL 977.6125 169.945312 \nL 957.6125 169.945312 \nz\n\" style=\"fill:#99ddb6;\"/>\n    </g>\n    <g id=\"text_78\">\n     <!-- 2017 -->\n     <g transform=\"translate(985.6125 176.945312)scale(0.1 -0.1)\">\n      <defs>\n       <path d=\"M 8.203125 72.90625 \nL 55.078125 72.90625 \nL 55.078125 68.703125 \nL 28.609375 0 \nL 18.3125 0 \nL 43.21875 64.59375 \nL 8.203125 64.59375 \nz\n\" id=\"DejaVuSans-55\"/>\n      </defs>\n      <use xlink:href=\"#DejaVuSans-50\"/>\n      <use x=\"63.623047\" xlink:href=\"#DejaVuSans-48\"/>\n      <use x=\"127.246094\" xlink:href=\"#DejaVuSans-49\"/>\n      <use x=\"190.869141\" xlink:href=\"#DejaVuSans-55\"/>\n     </g>\n    </g>\n    <g id=\"patch_583\">\n     <path d=\"M 957.6125 191.623438 \nL 977.6125 191.623438 \nL 977.6125 184.623438 \nL 957.6125 184.623438 \nz\n\" style=\"fill:#def5e5;\"/>\n    </g>\n    <g id=\"text_79\">\n     <!-- 2018 -->\n     <g transform=\"translate(985.6125 191.623438)scale(0.1 -0.1)\">\n      <defs>\n       <path d=\"M 31.78125 34.625 \nQ 24.75 34.625 20.71875 30.859375 \nQ 16.703125 27.09375 16.703125 20.515625 \nQ 16.703125 13.921875 20.71875 10.15625 \nQ 24.75 6.390625 31.78125 6.390625 \nQ 38.8125 6.390625 42.859375 10.171875 \nQ 46.921875 13.96875 46.921875 20.515625 \nQ 46.921875 27.09375 42.890625 30.859375 \nQ 38.875 34.625 31.78125 34.625 \nz\nM 21.921875 38.8125 \nQ 15.578125 40.375 12.03125 44.71875 \nQ 8.5 49.078125 8.5 55.328125 \nQ 8.5 64.0625 14.71875 69.140625 \nQ 20.953125 74.21875 31.78125 74.21875 \nQ 42.671875 74.21875 48.875 69.140625 \nQ 55.078125 64.0625 55.078125 55.328125 \nQ 55.078125 49.078125 51.53125 44.71875 \nQ 48 40.375 41.703125 38.8125 \nQ 48.828125 37.15625 52.796875 32.3125 \nQ 56.78125 27.484375 56.78125 20.515625 \nQ 56.78125 9.90625 50.3125 4.234375 \nQ 43.84375 -1.421875 31.78125 -1.421875 \nQ 19.734375 -1.421875 13.25 4.234375 \nQ 6.78125 9.90625 6.78125 20.515625 \nQ 6.78125 27.484375 10.78125 32.3125 \nQ 14.796875 37.15625 21.921875 38.8125 \nz\nM 18.3125 54.390625 \nQ 18.3125 48.734375 21.84375 45.5625 \nQ 25.390625 42.390625 31.78125 42.390625 \nQ 38.140625 42.390625 41.71875 45.5625 \nQ 45.3125 48.734375 45.3125 54.390625 \nQ 45.3125 60.0625 41.71875 63.234375 \nQ 38.140625 66.40625 31.78125 66.40625 \nQ 25.390625 66.40625 21.84375 63.234375 \nQ 18.3125 60.0625 18.3125 54.390625 \nz\n\" id=\"DejaVuSans-56\"/>\n      </defs>\n      <use xlink:href=\"#DejaVuSans-50\"/>\n      <use x=\"63.623047\" xlink:href=\"#DejaVuSans-48\"/>\n      <use x=\"127.246094\" xlink:href=\"#DejaVuSans-49\"/>\n      <use x=\"190.869141\" xlink:href=\"#DejaVuSans-56\"/>\n     </g>\n    </g>\n   </g>\n  </g>\n  <g id=\"text_80\">\n   <!-- Colorado Gross Domestic Product by County -->\n   <g transform=\"translate(380.741875 16.318125)scale(0.12 -0.12)\">\n    <defs>\n     <path d=\"M 67 4 \nQ 61.8125 1.3125 56.203125 -0.046875 \nQ 50.59375 -1.421875 44.484375 -1.421875 \nQ 26.265625 -1.421875 15.625 8.765625 \nQ 4.984375 18.953125 4.984375 36.375 \nQ 4.984375 53.859375 15.625 64.03125 \nQ 26.265625 74.21875 44.484375 74.21875 \nQ 50.59375 74.21875 56.203125 72.84375 \nQ 61.8125 71.484375 67 68.796875 \nL 67 53.71875 \nQ 61.765625 57.28125 56.6875 58.9375 \nQ 51.609375 60.59375 46 60.59375 \nQ 35.9375 60.59375 30.171875 54.140625 \nQ 24.421875 47.703125 24.421875 36.375 \nQ 24.421875 25.09375 30.171875 18.640625 \nQ 35.9375 12.203125 46 12.203125 \nQ 51.609375 12.203125 56.6875 13.859375 \nQ 61.765625 15.53125 67 19.09375 \nz\n\" id=\"DejaVuSans-Bold-67\"/>\n     <path d=\"M 34.421875 43.5 \nQ 28.609375 43.5 25.5625 39.328125 \nQ 22.515625 35.15625 22.515625 27.296875 \nQ 22.515625 19.4375 25.5625 15.25 \nQ 28.609375 11.078125 34.421875 11.078125 \nQ 40.140625 11.078125 43.15625 15.25 \nQ 46.1875 19.4375 46.1875 27.296875 \nQ 46.1875 35.15625 43.15625 39.328125 \nQ 40.140625 43.5 34.421875 43.5 \nz\nM 34.421875 56 \nQ 48.53125 56 56.46875 48.375 \nQ 64.40625 40.765625 64.40625 27.296875 \nQ 64.40625 13.8125 56.46875 6.1875 \nQ 48.53125 -1.421875 34.421875 -1.421875 \nQ 20.265625 -1.421875 12.28125 6.1875 \nQ 4.296875 13.8125 4.296875 27.296875 \nQ 4.296875 40.765625 12.28125 48.375 \nQ 20.265625 56 34.421875 56 \nz\n\" id=\"DejaVuSans-Bold-111\"/>\n     <path d=\"M 8.40625 75.984375 \nL 25.875 75.984375 \nL 25.875 0 \nL 8.40625 0 \nz\n\" id=\"DejaVuSans-Bold-108\"/>\n     <path d=\"M 49.03125 39.796875 \nQ 46.734375 40.875 44.453125 41.375 \nQ 42.1875 41.890625 39.890625 41.890625 \nQ 33.15625 41.890625 29.515625 37.5625 \nQ 25.875 33.25 25.875 25.203125 \nL 25.875 0 \nL 8.40625 0 \nL 8.40625 54.6875 \nL 25.875 54.6875 \nL 25.875 45.703125 \nQ 29.25 51.078125 33.609375 53.53125 \nQ 37.984375 56 44.09375 56 \nQ 44.96875 56 45.984375 55.921875 \nQ 47.015625 55.859375 48.96875 55.609375 \nz\n\" id=\"DejaVuSans-Bold-114\"/>\n     <path d=\"M 32.90625 24.609375 \nQ 27.4375 24.609375 24.671875 22.75 \nQ 21.921875 20.90625 21.921875 17.28125 \nQ 21.921875 13.96875 24.140625 12.078125 \nQ 26.375 10.203125 30.328125 10.203125 \nQ 35.25 10.203125 38.625 13.734375 \nQ 42 17.28125 42 22.609375 \nL 42 24.609375 \nz\nM 59.625 31.203125 \nL 59.625 0 \nL 42 0 \nL 42 8.109375 \nQ 38.484375 3.125 34.078125 0.84375 \nQ 29.6875 -1.421875 23.390625 -1.421875 \nQ 14.890625 -1.421875 9.59375 3.53125 \nQ 4.296875 8.5 4.296875 16.40625 \nQ 4.296875 26.03125 10.90625 30.515625 \nQ 17.53125 35.015625 31.6875 35.015625 \nL 42 35.015625 \nL 42 36.375 \nQ 42 40.53125 38.71875 42.453125 \nQ 35.453125 44.390625 28.515625 44.390625 \nQ 22.90625 44.390625 18.0625 43.265625 \nQ 13.234375 42.140625 9.078125 39.890625 \nL 9.078125 53.21875 \nQ 14.703125 54.59375 20.359375 55.296875 \nQ 26.03125 56 31.6875 56 \nQ 46.484375 56 53.046875 50.171875 \nQ 59.625 44.34375 59.625 31.203125 \nz\n\" id=\"DejaVuSans-Bold-97\"/>\n     <path d=\"M 45.609375 46.6875 \nL 45.609375 75.984375 \nL 63.1875 75.984375 \nL 63.1875 0 \nL 45.609375 0 \nL 45.609375 7.90625 \nQ 42 3.078125 37.640625 0.828125 \nQ 33.296875 -1.421875 27.59375 -1.421875 \nQ 17.484375 -1.421875 10.984375 6.609375 \nQ 4.5 14.65625 4.5 27.296875 \nQ 4.5 39.9375 10.984375 47.96875 \nQ 17.484375 56 27.59375 56 \nQ 33.25 56 37.625 53.734375 \nQ 42 51.46875 45.609375 46.6875 \nz\nM 34.078125 11.28125 \nQ 39.703125 11.28125 42.65625 15.375 \nQ 45.609375 19.484375 45.609375 27.296875 \nQ 45.609375 35.109375 42.65625 39.203125 \nQ 39.703125 43.3125 34.078125 43.3125 \nQ 28.515625 43.3125 25.5625 39.203125 \nQ 22.609375 35.109375 22.609375 27.296875 \nQ 22.609375 19.484375 25.5625 15.375 \nQ 28.515625 11.28125 34.078125 11.28125 \nz\n\" id=\"DejaVuSans-Bold-100\"/>\n     <path id=\"DejaVuSans-Bold-32\"/>\n     <path d=\"M 74.703125 5.421875 \nQ 67.671875 2 60.109375 0.28125 \nQ 52.546875 -1.421875 44.484375 -1.421875 \nQ 26.265625 -1.421875 15.625 8.765625 \nQ 4.984375 18.953125 4.984375 36.375 \nQ 4.984375 54 15.8125 64.109375 \nQ 26.65625 74.21875 45.515625 74.21875 \nQ 52.78125 74.21875 59.4375 72.84375 \nQ 66.109375 71.484375 72.015625 68.796875 \nL 72.015625 53.71875 \nQ 65.921875 57.171875 59.890625 58.875 \nQ 53.859375 60.59375 47.796875 60.59375 \nQ 36.578125 60.59375 30.5 54.3125 \nQ 24.421875 48.046875 24.421875 36.375 \nQ 24.421875 24.8125 30.28125 18.5 \nQ 36.140625 12.203125 46.921875 12.203125 \nQ 49.859375 12.203125 52.375 12.5625 \nQ 54.890625 12.9375 56.890625 13.71875 \nL 56.890625 27.875 \nL 45.40625 27.875 \nL 45.40625 40.484375 \nL 74.703125 40.484375 \nz\n\" id=\"DejaVuSans-Bold-71\"/>\n     <path d=\"M 51.125 52.984375 \nL 51.125 39.703125 \nQ 45.515625 42.046875 40.28125 43.21875 \nQ 35.0625 44.390625 30.421875 44.390625 \nQ 25.4375 44.390625 23.015625 43.140625 \nQ 20.609375 41.890625 20.609375 39.3125 \nQ 20.609375 37.203125 22.4375 36.078125 \nQ 24.265625 34.96875 29 34.421875 \nL 32.078125 33.984375 \nQ 45.515625 32.28125 50.140625 28.375 \nQ 54.78125 24.46875 54.78125 16.109375 \nQ 54.78125 7.375 48.328125 2.96875 \nQ 41.890625 -1.421875 29.109375 -1.421875 \nQ 23.6875 -1.421875 17.890625 -0.5625 \nQ 12.109375 0.296875 6 2 \nL 6 15.28125 \nQ 11.234375 12.75 16.71875 11.46875 \nQ 22.21875 10.203125 27.875 10.203125 \nQ 33.015625 10.203125 35.59375 11.609375 \nQ 38.1875 13.03125 38.1875 15.828125 \nQ 38.1875 18.171875 36.40625 19.3125 \nQ 34.625 20.453125 29.296875 21.09375 \nL 26.21875 21.484375 \nQ 14.546875 22.953125 9.859375 26.90625 \nQ 5.171875 30.859375 5.171875 38.921875 \nQ 5.171875 47.609375 11.125 51.796875 \nQ 17.09375 56 29.390625 56 \nQ 34.234375 56 39.546875 55.265625 \nQ 44.875 54.546875 51.125 52.984375 \nz\n\" id=\"DejaVuSans-Bold-115\"/>\n     <path d=\"M 27.984375 58.6875 \nL 27.984375 14.203125 \nL 34.71875 14.203125 \nQ 46.234375 14.203125 52.3125 19.921875 \nQ 58.40625 25.640625 58.40625 36.53125 \nQ 58.40625 47.359375 52.34375 53.015625 \nQ 46.296875 58.6875 34.71875 58.6875 \nz\nM 9.1875 72.90625 \nL 29 72.90625 \nQ 45.609375 72.90625 53.734375 70.53125 \nQ 61.859375 68.171875 67.671875 62.5 \nQ 72.796875 57.5625 75.28125 51.109375 \nQ 77.78125 44.671875 77.78125 36.53125 \nQ 77.78125 28.265625 75.28125 21.796875 \nQ 72.796875 15.328125 67.671875 10.40625 \nQ 61.8125 4.734375 53.609375 2.359375 \nQ 45.40625 0 29 0 \nL 9.1875 0 \nz\n\" id=\"DejaVuSans-Bold-68\"/>\n     <path d=\"M 59.078125 45.609375 \nQ 62.40625 50.6875 66.96875 53.34375 \nQ 71.53125 56 77 56 \nQ 86.421875 56 91.359375 50.1875 \nQ 96.296875 44.390625 96.296875 33.296875 \nL 96.296875 0 \nL 78.71875 0 \nL 78.71875 28.515625 \nQ 78.765625 29.15625 78.78125 29.828125 \nQ 78.8125 30.515625 78.8125 31.78125 \nQ 78.8125 37.59375 77.09375 40.203125 \nQ 75.390625 42.828125 71.578125 42.828125 \nQ 66.609375 42.828125 63.890625 38.71875 \nQ 61.1875 34.625 61.078125 26.859375 \nL 61.078125 0 \nL 43.5 0 \nL 43.5 28.515625 \nQ 43.5 37.59375 41.9375 40.203125 \nQ 40.375 42.828125 36.375 42.828125 \nQ 31.34375 42.828125 28.609375 38.703125 \nQ 25.875 34.578125 25.875 26.90625 \nL 25.875 0 \nL 8.296875 0 \nL 8.296875 54.6875 \nL 25.875 54.6875 \nL 25.875 46.6875 \nQ 29.109375 51.3125 33.28125 53.65625 \nQ 37.453125 56 42.484375 56 \nQ 48.140625 56 52.484375 53.265625 \nQ 56.84375 50.53125 59.078125 45.609375 \nz\n\" id=\"DejaVuSans-Bold-109\"/>\n     <path d=\"M 62.984375 27.484375 \nL 62.984375 22.515625 \nL 22.125 22.515625 \nQ 22.75 16.359375 26.5625 13.28125 \nQ 30.375 10.203125 37.203125 10.203125 \nQ 42.71875 10.203125 48.5 11.84375 \nQ 54.296875 13.484375 60.40625 16.796875 \nL 60.40625 3.328125 \nQ 54.203125 0.984375 48 -0.21875 \nQ 41.796875 -1.421875 35.59375 -1.421875 \nQ 20.75 -1.421875 12.515625 6.125 \nQ 4.296875 13.671875 4.296875 27.296875 \nQ 4.296875 40.671875 12.375 48.328125 \nQ 20.453125 56 34.625 56 \nQ 47.515625 56 55.25 48.234375 \nQ 62.984375 40.484375 62.984375 27.484375 \nz\nM 45.015625 33.296875 \nQ 45.015625 38.28125 42.109375 41.328125 \nQ 39.203125 44.390625 34.515625 44.390625 \nQ 29.4375 44.390625 26.265625 41.53125 \nQ 23.09375 38.671875 22.3125 33.296875 \nz\n\" id=\"DejaVuSans-Bold-101\"/>\n     <path d=\"M 27.484375 70.21875 \nL 27.484375 54.6875 \nL 45.515625 54.6875 \nL 45.515625 42.1875 \nL 27.484375 42.1875 \nL 27.484375 19 \nQ 27.484375 15.1875 29 13.84375 \nQ 30.515625 12.5 35.015625 12.5 \nL 44 12.5 \nL 44 0 \nL 29 0 \nQ 18.65625 0 14.328125 4.3125 \nQ 10.015625 8.640625 10.015625 19 \nL 10.015625 42.1875 \nL 1.3125 42.1875 \nL 1.3125 54.6875 \nL 10.015625 54.6875 \nL 10.015625 70.21875 \nz\n\" id=\"DejaVuSans-Bold-116\"/>\n     <path d=\"M 8.40625 54.6875 \nL 25.875 54.6875 \nL 25.875 0 \nL 8.40625 0 \nz\nM 8.40625 75.984375 \nL 25.875 75.984375 \nL 25.875 61.71875 \nL 8.40625 61.71875 \nz\n\" id=\"DejaVuSans-Bold-105\"/>\n     <path d=\"M 52.59375 52.984375 \nL 52.59375 38.71875 \nQ 49.03125 41.15625 45.4375 42.328125 \nQ 41.84375 43.5 37.984375 43.5 \nQ 30.671875 43.5 26.59375 39.234375 \nQ 22.515625 34.96875 22.515625 27.296875 \nQ 22.515625 19.625 26.59375 15.34375 \nQ 30.671875 11.078125 37.984375 11.078125 \nQ 42.09375 11.078125 45.78125 12.296875 \nQ 49.46875 13.53125 52.59375 15.921875 \nL 52.59375 1.609375 \nQ 48.484375 0.09375 44.265625 -0.65625 \nQ 40.046875 -1.421875 35.796875 -1.421875 \nQ 21 -1.421875 12.640625 6.171875 \nQ 4.296875 13.765625 4.296875 27.296875 \nQ 4.296875 40.828125 12.640625 48.40625 \nQ 21 56 35.796875 56 \nQ 40.09375 56 44.265625 55.25 \nQ 48.4375 54.5 52.59375 52.984375 \nz\n\" id=\"DejaVuSans-Bold-99\"/>\n     <path d=\"M 9.1875 72.90625 \nL 40.375 72.90625 \nQ 54.296875 72.90625 61.734375 66.71875 \nQ 69.1875 60.546875 69.1875 49.125 \nQ 69.1875 37.640625 61.734375 31.46875 \nQ 54.296875 25.296875 40.375 25.296875 \nL 27.984375 25.296875 \nL 27.984375 0 \nL 9.1875 0 \nz\nM 27.984375 59.28125 \nL 27.984375 38.921875 \nL 38.375 38.921875 \nQ 43.84375 38.921875 46.828125 41.578125 \nQ 49.8125 44.234375 49.8125 49.125 \nQ 49.8125 54 46.828125 56.640625 \nQ 43.84375 59.28125 38.375 59.28125 \nz\n\" id=\"DejaVuSans-Bold-80\"/>\n     <path d=\"M 7.8125 21.296875 \nL 7.8125 54.6875 \nL 25.390625 54.6875 \nL 25.390625 49.21875 \nQ 25.390625 44.78125 25.34375 38.0625 \nQ 25.296875 31.34375 25.296875 29.109375 \nQ 25.296875 22.515625 25.640625 19.609375 \nQ 25.984375 16.703125 26.8125 15.375 \nQ 27.875 13.671875 29.609375 12.734375 \nQ 31.34375 11.8125 33.59375 11.8125 \nQ 39.0625 11.8125 42.1875 16.015625 \nQ 45.3125 20.21875 45.3125 27.6875 \nL 45.3125 54.6875 \nL 62.796875 54.6875 \nL 62.796875 0 \nL 45.3125 0 \nL 45.3125 7.90625 \nQ 41.359375 3.125 36.9375 0.84375 \nQ 32.515625 -1.421875 27.203125 -1.421875 \nQ 17.71875 -1.421875 12.765625 4.390625 \nQ 7.8125 10.203125 7.8125 21.296875 \nz\n\" id=\"DejaVuSans-Bold-117\"/>\n     <path d=\"M 37.5 11.28125 \nQ 43.109375 11.28125 46.0625 15.375 \nQ 49.03125 19.484375 49.03125 27.296875 \nQ 49.03125 35.109375 46.0625 39.203125 \nQ 43.109375 43.3125 37.5 43.3125 \nQ 31.890625 43.3125 28.875 39.1875 \nQ 25.875 35.0625 25.875 27.296875 \nQ 25.875 19.53125 28.875 15.40625 \nQ 31.890625 11.28125 37.5 11.28125 \nz\nM 25.875 46.6875 \nQ 29.5 51.46875 33.890625 53.734375 \nQ 38.28125 56 44 56 \nQ 54.109375 56 60.59375 47.96875 \nQ 67.09375 39.9375 67.09375 27.296875 \nQ 67.09375 14.65625 60.59375 6.609375 \nQ 54.109375 -1.421875 44 -1.421875 \nQ 38.28125 -1.421875 33.890625 0.84375 \nQ 29.5 3.125 25.875 7.90625 \nL 25.875 0 \nL 8.40625 0 \nL 8.40625 75.984375 \nL 25.875 75.984375 \nz\n\" id=\"DejaVuSans-Bold-98\"/>\n     <path d=\"M 1.21875 54.6875 \nL 18.703125 54.6875 \nL 33.40625 17.578125 \nL 45.90625 54.6875 \nL 63.375 54.6875 \nL 40.375 -5.171875 \nQ 36.921875 -14.3125 32.296875 -17.9375 \nQ 27.6875 -21.578125 20.125 -21.578125 \nL 10.015625 -21.578125 \nL 10.015625 -10.109375 \nL 15.484375 -10.109375 \nQ 19.921875 -10.109375 21.9375 -8.6875 \nQ 23.96875 -7.28125 25.09375 -3.609375 \nL 25.59375 -2.09375 \nz\n\" id=\"DejaVuSans-Bold-121\"/>\n     <path d=\"M 63.375 33.296875 \nL 63.375 0 \nL 45.796875 0 \nL 45.796875 5.421875 \nL 45.796875 25.484375 \nQ 45.796875 32.5625 45.484375 35.25 \nQ 45.171875 37.9375 44.390625 39.203125 \nQ 43.359375 40.921875 41.59375 41.875 \nQ 39.84375 42.828125 37.59375 42.828125 \nQ 32.125 42.828125 29 38.59375 \nQ 25.875 34.375 25.875 26.90625 \nL 25.875 0 \nL 8.40625 0 \nL 8.40625 54.6875 \nL 25.875 54.6875 \nL 25.875 46.6875 \nQ 29.828125 51.46875 34.265625 53.734375 \nQ 38.71875 56 44.09375 56 \nQ 53.5625 56 58.46875 50.1875 \nQ 63.375 44.390625 63.375 33.296875 \nz\n\" id=\"DejaVuSans-Bold-110\"/>\n    </defs>\n    <use xlink:href=\"#DejaVuSans-Bold-67\"/>\n    <use x=\"73.388672\" xlink:href=\"#DejaVuSans-Bold-111\"/>\n    <use x=\"142.089844\" xlink:href=\"#DejaVuSans-Bold-108\"/>\n    <use x=\"176.367188\" xlink:href=\"#DejaVuSans-Bold-111\"/>\n    <use x=\"245.068359\" xlink:href=\"#DejaVuSans-Bold-114\"/>\n    <use x=\"294.384766\" xlink:href=\"#DejaVuSans-Bold-97\"/>\n    <use x=\"361.865234\" xlink:href=\"#DejaVuSans-Bold-100\"/>\n    <use x=\"433.447266\" xlink:href=\"#DejaVuSans-Bold-111\"/>\n    <use x=\"502.148438\" xlink:href=\"#DejaVuSans-Bold-32\"/>\n    <use x=\"536.962891\" xlink:href=\"#DejaVuSans-Bold-71\"/>\n    <use x=\"619.042969\" xlink:href=\"#DejaVuSans-Bold-114\"/>\n    <use x=\"668.359375\" xlink:href=\"#DejaVuSans-Bold-111\"/>\n    <use x=\"737.060547\" xlink:href=\"#DejaVuSans-Bold-115\"/>\n    <use x=\"796.582031\" xlink:href=\"#DejaVuSans-Bold-115\"/>\n    <use x=\"856.103516\" xlink:href=\"#DejaVuSans-Bold-32\"/>\n    <use x=\"890.917969\" xlink:href=\"#DejaVuSans-Bold-68\"/>\n    <use x=\"973.925781\" xlink:href=\"#DejaVuSans-Bold-111\"/>\n    <use x=\"1042.626953\" xlink:href=\"#DejaVuSans-Bold-109\"/>\n    <use x=\"1146.826172\" xlink:href=\"#DejaVuSans-Bold-101\"/>\n    <use x=\"1214.648438\" xlink:href=\"#DejaVuSans-Bold-115\"/>\n    <use x=\"1274.169922\" xlink:href=\"#DejaVuSans-Bold-116\"/>\n    <use x=\"1321.972656\" xlink:href=\"#DejaVuSans-Bold-105\"/>\n    <use x=\"1356.25\" xlink:href=\"#DejaVuSans-Bold-99\"/>\n    <use x=\"1415.527344\" xlink:href=\"#DejaVuSans-Bold-32\"/>\n    <use x=\"1450.341797\" xlink:href=\"#DejaVuSans-Bold-80\"/>\n    <use x=\"1523.632812\" xlink:href=\"#DejaVuSans-Bold-114\"/>\n    <use x=\"1572.949219\" xlink:href=\"#DejaVuSans-Bold-111\"/>\n    <use x=\"1641.650391\" xlink:href=\"#DejaVuSans-Bold-100\"/>\n    <use x=\"1713.232422\" xlink:href=\"#DejaVuSans-Bold-117\"/>\n    <use x=\"1784.423828\" xlink:href=\"#DejaVuSans-Bold-99\"/>\n    <use x=\"1843.701172\" xlink:href=\"#DejaVuSans-Bold-116\"/>\n    <use x=\"1891.503906\" xlink:href=\"#DejaVuSans-Bold-32\"/>\n    <use x=\"1926.318359\" xlink:href=\"#DejaVuSans-Bold-98\"/>\n    <use x=\"1997.900391\" xlink:href=\"#DejaVuSans-Bold-121\"/>\n    <use x=\"2063.085938\" xlink:href=\"#DejaVuSans-Bold-32\"/>\n    <use x=\"2097.900391\" xlink:href=\"#DejaVuSans-Bold-67\"/>\n    <use x=\"2171.289062\" xlink:href=\"#DejaVuSans-Bold-111\"/>\n    <use x=\"2239.990234\" xlink:href=\"#DejaVuSans-Bold-117\"/>\n    <use x=\"2311.181641\" xlink:href=\"#DejaVuSans-Bold-110\"/>\n    <use x=\"2382.373047\" xlink:href=\"#DejaVuSans-Bold-116\"/>\n    <use x=\"2430.175781\" xlink:href=\"#DejaVuSans-Bold-121\"/>\n   </g>\n  </g>\n </g>\n <defs>\n  <clipPath id=\"p78f6205787\">\n   <rect height=\"380.52\" width=\"948.6\" x=\"71.4625\" y=\"57.6\"/>\n  </clipPath>\n </defs>\n</svg>\n",
      "image/png": "[encoded data removed]"
     },
     "metadata": {
      "needs_background": "light"
     }
    }
   ],
   "source": [
    "#TOTAL COLORADO GDP BY COUNTY\n",
    "TotalGDP = pd.read_csv(\"../data/cleandata/COGDPbyCounties-Totals.csv\")\n",
    "TotalGDP.set_index(\"Location\", inplace=True)\n",
    "TotalGDP = TotalGDP.transpose()\n",
    "#TotalGDP.head(10)\n",
    "\n",
    "TotalGDP.T.plot.bar(stacked=True, figsize=(17,7), cmap=\"mako\")\n",
    "plt.suptitle('Colorado Gross Domestic Product by County', weight='bold')\n",
    "plt.ticklabel_format(style='plain', axis='y')"
   ]
  },
  {
   "cell_type": "code",
   "execution_count": 103,
   "metadata": {},
   "outputs": [
    {
     "output_type": "display_data",
     "data": {
      "text/plain": "<Figure size 720x360 with 1 Axes>",
      "image/svg+xml": "<?xml version=\"1.0\" encoding=\"utf-8\" standalone=\"no\"?>\n<!DOCTYPE svg PUBLIC \"-//W3C//DTD SVG 1.1//EN\"\n  \"http://www.w3.org/Graphics/SVG/1.1/DTD/svg11.dtd\">\n<!-- Created with matplotlib (https://matplotlib.org/) -->\n<svg height=\"352.55625pt\" version=\"1.1\" viewBox=\"0 0 650.340625 352.55625\" width=\"650.340625pt\" xmlns=\"http://www.w3.org/2000/svg\" xmlns:xlink=\"http://www.w3.org/1999/xlink\">\n <metadata>\n  <rdf:RDF xmlns:cc=\"http://creativecommons.org/ns#\" xmlns:dc=\"http://purl.org/dc/elements/1.1/\" xmlns:rdf=\"http://www.w3.org/1999/02/22-rdf-syntax-ns#\">\n   <cc:Work>\n    <dc:type rdf:resource=\"http://purl.org/dc/dcmitype/StillImage\"/>\n    <dc:date>2020-11-06T09:30:29.694802</dc:date>\n    <dc:format>image/svg+xml</dc:format>\n    <dc:creator>\n     <cc:Agent>\n      <dc:title>Matplotlib v3.3.1, https://matplotlib.org/</dc:title>\n     </cc:Agent>\n    </dc:creator>\n   </cc:Work>\n  </rdf:RDF>\n </metadata>\n <defs>\n  <style type=\"text/css\">*{stroke-linecap:butt;stroke-linejoin:round;}</style>\n </defs>\n <g id=\"figure_1\">\n  <g id=\"patch_1\">\n   <path d=\"M 0 352.55625 \nL 650.340625 352.55625 \nL 650.340625 0 \nL 0 0 \nz\n\" style=\"fill:none;\"/>\n  </g>\n  <g id=\"axes_1\">\n   <g id=\"patch_2\">\n    <path d=\"M 85.140625 315 \nL 643.140625 315 \nL 643.140625 43.2 \nL 85.140625 43.2 \nz\n\" style=\"fill:#ffffff;\"/>\n   </g>\n   <g id=\"matplotlib.axis_1\">\n    <g id=\"xtick_1\">\n     <g id=\"line2d_1\">\n      <path clip-path=\"url(#pcaebe6d74c)\" d=\"M 110.504261 315 \nL 110.504261 43.2 \n\" style=\"fill:none;stroke:#b0b0b0;stroke-linecap:square;stroke-width:0.8;\"/>\n     </g>\n     <g id=\"line2d_2\">\n      <defs>\n       <path d=\"M 0 0 \nL 0 3.5 \n\" id=\"mde73e69c66\" style=\"stroke:#000000;stroke-width:0.8;\"/>\n      </defs>\n      <g>\n       <use style=\"stroke:#000000;stroke-width:0.8;\" x=\"110.504261\" xlink:href=\"#mde73e69c66\" y=\"315\"/>\n      </g>\n     </g>\n     <g id=\"text_1\">\n      <!-- 2010 -->\n      <g transform=\"translate(97.779261 329.598437)scale(0.1 -0.1)\">\n       <defs>\n        <path d=\"M 19.1875 8.296875 \nL 53.609375 8.296875 \nL 53.609375 0 \nL 7.328125 0 \nL 7.328125 8.296875 \nQ 12.9375 14.109375 22.625 23.890625 \nQ 32.328125 33.6875 34.8125 36.53125 \nQ 39.546875 41.84375 41.421875 45.53125 \nQ 43.3125 49.21875 43.3125 52.78125 \nQ 43.3125 58.59375 39.234375 62.25 \nQ 35.15625 65.921875 28.609375 65.921875 \nQ 23.96875 65.921875 18.8125 64.3125 \nQ 13.671875 62.703125 7.8125 59.421875 \nL 7.8125 69.390625 \nQ 13.765625 71.78125 18.9375 73 \nQ 24.125 74.21875 28.421875 74.21875 \nQ 39.75 74.21875 46.484375 68.546875 \nQ 53.21875 62.890625 53.21875 53.421875 \nQ 53.21875 48.921875 51.53125 44.890625 \nQ 49.859375 40.875 45.40625 35.40625 \nQ 44.1875 33.984375 37.640625 27.21875 \nQ 31.109375 20.453125 19.1875 8.296875 \nz\n\" id=\"DejaVuSans-50\"/>\n        <path d=\"M 31.78125 66.40625 \nQ 24.171875 66.40625 20.328125 58.90625 \nQ 16.5 51.421875 16.5 36.375 \nQ 16.5 21.390625 20.328125 13.890625 \nQ 24.171875 6.390625 31.78125 6.390625 \nQ 39.453125 6.390625 43.28125 13.890625 \nQ 47.125 21.390625 47.125 36.375 \nQ 47.125 51.421875 43.28125 58.90625 \nQ 39.453125 66.40625 31.78125 66.40625 \nz\nM 31.78125 74.21875 \nQ 44.046875 74.21875 50.515625 64.515625 \nQ 56.984375 54.828125 56.984375 36.375 \nQ 56.984375 17.96875 50.515625 8.265625 \nQ 44.046875 -1.421875 31.78125 -1.421875 \nQ 19.53125 -1.421875 13.0625 8.265625 \nQ 6.59375 17.96875 6.59375 36.375 \nQ 6.59375 54.828125 13.0625 64.515625 \nQ 19.53125 74.21875 31.78125 74.21875 \nz\n\" id=\"DejaVuSans-48\"/>\n        <path d=\"M 12.40625 8.296875 \nL 28.515625 8.296875 \nL 28.515625 63.921875 \nL 10.984375 60.40625 \nL 10.984375 69.390625 \nL 28.421875 72.90625 \nL 38.28125 72.90625 \nL 38.28125 8.296875 \nL 54.390625 8.296875 \nL 54.390625 0 \nL 12.40625 0 \nz\n\" id=\"DejaVuSans-49\"/>\n       </defs>\n       <use xlink:href=\"#DejaVuSans-50\"/>\n       <use x=\"63.623047\" xlink:href=\"#DejaVuSans-48\"/>\n       <use x=\"127.246094\" xlink:href=\"#DejaVuSans-49\"/>\n       <use x=\"190.869141\" xlink:href=\"#DejaVuSans-48\"/>\n      </g>\n     </g>\n    </g>\n    <g id=\"xtick_2\">\n     <g id=\"line2d_3\">\n      <path clip-path=\"url(#pcaebe6d74c)\" d=\"M 173.913352 315 \nL 173.913352 43.2 \n\" style=\"fill:none;stroke:#b0b0b0;stroke-linecap:square;stroke-width:0.8;\"/>\n     </g>\n     <g id=\"line2d_4\">\n      <g>\n       <use style=\"stroke:#000000;stroke-width:0.8;\" x=\"173.913352\" xlink:href=\"#mde73e69c66\" y=\"315\"/>\n      </g>\n     </g>\n     <g id=\"text_2\">\n      <!-- 2011 -->\n      <g transform=\"translate(161.188352 329.598437)scale(0.1 -0.1)\">\n       <use xlink:href=\"#DejaVuSans-50\"/>\n       <use x=\"63.623047\" xlink:href=\"#DejaVuSans-48\"/>\n       <use x=\"127.246094\" xlink:href=\"#DejaVuSans-49\"/>\n       <use x=\"190.869141\" xlink:href=\"#DejaVuSans-49\"/>\n      </g>\n     </g>\n    </g>\n    <g id=\"xtick_3\">\n     <g id=\"line2d_5\">\n      <path clip-path=\"url(#pcaebe6d74c)\" d=\"M 237.322443 315 \nL 237.322443 43.2 \n\" style=\"fill:none;stroke:#b0b0b0;stroke-linecap:square;stroke-width:0.8;\"/>\n     </g>\n     <g id=\"line2d_6\">\n      <g>\n       <use style=\"stroke:#000000;stroke-width:0.8;\" x=\"237.322443\" xlink:href=\"#mde73e69c66\" y=\"315\"/>\n      </g>\n     </g>\n     <g id=\"text_3\">\n      <!-- 2012 -->\n      <g transform=\"translate(224.597443 329.598437)scale(0.1 -0.1)\">\n       <use xlink:href=\"#DejaVuSans-50\"/>\n       <use x=\"63.623047\" xlink:href=\"#DejaVuSans-48\"/>\n       <use x=\"127.246094\" xlink:href=\"#DejaVuSans-49\"/>\n       <use x=\"190.869141\" xlink:href=\"#DejaVuSans-50\"/>\n      </g>\n     </g>\n    </g>\n    <g id=\"xtick_4\">\n     <g id=\"line2d_7\">\n      <path clip-path=\"url(#pcaebe6d74c)\" d=\"M 300.731534 315 \nL 300.731534 43.2 \n\" style=\"fill:none;stroke:#b0b0b0;stroke-linecap:square;stroke-width:0.8;\"/>\n     </g>\n     <g id=\"line2d_8\">\n      <g>\n       <use style=\"stroke:#000000;stroke-width:0.8;\" x=\"300.731534\" xlink:href=\"#mde73e69c66\" y=\"315\"/>\n      </g>\n     </g>\n     <g id=\"text_4\">\n      <!-- 2013 -->\n      <g transform=\"translate(288.006534 329.598437)scale(0.1 -0.1)\">\n       <defs>\n        <path d=\"M 40.578125 39.3125 \nQ 47.65625 37.796875 51.625 33 \nQ 55.609375 28.21875 55.609375 21.1875 \nQ 55.609375 10.40625 48.1875 4.484375 \nQ 40.765625 -1.421875 27.09375 -1.421875 \nQ 22.515625 -1.421875 17.65625 -0.515625 \nQ 12.796875 0.390625 7.625 2.203125 \nL 7.625 11.71875 \nQ 11.71875 9.328125 16.59375 8.109375 \nQ 21.484375 6.890625 26.8125 6.890625 \nQ 36.078125 6.890625 40.9375 10.546875 \nQ 45.796875 14.203125 45.796875 21.1875 \nQ 45.796875 27.640625 41.28125 31.265625 \nQ 36.765625 34.90625 28.71875 34.90625 \nL 20.21875 34.90625 \nL 20.21875 43.015625 \nL 29.109375 43.015625 \nQ 36.375 43.015625 40.234375 45.921875 \nQ 44.09375 48.828125 44.09375 54.296875 \nQ 44.09375 59.90625 40.109375 62.90625 \nQ 36.140625 65.921875 28.71875 65.921875 \nQ 24.65625 65.921875 20.015625 65.03125 \nQ 15.375 64.15625 9.8125 62.3125 \nL 9.8125 71.09375 \nQ 15.4375 72.65625 20.34375 73.4375 \nQ 25.25 74.21875 29.59375 74.21875 \nQ 40.828125 74.21875 47.359375 69.109375 \nQ 53.90625 64.015625 53.90625 55.328125 \nQ 53.90625 49.265625 50.4375 45.09375 \nQ 46.96875 40.921875 40.578125 39.3125 \nz\n\" id=\"DejaVuSans-51\"/>\n       </defs>\n       <use xlink:href=\"#DejaVuSans-50\"/>\n       <use x=\"63.623047\" xlink:href=\"#DejaVuSans-48\"/>\n       <use x=\"127.246094\" xlink:href=\"#DejaVuSans-49\"/>\n       <use x=\"190.869141\" xlink:href=\"#DejaVuSans-51\"/>\n      </g>\n     </g>\n    </g>\n    <g id=\"xtick_5\">\n     <g id=\"line2d_9\">\n      <path clip-path=\"url(#pcaebe6d74c)\" d=\"M 364.140625 315 \nL 364.140625 43.2 \n\" style=\"fill:none;stroke:#b0b0b0;stroke-linecap:square;stroke-width:0.8;\"/>\n     </g>\n     <g id=\"line2d_10\">\n      <g>\n       <use style=\"stroke:#000000;stroke-width:0.8;\" x=\"364.140625\" xlink:href=\"#mde73e69c66\" y=\"315\"/>\n      </g>\n     </g>\n     <g id=\"text_5\">\n      <!-- 2014 -->\n      <g transform=\"translate(351.415625 329.598437)scale(0.1 -0.1)\">\n       <defs>\n        <path d=\"M 37.796875 64.3125 \nL 12.890625 25.390625 \nL 37.796875 25.390625 \nz\nM 35.203125 72.90625 \nL 47.609375 72.90625 \nL 47.609375 25.390625 \nL 58.015625 25.390625 \nL 58.015625 17.1875 \nL 47.609375 17.1875 \nL 47.609375 0 \nL 37.796875 0 \nL 37.796875 17.1875 \nL 4.890625 17.1875 \nL 4.890625 26.703125 \nz\n\" id=\"DejaVuSans-52\"/>\n       </defs>\n       <use xlink:href=\"#DejaVuSans-50\"/>\n       <use x=\"63.623047\" xlink:href=\"#DejaVuSans-48\"/>\n       <use x=\"127.246094\" xlink:href=\"#DejaVuSans-49\"/>\n       <use x=\"190.869141\" xlink:href=\"#DejaVuSans-52\"/>\n      </g>\n     </g>\n    </g>\n    <g id=\"xtick_6\">\n     <g id=\"line2d_11\">\n      <path clip-path=\"url(#pcaebe6d74c)\" d=\"M 427.549716 315 \nL 427.549716 43.2 \n\" style=\"fill:none;stroke:#b0b0b0;stroke-linecap:square;stroke-width:0.8;\"/>\n     </g>\n     <g id=\"line2d_12\">\n      <g>\n       <use style=\"stroke:#000000;stroke-width:0.8;\" x=\"427.549716\" xlink:href=\"#mde73e69c66\" y=\"315\"/>\n      </g>\n     </g>\n     <g id=\"text_6\">\n      <!-- 2015 -->\n      <g transform=\"translate(414.824716 329.598437)scale(0.1 -0.1)\">\n       <defs>\n        <path d=\"M 10.796875 72.90625 \nL 49.515625 72.90625 \nL 49.515625 64.59375 \nL 19.828125 64.59375 \nL 19.828125 46.734375 \nQ 21.96875 47.46875 24.109375 47.828125 \nQ 26.265625 48.1875 28.421875 48.1875 \nQ 40.625 48.1875 47.75 41.5 \nQ 54.890625 34.8125 54.890625 23.390625 \nQ 54.890625 11.625 47.5625 5.09375 \nQ 40.234375 -1.421875 26.90625 -1.421875 \nQ 22.3125 -1.421875 17.546875 -0.640625 \nQ 12.796875 0.140625 7.71875 1.703125 \nL 7.71875 11.625 \nQ 12.109375 9.234375 16.796875 8.0625 \nQ 21.484375 6.890625 26.703125 6.890625 \nQ 35.15625 6.890625 40.078125 11.328125 \nQ 45.015625 15.765625 45.015625 23.390625 \nQ 45.015625 31 40.078125 35.4375 \nQ 35.15625 39.890625 26.703125 39.890625 \nQ 22.75 39.890625 18.8125 39.015625 \nQ 14.890625 38.140625 10.796875 36.28125 \nz\n\" id=\"DejaVuSans-53\"/>\n       </defs>\n       <use xlink:href=\"#DejaVuSans-50\"/>\n       <use x=\"63.623047\" xlink:href=\"#DejaVuSans-48\"/>\n       <use x=\"127.246094\" xlink:href=\"#DejaVuSans-49\"/>\n       <use x=\"190.869141\" xlink:href=\"#DejaVuSans-53\"/>\n      </g>\n     </g>\n    </g>\n    <g id=\"xtick_7\">\n     <g id=\"line2d_13\">\n      <path clip-path=\"url(#pcaebe6d74c)\" d=\"M 490.958807 315 \nL 490.958807 43.2 \n\" style=\"fill:none;stroke:#b0b0b0;stroke-linecap:square;stroke-width:0.8;\"/>\n     </g>\n     <g id=\"line2d_14\">\n      <g>\n       <use style=\"stroke:#000000;stroke-width:0.8;\" x=\"490.958807\" xlink:href=\"#mde73e69c66\" y=\"315\"/>\n      </g>\n     </g>\n     <g id=\"text_7\">\n      <!-- 2016 -->\n      <g transform=\"translate(478.233807 329.598437)scale(0.1 -0.1)\">\n       <defs>\n        <path d=\"M 33.015625 40.375 \nQ 26.375 40.375 22.484375 35.828125 \nQ 18.609375 31.296875 18.609375 23.390625 \nQ 18.609375 15.53125 22.484375 10.953125 \nQ 26.375 6.390625 33.015625 6.390625 \nQ 39.65625 6.390625 43.53125 10.953125 \nQ 47.40625 15.53125 47.40625 23.390625 \nQ 47.40625 31.296875 43.53125 35.828125 \nQ 39.65625 40.375 33.015625 40.375 \nz\nM 52.59375 71.296875 \nL 52.59375 62.3125 \nQ 48.875 64.0625 45.09375 64.984375 \nQ 41.3125 65.921875 37.59375 65.921875 \nQ 27.828125 65.921875 22.671875 59.328125 \nQ 17.53125 52.734375 16.796875 39.40625 \nQ 19.671875 43.65625 24.015625 45.921875 \nQ 28.375 48.1875 33.59375 48.1875 \nQ 44.578125 48.1875 50.953125 41.515625 \nQ 57.328125 34.859375 57.328125 23.390625 \nQ 57.328125 12.15625 50.6875 5.359375 \nQ 44.046875 -1.421875 33.015625 -1.421875 \nQ 20.359375 -1.421875 13.671875 8.265625 \nQ 6.984375 17.96875 6.984375 36.375 \nQ 6.984375 53.65625 15.1875 63.9375 \nQ 23.390625 74.21875 37.203125 74.21875 \nQ 40.921875 74.21875 44.703125 73.484375 \nQ 48.484375 72.75 52.59375 71.296875 \nz\n\" id=\"DejaVuSans-54\"/>\n       </defs>\n       <use xlink:href=\"#DejaVuSans-50\"/>\n       <use x=\"63.623047\" xlink:href=\"#DejaVuSans-48\"/>\n       <use x=\"127.246094\" xlink:href=\"#DejaVuSans-49\"/>\n       <use x=\"190.869141\" xlink:href=\"#DejaVuSans-54\"/>\n      </g>\n     </g>\n    </g>\n    <g id=\"xtick_8\">\n     <g id=\"line2d_15\">\n      <path clip-path=\"url(#pcaebe6d74c)\" d=\"M 554.367898 315 \nL 554.367898 43.2 \n\" style=\"fill:none;stroke:#b0b0b0;stroke-linecap:square;stroke-width:0.8;\"/>\n     </g>\n     <g id=\"line2d_16\">\n      <g>\n       <use style=\"stroke:#000000;stroke-width:0.8;\" x=\"554.367898\" xlink:href=\"#mde73e69c66\" y=\"315\"/>\n      </g>\n     </g>\n     <g id=\"text_8\">\n      <!-- 2017 -->\n      <g transform=\"translate(541.642898 329.598437)scale(0.1 -0.1)\">\n       <defs>\n        <path d=\"M 8.203125 72.90625 \nL 55.078125 72.90625 \nL 55.078125 68.703125 \nL 28.609375 0 \nL 18.3125 0 \nL 43.21875 64.59375 \nL 8.203125 64.59375 \nz\n\" id=\"DejaVuSans-55\"/>\n       </defs>\n       <use xlink:href=\"#DejaVuSans-50\"/>\n       <use x=\"63.623047\" xlink:href=\"#DejaVuSans-48\"/>\n       <use x=\"127.246094\" xlink:href=\"#DejaVuSans-49\"/>\n       <use x=\"190.869141\" xlink:href=\"#DejaVuSans-55\"/>\n      </g>\n     </g>\n    </g>\n    <g id=\"xtick_9\">\n     <g id=\"line2d_17\">\n      <path clip-path=\"url(#pcaebe6d74c)\" d=\"M 617.776989 315 \nL 617.776989 43.2 \n\" style=\"fill:none;stroke:#b0b0b0;stroke-linecap:square;stroke-width:0.8;\"/>\n     </g>\n     <g id=\"line2d_18\">\n      <g>\n       <use style=\"stroke:#000000;stroke-width:0.8;\" x=\"617.776989\" xlink:href=\"#mde73e69c66\" y=\"315\"/>\n      </g>\n     </g>\n     <g id=\"text_9\">\n      <!-- 2018 -->\n      <g transform=\"translate(605.051989 329.598437)scale(0.1 -0.1)\">\n       <defs>\n        <path d=\"M 31.78125 34.625 \nQ 24.75 34.625 20.71875 30.859375 \nQ 16.703125 27.09375 16.703125 20.515625 \nQ 16.703125 13.921875 20.71875 10.15625 \nQ 24.75 6.390625 31.78125 6.390625 \nQ 38.8125 6.390625 42.859375 10.171875 \nQ 46.921875 13.96875 46.921875 20.515625 \nQ 46.921875 27.09375 42.890625 30.859375 \nQ 38.875 34.625 31.78125 34.625 \nz\nM 21.921875 38.8125 \nQ 15.578125 40.375 12.03125 44.71875 \nQ 8.5 49.078125 8.5 55.328125 \nQ 8.5 64.0625 14.71875 69.140625 \nQ 20.953125 74.21875 31.78125 74.21875 \nQ 42.671875 74.21875 48.875 69.140625 \nQ 55.078125 64.0625 55.078125 55.328125 \nQ 55.078125 49.078125 51.53125 44.71875 \nQ 48 40.375 41.703125 38.8125 \nQ 48.828125 37.15625 52.796875 32.3125 \nQ 56.78125 27.484375 56.78125 20.515625 \nQ 56.78125 9.90625 50.3125 4.234375 \nQ 43.84375 -1.421875 31.78125 -1.421875 \nQ 19.734375 -1.421875 13.25 4.234375 \nQ 6.78125 9.90625 6.78125 20.515625 \nQ 6.78125 27.484375 10.78125 32.3125 \nQ 14.796875 37.15625 21.921875 38.8125 \nz\nM 18.3125 54.390625 \nQ 18.3125 48.734375 21.84375 45.5625 \nQ 25.390625 42.390625 31.78125 42.390625 \nQ 38.140625 42.390625 41.71875 45.5625 \nQ 45.3125 48.734375 45.3125 54.390625 \nQ 45.3125 60.0625 41.71875 63.234375 \nQ 38.140625 66.40625 31.78125 66.40625 \nQ 25.390625 66.40625 21.84375 63.234375 \nQ 18.3125 60.0625 18.3125 54.390625 \nz\n\" id=\"DejaVuSans-56\"/>\n       </defs>\n       <use xlink:href=\"#DejaVuSans-50\"/>\n       <use x=\"63.623047\" xlink:href=\"#DejaVuSans-48\"/>\n       <use x=\"127.246094\" xlink:href=\"#DejaVuSans-49\"/>\n       <use x=\"190.869141\" xlink:href=\"#DejaVuSans-56\"/>\n      </g>\n     </g>\n    </g>\n    <g id=\"text_10\">\n     <!-- Year -->\n     <g transform=\"translate(353.553125 343.276562)scale(0.1 -0.1)\">\n      <defs>\n       <path d=\"M -0.203125 72.90625 \nL 10.40625 72.90625 \nL 30.609375 42.921875 \nL 50.6875 72.90625 \nL 61.28125 72.90625 \nL 35.5 34.71875 \nL 35.5 0 \nL 25.59375 0 \nL 25.59375 34.71875 \nz\n\" id=\"DejaVuSans-89\"/>\n       <path d=\"M 56.203125 29.59375 \nL 56.203125 25.203125 \nL 14.890625 25.203125 \nQ 15.484375 15.921875 20.484375 11.0625 \nQ 25.484375 6.203125 34.421875 6.203125 \nQ 39.59375 6.203125 44.453125 7.46875 \nQ 49.3125 8.734375 54.109375 11.28125 \nL 54.109375 2.78125 \nQ 49.265625 0.734375 44.1875 -0.34375 \nQ 39.109375 -1.421875 33.890625 -1.421875 \nQ 20.796875 -1.421875 13.15625 6.1875 \nQ 5.515625 13.8125 5.515625 26.8125 \nQ 5.515625 40.234375 12.765625 48.109375 \nQ 20.015625 56 32.328125 56 \nQ 43.359375 56 49.78125 48.890625 \nQ 56.203125 41.796875 56.203125 29.59375 \nz\nM 47.21875 32.234375 \nQ 47.125 39.59375 43.09375 43.984375 \nQ 39.0625 48.390625 32.421875 48.390625 \nQ 24.90625 48.390625 20.390625 44.140625 \nQ 15.875 39.890625 15.1875 32.171875 \nz\n\" id=\"DejaVuSans-101\"/>\n       <path d=\"M 34.28125 27.484375 \nQ 23.390625 27.484375 19.1875 25 \nQ 14.984375 22.515625 14.984375 16.5 \nQ 14.984375 11.71875 18.140625 8.90625 \nQ 21.296875 6.109375 26.703125 6.109375 \nQ 34.1875 6.109375 38.703125 11.40625 \nQ 43.21875 16.703125 43.21875 25.484375 \nL 43.21875 27.484375 \nz\nM 52.203125 31.203125 \nL 52.203125 0 \nL 43.21875 0 \nL 43.21875 8.296875 \nQ 40.140625 3.328125 35.546875 0.953125 \nQ 30.953125 -1.421875 24.3125 -1.421875 \nQ 15.921875 -1.421875 10.953125 3.296875 \nQ 6 8.015625 6 15.921875 \nQ 6 25.140625 12.171875 29.828125 \nQ 18.359375 34.515625 30.609375 34.515625 \nL 43.21875 34.515625 \nL 43.21875 35.40625 \nQ 43.21875 41.609375 39.140625 45 \nQ 35.0625 48.390625 27.6875 48.390625 \nQ 23 48.390625 18.546875 47.265625 \nQ 14.109375 46.140625 10.015625 43.890625 \nL 10.015625 52.203125 \nQ 14.9375 54.109375 19.578125 55.046875 \nQ 24.21875 56 28.609375 56 \nQ 40.484375 56 46.34375 49.84375 \nQ 52.203125 43.703125 52.203125 31.203125 \nz\n\" id=\"DejaVuSans-97\"/>\n       <path d=\"M 41.109375 46.296875 \nQ 39.59375 47.171875 37.8125 47.578125 \nQ 36.03125 48 33.890625 48 \nQ 26.265625 48 22.1875 43.046875 \nQ 18.109375 38.09375 18.109375 28.8125 \nL 18.109375 0 \nL 9.078125 0 \nL 9.078125 54.6875 \nL 18.109375 54.6875 \nL 18.109375 46.1875 \nQ 20.953125 51.171875 25.484375 53.578125 \nQ 30.03125 56 36.53125 56 \nQ 37.453125 56 38.578125 55.875 \nQ 39.703125 55.765625 41.0625 55.515625 \nz\n\" id=\"DejaVuSans-114\"/>\n      </defs>\n      <use xlink:href=\"#DejaVuSans-89\"/>\n      <use x=\"47.833984\" xlink:href=\"#DejaVuSans-101\"/>\n      <use x=\"109.357422\" xlink:href=\"#DejaVuSans-97\"/>\n      <use x=\"170.636719\" xlink:href=\"#DejaVuSans-114\"/>\n     </g>\n    </g>\n   </g>\n   <g id=\"matplotlib.axis_2\">\n    <g id=\"ytick_1\">\n     <g id=\"line2d_19\">\n      <path clip-path=\"url(#pcaebe6d74c)\" d=\"M 85.140625 302.870252 \nL 643.140625 302.870252 \n\" style=\"fill:none;stroke:#b0b0b0;stroke-linecap:square;stroke-width:0.8;\"/>\n     </g>\n     <g id=\"line2d_20\">\n      <defs>\n       <path d=\"M 0 0 \nL -3.5 0 \n\" id=\"m3e7ea00e24\" style=\"stroke:#000000;stroke-width:0.8;\"/>\n      </defs>\n      <g>\n       <use style=\"stroke:#000000;stroke-width:0.8;\" x=\"85.140625\" xlink:href=\"#m3e7ea00e24\" y=\"302.870252\"/>\n      </g>\n     </g>\n     <g id=\"text_11\">\n      <!-- 460000000 -->\n      <g transform=\"translate(20.878125 306.669471)scale(0.1 -0.1)\">\n       <use xlink:href=\"#DejaVuSans-52\"/>\n       <use x=\"63.623047\" xlink:href=\"#DejaVuSans-54\"/>\n       <use x=\"127.246094\" xlink:href=\"#DejaVuSans-48\"/>\n       <use x=\"190.869141\" xlink:href=\"#DejaVuSans-48\"/>\n       <use x=\"254.492188\" xlink:href=\"#DejaVuSans-48\"/>\n       <use x=\"318.115234\" xlink:href=\"#DejaVuSans-48\"/>\n       <use x=\"381.738281\" xlink:href=\"#DejaVuSans-48\"/>\n       <use x=\"445.361328\" xlink:href=\"#DejaVuSans-48\"/>\n       <use x=\"508.984375\" xlink:href=\"#DejaVuSans-48\"/>\n      </g>\n     </g>\n    </g>\n    <g id=\"ytick_2\">\n     <g id=\"line2d_21\">\n      <path clip-path=\"url(#pcaebe6d74c)\" d=\"M 85.140625 266.81842 \nL 643.140625 266.81842 \n\" style=\"fill:none;stroke:#b0b0b0;stroke-linecap:square;stroke-width:0.8;\"/>\n     </g>\n     <g id=\"line2d_22\">\n      <g>\n       <use style=\"stroke:#000000;stroke-width:0.8;\" x=\"85.140625\" xlink:href=\"#m3e7ea00e24\" y=\"266.81842\"/>\n      </g>\n     </g>\n     <g id=\"text_12\">\n      <!-- 480000000 -->\n      <g transform=\"translate(20.878125 270.617639)scale(0.1 -0.1)\">\n       <use xlink:href=\"#DejaVuSans-52\"/>\n       <use x=\"63.623047\" xlink:href=\"#DejaVuSans-56\"/>\n       <use x=\"127.246094\" xlink:href=\"#DejaVuSans-48\"/>\n       <use x=\"190.869141\" xlink:href=\"#DejaVuSans-48\"/>\n       <use x=\"254.492188\" xlink:href=\"#DejaVuSans-48\"/>\n       <use x=\"318.115234\" xlink:href=\"#DejaVuSans-48\"/>\n       <use x=\"381.738281\" xlink:href=\"#DejaVuSans-48\"/>\n       <use x=\"445.361328\" xlink:href=\"#DejaVuSans-48\"/>\n       <use x=\"508.984375\" xlink:href=\"#DejaVuSans-48\"/>\n      </g>\n     </g>\n    </g>\n    <g id=\"ytick_3\">\n     <g id=\"line2d_23\">\n      <path clip-path=\"url(#pcaebe6d74c)\" d=\"M 85.140625 230.766589 \nL 643.140625 230.766589 \n\" style=\"fill:none;stroke:#b0b0b0;stroke-linecap:square;stroke-width:0.8;\"/>\n     </g>\n     <g id=\"line2d_24\">\n      <g>\n       <use style=\"stroke:#000000;stroke-width:0.8;\" x=\"85.140625\" xlink:href=\"#m3e7ea00e24\" y=\"230.766589\"/>\n      </g>\n     </g>\n     <g id=\"text_13\">\n      <!-- 500000000 -->\n      <g transform=\"translate(20.878125 234.565807)scale(0.1 -0.1)\">\n       <use xlink:href=\"#DejaVuSans-53\"/>\n       <use x=\"63.623047\" xlink:href=\"#DejaVuSans-48\"/>\n       <use x=\"127.246094\" xlink:href=\"#DejaVuSans-48\"/>\n       <use x=\"190.869141\" xlink:href=\"#DejaVuSans-48\"/>\n       <use x=\"254.492188\" xlink:href=\"#DejaVuSans-48\"/>\n       <use x=\"318.115234\" xlink:href=\"#DejaVuSans-48\"/>\n       <use x=\"381.738281\" xlink:href=\"#DejaVuSans-48\"/>\n       <use x=\"445.361328\" xlink:href=\"#DejaVuSans-48\"/>\n       <use x=\"508.984375\" xlink:href=\"#DejaVuSans-48\"/>\n      </g>\n     </g>\n    </g>\n    <g id=\"ytick_4\">\n     <g id=\"line2d_25\">\n      <path clip-path=\"url(#pcaebe6d74c)\" d=\"M 85.140625 194.714757 \nL 643.140625 194.714757 \n\" style=\"fill:none;stroke:#b0b0b0;stroke-linecap:square;stroke-width:0.8;\"/>\n     </g>\n     <g id=\"line2d_26\">\n      <g>\n       <use style=\"stroke:#000000;stroke-width:0.8;\" x=\"85.140625\" xlink:href=\"#m3e7ea00e24\" y=\"194.714757\"/>\n      </g>\n     </g>\n     <g id=\"text_14\">\n      <!-- 520000000 -->\n      <g transform=\"translate(20.878125 198.513976)scale(0.1 -0.1)\">\n       <use xlink:href=\"#DejaVuSans-53\"/>\n       <use x=\"63.623047\" xlink:href=\"#DejaVuSans-50\"/>\n       <use x=\"127.246094\" xlink:href=\"#DejaVuSans-48\"/>\n       <use x=\"190.869141\" xlink:href=\"#DejaVuSans-48\"/>\n       <use x=\"254.492188\" xlink:href=\"#DejaVuSans-48\"/>\n       <use x=\"318.115234\" xlink:href=\"#DejaVuSans-48\"/>\n       <use x=\"381.738281\" xlink:href=\"#DejaVuSans-48\"/>\n       <use x=\"445.361328\" xlink:href=\"#DejaVuSans-48\"/>\n       <use x=\"508.984375\" xlink:href=\"#DejaVuSans-48\"/>\n      </g>\n     </g>\n    </g>\n    <g id=\"ytick_5\">\n     <g id=\"line2d_27\">\n      <path clip-path=\"url(#pcaebe6d74c)\" d=\"M 85.140625 158.662925 \nL 643.140625 158.662925 \n\" style=\"fill:none;stroke:#b0b0b0;stroke-linecap:square;stroke-width:0.8;\"/>\n     </g>\n     <g id=\"line2d_28\">\n      <g>\n       <use style=\"stroke:#000000;stroke-width:0.8;\" x=\"85.140625\" xlink:href=\"#m3e7ea00e24\" y=\"158.662925\"/>\n      </g>\n     </g>\n     <g id=\"text_15\">\n      <!-- 540000000 -->\n      <g transform=\"translate(20.878125 162.462144)scale(0.1 -0.1)\">\n       <use xlink:href=\"#DejaVuSans-53\"/>\n       <use x=\"63.623047\" xlink:href=\"#DejaVuSans-52\"/>\n       <use x=\"127.246094\" xlink:href=\"#DejaVuSans-48\"/>\n       <use x=\"190.869141\" xlink:href=\"#DejaVuSans-48\"/>\n       <use x=\"254.492188\" xlink:href=\"#DejaVuSans-48\"/>\n       <use x=\"318.115234\" xlink:href=\"#DejaVuSans-48\"/>\n       <use x=\"381.738281\" xlink:href=\"#DejaVuSans-48\"/>\n       <use x=\"445.361328\" xlink:href=\"#DejaVuSans-48\"/>\n       <use x=\"508.984375\" xlink:href=\"#DejaVuSans-48\"/>\n      </g>\n     </g>\n    </g>\n    <g id=\"ytick_6\">\n     <g id=\"line2d_29\">\n      <path clip-path=\"url(#pcaebe6d74c)\" d=\"M 85.140625 122.611093 \nL 643.140625 122.611093 \n\" style=\"fill:none;stroke:#b0b0b0;stroke-linecap:square;stroke-width:0.8;\"/>\n     </g>\n     <g id=\"line2d_30\">\n      <g>\n       <use style=\"stroke:#000000;stroke-width:0.8;\" x=\"85.140625\" xlink:href=\"#m3e7ea00e24\" y=\"122.611093\"/>\n      </g>\n     </g>\n     <g id=\"text_16\">\n      <!-- 560000000 -->\n      <g transform=\"translate(20.878125 126.410312)scale(0.1 -0.1)\">\n       <use xlink:href=\"#DejaVuSans-53\"/>\n       <use x=\"63.623047\" xlink:href=\"#DejaVuSans-54\"/>\n       <use x=\"127.246094\" xlink:href=\"#DejaVuSans-48\"/>\n       <use x=\"190.869141\" xlink:href=\"#DejaVuSans-48\"/>\n       <use x=\"254.492188\" xlink:href=\"#DejaVuSans-48\"/>\n       <use x=\"318.115234\" xlink:href=\"#DejaVuSans-48\"/>\n       <use x=\"381.738281\" xlink:href=\"#DejaVuSans-48\"/>\n       <use x=\"445.361328\" xlink:href=\"#DejaVuSans-48\"/>\n       <use x=\"508.984375\" xlink:href=\"#DejaVuSans-48\"/>\n      </g>\n     </g>\n    </g>\n    <g id=\"ytick_7\">\n     <g id=\"line2d_31\">\n      <path clip-path=\"url(#pcaebe6d74c)\" d=\"M 85.140625 86.559261 \nL 643.140625 86.559261 \n\" style=\"fill:none;stroke:#b0b0b0;stroke-linecap:square;stroke-width:0.8;\"/>\n     </g>\n     <g id=\"line2d_32\">\n      <g>\n       <use style=\"stroke:#000000;stroke-width:0.8;\" x=\"85.140625\" xlink:href=\"#m3e7ea00e24\" y=\"86.559261\"/>\n      </g>\n     </g>\n     <g id=\"text_17\">\n      <!-- 580000000 -->\n      <g transform=\"translate(20.878125 90.35848)scale(0.1 -0.1)\">\n       <use xlink:href=\"#DejaVuSans-53\"/>\n       <use x=\"63.623047\" xlink:href=\"#DejaVuSans-56\"/>\n       <use x=\"127.246094\" xlink:href=\"#DejaVuSans-48\"/>\n       <use x=\"190.869141\" xlink:href=\"#DejaVuSans-48\"/>\n       <use x=\"254.492188\" xlink:href=\"#DejaVuSans-48\"/>\n       <use x=\"318.115234\" xlink:href=\"#DejaVuSans-48\"/>\n       <use x=\"381.738281\" xlink:href=\"#DejaVuSans-48\"/>\n       <use x=\"445.361328\" xlink:href=\"#DejaVuSans-48\"/>\n       <use x=\"508.984375\" xlink:href=\"#DejaVuSans-48\"/>\n      </g>\n     </g>\n    </g>\n    <g id=\"ytick_8\">\n     <g id=\"line2d_33\">\n      <path clip-path=\"url(#pcaebe6d74c)\" d=\"M 85.140625 50.50743 \nL 643.140625 50.50743 \n\" style=\"fill:none;stroke:#b0b0b0;stroke-linecap:square;stroke-width:0.8;\"/>\n     </g>\n     <g id=\"line2d_34\">\n      <g>\n       <use style=\"stroke:#000000;stroke-width:0.8;\" x=\"85.140625\" xlink:href=\"#m3e7ea00e24\" y=\"50.50743\"/>\n      </g>\n     </g>\n     <g id=\"text_18\">\n      <!-- 600000000 -->\n      <g transform=\"translate(20.878125 54.306648)scale(0.1 -0.1)\">\n       <use xlink:href=\"#DejaVuSans-54\"/>\n       <use x=\"63.623047\" xlink:href=\"#DejaVuSans-48\"/>\n       <use x=\"127.246094\" xlink:href=\"#DejaVuSans-48\"/>\n       <use x=\"190.869141\" xlink:href=\"#DejaVuSans-48\"/>\n       <use x=\"254.492188\" xlink:href=\"#DejaVuSans-48\"/>\n       <use x=\"318.115234\" xlink:href=\"#DejaVuSans-48\"/>\n       <use x=\"381.738281\" xlink:href=\"#DejaVuSans-48\"/>\n       <use x=\"445.361328\" xlink:href=\"#DejaVuSans-48\"/>\n       <use x=\"508.984375\" xlink:href=\"#DejaVuSans-48\"/>\n      </g>\n     </g>\n    </g>\n    <g id=\"text_19\">\n     <!-- Dollar Amount -->\n     <g transform=\"translate(14.798438 215.14375)rotate(-90)scale(0.1 -0.1)\">\n      <defs>\n       <path d=\"M 19.671875 64.796875 \nL 19.671875 8.109375 \nL 31.59375 8.109375 \nQ 46.6875 8.109375 53.6875 14.9375 \nQ 60.6875 21.78125 60.6875 36.53125 \nQ 60.6875 51.171875 53.6875 57.984375 \nQ 46.6875 64.796875 31.59375 64.796875 \nz\nM 9.8125 72.90625 \nL 30.078125 72.90625 \nQ 51.265625 72.90625 61.171875 64.09375 \nQ 71.09375 55.28125 71.09375 36.53125 \nQ 71.09375 17.671875 61.125 8.828125 \nQ 51.171875 0 30.078125 0 \nL 9.8125 0 \nz\n\" id=\"DejaVuSans-68\"/>\n       <path d=\"M 30.609375 48.390625 \nQ 23.390625 48.390625 19.1875 42.75 \nQ 14.984375 37.109375 14.984375 27.296875 \nQ 14.984375 17.484375 19.15625 11.84375 \nQ 23.34375 6.203125 30.609375 6.203125 \nQ 37.796875 6.203125 41.984375 11.859375 \nQ 46.1875 17.53125 46.1875 27.296875 \nQ 46.1875 37.015625 41.984375 42.703125 \nQ 37.796875 48.390625 30.609375 48.390625 \nz\nM 30.609375 56 \nQ 42.328125 56 49.015625 48.375 \nQ 55.71875 40.765625 55.71875 27.296875 \nQ 55.71875 13.875 49.015625 6.21875 \nQ 42.328125 -1.421875 30.609375 -1.421875 \nQ 18.84375 -1.421875 12.171875 6.21875 \nQ 5.515625 13.875 5.515625 27.296875 \nQ 5.515625 40.765625 12.171875 48.375 \nQ 18.84375 56 30.609375 56 \nz\n\" id=\"DejaVuSans-111\"/>\n       <path d=\"M 9.421875 75.984375 \nL 18.40625 75.984375 \nL 18.40625 0 \nL 9.421875 0 \nz\n\" id=\"DejaVuSans-108\"/>\n       <path id=\"DejaVuSans-32\"/>\n       <path d=\"M 34.1875 63.1875 \nL 20.796875 26.90625 \nL 47.609375 26.90625 \nz\nM 28.609375 72.90625 \nL 39.796875 72.90625 \nL 67.578125 0 \nL 57.328125 0 \nL 50.6875 18.703125 \nL 17.828125 18.703125 \nL 11.1875 0 \nL 0.78125 0 \nz\n\" id=\"DejaVuSans-65\"/>\n       <path d=\"M 52 44.1875 \nQ 55.375 50.25 60.0625 53.125 \nQ 64.75 56 71.09375 56 \nQ 79.640625 56 84.28125 50.015625 \nQ 88.921875 44.046875 88.921875 33.015625 \nL 88.921875 0 \nL 79.890625 0 \nL 79.890625 32.71875 \nQ 79.890625 40.578125 77.09375 44.375 \nQ 74.3125 48.1875 68.609375 48.1875 \nQ 61.625 48.1875 57.5625 43.546875 \nQ 53.515625 38.921875 53.515625 30.90625 \nL 53.515625 0 \nL 44.484375 0 \nL 44.484375 32.71875 \nQ 44.484375 40.625 41.703125 44.40625 \nQ 38.921875 48.1875 33.109375 48.1875 \nQ 26.21875 48.1875 22.15625 43.53125 \nQ 18.109375 38.875 18.109375 30.90625 \nL 18.109375 0 \nL 9.078125 0 \nL 9.078125 54.6875 \nL 18.109375 54.6875 \nL 18.109375 46.1875 \nQ 21.1875 51.21875 25.484375 53.609375 \nQ 29.78125 56 35.6875 56 \nQ 41.65625 56 45.828125 52.96875 \nQ 50 49.953125 52 44.1875 \nz\n\" id=\"DejaVuSans-109\"/>\n       <path d=\"M 8.5 21.578125 \nL 8.5 54.6875 \nL 17.484375 54.6875 \nL 17.484375 21.921875 \nQ 17.484375 14.15625 20.5 10.265625 \nQ 23.53125 6.390625 29.59375 6.390625 \nQ 36.859375 6.390625 41.078125 11.03125 \nQ 45.3125 15.671875 45.3125 23.6875 \nL 45.3125 54.6875 \nL 54.296875 54.6875 \nL 54.296875 0 \nL 45.3125 0 \nL 45.3125 8.40625 \nQ 42.046875 3.421875 37.71875 1 \nQ 33.40625 -1.421875 27.6875 -1.421875 \nQ 18.265625 -1.421875 13.375 4.4375 \nQ 8.5 10.296875 8.5 21.578125 \nz\nM 31.109375 56 \nz\n\" id=\"DejaVuSans-117\"/>\n       <path d=\"M 54.890625 33.015625 \nL 54.890625 0 \nL 45.90625 0 \nL 45.90625 32.71875 \nQ 45.90625 40.484375 42.875 44.328125 \nQ 39.84375 48.1875 33.796875 48.1875 \nQ 26.515625 48.1875 22.3125 43.546875 \nQ 18.109375 38.921875 18.109375 30.90625 \nL 18.109375 0 \nL 9.078125 0 \nL 9.078125 54.6875 \nL 18.109375 54.6875 \nL 18.109375 46.1875 \nQ 21.34375 51.125 25.703125 53.5625 \nQ 30.078125 56 35.796875 56 \nQ 45.21875 56 50.046875 50.171875 \nQ 54.890625 44.34375 54.890625 33.015625 \nz\n\" id=\"DejaVuSans-110\"/>\n       <path d=\"M 18.3125 70.21875 \nL 18.3125 54.6875 \nL 36.8125 54.6875 \nL 36.8125 47.703125 \nL 18.3125 47.703125 \nL 18.3125 18.015625 \nQ 18.3125 11.328125 20.140625 9.421875 \nQ 21.96875 7.515625 27.59375 7.515625 \nL 36.8125 7.515625 \nL 36.8125 0 \nL 27.59375 0 \nQ 17.1875 0 13.234375 3.875 \nQ 9.28125 7.765625 9.28125 18.015625 \nL 9.28125 47.703125 \nL 2.6875 47.703125 \nL 2.6875 54.6875 \nL 9.28125 54.6875 \nL 9.28125 70.21875 \nz\n\" id=\"DejaVuSans-116\"/>\n      </defs>\n      <use xlink:href=\"#DejaVuSans-68\"/>\n      <use x=\"77.001953\" xlink:href=\"#DejaVuSans-111\"/>\n      <use x=\"138.183594\" xlink:href=\"#DejaVuSans-108\"/>\n      <use x=\"165.966797\" xlink:href=\"#DejaVuSans-108\"/>\n      <use x=\"193.75\" xlink:href=\"#DejaVuSans-97\"/>\n      <use x=\"255.029297\" xlink:href=\"#DejaVuSans-114\"/>\n      <use x=\"296.142578\" xlink:href=\"#DejaVuSans-32\"/>\n      <use x=\"327.929688\" xlink:href=\"#DejaVuSans-65\"/>\n      <use x=\"396.337891\" xlink:href=\"#DejaVuSans-109\"/>\n      <use x=\"493.75\" xlink:href=\"#DejaVuSans-111\"/>\n      <use x=\"554.931641\" xlink:href=\"#DejaVuSans-117\"/>\n      <use x=\"618.310547\" xlink:href=\"#DejaVuSans-110\"/>\n      <use x=\"681.689453\" xlink:href=\"#DejaVuSans-116\"/>\n     </g>\n    </g>\n   </g>\n   <g id=\"line2d_35\">\n    <path clip-path=\"url(#pcaebe6d74c)\" d=\"M 110.504261 302.645455 \nL 173.913352 288.36708 \nL 237.322443 270.127438 \nL 300.731534 243.30614 \nL 364.140625 200.111743 \nL 427.549716 154.778344 \nL 490.958807 134.872222 \nL 554.367898 92.653887 \nL 617.776989 55.554545 \n\" style=\"fill:none;stroke:#1f77b4;stroke-linecap:square;stroke-width:1.5;\"/>\n   </g>\n   <g id=\"patch_3\">\n    <path d=\"M 85.140625 315 \nL 85.140625 43.2 \n\" style=\"fill:none;stroke:#000000;stroke-linecap:square;stroke-linejoin:miter;stroke-width:0.8;\"/>\n   </g>\n   <g id=\"patch_4\">\n    <path d=\"M 643.140625 315 \nL 643.140625 43.2 \n\" style=\"fill:none;stroke:#000000;stroke-linecap:square;stroke-linejoin:miter;stroke-width:0.8;\"/>\n   </g>\n   <g id=\"patch_5\">\n    <path d=\"M 85.140625 315 \nL 643.140625 315 \n\" style=\"fill:none;stroke:#000000;stroke-linecap:square;stroke-linejoin:miter;stroke-width:0.8;\"/>\n   </g>\n   <g id=\"patch_6\">\n    <path d=\"M 85.140625 43.2 \nL 643.140625 43.2 \n\" style=\"fill:none;stroke:#000000;stroke-linecap:square;stroke-linejoin:miter;stroke-width:0.8;\"/>\n   </g>\n  </g>\n  <g id=\"text_20\">\n   <!-- Total Gross Domestic Product in Colorado (2010 - 2018) -->\n   <g transform=\"translate(167.112813 16.318125)scale(0.12 -0.12)\">\n    <defs>\n     <path d=\"M 0.484375 72.90625 \nL 67.671875 72.90625 \nL 67.671875 58.6875 \nL 43.5 58.6875 \nL 43.5 0 \nL 24.703125 0 \nL 24.703125 58.6875 \nL 0.484375 58.6875 \nz\n\" id=\"DejaVuSans-Bold-84\"/>\n     <path d=\"M 34.421875 43.5 \nQ 28.609375 43.5 25.5625 39.328125 \nQ 22.515625 35.15625 22.515625 27.296875 \nQ 22.515625 19.4375 25.5625 15.25 \nQ 28.609375 11.078125 34.421875 11.078125 \nQ 40.140625 11.078125 43.15625 15.25 \nQ 46.1875 19.4375 46.1875 27.296875 \nQ 46.1875 35.15625 43.15625 39.328125 \nQ 40.140625 43.5 34.421875 43.5 \nz\nM 34.421875 56 \nQ 48.53125 56 56.46875 48.375 \nQ 64.40625 40.765625 64.40625 27.296875 \nQ 64.40625 13.8125 56.46875 6.1875 \nQ 48.53125 -1.421875 34.421875 -1.421875 \nQ 20.265625 -1.421875 12.28125 6.1875 \nQ 4.296875 13.8125 4.296875 27.296875 \nQ 4.296875 40.765625 12.28125 48.375 \nQ 20.265625 56 34.421875 56 \nz\n\" id=\"DejaVuSans-Bold-111\"/>\n     <path d=\"M 27.484375 70.21875 \nL 27.484375 54.6875 \nL 45.515625 54.6875 \nL 45.515625 42.1875 \nL 27.484375 42.1875 \nL 27.484375 19 \nQ 27.484375 15.1875 29 13.84375 \nQ 30.515625 12.5 35.015625 12.5 \nL 44 12.5 \nL 44 0 \nL 29 0 \nQ 18.65625 0 14.328125 4.3125 \nQ 10.015625 8.640625 10.015625 19 \nL 10.015625 42.1875 \nL 1.3125 42.1875 \nL 1.3125 54.6875 \nL 10.015625 54.6875 \nL 10.015625 70.21875 \nz\n\" id=\"DejaVuSans-Bold-116\"/>\n     <path d=\"M 32.90625 24.609375 \nQ 27.4375 24.609375 24.671875 22.75 \nQ 21.921875 20.90625 21.921875 17.28125 \nQ 21.921875 13.96875 24.140625 12.078125 \nQ 26.375 10.203125 30.328125 10.203125 \nQ 35.25 10.203125 38.625 13.734375 \nQ 42 17.28125 42 22.609375 \nL 42 24.609375 \nz\nM 59.625 31.203125 \nL 59.625 0 \nL 42 0 \nL 42 8.109375 \nQ 38.484375 3.125 34.078125 0.84375 \nQ 29.6875 -1.421875 23.390625 -1.421875 \nQ 14.890625 -1.421875 9.59375 3.53125 \nQ 4.296875 8.5 4.296875 16.40625 \nQ 4.296875 26.03125 10.90625 30.515625 \nQ 17.53125 35.015625 31.6875 35.015625 \nL 42 35.015625 \nL 42 36.375 \nQ 42 40.53125 38.71875 42.453125 \nQ 35.453125 44.390625 28.515625 44.390625 \nQ 22.90625 44.390625 18.0625 43.265625 \nQ 13.234375 42.140625 9.078125 39.890625 \nL 9.078125 53.21875 \nQ 14.703125 54.59375 20.359375 55.296875 \nQ 26.03125 56 31.6875 56 \nQ 46.484375 56 53.046875 50.171875 \nQ 59.625 44.34375 59.625 31.203125 \nz\n\" id=\"DejaVuSans-Bold-97\"/>\n     <path d=\"M 8.40625 75.984375 \nL 25.875 75.984375 \nL 25.875 0 \nL 8.40625 0 \nz\n\" id=\"DejaVuSans-Bold-108\"/>\n     <path id=\"DejaVuSans-Bold-32\"/>\n     <path d=\"M 74.703125 5.421875 \nQ 67.671875 2 60.109375 0.28125 \nQ 52.546875 -1.421875 44.484375 -1.421875 \nQ 26.265625 -1.421875 15.625 8.765625 \nQ 4.984375 18.953125 4.984375 36.375 \nQ 4.984375 54 15.8125 64.109375 \nQ 26.65625 74.21875 45.515625 74.21875 \nQ 52.78125 74.21875 59.4375 72.84375 \nQ 66.109375 71.484375 72.015625 68.796875 \nL 72.015625 53.71875 \nQ 65.921875 57.171875 59.890625 58.875 \nQ 53.859375 60.59375 47.796875 60.59375 \nQ 36.578125 60.59375 30.5 54.3125 \nQ 24.421875 48.046875 24.421875 36.375 \nQ 24.421875 24.8125 30.28125 18.5 \nQ 36.140625 12.203125 46.921875 12.203125 \nQ 49.859375 12.203125 52.375 12.5625 \nQ 54.890625 12.9375 56.890625 13.71875 \nL 56.890625 27.875 \nL 45.40625 27.875 \nL 45.40625 40.484375 \nL 74.703125 40.484375 \nz\n\" id=\"DejaVuSans-Bold-71\"/>\n     <path d=\"M 49.03125 39.796875 \nQ 46.734375 40.875 44.453125 41.375 \nQ 42.1875 41.890625 39.890625 41.890625 \nQ 33.15625 41.890625 29.515625 37.5625 \nQ 25.875 33.25 25.875 25.203125 \nL 25.875 0 \nL 8.40625 0 \nL 8.40625 54.6875 \nL 25.875 54.6875 \nL 25.875 45.703125 \nQ 29.25 51.078125 33.609375 53.53125 \nQ 37.984375 56 44.09375 56 \nQ 44.96875 56 45.984375 55.921875 \nQ 47.015625 55.859375 48.96875 55.609375 \nz\n\" id=\"DejaVuSans-Bold-114\"/>\n     <path d=\"M 51.125 52.984375 \nL 51.125 39.703125 \nQ 45.515625 42.046875 40.28125 43.21875 \nQ 35.0625 44.390625 30.421875 44.390625 \nQ 25.4375 44.390625 23.015625 43.140625 \nQ 20.609375 41.890625 20.609375 39.3125 \nQ 20.609375 37.203125 22.4375 36.078125 \nQ 24.265625 34.96875 29 34.421875 \nL 32.078125 33.984375 \nQ 45.515625 32.28125 50.140625 28.375 \nQ 54.78125 24.46875 54.78125 16.109375 \nQ 54.78125 7.375 48.328125 2.96875 \nQ 41.890625 -1.421875 29.109375 -1.421875 \nQ 23.6875 -1.421875 17.890625 -0.5625 \nQ 12.109375 0.296875 6 2 \nL 6 15.28125 \nQ 11.234375 12.75 16.71875 11.46875 \nQ 22.21875 10.203125 27.875 10.203125 \nQ 33.015625 10.203125 35.59375 11.609375 \nQ 38.1875 13.03125 38.1875 15.828125 \nQ 38.1875 18.171875 36.40625 19.3125 \nQ 34.625 20.453125 29.296875 21.09375 \nL 26.21875 21.484375 \nQ 14.546875 22.953125 9.859375 26.90625 \nQ 5.171875 30.859375 5.171875 38.921875 \nQ 5.171875 47.609375 11.125 51.796875 \nQ 17.09375 56 29.390625 56 \nQ 34.234375 56 39.546875 55.265625 \nQ 44.875 54.546875 51.125 52.984375 \nz\n\" id=\"DejaVuSans-Bold-115\"/>\n     <path d=\"M 27.984375 58.6875 \nL 27.984375 14.203125 \nL 34.71875 14.203125 \nQ 46.234375 14.203125 52.3125 19.921875 \nQ 58.40625 25.640625 58.40625 36.53125 \nQ 58.40625 47.359375 52.34375 53.015625 \nQ 46.296875 58.6875 34.71875 58.6875 \nz\nM 9.1875 72.90625 \nL 29 72.90625 \nQ 45.609375 72.90625 53.734375 70.53125 \nQ 61.859375 68.171875 67.671875 62.5 \nQ 72.796875 57.5625 75.28125 51.109375 \nQ 77.78125 44.671875 77.78125 36.53125 \nQ 77.78125 28.265625 75.28125 21.796875 \nQ 72.796875 15.328125 67.671875 10.40625 \nQ 61.8125 4.734375 53.609375 2.359375 \nQ 45.40625 0 29 0 \nL 9.1875 0 \nz\n\" id=\"DejaVuSans-Bold-68\"/>\n     <path d=\"M 59.078125 45.609375 \nQ 62.40625 50.6875 66.96875 53.34375 \nQ 71.53125 56 77 56 \nQ 86.421875 56 91.359375 50.1875 \nQ 96.296875 44.390625 96.296875 33.296875 \nL 96.296875 0 \nL 78.71875 0 \nL 78.71875 28.515625 \nQ 78.765625 29.15625 78.78125 29.828125 \nQ 78.8125 30.515625 78.8125 31.78125 \nQ 78.8125 37.59375 77.09375 40.203125 \nQ 75.390625 42.828125 71.578125 42.828125 \nQ 66.609375 42.828125 63.890625 38.71875 \nQ 61.1875 34.625 61.078125 26.859375 \nL 61.078125 0 \nL 43.5 0 \nL 43.5 28.515625 \nQ 43.5 37.59375 41.9375 40.203125 \nQ 40.375 42.828125 36.375 42.828125 \nQ 31.34375 42.828125 28.609375 38.703125 \nQ 25.875 34.578125 25.875 26.90625 \nL 25.875 0 \nL 8.296875 0 \nL 8.296875 54.6875 \nL 25.875 54.6875 \nL 25.875 46.6875 \nQ 29.109375 51.3125 33.28125 53.65625 \nQ 37.453125 56 42.484375 56 \nQ 48.140625 56 52.484375 53.265625 \nQ 56.84375 50.53125 59.078125 45.609375 \nz\n\" id=\"DejaVuSans-Bold-109\"/>\n     <path d=\"M 62.984375 27.484375 \nL 62.984375 22.515625 \nL 22.125 22.515625 \nQ 22.75 16.359375 26.5625 13.28125 \nQ 30.375 10.203125 37.203125 10.203125 \nQ 42.71875 10.203125 48.5 11.84375 \nQ 54.296875 13.484375 60.40625 16.796875 \nL 60.40625 3.328125 \nQ 54.203125 0.984375 48 -0.21875 \nQ 41.796875 -1.421875 35.59375 -1.421875 \nQ 20.75 -1.421875 12.515625 6.125 \nQ 4.296875 13.671875 4.296875 27.296875 \nQ 4.296875 40.671875 12.375 48.328125 \nQ 20.453125 56 34.625 56 \nQ 47.515625 56 55.25 48.234375 \nQ 62.984375 40.484375 62.984375 27.484375 \nz\nM 45.015625 33.296875 \nQ 45.015625 38.28125 42.109375 41.328125 \nQ 39.203125 44.390625 34.515625 44.390625 \nQ 29.4375 44.390625 26.265625 41.53125 \nQ 23.09375 38.671875 22.3125 33.296875 \nz\n\" id=\"DejaVuSans-Bold-101\"/>\n     <path d=\"M 8.40625 54.6875 \nL 25.875 54.6875 \nL 25.875 0 \nL 8.40625 0 \nz\nM 8.40625 75.984375 \nL 25.875 75.984375 \nL 25.875 61.71875 \nL 8.40625 61.71875 \nz\n\" id=\"DejaVuSans-Bold-105\"/>\n     <path d=\"M 52.59375 52.984375 \nL 52.59375 38.71875 \nQ 49.03125 41.15625 45.4375 42.328125 \nQ 41.84375 43.5 37.984375 43.5 \nQ 30.671875 43.5 26.59375 39.234375 \nQ 22.515625 34.96875 22.515625 27.296875 \nQ 22.515625 19.625 26.59375 15.34375 \nQ 30.671875 11.078125 37.984375 11.078125 \nQ 42.09375 11.078125 45.78125 12.296875 \nQ 49.46875 13.53125 52.59375 15.921875 \nL 52.59375 1.609375 \nQ 48.484375 0.09375 44.265625 -0.65625 \nQ 40.046875 -1.421875 35.796875 -1.421875 \nQ 21 -1.421875 12.640625 6.171875 \nQ 4.296875 13.765625 4.296875 27.296875 \nQ 4.296875 40.828125 12.640625 48.40625 \nQ 21 56 35.796875 56 \nQ 40.09375 56 44.265625 55.25 \nQ 48.4375 54.5 52.59375 52.984375 \nz\n\" id=\"DejaVuSans-Bold-99\"/>\n     <path d=\"M 9.1875 72.90625 \nL 40.375 72.90625 \nQ 54.296875 72.90625 61.734375 66.71875 \nQ 69.1875 60.546875 69.1875 49.125 \nQ 69.1875 37.640625 61.734375 31.46875 \nQ 54.296875 25.296875 40.375 25.296875 \nL 27.984375 25.296875 \nL 27.984375 0 \nL 9.1875 0 \nz\nM 27.984375 59.28125 \nL 27.984375 38.921875 \nL 38.375 38.921875 \nQ 43.84375 38.921875 46.828125 41.578125 \nQ 49.8125 44.234375 49.8125 49.125 \nQ 49.8125 54 46.828125 56.640625 \nQ 43.84375 59.28125 38.375 59.28125 \nz\n\" id=\"DejaVuSans-Bold-80\"/>\n     <path d=\"M 45.609375 46.6875 \nL 45.609375 75.984375 \nL 63.1875 75.984375 \nL 63.1875 0 \nL 45.609375 0 \nL 45.609375 7.90625 \nQ 42 3.078125 37.640625 0.828125 \nQ 33.296875 -1.421875 27.59375 -1.421875 \nQ 17.484375 -1.421875 10.984375 6.609375 \nQ 4.5 14.65625 4.5 27.296875 \nQ 4.5 39.9375 10.984375 47.96875 \nQ 17.484375 56 27.59375 56 \nQ 33.25 56 37.625 53.734375 \nQ 42 51.46875 45.609375 46.6875 \nz\nM 34.078125 11.28125 \nQ 39.703125 11.28125 42.65625 15.375 \nQ 45.609375 19.484375 45.609375 27.296875 \nQ 45.609375 35.109375 42.65625 39.203125 \nQ 39.703125 43.3125 34.078125 43.3125 \nQ 28.515625 43.3125 25.5625 39.203125 \nQ 22.609375 35.109375 22.609375 27.296875 \nQ 22.609375 19.484375 25.5625 15.375 \nQ 28.515625 11.28125 34.078125 11.28125 \nz\n\" id=\"DejaVuSans-Bold-100\"/>\n     <path d=\"M 7.8125 21.296875 \nL 7.8125 54.6875 \nL 25.390625 54.6875 \nL 25.390625 49.21875 \nQ 25.390625 44.78125 25.34375 38.0625 \nQ 25.296875 31.34375 25.296875 29.109375 \nQ 25.296875 22.515625 25.640625 19.609375 \nQ 25.984375 16.703125 26.8125 15.375 \nQ 27.875 13.671875 29.609375 12.734375 \nQ 31.34375 11.8125 33.59375 11.8125 \nQ 39.0625 11.8125 42.1875 16.015625 \nQ 45.3125 20.21875 45.3125 27.6875 \nL 45.3125 54.6875 \nL 62.796875 54.6875 \nL 62.796875 0 \nL 45.3125 0 \nL 45.3125 7.90625 \nQ 41.359375 3.125 36.9375 0.84375 \nQ 32.515625 -1.421875 27.203125 -1.421875 \nQ 17.71875 -1.421875 12.765625 4.390625 \nQ 7.8125 10.203125 7.8125 21.296875 \nz\n\" id=\"DejaVuSans-Bold-117\"/>\n     <path d=\"M 63.375 33.296875 \nL 63.375 0 \nL 45.796875 0 \nL 45.796875 5.421875 \nL 45.796875 25.484375 \nQ 45.796875 32.5625 45.484375 35.25 \nQ 45.171875 37.9375 44.390625 39.203125 \nQ 43.359375 40.921875 41.59375 41.875 \nQ 39.84375 42.828125 37.59375 42.828125 \nQ 32.125 42.828125 29 38.59375 \nQ 25.875 34.375 25.875 26.90625 \nL 25.875 0 \nL 8.40625 0 \nL 8.40625 54.6875 \nL 25.875 54.6875 \nL 25.875 46.6875 \nQ 29.828125 51.46875 34.265625 53.734375 \nQ 38.71875 56 44.09375 56 \nQ 53.5625 56 58.46875 50.1875 \nQ 63.375 44.390625 63.375 33.296875 \nz\n\" id=\"DejaVuSans-Bold-110\"/>\n     <path d=\"M 67 4 \nQ 61.8125 1.3125 56.203125 -0.046875 \nQ 50.59375 -1.421875 44.484375 -1.421875 \nQ 26.265625 -1.421875 15.625 8.765625 \nQ 4.984375 18.953125 4.984375 36.375 \nQ 4.984375 53.859375 15.625 64.03125 \nQ 26.265625 74.21875 44.484375 74.21875 \nQ 50.59375 74.21875 56.203125 72.84375 \nQ 61.8125 71.484375 67 68.796875 \nL 67 53.71875 \nQ 61.765625 57.28125 56.6875 58.9375 \nQ 51.609375 60.59375 46 60.59375 \nQ 35.9375 60.59375 30.171875 54.140625 \nQ 24.421875 47.703125 24.421875 36.375 \nQ 24.421875 25.09375 30.171875 18.640625 \nQ 35.9375 12.203125 46 12.203125 \nQ 51.609375 12.203125 56.6875 13.859375 \nQ 61.765625 15.53125 67 19.09375 \nz\n\" id=\"DejaVuSans-Bold-67\"/>\n     <path d=\"M 37.703125 -13.1875 \nL 23.1875 -13.1875 \nQ 15.71875 -1.125 12.15625 9.734375 \nQ 8.59375 20.609375 8.59375 31.296875 \nQ 8.59375 42 12.171875 52.953125 \nQ 15.765625 63.921875 23.1875 75.875 \nL 37.703125 75.875 \nQ 31.453125 64.3125 28.328125 53.25 \nQ 25.203125 42.1875 25.203125 31.390625 \nQ 25.203125 20.609375 28.296875 9.515625 \nQ 31.390625 -1.5625 37.703125 -13.1875 \nz\n\" id=\"DejaVuSans-Bold-40\"/>\n     <path d=\"M 28.8125 13.8125 \nL 60.890625 13.8125 \nL 60.890625 0 \nL 7.90625 0 \nL 7.90625 13.8125 \nL 34.515625 37.3125 \nQ 38.09375 40.53125 39.796875 43.609375 \nQ 41.5 46.6875 41.5 50 \nQ 41.5 55.125 38.0625 58.25 \nQ 34.625 61.375 28.90625 61.375 \nQ 24.515625 61.375 19.28125 59.5 \nQ 14.0625 57.625 8.109375 53.90625 \nL 8.109375 69.921875 \nQ 14.453125 72.015625 20.65625 73.109375 \nQ 26.859375 74.21875 32.8125 74.21875 \nQ 45.90625 74.21875 53.15625 68.453125 \nQ 60.40625 62.703125 60.40625 52.390625 \nQ 60.40625 46.4375 57.328125 41.28125 \nQ 54.25 36.140625 44.390625 27.484375 \nz\n\" id=\"DejaVuSans-Bold-50\"/>\n     <path d=\"M 46 36.53125 \nQ 46 50.203125 43.4375 55.78125 \nQ 40.875 61.375 34.8125 61.375 \nQ 28.765625 61.375 26.171875 55.78125 \nQ 23.578125 50.203125 23.578125 36.53125 \nQ 23.578125 22.703125 26.171875 17.03125 \nQ 28.765625 11.375 34.8125 11.375 \nQ 40.828125 11.375 43.40625 17.03125 \nQ 46 22.703125 46 36.53125 \nz\nM 64.796875 36.375 \nQ 64.796875 18.265625 56.984375 8.421875 \nQ 49.171875 -1.421875 34.8125 -1.421875 \nQ 20.40625 -1.421875 12.59375 8.421875 \nQ 4.78125 18.265625 4.78125 36.375 \nQ 4.78125 54.546875 12.59375 64.375 \nQ 20.40625 74.21875 34.8125 74.21875 \nQ 49.171875 74.21875 56.984375 64.375 \nQ 64.796875 54.546875 64.796875 36.375 \nz\n\" id=\"DejaVuSans-Bold-48\"/>\n     <path d=\"M 11.71875 12.984375 \nL 28.328125 12.984375 \nL 28.328125 60.109375 \nL 11.28125 56.59375 \nL 11.28125 69.390625 \nL 28.21875 72.90625 \nL 46.09375 72.90625 \nL 46.09375 12.984375 \nL 62.703125 12.984375 \nL 62.703125 0 \nL 11.71875 0 \nz\n\" id=\"DejaVuSans-Bold-49\"/>\n     <path d=\"M 5.421875 35.890625 \nL 36.078125 35.890625 \nL 36.078125 21.6875 \nL 5.421875 21.6875 \nz\n\" id=\"DejaVuSans-Bold-45\"/>\n     <path d=\"M 34.8125 32.625 \nQ 29.546875 32.625 26.703125 29.734375 \nQ 23.875 26.859375 23.875 21.484375 \nQ 23.875 16.109375 26.703125 13.25 \nQ 29.546875 10.40625 34.8125 10.40625 \nQ 40.046875 10.40625 42.828125 13.25 \nQ 45.609375 16.109375 45.609375 21.484375 \nQ 45.609375 26.90625 42.828125 29.765625 \nQ 40.046875 32.625 34.8125 32.625 \nz\nM 21.09375 38.8125 \nQ 14.453125 40.828125 11.078125 44.96875 \nQ 7.71875 49.125 7.71875 55.328125 \nQ 7.71875 64.546875 14.59375 69.375 \nQ 21.484375 74.21875 34.8125 74.21875 \nQ 48.046875 74.21875 54.921875 69.40625 \nQ 61.8125 64.59375 61.8125 55.328125 \nQ 61.8125 49.125 58.421875 44.96875 \nQ 55.03125 40.828125 48.390625 38.8125 \nQ 55.8125 36.765625 59.59375 32.15625 \nQ 63.375 27.546875 63.375 20.515625 \nQ 63.375 9.671875 56.171875 4.125 \nQ 48.96875 -1.421875 34.8125 -1.421875 \nQ 20.609375 -1.421875 13.359375 4.125 \nQ 6.109375 9.671875 6.109375 20.515625 \nQ 6.109375 27.546875 9.890625 32.15625 \nQ 13.671875 36.765625 21.09375 38.8125 \nz\nM 25.484375 53.421875 \nQ 25.484375 49.078125 27.90625 46.734375 \nQ 30.328125 44.390625 34.8125 44.390625 \nQ 39.203125 44.390625 41.59375 46.734375 \nQ 44 49.078125 44 53.421875 \nQ 44 57.765625 41.59375 60.078125 \nQ 39.203125 62.40625 34.8125 62.40625 \nQ 30.328125 62.40625 27.90625 60.0625 \nQ 25.484375 57.71875 25.484375 53.421875 \nz\n\" id=\"DejaVuSans-Bold-56\"/>\n     <path d=\"M 8.015625 -13.1875 \nQ 14.265625 -1.5625 17.390625 9.515625 \nQ 20.515625 20.609375 20.515625 31.390625 \nQ 20.515625 42.1875 17.390625 53.25 \nQ 14.265625 64.3125 8.015625 75.875 \nL 22.515625 75.875 \nQ 29.9375 63.921875 33.515625 52.953125 \nQ 37.109375 42 37.109375 31.296875 \nQ 37.109375 20.609375 33.546875 9.734375 \nQ 29.984375 -1.125 22.515625 -13.1875 \nz\n\" id=\"DejaVuSans-Bold-41\"/>\n    </defs>\n    <use xlink:href=\"#DejaVuSans-Bold-84\"/>\n    <use x=\"54.962891\" xlink:href=\"#DejaVuSans-Bold-111\"/>\n    <use x=\"123.664062\" xlink:href=\"#DejaVuSans-Bold-116\"/>\n    <use x=\"171.466797\" xlink:href=\"#DejaVuSans-Bold-97\"/>\n    <use x=\"238.947266\" xlink:href=\"#DejaVuSans-Bold-108\"/>\n    <use x=\"273.224609\" xlink:href=\"#DejaVuSans-Bold-32\"/>\n    <use x=\"308.039062\" xlink:href=\"#DejaVuSans-Bold-71\"/>\n    <use x=\"390.119141\" xlink:href=\"#DejaVuSans-Bold-114\"/>\n    <use x=\"439.435547\" xlink:href=\"#DejaVuSans-Bold-111\"/>\n    <use x=\"508.136719\" xlink:href=\"#DejaVuSans-Bold-115\"/>\n    <use x=\"567.658203\" xlink:href=\"#DejaVuSans-Bold-115\"/>\n    <use x=\"627.179688\" xlink:href=\"#DejaVuSans-Bold-32\"/>\n    <use x=\"661.994141\" xlink:href=\"#DejaVuSans-Bold-68\"/>\n    <use x=\"745.001953\" xlink:href=\"#DejaVuSans-Bold-111\"/>\n    <use x=\"813.703125\" xlink:href=\"#DejaVuSans-Bold-109\"/>\n    <use x=\"917.902344\" xlink:href=\"#DejaVuSans-Bold-101\"/>\n    <use x=\"985.724609\" xlink:href=\"#DejaVuSans-Bold-115\"/>\n    <use x=\"1045.246094\" xlink:href=\"#DejaVuSans-Bold-116\"/>\n    <use x=\"1093.048828\" xlink:href=\"#DejaVuSans-Bold-105\"/>\n    <use x=\"1127.326172\" xlink:href=\"#DejaVuSans-Bold-99\"/>\n    <use x=\"1186.603516\" xlink:href=\"#DejaVuSans-Bold-32\"/>\n    <use x=\"1221.417969\" xlink:href=\"#DejaVuSans-Bold-80\"/>\n    <use x=\"1294.708984\" xlink:href=\"#DejaVuSans-Bold-114\"/>\n    <use x=\"1344.025391\" xlink:href=\"#DejaVuSans-Bold-111\"/>\n    <use x=\"1412.726562\" xlink:href=\"#DejaVuSans-Bold-100\"/>\n    <use x=\"1484.308594\" xlink:href=\"#DejaVuSans-Bold-117\"/>\n    <use x=\"1555.5\" xlink:href=\"#DejaVuSans-Bold-99\"/>\n    <use x=\"1614.777344\" xlink:href=\"#DejaVuSans-Bold-116\"/>\n    <use x=\"1662.580078\" xlink:href=\"#DejaVuSans-Bold-32\"/>\n    <use x=\"1697.394531\" xlink:href=\"#DejaVuSans-Bold-105\"/>\n    <use x=\"1731.671875\" xlink:href=\"#DejaVuSans-Bold-110\"/>\n    <use x=\"1802.863281\" xlink:href=\"#DejaVuSans-Bold-32\"/>\n    <use x=\"1837.677734\" xlink:href=\"#DejaVuSans-Bold-67\"/>\n    <use x=\"1911.066406\" xlink:href=\"#DejaVuSans-Bold-111\"/>\n    <use x=\"1979.767578\" xlink:href=\"#DejaVuSans-Bold-108\"/>\n    <use x=\"2014.044922\" xlink:href=\"#DejaVuSans-Bold-111\"/>\n    <use x=\"2082.746094\" xlink:href=\"#DejaVuSans-Bold-114\"/>\n    <use x=\"2132.0625\" xlink:href=\"#DejaVuSans-Bold-97\"/>\n    <use x=\"2199.542969\" xlink:href=\"#DejaVuSans-Bold-100\"/>\n    <use x=\"2271.125\" xlink:href=\"#DejaVuSans-Bold-111\"/>\n    <use x=\"2339.826172\" xlink:href=\"#DejaVuSans-Bold-32\"/>\n    <use x=\"2374.640625\" xlink:href=\"#DejaVuSans-Bold-40\"/>\n    <use x=\"2420.34375\" xlink:href=\"#DejaVuSans-Bold-50\"/>\n    <use x=\"2489.923828\" xlink:href=\"#DejaVuSans-Bold-48\"/>\n    <use x=\"2559.503906\" xlink:href=\"#DejaVuSans-Bold-49\"/>\n    <use x=\"2629.083984\" xlink:href=\"#DejaVuSans-Bold-48\"/>\n    <use x=\"2698.664062\" xlink:href=\"#DejaVuSans-Bold-32\"/>\n    <use x=\"2733.478516\" xlink:href=\"#DejaVuSans-Bold-45\"/>\n    <use x=\"2774.982422\" xlink:href=\"#DejaVuSans-Bold-32\"/>\n    <use x=\"2809.796875\" xlink:href=\"#DejaVuSans-Bold-50\"/>\n    <use x=\"2879.376953\" xlink:href=\"#DejaVuSans-Bold-48\"/>\n    <use x=\"2948.957031\" xlink:href=\"#DejaVuSans-Bold-49\"/>\n    <use x=\"3018.537109\" xlink:href=\"#DejaVuSans-Bold-56\"/>\n    <use x=\"3088.117188\" xlink:href=\"#DejaVuSans-Bold-41\"/>\n   </g>\n  </g>\n </g>\n <defs>\n  <clipPath id=\"pcaebe6d74c\">\n   <rect height=\"271.8\" width=\"558\" x=\"85.140625\" y=\"43.2\"/>\n  </clipPath>\n </defs>\n</svg>\n",
      "image/png": "[encoded data removed]"
     },
     "metadata": {
      "needs_background": "light"
     }
    }
   ],
   "source": [
    "#Growth percentage by Industry\n",
    "\n",
    "GrowthIndustry = pd.read_csv(\"../data/cleandata/COGDPDetailed.csv\")\n",
    "\n",
    "GrowthIndustry['Total'] = GrowthIndustry.sum(axis=1)\n",
    "GrowthIndustry = GrowthIndustry[['Description', 'Total']]\n",
    "\n",
    "#GrowthIndustry.head(10)\n",
    "\n",
    "plt.figure(figsize=(10,5))\n",
    "plt.plot(GrowthIndustry['Description'], GrowthIndustry['Total'])\n",
    "\n",
    "plt.suptitle('Total Gross Domestic Product in Colorado (2010 - 2018)', weight='bold')\n",
    "plt.xlabel('Year')\n",
    "plt.ylabel('Dollar Amount')\n",
    "plt.ticklabel_format(style='plain', axis='y')\n",
    "\n",
    "plt.grid()\n",
    "plt.show()\n",
    "plt.close()"
   ]
  },
  {
   "cell_type": "code",
   "execution_count": 108,
   "metadata": {},
   "outputs": [],
   "source": [
    "Arrests = pd.read_csv(\"../data/cleandata/FinalizedCrimeStats.csv\")\n",
    "#Arrests = Arrests.drop(columns=['Offense Type'])\n",
    "#Arrests = Arrests.groupby(['Year', 'County', 'latitude', 'longtitude']).sum()\n",
    "#Arrests['Total Crime'] = Arrests['Number of Arrests'] + Arrests['Number of Offenses']\n",
    "#Arrests.to_csv(\"../data/cleandata/FinalizedCrimeStats.csv\")\n",
    "\n",
    "#Arrests.head(3)"
   ]
  },
  {
   "cell_type": "code",
   "execution_count": 109,
   "metadata": {},
   "outputs": [
    {
     "output_type": "display_data",
     "data": {
      "application/vnd.plotly.v1+json": {
       "config": {
        "plotlyServerURL": "https://plot.ly"
       },
       "data": [
        {
         "hovertemplate": "<b>%{hovertext}</b><br><br>Total Crime=%{marker.size}<br>latitude=%{lat}<br>longtitude=%{lon}<br>Year=%{marker.color}<extra></extra>",
         "hovertext": [
          "Adams",
          "Alamosa",
          "Arapahoe",
          "Archuleta",
          "Baca",
          "Bent",
          "Boulder",
          "Broomfield",
          "Chaffee",
          "Cheyenne",
          "Clear Creek",
          "Conejos",
          "Custer",
          "Delta",
          "Denver",
          "Douglas",
          "Eagle",
          "El Paso",
          "Elbert",
          "Fremont",
          "Garfield",
          "Gilpin",
          "Grand",
          "Gunnison",
          "Hinsdale",
          "Huerfano",
          "Jackson",
          "Jefferson",
          "Kiowa",
          "Kit Carson",
          "La Plata",
          "Lake",
          "Larimer",
          "Las Animas",
          "Lincoln",
          "Logan",
          "Mesa",
          "Moffat",
          "Montezuma",
          "Montrose",
          "Morgan",
          "Otero",
          "Ouray",
          "Park",
          "Phillips",
          "Pitkin",
          "Prowers",
          "Pueblo",
          "Rio Blanco",
          "Rio Grande",
          "Routt",
          "Saguache",
          "San Juan",
          "San Miguel",
          "Sedgwick",
          "Summit",
          "Teller",
          "Washington",
          "Weld",
          "Yuma",
          "Adams",
          "Alamosa",
          "Arapahoe",
          "Archuleta",
          "Baca",
          "Bent",
          "Boulder",
          "Broomfield",
          "Chaffee",
          "Cheyenne",
          "Clear Creek",
          "Custer",
          "Delta",
          "Denver",
          "Dolores",
          "Douglas",
          "Eagle",
          "El Paso",
          "Elbert",
          "Fremont",
          "Garfield",
          "Gilpin",
          "Grand",
          "Gunnison",
          "Huerfano",
          "Jefferson",
          "Kiowa",
          "Kit Carson",
          "La Plata",
          "Lake",
          "Larimer",
          "Las Animas",
          "Logan",
          "Mesa",
          "Moffat",
          "Montezuma",
          "Montrose",
          "Morgan",
          "Otero",
          "Park",
          "Phillips",
          "Pitkin",
          "Prowers",
          "Pueblo",
          "Rio Blanco",
          "Rio Grande",
          "Routt",
          "San Juan",
          "Sedgwick",
          "Summit",
          "Teller",
          "Washington",
          "Weld",
          "Yuma",
          "Adams",
          "Alamosa",
          "Arapahoe",
          "Archuleta",
          "Baca",
          "Boulder",
          "Broomfield",
          "Chaffee",
          "Cheyenne",
          "Clear Creek",
          "Costilla",
          "Custer",
          "Delta",
          "Denver",
          "Dolores",
          "Douglas",
          "Eagle",
          "El Paso",
          "Elbert",
          "Fremont",
          "Garfield",
          "Gilpin",
          "Grand",
          "Gunnison",
          "Huerfano",
          "Jefferson",
          "Kit Carson",
          "La Plata",
          "Lake",
          "Larimer",
          "Las Animas",
          "Logan",
          "Mesa",
          "Mineral",
          "Moffat",
          "Montezuma",
          "Montrose",
          "Morgan",
          "Otero",
          "Ouray",
          "Park",
          "Pitkin",
          "Prowers",
          "Pueblo",
          "Rio Blanco",
          "Rio Grande",
          "Routt",
          "Saguache",
          "Sedgwick",
          "Summit",
          "Teller",
          "Washington",
          "Weld",
          "Adams",
          "Alamosa",
          "Arapahoe",
          "Archuleta",
          "Baca",
          "Bent",
          "Boulder",
          "Broomfield",
          "Chaffee",
          "Clear Creek",
          "Crowley",
          "Custer",
          "Delta",
          "Denver",
          "Douglas",
          "Eagle",
          "El Paso",
          "Elbert",
          "Fremont",
          "Garfield",
          "Gilpin",
          "Grand",
          "Gunnison",
          "Huerfano",
          "Jefferson",
          "Kit Carson",
          "La Plata",
          "Larimer",
          "Las Animas",
          "Lincoln",
          "Logan",
          "Mesa",
          "Moffat",
          "Montezuma",
          "Montrose",
          "Morgan",
          "Otero",
          "Ouray",
          "Park",
          "Phillips",
          "Pitkin",
          "Prowers",
          "Pueblo",
          "Rio Blanco",
          "Rio Grande",
          "Routt",
          "Saguache",
          "San Miguel",
          "Summit",
          "Teller",
          "Washington",
          "Weld",
          "Adams",
          "Alamosa",
          "Arapahoe",
          "Archuleta",
          "Baca",
          "Bent",
          "Boulder",
          "Broomfield",
          "Chaffee",
          "Clear Creek",
          "Custer",
          "Delta",
          "Denver",
          "Dolores",
          "Douglas",
          "Eagle",
          "El Paso",
          "Elbert",
          "Fremont",
          "Garfield",
          "Gilpin",
          "Grand",
          "Gunnison",
          "Hinsdale",
          "Huerfano",
          "Jefferson",
          "Kit Carson",
          "La Plata",
          "Lake",
          "Larimer",
          "Lincoln",
          "Logan",
          "Mesa",
          "Moffat",
          "Montezuma",
          "Montrose",
          "Morgan",
          "Otero",
          "Park",
          "Phillips",
          "Pitkin",
          "Prowers",
          "Pueblo",
          "Rio Blanco",
          "Rio Grande",
          "Routt",
          "Saguache",
          "Summit",
          "Teller",
          "Washington",
          "Weld",
          "Adams",
          "Alamosa",
          "Arapahoe",
          "Archuleta",
          "Boulder",
          "Broomfield",
          "Chaffee",
          "Clear Creek",
          "Crowley",
          "Custer",
          "Delta",
          "Denver",
          "Dolores",
          "Douglas",
          "Eagle",
          "El Paso",
          "Elbert",
          "Fremont",
          "Garfield",
          "Gilpin",
          "Grand",
          "Gunnison",
          "Huerfano",
          "Jefferson",
          "Kit Carson",
          "La Plata",
          "Lake",
          "Larimer",
          "Las Animas",
          "Lincoln",
          "Logan",
          "Mesa",
          "Moffat",
          "Montezuma",
          "Montrose",
          "Morgan",
          "Otero",
          "Park",
          "Phillips",
          "Pitkin",
          "Prowers",
          "Pueblo",
          "Rio Blanco",
          "Rio Grande",
          "Routt",
          "Saguache",
          "Summit",
          "Teller",
          "Washington",
          "Weld"
         ],
         "lat": [
          39.69,
          37.46,
          39.69,
          37.02,
          37.1,
          38.1,
          39.93,
          39.94,
          38.53,
          38.85,
          39.78,
          37.07,
          38.13,
          38.78,
          39.59,
          39.37,
          39.87,
          39.07,
          39.47,
          38.44,
          39.54,
          39.8,
          39.93,
          38.67,
          38.07,
          37.78,
          40.57,
          39.82,
          38.33,
          39.3,
          37.23,
          39.37,
          40.37,
          37.4,
          39.28,
          40.55,
          39.08,
          40.24,
          37.35,
          38.49,
          40.33,
          38.1,
          38.08,
          39.28,
          40.68,
          39.19,
          38.06,
          38.27,
          40.05,
          37.67,
          40.7,
          37.75,
          37.82,
          37.92,
          40.98,
          39.5,
          38.74,
          40.16,
          40.17,
          40.11,
          39.69,
          37.46,
          39.69,
          37.02,
          37.1,
          38.1,
          39.93,
          39.94,
          38.53,
          38.85,
          39.78,
          38.13,
          38.78,
          39.59,
          37.65,
          39.37,
          39.87,
          39.07,
          39.47,
          38.44,
          39.54,
          39.8,
          39.93,
          38.67,
          37.78,
          39.82,
          38.33,
          39.3,
          37.23,
          39.37,
          40.37,
          37.4,
          40.55,
          39.08,
          40.24,
          37.35,
          38.49,
          40.33,
          38.1,
          39.28,
          40.68,
          39.19,
          38.06,
          38.27,
          40.05,
          37.67,
          40.7,
          37.82,
          40.98,
          39.5,
          38.74,
          40.16,
          40.17,
          40.11,
          39.69,
          37.46,
          39.69,
          37.02,
          37.1,
          39.93,
          39.94,
          38.53,
          38.85,
          39.78,
          37.43,
          38.13,
          38.78,
          39.59,
          37.65,
          39.37,
          39.87,
          39.07,
          39.47,
          38.44,
          39.54,
          39.8,
          39.93,
          38.67,
          37.78,
          39.82,
          39.3,
          37.23,
          39.37,
          40.37,
          37.4,
          40.55,
          39.08,
          37.85,
          40.24,
          37.35,
          38.49,
          40.33,
          38.1,
          38.08,
          39.28,
          39.19,
          38.06,
          38.27,
          40.05,
          37.67,
          40.7,
          37.75,
          40.98,
          39.5,
          38.74,
          40.16,
          40.17,
          39.69,
          37.46,
          39.69,
          37.02,
          37.1,
          38.1,
          39.93,
          39.94,
          38.53,
          39.78,
          38.19,
          38.13,
          38.78,
          39.59,
          39.37,
          39.87,
          39.07,
          39.47,
          38.44,
          39.54,
          39.8,
          39.93,
          38.67,
          37.78,
          39.82,
          39.3,
          37.23,
          40.37,
          37.4,
          39.28,
          40.55,
          39.08,
          40.24,
          37.35,
          38.49,
          40.33,
          38.1,
          38.08,
          39.28,
          40.68,
          39.19,
          38.06,
          38.27,
          40.05,
          37.67,
          40.7,
          37.75,
          37.92,
          39.5,
          38.74,
          40.16,
          40.17,
          39.69,
          37.46,
          39.69,
          37.02,
          37.1,
          38.1,
          39.93,
          39.94,
          38.53,
          39.78,
          38.13,
          38.78,
          39.59,
          37.65,
          39.37,
          39.87,
          39.07,
          39.47,
          38.44,
          39.54,
          39.8,
          39.93,
          38.67,
          38.07,
          37.78,
          39.82,
          39.3,
          37.23,
          39.37,
          40.37,
          39.28,
          40.55,
          39.08,
          40.24,
          37.35,
          38.49,
          40.33,
          38.1,
          39.28,
          40.68,
          39.19,
          38.06,
          38.27,
          40.05,
          37.67,
          40.7,
          37.75,
          39.5,
          38.74,
          40.16,
          40.17,
          39.69,
          37.46,
          39.69,
          37.02,
          39.93,
          39.94,
          38.53,
          39.78,
          38.19,
          38.13,
          38.78,
          39.59,
          37.65,
          39.37,
          39.87,
          39.07,
          39.47,
          38.44,
          39.54,
          39.8,
          39.93,
          38.67,
          37.78,
          39.82,
          39.3,
          37.23,
          39.37,
          40.37,
          37.4,
          39.28,
          40.55,
          39.08,
          40.24,
          37.35,
          38.49,
          40.33,
          38.1,
          39.28,
          40.68,
          39.19,
          38.06,
          38.27,
          40.05,
          37.67,
          40.7,
          37.75,
          39.5,
          38.74,
          40.16,
          40.17
         ],
         "legendgroup": "",
         "lon": [
          -104.81,
          -105.87,
          -104.81,
          -107.4,
          -102.57,
          -103.15,
          -105.27,
          -105.06,
          -106,
          -102.17,
          -105.6,
          -106.01,
          -105.46,
          -107.93,
          -105.01,
          -104.85,
          -106.7,
          -104.85,
          -103.95,
          -105.23,
          -107.33,
          -105.49,
          -105.79,
          -106.83,
          -107.3,
          -105.17,
          -106.43,
          -105.1,
          -103.33,
          -102.42,
          -107.59,
          -106.18,
          -105.52,
          -104.65,
          -103.27,
          -103.27,
          -108.55,
          -109,
          -108.57,
          -107.87,
          -104.12,
          -103.51,
          -107.69,
          -106.06,
          -102.17,
          -106.82,
          -102.31,
          -104.62,
          -107.89,
          -106.35,
          -106.92,
          -106.11,
          -107.64,
          -108.93,
          -102.26,
          -106.04,
          -105.17,
          -103.21,
          -105.11,
          -102.48,
          -104.81,
          -105.87,
          -104.81,
          -107.4,
          -102.57,
          -103.15,
          -105.27,
          -105.06,
          -106,
          -102.17,
          -105.6,
          -105.46,
          -107.93,
          -105.01,
          -108.82,
          -104.85,
          -106.7,
          -104.85,
          -103.95,
          -105.23,
          -107.33,
          -105.49,
          -105.79,
          -106.83,
          -105.17,
          -105.1,
          -103.33,
          -102.42,
          -107.59,
          -106.18,
          -105.52,
          -104.65,
          -103.27,
          -108.55,
          -109,
          -108.57,
          -107.87,
          -104.12,
          -103.51,
          -106.06,
          -102.17,
          -106.82,
          -102.31,
          -104.62,
          -107.89,
          -106.35,
          -106.92,
          -107.64,
          -102.26,
          -106.04,
          -105.17,
          -103.21,
          -105.11,
          -102.48,
          -104.81,
          -105.87,
          -104.81,
          -107.4,
          -102.57,
          -105.27,
          -105.06,
          -106,
          -102.17,
          -105.6,
          -105.51,
          -105.46,
          -107.93,
          -105.01,
          -108.82,
          -104.85,
          -106.7,
          -104.85,
          -103.95,
          -105.23,
          -107.33,
          -105.49,
          -105.79,
          -106.83,
          -105.17,
          -105.1,
          -102.42,
          -107.59,
          -106.18,
          -105.52,
          -104.65,
          -103.27,
          -108.55,
          -106.92,
          -109,
          -108.57,
          -107.87,
          -104.12,
          -103.51,
          -107.69,
          -106.06,
          -106.82,
          -102.31,
          -104.62,
          -107.89,
          -106.35,
          -106.92,
          -106.11,
          -102.26,
          -106.04,
          -105.17,
          -103.21,
          -105.11,
          -104.81,
          -105.87,
          -104.81,
          -107.4,
          -102.57,
          -103.15,
          -105.27,
          -105.06,
          -106,
          -105.6,
          -103.85,
          -105.46,
          -107.93,
          -105.01,
          -104.85,
          -106.7,
          -104.85,
          -103.95,
          -105.23,
          -107.33,
          -105.49,
          -105.79,
          -106.83,
          -105.17,
          -105.1,
          -102.42,
          -107.59,
          -105.52,
          -104.65,
          -103.27,
          -103.27,
          -108.55,
          -109,
          -108.57,
          -107.87,
          -104.12,
          -103.51,
          -107.69,
          -106.06,
          -102.17,
          -106.82,
          -102.31,
          -104.62,
          -107.89,
          -106.35,
          -106.92,
          -106.11,
          -108.93,
          -106.04,
          -105.17,
          -103.21,
          -105.11,
          -104.81,
          -105.87,
          -104.81,
          -107.4,
          -102.57,
          -103.15,
          -105.27,
          -105.06,
          -106,
          -105.6,
          -105.46,
          -107.93,
          -105.01,
          -108.82,
          -104.85,
          -106.7,
          -104.85,
          -103.95,
          -105.23,
          -107.33,
          -105.49,
          -105.79,
          -106.83,
          -107.3,
          -105.17,
          -105.1,
          -102.42,
          -107.59,
          -106.18,
          -105.52,
          -103.27,
          -103.27,
          -108.55,
          -109,
          -108.57,
          -107.87,
          -104.12,
          -103.51,
          -106.06,
          -102.17,
          -106.82,
          -102.31,
          -104.62,
          -107.89,
          -106.35,
          -106.92,
          -106.11,
          -106.04,
          -105.17,
          -103.21,
          -105.11,
          -104.81,
          -105.87,
          -104.81,
          -107.4,
          -105.27,
          -105.06,
          -106,
          -105.6,
          -103.85,
          -105.46,
          -107.93,
          -105.01,
          -108.82,
          -104.85,
          -106.7,
          -104.85,
          -103.95,
          -105.23,
          -107.33,
          -105.49,
          -105.79,
          -106.83,
          -105.17,
          -105.1,
          -102.42,
          -107.59,
          -106.18,
          -105.52,
          -104.65,
          -103.27,
          -103.27,
          -108.55,
          -109,
          -108.57,
          -107.87,
          -104.12,
          -103.51,
          -106.06,
          -102.17,
          -106.82,
          -102.31,
          -104.62,
          -107.89,
          -106.35,
          -106.92,
          -106.11,
          -106.04,
          -105.17,
          -103.21,
          -105.11
         ],
         "marker": {
          "color": [
           2012,
           2012,
           2012,
           2012,
           2012,
           2012,
           2012,
           2012,
           2012,
           2012,
           2012,
           2012,
           2012,
           2012,
           2012,
           2012,
           2012,
           2012,
           2012,
           2012,
           2012,
           2012,
           2012,
           2012,
           2012,
           2012,
           2012,
           2012,
           2012,
           2012,
           2012,
           2012,
           2012,
           2012,
           2012,
           2012,
           2012,
           2012,
           2012,
           2012,
           2012,
           2012,
           2012,
           2012,
           2012,
           2012,
           2012,
           2012,
           2012,
           2012,
           2012,
           2012,
           2012,
           2012,
           2012,
           2012,
           2012,
           2012,
           2012,
           2012,
           2013,
           2013,
           2013,
           2013,
           2013,
           2013,
           2013,
           2013,
           2013,
           2013,
           2013,
           2013,
           2013,
           2013,
           2013,
           2013,
           2013,
           2013,
           2013,
           2013,
           2013,
           2013,
           2013,
           2013,
           2013,
           2013,
           2013,
           2013,
           2013,
           2013,
           2013,
           2013,
           2013,
           2013,
           2013,
           2013,
           2013,
           2013,
           2013,
           2013,
           2013,
           2013,
           2013,
           2013,
           2013,
           2013,
           2013,
           2013,
           2013,
           2013,
           2013,
           2013,
           2013,
           2013,
           2014,
           2014,
           2014,
           2014,
           2014,
           2014,
           2014,
           2014,
           2014,
           2014,
           2014,
           2014,
           2014,
           2014,
           2014,
           2014,
           2014,
           2014,
           2014,
           2014,
           2014,
           2014,
           2014,
           2014,
           2014,
           2014,
           2014,
           2014,
           2014,
           2014,
           2014,
           2014,
           2014,
           2014,
           2014,
           2014,
           2014,
           2014,
           2014,
           2014,
           2014,
           2014,
           2014,
           2014,
           2014,
           2014,
           2014,
           2014,
           2014,
           2014,
           2014,
           2014,
           2014,
           2015,
           2015,
           2015,
           2015,
           2015,
           2015,
           2015,
           2015,
           2015,
           2015,
           2015,
           2015,
           2015,
           2015,
           2015,
           2015,
           2015,
           2015,
           2015,
           2015,
           2015,
           2015,
           2015,
           2015,
           2015,
           2015,
           2015,
           2015,
           2015,
           2015,
           2015,
           2015,
           2015,
           2015,
           2015,
           2015,
           2015,
           2015,
           2015,
           2015,
           2015,
           2015,
           2015,
           2015,
           2015,
           2015,
           2015,
           2015,
           2015,
           2015,
           2015,
           2015,
           2016,
           2016,
           2016,
           2016,
           2016,
           2016,
           2016,
           2016,
           2016,
           2016,
           2016,
           2016,
           2016,
           2016,
           2016,
           2016,
           2016,
           2016,
           2016,
           2016,
           2016,
           2016,
           2016,
           2016,
           2016,
           2016,
           2016,
           2016,
           2016,
           2016,
           2016,
           2016,
           2016,
           2016,
           2016,
           2016,
           2016,
           2016,
           2016,
           2016,
           2016,
           2016,
           2016,
           2016,
           2016,
           2016,
           2016,
           2016,
           2016,
           2016,
           2016,
           2017,
           2017,
           2017,
           2017,
           2017,
           2017,
           2017,
           2017,
           2017,
           2017,
           2017,
           2017,
           2017,
           2017,
           2017,
           2017,
           2017,
           2017,
           2017,
           2017,
           2017,
           2017,
           2017,
           2017,
           2017,
           2017,
           2017,
           2017,
           2017,
           2017,
           2017,
           2017,
           2017,
           2017,
           2017,
           2017,
           2017,
           2017,
           2017,
           2017,
           2017,
           2017,
           2017,
           2017,
           2017,
           2017,
           2017,
           2017,
           2017,
           2017
          ],
          "coloraxis": "coloraxis",
          "size": [
           4328,
           4,
           3242,
           29,
           33,
           1,
           1634,
           511,
           88,
           6,
           90,
           5,
           5,
           34,
           356,
           1016,
           499,
           1715,
           33,
           121,
           320,
           182,
           26,
           75,
           1,
           26,
           1,
           2776,
           2,
           36,
           118,
           49,
           2013,
           11,
           2,
           69,
           1123,
           178,
           140,
           260,
           109,
           36,
           1,
           21,
           5,
           31,
           160,
           80,
           44,
           55,
           169,
           20,
           1,
           7,
           2,
           144,
           104,
           39,
           1027,
           5,
           1811,
           10,
           1490,
           8,
           10,
           2,
           911,
           232,
           25,
           2,
           13,
           3,
           29,
           878,
           2,
           615,
           215,
           976,
           30,
           48,
           114,
           13,
           6,
           58,
           1,
           1438,
           6,
           22,
           105,
           7,
           956,
           10,
           5,
           713,
           39,
           12,
           99,
           37,
           5,
           4,
           2,
           4,
           60,
           62,
           7,
           9,
           65,
           2,
           6,
           24,
           87,
           5,
           644,
           4,
           1546,
           21,
           1714,
           15,
           2,
           757,
           221,
           36,
           1,
           15,
           2,
           5,
           14,
           1600,
           2,
           430,
           188,
           1121,
           30,
           42,
           98,
           9,
           9,
           59,
           8,
           1700,
           10,
           149,
           8,
           1013,
           3,
           37,
           743,
           2,
           40,
           23,
           83,
           60,
           11,
           7,
           8,
           24,
           61,
           62,
           30,
           3,
           105,
           4,
           2,
           16,
           60,
           2,
           669,
           1429,
           39,
           1513,
           34,
           2,
           3,
           899,
           149,
           27,
           17,
           2,
           7,
           9,
           2103,
           512,
           212,
           952,
           13,
           27,
           166,
           9,
           3,
           81,
           11,
           1553,
           31,
           126,
           967,
           2,
           2,
           67,
           695,
           52,
           13,
           80,
           26,
           24,
           1,
           5,
           2,
           18,
           6,
           84,
           18,
           17,
           90,
           5,
           1,
           36,
           47,
           2,
           542,
           1397,
           30,
           1408,
           21,
           3,
           1,
           1045,
           189,
           37,
           4,
           6,
           39,
           1192,
           1,
           566,
           168,
           1068,
           11,
           17,
           183,
           6,
           5,
           56,
           4,
           13,
           1576,
           18,
           119,
           4,
           1164,
           2,
           30,
           581,
           84,
           19,
           66,
           32,
           10,
           7,
           4,
           8,
           9,
           123,
           4,
           12,
           83,
           1,
           35,
           47,
           5,
           565,
           1498,
           52,
           1226,
           9,
           1417,
           176,
           20,
           2,
           6,
           4,
           41,
           542,
           7,
           752,
           159,
           982,
           24,
           61,
           235,
           13,
           1,
           83,
           3,
           1601,
           21,
           150,
           3,
           1078,
           10,
           9,
           23,
           759,
           58,
           19,
           60,
           47,
           19,
           2,
           2,
           9,
           3,
           102,
           5,
           14,
           85,
           19,
           18,
           49,
           1,
           449
          ],
          "sizemode": "area",
          "sizeref": 10.82
         },
         "mode": "markers",
         "name": "",
         "showlegend": false,
         "subplot": "mapbox",
         "type": "scattermapbox"
        }
       ],
       "layout": {
        "coloraxis": {
         "colorbar": {
          "title": {
           "text": "Year"
          }
         },
         "colorscale": [
          [
           0,
           "#0d0887"
          ],
          [
           0.1111111111111111,
           "#46039f"
          ],
          [
           0.2222222222222222,
           "#7201a8"
          ],
          [
           0.3333333333333333,
           "#9c179e"
          ],
          [
           0.4444444444444444,
           "#bd3786"
          ],
          [
           0.5555555555555556,
           "#d8576b"
          ],
          [
           0.6666666666666666,
           "#ed7953"
          ],
          [
           0.7777777777777778,
           "#fb9f3a"
          ],
          [
           0.8888888888888888,
           "#fdca26"
          ],
          [
           1,
           "#f0f921"
          ]
         ]
        },
        "legend": {
         "itemsizing": "constant",
         "tracegroupgap": 0
        },
        "mapbox": {
         "center": {
          "lat": 39.024781250000025,
          "lon": -105.53196874999995
         },
         "domain": {
          "x": [
           0,
           1
          ],
          "y": [
           0,
           1
          ]
         },
         "style": "carto-positron",
         "zoom": 5
        },
        "template": {
         "data": {
          "bar": [
           {
            "error_x": {
             "color": "#2a3f5f"
            },
            "error_y": {
             "color": "#2a3f5f"
            },
            "marker": {
             "line": {
              "color": "#E5ECF6",
              "width": 0.5
             }
            },
            "type": "bar"
           }
          ],
          "barpolar": [
           {
            "marker": {
             "line": {
              "color": "#E5ECF6",
              "width": 0.5
             }
            },
            "type": "barpolar"
           }
          ],
          "carpet": [
           {
            "aaxis": {
             "endlinecolor": "#2a3f5f",
             "gridcolor": "white",
             "linecolor": "white",
             "minorgridcolor": "white",
             "startlinecolor": "#2a3f5f"
            },
            "baxis": {
             "endlinecolor": "#2a3f5f",
             "gridcolor": "white",
             "linecolor": "white",
             "minorgridcolor": "white",
             "startlinecolor": "#2a3f5f"
            },
            "type": "carpet"
           }
          ],
          "choropleth": [
           {
            "colorbar": {
             "outlinewidth": 0,
             "ticks": ""
            },
            "type": "choropleth"
           }
          ],
          "contour": [
           {
            "colorbar": {
             "outlinewidth": 0,
             "ticks": ""
            },
            "colorscale": [
             [
              0,
              "#0d0887"
             ],
             [
              0.1111111111111111,
              "#46039f"
             ],
             [
              0.2222222222222222,
              "#7201a8"
             ],
             [
              0.3333333333333333,
              "#9c179e"
             ],
             [
              0.4444444444444444,
              "#bd3786"
             ],
             [
              0.5555555555555556,
              "#d8576b"
             ],
             [
              0.6666666666666666,
              "#ed7953"
             ],
             [
              0.7777777777777778,
              "#fb9f3a"
             ],
             [
              0.8888888888888888,
              "#fdca26"
             ],
             [
              1,
              "#f0f921"
             ]
            ],
            "type": "contour"
           }
          ],
          "contourcarpet": [
           {
            "colorbar": {
             "outlinewidth": 0,
             "ticks": ""
            },
            "type": "contourcarpet"
           }
          ],
          "heatmap": [
           {
            "colorbar": {
             "outlinewidth": 0,
             "ticks": ""
            },
            "colorscale": [
             [
              0,
              "#0d0887"
             ],
             [
              0.1111111111111111,
              "#46039f"
             ],
             [
              0.2222222222222222,
              "#7201a8"
             ],
             [
              0.3333333333333333,
              "#9c179e"
             ],
             [
              0.4444444444444444,
              "#bd3786"
             ],
             [
              0.5555555555555556,
              "#d8576b"
             ],
             [
              0.6666666666666666,
              "#ed7953"
             ],
             [
              0.7777777777777778,
              "#fb9f3a"
             ],
             [
              0.8888888888888888,
              "#fdca26"
             ],
             [
              1,
              "#f0f921"
             ]
            ],
            "type": "heatmap"
           }
          ],
          "heatmapgl": [
           {
            "colorbar": {
             "outlinewidth": 0,
             "ticks": ""
            },
            "colorscale": [
             [
              0,
              "#0d0887"
             ],
             [
              0.1111111111111111,
              "#46039f"
             ],
             [
              0.2222222222222222,
              "#7201a8"
             ],
             [
              0.3333333333333333,
              "#9c179e"
             ],
             [
              0.4444444444444444,
              "#bd3786"
             ],
             [
              0.5555555555555556,
              "#d8576b"
             ],
             [
              0.6666666666666666,
              "#ed7953"
             ],
             [
              0.7777777777777778,
              "#fb9f3a"
             ],
             [
              0.8888888888888888,
              "#fdca26"
             ],
             [
              1,
              "#f0f921"
             ]
            ],
            "type": "heatmapgl"
           }
          ],
          "histogram": [
           {
            "marker": {
             "colorbar": {
              "outlinewidth": 0,
              "ticks": ""
             }
            },
            "type": "histogram"
           }
          ],
          "histogram2d": [
           {
            "colorbar": {
             "outlinewidth": 0,
             "ticks": ""
            },
            "colorscale": [
             [
              0,
              "#0d0887"
             ],
             [
              0.1111111111111111,
              "#46039f"
             ],
             [
              0.2222222222222222,
              "#7201a8"
             ],
             [
              0.3333333333333333,
              "#9c179e"
             ],
             [
              0.4444444444444444,
              "#bd3786"
             ],
             [
              0.5555555555555556,
              "#d8576b"
             ],
             [
              0.6666666666666666,
              "#ed7953"
             ],
             [
              0.7777777777777778,
              "#fb9f3a"
             ],
             [
              0.8888888888888888,
              "#fdca26"
             ],
             [
              1,
              "#f0f921"
             ]
            ],
            "type": "histogram2d"
           }
          ],
          "histogram2dcontour": [
           {
            "colorbar": {
             "outlinewidth": 0,
             "ticks": ""
            },
            "colorscale": [
             [
              0,
              "#0d0887"
             ],
             [
              0.1111111111111111,
              "#46039f"
             ],
             [
              0.2222222222222222,
              "#7201a8"
             ],
             [
              0.3333333333333333,
              "#9c179e"
             ],
             [
              0.4444444444444444,
              "#bd3786"
             ],
             [
              0.5555555555555556,
              "#d8576b"
             ],
             [
              0.6666666666666666,
              "#ed7953"
             ],
             [
              0.7777777777777778,
              "#fb9f3a"
             ],
             [
              0.8888888888888888,
              "#fdca26"
             ],
             [
              1,
              "#f0f921"
             ]
            ],
            "type": "histogram2dcontour"
           }
          ],
          "mesh3d": [
           {
            "colorbar": {
             "outlinewidth": 0,
             "ticks": ""
            },
            "type": "mesh3d"
           }
          ],
          "parcoords": [
           {
            "line": {
             "colorbar": {
              "outlinewidth": 0,
              "ticks": ""
             }
            },
            "type": "parcoords"
           }
          ],
          "pie": [
           {
            "automargin": true,
            "type": "pie"
           }
          ],
          "scatter": [
           {
            "marker": {
             "colorbar": {
              "outlinewidth": 0,
              "ticks": ""
             }
            },
            "type": "scatter"
           }
          ],
          "scatter3d": [
           {
            "line": {
             "colorbar": {
              "outlinewidth": 0,
              "ticks": ""
             }
            },
            "marker": {
             "colorbar": {
              "outlinewidth": 0,
              "ticks": ""
             }
            },
            "type": "scatter3d"
           }
          ],
          "scattercarpet": [
           {
            "marker": {
             "colorbar": {
              "outlinewidth": 0,
              "ticks": ""
             }
            },
            "type": "scattercarpet"
           }
          ],
          "scattergeo": [
           {
            "marker": {
             "colorbar": {
              "outlinewidth": 0,
              "ticks": ""
             }
            },
            "type": "scattergeo"
           }
          ],
          "scattergl": [
           {
            "marker": {
             "colorbar": {
              "outlinewidth": 0,
              "ticks": ""
             }
            },
            "type": "scattergl"
           }
          ],
          "scattermapbox": [
           {
            "marker": {
             "colorbar": {
              "outlinewidth": 0,
              "ticks": ""
             }
            },
            "type": "scattermapbox"
           }
          ],
          "scatterpolar": [
           {
            "marker": {
             "colorbar": {
              "outlinewidth": 0,
              "ticks": ""
             }
            },
            "type": "scatterpolar"
           }
          ],
          "scatterpolargl": [
           {
            "marker": {
             "colorbar": {
              "outlinewidth": 0,
              "ticks": ""
             }
            },
            "type": "scatterpolargl"
           }
          ],
          "scatterternary": [
           {
            "marker": {
             "colorbar": {
              "outlinewidth": 0,
              "ticks": ""
             }
            },
            "type": "scatterternary"
           }
          ],
          "surface": [
           {
            "colorbar": {
             "outlinewidth": 0,
             "ticks": ""
            },
            "colorscale": [
             [
              0,
              "#0d0887"
             ],
             [
              0.1111111111111111,
              "#46039f"
             ],
             [
              0.2222222222222222,
              "#7201a8"
             ],
             [
              0.3333333333333333,
              "#9c179e"
             ],
             [
              0.4444444444444444,
              "#bd3786"
             ],
             [
              0.5555555555555556,
              "#d8576b"
             ],
             [
              0.6666666666666666,
              "#ed7953"
             ],
             [
              0.7777777777777778,
              "#fb9f3a"
             ],
             [
              0.8888888888888888,
              "#fdca26"
             ],
             [
              1,
              "#f0f921"
             ]
            ],
            "type": "surface"
           }
          ],
          "table": [
           {
            "cells": {
             "fill": {
              "color": "#EBF0F8"
             },
             "line": {
              "color": "white"
             }
            },
            "header": {
             "fill": {
              "color": "#C8D4E3"
             },
             "line": {
              "color": "white"
             }
            },
            "type": "table"
           }
          ]
         },
         "layout": {
          "annotationdefaults": {
           "arrowcolor": "#2a3f5f",
           "arrowhead": 0,
           "arrowwidth": 1
          },
          "coloraxis": {
           "colorbar": {
            "outlinewidth": 0,
            "ticks": ""
           }
          },
          "colorscale": {
           "diverging": [
            [
             0,
             "#8e0152"
            ],
            [
             0.1,
             "#c51b7d"
            ],
            [
             0.2,
             "#de77ae"
            ],
            [
             0.3,
             "#f1b6da"
            ],
            [
             0.4,
             "#fde0ef"
            ],
            [
             0.5,
             "#f7f7f7"
            ],
            [
             0.6,
             "#e6f5d0"
            ],
            [
             0.7,
             "#b8e186"
            ],
            [
             0.8,
             "#7fbc41"
            ],
            [
             0.9,
             "#4d9221"
            ],
            [
             1,
             "#276419"
            ]
           ],
           "sequential": [
            [
             0,
             "#0d0887"
            ],
            [
             0.1111111111111111,
             "#46039f"
            ],
            [
             0.2222222222222222,
             "#7201a8"
            ],
            [
             0.3333333333333333,
             "#9c179e"
            ],
            [
             0.4444444444444444,
             "#bd3786"
            ],
            [
             0.5555555555555556,
             "#d8576b"
            ],
            [
             0.6666666666666666,
             "#ed7953"
            ],
            [
             0.7777777777777778,
             "#fb9f3a"
            ],
            [
             0.8888888888888888,
             "#fdca26"
            ],
            [
             1,
             "#f0f921"
            ]
           ],
           "sequentialminus": [
            [
             0,
             "#0d0887"
            ],
            [
             0.1111111111111111,
             "#46039f"
            ],
            [
             0.2222222222222222,
             "#7201a8"
            ],
            [
             0.3333333333333333,
             "#9c179e"
            ],
            [
             0.4444444444444444,
             "#bd3786"
            ],
            [
             0.5555555555555556,
             "#d8576b"
            ],
            [
             0.6666666666666666,
             "#ed7953"
            ],
            [
             0.7777777777777778,
             "#fb9f3a"
            ],
            [
             0.8888888888888888,
             "#fdca26"
            ],
            [
             1,
             "#f0f921"
            ]
           ]
          },
          "colorway": [
           "#636efa",
           "#EF553B",
           "#00cc96",
           "#ab63fa",
           "#FFA15A",
           "#19d3f3",
           "#FF6692",
           "#B6E880",
           "#FF97FF",
           "#FECB52"
          ],
          "font": {
           "color": "#2a3f5f"
          },
          "geo": {
           "bgcolor": "white",
           "lakecolor": "white",
           "landcolor": "#E5ECF6",
           "showlakes": true,
           "showland": true,
           "subunitcolor": "white"
          },
          "hoverlabel": {
           "align": "left"
          },
          "hovermode": "closest",
          "mapbox": {
           "style": "light"
          },
          "paper_bgcolor": "white",
          "plot_bgcolor": "#E5ECF6",
          "polar": {
           "angularaxis": {
            "gridcolor": "white",
            "linecolor": "white",
            "ticks": ""
           },
           "bgcolor": "#E5ECF6",
           "radialaxis": {
            "gridcolor": "white",
            "linecolor": "white",
            "ticks": ""
           }
          },
          "scene": {
           "xaxis": {
            "backgroundcolor": "#E5ECF6",
            "gridcolor": "white",
            "gridwidth": 2,
            "linecolor": "white",
            "showbackground": true,
            "ticks": "",
            "zerolinecolor": "white"
           },
           "yaxis": {
            "backgroundcolor": "#E5ECF6",
            "gridcolor": "white",
            "gridwidth": 2,
            "linecolor": "white",
            "showbackground": true,
            "ticks": "",
            "zerolinecolor": "white"
           },
           "zaxis": {
            "backgroundcolor": "#E5ECF6",
            "gridcolor": "white",
            "gridwidth": 2,
            "linecolor": "white",
            "showbackground": true,
            "ticks": "",
            "zerolinecolor": "white"
           }
          },
          "shapedefaults": {
           "line": {
            "color": "#2a3f5f"
           }
          },
          "ternary": {
           "aaxis": {
            "gridcolor": "white",
            "linecolor": "white",
            "ticks": ""
           },
           "baxis": {
            "gridcolor": "white",
            "linecolor": "white",
            "ticks": ""
           },
           "bgcolor": "#E5ECF6",
           "caxis": {
            "gridcolor": "white",
            "linecolor": "white",
            "ticks": ""
           }
          },
          "title": {
           "x": 0.05
          },
          "xaxis": {
           "automargin": true,
           "gridcolor": "white",
           "linecolor": "white",
           "ticks": "",
           "title": {
            "standoff": 15
           },
           "zerolinecolor": "white",
           "zerolinewidth": 2
          },
          "yaxis": {
           "automargin": true,
           "gridcolor": "white",
           "linecolor": "white",
           "ticks": "",
           "title": {
            "standoff": 15
           },
           "zerolinecolor": "white",
           "zerolinewidth": 2
          }
         }
        },
        "title": {
         "text": "Reported Offenses and Arrests Related to Marijuana by County"
        }
       }
      }
     },
     "metadata": {}
    }
   ],
   "source": [
    "mapbox_token = os.getenv(\"MAPBOX_API_KEY\")\n",
    "px.set_mapbox_access_token(mapbox_token)\n",
    "\n",
    "ArrestsPlot = px.scatter_mapbox(Arrests, \n",
    "lat=\"latitude\", lon=\"longtitude\", \n",
    "size=\"Total Crime\", color=\"Year\", \n",
    "mapbox_style=\"carto-positron\",\n",
    "zoom=5,\n",
    "hover_name=\"County\",\n",
    "title=\"Reported Offenses and Arrests Related to Marijuana by County\",\n",
    ")\n",
    "\n",
    "#ArrestsPlot.layout.coloraxis.showscale = False\n",
    "ArrestsPlot.show()"
   ]
  },
  {
   "cell_type": "code",
   "execution_count": 110,
   "metadata": {},
   "outputs": [
    {
     "output_type": "display_data",
     "data": {
      "application/vnd.plotly.v1+json": {
       "config": {
        "plotlyServerURL": "https://plot.ly"
       },
       "data": [
        {
         "hovertemplate": "<b>%{hovertext}</b><br><br>Year=%{marker.color}<br>Total Crime=%{marker.size}<br>latitude=%{lat}<br>longtitude=%{lon}<extra></extra>",
         "hovertext": [
          "Adams",
          "Alamosa",
          "Arapahoe",
          "Archuleta",
          "Baca",
          "Bent",
          "Boulder",
          "Broomfield",
          "Chaffee",
          "Cheyenne",
          "Clear Creek",
          "Conejos",
          "Custer",
          "Delta",
          "Denver",
          "Douglas",
          "Eagle",
          "El Paso",
          "Elbert",
          "Fremont",
          "Garfield",
          "Gilpin",
          "Grand",
          "Gunnison",
          "Hinsdale",
          "Huerfano",
          "Jackson",
          "Jefferson",
          "Kiowa",
          "Kit Carson",
          "La Plata",
          "Lake",
          "Larimer",
          "Las Animas",
          "Lincoln",
          "Logan",
          "Mesa",
          "Moffat",
          "Montezuma",
          "Montrose",
          "Morgan",
          "Otero",
          "Ouray",
          "Park",
          "Phillips",
          "Pitkin",
          "Prowers",
          "Pueblo",
          "Rio Blanco",
          "Rio Grande",
          "Routt",
          "Saguache",
          "San Juan",
          "San Miguel",
          "Sedgwick",
          "Summit",
          "Teller",
          "Washington",
          "Weld",
          "Yuma"
         ],
         "ids": [
          "Adams",
          "Alamosa",
          "Arapahoe",
          "Archuleta",
          "Baca",
          "Bent",
          "Boulder",
          "Broomfield",
          "Chaffee",
          "Cheyenne",
          "Clear Creek",
          "Conejos",
          "Custer",
          "Delta",
          "Denver",
          "Douglas",
          "Eagle",
          "El Paso",
          "Elbert",
          "Fremont",
          "Garfield",
          "Gilpin",
          "Grand",
          "Gunnison",
          "Hinsdale",
          "Huerfano",
          "Jackson",
          "Jefferson",
          "Kiowa",
          "Kit Carson",
          "La Plata",
          "Lake",
          "Larimer",
          "Las Animas",
          "Lincoln",
          "Logan",
          "Mesa",
          "Moffat",
          "Montezuma",
          "Montrose",
          "Morgan",
          "Otero",
          "Ouray",
          "Park",
          "Phillips",
          "Pitkin",
          "Prowers",
          "Pueblo",
          "Rio Blanco",
          "Rio Grande",
          "Routt",
          "Saguache",
          "San Juan",
          "San Miguel",
          "Sedgwick",
          "Summit",
          "Teller",
          "Washington",
          "Weld",
          "Yuma"
         ],
         "lat": [
          39.69,
          37.46,
          39.69,
          37.02,
          37.1,
          38.1,
          39.93,
          39.94,
          38.53,
          38.85,
          39.78,
          37.07,
          38.13,
          38.78,
          39.59,
          39.37,
          39.87,
          39.07,
          39.47,
          38.44,
          39.54,
          39.8,
          39.93,
          38.67,
          38.07,
          37.78,
          40.57,
          39.82,
          38.33,
          39.3,
          37.23,
          39.37,
          40.37,
          37.4,
          39.28,
          40.55,
          39.08,
          40.24,
          37.35,
          38.49,
          40.33,
          38.1,
          38.08,
          39.28,
          40.68,
          39.19,
          38.06,
          38.27,
          40.05,
          37.67,
          40.7,
          37.75,
          37.82,
          37.92,
          40.98,
          39.5,
          38.74,
          40.16,
          40.17,
          40.11
         ],
         "legendgroup": "",
         "lon": [
          -104.81,
          -105.87,
          -104.81,
          -107.4,
          -102.57,
          -103.15,
          -105.27,
          -105.06,
          -106,
          -102.17,
          -105.6,
          -106.01,
          -105.46,
          -107.93,
          -105.01,
          -104.85,
          -106.7,
          -104.85,
          -103.95,
          -105.23,
          -107.33,
          -105.49,
          -105.79,
          -106.83,
          -107.3,
          -105.17,
          -106.43,
          -105.1,
          -103.33,
          -102.42,
          -107.59,
          -106.18,
          -105.52,
          -104.65,
          -103.27,
          -103.27,
          -108.55,
          -109,
          -108.57,
          -107.87,
          -104.12,
          -103.51,
          -107.69,
          -106.06,
          -102.17,
          -106.82,
          -102.31,
          -104.62,
          -107.89,
          -106.35,
          -106.92,
          -106.11,
          -107.64,
          -108.93,
          -102.26,
          -106.04,
          -105.17,
          -103.21,
          -105.11,
          -102.48
         ],
         "marker": {
          "color": [
           2012,
           2012,
           2012,
           2012,
           2012,
           2012,
           2012,
           2012,
           2012,
           2012,
           2012,
           2012,
           2012,
           2012,
           2012,
           2012,
           2012,
           2012,
           2012,
           2012,
           2012,
           2012,
           2012,
           2012,
           2012,
           2012,
           2012,
           2012,
           2012,
           2012,
           2012,
           2012,
           2012,
           2012,
           2012,
           2012,
           2012,
           2012,
           2012,
           2012,
           2012,
           2012,
           2012,
           2012,
           2012,
           2012,
           2012,
           2012,
           2012,
           2012,
           2012,
           2012,
           2012,
           2012,
           2012,
           2012,
           2012,
           2012,
           2012,
           2012
          ],
          "coloraxis": "coloraxis",
          "size": [
           4328,
           4,
           3242,
           29,
           33,
           1,
           1634,
           511,
           88,
           6,
           90,
           5,
           5,
           34,
           356,
           1016,
           499,
           1715,
           33,
           121,
           320,
           182,
           26,
           75,
           1,
           26,
           1,
           2776,
           2,
           36,
           118,
           49,
           2013,
           11,
           2,
           69,
           1123,
           178,
           140,
           260,
           109,
           36,
           1,
           21,
           5,
           31,
           160,
           80,
           44,
           55,
           169,
           20,
           1,
           7,
           2,
           144,
           104,
           39,
           1027,
           5
          ],
          "sizemode": "area",
          "sizeref": 10.82
         },
         "mode": "markers",
         "name": "",
         "showlegend": false,
         "subplot": "mapbox",
         "type": "scattermapbox"
        }
       ],
       "frames": [
        {
         "data": [
          {
           "hovertemplate": "<b>%{hovertext}</b><br><br>Year=%{marker.color}<br>Total Crime=%{marker.size}<br>latitude=%{lat}<br>longtitude=%{lon}<extra></extra>",
           "hovertext": [
            "Adams",
            "Alamosa",
            "Arapahoe",
            "Archuleta",
            "Baca",
            "Bent",
            "Boulder",
            "Broomfield",
            "Chaffee",
            "Cheyenne",
            "Clear Creek",
            "Conejos",
            "Custer",
            "Delta",
            "Denver",
            "Douglas",
            "Eagle",
            "El Paso",
            "Elbert",
            "Fremont",
            "Garfield",
            "Gilpin",
            "Grand",
            "Gunnison",
            "Hinsdale",
            "Huerfano",
            "Jackson",
            "Jefferson",
            "Kiowa",
            "Kit Carson",
            "La Plata",
            "Lake",
            "Larimer",
            "Las Animas",
            "Lincoln",
            "Logan",
            "Mesa",
            "Moffat",
            "Montezuma",
            "Montrose",
            "Morgan",
            "Otero",
            "Ouray",
            "Park",
            "Phillips",
            "Pitkin",
            "Prowers",
            "Pueblo",
            "Rio Blanco",
            "Rio Grande",
            "Routt",
            "Saguache",
            "San Juan",
            "San Miguel",
            "Sedgwick",
            "Summit",
            "Teller",
            "Washington",
            "Weld",
            "Yuma"
           ],
           "ids": [
            "Adams",
            "Alamosa",
            "Arapahoe",
            "Archuleta",
            "Baca",
            "Bent",
            "Boulder",
            "Broomfield",
            "Chaffee",
            "Cheyenne",
            "Clear Creek",
            "Conejos",
            "Custer",
            "Delta",
            "Denver",
            "Douglas",
            "Eagle",
            "El Paso",
            "Elbert",
            "Fremont",
            "Garfield",
            "Gilpin",
            "Grand",
            "Gunnison",
            "Hinsdale",
            "Huerfano",
            "Jackson",
            "Jefferson",
            "Kiowa",
            "Kit Carson",
            "La Plata",
            "Lake",
            "Larimer",
            "Las Animas",
            "Lincoln",
            "Logan",
            "Mesa",
            "Moffat",
            "Montezuma",
            "Montrose",
            "Morgan",
            "Otero",
            "Ouray",
            "Park",
            "Phillips",
            "Pitkin",
            "Prowers",
            "Pueblo",
            "Rio Blanco",
            "Rio Grande",
            "Routt",
            "Saguache",
            "San Juan",
            "San Miguel",
            "Sedgwick",
            "Summit",
            "Teller",
            "Washington",
            "Weld",
            "Yuma"
           ],
           "lat": [
            39.69,
            37.46,
            39.69,
            37.02,
            37.1,
            38.1,
            39.93,
            39.94,
            38.53,
            38.85,
            39.78,
            37.07,
            38.13,
            38.78,
            39.59,
            39.37,
            39.87,
            39.07,
            39.47,
            38.44,
            39.54,
            39.8,
            39.93,
            38.67,
            38.07,
            37.78,
            40.57,
            39.82,
            38.33,
            39.3,
            37.23,
            39.37,
            40.37,
            37.4,
            39.28,
            40.55,
            39.08,
            40.24,
            37.35,
            38.49,
            40.33,
            38.1,
            38.08,
            39.28,
            40.68,
            39.19,
            38.06,
            38.27,
            40.05,
            37.67,
            40.7,
            37.75,
            37.82,
            37.92,
            40.98,
            39.5,
            38.74,
            40.16,
            40.17,
            40.11
           ],
           "legendgroup": "",
           "lon": [
            -104.81,
            -105.87,
            -104.81,
            -107.4,
            -102.57,
            -103.15,
            -105.27,
            -105.06,
            -106,
            -102.17,
            -105.6,
            -106.01,
            -105.46,
            -107.93,
            -105.01,
            -104.85,
            -106.7,
            -104.85,
            -103.95,
            -105.23,
            -107.33,
            -105.49,
            -105.79,
            -106.83,
            -107.3,
            -105.17,
            -106.43,
            -105.1,
            -103.33,
            -102.42,
            -107.59,
            -106.18,
            -105.52,
            -104.65,
            -103.27,
            -103.27,
            -108.55,
            -109,
            -108.57,
            -107.87,
            -104.12,
            -103.51,
            -107.69,
            -106.06,
            -102.17,
            -106.82,
            -102.31,
            -104.62,
            -107.89,
            -106.35,
            -106.92,
            -106.11,
            -107.64,
            -108.93,
            -102.26,
            -106.04,
            -105.17,
            -103.21,
            -105.11,
            -102.48
           ],
           "marker": {
            "color": [
             2012,
             2012,
             2012,
             2012,
             2012,
             2012,
             2012,
             2012,
             2012,
             2012,
             2012,
             2012,
             2012,
             2012,
             2012,
             2012,
             2012,
             2012,
             2012,
             2012,
             2012,
             2012,
             2012,
             2012,
             2012,
             2012,
             2012,
             2012,
             2012,
             2012,
             2012,
             2012,
             2012,
             2012,
             2012,
             2012,
             2012,
             2012,
             2012,
             2012,
             2012,
             2012,
             2012,
             2012,
             2012,
             2012,
             2012,
             2012,
             2012,
             2012,
             2012,
             2012,
             2012,
             2012,
             2012,
             2012,
             2012,
             2012,
             2012,
             2012
            ],
            "coloraxis": "coloraxis",
            "size": [
             4328,
             4,
             3242,
             29,
             33,
             1,
             1634,
             511,
             88,
             6,
             90,
             5,
             5,
             34,
             356,
             1016,
             499,
             1715,
             33,
             121,
             320,
             182,
             26,
             75,
             1,
             26,
             1,
             2776,
             2,
             36,
             118,
             49,
             2013,
             11,
             2,
             69,
             1123,
             178,
             140,
             260,
             109,
             36,
             1,
             21,
             5,
             31,
             160,
             80,
             44,
             55,
             169,
             20,
             1,
             7,
             2,
             144,
             104,
             39,
             1027,
             5
            ],
            "sizemode": "area",
            "sizeref": 10.82
           },
           "mode": "markers",
           "name": "",
           "showlegend": false,
           "subplot": "mapbox",
           "type": "scattermapbox"
          }
         ],
         "name": "2012"
        },
        {
         "data": [
          {
           "hovertemplate": "<b>%{hovertext}</b><br><br>Year=%{marker.color}<br>Total Crime=%{marker.size}<br>latitude=%{lat}<br>longtitude=%{lon}<extra></extra>",
           "hovertext": [
            "Adams",
            "Alamosa",
            "Arapahoe",
            "Archuleta",
            "Baca",
            "Bent",
            "Boulder",
            "Broomfield",
            "Chaffee",
            "Cheyenne",
            "Clear Creek",
            "Custer",
            "Delta",
            "Denver",
            "Dolores",
            "Douglas",
            "Eagle",
            "El Paso",
            "Elbert",
            "Fremont",
            "Garfield",
            "Gilpin",
            "Grand",
            "Gunnison",
            "Huerfano",
            "Jefferson",
            "Kiowa",
            "Kit Carson",
            "La Plata",
            "Lake",
            "Larimer",
            "Las Animas",
            "Logan",
            "Mesa",
            "Moffat",
            "Montezuma",
            "Montrose",
            "Morgan",
            "Otero",
            "Park",
            "Phillips",
            "Pitkin",
            "Prowers",
            "Pueblo",
            "Rio Blanco",
            "Rio Grande",
            "Routt",
            "San Juan",
            "Sedgwick",
            "Summit",
            "Teller",
            "Washington",
            "Weld",
            "Yuma"
           ],
           "ids": [
            "Adams",
            "Alamosa",
            "Arapahoe",
            "Archuleta",
            "Baca",
            "Bent",
            "Boulder",
            "Broomfield",
            "Chaffee",
            "Cheyenne",
            "Clear Creek",
            "Custer",
            "Delta",
            "Denver",
            "Dolores",
            "Douglas",
            "Eagle",
            "El Paso",
            "Elbert",
            "Fremont",
            "Garfield",
            "Gilpin",
            "Grand",
            "Gunnison",
            "Huerfano",
            "Jefferson",
            "Kiowa",
            "Kit Carson",
            "La Plata",
            "Lake",
            "Larimer",
            "Las Animas",
            "Logan",
            "Mesa",
            "Moffat",
            "Montezuma",
            "Montrose",
            "Morgan",
            "Otero",
            "Park",
            "Phillips",
            "Pitkin",
            "Prowers",
            "Pueblo",
            "Rio Blanco",
            "Rio Grande",
            "Routt",
            "San Juan",
            "Sedgwick",
            "Summit",
            "Teller",
            "Washington",
            "Weld",
            "Yuma"
           ],
           "lat": [
            39.69,
            37.46,
            39.69,
            37.02,
            37.1,
            38.1,
            39.93,
            39.94,
            38.53,
            38.85,
            39.78,
            38.13,
            38.78,
            39.59,
            37.65,
            39.37,
            39.87,
            39.07,
            39.47,
            38.44,
            39.54,
            39.8,
            39.93,
            38.67,
            37.78,
            39.82,
            38.33,
            39.3,
            37.23,
            39.37,
            40.37,
            37.4,
            40.55,
            39.08,
            40.24,
            37.35,
            38.49,
            40.33,
            38.1,
            39.28,
            40.68,
            39.19,
            38.06,
            38.27,
            40.05,
            37.67,
            40.7,
            37.82,
            40.98,
            39.5,
            38.74,
            40.16,
            40.17,
            40.11
           ],
           "legendgroup": "",
           "lon": [
            -104.81,
            -105.87,
            -104.81,
            -107.4,
            -102.57,
            -103.15,
            -105.27,
            -105.06,
            -106,
            -102.17,
            -105.6,
            -105.46,
            -107.93,
            -105.01,
            -108.82,
            -104.85,
            -106.7,
            -104.85,
            -103.95,
            -105.23,
            -107.33,
            -105.49,
            -105.79,
            -106.83,
            -105.17,
            -105.1,
            -103.33,
            -102.42,
            -107.59,
            -106.18,
            -105.52,
            -104.65,
            -103.27,
            -108.55,
            -109,
            -108.57,
            -107.87,
            -104.12,
            -103.51,
            -106.06,
            -102.17,
            -106.82,
            -102.31,
            -104.62,
            -107.89,
            -106.35,
            -106.92,
            -107.64,
            -102.26,
            -106.04,
            -105.17,
            -103.21,
            -105.11,
            -102.48
           ],
           "marker": {
            "color": [
             2013,
             2013,
             2013,
             2013,
             2013,
             2013,
             2013,
             2013,
             2013,
             2013,
             2013,
             2013,
             2013,
             2013,
             2013,
             2013,
             2013,
             2013,
             2013,
             2013,
             2013,
             2013,
             2013,
             2013,
             2013,
             2013,
             2013,
             2013,
             2013,
             2013,
             2013,
             2013,
             2013,
             2013,
             2013,
             2013,
             2013,
             2013,
             2013,
             2013,
             2013,
             2013,
             2013,
             2013,
             2013,
             2013,
             2013,
             2013,
             2013,
             2013,
             2013,
             2013,
             2013,
             2013
            ],
            "coloraxis": "coloraxis",
            "size": [
             1811,
             10,
             1490,
             8,
             10,
             2,
             911,
             232,
             25,
             2,
             13,
             3,
             29,
             878,
             2,
             615,
             215,
             976,
             30,
             48,
             114,
             13,
             6,
             58,
             1,
             1438,
             6,
             22,
             105,
             7,
             956,
             10,
             5,
             713,
             39,
             12,
             99,
             37,
             5,
             4,
             2,
             4,
             60,
             62,
             7,
             9,
             65,
             2,
             6,
             24,
             87,
             5,
             644,
             4
            ],
            "sizemode": "area",
            "sizeref": 10.82
           },
           "mode": "markers",
           "name": "",
           "showlegend": false,
           "subplot": "mapbox",
           "type": "scattermapbox"
          }
         ],
         "name": "2013"
        },
        {
         "data": [
          {
           "hovertemplate": "<b>%{hovertext}</b><br><br>Year=%{marker.color}<br>Total Crime=%{marker.size}<br>latitude=%{lat}<br>longtitude=%{lon}<extra></extra>",
           "hovertext": [
            "Adams",
            "Alamosa",
            "Arapahoe",
            "Archuleta",
            "Baca",
            "Boulder",
            "Broomfield",
            "Chaffee",
            "Cheyenne",
            "Clear Creek",
            "Costilla",
            "Custer",
            "Delta",
            "Denver",
            "Dolores",
            "Douglas",
            "Eagle",
            "El Paso",
            "Elbert",
            "Fremont",
            "Garfield",
            "Gilpin",
            "Grand",
            "Gunnison",
            "Huerfano",
            "Jefferson",
            "Kit Carson",
            "La Plata",
            "Lake",
            "Larimer",
            "Las Animas",
            "Logan",
            "Mesa",
            "Mineral",
            "Moffat",
            "Montezuma",
            "Montrose",
            "Morgan",
            "Otero",
            "Ouray",
            "Park",
            "Pitkin",
            "Prowers",
            "Pueblo",
            "Rio Blanco",
            "Rio Grande",
            "Routt",
            "Saguache",
            "Sedgwick",
            "Summit",
            "Teller",
            "Washington",
            "Weld"
           ],
           "ids": [
            "Adams",
            "Alamosa",
            "Arapahoe",
            "Archuleta",
            "Baca",
            "Boulder",
            "Broomfield",
            "Chaffee",
            "Cheyenne",
            "Clear Creek",
            "Costilla",
            "Custer",
            "Delta",
            "Denver",
            "Dolores",
            "Douglas",
            "Eagle",
            "El Paso",
            "Elbert",
            "Fremont",
            "Garfield",
            "Gilpin",
            "Grand",
            "Gunnison",
            "Huerfano",
            "Jefferson",
            "Kit Carson",
            "La Plata",
            "Lake",
            "Larimer",
            "Las Animas",
            "Logan",
            "Mesa",
            "Mineral",
            "Moffat",
            "Montezuma",
            "Montrose",
            "Morgan",
            "Otero",
            "Ouray",
            "Park",
            "Pitkin",
            "Prowers",
            "Pueblo",
            "Rio Blanco",
            "Rio Grande",
            "Routt",
            "Saguache",
            "Sedgwick",
            "Summit",
            "Teller",
            "Washington",
            "Weld"
           ],
           "lat": [
            39.69,
            37.46,
            39.69,
            37.02,
            37.1,
            39.93,
            39.94,
            38.53,
            38.85,
            39.78,
            37.43,
            38.13,
            38.78,
            39.59,
            37.65,
            39.37,
            39.87,
            39.07,
            39.47,
            38.44,
            39.54,
            39.8,
            39.93,
            38.67,
            37.78,
            39.82,
            39.3,
            37.23,
            39.37,
            40.37,
            37.4,
            40.55,
            39.08,
            37.85,
            40.24,
            37.35,
            38.49,
            40.33,
            38.1,
            38.08,
            39.28,
            39.19,
            38.06,
            38.27,
            40.05,
            37.67,
            40.7,
            37.75,
            40.98,
            39.5,
            38.74,
            40.16,
            40.17
           ],
           "legendgroup": "",
           "lon": [
            -104.81,
            -105.87,
            -104.81,
            -107.4,
            -102.57,
            -105.27,
            -105.06,
            -106,
            -102.17,
            -105.6,
            -105.51,
            -105.46,
            -107.93,
            -105.01,
            -108.82,
            -104.85,
            -106.7,
            -104.85,
            -103.95,
            -105.23,
            -107.33,
            -105.49,
            -105.79,
            -106.83,
            -105.17,
            -105.1,
            -102.42,
            -107.59,
            -106.18,
            -105.52,
            -104.65,
            -103.27,
            -108.55,
            -106.92,
            -109,
            -108.57,
            -107.87,
            -104.12,
            -103.51,
            -107.69,
            -106.06,
            -106.82,
            -102.31,
            -104.62,
            -107.89,
            -106.35,
            -106.92,
            -106.11,
            -102.26,
            -106.04,
            -105.17,
            -103.21,
            -105.11
           ],
           "marker": {
            "color": [
             2014,
             2014,
             2014,
             2014,
             2014,
             2014,
             2014,
             2014,
             2014,
             2014,
             2014,
             2014,
             2014,
             2014,
             2014,
             2014,
             2014,
             2014,
             2014,
             2014,
             2014,
             2014,
             2014,
             2014,
             2014,
             2014,
             2014,
             2014,
             2014,
             2014,
             2014,
             2014,
             2014,
             2014,
             2014,
             2014,
             2014,
             2014,
             2014,
             2014,
             2014,
             2014,
             2014,
             2014,
             2014,
             2014,
             2014,
             2014,
             2014,
             2014,
             2014,
             2014,
             2014
            ],
            "coloraxis": "coloraxis",
            "size": [
             1546,
             21,
             1714,
             15,
             2,
             757,
             221,
             36,
             1,
             15,
             2,
             5,
             14,
             1600,
             2,
             430,
             188,
             1121,
             30,
             42,
             98,
             9,
             9,
             59,
             8,
             1700,
             10,
             149,
             8,
             1013,
             3,
             37,
             743,
             2,
             40,
             23,
             83,
             60,
             11,
             7,
             8,
             24,
             61,
             62,
             30,
             3,
             105,
             4,
             2,
             16,
             60,
             2,
             669
            ],
            "sizemode": "area",
            "sizeref": 10.82
           },
           "mode": "markers",
           "name": "",
           "showlegend": false,
           "subplot": "mapbox",
           "type": "scattermapbox"
          }
         ],
         "name": "2014"
        },
        {
         "data": [
          {
           "hovertemplate": "<b>%{hovertext}</b><br><br>Year=%{marker.color}<br>Total Crime=%{marker.size}<br>latitude=%{lat}<br>longtitude=%{lon}<extra></extra>",
           "hovertext": [
            "Adams",
            "Alamosa",
            "Arapahoe",
            "Archuleta",
            "Baca",
            "Bent",
            "Boulder",
            "Broomfield",
            "Chaffee",
            "Clear Creek",
            "Crowley",
            "Custer",
            "Delta",
            "Denver",
            "Douglas",
            "Eagle",
            "El Paso",
            "Elbert",
            "Fremont",
            "Garfield",
            "Gilpin",
            "Grand",
            "Gunnison",
            "Huerfano",
            "Jefferson",
            "Kit Carson",
            "La Plata",
            "Larimer",
            "Las Animas",
            "Lincoln",
            "Logan",
            "Mesa",
            "Moffat",
            "Montezuma",
            "Montrose",
            "Morgan",
            "Otero",
            "Ouray",
            "Park",
            "Phillips",
            "Pitkin",
            "Prowers",
            "Pueblo",
            "Rio Blanco",
            "Rio Grande",
            "Routt",
            "Saguache",
            "San Miguel",
            "Summit",
            "Teller",
            "Washington",
            "Weld"
           ],
           "ids": [
            "Adams",
            "Alamosa",
            "Arapahoe",
            "Archuleta",
            "Baca",
            "Bent",
            "Boulder",
            "Broomfield",
            "Chaffee",
            "Clear Creek",
            "Crowley",
            "Custer",
            "Delta",
            "Denver",
            "Douglas",
            "Eagle",
            "El Paso",
            "Elbert",
            "Fremont",
            "Garfield",
            "Gilpin",
            "Grand",
            "Gunnison",
            "Huerfano",
            "Jefferson",
            "Kit Carson",
            "La Plata",
            "Larimer",
            "Las Animas",
            "Lincoln",
            "Logan",
            "Mesa",
            "Moffat",
            "Montezuma",
            "Montrose",
            "Morgan",
            "Otero",
            "Ouray",
            "Park",
            "Phillips",
            "Pitkin",
            "Prowers",
            "Pueblo",
            "Rio Blanco",
            "Rio Grande",
            "Routt",
            "Saguache",
            "San Miguel",
            "Summit",
            "Teller",
            "Washington",
            "Weld"
           ],
           "lat": [
            39.69,
            37.46,
            39.69,
            37.02,
            37.1,
            38.1,
            39.93,
            39.94,
            38.53,
            39.78,
            38.19,
            38.13,
            38.78,
            39.59,
            39.37,
            39.87,
            39.07,
            39.47,
            38.44,
            39.54,
            39.8,
            39.93,
            38.67,
            37.78,
            39.82,
            39.3,
            37.23,
            40.37,
            37.4,
            39.28,
            40.55,
            39.08,
            40.24,
            37.35,
            38.49,
            40.33,
            38.1,
            38.08,
            39.28,
            40.68,
            39.19,
            38.06,
            38.27,
            40.05,
            37.67,
            40.7,
            37.75,
            37.92,
            39.5,
            38.74,
            40.16,
            40.17
           ],
           "legendgroup": "",
           "lon": [
            -104.81,
            -105.87,
            -104.81,
            -107.4,
            -102.57,
            -103.15,
            -105.27,
            -105.06,
            -106,
            -105.6,
            -103.85,
            -105.46,
            -107.93,
            -105.01,
            -104.85,
            -106.7,
            -104.85,
            -103.95,
            -105.23,
            -107.33,
            -105.49,
            -105.79,
            -106.83,
            -105.17,
            -105.1,
            -102.42,
            -107.59,
            -105.52,
            -104.65,
            -103.27,
            -103.27,
            -108.55,
            -109,
            -108.57,
            -107.87,
            -104.12,
            -103.51,
            -107.69,
            -106.06,
            -102.17,
            -106.82,
            -102.31,
            -104.62,
            -107.89,
            -106.35,
            -106.92,
            -106.11,
            -108.93,
            -106.04,
            -105.17,
            -103.21,
            -105.11
           ],
           "marker": {
            "color": [
             2015,
             2015,
             2015,
             2015,
             2015,
             2015,
             2015,
             2015,
             2015,
             2015,
             2015,
             2015,
             2015,
             2015,
             2015,
             2015,
             2015,
             2015,
             2015,
             2015,
             2015,
             2015,
             2015,
             2015,
             2015,
             2015,
             2015,
             2015,
             2015,
             2015,
             2015,
             2015,
             2015,
             2015,
             2015,
             2015,
             2015,
             2015,
             2015,
             2015,
             2015,
             2015,
             2015,
             2015,
             2015,
             2015,
             2015,
             2015,
             2015,
             2015,
             2015,
             2015
            ],
            "coloraxis": "coloraxis",
            "size": [
             1429,
             39,
             1513,
             34,
             2,
             3,
             899,
             149,
             27,
             17,
             2,
             7,
             9,
             2103,
             512,
             212,
             952,
             13,
             27,
             166,
             9,
             3,
             81,
             11,
             1553,
             31,
             126,
             967,
             2,
             2,
             67,
             695,
             52,
             13,
             80,
             26,
             24,
             1,
             5,
             2,
             18,
             6,
             84,
             18,
             17,
             90,
             5,
             1,
             36,
             47,
             2,
             542
            ],
            "sizemode": "area",
            "sizeref": 10.82
           },
           "mode": "markers",
           "name": "",
           "showlegend": false,
           "subplot": "mapbox",
           "type": "scattermapbox"
          }
         ],
         "name": "2015"
        },
        {
         "data": [
          {
           "hovertemplate": "<b>%{hovertext}</b><br><br>Year=%{marker.color}<br>Total Crime=%{marker.size}<br>latitude=%{lat}<br>longtitude=%{lon}<extra></extra>",
           "hovertext": [
            "Adams",
            "Alamosa",
            "Arapahoe",
            "Archuleta",
            "Baca",
            "Bent",
            "Boulder",
            "Broomfield",
            "Chaffee",
            "Clear Creek",
            "Custer",
            "Delta",
            "Denver",
            "Dolores",
            "Douglas",
            "Eagle",
            "El Paso",
            "Elbert",
            "Fremont",
            "Garfield",
            "Gilpin",
            "Grand",
            "Gunnison",
            "Hinsdale",
            "Huerfano",
            "Jefferson",
            "Kit Carson",
            "La Plata",
            "Lake",
            "Larimer",
            "Lincoln",
            "Logan",
            "Mesa",
            "Moffat",
            "Montezuma",
            "Montrose",
            "Morgan",
            "Otero",
            "Park",
            "Phillips",
            "Pitkin",
            "Prowers",
            "Pueblo",
            "Rio Blanco",
            "Rio Grande",
            "Routt",
            "Saguache",
            "Summit",
            "Teller",
            "Washington",
            "Weld"
           ],
           "ids": [
            "Adams",
            "Alamosa",
            "Arapahoe",
            "Archuleta",
            "Baca",
            "Bent",
            "Boulder",
            "Broomfield",
            "Chaffee",
            "Clear Creek",
            "Custer",
            "Delta",
            "Denver",
            "Dolores",
            "Douglas",
            "Eagle",
            "El Paso",
            "Elbert",
            "Fremont",
            "Garfield",
            "Gilpin",
            "Grand",
            "Gunnison",
            "Hinsdale",
            "Huerfano",
            "Jefferson",
            "Kit Carson",
            "La Plata",
            "Lake",
            "Larimer",
            "Lincoln",
            "Logan",
            "Mesa",
            "Moffat",
            "Montezuma",
            "Montrose",
            "Morgan",
            "Otero",
            "Park",
            "Phillips",
            "Pitkin",
            "Prowers",
            "Pueblo",
            "Rio Blanco",
            "Rio Grande",
            "Routt",
            "Saguache",
            "Summit",
            "Teller",
            "Washington",
            "Weld"
           ],
           "lat": [
            39.69,
            37.46,
            39.69,
            37.02,
            37.1,
            38.1,
            39.93,
            39.94,
            38.53,
            39.78,
            38.13,
            38.78,
            39.59,
            37.65,
            39.37,
            39.87,
            39.07,
            39.47,
            38.44,
            39.54,
            39.8,
            39.93,
            38.67,
            38.07,
            37.78,
            39.82,
            39.3,
            37.23,
            39.37,
            40.37,
            39.28,
            40.55,
            39.08,
            40.24,
            37.35,
            38.49,
            40.33,
            38.1,
            39.28,
            40.68,
            39.19,
            38.06,
            38.27,
            40.05,
            37.67,
            40.7,
            37.75,
            39.5,
            38.74,
            40.16,
            40.17
           ],
           "legendgroup": "",
           "lon": [
            -104.81,
            -105.87,
            -104.81,
            -107.4,
            -102.57,
            -103.15,
            -105.27,
            -105.06,
            -106,
            -105.6,
            -105.46,
            -107.93,
            -105.01,
            -108.82,
            -104.85,
            -106.7,
            -104.85,
            -103.95,
            -105.23,
            -107.33,
            -105.49,
            -105.79,
            -106.83,
            -107.3,
            -105.17,
            -105.1,
            -102.42,
            -107.59,
            -106.18,
            -105.52,
            -103.27,
            -103.27,
            -108.55,
            -109,
            -108.57,
            -107.87,
            -104.12,
            -103.51,
            -106.06,
            -102.17,
            -106.82,
            -102.31,
            -104.62,
            -107.89,
            -106.35,
            -106.92,
            -106.11,
            -106.04,
            -105.17,
            -103.21,
            -105.11
           ],
           "marker": {
            "color": [
             2016,
             2016,
             2016,
             2016,
             2016,
             2016,
             2016,
             2016,
             2016,
             2016,
             2016,
             2016,
             2016,
             2016,
             2016,
             2016,
             2016,
             2016,
             2016,
             2016,
             2016,
             2016,
             2016,
             2016,
             2016,
             2016,
             2016,
             2016,
             2016,
             2016,
             2016,
             2016,
             2016,
             2016,
             2016,
             2016,
             2016,
             2016,
             2016,
             2016,
             2016,
             2016,
             2016,
             2016,
             2016,
             2016,
             2016,
             2016,
             2016,
             2016,
             2016
            ],
            "coloraxis": "coloraxis",
            "size": [
             1397,
             30,
             1408,
             21,
             3,
             1,
             1045,
             189,
             37,
             4,
             6,
             39,
             1192,
             1,
             566,
             168,
             1068,
             11,
             17,
             183,
             6,
             5,
             56,
             4,
             13,
             1576,
             18,
             119,
             4,
             1164,
             2,
             30,
             581,
             84,
             19,
             66,
             32,
             10,
             7,
             4,
             8,
             9,
             123,
             4,
             12,
             83,
             1,
             35,
             47,
             5,
             565
            ],
            "sizemode": "area",
            "sizeref": 10.82
           },
           "mode": "markers",
           "name": "",
           "showlegend": false,
           "subplot": "mapbox",
           "type": "scattermapbox"
          }
         ],
         "name": "2016"
        },
        {
         "data": [
          {
           "hovertemplate": "<b>%{hovertext}</b><br><br>Year=%{marker.color}<br>Total Crime=%{marker.size}<br>latitude=%{lat}<br>longtitude=%{lon}<extra></extra>",
           "hovertext": [
            "Adams",
            "Alamosa",
            "Arapahoe",
            "Archuleta",
            "Boulder",
            "Broomfield",
            "Chaffee",
            "Clear Creek",
            "Crowley",
            "Custer",
            "Delta",
            "Denver",
            "Dolores",
            "Douglas",
            "Eagle",
            "El Paso",
            "Elbert",
            "Fremont",
            "Garfield",
            "Gilpin",
            "Grand",
            "Gunnison",
            "Huerfano",
            "Jefferson",
            "Kit Carson",
            "La Plata",
            "Lake",
            "Larimer",
            "Las Animas",
            "Lincoln",
            "Logan",
            "Mesa",
            "Moffat",
            "Montezuma",
            "Montrose",
            "Morgan",
            "Otero",
            "Park",
            "Phillips",
            "Pitkin",
            "Prowers",
            "Pueblo",
            "Rio Blanco",
            "Rio Grande",
            "Routt",
            "Saguache",
            "Summit",
            "Teller",
            "Washington",
            "Weld"
           ],
           "ids": [
            "Adams",
            "Alamosa",
            "Arapahoe",
            "Archuleta",
            "Boulder",
            "Broomfield",
            "Chaffee",
            "Clear Creek",
            "Crowley",
            "Custer",
            "Delta",
            "Denver",
            "Dolores",
            "Douglas",
            "Eagle",
            "El Paso",
            "Elbert",
            "Fremont",
            "Garfield",
            "Gilpin",
            "Grand",
            "Gunnison",
            "Huerfano",
            "Jefferson",
            "Kit Carson",
            "La Plata",
            "Lake",
            "Larimer",
            "Las Animas",
            "Lincoln",
            "Logan",
            "Mesa",
            "Moffat",
            "Montezuma",
            "Montrose",
            "Morgan",
            "Otero",
            "Park",
            "Phillips",
            "Pitkin",
            "Prowers",
            "Pueblo",
            "Rio Blanco",
            "Rio Grande",
            "Routt",
            "Saguache",
            "Summit",
            "Teller",
            "Washington",
            "Weld"
           ],
           "lat": [
            39.69,
            37.46,
            39.69,
            37.02,
            39.93,
            39.94,
            38.53,
            39.78,
            38.19,
            38.13,
            38.78,
            39.59,
            37.65,
            39.37,
            39.87,
            39.07,
            39.47,
            38.44,
            39.54,
            39.8,
            39.93,
            38.67,
            37.78,
            39.82,
            39.3,
            37.23,
            39.37,
            40.37,
            37.4,
            39.28,
            40.55,
            39.08,
            40.24,
            37.35,
            38.49,
            40.33,
            38.1,
            39.28,
            40.68,
            39.19,
            38.06,
            38.27,
            40.05,
            37.67,
            40.7,
            37.75,
            39.5,
            38.74,
            40.16,
            40.17
           ],
           "legendgroup": "",
           "lon": [
            -104.81,
            -105.87,
            -104.81,
            -107.4,
            -105.27,
            -105.06,
            -106,
            -105.6,
            -103.85,
            -105.46,
            -107.93,
            -105.01,
            -108.82,
            -104.85,
            -106.7,
            -104.85,
            -103.95,
            -105.23,
            -107.33,
            -105.49,
            -105.79,
            -106.83,
            -105.17,
            -105.1,
            -102.42,
            -107.59,
            -106.18,
            -105.52,
            -104.65,
            -103.27,
            -103.27,
            -108.55,
            -109,
            -108.57,
            -107.87,
            -104.12,
            -103.51,
            -106.06,
            -102.17,
            -106.82,
            -102.31,
            -104.62,
            -107.89,
            -106.35,
            -106.92,
            -106.11,
            -106.04,
            -105.17,
            -103.21,
            -105.11
           ],
           "marker": {
            "color": [
             2017,
             2017,
             2017,
             2017,
             2017,
             2017,
             2017,
             2017,
             2017,
             2017,
             2017,
             2017,
             2017,
             2017,
             2017,
             2017,
             2017,
             2017,
             2017,
             2017,
             2017,
             2017,
             2017,
             2017,
             2017,
             2017,
             2017,
             2017,
             2017,
             2017,
             2017,
             2017,
             2017,
             2017,
             2017,
             2017,
             2017,
             2017,
             2017,
             2017,
             2017,
             2017,
             2017,
             2017,
             2017,
             2017,
             2017,
             2017,
             2017,
             2017
            ],
            "coloraxis": "coloraxis",
            "size": [
             1498,
             52,
             1226,
             9,
             1417,
             176,
             20,
             2,
             6,
             4,
             41,
             542,
             7,
             752,
             159,
             982,
             24,
             61,
             235,
             13,
             1,
             83,
             3,
             1601,
             21,
             150,
             3,
             1078,
             10,
             9,
             23,
             759,
             58,
             19,
             60,
             47,
             19,
             2,
             2,
             9,
             3,
             102,
             5,
             14,
             85,
             19,
             18,
             49,
             1,
             449
            ],
            "sizemode": "area",
            "sizeref": 10.82
           },
           "mode": "markers",
           "name": "",
           "showlegend": false,
           "subplot": "mapbox",
           "type": "scattermapbox"
          }
         ],
         "name": "2017"
        }
       ],
       "layout": {
        "coloraxis": {
         "colorbar": {
          "title": {
           "text": "Year"
          }
         },
         "colorscale": [
          [
           0,
           "#0d0887"
          ],
          [
           0.1111111111111111,
           "#46039f"
          ],
          [
           0.2222222222222222,
           "#7201a8"
          ],
          [
           0.3333333333333333,
           "#9c179e"
          ],
          [
           0.4444444444444444,
           "#bd3786"
          ],
          [
           0.5555555555555556,
           "#d8576b"
          ],
          [
           0.6666666666666666,
           "#ed7953"
          ],
          [
           0.7777777777777778,
           "#fb9f3a"
          ],
          [
           0.8888888888888888,
           "#fdca26"
          ],
          [
           1,
           "#f0f921"
          ]
         ],
         "showscale": false
        },
        "legend": {
         "itemsizing": "constant",
         "tracegroupgap": 0
        },
        "mapbox": {
         "center": {
          "lat": 39.024781250000025,
          "lon": -105.53196874999995
         },
         "domain": {
          "x": [
           0,
           1
          ],
          "y": [
           0,
           1
          ]
         },
         "style": "carto-positron",
         "zoom": 5
        },
        "sliders": [
         {
          "active": 0,
          "currentvalue": {
           "prefix": "Year="
          },
          "len": 0.9,
          "pad": {
           "b": 10,
           "t": 60
          },
          "steps": [
           {
            "args": [
             [
              "2012"
             ],
             {
              "frame": {
               "duration": 0,
               "redraw": true
              },
              "fromcurrent": true,
              "mode": "immediate",
              "transition": {
               "duration": 0,
               "easing": "linear"
              }
             }
            ],
            "label": "2012",
            "method": "animate"
           },
           {
            "args": [
             [
              "2013"
             ],
             {
              "frame": {
               "duration": 0,
               "redraw": true
              },
              "fromcurrent": true,
              "mode": "immediate",
              "transition": {
               "duration": 0,
               "easing": "linear"
              }
             }
            ],
            "label": "2013",
            "method": "animate"
           },
           {
            "args": [
             [
              "2014"
             ],
             {
              "frame": {
               "duration": 0,
               "redraw": true
              },
              "fromcurrent": true,
              "mode": "immediate",
              "transition": {
               "duration": 0,
               "easing": "linear"
              }
             }
            ],
            "label": "2014",
            "method": "animate"
           },
           {
            "args": [
             [
              "2015"
             ],
             {
              "frame": {
               "duration": 0,
               "redraw": true
              },
              "fromcurrent": true,
              "mode": "immediate",
              "transition": {
               "duration": 0,
               "easing": "linear"
              }
             }
            ],
            "label": "2015",
            "method": "animate"
           },
           {
            "args": [
             [
              "2016"
             ],
             {
              "frame": {
               "duration": 0,
               "redraw": true
              },
              "fromcurrent": true,
              "mode": "immediate",
              "transition": {
               "duration": 0,
               "easing": "linear"
              }
             }
            ],
            "label": "2016",
            "method": "animate"
           },
           {
            "args": [
             [
              "2017"
             ],
             {
              "frame": {
               "duration": 0,
               "redraw": true
              },
              "fromcurrent": true,
              "mode": "immediate",
              "transition": {
               "duration": 0,
               "easing": "linear"
              }
             }
            ],
            "label": "2017",
            "method": "animate"
           }
          ],
          "x": 0.1,
          "xanchor": "left",
          "y": 0,
          "yanchor": "top"
         }
        ],
        "template": {
         "data": {
          "bar": [
           {
            "error_x": {
             "color": "#2a3f5f"
            },
            "error_y": {
             "color": "#2a3f5f"
            },
            "marker": {
             "line": {
              "color": "#E5ECF6",
              "width": 0.5
             }
            },
            "type": "bar"
           }
          ],
          "barpolar": [
           {
            "marker": {
             "line": {
              "color": "#E5ECF6",
              "width": 0.5
             }
            },
            "type": "barpolar"
           }
          ],
          "carpet": [
           {
            "aaxis": {
             "endlinecolor": "#2a3f5f",
             "gridcolor": "white",
             "linecolor": "white",
             "minorgridcolor": "white",
             "startlinecolor": "#2a3f5f"
            },
            "baxis": {
             "endlinecolor": "#2a3f5f",
             "gridcolor": "white",
             "linecolor": "white",
             "minorgridcolor": "white",
             "startlinecolor": "#2a3f5f"
            },
            "type": "carpet"
           }
          ],
          "choropleth": [
           {
            "colorbar": {
             "outlinewidth": 0,
             "ticks": ""
            },
            "type": "choropleth"
           }
          ],
          "contour": [
           {
            "colorbar": {
             "outlinewidth": 0,
             "ticks": ""
            },
            "colorscale": [
             [
              0,
              "#0d0887"
             ],
             [
              0.1111111111111111,
              "#46039f"
             ],
             [
              0.2222222222222222,
              "#7201a8"
             ],
             [
              0.3333333333333333,
              "#9c179e"
             ],
             [
              0.4444444444444444,
              "#bd3786"
             ],
             [
              0.5555555555555556,
              "#d8576b"
             ],
             [
              0.6666666666666666,
              "#ed7953"
             ],
             [
              0.7777777777777778,
              "#fb9f3a"
             ],
             [
              0.8888888888888888,
              "#fdca26"
             ],
             [
              1,
              "#f0f921"
             ]
            ],
            "type": "contour"
           }
          ],
          "contourcarpet": [
           {
            "colorbar": {
             "outlinewidth": 0,
             "ticks": ""
            },
            "type": "contourcarpet"
           }
          ],
          "heatmap": [
           {
            "colorbar": {
             "outlinewidth": 0,
             "ticks": ""
            },
            "colorscale": [
             [
              0,
              "#0d0887"
             ],
             [
              0.1111111111111111,
              "#46039f"
             ],
             [
              0.2222222222222222,
              "#7201a8"
             ],
             [
              0.3333333333333333,
              "#9c179e"
             ],
             [
              0.4444444444444444,
              "#bd3786"
             ],
             [
              0.5555555555555556,
              "#d8576b"
             ],
             [
              0.6666666666666666,
              "#ed7953"
             ],
             [
              0.7777777777777778,
              "#fb9f3a"
             ],
             [
              0.8888888888888888,
              "#fdca26"
             ],
             [
              1,
              "#f0f921"
             ]
            ],
            "type": "heatmap"
           }
          ],
          "heatmapgl": [
           {
            "colorbar": {
             "outlinewidth": 0,
             "ticks": ""
            },
            "colorscale": [
             [
              0,
              "#0d0887"
             ],
             [
              0.1111111111111111,
              "#46039f"
             ],
             [
              0.2222222222222222,
              "#7201a8"
             ],
             [
              0.3333333333333333,
              "#9c179e"
             ],
             [
              0.4444444444444444,
              "#bd3786"
             ],
             [
              0.5555555555555556,
              "#d8576b"
             ],
             [
              0.6666666666666666,
              "#ed7953"
             ],
             [
              0.7777777777777778,
              "#fb9f3a"
             ],
             [
              0.8888888888888888,
              "#fdca26"
             ],
             [
              1,
              "#f0f921"
             ]
            ],
            "type": "heatmapgl"
           }
          ],
          "histogram": [
           {
            "marker": {
             "colorbar": {
              "outlinewidth": 0,
              "ticks": ""
             }
            },
            "type": "histogram"
           }
          ],
          "histogram2d": [
           {
            "colorbar": {
             "outlinewidth": 0,
             "ticks": ""
            },
            "colorscale": [
             [
              0,
              "#0d0887"
             ],
             [
              0.1111111111111111,
              "#46039f"
             ],
             [
              0.2222222222222222,
              "#7201a8"
             ],
             [
              0.3333333333333333,
              "#9c179e"
             ],
             [
              0.4444444444444444,
              "#bd3786"
             ],
             [
              0.5555555555555556,
              "#d8576b"
             ],
             [
              0.6666666666666666,
              "#ed7953"
             ],
             [
              0.7777777777777778,
              "#fb9f3a"
             ],
             [
              0.8888888888888888,
              "#fdca26"
             ],
             [
              1,
              "#f0f921"
             ]
            ],
            "type": "histogram2d"
           }
          ],
          "histogram2dcontour": [
           {
            "colorbar": {
             "outlinewidth": 0,
             "ticks": ""
            },
            "colorscale": [
             [
              0,
              "#0d0887"
             ],
             [
              0.1111111111111111,
              "#46039f"
             ],
             [
              0.2222222222222222,
              "#7201a8"
             ],
             [
              0.3333333333333333,
              "#9c179e"
             ],
             [
              0.4444444444444444,
              "#bd3786"
             ],
             [
              0.5555555555555556,
              "#d8576b"
             ],
             [
              0.6666666666666666,
              "#ed7953"
             ],
             [
              0.7777777777777778,
              "#fb9f3a"
             ],
             [
              0.8888888888888888,
              "#fdca26"
             ],
             [
              1,
              "#f0f921"
             ]
            ],
            "type": "histogram2dcontour"
           }
          ],
          "mesh3d": [
           {
            "colorbar": {
             "outlinewidth": 0,
             "ticks": ""
            },
            "type": "mesh3d"
           }
          ],
          "parcoords": [
           {
            "line": {
             "colorbar": {
              "outlinewidth": 0,
              "ticks": ""
             }
            },
            "type": "parcoords"
           }
          ],
          "pie": [
           {
            "automargin": true,
            "type": "pie"
           }
          ],
          "scatter": [
           {
            "marker": {
             "colorbar": {
              "outlinewidth": 0,
              "ticks": ""
             }
            },
            "type": "scatter"
           }
          ],
          "scatter3d": [
           {
            "line": {
             "colorbar": {
              "outlinewidth": 0,
              "ticks": ""
             }
            },
            "marker": {
             "colorbar": {
              "outlinewidth": 0,
              "ticks": ""
             }
            },
            "type": "scatter3d"
           }
          ],
          "scattercarpet": [
           {
            "marker": {
             "colorbar": {
              "outlinewidth": 0,
              "ticks": ""
             }
            },
            "type": "scattercarpet"
           }
          ],
          "scattergeo": [
           {
            "marker": {
             "colorbar": {
              "outlinewidth": 0,
              "ticks": ""
             }
            },
            "type": "scattergeo"
           }
          ],
          "scattergl": [
           {
            "marker": {
             "colorbar": {
              "outlinewidth": 0,
              "ticks": ""
             }
            },
            "type": "scattergl"
           }
          ],
          "scattermapbox": [
           {
            "marker": {
             "colorbar": {
              "outlinewidth": 0,
              "ticks": ""
             }
            },
            "type": "scattermapbox"
           }
          ],
          "scatterpolar": [
           {
            "marker": {
             "colorbar": {
              "outlinewidth": 0,
              "ticks": ""
             }
            },
            "type": "scatterpolar"
           }
          ],
          "scatterpolargl": [
           {
            "marker": {
             "colorbar": {
              "outlinewidth": 0,
              "ticks": ""
             }
            },
            "type": "scatterpolargl"
           }
          ],
          "scatterternary": [
           {
            "marker": {
             "colorbar": {
              "outlinewidth": 0,
              "ticks": ""
             }
            },
            "type": "scatterternary"
           }
          ],
          "surface": [
           {
            "colorbar": {
             "outlinewidth": 0,
             "ticks": ""
            },
            "colorscale": [
             [
              0,
              "#0d0887"
             ],
             [
              0.1111111111111111,
              "#46039f"
             ],
             [
              0.2222222222222222,
              "#7201a8"
             ],
             [
              0.3333333333333333,
              "#9c179e"
             ],
             [
              0.4444444444444444,
              "#bd3786"
             ],
             [
              0.5555555555555556,
              "#d8576b"
             ],
             [
              0.6666666666666666,
              "#ed7953"
             ],
             [
              0.7777777777777778,
              "#fb9f3a"
             ],
             [
              0.8888888888888888,
              "#fdca26"
             ],
             [
              1,
              "#f0f921"
             ]
            ],
            "type": "surface"
           }
          ],
          "table": [
           {
            "cells": {
             "fill": {
              "color": "#EBF0F8"
             },
             "line": {
              "color": "white"
             }
            },
            "header": {
             "fill": {
              "color": "#C8D4E3"
             },
             "line": {
              "color": "white"
             }
            },
            "type": "table"
           }
          ]
         },
         "layout": {
          "annotationdefaults": {
           "arrowcolor": "#2a3f5f",
           "arrowhead": 0,
           "arrowwidth": 1
          },
          "coloraxis": {
           "colorbar": {
            "outlinewidth": 0,
            "ticks": ""
           }
          },
          "colorscale": {
           "diverging": [
            [
             0,
             "#8e0152"
            ],
            [
             0.1,
             "#c51b7d"
            ],
            [
             0.2,
             "#de77ae"
            ],
            [
             0.3,
             "#f1b6da"
            ],
            [
             0.4,
             "#fde0ef"
            ],
            [
             0.5,
             "#f7f7f7"
            ],
            [
             0.6,
             "#e6f5d0"
            ],
            [
             0.7,
             "#b8e186"
            ],
            [
             0.8,
             "#7fbc41"
            ],
            [
             0.9,
             "#4d9221"
            ],
            [
             1,
             "#276419"
            ]
           ],
           "sequential": [
            [
             0,
             "#0d0887"
            ],
            [
             0.1111111111111111,
             "#46039f"
            ],
            [
             0.2222222222222222,
             "#7201a8"
            ],
            [
             0.3333333333333333,
             "#9c179e"
            ],
            [
             0.4444444444444444,
             "#bd3786"
            ],
            [
             0.5555555555555556,
             "#d8576b"
            ],
            [
             0.6666666666666666,
             "#ed7953"
            ],
            [
             0.7777777777777778,
             "#fb9f3a"
            ],
            [
             0.8888888888888888,
             "#fdca26"
            ],
            [
             1,
             "#f0f921"
            ]
           ],
           "sequentialminus": [
            [
             0,
             "#0d0887"
            ],
            [
             0.1111111111111111,
             "#46039f"
            ],
            [
             0.2222222222222222,
             "#7201a8"
            ],
            [
             0.3333333333333333,
             "#9c179e"
            ],
            [
             0.4444444444444444,
             "#bd3786"
            ],
            [
             0.5555555555555556,
             "#d8576b"
            ],
            [
             0.6666666666666666,
             "#ed7953"
            ],
            [
             0.7777777777777778,
             "#fb9f3a"
            ],
            [
             0.8888888888888888,
             "#fdca26"
            ],
            [
             1,
             "#f0f921"
            ]
           ]
          },
          "colorway": [
           "#636efa",
           "#EF553B",
           "#00cc96",
           "#ab63fa",
           "#FFA15A",
           "#19d3f3",
           "#FF6692",
           "#B6E880",
           "#FF97FF",
           "#FECB52"
          ],
          "font": {
           "color": "#2a3f5f"
          },
          "geo": {
           "bgcolor": "white",
           "lakecolor": "white",
           "landcolor": "#E5ECF6",
           "showlakes": true,
           "showland": true,
           "subunitcolor": "white"
          },
          "hoverlabel": {
           "align": "left"
          },
          "hovermode": "closest",
          "mapbox": {
           "style": "light"
          },
          "paper_bgcolor": "white",
          "plot_bgcolor": "#E5ECF6",
          "polar": {
           "angularaxis": {
            "gridcolor": "white",
            "linecolor": "white",
            "ticks": ""
           },
           "bgcolor": "#E5ECF6",
           "radialaxis": {
            "gridcolor": "white",
            "linecolor": "white",
            "ticks": ""
           }
          },
          "scene": {
           "xaxis": {
            "backgroundcolor": "#E5ECF6",
            "gridcolor": "white",
            "gridwidth": 2,
            "linecolor": "white",
            "showbackground": true,
            "ticks": "",
            "zerolinecolor": "white"
           },
           "yaxis": {
            "backgroundcolor": "#E5ECF6",
            "gridcolor": "white",
            "gridwidth": 2,
            "linecolor": "white",
            "showbackground": true,
            "ticks": "",
            "zerolinecolor": "white"
           },
           "zaxis": {
            "backgroundcolor": "#E5ECF6",
            "gridcolor": "white",
            "gridwidth": 2,
            "linecolor": "white",
            "showbackground": true,
            "ticks": "",
            "zerolinecolor": "white"
           }
          },
          "shapedefaults": {
           "line": {
            "color": "#2a3f5f"
           }
          },
          "ternary": {
           "aaxis": {
            "gridcolor": "white",
            "linecolor": "white",
            "ticks": ""
           },
           "baxis": {
            "gridcolor": "white",
            "linecolor": "white",
            "ticks": ""
           },
           "bgcolor": "#E5ECF6",
           "caxis": {
            "gridcolor": "white",
            "linecolor": "white",
            "ticks": ""
           }
          },
          "title": {
           "x": 0.05
          },
          "xaxis": {
           "automargin": true,
           "gridcolor": "white",
           "linecolor": "white",
           "ticks": "",
           "title": {
            "standoff": 15
           },
           "zerolinecolor": "white",
           "zerolinewidth": 2
          },
          "yaxis": {
           "automargin": true,
           "gridcolor": "white",
           "linecolor": "white",
           "ticks": "",
           "title": {
            "standoff": 15
           },
           "zerolinecolor": "white",
           "zerolinewidth": 2
          }
         }
        },
        "title": {
         "text": "Reported Offenses and Arrests Related to Marijuana by County"
        },
        "updatemenus": [
         {
          "buttons": [
           {
            "args": [
             null,
             {
              "frame": {
               "duration": 500,
               "redraw": true
              },
              "fromcurrent": true,
              "mode": "immediate",
              "transition": {
               "duration": 500,
               "easing": "linear"
              }
             }
            ],
            "label": "&#9654;",
            "method": "animate"
           },
           {
            "args": [
             [
              null
             ],
             {
              "frame": {
               "duration": 0,
               "redraw": true
              },
              "fromcurrent": true,
              "mode": "immediate",
              "transition": {
               "duration": 0,
               "easing": "linear"
              }
             }
            ],
            "label": "&#9724;",
            "method": "animate"
           }
          ],
          "direction": "left",
          "pad": {
           "r": 10,
           "t": 70
          },
          "showactive": false,
          "type": "buttons",
          "x": 0.1,
          "xanchor": "right",
          "y": 0,
          "yanchor": "top"
         }
        ]
       }
      }
     },
     "metadata": {}
    }
   ],
   "source": [
    "##PLOT WITH SLIDER\n",
    "\n",
    "mapbox_token = os.getenv(\"MAPBOX_API_KEY\")\n",
    "px.set_mapbox_access_token(mapbox_token)\n",
    "\n",
    "ArrestsPlotSlider = px.scatter_mapbox(Arrests, \n",
    "lat=\"latitude\", lon=\"longtitude\", \n",
    "size=\"Total Crime\", color=\"Year\", \n",
    "mapbox_style=\"carto-positron\",\n",
    "zoom=5,\n",
    "hover_name=\"County\",\n",
    "title=\"Reported Offenses and Arrests Related to Marijuana by County\",\n",
    "animation_frame=\"Year\", animation_group=\"County\"\n",
    ")\n",
    "\n",
    "#ArrestsPlot.layout.updatemenus[0].buttons[0].args[1][\"frame\"][\"duration\"] = 200\n",
    "#rrestsPlot.layout.updatemenus[0].buttons[0].args[1][\"transition\"][\"duration\"] = 200\n",
    "ArrestsPlotSlider.layout.coloraxis.showscale = False\n",
    "#ArrestsPlot.layout.sliders[0].pad.t = 10\n",
    "#ArrestsPlot.layout.updatemenus[0].pad.t= 50\n",
    "\n",
    "#ArrestsPlot.layout.coloraxis.showscale = False\n",
    "ArrestsPlotSlider.show()"
   ]
  },
  {
   "cell_type": "code",
   "execution_count": null,
   "metadata": {},
   "outputs": [],
   "source": []
  }
 ]
}