{
 "metadata": {
  "language_info": {
   "codemirror_mode": {
    "name": "ipython",
    "version": 3
   },
   "file_extension": ".py",
   "mimetype": "text/x-python",
   "name": "python",
   "nbconvert_exporter": "python",
   "pygments_lexer": "ipython3",
   "version": "3.7.7-final"
  },
  "orig_nbformat": 2,
  "kernelspec": {
   "name": "Python 3.7.7 64-bit ('pyvizenv3': conda)",
   "display_name": "Python 3.7.7 64-bit ('pyvizenv3': conda)",
   "metadata": {
    "interpreter": {
     "hash": "2548420f6680aedd74e3e2beb38ae873a37a41cd3aad112f0ad46785fbe9b2a9"
    }
   }
  }
 },
 "nbformat": 4,
 "nbformat_minor": 2,
 "cells": [
  {
   "cell_type": "code",
   "execution_count": 2,
   "metadata": {},
   "outputs": [],
   "source": [
    "import os\n",
    "import pandas as pd\n",
    "#import altair as alt\n",
    "#from vega_datasets import data\n",
    "#import pygal\n",
    "import matplotlib.pyplot as plt\n",
    "import plotly.express as px\n",
    "#import numpy as np\n",
    "import seaborn as sns\n",
    "%matplotlib inline\n"
   ]
  },
  {
   "cell_type": "code",
   "execution_count": null,
   "metadata": {},
   "outputs": [],
   "source": [
    "#TOTAL COLORADO GDP BY INDUSTRY\n",
    "#READING DATA\n",
    "DetailedGDP = pd.read_csv(\"../data/cleandata/COGDPDetailed.csv\")\n",
    "DetailedGDP.set_index(\"Description\", inplace=True)\n",
    "#DetailedGDP.head(10)\n",
    "\n",
    "\n",
    "DetailedGDP.T.plot.bar(stacked=True, figsize=(12,7), cmap=\"mako\")\n",
    "plt.suptitle('Colorado Gross Domestic Product by Industry', weight='bold')\n",
    "plt.ticklabel_format(style='plain', axis='y')"
   ]
  },
  {
   "cell_type": "code",
   "execution_count": null,
   "metadata": {},
   "outputs": [],
   "source": [
    "#TOTAL COLORADO GDP BY COUNTY\n",
    "TotalGDP = pd.read_csv(\"../data/cleandata/COGDPbyCounties-Totals.csv\")\n",
    "TotalGDP.set_index(\"Location\", inplace=True)\n",
    "TotalGDP = TotalGDP.transpose()\n",
    "#TotalGDP.head(10)\n",
    "\n",
    "TotalGDP.T.plot.bar(stacked=True, figsize=(12,7), cmap=\"mako\")\n",
    "plt.suptitle('Colorado Gross Domestic Product by County', weight='bold')\n",
    "plt.ticklabel_format(style='plain', axis='y')"
   ]
  },
  {
   "cell_type": "code",
   "execution_count": 3,
   "metadata": {},
   "outputs": [
    {
     "output_type": "execute_result",
     "data": {
      "text/plain": [
       "   Year    County  latitude  longtitude  Number of Arrests  \\\n",
       "0  2012     Adams     39.69     -104.81               2307   \n",
       "1  2012   Alamosa     37.46     -105.87                  2   \n",
       "2  2012  Arapahoe     39.69     -104.81               1469   \n",
       "\n",
       "   Number of Offenses  Total Crime  \n",
       "0                2021         4328  \n",
       "1                   2            4  \n",
       "2                1773         3242  "
      ],
      "text/html": "<div>\n<style scoped>\n    .dataframe tbody tr th:only-of-type {\n        vertical-align: middle;\n    }\n\n    .dataframe tbody tr th {\n        vertical-align: top;\n    }\n\n    .dataframe thead th {\n        text-align: right;\n    }\n</style>\n<table border=\"1\" class=\"dataframe\">\n  <thead>\n    <tr style=\"text-align: right;\">\n      <th></th>\n      <th>Year</th>\n      <th>County</th>\n      <th>latitude</th>\n      <th>longtitude</th>\n      <th>Number of Arrests</th>\n      <th>Number of Offenses</th>\n      <th>Total Crime</th>\n    </tr>\n  </thead>\n  <tbody>\n    <tr>\n      <th>0</th>\n      <td>2012</td>\n      <td>Adams</td>\n      <td>39.69</td>\n      <td>-104.81</td>\n      <td>2307</td>\n      <td>2021</td>\n      <td>4328</td>\n    </tr>\n    <tr>\n      <th>1</th>\n      <td>2012</td>\n      <td>Alamosa</td>\n      <td>37.46</td>\n      <td>-105.87</td>\n      <td>2</td>\n      <td>2</td>\n      <td>4</td>\n    </tr>\n    <tr>\n      <th>2</th>\n      <td>2012</td>\n      <td>Arapahoe</td>\n      <td>39.69</td>\n      <td>-104.81</td>\n      <td>1469</td>\n      <td>1773</td>\n      <td>3242</td>\n    </tr>\n  </tbody>\n</table>\n</div>"
     },
     "metadata": {},
     "execution_count": 3
    }
   ],
   "source": [
    "Arrests = pd.read_csv(\"../data/cleandata/FinalizedCrimeStats.csv\")\n",
    "#Arrests = Arrests.drop(columns=['Offense Type'])\n",
    "#Arrests = Arrests.groupby(['Year', 'County', 'latitude', 'longtitude']).sum()\n",
    "#Arrests['Total Crime'] = Arrests['Number of Arrests'] + Arrests['Number of Offenses']\n",
    "#Arrests.to_csv(\"../data/cleandata/FinalizedCrimeStats.csv\")\n",
    "\n",
    "Arrests.head(3)"
   ]
  },
  {
   "cell_type": "code",
   "execution_count": 32,
   "metadata": {},
   "outputs": [
    {
     "output_type": "display_data",
     "data": {
      "application/vnd.plotly.v1+json": {
       "config": {
        "plotlyServerURL": "https://plot.ly"
       },
       "data": [
        {
         "hovertemplate": "<b>%{hovertext}</b><br><br>Year=%{marker.color}<br>Total Crime=%{marker.size}<br>latitude=%{lat}<br>longtitude=%{lon}<extra></extra>",
         "hovertext": [
          "Adams",
          "Alamosa",
          "Arapahoe",
          "Archuleta",
          "Baca",
          "Bent",
          "Boulder",
          "Broomfield",
          "Chaffee",
          "Cheyenne",
          "Clear Creek",
          "Conejos",
          "Custer",
          "Delta",
          "Denver",
          "Douglas",
          "Eagle",
          "El Paso",
          "Elbert",
          "Fremont",
          "Garfield",
          "Gilpin",
          "Grand",
          "Gunnison",
          "Hinsdale",
          "Huerfano",
          "Jackson",
          "Jefferson",
          "Kiowa",
          "Kit Carson",
          "La Plata",
          "Lake",
          "Larimer",
          "Las Animas",
          "Lincoln",
          "Logan",
          "Mesa",
          "Moffat",
          "Montezuma",
          "Montrose",
          "Morgan",
          "Otero",
          "Ouray",
          "Park",
          "Phillips",
          "Pitkin",
          "Prowers",
          "Pueblo",
          "Rio Blanco",
          "Rio Grande",
          "Routt",
          "Saguache",
          "San Juan",
          "San Miguel",
          "Sedgwick",
          "Summit",
          "Teller",
          "Washington",
          "Weld",
          "Yuma"
         ],
         "ids": [
          "Adams",
          "Alamosa",
          "Arapahoe",
          "Archuleta",
          "Baca",
          "Bent",
          "Boulder",
          "Broomfield",
          "Chaffee",
          "Cheyenne",
          "Clear Creek",
          "Conejos",
          "Custer",
          "Delta",
          "Denver",
          "Douglas",
          "Eagle",
          "El Paso",
          "Elbert",
          "Fremont",
          "Garfield",
          "Gilpin",
          "Grand",
          "Gunnison",
          "Hinsdale",
          "Huerfano",
          "Jackson",
          "Jefferson",
          "Kiowa",
          "Kit Carson",
          "La Plata",
          "Lake",
          "Larimer",
          "Las Animas",
          "Lincoln",
          "Logan",
          "Mesa",
          "Moffat",
          "Montezuma",
          "Montrose",
          "Morgan",
          "Otero",
          "Ouray",
          "Park",
          "Phillips",
          "Pitkin",
          "Prowers",
          "Pueblo",
          "Rio Blanco",
          "Rio Grande",
          "Routt",
          "Saguache",
          "San Juan",
          "San Miguel",
          "Sedgwick",
          "Summit",
          "Teller",
          "Washington",
          "Weld",
          "Yuma"
         ],
         "lat": [
          39.69,
          37.46,
          39.69,
          37.02,
          37.1,
          38.1,
          39.93,
          39.94,
          38.53,
          38.85,
          39.78,
          37.07,
          38.13,
          38.78,
          39.59,
          39.37,
          39.87,
          39.07,
          39.47,
          38.44,
          39.54,
          39.8,
          39.93,
          38.67,
          38.07,
          37.78,
          40.57,
          39.82,
          38.33,
          39.3,
          37.23,
          39.37,
          40.37,
          37.4,
          39.28,
          40.55,
          39.08,
          40.24,
          37.35,
          38.49,
          40.33,
          38.1,
          38.08,
          39.28,
          40.68,
          39.19,
          38.06,
          38.27,
          40.05,
          37.67,
          40.7,
          37.75,
          37.82,
          37.92,
          40.98,
          39.5,
          38.74,
          40.16,
          40.17,
          40.11
         ],
         "legendgroup": "",
         "lon": [
          -104.81,
          -105.87,
          -104.81,
          -107.4,
          -102.57,
          -103.15,
          -105.27,
          -105.06,
          -106,
          -102.17,
          -105.6,
          -106.01,
          -105.46,
          -107.93,
          -105.01,
          -104.85,
          -106.7,
          -104.85,
          -103.95,
          -105.23,
          -107.33,
          -105.49,
          -105.79,
          -106.83,
          -107.3,
          -105.17,
          -106.43,
          -105.1,
          -103.33,
          -102.42,
          -107.59,
          -106.18,
          -105.52,
          -104.65,
          -103.27,
          -103.27,
          -108.55,
          -109,
          -108.57,
          -107.87,
          -104.12,
          -103.51,
          -107.69,
          -106.06,
          -102.17,
          -106.82,
          -102.31,
          -104.62,
          -107.89,
          -106.35,
          -106.92,
          -106.11,
          -107.64,
          -108.93,
          -102.26,
          -106.04,
          -105.17,
          -103.21,
          -105.11,
          -102.48
         ],
         "marker": {
          "color": [
           2012,
           2012,
           2012,
           2012,
           2012,
           2012,
           2012,
           2012,
           2012,
           2012,
           2012,
           2012,
           2012,
           2012,
           2012,
           2012,
           2012,
           2012,
           2012,
           2012,
           2012,
           2012,
           2012,
           2012,
           2012,
           2012,
           2012,
           2012,
           2012,
           2012,
           2012,
           2012,
           2012,
           2012,
           2012,
           2012,
           2012,
           2012,
           2012,
           2012,
           2012,
           2012,
           2012,
           2012,
           2012,
           2012,
           2012,
           2012,
           2012,
           2012,
           2012,
           2012,
           2012,
           2012,
           2012,
           2012,
           2012,
           2012,
           2012,
           2012
          ],
          "coloraxis": "coloraxis",
          "size": [
           4328,
           4,
           3242,
           29,
           33,
           1,
           1634,
           511,
           88,
           6,
           90,
           5,
           5,
           34,
           356,
           1016,
           499,
           1715,
           33,
           121,
           320,
           182,
           26,
           75,
           1,
           26,
           1,
           2776,
           2,
           36,
           118,
           49,
           2013,
           11,
           2,
           69,
           1123,
           178,
           140,
           260,
           109,
           36,
           1,
           21,
           5,
           31,
           160,
           80,
           44,
           55,
           169,
           20,
           1,
           7,
           2,
           144,
           104,
           39,
           1027,
           5
          ],
          "sizemode": "area",
          "sizeref": 10.82
         },
         "mode": "markers",
         "name": "",
         "showlegend": false,
         "subplot": "mapbox",
         "type": "scattermapbox"
        }
       ],
       "frames": [
        {
         "data": [
          {
           "hovertemplate": "<b>%{hovertext}</b><br><br>Year=%{marker.color}<br>Total Crime=%{marker.size}<br>latitude=%{lat}<br>longtitude=%{lon}<extra></extra>",
           "hovertext": [
            "Adams",
            "Alamosa",
            "Arapahoe",
            "Archuleta",
            "Baca",
            "Bent",
            "Boulder",
            "Broomfield",
            "Chaffee",
            "Cheyenne",
            "Clear Creek",
            "Conejos",
            "Custer",
            "Delta",
            "Denver",
            "Douglas",
            "Eagle",
            "El Paso",
            "Elbert",
            "Fremont",
            "Garfield",
            "Gilpin",
            "Grand",
            "Gunnison",
            "Hinsdale",
            "Huerfano",
            "Jackson",
            "Jefferson",
            "Kiowa",
            "Kit Carson",
            "La Plata",
            "Lake",
            "Larimer",
            "Las Animas",
            "Lincoln",
            "Logan",
            "Mesa",
            "Moffat",
            "Montezuma",
            "Montrose",
            "Morgan",
            "Otero",
            "Ouray",
            "Park",
            "Phillips",
            "Pitkin",
            "Prowers",
            "Pueblo",
            "Rio Blanco",
            "Rio Grande",
            "Routt",
            "Saguache",
            "San Juan",
            "San Miguel",
            "Sedgwick",
            "Summit",
            "Teller",
            "Washington",
            "Weld",
            "Yuma"
           ],
           "ids": [
            "Adams",
            "Alamosa",
            "Arapahoe",
            "Archuleta",
            "Baca",
            "Bent",
            "Boulder",
            "Broomfield",
            "Chaffee",
            "Cheyenne",
            "Clear Creek",
            "Conejos",
            "Custer",
            "Delta",
            "Denver",
            "Douglas",
            "Eagle",
            "El Paso",
            "Elbert",
            "Fremont",
            "Garfield",
            "Gilpin",
            "Grand",
            "Gunnison",
            "Hinsdale",
            "Huerfano",
            "Jackson",
            "Jefferson",
            "Kiowa",
            "Kit Carson",
            "La Plata",
            "Lake",
            "Larimer",
            "Las Animas",
            "Lincoln",
            "Logan",
            "Mesa",
            "Moffat",
            "Montezuma",
            "Montrose",
            "Morgan",
            "Otero",
            "Ouray",
            "Park",
            "Phillips",
            "Pitkin",
            "Prowers",
            "Pueblo",
            "Rio Blanco",
            "Rio Grande",
            "Routt",
            "Saguache",
            "San Juan",
            "San Miguel",
            "Sedgwick",
            "Summit",
            "Teller",
            "Washington",
            "Weld",
            "Yuma"
           ],
           "lat": [
            39.69,
            37.46,
            39.69,
            37.02,
            37.1,
            38.1,
            39.93,
            39.94,
            38.53,
            38.85,
            39.78,
            37.07,
            38.13,
            38.78,
            39.59,
            39.37,
            39.87,
            39.07,
            39.47,
            38.44,
            39.54,
            39.8,
            39.93,
            38.67,
            38.07,
            37.78,
            40.57,
            39.82,
            38.33,
            39.3,
            37.23,
            39.37,
            40.37,
            37.4,
            39.28,
            40.55,
            39.08,
            40.24,
            37.35,
            38.49,
            40.33,
            38.1,
            38.08,
            39.28,
            40.68,
            39.19,
            38.06,
            38.27,
            40.05,
            37.67,
            40.7,
            37.75,
            37.82,
            37.92,
            40.98,
            39.5,
            38.74,
            40.16,
            40.17,
            40.11
           ],
           "legendgroup": "",
           "lon": [
            -104.81,
            -105.87,
            -104.81,
            -107.4,
            -102.57,
            -103.15,
            -105.27,
            -105.06,
            -106,
            -102.17,
            -105.6,
            -106.01,
            -105.46,
            -107.93,
            -105.01,
            -104.85,
            -106.7,
            -104.85,
            -103.95,
            -105.23,
            -107.33,
            -105.49,
            -105.79,
            -106.83,
            -107.3,
            -105.17,
            -106.43,
            -105.1,
            -103.33,
            -102.42,
            -107.59,
            -106.18,
            -105.52,
            -104.65,
            -103.27,
            -103.27,
            -108.55,
            -109,
            -108.57,
            -107.87,
            -104.12,
            -103.51,
            -107.69,
            -106.06,
            -102.17,
            -106.82,
            -102.31,
            -104.62,
            -107.89,
            -106.35,
            -106.92,
            -106.11,
            -107.64,
            -108.93,
            -102.26,
            -106.04,
            -105.17,
            -103.21,
            -105.11,
            -102.48
           ],
           "marker": {
            "color": [
             2012,
             2012,
             2012,
             2012,
             2012,
             2012,
             2012,
             2012,
             2012,
             2012,
             2012,
             2012,
             2012,
             2012,
             2012,
             2012,
             2012,
             2012,
             2012,
             2012,
             2012,
             2012,
             2012,
             2012,
             2012,
             2012,
             2012,
             2012,
             2012,
             2012,
             2012,
             2012,
             2012,
             2012,
             2012,
             2012,
             2012,
             2012,
             2012,
             2012,
             2012,
             2012,
             2012,
             2012,
             2012,
             2012,
             2012,
             2012,
             2012,
             2012,
             2012,
             2012,
             2012,
             2012,
             2012,
             2012,
             2012,
             2012,
             2012,
             2012
            ],
            "coloraxis": "coloraxis",
            "size": [
             4328,
             4,
             3242,
             29,
             33,
             1,
             1634,
             511,
             88,
             6,
             90,
             5,
             5,
             34,
             356,
             1016,
             499,
             1715,
             33,
             121,
             320,
             182,
             26,
             75,
             1,
             26,
             1,
             2776,
             2,
             36,
             118,
             49,
             2013,
             11,
             2,
             69,
             1123,
             178,
             140,
             260,
             109,
             36,
             1,
             21,
             5,
             31,
             160,
             80,
             44,
             55,
             169,
             20,
             1,
             7,
             2,
             144,
             104,
             39,
             1027,
             5
            ],
            "sizemode": "area",
            "sizeref": 10.82
           },
           "mode": "markers",
           "name": "",
           "showlegend": false,
           "subplot": "mapbox",
           "type": "scattermapbox"
          }
         ],
         "name": "2012"
        },
        {
         "data": [
          {
           "hovertemplate": "<b>%{hovertext}</b><br><br>Year=%{marker.color}<br>Total Crime=%{marker.size}<br>latitude=%{lat}<br>longtitude=%{lon}<extra></extra>",
           "hovertext": [
            "Adams",
            "Alamosa",
            "Arapahoe",
            "Archuleta",
            "Baca",
            "Bent",
            "Boulder",
            "Broomfield",
            "Chaffee",
            "Cheyenne",
            "Clear Creek",
            "Custer",
            "Delta",
            "Denver",
            "Dolores",
            "Douglas",
            "Eagle",
            "El Paso",
            "Elbert",
            "Fremont",
            "Garfield",
            "Gilpin",
            "Grand",
            "Gunnison",
            "Huerfano",
            "Jefferson",
            "Kiowa",
            "Kit Carson",
            "La Plata",
            "Lake",
            "Larimer",
            "Las Animas",
            "Logan",
            "Mesa",
            "Moffat",
            "Montezuma",
            "Montrose",
            "Morgan",
            "Otero",
            "Park",
            "Phillips",
            "Pitkin",
            "Prowers",
            "Pueblo",
            "Rio Blanco",
            "Rio Grande",
            "Routt",
            "San Juan",
            "Sedgwick",
            "Summit",
            "Teller",
            "Washington",
            "Weld",
            "Yuma"
           ],
           "ids": [
            "Adams",
            "Alamosa",
            "Arapahoe",
            "Archuleta",
            "Baca",
            "Bent",
            "Boulder",
            "Broomfield",
            "Chaffee",
            "Cheyenne",
            "Clear Creek",
            "Custer",
            "Delta",
            "Denver",
            "Dolores",
            "Douglas",
            "Eagle",
            "El Paso",
            "Elbert",
            "Fremont",
            "Garfield",
            "Gilpin",
            "Grand",
            "Gunnison",
            "Huerfano",
            "Jefferson",
            "Kiowa",
            "Kit Carson",
            "La Plata",
            "Lake",
            "Larimer",
            "Las Animas",
            "Logan",
            "Mesa",
            "Moffat",
            "Montezuma",
            "Montrose",
            "Morgan",
            "Otero",
            "Park",
            "Phillips",
            "Pitkin",
            "Prowers",
            "Pueblo",
            "Rio Blanco",
            "Rio Grande",
            "Routt",
            "San Juan",
            "Sedgwick",
            "Summit",
            "Teller",
            "Washington",
            "Weld",
            "Yuma"
           ],
           "lat": [
            39.69,
            37.46,
            39.69,
            37.02,
            37.1,
            38.1,
            39.93,
            39.94,
            38.53,
            38.85,
            39.78,
            38.13,
            38.78,
            39.59,
            37.65,
            39.37,
            39.87,
            39.07,
            39.47,
            38.44,
            39.54,
            39.8,
            39.93,
            38.67,
            37.78,
            39.82,
            38.33,
            39.3,
            37.23,
            39.37,
            40.37,
            37.4,
            40.55,
            39.08,
            40.24,
            37.35,
            38.49,
            40.33,
            38.1,
            39.28,
            40.68,
            39.19,
            38.06,
            38.27,
            40.05,
            37.67,
            40.7,
            37.82,
            40.98,
            39.5,
            38.74,
            40.16,
            40.17,
            40.11
           ],
           "legendgroup": "",
           "lon": [
            -104.81,
            -105.87,
            -104.81,
            -107.4,
            -102.57,
            -103.15,
            -105.27,
            -105.06,
            -106,
            -102.17,
            -105.6,
            -105.46,
            -107.93,
            -105.01,
            -108.82,
            -104.85,
            -106.7,
            -104.85,
            -103.95,
            -105.23,
            -107.33,
            -105.49,
            -105.79,
            -106.83,
            -105.17,
            -105.1,
            -103.33,
            -102.42,
            -107.59,
            -106.18,
            -105.52,
            -104.65,
            -103.27,
            -108.55,
            -109,
            -108.57,
            -107.87,
            -104.12,
            -103.51,
            -106.06,
            -102.17,
            -106.82,
            -102.31,
            -104.62,
            -107.89,
            -106.35,
            -106.92,
            -107.64,
            -102.26,
            -106.04,
            -105.17,
            -103.21,
            -105.11,
            -102.48
           ],
           "marker": {
            "color": [
             2013,
             2013,
             2013,
             2013,
             2013,
             2013,
             2013,
             2013,
             2013,
             2013,
             2013,
             2013,
             2013,
             2013,
             2013,
             2013,
             2013,
             2013,
             2013,
             2013,
             2013,
             2013,
             2013,
             2013,
             2013,
             2013,
             2013,
             2013,
             2013,
             2013,
             2013,
             2013,
             2013,
             2013,
             2013,
             2013,
             2013,
             2013,
             2013,
             2013,
             2013,
             2013,
             2013,
             2013,
             2013,
             2013,
             2013,
             2013,
             2013,
             2013,
             2013,
             2013,
             2013,
             2013
            ],
            "coloraxis": "coloraxis",
            "size": [
             1811,
             10,
             1490,
             8,
             10,
             2,
             911,
             232,
             25,
             2,
             13,
             3,
             29,
             878,
             2,
             615,
             215,
             976,
             30,
             48,
             114,
             13,
             6,
             58,
             1,
             1438,
             6,
             22,
             105,
             7,
             956,
             10,
             5,
             713,
             39,
             12,
             99,
             37,
             5,
             4,
             2,
             4,
             60,
             62,
             7,
             9,
             65,
             2,
             6,
             24,
             87,
             5,
             644,
             4
            ],
            "sizemode": "area",
            "sizeref": 10.82
           },
           "mode": "markers",
           "name": "",
           "showlegend": false,
           "subplot": "mapbox",
           "type": "scattermapbox"
          }
         ],
         "name": "2013"
        },
        {
         "data": [
          {
           "hovertemplate": "<b>%{hovertext}</b><br><br>Year=%{marker.color}<br>Total Crime=%{marker.size}<br>latitude=%{lat}<br>longtitude=%{lon}<extra></extra>",
           "hovertext": [
            "Adams",
            "Alamosa",
            "Arapahoe",
            "Archuleta",
            "Baca",
            "Boulder",
            "Broomfield",
            "Chaffee",
            "Cheyenne",
            "Clear Creek",
            "Costilla",
            "Custer",
            "Delta",
            "Denver",
            "Dolores",
            "Douglas",
            "Eagle",
            "El Paso",
            "Elbert",
            "Fremont",
            "Garfield",
            "Gilpin",
            "Grand",
            "Gunnison",
            "Huerfano",
            "Jefferson",
            "Kit Carson",
            "La Plata",
            "Lake",
            "Larimer",
            "Las Animas",
            "Logan",
            "Mesa",
            "Mineral",
            "Moffat",
            "Montezuma",
            "Montrose",
            "Morgan",
            "Otero",
            "Ouray",
            "Park",
            "Pitkin",
            "Prowers",
            "Pueblo",
            "Rio Blanco",
            "Rio Grande",
            "Routt",
            "Saguache",
            "Sedgwick",
            "Summit",
            "Teller",
            "Washington",
            "Weld"
           ],
           "ids": [
            "Adams",
            "Alamosa",
            "Arapahoe",
            "Archuleta",
            "Baca",
            "Boulder",
            "Broomfield",
            "Chaffee",
            "Cheyenne",
            "Clear Creek",
            "Costilla",
            "Custer",
            "Delta",
            "Denver",
            "Dolores",
            "Douglas",
            "Eagle",
            "El Paso",
            "Elbert",
            "Fremont",
            "Garfield",
            "Gilpin",
            "Grand",
            "Gunnison",
            "Huerfano",
            "Jefferson",
            "Kit Carson",
            "La Plata",
            "Lake",
            "Larimer",
            "Las Animas",
            "Logan",
            "Mesa",
            "Mineral",
            "Moffat",
            "Montezuma",
            "Montrose",
            "Morgan",
            "Otero",
            "Ouray",
            "Park",
            "Pitkin",
            "Prowers",
            "Pueblo",
            "Rio Blanco",
            "Rio Grande",
            "Routt",
            "Saguache",
            "Sedgwick",
            "Summit",
            "Teller",
            "Washington",
            "Weld"
           ],
           "lat": [
            39.69,
            37.46,
            39.69,
            37.02,
            37.1,
            39.93,
            39.94,
            38.53,
            38.85,
            39.78,
            37.43,
            38.13,
            38.78,
            39.59,
            37.65,
            39.37,
            39.87,
            39.07,
            39.47,
            38.44,
            39.54,
            39.8,
            39.93,
            38.67,
            37.78,
            39.82,
            39.3,
            37.23,
            39.37,
            40.37,
            37.4,
            40.55,
            39.08,
            37.85,
            40.24,
            37.35,
            38.49,
            40.33,
            38.1,
            38.08,
            39.28,
            39.19,
            38.06,
            38.27,
            40.05,
            37.67,
            40.7,
            37.75,
            40.98,
            39.5,
            38.74,
            40.16,
            40.17
           ],
           "legendgroup": "",
           "lon": [
            -104.81,
            -105.87,
            -104.81,
            -107.4,
            -102.57,
            -105.27,
            -105.06,
            -106,
            -102.17,
            -105.6,
            -105.51,
            -105.46,
            -107.93,
            -105.01,
            -108.82,
            -104.85,
            -106.7,
            -104.85,
            -103.95,
            -105.23,
            -107.33,
            -105.49,
            -105.79,
            -106.83,
            -105.17,
            -105.1,
            -102.42,
            -107.59,
            -106.18,
            -105.52,
            -104.65,
            -103.27,
            -108.55,
            -106.92,
            -109,
            -108.57,
            -107.87,
            -104.12,
            -103.51,
            -107.69,
            -106.06,
            -106.82,
            -102.31,
            -104.62,
            -107.89,
            -106.35,
            -106.92,
            -106.11,
            -102.26,
            -106.04,
            -105.17,
            -103.21,
            -105.11
           ],
           "marker": {
            "color": [
             2014,
             2014,
             2014,
             2014,
             2014,
             2014,
             2014,
             2014,
             2014,
             2014,
             2014,
             2014,
             2014,
             2014,
             2014,
             2014,
             2014,
             2014,
             2014,
             2014,
             2014,
             2014,
             2014,
             2014,
             2014,
             2014,
             2014,
             2014,
             2014,
             2014,
             2014,
             2014,
             2014,
             2014,
             2014,
             2014,
             2014,
             2014,
             2014,
             2014,
             2014,
             2014,
             2014,
             2014,
             2014,
             2014,
             2014,
             2014,
             2014,
             2014,
             2014,
             2014,
             2014
            ],
            "coloraxis": "coloraxis",
            "size": [
             1546,
             21,
             1714,
             15,
             2,
             757,
             221,
             36,
             1,
             15,
             2,
             5,
             14,
             1600,
             2,
             430,
             188,
             1121,
             30,
             42,
             98,
             9,
             9,
             59,
             8,
             1700,
             10,
             149,
             8,
             1013,
             3,
             37,
             743,
             2,
             40,
             23,
             83,
             60,
             11,
             7,
             8,
             24,
             61,
             62,
             30,
             3,
             105,
             4,
             2,
             16,
             60,
             2,
             669
            ],
            "sizemode": "area",
            "sizeref": 10.82
           },
           "mode": "markers",
           "name": "",
           "showlegend": false,
           "subplot": "mapbox",
           "type": "scattermapbox"
          }
         ],
         "name": "2014"
        },
        {
         "data": [
          {
           "hovertemplate": "<b>%{hovertext}</b><br><br>Year=%{marker.color}<br>Total Crime=%{marker.size}<br>latitude=%{lat}<br>longtitude=%{lon}<extra></extra>",
           "hovertext": [
            "Adams",
            "Alamosa",
            "Arapahoe",
            "Archuleta",
            "Baca",
            "Bent",
            "Boulder",
            "Broomfield",
            "Chaffee",
            "Clear Creek",
            "Crowley",
            "Custer",
            "Delta",
            "Denver",
            "Douglas",
            "Eagle",
            "El Paso",
            "Elbert",
            "Fremont",
            "Garfield",
            "Gilpin",
            "Grand",
            "Gunnison",
            "Huerfano",
            "Jefferson",
            "Kit Carson",
            "La Plata",
            "Larimer",
            "Las Animas",
            "Lincoln",
            "Logan",
            "Mesa",
            "Moffat",
            "Montezuma",
            "Montrose",
            "Morgan",
            "Otero",
            "Ouray",
            "Park",
            "Phillips",
            "Pitkin",
            "Prowers",
            "Pueblo",
            "Rio Blanco",
            "Rio Grande",
            "Routt",
            "Saguache",
            "San Miguel",
            "Summit",
            "Teller",
            "Washington",
            "Weld"
           ],
           "ids": [
            "Adams",
            "Alamosa",
            "Arapahoe",
            "Archuleta",
            "Baca",
            "Bent",
            "Boulder",
            "Broomfield",
            "Chaffee",
            "Clear Creek",
            "Crowley",
            "Custer",
            "Delta",
            "Denver",
            "Douglas",
            "Eagle",
            "El Paso",
            "Elbert",
            "Fremont",
            "Garfield",
            "Gilpin",
            "Grand",
            "Gunnison",
            "Huerfano",
            "Jefferson",
            "Kit Carson",
            "La Plata",
            "Larimer",
            "Las Animas",
            "Lincoln",
            "Logan",
            "Mesa",
            "Moffat",
            "Montezuma",
            "Montrose",
            "Morgan",
            "Otero",
            "Ouray",
            "Park",
            "Phillips",
            "Pitkin",
            "Prowers",
            "Pueblo",
            "Rio Blanco",
            "Rio Grande",
            "Routt",
            "Saguache",
            "San Miguel",
            "Summit",
            "Teller",
            "Washington",
            "Weld"
           ],
           "lat": [
            39.69,
            37.46,
            39.69,
            37.02,
            37.1,
            38.1,
            39.93,
            39.94,
            38.53,
            39.78,
            38.19,
            38.13,
            38.78,
            39.59,
            39.37,
            39.87,
            39.07,
            39.47,
            38.44,
            39.54,
            39.8,
            39.93,
            38.67,
            37.78,
            39.82,
            39.3,
            37.23,
            40.37,
            37.4,
            39.28,
            40.55,
            39.08,
            40.24,
            37.35,
            38.49,
            40.33,
            38.1,
            38.08,
            39.28,
            40.68,
            39.19,
            38.06,
            38.27,
            40.05,
            37.67,
            40.7,
            37.75,
            37.92,
            39.5,
            38.74,
            40.16,
            40.17
           ],
           "legendgroup": "",
           "lon": [
            -104.81,
            -105.87,
            -104.81,
            -107.4,
            -102.57,
            -103.15,
            -105.27,
            -105.06,
            -106,
            -105.6,
            -103.85,
            -105.46,
            -107.93,
            -105.01,
            -104.85,
            -106.7,
            -104.85,
            -103.95,
            -105.23,
            -107.33,
            -105.49,
            -105.79,
            -106.83,
            -105.17,
            -105.1,
            -102.42,
            -107.59,
            -105.52,
            -104.65,
            -103.27,
            -103.27,
            -108.55,
            -109,
            -108.57,
            -107.87,
            -104.12,
            -103.51,
            -107.69,
            -106.06,
            -102.17,
            -106.82,
            -102.31,
            -104.62,
            -107.89,
            -106.35,
            -106.92,
            -106.11,
            -108.93,
            -106.04,
            -105.17,
            -103.21,
            -105.11
           ],
           "marker": {
            "color": [
             2015,
             2015,
             2015,
             2015,
             2015,
             2015,
             2015,
             2015,
             2015,
             2015,
             2015,
             2015,
             2015,
             2015,
             2015,
             2015,
             2015,
             2015,
             2015,
             2015,
             2015,
             2015,
             2015,
             2015,
             2015,
             2015,
             2015,
             2015,
             2015,
             2015,
             2015,
             2015,
             2015,
             2015,
             2015,
             2015,
             2015,
             2015,
             2015,
             2015,
             2015,
             2015,
             2015,
             2015,
             2015,
             2015,
             2015,
             2015,
             2015,
             2015,
             2015,
             2015
            ],
            "coloraxis": "coloraxis",
            "size": [
             1429,
             39,
             1513,
             34,
             2,
             3,
             899,
             149,
             27,
             17,
             2,
             7,
             9,
             2103,
             512,
             212,
             952,
             13,
             27,
             166,
             9,
             3,
             81,
             11,
             1553,
             31,
             126,
             967,
             2,
             2,
             67,
             695,
             52,
             13,
             80,
             26,
             24,
             1,
             5,
             2,
             18,
             6,
             84,
             18,
             17,
             90,
             5,
             1,
             36,
             47,
             2,
             542
            ],
            "sizemode": "area",
            "sizeref": 10.82
           },
           "mode": "markers",
           "name": "",
           "showlegend": false,
           "subplot": "mapbox",
           "type": "scattermapbox"
          }
         ],
         "name": "2015"
        },
        {
         "data": [
          {
           "hovertemplate": "<b>%{hovertext}</b><br><br>Year=%{marker.color}<br>Total Crime=%{marker.size}<br>latitude=%{lat}<br>longtitude=%{lon}<extra></extra>",
           "hovertext": [
            "Adams",
            "Alamosa",
            "Arapahoe",
            "Archuleta",
            "Baca",
            "Bent",
            "Boulder",
            "Broomfield",
            "Chaffee",
            "Clear Creek",
            "Custer",
            "Delta",
            "Denver",
            "Dolores",
            "Douglas",
            "Eagle",
            "El Paso",
            "Elbert",
            "Fremont",
            "Garfield",
            "Gilpin",
            "Grand",
            "Gunnison",
            "Hinsdale",
            "Huerfano",
            "Jefferson",
            "Kit Carson",
            "La Plata",
            "Lake",
            "Larimer",
            "Lincoln",
            "Logan",
            "Mesa",
            "Moffat",
            "Montezuma",
            "Montrose",
            "Morgan",
            "Otero",
            "Park",
            "Phillips",
            "Pitkin",
            "Prowers",
            "Pueblo",
            "Rio Blanco",
            "Rio Grande",
            "Routt",
            "Saguache",
            "Summit",
            "Teller",
            "Washington",
            "Weld"
           ],
           "ids": [
            "Adams",
            "Alamosa",
            "Arapahoe",
            "Archuleta",
            "Baca",
            "Bent",
            "Boulder",
            "Broomfield",
            "Chaffee",
            "Clear Creek",
            "Custer",
            "Delta",
            "Denver",
            "Dolores",
            "Douglas",
            "Eagle",
            "El Paso",
            "Elbert",
            "Fremont",
            "Garfield",
            "Gilpin",
            "Grand",
            "Gunnison",
            "Hinsdale",
            "Huerfano",
            "Jefferson",
            "Kit Carson",
            "La Plata",
            "Lake",
            "Larimer",
            "Lincoln",
            "Logan",
            "Mesa",
            "Moffat",
            "Montezuma",
            "Montrose",
            "Morgan",
            "Otero",
            "Park",
            "Phillips",
            "Pitkin",
            "Prowers",
            "Pueblo",
            "Rio Blanco",
            "Rio Grande",
            "Routt",
            "Saguache",
            "Summit",
            "Teller",
            "Washington",
            "Weld"
           ],
           "lat": [
            39.69,
            37.46,
            39.69,
            37.02,
            37.1,
            38.1,
            39.93,
            39.94,
            38.53,
            39.78,
            38.13,
            38.78,
            39.59,
            37.65,
            39.37,
            39.87,
            39.07,
            39.47,
            38.44,
            39.54,
            39.8,
            39.93,
            38.67,
            38.07,
            37.78,
            39.82,
            39.3,
            37.23,
            39.37,
            40.37,
            39.28,
            40.55,
            39.08,
            40.24,
            37.35,
            38.49,
            40.33,
            38.1,
            39.28,
            40.68,
            39.19,
            38.06,
            38.27,
            40.05,
            37.67,
            40.7,
            37.75,
            39.5,
            38.74,
            40.16,
            40.17
           ],
           "legendgroup": "",
           "lon": [
            -104.81,
            -105.87,
            -104.81,
            -107.4,
            -102.57,
            -103.15,
            -105.27,
            -105.06,
            -106,
            -105.6,
            -105.46,
            -107.93,
            -105.01,
            -108.82,
            -104.85,
            -106.7,
            -104.85,
            -103.95,
            -105.23,
            -107.33,
            -105.49,
            -105.79,
            -106.83,
            -107.3,
            -105.17,
            -105.1,
            -102.42,
            -107.59,
            -106.18,
            -105.52,
            -103.27,
            -103.27,
            -108.55,
            -109,
            -108.57,
            -107.87,
            -104.12,
            -103.51,
            -106.06,
            -102.17,
            -106.82,
            -102.31,
            -104.62,
            -107.89,
            -106.35,
            -106.92,
            -106.11,
            -106.04,
            -105.17,
            -103.21,
            -105.11
           ],
           "marker": {
            "color": [
             2016,
             2016,
             2016,
             2016,
             2016,
             2016,
             2016,
             2016,
             2016,
             2016,
             2016,
             2016,
             2016,
             2016,
             2016,
             2016,
             2016,
             2016,
             2016,
             2016,
             2016,
             2016,
             2016,
             2016,
             2016,
             2016,
             2016,
             2016,
             2016,
             2016,
             2016,
             2016,
             2016,
             2016,
             2016,
             2016,
             2016,
             2016,
             2016,
             2016,
             2016,
             2016,
             2016,
             2016,
             2016,
             2016,
             2016,
             2016,
             2016,
             2016,
             2016
            ],
            "coloraxis": "coloraxis",
            "size": [
             1397,
             30,
             1408,
             21,
             3,
             1,
             1045,
             189,
             37,
             4,
             6,
             39,
             1192,
             1,
             566,
             168,
             1068,
             11,
             17,
             183,
             6,
             5,
             56,
             4,
             13,
             1576,
             18,
             119,
             4,
             1164,
             2,
             30,
             581,
             84,
             19,
             66,
             32,
             10,
             7,
             4,
             8,
             9,
             123,
             4,
             12,
             83,
             1,
             35,
             47,
             5,
             565
            ],
            "sizemode": "area",
            "sizeref": 10.82
           },
           "mode": "markers",
           "name": "",
           "showlegend": false,
           "subplot": "mapbox",
           "type": "scattermapbox"
          }
         ],
         "name": "2016"
        },
        {
         "data": [
          {
           "hovertemplate": "<b>%{hovertext}</b><br><br>Year=%{marker.color}<br>Total Crime=%{marker.size}<br>latitude=%{lat}<br>longtitude=%{lon}<extra></extra>",
           "hovertext": [
            "Adams",
            "Alamosa",
            "Arapahoe",
            "Archuleta",
            "Boulder",
            "Broomfield",
            "Chaffee",
            "Clear Creek",
            "Crowley",
            "Custer",
            "Delta",
            "Denver",
            "Dolores",
            "Douglas",
            "Eagle",
            "El Paso",
            "Elbert",
            "Fremont",
            "Garfield",
            "Gilpin",
            "Grand",
            "Gunnison",
            "Huerfano",
            "Jefferson",
            "Kit Carson",
            "La Plata",
            "Lake",
            "Larimer",
            "Las Animas",
            "Lincoln",
            "Logan",
            "Mesa",
            "Moffat",
            "Montezuma",
            "Montrose",
            "Morgan",
            "Otero",
            "Park",
            "Phillips",
            "Pitkin",
            "Prowers",
            "Pueblo",
            "Rio Blanco",
            "Rio Grande",
            "Routt",
            "Saguache",
            "Summit",
            "Teller",
            "Washington",
            "Weld"
           ],
           "ids": [
            "Adams",
            "Alamosa",
            "Arapahoe",
            "Archuleta",
            "Boulder",
            "Broomfield",
            "Chaffee",
            "Clear Creek",
            "Crowley",
            "Custer",
            "Delta",
            "Denver",
            "Dolores",
            "Douglas",
            "Eagle",
            "El Paso",
            "Elbert",
            "Fremont",
            "Garfield",
            "Gilpin",
            "Grand",
            "Gunnison",
            "Huerfano",
            "Jefferson",
            "Kit Carson",
            "La Plata",
            "Lake",
            "Larimer",
            "Las Animas",
            "Lincoln",
            "Logan",
            "Mesa",
            "Moffat",
            "Montezuma",
            "Montrose",
            "Morgan",
            "Otero",
            "Park",
            "Phillips",
            "Pitkin",
            "Prowers",
            "Pueblo",
            "Rio Blanco",
            "Rio Grande",
            "Routt",
            "Saguache",
            "Summit",
            "Teller",
            "Washington",
            "Weld"
           ],
           "lat": [
            39.69,
            37.46,
            39.69,
            37.02,
            39.93,
            39.94,
            38.53,
            39.78,
            38.19,
            38.13,
            38.78,
            39.59,
            37.65,
            39.37,
            39.87,
            39.07,
            39.47,
            38.44,
            39.54,
            39.8,
            39.93,
            38.67,
            37.78,
            39.82,
            39.3,
            37.23,
            39.37,
            40.37,
            37.4,
            39.28,
            40.55,
            39.08,
            40.24,
            37.35,
            38.49,
            40.33,
            38.1,
            39.28,
            40.68,
            39.19,
            38.06,
            38.27,
            40.05,
            37.67,
            40.7,
            37.75,
            39.5,
            38.74,
            40.16,
            40.17
           ],
           "legendgroup": "",
           "lon": [
            -104.81,
            -105.87,
            -104.81,
            -107.4,
            -105.27,
            -105.06,
            -106,
            -105.6,
            -103.85,
            -105.46,
            -107.93,
            -105.01,
            -108.82,
            -104.85,
            -106.7,
            -104.85,
            -103.95,
            -105.23,
            -107.33,
            -105.49,
            -105.79,
            -106.83,
            -105.17,
            -105.1,
            -102.42,
            -107.59,
            -106.18,
            -105.52,
            -104.65,
            -103.27,
            -103.27,
            -108.55,
            -109,
            -108.57,
            -107.87,
            -104.12,
            -103.51,
            -106.06,
            -102.17,
            -106.82,
            -102.31,
            -104.62,
            -107.89,
            -106.35,
            -106.92,
            -106.11,
            -106.04,
            -105.17,
            -103.21,
            -105.11
           ],
           "marker": {
            "color": [
             2017,
             2017,
             2017,
             2017,
             2017,
             2017,
             2017,
             2017,
             2017,
             2017,
             2017,
             2017,
             2017,
             2017,
             2017,
             2017,
             2017,
             2017,
             2017,
             2017,
             2017,
             2017,
             2017,
             2017,
             2017,
             2017,
             2017,
             2017,
             2017,
             2017,
             2017,
             2017,
             2017,
             2017,
             2017,
             2017,
             2017,
             2017,
             2017,
             2017,
             2017,
             2017,
             2017,
             2017,
             2017,
             2017,
             2017,
             2017,
             2017,
             2017
            ],
            "coloraxis": "coloraxis",
            "size": [
             1498,
             52,
             1226,
             9,
             1417,
             176,
             20,
             2,
             6,
             4,
             41,
             542,
             7,
             752,
             159,
             982,
             24,
             61,
             235,
             13,
             1,
             83,
             3,
             1601,
             21,
             150,
             3,
             1078,
             10,
             9,
             23,
             759,
             58,
             19,
             60,
             47,
             19,
             2,
             2,
             9,
             3,
             102,
             5,
             14,
             85,
             19,
             18,
             49,
             1,
             449
            ],
            "sizemode": "area",
            "sizeref": 10.82
           },
           "mode": "markers",
           "name": "",
           "showlegend": false,
           "subplot": "mapbox",
           "type": "scattermapbox"
          }
         ],
         "name": "2017"
        }
       ],
       "layout": {
        "coloraxis": {
         "colorbar": {
          "title": {
           "text": "Year"
          }
         },
         "colorscale": [
          [
           0,
           "#0d0887"
          ],
          [
           0.1111111111111111,
           "#46039f"
          ],
          [
           0.2222222222222222,
           "#7201a8"
          ],
          [
           0.3333333333333333,
           "#9c179e"
          ],
          [
           0.4444444444444444,
           "#bd3786"
          ],
          [
           0.5555555555555556,
           "#d8576b"
          ],
          [
           0.6666666666666666,
           "#ed7953"
          ],
          [
           0.7777777777777778,
           "#fb9f3a"
          ],
          [
           0.8888888888888888,
           "#fdca26"
          ],
          [
           1,
           "#f0f921"
          ]
         ],
         "showscale": false
        },
        "legend": {
         "itemsizing": "constant",
         "tracegroupgap": 0
        },
        "mapbox": {
         "center": {
          "lat": 39.024781250000025,
          "lon": -105.53196874999995
         },
         "domain": {
          "x": [
           0,
           1
          ],
          "y": [
           0,
           1
          ]
         },
         "style": "carto-positron",
         "zoom": 5
        },
        "margin": {
         "t": 60
        },
        "sliders": [
         {
          "active": 0,
          "currentvalue": {
           "prefix": "Year="
          },
          "len": 0.9,
          "pad": {
           "b": 10,
           "t": 10
          },
          "steps": [
           {
            "args": [
             [
              "2012"
             ],
             {
              "frame": {
               "duration": 0,
               "redraw": true
              },
              "fromcurrent": true,
              "mode": "immediate",
              "transition": {
               "duration": 0,
               "easing": "linear"
              }
             }
            ],
            "label": "2012",
            "method": "animate"
           },
           {
            "args": [
             [
              "2013"
             ],
             {
              "frame": {
               "duration": 0,
               "redraw": true
              },
              "fromcurrent": true,
              "mode": "immediate",
              "transition": {
               "duration": 0,
               "easing": "linear"
              }
             }
            ],
            "label": "2013",
            "method": "animate"
           },
           {
            "args": [
             [
              "2014"
             ],
             {
              "frame": {
               "duration": 0,
               "redraw": true
              },
              "fromcurrent": true,
              "mode": "immediate",
              "transition": {
               "duration": 0,
               "easing": "linear"
              }
             }
            ],
            "label": "2014",
            "method": "animate"
           },
           {
            "args": [
             [
              "2015"
             ],
             {
              "frame": {
               "duration": 0,
               "redraw": true
              },
              "fromcurrent": true,
              "mode": "immediate",
              "transition": {
               "duration": 0,
               "easing": "linear"
              }
             }
            ],
            "label": "2015",
            "method": "animate"
           },
           {
            "args": [
             [
              "2016"
             ],
             {
              "frame": {
               "duration": 0,
               "redraw": true
              },
              "fromcurrent": true,
              "mode": "immediate",
              "transition": {
               "duration": 0,
               "easing": "linear"
              }
             }
            ],
            "label": "2016",
            "method": "animate"
           },
           {
            "args": [
             [
              "2017"
             ],
             {
              "frame": {
               "duration": 0,
               "redraw": true
              },
              "fromcurrent": true,
              "mode": "immediate",
              "transition": {
               "duration": 0,
               "easing": "linear"
              }
             }
            ],
            "label": "2017",
            "method": "animate"
           }
          ],
          "x": 0.1,
          "xanchor": "left",
          "y": 0,
          "yanchor": "top"
         }
        ],
        "template": {
         "data": {
          "bar": [
           {
            "error_x": {
             "color": "#2a3f5f"
            },
            "error_y": {
             "color": "#2a3f5f"
            },
            "marker": {
             "line": {
              "color": "#E5ECF6",
              "width": 0.5
             }
            },
            "type": "bar"
           }
          ],
          "barpolar": [
           {
            "marker": {
             "line": {
              "color": "#E5ECF6",
              "width": 0.5
             }
            },
            "type": "barpolar"
           }
          ],
          "carpet": [
           {
            "aaxis": {
             "endlinecolor": "#2a3f5f",
             "gridcolor": "white",
             "linecolor": "white",
             "minorgridcolor": "white",
             "startlinecolor": "#2a3f5f"
            },
            "baxis": {
             "endlinecolor": "#2a3f5f",
             "gridcolor": "white",
             "linecolor": "white",
             "minorgridcolor": "white",
             "startlinecolor": "#2a3f5f"
            },
            "type": "carpet"
           }
          ],
          "choropleth": [
           {
            "colorbar": {
             "outlinewidth": 0,
             "ticks": ""
            },
            "type": "choropleth"
           }
          ],
          "contour": [
           {
            "colorbar": {
             "outlinewidth": 0,
             "ticks": ""
            },
            "colorscale": [
             [
              0,
              "#0d0887"
             ],
             [
              0.1111111111111111,
              "#46039f"
             ],
             [
              0.2222222222222222,
              "#7201a8"
             ],
             [
              0.3333333333333333,
              "#9c179e"
             ],
             [
              0.4444444444444444,
              "#bd3786"
             ],
             [
              0.5555555555555556,
              "#d8576b"
             ],
             [
              0.6666666666666666,
              "#ed7953"
             ],
             [
              0.7777777777777778,
              "#fb9f3a"
             ],
             [
              0.8888888888888888,
              "#fdca26"
             ],
             [
              1,
              "#f0f921"
             ]
            ],
            "type": "contour"
           }
          ],
          "contourcarpet": [
           {
            "colorbar": {
             "outlinewidth": 0,
             "ticks": ""
            },
            "type": "contourcarpet"
           }
          ],
          "heatmap": [
           {
            "colorbar": {
             "outlinewidth": 0,
             "ticks": ""
            },
            "colorscale": [
             [
              0,
              "#0d0887"
             ],
             [
              0.1111111111111111,
              "#46039f"
             ],
             [
              0.2222222222222222,
              "#7201a8"
             ],
             [
              0.3333333333333333,
              "#9c179e"
             ],
             [
              0.4444444444444444,
              "#bd3786"
             ],
             [
              0.5555555555555556,
              "#d8576b"
             ],
             [
              0.6666666666666666,
              "#ed7953"
             ],
             [
              0.7777777777777778,
              "#fb9f3a"
             ],
             [
              0.8888888888888888,
              "#fdca26"
             ],
             [
              1,
              "#f0f921"
             ]
            ],
            "type": "heatmap"
           }
          ],
          "heatmapgl": [
           {
            "colorbar": {
             "outlinewidth": 0,
             "ticks": ""
            },
            "colorscale": [
             [
              0,
              "#0d0887"
             ],
             [
              0.1111111111111111,
              "#46039f"
             ],
             [
              0.2222222222222222,
              "#7201a8"
             ],
             [
              0.3333333333333333,
              "#9c179e"
             ],
             [
              0.4444444444444444,
              "#bd3786"
             ],
             [
              0.5555555555555556,
              "#d8576b"
             ],
             [
              0.6666666666666666,
              "#ed7953"
             ],
             [
              0.7777777777777778,
              "#fb9f3a"
             ],
             [
              0.8888888888888888,
              "#fdca26"
             ],
             [
              1,
              "#f0f921"
             ]
            ],
            "type": "heatmapgl"
           }
          ],
          "histogram": [
           {
            "marker": {
             "colorbar": {
              "outlinewidth": 0,
              "ticks": ""
             }
            },
            "type": "histogram"
           }
          ],
          "histogram2d": [
           {
            "colorbar": {
             "outlinewidth": 0,
             "ticks": ""
            },
            "colorscale": [
             [
              0,
              "#0d0887"
             ],
             [
              0.1111111111111111,
              "#46039f"
             ],
             [
              0.2222222222222222,
              "#7201a8"
             ],
             [
              0.3333333333333333,
              "#9c179e"
             ],
             [
              0.4444444444444444,
              "#bd3786"
             ],
             [
              0.5555555555555556,
              "#d8576b"
             ],
             [
              0.6666666666666666,
              "#ed7953"
             ],
             [
              0.7777777777777778,
              "#fb9f3a"
             ],
             [
              0.8888888888888888,
              "#fdca26"
             ],
             [
              1,
              "#f0f921"
             ]
            ],
            "type": "histogram2d"
           }
          ],
          "histogram2dcontour": [
           {
            "colorbar": {
             "outlinewidth": 0,
             "ticks": ""
            },
            "colorscale": [
             [
              0,
              "#0d0887"
             ],
             [
              0.1111111111111111,
              "#46039f"
             ],
             [
              0.2222222222222222,
              "#7201a8"
             ],
             [
              0.3333333333333333,
              "#9c179e"
             ],
             [
              0.4444444444444444,
              "#bd3786"
             ],
             [
              0.5555555555555556,
              "#d8576b"
             ],
             [
              0.6666666666666666,
              "#ed7953"
             ],
             [
              0.7777777777777778,
              "#fb9f3a"
             ],
             [
              0.8888888888888888,
              "#fdca26"
             ],
             [
              1,
              "#f0f921"
             ]
            ],
            "type": "histogram2dcontour"
           }
          ],
          "mesh3d": [
           {
            "colorbar": {
             "outlinewidth": 0,
             "ticks": ""
            },
            "type": "mesh3d"
           }
          ],
          "parcoords": [
           {
            "line": {
             "colorbar": {
              "outlinewidth": 0,
              "ticks": ""
             }
            },
            "type": "parcoords"
           }
          ],
          "pie": [
           {
            "automargin": true,
            "type": "pie"
           }
          ],
          "scatter": [
           {
            "marker": {
             "colorbar": {
              "outlinewidth": 0,
              "ticks": ""
             }
            },
            "type": "scatter"
           }
          ],
          "scatter3d": [
           {
            "line": {
             "colorbar": {
              "outlinewidth": 0,
              "ticks": ""
             }
            },
            "marker": {
             "colorbar": {
              "outlinewidth": 0,
              "ticks": ""
             }
            },
            "type": "scatter3d"
           }
          ],
          "scattercarpet": [
           {
            "marker": {
             "colorbar": {
              "outlinewidth": 0,
              "ticks": ""
             }
            },
            "type": "scattercarpet"
           }
          ],
          "scattergeo": [
           {
            "marker": {
             "colorbar": {
              "outlinewidth": 0,
              "ticks": ""
             }
            },
            "type": "scattergeo"
           }
          ],
          "scattergl": [
           {
            "marker": {
             "colorbar": {
              "outlinewidth": 0,
              "ticks": ""
             }
            },
            "type": "scattergl"
           }
          ],
          "scattermapbox": [
           {
            "marker": {
             "colorbar": {
              "outlinewidth": 0,
              "ticks": ""
             }
            },
            "type": "scattermapbox"
           }
          ],
          "scatterpolar": [
           {
            "marker": {
             "colorbar": {
              "outlinewidth": 0,
              "ticks": ""
             }
            },
            "type": "scatterpolar"
           }
          ],
          "scatterpolargl": [
           {
            "marker": {
             "colorbar": {
              "outlinewidth": 0,
              "ticks": ""
             }
            },
            "type": "scatterpolargl"
           }
          ],
          "scatterternary": [
           {
            "marker": {
             "colorbar": {
              "outlinewidth": 0,
              "ticks": ""
             }
            },
            "type": "scatterternary"
           }
          ],
          "surface": [
           {
            "colorbar": {
             "outlinewidth": 0,
             "ticks": ""
            },
            "colorscale": [
             [
              0,
              "#0d0887"
             ],
             [
              0.1111111111111111,
              "#46039f"
             ],
             [
              0.2222222222222222,
              "#7201a8"
             ],
             [
              0.3333333333333333,
              "#9c179e"
             ],
             [
              0.4444444444444444,
              "#bd3786"
             ],
             [
              0.5555555555555556,
              "#d8576b"
             ],
             [
              0.6666666666666666,
              "#ed7953"
             ],
             [
              0.7777777777777778,
              "#fb9f3a"
             ],
             [
              0.8888888888888888,
              "#fdca26"
             ],
             [
              1,
              "#f0f921"
             ]
            ],
            "type": "surface"
           }
          ],
          "table": [
           {
            "cells": {
             "fill": {
              "color": "#EBF0F8"
             },
             "line": {
              "color": "white"
             }
            },
            "header": {
             "fill": {
              "color": "#C8D4E3"
             },
             "line": {
              "color": "white"
             }
            },
            "type": "table"
           }
          ]
         },
         "layout": {
          "annotationdefaults": {
           "arrowcolor": "#2a3f5f",
           "arrowhead": 0,
           "arrowwidth": 1
          },
          "coloraxis": {
           "colorbar": {
            "outlinewidth": 0,
            "ticks": ""
           }
          },
          "colorscale": {
           "diverging": [
            [
             0,
             "#8e0152"
            ],
            [
             0.1,
             "#c51b7d"
            ],
            [
             0.2,
             "#de77ae"
            ],
            [
             0.3,
             "#f1b6da"
            ],
            [
             0.4,
             "#fde0ef"
            ],
            [
             0.5,
             "#f7f7f7"
            ],
            [
             0.6,
             "#e6f5d0"
            ],
            [
             0.7,
             "#b8e186"
            ],
            [
             0.8,
             "#7fbc41"
            ],
            [
             0.9,
             "#4d9221"
            ],
            [
             1,
             "#276419"
            ]
           ],
           "sequential": [
            [
             0,
             "#0d0887"
            ],
            [
             0.1111111111111111,
             "#46039f"
            ],
            [
             0.2222222222222222,
             "#7201a8"
            ],
            [
             0.3333333333333333,
             "#9c179e"
            ],
            [
             0.4444444444444444,
             "#bd3786"
            ],
            [
             0.5555555555555556,
             "#d8576b"
            ],
            [
             0.6666666666666666,
             "#ed7953"
            ],
            [
             0.7777777777777778,
             "#fb9f3a"
            ],
            [
             0.8888888888888888,
             "#fdca26"
            ],
            [
             1,
             "#f0f921"
            ]
           ],
           "sequentialminus": [
            [
             0,
             "#0d0887"
            ],
            [
             0.1111111111111111,
             "#46039f"
            ],
            [
             0.2222222222222222,
             "#7201a8"
            ],
            [
             0.3333333333333333,
             "#9c179e"
            ],
            [
             0.4444444444444444,
             "#bd3786"
            ],
            [
             0.5555555555555556,
             "#d8576b"
            ],
            [
             0.6666666666666666,
             "#ed7953"
            ],
            [
             0.7777777777777778,
             "#fb9f3a"
            ],
            [
             0.8888888888888888,
             "#fdca26"
            ],
            [
             1,
             "#f0f921"
            ]
           ]
          },
          "colorway": [
           "#636efa",
           "#EF553B",
           "#00cc96",
           "#ab63fa",
           "#FFA15A",
           "#19d3f3",
           "#FF6692",
           "#B6E880",
           "#FF97FF",
           "#FECB52"
          ],
          "font": {
           "color": "#2a3f5f"
          },
          "geo": {
           "bgcolor": "white",
           "lakecolor": "white",
           "landcolor": "#E5ECF6",
           "showlakes": true,
           "showland": true,
           "subunitcolor": "white"
          },
          "hoverlabel": {
           "align": "left"
          },
          "hovermode": "closest",
          "mapbox": {
           "style": "light"
          },
          "paper_bgcolor": "white",
          "plot_bgcolor": "#E5ECF6",
          "polar": {
           "angularaxis": {
            "gridcolor": "white",
            "linecolor": "white",
            "ticks": ""
           },
           "bgcolor": "#E5ECF6",
           "radialaxis": {
            "gridcolor": "white",
            "linecolor": "white",
            "ticks": ""
           }
          },
          "scene": {
           "xaxis": {
            "backgroundcolor": "#E5ECF6",
            "gridcolor": "white",
            "gridwidth": 2,
            "linecolor": "white",
            "showbackground": true,
            "ticks": "",
            "zerolinecolor": "white"
           },
           "yaxis": {
            "backgroundcolor": "#E5ECF6",
            "gridcolor": "white",
            "gridwidth": 2,
            "linecolor": "white",
            "showbackground": true,
            "ticks": "",
            "zerolinecolor": "white"
           },
           "zaxis": {
            "backgroundcolor": "#E5ECF6",
            "gridcolor": "white",
            "gridwidth": 2,
            "linecolor": "white",
            "showbackground": true,
            "ticks": "",
            "zerolinecolor": "white"
           }
          },
          "shapedefaults": {
           "line": {
            "color": "#2a3f5f"
           }
          },
          "ternary": {
           "aaxis": {
            "gridcolor": "white",
            "linecolor": "white",
            "ticks": ""
           },
           "baxis": {
            "gridcolor": "white",
            "linecolor": "white",
            "ticks": ""
           },
           "bgcolor": "#E5ECF6",
           "caxis": {
            "gridcolor": "white",
            "linecolor": "white",
            "ticks": ""
           }
          },
          "title": {
           "x": 0.05
          },
          "xaxis": {
           "automargin": true,
           "gridcolor": "white",
           "linecolor": "white",
           "ticks": "",
           "title": {
            "standoff": 15
           },
           "zerolinecolor": "white",
           "zerolinewidth": 2
          },
          "yaxis": {
           "automargin": true,
           "gridcolor": "white",
           "linecolor": "white",
           "ticks": "",
           "title": {
            "standoff": 15
           },
           "zerolinecolor": "white",
           "zerolinewidth": 2
          }
         }
        },
        "updatemenus": [
         {
          "buttons": [
           {
            "args": [
             null,
             {
              "frame": {
               "duration": 200,
               "redraw": true
              },
              "fromcurrent": true,
              "mode": "immediate",
              "transition": {
               "duration": 200,
               "easing": "linear"
              }
             }
            ],
            "label": "&#9654;",
            "method": "animate"
           },
           {
            "args": [
             [
              null
             ],
             {
              "frame": {
               "duration": 0,
               "redraw": true
              },
              "fromcurrent": true,
              "mode": "immediate",
              "transition": {
               "duration": 0,
               "easing": "linear"
              }
             }
            ],
            "label": "&#9724;",
            "method": "animate"
           }
          ],
          "direction": "left",
          "pad": {
           "r": 10,
           "t": 10
          },
          "showactive": false,
          "type": "buttons",
          "x": 0.1,
          "xanchor": "right",
          "y": 0,
          "yanchor": "top"
         }
        ]
       }
      }
     },
     "metadata": {}
    }
   ],
   "source": [
    "mapbox_token = os.getenv(\"MAPBOX_API_KEY\")\n",
    "px.set_mapbox_access_token(mapbox_token)\n",
    "\n",
    "ArrestsPlot = px.scatter_mapbox(Arrests, \n",
    "lat=\"latitude\", lon=\"longtitude\", \n",
    "size=\"Total Crime\", color=\"Year\", \n",
    "mapbox_style=\"carto-positron\",\n",
    "zoom=5,\n",
    "hover_name=\"County\",\n",
    "animation_frame=\"Year\", animation_group=\"County\"\n",
    "#title=\"Average Sale Price Per Square Foot and Gross Rent in San Francisco\",\n",
    ")\n",
    "\n",
    "ArrestsPlot.layout.updatemenus[0].buttons[0].args[1][\"frame\"][\"duration\"] = 200\n",
    "ArrestsPlot.layout.updatemenus[0].buttons[0].args[1][\"transition\"][\"duration\"] = 200\n",
    "ArrestsPlot.layout.coloraxis.showscale = False\n",
    "ArrestsPlot.layout.sliders[0].pad.t = 10\n",
    "ArrestsPlot.layout.updatemenus[0].pad.t= 10\n",
    "\n",
    "ArrestsPlot.layout.coloraxis.showscale = False\n",
    "ArrestsPlot.show()"
   ]
  },
  {
   "cell_type": "code",
   "execution_count": null,
   "metadata": {},
   "outputs": [],
   "source": []
  }
 ]
}