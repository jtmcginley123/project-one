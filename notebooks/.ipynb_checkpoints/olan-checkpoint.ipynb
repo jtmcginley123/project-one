{
 "metadata": {
  "language_info": {
   "codemirror_mode": {
    "name": "ipython",
    "version": 3
   },
   "file_extension": ".py",
   "mimetype": "text/x-python",
   "name": "python",
   "nbconvert_exporter": "python",
   "pygments_lexer": "ipython3",
   "version": "3.7.7-final"
  },
  "orig_nbformat": 2,
  "kernelspec": {
   "name": "Python 3.7.7 64-bit ('pyvizenv3': conda)",
   "display_name": "Python 3.7.7 64-bit ('pyvizenv3': conda)",
   "metadata": {
    "interpreter": {
     "hash": "2548420f6680aedd74e3e2beb38ae873a37a41cd3aad112f0ad46785fbe9b2a9"
    }
   }
  }
 },
 "nbformat": 4,
 "nbformat_minor": 2,
 "cells": [
  {
   "cell_type": "code",
   "execution_count": 3,
   "metadata": {},
   "outputs": [],
   "source": [
    "import os\n",
    "import pandas as pd\n",
    "import matplotlib.pyplot as plt\n",
    "import plotly.express as px\n",
    "#import numpy as np\n",
    "#import seaborn as sns\n",
    "%matplotlib inline\n"
   ]
  },
  {
   "cell_type": "code",
   "execution_count": 6,
   "metadata": {},
   "outputs": [
    {
     "output_type": "display_data",
     "data": {
      "text/plain": "<Figure size 864x504 with 1 Axes>",
      "image/svg+xml": "<?xml version=\"1.0\" encoding=\"utf-8\" standalone=\"no\"?>\n<!DOCTYPE svg PUBLIC \"-//W3C//DTD SVG 1.1//EN\"\n  \"http://www.w3.org/Graphics/SVG/1.1/DTD/svg11.dtd\">\n<!-- Created with matplotlib (https://matplotlib.org/) -->\n<svg height=\"862.387187pt\" version=\"1.1\" viewBox=\"0 0 748.2625 862.387187\" width=\"748.2625pt\" xmlns=\"http://www.w3.org/2000/svg\" xmlns:xlink=\"http://www.w3.org/1999/xlink\">\n <metadata>\n  <rdf:RDF xmlns:cc=\"http://creativecommons.org/ns#\" xmlns:dc=\"http://purl.org/dc/elements/1.1/\" xmlns:rdf=\"http://www.w3.org/1999/02/22-rdf-syntax-ns#\">\n   <cc:Work>\n    <dc:type rdf:resource=\"http://purl.org/dc/dcmitype/StillImage\"/>\n    <dc:date>2020-11-07T06:11:08.120237</dc:date>\n    <dc:format>image/svg+xml</dc:format>\n    <dc:creator>\n     <cc:Agent>\n      <dc:title>Matplotlib v3.3.1, https://matplotlib.org/</dc:title>\n     </cc:Agent>\n    </dc:creator>\n   </cc:Work>\n  </rdf:RDF>\n </metadata>\n <defs>\n  <style type=\"text/css\">*{stroke-linecap:butt;stroke-linejoin:round;}</style>\n </defs>\n <g id=\"figure_1\">\n  <g id=\"patch_1\">\n   <path d=\"M 0 862.387187 \nL 748.2625 862.387187 \nL 748.2625 0 \nL 0 0 \nz\n\" style=\"fill:none;\"/>\n  </g>\n  <g id=\"axes_1\">\n   <g id=\"patch_2\">\n    <path d=\"M 71.4625 438.12 \nL 741.0625 438.12 \nL 741.0625 57.6 \nL 71.4625 57.6 \nz\n\" style=\"fill:#ffffff;\"/>\n   </g>\n   <g id=\"patch_3\">\n    <path clip-path=\"url(#p35c7f579cc)\" d=\"M 77.234914 438.12 \nL 88.779741 438.12 \nL 88.779741 435.919984 \nL 77.234914 435.919984 \nz\n\" style=\"fill:#0b0405;\"/>\n   </g>\n   <g id=\"patch_4\">\n    <path clip-path=\"url(#p35c7f579cc)\" d=\"M 100.324569 438.12 \nL 111.869397 438.12 \nL 111.869397 429.744788 \nL 100.324569 429.744788 \nz\n\" style=\"fill:#0b0405;\"/>\n   </g>\n   <g id=\"patch_5\">\n    <path clip-path=\"url(#p35c7f579cc)\" d=\"M 123.414224 438.12 \nL 134.959052 438.12 \nL 134.959052 435.491128 \nL 123.414224 435.491128 \nz\n\" style=\"fill:#0b0405;\"/>\n   </g>\n   <g id=\"patch_6\">\n    <path clip-path=\"url(#p35c7f579cc)\" d=\"M 146.503879 438.12 \nL 158.048707 438.12 \nL 158.048707 431.208072 \nL 146.503879 431.208072 \nz\n\" style=\"fill:#0b0405;\"/>\n   </g>\n   <g id=\"patch_7\">\n    <path clip-path=\"url(#p35c7f579cc)\" d=\"M 169.593534 438.12 \nL 181.138362 438.12 \nL 181.138362 423.12315 \nL 169.593534 423.12315 \nz\n\" style=\"fill:#0b0405;\"/>\n   </g>\n   <g id=\"patch_8\">\n    <path clip-path=\"url(#p35c7f579cc)\" d=\"M 192.68319 438.12 \nL 204.228017 438.12 \nL 204.228017 429.396526 \nL 192.68319 429.396526 \nz\n\" style=\"fill:#0b0405;\"/>\n   </g>\n   <g id=\"patch_9\">\n    <path clip-path=\"url(#p35c7f579cc)\" d=\"M 215.772845 438.12 \nL 227.317672 438.12 \nL 227.317672 431.795601 \nL 215.772845 431.795601 \nz\n\" style=\"fill:#0b0405;\"/>\n   </g>\n   <g id=\"patch_10\">\n    <path clip-path=\"url(#p35c7f579cc)\" d=\"M 238.8625 438.12 \nL 250.407328 438.12 \nL 250.407328 427.420871 \nL 238.8625 427.420871 \nz\n\" style=\"fill:#0b0405;\"/>\n   </g>\n   <g id=\"patch_11\">\n    <path clip-path=\"url(#p35c7f579cc)\" d=\"M 261.952155 438.12 \nL 273.496983 438.12 \nL 273.496983 427.621091 \nL 261.952155 427.621091 \nz\n\" style=\"fill:#0b0405;\"/>\n   </g>\n   <g id=\"patch_12\">\n    <path clip-path=\"url(#p35c7f579cc)\" d=\"M 285.04181 438.12 \nL 296.586638 438.12 \nL 296.586638 432.749016 \nL 285.04181 432.749016 \nz\n\" style=\"fill:#0b0405;\"/>\n   </g>\n   <g id=\"patch_13\">\n    <path clip-path=\"url(#p35c7f579cc)\" d=\"M 308.131466 438.12 \nL 319.676293 438.12 \nL 319.676293 424.887768 \nL 308.131466 424.887768 \nz\n\" style=\"fill:#0b0405;\"/>\n   </g>\n   <g id=\"patch_14\">\n    <path clip-path=\"url(#p35c7f579cc)\" d=\"M 331.221121 438.12 \nL 342.765948 438.12 \nL 342.765948 402.147011 \nL 331.221121 402.147011 \nz\n\" style=\"fill:#0b0405;\"/>\n   </g>\n   <g id=\"patch_15\">\n    <path clip-path=\"url(#p35c7f579cc)\" d=\"M 354.310776 438.12 \nL 365.855603 438.12 \nL 365.855603 428.043154 \nL 354.310776 428.043154 \nz\n\" style=\"fill:#0b0405;\"/>\n   </g>\n   <g id=\"patch_16\">\n    <path clip-path=\"url(#p35c7f579cc)\" d=\"M 377.400431 438.12 \nL 388.945259 438.12 \nL 388.945259 412.227627 \nL 377.400431 412.227627 \nz\n\" style=\"fill:#0b0405;\"/>\n   </g>\n   <g id=\"patch_17\">\n    <path clip-path=\"url(#p35c7f579cc)\" d=\"M 400.490086 438.12 \nL 412.034914 438.12 \nL 412.034914 411.778975 \nL 400.490086 411.778975 \nz\n\" style=\"fill:#0b0405;\"/>\n   </g>\n   <g id=\"patch_18\">\n    <path clip-path=\"url(#p35c7f579cc)\" d=\"M 423.579741 438.12 \nL 435.124569 438.12 \nL 435.124569 421.041321 \nL 423.579741 421.041321 \nz\n\" style=\"fill:#0b0405;\"/>\n   </g>\n   <g id=\"patch_19\">\n    <path clip-path=\"url(#p35c7f579cc)\" d=\"M 446.669397 438.12 \nL 458.214224 438.12 \nL 458.214224 434.453907 \nL 446.669397 434.453907 \nz\n\" style=\"fill:#0b0405;\"/>\n   </g>\n   <g id=\"patch_20\">\n    <path clip-path=\"url(#p35c7f579cc)\" d=\"M 469.759052 438.12 \nL 481.303879 438.12 \nL 481.303879 432.52377 \nL 469.759052 432.52377 \nz\n\" style=\"fill:#0b0405;\"/>\n   </g>\n   <g id=\"patch_21\">\n    <path clip-path=\"url(#p35c7f579cc)\" d=\"M 492.848707 438.12 \nL 504.393534 438.12 \nL 504.393534 424.521978 \nL 492.848707 424.521978 \nz\n\" style=\"fill:#0b0405;\"/>\n   </g>\n   <g id=\"patch_22\">\n    <path clip-path=\"url(#p35c7f579cc)\" d=\"M 515.938362 438.12 \nL 527.48319 438.12 \nL 527.48319 436.297018 \nL 515.938362 436.297018 \nz\n\" style=\"fill:#0b0405;\"/>\n   </g>\n   <g id=\"patch_23\">\n    <path clip-path=\"url(#p35c7f579cc)\" d=\"M 539.028017 438.12 \nL 550.572845 438.12 \nL 550.572845 426.343799 \nL 539.028017 426.343799 \nz\n\" style=\"fill:#0b0405;\"/>\n   </g>\n   <g id=\"patch_24\">\n    <path clip-path=\"url(#p35c7f579cc)\" d=\"M 562.117672 438.12 \nL 573.6625 438.12 \nL 573.6625 430.047126 \nL 562.117672 430.047126 \nz\n\" style=\"fill:#0b0405;\"/>\n   </g>\n   <g id=\"patch_25\">\n    <path clip-path=\"url(#p35c7f579cc)\" d=\"M 585.207328 438.12 \nL 596.752155 438.12 \nL 596.752155 435.894044 \nL 585.207328 435.894044 \nz\n\" style=\"fill:#0b0405;\"/>\n   </g>\n   <g id=\"patch_26\">\n    <path clip-path=\"url(#p35c7f579cc)\" d=\"M 608.296983 438.12 \nL 619.84181 438.12 \nL 619.84181 432.273452 \nL 608.296983 432.273452 \nz\n\" style=\"fill:#0b0405;\"/>\n   </g>\n   <g id=\"patch_27\">\n    <path clip-path=\"url(#p35c7f579cc)\" d=\"M 631.386638 438.12 \nL 642.931466 438.12 \nL 642.931466 433.774742 \nL 631.386638 433.774742 \nz\n\" style=\"fill:#0b0405;\"/>\n   </g>\n   <g id=\"patch_28\">\n    <path clip-path=\"url(#p35c7f579cc)\" d=\"M 654.476293 438.12 \nL 666.021121 438.12 \nL 666.021121 413.192864 \nL 654.476293 413.192864 \nz\n\" style=\"fill:#0b0405;\"/>\n   </g>\n   <g id=\"patch_29\">\n    <path clip-path=\"url(#p35c7f579cc)\" d=\"M 677.565948 438.12 \nL 689.110776 438.12 \nL 689.110776 427.589328 \nL 677.565948 427.589328 \nz\n\" style=\"fill:#0b0405;\"/>\n   </g>\n   <g id=\"patch_30\">\n    <path clip-path=\"url(#p35c7f579cc)\" d=\"M 700.655603 438.12 \nL 712.200431 438.12 \nL 712.200431 416.921744 \nL 700.655603 416.921744 \nz\n\" style=\"fill:#0b0405;\"/>\n   </g>\n   <g id=\"patch_31\">\n    <path clip-path=\"url(#p35c7f579cc)\" d=\"M 723.745259 438.12 \nL 735.290086 438.12 \nL 735.290086 430.127265 \nL 723.745259 430.127265 \nz\n\" style=\"fill:#0b0405;\"/>\n   </g>\n   <g id=\"patch_32\">\n    <path clip-path=\"url(#p35c7f579cc)\" d=\"M 77.234914 435.919984 \nL 88.779741 435.919984 \nL 88.779741 433.867041 \nL 77.234914 433.867041 \nz\n\" style=\"fill:#2b1c35;\"/>\n   </g>\n   <g id=\"patch_33\">\n    <path clip-path=\"url(#p35c7f579cc)\" d=\"M 100.324569 429.744788 \nL 111.869397 429.744788 \nL 111.869397 421.242052 \nL 100.324569 421.242052 \nz\n\" style=\"fill:#2b1c35;\"/>\n   </g>\n   <g id=\"patch_34\">\n    <path clip-path=\"url(#p35c7f579cc)\" d=\"M 123.414224 435.491128 \nL 134.959052 435.491128 \nL 134.959052 432.777272 \nL 123.414224 432.777272 \nz\n\" style=\"fill:#2b1c35;\"/>\n   </g>\n   <g id=\"patch_35\">\n    <path clip-path=\"url(#p35c7f579cc)\" d=\"M 146.503879 431.208072 \nL 158.048707 431.208072 \nL 158.048707 424.291977 \nL 146.503879 424.291977 \nz\n\" style=\"fill:#2b1c35;\"/>\n   </g>\n   <g id=\"patch_36\">\n    <path clip-path=\"url(#p35c7f579cc)\" d=\"M 169.593534 423.12315 \nL 181.138362 423.12315 \nL 181.138362 408.093826 \nL 169.593534 408.093826 \nz\n\" style=\"fill:#2b1c35;\"/>\n   </g>\n   <g id=\"patch_37\">\n    <path clip-path=\"url(#p35c7f579cc)\" d=\"M 192.68319 429.396526 \nL 204.228017 429.396526 \nL 204.228017 420.274066 \nL 192.68319 420.274066 \nz\n\" style=\"fill:#2b1c35;\"/>\n   </g>\n   <g id=\"patch_38\">\n    <path clip-path=\"url(#p35c7f579cc)\" d=\"M 215.772845 431.795601 \nL 227.317672 431.795601 \nL 227.317672 425.875399 \nL 215.772845 425.875399 \nz\n\" style=\"fill:#2b1c35;\"/>\n   </g>\n   <g id=\"patch_39\">\n    <path clip-path=\"url(#p35c7f579cc)\" d=\"M 238.8625 427.420871 \nL 250.407328 427.420871 \nL 250.407328 416.643109 \nL 238.8625 416.643109 \nz\n\" style=\"fill:#2b1c35;\"/>\n   </g>\n   <g id=\"patch_40\">\n    <path clip-path=\"url(#p35c7f579cc)\" d=\"M 261.952155 427.621091 \nL 273.496983 427.621091 \nL 273.496983 417.240098 \nL 261.952155 417.240098 \nz\n\" style=\"fill:#2b1c35;\"/>\n   </g>\n   <g id=\"patch_41\">\n    <path clip-path=\"url(#p35c7f579cc)\" d=\"M 285.04181 432.749016 \nL 296.586638 432.749016 \nL 296.586638 427.566562 \nL 285.04181 427.566562 \nz\n\" style=\"fill:#2b1c35;\"/>\n   </g>\n   <g id=\"patch_42\">\n    <path clip-path=\"url(#p35c7f579cc)\" d=\"M 308.131466 424.887768 \nL 319.676293 424.887768 \nL 319.676293 411.579331 \nL 308.131466 411.579331 \nz\n\" style=\"fill:#2b1c35;\"/>\n   </g>\n   <g id=\"patch_43\">\n    <path clip-path=\"url(#p35c7f579cc)\" d=\"M 331.221121 402.147011 \nL 342.765948 402.147011 \nL 342.765948 364.464883 \nL 331.221121 364.464883 \nz\n\" style=\"fill:#2b1c35;\"/>\n   </g>\n   <g id=\"patch_44\">\n    <path clip-path=\"url(#p35c7f579cc)\" d=\"M 354.310776 428.043154 \nL 365.855603 428.043154 \nL 365.855603 417.570607 \nL 354.310776 417.570607 \nz\n\" style=\"fill:#2b1c35;\"/>\n   </g>\n   <g id=\"patch_45\">\n    <path clip-path=\"url(#p35c7f579cc)\" d=\"M 377.400431 412.227627 \nL 388.945259 412.227627 \nL 388.945259 385.025381 \nL 377.400431 385.025381 \nz\n\" style=\"fill:#2b1c35;\"/>\n   </g>\n   <g id=\"patch_46\">\n    <path clip-path=\"url(#p35c7f579cc)\" d=\"M 400.490086 411.778975 \nL 412.034914 411.778975 \nL 412.034914 384.711495 \nL 400.490086 384.711495 \nz\n\" style=\"fill:#2b1c35;\"/>\n   </g>\n   <g id=\"patch_47\">\n    <path clip-path=\"url(#p35c7f579cc)\" d=\"M 423.579741 421.041321 \nL 435.124569 421.041321 \nL 435.124569 403.469033 \nL 423.579741 403.469033 \nz\n\" style=\"fill:#2b1c35;\"/>\n   </g>\n   <g id=\"patch_48\">\n    <path clip-path=\"url(#p35c7f579cc)\" d=\"M 446.669397 434.453907 \nL 458.214224 434.453907 \nL 458.214224 430.616754 \nL 446.669397 430.616754 \nz\n\" style=\"fill:#2b1c35;\"/>\n   </g>\n   <g id=\"patch_49\">\n    <path clip-path=\"url(#p35c7f579cc)\" d=\"M 469.759052 432.52377 \nL 481.303879 432.52377 \nL 481.303879 426.865744 \nL 469.759052 426.865744 \nz\n\" style=\"fill:#2b1c35;\"/>\n   </g>\n   <g id=\"patch_50\">\n    <path clip-path=\"url(#p35c7f579cc)\" d=\"M 492.848707 424.521978 \nL 504.393534 424.521978 \nL 504.393534 410.683219 \nL 492.848707 410.683219 \nz\n\" style=\"fill:#2b1c35;\"/>\n   </g>\n   <g id=\"patch_51\">\n    <path clip-path=\"url(#p35c7f579cc)\" d=\"M 515.938362 436.297018 \nL 527.48319 436.297018 \nL 527.48319 434.489614 \nL 515.938362 434.489614 \nz\n\" style=\"fill:#2b1c35;\"/>\n   </g>\n   <g id=\"patch_52\">\n    <path clip-path=\"url(#p35c7f579cc)\" d=\"M 539.028017 426.343799 \nL 550.572845 426.343799 \nL 550.572845 414.312407 \nL 539.028017 414.312407 \nz\n\" style=\"fill:#2b1c35;\"/>\n   </g>\n   <g id=\"patch_53\">\n    <path clip-path=\"url(#p35c7f579cc)\" d=\"M 562.117672 430.047126 \nL 573.6625 430.047126 \nL 573.6625 421.622564 \nL 562.117672 421.622564 \nz\n\" style=\"fill:#2b1c35;\"/>\n   </g>\n   <g id=\"patch_54\">\n    <path clip-path=\"url(#p35c7f579cc)\" d=\"M 585.207328 435.894044 \nL 596.752155 435.894044 \nL 596.752155 433.589251 \nL 585.207328 433.589251 \nz\n\" style=\"fill:#2b1c35;\"/>\n   </g>\n   <g id=\"patch_55\">\n    <path clip-path=\"url(#p35c7f579cc)\" d=\"M 608.296983 432.273452 \nL 619.84181 432.273452 \nL 619.84181 426.153931 \nL 608.296983 426.153931 \nz\n\" style=\"fill:#2b1c35;\"/>\n   </g>\n   <g id=\"patch_56\">\n    <path clip-path=\"url(#p35c7f579cc)\" d=\"M 631.386638 433.774742 \nL 642.931466 433.774742 \nL 642.931466 429.456622 \nL 631.386638 429.456622 \nz\n\" style=\"fill:#2b1c35;\"/>\n   </g>\n   <g id=\"patch_57\">\n    <path clip-path=\"url(#p35c7f579cc)\" d=\"M 654.476293 413.192864 \nL 666.021121 413.192864 \nL 666.021121 388.486544 \nL 654.476293 388.486544 \nz\n\" style=\"fill:#2b1c35;\"/>\n   </g>\n   <g id=\"patch_58\">\n    <path clip-path=\"url(#p35c7f579cc)\" d=\"M 677.565948 427.589328 \nL 689.110776 427.589328 \nL 689.110776 417.0497 \nL 677.565948 417.0497 \nz\n\" style=\"fill:#2b1c35;\"/>\n   </g>\n   <g id=\"patch_59\">\n    <path clip-path=\"url(#p35c7f579cc)\" d=\"M 700.655603 416.921744 \nL 712.200431 416.921744 \nL 712.200431 395.763114 \nL 700.655603 395.763114 \nz\n\" style=\"fill:#2b1c35;\"/>\n   </g>\n   <g id=\"patch_60\">\n    <path clip-path=\"url(#p35c7f579cc)\" d=\"M 723.745259 430.127265 \nL 735.290086 430.127265 \nL 735.290086 422.224661 \nL 723.745259 422.224661 \nz\n\" style=\"fill:#2b1c35;\"/>\n   </g>\n   <g id=\"patch_61\">\n    <path clip-path=\"url(#p35c7f579cc)\" d=\"M 77.234914 433.867041 \nL 88.779741 433.867041 \nL 88.779741 432.048318 \nL 77.234914 432.048318 \nz\n\" style=\"fill:#3e356b;\"/>\n   </g>\n   <g id=\"patch_62\">\n    <path clip-path=\"url(#p35c7f579cc)\" d=\"M 100.324569 421.242052 \nL 111.869397 421.242052 \nL 111.869397 412.469141 \nL 100.324569 412.469141 \nz\n\" style=\"fill:#3e356b;\"/>\n   </g>\n   <g id=\"patch_63\">\n    <path clip-path=\"url(#p35c7f579cc)\" d=\"M 123.414224 432.777272 \nL 134.959052 432.777272 \nL 134.959052 430.102031 \nL 123.414224 430.102031 \nz\n\" style=\"fill:#3e356b;\"/>\n   </g>\n   <g id=\"patch_64\">\n    <path clip-path=\"url(#p35c7f579cc)\" d=\"M 146.503879 424.291977 \nL 158.048707 424.291977 \nL 158.048707 417.127995 \nL 146.503879 417.127995 \nz\n\" style=\"fill:#3e356b;\"/>\n   </g>\n   <g id=\"patch_65\">\n    <path clip-path=\"url(#p35c7f579cc)\" d=\"M 169.593534 408.093826 \nL 181.138362 408.093826 \nL 181.138362 393.335845 \nL 169.593534 393.335845 \nz\n\" style=\"fill:#3e356b;\"/>\n   </g>\n   <g id=\"patch_66\">\n    <path clip-path=\"url(#p35c7f579cc)\" d=\"M 192.68319 420.274066 \nL 204.228017 420.274066 \nL 204.228017 410.900742 \nL 192.68319 410.900742 \nz\n\" style=\"fill:#3e356b;\"/>\n   </g>\n   <g id=\"patch_67\">\n    <path clip-path=\"url(#p35c7f579cc)\" d=\"M 215.772845 425.875399 \nL 227.317672 425.875399 \nL 227.317672 420.490741 \nL 215.772845 420.490741 \nz\n\" style=\"fill:#3e356b;\"/>\n   </g>\n   <g id=\"patch_68\">\n    <path clip-path=\"url(#p35c7f579cc)\" d=\"M 238.8625 416.643109 \nL 250.407328 416.643109 \nL 250.407328 405.402939 \nL 238.8625 405.402939 \nz\n\" style=\"fill:#3e356b;\"/>\n   </g>\n   <g id=\"patch_69\">\n    <path clip-path=\"url(#p35c7f579cc)\" d=\"M 261.952155 417.240098 \nL 273.496983 417.240098 \nL 273.496983 406.717615 \nL 261.952155 406.717615 \nz\n\" style=\"fill:#3e356b;\"/>\n   </g>\n   <g id=\"patch_70\">\n    <path clip-path=\"url(#p35c7f579cc)\" d=\"M 285.04181 427.566562 \nL 296.586638 427.566562 \nL 296.586638 422.055004 \nL 285.04181 422.055004 \nz\n\" style=\"fill:#3e356b;\"/>\n   </g>\n   <g id=\"patch_71\">\n    <path clip-path=\"url(#p35c7f579cc)\" d=\"M 308.131466 411.579331 \nL 319.676293 411.579331 \nL 319.676293 398.879534 \nL 308.131466 398.879534 \nz\n\" style=\"fill:#3e356b;\"/>\n   </g>\n   <g id=\"patch_72\">\n    <path clip-path=\"url(#p35c7f579cc)\" d=\"M 331.221121 364.464883 \nL 342.765948 364.464883 \nL 342.765948 326.004935 \nL 331.221121 326.004935 \nz\n\" style=\"fill:#3e356b;\"/>\n   </g>\n   <g id=\"patch_73\">\n    <path clip-path=\"url(#p35c7f579cc)\" d=\"M 354.310776 417.570607 \nL 365.855603 417.570607 \nL 365.855603 406.490159 \nL 354.310776 406.490159 \nz\n\" style=\"fill:#3e356b;\"/>\n   </g>\n   <g id=\"patch_74\">\n    <path clip-path=\"url(#p35c7f579cc)\" d=\"M 377.400431 385.025381 \nL 388.945259 385.025381 \nL 388.945259 357.645881 \nL 377.400431 357.645881 \nz\n\" style=\"fill:#3e356b;\"/>\n   </g>\n   <g id=\"patch_75\">\n    <path clip-path=\"url(#p35c7f579cc)\" d=\"M 400.490086 384.711495 \nL 412.034914 384.711495 \nL 412.034914 355.810033 \nL 400.490086 355.810033 \nz\n\" style=\"fill:#3e356b;\"/>\n   </g>\n   <g id=\"patch_76\">\n    <path clip-path=\"url(#p35c7f579cc)\" d=\"M 423.579741 403.469033 \nL 435.124569 403.469033 \nL 435.124569 385.188006 \nL 423.579741 385.188006 \nz\n\" style=\"fill:#3e356b;\"/>\n   </g>\n   <g id=\"patch_77\">\n    <path clip-path=\"url(#p35c7f579cc)\" d=\"M 446.669397 430.616754 \nL 458.214224 430.616754 \nL 458.214224 426.007702 \nL 446.669397 426.007702 \nz\n\" style=\"fill:#3e356b;\"/>\n   </g>\n   <g id=\"patch_78\">\n    <path clip-path=\"url(#p35c7f579cc)\" d=\"M 469.759052 426.865744 \nL 481.303879 426.865744 \nL 481.303879 420.854361 \nL 469.759052 420.854361 \nz\n\" style=\"fill:#3e356b;\"/>\n   </g>\n   <g id=\"patch_79\">\n    <path clip-path=\"url(#p35c7f579cc)\" d=\"M 492.848707 410.683219 \nL 504.393534 410.683219 \nL 504.393534 396.489928 \nL 492.848707 396.489928 \nz\n\" style=\"fill:#3e356b;\"/>\n   </g>\n   <g id=\"patch_80\">\n    <path clip-path=\"url(#p35c7f579cc)\" d=\"M 515.938362 434.489614 \nL 527.48319 434.489614 \nL 527.48319 432.640617 \nL 515.938362 432.640617 \nz\n\" style=\"fill:#3e356b;\"/>\n   </g>\n   <g id=\"patch_81\">\n    <path clip-path=\"url(#p35c7f579cc)\" d=\"M 539.028017 414.312407 \nL 550.572845 414.312407 \nL 550.572845 401.968113 \nL 539.028017 401.968113 \nz\n\" style=\"fill:#3e356b;\"/>\n   </g>\n   <g id=\"patch_82\">\n    <path clip-path=\"url(#p35c7f579cc)\" d=\"M 562.117672 421.622564 \nL 573.6625 421.622564 \nL 573.6625 413.075098 \nL 562.117672 413.075098 \nz\n\" style=\"fill:#3e356b;\"/>\n   </g>\n   <g id=\"patch_83\">\n    <path clip-path=\"url(#p35c7f579cc)\" d=\"M 585.207328 433.589251 \nL 596.752155 433.589251 \nL 596.752155 431.298525 \nL 585.207328 431.298525 \nz\n\" style=\"fill:#3e356b;\"/>\n   </g>\n   <g id=\"patch_84\">\n    <path clip-path=\"url(#p35c7f579cc)\" d=\"M 608.296983 426.153931 \nL 619.84181 426.153931 \nL 619.84181 419.897192 \nL 608.296983 419.897192 \nz\n\" style=\"fill:#3e356b;\"/>\n   </g>\n   <g id=\"patch_85\">\n    <path clip-path=\"url(#p35c7f579cc)\" d=\"M 631.386638 429.456622 \nL 642.931466 429.456622 \nL 642.931466 425.024443 \nL 631.386638 425.024443 \nz\n\" style=\"fill:#3e356b;\"/>\n   </g>\n   <g id=\"patch_86\">\n    <path clip-path=\"url(#p35c7f579cc)\" d=\"M 654.476293 388.486544 \nL 666.021121 388.486544 \nL 666.021121 363.844738 \nL 654.476293 363.844738 \nz\n\" style=\"fill:#3e356b;\"/>\n   </g>\n   <g id=\"patch_87\">\n    <path clip-path=\"url(#p35c7f579cc)\" d=\"M 677.565948 417.0497 \nL 689.110776 417.0497 \nL 689.110776 406.458065 \nL 677.565948 406.458065 \nz\n\" style=\"fill:#3e356b;\"/>\n   </g>\n   <g id=\"patch_88\">\n    <path clip-path=\"url(#p35c7f579cc)\" d=\"M 700.655603 395.763114 \nL 712.200431 395.763114 \nL 712.200431 374.000461 \nL 700.655603 374.000461 \nz\n\" style=\"fill:#3e356b;\"/>\n   </g>\n   <g id=\"patch_89\">\n    <path clip-path=\"url(#p35c7f579cc)\" d=\"M 723.745259 422.224661 \nL 735.290086 422.224661 \nL 735.290086 414.037863 \nL 723.745259 414.037863 \nz\n\" style=\"fill:#3e356b;\"/>\n   </g>\n   <g id=\"patch_90\">\n    <path clip-path=\"url(#p35c7f579cc)\" d=\"M 77.234914 432.048318 \nL 88.779741 432.048318 \nL 88.779741 430.210123 \nL 77.234914 430.210123 \nz\n\" style=\"fill:#3b5698;\"/>\n   </g>\n   <g id=\"patch_91\">\n    <path clip-path=\"url(#p35c7f579cc)\" d=\"M 100.324569 412.469141 \nL 111.869397 412.469141 \nL 111.869397 403.156283 \nL 100.324569 403.156283 \nz\n\" style=\"fill:#3b5698;\"/>\n   </g>\n   <g id=\"patch_92\">\n    <path clip-path=\"url(#p35c7f579cc)\" d=\"M 123.414224 430.102031 \nL 134.959052 430.102031 \nL 134.959052 427.550465 \nL 123.414224 427.550465 \nz\n\" style=\"fill:#3b5698;\"/>\n   </g>\n   <g id=\"patch_93\">\n    <path clip-path=\"url(#p35c7f579cc)\" d=\"M 146.503879 417.127995 \nL 158.048707 417.127995 \nL 158.048707 408.64409 \nL 146.503879 408.64409 \nz\n\" style=\"fill:#3b5698;\"/>\n   </g>\n   <g id=\"patch_94\">\n    <path clip-path=\"url(#p35c7f579cc)\" d=\"M 169.593534 393.335845 \nL 181.138362 393.335845 \nL 181.138362 378.287739 \nL 169.593534 378.287739 \nz\n\" style=\"fill:#3b5698;\"/>\n   </g>\n   <g id=\"patch_95\">\n    <path clip-path=\"url(#p35c7f579cc)\" d=\"M 192.68319 410.900742 \nL 204.228017 410.900742 \nL 204.228017 401.11987 \nL 192.68319 401.11987 \nz\n\" style=\"fill:#3b5698;\"/>\n   </g>\n   <g id=\"patch_96\">\n    <path clip-path=\"url(#p35c7f579cc)\" d=\"M 215.772845 420.490741 \nL 227.317672 420.490741 \nL 227.317672 415.224622 \nL 215.772845 415.224622 \nz\n\" style=\"fill:#3b5698;\"/>\n   </g>\n   <g id=\"patch_97\">\n    <path clip-path=\"url(#p35c7f579cc)\" d=\"M 238.8625 405.402939 \nL 250.407328 405.402939 \nL 250.407328 393.756769 \nL 238.8625 393.756769 \nz\n\" style=\"fill:#3b5698;\"/>\n   </g>\n   <g id=\"patch_98\">\n    <path clip-path=\"url(#p35c7f579cc)\" d=\"M 261.952155 406.717615 \nL 273.496983 406.717615 \nL 273.496983 395.916425 \nL 261.952155 395.916425 \nz\n\" style=\"fill:#3b5698;\"/>\n   </g>\n   <g id=\"patch_99\">\n    <path clip-path=\"url(#p35c7f579cc)\" d=\"M 285.04181 422.055004 \nL 296.586638 422.055004 \nL 296.586638 415.189761 \nL 285.04181 415.189761 \nz\n\" style=\"fill:#3b5698;\"/>\n   </g>\n   <g id=\"patch_100\">\n    <path clip-path=\"url(#p35c7f579cc)\" d=\"M 308.131466 398.879534 \nL 319.676293 398.879534 \nL 319.676293 385.240387 \nL 308.131466 385.240387 \nz\n\" style=\"fill:#3b5698;\"/>\n   </g>\n   <g id=\"patch_101\">\n    <path clip-path=\"url(#p35c7f579cc)\" d=\"M 331.221121 326.004935 \nL 342.765948 326.004935 \nL 342.765948 287.464023 \nL 331.221121 287.464023 \nz\n\" style=\"fill:#3b5698;\"/>\n   </g>\n   <g id=\"patch_102\">\n    <path clip-path=\"url(#p35c7f579cc)\" d=\"M 354.310776 406.490159 \nL 365.855603 406.490159 \nL 365.855603 395.751853 \nL 354.310776 395.751853 \nz\n\" style=\"fill:#3b5698;\"/>\n   </g>\n   <g id=\"patch_103\">\n    <path clip-path=\"url(#p35c7f579cc)\" d=\"M 377.400431 357.645881 \nL 388.945259 357.645881 \nL 388.945259 329.840079 \nL 377.400431 329.840079 \nz\n\" style=\"fill:#3b5698;\"/>\n   </g>\n   <g id=\"patch_104\">\n    <path clip-path=\"url(#p35c7f579cc)\" d=\"M 400.490086 355.810033 \nL 412.034914 355.810033 \nL 412.034914 326.587298 \nL 400.490086 326.587298 \nz\n\" style=\"fill:#3b5698;\"/>\n   </g>\n   <g id=\"patch_105\">\n    <path clip-path=\"url(#p35c7f579cc)\" d=\"M 423.579741 385.188006 \nL 435.124569 385.188006 \nL 435.124569 366.168702 \nL 423.579741 366.168702 \nz\n\" style=\"fill:#3b5698;\"/>\n   </g>\n   <g id=\"patch_106\">\n    <path clip-path=\"url(#p35c7f579cc)\" d=\"M 446.669397 426.007702 \nL 458.214224 426.007702 \nL 458.214224 421.804503 \nL 446.669397 421.804503 \nz\n\" style=\"fill:#3b5698;\"/>\n   </g>\n   <g id=\"patch_107\">\n    <path clip-path=\"url(#p35c7f579cc)\" d=\"M 469.759052 420.854361 \nL 481.303879 420.854361 \nL 481.303879 414.854621 \nL 469.759052 414.854621 \nz\n\" style=\"fill:#3b5698;\"/>\n   </g>\n   <g id=\"patch_108\">\n    <path clip-path=\"url(#p35c7f579cc)\" d=\"M 492.848707 396.489928 \nL 504.393534 396.489928 \nL 504.393534 382.100031 \nL 492.848707 382.100031 \nz\n\" style=\"fill:#3b5698;\"/>\n   </g>\n   <g id=\"patch_109\">\n    <path clip-path=\"url(#p35c7f579cc)\" d=\"M 515.938362 432.640617 \nL 527.48319 432.640617 \nL 527.48319 430.792453 \nL 515.938362 430.792453 \nz\n\" style=\"fill:#3b5698;\"/>\n   </g>\n   <g id=\"patch_110\">\n    <path clip-path=\"url(#p35c7f579cc)\" d=\"M 539.028017 401.968113 \nL 550.572845 401.968113 \nL 550.572845 389.426098 \nL 539.028017 389.426098 \nz\n\" style=\"fill:#3b5698;\"/>\n   </g>\n   <g id=\"patch_111\">\n    <path clip-path=\"url(#p35c7f579cc)\" d=\"M 562.117672 413.075098 \nL 573.6625 413.075098 \nL 573.6625 403.71695 \nL 562.117672 403.71695 \nz\n\" style=\"fill:#3b5698;\"/>\n   </g>\n   <g id=\"patch_112\">\n    <path clip-path=\"url(#p35c7f579cc)\" d=\"M 585.207328 431.298525 \nL 596.752155 431.298525 \nL 596.752155 428.41181 \nL 585.207328 428.41181 \nz\n\" style=\"fill:#3b5698;\"/>\n   </g>\n   <g id=\"patch_113\">\n    <path clip-path=\"url(#p35c7f579cc)\" d=\"M 608.296983 419.897192 \nL 619.84181 419.897192 \nL 619.84181 413.423036 \nL 608.296983 413.423036 \nz\n\" style=\"fill:#3b5698;\"/>\n   </g>\n   <g id=\"patch_114\">\n    <path clip-path=\"url(#p35c7f579cc)\" d=\"M 631.386638 425.024443 \nL 642.931466 425.024443 \nL 642.931466 420.556482 \nL 631.386638 420.556482 \nz\n\" style=\"fill:#3b5698;\"/>\n   </g>\n   <g id=\"patch_115\">\n    <path clip-path=\"url(#p35c7f579cc)\" d=\"M 654.476293 363.844738 \nL 666.021121 363.844738 \nL 666.021121 339.277386 \nL 654.476293 339.277386 \nz\n\" style=\"fill:#3b5698;\"/>\n   </g>\n   <g id=\"patch_116\">\n    <path clip-path=\"url(#p35c7f579cc)\" d=\"M 677.565948 406.458065 \nL 689.110776 406.458065 \nL 689.110776 395.306622 \nL 677.565948 395.306622 \nz\n\" style=\"fill:#3b5698;\"/>\n   </g>\n   <g id=\"patch_117\">\n    <path clip-path=\"url(#p35c7f579cc)\" d=\"M 700.655603 374.000461 \nL 712.200431 374.000461 \nL 712.200431 351.552951 \nL 700.655603 351.552951 \nz\n\" style=\"fill:#3b5698;\"/>\n   </g>\n   <g id=\"patch_118\">\n    <path clip-path=\"url(#p35c7f579cc)\" d=\"M 723.745259 414.037863 \nL 735.290086 414.037863 \nL 735.290086 404.622439 \nL 723.745259 404.622439 \nz\n\" style=\"fill:#3b5698;\"/>\n   </g>\n   <g id=\"patch_119\">\n    <path clip-path=\"url(#p35c7f579cc)\" d=\"M 77.234914 430.210123 \nL 88.779741 430.210123 \nL 88.779741 428.165374 \nL 77.234914 428.165374 \nz\n\" style=\"fill:#357ba3;\"/>\n   </g>\n   <g id=\"patch_120\">\n    <path clip-path=\"url(#p35c7f579cc)\" d=\"M 100.324569 403.156283 \nL 111.869397 403.156283 \nL 111.869397 391.501339 \nL 100.324569 391.501339 \nz\n\" style=\"fill:#357ba3;\"/>\n   </g>\n   <g id=\"patch_121\">\n    <path clip-path=\"url(#p35c7f579cc)\" d=\"M 123.414224 427.550465 \nL 134.959052 427.550465 \nL 134.959052 424.99881 \nL 123.414224 424.99881 \nz\n\" style=\"fill:#357ba3;\"/>\n   </g>\n   <g id=\"patch_122\">\n    <path clip-path=\"url(#p35c7f579cc)\" d=\"M 146.503879 408.64409 \nL 158.048707 408.64409 \nL 158.048707 399.151387 \nL 146.503879 399.151387 \nz\n\" style=\"fill:#357ba3;\"/>\n   </g>\n   <g id=\"patch_123\">\n    <path clip-path=\"url(#p35c7f579cc)\" d=\"M 169.593534 378.287739 \nL 181.138362 378.287739 \nL 181.138362 362.587683 \nL 169.593534 362.587683 \nz\n\" style=\"fill:#357ba3;\"/>\n   </g>\n   <g id=\"patch_124\">\n    <path clip-path=\"url(#p35c7f579cc)\" d=\"M 192.68319 401.11987 \nL 204.228017 401.11987 \nL 204.228017 391.393511 \nL 192.68319 391.393511 \nz\n\" style=\"fill:#357ba3;\"/>\n   </g>\n   <g id=\"patch_125\">\n    <path clip-path=\"url(#p35c7f579cc)\" d=\"M 215.772845 415.224622 \nL 227.317672 415.224622 \nL 227.317672 409.251014 \nL 215.772845 409.251014 \nz\n\" style=\"fill:#357ba3;\"/>\n   </g>\n   <g id=\"patch_126\">\n    <path clip-path=\"url(#p35c7f579cc)\" d=\"M 238.8625 393.756769 \nL 250.407328 393.756769 \nL 250.407328 381.428849 \nL 238.8625 381.428849 \nz\n\" style=\"fill:#357ba3;\"/>\n   </g>\n   <g id=\"patch_127\">\n    <path clip-path=\"url(#p35c7f579cc)\" d=\"M 261.952155 395.916425 \nL 273.496983 395.916425 \nL 273.496983 384.749275 \nL 261.952155 384.749275 \nz\n\" style=\"fill:#357ba3;\"/>\n   </g>\n   <g id=\"patch_128\">\n    <path clip-path=\"url(#p35c7f579cc)\" d=\"M 285.04181 415.189761 \nL 296.586638 415.189761 \nL 296.586638 407.760903 \nL 285.04181 407.760903 \nz\n\" style=\"fill:#357ba3;\"/>\n   </g>\n   <g id=\"patch_129\">\n    <path clip-path=\"url(#p35c7f579cc)\" d=\"M 308.131466 385.240387 \nL 319.676293 385.240387 \nL 319.676293 371.450088 \nL 308.131466 371.450088 \nz\n\" style=\"fill:#357ba3;\"/>\n   </g>\n   <g id=\"patch_130\">\n    <path clip-path=\"url(#p35c7f579cc)\" d=\"M 331.221121 287.464023 \nL 342.765948 287.464023 \nL 342.765948 248.625862 \nL 331.221121 248.625862 \nz\n\" style=\"fill:#357ba3;\"/>\n   </g>\n   <g id=\"patch_131\">\n    <path clip-path=\"url(#p35c7f579cc)\" d=\"M 354.310776 395.751853 \nL 365.855603 395.751853 \nL 365.855603 385.074499 \nL 354.310776 385.074499 \nz\n\" style=\"fill:#357ba3;\"/>\n   </g>\n   <g id=\"patch_132\">\n    <path clip-path=\"url(#p35c7f579cc)\" d=\"M 377.400431 329.840079 \nL 388.945259 329.840079 \nL 388.945259 301.669803 \nL 377.400431 301.669803 \nz\n\" style=\"fill:#357ba3;\"/>\n   </g>\n   <g id=\"patch_133\">\n    <path clip-path=\"url(#p35c7f579cc)\" d=\"M 400.490086 326.587298 \nL 412.034914 326.587298 \nL 412.034914 295.789778 \nL 400.490086 295.789778 \nz\n\" style=\"fill:#357ba3;\"/>\n   </g>\n   <g id=\"patch_134\">\n    <path clip-path=\"url(#p35c7f579cc)\" d=\"M 423.579741 366.168702 \nL 435.124569 366.168702 \nL 435.124569 346.282042 \nL 423.579741 346.282042 \nz\n\" style=\"fill:#357ba3;\"/>\n   </g>\n   <g id=\"patch_135\">\n    <path clip-path=\"url(#p35c7f579cc)\" d=\"M 446.669397 421.804503 \nL 458.214224 421.804503 \nL 458.214224 417.194555 \nL 446.669397 417.194555 \nz\n\" style=\"fill:#357ba3;\"/>\n   </g>\n   <g id=\"patch_136\">\n    <path clip-path=\"url(#p35c7f579cc)\" d=\"M 469.759052 414.854621 \nL 481.303879 414.854621 \nL 481.303879 408.551127 \nL 469.759052 408.551127 \nz\n\" style=\"fill:#357ba3;\"/>\n   </g>\n   <g id=\"patch_137\">\n    <path clip-path=\"url(#p35c7f579cc)\" d=\"M 492.848707 382.100031 \nL 504.393534 382.100031 \nL 504.393534 367.150329 \nL 492.848707 367.150329 \nz\n\" style=\"fill:#357ba3;\"/>\n   </g>\n   <g id=\"patch_138\">\n    <path clip-path=\"url(#p35c7f579cc)\" d=\"M 515.938362 430.792453 \nL 527.48319 430.792453 \nL 527.48319 428.905333 \nL 515.938362 428.905333 \nz\n\" style=\"fill:#357ba3;\"/>\n   </g>\n   <g id=\"patch_139\">\n    <path clip-path=\"url(#p35c7f579cc)\" d=\"M 539.028017 389.426098 \nL 550.572845 389.426098 \nL 550.572845 376.362199 \nL 539.028017 376.362199 \nz\n\" style=\"fill:#357ba3;\"/>\n   </g>\n   <g id=\"patch_140\">\n    <path clip-path=\"url(#p35c7f579cc)\" d=\"M 562.117672 403.71695 \nL 573.6625 403.71695 \nL 573.6625 393.955181 \nL 562.117672 393.955181 \nz\n\" style=\"fill:#357ba3;\"/>\n   </g>\n   <g id=\"patch_141\">\n    <path clip-path=\"url(#p35c7f579cc)\" d=\"M 585.207328 428.41181 \nL 596.752155 428.41181 \nL 596.752155 425.144068 \nL 585.207328 425.144068 \nz\n\" style=\"fill:#357ba3;\"/>\n   </g>\n   <g id=\"patch_142\">\n    <path clip-path=\"url(#p35c7f579cc)\" d=\"M 608.296983 413.423036 \nL 619.84181 413.423036 \nL 619.84181 406.921657 \nL 608.296983 406.921657 \nz\n\" style=\"fill:#357ba3;\"/>\n   </g>\n   <g id=\"patch_143\">\n    <path clip-path=\"url(#p35c7f579cc)\" d=\"M 631.386638 420.556482 \nL 642.931466 420.556482 \nL 642.931466 415.918509 \nL 631.386638 415.918509 \nz\n\" style=\"fill:#357ba3;\"/>\n   </g>\n   <g id=\"patch_144\">\n    <path clip-path=\"url(#p35c7f579cc)\" d=\"M 654.476293 339.277386 \nL 666.021121 339.277386 \nL 666.021121 314.33054 \nL 654.476293 314.33054 \nz\n\" style=\"fill:#357ba3;\"/>\n   </g>\n   <g id=\"patch_145\">\n    <path clip-path=\"url(#p35c7f579cc)\" d=\"M 677.565948 395.306622 \nL 689.110776 395.306622 \nL 689.110776 381.598184 \nL 677.565948 381.598184 \nz\n\" style=\"fill:#357ba3;\"/>\n   </g>\n   <g id=\"patch_146\">\n    <path clip-path=\"url(#p35c7f579cc)\" d=\"M 700.655603 351.552951 \nL 712.200431 351.552951 \nL 712.200431 328.056943 \nL 700.655603 328.056943 \nz\n\" style=\"fill:#357ba3;\"/>\n   </g>\n   <g id=\"patch_147\">\n    <path clip-path=\"url(#p35c7f579cc)\" d=\"M 723.745259 404.622439 \nL 735.290086 404.622439 \nL 735.290086 394.647301 \nL 723.745259 394.647301 \nz\n\" style=\"fill:#357ba3;\"/>\n   </g>\n   <g id=\"patch_148\">\n    <path clip-path=\"url(#p35c7f579cc)\" d=\"M 77.234914 428.165374 \nL 88.779741 428.165374 \nL 88.779741 425.675571 \nL 77.234914 425.675571 \nz\n\" style=\"fill:#359fab;\"/>\n   </g>\n   <g id=\"patch_149\">\n    <path clip-path=\"url(#p35c7f579cc)\" d=\"M 100.324569 391.501339 \nL 111.869397 391.501339 \nL 111.869397 378.264702 \nL 100.324569 378.264702 \nz\n\" style=\"fill:#359fab;\"/>\n   </g>\n   <g id=\"patch_150\">\n    <path clip-path=\"url(#p35c7f579cc)\" d=\"M 123.414224 424.99881 \nL 134.959052 424.99881 \nL 134.959052 422.444958 \nL 123.414224 422.444958 \nz\n\" style=\"fill:#359fab;\"/>\n   </g>\n   <g id=\"patch_151\">\n    <path clip-path=\"url(#p35c7f579cc)\" d=\"M 146.503879 399.151387 \nL 158.048707 399.151387 \nL 158.048707 388.994567 \nL 146.503879 388.994567 \nz\n\" style=\"fill:#359fab;\"/>\n   </g>\n   <g id=\"patch_152\">\n    <path clip-path=\"url(#p35c7f579cc)\" d=\"M 169.593534 362.587683 \nL 181.138362 362.587683 \nL 181.138362 346.530365 \nL 169.593534 346.530365 \nz\n\" style=\"fill:#359fab;\"/>\n   </g>\n   <g id=\"patch_153\">\n    <path clip-path=\"url(#p35c7f579cc)\" d=\"M 192.68319 391.393511 \nL 204.228017 391.393511 \nL 204.228017 381.456056 \nL 192.68319 381.456056 \nz\n\" style=\"fill:#359fab;\"/>\n   </g>\n   <g id=\"patch_154\">\n    <path clip-path=\"url(#p35c7f579cc)\" d=\"M 215.772845 409.251014 \nL 227.317672 409.251014 \nL 227.317672 403.13132 \nL 215.772845 403.13132 \nz\n\" style=\"fill:#359fab;\"/>\n   </g>\n   <g id=\"patch_155\">\n    <path clip-path=\"url(#p35c7f579cc)\" d=\"M 238.8625 381.428849 \nL 250.407328 381.428849 \nL 250.407328 368.545551 \nL 238.8625 368.545551 \nz\n\" style=\"fill:#359fab;\"/>\n   </g>\n   <g id=\"patch_156\">\n    <path clip-path=\"url(#p35c7f579cc)\" d=\"M 261.952155 384.749275 \nL 273.496983 384.749275 \nL 273.496983 373.015794 \nL 261.952155 373.015794 \nz\n\" style=\"fill:#359fab;\"/>\n   </g>\n   <g id=\"patch_157\">\n    <path clip-path=\"url(#p35c7f579cc)\" d=\"M 285.04181 407.760903 \nL 296.586638 407.760903 \nL 296.586638 399.942419 \nL 285.04181 399.942419 \nz\n\" style=\"fill:#359fab;\"/>\n   </g>\n   <g id=\"patch_158\">\n    <path clip-path=\"url(#p35c7f579cc)\" d=\"M 308.131466 371.450088 \nL 319.676293 371.450088 \nL 319.676293 357.753786 \nL 308.131466 357.753786 \nz\n\" style=\"fill:#359fab;\"/>\n   </g>\n   <g id=\"patch_159\">\n    <path clip-path=\"url(#p35c7f579cc)\" d=\"M 331.221121 248.625862 \nL 342.765948 248.625862 \nL 342.765948 207.966254 \nL 331.221121 207.966254 \nz\n\" style=\"fill:#359fab;\"/>\n   </g>\n   <g id=\"patch_160\">\n    <path clip-path=\"url(#p35c7f579cc)\" d=\"M 354.310776 385.074499 \nL 365.855603 385.074499 \nL 365.855603 374.095394 \nL 354.310776 374.095394 \nz\n\" style=\"fill:#359fab;\"/>\n   </g>\n   <g id=\"patch_161\">\n    <path clip-path=\"url(#p35c7f579cc)\" d=\"M 377.400431 301.669803 \nL 388.945259 301.669803 \nL 388.945259 271.967622 \nL 377.400431 271.967622 \nz\n\" style=\"fill:#359fab;\"/>\n   </g>\n   <g id=\"patch_162\">\n    <path clip-path=\"url(#p35c7f579cc)\" d=\"M 400.490086 295.789778 \nL 412.034914 295.789778 \nL 412.034914 264.016736 \nL 400.490086 264.016736 \nz\n\" style=\"fill:#359fab;\"/>\n   </g>\n   <g id=\"patch_163\">\n    <path clip-path=\"url(#p35c7f579cc)\" d=\"M 423.579741 346.282042 \nL 435.124569 346.282042 \nL 435.124569 325.761693 \nL 423.579741 325.761693 \nz\n\" style=\"fill:#359fab;\"/>\n   </g>\n   <g id=\"patch_164\">\n    <path clip-path=\"url(#p35c7f579cc)\" d=\"M 446.669397 417.194555 \nL 458.214224 417.194555 \nL 458.214224 412.317758 \nL 446.669397 412.317758 \nz\n\" style=\"fill:#359fab;\"/>\n   </g>\n   <g id=\"patch_165\">\n    <path clip-path=\"url(#p35c7f579cc)\" d=\"M 469.759052 408.551127 \nL 481.303879 408.551127 \nL 481.303879 402.165739 \nL 469.759052 402.165739 \nz\n\" style=\"fill:#359fab;\"/>\n   </g>\n   <g id=\"patch_166\">\n    <path clip-path=\"url(#p35c7f579cc)\" d=\"M 492.848707 367.150329 \nL 504.393534 367.150329 \nL 504.393534 351.387406 \nL 492.848707 351.387406 \nz\n\" style=\"fill:#359fab;\"/>\n   </g>\n   <g id=\"patch_167\">\n    <path clip-path=\"url(#p35c7f579cc)\" d=\"M 515.938362 428.905333 \nL 527.48319 428.905333 \nL 527.48319 427.005263 \nL 515.938362 427.005263 \nz\n\" style=\"fill:#359fab;\"/>\n   </g>\n   <g id=\"patch_168\">\n    <path clip-path=\"url(#p35c7f579cc)\" d=\"M 539.028017 376.362199 \nL 550.572845 376.362199 \nL 550.572845 362.493695 \nL 539.028017 362.493695 \nz\n\" style=\"fill:#359fab;\"/>\n   </g>\n   <g id=\"patch_169\">\n    <path clip-path=\"url(#p35c7f579cc)\" d=\"M 562.117672 393.955181 \nL 573.6625 393.955181 \nL 573.6625 383.53856 \nL 562.117672 383.53856 \nz\n\" style=\"fill:#359fab;\"/>\n   </g>\n   <g id=\"patch_170\">\n    <path clip-path=\"url(#p35c7f579cc)\" d=\"M 585.207328 425.144068 \nL 596.752155 425.144068 \nL 596.752155 421.627203 \nL 585.207328 421.627203 \nz\n\" style=\"fill:#359fab;\"/>\n   </g>\n   <g id=\"patch_171\">\n    <path clip-path=\"url(#p35c7f579cc)\" d=\"M 608.296983 406.921657 \nL 619.84181 406.921657 \nL 619.84181 400.013367 \nL 608.296983 400.013367 \nz\n\" style=\"fill:#359fab;\"/>\n   </g>\n   <g id=\"patch_172\">\n    <path clip-path=\"url(#p35c7f579cc)\" d=\"M 631.386638 415.918509 \nL 642.931466 415.918509 \nL 642.931466 411.168697 \nL 631.386638 411.168697 \nz\n\" style=\"fill:#359fab;\"/>\n   </g>\n   <g id=\"patch_173\">\n    <path clip-path=\"url(#p35c7f579cc)\" d=\"M 654.476293 314.33054 \nL 666.021121 314.33054 \nL 666.021121 288.587959 \nL 654.476293 288.587959 \nz\n\" style=\"fill:#359fab;\"/>\n   </g>\n   <g id=\"patch_174\">\n    <path clip-path=\"url(#p35c7f579cc)\" d=\"M 677.565948 381.598184 \nL 689.110776 381.598184 \nL 689.110776 365.81839 \nL 677.565948 365.81839 \nz\n\" style=\"fill:#359fab;\"/>\n   </g>\n   <g id=\"patch_175\">\n    <path clip-path=\"url(#p35c7f579cc)\" d=\"M 700.655603 328.056943 \nL 712.200431 328.056943 \nL 712.200431 303.439187 \nL 700.655603 303.439187 \nz\n\" style=\"fill:#359fab;\"/>\n   </g>\n   <g id=\"patch_176\">\n    <path clip-path=\"url(#p35c7f579cc)\" d=\"M 723.745259 394.647301 \nL 735.290086 394.647301 \nL 735.290086 384.283719 \nL 723.745259 384.283719 \nz\n\" style=\"fill:#359fab;\"/>\n   </g>\n   <g id=\"patch_177\">\n    <path clip-path=\"url(#p35c7f579cc)\" d=\"M 77.234914 425.675571 \nL 88.779741 425.675571 \nL 88.779741 422.966457 \nL 77.234914 422.966457 \nz\n\" style=\"fill:#4bc2ad;\"/>\n   </g>\n   <g id=\"patch_178\">\n    <path clip-path=\"url(#p35c7f579cc)\" d=\"M 100.324569 378.264702 \nL 111.869397 378.264702 \nL 111.869397 366.014491 \nL 100.324569 366.014491 \nz\n\" style=\"fill:#4bc2ad;\"/>\n   </g>\n   <g id=\"patch_179\">\n    <path clip-path=\"url(#p35c7f579cc)\" d=\"M 123.414224 422.444958 \nL 134.959052 422.444958 \nL 134.959052 419.84847 \nL 123.414224 419.84847 \nz\n\" style=\"fill:#4bc2ad;\"/>\n   </g>\n   <g id=\"patch_180\">\n    <path clip-path=\"url(#p35c7f579cc)\" d=\"M 146.503879 388.994567 \nL 158.048707 388.994567 \nL 158.048707 378.230545 \nL 146.503879 378.230545 \nz\n\" style=\"fill:#4bc2ad;\"/>\n   </g>\n   <g id=\"patch_181\">\n    <path clip-path=\"url(#p35c7f579cc)\" d=\"M 169.593534 346.530365 \nL 181.138362 346.530365 \nL 181.138362 330.663305 \nL 169.593534 330.663305 \nz\n\" style=\"fill:#4bc2ad;\"/>\n   </g>\n   <g id=\"patch_182\">\n    <path clip-path=\"url(#p35c7f579cc)\" d=\"M 192.68319 381.456056 \nL 204.228017 381.456056 \nL 204.228017 371.525225 \nL 192.68319 371.525225 \nz\n\" style=\"fill:#4bc2ad;\"/>\n   </g>\n   <g id=\"patch_183\">\n    <path clip-path=\"url(#p35c7f579cc)\" d=\"M 215.772845 403.13132 \nL 227.317672 403.13132 \nL 227.317672 397.194847 \nL 215.772845 397.194847 \nz\n\" style=\"fill:#4bc2ad;\"/>\n   </g>\n   <g id=\"patch_184\">\n    <path clip-path=\"url(#p35c7f579cc)\" d=\"M 238.8625 368.545551 \nL 250.407328 368.545551 \nL 250.407328 355.607632 \nL 238.8625 355.607632 \nz\n\" style=\"fill:#4bc2ad;\"/>\n   </g>\n   <g id=\"patch_185\">\n    <path clip-path=\"url(#p35c7f579cc)\" d=\"M 261.952155 373.015794 \nL 273.496983 373.015794 \nL 273.496983 360.685983 \nL 261.952155 360.685983 \nz\n\" style=\"fill:#4bc2ad;\"/>\n   </g>\n   <g id=\"patch_186\">\n    <path clip-path=\"url(#p35c7f579cc)\" d=\"M 285.04181 399.942419 \nL 296.586638 399.942419 \nL 296.586638 392.14809 \nL 285.04181 392.14809 \nz\n\" style=\"fill:#4bc2ad;\"/>\n   </g>\n   <g id=\"patch_187\">\n    <path clip-path=\"url(#p35c7f579cc)\" d=\"M 308.131466 357.753786 \nL 319.676293 357.753786 \nL 319.676293 343.500497 \nL 308.131466 343.500497 \nz\n\" style=\"fill:#4bc2ad;\"/>\n   </g>\n   <g id=\"patch_188\">\n    <path clip-path=\"url(#p35c7f579cc)\" d=\"M 331.221121 207.966254 \nL 342.765948 207.966254 \nL 342.765948 165.399636 \nL 331.221121 165.399636 \nz\n\" style=\"fill:#4bc2ad;\"/>\n   </g>\n   <g id=\"patch_189\">\n    <path clip-path=\"url(#p35c7f579cc)\" d=\"M 354.310776 374.095394 \nL 365.855603 374.095394 \nL 365.855603 362.84377 \nL 354.310776 362.84377 \nz\n\" style=\"fill:#4bc2ad;\"/>\n   </g>\n   <g id=\"patch_190\">\n    <path clip-path=\"url(#p35c7f579cc)\" d=\"M 377.400431 271.967622 \nL 388.945259 271.967622 \nL 388.945259 240.609713 \nL 377.400431 240.609713 \nz\n\" style=\"fill:#4bc2ad;\"/>\n   </g>\n   <g id=\"patch_191\">\n    <path clip-path=\"url(#p35c7f579cc)\" d=\"M 400.490086 264.016736 \nL 412.034914 264.016736 \nL 412.034914 231.684799 \nL 400.490086 231.684799 \nz\n\" style=\"fill:#4bc2ad;\"/>\n   </g>\n   <g id=\"patch_192\">\n    <path clip-path=\"url(#p35c7f579cc)\" d=\"M 423.579741 325.761693 \nL 435.124569 325.761693 \nL 435.124569 304.330818 \nL 423.579741 304.330818 \nz\n\" style=\"fill:#4bc2ad;\"/>\n   </g>\n   <g id=\"patch_193\">\n    <path clip-path=\"url(#p35c7f579cc)\" d=\"M 446.669397 412.317758 \nL 458.214224 412.317758 \nL 458.214224 407.822105 \nL 446.669397 407.822105 \nz\n\" style=\"fill:#4bc2ad;\"/>\n   </g>\n   <g id=\"patch_194\">\n    <path clip-path=\"url(#p35c7f579cc)\" d=\"M 469.759052 402.165739 \nL 481.303879 402.165739 \nL 481.303879 395.759212 \nL 469.759052 395.759212 \nz\n\" style=\"fill:#4bc2ad;\"/>\n   </g>\n   <g id=\"patch_195\">\n    <path clip-path=\"url(#p35c7f579cc)\" d=\"M 492.848707 351.387406 \nL 504.393534 351.387406 \nL 504.393534 334.95924 \nL 492.848707 334.95924 \nz\n\" style=\"fill:#4bc2ad;\"/>\n   </g>\n   <g id=\"patch_196\">\n    <path clip-path=\"url(#p35c7f579cc)\" d=\"M 515.938362 427.005263 \nL 527.48319 427.005263 \nL 527.48319 425.05127 \nL 515.938362 425.05127 \nz\n\" style=\"fill:#4bc2ad;\"/>\n   </g>\n   <g id=\"patch_197\">\n    <path clip-path=\"url(#p35c7f579cc)\" d=\"M 539.028017 362.493695 \nL 550.572845 362.493695 \nL 550.572845 348.012149 \nL 539.028017 348.012149 \nz\n\" style=\"fill:#4bc2ad;\"/>\n   </g>\n   <g id=\"patch_198\">\n    <path clip-path=\"url(#p35c7f579cc)\" d=\"M 562.117672 383.53856 \nL 573.6625 383.53856 \nL 573.6625 372.974804 \nL 562.117672 372.974804 \nz\n\" style=\"fill:#4bc2ad;\"/>\n   </g>\n   <g id=\"patch_199\">\n    <path clip-path=\"url(#p35c7f579cc)\" d=\"M 585.207328 421.627203 \nL 596.752155 421.627203 \nL 596.752155 417.968271 \nL 585.207328 417.968271 \nz\n\" style=\"fill:#4bc2ad;\"/>\n   </g>\n   <g id=\"patch_200\">\n    <path clip-path=\"url(#p35c7f579cc)\" d=\"M 608.296983 400.013367 \nL 619.84181 400.013367 \nL 619.84181 393.097042 \nL 608.296983 393.097042 \nz\n\" style=\"fill:#4bc2ad;\"/>\n   </g>\n   <g id=\"patch_201\">\n    <path clip-path=\"url(#p35c7f579cc)\" d=\"M 631.386638 411.168697 \nL 642.931466 411.168697 \nL 642.931466 406.379598 \nL 631.386638 406.379598 \nz\n\" style=\"fill:#4bc2ad;\"/>\n   </g>\n   <g id=\"patch_202\">\n    <path clip-path=\"url(#p35c7f579cc)\" d=\"M 654.476293 288.587959 \nL 666.021121 288.587959 \nL 666.021121 262.320595 \nL 654.476293 262.320595 \nz\n\" style=\"fill:#4bc2ad;\"/>\n   </g>\n   <g id=\"patch_203\">\n    <path clip-path=\"url(#p35c7f579cc)\" d=\"M 677.565948 365.81839 \nL 689.110776 365.81839 \nL 689.110776 350.68603 \nL 677.565948 350.68603 \nz\n\" style=\"fill:#4bc2ad;\"/>\n   </g>\n   <g id=\"patch_204\">\n    <path clip-path=\"url(#p35c7f579cc)\" d=\"M 700.655603 303.439187 \nL 712.200431 303.439187 \nL 712.200431 278.170258 \nL 700.655603 278.170258 \nz\n\" style=\"fill:#4bc2ad;\"/>\n   </g>\n   <g id=\"patch_205\">\n    <path clip-path=\"url(#p35c7f579cc)\" d=\"M 723.745259 384.283719 \nL 735.290086 384.283719 \nL 735.290086 373.902236 \nL 723.745259 373.902236 \nz\n\" style=\"fill:#4bc2ad;\"/>\n   </g>\n   <g id=\"patch_206\">\n    <path clip-path=\"url(#p35c7f579cc)\" d=\"M 77.234914 422.966457 \nL 88.779741 422.966457 \nL 88.779741 420.730362 \nL 77.234914 420.730362 \nz\n\" style=\"fill:#99ddb6;\"/>\n   </g>\n   <g id=\"patch_207\">\n    <path clip-path=\"url(#p35c7f579cc)\" d=\"M 100.324569 366.014491 \nL 111.869397 366.014491 \nL 111.869397 352.56203 \nL 100.324569 352.56203 \nz\n\" style=\"fill:#99ddb6;\"/>\n   </g>\n   <g id=\"patch_208\">\n    <path clip-path=\"url(#p35c7f579cc)\" d=\"M 123.414224 419.84847 \nL 134.959052 419.84847 \nL 134.959052 417.31762 \nL 123.414224 417.31762 \nz\n\" style=\"fill:#99ddb6;\"/>\n   </g>\n   <g id=\"patch_209\">\n    <path clip-path=\"url(#p35c7f579cc)\" d=\"M 146.503879 378.230545 \nL 158.048707 378.230545 \nL 158.048707 366.969272 \nL 146.503879 366.969272 \nz\n\" style=\"fill:#99ddb6;\"/>\n   </g>\n   <g id=\"patch_210\">\n    <path clip-path=\"url(#p35c7f579cc)\" d=\"M 169.593534 330.663305 \nL 181.138362 330.663305 \nL 181.138362 313.993866 \nL 169.593534 313.993866 \nz\n\" style=\"fill:#99ddb6;\"/>\n   </g>\n   <g id=\"patch_211\">\n    <path clip-path=\"url(#p35c7f579cc)\" d=\"M 192.68319 371.525225 \nL 204.228017 371.525225 \nL 204.228017 360.960593 \nL 192.68319 360.960593 \nz\n\" style=\"fill:#99ddb6;\"/>\n   </g>\n   <g id=\"patch_212\">\n    <path clip-path=\"url(#p35c7f579cc)\" d=\"M 215.772845 397.194847 \nL 227.317672 397.194847 \nL 227.317672 391.088817 \nL 215.772845 391.088817 \nz\n\" style=\"fill:#99ddb6;\"/>\n   </g>\n   <g id=\"patch_213\">\n    <path clip-path=\"url(#p35c7f579cc)\" d=\"M 238.8625 355.607632 \nL 250.407328 355.607632 \nL 250.407328 342.150983 \nL 238.8625 342.150983 \nz\n\" style=\"fill:#99ddb6;\"/>\n   </g>\n   <g id=\"patch_214\">\n    <path clip-path=\"url(#p35c7f579cc)\" d=\"M 261.952155 360.685983 \nL 273.496983 360.685983 \nL 273.496983 347.87084 \nL 261.952155 347.87084 \nz\n\" style=\"fill:#99ddb6;\"/>\n   </g>\n   <g id=\"patch_215\">\n    <path clip-path=\"url(#p35c7f579cc)\" d=\"M 285.04181 392.14809 \nL 296.586638 392.14809 \nL 296.586638 383.978522 \nL 285.04181 383.978522 \nz\n\" style=\"fill:#99ddb6;\"/>\n   </g>\n   <g id=\"patch_216\">\n    <path clip-path=\"url(#p35c7f579cc)\" d=\"M 308.131466 343.500497 \nL 319.676293 343.500497 \nL 319.676293 328.361749 \nL 308.131466 328.361749 \nz\n\" style=\"fill:#99ddb6;\"/>\n   </g>\n   <g id=\"patch_217\">\n    <path clip-path=\"url(#p35c7f579cc)\" d=\"M 331.221121 165.399636 \nL 342.765948 165.399636 \nL 342.765948 121.275791 \nL 331.221121 121.275791 \nz\n\" style=\"fill:#99ddb6;\"/>\n   </g>\n   <g id=\"patch_218\">\n    <path clip-path=\"url(#p35c7f579cc)\" d=\"M 354.310776 362.84377 \nL 365.855603 362.84377 \nL 365.855603 351.513721 \nL 354.310776 351.513721 \nz\n\" style=\"fill:#99ddb6;\"/>\n   </g>\n   <g id=\"patch_219\">\n    <path clip-path=\"url(#p35c7f579cc)\" d=\"M 377.400431 240.609713 \nL 388.945259 240.609713 \nL 388.945259 207.738243 \nL 377.400431 207.738243 \nz\n\" style=\"fill:#99ddb6;\"/>\n   </g>\n   <g id=\"patch_220\">\n    <path clip-path=\"url(#p35c7f579cc)\" d=\"M 400.490086 231.684799 \nL 412.034914 231.684799 \nL 412.034914 196.991049 \nL 400.490086 196.991049 \nz\n\" style=\"fill:#99ddb6;\"/>\n   </g>\n   <g id=\"patch_221\">\n    <path clip-path=\"url(#p35c7f579cc)\" d=\"M 423.579741 304.330818 \nL 435.124569 304.330818 \nL 435.124569 281.929822 \nL 423.579741 281.929822 \nz\n\" style=\"fill:#99ddb6;\"/>\n   </g>\n   <g id=\"patch_222\">\n    <path clip-path=\"url(#p35c7f579cc)\" d=\"M 446.669397 407.822105 \nL 458.214224 407.822105 \nL 458.214224 402.319337 \nL 446.669397 402.319337 \nz\n\" style=\"fill:#99ddb6;\"/>\n   </g>\n   <g id=\"patch_223\">\n    <path clip-path=\"url(#p35c7f579cc)\" d=\"M 469.759052 395.759212 \nL 481.303879 395.759212 \nL 481.303879 388.938367 \nL 469.759052 388.938367 \nz\n\" style=\"fill:#99ddb6;\"/>\n   </g>\n   <g id=\"patch_224\">\n    <path clip-path=\"url(#p35c7f579cc)\" d=\"M 492.848707 334.95924 \nL 504.393534 334.95924 \nL 504.393534 318.247388 \nL 492.848707 318.247388 \nz\n\" style=\"fill:#99ddb6;\"/>\n   </g>\n   <g id=\"patch_225\">\n    <path clip-path=\"url(#p35c7f579cc)\" d=\"M 515.938362 425.05127 \nL 527.48319 425.05127 \nL 527.48319 423.14597 \nL 515.938362 423.14597 \nz\n\" style=\"fill:#99ddb6;\"/>\n   </g>\n   <g id=\"patch_226\">\n    <path clip-path=\"url(#p35c7f579cc)\" d=\"M 539.028017 348.012149 \nL 550.572845 348.012149 \nL 550.572845 333.192697 \nL 539.028017 333.192697 \nz\n\" style=\"fill:#99ddb6;\"/>\n   </g>\n   <g id=\"patch_227\">\n    <path clip-path=\"url(#p35c7f579cc)\" d=\"M 562.117672 372.974804 \nL 573.6625 372.974804 \nL 573.6625 362.079553 \nL 562.117672 362.079553 \nz\n\" style=\"fill:#99ddb6;\"/>\n   </g>\n   <g id=\"patch_228\">\n    <path clip-path=\"url(#p35c7f579cc)\" d=\"M 585.207328 417.968271 \nL 596.752155 417.968271 \nL 596.752155 414.277064 \nL 585.207328 414.277064 \nz\n\" style=\"fill:#99ddb6;\"/>\n   </g>\n   <g id=\"patch_229\">\n    <path clip-path=\"url(#p35c7f579cc)\" d=\"M 608.296983 393.097042 \nL 619.84181 393.097042 \nL 619.84181 385.884682 \nL 608.296983 385.884682 \nz\n\" style=\"fill:#99ddb6;\"/>\n   </g>\n   <g id=\"patch_230\">\n    <path clip-path=\"url(#p35c7f579cc)\" d=\"M 631.386638 406.379598 \nL 642.931466 406.379598 \nL 642.931466 401.553714 \nL 631.386638 401.553714 \nz\n\" style=\"fill:#99ddb6;\"/>\n   </g>\n   <g id=\"patch_231\">\n    <path clip-path=\"url(#p35c7f579cc)\" d=\"M 654.476293 262.320595 \nL 666.021121 262.320595 \nL 666.021121 235.511999 \nL 654.476293 235.511999 \nz\n\" style=\"fill:#99ddb6;\"/>\n   </g>\n   <g id=\"patch_232\">\n    <path clip-path=\"url(#p35c7f579cc)\" d=\"M 677.565948 350.68603 \nL 689.110776 350.68603 \nL 689.110776 334.975682 \nL 677.565948 334.975682 \nz\n\" style=\"fill:#99ddb6;\"/>\n   </g>\n   <g id=\"patch_233\">\n    <path clip-path=\"url(#p35c7f579cc)\" d=\"M 700.655603 278.170258 \nL 712.200431 278.170258 \nL 712.200431 251.897161 \nL 700.655603 251.897161 \nz\n\" style=\"fill:#99ddb6;\"/>\n   </g>\n   <g id=\"patch_234\">\n    <path clip-path=\"url(#p35c7f579cc)\" d=\"M 723.745259 373.902236 \nL 735.290086 373.902236 \nL 735.290086 363.20671 \nL 723.745259 363.20671 \nz\n\" style=\"fill:#99ddb6;\"/>\n   </g>\n   <g id=\"patch_235\">\n    <path clip-path=\"url(#p35c7f579cc)\" d=\"M 77.234914 420.730362 \nL 88.779741 420.730362 \nL 88.779741 418.560003 \nL 77.234914 418.560003 \nz\n\" style=\"fill:#def5e5;\"/>\n   </g>\n   <g id=\"patch_236\">\n    <path clip-path=\"url(#p35c7f579cc)\" d=\"M 100.324569 352.56203 \nL 111.869397 352.56203 \nL 111.869397 338.760328 \nL 100.324569 338.760328 \nz\n\" style=\"fill:#def5e5;\"/>\n   </g>\n   <g id=\"patch_237\">\n    <path clip-path=\"url(#p35c7f579cc)\" d=\"M 123.414224 417.31762 \nL 134.959052 417.31762 \nL 134.959052 414.779744 \nL 123.414224 414.779744 \nz\n\" style=\"fill:#def5e5;\"/>\n   </g>\n   <g id=\"patch_238\">\n    <path clip-path=\"url(#p35c7f579cc)\" d=\"M 146.503879 366.969272 \nL 158.048707 366.969272 \nL 158.048707 355.237142 \nL 146.503879 355.237142 \nz\n\" style=\"fill:#def5e5;\"/>\n   </g>\n   <g id=\"patch_239\">\n    <path clip-path=\"url(#p35c7f579cc)\" d=\"M 169.593534 313.993866 \nL 181.138362 313.993866 \nL 181.138362 296.530939 \nL 169.593534 296.530939 \nz\n\" style=\"fill:#def5e5;\"/>\n   </g>\n   <g id=\"patch_240\">\n    <path clip-path=\"url(#p35c7f579cc)\" d=\"M 192.68319 360.960593 \nL 204.228017 360.960593 \nL 204.228017 350.030648 \nL 192.68319 350.030648 \nz\n\" style=\"fill:#def5e5;\"/>\n   </g>\n   <g id=\"patch_241\">\n    <path clip-path=\"url(#p35c7f579cc)\" d=\"M 215.772845 391.088817 \nL 227.317672 391.088817 \nL 227.317672 384.559373 \nL 215.772845 384.559373 \nz\n\" style=\"fill:#def5e5;\"/>\n   </g>\n   <g id=\"patch_242\">\n    <path clip-path=\"url(#p35c7f579cc)\" d=\"M 238.8625 342.150983 \nL 250.407328 342.150983 \nL 250.407328 328.599166 \nL 238.8625 328.599166 \nz\n\" style=\"fill:#def5e5;\"/>\n   </g>\n   <g id=\"patch_243\">\n    <path clip-path=\"url(#p35c7f579cc)\" d=\"M 261.952155 347.87084 \nL 273.496983 347.87084 \nL 273.496983 334.690023 \nL 261.952155 334.690023 \nz\n\" style=\"fill:#def5e5;\"/>\n   </g>\n   <g id=\"patch_244\">\n    <path clip-path=\"url(#p35c7f579cc)\" d=\"M 285.04181 383.978522 \nL 296.586638 383.978522 \nL 296.586638 375.200682 \nL 285.04181 375.200682 \nz\n\" style=\"fill:#def5e5;\"/>\n   </g>\n   <g id=\"patch_245\">\n    <path clip-path=\"url(#p35c7f579cc)\" d=\"M 308.131466 328.361749 \nL 319.676293 328.361749 \nL 319.676293 312.75084 \nL 308.131466 312.75084 \nz\n\" style=\"fill:#def5e5;\"/>\n   </g>\n   <g id=\"patch_246\">\n    <path clip-path=\"url(#p35c7f579cc)\" d=\"M 331.221121 121.275791 \nL 342.765948 121.275791 \nL 342.765948 75.72 \nL 331.221121 75.72 \nz\n\" style=\"fill:#def5e5;\"/>\n   </g>\n   <g id=\"patch_247\">\n    <path clip-path=\"url(#p35c7f579cc)\" d=\"M 354.310776 351.513721 \nL 365.855603 351.513721 \nL 365.855603 339.884265 \nL 354.310776 339.884265 \nz\n\" style=\"fill:#def5e5;\"/>\n   </g>\n   <g id=\"patch_248\">\n    <path clip-path=\"url(#p35c7f579cc)\" d=\"M 377.400431 207.738243 \nL 388.945259 207.738243 \nL 388.945259 173.722215 \nL 377.400431 173.722215 \nz\n\" style=\"fill:#def5e5;\"/>\n   </g>\n   <g id=\"patch_249\">\n    <path clip-path=\"url(#p35c7f579cc)\" d=\"M 400.490086 196.991049 \nL 412.034914 196.991049 \nL 412.034914 160.300229 \nL 400.490086 160.300229 \nz\n\" style=\"fill:#def5e5;\"/>\n   </g>\n   <g id=\"patch_250\">\n    <path clip-path=\"url(#p35c7f579cc)\" d=\"M 423.579741 281.929822 \nL 435.124569 281.929822 \nL 435.124569 257.896681 \nL 423.579741 257.896681 \nz\n\" style=\"fill:#def5e5;\"/>\n   </g>\n   <g id=\"patch_251\">\n    <path clip-path=\"url(#p35c7f579cc)\" d=\"M 446.669397 402.319337 \nL 458.214224 402.319337 \nL 458.214224 396.898926 \nL 446.669397 396.898926 \nz\n\" style=\"fill:#def5e5;\"/>\n   </g>\n   <g id=\"patch_252\">\n    <path clip-path=\"url(#p35c7f579cc)\" d=\"M 469.759052 388.938367 \nL 481.303879 388.938367 \nL 481.303879 381.693482 \nL 469.759052 381.693482 \nz\n\" style=\"fill:#def5e5;\"/>\n   </g>\n   <g id=\"patch_253\">\n    <path clip-path=\"url(#p35c7f579cc)\" d=\"M 492.848707 318.247388 \nL 504.393534 318.247388 \nL 504.393534 300.981961 \nL 492.848707 300.981961 \nz\n\" style=\"fill:#def5e5;\"/>\n   </g>\n   <g id=\"patch_254\">\n    <path clip-path=\"url(#p35c7f579cc)\" d=\"M 515.938362 423.14597 \nL 527.48319 423.14597 \nL 527.48319 421.202998 \nL 515.938362 421.202998 \nz\n\" style=\"fill:#def5e5;\"/>\n   </g>\n   <g id=\"patch_255\">\n    <path clip-path=\"url(#p35c7f579cc)\" d=\"M 539.028017 333.192697 \nL 550.572845 333.192697 \nL 550.572845 317.854925 \nL 539.028017 317.854925 \nz\n\" style=\"fill:#def5e5;\"/>\n   </g>\n   <g id=\"patch_256\">\n    <path clip-path=\"url(#p35c7f579cc)\" d=\"M 562.117672 362.079553 \nL 573.6625 362.079553 \nL 573.6625 350.755733 \nL 562.117672 350.755733 \nz\n\" style=\"fill:#def5e5;\"/>\n   </g>\n   <g id=\"patch_257\">\n    <path clip-path=\"url(#p35c7f579cc)\" d=\"M 585.207328 414.277064 \nL 596.752155 414.277064 \nL 596.752155 410.410468 \nL 585.207328 410.410468 \nz\n\" style=\"fill:#def5e5;\"/>\n   </g>\n   <g id=\"patch_258\">\n    <path clip-path=\"url(#p35c7f579cc)\" d=\"M 608.296983 385.884682 \nL 619.84181 385.884682 \nL 619.84181 378.417174 \nL 608.296983 378.417174 \nz\n\" style=\"fill:#def5e5;\"/>\n   </g>\n   <g id=\"patch_259\">\n    <path clip-path=\"url(#p35c7f579cc)\" d=\"M 631.386638 401.553714 \nL 642.931466 401.553714 \nL 642.931466 396.549507 \nL 631.386638 396.549507 \nz\n\" style=\"fill:#def5e5;\"/>\n   </g>\n   <g id=\"patch_260\">\n    <path clip-path=\"url(#p35c7f579cc)\" d=\"M 654.476293 235.511999 \nL 666.021121 235.511999 \nL 666.021121 208.309235 \nL 654.476293 208.309235 \nz\n\" style=\"fill:#def5e5;\"/>\n   </g>\n   <g id=\"patch_261\">\n    <path clip-path=\"url(#p35c7f579cc)\" d=\"M 677.565948 334.975682 \nL 689.110776 334.975682 \nL 689.110776 318.989074 \nL 677.565948 318.989074 \nz\n\" style=\"fill:#def5e5;\"/>\n   </g>\n   <g id=\"patch_262\">\n    <path clip-path=\"url(#p35c7f579cc)\" d=\"M 700.655603 251.897161 \nL 712.200431 251.897161 \nL 712.200431 225.167639 \nL 700.655603 225.167639 \nz\n\" style=\"fill:#def5e5;\"/>\n   </g>\n   <g id=\"patch_263\">\n    <path clip-path=\"url(#p35c7f579cc)\" d=\"M 723.745259 363.20671 \nL 735.290086 363.20671 \nL 735.290086 351.893582 \nL 723.745259 351.893582 \nz\n\" style=\"fill:#def5e5;\"/>\n   </g>\n   <g id=\"matplotlib.axis_1\">\n    <g id=\"xtick_1\">\n     <g id=\"line2d_1\">\n      <defs>\n       <path d=\"M 0 0 \nL 0 3.5 \n\" id=\"md833960a0a\" style=\"stroke:#000000;stroke-width:0.8;\"/>\n      </defs>\n      <g>\n       <use style=\"stroke:#000000;stroke-width:0.8;\" x=\"83.007328\" xlink:href=\"#md833960a0a\" y=\"438.12\"/>\n      </g>\n     </g>\n     <g id=\"text_1\">\n      <!--     Agriculture, forestry, fishing and hunting -->\n      <g transform=\"translate(85.766703 661.248125)rotate(-90)scale(0.1 -0.1)\">\n       <defs>\n        <path id=\"DejaVuSans-32\"/>\n        <path d=\"M 34.1875 63.1875 \nL 20.796875 26.90625 \nL 47.609375 26.90625 \nz\nM 28.609375 72.90625 \nL 39.796875 72.90625 \nL 67.578125 0 \nL 57.328125 0 \nL 50.6875 18.703125 \nL 17.828125 18.703125 \nL 11.1875 0 \nL 0.78125 0 \nz\n\" id=\"DejaVuSans-65\"/>\n        <path d=\"M 45.40625 27.984375 \nQ 45.40625 37.75 41.375 43.109375 \nQ 37.359375 48.484375 30.078125 48.484375 \nQ 22.859375 48.484375 18.828125 43.109375 \nQ 14.796875 37.75 14.796875 27.984375 \nQ 14.796875 18.265625 18.828125 12.890625 \nQ 22.859375 7.515625 30.078125 7.515625 \nQ 37.359375 7.515625 41.375 12.890625 \nQ 45.40625 18.265625 45.40625 27.984375 \nz\nM 54.390625 6.78125 \nQ 54.390625 -7.171875 48.1875 -13.984375 \nQ 42 -20.796875 29.203125 -20.796875 \nQ 24.46875 -20.796875 20.265625 -20.09375 \nQ 16.0625 -19.390625 12.109375 -17.921875 \nL 12.109375 -9.1875 \nQ 16.0625 -11.328125 19.921875 -12.34375 \nQ 23.78125 -13.375 27.78125 -13.375 \nQ 36.625 -13.375 41.015625 -8.765625 \nQ 45.40625 -4.15625 45.40625 5.171875 \nL 45.40625 9.625 \nQ 42.625 4.78125 38.28125 2.390625 \nQ 33.9375 0 27.875 0 \nQ 17.828125 0 11.671875 7.65625 \nQ 5.515625 15.328125 5.515625 27.984375 \nQ 5.515625 40.671875 11.671875 48.328125 \nQ 17.828125 56 27.875 56 \nQ 33.9375 56 38.28125 53.609375 \nQ 42.625 51.21875 45.40625 46.390625 \nL 45.40625 54.6875 \nL 54.390625 54.6875 \nz\n\" id=\"DejaVuSans-103\"/>\n        <path d=\"M 41.109375 46.296875 \nQ 39.59375 47.171875 37.8125 47.578125 \nQ 36.03125 48 33.890625 48 \nQ 26.265625 48 22.1875 43.046875 \nQ 18.109375 38.09375 18.109375 28.8125 \nL 18.109375 0 \nL 9.078125 0 \nL 9.078125 54.6875 \nL 18.109375 54.6875 \nL 18.109375 46.1875 \nQ 20.953125 51.171875 25.484375 53.578125 \nQ 30.03125 56 36.53125 56 \nQ 37.453125 56 38.578125 55.875 \nQ 39.703125 55.765625 41.0625 55.515625 \nz\n\" id=\"DejaVuSans-114\"/>\n        <path d=\"M 9.421875 54.6875 \nL 18.40625 54.6875 \nL 18.40625 0 \nL 9.421875 0 \nz\nM 9.421875 75.984375 \nL 18.40625 75.984375 \nL 18.40625 64.59375 \nL 9.421875 64.59375 \nz\n\" id=\"DejaVuSans-105\"/>\n        <path d=\"M 48.78125 52.59375 \nL 48.78125 44.1875 \nQ 44.96875 46.296875 41.140625 47.34375 \nQ 37.3125 48.390625 33.40625 48.390625 \nQ 24.65625 48.390625 19.8125 42.84375 \nQ 14.984375 37.3125 14.984375 27.296875 \nQ 14.984375 17.28125 19.8125 11.734375 \nQ 24.65625 6.203125 33.40625 6.203125 \nQ 37.3125 6.203125 41.140625 7.25 \nQ 44.96875 8.296875 48.78125 10.40625 \nL 48.78125 2.09375 \nQ 45.015625 0.34375 40.984375 -0.53125 \nQ 36.96875 -1.421875 32.421875 -1.421875 \nQ 20.0625 -1.421875 12.78125 6.34375 \nQ 5.515625 14.109375 5.515625 27.296875 \nQ 5.515625 40.671875 12.859375 48.328125 \nQ 20.21875 56 33.015625 56 \nQ 37.15625 56 41.109375 55.140625 \nQ 45.0625 54.296875 48.78125 52.59375 \nz\n\" id=\"DejaVuSans-99\"/>\n        <path d=\"M 8.5 21.578125 \nL 8.5 54.6875 \nL 17.484375 54.6875 \nL 17.484375 21.921875 \nQ 17.484375 14.15625 20.5 10.265625 \nQ 23.53125 6.390625 29.59375 6.390625 \nQ 36.859375 6.390625 41.078125 11.03125 \nQ 45.3125 15.671875 45.3125 23.6875 \nL 45.3125 54.6875 \nL 54.296875 54.6875 \nL 54.296875 0 \nL 45.3125 0 \nL 45.3125 8.40625 \nQ 42.046875 3.421875 37.71875 1 \nQ 33.40625 -1.421875 27.6875 -1.421875 \nQ 18.265625 -1.421875 13.375 4.4375 \nQ 8.5 10.296875 8.5 21.578125 \nz\nM 31.109375 56 \nz\n\" id=\"DejaVuSans-117\"/>\n        <path d=\"M 9.421875 75.984375 \nL 18.40625 75.984375 \nL 18.40625 0 \nL 9.421875 0 \nz\n\" id=\"DejaVuSans-108\"/>\n        <path d=\"M 18.3125 70.21875 \nL 18.3125 54.6875 \nL 36.8125 54.6875 \nL 36.8125 47.703125 \nL 18.3125 47.703125 \nL 18.3125 18.015625 \nQ 18.3125 11.328125 20.140625 9.421875 \nQ 21.96875 7.515625 27.59375 7.515625 \nL 36.8125 7.515625 \nL 36.8125 0 \nL 27.59375 0 \nQ 17.1875 0 13.234375 3.875 \nQ 9.28125 7.765625 9.28125 18.015625 \nL 9.28125 47.703125 \nL 2.6875 47.703125 \nL 2.6875 54.6875 \nL 9.28125 54.6875 \nL 9.28125 70.21875 \nz\n\" id=\"DejaVuSans-116\"/>\n        <path d=\"M 56.203125 29.59375 \nL 56.203125 25.203125 \nL 14.890625 25.203125 \nQ 15.484375 15.921875 20.484375 11.0625 \nQ 25.484375 6.203125 34.421875 6.203125 \nQ 39.59375 6.203125 44.453125 7.46875 \nQ 49.3125 8.734375 54.109375 11.28125 \nL 54.109375 2.78125 \nQ 49.265625 0.734375 44.1875 -0.34375 \nQ 39.109375 -1.421875 33.890625 -1.421875 \nQ 20.796875 -1.421875 13.15625 6.1875 \nQ 5.515625 13.8125 5.515625 26.8125 \nQ 5.515625 40.234375 12.765625 48.109375 \nQ 20.015625 56 32.328125 56 \nQ 43.359375 56 49.78125 48.890625 \nQ 56.203125 41.796875 56.203125 29.59375 \nz\nM 47.21875 32.234375 \nQ 47.125 39.59375 43.09375 43.984375 \nQ 39.0625 48.390625 32.421875 48.390625 \nQ 24.90625 48.390625 20.390625 44.140625 \nQ 15.875 39.890625 15.1875 32.171875 \nz\n\" id=\"DejaVuSans-101\"/>\n        <path d=\"M 11.71875 12.40625 \nL 22.015625 12.40625 \nL 22.015625 4 \nL 14.015625 -11.625 \nL 7.71875 -11.625 \nL 11.71875 4 \nz\n\" id=\"DejaVuSans-44\"/>\n        <path d=\"M 37.109375 75.984375 \nL 37.109375 68.5 \nL 28.515625 68.5 \nQ 23.6875 68.5 21.796875 66.546875 \nQ 19.921875 64.59375 19.921875 59.515625 \nL 19.921875 54.6875 \nL 34.71875 54.6875 \nL 34.71875 47.703125 \nL 19.921875 47.703125 \nL 19.921875 0 \nL 10.890625 0 \nL 10.890625 47.703125 \nL 2.296875 47.703125 \nL 2.296875 54.6875 \nL 10.890625 54.6875 \nL 10.890625 58.5 \nQ 10.890625 67.625 15.140625 71.796875 \nQ 19.390625 75.984375 28.609375 75.984375 \nz\n\" id=\"DejaVuSans-102\"/>\n        <path d=\"M 30.609375 48.390625 \nQ 23.390625 48.390625 19.1875 42.75 \nQ 14.984375 37.109375 14.984375 27.296875 \nQ 14.984375 17.484375 19.15625 11.84375 \nQ 23.34375 6.203125 30.609375 6.203125 \nQ 37.796875 6.203125 41.984375 11.859375 \nQ 46.1875 17.53125 46.1875 27.296875 \nQ 46.1875 37.015625 41.984375 42.703125 \nQ 37.796875 48.390625 30.609375 48.390625 \nz\nM 30.609375 56 \nQ 42.328125 56 49.015625 48.375 \nQ 55.71875 40.765625 55.71875 27.296875 \nQ 55.71875 13.875 49.015625 6.21875 \nQ 42.328125 -1.421875 30.609375 -1.421875 \nQ 18.84375 -1.421875 12.171875 6.21875 \nQ 5.515625 13.875 5.515625 27.296875 \nQ 5.515625 40.765625 12.171875 48.375 \nQ 18.84375 56 30.609375 56 \nz\n\" id=\"DejaVuSans-111\"/>\n        <path d=\"M 44.28125 53.078125 \nL 44.28125 44.578125 \nQ 40.484375 46.53125 36.375 47.5 \nQ 32.28125 48.484375 27.875 48.484375 \nQ 21.1875 48.484375 17.84375 46.4375 \nQ 14.5 44.390625 14.5 40.28125 \nQ 14.5 37.15625 16.890625 35.375 \nQ 19.28125 33.59375 26.515625 31.984375 \nL 29.59375 31.296875 \nQ 39.15625 29.25 43.1875 25.515625 \nQ 47.21875 21.78125 47.21875 15.09375 \nQ 47.21875 7.46875 41.1875 3.015625 \nQ 35.15625 -1.421875 24.609375 -1.421875 \nQ 20.21875 -1.421875 15.453125 -0.5625 \nQ 10.6875 0.296875 5.421875 2 \nL 5.421875 11.28125 \nQ 10.40625 8.6875 15.234375 7.390625 \nQ 20.0625 6.109375 24.8125 6.109375 \nQ 31.15625 6.109375 34.5625 8.28125 \nQ 37.984375 10.453125 37.984375 14.40625 \nQ 37.984375 18.0625 35.515625 20.015625 \nQ 33.0625 21.96875 24.703125 23.78125 \nL 21.578125 24.515625 \nQ 13.234375 26.265625 9.515625 29.90625 \nQ 5.8125 33.546875 5.8125 39.890625 \nQ 5.8125 47.609375 11.28125 51.796875 \nQ 16.75 56 26.8125 56 \nQ 31.78125 56 36.171875 55.265625 \nQ 40.578125 54.546875 44.28125 53.078125 \nz\n\" id=\"DejaVuSans-115\"/>\n        <path d=\"M 32.171875 -5.078125 \nQ 28.375 -14.84375 24.75 -17.8125 \nQ 21.140625 -20.796875 15.09375 -20.796875 \nL 7.90625 -20.796875 \nL 7.90625 -13.28125 \nL 13.1875 -13.28125 \nQ 16.890625 -13.28125 18.9375 -11.515625 \nQ 21 -9.765625 23.484375 -3.21875 \nL 25.09375 0.875 \nL 2.984375 54.6875 \nL 12.5 54.6875 \nL 29.59375 11.921875 \nL 46.6875 54.6875 \nL 56.203125 54.6875 \nz\n\" id=\"DejaVuSans-121\"/>\n        <path d=\"M 54.890625 33.015625 \nL 54.890625 0 \nL 45.90625 0 \nL 45.90625 32.71875 \nQ 45.90625 40.484375 42.875 44.328125 \nQ 39.84375 48.1875 33.796875 48.1875 \nQ 26.515625 48.1875 22.3125 43.546875 \nQ 18.109375 38.921875 18.109375 30.90625 \nL 18.109375 0 \nL 9.078125 0 \nL 9.078125 75.984375 \nL 18.109375 75.984375 \nL 18.109375 46.1875 \nQ 21.34375 51.125 25.703125 53.5625 \nQ 30.078125 56 35.796875 56 \nQ 45.21875 56 50.046875 50.171875 \nQ 54.890625 44.34375 54.890625 33.015625 \nz\n\" id=\"DejaVuSans-104\"/>\n        <path d=\"M 54.890625 33.015625 \nL 54.890625 0 \nL 45.90625 0 \nL 45.90625 32.71875 \nQ 45.90625 40.484375 42.875 44.328125 \nQ 39.84375 48.1875 33.796875 48.1875 \nQ 26.515625 48.1875 22.3125 43.546875 \nQ 18.109375 38.921875 18.109375 30.90625 \nL 18.109375 0 \nL 9.078125 0 \nL 9.078125 54.6875 \nL 18.109375 54.6875 \nL 18.109375 46.1875 \nQ 21.34375 51.125 25.703125 53.5625 \nQ 30.078125 56 35.796875 56 \nQ 45.21875 56 50.046875 50.171875 \nQ 54.890625 44.34375 54.890625 33.015625 \nz\n\" id=\"DejaVuSans-110\"/>\n        <path d=\"M 34.28125 27.484375 \nQ 23.390625 27.484375 19.1875 25 \nQ 14.984375 22.515625 14.984375 16.5 \nQ 14.984375 11.71875 18.140625 8.90625 \nQ 21.296875 6.109375 26.703125 6.109375 \nQ 34.1875 6.109375 38.703125 11.40625 \nQ 43.21875 16.703125 43.21875 25.484375 \nL 43.21875 27.484375 \nz\nM 52.203125 31.203125 \nL 52.203125 0 \nL 43.21875 0 \nL 43.21875 8.296875 \nQ 40.140625 3.328125 35.546875 0.953125 \nQ 30.953125 -1.421875 24.3125 -1.421875 \nQ 15.921875 -1.421875 10.953125 3.296875 \nQ 6 8.015625 6 15.921875 \nQ 6 25.140625 12.171875 29.828125 \nQ 18.359375 34.515625 30.609375 34.515625 \nL 43.21875 34.515625 \nL 43.21875 35.40625 \nQ 43.21875 41.609375 39.140625 45 \nQ 35.0625 48.390625 27.6875 48.390625 \nQ 23 48.390625 18.546875 47.265625 \nQ 14.109375 46.140625 10.015625 43.890625 \nL 10.015625 52.203125 \nQ 14.9375 54.109375 19.578125 55.046875 \nQ 24.21875 56 28.609375 56 \nQ 40.484375 56 46.34375 49.84375 \nQ 52.203125 43.703125 52.203125 31.203125 \nz\n\" id=\"DejaVuSans-97\"/>\n        <path d=\"M 45.40625 46.390625 \nL 45.40625 75.984375 \nL 54.390625 75.984375 \nL 54.390625 0 \nL 45.40625 0 \nL 45.40625 8.203125 \nQ 42.578125 3.328125 38.25 0.953125 \nQ 33.9375 -1.421875 27.875 -1.421875 \nQ 17.96875 -1.421875 11.734375 6.484375 \nQ 5.515625 14.40625 5.515625 27.296875 \nQ 5.515625 40.1875 11.734375 48.09375 \nQ 17.96875 56 27.875 56 \nQ 33.9375 56 38.25 53.625 \nQ 42.578125 51.265625 45.40625 46.390625 \nz\nM 14.796875 27.296875 \nQ 14.796875 17.390625 18.875 11.75 \nQ 22.953125 6.109375 30.078125 6.109375 \nQ 37.203125 6.109375 41.296875 11.75 \nQ 45.40625 17.390625 45.40625 27.296875 \nQ 45.40625 37.203125 41.296875 42.84375 \nQ 37.203125 48.484375 30.078125 48.484375 \nQ 22.953125 48.484375 18.875 42.84375 \nQ 14.796875 37.203125 14.796875 27.296875 \nz\n\" id=\"DejaVuSans-100\"/>\n       </defs>\n       <use xlink:href=\"#DejaVuSans-32\"/>\n       <use x=\"31.787109\" xlink:href=\"#DejaVuSans-32\"/>\n       <use x=\"63.574219\" xlink:href=\"#DejaVuSans-32\"/>\n       <use x=\"95.361328\" xlink:href=\"#DejaVuSans-32\"/>\n       <use x=\"127.148438\" xlink:href=\"#DejaVuSans-65\"/>\n       <use x=\"195.556641\" xlink:href=\"#DejaVuSans-103\"/>\n       <use x=\"259.033203\" xlink:href=\"#DejaVuSans-114\"/>\n       <use x=\"300.146484\" xlink:href=\"#DejaVuSans-105\"/>\n       <use x=\"327.929688\" xlink:href=\"#DejaVuSans-99\"/>\n       <use x=\"382.910156\" xlink:href=\"#DejaVuSans-117\"/>\n       <use x=\"446.289062\" xlink:href=\"#DejaVuSans-108\"/>\n       <use x=\"474.072266\" xlink:href=\"#DejaVuSans-116\"/>\n       <use x=\"513.28125\" xlink:href=\"#DejaVuSans-117\"/>\n       <use x=\"576.660156\" xlink:href=\"#DejaVuSans-114\"/>\n       <use x=\"615.523438\" xlink:href=\"#DejaVuSans-101\"/>\n       <use x=\"677.046875\" xlink:href=\"#DejaVuSans-44\"/>\n       <use x=\"708.833984\" xlink:href=\"#DejaVuSans-32\"/>\n       <use x=\"740.621094\" xlink:href=\"#DejaVuSans-102\"/>\n       <use x=\"775.826172\" xlink:href=\"#DejaVuSans-111\"/>\n       <use x=\"837.007812\" xlink:href=\"#DejaVuSans-114\"/>\n       <use x=\"875.871094\" xlink:href=\"#DejaVuSans-101\"/>\n       <use x=\"937.394531\" xlink:href=\"#DejaVuSans-115\"/>\n       <use x=\"989.494141\" xlink:href=\"#DejaVuSans-116\"/>\n       <use x=\"1028.703125\" xlink:href=\"#DejaVuSans-114\"/>\n       <use x=\"1069.816406\" xlink:href=\"#DejaVuSans-121\"/>\n       <use x=\"1128.996094\" xlink:href=\"#DejaVuSans-44\"/>\n       <use x=\"1160.783203\" xlink:href=\"#DejaVuSans-32\"/>\n       <use x=\"1192.570312\" xlink:href=\"#DejaVuSans-102\"/>\n       <use x=\"1227.775391\" xlink:href=\"#DejaVuSans-105\"/>\n       <use x=\"1255.558594\" xlink:href=\"#DejaVuSans-115\"/>\n       <use x=\"1307.658203\" xlink:href=\"#DejaVuSans-104\"/>\n       <use x=\"1371.037109\" xlink:href=\"#DejaVuSans-105\"/>\n       <use x=\"1398.820312\" xlink:href=\"#DejaVuSans-110\"/>\n       <use x=\"1462.199219\" xlink:href=\"#DejaVuSans-103\"/>\n       <use x=\"1525.675781\" xlink:href=\"#DejaVuSans-32\"/>\n       <use x=\"1557.462891\" xlink:href=\"#DejaVuSans-97\"/>\n       <use x=\"1618.742188\" xlink:href=\"#DejaVuSans-110\"/>\n       <use x=\"1682.121094\" xlink:href=\"#DejaVuSans-100\"/>\n       <use x=\"1745.597656\" xlink:href=\"#DejaVuSans-32\"/>\n       <use x=\"1777.384766\" xlink:href=\"#DejaVuSans-104\"/>\n       <use x=\"1840.763672\" xlink:href=\"#DejaVuSans-117\"/>\n       <use x=\"1904.142578\" xlink:href=\"#DejaVuSans-110\"/>\n       <use x=\"1967.521484\" xlink:href=\"#DejaVuSans-116\"/>\n       <use x=\"2006.730469\" xlink:href=\"#DejaVuSans-105\"/>\n       <use x=\"2034.513672\" xlink:href=\"#DejaVuSans-110\"/>\n       <use x=\"2097.892578\" xlink:href=\"#DejaVuSans-103\"/>\n      </g>\n     </g>\n    </g>\n    <g id=\"xtick_2\">\n     <g id=\"line2d_2\">\n      <g>\n       <use style=\"stroke:#000000;stroke-width:0.8;\" x=\"106.096983\" xlink:href=\"#md833960a0a\" y=\"438.12\"/>\n      </g>\n     </g>\n     <g id=\"text_2\">\n      <!--     Mining, quarrying, and oil and gas extraction -->\n      <g transform=\"translate(108.856358 682.4075)rotate(-90)scale(0.1 -0.1)\">\n       <defs>\n        <path d=\"M 9.8125 72.90625 \nL 24.515625 72.90625 \nL 43.109375 23.296875 \nL 61.8125 72.90625 \nL 76.515625 72.90625 \nL 76.515625 0 \nL 66.890625 0 \nL 66.890625 64.015625 \nL 48.09375 14.015625 \nL 38.1875 14.015625 \nL 19.390625 64.015625 \nL 19.390625 0 \nL 9.8125 0 \nz\n\" id=\"DejaVuSans-77\"/>\n        <path d=\"M 14.796875 27.296875 \nQ 14.796875 17.390625 18.875 11.75 \nQ 22.953125 6.109375 30.078125 6.109375 \nQ 37.203125 6.109375 41.296875 11.75 \nQ 45.40625 17.390625 45.40625 27.296875 \nQ 45.40625 37.203125 41.296875 42.84375 \nQ 37.203125 48.484375 30.078125 48.484375 \nQ 22.953125 48.484375 18.875 42.84375 \nQ 14.796875 37.203125 14.796875 27.296875 \nz\nM 45.40625 8.203125 \nQ 42.578125 3.328125 38.25 0.953125 \nQ 33.9375 -1.421875 27.875 -1.421875 \nQ 17.96875 -1.421875 11.734375 6.484375 \nQ 5.515625 14.40625 5.515625 27.296875 \nQ 5.515625 40.1875 11.734375 48.09375 \nQ 17.96875 56 27.875 56 \nQ 33.9375 56 38.25 53.625 \nQ 42.578125 51.265625 45.40625 46.390625 \nL 45.40625 54.6875 \nL 54.390625 54.6875 \nL 54.390625 -20.796875 \nL 45.40625 -20.796875 \nz\n\" id=\"DejaVuSans-113\"/>\n        <path d=\"M 54.890625 54.6875 \nL 35.109375 28.078125 \nL 55.90625 0 \nL 45.3125 0 \nL 29.390625 21.484375 \nL 13.484375 0 \nL 2.875 0 \nL 24.125 28.609375 \nL 4.6875 54.6875 \nL 15.28125 54.6875 \nL 29.78125 35.203125 \nL 44.28125 54.6875 \nz\n\" id=\"DejaVuSans-120\"/>\n       </defs>\n       <use xlink:href=\"#DejaVuSans-32\"/>\n       <use x=\"31.787109\" xlink:href=\"#DejaVuSans-32\"/>\n       <use x=\"63.574219\" xlink:href=\"#DejaVuSans-32\"/>\n       <use x=\"95.361328\" xlink:href=\"#DejaVuSans-32\"/>\n       <use x=\"127.148438\" xlink:href=\"#DejaVuSans-77\"/>\n       <use x=\"213.427734\" xlink:href=\"#DejaVuSans-105\"/>\n       <use x=\"241.210938\" xlink:href=\"#DejaVuSans-110\"/>\n       <use x=\"304.589844\" xlink:href=\"#DejaVuSans-105\"/>\n       <use x=\"332.373047\" xlink:href=\"#DejaVuSans-110\"/>\n       <use x=\"395.751953\" xlink:href=\"#DejaVuSans-103\"/>\n       <use x=\"459.228516\" xlink:href=\"#DejaVuSans-44\"/>\n       <use x=\"491.015625\" xlink:href=\"#DejaVuSans-32\"/>\n       <use x=\"522.802734\" xlink:href=\"#DejaVuSans-113\"/>\n       <use x=\"586.279297\" xlink:href=\"#DejaVuSans-117\"/>\n       <use x=\"649.658203\" xlink:href=\"#DejaVuSans-97\"/>\n       <use x=\"710.9375\" xlink:href=\"#DejaVuSans-114\"/>\n       <use x=\"750.300781\" xlink:href=\"#DejaVuSans-114\"/>\n       <use x=\"791.414062\" xlink:href=\"#DejaVuSans-121\"/>\n       <use x=\"850.59375\" xlink:href=\"#DejaVuSans-105\"/>\n       <use x=\"878.376953\" xlink:href=\"#DejaVuSans-110\"/>\n       <use x=\"941.755859\" xlink:href=\"#DejaVuSans-103\"/>\n       <use x=\"1005.232422\" xlink:href=\"#DejaVuSans-44\"/>\n       <use x=\"1037.019531\" xlink:href=\"#DejaVuSans-32\"/>\n       <use x=\"1068.806641\" xlink:href=\"#DejaVuSans-97\"/>\n       <use x=\"1130.085938\" xlink:href=\"#DejaVuSans-110\"/>\n       <use x=\"1193.464844\" xlink:href=\"#DejaVuSans-100\"/>\n       <use x=\"1256.941406\" xlink:href=\"#DejaVuSans-32\"/>\n       <use x=\"1288.728516\" xlink:href=\"#DejaVuSans-111\"/>\n       <use x=\"1349.910156\" xlink:href=\"#DejaVuSans-105\"/>\n       <use x=\"1377.693359\" xlink:href=\"#DejaVuSans-108\"/>\n       <use x=\"1405.476562\" xlink:href=\"#DejaVuSans-32\"/>\n       <use x=\"1437.263672\" xlink:href=\"#DejaVuSans-97\"/>\n       <use x=\"1498.542969\" xlink:href=\"#DejaVuSans-110\"/>\n       <use x=\"1561.921875\" xlink:href=\"#DejaVuSans-100\"/>\n       <use x=\"1625.398438\" xlink:href=\"#DejaVuSans-32\"/>\n       <use x=\"1657.185547\" xlink:href=\"#DejaVuSans-103\"/>\n       <use x=\"1720.662109\" xlink:href=\"#DejaVuSans-97\"/>\n       <use x=\"1781.941406\" xlink:href=\"#DejaVuSans-115\"/>\n       <use x=\"1834.041016\" xlink:href=\"#DejaVuSans-32\"/>\n       <use x=\"1865.828125\" xlink:href=\"#DejaVuSans-101\"/>\n       <use x=\"1925.601562\" xlink:href=\"#DejaVuSans-120\"/>\n       <use x=\"1984.78125\" xlink:href=\"#DejaVuSans-116\"/>\n       <use x=\"2023.990234\" xlink:href=\"#DejaVuSans-114\"/>\n       <use x=\"2065.103516\" xlink:href=\"#DejaVuSans-97\"/>\n       <use x=\"2126.382812\" xlink:href=\"#DejaVuSans-99\"/>\n       <use x=\"2181.363281\" xlink:href=\"#DejaVuSans-116\"/>\n       <use x=\"2220.572266\" xlink:href=\"#DejaVuSans-105\"/>\n       <use x=\"2248.355469\" xlink:href=\"#DejaVuSans-111\"/>\n       <use x=\"2309.537109\" xlink:href=\"#DejaVuSans-110\"/>\n      </g>\n     </g>\n    </g>\n    <g id=\"xtick_3\">\n     <g id=\"line2d_3\">\n      <g>\n       <use style=\"stroke:#000000;stroke-width:0.8;\" x=\"129.186638\" xlink:href=\"#md833960a0a\" y=\"438.12\"/>\n      </g>\n     </g>\n     <g id=\"text_3\">\n      <!--     Utilities -->\n      <g transform=\"translate(131.946013 495.466875)rotate(-90)scale(0.1 -0.1)\">\n       <defs>\n        <path d=\"M 8.6875 72.90625 \nL 18.609375 72.90625 \nL 18.609375 28.609375 \nQ 18.609375 16.890625 22.84375 11.734375 \nQ 27.09375 6.59375 36.625 6.59375 \nQ 46.09375 6.59375 50.34375 11.734375 \nQ 54.59375 16.890625 54.59375 28.609375 \nL 54.59375 72.90625 \nL 64.5 72.90625 \nL 64.5 27.390625 \nQ 64.5 13.140625 57.4375 5.859375 \nQ 50.390625 -1.421875 36.625 -1.421875 \nQ 22.796875 -1.421875 15.734375 5.859375 \nQ 8.6875 13.140625 8.6875 27.390625 \nz\n\" id=\"DejaVuSans-85\"/>\n       </defs>\n       <use xlink:href=\"#DejaVuSans-32\"/>\n       <use x=\"31.787109\" xlink:href=\"#DejaVuSans-32\"/>\n       <use x=\"63.574219\" xlink:href=\"#DejaVuSans-32\"/>\n       <use x=\"95.361328\" xlink:href=\"#DejaVuSans-32\"/>\n       <use x=\"127.148438\" xlink:href=\"#DejaVuSans-85\"/>\n       <use x=\"200.341797\" xlink:href=\"#DejaVuSans-116\"/>\n       <use x=\"239.550781\" xlink:href=\"#DejaVuSans-105\"/>\n       <use x=\"267.333984\" xlink:href=\"#DejaVuSans-108\"/>\n       <use x=\"295.117188\" xlink:href=\"#DejaVuSans-105\"/>\n       <use x=\"322.900391\" xlink:href=\"#DejaVuSans-116\"/>\n       <use x=\"362.109375\" xlink:href=\"#DejaVuSans-105\"/>\n       <use x=\"389.892578\" xlink:href=\"#DejaVuSans-101\"/>\n       <use x=\"451.416016\" xlink:href=\"#DejaVuSans-115\"/>\n      </g>\n     </g>\n    </g>\n    <g id=\"xtick_4\">\n     <g id=\"line2d_4\">\n      <g>\n       <use style=\"stroke:#000000;stroke-width:0.8;\" x=\"152.276293\" xlink:href=\"#md833960a0a\" y=\"438.12\"/>\n      </g>\n     </g>\n     <g id=\"text_4\">\n      <!--     Construction -->\n      <g transform=\"translate(155.035668 521.502812)rotate(-90)scale(0.1 -0.1)\">\n       <defs>\n        <path d=\"M 64.40625 67.28125 \nL 64.40625 56.890625 \nQ 59.421875 61.53125 53.78125 63.8125 \nQ 48.140625 66.109375 41.796875 66.109375 \nQ 29.296875 66.109375 22.65625 58.46875 \nQ 16.015625 50.828125 16.015625 36.375 \nQ 16.015625 21.96875 22.65625 14.328125 \nQ 29.296875 6.6875 41.796875 6.6875 \nQ 48.140625 6.6875 53.78125 8.984375 \nQ 59.421875 11.28125 64.40625 15.921875 \nL 64.40625 5.609375 \nQ 59.234375 2.09375 53.4375 0.328125 \nQ 47.65625 -1.421875 41.21875 -1.421875 \nQ 24.65625 -1.421875 15.125 8.703125 \nQ 5.609375 18.84375 5.609375 36.375 \nQ 5.609375 53.953125 15.125 64.078125 \nQ 24.65625 74.21875 41.21875 74.21875 \nQ 47.75 74.21875 53.53125 72.484375 \nQ 59.328125 70.75 64.40625 67.28125 \nz\n\" id=\"DejaVuSans-67\"/>\n       </defs>\n       <use xlink:href=\"#DejaVuSans-32\"/>\n       <use x=\"31.787109\" xlink:href=\"#DejaVuSans-32\"/>\n       <use x=\"63.574219\" xlink:href=\"#DejaVuSans-32\"/>\n       <use x=\"95.361328\" xlink:href=\"#DejaVuSans-32\"/>\n       <use x=\"127.148438\" xlink:href=\"#DejaVuSans-67\"/>\n       <use x=\"196.972656\" xlink:href=\"#DejaVuSans-111\"/>\n       <use x=\"258.154297\" xlink:href=\"#DejaVuSans-110\"/>\n       <use x=\"321.533203\" xlink:href=\"#DejaVuSans-115\"/>\n       <use x=\"373.632812\" xlink:href=\"#DejaVuSans-116\"/>\n       <use x=\"412.841797\" xlink:href=\"#DejaVuSans-114\"/>\n       <use x=\"453.955078\" xlink:href=\"#DejaVuSans-117\"/>\n       <use x=\"517.333984\" xlink:href=\"#DejaVuSans-99\"/>\n       <use x=\"572.314453\" xlink:href=\"#DejaVuSans-116\"/>\n       <use x=\"611.523438\" xlink:href=\"#DejaVuSans-105\"/>\n       <use x=\"639.306641\" xlink:href=\"#DejaVuSans-111\"/>\n       <use x=\"700.488281\" xlink:href=\"#DejaVuSans-110\"/>\n      </g>\n     </g>\n    </g>\n    <g id=\"xtick_5\">\n     <g id=\"line2d_5\">\n      <g>\n       <use style=\"stroke:#000000;stroke-width:0.8;\" x=\"175.365948\" xlink:href=\"#md833960a0a\" y=\"438.12\"/>\n      </g>\n     </g>\n     <g id=\"text_5\">\n      <!--     Manufacturing -->\n      <g transform=\"translate(178.125323 530.243437)rotate(-90)scale(0.1 -0.1)\">\n       <use xlink:href=\"#DejaVuSans-32\"/>\n       <use x=\"31.787109\" xlink:href=\"#DejaVuSans-32\"/>\n       <use x=\"63.574219\" xlink:href=\"#DejaVuSans-32\"/>\n       <use x=\"95.361328\" xlink:href=\"#DejaVuSans-32\"/>\n       <use x=\"127.148438\" xlink:href=\"#DejaVuSans-77\"/>\n       <use x=\"213.427734\" xlink:href=\"#DejaVuSans-97\"/>\n       <use x=\"274.707031\" xlink:href=\"#DejaVuSans-110\"/>\n       <use x=\"338.085938\" xlink:href=\"#DejaVuSans-117\"/>\n       <use x=\"401.464844\" xlink:href=\"#DejaVuSans-102\"/>\n       <use x=\"436.669922\" xlink:href=\"#DejaVuSans-97\"/>\n       <use x=\"497.949219\" xlink:href=\"#DejaVuSans-99\"/>\n       <use x=\"552.929688\" xlink:href=\"#DejaVuSans-116\"/>\n       <use x=\"592.138672\" xlink:href=\"#DejaVuSans-117\"/>\n       <use x=\"655.517578\" xlink:href=\"#DejaVuSans-114\"/>\n       <use x=\"696.630859\" xlink:href=\"#DejaVuSans-105\"/>\n       <use x=\"724.414062\" xlink:href=\"#DejaVuSans-110\"/>\n       <use x=\"787.792969\" xlink:href=\"#DejaVuSans-103\"/>\n      </g>\n     </g>\n    </g>\n    <g id=\"xtick_6\">\n     <g id=\"line2d_6\">\n      <g>\n       <use style=\"stroke:#000000;stroke-width:0.8;\" x=\"198.455603\" xlink:href=\"#md833960a0a\" y=\"438.12\"/>\n      </g>\n     </g>\n     <g id=\"text_6\">\n      <!--       Durable goods manufacturing -->\n      <g transform=\"translate(201.214978 613.768437)rotate(-90)scale(0.1 -0.1)\">\n       <defs>\n        <path d=\"M 19.671875 64.796875 \nL 19.671875 8.109375 \nL 31.59375 8.109375 \nQ 46.6875 8.109375 53.6875 14.9375 \nQ 60.6875 21.78125 60.6875 36.53125 \nQ 60.6875 51.171875 53.6875 57.984375 \nQ 46.6875 64.796875 31.59375 64.796875 \nz\nM 9.8125 72.90625 \nL 30.078125 72.90625 \nQ 51.265625 72.90625 61.171875 64.09375 \nQ 71.09375 55.28125 71.09375 36.53125 \nQ 71.09375 17.671875 61.125 8.828125 \nQ 51.171875 0 30.078125 0 \nL 9.8125 0 \nz\n\" id=\"DejaVuSans-68\"/>\n        <path d=\"M 48.6875 27.296875 \nQ 48.6875 37.203125 44.609375 42.84375 \nQ 40.53125 48.484375 33.40625 48.484375 \nQ 26.265625 48.484375 22.1875 42.84375 \nQ 18.109375 37.203125 18.109375 27.296875 \nQ 18.109375 17.390625 22.1875 11.75 \nQ 26.265625 6.109375 33.40625 6.109375 \nQ 40.53125 6.109375 44.609375 11.75 \nQ 48.6875 17.390625 48.6875 27.296875 \nz\nM 18.109375 46.390625 \nQ 20.953125 51.265625 25.265625 53.625 \nQ 29.59375 56 35.59375 56 \nQ 45.5625 56 51.78125 48.09375 \nQ 58.015625 40.1875 58.015625 27.296875 \nQ 58.015625 14.40625 51.78125 6.484375 \nQ 45.5625 -1.421875 35.59375 -1.421875 \nQ 29.59375 -1.421875 25.265625 0.953125 \nQ 20.953125 3.328125 18.109375 8.203125 \nL 18.109375 0 \nL 9.078125 0 \nL 9.078125 75.984375 \nL 18.109375 75.984375 \nz\n\" id=\"DejaVuSans-98\"/>\n        <path d=\"M 52 44.1875 \nQ 55.375 50.25 60.0625 53.125 \nQ 64.75 56 71.09375 56 \nQ 79.640625 56 84.28125 50.015625 \nQ 88.921875 44.046875 88.921875 33.015625 \nL 88.921875 0 \nL 79.890625 0 \nL 79.890625 32.71875 \nQ 79.890625 40.578125 77.09375 44.375 \nQ 74.3125 48.1875 68.609375 48.1875 \nQ 61.625 48.1875 57.5625 43.546875 \nQ 53.515625 38.921875 53.515625 30.90625 \nL 53.515625 0 \nL 44.484375 0 \nL 44.484375 32.71875 \nQ 44.484375 40.625 41.703125 44.40625 \nQ 38.921875 48.1875 33.109375 48.1875 \nQ 26.21875 48.1875 22.15625 43.53125 \nQ 18.109375 38.875 18.109375 30.90625 \nL 18.109375 0 \nL 9.078125 0 \nL 9.078125 54.6875 \nL 18.109375 54.6875 \nL 18.109375 46.1875 \nQ 21.1875 51.21875 25.484375 53.609375 \nQ 29.78125 56 35.6875 56 \nQ 41.65625 56 45.828125 52.96875 \nQ 50 49.953125 52 44.1875 \nz\n\" id=\"DejaVuSans-109\"/>\n       </defs>\n       <use xlink:href=\"#DejaVuSans-32\"/>\n       <use x=\"31.787109\" xlink:href=\"#DejaVuSans-32\"/>\n       <use x=\"63.574219\" xlink:href=\"#DejaVuSans-32\"/>\n       <use x=\"95.361328\" xlink:href=\"#DejaVuSans-32\"/>\n       <use x=\"127.148438\" xlink:href=\"#DejaVuSans-32\"/>\n       <use x=\"158.935547\" xlink:href=\"#DejaVuSans-32\"/>\n       <use x=\"190.722656\" xlink:href=\"#DejaVuSans-68\"/>\n       <use x=\"267.724609\" xlink:href=\"#DejaVuSans-117\"/>\n       <use x=\"331.103516\" xlink:href=\"#DejaVuSans-114\"/>\n       <use x=\"372.216797\" xlink:href=\"#DejaVuSans-97\"/>\n       <use x=\"433.496094\" xlink:href=\"#DejaVuSans-98\"/>\n       <use x=\"496.972656\" xlink:href=\"#DejaVuSans-108\"/>\n       <use x=\"524.755859\" xlink:href=\"#DejaVuSans-101\"/>\n       <use x=\"586.279297\" xlink:href=\"#DejaVuSans-32\"/>\n       <use x=\"618.066406\" xlink:href=\"#DejaVuSans-103\"/>\n       <use x=\"681.542969\" xlink:href=\"#DejaVuSans-111\"/>\n       <use x=\"742.724609\" xlink:href=\"#DejaVuSans-111\"/>\n       <use x=\"803.90625\" xlink:href=\"#DejaVuSans-100\"/>\n       <use x=\"867.382812\" xlink:href=\"#DejaVuSans-115\"/>\n       <use x=\"919.482422\" xlink:href=\"#DejaVuSans-32\"/>\n       <use x=\"951.269531\" xlink:href=\"#DejaVuSans-109\"/>\n       <use x=\"1048.681641\" xlink:href=\"#DejaVuSans-97\"/>\n       <use x=\"1109.960938\" xlink:href=\"#DejaVuSans-110\"/>\n       <use x=\"1173.339844\" xlink:href=\"#DejaVuSans-117\"/>\n       <use x=\"1236.71875\" xlink:href=\"#DejaVuSans-102\"/>\n       <use x=\"1271.923828\" xlink:href=\"#DejaVuSans-97\"/>\n       <use x=\"1333.203125\" xlink:href=\"#DejaVuSans-99\"/>\n       <use x=\"1388.183594\" xlink:href=\"#DejaVuSans-116\"/>\n       <use x=\"1427.392578\" xlink:href=\"#DejaVuSans-117\"/>\n       <use x=\"1490.771484\" xlink:href=\"#DejaVuSans-114\"/>\n       <use x=\"1531.884766\" xlink:href=\"#DejaVuSans-105\"/>\n       <use x=\"1559.667969\" xlink:href=\"#DejaVuSans-110\"/>\n       <use x=\"1623.046875\" xlink:href=\"#DejaVuSans-103\"/>\n      </g>\n     </g>\n    </g>\n    <g id=\"xtick_7\">\n     <g id=\"line2d_7\">\n      <g>\n       <use style=\"stroke:#000000;stroke-width:0.8;\" x=\"221.545259\" xlink:href=\"#md833960a0a\" y=\"438.12\"/>\n      </g>\n     </g>\n     <g id=\"text_7\">\n      <!--       Nondurable goods manufacturing -->\n      <g transform=\"translate(224.304634 632.354375)rotate(-90)scale(0.1 -0.1)\">\n       <defs>\n        <path d=\"M 9.8125 72.90625 \nL 23.09375 72.90625 \nL 55.421875 11.921875 \nL 55.421875 72.90625 \nL 64.984375 72.90625 \nL 64.984375 0 \nL 51.703125 0 \nL 19.390625 60.984375 \nL 19.390625 0 \nL 9.8125 0 \nz\n\" id=\"DejaVuSans-78\"/>\n       </defs>\n       <use xlink:href=\"#DejaVuSans-32\"/>\n       <use x=\"31.787109\" xlink:href=\"#DejaVuSans-32\"/>\n       <use x=\"63.574219\" xlink:href=\"#DejaVuSans-32\"/>\n       <use x=\"95.361328\" xlink:href=\"#DejaVuSans-32\"/>\n       <use x=\"127.148438\" xlink:href=\"#DejaVuSans-32\"/>\n       <use x=\"158.935547\" xlink:href=\"#DejaVuSans-32\"/>\n       <use x=\"190.722656\" xlink:href=\"#DejaVuSans-78\"/>\n       <use x=\"265.527344\" xlink:href=\"#DejaVuSans-111\"/>\n       <use x=\"326.708984\" xlink:href=\"#DejaVuSans-110\"/>\n       <use x=\"390.087891\" xlink:href=\"#DejaVuSans-100\"/>\n       <use x=\"453.564453\" xlink:href=\"#DejaVuSans-117\"/>\n       <use x=\"516.943359\" xlink:href=\"#DejaVuSans-114\"/>\n       <use x=\"558.056641\" xlink:href=\"#DejaVuSans-97\"/>\n       <use x=\"619.335938\" xlink:href=\"#DejaVuSans-98\"/>\n       <use x=\"682.8125\" xlink:href=\"#DejaVuSans-108\"/>\n       <use x=\"710.595703\" xlink:href=\"#DejaVuSans-101\"/>\n       <use x=\"772.119141\" xlink:href=\"#DejaVuSans-32\"/>\n       <use x=\"803.90625\" xlink:href=\"#DejaVuSans-103\"/>\n       <use x=\"867.382812\" xlink:href=\"#DejaVuSans-111\"/>\n       <use x=\"928.564453\" xlink:href=\"#DejaVuSans-111\"/>\n       <use x=\"989.746094\" xlink:href=\"#DejaVuSans-100\"/>\n       <use x=\"1053.222656\" xlink:href=\"#DejaVuSans-115\"/>\n       <use x=\"1105.322266\" xlink:href=\"#DejaVuSans-32\"/>\n       <use x=\"1137.109375\" xlink:href=\"#DejaVuSans-109\"/>\n       <use x=\"1234.521484\" xlink:href=\"#DejaVuSans-97\"/>\n       <use x=\"1295.800781\" xlink:href=\"#DejaVuSans-110\"/>\n       <use x=\"1359.179688\" xlink:href=\"#DejaVuSans-117\"/>\n       <use x=\"1422.558594\" xlink:href=\"#DejaVuSans-102\"/>\n       <use x=\"1457.763672\" xlink:href=\"#DejaVuSans-97\"/>\n       <use x=\"1519.042969\" xlink:href=\"#DejaVuSans-99\"/>\n       <use x=\"1574.023438\" xlink:href=\"#DejaVuSans-116\"/>\n       <use x=\"1613.232422\" xlink:href=\"#DejaVuSans-117\"/>\n       <use x=\"1676.611328\" xlink:href=\"#DejaVuSans-114\"/>\n       <use x=\"1717.724609\" xlink:href=\"#DejaVuSans-105\"/>\n       <use x=\"1745.507812\" xlink:href=\"#DejaVuSans-110\"/>\n       <use x=\"1808.886719\" xlink:href=\"#DejaVuSans-103\"/>\n      </g>\n     </g>\n    </g>\n    <g id=\"xtick_8\">\n     <g id=\"line2d_8\">\n      <g>\n       <use style=\"stroke:#000000;stroke-width:0.8;\" x=\"244.634914\" xlink:href=\"#md833960a0a\" y=\"438.12\"/>\n      </g>\n     </g>\n     <g id=\"text_8\">\n      <!--     Wholesale trade -->\n      <g transform=\"translate(247.394289 539.215312)rotate(-90)scale(0.1 -0.1)\">\n       <defs>\n        <path d=\"M 3.328125 72.90625 \nL 13.28125 72.90625 \nL 28.609375 11.28125 \nL 43.890625 72.90625 \nL 54.984375 72.90625 \nL 70.3125 11.28125 \nL 85.59375 72.90625 \nL 95.609375 72.90625 \nL 77.296875 0 \nL 64.890625 0 \nL 49.515625 63.28125 \nL 33.984375 0 \nL 21.578125 0 \nz\n\" id=\"DejaVuSans-87\"/>\n       </defs>\n       <use xlink:href=\"#DejaVuSans-32\"/>\n       <use x=\"31.787109\" xlink:href=\"#DejaVuSans-32\"/>\n       <use x=\"63.574219\" xlink:href=\"#DejaVuSans-32\"/>\n       <use x=\"95.361328\" xlink:href=\"#DejaVuSans-32\"/>\n       <use x=\"127.148438\" xlink:href=\"#DejaVuSans-87\"/>\n       <use x=\"226.025391\" xlink:href=\"#DejaVuSans-104\"/>\n       <use x=\"289.404297\" xlink:href=\"#DejaVuSans-111\"/>\n       <use x=\"350.585938\" xlink:href=\"#DejaVuSans-108\"/>\n       <use x=\"378.369141\" xlink:href=\"#DejaVuSans-101\"/>\n       <use x=\"439.892578\" xlink:href=\"#DejaVuSans-115\"/>\n       <use x=\"491.992188\" xlink:href=\"#DejaVuSans-97\"/>\n       <use x=\"553.271484\" xlink:href=\"#DejaVuSans-108\"/>\n       <use x=\"581.054688\" xlink:href=\"#DejaVuSans-101\"/>\n       <use x=\"642.578125\" xlink:href=\"#DejaVuSans-32\"/>\n       <use x=\"674.365234\" xlink:href=\"#DejaVuSans-116\"/>\n       <use x=\"713.574219\" xlink:href=\"#DejaVuSans-114\"/>\n       <use x=\"754.6875\" xlink:href=\"#DejaVuSans-97\"/>\n       <use x=\"815.966797\" xlink:href=\"#DejaVuSans-100\"/>\n       <use x=\"879.443359\" xlink:href=\"#DejaVuSans-101\"/>\n      </g>\n     </g>\n    </g>\n    <g id=\"xtick_9\">\n     <g id=\"line2d_9\">\n      <g>\n       <use style=\"stroke:#000000;stroke-width:0.8;\" x=\"267.724569\" xlink:href=\"#md833960a0a\" y=\"438.12\"/>\n      </g>\n     </g>\n     <g id=\"text_9\">\n      <!--     Retail trade -->\n      <g transform=\"translate(270.483944 515.927812)rotate(-90)scale(0.1 -0.1)\">\n       <defs>\n        <path d=\"M 44.390625 34.1875 \nQ 47.5625 33.109375 50.5625 29.59375 \nQ 53.5625 26.078125 56.59375 19.921875 \nL 66.609375 0 \nL 56 0 \nL 46.6875 18.703125 \nQ 43.0625 26.03125 39.671875 28.421875 \nQ 36.28125 30.8125 30.421875 30.8125 \nL 19.671875 30.8125 \nL 19.671875 0 \nL 9.8125 0 \nL 9.8125 72.90625 \nL 32.078125 72.90625 \nQ 44.578125 72.90625 50.734375 67.671875 \nQ 56.890625 62.453125 56.890625 51.90625 \nQ 56.890625 45.015625 53.6875 40.46875 \nQ 50.484375 35.9375 44.390625 34.1875 \nz\nM 19.671875 64.796875 \nL 19.671875 38.921875 \nL 32.078125 38.921875 \nQ 39.203125 38.921875 42.84375 42.21875 \nQ 46.484375 45.515625 46.484375 51.90625 \nQ 46.484375 58.296875 42.84375 61.546875 \nQ 39.203125 64.796875 32.078125 64.796875 \nz\n\" id=\"DejaVuSans-82\"/>\n       </defs>\n       <use xlink:href=\"#DejaVuSans-32\"/>\n       <use x=\"31.787109\" xlink:href=\"#DejaVuSans-32\"/>\n       <use x=\"63.574219\" xlink:href=\"#DejaVuSans-32\"/>\n       <use x=\"95.361328\" xlink:href=\"#DejaVuSans-32\"/>\n       <use x=\"127.148438\" xlink:href=\"#DejaVuSans-82\"/>\n       <use x=\"192.130859\" xlink:href=\"#DejaVuSans-101\"/>\n       <use x=\"253.654297\" xlink:href=\"#DejaVuSans-116\"/>\n       <use x=\"292.863281\" xlink:href=\"#DejaVuSans-97\"/>\n       <use x=\"354.142578\" xlink:href=\"#DejaVuSans-105\"/>\n       <use x=\"381.925781\" xlink:href=\"#DejaVuSans-108\"/>\n       <use x=\"409.708984\" xlink:href=\"#DejaVuSans-32\"/>\n       <use x=\"441.496094\" xlink:href=\"#DejaVuSans-116\"/>\n       <use x=\"480.705078\" xlink:href=\"#DejaVuSans-114\"/>\n       <use x=\"521.818359\" xlink:href=\"#DejaVuSans-97\"/>\n       <use x=\"583.097656\" xlink:href=\"#DejaVuSans-100\"/>\n       <use x=\"646.574219\" xlink:href=\"#DejaVuSans-101\"/>\n      </g>\n     </g>\n    </g>\n    <g id=\"xtick_10\">\n     <g id=\"line2d_10\">\n      <g>\n       <use style=\"stroke:#000000;stroke-width:0.8;\" x=\"290.814224\" xlink:href=\"#md833960a0a\" y=\"438.12\"/>\n      </g>\n     </g>\n     <g id=\"text_10\">\n      <!--     Transportation and warehousing -->\n      <g transform=\"translate(293.573599 619.015312)rotate(-90)scale(0.1 -0.1)\">\n       <defs>\n        <path d=\"M -0.296875 72.90625 \nL 61.375 72.90625 \nL 61.375 64.59375 \nL 35.5 64.59375 \nL 35.5 0 \nL 25.59375 0 \nL 25.59375 64.59375 \nL -0.296875 64.59375 \nz\n\" id=\"DejaVuSans-84\"/>\n        <path d=\"M 18.109375 8.203125 \nL 18.109375 -20.796875 \nL 9.078125 -20.796875 \nL 9.078125 54.6875 \nL 18.109375 54.6875 \nL 18.109375 46.390625 \nQ 20.953125 51.265625 25.265625 53.625 \nQ 29.59375 56 35.59375 56 \nQ 45.5625 56 51.78125 48.09375 \nQ 58.015625 40.1875 58.015625 27.296875 \nQ 58.015625 14.40625 51.78125 6.484375 \nQ 45.5625 -1.421875 35.59375 -1.421875 \nQ 29.59375 -1.421875 25.265625 0.953125 \nQ 20.953125 3.328125 18.109375 8.203125 \nz\nM 48.6875 27.296875 \nQ 48.6875 37.203125 44.609375 42.84375 \nQ 40.53125 48.484375 33.40625 48.484375 \nQ 26.265625 48.484375 22.1875 42.84375 \nQ 18.109375 37.203125 18.109375 27.296875 \nQ 18.109375 17.390625 22.1875 11.75 \nQ 26.265625 6.109375 33.40625 6.109375 \nQ 40.53125 6.109375 44.609375 11.75 \nQ 48.6875 17.390625 48.6875 27.296875 \nz\n\" id=\"DejaVuSans-112\"/>\n        <path d=\"M 4.203125 54.6875 \nL 13.1875 54.6875 \nL 24.421875 12.015625 \nL 35.59375 54.6875 \nL 46.1875 54.6875 \nL 57.421875 12.015625 \nL 68.609375 54.6875 \nL 77.59375 54.6875 \nL 63.28125 0 \nL 52.6875 0 \nL 40.921875 44.828125 \nL 29.109375 0 \nL 18.5 0 \nz\n\" id=\"DejaVuSans-119\"/>\n       </defs>\n       <use xlink:href=\"#DejaVuSans-32\"/>\n       <use x=\"31.787109\" xlink:href=\"#DejaVuSans-32\"/>\n       <use x=\"63.574219\" xlink:href=\"#DejaVuSans-32\"/>\n       <use x=\"95.361328\" xlink:href=\"#DejaVuSans-32\"/>\n       <use x=\"127.148438\" xlink:href=\"#DejaVuSans-84\"/>\n       <use x=\"173.482422\" xlink:href=\"#DejaVuSans-114\"/>\n       <use x=\"214.595703\" xlink:href=\"#DejaVuSans-97\"/>\n       <use x=\"275.875\" xlink:href=\"#DejaVuSans-110\"/>\n       <use x=\"339.253906\" xlink:href=\"#DejaVuSans-115\"/>\n       <use x=\"391.353516\" xlink:href=\"#DejaVuSans-112\"/>\n       <use x=\"454.830078\" xlink:href=\"#DejaVuSans-111\"/>\n       <use x=\"516.011719\" xlink:href=\"#DejaVuSans-114\"/>\n       <use x=\"557.125\" xlink:href=\"#DejaVuSans-116\"/>\n       <use x=\"596.333984\" xlink:href=\"#DejaVuSans-97\"/>\n       <use x=\"657.613281\" xlink:href=\"#DejaVuSans-116\"/>\n       <use x=\"696.822266\" xlink:href=\"#DejaVuSans-105\"/>\n       <use x=\"724.605469\" xlink:href=\"#DejaVuSans-111\"/>\n       <use x=\"785.787109\" xlink:href=\"#DejaVuSans-110\"/>\n       <use x=\"849.166016\" xlink:href=\"#DejaVuSans-32\"/>\n       <use x=\"880.953125\" xlink:href=\"#DejaVuSans-97\"/>\n       <use x=\"942.232422\" xlink:href=\"#DejaVuSans-110\"/>\n       <use x=\"1005.611328\" xlink:href=\"#DejaVuSans-100\"/>\n       <use x=\"1069.087891\" xlink:href=\"#DejaVuSans-32\"/>\n       <use x=\"1100.875\" xlink:href=\"#DejaVuSans-119\"/>\n       <use x=\"1182.662109\" xlink:href=\"#DejaVuSans-97\"/>\n       <use x=\"1243.941406\" xlink:href=\"#DejaVuSans-114\"/>\n       <use x=\"1282.804688\" xlink:href=\"#DejaVuSans-101\"/>\n       <use x=\"1344.328125\" xlink:href=\"#DejaVuSans-104\"/>\n       <use x=\"1407.707031\" xlink:href=\"#DejaVuSans-111\"/>\n       <use x=\"1468.888672\" xlink:href=\"#DejaVuSans-117\"/>\n       <use x=\"1532.267578\" xlink:href=\"#DejaVuSans-115\"/>\n       <use x=\"1584.367188\" xlink:href=\"#DejaVuSans-105\"/>\n       <use x=\"1612.150391\" xlink:href=\"#DejaVuSans-110\"/>\n       <use x=\"1675.529297\" xlink:href=\"#DejaVuSans-103\"/>\n      </g>\n     </g>\n    </g>\n    <g id=\"xtick_11\">\n     <g id=\"line2d_11\">\n      <g>\n       <use style=\"stroke:#000000;stroke-width:0.8;\" x=\"313.903879\" xlink:href=\"#md833960a0a\" y=\"438.12\"/>\n      </g>\n     </g>\n     <g id=\"text_11\">\n      <!--     Information -->\n      <g transform=\"translate(316.663254 515.718437)rotate(-90)scale(0.1 -0.1)\">\n       <defs>\n        <path d=\"M 9.8125 72.90625 \nL 19.671875 72.90625 \nL 19.671875 0 \nL 9.8125 0 \nz\n\" id=\"DejaVuSans-73\"/>\n       </defs>\n       <use xlink:href=\"#DejaVuSans-32\"/>\n       <use x=\"31.787109\" xlink:href=\"#DejaVuSans-32\"/>\n       <use x=\"63.574219\" xlink:href=\"#DejaVuSans-32\"/>\n       <use x=\"95.361328\" xlink:href=\"#DejaVuSans-32\"/>\n       <use x=\"127.148438\" xlink:href=\"#DejaVuSans-73\"/>\n       <use x=\"156.640625\" xlink:href=\"#DejaVuSans-110\"/>\n       <use x=\"220.019531\" xlink:href=\"#DejaVuSans-102\"/>\n       <use x=\"255.224609\" xlink:href=\"#DejaVuSans-111\"/>\n       <use x=\"316.40625\" xlink:href=\"#DejaVuSans-114\"/>\n       <use x=\"355.769531\" xlink:href=\"#DejaVuSans-109\"/>\n       <use x=\"453.181641\" xlink:href=\"#DejaVuSans-97\"/>\n       <use x=\"514.460938\" xlink:href=\"#DejaVuSans-116\"/>\n       <use x=\"553.669922\" xlink:href=\"#DejaVuSans-105\"/>\n       <use x=\"581.453125\" xlink:href=\"#DejaVuSans-111\"/>\n       <use x=\"642.634766\" xlink:href=\"#DejaVuSans-110\"/>\n      </g>\n     </g>\n    </g>\n    <g id=\"xtick_12\">\n     <g id=\"line2d_12\">\n      <g>\n       <use style=\"stroke:#000000;stroke-width:0.8;\" x=\"336.993534\" xlink:href=\"#md833960a0a\" y=\"438.12\"/>\n      </g>\n     </g>\n     <g id=\"text_12\">\n      <!--     Finance, insurance, real estate, rental, and leasing -->\n      <g transform=\"translate(339.752909 710.943437)rotate(-90)scale(0.1 -0.1)\">\n       <defs>\n        <path d=\"M 9.8125 72.90625 \nL 51.703125 72.90625 \nL 51.703125 64.59375 \nL 19.671875 64.59375 \nL 19.671875 43.109375 \nL 48.578125 43.109375 \nL 48.578125 34.8125 \nL 19.671875 34.8125 \nL 19.671875 0 \nL 9.8125 0 \nz\n\" id=\"DejaVuSans-70\"/>\n       </defs>\n       <use xlink:href=\"#DejaVuSans-32\"/>\n       <use x=\"31.787109\" xlink:href=\"#DejaVuSans-32\"/>\n       <use x=\"63.574219\" xlink:href=\"#DejaVuSans-32\"/>\n       <use x=\"95.361328\" xlink:href=\"#DejaVuSans-32\"/>\n       <use x=\"127.148438\" xlink:href=\"#DejaVuSans-70\"/>\n       <use x=\"177.417969\" xlink:href=\"#DejaVuSans-105\"/>\n       <use x=\"205.201172\" xlink:href=\"#DejaVuSans-110\"/>\n       <use x=\"268.580078\" xlink:href=\"#DejaVuSans-97\"/>\n       <use x=\"329.859375\" xlink:href=\"#DejaVuSans-110\"/>\n       <use x=\"393.238281\" xlink:href=\"#DejaVuSans-99\"/>\n       <use x=\"448.21875\" xlink:href=\"#DejaVuSans-101\"/>\n       <use x=\"509.742188\" xlink:href=\"#DejaVuSans-44\"/>\n       <use x=\"541.529297\" xlink:href=\"#DejaVuSans-32\"/>\n       <use x=\"573.316406\" xlink:href=\"#DejaVuSans-105\"/>\n       <use x=\"601.099609\" xlink:href=\"#DejaVuSans-110\"/>\n       <use x=\"664.478516\" xlink:href=\"#DejaVuSans-115\"/>\n       <use x=\"716.578125\" xlink:href=\"#DejaVuSans-117\"/>\n       <use x=\"779.957031\" xlink:href=\"#DejaVuSans-114\"/>\n       <use x=\"821.070312\" xlink:href=\"#DejaVuSans-97\"/>\n       <use x=\"882.349609\" xlink:href=\"#DejaVuSans-110\"/>\n       <use x=\"945.728516\" xlink:href=\"#DejaVuSans-99\"/>\n       <use x=\"1000.708984\" xlink:href=\"#DejaVuSans-101\"/>\n       <use x=\"1062.232422\" xlink:href=\"#DejaVuSans-44\"/>\n       <use x=\"1094.019531\" xlink:href=\"#DejaVuSans-32\"/>\n       <use x=\"1125.806641\" xlink:href=\"#DejaVuSans-114\"/>\n       <use x=\"1164.669922\" xlink:href=\"#DejaVuSans-101\"/>\n       <use x=\"1226.193359\" xlink:href=\"#DejaVuSans-97\"/>\n       <use x=\"1287.472656\" xlink:href=\"#DejaVuSans-108\"/>\n       <use x=\"1315.255859\" xlink:href=\"#DejaVuSans-32\"/>\n       <use x=\"1347.042969\" xlink:href=\"#DejaVuSans-101\"/>\n       <use x=\"1408.566406\" xlink:href=\"#DejaVuSans-115\"/>\n       <use x=\"1460.666016\" xlink:href=\"#DejaVuSans-116\"/>\n       <use x=\"1499.875\" xlink:href=\"#DejaVuSans-97\"/>\n       <use x=\"1561.154297\" xlink:href=\"#DejaVuSans-116\"/>\n       <use x=\"1600.363281\" xlink:href=\"#DejaVuSans-101\"/>\n       <use x=\"1661.886719\" xlink:href=\"#DejaVuSans-44\"/>\n       <use x=\"1693.673828\" xlink:href=\"#DejaVuSans-32\"/>\n       <use x=\"1725.460938\" xlink:href=\"#DejaVuSans-114\"/>\n       <use x=\"1764.324219\" xlink:href=\"#DejaVuSans-101\"/>\n       <use x=\"1825.847656\" xlink:href=\"#DejaVuSans-110\"/>\n       <use x=\"1889.226562\" xlink:href=\"#DejaVuSans-116\"/>\n       <use x=\"1928.435547\" xlink:href=\"#DejaVuSans-97\"/>\n       <use x=\"1989.714844\" xlink:href=\"#DejaVuSans-108\"/>\n       <use x=\"2017.498047\" xlink:href=\"#DejaVuSans-44\"/>\n       <use x=\"2049.285156\" xlink:href=\"#DejaVuSans-32\"/>\n       <use x=\"2081.072266\" xlink:href=\"#DejaVuSans-97\"/>\n       <use x=\"2142.351562\" xlink:href=\"#DejaVuSans-110\"/>\n       <use x=\"2205.730469\" xlink:href=\"#DejaVuSans-100\"/>\n       <use x=\"2269.207031\" xlink:href=\"#DejaVuSans-32\"/>\n       <use x=\"2300.994141\" xlink:href=\"#DejaVuSans-108\"/>\n       <use x=\"2328.777344\" xlink:href=\"#DejaVuSans-101\"/>\n       <use x=\"2390.300781\" xlink:href=\"#DejaVuSans-97\"/>\n       <use x=\"2451.580078\" xlink:href=\"#DejaVuSans-115\"/>\n       <use x=\"2503.679688\" xlink:href=\"#DejaVuSans-105\"/>\n       <use x=\"2531.462891\" xlink:href=\"#DejaVuSans-110\"/>\n       <use x=\"2594.841797\" xlink:href=\"#DejaVuSans-103\"/>\n      </g>\n     </g>\n    </g>\n    <g id=\"xtick_13\">\n     <g id=\"line2d_13\">\n      <g>\n       <use style=\"stroke:#000000;stroke-width:0.8;\" x=\"360.08319\" xlink:href=\"#md833960a0a\" y=\"438.12\"/>\n      </g>\n     </g>\n     <g id=\"text_13\">\n      <!--       Finance and insurance -->\n      <g transform=\"translate(362.842565 576.509062)rotate(-90)scale(0.1 -0.1)\">\n       <use xlink:href=\"#DejaVuSans-32\"/>\n       <use x=\"31.787109\" xlink:href=\"#DejaVuSans-32\"/>\n       <use x=\"63.574219\" xlink:href=\"#DejaVuSans-32\"/>\n       <use x=\"95.361328\" xlink:href=\"#DejaVuSans-32\"/>\n       <use x=\"127.148438\" xlink:href=\"#DejaVuSans-32\"/>\n       <use x=\"158.935547\" xlink:href=\"#DejaVuSans-32\"/>\n       <use x=\"190.722656\" xlink:href=\"#DejaVuSans-70\"/>\n       <use x=\"240.992188\" xlink:href=\"#DejaVuSans-105\"/>\n       <use x=\"268.775391\" xlink:href=\"#DejaVuSans-110\"/>\n       <use x=\"332.154297\" xlink:href=\"#DejaVuSans-97\"/>\n       <use x=\"393.433594\" xlink:href=\"#DejaVuSans-110\"/>\n       <use x=\"456.8125\" xlink:href=\"#DejaVuSans-99\"/>\n       <use x=\"511.792969\" xlink:href=\"#DejaVuSans-101\"/>\n       <use x=\"573.316406\" xlink:href=\"#DejaVuSans-32\"/>\n       <use x=\"605.103516\" xlink:href=\"#DejaVuSans-97\"/>\n       <use x=\"666.382812\" xlink:href=\"#DejaVuSans-110\"/>\n       <use x=\"729.761719\" xlink:href=\"#DejaVuSans-100\"/>\n       <use x=\"793.238281\" xlink:href=\"#DejaVuSans-32\"/>\n       <use x=\"825.025391\" xlink:href=\"#DejaVuSans-105\"/>\n       <use x=\"852.808594\" xlink:href=\"#DejaVuSans-110\"/>\n       <use x=\"916.1875\" xlink:href=\"#DejaVuSans-115\"/>\n       <use x=\"968.287109\" xlink:href=\"#DejaVuSans-117\"/>\n       <use x=\"1031.666016\" xlink:href=\"#DejaVuSans-114\"/>\n       <use x=\"1072.779297\" xlink:href=\"#DejaVuSans-97\"/>\n       <use x=\"1134.058594\" xlink:href=\"#DejaVuSans-110\"/>\n       <use x=\"1197.4375\" xlink:href=\"#DejaVuSans-99\"/>\n       <use x=\"1252.417969\" xlink:href=\"#DejaVuSans-101\"/>\n      </g>\n     </g>\n    </g>\n    <g id=\"xtick_14\">\n     <g id=\"line2d_14\">\n      <g>\n       <use style=\"stroke:#000000;stroke-width:0.8;\" x=\"383.172845\" xlink:href=\"#md833960a0a\" y=\"438.12\"/>\n      </g>\n     </g>\n     <g id=\"text_14\">\n      <!--       Real estate and rental and leasing -->\n      <g transform=\"translate(385.93222 635.685625)rotate(-90)scale(0.1 -0.1)\">\n       <use xlink:href=\"#DejaVuSans-32\"/>\n       <use x=\"31.787109\" xlink:href=\"#DejaVuSans-32\"/>\n       <use x=\"63.574219\" xlink:href=\"#DejaVuSans-32\"/>\n       <use x=\"95.361328\" xlink:href=\"#DejaVuSans-32\"/>\n       <use x=\"127.148438\" xlink:href=\"#DejaVuSans-32\"/>\n       <use x=\"158.935547\" xlink:href=\"#DejaVuSans-32\"/>\n       <use x=\"190.722656\" xlink:href=\"#DejaVuSans-82\"/>\n       <use x=\"255.705078\" xlink:href=\"#DejaVuSans-101\"/>\n       <use x=\"317.228516\" xlink:href=\"#DejaVuSans-97\"/>\n       <use x=\"378.507812\" xlink:href=\"#DejaVuSans-108\"/>\n       <use x=\"406.291016\" xlink:href=\"#DejaVuSans-32\"/>\n       <use x=\"438.078125\" xlink:href=\"#DejaVuSans-101\"/>\n       <use x=\"499.601562\" xlink:href=\"#DejaVuSans-115\"/>\n       <use x=\"551.701172\" xlink:href=\"#DejaVuSans-116\"/>\n       <use x=\"590.910156\" xlink:href=\"#DejaVuSans-97\"/>\n       <use x=\"652.189453\" xlink:href=\"#DejaVuSans-116\"/>\n       <use x=\"691.398438\" xlink:href=\"#DejaVuSans-101\"/>\n       <use x=\"752.921875\" xlink:href=\"#DejaVuSans-32\"/>\n       <use x=\"784.708984\" xlink:href=\"#DejaVuSans-97\"/>\n       <use x=\"845.988281\" xlink:href=\"#DejaVuSans-110\"/>\n       <use x=\"909.367188\" xlink:href=\"#DejaVuSans-100\"/>\n       <use x=\"972.84375\" xlink:href=\"#DejaVuSans-32\"/>\n       <use x=\"1004.630859\" xlink:href=\"#DejaVuSans-114\"/>\n       <use x=\"1043.494141\" xlink:href=\"#DejaVuSans-101\"/>\n       <use x=\"1105.017578\" xlink:href=\"#DejaVuSans-110\"/>\n       <use x=\"1168.396484\" xlink:href=\"#DejaVuSans-116\"/>\n       <use x=\"1207.605469\" xlink:href=\"#DejaVuSans-97\"/>\n       <use x=\"1268.884766\" xlink:href=\"#DejaVuSans-108\"/>\n       <use x=\"1296.667969\" xlink:href=\"#DejaVuSans-32\"/>\n       <use x=\"1328.455078\" xlink:href=\"#DejaVuSans-97\"/>\n       <use x=\"1389.734375\" xlink:href=\"#DejaVuSans-110\"/>\n       <use x=\"1453.113281\" xlink:href=\"#DejaVuSans-100\"/>\n       <use x=\"1516.589844\" xlink:href=\"#DejaVuSans-32\"/>\n       <use x=\"1548.376953\" xlink:href=\"#DejaVuSans-108\"/>\n       <use x=\"1576.160156\" xlink:href=\"#DejaVuSans-101\"/>\n       <use x=\"1637.683594\" xlink:href=\"#DejaVuSans-97\"/>\n       <use x=\"1698.962891\" xlink:href=\"#DejaVuSans-115\"/>\n       <use x=\"1751.0625\" xlink:href=\"#DejaVuSans-105\"/>\n       <use x=\"1778.845703\" xlink:href=\"#DejaVuSans-110\"/>\n       <use x=\"1842.224609\" xlink:href=\"#DejaVuSans-103\"/>\n      </g>\n     </g>\n    </g>\n    <g id=\"xtick_15\">\n     <g id=\"line2d_15\">\n      <g>\n       <use style=\"stroke:#000000;stroke-width:0.8;\" x=\"406.2625\" xlink:href=\"#md833960a0a\" y=\"438.12\"/>\n      </g>\n     </g>\n     <g id=\"text_15\">\n      <!--     Professional and business services -->\n      <g transform=\"translate(409.021875 630.887187)rotate(-90)scale(0.1 -0.1)\">\n       <defs>\n        <path d=\"M 19.671875 64.796875 \nL 19.671875 37.40625 \nL 32.078125 37.40625 \nQ 38.96875 37.40625 42.71875 40.96875 \nQ 46.484375 44.53125 46.484375 51.125 \nQ 46.484375 57.671875 42.71875 61.234375 \nQ 38.96875 64.796875 32.078125 64.796875 \nz\nM 9.8125 72.90625 \nL 32.078125 72.90625 \nQ 44.34375 72.90625 50.609375 67.359375 \nQ 56.890625 61.8125 56.890625 51.125 \nQ 56.890625 40.328125 50.609375 34.8125 \nQ 44.34375 29.296875 32.078125 29.296875 \nL 19.671875 29.296875 \nL 19.671875 0 \nL 9.8125 0 \nz\n\" id=\"DejaVuSans-80\"/>\n        <path d=\"M 2.984375 54.6875 \nL 12.5 54.6875 \nL 29.59375 8.796875 \nL 46.6875 54.6875 \nL 56.203125 54.6875 \nL 35.6875 0 \nL 23.484375 0 \nz\n\" id=\"DejaVuSans-118\"/>\n       </defs>\n       <use xlink:href=\"#DejaVuSans-32\"/>\n       <use x=\"31.787109\" xlink:href=\"#DejaVuSans-32\"/>\n       <use x=\"63.574219\" xlink:href=\"#DejaVuSans-32\"/>\n       <use x=\"95.361328\" xlink:href=\"#DejaVuSans-32\"/>\n       <use x=\"127.148438\" xlink:href=\"#DejaVuSans-80\"/>\n       <use x=\"185.701172\" xlink:href=\"#DejaVuSans-114\"/>\n       <use x=\"224.564453\" xlink:href=\"#DejaVuSans-111\"/>\n       <use x=\"285.746094\" xlink:href=\"#DejaVuSans-102\"/>\n       <use x=\"320.951172\" xlink:href=\"#DejaVuSans-101\"/>\n       <use x=\"382.474609\" xlink:href=\"#DejaVuSans-115\"/>\n       <use x=\"434.574219\" xlink:href=\"#DejaVuSans-115\"/>\n       <use x=\"486.673828\" xlink:href=\"#DejaVuSans-105\"/>\n       <use x=\"514.457031\" xlink:href=\"#DejaVuSans-111\"/>\n       <use x=\"575.638672\" xlink:href=\"#DejaVuSans-110\"/>\n       <use x=\"639.017578\" xlink:href=\"#DejaVuSans-97\"/>\n       <use x=\"700.296875\" xlink:href=\"#DejaVuSans-108\"/>\n       <use x=\"728.080078\" xlink:href=\"#DejaVuSans-32\"/>\n       <use x=\"759.867188\" xlink:href=\"#DejaVuSans-97\"/>\n       <use x=\"821.146484\" xlink:href=\"#DejaVuSans-110\"/>\n       <use x=\"884.525391\" xlink:href=\"#DejaVuSans-100\"/>\n       <use x=\"948.001953\" xlink:href=\"#DejaVuSans-32\"/>\n       <use x=\"979.789062\" xlink:href=\"#DejaVuSans-98\"/>\n       <use x=\"1043.265625\" xlink:href=\"#DejaVuSans-117\"/>\n       <use x=\"1106.644531\" xlink:href=\"#DejaVuSans-115\"/>\n       <use x=\"1158.744141\" xlink:href=\"#DejaVuSans-105\"/>\n       <use x=\"1186.527344\" xlink:href=\"#DejaVuSans-110\"/>\n       <use x=\"1249.90625\" xlink:href=\"#DejaVuSans-101\"/>\n       <use x=\"1311.429688\" xlink:href=\"#DejaVuSans-115\"/>\n       <use x=\"1363.529297\" xlink:href=\"#DejaVuSans-115\"/>\n       <use x=\"1415.628906\" xlink:href=\"#DejaVuSans-32\"/>\n       <use x=\"1447.416016\" xlink:href=\"#DejaVuSans-115\"/>\n       <use x=\"1499.515625\" xlink:href=\"#DejaVuSans-101\"/>\n       <use x=\"1561.039062\" xlink:href=\"#DejaVuSans-114\"/>\n       <use x=\"1602.152344\" xlink:href=\"#DejaVuSans-118\"/>\n       <use x=\"1661.332031\" xlink:href=\"#DejaVuSans-105\"/>\n       <use x=\"1689.115234\" xlink:href=\"#DejaVuSans-99\"/>\n       <use x=\"1744.095703\" xlink:href=\"#DejaVuSans-101\"/>\n       <use x=\"1805.619141\" xlink:href=\"#DejaVuSans-115\"/>\n      </g>\n     </g>\n    </g>\n    <g id=\"xtick_16\">\n     <g id=\"line2d_16\">\n      <g>\n       <use style=\"stroke:#000000;stroke-width:0.8;\" x=\"429.352155\" xlink:href=\"#md833960a0a\" y=\"438.12\"/>\n      </g>\n     </g>\n     <g id=\"text_16\">\n      <!--       Professional, scientific, and technical services -->\n      <g transform=\"translate(432.11153 693.096562)rotate(-90)scale(0.1 -0.1)\">\n       <use xlink:href=\"#DejaVuSans-32\"/>\n       <use x=\"31.787109\" xlink:href=\"#DejaVuSans-32\"/>\n       <use x=\"63.574219\" xlink:href=\"#DejaVuSans-32\"/>\n       <use x=\"95.361328\" xlink:href=\"#DejaVuSans-32\"/>\n       <use x=\"127.148438\" xlink:href=\"#DejaVuSans-32\"/>\n       <use x=\"158.935547\" xlink:href=\"#DejaVuSans-32\"/>\n       <use x=\"190.722656\" xlink:href=\"#DejaVuSans-80\"/>\n       <use x=\"249.275391\" xlink:href=\"#DejaVuSans-114\"/>\n       <use x=\"288.138672\" xlink:href=\"#DejaVuSans-111\"/>\n       <use x=\"349.320312\" xlink:href=\"#DejaVuSans-102\"/>\n       <use x=\"384.525391\" xlink:href=\"#DejaVuSans-101\"/>\n       <use x=\"446.048828\" xlink:href=\"#DejaVuSans-115\"/>\n       <use x=\"498.148438\" xlink:href=\"#DejaVuSans-115\"/>\n       <use x=\"550.248047\" xlink:href=\"#DejaVuSans-105\"/>\n       <use x=\"578.03125\" xlink:href=\"#DejaVuSans-111\"/>\n       <use x=\"639.212891\" xlink:href=\"#DejaVuSans-110\"/>\n       <use x=\"702.591797\" xlink:href=\"#DejaVuSans-97\"/>\n       <use x=\"763.871094\" xlink:href=\"#DejaVuSans-108\"/>\n       <use x=\"791.654297\" xlink:href=\"#DejaVuSans-44\"/>\n       <use x=\"823.441406\" xlink:href=\"#DejaVuSans-32\"/>\n       <use x=\"855.228516\" xlink:href=\"#DejaVuSans-115\"/>\n       <use x=\"907.328125\" xlink:href=\"#DejaVuSans-99\"/>\n       <use x=\"962.308594\" xlink:href=\"#DejaVuSans-105\"/>\n       <use x=\"990.091797\" xlink:href=\"#DejaVuSans-101\"/>\n       <use x=\"1051.615234\" xlink:href=\"#DejaVuSans-110\"/>\n       <use x=\"1114.994141\" xlink:href=\"#DejaVuSans-116\"/>\n       <use x=\"1154.203125\" xlink:href=\"#DejaVuSans-105\"/>\n       <use x=\"1181.986328\" xlink:href=\"#DejaVuSans-102\"/>\n       <use x=\"1217.191406\" xlink:href=\"#DejaVuSans-105\"/>\n       <use x=\"1244.974609\" xlink:href=\"#DejaVuSans-99\"/>\n       <use x=\"1299.955078\" xlink:href=\"#DejaVuSans-44\"/>\n       <use x=\"1331.742188\" xlink:href=\"#DejaVuSans-32\"/>\n       <use x=\"1363.529297\" xlink:href=\"#DejaVuSans-97\"/>\n       <use x=\"1424.808594\" xlink:href=\"#DejaVuSans-110\"/>\n       <use x=\"1488.1875\" xlink:href=\"#DejaVuSans-100\"/>\n       <use x=\"1551.664062\" xlink:href=\"#DejaVuSans-32\"/>\n       <use x=\"1583.451172\" xlink:href=\"#DejaVuSans-116\"/>\n       <use x=\"1622.660156\" xlink:href=\"#DejaVuSans-101\"/>\n       <use x=\"1684.183594\" xlink:href=\"#DejaVuSans-99\"/>\n       <use x=\"1739.164062\" xlink:href=\"#DejaVuSans-104\"/>\n       <use x=\"1802.542969\" xlink:href=\"#DejaVuSans-110\"/>\n       <use x=\"1865.921875\" xlink:href=\"#DejaVuSans-105\"/>\n       <use x=\"1893.705078\" xlink:href=\"#DejaVuSans-99\"/>\n       <use x=\"1948.685547\" xlink:href=\"#DejaVuSans-97\"/>\n       <use x=\"2009.964844\" xlink:href=\"#DejaVuSans-108\"/>\n       <use x=\"2037.748047\" xlink:href=\"#DejaVuSans-32\"/>\n       <use x=\"2069.535156\" xlink:href=\"#DejaVuSans-115\"/>\n       <use x=\"2121.634766\" xlink:href=\"#DejaVuSans-101\"/>\n       <use x=\"2183.158203\" xlink:href=\"#DejaVuSans-114\"/>\n       <use x=\"2224.271484\" xlink:href=\"#DejaVuSans-118\"/>\n       <use x=\"2283.451172\" xlink:href=\"#DejaVuSans-105\"/>\n       <use x=\"2311.234375\" xlink:href=\"#DejaVuSans-99\"/>\n       <use x=\"2366.214844\" xlink:href=\"#DejaVuSans-101\"/>\n       <use x=\"2427.738281\" xlink:href=\"#DejaVuSans-115\"/>\n      </g>\n     </g>\n    </g>\n    <g id=\"xtick_17\">\n     <g id=\"line2d_17\">\n      <g>\n       <use style=\"stroke:#000000;stroke-width:0.8;\" x=\"452.44181\" xlink:href=\"#md833960a0a\" y=\"438.12\"/>\n      </g>\n     </g>\n     <g id=\"text_17\">\n      <!--       Management of companies and enterprises -->\n      <g transform=\"translate(455.201185 682.02625)rotate(-90)scale(0.1 -0.1)\">\n       <use xlink:href=\"#DejaVuSans-32\"/>\n       <use x=\"31.787109\" xlink:href=\"#DejaVuSans-32\"/>\n       <use x=\"63.574219\" xlink:href=\"#DejaVuSans-32\"/>\n       <use x=\"95.361328\" xlink:href=\"#DejaVuSans-32\"/>\n       <use x=\"127.148438\" xlink:href=\"#DejaVuSans-32\"/>\n       <use x=\"158.935547\" xlink:href=\"#DejaVuSans-32\"/>\n       <use x=\"190.722656\" xlink:href=\"#DejaVuSans-77\"/>\n       <use x=\"277.001953\" xlink:href=\"#DejaVuSans-97\"/>\n       <use x=\"338.28125\" xlink:href=\"#DejaVuSans-110\"/>\n       <use x=\"401.660156\" xlink:href=\"#DejaVuSans-97\"/>\n       <use x=\"462.939453\" xlink:href=\"#DejaVuSans-103\"/>\n       <use x=\"526.416016\" xlink:href=\"#DejaVuSans-101\"/>\n       <use x=\"587.939453\" xlink:href=\"#DejaVuSans-109\"/>\n       <use x=\"685.351562\" xlink:href=\"#DejaVuSans-101\"/>\n       <use x=\"746.875\" xlink:href=\"#DejaVuSans-110\"/>\n       <use x=\"810.253906\" xlink:href=\"#DejaVuSans-116\"/>\n       <use x=\"849.462891\" xlink:href=\"#DejaVuSans-32\"/>\n       <use x=\"881.25\" xlink:href=\"#DejaVuSans-111\"/>\n       <use x=\"942.431641\" xlink:href=\"#DejaVuSans-102\"/>\n       <use x=\"977.636719\" xlink:href=\"#DejaVuSans-32\"/>\n       <use x=\"1009.423828\" xlink:href=\"#DejaVuSans-99\"/>\n       <use x=\"1064.404297\" xlink:href=\"#DejaVuSans-111\"/>\n       <use x=\"1125.585938\" xlink:href=\"#DejaVuSans-109\"/>\n       <use x=\"1222.998047\" xlink:href=\"#DejaVuSans-112\"/>\n       <use x=\"1286.474609\" xlink:href=\"#DejaVuSans-97\"/>\n       <use x=\"1347.753906\" xlink:href=\"#DejaVuSans-110\"/>\n       <use x=\"1411.132812\" xlink:href=\"#DejaVuSans-105\"/>\n       <use x=\"1438.916016\" xlink:href=\"#DejaVuSans-101\"/>\n       <use x=\"1500.439453\" xlink:href=\"#DejaVuSans-115\"/>\n       <use x=\"1552.539062\" xlink:href=\"#DejaVuSans-32\"/>\n       <use x=\"1584.326172\" xlink:href=\"#DejaVuSans-97\"/>\n       <use x=\"1645.605469\" xlink:href=\"#DejaVuSans-110\"/>\n       <use x=\"1708.984375\" xlink:href=\"#DejaVuSans-100\"/>\n       <use x=\"1772.460938\" xlink:href=\"#DejaVuSans-32\"/>\n       <use x=\"1804.248047\" xlink:href=\"#DejaVuSans-101\"/>\n       <use x=\"1865.771484\" xlink:href=\"#DejaVuSans-110\"/>\n       <use x=\"1929.150391\" xlink:href=\"#DejaVuSans-116\"/>\n       <use x=\"1968.359375\" xlink:href=\"#DejaVuSans-101\"/>\n       <use x=\"2029.882812\" xlink:href=\"#DejaVuSans-114\"/>\n       <use x=\"2070.996094\" xlink:href=\"#DejaVuSans-112\"/>\n       <use x=\"2134.472656\" xlink:href=\"#DejaVuSans-114\"/>\n       <use x=\"2175.585938\" xlink:href=\"#DejaVuSans-105\"/>\n       <use x=\"2203.369141\" xlink:href=\"#DejaVuSans-115\"/>\n       <use x=\"2255.46875\" xlink:href=\"#DejaVuSans-101\"/>\n       <use x=\"2316.992188\" xlink:href=\"#DejaVuSans-115\"/>\n      </g>\n     </g>\n    </g>\n    <g id=\"xtick_18\">\n     <g id=\"line2d_18\">\n      <g>\n       <use style=\"stroke:#000000;stroke-width:0.8;\" x=\"475.531466\" xlink:href=\"#md833960a0a\" y=\"438.12\"/>\n      </g>\n     </g>\n     <g id=\"text_18\">\n      <!--       Administrative and support and waste management and remediation services -->\n      <g transform=\"translate(478.290841 855.187187)rotate(-90)scale(0.1 -0.1)\">\n       <use xlink:href=\"#DejaVuSans-32\"/>\n       <use x=\"31.787109\" xlink:href=\"#DejaVuSans-32\"/>\n       <use x=\"63.574219\" xlink:href=\"#DejaVuSans-32\"/>\n       <use x=\"95.361328\" xlink:href=\"#DejaVuSans-32\"/>\n       <use x=\"127.148438\" xlink:href=\"#DejaVuSans-32\"/>\n       <use x=\"158.935547\" xlink:href=\"#DejaVuSans-32\"/>\n       <use x=\"190.722656\" xlink:href=\"#DejaVuSans-65\"/>\n       <use x=\"257.380859\" xlink:href=\"#DejaVuSans-100\"/>\n       <use x=\"320.857422\" xlink:href=\"#DejaVuSans-109\"/>\n       <use x=\"418.269531\" xlink:href=\"#DejaVuSans-105\"/>\n       <use x=\"446.052734\" xlink:href=\"#DejaVuSans-110\"/>\n       <use x=\"509.431641\" xlink:href=\"#DejaVuSans-105\"/>\n       <use x=\"537.214844\" xlink:href=\"#DejaVuSans-115\"/>\n       <use x=\"589.314453\" xlink:href=\"#DejaVuSans-116\"/>\n       <use x=\"628.523438\" xlink:href=\"#DejaVuSans-114\"/>\n       <use x=\"669.636719\" xlink:href=\"#DejaVuSans-97\"/>\n       <use x=\"730.916016\" xlink:href=\"#DejaVuSans-116\"/>\n       <use x=\"770.125\" xlink:href=\"#DejaVuSans-105\"/>\n       <use x=\"797.908203\" xlink:href=\"#DejaVuSans-118\"/>\n       <use x=\"857.087891\" xlink:href=\"#DejaVuSans-101\"/>\n       <use x=\"918.611328\" xlink:href=\"#DejaVuSans-32\"/>\n       <use x=\"950.398438\" xlink:href=\"#DejaVuSans-97\"/>\n       <use x=\"1011.677734\" xlink:href=\"#DejaVuSans-110\"/>\n       <use x=\"1075.056641\" xlink:href=\"#DejaVuSans-100\"/>\n       <use x=\"1138.533203\" xlink:href=\"#DejaVuSans-32\"/>\n       <use x=\"1170.320312\" xlink:href=\"#DejaVuSans-115\"/>\n       <use x=\"1222.419922\" xlink:href=\"#DejaVuSans-117\"/>\n       <use x=\"1285.798828\" xlink:href=\"#DejaVuSans-112\"/>\n       <use x=\"1349.275391\" xlink:href=\"#DejaVuSans-112\"/>\n       <use x=\"1412.751953\" xlink:href=\"#DejaVuSans-111\"/>\n       <use x=\"1473.933594\" xlink:href=\"#DejaVuSans-114\"/>\n       <use x=\"1515.046875\" xlink:href=\"#DejaVuSans-116\"/>\n       <use x=\"1554.255859\" xlink:href=\"#DejaVuSans-32\"/>\n       <use x=\"1586.042969\" xlink:href=\"#DejaVuSans-97\"/>\n       <use x=\"1647.322266\" xlink:href=\"#DejaVuSans-110\"/>\n       <use x=\"1710.701172\" xlink:href=\"#DejaVuSans-100\"/>\n       <use x=\"1774.177734\" xlink:href=\"#DejaVuSans-32\"/>\n       <use x=\"1805.964844\" xlink:href=\"#DejaVuSans-119\"/>\n       <use x=\"1887.751953\" xlink:href=\"#DejaVuSans-97\"/>\n       <use x=\"1949.03125\" xlink:href=\"#DejaVuSans-115\"/>\n       <use x=\"2001.130859\" xlink:href=\"#DejaVuSans-116\"/>\n       <use x=\"2040.339844\" xlink:href=\"#DejaVuSans-101\"/>\n       <use x=\"2101.863281\" xlink:href=\"#DejaVuSans-32\"/>\n       <use x=\"2133.650391\" xlink:href=\"#DejaVuSans-109\"/>\n       <use x=\"2231.0625\" xlink:href=\"#DejaVuSans-97\"/>\n       <use x=\"2292.341797\" xlink:href=\"#DejaVuSans-110\"/>\n       <use x=\"2355.720703\" xlink:href=\"#DejaVuSans-97\"/>\n       <use x=\"2417\" xlink:href=\"#DejaVuSans-103\"/>\n       <use x=\"2480.476562\" xlink:href=\"#DejaVuSans-101\"/>\n       <use x=\"2542\" xlink:href=\"#DejaVuSans-109\"/>\n       <use x=\"2639.412109\" xlink:href=\"#DejaVuSans-101\"/>\n       <use x=\"2700.935547\" xlink:href=\"#DejaVuSans-110\"/>\n       <use x=\"2764.314453\" xlink:href=\"#DejaVuSans-116\"/>\n       <use x=\"2803.523438\" xlink:href=\"#DejaVuSans-32\"/>\n       <use x=\"2835.310547\" xlink:href=\"#DejaVuSans-97\"/>\n       <use x=\"2896.589844\" xlink:href=\"#DejaVuSans-110\"/>\n       <use x=\"2959.96875\" xlink:href=\"#DejaVuSans-100\"/>\n       <use x=\"3023.445312\" xlink:href=\"#DejaVuSans-32\"/>\n       <use x=\"3055.232422\" xlink:href=\"#DejaVuSans-114\"/>\n       <use x=\"3094.095703\" xlink:href=\"#DejaVuSans-101\"/>\n       <use x=\"3155.619141\" xlink:href=\"#DejaVuSans-109\"/>\n       <use x=\"3253.03125\" xlink:href=\"#DejaVuSans-101\"/>\n       <use x=\"3314.554688\" xlink:href=\"#DejaVuSans-100\"/>\n       <use x=\"3378.03125\" xlink:href=\"#DejaVuSans-105\"/>\n       <use x=\"3405.814453\" xlink:href=\"#DejaVuSans-97\"/>\n       <use x=\"3467.09375\" xlink:href=\"#DejaVuSans-116\"/>\n       <use x=\"3506.302734\" xlink:href=\"#DejaVuSans-105\"/>\n       <use x=\"3534.085938\" xlink:href=\"#DejaVuSans-111\"/>\n       <use x=\"3595.267578\" xlink:href=\"#DejaVuSans-110\"/>\n       <use x=\"3658.646484\" xlink:href=\"#DejaVuSans-32\"/>\n       <use x=\"3690.433594\" xlink:href=\"#DejaVuSans-115\"/>\n       <use x=\"3742.533203\" xlink:href=\"#DejaVuSans-101\"/>\n       <use x=\"3804.056641\" xlink:href=\"#DejaVuSans-114\"/>\n       <use x=\"3845.169922\" xlink:href=\"#DejaVuSans-118\"/>\n       <use x=\"3904.349609\" xlink:href=\"#DejaVuSans-105\"/>\n       <use x=\"3932.132812\" xlink:href=\"#DejaVuSans-99\"/>\n       <use x=\"3987.113281\" xlink:href=\"#DejaVuSans-101\"/>\n       <use x=\"4048.636719\" xlink:href=\"#DejaVuSans-115\"/>\n      </g>\n     </g>\n    </g>\n    <g id=\"xtick_19\">\n     <g id=\"line2d_19\">\n      <g>\n       <use style=\"stroke:#000000;stroke-width:0.8;\" x=\"498.621121\" xlink:href=\"#md833960a0a\" y=\"438.12\"/>\n      </g>\n     </g>\n     <g id=\"text_19\">\n      <!--     Educational services, health care, and social assistance -->\n      <g transform=\"translate(501.380496 736.198125)rotate(-90)scale(0.1 -0.1)\">\n       <defs>\n        <path d=\"M 9.8125 72.90625 \nL 55.90625 72.90625 \nL 55.90625 64.59375 \nL 19.671875 64.59375 \nL 19.671875 43.015625 \nL 54.390625 43.015625 \nL 54.390625 34.71875 \nL 19.671875 34.71875 \nL 19.671875 8.296875 \nL 56.78125 8.296875 \nL 56.78125 0 \nL 9.8125 0 \nz\n\" id=\"DejaVuSans-69\"/>\n       </defs>\n       <use xlink:href=\"#DejaVuSans-32\"/>\n       <use x=\"31.787109\" xlink:href=\"#DejaVuSans-32\"/>\n       <use x=\"63.574219\" xlink:href=\"#DejaVuSans-32\"/>\n       <use x=\"95.361328\" xlink:href=\"#DejaVuSans-32\"/>\n       <use x=\"127.148438\" xlink:href=\"#DejaVuSans-69\"/>\n       <use x=\"190.332031\" xlink:href=\"#DejaVuSans-100\"/>\n       <use x=\"253.808594\" xlink:href=\"#DejaVuSans-117\"/>\n       <use x=\"317.1875\" xlink:href=\"#DejaVuSans-99\"/>\n       <use x=\"372.167969\" xlink:href=\"#DejaVuSans-97\"/>\n       <use x=\"433.447266\" xlink:href=\"#DejaVuSans-116\"/>\n       <use x=\"472.65625\" xlink:href=\"#DejaVuSans-105\"/>\n       <use x=\"500.439453\" xlink:href=\"#DejaVuSans-111\"/>\n       <use x=\"561.621094\" xlink:href=\"#DejaVuSans-110\"/>\n       <use x=\"625\" xlink:href=\"#DejaVuSans-97\"/>\n       <use x=\"686.279297\" xlink:href=\"#DejaVuSans-108\"/>\n       <use x=\"714.0625\" xlink:href=\"#DejaVuSans-32\"/>\n       <use x=\"745.849609\" xlink:href=\"#DejaVuSans-115\"/>\n       <use x=\"797.949219\" xlink:href=\"#DejaVuSans-101\"/>\n       <use x=\"859.472656\" xlink:href=\"#DejaVuSans-114\"/>\n       <use x=\"900.585938\" xlink:href=\"#DejaVuSans-118\"/>\n       <use x=\"959.765625\" xlink:href=\"#DejaVuSans-105\"/>\n       <use x=\"987.548828\" xlink:href=\"#DejaVuSans-99\"/>\n       <use x=\"1042.529297\" xlink:href=\"#DejaVuSans-101\"/>\n       <use x=\"1104.052734\" xlink:href=\"#DejaVuSans-115\"/>\n       <use x=\"1156.152344\" xlink:href=\"#DejaVuSans-44\"/>\n       <use x=\"1187.939453\" xlink:href=\"#DejaVuSans-32\"/>\n       <use x=\"1219.726562\" xlink:href=\"#DejaVuSans-104\"/>\n       <use x=\"1283.105469\" xlink:href=\"#DejaVuSans-101\"/>\n       <use x=\"1344.628906\" xlink:href=\"#DejaVuSans-97\"/>\n       <use x=\"1405.908203\" xlink:href=\"#DejaVuSans-108\"/>\n       <use x=\"1433.691406\" xlink:href=\"#DejaVuSans-116\"/>\n       <use x=\"1472.900391\" xlink:href=\"#DejaVuSans-104\"/>\n       <use x=\"1536.279297\" xlink:href=\"#DejaVuSans-32\"/>\n       <use x=\"1568.066406\" xlink:href=\"#DejaVuSans-99\"/>\n       <use x=\"1623.046875\" xlink:href=\"#DejaVuSans-97\"/>\n       <use x=\"1684.326172\" xlink:href=\"#DejaVuSans-114\"/>\n       <use x=\"1723.189453\" xlink:href=\"#DejaVuSans-101\"/>\n       <use x=\"1784.712891\" xlink:href=\"#DejaVuSans-44\"/>\n       <use x=\"1816.5\" xlink:href=\"#DejaVuSans-32\"/>\n       <use x=\"1848.287109\" xlink:href=\"#DejaVuSans-97\"/>\n       <use x=\"1909.566406\" xlink:href=\"#DejaVuSans-110\"/>\n       <use x=\"1972.945312\" xlink:href=\"#DejaVuSans-100\"/>\n       <use x=\"2036.421875\" xlink:href=\"#DejaVuSans-32\"/>\n       <use x=\"2068.208984\" xlink:href=\"#DejaVuSans-115\"/>\n       <use x=\"2120.308594\" xlink:href=\"#DejaVuSans-111\"/>\n       <use x=\"2181.490234\" xlink:href=\"#DejaVuSans-99\"/>\n       <use x=\"2236.470703\" xlink:href=\"#DejaVuSans-105\"/>\n       <use x=\"2264.253906\" xlink:href=\"#DejaVuSans-97\"/>\n       <use x=\"2325.533203\" xlink:href=\"#DejaVuSans-108\"/>\n       <use x=\"2353.316406\" xlink:href=\"#DejaVuSans-32\"/>\n       <use x=\"2385.103516\" xlink:href=\"#DejaVuSans-97\"/>\n       <use x=\"2446.382812\" xlink:href=\"#DejaVuSans-115\"/>\n       <use x=\"2498.482422\" xlink:href=\"#DejaVuSans-115\"/>\n       <use x=\"2550.582031\" xlink:href=\"#DejaVuSans-105\"/>\n       <use x=\"2578.365234\" xlink:href=\"#DejaVuSans-115\"/>\n       <use x=\"2630.464844\" xlink:href=\"#DejaVuSans-116\"/>\n       <use x=\"2669.673828\" xlink:href=\"#DejaVuSans-97\"/>\n       <use x=\"2730.953125\" xlink:href=\"#DejaVuSans-110\"/>\n       <use x=\"2794.332031\" xlink:href=\"#DejaVuSans-99\"/>\n       <use x=\"2849.3125\" xlink:href=\"#DejaVuSans-101\"/>\n      </g>\n     </g>\n    </g>\n    <g id=\"xtick_20\">\n     <g id=\"line2d_20\">\n      <g>\n       <use style=\"stroke:#000000;stroke-width:0.8;\" x=\"521.710776\" xlink:href=\"#md833960a0a\" y=\"438.12\"/>\n      </g>\n     </g>\n     <g id=\"text_20\">\n      <!--       Educational services -->\n      <g transform=\"translate(524.470151 567.090312)rotate(-90)scale(0.1 -0.1)\">\n       <use xlink:href=\"#DejaVuSans-32\"/>\n       <use x=\"31.787109\" xlink:href=\"#DejaVuSans-32\"/>\n       <use x=\"63.574219\" xlink:href=\"#DejaVuSans-32\"/>\n       <use x=\"95.361328\" xlink:href=\"#DejaVuSans-32\"/>\n       <use x=\"127.148438\" xlink:href=\"#DejaVuSans-32\"/>\n       <use x=\"158.935547\" xlink:href=\"#DejaVuSans-32\"/>\n       <use x=\"190.722656\" xlink:href=\"#DejaVuSans-69\"/>\n       <use x=\"253.90625\" xlink:href=\"#DejaVuSans-100\"/>\n       <use x=\"317.382812\" xlink:href=\"#DejaVuSans-117\"/>\n       <use x=\"380.761719\" xlink:href=\"#DejaVuSans-99\"/>\n       <use x=\"435.742188\" xlink:href=\"#DejaVuSans-97\"/>\n       <use x=\"497.021484\" xlink:href=\"#DejaVuSans-116\"/>\n       <use x=\"536.230469\" xlink:href=\"#DejaVuSans-105\"/>\n       <use x=\"564.013672\" xlink:href=\"#DejaVuSans-111\"/>\n       <use x=\"625.195312\" xlink:href=\"#DejaVuSans-110\"/>\n       <use x=\"688.574219\" xlink:href=\"#DejaVuSans-97\"/>\n       <use x=\"749.853516\" xlink:href=\"#DejaVuSans-108\"/>\n       <use x=\"777.636719\" xlink:href=\"#DejaVuSans-32\"/>\n       <use x=\"809.423828\" xlink:href=\"#DejaVuSans-115\"/>\n       <use x=\"861.523438\" xlink:href=\"#DejaVuSans-101\"/>\n       <use x=\"923.046875\" xlink:href=\"#DejaVuSans-114\"/>\n       <use x=\"964.160156\" xlink:href=\"#DejaVuSans-118\"/>\n       <use x=\"1023.339844\" xlink:href=\"#DejaVuSans-105\"/>\n       <use x=\"1051.123047\" xlink:href=\"#DejaVuSans-99\"/>\n       <use x=\"1106.103516\" xlink:href=\"#DejaVuSans-101\"/>\n       <use x=\"1167.626953\" xlink:href=\"#DejaVuSans-115\"/>\n      </g>\n     </g>\n    </g>\n    <g id=\"xtick_21\">\n     <g id=\"line2d_21\">\n      <g>\n       <use style=\"stroke:#000000;stroke-width:0.8;\" x=\"544.800431\" xlink:href=\"#md833960a0a\" y=\"438.12\"/>\n      </g>\n     </g>\n     <g id=\"text_21\">\n      <!--       Health care and social assistance -->\n      <g transform=\"translate(547.559806 631.30125)rotate(-90)scale(0.1 -0.1)\">\n       <defs>\n        <path d=\"M 9.8125 72.90625 \nL 19.671875 72.90625 \nL 19.671875 43.015625 \nL 55.515625 43.015625 \nL 55.515625 72.90625 \nL 65.375 72.90625 \nL 65.375 0 \nL 55.515625 0 \nL 55.515625 34.71875 \nL 19.671875 34.71875 \nL 19.671875 0 \nL 9.8125 0 \nz\n\" id=\"DejaVuSans-72\"/>\n       </defs>\n       <use xlink:href=\"#DejaVuSans-32\"/>\n       <use x=\"31.787109\" xlink:href=\"#DejaVuSans-32\"/>\n       <use x=\"63.574219\" xlink:href=\"#DejaVuSans-32\"/>\n       <use x=\"95.361328\" xlink:href=\"#DejaVuSans-32\"/>\n       <use x=\"127.148438\" xlink:href=\"#DejaVuSans-32\"/>\n       <use x=\"158.935547\" xlink:href=\"#DejaVuSans-32\"/>\n       <use x=\"190.722656\" xlink:href=\"#DejaVuSans-72\"/>\n       <use x=\"265.917969\" xlink:href=\"#DejaVuSans-101\"/>\n       <use x=\"327.441406\" xlink:href=\"#DejaVuSans-97\"/>\n       <use x=\"388.720703\" xlink:href=\"#DejaVuSans-108\"/>\n       <use x=\"416.503906\" xlink:href=\"#DejaVuSans-116\"/>\n       <use x=\"455.712891\" xlink:href=\"#DejaVuSans-104\"/>\n       <use x=\"519.091797\" xlink:href=\"#DejaVuSans-32\"/>\n       <use x=\"550.878906\" xlink:href=\"#DejaVuSans-99\"/>\n       <use x=\"605.859375\" xlink:href=\"#DejaVuSans-97\"/>\n       <use x=\"667.138672\" xlink:href=\"#DejaVuSans-114\"/>\n       <use x=\"706.001953\" xlink:href=\"#DejaVuSans-101\"/>\n       <use x=\"767.525391\" xlink:href=\"#DejaVuSans-32\"/>\n       <use x=\"799.3125\" xlink:href=\"#DejaVuSans-97\"/>\n       <use x=\"860.591797\" xlink:href=\"#DejaVuSans-110\"/>\n       <use x=\"923.970703\" xlink:href=\"#DejaVuSans-100\"/>\n       <use x=\"987.447266\" xlink:href=\"#DejaVuSans-32\"/>\n       <use x=\"1019.234375\" xlink:href=\"#DejaVuSans-115\"/>\n       <use x=\"1071.333984\" xlink:href=\"#DejaVuSans-111\"/>\n       <use x=\"1132.515625\" xlink:href=\"#DejaVuSans-99\"/>\n       <use x=\"1187.496094\" xlink:href=\"#DejaVuSans-105\"/>\n       <use x=\"1215.279297\" xlink:href=\"#DejaVuSans-97\"/>\n       <use x=\"1276.558594\" xlink:href=\"#DejaVuSans-108\"/>\n       <use x=\"1304.341797\" xlink:href=\"#DejaVuSans-32\"/>\n       <use x=\"1336.128906\" xlink:href=\"#DejaVuSans-97\"/>\n       <use x=\"1397.408203\" xlink:href=\"#DejaVuSans-115\"/>\n       <use x=\"1449.507812\" xlink:href=\"#DejaVuSans-115\"/>\n       <use x=\"1501.607422\" xlink:href=\"#DejaVuSans-105\"/>\n       <use x=\"1529.390625\" xlink:href=\"#DejaVuSans-115\"/>\n       <use x=\"1581.490234\" xlink:href=\"#DejaVuSans-116\"/>\n       <use x=\"1620.699219\" xlink:href=\"#DejaVuSans-97\"/>\n       <use x=\"1681.978516\" xlink:href=\"#DejaVuSans-110\"/>\n       <use x=\"1745.357422\" xlink:href=\"#DejaVuSans-99\"/>\n       <use x=\"1800.337891\" xlink:href=\"#DejaVuSans-101\"/>\n      </g>\n     </g>\n    </g>\n    <g id=\"xtick_22\">\n     <g id=\"line2d_22\">\n      <g>\n       <use style=\"stroke:#000000;stroke-width:0.8;\" x=\"567.890086\" xlink:href=\"#md833960a0a\" y=\"438.12\"/>\n      </g>\n     </g>\n     <g id=\"text_22\">\n      <!--     Arts, entertainment, recreation, accommodation, and food services -->\n      <g transform=\"translate(570.649461 794.971562)rotate(-90)scale(0.1 -0.1)\">\n       <use xlink:href=\"#DejaVuSans-32\"/>\n       <use x=\"31.787109\" xlink:href=\"#DejaVuSans-32\"/>\n       <use x=\"63.574219\" xlink:href=\"#DejaVuSans-32\"/>\n       <use x=\"95.361328\" xlink:href=\"#DejaVuSans-32\"/>\n       <use x=\"127.148438\" xlink:href=\"#DejaVuSans-65\"/>\n       <use x=\"195.556641\" xlink:href=\"#DejaVuSans-114\"/>\n       <use x=\"236.669922\" xlink:href=\"#DejaVuSans-116\"/>\n       <use x=\"275.878906\" xlink:href=\"#DejaVuSans-115\"/>\n       <use x=\"327.978516\" xlink:href=\"#DejaVuSans-44\"/>\n       <use x=\"359.765625\" xlink:href=\"#DejaVuSans-32\"/>\n       <use x=\"391.552734\" xlink:href=\"#DejaVuSans-101\"/>\n       <use x=\"453.076172\" xlink:href=\"#DejaVuSans-110\"/>\n       <use x=\"516.455078\" xlink:href=\"#DejaVuSans-116\"/>\n       <use x=\"555.664062\" xlink:href=\"#DejaVuSans-101\"/>\n       <use x=\"617.1875\" xlink:href=\"#DejaVuSans-114\"/>\n       <use x=\"658.300781\" xlink:href=\"#DejaVuSans-116\"/>\n       <use x=\"697.509766\" xlink:href=\"#DejaVuSans-97\"/>\n       <use x=\"758.789062\" xlink:href=\"#DejaVuSans-105\"/>\n       <use x=\"786.572266\" xlink:href=\"#DejaVuSans-110\"/>\n       <use x=\"849.951172\" xlink:href=\"#DejaVuSans-109\"/>\n       <use x=\"947.363281\" xlink:href=\"#DejaVuSans-101\"/>\n       <use x=\"1008.886719\" xlink:href=\"#DejaVuSans-110\"/>\n       <use x=\"1072.265625\" xlink:href=\"#DejaVuSans-116\"/>\n       <use x=\"1111.474609\" xlink:href=\"#DejaVuSans-44\"/>\n       <use x=\"1143.261719\" xlink:href=\"#DejaVuSans-32\"/>\n       <use x=\"1175.048828\" xlink:href=\"#DejaVuSans-114\"/>\n       <use x=\"1213.912109\" xlink:href=\"#DejaVuSans-101\"/>\n       <use x=\"1275.435547\" xlink:href=\"#DejaVuSans-99\"/>\n       <use x=\"1330.416016\" xlink:href=\"#DejaVuSans-114\"/>\n       <use x=\"1369.279297\" xlink:href=\"#DejaVuSans-101\"/>\n       <use x=\"1430.802734\" xlink:href=\"#DejaVuSans-97\"/>\n       <use x=\"1492.082031\" xlink:href=\"#DejaVuSans-116\"/>\n       <use x=\"1531.291016\" xlink:href=\"#DejaVuSans-105\"/>\n       <use x=\"1559.074219\" xlink:href=\"#DejaVuSans-111\"/>\n       <use x=\"1620.255859\" xlink:href=\"#DejaVuSans-110\"/>\n       <use x=\"1683.634766\" xlink:href=\"#DejaVuSans-44\"/>\n       <use x=\"1715.421875\" xlink:href=\"#DejaVuSans-32\"/>\n       <use x=\"1747.208984\" xlink:href=\"#DejaVuSans-97\"/>\n       <use x=\"1808.488281\" xlink:href=\"#DejaVuSans-99\"/>\n       <use x=\"1863.46875\" xlink:href=\"#DejaVuSans-99\"/>\n       <use x=\"1918.449219\" xlink:href=\"#DejaVuSans-111\"/>\n       <use x=\"1979.630859\" xlink:href=\"#DejaVuSans-109\"/>\n       <use x=\"2077.042969\" xlink:href=\"#DejaVuSans-109\"/>\n       <use x=\"2174.455078\" xlink:href=\"#DejaVuSans-111\"/>\n       <use x=\"2235.636719\" xlink:href=\"#DejaVuSans-100\"/>\n       <use x=\"2299.113281\" xlink:href=\"#DejaVuSans-97\"/>\n       <use x=\"2360.392578\" xlink:href=\"#DejaVuSans-116\"/>\n       <use x=\"2399.601562\" xlink:href=\"#DejaVuSans-105\"/>\n       <use x=\"2427.384766\" xlink:href=\"#DejaVuSans-111\"/>\n       <use x=\"2488.566406\" xlink:href=\"#DejaVuSans-110\"/>\n       <use x=\"2551.945312\" xlink:href=\"#DejaVuSans-44\"/>\n       <use x=\"2583.732422\" xlink:href=\"#DejaVuSans-32\"/>\n       <use x=\"2615.519531\" xlink:href=\"#DejaVuSans-97\"/>\n       <use x=\"2676.798828\" xlink:href=\"#DejaVuSans-110\"/>\n       <use x=\"2740.177734\" xlink:href=\"#DejaVuSans-100\"/>\n       <use x=\"2803.654297\" xlink:href=\"#DejaVuSans-32\"/>\n       <use x=\"2835.441406\" xlink:href=\"#DejaVuSans-102\"/>\n       <use x=\"2870.646484\" xlink:href=\"#DejaVuSans-111\"/>\n       <use x=\"2931.828125\" xlink:href=\"#DejaVuSans-111\"/>\n       <use x=\"2993.009766\" xlink:href=\"#DejaVuSans-100\"/>\n       <use x=\"3056.486328\" xlink:href=\"#DejaVuSans-32\"/>\n       <use x=\"3088.273438\" xlink:href=\"#DejaVuSans-115\"/>\n       <use x=\"3140.373047\" xlink:href=\"#DejaVuSans-101\"/>\n       <use x=\"3201.896484\" xlink:href=\"#DejaVuSans-114\"/>\n       <use x=\"3243.009766\" xlink:href=\"#DejaVuSans-118\"/>\n       <use x=\"3302.189453\" xlink:href=\"#DejaVuSans-105\"/>\n       <use x=\"3329.972656\" xlink:href=\"#DejaVuSans-99\"/>\n       <use x=\"3384.953125\" xlink:href=\"#DejaVuSans-101\"/>\n       <use x=\"3446.476562\" xlink:href=\"#DejaVuSans-115\"/>\n      </g>\n     </g>\n    </g>\n    <g id=\"xtick_23\">\n     <g id=\"line2d_23\">\n      <g>\n       <use style=\"stroke:#000000;stroke-width:0.8;\" x=\"590.979741\" xlink:href=\"#md833960a0a\" y=\"438.12\"/>\n      </g>\n     </g>\n     <g id=\"text_23\">\n      <!--       Arts, entertainment, and recreation -->\n      <g transform=\"translate(593.739116 641.824687)rotate(-90)scale(0.1 -0.1)\">\n       <use xlink:href=\"#DejaVuSans-32\"/>\n       <use x=\"31.787109\" xlink:href=\"#DejaVuSans-32\"/>\n       <use x=\"63.574219\" xlink:href=\"#DejaVuSans-32\"/>\n       <use x=\"95.361328\" xlink:href=\"#DejaVuSans-32\"/>\n       <use x=\"127.148438\" xlink:href=\"#DejaVuSans-32\"/>\n       <use x=\"158.935547\" xlink:href=\"#DejaVuSans-32\"/>\n       <use x=\"190.722656\" xlink:href=\"#DejaVuSans-65\"/>\n       <use x=\"259.130859\" xlink:href=\"#DejaVuSans-114\"/>\n       <use x=\"300.244141\" xlink:href=\"#DejaVuSans-116\"/>\n       <use x=\"339.453125\" xlink:href=\"#DejaVuSans-115\"/>\n       <use x=\"391.552734\" xlink:href=\"#DejaVuSans-44\"/>\n       <use x=\"423.339844\" xlink:href=\"#DejaVuSans-32\"/>\n       <use x=\"455.126953\" xlink:href=\"#DejaVuSans-101\"/>\n       <use x=\"516.650391\" xlink:href=\"#DejaVuSans-110\"/>\n       <use x=\"580.029297\" xlink:href=\"#DejaVuSans-116\"/>\n       <use x=\"619.238281\" xlink:href=\"#DejaVuSans-101\"/>\n       <use x=\"680.761719\" xlink:href=\"#DejaVuSans-114\"/>\n       <use x=\"721.875\" xlink:href=\"#DejaVuSans-116\"/>\n       <use x=\"761.083984\" xlink:href=\"#DejaVuSans-97\"/>\n       <use x=\"822.363281\" xlink:href=\"#DejaVuSans-105\"/>\n       <use x=\"850.146484\" xlink:href=\"#DejaVuSans-110\"/>\n       <use x=\"913.525391\" xlink:href=\"#DejaVuSans-109\"/>\n       <use x=\"1010.9375\" xlink:href=\"#DejaVuSans-101\"/>\n       <use x=\"1072.460938\" xlink:href=\"#DejaVuSans-110\"/>\n       <use x=\"1135.839844\" xlink:href=\"#DejaVuSans-116\"/>\n       <use x=\"1175.048828\" xlink:href=\"#DejaVuSans-44\"/>\n       <use x=\"1206.835938\" xlink:href=\"#DejaVuSans-32\"/>\n       <use x=\"1238.623047\" xlink:href=\"#DejaVuSans-97\"/>\n       <use x=\"1299.902344\" xlink:href=\"#DejaVuSans-110\"/>\n       <use x=\"1363.28125\" xlink:href=\"#DejaVuSans-100\"/>\n       <use x=\"1426.757812\" xlink:href=\"#DejaVuSans-32\"/>\n       <use x=\"1458.544922\" xlink:href=\"#DejaVuSans-114\"/>\n       <use x=\"1497.408203\" xlink:href=\"#DejaVuSans-101\"/>\n       <use x=\"1558.931641\" xlink:href=\"#DejaVuSans-99\"/>\n       <use x=\"1613.912109\" xlink:href=\"#DejaVuSans-114\"/>\n       <use x=\"1652.775391\" xlink:href=\"#DejaVuSans-101\"/>\n       <use x=\"1714.298828\" xlink:href=\"#DejaVuSans-97\"/>\n       <use x=\"1775.578125\" xlink:href=\"#DejaVuSans-116\"/>\n       <use x=\"1814.787109\" xlink:href=\"#DejaVuSans-105\"/>\n       <use x=\"1842.570312\" xlink:href=\"#DejaVuSans-111\"/>\n       <use x=\"1903.751953\" xlink:href=\"#DejaVuSans-110\"/>\n      </g>\n     </g>\n    </g>\n    <g id=\"xtick_24\">\n     <g id=\"line2d_24\">\n      <g>\n       <use style=\"stroke:#000000;stroke-width:0.8;\" x=\"614.069397\" xlink:href=\"#md833960a0a\" y=\"438.12\"/>\n      </g>\n     </g>\n     <g id=\"text_24\">\n      <!--       Accommodation and food services -->\n      <g transform=\"translate(616.828772 636.687187)rotate(-90)scale(0.1 -0.1)\">\n       <use xlink:href=\"#DejaVuSans-32\"/>\n       <use x=\"31.787109\" xlink:href=\"#DejaVuSans-32\"/>\n       <use x=\"63.574219\" xlink:href=\"#DejaVuSans-32\"/>\n       <use x=\"95.361328\" xlink:href=\"#DejaVuSans-32\"/>\n       <use x=\"127.148438\" xlink:href=\"#DejaVuSans-32\"/>\n       <use x=\"158.935547\" xlink:href=\"#DejaVuSans-32\"/>\n       <use x=\"190.722656\" xlink:href=\"#DejaVuSans-65\"/>\n       <use x=\"257.380859\" xlink:href=\"#DejaVuSans-99\"/>\n       <use x=\"312.361328\" xlink:href=\"#DejaVuSans-99\"/>\n       <use x=\"367.341797\" xlink:href=\"#DejaVuSans-111\"/>\n       <use x=\"428.523438\" xlink:href=\"#DejaVuSans-109\"/>\n       <use x=\"525.935547\" xlink:href=\"#DejaVuSans-109\"/>\n       <use x=\"623.347656\" xlink:href=\"#DejaVuSans-111\"/>\n       <use x=\"684.529297\" xlink:href=\"#DejaVuSans-100\"/>\n       <use x=\"748.005859\" xlink:href=\"#DejaVuSans-97\"/>\n       <use x=\"809.285156\" xlink:href=\"#DejaVuSans-116\"/>\n       <use x=\"848.494141\" xlink:href=\"#DejaVuSans-105\"/>\n       <use x=\"876.277344\" xlink:href=\"#DejaVuSans-111\"/>\n       <use x=\"937.458984\" xlink:href=\"#DejaVuSans-110\"/>\n       <use x=\"1000.837891\" xlink:href=\"#DejaVuSans-32\"/>\n       <use x=\"1032.625\" xlink:href=\"#DejaVuSans-97\"/>\n       <use x=\"1093.904297\" xlink:href=\"#DejaVuSans-110\"/>\n       <use x=\"1157.283203\" xlink:href=\"#DejaVuSans-100\"/>\n       <use x=\"1220.759766\" xlink:href=\"#DejaVuSans-32\"/>\n       <use x=\"1252.546875\" xlink:href=\"#DejaVuSans-102\"/>\n       <use x=\"1287.751953\" xlink:href=\"#DejaVuSans-111\"/>\n       <use x=\"1348.933594\" xlink:href=\"#DejaVuSans-111\"/>\n       <use x=\"1410.115234\" xlink:href=\"#DejaVuSans-100\"/>\n       <use x=\"1473.591797\" xlink:href=\"#DejaVuSans-32\"/>\n       <use x=\"1505.378906\" xlink:href=\"#DejaVuSans-115\"/>\n       <use x=\"1557.478516\" xlink:href=\"#DejaVuSans-101\"/>\n       <use x=\"1619.001953\" xlink:href=\"#DejaVuSans-114\"/>\n       <use x=\"1660.115234\" xlink:href=\"#DejaVuSans-118\"/>\n       <use x=\"1719.294922\" xlink:href=\"#DejaVuSans-105\"/>\n       <use x=\"1747.078125\" xlink:href=\"#DejaVuSans-99\"/>\n       <use x=\"1802.058594\" xlink:href=\"#DejaVuSans-101\"/>\n       <use x=\"1863.582031\" xlink:href=\"#DejaVuSans-115\"/>\n      </g>\n     </g>\n    </g>\n    <g id=\"xtick_25\">\n     <g id=\"line2d_25\">\n      <g>\n       <use style=\"stroke:#000000;stroke-width:0.8;\" x=\"637.159052\" xlink:href=\"#md833960a0a\" y=\"438.12\"/>\n      </g>\n     </g>\n     <g id=\"text_25\">\n      <!--     Other services (except government and government enterprises) -->\n      <g transform=\"translate(639.918427 784.998125)rotate(-90)scale(0.1 -0.1)\">\n       <defs>\n        <path d=\"M 39.40625 66.21875 \nQ 28.65625 66.21875 22.328125 58.203125 \nQ 16.015625 50.203125 16.015625 36.375 \nQ 16.015625 22.609375 22.328125 14.59375 \nQ 28.65625 6.59375 39.40625 6.59375 \nQ 50.140625 6.59375 56.421875 14.59375 \nQ 62.703125 22.609375 62.703125 36.375 \nQ 62.703125 50.203125 56.421875 58.203125 \nQ 50.140625 66.21875 39.40625 66.21875 \nz\nM 39.40625 74.21875 \nQ 54.734375 74.21875 63.90625 63.9375 \nQ 73.09375 53.65625 73.09375 36.375 \nQ 73.09375 19.140625 63.90625 8.859375 \nQ 54.734375 -1.421875 39.40625 -1.421875 \nQ 24.03125 -1.421875 14.8125 8.828125 \nQ 5.609375 19.09375 5.609375 36.375 \nQ 5.609375 53.65625 14.8125 63.9375 \nQ 24.03125 74.21875 39.40625 74.21875 \nz\n\" id=\"DejaVuSans-79\"/>\n        <path d=\"M 31 75.875 \nQ 24.46875 64.65625 21.28125 53.65625 \nQ 18.109375 42.671875 18.109375 31.390625 \nQ 18.109375 20.125 21.3125 9.0625 \nQ 24.515625 -2 31 -13.1875 \nL 23.1875 -13.1875 \nQ 15.875 -1.703125 12.234375 9.375 \nQ 8.59375 20.453125 8.59375 31.390625 \nQ 8.59375 42.28125 12.203125 53.3125 \nQ 15.828125 64.359375 23.1875 75.875 \nz\n\" id=\"DejaVuSans-40\"/>\n        <path d=\"M 8.015625 75.875 \nL 15.828125 75.875 \nQ 23.140625 64.359375 26.78125 53.3125 \nQ 30.421875 42.28125 30.421875 31.390625 \nQ 30.421875 20.453125 26.78125 9.375 \nQ 23.140625 -1.703125 15.828125 -13.1875 \nL 8.015625 -13.1875 \nQ 14.5 -2 17.703125 9.0625 \nQ 20.90625 20.125 20.90625 31.390625 \nQ 20.90625 42.671875 17.703125 53.65625 \nQ 14.5 64.65625 8.015625 75.875 \nz\n\" id=\"DejaVuSans-41\"/>\n       </defs>\n       <use xlink:href=\"#DejaVuSans-32\"/>\n       <use x=\"31.787109\" xlink:href=\"#DejaVuSans-32\"/>\n       <use x=\"63.574219\" xlink:href=\"#DejaVuSans-32\"/>\n       <use x=\"95.361328\" xlink:href=\"#DejaVuSans-32\"/>\n       <use x=\"127.148438\" xlink:href=\"#DejaVuSans-79\"/>\n       <use x=\"205.859375\" xlink:href=\"#DejaVuSans-116\"/>\n       <use x=\"245.068359\" xlink:href=\"#DejaVuSans-104\"/>\n       <use x=\"308.447266\" xlink:href=\"#DejaVuSans-101\"/>\n       <use x=\"369.970703\" xlink:href=\"#DejaVuSans-114\"/>\n       <use x=\"411.083984\" xlink:href=\"#DejaVuSans-32\"/>\n       <use x=\"442.871094\" xlink:href=\"#DejaVuSans-115\"/>\n       <use x=\"494.970703\" xlink:href=\"#DejaVuSans-101\"/>\n       <use x=\"556.494141\" xlink:href=\"#DejaVuSans-114\"/>\n       <use x=\"597.607422\" xlink:href=\"#DejaVuSans-118\"/>\n       <use x=\"656.787109\" xlink:href=\"#DejaVuSans-105\"/>\n       <use x=\"684.570312\" xlink:href=\"#DejaVuSans-99\"/>\n       <use x=\"739.550781\" xlink:href=\"#DejaVuSans-101\"/>\n       <use x=\"801.074219\" xlink:href=\"#DejaVuSans-115\"/>\n       <use x=\"853.173828\" xlink:href=\"#DejaVuSans-32\"/>\n       <use x=\"884.960938\" xlink:href=\"#DejaVuSans-40\"/>\n       <use x=\"923.974609\" xlink:href=\"#DejaVuSans-101\"/>\n       <use x=\"983.748047\" xlink:href=\"#DejaVuSans-120\"/>\n       <use x=\"1041.177734\" xlink:href=\"#DejaVuSans-99\"/>\n       <use x=\"1096.158203\" xlink:href=\"#DejaVuSans-101\"/>\n       <use x=\"1157.681641\" xlink:href=\"#DejaVuSans-112\"/>\n       <use x=\"1221.158203\" xlink:href=\"#DejaVuSans-116\"/>\n       <use x=\"1260.367188\" xlink:href=\"#DejaVuSans-32\"/>\n       <use x=\"1292.154297\" xlink:href=\"#DejaVuSans-103\"/>\n       <use x=\"1355.630859\" xlink:href=\"#DejaVuSans-111\"/>\n       <use x=\"1416.8125\" xlink:href=\"#DejaVuSans-118\"/>\n       <use x=\"1475.992188\" xlink:href=\"#DejaVuSans-101\"/>\n       <use x=\"1537.515625\" xlink:href=\"#DejaVuSans-114\"/>\n       <use x=\"1576.878906\" xlink:href=\"#DejaVuSans-110\"/>\n       <use x=\"1640.257812\" xlink:href=\"#DejaVuSans-109\"/>\n       <use x=\"1737.669922\" xlink:href=\"#DejaVuSans-101\"/>\n       <use x=\"1799.193359\" xlink:href=\"#DejaVuSans-110\"/>\n       <use x=\"1862.572266\" xlink:href=\"#DejaVuSans-116\"/>\n       <use x=\"1901.78125\" xlink:href=\"#DejaVuSans-32\"/>\n       <use x=\"1933.568359\" xlink:href=\"#DejaVuSans-97\"/>\n       <use x=\"1994.847656\" xlink:href=\"#DejaVuSans-110\"/>\n       <use x=\"2058.226562\" xlink:href=\"#DejaVuSans-100\"/>\n       <use x=\"2121.703125\" xlink:href=\"#DejaVuSans-32\"/>\n       <use x=\"2153.490234\" xlink:href=\"#DejaVuSans-103\"/>\n       <use x=\"2216.966797\" xlink:href=\"#DejaVuSans-111\"/>\n       <use x=\"2278.148438\" xlink:href=\"#DejaVuSans-118\"/>\n       <use x=\"2337.328125\" xlink:href=\"#DejaVuSans-101\"/>\n       <use x=\"2398.851562\" xlink:href=\"#DejaVuSans-114\"/>\n       <use x=\"2438.214844\" xlink:href=\"#DejaVuSans-110\"/>\n       <use x=\"2501.59375\" xlink:href=\"#DejaVuSans-109\"/>\n       <use x=\"2599.005859\" xlink:href=\"#DejaVuSans-101\"/>\n       <use x=\"2660.529297\" xlink:href=\"#DejaVuSans-110\"/>\n       <use x=\"2723.908203\" xlink:href=\"#DejaVuSans-116\"/>\n       <use x=\"2763.117188\" xlink:href=\"#DejaVuSans-32\"/>\n       <use x=\"2794.904297\" xlink:href=\"#DejaVuSans-101\"/>\n       <use x=\"2856.427734\" xlink:href=\"#DejaVuSans-110\"/>\n       <use x=\"2919.806641\" xlink:href=\"#DejaVuSans-116\"/>\n       <use x=\"2959.015625\" xlink:href=\"#DejaVuSans-101\"/>\n       <use x=\"3020.539062\" xlink:href=\"#DejaVuSans-114\"/>\n       <use x=\"3061.652344\" xlink:href=\"#DejaVuSans-112\"/>\n       <use x=\"3125.128906\" xlink:href=\"#DejaVuSans-114\"/>\n       <use x=\"3166.242188\" xlink:href=\"#DejaVuSans-105\"/>\n       <use x=\"3194.025391\" xlink:href=\"#DejaVuSans-115\"/>\n       <use x=\"3246.125\" xlink:href=\"#DejaVuSans-101\"/>\n       <use x=\"3307.648438\" xlink:href=\"#DejaVuSans-115\"/>\n       <use x=\"3359.748047\" xlink:href=\"#DejaVuSans-41\"/>\n      </g>\n     </g>\n    </g>\n    <g id=\"xtick_26\">\n     <g id=\"line2d_26\">\n      <g>\n       <use style=\"stroke:#000000;stroke-width:0.8;\" x=\"660.248707\" xlink:href=\"#md833960a0a\" y=\"438.12\"/>\n      </g>\n     </g>\n     <g id=\"text_26\">\n      <!-- Government and government enterprises -->\n      <g transform=\"translate(663.008082 653.280937)rotate(-90)scale(0.1 -0.1)\">\n       <defs>\n        <path d=\"M 59.515625 10.40625 \nL 59.515625 29.984375 \nL 43.40625 29.984375 \nL 43.40625 38.09375 \nL 69.28125 38.09375 \nL 69.28125 6.78125 \nQ 63.578125 2.734375 56.6875 0.65625 \nQ 49.8125 -1.421875 42 -1.421875 \nQ 24.90625 -1.421875 15.25 8.5625 \nQ 5.609375 18.5625 5.609375 36.375 \nQ 5.609375 54.25 15.25 64.234375 \nQ 24.90625 74.21875 42 74.21875 \nQ 49.125 74.21875 55.546875 72.453125 \nQ 61.96875 70.703125 67.390625 67.28125 \nL 67.390625 56.78125 \nQ 61.921875 61.421875 55.765625 63.765625 \nQ 49.609375 66.109375 42.828125 66.109375 \nQ 29.4375 66.109375 22.71875 58.640625 \nQ 16.015625 51.171875 16.015625 36.375 \nQ 16.015625 21.625 22.71875 14.15625 \nQ 29.4375 6.6875 42.828125 6.6875 \nQ 48.046875 6.6875 52.140625 7.59375 \nQ 56.25 8.5 59.515625 10.40625 \nz\n\" id=\"DejaVuSans-71\"/>\n       </defs>\n       <use xlink:href=\"#DejaVuSans-71\"/>\n       <use x=\"77.490234\" xlink:href=\"#DejaVuSans-111\"/>\n       <use x=\"138.671875\" xlink:href=\"#DejaVuSans-118\"/>\n       <use x=\"197.851562\" xlink:href=\"#DejaVuSans-101\"/>\n       <use x=\"259.375\" xlink:href=\"#DejaVuSans-114\"/>\n       <use x=\"298.738281\" xlink:href=\"#DejaVuSans-110\"/>\n       <use x=\"362.117188\" xlink:href=\"#DejaVuSans-109\"/>\n       <use x=\"459.529297\" xlink:href=\"#DejaVuSans-101\"/>\n       <use x=\"521.052734\" xlink:href=\"#DejaVuSans-110\"/>\n       <use x=\"584.431641\" xlink:href=\"#DejaVuSans-116\"/>\n       <use x=\"623.640625\" xlink:href=\"#DejaVuSans-32\"/>\n       <use x=\"655.427734\" xlink:href=\"#DejaVuSans-97\"/>\n       <use x=\"716.707031\" xlink:href=\"#DejaVuSans-110\"/>\n       <use x=\"780.085938\" xlink:href=\"#DejaVuSans-100\"/>\n       <use x=\"843.5625\" xlink:href=\"#DejaVuSans-32\"/>\n       <use x=\"875.349609\" xlink:href=\"#DejaVuSans-103\"/>\n       <use x=\"938.826172\" xlink:href=\"#DejaVuSans-111\"/>\n       <use x=\"1000.007812\" xlink:href=\"#DejaVuSans-118\"/>\n       <use x=\"1059.1875\" xlink:href=\"#DejaVuSans-101\"/>\n       <use x=\"1120.710938\" xlink:href=\"#DejaVuSans-114\"/>\n       <use x=\"1160.074219\" xlink:href=\"#DejaVuSans-110\"/>\n       <use x=\"1223.453125\" xlink:href=\"#DejaVuSans-109\"/>\n       <use x=\"1320.865234\" xlink:href=\"#DejaVuSans-101\"/>\n       <use x=\"1382.388672\" xlink:href=\"#DejaVuSans-110\"/>\n       <use x=\"1445.767578\" xlink:href=\"#DejaVuSans-116\"/>\n       <use x=\"1484.976562\" xlink:href=\"#DejaVuSans-32\"/>\n       <use x=\"1516.763672\" xlink:href=\"#DejaVuSans-101\"/>\n       <use x=\"1578.287109\" xlink:href=\"#DejaVuSans-110\"/>\n       <use x=\"1641.666016\" xlink:href=\"#DejaVuSans-116\"/>\n       <use x=\"1680.875\" xlink:href=\"#DejaVuSans-101\"/>\n       <use x=\"1742.398438\" xlink:href=\"#DejaVuSans-114\"/>\n       <use x=\"1783.511719\" xlink:href=\"#DejaVuSans-112\"/>\n       <use x=\"1846.988281\" xlink:href=\"#DejaVuSans-114\"/>\n       <use x=\"1888.101562\" xlink:href=\"#DejaVuSans-105\"/>\n       <use x=\"1915.884766\" xlink:href=\"#DejaVuSans-115\"/>\n       <use x=\"1967.984375\" xlink:href=\"#DejaVuSans-101\"/>\n       <use x=\"2029.507812\" xlink:href=\"#DejaVuSans-115\"/>\n      </g>\n     </g>\n    </g>\n    <g id=\"xtick_27\">\n     <g id=\"line2d_27\">\n      <g>\n       <use style=\"stroke:#000000;stroke-width:0.8;\" x=\"683.338362\" xlink:href=\"#md833960a0a\" y=\"438.12\"/>\n      </g>\n     </g>\n     <g id=\"text_27\">\n      <!-- Natural resources and mining -->\n      <g transform=\"translate(686.097737 593.124687)rotate(-90)scale(0.1 -0.1)\">\n       <use xlink:href=\"#DejaVuSans-78\"/>\n       <use x=\"74.804688\" xlink:href=\"#DejaVuSans-97\"/>\n       <use x=\"136.083984\" xlink:href=\"#DejaVuSans-116\"/>\n       <use x=\"175.292969\" xlink:href=\"#DejaVuSans-117\"/>\n       <use x=\"238.671875\" xlink:href=\"#DejaVuSans-114\"/>\n       <use x=\"279.785156\" xlink:href=\"#DejaVuSans-97\"/>\n       <use x=\"341.064453\" xlink:href=\"#DejaVuSans-108\"/>\n       <use x=\"368.847656\" xlink:href=\"#DejaVuSans-32\"/>\n       <use x=\"400.634766\" xlink:href=\"#DejaVuSans-114\"/>\n       <use x=\"439.498047\" xlink:href=\"#DejaVuSans-101\"/>\n       <use x=\"501.021484\" xlink:href=\"#DejaVuSans-115\"/>\n       <use x=\"553.121094\" xlink:href=\"#DejaVuSans-111\"/>\n       <use x=\"614.302734\" xlink:href=\"#DejaVuSans-117\"/>\n       <use x=\"677.681641\" xlink:href=\"#DejaVuSans-114\"/>\n       <use x=\"716.544922\" xlink:href=\"#DejaVuSans-99\"/>\n       <use x=\"771.525391\" xlink:href=\"#DejaVuSans-101\"/>\n       <use x=\"833.048828\" xlink:href=\"#DejaVuSans-115\"/>\n       <use x=\"885.148438\" xlink:href=\"#DejaVuSans-32\"/>\n       <use x=\"916.935547\" xlink:href=\"#DejaVuSans-97\"/>\n       <use x=\"978.214844\" xlink:href=\"#DejaVuSans-110\"/>\n       <use x=\"1041.59375\" xlink:href=\"#DejaVuSans-100\"/>\n       <use x=\"1105.070312\" xlink:href=\"#DejaVuSans-32\"/>\n       <use x=\"1136.857422\" xlink:href=\"#DejaVuSans-109\"/>\n       <use x=\"1234.269531\" xlink:href=\"#DejaVuSans-105\"/>\n       <use x=\"1262.052734\" xlink:href=\"#DejaVuSans-110\"/>\n       <use x=\"1325.431641\" xlink:href=\"#DejaVuSans-105\"/>\n       <use x=\"1353.214844\" xlink:href=\"#DejaVuSans-110\"/>\n       <use x=\"1416.59375\" xlink:href=\"#DejaVuSans-103\"/>\n      </g>\n     </g>\n    </g>\n    <g id=\"xtick_28\">\n     <g id=\"line2d_28\">\n      <g>\n       <use style=\"stroke:#000000;stroke-width:0.8;\" x=\"706.428017\" xlink:href=\"#md833960a0a\" y=\"438.12\"/>\n      </g>\n     </g>\n     <g id=\"text_28\">\n      <!-- Trade -->\n      <g transform=\"translate(709.187392 472.493437)rotate(-90)scale(0.1 -0.1)\">\n       <use xlink:href=\"#DejaVuSans-84\"/>\n       <use x=\"46.333984\" xlink:href=\"#DejaVuSans-114\"/>\n       <use x=\"87.447266\" xlink:href=\"#DejaVuSans-97\"/>\n       <use x=\"148.726562\" xlink:href=\"#DejaVuSans-100\"/>\n       <use x=\"212.203125\" xlink:href=\"#DejaVuSans-101\"/>\n      </g>\n     </g>\n    </g>\n    <g id=\"xtick_29\">\n     <g id=\"line2d_29\">\n      <g>\n       <use style=\"stroke:#000000;stroke-width:0.8;\" x=\"729.517672\" xlink:href=\"#md833960a0a\" y=\"438.12\"/>\n      </g>\n     </g>\n     <g id=\"text_29\">\n      <!-- Transportation and utilities -->\n      <g transform=\"translate(732.277047 579.143437)rotate(-90)scale(0.1 -0.1)\">\n       <use xlink:href=\"#DejaVuSans-84\"/>\n       <use x=\"46.333984\" xlink:href=\"#DejaVuSans-114\"/>\n       <use x=\"87.447266\" xlink:href=\"#DejaVuSans-97\"/>\n       <use x=\"148.726562\" xlink:href=\"#DejaVuSans-110\"/>\n       <use x=\"212.105469\" xlink:href=\"#DejaVuSans-115\"/>\n       <use x=\"264.205078\" xlink:href=\"#DejaVuSans-112\"/>\n       <use x=\"327.681641\" xlink:href=\"#DejaVuSans-111\"/>\n       <use x=\"388.863281\" xlink:href=\"#DejaVuSans-114\"/>\n       <use x=\"429.976562\" xlink:href=\"#DejaVuSans-116\"/>\n       <use x=\"469.185547\" xlink:href=\"#DejaVuSans-97\"/>\n       <use x=\"530.464844\" xlink:href=\"#DejaVuSans-116\"/>\n       <use x=\"569.673828\" xlink:href=\"#DejaVuSans-105\"/>\n       <use x=\"597.457031\" xlink:href=\"#DejaVuSans-111\"/>\n       <use x=\"658.638672\" xlink:href=\"#DejaVuSans-110\"/>\n       <use x=\"722.017578\" xlink:href=\"#DejaVuSans-32\"/>\n       <use x=\"753.804688\" xlink:href=\"#DejaVuSans-97\"/>\n       <use x=\"815.083984\" xlink:href=\"#DejaVuSans-110\"/>\n       <use x=\"878.462891\" xlink:href=\"#DejaVuSans-100\"/>\n       <use x=\"941.939453\" xlink:href=\"#DejaVuSans-32\"/>\n       <use x=\"973.726562\" xlink:href=\"#DejaVuSans-117\"/>\n       <use x=\"1037.105469\" xlink:href=\"#DejaVuSans-116\"/>\n       <use x=\"1076.314453\" xlink:href=\"#DejaVuSans-105\"/>\n       <use x=\"1104.097656\" xlink:href=\"#DejaVuSans-108\"/>\n       <use x=\"1131.880859\" xlink:href=\"#DejaVuSans-105\"/>\n       <use x=\"1159.664062\" xlink:href=\"#DejaVuSans-116\"/>\n       <use x=\"1198.873047\" xlink:href=\"#DejaVuSans-105\"/>\n       <use x=\"1226.65625\" xlink:href=\"#DejaVuSans-101\"/>\n       <use x=\"1288.179688\" xlink:href=\"#DejaVuSans-115\"/>\n      </g>\n     </g>\n    </g>\n   </g>\n   <g id=\"matplotlib.axis_2\">\n    <g id=\"ytick_1\">\n     <g id=\"line2d_30\">\n      <defs>\n       <path d=\"M 0 0 \nL -3.5 0 \n\" id=\"m01b28c1d52\" style=\"stroke:#000000;stroke-width:0.8;\"/>\n      </defs>\n      <g>\n       <use style=\"stroke:#000000;stroke-width:0.8;\" x=\"71.4625\" xlink:href=\"#m01b28c1d52\" y=\"438.12\"/>\n      </g>\n     </g>\n     <g id=\"text_30\">\n      <!-- 0 -->\n      <g transform=\"translate(58.1 441.919219)scale(0.1 -0.1)\">\n       <defs>\n        <path d=\"M 31.78125 66.40625 \nQ 24.171875 66.40625 20.328125 58.90625 \nQ 16.5 51.421875 16.5 36.375 \nQ 16.5 21.390625 20.328125 13.890625 \nQ 24.171875 6.390625 31.78125 6.390625 \nQ 39.453125 6.390625 43.28125 13.890625 \nQ 47.125 21.390625 47.125 36.375 \nQ 47.125 51.421875 43.28125 58.90625 \nQ 39.453125 66.40625 31.78125 66.40625 \nz\nM 31.78125 74.21875 \nQ 44.046875 74.21875 50.515625 64.515625 \nQ 56.984375 54.828125 56.984375 36.375 \nQ 56.984375 17.96875 50.515625 8.265625 \nQ 44.046875 -1.421875 31.78125 -1.421875 \nQ 19.53125 -1.421875 13.0625 8.265625 \nQ 6.59375 17.96875 6.59375 36.375 \nQ 6.59375 54.828125 13.0625 64.515625 \nQ 19.53125 74.21875 31.78125 74.21875 \nz\n\" id=\"DejaVuSans-48\"/>\n       </defs>\n       <use xlink:href=\"#DejaVuSans-48\"/>\n      </g>\n     </g>\n    </g>\n    <g id=\"ytick_2\">\n     <g id=\"line2d_31\">\n      <g>\n       <use style=\"stroke:#000000;stroke-width:0.8;\" x=\"71.4625\" xlink:href=\"#m01b28c1d52\" y=\"367.068761\"/>\n      </g>\n     </g>\n     <g id=\"text_31\">\n      <!-- 100000000 -->\n      <g transform=\"translate(7.2 370.86798)scale(0.1 -0.1)\">\n       <defs>\n        <path d=\"M 12.40625 8.296875 \nL 28.515625 8.296875 \nL 28.515625 63.921875 \nL 10.984375 60.40625 \nL 10.984375 69.390625 \nL 28.421875 72.90625 \nL 38.28125 72.90625 \nL 38.28125 8.296875 \nL 54.390625 8.296875 \nL 54.390625 0 \nL 12.40625 0 \nz\n\" id=\"DejaVuSans-49\"/>\n       </defs>\n       <use xlink:href=\"#DejaVuSans-49\"/>\n       <use x=\"63.623047\" xlink:href=\"#DejaVuSans-48\"/>\n       <use x=\"127.246094\" xlink:href=\"#DejaVuSans-48\"/>\n       <use x=\"190.869141\" xlink:href=\"#DejaVuSans-48\"/>\n       <use x=\"254.492188\" xlink:href=\"#DejaVuSans-48\"/>\n       <use x=\"318.115234\" xlink:href=\"#DejaVuSans-48\"/>\n       <use x=\"381.738281\" xlink:href=\"#DejaVuSans-48\"/>\n       <use x=\"445.361328\" xlink:href=\"#DejaVuSans-48\"/>\n       <use x=\"508.984375\" xlink:href=\"#DejaVuSans-48\"/>\n      </g>\n     </g>\n    </g>\n    <g id=\"ytick_3\">\n     <g id=\"line2d_32\">\n      <g>\n       <use style=\"stroke:#000000;stroke-width:0.8;\" x=\"71.4625\" xlink:href=\"#m01b28c1d52\" y=\"296.017522\"/>\n      </g>\n     </g>\n     <g id=\"text_32\">\n      <!-- 200000000 -->\n      <g transform=\"translate(7.2 299.81674)scale(0.1 -0.1)\">\n       <defs>\n        <path d=\"M 19.1875 8.296875 \nL 53.609375 8.296875 \nL 53.609375 0 \nL 7.328125 0 \nL 7.328125 8.296875 \nQ 12.9375 14.109375 22.625 23.890625 \nQ 32.328125 33.6875 34.8125 36.53125 \nQ 39.546875 41.84375 41.421875 45.53125 \nQ 43.3125 49.21875 43.3125 52.78125 \nQ 43.3125 58.59375 39.234375 62.25 \nQ 35.15625 65.921875 28.609375 65.921875 \nQ 23.96875 65.921875 18.8125 64.3125 \nQ 13.671875 62.703125 7.8125 59.421875 \nL 7.8125 69.390625 \nQ 13.765625 71.78125 18.9375 73 \nQ 24.125 74.21875 28.421875 74.21875 \nQ 39.75 74.21875 46.484375 68.546875 \nQ 53.21875 62.890625 53.21875 53.421875 \nQ 53.21875 48.921875 51.53125 44.890625 \nQ 49.859375 40.875 45.40625 35.40625 \nQ 44.1875 33.984375 37.640625 27.21875 \nQ 31.109375 20.453125 19.1875 8.296875 \nz\n\" id=\"DejaVuSans-50\"/>\n       </defs>\n       <use xlink:href=\"#DejaVuSans-50\"/>\n       <use x=\"63.623047\" xlink:href=\"#DejaVuSans-48\"/>\n       <use x=\"127.246094\" xlink:href=\"#DejaVuSans-48\"/>\n       <use x=\"190.869141\" xlink:href=\"#DejaVuSans-48\"/>\n       <use x=\"254.492188\" xlink:href=\"#DejaVuSans-48\"/>\n       <use x=\"318.115234\" xlink:href=\"#DejaVuSans-48\"/>\n       <use x=\"381.738281\" xlink:href=\"#DejaVuSans-48\"/>\n       <use x=\"445.361328\" xlink:href=\"#DejaVuSans-48\"/>\n       <use x=\"508.984375\" xlink:href=\"#DejaVuSans-48\"/>\n      </g>\n     </g>\n    </g>\n    <g id=\"ytick_4\">\n     <g id=\"line2d_33\">\n      <g>\n       <use style=\"stroke:#000000;stroke-width:0.8;\" x=\"71.4625\" xlink:href=\"#m01b28c1d52\" y=\"224.966283\"/>\n      </g>\n     </g>\n     <g id=\"text_33\">\n      <!-- 300000000 -->\n      <g transform=\"translate(7.2 228.765501)scale(0.1 -0.1)\">\n       <defs>\n        <path d=\"M 40.578125 39.3125 \nQ 47.65625 37.796875 51.625 33 \nQ 55.609375 28.21875 55.609375 21.1875 \nQ 55.609375 10.40625 48.1875 4.484375 \nQ 40.765625 -1.421875 27.09375 -1.421875 \nQ 22.515625 -1.421875 17.65625 -0.515625 \nQ 12.796875 0.390625 7.625 2.203125 \nL 7.625 11.71875 \nQ 11.71875 9.328125 16.59375 8.109375 \nQ 21.484375 6.890625 26.8125 6.890625 \nQ 36.078125 6.890625 40.9375 10.546875 \nQ 45.796875 14.203125 45.796875 21.1875 \nQ 45.796875 27.640625 41.28125 31.265625 \nQ 36.765625 34.90625 28.71875 34.90625 \nL 20.21875 34.90625 \nL 20.21875 43.015625 \nL 29.109375 43.015625 \nQ 36.375 43.015625 40.234375 45.921875 \nQ 44.09375 48.828125 44.09375 54.296875 \nQ 44.09375 59.90625 40.109375 62.90625 \nQ 36.140625 65.921875 28.71875 65.921875 \nQ 24.65625 65.921875 20.015625 65.03125 \nQ 15.375 64.15625 9.8125 62.3125 \nL 9.8125 71.09375 \nQ 15.4375 72.65625 20.34375 73.4375 \nQ 25.25 74.21875 29.59375 74.21875 \nQ 40.828125 74.21875 47.359375 69.109375 \nQ 53.90625 64.015625 53.90625 55.328125 \nQ 53.90625 49.265625 50.4375 45.09375 \nQ 46.96875 40.921875 40.578125 39.3125 \nz\n\" id=\"DejaVuSans-51\"/>\n       </defs>\n       <use xlink:href=\"#DejaVuSans-51\"/>\n       <use x=\"63.623047\" xlink:href=\"#DejaVuSans-48\"/>\n       <use x=\"127.246094\" xlink:href=\"#DejaVuSans-48\"/>\n       <use x=\"190.869141\" xlink:href=\"#DejaVuSans-48\"/>\n       <use x=\"254.492188\" xlink:href=\"#DejaVuSans-48\"/>\n       <use x=\"318.115234\" xlink:href=\"#DejaVuSans-48\"/>\n       <use x=\"381.738281\" xlink:href=\"#DejaVuSans-48\"/>\n       <use x=\"445.361328\" xlink:href=\"#DejaVuSans-48\"/>\n       <use x=\"508.984375\" xlink:href=\"#DejaVuSans-48\"/>\n      </g>\n     </g>\n    </g>\n    <g id=\"ytick_5\">\n     <g id=\"line2d_34\">\n      <g>\n       <use style=\"stroke:#000000;stroke-width:0.8;\" x=\"71.4625\" xlink:href=\"#m01b28c1d52\" y=\"153.915043\"/>\n      </g>\n     </g>\n     <g id=\"text_34\">\n      <!-- 400000000 -->\n      <g transform=\"translate(7.2 157.714262)scale(0.1 -0.1)\">\n       <defs>\n        <path d=\"M 37.796875 64.3125 \nL 12.890625 25.390625 \nL 37.796875 25.390625 \nz\nM 35.203125 72.90625 \nL 47.609375 72.90625 \nL 47.609375 25.390625 \nL 58.015625 25.390625 \nL 58.015625 17.1875 \nL 47.609375 17.1875 \nL 47.609375 0 \nL 37.796875 0 \nL 37.796875 17.1875 \nL 4.890625 17.1875 \nL 4.890625 26.703125 \nz\n\" id=\"DejaVuSans-52\"/>\n       </defs>\n       <use xlink:href=\"#DejaVuSans-52\"/>\n       <use x=\"63.623047\" xlink:href=\"#DejaVuSans-48\"/>\n       <use x=\"127.246094\" xlink:href=\"#DejaVuSans-48\"/>\n       <use x=\"190.869141\" xlink:href=\"#DejaVuSans-48\"/>\n       <use x=\"254.492188\" xlink:href=\"#DejaVuSans-48\"/>\n       <use x=\"318.115234\" xlink:href=\"#DejaVuSans-48\"/>\n       <use x=\"381.738281\" xlink:href=\"#DejaVuSans-48\"/>\n       <use x=\"445.361328\" xlink:href=\"#DejaVuSans-48\"/>\n       <use x=\"508.984375\" xlink:href=\"#DejaVuSans-48\"/>\n      </g>\n     </g>\n    </g>\n    <g id=\"ytick_6\">\n     <g id=\"line2d_35\">\n      <g>\n       <use style=\"stroke:#000000;stroke-width:0.8;\" x=\"71.4625\" xlink:href=\"#m01b28c1d52\" y=\"82.863804\"/>\n      </g>\n     </g>\n     <g id=\"text_35\">\n      <!-- 500000000 -->\n      <g transform=\"translate(7.2 86.663023)scale(0.1 -0.1)\">\n       <defs>\n        <path d=\"M 10.796875 72.90625 \nL 49.515625 72.90625 \nL 49.515625 64.59375 \nL 19.828125 64.59375 \nL 19.828125 46.734375 \nQ 21.96875 47.46875 24.109375 47.828125 \nQ 26.265625 48.1875 28.421875 48.1875 \nQ 40.625 48.1875 47.75 41.5 \nQ 54.890625 34.8125 54.890625 23.390625 \nQ 54.890625 11.625 47.5625 5.09375 \nQ 40.234375 -1.421875 26.90625 -1.421875 \nQ 22.3125 -1.421875 17.546875 -0.640625 \nQ 12.796875 0.140625 7.71875 1.703125 \nL 7.71875 11.625 \nQ 12.109375 9.234375 16.796875 8.0625 \nQ 21.484375 6.890625 26.703125 6.890625 \nQ 35.15625 6.890625 40.078125 11.328125 \nQ 45.015625 15.765625 45.015625 23.390625 \nQ 45.015625 31 40.078125 35.4375 \nQ 35.15625 39.890625 26.703125 39.890625 \nQ 22.75 39.890625 18.8125 39.015625 \nQ 14.890625 38.140625 10.796875 36.28125 \nz\n\" id=\"DejaVuSans-53\"/>\n       </defs>\n       <use xlink:href=\"#DejaVuSans-53\"/>\n       <use x=\"63.623047\" xlink:href=\"#DejaVuSans-48\"/>\n       <use x=\"127.246094\" xlink:href=\"#DejaVuSans-48\"/>\n       <use x=\"190.869141\" xlink:href=\"#DejaVuSans-48\"/>\n       <use x=\"254.492188\" xlink:href=\"#DejaVuSans-48\"/>\n       <use x=\"318.115234\" xlink:href=\"#DejaVuSans-48\"/>\n       <use x=\"381.738281\" xlink:href=\"#DejaVuSans-48\"/>\n       <use x=\"445.361328\" xlink:href=\"#DejaVuSans-48\"/>\n       <use x=\"508.984375\" xlink:href=\"#DejaVuSans-48\"/>\n      </g>\n     </g>\n    </g>\n   </g>\n   <g id=\"patch_264\">\n    <path d=\"M 71.4625 438.12 \nL 71.4625 57.6 \n\" style=\"fill:none;stroke:#000000;stroke-linecap:square;stroke-linejoin:miter;stroke-width:0.8;\"/>\n   </g>\n   <g id=\"patch_265\">\n    <path d=\"M 741.0625 438.12 \nL 741.0625 57.6 \n\" style=\"fill:none;stroke:#000000;stroke-linecap:square;stroke-linejoin:miter;stroke-width:0.8;\"/>\n   </g>\n   <g id=\"patch_266\">\n    <path d=\"M 71.4625 438.12 \nL 741.0625 438.12 \n\" style=\"fill:none;stroke:#000000;stroke-linecap:square;stroke-linejoin:miter;stroke-width:0.8;\"/>\n   </g>\n   <g id=\"patch_267\">\n    <path d=\"M 71.4625 57.6 \nL 741.0625 57.6 \n\" style=\"fill:none;stroke:#000000;stroke-linecap:square;stroke-linejoin:miter;stroke-width:0.8;\"/>\n   </g>\n   <g id=\"legend_1\">\n    <g id=\"patch_268\">\n     <path d=\"M 673.109375 212.38125 \nL 734.0625 212.38125 \nQ 736.0625 212.38125 736.0625 210.38125 \nL 736.0625 64.6 \nQ 736.0625 62.6 734.0625 62.6 \nL 673.109375 62.6 \nQ 671.109375 62.6 671.109375 64.6 \nL 671.109375 210.38125 \nQ 671.109375 212.38125 673.109375 212.38125 \nz\n\" style=\"fill:#ffffff;opacity:0.8;stroke:#cccccc;stroke-linejoin:miter;\"/>\n    </g>\n    <g id=\"text_36\">\n     <!-- Description -->\n     <g transform=\"translate(675.109375 74.198437)scale(0.1 -0.1)\">\n      <use xlink:href=\"#DejaVuSans-68\"/>\n      <use x=\"77.001953\" xlink:href=\"#DejaVuSans-101\"/>\n      <use x=\"138.525391\" xlink:href=\"#DejaVuSans-115\"/>\n      <use x=\"190.625\" xlink:href=\"#DejaVuSans-99\"/>\n      <use x=\"245.605469\" xlink:href=\"#DejaVuSans-114\"/>\n      <use x=\"286.71875\" xlink:href=\"#DejaVuSans-105\"/>\n      <use x=\"314.501953\" xlink:href=\"#DejaVuSans-112\"/>\n      <use x=\"377.978516\" xlink:href=\"#DejaVuSans-116\"/>\n      <use x=\"417.1875\" xlink:href=\"#DejaVuSans-105\"/>\n      <use x=\"444.970703\" xlink:href=\"#DejaVuSans-111\"/>\n      <use x=\"506.152344\" xlink:href=\"#DejaVuSans-110\"/>\n     </g>\n    </g>\n    <g id=\"patch_269\">\n     <path d=\"M 676.860937 88.876562 \nL 696.860937 88.876562 \nL 696.860937 81.876562 \nL 676.860937 81.876562 \nz\n\" style=\"fill:#0b0405;\"/>\n    </g>\n    <g id=\"text_37\">\n     <!-- 2010 -->\n     <g transform=\"translate(704.860937 88.876562)scale(0.1 -0.1)\">\n      <use xlink:href=\"#DejaVuSans-50\"/>\n      <use x=\"63.623047\" xlink:href=\"#DejaVuSans-48\"/>\n      <use x=\"127.246094\" xlink:href=\"#DejaVuSans-49\"/>\n      <use x=\"190.869141\" xlink:href=\"#DejaVuSans-48\"/>\n     </g>\n    </g>\n    <g id=\"patch_270\">\n     <path d=\"M 676.860937 103.554688 \nL 696.860937 103.554688 \nL 696.860937 96.554688 \nL 676.860937 96.554688 \nz\n\" style=\"fill:#2b1c35;\"/>\n    </g>\n    <g id=\"text_38\">\n     <!-- 2011 -->\n     <g transform=\"translate(704.860937 103.554688)scale(0.1 -0.1)\">\n      <use xlink:href=\"#DejaVuSans-50\"/>\n      <use x=\"63.623047\" xlink:href=\"#DejaVuSans-48\"/>\n      <use x=\"127.246094\" xlink:href=\"#DejaVuSans-49\"/>\n      <use x=\"190.869141\" xlink:href=\"#DejaVuSans-49\"/>\n     </g>\n    </g>\n    <g id=\"patch_271\">\n     <path d=\"M 676.860937 118.232813 \nL 696.860937 118.232813 \nL 696.860937 111.232813 \nL 676.860937 111.232813 \nz\n\" style=\"fill:#3e356b;\"/>\n    </g>\n    <g id=\"text_39\">\n     <!-- 2012 -->\n     <g transform=\"translate(704.860937 118.232813)scale(0.1 -0.1)\">\n      <use xlink:href=\"#DejaVuSans-50\"/>\n      <use x=\"63.623047\" xlink:href=\"#DejaVuSans-48\"/>\n      <use x=\"127.246094\" xlink:href=\"#DejaVuSans-49\"/>\n      <use x=\"190.869141\" xlink:href=\"#DejaVuSans-50\"/>\n     </g>\n    </g>\n    <g id=\"patch_272\">\n     <path d=\"M 676.860937 132.910937 \nL 696.860937 132.910937 \nL 696.860937 125.910937 \nL 676.860937 125.910937 \nz\n\" style=\"fill:#3b5698;\"/>\n    </g>\n    <g id=\"text_40\">\n     <!-- 2013 -->\n     <g transform=\"translate(704.860937 132.910937)scale(0.1 -0.1)\">\n      <use xlink:href=\"#DejaVuSans-50\"/>\n      <use x=\"63.623047\" xlink:href=\"#DejaVuSans-48\"/>\n      <use x=\"127.246094\" xlink:href=\"#DejaVuSans-49\"/>\n      <use x=\"190.869141\" xlink:href=\"#DejaVuSans-51\"/>\n     </g>\n    </g>\n    <g id=\"patch_273\">\n     <path d=\"M 676.860937 147.589062 \nL 696.860937 147.589062 \nL 696.860937 140.589062 \nL 676.860937 140.589062 \nz\n\" style=\"fill:#357ba3;\"/>\n    </g>\n    <g id=\"text_41\">\n     <!-- 2014 -->\n     <g transform=\"translate(704.860937 147.589062)scale(0.1 -0.1)\">\n      <use xlink:href=\"#DejaVuSans-50\"/>\n      <use x=\"63.623047\" xlink:href=\"#DejaVuSans-48\"/>\n      <use x=\"127.246094\" xlink:href=\"#DejaVuSans-49\"/>\n      <use x=\"190.869141\" xlink:href=\"#DejaVuSans-52\"/>\n     </g>\n    </g>\n    <g id=\"patch_274\">\n     <path d=\"M 676.860937 162.267187 \nL 696.860937 162.267187 \nL 696.860937 155.267187 \nL 676.860937 155.267187 \nz\n\" style=\"fill:#359fab;\"/>\n    </g>\n    <g id=\"text_42\">\n     <!-- 2015 -->\n     <g transform=\"translate(704.860937 162.267187)scale(0.1 -0.1)\">\n      <use xlink:href=\"#DejaVuSans-50\"/>\n      <use x=\"63.623047\" xlink:href=\"#DejaVuSans-48\"/>\n      <use x=\"127.246094\" xlink:href=\"#DejaVuSans-49\"/>\n      <use x=\"190.869141\" xlink:href=\"#DejaVuSans-53\"/>\n     </g>\n    </g>\n    <g id=\"patch_275\">\n     <path d=\"M 676.860937 176.945312 \nL 696.860937 176.945312 \nL 696.860937 169.945312 \nL 676.860937 169.945312 \nz\n\" style=\"fill:#4bc2ad;\"/>\n    </g>\n    <g id=\"text_43\">\n     <!-- 2016 -->\n     <g transform=\"translate(704.860937 176.945312)scale(0.1 -0.1)\">\n      <defs>\n       <path d=\"M 33.015625 40.375 \nQ 26.375 40.375 22.484375 35.828125 \nQ 18.609375 31.296875 18.609375 23.390625 \nQ 18.609375 15.53125 22.484375 10.953125 \nQ 26.375 6.390625 33.015625 6.390625 \nQ 39.65625 6.390625 43.53125 10.953125 \nQ 47.40625 15.53125 47.40625 23.390625 \nQ 47.40625 31.296875 43.53125 35.828125 \nQ 39.65625 40.375 33.015625 40.375 \nz\nM 52.59375 71.296875 \nL 52.59375 62.3125 \nQ 48.875 64.0625 45.09375 64.984375 \nQ 41.3125 65.921875 37.59375 65.921875 \nQ 27.828125 65.921875 22.671875 59.328125 \nQ 17.53125 52.734375 16.796875 39.40625 \nQ 19.671875 43.65625 24.015625 45.921875 \nQ 28.375 48.1875 33.59375 48.1875 \nQ 44.578125 48.1875 50.953125 41.515625 \nQ 57.328125 34.859375 57.328125 23.390625 \nQ 57.328125 12.15625 50.6875 5.359375 \nQ 44.046875 -1.421875 33.015625 -1.421875 \nQ 20.359375 -1.421875 13.671875 8.265625 \nQ 6.984375 17.96875 6.984375 36.375 \nQ 6.984375 53.65625 15.1875 63.9375 \nQ 23.390625 74.21875 37.203125 74.21875 \nQ 40.921875 74.21875 44.703125 73.484375 \nQ 48.484375 72.75 52.59375 71.296875 \nz\n\" id=\"DejaVuSans-54\"/>\n      </defs>\n      <use xlink:href=\"#DejaVuSans-50\"/>\n      <use x=\"63.623047\" xlink:href=\"#DejaVuSans-48\"/>\n      <use x=\"127.246094\" xlink:href=\"#DejaVuSans-49\"/>\n      <use x=\"190.869141\" xlink:href=\"#DejaVuSans-54\"/>\n     </g>\n    </g>\n    <g id=\"patch_276\">\n     <path d=\"M 676.860937 191.623438 \nL 696.860937 191.623438 \nL 696.860937 184.623438 \nL 676.860937 184.623438 \nz\n\" style=\"fill:#99ddb6;\"/>\n    </g>\n    <g id=\"text_44\">\n     <!-- 2017 -->\n     <g transform=\"translate(704.860937 191.623438)scale(0.1 -0.1)\">\n      <defs>\n       <path d=\"M 8.203125 72.90625 \nL 55.078125 72.90625 \nL 55.078125 68.703125 \nL 28.609375 0 \nL 18.3125 0 \nL 43.21875 64.59375 \nL 8.203125 64.59375 \nz\n\" id=\"DejaVuSans-55\"/>\n      </defs>\n      <use xlink:href=\"#DejaVuSans-50\"/>\n      <use x=\"63.623047\" xlink:href=\"#DejaVuSans-48\"/>\n      <use x=\"127.246094\" xlink:href=\"#DejaVuSans-49\"/>\n      <use x=\"190.869141\" xlink:href=\"#DejaVuSans-55\"/>\n     </g>\n    </g>\n    <g id=\"patch_277\">\n     <path d=\"M 676.860937 206.301562 \nL 696.860937 206.301562 \nL 696.860937 199.301562 \nL 676.860937 199.301562 \nz\n\" style=\"fill:#def5e5;\"/>\n    </g>\n    <g id=\"text_45\">\n     <!-- 2018 -->\n     <g transform=\"translate(704.860937 206.301562)scale(0.1 -0.1)\">\n      <defs>\n       <path d=\"M 31.78125 34.625 \nQ 24.75 34.625 20.71875 30.859375 \nQ 16.703125 27.09375 16.703125 20.515625 \nQ 16.703125 13.921875 20.71875 10.15625 \nQ 24.75 6.390625 31.78125 6.390625 \nQ 38.8125 6.390625 42.859375 10.171875 \nQ 46.921875 13.96875 46.921875 20.515625 \nQ 46.921875 27.09375 42.890625 30.859375 \nQ 38.875 34.625 31.78125 34.625 \nz\nM 21.921875 38.8125 \nQ 15.578125 40.375 12.03125 44.71875 \nQ 8.5 49.078125 8.5 55.328125 \nQ 8.5 64.0625 14.71875 69.140625 \nQ 20.953125 74.21875 31.78125 74.21875 \nQ 42.671875 74.21875 48.875 69.140625 \nQ 55.078125 64.0625 55.078125 55.328125 \nQ 55.078125 49.078125 51.53125 44.71875 \nQ 48 40.375 41.703125 38.8125 \nQ 48.828125 37.15625 52.796875 32.3125 \nQ 56.78125 27.484375 56.78125 20.515625 \nQ 56.78125 9.90625 50.3125 4.234375 \nQ 43.84375 -1.421875 31.78125 -1.421875 \nQ 19.734375 -1.421875 13.25 4.234375 \nQ 6.78125 9.90625 6.78125 20.515625 \nQ 6.78125 27.484375 10.78125 32.3125 \nQ 14.796875 37.15625 21.921875 38.8125 \nz\nM 18.3125 54.390625 \nQ 18.3125 48.734375 21.84375 45.5625 \nQ 25.390625 42.390625 31.78125 42.390625 \nQ 38.140625 42.390625 41.71875 45.5625 \nQ 45.3125 48.734375 45.3125 54.390625 \nQ 45.3125 60.0625 41.71875 63.234375 \nQ 38.140625 66.40625 31.78125 66.40625 \nQ 25.390625 66.40625 21.84375 63.234375 \nQ 18.3125 60.0625 18.3125 54.390625 \nz\n\" id=\"DejaVuSans-56\"/>\n      </defs>\n      <use xlink:href=\"#DejaVuSans-50\"/>\n      <use x=\"63.623047\" xlink:href=\"#DejaVuSans-48\"/>\n      <use x=\"127.246094\" xlink:href=\"#DejaVuSans-49\"/>\n      <use x=\"190.869141\" xlink:href=\"#DejaVuSans-56\"/>\n     </g>\n    </g>\n   </g>\n  </g>\n  <g id=\"text_46\">\n   <!-- Colorado Gross Domestic Product by Industry -->\n   <g transform=\"translate(241.210937 16.318125)scale(0.12 -0.12)\">\n    <defs>\n     <path d=\"M 67 4 \nQ 61.8125 1.3125 56.203125 -0.046875 \nQ 50.59375 -1.421875 44.484375 -1.421875 \nQ 26.265625 -1.421875 15.625 8.765625 \nQ 4.984375 18.953125 4.984375 36.375 \nQ 4.984375 53.859375 15.625 64.03125 \nQ 26.265625 74.21875 44.484375 74.21875 \nQ 50.59375 74.21875 56.203125 72.84375 \nQ 61.8125 71.484375 67 68.796875 \nL 67 53.71875 \nQ 61.765625 57.28125 56.6875 58.9375 \nQ 51.609375 60.59375 46 60.59375 \nQ 35.9375 60.59375 30.171875 54.140625 \nQ 24.421875 47.703125 24.421875 36.375 \nQ 24.421875 25.09375 30.171875 18.640625 \nQ 35.9375 12.203125 46 12.203125 \nQ 51.609375 12.203125 56.6875 13.859375 \nQ 61.765625 15.53125 67 19.09375 \nz\n\" id=\"DejaVuSans-Bold-67\"/>\n     <path d=\"M 34.421875 43.5 \nQ 28.609375 43.5 25.5625 39.328125 \nQ 22.515625 35.15625 22.515625 27.296875 \nQ 22.515625 19.4375 25.5625 15.25 \nQ 28.609375 11.078125 34.421875 11.078125 \nQ 40.140625 11.078125 43.15625 15.25 \nQ 46.1875 19.4375 46.1875 27.296875 \nQ 46.1875 35.15625 43.15625 39.328125 \nQ 40.140625 43.5 34.421875 43.5 \nz\nM 34.421875 56 \nQ 48.53125 56 56.46875 48.375 \nQ 64.40625 40.765625 64.40625 27.296875 \nQ 64.40625 13.8125 56.46875 6.1875 \nQ 48.53125 -1.421875 34.421875 -1.421875 \nQ 20.265625 -1.421875 12.28125 6.1875 \nQ 4.296875 13.8125 4.296875 27.296875 \nQ 4.296875 40.765625 12.28125 48.375 \nQ 20.265625 56 34.421875 56 \nz\n\" id=\"DejaVuSans-Bold-111\"/>\n     <path d=\"M 8.40625 75.984375 \nL 25.875 75.984375 \nL 25.875 0 \nL 8.40625 0 \nz\n\" id=\"DejaVuSans-Bold-108\"/>\n     <path d=\"M 49.03125 39.796875 \nQ 46.734375 40.875 44.453125 41.375 \nQ 42.1875 41.890625 39.890625 41.890625 \nQ 33.15625 41.890625 29.515625 37.5625 \nQ 25.875 33.25 25.875 25.203125 \nL 25.875 0 \nL 8.40625 0 \nL 8.40625 54.6875 \nL 25.875 54.6875 \nL 25.875 45.703125 \nQ 29.25 51.078125 33.609375 53.53125 \nQ 37.984375 56 44.09375 56 \nQ 44.96875 56 45.984375 55.921875 \nQ 47.015625 55.859375 48.96875 55.609375 \nz\n\" id=\"DejaVuSans-Bold-114\"/>\n     <path d=\"M 32.90625 24.609375 \nQ 27.4375 24.609375 24.671875 22.75 \nQ 21.921875 20.90625 21.921875 17.28125 \nQ 21.921875 13.96875 24.140625 12.078125 \nQ 26.375 10.203125 30.328125 10.203125 \nQ 35.25 10.203125 38.625 13.734375 \nQ 42 17.28125 42 22.609375 \nL 42 24.609375 \nz\nM 59.625 31.203125 \nL 59.625 0 \nL 42 0 \nL 42 8.109375 \nQ 38.484375 3.125 34.078125 0.84375 \nQ 29.6875 -1.421875 23.390625 -1.421875 \nQ 14.890625 -1.421875 9.59375 3.53125 \nQ 4.296875 8.5 4.296875 16.40625 \nQ 4.296875 26.03125 10.90625 30.515625 \nQ 17.53125 35.015625 31.6875 35.015625 \nL 42 35.015625 \nL 42 36.375 \nQ 42 40.53125 38.71875 42.453125 \nQ 35.453125 44.390625 28.515625 44.390625 \nQ 22.90625 44.390625 18.0625 43.265625 \nQ 13.234375 42.140625 9.078125 39.890625 \nL 9.078125 53.21875 \nQ 14.703125 54.59375 20.359375 55.296875 \nQ 26.03125 56 31.6875 56 \nQ 46.484375 56 53.046875 50.171875 \nQ 59.625 44.34375 59.625 31.203125 \nz\n\" id=\"DejaVuSans-Bold-97\"/>\n     <path d=\"M 45.609375 46.6875 \nL 45.609375 75.984375 \nL 63.1875 75.984375 \nL 63.1875 0 \nL 45.609375 0 \nL 45.609375 7.90625 \nQ 42 3.078125 37.640625 0.828125 \nQ 33.296875 -1.421875 27.59375 -1.421875 \nQ 17.484375 -1.421875 10.984375 6.609375 \nQ 4.5 14.65625 4.5 27.296875 \nQ 4.5 39.9375 10.984375 47.96875 \nQ 17.484375 56 27.59375 56 \nQ 33.25 56 37.625 53.734375 \nQ 42 51.46875 45.609375 46.6875 \nz\nM 34.078125 11.28125 \nQ 39.703125 11.28125 42.65625 15.375 \nQ 45.609375 19.484375 45.609375 27.296875 \nQ 45.609375 35.109375 42.65625 39.203125 \nQ 39.703125 43.3125 34.078125 43.3125 \nQ 28.515625 43.3125 25.5625 39.203125 \nQ 22.609375 35.109375 22.609375 27.296875 \nQ 22.609375 19.484375 25.5625 15.375 \nQ 28.515625 11.28125 34.078125 11.28125 \nz\n\" id=\"DejaVuSans-Bold-100\"/>\n     <path id=\"DejaVuSans-Bold-32\"/>\n     <path d=\"M 74.703125 5.421875 \nQ 67.671875 2 60.109375 0.28125 \nQ 52.546875 -1.421875 44.484375 -1.421875 \nQ 26.265625 -1.421875 15.625 8.765625 \nQ 4.984375 18.953125 4.984375 36.375 \nQ 4.984375 54 15.8125 64.109375 \nQ 26.65625 74.21875 45.515625 74.21875 \nQ 52.78125 74.21875 59.4375 72.84375 \nQ 66.109375 71.484375 72.015625 68.796875 \nL 72.015625 53.71875 \nQ 65.921875 57.171875 59.890625 58.875 \nQ 53.859375 60.59375 47.796875 60.59375 \nQ 36.578125 60.59375 30.5 54.3125 \nQ 24.421875 48.046875 24.421875 36.375 \nQ 24.421875 24.8125 30.28125 18.5 \nQ 36.140625 12.203125 46.921875 12.203125 \nQ 49.859375 12.203125 52.375 12.5625 \nQ 54.890625 12.9375 56.890625 13.71875 \nL 56.890625 27.875 \nL 45.40625 27.875 \nL 45.40625 40.484375 \nL 74.703125 40.484375 \nz\n\" id=\"DejaVuSans-Bold-71\"/>\n     <path d=\"M 51.125 52.984375 \nL 51.125 39.703125 \nQ 45.515625 42.046875 40.28125 43.21875 \nQ 35.0625 44.390625 30.421875 44.390625 \nQ 25.4375 44.390625 23.015625 43.140625 \nQ 20.609375 41.890625 20.609375 39.3125 \nQ 20.609375 37.203125 22.4375 36.078125 \nQ 24.265625 34.96875 29 34.421875 \nL 32.078125 33.984375 \nQ 45.515625 32.28125 50.140625 28.375 \nQ 54.78125 24.46875 54.78125 16.109375 \nQ 54.78125 7.375 48.328125 2.96875 \nQ 41.890625 -1.421875 29.109375 -1.421875 \nQ 23.6875 -1.421875 17.890625 -0.5625 \nQ 12.109375 0.296875 6 2 \nL 6 15.28125 \nQ 11.234375 12.75 16.71875 11.46875 \nQ 22.21875 10.203125 27.875 10.203125 \nQ 33.015625 10.203125 35.59375 11.609375 \nQ 38.1875 13.03125 38.1875 15.828125 \nQ 38.1875 18.171875 36.40625 19.3125 \nQ 34.625 20.453125 29.296875 21.09375 \nL 26.21875 21.484375 \nQ 14.546875 22.953125 9.859375 26.90625 \nQ 5.171875 30.859375 5.171875 38.921875 \nQ 5.171875 47.609375 11.125 51.796875 \nQ 17.09375 56 29.390625 56 \nQ 34.234375 56 39.546875 55.265625 \nQ 44.875 54.546875 51.125 52.984375 \nz\n\" id=\"DejaVuSans-Bold-115\"/>\n     <path d=\"M 27.984375 58.6875 \nL 27.984375 14.203125 \nL 34.71875 14.203125 \nQ 46.234375 14.203125 52.3125 19.921875 \nQ 58.40625 25.640625 58.40625 36.53125 \nQ 58.40625 47.359375 52.34375 53.015625 \nQ 46.296875 58.6875 34.71875 58.6875 \nz\nM 9.1875 72.90625 \nL 29 72.90625 \nQ 45.609375 72.90625 53.734375 70.53125 \nQ 61.859375 68.171875 67.671875 62.5 \nQ 72.796875 57.5625 75.28125 51.109375 \nQ 77.78125 44.671875 77.78125 36.53125 \nQ 77.78125 28.265625 75.28125 21.796875 \nQ 72.796875 15.328125 67.671875 10.40625 \nQ 61.8125 4.734375 53.609375 2.359375 \nQ 45.40625 0 29 0 \nL 9.1875 0 \nz\n\" id=\"DejaVuSans-Bold-68\"/>\n     <path d=\"M 59.078125 45.609375 \nQ 62.40625 50.6875 66.96875 53.34375 \nQ 71.53125 56 77 56 \nQ 86.421875 56 91.359375 50.1875 \nQ 96.296875 44.390625 96.296875 33.296875 \nL 96.296875 0 \nL 78.71875 0 \nL 78.71875 28.515625 \nQ 78.765625 29.15625 78.78125 29.828125 \nQ 78.8125 30.515625 78.8125 31.78125 \nQ 78.8125 37.59375 77.09375 40.203125 \nQ 75.390625 42.828125 71.578125 42.828125 \nQ 66.609375 42.828125 63.890625 38.71875 \nQ 61.1875 34.625 61.078125 26.859375 \nL 61.078125 0 \nL 43.5 0 \nL 43.5 28.515625 \nQ 43.5 37.59375 41.9375 40.203125 \nQ 40.375 42.828125 36.375 42.828125 \nQ 31.34375 42.828125 28.609375 38.703125 \nQ 25.875 34.578125 25.875 26.90625 \nL 25.875 0 \nL 8.296875 0 \nL 8.296875 54.6875 \nL 25.875 54.6875 \nL 25.875 46.6875 \nQ 29.109375 51.3125 33.28125 53.65625 \nQ 37.453125 56 42.484375 56 \nQ 48.140625 56 52.484375 53.265625 \nQ 56.84375 50.53125 59.078125 45.609375 \nz\n\" id=\"DejaVuSans-Bold-109\"/>\n     <path d=\"M 62.984375 27.484375 \nL 62.984375 22.515625 \nL 22.125 22.515625 \nQ 22.75 16.359375 26.5625 13.28125 \nQ 30.375 10.203125 37.203125 10.203125 \nQ 42.71875 10.203125 48.5 11.84375 \nQ 54.296875 13.484375 60.40625 16.796875 \nL 60.40625 3.328125 \nQ 54.203125 0.984375 48 -0.21875 \nQ 41.796875 -1.421875 35.59375 -1.421875 \nQ 20.75 -1.421875 12.515625 6.125 \nQ 4.296875 13.671875 4.296875 27.296875 \nQ 4.296875 40.671875 12.375 48.328125 \nQ 20.453125 56 34.625 56 \nQ 47.515625 56 55.25 48.234375 \nQ 62.984375 40.484375 62.984375 27.484375 \nz\nM 45.015625 33.296875 \nQ 45.015625 38.28125 42.109375 41.328125 \nQ 39.203125 44.390625 34.515625 44.390625 \nQ 29.4375 44.390625 26.265625 41.53125 \nQ 23.09375 38.671875 22.3125 33.296875 \nz\n\" id=\"DejaVuSans-Bold-101\"/>\n     <path d=\"M 27.484375 70.21875 \nL 27.484375 54.6875 \nL 45.515625 54.6875 \nL 45.515625 42.1875 \nL 27.484375 42.1875 \nL 27.484375 19 \nQ 27.484375 15.1875 29 13.84375 \nQ 30.515625 12.5 35.015625 12.5 \nL 44 12.5 \nL 44 0 \nL 29 0 \nQ 18.65625 0 14.328125 4.3125 \nQ 10.015625 8.640625 10.015625 19 \nL 10.015625 42.1875 \nL 1.3125 42.1875 \nL 1.3125 54.6875 \nL 10.015625 54.6875 \nL 10.015625 70.21875 \nz\n\" id=\"DejaVuSans-Bold-116\"/>\n     <path d=\"M 8.40625 54.6875 \nL 25.875 54.6875 \nL 25.875 0 \nL 8.40625 0 \nz\nM 8.40625 75.984375 \nL 25.875 75.984375 \nL 25.875 61.71875 \nL 8.40625 61.71875 \nz\n\" id=\"DejaVuSans-Bold-105\"/>\n     <path d=\"M 52.59375 52.984375 \nL 52.59375 38.71875 \nQ 49.03125 41.15625 45.4375 42.328125 \nQ 41.84375 43.5 37.984375 43.5 \nQ 30.671875 43.5 26.59375 39.234375 \nQ 22.515625 34.96875 22.515625 27.296875 \nQ 22.515625 19.625 26.59375 15.34375 \nQ 30.671875 11.078125 37.984375 11.078125 \nQ 42.09375 11.078125 45.78125 12.296875 \nQ 49.46875 13.53125 52.59375 15.921875 \nL 52.59375 1.609375 \nQ 48.484375 0.09375 44.265625 -0.65625 \nQ 40.046875 -1.421875 35.796875 -1.421875 \nQ 21 -1.421875 12.640625 6.171875 \nQ 4.296875 13.765625 4.296875 27.296875 \nQ 4.296875 40.828125 12.640625 48.40625 \nQ 21 56 35.796875 56 \nQ 40.09375 56 44.265625 55.25 \nQ 48.4375 54.5 52.59375 52.984375 \nz\n\" id=\"DejaVuSans-Bold-99\"/>\n     <path d=\"M 9.1875 72.90625 \nL 40.375 72.90625 \nQ 54.296875 72.90625 61.734375 66.71875 \nQ 69.1875 60.546875 69.1875 49.125 \nQ 69.1875 37.640625 61.734375 31.46875 \nQ 54.296875 25.296875 40.375 25.296875 \nL 27.984375 25.296875 \nL 27.984375 0 \nL 9.1875 0 \nz\nM 27.984375 59.28125 \nL 27.984375 38.921875 \nL 38.375 38.921875 \nQ 43.84375 38.921875 46.828125 41.578125 \nQ 49.8125 44.234375 49.8125 49.125 \nQ 49.8125 54 46.828125 56.640625 \nQ 43.84375 59.28125 38.375 59.28125 \nz\n\" id=\"DejaVuSans-Bold-80\"/>\n     <path d=\"M 7.8125 21.296875 \nL 7.8125 54.6875 \nL 25.390625 54.6875 \nL 25.390625 49.21875 \nQ 25.390625 44.78125 25.34375 38.0625 \nQ 25.296875 31.34375 25.296875 29.109375 \nQ 25.296875 22.515625 25.640625 19.609375 \nQ 25.984375 16.703125 26.8125 15.375 \nQ 27.875 13.671875 29.609375 12.734375 \nQ 31.34375 11.8125 33.59375 11.8125 \nQ 39.0625 11.8125 42.1875 16.015625 \nQ 45.3125 20.21875 45.3125 27.6875 \nL 45.3125 54.6875 \nL 62.796875 54.6875 \nL 62.796875 0 \nL 45.3125 0 \nL 45.3125 7.90625 \nQ 41.359375 3.125 36.9375 0.84375 \nQ 32.515625 -1.421875 27.203125 -1.421875 \nQ 17.71875 -1.421875 12.765625 4.390625 \nQ 7.8125 10.203125 7.8125 21.296875 \nz\n\" id=\"DejaVuSans-Bold-117\"/>\n     <path d=\"M 37.5 11.28125 \nQ 43.109375 11.28125 46.0625 15.375 \nQ 49.03125 19.484375 49.03125 27.296875 \nQ 49.03125 35.109375 46.0625 39.203125 \nQ 43.109375 43.3125 37.5 43.3125 \nQ 31.890625 43.3125 28.875 39.1875 \nQ 25.875 35.0625 25.875 27.296875 \nQ 25.875 19.53125 28.875 15.40625 \nQ 31.890625 11.28125 37.5 11.28125 \nz\nM 25.875 46.6875 \nQ 29.5 51.46875 33.890625 53.734375 \nQ 38.28125 56 44 56 \nQ 54.109375 56 60.59375 47.96875 \nQ 67.09375 39.9375 67.09375 27.296875 \nQ 67.09375 14.65625 60.59375 6.609375 \nQ 54.109375 -1.421875 44 -1.421875 \nQ 38.28125 -1.421875 33.890625 0.84375 \nQ 29.5 3.125 25.875 7.90625 \nL 25.875 0 \nL 8.40625 0 \nL 8.40625 75.984375 \nL 25.875 75.984375 \nz\n\" id=\"DejaVuSans-Bold-98\"/>\n     <path d=\"M 1.21875 54.6875 \nL 18.703125 54.6875 \nL 33.40625 17.578125 \nL 45.90625 54.6875 \nL 63.375 54.6875 \nL 40.375 -5.171875 \nQ 36.921875 -14.3125 32.296875 -17.9375 \nQ 27.6875 -21.578125 20.125 -21.578125 \nL 10.015625 -21.578125 \nL 10.015625 -10.109375 \nL 15.484375 -10.109375 \nQ 19.921875 -10.109375 21.9375 -8.6875 \nQ 23.96875 -7.28125 25.09375 -3.609375 \nL 25.59375 -2.09375 \nz\n\" id=\"DejaVuSans-Bold-121\"/>\n     <path d=\"M 9.1875 72.90625 \nL 27.984375 72.90625 \nL 27.984375 0 \nL 9.1875 0 \nz\n\" id=\"DejaVuSans-Bold-73\"/>\n     <path d=\"M 63.375 33.296875 \nL 63.375 0 \nL 45.796875 0 \nL 45.796875 5.421875 \nL 45.796875 25.484375 \nQ 45.796875 32.5625 45.484375 35.25 \nQ 45.171875 37.9375 44.390625 39.203125 \nQ 43.359375 40.921875 41.59375 41.875 \nQ 39.84375 42.828125 37.59375 42.828125 \nQ 32.125 42.828125 29 38.59375 \nQ 25.875 34.375 25.875 26.90625 \nL 25.875 0 \nL 8.40625 0 \nL 8.40625 54.6875 \nL 25.875 54.6875 \nL 25.875 46.6875 \nQ 29.828125 51.46875 34.265625 53.734375 \nQ 38.71875 56 44.09375 56 \nQ 53.5625 56 58.46875 50.1875 \nQ 63.375 44.390625 63.375 33.296875 \nz\n\" id=\"DejaVuSans-Bold-110\"/>\n    </defs>\n    <use xlink:href=\"#DejaVuSans-Bold-67\"/>\n    <use x=\"73.388672\" xlink:href=\"#DejaVuSans-Bold-111\"/>\n    <use x=\"142.089844\" xlink:href=\"#DejaVuSans-Bold-108\"/>\n    <use x=\"176.367188\" xlink:href=\"#DejaVuSans-Bold-111\"/>\n    <use x=\"245.068359\" xlink:href=\"#DejaVuSans-Bold-114\"/>\n    <use x=\"294.384766\" xlink:href=\"#DejaVuSans-Bold-97\"/>\n    <use x=\"361.865234\" xlink:href=\"#DejaVuSans-Bold-100\"/>\n    <use x=\"433.447266\" xlink:href=\"#DejaVuSans-Bold-111\"/>\n    <use x=\"502.148438\" xlink:href=\"#DejaVuSans-Bold-32\"/>\n    <use x=\"536.962891\" xlink:href=\"#DejaVuSans-Bold-71\"/>\n    <use x=\"619.042969\" xlink:href=\"#DejaVuSans-Bold-114\"/>\n    <use x=\"668.359375\" xlink:href=\"#DejaVuSans-Bold-111\"/>\n    <use x=\"737.060547\" xlink:href=\"#DejaVuSans-Bold-115\"/>\n    <use x=\"796.582031\" xlink:href=\"#DejaVuSans-Bold-115\"/>\n    <use x=\"856.103516\" xlink:href=\"#DejaVuSans-Bold-32\"/>\n    <use x=\"890.917969\" xlink:href=\"#DejaVuSans-Bold-68\"/>\n    <use x=\"973.925781\" xlink:href=\"#DejaVuSans-Bold-111\"/>\n    <use x=\"1042.626953\" xlink:href=\"#DejaVuSans-Bold-109\"/>\n    <use x=\"1146.826172\" xlink:href=\"#DejaVuSans-Bold-101\"/>\n    <use x=\"1214.648438\" xlink:href=\"#DejaVuSans-Bold-115\"/>\n    <use x=\"1274.169922\" xlink:href=\"#DejaVuSans-Bold-116\"/>\n    <use x=\"1321.972656\" xlink:href=\"#DejaVuSans-Bold-105\"/>\n    <use x=\"1356.25\" xlink:href=\"#DejaVuSans-Bold-99\"/>\n    <use x=\"1415.527344\" xlink:href=\"#DejaVuSans-Bold-32\"/>\n    <use x=\"1450.341797\" xlink:href=\"#DejaVuSans-Bold-80\"/>\n    <use x=\"1523.632812\" xlink:href=\"#DejaVuSans-Bold-114\"/>\n    <use x=\"1572.949219\" xlink:href=\"#DejaVuSans-Bold-111\"/>\n    <use x=\"1641.650391\" xlink:href=\"#DejaVuSans-Bold-100\"/>\n    <use x=\"1713.232422\" xlink:href=\"#DejaVuSans-Bold-117\"/>\n    <use x=\"1784.423828\" xlink:href=\"#DejaVuSans-Bold-99\"/>\n    <use x=\"1843.701172\" xlink:href=\"#DejaVuSans-Bold-116\"/>\n    <use x=\"1891.503906\" xlink:href=\"#DejaVuSans-Bold-32\"/>\n    <use x=\"1926.318359\" xlink:href=\"#DejaVuSans-Bold-98\"/>\n    <use x=\"1997.900391\" xlink:href=\"#DejaVuSans-Bold-121\"/>\n    <use x=\"2063.085938\" xlink:href=\"#DejaVuSans-Bold-32\"/>\n    <use x=\"2097.900391\" xlink:href=\"#DejaVuSans-Bold-73\"/>\n    <use x=\"2135.107422\" xlink:href=\"#DejaVuSans-Bold-110\"/>\n    <use x=\"2206.298828\" xlink:href=\"#DejaVuSans-Bold-100\"/>\n    <use x=\"2277.880859\" xlink:href=\"#DejaVuSans-Bold-117\"/>\n    <use x=\"2349.072266\" xlink:href=\"#DejaVuSans-Bold-115\"/>\n    <use x=\"2408.59375\" xlink:href=\"#DejaVuSans-Bold-116\"/>\n    <use x=\"2456.396484\" xlink:href=\"#DejaVuSans-Bold-114\"/>\n    <use x=\"2505.712891\" xlink:href=\"#DejaVuSans-Bold-121\"/>\n   </g>\n  </g>\n </g>\n <defs>\n  <clipPath id=\"p35c7f579cc\">\n   <rect height=\"380.52\" width=\"669.6\" x=\"71.4625\" y=\"57.6\"/>\n  </clipPath>\n </defs>\n</svg>\n",
      "image/png": "[encoded data removed]"
     },
     "metadata": {
      "needs_background": "light"
     }
    }
   ],
   "source": [
    "#TOTAL COLORADO GDP BY INDUSTRY\n",
    "#READING DATA\n",
    "DetailedGDP = pd.read_csv(\"../data/cleandata/COGDPDetailed.csv\")\n",
    "DetailedGDP.set_index(\"Description\", inplace=True)\n",
    "#DetailedGDP.head(10)\n",
    "\n",
    "\n",
    "#DetailedGDP.T.plot.bar(stacked=True, figsize=(12,7), cmap=\"mako\")\n",
    "plt.figure(figsize=(8,5))\n",
    "plt.plot(SomeGDP, linestyle='-', marker='.')\n",
    "\n",
    "plt.suptitle('Total GDP for Direct Cannabis Related Industries (2010 - 2018)', weight='bold')\n",
    "plt.xlabel('Year')\n",
    "plt.ylabel('Dollar Amount')\n",
    "plt.ticklabel_format(style='plain', axis='y')plt.suptitle('Colorado Gross Domestic Product by Industry', weight='bold')\n",
    "plt.ticklabel_format(style='plain', axis='y')"
   ]
  },
  {
   "cell_type": "code",
   "execution_count": 41,
   "metadata": {},
   "outputs": [
    {
     "output_type": "display_data",
     "data": {
      "text/plain": "<Figure size 576x360 with 1 Axes>",
      "image/svg+xml": "<?xml version=\"1.0\" encoding=\"utf-8\" standalone=\"no\"?>\n<!DOCTYPE svg PUBLIC \"-//W3C//DTD SVG 1.1//EN\"\n  \"http://www.w3.org/Graphics/SVG/1.1/DTD/svg11.dtd\">\n<!-- Created with matplotlib (https://matplotlib.org/) -->\n<svg height=\"352.55625pt\" version=\"1.1\" viewBox=\"0 0 532.378125 352.55625\" width=\"532.378125pt\" xmlns=\"http://www.w3.org/2000/svg\" xmlns:xlink=\"http://www.w3.org/1999/xlink\">\n <metadata>\n  <rdf:RDF xmlns:cc=\"http://creativecommons.org/ns#\" xmlns:dc=\"http://purl.org/dc/elements/1.1/\" xmlns:rdf=\"http://www.w3.org/1999/02/22-rdf-syntax-ns#\">\n   <cc:Work>\n    <dc:type rdf:resource=\"http://purl.org/dc/dcmitype/StillImage\"/>\n    <dc:date>2020-11-07T07:30:52.626603</dc:date>\n    <dc:format>image/svg+xml</dc:format>\n    <dc:creator>\n     <cc:Agent>\n      <dc:title>Matplotlib v3.3.1, https://matplotlib.org/</dc:title>\n     </cc:Agent>\n    </dc:creator>\n   </cc:Work>\n  </rdf:RDF>\n </metadata>\n <defs>\n  <style type=\"text/css\">*{stroke-linecap:butt;stroke-linejoin:round;}</style>\n </defs>\n <g id=\"figure_1\">\n  <g id=\"patch_1\">\n   <path d=\"M 0 352.55625 \nL 532.378125 352.55625 \nL 532.378125 0 \nL 0 0 \nz\n\" style=\"fill:none;\"/>\n  </g>\n  <g id=\"axes_1\">\n   <g id=\"patch_2\">\n    <path d=\"M 78.778125 315 \nL 525.178125 315 \nL 525.178125 43.2 \nL 78.778125 43.2 \nz\n\" style=\"fill:#ffffff;\"/>\n   </g>\n   <g id=\"matplotlib.axis_1\">\n    <g id=\"xtick_1\">\n     <g id=\"line2d_1\">\n      <path clip-path=\"url(#p3cc3f410c6)\" d=\"M 99.069034 315 \nL 99.069034 43.2 \n\" style=\"fill:none;stroke:#b0b0b0;stroke-linecap:square;stroke-width:0.8;\"/>\n     </g>\n     <g id=\"line2d_2\">\n      <defs>\n       <path d=\"M 0 0 \nL 0 3.5 \n\" id=\"m4c32c285df\" style=\"stroke:#000000;stroke-width:0.8;\"/>\n      </defs>\n      <g>\n       <use style=\"stroke:#000000;stroke-width:0.8;\" x=\"99.069034\" xlink:href=\"#m4c32c285df\" y=\"315\"/>\n      </g>\n     </g>\n     <g id=\"text_1\">\n      <!-- 2010 -->\n      <g transform=\"translate(86.344034 329.598437)scale(0.1 -0.1)\">\n       <defs>\n        <path d=\"M 19.1875 8.296875 \nL 53.609375 8.296875 \nL 53.609375 0 \nL 7.328125 0 \nL 7.328125 8.296875 \nQ 12.9375 14.109375 22.625 23.890625 \nQ 32.328125 33.6875 34.8125 36.53125 \nQ 39.546875 41.84375 41.421875 45.53125 \nQ 43.3125 49.21875 43.3125 52.78125 \nQ 43.3125 58.59375 39.234375 62.25 \nQ 35.15625 65.921875 28.609375 65.921875 \nQ 23.96875 65.921875 18.8125 64.3125 \nQ 13.671875 62.703125 7.8125 59.421875 \nL 7.8125 69.390625 \nQ 13.765625 71.78125 18.9375 73 \nQ 24.125 74.21875 28.421875 74.21875 \nQ 39.75 74.21875 46.484375 68.546875 \nQ 53.21875 62.890625 53.21875 53.421875 \nQ 53.21875 48.921875 51.53125 44.890625 \nQ 49.859375 40.875 45.40625 35.40625 \nQ 44.1875 33.984375 37.640625 27.21875 \nQ 31.109375 20.453125 19.1875 8.296875 \nz\n\" id=\"DejaVuSans-50\"/>\n        <path d=\"M 31.78125 66.40625 \nQ 24.171875 66.40625 20.328125 58.90625 \nQ 16.5 51.421875 16.5 36.375 \nQ 16.5 21.390625 20.328125 13.890625 \nQ 24.171875 6.390625 31.78125 6.390625 \nQ 39.453125 6.390625 43.28125 13.890625 \nQ 47.125 21.390625 47.125 36.375 \nQ 47.125 51.421875 43.28125 58.90625 \nQ 39.453125 66.40625 31.78125 66.40625 \nz\nM 31.78125 74.21875 \nQ 44.046875 74.21875 50.515625 64.515625 \nQ 56.984375 54.828125 56.984375 36.375 \nQ 56.984375 17.96875 50.515625 8.265625 \nQ 44.046875 -1.421875 31.78125 -1.421875 \nQ 19.53125 -1.421875 13.0625 8.265625 \nQ 6.59375 17.96875 6.59375 36.375 \nQ 6.59375 54.828125 13.0625 64.515625 \nQ 19.53125 74.21875 31.78125 74.21875 \nz\n\" id=\"DejaVuSans-48\"/>\n        <path d=\"M 12.40625 8.296875 \nL 28.515625 8.296875 \nL 28.515625 63.921875 \nL 10.984375 60.40625 \nL 10.984375 69.390625 \nL 28.421875 72.90625 \nL 38.28125 72.90625 \nL 38.28125 8.296875 \nL 54.390625 8.296875 \nL 54.390625 0 \nL 12.40625 0 \nz\n\" id=\"DejaVuSans-49\"/>\n       </defs>\n       <use xlink:href=\"#DejaVuSans-50\"/>\n       <use x=\"63.623047\" xlink:href=\"#DejaVuSans-48\"/>\n       <use x=\"127.246094\" xlink:href=\"#DejaVuSans-49\"/>\n       <use x=\"190.869141\" xlink:href=\"#DejaVuSans-48\"/>\n      </g>\n     </g>\n    </g>\n    <g id=\"xtick_2\">\n     <g id=\"line2d_3\">\n      <path clip-path=\"url(#p3cc3f410c6)\" d=\"M 149.796307 315 \nL 149.796307 43.2 \n\" style=\"fill:none;stroke:#b0b0b0;stroke-linecap:square;stroke-width:0.8;\"/>\n     </g>\n     <g id=\"line2d_4\">\n      <g>\n       <use style=\"stroke:#000000;stroke-width:0.8;\" x=\"149.796307\" xlink:href=\"#m4c32c285df\" y=\"315\"/>\n      </g>\n     </g>\n     <g id=\"text_2\">\n      <!-- 2011 -->\n      <g transform=\"translate(137.071307 329.598437)scale(0.1 -0.1)\">\n       <use xlink:href=\"#DejaVuSans-50\"/>\n       <use x=\"63.623047\" xlink:href=\"#DejaVuSans-48\"/>\n       <use x=\"127.246094\" xlink:href=\"#DejaVuSans-49\"/>\n       <use x=\"190.869141\" xlink:href=\"#DejaVuSans-49\"/>\n      </g>\n     </g>\n    </g>\n    <g id=\"xtick_3\">\n     <g id=\"line2d_5\">\n      <path clip-path=\"url(#p3cc3f410c6)\" d=\"M 200.52358 315 \nL 200.52358 43.2 \n\" style=\"fill:none;stroke:#b0b0b0;stroke-linecap:square;stroke-width:0.8;\"/>\n     </g>\n     <g id=\"line2d_6\">\n      <g>\n       <use style=\"stroke:#000000;stroke-width:0.8;\" x=\"200.52358\" xlink:href=\"#m4c32c285df\" y=\"315\"/>\n      </g>\n     </g>\n     <g id=\"text_3\">\n      <!-- 2012 -->\n      <g transform=\"translate(187.79858 329.598437)scale(0.1 -0.1)\">\n       <use xlink:href=\"#DejaVuSans-50\"/>\n       <use x=\"63.623047\" xlink:href=\"#DejaVuSans-48\"/>\n       <use x=\"127.246094\" xlink:href=\"#DejaVuSans-49\"/>\n       <use x=\"190.869141\" xlink:href=\"#DejaVuSans-50\"/>\n      </g>\n     </g>\n    </g>\n    <g id=\"xtick_4\">\n     <g id=\"line2d_7\">\n      <path clip-path=\"url(#p3cc3f410c6)\" d=\"M 251.250852 315 \nL 251.250852 43.2 \n\" style=\"fill:none;stroke:#b0b0b0;stroke-linecap:square;stroke-width:0.8;\"/>\n     </g>\n     <g id=\"line2d_8\">\n      <g>\n       <use style=\"stroke:#000000;stroke-width:0.8;\" x=\"251.250852\" xlink:href=\"#m4c32c285df\" y=\"315\"/>\n      </g>\n     </g>\n     <g id=\"text_4\">\n      <!-- 2013 -->\n      <g transform=\"translate(238.525852 329.598437)scale(0.1 -0.1)\">\n       <defs>\n        <path d=\"M 40.578125 39.3125 \nQ 47.65625 37.796875 51.625 33 \nQ 55.609375 28.21875 55.609375 21.1875 \nQ 55.609375 10.40625 48.1875 4.484375 \nQ 40.765625 -1.421875 27.09375 -1.421875 \nQ 22.515625 -1.421875 17.65625 -0.515625 \nQ 12.796875 0.390625 7.625 2.203125 \nL 7.625 11.71875 \nQ 11.71875 9.328125 16.59375 8.109375 \nQ 21.484375 6.890625 26.8125 6.890625 \nQ 36.078125 6.890625 40.9375 10.546875 \nQ 45.796875 14.203125 45.796875 21.1875 \nQ 45.796875 27.640625 41.28125 31.265625 \nQ 36.765625 34.90625 28.71875 34.90625 \nL 20.21875 34.90625 \nL 20.21875 43.015625 \nL 29.109375 43.015625 \nQ 36.375 43.015625 40.234375 45.921875 \nQ 44.09375 48.828125 44.09375 54.296875 \nQ 44.09375 59.90625 40.109375 62.90625 \nQ 36.140625 65.921875 28.71875 65.921875 \nQ 24.65625 65.921875 20.015625 65.03125 \nQ 15.375 64.15625 9.8125 62.3125 \nL 9.8125 71.09375 \nQ 15.4375 72.65625 20.34375 73.4375 \nQ 25.25 74.21875 29.59375 74.21875 \nQ 40.828125 74.21875 47.359375 69.109375 \nQ 53.90625 64.015625 53.90625 55.328125 \nQ 53.90625 49.265625 50.4375 45.09375 \nQ 46.96875 40.921875 40.578125 39.3125 \nz\n\" id=\"DejaVuSans-51\"/>\n       </defs>\n       <use xlink:href=\"#DejaVuSans-50\"/>\n       <use x=\"63.623047\" xlink:href=\"#DejaVuSans-48\"/>\n       <use x=\"127.246094\" xlink:href=\"#DejaVuSans-49\"/>\n       <use x=\"190.869141\" xlink:href=\"#DejaVuSans-51\"/>\n      </g>\n     </g>\n    </g>\n    <g id=\"xtick_5\">\n     <g id=\"line2d_9\">\n      <path clip-path=\"url(#p3cc3f410c6)\" d=\"M 301.978125 315 \nL 301.978125 43.2 \n\" style=\"fill:none;stroke:#b0b0b0;stroke-linecap:square;stroke-width:0.8;\"/>\n     </g>\n     <g id=\"line2d_10\">\n      <g>\n       <use style=\"stroke:#000000;stroke-width:0.8;\" x=\"301.978125\" xlink:href=\"#m4c32c285df\" y=\"315\"/>\n      </g>\n     </g>\n     <g id=\"text_5\">\n      <!-- 2014 -->\n      <g transform=\"translate(289.253125 329.598437)scale(0.1 -0.1)\">\n       <defs>\n        <path d=\"M 37.796875 64.3125 \nL 12.890625 25.390625 \nL 37.796875 25.390625 \nz\nM 35.203125 72.90625 \nL 47.609375 72.90625 \nL 47.609375 25.390625 \nL 58.015625 25.390625 \nL 58.015625 17.1875 \nL 47.609375 17.1875 \nL 47.609375 0 \nL 37.796875 0 \nL 37.796875 17.1875 \nL 4.890625 17.1875 \nL 4.890625 26.703125 \nz\n\" id=\"DejaVuSans-52\"/>\n       </defs>\n       <use xlink:href=\"#DejaVuSans-50\"/>\n       <use x=\"63.623047\" xlink:href=\"#DejaVuSans-48\"/>\n       <use x=\"127.246094\" xlink:href=\"#DejaVuSans-49\"/>\n       <use x=\"190.869141\" xlink:href=\"#DejaVuSans-52\"/>\n      </g>\n     </g>\n    </g>\n    <g id=\"xtick_6\">\n     <g id=\"line2d_11\">\n      <path clip-path=\"url(#p3cc3f410c6)\" d=\"M 352.705398 315 \nL 352.705398 43.2 \n\" style=\"fill:none;stroke:#b0b0b0;stroke-linecap:square;stroke-width:0.8;\"/>\n     </g>\n     <g id=\"line2d_12\">\n      <g>\n       <use style=\"stroke:#000000;stroke-width:0.8;\" x=\"352.705398\" xlink:href=\"#m4c32c285df\" y=\"315\"/>\n      </g>\n     </g>\n     <g id=\"text_6\">\n      <!-- 2015 -->\n      <g transform=\"translate(339.980398 329.598437)scale(0.1 -0.1)\">\n       <defs>\n        <path d=\"M 10.796875 72.90625 \nL 49.515625 72.90625 \nL 49.515625 64.59375 \nL 19.828125 64.59375 \nL 19.828125 46.734375 \nQ 21.96875 47.46875 24.109375 47.828125 \nQ 26.265625 48.1875 28.421875 48.1875 \nQ 40.625 48.1875 47.75 41.5 \nQ 54.890625 34.8125 54.890625 23.390625 \nQ 54.890625 11.625 47.5625 5.09375 \nQ 40.234375 -1.421875 26.90625 -1.421875 \nQ 22.3125 -1.421875 17.546875 -0.640625 \nQ 12.796875 0.140625 7.71875 1.703125 \nL 7.71875 11.625 \nQ 12.109375 9.234375 16.796875 8.0625 \nQ 21.484375 6.890625 26.703125 6.890625 \nQ 35.15625 6.890625 40.078125 11.328125 \nQ 45.015625 15.765625 45.015625 23.390625 \nQ 45.015625 31 40.078125 35.4375 \nQ 35.15625 39.890625 26.703125 39.890625 \nQ 22.75 39.890625 18.8125 39.015625 \nQ 14.890625 38.140625 10.796875 36.28125 \nz\n\" id=\"DejaVuSans-53\"/>\n       </defs>\n       <use xlink:href=\"#DejaVuSans-50\"/>\n       <use x=\"63.623047\" xlink:href=\"#DejaVuSans-48\"/>\n       <use x=\"127.246094\" xlink:href=\"#DejaVuSans-49\"/>\n       <use x=\"190.869141\" xlink:href=\"#DejaVuSans-53\"/>\n      </g>\n     </g>\n    </g>\n    <g id=\"xtick_7\">\n     <g id=\"line2d_13\">\n      <path clip-path=\"url(#p3cc3f410c6)\" d=\"M 403.43267 315 \nL 403.43267 43.2 \n\" style=\"fill:none;stroke:#b0b0b0;stroke-linecap:square;stroke-width:0.8;\"/>\n     </g>\n     <g id=\"line2d_14\">\n      <g>\n       <use style=\"stroke:#000000;stroke-width:0.8;\" x=\"403.43267\" xlink:href=\"#m4c32c285df\" y=\"315\"/>\n      </g>\n     </g>\n     <g id=\"text_7\">\n      <!-- 2016 -->\n      <g transform=\"translate(390.70767 329.598437)scale(0.1 -0.1)\">\n       <defs>\n        <path d=\"M 33.015625 40.375 \nQ 26.375 40.375 22.484375 35.828125 \nQ 18.609375 31.296875 18.609375 23.390625 \nQ 18.609375 15.53125 22.484375 10.953125 \nQ 26.375 6.390625 33.015625 6.390625 \nQ 39.65625 6.390625 43.53125 10.953125 \nQ 47.40625 15.53125 47.40625 23.390625 \nQ 47.40625 31.296875 43.53125 35.828125 \nQ 39.65625 40.375 33.015625 40.375 \nz\nM 52.59375 71.296875 \nL 52.59375 62.3125 \nQ 48.875 64.0625 45.09375 64.984375 \nQ 41.3125 65.921875 37.59375 65.921875 \nQ 27.828125 65.921875 22.671875 59.328125 \nQ 17.53125 52.734375 16.796875 39.40625 \nQ 19.671875 43.65625 24.015625 45.921875 \nQ 28.375 48.1875 33.59375 48.1875 \nQ 44.578125 48.1875 50.953125 41.515625 \nQ 57.328125 34.859375 57.328125 23.390625 \nQ 57.328125 12.15625 50.6875 5.359375 \nQ 44.046875 -1.421875 33.015625 -1.421875 \nQ 20.359375 -1.421875 13.671875 8.265625 \nQ 6.984375 17.96875 6.984375 36.375 \nQ 6.984375 53.65625 15.1875 63.9375 \nQ 23.390625 74.21875 37.203125 74.21875 \nQ 40.921875 74.21875 44.703125 73.484375 \nQ 48.484375 72.75 52.59375 71.296875 \nz\n\" id=\"DejaVuSans-54\"/>\n       </defs>\n       <use xlink:href=\"#DejaVuSans-50\"/>\n       <use x=\"63.623047\" xlink:href=\"#DejaVuSans-48\"/>\n       <use x=\"127.246094\" xlink:href=\"#DejaVuSans-49\"/>\n       <use x=\"190.869141\" xlink:href=\"#DejaVuSans-54\"/>\n      </g>\n     </g>\n    </g>\n    <g id=\"xtick_8\">\n     <g id=\"line2d_15\">\n      <path clip-path=\"url(#p3cc3f410c6)\" d=\"M 454.159943 315 \nL 454.159943 43.2 \n\" style=\"fill:none;stroke:#b0b0b0;stroke-linecap:square;stroke-width:0.8;\"/>\n     </g>\n     <g id=\"line2d_16\">\n      <g>\n       <use style=\"stroke:#000000;stroke-width:0.8;\" x=\"454.159943\" xlink:href=\"#m4c32c285df\" y=\"315\"/>\n      </g>\n     </g>\n     <g id=\"text_8\">\n      <!-- 2017 -->\n      <g transform=\"translate(441.434943 329.598437)scale(0.1 -0.1)\">\n       <defs>\n        <path d=\"M 8.203125 72.90625 \nL 55.078125 72.90625 \nL 55.078125 68.703125 \nL 28.609375 0 \nL 18.3125 0 \nL 43.21875 64.59375 \nL 8.203125 64.59375 \nz\n\" id=\"DejaVuSans-55\"/>\n       </defs>\n       <use xlink:href=\"#DejaVuSans-50\"/>\n       <use x=\"63.623047\" xlink:href=\"#DejaVuSans-48\"/>\n       <use x=\"127.246094\" xlink:href=\"#DejaVuSans-49\"/>\n       <use x=\"190.869141\" xlink:href=\"#DejaVuSans-55\"/>\n      </g>\n     </g>\n    </g>\n    <g id=\"xtick_9\">\n     <g id=\"line2d_17\">\n      <path clip-path=\"url(#p3cc3f410c6)\" d=\"M 504.887216 315 \nL 504.887216 43.2 \n\" style=\"fill:none;stroke:#b0b0b0;stroke-linecap:square;stroke-width:0.8;\"/>\n     </g>\n     <g id=\"line2d_18\">\n      <g>\n       <use style=\"stroke:#000000;stroke-width:0.8;\" x=\"504.887216\" xlink:href=\"#m4c32c285df\" y=\"315\"/>\n      </g>\n     </g>\n     <g id=\"text_9\">\n      <!-- 2018 -->\n      <g transform=\"translate(492.162216 329.598437)scale(0.1 -0.1)\">\n       <defs>\n        <path d=\"M 31.78125 34.625 \nQ 24.75 34.625 20.71875 30.859375 \nQ 16.703125 27.09375 16.703125 20.515625 \nQ 16.703125 13.921875 20.71875 10.15625 \nQ 24.75 6.390625 31.78125 6.390625 \nQ 38.8125 6.390625 42.859375 10.171875 \nQ 46.921875 13.96875 46.921875 20.515625 \nQ 46.921875 27.09375 42.890625 30.859375 \nQ 38.875 34.625 31.78125 34.625 \nz\nM 21.921875 38.8125 \nQ 15.578125 40.375 12.03125 44.71875 \nQ 8.5 49.078125 8.5 55.328125 \nQ 8.5 64.0625 14.71875 69.140625 \nQ 20.953125 74.21875 31.78125 74.21875 \nQ 42.671875 74.21875 48.875 69.140625 \nQ 55.078125 64.0625 55.078125 55.328125 \nQ 55.078125 49.078125 51.53125 44.71875 \nQ 48 40.375 41.703125 38.8125 \nQ 48.828125 37.15625 52.796875 32.3125 \nQ 56.78125 27.484375 56.78125 20.515625 \nQ 56.78125 9.90625 50.3125 4.234375 \nQ 43.84375 -1.421875 31.78125 -1.421875 \nQ 19.734375 -1.421875 13.25 4.234375 \nQ 6.78125 9.90625 6.78125 20.515625 \nQ 6.78125 27.484375 10.78125 32.3125 \nQ 14.796875 37.15625 21.921875 38.8125 \nz\nM 18.3125 54.390625 \nQ 18.3125 48.734375 21.84375 45.5625 \nQ 25.390625 42.390625 31.78125 42.390625 \nQ 38.140625 42.390625 41.71875 45.5625 \nQ 45.3125 48.734375 45.3125 54.390625 \nQ 45.3125 60.0625 41.71875 63.234375 \nQ 38.140625 66.40625 31.78125 66.40625 \nQ 25.390625 66.40625 21.84375 63.234375 \nQ 18.3125 60.0625 18.3125 54.390625 \nz\n\" id=\"DejaVuSans-56\"/>\n       </defs>\n       <use xlink:href=\"#DejaVuSans-50\"/>\n       <use x=\"63.623047\" xlink:href=\"#DejaVuSans-48\"/>\n       <use x=\"127.246094\" xlink:href=\"#DejaVuSans-49\"/>\n       <use x=\"190.869141\" xlink:href=\"#DejaVuSans-56\"/>\n      </g>\n     </g>\n    </g>\n    <g id=\"text_10\">\n     <!-- Year -->\n     <g transform=\"translate(291.390625 343.276562)scale(0.1 -0.1)\">\n      <defs>\n       <path d=\"M -0.203125 72.90625 \nL 10.40625 72.90625 \nL 30.609375 42.921875 \nL 50.6875 72.90625 \nL 61.28125 72.90625 \nL 35.5 34.71875 \nL 35.5 0 \nL 25.59375 0 \nL 25.59375 34.71875 \nz\n\" id=\"DejaVuSans-89\"/>\n       <path d=\"M 56.203125 29.59375 \nL 56.203125 25.203125 \nL 14.890625 25.203125 \nQ 15.484375 15.921875 20.484375 11.0625 \nQ 25.484375 6.203125 34.421875 6.203125 \nQ 39.59375 6.203125 44.453125 7.46875 \nQ 49.3125 8.734375 54.109375 11.28125 \nL 54.109375 2.78125 \nQ 49.265625 0.734375 44.1875 -0.34375 \nQ 39.109375 -1.421875 33.890625 -1.421875 \nQ 20.796875 -1.421875 13.15625 6.1875 \nQ 5.515625 13.8125 5.515625 26.8125 \nQ 5.515625 40.234375 12.765625 48.109375 \nQ 20.015625 56 32.328125 56 \nQ 43.359375 56 49.78125 48.890625 \nQ 56.203125 41.796875 56.203125 29.59375 \nz\nM 47.21875 32.234375 \nQ 47.125 39.59375 43.09375 43.984375 \nQ 39.0625 48.390625 32.421875 48.390625 \nQ 24.90625 48.390625 20.390625 44.140625 \nQ 15.875 39.890625 15.1875 32.171875 \nz\n\" id=\"DejaVuSans-101\"/>\n       <path d=\"M 34.28125 27.484375 \nQ 23.390625 27.484375 19.1875 25 \nQ 14.984375 22.515625 14.984375 16.5 \nQ 14.984375 11.71875 18.140625 8.90625 \nQ 21.296875 6.109375 26.703125 6.109375 \nQ 34.1875 6.109375 38.703125 11.40625 \nQ 43.21875 16.703125 43.21875 25.484375 \nL 43.21875 27.484375 \nz\nM 52.203125 31.203125 \nL 52.203125 0 \nL 43.21875 0 \nL 43.21875 8.296875 \nQ 40.140625 3.328125 35.546875 0.953125 \nQ 30.953125 -1.421875 24.3125 -1.421875 \nQ 15.921875 -1.421875 10.953125 3.296875 \nQ 6 8.015625 6 15.921875 \nQ 6 25.140625 12.171875 29.828125 \nQ 18.359375 34.515625 30.609375 34.515625 \nL 43.21875 34.515625 \nL 43.21875 35.40625 \nQ 43.21875 41.609375 39.140625 45 \nQ 35.0625 48.390625 27.6875 48.390625 \nQ 23 48.390625 18.546875 47.265625 \nQ 14.109375 46.140625 10.015625 43.890625 \nL 10.015625 52.203125 \nQ 14.9375 54.109375 19.578125 55.046875 \nQ 24.21875 56 28.609375 56 \nQ 40.484375 56 46.34375 49.84375 \nQ 52.203125 43.703125 52.203125 31.203125 \nz\n\" id=\"DejaVuSans-97\"/>\n       <path d=\"M 41.109375 46.296875 \nQ 39.59375 47.171875 37.8125 47.578125 \nQ 36.03125 48 33.890625 48 \nQ 26.265625 48 22.1875 43.046875 \nQ 18.109375 38.09375 18.109375 28.8125 \nL 18.109375 0 \nL 9.078125 0 \nL 9.078125 54.6875 \nL 18.109375 54.6875 \nL 18.109375 46.1875 \nQ 20.953125 51.171875 25.484375 53.578125 \nQ 30.03125 56 36.53125 56 \nQ 37.453125 56 38.578125 55.875 \nQ 39.703125 55.765625 41.0625 55.515625 \nz\n\" id=\"DejaVuSans-114\"/>\n      </defs>\n      <use xlink:href=\"#DejaVuSans-89\"/>\n      <use x=\"47.833984\" xlink:href=\"#DejaVuSans-101\"/>\n      <use x=\"109.357422\" xlink:href=\"#DejaVuSans-97\"/>\n      <use x=\"170.636719\" xlink:href=\"#DejaVuSans-114\"/>\n     </g>\n    </g>\n   </g>\n   <g id=\"matplotlib.axis_2\">\n    <g id=\"ytick_1\">\n     <g id=\"line2d_19\">\n      <path clip-path=\"url(#p3cc3f410c6)\" d=\"M 78.778125 265.187956 \nL 525.178125 265.187956 \n\" style=\"fill:none;stroke:#b0b0b0;stroke-linecap:square;stroke-width:0.8;\"/>\n     </g>\n     <g id=\"line2d_20\">\n      <defs>\n       <path d=\"M 0 0 \nL -3.5 0 \n\" id=\"m4e0abd89b3\" style=\"stroke:#000000;stroke-width:0.8;\"/>\n      </defs>\n      <g>\n       <use style=\"stroke:#000000;stroke-width:0.8;\" x=\"78.778125\" xlink:href=\"#m4e0abd89b3\" y=\"265.187956\"/>\n      </g>\n     </g>\n     <g id=\"text_11\">\n      <!-- 10000000 -->\n      <g transform=\"translate(20.878125 268.987175)scale(0.1 -0.1)\">\n       <use xlink:href=\"#DejaVuSans-49\"/>\n       <use x=\"63.623047\" xlink:href=\"#DejaVuSans-48\"/>\n       <use x=\"127.246094\" xlink:href=\"#DejaVuSans-48\"/>\n       <use x=\"190.869141\" xlink:href=\"#DejaVuSans-48\"/>\n       <use x=\"254.492188\" xlink:href=\"#DejaVuSans-48\"/>\n       <use x=\"318.115234\" xlink:href=\"#DejaVuSans-48\"/>\n       <use x=\"381.738281\" xlink:href=\"#DejaVuSans-48\"/>\n       <use x=\"445.361328\" xlink:href=\"#DejaVuSans-48\"/>\n      </g>\n     </g>\n    </g>\n    <g id=\"ytick_2\">\n     <g id=\"line2d_21\">\n      <path clip-path=\"url(#p3cc3f410c6)\" d=\"M 78.778125 214.84365 \nL 525.178125 214.84365 \n\" style=\"fill:none;stroke:#b0b0b0;stroke-linecap:square;stroke-width:0.8;\"/>\n     </g>\n     <g id=\"line2d_22\">\n      <g>\n       <use style=\"stroke:#000000;stroke-width:0.8;\" x=\"78.778125\" xlink:href=\"#m4e0abd89b3\" y=\"214.84365\"/>\n      </g>\n     </g>\n     <g id=\"text_12\">\n      <!-- 20000000 -->\n      <g transform=\"translate(20.878125 218.642868)scale(0.1 -0.1)\">\n       <use xlink:href=\"#DejaVuSans-50\"/>\n       <use x=\"63.623047\" xlink:href=\"#DejaVuSans-48\"/>\n       <use x=\"127.246094\" xlink:href=\"#DejaVuSans-48\"/>\n       <use x=\"190.869141\" xlink:href=\"#DejaVuSans-48\"/>\n       <use x=\"254.492188\" xlink:href=\"#DejaVuSans-48\"/>\n       <use x=\"318.115234\" xlink:href=\"#DejaVuSans-48\"/>\n       <use x=\"381.738281\" xlink:href=\"#DejaVuSans-48\"/>\n       <use x=\"445.361328\" xlink:href=\"#DejaVuSans-48\"/>\n      </g>\n     </g>\n    </g>\n    <g id=\"ytick_3\">\n     <g id=\"line2d_23\">\n      <path clip-path=\"url(#p3cc3f410c6)\" d=\"M 78.778125 164.499343 \nL 525.178125 164.499343 \n\" style=\"fill:none;stroke:#b0b0b0;stroke-linecap:square;stroke-width:0.8;\"/>\n     </g>\n     <g id=\"line2d_24\">\n      <g>\n       <use style=\"stroke:#000000;stroke-width:0.8;\" x=\"78.778125\" xlink:href=\"#m4e0abd89b3\" y=\"164.499343\"/>\n      </g>\n     </g>\n     <g id=\"text_13\">\n      <!-- 30000000 -->\n      <g transform=\"translate(20.878125 168.298562)scale(0.1 -0.1)\">\n       <use xlink:href=\"#DejaVuSans-51\"/>\n       <use x=\"63.623047\" xlink:href=\"#DejaVuSans-48\"/>\n       <use x=\"127.246094\" xlink:href=\"#DejaVuSans-48\"/>\n       <use x=\"190.869141\" xlink:href=\"#DejaVuSans-48\"/>\n       <use x=\"254.492188\" xlink:href=\"#DejaVuSans-48\"/>\n       <use x=\"318.115234\" xlink:href=\"#DejaVuSans-48\"/>\n       <use x=\"381.738281\" xlink:href=\"#DejaVuSans-48\"/>\n       <use x=\"445.361328\" xlink:href=\"#DejaVuSans-48\"/>\n      </g>\n     </g>\n    </g>\n    <g id=\"ytick_4\">\n     <g id=\"line2d_25\">\n      <path clip-path=\"url(#p3cc3f410c6)\" d=\"M 78.778125 114.155036 \nL 525.178125 114.155036 \n\" style=\"fill:none;stroke:#b0b0b0;stroke-linecap:square;stroke-width:0.8;\"/>\n     </g>\n     <g id=\"line2d_26\">\n      <g>\n       <use style=\"stroke:#000000;stroke-width:0.8;\" x=\"78.778125\" xlink:href=\"#m4e0abd89b3\" y=\"114.155036\"/>\n      </g>\n     </g>\n     <g id=\"text_14\">\n      <!-- 40000000 -->\n      <g transform=\"translate(20.878125 117.954255)scale(0.1 -0.1)\">\n       <use xlink:href=\"#DejaVuSans-52\"/>\n       <use x=\"63.623047\" xlink:href=\"#DejaVuSans-48\"/>\n       <use x=\"127.246094\" xlink:href=\"#DejaVuSans-48\"/>\n       <use x=\"190.869141\" xlink:href=\"#DejaVuSans-48\"/>\n       <use x=\"254.492188\" xlink:href=\"#DejaVuSans-48\"/>\n       <use x=\"318.115234\" xlink:href=\"#DejaVuSans-48\"/>\n       <use x=\"381.738281\" xlink:href=\"#DejaVuSans-48\"/>\n       <use x=\"445.361328\" xlink:href=\"#DejaVuSans-48\"/>\n      </g>\n     </g>\n    </g>\n    <g id=\"ytick_5\">\n     <g id=\"line2d_27\">\n      <path clip-path=\"url(#p3cc3f410c6)\" d=\"M 78.778125 63.81073 \nL 525.178125 63.81073 \n\" style=\"fill:none;stroke:#b0b0b0;stroke-linecap:square;stroke-width:0.8;\"/>\n     </g>\n     <g id=\"line2d_28\">\n      <g>\n       <use style=\"stroke:#000000;stroke-width:0.8;\" x=\"78.778125\" xlink:href=\"#m4e0abd89b3\" y=\"63.81073\"/>\n      </g>\n     </g>\n     <g id=\"text_15\">\n      <!-- 50000000 -->\n      <g transform=\"translate(20.878125 67.609949)scale(0.1 -0.1)\">\n       <use xlink:href=\"#DejaVuSans-53\"/>\n       <use x=\"63.623047\" xlink:href=\"#DejaVuSans-48\"/>\n       <use x=\"127.246094\" xlink:href=\"#DejaVuSans-48\"/>\n       <use x=\"190.869141\" xlink:href=\"#DejaVuSans-48\"/>\n       <use x=\"254.492188\" xlink:href=\"#DejaVuSans-48\"/>\n       <use x=\"318.115234\" xlink:href=\"#DejaVuSans-48\"/>\n       <use x=\"381.738281\" xlink:href=\"#DejaVuSans-48\"/>\n       <use x=\"445.361328\" xlink:href=\"#DejaVuSans-48\"/>\n      </g>\n     </g>\n    </g>\n    <g id=\"text_16\">\n     <!-- Dollar Amount -->\n     <g transform=\"translate(14.798437 215.14375)rotate(-90)scale(0.1 -0.1)\">\n      <defs>\n       <path d=\"M 19.671875 64.796875 \nL 19.671875 8.109375 \nL 31.59375 8.109375 \nQ 46.6875 8.109375 53.6875 14.9375 \nQ 60.6875 21.78125 60.6875 36.53125 \nQ 60.6875 51.171875 53.6875 57.984375 \nQ 46.6875 64.796875 31.59375 64.796875 \nz\nM 9.8125 72.90625 \nL 30.078125 72.90625 \nQ 51.265625 72.90625 61.171875 64.09375 \nQ 71.09375 55.28125 71.09375 36.53125 \nQ 71.09375 17.671875 61.125 8.828125 \nQ 51.171875 0 30.078125 0 \nL 9.8125 0 \nz\n\" id=\"DejaVuSans-68\"/>\n       <path d=\"M 30.609375 48.390625 \nQ 23.390625 48.390625 19.1875 42.75 \nQ 14.984375 37.109375 14.984375 27.296875 \nQ 14.984375 17.484375 19.15625 11.84375 \nQ 23.34375 6.203125 30.609375 6.203125 \nQ 37.796875 6.203125 41.984375 11.859375 \nQ 46.1875 17.53125 46.1875 27.296875 \nQ 46.1875 37.015625 41.984375 42.703125 \nQ 37.796875 48.390625 30.609375 48.390625 \nz\nM 30.609375 56 \nQ 42.328125 56 49.015625 48.375 \nQ 55.71875 40.765625 55.71875 27.296875 \nQ 55.71875 13.875 49.015625 6.21875 \nQ 42.328125 -1.421875 30.609375 -1.421875 \nQ 18.84375 -1.421875 12.171875 6.21875 \nQ 5.515625 13.875 5.515625 27.296875 \nQ 5.515625 40.765625 12.171875 48.375 \nQ 18.84375 56 30.609375 56 \nz\n\" id=\"DejaVuSans-111\"/>\n       <path d=\"M 9.421875 75.984375 \nL 18.40625 75.984375 \nL 18.40625 0 \nL 9.421875 0 \nz\n\" id=\"DejaVuSans-108\"/>\n       <path id=\"DejaVuSans-32\"/>\n       <path d=\"M 34.1875 63.1875 \nL 20.796875 26.90625 \nL 47.609375 26.90625 \nz\nM 28.609375 72.90625 \nL 39.796875 72.90625 \nL 67.578125 0 \nL 57.328125 0 \nL 50.6875 18.703125 \nL 17.828125 18.703125 \nL 11.1875 0 \nL 0.78125 0 \nz\n\" id=\"DejaVuSans-65\"/>\n       <path d=\"M 52 44.1875 \nQ 55.375 50.25 60.0625 53.125 \nQ 64.75 56 71.09375 56 \nQ 79.640625 56 84.28125 50.015625 \nQ 88.921875 44.046875 88.921875 33.015625 \nL 88.921875 0 \nL 79.890625 0 \nL 79.890625 32.71875 \nQ 79.890625 40.578125 77.09375 44.375 \nQ 74.3125 48.1875 68.609375 48.1875 \nQ 61.625 48.1875 57.5625 43.546875 \nQ 53.515625 38.921875 53.515625 30.90625 \nL 53.515625 0 \nL 44.484375 0 \nL 44.484375 32.71875 \nQ 44.484375 40.625 41.703125 44.40625 \nQ 38.921875 48.1875 33.109375 48.1875 \nQ 26.21875 48.1875 22.15625 43.53125 \nQ 18.109375 38.875 18.109375 30.90625 \nL 18.109375 0 \nL 9.078125 0 \nL 9.078125 54.6875 \nL 18.109375 54.6875 \nL 18.109375 46.1875 \nQ 21.1875 51.21875 25.484375 53.609375 \nQ 29.78125 56 35.6875 56 \nQ 41.65625 56 45.828125 52.96875 \nQ 50 49.953125 52 44.1875 \nz\n\" id=\"DejaVuSans-109\"/>\n       <path d=\"M 8.5 21.578125 \nL 8.5 54.6875 \nL 17.484375 54.6875 \nL 17.484375 21.921875 \nQ 17.484375 14.15625 20.5 10.265625 \nQ 23.53125 6.390625 29.59375 6.390625 \nQ 36.859375 6.390625 41.078125 11.03125 \nQ 45.3125 15.671875 45.3125 23.6875 \nL 45.3125 54.6875 \nL 54.296875 54.6875 \nL 54.296875 0 \nL 45.3125 0 \nL 45.3125 8.40625 \nQ 42.046875 3.421875 37.71875 1 \nQ 33.40625 -1.421875 27.6875 -1.421875 \nQ 18.265625 -1.421875 13.375 4.4375 \nQ 8.5 10.296875 8.5 21.578125 \nz\nM 31.109375 56 \nz\n\" id=\"DejaVuSans-117\"/>\n       <path d=\"M 54.890625 33.015625 \nL 54.890625 0 \nL 45.90625 0 \nL 45.90625 32.71875 \nQ 45.90625 40.484375 42.875 44.328125 \nQ 39.84375 48.1875 33.796875 48.1875 \nQ 26.515625 48.1875 22.3125 43.546875 \nQ 18.109375 38.921875 18.109375 30.90625 \nL 18.109375 0 \nL 9.078125 0 \nL 9.078125 54.6875 \nL 18.109375 54.6875 \nL 18.109375 46.1875 \nQ 21.34375 51.125 25.703125 53.5625 \nQ 30.078125 56 35.796875 56 \nQ 45.21875 56 50.046875 50.171875 \nQ 54.890625 44.34375 54.890625 33.015625 \nz\n\" id=\"DejaVuSans-110\"/>\n       <path d=\"M 18.3125 70.21875 \nL 18.3125 54.6875 \nL 36.8125 54.6875 \nL 36.8125 47.703125 \nL 18.3125 47.703125 \nL 18.3125 18.015625 \nQ 18.3125 11.328125 20.140625 9.421875 \nQ 21.96875 7.515625 27.59375 7.515625 \nL 36.8125 7.515625 \nL 36.8125 0 \nL 27.59375 0 \nQ 17.1875 0 13.234375 3.875 \nQ 9.28125 7.765625 9.28125 18.015625 \nL 9.28125 47.703125 \nL 2.6875 47.703125 \nL 2.6875 54.6875 \nL 9.28125 54.6875 \nL 9.28125 70.21875 \nz\n\" id=\"DejaVuSans-116\"/>\n      </defs>\n      <use xlink:href=\"#DejaVuSans-68\"/>\n      <use x=\"77.001953\" xlink:href=\"#DejaVuSans-111\"/>\n      <use x=\"138.183594\" xlink:href=\"#DejaVuSans-108\"/>\n      <use x=\"165.966797\" xlink:href=\"#DejaVuSans-108\"/>\n      <use x=\"193.75\" xlink:href=\"#DejaVuSans-97\"/>\n      <use x=\"255.029297\" xlink:href=\"#DejaVuSans-114\"/>\n      <use x=\"296.142578\" xlink:href=\"#DejaVuSans-32\"/>\n      <use x=\"327.929688\" xlink:href=\"#DejaVuSans-65\"/>\n      <use x=\"396.337891\" xlink:href=\"#DejaVuSans-109\"/>\n      <use x=\"493.75\" xlink:href=\"#DejaVuSans-111\"/>\n      <use x=\"554.931641\" xlink:href=\"#DejaVuSans-117\"/>\n      <use x=\"618.310547\" xlink:href=\"#DejaVuSans-110\"/>\n      <use x=\"681.689453\" xlink:href=\"#DejaVuSans-116\"/>\n     </g>\n    </g>\n   </g>\n   <g id=\"line2d_29\">\n    <path clip-path=\"url(#p3cc3f410c6)\" d=\"M 99.069034 299.943753 \nL 149.796307 300.985865 \nL 200.52358 302.645455 \nL 251.250852 302.507491 \nL 301.978125 301.043917 \nL 352.705398 297.89043 \nL 403.43267 296.336477 \nL 454.159943 299.688109 \nL 504.887216 300.153895 \n\" style=\"fill:none;stroke:#1f77b4;stroke-linecap:square;stroke-width:1.5;\"/>\n    <defs>\n     <path d=\"M 0 1.5 \nC 0.397805 1.5 0.77937 1.341951 1.06066 1.06066 \nC 1.341951 0.77937 1.5 0.397805 1.5 0 \nC 1.5 -0.397805 1.341951 -0.77937 1.06066 -1.06066 \nC 0.77937 -1.341951 0.397805 -1.5 0 -1.5 \nC -0.397805 -1.5 -0.77937 -1.341951 -1.06066 -1.06066 \nC -1.341951 -0.77937 -1.5 -0.397805 -1.5 0 \nC -1.5 0.397805 -1.341951 0.77937 -1.06066 1.06066 \nC -0.77937 1.341951 -0.397805 1.5 0 1.5 \nz\n\" id=\"mf7bd9a6e61\" style=\"stroke:#1f77b4;\"/>\n    </defs>\n    <g clip-path=\"url(#p3cc3f410c6)\">\n     <use style=\"fill:#1f77b4;stroke:#1f77b4;\" x=\"99.069034\" xlink:href=\"#mf7bd9a6e61\" y=\"299.943753\"/>\n     <use style=\"fill:#1f77b4;stroke:#1f77b4;\" x=\"149.796307\" xlink:href=\"#mf7bd9a6e61\" y=\"300.985865\"/>\n     <use style=\"fill:#1f77b4;stroke:#1f77b4;\" x=\"200.52358\" xlink:href=\"#mf7bd9a6e61\" y=\"302.645455\"/>\n     <use style=\"fill:#1f77b4;stroke:#1f77b4;\" x=\"251.250852\" xlink:href=\"#mf7bd9a6e61\" y=\"302.507491\"/>\n     <use style=\"fill:#1f77b4;stroke:#1f77b4;\" x=\"301.978125\" xlink:href=\"#mf7bd9a6e61\" y=\"301.043917\"/>\n     <use style=\"fill:#1f77b4;stroke:#1f77b4;\" x=\"352.705398\" xlink:href=\"#mf7bd9a6e61\" y=\"297.89043\"/>\n     <use style=\"fill:#1f77b4;stroke:#1f77b4;\" x=\"403.43267\" xlink:href=\"#mf7bd9a6e61\" y=\"296.336477\"/>\n     <use style=\"fill:#1f77b4;stroke:#1f77b4;\" x=\"454.159943\" xlink:href=\"#mf7bd9a6e61\" y=\"299.688109\"/>\n     <use style=\"fill:#1f77b4;stroke:#1f77b4;\" x=\"504.887216\" xlink:href=\"#mf7bd9a6e61\" y=\"300.153895\"/>\n    </g>\n   </g>\n   <g id=\"line2d_30\">\n    <path clip-path=\"url(#p3cc3f410c6)\" d=\"M 99.069034 241.140837 \nL 149.796307 241.976346 \nL 200.52358 240.973805 \nL 251.250852 238.998984 \nL 301.978125 236.405925 \nL 352.705398 232.393111 \nL 403.43267 228.167739 \nL 454.159943 224.72885 \nL 504.887216 222.137825 \n\" style=\"fill:none;stroke:#ff7f0e;stroke-linecap:square;stroke-width:1.5;\"/>\n    <defs>\n     <path d=\"M 0 1.5 \nC 0.397805 1.5 0.77937 1.341951 1.06066 1.06066 \nC 1.341951 0.77937 1.5 0.397805 1.5 0 \nC 1.5 -0.397805 1.341951 -0.77937 1.06066 -1.06066 \nC 0.77937 -1.341951 0.397805 -1.5 0 -1.5 \nC -0.397805 -1.5 -0.77937 -1.341951 -1.06066 -1.06066 \nC -1.341951 -0.77937 -1.5 -0.397805 -1.5 0 \nC -1.5 0.397805 -1.341951 0.77937 -1.06066 1.06066 \nC -0.77937 1.341951 -0.397805 1.5 0 1.5 \nz\n\" id=\"mf35e312451\" style=\"stroke:#ff7f0e;\"/>\n    </defs>\n    <g clip-path=\"url(#p3cc3f410c6)\">\n     <use style=\"fill:#ff7f0e;stroke:#ff7f0e;\" x=\"99.069034\" xlink:href=\"#mf35e312451\" y=\"241.140837\"/>\n     <use style=\"fill:#ff7f0e;stroke:#ff7f0e;\" x=\"149.796307\" xlink:href=\"#mf35e312451\" y=\"241.976346\"/>\n     <use style=\"fill:#ff7f0e;stroke:#ff7f0e;\" x=\"200.52358\" xlink:href=\"#mf35e312451\" y=\"240.973805\"/>\n     <use style=\"fill:#ff7f0e;stroke:#ff7f0e;\" x=\"251.250852\" xlink:href=\"#mf35e312451\" y=\"238.998984\"/>\n     <use style=\"fill:#ff7f0e;stroke:#ff7f0e;\" x=\"301.978125\" xlink:href=\"#mf35e312451\" y=\"236.405925\"/>\n     <use style=\"fill:#ff7f0e;stroke:#ff7f0e;\" x=\"352.705398\" xlink:href=\"#mf35e312451\" y=\"232.393111\"/>\n     <use style=\"fill:#ff7f0e;stroke:#ff7f0e;\" x=\"403.43267\" xlink:href=\"#mf35e312451\" y=\"228.167739\"/>\n     <use style=\"fill:#ff7f0e;stroke:#ff7f0e;\" x=\"454.159943\" xlink:href=\"#mf35e312451\" y=\"224.72885\"/>\n     <use style=\"fill:#ff7f0e;stroke:#ff7f0e;\" x=\"504.887216\" xlink:href=\"#mf35e312451\" y=\"222.137825\"/>\n    </g>\n   </g>\n   <g id=\"line2d_31\">\n    <path clip-path=\"url(#p3cc3f410c6)\" d=\"M 99.069034 132.068387 \nL 149.796307 122.787106 \nL 200.52358 121.531152 \nL 251.250852 118.510529 \nL 301.978125 115.928002 \nL 352.705398 105.073487 \nL 403.43267 93.341603 \nL 454.159943 82.617062 \nL 504.887216 74.507138 \n\" style=\"fill:none;stroke:#2ca02c;stroke-linecap:square;stroke-width:1.5;\"/>\n    <defs>\n     <path d=\"M 0 1.5 \nC 0.397805 1.5 0.77937 1.341951 1.06066 1.06066 \nC 1.341951 0.77937 1.5 0.397805 1.5 0 \nC 1.5 -0.397805 1.341951 -0.77937 1.06066 -1.06066 \nC 0.77937 -1.341951 0.397805 -1.5 0 -1.5 \nC -0.397805 -1.5 -0.77937 -1.341951 -1.06066 -1.06066 \nC -1.341951 -0.77937 -1.5 -0.397805 -1.5 0 \nC -1.5 0.397805 -1.341951 0.77937 -1.06066 1.06066 \nC -0.77937 1.341951 -0.397805 1.5 0 1.5 \nz\n\" id=\"m7d85ee53c6\" style=\"stroke:#2ca02c;\"/>\n    </defs>\n    <g clip-path=\"url(#p3cc3f410c6)\">\n     <use style=\"fill:#2ca02c;stroke:#2ca02c;\" x=\"99.069034\" xlink:href=\"#m7d85ee53c6\" y=\"132.068387\"/>\n     <use style=\"fill:#2ca02c;stroke:#2ca02c;\" x=\"149.796307\" xlink:href=\"#m7d85ee53c6\" y=\"122.787106\"/>\n     <use style=\"fill:#2ca02c;stroke:#2ca02c;\" x=\"200.52358\" xlink:href=\"#m7d85ee53c6\" y=\"121.531152\"/>\n     <use style=\"fill:#2ca02c;stroke:#2ca02c;\" x=\"251.250852\" xlink:href=\"#m7d85ee53c6\" y=\"118.510529\"/>\n     <use style=\"fill:#2ca02c;stroke:#2ca02c;\" x=\"301.978125\" xlink:href=\"#m7d85ee53c6\" y=\"115.928002\"/>\n     <use style=\"fill:#2ca02c;stroke:#2ca02c;\" x=\"352.705398\" xlink:href=\"#m7d85ee53c6\" y=\"105.073487\"/>\n     <use style=\"fill:#2ca02c;stroke:#2ca02c;\" x=\"403.43267\" xlink:href=\"#m7d85ee53c6\" y=\"93.341603\"/>\n     <use style=\"fill:#2ca02c;stroke:#2ca02c;\" x=\"454.159943\" xlink:href=\"#m7d85ee53c6\" y=\"82.617062\"/>\n     <use style=\"fill:#2ca02c;stroke:#2ca02c;\" x=\"504.887216\" xlink:href=\"#m7d85ee53c6\" y=\"74.507138\"/>\n    </g>\n   </g>\n   <g id=\"line2d_32\">\n    <path clip-path=\"url(#p3cc3f410c6)\" d=\"M 99.069034 128.889405 \nL 149.796307 123.742012 \nL 200.52358 110.747084 \nL 251.250852 108.470661 \nL 301.978125 97.312313 \nL 352.705398 90.400116 \nL 403.43267 86.439997 \nL 454.159943 69.705051 \nL 504.887216 55.554545 \n\" style=\"fill:none;stroke:#d62728;stroke-linecap:square;stroke-width:1.5;\"/>\n    <defs>\n     <path d=\"M 0 1.5 \nC 0.397805 1.5 0.77937 1.341951 1.06066 1.06066 \nC 1.341951 0.77937 1.5 0.397805 1.5 0 \nC 1.5 -0.397805 1.341951 -0.77937 1.06066 -1.06066 \nC 0.77937 -1.341951 0.397805 -1.5 0 -1.5 \nC -0.397805 -1.5 -0.77937 -1.341951 -1.06066 -1.06066 \nC -1.341951 -0.77937 -1.5 -0.397805 -1.5 0 \nC -1.5 0.397805 -1.341951 0.77937 -1.06066 1.06066 \nC -0.77937 1.341951 -0.397805 1.5 0 1.5 \nz\n\" id=\"m94b8ea2eab\" style=\"stroke:#d62728;\"/>\n    </defs>\n    <g clip-path=\"url(#p3cc3f410c6)\">\n     <use style=\"fill:#d62728;stroke:#d62728;\" x=\"99.069034\" xlink:href=\"#m94b8ea2eab\" y=\"128.889405\"/>\n     <use style=\"fill:#d62728;stroke:#d62728;\" x=\"149.796307\" xlink:href=\"#m94b8ea2eab\" y=\"123.742012\"/>\n     <use style=\"fill:#d62728;stroke:#d62728;\" x=\"200.52358\" xlink:href=\"#m94b8ea2eab\" y=\"110.747084\"/>\n     <use style=\"fill:#d62728;stroke:#d62728;\" x=\"251.250852\" xlink:href=\"#m94b8ea2eab\" y=\"108.470661\"/>\n     <use style=\"fill:#d62728;stroke:#d62728;\" x=\"301.978125\" xlink:href=\"#m94b8ea2eab\" y=\"97.312313\"/>\n     <use style=\"fill:#d62728;stroke:#d62728;\" x=\"352.705398\" xlink:href=\"#m94b8ea2eab\" y=\"90.400116\"/>\n     <use style=\"fill:#d62728;stroke:#d62728;\" x=\"403.43267\" xlink:href=\"#m94b8ea2eab\" y=\"86.439997\"/>\n     <use style=\"fill:#d62728;stroke:#d62728;\" x=\"454.159943\" xlink:href=\"#m94b8ea2eab\" y=\"69.705051\"/>\n     <use style=\"fill:#d62728;stroke:#d62728;\" x=\"504.887216\" xlink:href=\"#m94b8ea2eab\" y=\"55.554545\"/>\n    </g>\n   </g>\n   <g id=\"line2d_33\">\n    <path clip-path=\"url(#p3cc3f410c6)\" d=\"M 99.069034 258.330835 \nL 149.796307 255.838898 \nL 200.52358 254.968052 \nL 251.250852 249.223852 \nL 301.978125 246.363943 \nL 352.705398 241.723895 \nL 403.43267 240.68136 \nL 454.159943 238.332506 \nL 504.887216 235.295818 \n\" style=\"fill:none;stroke:#9467bd;stroke-linecap:square;stroke-width:1.5;\"/>\n    <defs>\n     <path d=\"M 0 1.5 \nC 0.397805 1.5 0.77937 1.341951 1.06066 1.06066 \nC 1.341951 0.77937 1.5 0.397805 1.5 0 \nC 1.5 -0.397805 1.341951 -0.77937 1.06066 -1.06066 \nC 0.77937 -1.341951 0.397805 -1.5 0 -1.5 \nC -0.397805 -1.5 -0.77937 -1.341951 -1.06066 -1.06066 \nC -1.341951 -0.77937 -1.5 -0.397805 -1.5 0 \nC -1.5 0.397805 -1.341951 0.77937 -1.06066 1.06066 \nC -0.77937 1.341951 -0.397805 1.5 0 1.5 \nz\n\" id=\"m5ee9db6c47\" style=\"stroke:#9467bd;\"/>\n    </defs>\n    <g clip-path=\"url(#p3cc3f410c6)\">\n     <use style=\"fill:#9467bd;stroke:#9467bd;\" x=\"99.069034\" xlink:href=\"#m5ee9db6c47\" y=\"258.330835\"/>\n     <use style=\"fill:#9467bd;stroke:#9467bd;\" x=\"149.796307\" xlink:href=\"#m5ee9db6c47\" y=\"255.838898\"/>\n     <use style=\"fill:#9467bd;stroke:#9467bd;\" x=\"200.52358\" xlink:href=\"#m5ee9db6c47\" y=\"254.968052\"/>\n     <use style=\"fill:#9467bd;stroke:#9467bd;\" x=\"251.250852\" xlink:href=\"#m5ee9db6c47\" y=\"249.223852\"/>\n     <use style=\"fill:#9467bd;stroke:#9467bd;\" x=\"301.978125\" xlink:href=\"#m5ee9db6c47\" y=\"246.363943\"/>\n     <use style=\"fill:#9467bd;stroke:#9467bd;\" x=\"352.705398\" xlink:href=\"#m5ee9db6c47\" y=\"241.723895\"/>\n     <use style=\"fill:#9467bd;stroke:#9467bd;\" x=\"403.43267\" xlink:href=\"#m5ee9db6c47\" y=\"240.68136\"/>\n     <use style=\"fill:#9467bd;stroke:#9467bd;\" x=\"454.159943\" xlink:href=\"#m5ee9db6c47\" y=\"238.332506\"/>\n     <use style=\"fill:#9467bd;stroke:#9467bd;\" x=\"504.887216\" xlink:href=\"#m5ee9db6c47\" y=\"235.295818\"/>\n    </g>\n   </g>\n   <g id=\"patch_3\">\n    <path d=\"M 78.778125 315 \nL 78.778125 43.2 \n\" style=\"fill:none;stroke:#000000;stroke-linecap:square;stroke-linejoin:miter;stroke-width:0.8;\"/>\n   </g>\n   <g id=\"patch_4\">\n    <path d=\"M 525.178125 315 \nL 525.178125 43.2 \n\" style=\"fill:none;stroke:#000000;stroke-linecap:square;stroke-linejoin:miter;stroke-width:0.8;\"/>\n   </g>\n   <g id=\"patch_5\">\n    <path d=\"M 78.778125 315 \nL 525.178125 315 \n\" style=\"fill:none;stroke:#000000;stroke-linecap:square;stroke-linejoin:miter;stroke-width:0.8;\"/>\n   </g>\n   <g id=\"patch_6\">\n    <path d=\"M 78.778125 43.2 \nL 525.178125 43.2 \n\" style=\"fill:none;stroke:#000000;stroke-linecap:square;stroke-linejoin:miter;stroke-width:0.8;\"/>\n   </g>\n   <g id=\"legend_1\">\n    <g id=\"patch_7\">\n     <path d=\"M 149.039062 217.295312 \nL 518.178125 217.295312 \nQ 520.178125 217.295312 520.178125 215.295312 \nL 520.178125 142.904687 \nQ 520.178125 140.904687 518.178125 140.904687 \nL 149.039062 140.904687 \nQ 147.039062 140.904687 147.039062 142.904687 \nL 147.039062 215.295312 \nQ 147.039062 217.295312 149.039062 217.295312 \nz\n\" style=\"fill:#ffffff;opacity:0.8;stroke:#cccccc;stroke-linejoin:miter;\"/>\n    </g>\n    <g id=\"line2d_34\">\n     <path d=\"M 151.039062 149.003125 \nL 171.039062 149.003125 \n\" style=\"fill:none;stroke:#1f77b4;stroke-linecap:square;stroke-width:1.5;\"/>\n    </g>\n    <g id=\"line2d_35\">\n     <g>\n      <use style=\"fill:#1f77b4;stroke:#1f77b4;\" x=\"161.039062\" xlink:href=\"#mf7bd9a6e61\" y=\"149.003125\"/>\n     </g>\n    </g>\n    <g id=\"text_17\">\n     <!-- Agriculture, forestry, fishing and hunting -->\n     <g transform=\"translate(179.039062 152.503125)scale(0.1 -0.1)\">\n      <defs>\n       <path d=\"M 45.40625 27.984375 \nQ 45.40625 37.75 41.375 43.109375 \nQ 37.359375 48.484375 30.078125 48.484375 \nQ 22.859375 48.484375 18.828125 43.109375 \nQ 14.796875 37.75 14.796875 27.984375 \nQ 14.796875 18.265625 18.828125 12.890625 \nQ 22.859375 7.515625 30.078125 7.515625 \nQ 37.359375 7.515625 41.375 12.890625 \nQ 45.40625 18.265625 45.40625 27.984375 \nz\nM 54.390625 6.78125 \nQ 54.390625 -7.171875 48.1875 -13.984375 \nQ 42 -20.796875 29.203125 -20.796875 \nQ 24.46875 -20.796875 20.265625 -20.09375 \nQ 16.0625 -19.390625 12.109375 -17.921875 \nL 12.109375 -9.1875 \nQ 16.0625 -11.328125 19.921875 -12.34375 \nQ 23.78125 -13.375 27.78125 -13.375 \nQ 36.625 -13.375 41.015625 -8.765625 \nQ 45.40625 -4.15625 45.40625 5.171875 \nL 45.40625 9.625 \nQ 42.625 4.78125 38.28125 2.390625 \nQ 33.9375 0 27.875 0 \nQ 17.828125 0 11.671875 7.65625 \nQ 5.515625 15.328125 5.515625 27.984375 \nQ 5.515625 40.671875 11.671875 48.328125 \nQ 17.828125 56 27.875 56 \nQ 33.9375 56 38.28125 53.609375 \nQ 42.625 51.21875 45.40625 46.390625 \nL 45.40625 54.6875 \nL 54.390625 54.6875 \nz\n\" id=\"DejaVuSans-103\"/>\n       <path d=\"M 9.421875 54.6875 \nL 18.40625 54.6875 \nL 18.40625 0 \nL 9.421875 0 \nz\nM 9.421875 75.984375 \nL 18.40625 75.984375 \nL 18.40625 64.59375 \nL 9.421875 64.59375 \nz\n\" id=\"DejaVuSans-105\"/>\n       <path d=\"M 48.78125 52.59375 \nL 48.78125 44.1875 \nQ 44.96875 46.296875 41.140625 47.34375 \nQ 37.3125 48.390625 33.40625 48.390625 \nQ 24.65625 48.390625 19.8125 42.84375 \nQ 14.984375 37.3125 14.984375 27.296875 \nQ 14.984375 17.28125 19.8125 11.734375 \nQ 24.65625 6.203125 33.40625 6.203125 \nQ 37.3125 6.203125 41.140625 7.25 \nQ 44.96875 8.296875 48.78125 10.40625 \nL 48.78125 2.09375 \nQ 45.015625 0.34375 40.984375 -0.53125 \nQ 36.96875 -1.421875 32.421875 -1.421875 \nQ 20.0625 -1.421875 12.78125 6.34375 \nQ 5.515625 14.109375 5.515625 27.296875 \nQ 5.515625 40.671875 12.859375 48.328125 \nQ 20.21875 56 33.015625 56 \nQ 37.15625 56 41.109375 55.140625 \nQ 45.0625 54.296875 48.78125 52.59375 \nz\n\" id=\"DejaVuSans-99\"/>\n       <path d=\"M 11.71875 12.40625 \nL 22.015625 12.40625 \nL 22.015625 4 \nL 14.015625 -11.625 \nL 7.71875 -11.625 \nL 11.71875 4 \nz\n\" id=\"DejaVuSans-44\"/>\n       <path d=\"M 37.109375 75.984375 \nL 37.109375 68.5 \nL 28.515625 68.5 \nQ 23.6875 68.5 21.796875 66.546875 \nQ 19.921875 64.59375 19.921875 59.515625 \nL 19.921875 54.6875 \nL 34.71875 54.6875 \nL 34.71875 47.703125 \nL 19.921875 47.703125 \nL 19.921875 0 \nL 10.890625 0 \nL 10.890625 47.703125 \nL 2.296875 47.703125 \nL 2.296875 54.6875 \nL 10.890625 54.6875 \nL 10.890625 58.5 \nQ 10.890625 67.625 15.140625 71.796875 \nQ 19.390625 75.984375 28.609375 75.984375 \nz\n\" id=\"DejaVuSans-102\"/>\n       <path d=\"M 44.28125 53.078125 \nL 44.28125 44.578125 \nQ 40.484375 46.53125 36.375 47.5 \nQ 32.28125 48.484375 27.875 48.484375 \nQ 21.1875 48.484375 17.84375 46.4375 \nQ 14.5 44.390625 14.5 40.28125 \nQ 14.5 37.15625 16.890625 35.375 \nQ 19.28125 33.59375 26.515625 31.984375 \nL 29.59375 31.296875 \nQ 39.15625 29.25 43.1875 25.515625 \nQ 47.21875 21.78125 47.21875 15.09375 \nQ 47.21875 7.46875 41.1875 3.015625 \nQ 35.15625 -1.421875 24.609375 -1.421875 \nQ 20.21875 -1.421875 15.453125 -0.5625 \nQ 10.6875 0.296875 5.421875 2 \nL 5.421875 11.28125 \nQ 10.40625 8.6875 15.234375 7.390625 \nQ 20.0625 6.109375 24.8125 6.109375 \nQ 31.15625 6.109375 34.5625 8.28125 \nQ 37.984375 10.453125 37.984375 14.40625 \nQ 37.984375 18.0625 35.515625 20.015625 \nQ 33.0625 21.96875 24.703125 23.78125 \nL 21.578125 24.515625 \nQ 13.234375 26.265625 9.515625 29.90625 \nQ 5.8125 33.546875 5.8125 39.890625 \nQ 5.8125 47.609375 11.28125 51.796875 \nQ 16.75 56 26.8125 56 \nQ 31.78125 56 36.171875 55.265625 \nQ 40.578125 54.546875 44.28125 53.078125 \nz\n\" id=\"DejaVuSans-115\"/>\n       <path d=\"M 32.171875 -5.078125 \nQ 28.375 -14.84375 24.75 -17.8125 \nQ 21.140625 -20.796875 15.09375 -20.796875 \nL 7.90625 -20.796875 \nL 7.90625 -13.28125 \nL 13.1875 -13.28125 \nQ 16.890625 -13.28125 18.9375 -11.515625 \nQ 21 -9.765625 23.484375 -3.21875 \nL 25.09375 0.875 \nL 2.984375 54.6875 \nL 12.5 54.6875 \nL 29.59375 11.921875 \nL 46.6875 54.6875 \nL 56.203125 54.6875 \nz\n\" id=\"DejaVuSans-121\"/>\n       <path d=\"M 54.890625 33.015625 \nL 54.890625 0 \nL 45.90625 0 \nL 45.90625 32.71875 \nQ 45.90625 40.484375 42.875 44.328125 \nQ 39.84375 48.1875 33.796875 48.1875 \nQ 26.515625 48.1875 22.3125 43.546875 \nQ 18.109375 38.921875 18.109375 30.90625 \nL 18.109375 0 \nL 9.078125 0 \nL 9.078125 75.984375 \nL 18.109375 75.984375 \nL 18.109375 46.1875 \nQ 21.34375 51.125 25.703125 53.5625 \nQ 30.078125 56 35.796875 56 \nQ 45.21875 56 50.046875 50.171875 \nQ 54.890625 44.34375 54.890625 33.015625 \nz\n\" id=\"DejaVuSans-104\"/>\n       <path d=\"M 45.40625 46.390625 \nL 45.40625 75.984375 \nL 54.390625 75.984375 \nL 54.390625 0 \nL 45.40625 0 \nL 45.40625 8.203125 \nQ 42.578125 3.328125 38.25 0.953125 \nQ 33.9375 -1.421875 27.875 -1.421875 \nQ 17.96875 -1.421875 11.734375 6.484375 \nQ 5.515625 14.40625 5.515625 27.296875 \nQ 5.515625 40.1875 11.734375 48.09375 \nQ 17.96875 56 27.875 56 \nQ 33.9375 56 38.25 53.625 \nQ 42.578125 51.265625 45.40625 46.390625 \nz\nM 14.796875 27.296875 \nQ 14.796875 17.390625 18.875 11.75 \nQ 22.953125 6.109375 30.078125 6.109375 \nQ 37.203125 6.109375 41.296875 11.75 \nQ 45.40625 17.390625 45.40625 27.296875 \nQ 45.40625 37.203125 41.296875 42.84375 \nQ 37.203125 48.484375 30.078125 48.484375 \nQ 22.953125 48.484375 18.875 42.84375 \nQ 14.796875 37.203125 14.796875 27.296875 \nz\n\" id=\"DejaVuSans-100\"/>\n      </defs>\n      <use xlink:href=\"#DejaVuSans-65\"/>\n      <use x=\"68.408203\" xlink:href=\"#DejaVuSans-103\"/>\n      <use x=\"131.884766\" xlink:href=\"#DejaVuSans-114\"/>\n      <use x=\"172.998047\" xlink:href=\"#DejaVuSans-105\"/>\n      <use x=\"200.78125\" xlink:href=\"#DejaVuSans-99\"/>\n      <use x=\"255.761719\" xlink:href=\"#DejaVuSans-117\"/>\n      <use x=\"319.140625\" xlink:href=\"#DejaVuSans-108\"/>\n      <use x=\"346.923828\" xlink:href=\"#DejaVuSans-116\"/>\n      <use x=\"386.132812\" xlink:href=\"#DejaVuSans-117\"/>\n      <use x=\"449.511719\" xlink:href=\"#DejaVuSans-114\"/>\n      <use x=\"488.375\" xlink:href=\"#DejaVuSans-101\"/>\n      <use x=\"549.898438\" xlink:href=\"#DejaVuSans-44\"/>\n      <use x=\"581.685547\" xlink:href=\"#DejaVuSans-32\"/>\n      <use x=\"613.472656\" xlink:href=\"#DejaVuSans-102\"/>\n      <use x=\"648.677734\" xlink:href=\"#DejaVuSans-111\"/>\n      <use x=\"709.859375\" xlink:href=\"#DejaVuSans-114\"/>\n      <use x=\"748.722656\" xlink:href=\"#DejaVuSans-101\"/>\n      <use x=\"810.246094\" xlink:href=\"#DejaVuSans-115\"/>\n      <use x=\"862.345703\" xlink:href=\"#DejaVuSans-116\"/>\n      <use x=\"901.554688\" xlink:href=\"#DejaVuSans-114\"/>\n      <use x=\"942.667969\" xlink:href=\"#DejaVuSans-121\"/>\n      <use x=\"1001.847656\" xlink:href=\"#DejaVuSans-44\"/>\n      <use x=\"1033.634766\" xlink:href=\"#DejaVuSans-32\"/>\n      <use x=\"1065.421875\" xlink:href=\"#DejaVuSans-102\"/>\n      <use x=\"1100.626953\" xlink:href=\"#DejaVuSans-105\"/>\n      <use x=\"1128.410156\" xlink:href=\"#DejaVuSans-115\"/>\n      <use x=\"1180.509766\" xlink:href=\"#DejaVuSans-104\"/>\n      <use x=\"1243.888672\" xlink:href=\"#DejaVuSans-105\"/>\n      <use x=\"1271.671875\" xlink:href=\"#DejaVuSans-110\"/>\n      <use x=\"1335.050781\" xlink:href=\"#DejaVuSans-103\"/>\n      <use x=\"1398.527344\" xlink:href=\"#DejaVuSans-32\"/>\n      <use x=\"1430.314453\" xlink:href=\"#DejaVuSans-97\"/>\n      <use x=\"1491.59375\" xlink:href=\"#DejaVuSans-110\"/>\n      <use x=\"1554.972656\" xlink:href=\"#DejaVuSans-100\"/>\n      <use x=\"1618.449219\" xlink:href=\"#DejaVuSans-32\"/>\n      <use x=\"1650.236328\" xlink:href=\"#DejaVuSans-104\"/>\n      <use x=\"1713.615234\" xlink:href=\"#DejaVuSans-117\"/>\n      <use x=\"1776.994141\" xlink:href=\"#DejaVuSans-110\"/>\n      <use x=\"1840.373047\" xlink:href=\"#DejaVuSans-116\"/>\n      <use x=\"1879.582031\" xlink:href=\"#DejaVuSans-105\"/>\n      <use x=\"1907.365234\" xlink:href=\"#DejaVuSans-110\"/>\n      <use x=\"1970.744141\" xlink:href=\"#DejaVuSans-103\"/>\n     </g>\n    </g>\n    <g id=\"line2d_36\">\n     <path d=\"M 151.039062 163.68125 \nL 171.039062 163.68125 \n\" style=\"fill:none;stroke:#ff7f0e;stroke-linecap:square;stroke-width:1.5;\"/>\n    </g>\n    <g id=\"line2d_37\">\n     <g>\n      <use style=\"fill:#ff7f0e;stroke:#ff7f0e;\" x=\"161.039062\" xlink:href=\"#mf35e312451\" y=\"163.68125\"/>\n     </g>\n    </g>\n    <g id=\"text_18\">\n     <!-- Retail trade -->\n     <g transform=\"translate(179.039062 167.18125)scale(0.1 -0.1)\">\n      <defs>\n       <path d=\"M 44.390625 34.1875 \nQ 47.5625 33.109375 50.5625 29.59375 \nQ 53.5625 26.078125 56.59375 19.921875 \nL 66.609375 0 \nL 56 0 \nL 46.6875 18.703125 \nQ 43.0625 26.03125 39.671875 28.421875 \nQ 36.28125 30.8125 30.421875 30.8125 \nL 19.671875 30.8125 \nL 19.671875 0 \nL 9.8125 0 \nL 9.8125 72.90625 \nL 32.078125 72.90625 \nQ 44.578125 72.90625 50.734375 67.671875 \nQ 56.890625 62.453125 56.890625 51.90625 \nQ 56.890625 45.015625 53.6875 40.46875 \nQ 50.484375 35.9375 44.390625 34.1875 \nz\nM 19.671875 64.796875 \nL 19.671875 38.921875 \nL 32.078125 38.921875 \nQ 39.203125 38.921875 42.84375 42.21875 \nQ 46.484375 45.515625 46.484375 51.90625 \nQ 46.484375 58.296875 42.84375 61.546875 \nQ 39.203125 64.796875 32.078125 64.796875 \nz\n\" id=\"DejaVuSans-82\"/>\n      </defs>\n      <use xlink:href=\"#DejaVuSans-82\"/>\n      <use x=\"64.982422\" xlink:href=\"#DejaVuSans-101\"/>\n      <use x=\"126.505859\" xlink:href=\"#DejaVuSans-116\"/>\n      <use x=\"165.714844\" xlink:href=\"#DejaVuSans-97\"/>\n      <use x=\"226.994141\" xlink:href=\"#DejaVuSans-105\"/>\n      <use x=\"254.777344\" xlink:href=\"#DejaVuSans-108\"/>\n      <use x=\"282.560547\" xlink:href=\"#DejaVuSans-32\"/>\n      <use x=\"314.347656\" xlink:href=\"#DejaVuSans-116\"/>\n      <use x=\"353.556641\" xlink:href=\"#DejaVuSans-114\"/>\n      <use x=\"394.669922\" xlink:href=\"#DejaVuSans-97\"/>\n      <use x=\"455.949219\" xlink:href=\"#DejaVuSans-100\"/>\n      <use x=\"519.425781\" xlink:href=\"#DejaVuSans-101\"/>\n     </g>\n    </g>\n    <g id=\"line2d_38\">\n     <path d=\"M 151.039062 178.359375 \nL 171.039062 178.359375 \n\" style=\"fill:none;stroke:#2ca02c;stroke-linecap:square;stroke-width:1.5;\"/>\n    </g>\n    <g id=\"line2d_39\">\n     <g>\n      <use style=\"fill:#2ca02c;stroke:#2ca02c;\" x=\"161.039062\" xlink:href=\"#m7d85ee53c6\" y=\"178.359375\"/>\n     </g>\n    </g>\n    <g id=\"text_19\">\n     <!-- Real estate and rental and leasing -->\n     <g transform=\"translate(179.039062 181.859375)scale(0.1 -0.1)\">\n      <use xlink:href=\"#DejaVuSans-82\"/>\n      <use x=\"64.982422\" xlink:href=\"#DejaVuSans-101\"/>\n      <use x=\"126.505859\" xlink:href=\"#DejaVuSans-97\"/>\n      <use x=\"187.785156\" xlink:href=\"#DejaVuSans-108\"/>\n      <use x=\"215.568359\" xlink:href=\"#DejaVuSans-32\"/>\n      <use x=\"247.355469\" xlink:href=\"#DejaVuSans-101\"/>\n      <use x=\"308.878906\" xlink:href=\"#DejaVuSans-115\"/>\n      <use x=\"360.978516\" xlink:href=\"#DejaVuSans-116\"/>\n      <use x=\"400.1875\" xlink:href=\"#DejaVuSans-97\"/>\n      <use x=\"461.466797\" xlink:href=\"#DejaVuSans-116\"/>\n      <use x=\"500.675781\" xlink:href=\"#DejaVuSans-101\"/>\n      <use x=\"562.199219\" xlink:href=\"#DejaVuSans-32\"/>\n      <use x=\"593.986328\" xlink:href=\"#DejaVuSans-97\"/>\n      <use x=\"655.265625\" xlink:href=\"#DejaVuSans-110\"/>\n      <use x=\"718.644531\" xlink:href=\"#DejaVuSans-100\"/>\n      <use x=\"782.121094\" xlink:href=\"#DejaVuSans-32\"/>\n      <use x=\"813.908203\" xlink:href=\"#DejaVuSans-114\"/>\n      <use x=\"852.771484\" xlink:href=\"#DejaVuSans-101\"/>\n      <use x=\"914.294922\" xlink:href=\"#DejaVuSans-110\"/>\n      <use x=\"977.673828\" xlink:href=\"#DejaVuSans-116\"/>\n      <use x=\"1016.882812\" xlink:href=\"#DejaVuSans-97\"/>\n      <use x=\"1078.162109\" xlink:href=\"#DejaVuSans-108\"/>\n      <use x=\"1105.945312\" xlink:href=\"#DejaVuSans-32\"/>\n      <use x=\"1137.732422\" xlink:href=\"#DejaVuSans-97\"/>\n      <use x=\"1199.011719\" xlink:href=\"#DejaVuSans-110\"/>\n      <use x=\"1262.390625\" xlink:href=\"#DejaVuSans-100\"/>\n      <use x=\"1325.867188\" xlink:href=\"#DejaVuSans-32\"/>\n      <use x=\"1357.654297\" xlink:href=\"#DejaVuSans-108\"/>\n      <use x=\"1385.4375\" xlink:href=\"#DejaVuSans-101\"/>\n      <use x=\"1446.960938\" xlink:href=\"#DejaVuSans-97\"/>\n      <use x=\"1508.240234\" xlink:href=\"#DejaVuSans-115\"/>\n      <use x=\"1560.339844\" xlink:href=\"#DejaVuSans-105\"/>\n      <use x=\"1588.123047\" xlink:href=\"#DejaVuSans-110\"/>\n      <use x=\"1651.501953\" xlink:href=\"#DejaVuSans-103\"/>\n     </g>\n    </g>\n    <g id=\"line2d_40\">\n     <path d=\"M 151.039062 193.0375 \nL 171.039062 193.0375 \n\" style=\"fill:none;stroke:#d62728;stroke-linecap:square;stroke-width:1.5;\"/>\n    </g>\n    <g id=\"line2d_41\">\n     <g>\n      <use style=\"fill:#d62728;stroke:#d62728;\" x=\"161.039062\" xlink:href=\"#m94b8ea2eab\" y=\"193.0375\"/>\n     </g>\n    </g>\n    <g id=\"text_20\">\n     <!-- Professional and business services -->\n     <g transform=\"translate(179.039062 196.5375)scale(0.1 -0.1)\">\n      <defs>\n       <path d=\"M 19.671875 64.796875 \nL 19.671875 37.40625 \nL 32.078125 37.40625 \nQ 38.96875 37.40625 42.71875 40.96875 \nQ 46.484375 44.53125 46.484375 51.125 \nQ 46.484375 57.671875 42.71875 61.234375 \nQ 38.96875 64.796875 32.078125 64.796875 \nz\nM 9.8125 72.90625 \nL 32.078125 72.90625 \nQ 44.34375 72.90625 50.609375 67.359375 \nQ 56.890625 61.8125 56.890625 51.125 \nQ 56.890625 40.328125 50.609375 34.8125 \nQ 44.34375 29.296875 32.078125 29.296875 \nL 19.671875 29.296875 \nL 19.671875 0 \nL 9.8125 0 \nz\n\" id=\"DejaVuSans-80\"/>\n       <path d=\"M 48.6875 27.296875 \nQ 48.6875 37.203125 44.609375 42.84375 \nQ 40.53125 48.484375 33.40625 48.484375 \nQ 26.265625 48.484375 22.1875 42.84375 \nQ 18.109375 37.203125 18.109375 27.296875 \nQ 18.109375 17.390625 22.1875 11.75 \nQ 26.265625 6.109375 33.40625 6.109375 \nQ 40.53125 6.109375 44.609375 11.75 \nQ 48.6875 17.390625 48.6875 27.296875 \nz\nM 18.109375 46.390625 \nQ 20.953125 51.265625 25.265625 53.625 \nQ 29.59375 56 35.59375 56 \nQ 45.5625 56 51.78125 48.09375 \nQ 58.015625 40.1875 58.015625 27.296875 \nQ 58.015625 14.40625 51.78125 6.484375 \nQ 45.5625 -1.421875 35.59375 -1.421875 \nQ 29.59375 -1.421875 25.265625 0.953125 \nQ 20.953125 3.328125 18.109375 8.203125 \nL 18.109375 0 \nL 9.078125 0 \nL 9.078125 75.984375 \nL 18.109375 75.984375 \nz\n\" id=\"DejaVuSans-98\"/>\n       <path d=\"M 2.984375 54.6875 \nL 12.5 54.6875 \nL 29.59375 8.796875 \nL 46.6875 54.6875 \nL 56.203125 54.6875 \nL 35.6875 0 \nL 23.484375 0 \nz\n\" id=\"DejaVuSans-118\"/>\n      </defs>\n      <use xlink:href=\"#DejaVuSans-80\"/>\n      <use x=\"58.552734\" xlink:href=\"#DejaVuSans-114\"/>\n      <use x=\"97.416016\" xlink:href=\"#DejaVuSans-111\"/>\n      <use x=\"158.597656\" xlink:href=\"#DejaVuSans-102\"/>\n      <use x=\"193.802734\" xlink:href=\"#DejaVuSans-101\"/>\n      <use x=\"255.326172\" xlink:href=\"#DejaVuSans-115\"/>\n      <use x=\"307.425781\" xlink:href=\"#DejaVuSans-115\"/>\n      <use x=\"359.525391\" xlink:href=\"#DejaVuSans-105\"/>\n      <use x=\"387.308594\" xlink:href=\"#DejaVuSans-111\"/>\n      <use x=\"448.490234\" xlink:href=\"#DejaVuSans-110\"/>\n      <use x=\"511.869141\" xlink:href=\"#DejaVuSans-97\"/>\n      <use x=\"573.148438\" xlink:href=\"#DejaVuSans-108\"/>\n      <use x=\"600.931641\" xlink:href=\"#DejaVuSans-32\"/>\n      <use x=\"632.71875\" xlink:href=\"#DejaVuSans-97\"/>\n      <use x=\"693.998047\" xlink:href=\"#DejaVuSans-110\"/>\n      <use x=\"757.376953\" xlink:href=\"#DejaVuSans-100\"/>\n      <use x=\"820.853516\" xlink:href=\"#DejaVuSans-32\"/>\n      <use x=\"852.640625\" xlink:href=\"#DejaVuSans-98\"/>\n      <use x=\"916.117188\" xlink:href=\"#DejaVuSans-117\"/>\n      <use x=\"979.496094\" xlink:href=\"#DejaVuSans-115\"/>\n      <use x=\"1031.595703\" xlink:href=\"#DejaVuSans-105\"/>\n      <use x=\"1059.378906\" xlink:href=\"#DejaVuSans-110\"/>\n      <use x=\"1122.757812\" xlink:href=\"#DejaVuSans-101\"/>\n      <use x=\"1184.28125\" xlink:href=\"#DejaVuSans-115\"/>\n      <use x=\"1236.380859\" xlink:href=\"#DejaVuSans-115\"/>\n      <use x=\"1288.480469\" xlink:href=\"#DejaVuSans-32\"/>\n      <use x=\"1320.267578\" xlink:href=\"#DejaVuSans-115\"/>\n      <use x=\"1372.367188\" xlink:href=\"#DejaVuSans-101\"/>\n      <use x=\"1433.890625\" xlink:href=\"#DejaVuSans-114\"/>\n      <use x=\"1475.003906\" xlink:href=\"#DejaVuSans-118\"/>\n      <use x=\"1534.183594\" xlink:href=\"#DejaVuSans-105\"/>\n      <use x=\"1561.966797\" xlink:href=\"#DejaVuSans-99\"/>\n      <use x=\"1616.947266\" xlink:href=\"#DejaVuSans-101\"/>\n      <use x=\"1678.470703\" xlink:href=\"#DejaVuSans-115\"/>\n     </g>\n    </g>\n    <g id=\"line2d_42\">\n     <path d=\"M 151.039062 207.715625 \nL 171.039062 207.715625 \n\" style=\"fill:none;stroke:#9467bd;stroke-linecap:square;stroke-width:1.5;\"/>\n    </g>\n    <g id=\"line2d_43\">\n     <g>\n      <use style=\"fill:#9467bd;stroke:#9467bd;\" x=\"161.039062\" xlink:href=\"#m5ee9db6c47\" y=\"207.715625\"/>\n     </g>\n    </g>\n    <g id=\"text_21\">\n     <!-- Arts, entertainment, recreation, accommodation, and food services -->\n     <g transform=\"translate(179.039062 211.215625)scale(0.1 -0.1)\">\n      <use xlink:href=\"#DejaVuSans-65\"/>\n      <use x=\"68.408203\" xlink:href=\"#DejaVuSans-114\"/>\n      <use x=\"109.521484\" xlink:href=\"#DejaVuSans-116\"/>\n      <use x=\"148.730469\" xlink:href=\"#DejaVuSans-115\"/>\n      <use x=\"200.830078\" xlink:href=\"#DejaVuSans-44\"/>\n      <use x=\"232.617188\" xlink:href=\"#DejaVuSans-32\"/>\n      <use x=\"264.404297\" xlink:href=\"#DejaVuSans-101\"/>\n      <use x=\"325.927734\" xlink:href=\"#DejaVuSans-110\"/>\n      <use x=\"389.306641\" xlink:href=\"#DejaVuSans-116\"/>\n      <use x=\"428.515625\" xlink:href=\"#DejaVuSans-101\"/>\n      <use x=\"490.039062\" xlink:href=\"#DejaVuSans-114\"/>\n      <use x=\"531.152344\" xlink:href=\"#DejaVuSans-116\"/>\n      <use x=\"570.361328\" xlink:href=\"#DejaVuSans-97\"/>\n      <use x=\"631.640625\" xlink:href=\"#DejaVuSans-105\"/>\n      <use x=\"659.423828\" xlink:href=\"#DejaVuSans-110\"/>\n      <use x=\"722.802734\" xlink:href=\"#DejaVuSans-109\"/>\n      <use x=\"820.214844\" xlink:href=\"#DejaVuSans-101\"/>\n      <use x=\"881.738281\" xlink:href=\"#DejaVuSans-110\"/>\n      <use x=\"945.117188\" xlink:href=\"#DejaVuSans-116\"/>\n      <use x=\"984.326172\" xlink:href=\"#DejaVuSans-44\"/>\n      <use x=\"1016.113281\" xlink:href=\"#DejaVuSans-32\"/>\n      <use x=\"1047.900391\" xlink:href=\"#DejaVuSans-114\"/>\n      <use x=\"1086.763672\" xlink:href=\"#DejaVuSans-101\"/>\n      <use x=\"1148.287109\" xlink:href=\"#DejaVuSans-99\"/>\n      <use x=\"1203.267578\" xlink:href=\"#DejaVuSans-114\"/>\n      <use x=\"1242.130859\" xlink:href=\"#DejaVuSans-101\"/>\n      <use x=\"1303.654297\" xlink:href=\"#DejaVuSans-97\"/>\n      <use x=\"1364.933594\" xlink:href=\"#DejaVuSans-116\"/>\n      <use x=\"1404.142578\" xlink:href=\"#DejaVuSans-105\"/>\n      <use x=\"1431.925781\" xlink:href=\"#DejaVuSans-111\"/>\n      <use x=\"1493.107422\" xlink:href=\"#DejaVuSans-110\"/>\n      <use x=\"1556.486328\" xlink:href=\"#DejaVuSans-44\"/>\n      <use x=\"1588.273438\" xlink:href=\"#DejaVuSans-32\"/>\n      <use x=\"1620.060547\" xlink:href=\"#DejaVuSans-97\"/>\n      <use x=\"1681.339844\" xlink:href=\"#DejaVuSans-99\"/>\n      <use x=\"1736.320312\" xlink:href=\"#DejaVuSans-99\"/>\n      <use x=\"1791.300781\" xlink:href=\"#DejaVuSans-111\"/>\n      <use x=\"1852.482422\" xlink:href=\"#DejaVuSans-109\"/>\n      <use x=\"1949.894531\" xlink:href=\"#DejaVuSans-109\"/>\n      <use x=\"2047.306641\" xlink:href=\"#DejaVuSans-111\"/>\n      <use x=\"2108.488281\" xlink:href=\"#DejaVuSans-100\"/>\n      <use x=\"2171.964844\" xlink:href=\"#DejaVuSans-97\"/>\n      <use x=\"2233.244141\" xlink:href=\"#DejaVuSans-116\"/>\n      <use x=\"2272.453125\" xlink:href=\"#DejaVuSans-105\"/>\n      <use x=\"2300.236328\" xlink:href=\"#DejaVuSans-111\"/>\n      <use x=\"2361.417969\" xlink:href=\"#DejaVuSans-110\"/>\n      <use x=\"2424.796875\" xlink:href=\"#DejaVuSans-44\"/>\n      <use x=\"2456.583984\" xlink:href=\"#DejaVuSans-32\"/>\n      <use x=\"2488.371094\" xlink:href=\"#DejaVuSans-97\"/>\n      <use x=\"2549.650391\" xlink:href=\"#DejaVuSans-110\"/>\n      <use x=\"2613.029297\" xlink:href=\"#DejaVuSans-100\"/>\n      <use x=\"2676.505859\" xlink:href=\"#DejaVuSans-32\"/>\n      <use x=\"2708.292969\" xlink:href=\"#DejaVuSans-102\"/>\n      <use x=\"2743.498047\" xlink:href=\"#DejaVuSans-111\"/>\n      <use x=\"2804.679688\" xlink:href=\"#DejaVuSans-111\"/>\n      <use x=\"2865.861328\" xlink:href=\"#DejaVuSans-100\"/>\n      <use x=\"2929.337891\" xlink:href=\"#DejaVuSans-32\"/>\n      <use x=\"2961.125\" xlink:href=\"#DejaVuSans-115\"/>\n      <use x=\"3013.224609\" xlink:href=\"#DejaVuSans-101\"/>\n      <use x=\"3074.748047\" xlink:href=\"#DejaVuSans-114\"/>\n      <use x=\"3115.861328\" xlink:href=\"#DejaVuSans-118\"/>\n      <use x=\"3175.041016\" xlink:href=\"#DejaVuSans-105\"/>\n      <use x=\"3202.824219\" xlink:href=\"#DejaVuSans-99\"/>\n      <use x=\"3257.804688\" xlink:href=\"#DejaVuSans-101\"/>\n      <use x=\"3319.328125\" xlink:href=\"#DejaVuSans-115\"/>\n     </g>\n    </g>\n   </g>\n  </g>\n  <g id=\"text_22\">\n   <!-- Total GDP for Direct Cannabis Related Industries (2010 - 2018) -->\n   <g transform=\"translate(82.569375 16.318125)scale(0.12 -0.12)\">\n    <defs>\n     <path d=\"M 0.484375 72.90625 \nL 67.671875 72.90625 \nL 67.671875 58.6875 \nL 43.5 58.6875 \nL 43.5 0 \nL 24.703125 0 \nL 24.703125 58.6875 \nL 0.484375 58.6875 \nz\n\" id=\"DejaVuSans-Bold-84\"/>\n     <path d=\"M 34.421875 43.5 \nQ 28.609375 43.5 25.5625 39.328125 \nQ 22.515625 35.15625 22.515625 27.296875 \nQ 22.515625 19.4375 25.5625 15.25 \nQ 28.609375 11.078125 34.421875 11.078125 \nQ 40.140625 11.078125 43.15625 15.25 \nQ 46.1875 19.4375 46.1875 27.296875 \nQ 46.1875 35.15625 43.15625 39.328125 \nQ 40.140625 43.5 34.421875 43.5 \nz\nM 34.421875 56 \nQ 48.53125 56 56.46875 48.375 \nQ 64.40625 40.765625 64.40625 27.296875 \nQ 64.40625 13.8125 56.46875 6.1875 \nQ 48.53125 -1.421875 34.421875 -1.421875 \nQ 20.265625 -1.421875 12.28125 6.1875 \nQ 4.296875 13.8125 4.296875 27.296875 \nQ 4.296875 40.765625 12.28125 48.375 \nQ 20.265625 56 34.421875 56 \nz\n\" id=\"DejaVuSans-Bold-111\"/>\n     <path d=\"M 27.484375 70.21875 \nL 27.484375 54.6875 \nL 45.515625 54.6875 \nL 45.515625 42.1875 \nL 27.484375 42.1875 \nL 27.484375 19 \nQ 27.484375 15.1875 29 13.84375 \nQ 30.515625 12.5 35.015625 12.5 \nL 44 12.5 \nL 44 0 \nL 29 0 \nQ 18.65625 0 14.328125 4.3125 \nQ 10.015625 8.640625 10.015625 19 \nL 10.015625 42.1875 \nL 1.3125 42.1875 \nL 1.3125 54.6875 \nL 10.015625 54.6875 \nL 10.015625 70.21875 \nz\n\" id=\"DejaVuSans-Bold-116\"/>\n     <path d=\"M 32.90625 24.609375 \nQ 27.4375 24.609375 24.671875 22.75 \nQ 21.921875 20.90625 21.921875 17.28125 \nQ 21.921875 13.96875 24.140625 12.078125 \nQ 26.375 10.203125 30.328125 10.203125 \nQ 35.25 10.203125 38.625 13.734375 \nQ 42 17.28125 42 22.609375 \nL 42 24.609375 \nz\nM 59.625 31.203125 \nL 59.625 0 \nL 42 0 \nL 42 8.109375 \nQ 38.484375 3.125 34.078125 0.84375 \nQ 29.6875 -1.421875 23.390625 -1.421875 \nQ 14.890625 -1.421875 9.59375 3.53125 \nQ 4.296875 8.5 4.296875 16.40625 \nQ 4.296875 26.03125 10.90625 30.515625 \nQ 17.53125 35.015625 31.6875 35.015625 \nL 42 35.015625 \nL 42 36.375 \nQ 42 40.53125 38.71875 42.453125 \nQ 35.453125 44.390625 28.515625 44.390625 \nQ 22.90625 44.390625 18.0625 43.265625 \nQ 13.234375 42.140625 9.078125 39.890625 \nL 9.078125 53.21875 \nQ 14.703125 54.59375 20.359375 55.296875 \nQ 26.03125 56 31.6875 56 \nQ 46.484375 56 53.046875 50.171875 \nQ 59.625 44.34375 59.625 31.203125 \nz\n\" id=\"DejaVuSans-Bold-97\"/>\n     <path d=\"M 8.40625 75.984375 \nL 25.875 75.984375 \nL 25.875 0 \nL 8.40625 0 \nz\n\" id=\"DejaVuSans-Bold-108\"/>\n     <path id=\"DejaVuSans-Bold-32\"/>\n     <path d=\"M 74.703125 5.421875 \nQ 67.671875 2 60.109375 0.28125 \nQ 52.546875 -1.421875 44.484375 -1.421875 \nQ 26.265625 -1.421875 15.625 8.765625 \nQ 4.984375 18.953125 4.984375 36.375 \nQ 4.984375 54 15.8125 64.109375 \nQ 26.65625 74.21875 45.515625 74.21875 \nQ 52.78125 74.21875 59.4375 72.84375 \nQ 66.109375 71.484375 72.015625 68.796875 \nL 72.015625 53.71875 \nQ 65.921875 57.171875 59.890625 58.875 \nQ 53.859375 60.59375 47.796875 60.59375 \nQ 36.578125 60.59375 30.5 54.3125 \nQ 24.421875 48.046875 24.421875 36.375 \nQ 24.421875 24.8125 30.28125 18.5 \nQ 36.140625 12.203125 46.921875 12.203125 \nQ 49.859375 12.203125 52.375 12.5625 \nQ 54.890625 12.9375 56.890625 13.71875 \nL 56.890625 27.875 \nL 45.40625 27.875 \nL 45.40625 40.484375 \nL 74.703125 40.484375 \nz\n\" id=\"DejaVuSans-Bold-71\"/>\n     <path d=\"M 27.984375 58.6875 \nL 27.984375 14.203125 \nL 34.71875 14.203125 \nQ 46.234375 14.203125 52.3125 19.921875 \nQ 58.40625 25.640625 58.40625 36.53125 \nQ 58.40625 47.359375 52.34375 53.015625 \nQ 46.296875 58.6875 34.71875 58.6875 \nz\nM 9.1875 72.90625 \nL 29 72.90625 \nQ 45.609375 72.90625 53.734375 70.53125 \nQ 61.859375 68.171875 67.671875 62.5 \nQ 72.796875 57.5625 75.28125 51.109375 \nQ 77.78125 44.671875 77.78125 36.53125 \nQ 77.78125 28.265625 75.28125 21.796875 \nQ 72.796875 15.328125 67.671875 10.40625 \nQ 61.8125 4.734375 53.609375 2.359375 \nQ 45.40625 0 29 0 \nL 9.1875 0 \nz\n\" id=\"DejaVuSans-Bold-68\"/>\n     <path d=\"M 9.1875 72.90625 \nL 40.375 72.90625 \nQ 54.296875 72.90625 61.734375 66.71875 \nQ 69.1875 60.546875 69.1875 49.125 \nQ 69.1875 37.640625 61.734375 31.46875 \nQ 54.296875 25.296875 40.375 25.296875 \nL 27.984375 25.296875 \nL 27.984375 0 \nL 9.1875 0 \nz\nM 27.984375 59.28125 \nL 27.984375 38.921875 \nL 38.375 38.921875 \nQ 43.84375 38.921875 46.828125 41.578125 \nQ 49.8125 44.234375 49.8125 49.125 \nQ 49.8125 54 46.828125 56.640625 \nQ 43.84375 59.28125 38.375 59.28125 \nz\n\" id=\"DejaVuSans-Bold-80\"/>\n     <path d=\"M 44.390625 75.984375 \nL 44.390625 64.5 \nL 34.71875 64.5 \nQ 31 64.5 29.53125 63.15625 \nQ 28.078125 61.8125 28.078125 58.5 \nL 28.078125 54.6875 \nL 43.015625 54.6875 \nL 43.015625 42.1875 \nL 28.078125 42.1875 \nL 28.078125 0 \nL 10.59375 0 \nL 10.59375 42.1875 \nL 1.90625 42.1875 \nL 1.90625 54.6875 \nL 10.59375 54.6875 \nL 10.59375 58.5 \nQ 10.59375 67.4375 15.578125 71.703125 \nQ 20.5625 75.984375 31 75.984375 \nz\n\" id=\"DejaVuSans-Bold-102\"/>\n     <path d=\"M 49.03125 39.796875 \nQ 46.734375 40.875 44.453125 41.375 \nQ 42.1875 41.890625 39.890625 41.890625 \nQ 33.15625 41.890625 29.515625 37.5625 \nQ 25.875 33.25 25.875 25.203125 \nL 25.875 0 \nL 8.40625 0 \nL 8.40625 54.6875 \nL 25.875 54.6875 \nL 25.875 45.703125 \nQ 29.25 51.078125 33.609375 53.53125 \nQ 37.984375 56 44.09375 56 \nQ 44.96875 56 45.984375 55.921875 \nQ 47.015625 55.859375 48.96875 55.609375 \nz\n\" id=\"DejaVuSans-Bold-114\"/>\n     <path d=\"M 8.40625 54.6875 \nL 25.875 54.6875 \nL 25.875 0 \nL 8.40625 0 \nz\nM 8.40625 75.984375 \nL 25.875 75.984375 \nL 25.875 61.71875 \nL 8.40625 61.71875 \nz\n\" id=\"DejaVuSans-Bold-105\"/>\n     <path d=\"M 62.984375 27.484375 \nL 62.984375 22.515625 \nL 22.125 22.515625 \nQ 22.75 16.359375 26.5625 13.28125 \nQ 30.375 10.203125 37.203125 10.203125 \nQ 42.71875 10.203125 48.5 11.84375 \nQ 54.296875 13.484375 60.40625 16.796875 \nL 60.40625 3.328125 \nQ 54.203125 0.984375 48 -0.21875 \nQ 41.796875 -1.421875 35.59375 -1.421875 \nQ 20.75 -1.421875 12.515625 6.125 \nQ 4.296875 13.671875 4.296875 27.296875 \nQ 4.296875 40.671875 12.375 48.328125 \nQ 20.453125 56 34.625 56 \nQ 47.515625 56 55.25 48.234375 \nQ 62.984375 40.484375 62.984375 27.484375 \nz\nM 45.015625 33.296875 \nQ 45.015625 38.28125 42.109375 41.328125 \nQ 39.203125 44.390625 34.515625 44.390625 \nQ 29.4375 44.390625 26.265625 41.53125 \nQ 23.09375 38.671875 22.3125 33.296875 \nz\n\" id=\"DejaVuSans-Bold-101\"/>\n     <path d=\"M 52.59375 52.984375 \nL 52.59375 38.71875 \nQ 49.03125 41.15625 45.4375 42.328125 \nQ 41.84375 43.5 37.984375 43.5 \nQ 30.671875 43.5 26.59375 39.234375 \nQ 22.515625 34.96875 22.515625 27.296875 \nQ 22.515625 19.625 26.59375 15.34375 \nQ 30.671875 11.078125 37.984375 11.078125 \nQ 42.09375 11.078125 45.78125 12.296875 \nQ 49.46875 13.53125 52.59375 15.921875 \nL 52.59375 1.609375 \nQ 48.484375 0.09375 44.265625 -0.65625 \nQ 40.046875 -1.421875 35.796875 -1.421875 \nQ 21 -1.421875 12.640625 6.171875 \nQ 4.296875 13.765625 4.296875 27.296875 \nQ 4.296875 40.828125 12.640625 48.40625 \nQ 21 56 35.796875 56 \nQ 40.09375 56 44.265625 55.25 \nQ 48.4375 54.5 52.59375 52.984375 \nz\n\" id=\"DejaVuSans-Bold-99\"/>\n     <path d=\"M 67 4 \nQ 61.8125 1.3125 56.203125 -0.046875 \nQ 50.59375 -1.421875 44.484375 -1.421875 \nQ 26.265625 -1.421875 15.625 8.765625 \nQ 4.984375 18.953125 4.984375 36.375 \nQ 4.984375 53.859375 15.625 64.03125 \nQ 26.265625 74.21875 44.484375 74.21875 \nQ 50.59375 74.21875 56.203125 72.84375 \nQ 61.8125 71.484375 67 68.796875 \nL 67 53.71875 \nQ 61.765625 57.28125 56.6875 58.9375 \nQ 51.609375 60.59375 46 60.59375 \nQ 35.9375 60.59375 30.171875 54.140625 \nQ 24.421875 47.703125 24.421875 36.375 \nQ 24.421875 25.09375 30.171875 18.640625 \nQ 35.9375 12.203125 46 12.203125 \nQ 51.609375 12.203125 56.6875 13.859375 \nQ 61.765625 15.53125 67 19.09375 \nz\n\" id=\"DejaVuSans-Bold-67\"/>\n     <path d=\"M 63.375 33.296875 \nL 63.375 0 \nL 45.796875 0 \nL 45.796875 5.421875 \nL 45.796875 25.484375 \nQ 45.796875 32.5625 45.484375 35.25 \nQ 45.171875 37.9375 44.390625 39.203125 \nQ 43.359375 40.921875 41.59375 41.875 \nQ 39.84375 42.828125 37.59375 42.828125 \nQ 32.125 42.828125 29 38.59375 \nQ 25.875 34.375 25.875 26.90625 \nL 25.875 0 \nL 8.40625 0 \nL 8.40625 54.6875 \nL 25.875 54.6875 \nL 25.875 46.6875 \nQ 29.828125 51.46875 34.265625 53.734375 \nQ 38.71875 56 44.09375 56 \nQ 53.5625 56 58.46875 50.1875 \nQ 63.375 44.390625 63.375 33.296875 \nz\n\" id=\"DejaVuSans-Bold-110\"/>\n     <path d=\"M 37.5 11.28125 \nQ 43.109375 11.28125 46.0625 15.375 \nQ 49.03125 19.484375 49.03125 27.296875 \nQ 49.03125 35.109375 46.0625 39.203125 \nQ 43.109375 43.3125 37.5 43.3125 \nQ 31.890625 43.3125 28.875 39.1875 \nQ 25.875 35.0625 25.875 27.296875 \nQ 25.875 19.53125 28.875 15.40625 \nQ 31.890625 11.28125 37.5 11.28125 \nz\nM 25.875 46.6875 \nQ 29.5 51.46875 33.890625 53.734375 \nQ 38.28125 56 44 56 \nQ 54.109375 56 60.59375 47.96875 \nQ 67.09375 39.9375 67.09375 27.296875 \nQ 67.09375 14.65625 60.59375 6.609375 \nQ 54.109375 -1.421875 44 -1.421875 \nQ 38.28125 -1.421875 33.890625 0.84375 \nQ 29.5 3.125 25.875 7.90625 \nL 25.875 0 \nL 8.40625 0 \nL 8.40625 75.984375 \nL 25.875 75.984375 \nz\n\" id=\"DejaVuSans-Bold-98\"/>\n     <path d=\"M 51.125 52.984375 \nL 51.125 39.703125 \nQ 45.515625 42.046875 40.28125 43.21875 \nQ 35.0625 44.390625 30.421875 44.390625 \nQ 25.4375 44.390625 23.015625 43.140625 \nQ 20.609375 41.890625 20.609375 39.3125 \nQ 20.609375 37.203125 22.4375 36.078125 \nQ 24.265625 34.96875 29 34.421875 \nL 32.078125 33.984375 \nQ 45.515625 32.28125 50.140625 28.375 \nQ 54.78125 24.46875 54.78125 16.109375 \nQ 54.78125 7.375 48.328125 2.96875 \nQ 41.890625 -1.421875 29.109375 -1.421875 \nQ 23.6875 -1.421875 17.890625 -0.5625 \nQ 12.109375 0.296875 6 2 \nL 6 15.28125 \nQ 11.234375 12.75 16.71875 11.46875 \nQ 22.21875 10.203125 27.875 10.203125 \nQ 33.015625 10.203125 35.59375 11.609375 \nQ 38.1875 13.03125 38.1875 15.828125 \nQ 38.1875 18.171875 36.40625 19.3125 \nQ 34.625 20.453125 29.296875 21.09375 \nL 26.21875 21.484375 \nQ 14.546875 22.953125 9.859375 26.90625 \nQ 5.171875 30.859375 5.171875 38.921875 \nQ 5.171875 47.609375 11.125 51.796875 \nQ 17.09375 56 29.390625 56 \nQ 34.234375 56 39.546875 55.265625 \nQ 44.875 54.546875 51.125 52.984375 \nz\n\" id=\"DejaVuSans-Bold-115\"/>\n     <path d=\"M 35.890625 40.578125 \nQ 41.796875 40.578125 44.359375 42.765625 \nQ 46.921875 44.96875 46.921875 50 \nQ 46.921875 54.984375 44.359375 57.125 \nQ 41.796875 59.28125 35.890625 59.28125 \nL 27.984375 59.28125 \nL 27.984375 40.578125 \nz\nM 27.984375 27.59375 \nL 27.984375 0 \nL 9.1875 0 \nL 9.1875 72.90625 \nL 37.890625 72.90625 \nQ 52.296875 72.90625 59 68.0625 \nQ 65.71875 63.234375 65.71875 52.78125 \nQ 65.71875 45.5625 62.21875 40.921875 \nQ 58.734375 36.28125 51.703125 34.078125 \nQ 55.5625 33.203125 58.609375 30.09375 \nQ 61.671875 27 64.796875 20.703125 \nL 75 0 \nL 54.984375 0 \nL 46.09375 18.109375 \nQ 43.40625 23.578125 40.640625 25.578125 \nQ 37.890625 27.59375 33.296875 27.59375 \nz\n\" id=\"DejaVuSans-Bold-82\"/>\n     <path d=\"M 45.609375 46.6875 \nL 45.609375 75.984375 \nL 63.1875 75.984375 \nL 63.1875 0 \nL 45.609375 0 \nL 45.609375 7.90625 \nQ 42 3.078125 37.640625 0.828125 \nQ 33.296875 -1.421875 27.59375 -1.421875 \nQ 17.484375 -1.421875 10.984375 6.609375 \nQ 4.5 14.65625 4.5 27.296875 \nQ 4.5 39.9375 10.984375 47.96875 \nQ 17.484375 56 27.59375 56 \nQ 33.25 56 37.625 53.734375 \nQ 42 51.46875 45.609375 46.6875 \nz\nM 34.078125 11.28125 \nQ 39.703125 11.28125 42.65625 15.375 \nQ 45.609375 19.484375 45.609375 27.296875 \nQ 45.609375 35.109375 42.65625 39.203125 \nQ 39.703125 43.3125 34.078125 43.3125 \nQ 28.515625 43.3125 25.5625 39.203125 \nQ 22.609375 35.109375 22.609375 27.296875 \nQ 22.609375 19.484375 25.5625 15.375 \nQ 28.515625 11.28125 34.078125 11.28125 \nz\n\" id=\"DejaVuSans-Bold-100\"/>\n     <path d=\"M 9.1875 72.90625 \nL 27.984375 72.90625 \nL 27.984375 0 \nL 9.1875 0 \nz\n\" id=\"DejaVuSans-Bold-73\"/>\n     <path d=\"M 7.8125 21.296875 \nL 7.8125 54.6875 \nL 25.390625 54.6875 \nL 25.390625 49.21875 \nQ 25.390625 44.78125 25.34375 38.0625 \nQ 25.296875 31.34375 25.296875 29.109375 \nQ 25.296875 22.515625 25.640625 19.609375 \nQ 25.984375 16.703125 26.8125 15.375 \nQ 27.875 13.671875 29.609375 12.734375 \nQ 31.34375 11.8125 33.59375 11.8125 \nQ 39.0625 11.8125 42.1875 16.015625 \nQ 45.3125 20.21875 45.3125 27.6875 \nL 45.3125 54.6875 \nL 62.796875 54.6875 \nL 62.796875 0 \nL 45.3125 0 \nL 45.3125 7.90625 \nQ 41.359375 3.125 36.9375 0.84375 \nQ 32.515625 -1.421875 27.203125 -1.421875 \nQ 17.71875 -1.421875 12.765625 4.390625 \nQ 7.8125 10.203125 7.8125 21.296875 \nz\n\" id=\"DejaVuSans-Bold-117\"/>\n     <path d=\"M 37.703125 -13.1875 \nL 23.1875 -13.1875 \nQ 15.71875 -1.125 12.15625 9.734375 \nQ 8.59375 20.609375 8.59375 31.296875 \nQ 8.59375 42 12.171875 52.953125 \nQ 15.765625 63.921875 23.1875 75.875 \nL 37.703125 75.875 \nQ 31.453125 64.3125 28.328125 53.25 \nQ 25.203125 42.1875 25.203125 31.390625 \nQ 25.203125 20.609375 28.296875 9.515625 \nQ 31.390625 -1.5625 37.703125 -13.1875 \nz\n\" id=\"DejaVuSans-Bold-40\"/>\n     <path d=\"M 28.8125 13.8125 \nL 60.890625 13.8125 \nL 60.890625 0 \nL 7.90625 0 \nL 7.90625 13.8125 \nL 34.515625 37.3125 \nQ 38.09375 40.53125 39.796875 43.609375 \nQ 41.5 46.6875 41.5 50 \nQ 41.5 55.125 38.0625 58.25 \nQ 34.625 61.375 28.90625 61.375 \nQ 24.515625 61.375 19.28125 59.5 \nQ 14.0625 57.625 8.109375 53.90625 \nL 8.109375 69.921875 \nQ 14.453125 72.015625 20.65625 73.109375 \nQ 26.859375 74.21875 32.8125 74.21875 \nQ 45.90625 74.21875 53.15625 68.453125 \nQ 60.40625 62.703125 60.40625 52.390625 \nQ 60.40625 46.4375 57.328125 41.28125 \nQ 54.25 36.140625 44.390625 27.484375 \nz\n\" id=\"DejaVuSans-Bold-50\"/>\n     <path d=\"M 46 36.53125 \nQ 46 50.203125 43.4375 55.78125 \nQ 40.875 61.375 34.8125 61.375 \nQ 28.765625 61.375 26.171875 55.78125 \nQ 23.578125 50.203125 23.578125 36.53125 \nQ 23.578125 22.703125 26.171875 17.03125 \nQ 28.765625 11.375 34.8125 11.375 \nQ 40.828125 11.375 43.40625 17.03125 \nQ 46 22.703125 46 36.53125 \nz\nM 64.796875 36.375 \nQ 64.796875 18.265625 56.984375 8.421875 \nQ 49.171875 -1.421875 34.8125 -1.421875 \nQ 20.40625 -1.421875 12.59375 8.421875 \nQ 4.78125 18.265625 4.78125 36.375 \nQ 4.78125 54.546875 12.59375 64.375 \nQ 20.40625 74.21875 34.8125 74.21875 \nQ 49.171875 74.21875 56.984375 64.375 \nQ 64.796875 54.546875 64.796875 36.375 \nz\n\" id=\"DejaVuSans-Bold-48\"/>\n     <path d=\"M 11.71875 12.984375 \nL 28.328125 12.984375 \nL 28.328125 60.109375 \nL 11.28125 56.59375 \nL 11.28125 69.390625 \nL 28.21875 72.90625 \nL 46.09375 72.90625 \nL 46.09375 12.984375 \nL 62.703125 12.984375 \nL 62.703125 0 \nL 11.71875 0 \nz\n\" id=\"DejaVuSans-Bold-49\"/>\n     <path d=\"M 5.421875 35.890625 \nL 36.078125 35.890625 \nL 36.078125 21.6875 \nL 5.421875 21.6875 \nz\n\" id=\"DejaVuSans-Bold-45\"/>\n     <path d=\"M 34.8125 32.625 \nQ 29.546875 32.625 26.703125 29.734375 \nQ 23.875 26.859375 23.875 21.484375 \nQ 23.875 16.109375 26.703125 13.25 \nQ 29.546875 10.40625 34.8125 10.40625 \nQ 40.046875 10.40625 42.828125 13.25 \nQ 45.609375 16.109375 45.609375 21.484375 \nQ 45.609375 26.90625 42.828125 29.765625 \nQ 40.046875 32.625 34.8125 32.625 \nz\nM 21.09375 38.8125 \nQ 14.453125 40.828125 11.078125 44.96875 \nQ 7.71875 49.125 7.71875 55.328125 \nQ 7.71875 64.546875 14.59375 69.375 \nQ 21.484375 74.21875 34.8125 74.21875 \nQ 48.046875 74.21875 54.921875 69.40625 \nQ 61.8125 64.59375 61.8125 55.328125 \nQ 61.8125 49.125 58.421875 44.96875 \nQ 55.03125 40.828125 48.390625 38.8125 \nQ 55.8125 36.765625 59.59375 32.15625 \nQ 63.375 27.546875 63.375 20.515625 \nQ 63.375 9.671875 56.171875 4.125 \nQ 48.96875 -1.421875 34.8125 -1.421875 \nQ 20.609375 -1.421875 13.359375 4.125 \nQ 6.109375 9.671875 6.109375 20.515625 \nQ 6.109375 27.546875 9.890625 32.15625 \nQ 13.671875 36.765625 21.09375 38.8125 \nz\nM 25.484375 53.421875 \nQ 25.484375 49.078125 27.90625 46.734375 \nQ 30.328125 44.390625 34.8125 44.390625 \nQ 39.203125 44.390625 41.59375 46.734375 \nQ 44 49.078125 44 53.421875 \nQ 44 57.765625 41.59375 60.078125 \nQ 39.203125 62.40625 34.8125 62.40625 \nQ 30.328125 62.40625 27.90625 60.0625 \nQ 25.484375 57.71875 25.484375 53.421875 \nz\n\" id=\"DejaVuSans-Bold-56\"/>\n     <path d=\"M 8.015625 -13.1875 \nQ 14.265625 -1.5625 17.390625 9.515625 \nQ 20.515625 20.609375 20.515625 31.390625 \nQ 20.515625 42.1875 17.390625 53.25 \nQ 14.265625 64.3125 8.015625 75.875 \nL 22.515625 75.875 \nQ 29.9375 63.921875 33.515625 52.953125 \nQ 37.109375 42 37.109375 31.296875 \nQ 37.109375 20.609375 33.546875 9.734375 \nQ 29.984375 -1.125 22.515625 -13.1875 \nz\n\" id=\"DejaVuSans-Bold-41\"/>\n    </defs>\n    <use xlink:href=\"#DejaVuSans-Bold-84\"/>\n    <use x=\"54.962891\" xlink:href=\"#DejaVuSans-Bold-111\"/>\n    <use x=\"123.664062\" xlink:href=\"#DejaVuSans-Bold-116\"/>\n    <use x=\"171.466797\" xlink:href=\"#DejaVuSans-Bold-97\"/>\n    <use x=\"238.947266\" xlink:href=\"#DejaVuSans-Bold-108\"/>\n    <use x=\"273.224609\" xlink:href=\"#DejaVuSans-Bold-32\"/>\n    <use x=\"308.039062\" xlink:href=\"#DejaVuSans-Bold-71\"/>\n    <use x=\"390.119141\" xlink:href=\"#DejaVuSans-Bold-68\"/>\n    <use x=\"473.126953\" xlink:href=\"#DejaVuSans-Bold-80\"/>\n    <use x=\"546.417969\" xlink:href=\"#DejaVuSans-Bold-32\"/>\n    <use x=\"581.232422\" xlink:href=\"#DejaVuSans-Bold-102\"/>\n    <use x=\"624.738281\" xlink:href=\"#DejaVuSans-Bold-111\"/>\n    <use x=\"693.439453\" xlink:href=\"#DejaVuSans-Bold-114\"/>\n    <use x=\"742.755859\" xlink:href=\"#DejaVuSans-Bold-32\"/>\n    <use x=\"777.570312\" xlink:href=\"#DejaVuSans-Bold-68\"/>\n    <use x=\"860.578125\" xlink:href=\"#DejaVuSans-Bold-105\"/>\n    <use x=\"894.855469\" xlink:href=\"#DejaVuSans-Bold-114\"/>\n    <use x=\"944.171875\" xlink:href=\"#DejaVuSans-Bold-101\"/>\n    <use x=\"1011.994141\" xlink:href=\"#DejaVuSans-Bold-99\"/>\n    <use x=\"1071.271484\" xlink:href=\"#DejaVuSans-Bold-116\"/>\n    <use x=\"1119.074219\" xlink:href=\"#DejaVuSans-Bold-32\"/>\n    <use x=\"1153.888672\" xlink:href=\"#DejaVuSans-Bold-67\"/>\n    <use x=\"1227.277344\" xlink:href=\"#DejaVuSans-Bold-97\"/>\n    <use x=\"1294.757812\" xlink:href=\"#DejaVuSans-Bold-110\"/>\n    <use x=\"1365.949219\" xlink:href=\"#DejaVuSans-Bold-110\"/>\n    <use x=\"1437.140625\" xlink:href=\"#DejaVuSans-Bold-97\"/>\n    <use x=\"1504.621094\" xlink:href=\"#DejaVuSans-Bold-98\"/>\n    <use x=\"1576.203125\" xlink:href=\"#DejaVuSans-Bold-105\"/>\n    <use x=\"1610.480469\" xlink:href=\"#DejaVuSans-Bold-115\"/>\n    <use x=\"1670.001953\" xlink:href=\"#DejaVuSans-Bold-32\"/>\n    <use x=\"1704.816406\" xlink:href=\"#DejaVuSans-Bold-82\"/>\n    <use x=\"1781.818359\" xlink:href=\"#DejaVuSans-Bold-101\"/>\n    <use x=\"1849.640625\" xlink:href=\"#DejaVuSans-Bold-108\"/>\n    <use x=\"1883.917969\" xlink:href=\"#DejaVuSans-Bold-97\"/>\n    <use x=\"1951.398438\" xlink:href=\"#DejaVuSans-Bold-116\"/>\n    <use x=\"1999.201172\" xlink:href=\"#DejaVuSans-Bold-101\"/>\n    <use x=\"2067.023438\" xlink:href=\"#DejaVuSans-Bold-100\"/>\n    <use x=\"2138.605469\" xlink:href=\"#DejaVuSans-Bold-32\"/>\n    <use x=\"2173.419922\" xlink:href=\"#DejaVuSans-Bold-73\"/>\n    <use x=\"2210.626953\" xlink:href=\"#DejaVuSans-Bold-110\"/>\n    <use x=\"2281.818359\" xlink:href=\"#DejaVuSans-Bold-100\"/>\n    <use x=\"2353.400391\" xlink:href=\"#DejaVuSans-Bold-117\"/>\n    <use x=\"2424.591797\" xlink:href=\"#DejaVuSans-Bold-115\"/>\n    <use x=\"2484.113281\" xlink:href=\"#DejaVuSans-Bold-116\"/>\n    <use x=\"2531.916016\" xlink:href=\"#DejaVuSans-Bold-114\"/>\n    <use x=\"2581.232422\" xlink:href=\"#DejaVuSans-Bold-105\"/>\n    <use x=\"2615.509766\" xlink:href=\"#DejaVuSans-Bold-101\"/>\n    <use x=\"2683.332031\" xlink:href=\"#DejaVuSans-Bold-115\"/>\n    <use x=\"2742.853516\" xlink:href=\"#DejaVuSans-Bold-32\"/>\n    <use x=\"2777.667969\" xlink:href=\"#DejaVuSans-Bold-40\"/>\n    <use x=\"2823.371094\" xlink:href=\"#DejaVuSans-Bold-50\"/>\n    <use x=\"2892.951172\" xlink:href=\"#DejaVuSans-Bold-48\"/>\n    <use x=\"2962.53125\" xlink:href=\"#DejaVuSans-Bold-49\"/>\n    <use x=\"3032.111328\" xlink:href=\"#DejaVuSans-Bold-48\"/>\n    <use x=\"3101.691406\" xlink:href=\"#DejaVuSans-Bold-32\"/>\n    <use x=\"3136.505859\" xlink:href=\"#DejaVuSans-Bold-45\"/>\n    <use x=\"3178.009766\" xlink:href=\"#DejaVuSans-Bold-32\"/>\n    <use x=\"3212.824219\" xlink:href=\"#DejaVuSans-Bold-50\"/>\n    <use x=\"3282.404297\" xlink:href=\"#DejaVuSans-Bold-48\"/>\n    <use x=\"3351.984375\" xlink:href=\"#DejaVuSans-Bold-49\"/>\n    <use x=\"3421.564453\" xlink:href=\"#DejaVuSans-Bold-56\"/>\n    <use x=\"3491.144531\" xlink:href=\"#DejaVuSans-Bold-41\"/>\n   </g>\n  </g>\n </g>\n <defs>\n  <clipPath id=\"p3cc3f410c6\">\n   <rect height=\"271.8\" width=\"446.4\" x=\"78.778125\" y=\"43.2\"/>\n  </clipPath>\n </defs>\n</svg>\n",
      "image/png": "[encoded data removed]"
     },
     "metadata": {
      "needs_background": "light"
     }
    }
   ],
   "source": [
    "#Certain Industries\n",
    "SomeGDP = pd.read_csv(\"../data/cleandata/COGDPDetailed.csv\")\n",
    "\n",
    "\n",
    "SomeGDP = SomeGDP[['Description', '    Agriculture, forestry, fishing and hunting', '    Retail trade', '      Real estate and rental and leasing', '    Professional and business services', '    Arts, entertainment, recreation, accommodation, and food services']]\n",
    "SomeGDP.columns = ['Year', 'Agriculture, forestry, fishing and hunting', 'Retail trade', 'Real estate and rental and leasing', 'Professional and business services', 'Arts, entertainment, recreation, accommodation, and food services']\n",
    "SomeGDP.set_index(\"Year\", inplace=True)\n",
    "#SomeGDP.head(10)\n",
    "#SomeGDP.to_csv(\"../data/cleandata/COGDPIsolated.csv\")\n",
    "\n",
    "#---------------------\n",
    "\n",
    "plt.figure(figsize=(8,5))\n",
    "plt.plot(SomeGDP, linestyle='-', marker='.')\n",
    "\n",
    "plt.suptitle('Total GDP for Direct Cannabis Related Industries (2010 - 2018)', weight='bold')\n",
    "plt.xlabel('Year')\n",
    "plt.ylabel('Dollar Amount')\n",
    "plt.ticklabel_format(style='plain', axis='y')\n",
    "plt.legend(['Agriculture, forestry, fishing and hunting', 'Retail trade', 'Real estate and rental and leasing', 'Professional and business services', 'Arts, entertainment, recreation, accommodation, and food services'])\n",
    "\n",
    "\n",
    "plt.grid()\n",
    "plt.show()\n",
    "plt.close()\n",
    "\n"
   ]
  },
  {
   "cell_type": "code",
   "execution_count": 42,
   "metadata": {},
   "outputs": [
    {
     "output_type": "display_data",
     "data": {
      "text/plain": "<Figure size 576x360 with 1 Axes>",
      "image/svg+xml": "<?xml version=\"1.0\" encoding=\"utf-8\" standalone=\"no\"?>\n<!DOCTYPE svg PUBLIC \"-//W3C//DTD SVG 1.1//EN\"\n  \"http://www.w3.org/Graphics/SVG/1.1/DTD/svg11.dtd\">\n<!-- Created with matplotlib (https://matplotlib.org/) -->\n<svg height=\"352.55625pt\" version=\"1.1\" viewBox=\"0 0 532.378125 352.55625\" width=\"532.378125pt\" xmlns=\"http://www.w3.org/2000/svg\" xmlns:xlink=\"http://www.w3.org/1999/xlink\">\n <metadata>\n  <rdf:RDF xmlns:cc=\"http://creativecommons.org/ns#\" xmlns:dc=\"http://purl.org/dc/elements/1.1/\" xmlns:rdf=\"http://www.w3.org/1999/02/22-rdf-syntax-ns#\">\n   <cc:Work>\n    <dc:type rdf:resource=\"http://purl.org/dc/dcmitype/StillImage\"/>\n    <dc:date>2020-11-07T08:18:41.534816</dc:date>\n    <dc:format>image/svg+xml</dc:format>\n    <dc:creator>\n     <cc:Agent>\n      <dc:title>Matplotlib v3.3.1, https://matplotlib.org/</dc:title>\n     </cc:Agent>\n    </dc:creator>\n   </cc:Work>\n  </rdf:RDF>\n </metadata>\n <defs>\n  <style type=\"text/css\">*{stroke-linecap:butt;stroke-linejoin:round;}</style>\n </defs>\n <g id=\"figure_1\">\n  <g id=\"patch_1\">\n   <path d=\"M 0 352.55625 \nL 532.378125 352.55625 \nL 532.378125 0 \nL 0 0 \nz\n\" style=\"fill:none;\"/>\n  </g>\n  <g id=\"axes_1\">\n   <g id=\"patch_2\">\n    <path d=\"M 78.778125 315 \nL 525.178125 315 \nL 525.178125 43.2 \nL 78.778125 43.2 \nz\n\" style=\"fill:#ffffff;\"/>\n   </g>\n   <g id=\"matplotlib.axis_1\">\n    <g id=\"xtick_1\">\n     <g id=\"line2d_1\">\n      <defs>\n       <path d=\"M 0 0 \nL 0 3.5 \n\" id=\"m8c39f97a8e\" style=\"stroke:#000000;stroke-width:0.8;\"/>\n      </defs>\n      <g>\n       <use style=\"stroke:#000000;stroke-width:0.8;\" x=\"99.069034\" xlink:href=\"#m8c39f97a8e\" y=\"315\"/>\n      </g>\n     </g>\n     <g id=\"text_1\">\n      <!-- 2010 -->\n      <g transform=\"translate(86.344034 329.598437)scale(0.1 -0.1)\">\n       <defs>\n        <path d=\"M 19.1875 8.296875 \nL 53.609375 8.296875 \nL 53.609375 0 \nL 7.328125 0 \nL 7.328125 8.296875 \nQ 12.9375 14.109375 22.625 23.890625 \nQ 32.328125 33.6875 34.8125 36.53125 \nQ 39.546875 41.84375 41.421875 45.53125 \nQ 43.3125 49.21875 43.3125 52.78125 \nQ 43.3125 58.59375 39.234375 62.25 \nQ 35.15625 65.921875 28.609375 65.921875 \nQ 23.96875 65.921875 18.8125 64.3125 \nQ 13.671875 62.703125 7.8125 59.421875 \nL 7.8125 69.390625 \nQ 13.765625 71.78125 18.9375 73 \nQ 24.125 74.21875 28.421875 74.21875 \nQ 39.75 74.21875 46.484375 68.546875 \nQ 53.21875 62.890625 53.21875 53.421875 \nQ 53.21875 48.921875 51.53125 44.890625 \nQ 49.859375 40.875 45.40625 35.40625 \nQ 44.1875 33.984375 37.640625 27.21875 \nQ 31.109375 20.453125 19.1875 8.296875 \nz\n\" id=\"DejaVuSans-50\"/>\n        <path d=\"M 31.78125 66.40625 \nQ 24.171875 66.40625 20.328125 58.90625 \nQ 16.5 51.421875 16.5 36.375 \nQ 16.5 21.390625 20.328125 13.890625 \nQ 24.171875 6.390625 31.78125 6.390625 \nQ 39.453125 6.390625 43.28125 13.890625 \nQ 47.125 21.390625 47.125 36.375 \nQ 47.125 51.421875 43.28125 58.90625 \nQ 39.453125 66.40625 31.78125 66.40625 \nz\nM 31.78125 74.21875 \nQ 44.046875 74.21875 50.515625 64.515625 \nQ 56.984375 54.828125 56.984375 36.375 \nQ 56.984375 17.96875 50.515625 8.265625 \nQ 44.046875 -1.421875 31.78125 -1.421875 \nQ 19.53125 -1.421875 13.0625 8.265625 \nQ 6.59375 17.96875 6.59375 36.375 \nQ 6.59375 54.828125 13.0625 64.515625 \nQ 19.53125 74.21875 31.78125 74.21875 \nz\n\" id=\"DejaVuSans-48\"/>\n        <path d=\"M 12.40625 8.296875 \nL 28.515625 8.296875 \nL 28.515625 63.921875 \nL 10.984375 60.40625 \nL 10.984375 69.390625 \nL 28.421875 72.90625 \nL 38.28125 72.90625 \nL 38.28125 8.296875 \nL 54.390625 8.296875 \nL 54.390625 0 \nL 12.40625 0 \nz\n\" id=\"DejaVuSans-49\"/>\n       </defs>\n       <use xlink:href=\"#DejaVuSans-50\"/>\n       <use x=\"63.623047\" xlink:href=\"#DejaVuSans-48\"/>\n       <use x=\"127.246094\" xlink:href=\"#DejaVuSans-49\"/>\n       <use x=\"190.869141\" xlink:href=\"#DejaVuSans-48\"/>\n      </g>\n     </g>\n    </g>\n    <g id=\"xtick_2\">\n     <g id=\"line2d_2\">\n      <g>\n       <use style=\"stroke:#000000;stroke-width:0.8;\" x=\"149.796307\" xlink:href=\"#m8c39f97a8e\" y=\"315\"/>\n      </g>\n     </g>\n     <g id=\"text_2\">\n      <!-- 2011 -->\n      <g transform=\"translate(137.071307 329.598437)scale(0.1 -0.1)\">\n       <use xlink:href=\"#DejaVuSans-50\"/>\n       <use x=\"63.623047\" xlink:href=\"#DejaVuSans-48\"/>\n       <use x=\"127.246094\" xlink:href=\"#DejaVuSans-49\"/>\n       <use x=\"190.869141\" xlink:href=\"#DejaVuSans-49\"/>\n      </g>\n     </g>\n    </g>\n    <g id=\"xtick_3\">\n     <g id=\"line2d_3\">\n      <g>\n       <use style=\"stroke:#000000;stroke-width:0.8;\" x=\"200.52358\" xlink:href=\"#m8c39f97a8e\" y=\"315\"/>\n      </g>\n     </g>\n     <g id=\"text_3\">\n      <!-- 2012 -->\n      <g transform=\"translate(187.79858 329.598437)scale(0.1 -0.1)\">\n       <use xlink:href=\"#DejaVuSans-50\"/>\n       <use x=\"63.623047\" xlink:href=\"#DejaVuSans-48\"/>\n       <use x=\"127.246094\" xlink:href=\"#DejaVuSans-49\"/>\n       <use x=\"190.869141\" xlink:href=\"#DejaVuSans-50\"/>\n      </g>\n     </g>\n    </g>\n    <g id=\"xtick_4\">\n     <g id=\"line2d_4\">\n      <g>\n       <use style=\"stroke:#000000;stroke-width:0.8;\" x=\"251.250852\" xlink:href=\"#m8c39f97a8e\" y=\"315\"/>\n      </g>\n     </g>\n     <g id=\"text_4\">\n      <!-- 2013 -->\n      <g transform=\"translate(238.525852 329.598437)scale(0.1 -0.1)\">\n       <defs>\n        <path d=\"M 40.578125 39.3125 \nQ 47.65625 37.796875 51.625 33 \nQ 55.609375 28.21875 55.609375 21.1875 \nQ 55.609375 10.40625 48.1875 4.484375 \nQ 40.765625 -1.421875 27.09375 -1.421875 \nQ 22.515625 -1.421875 17.65625 -0.515625 \nQ 12.796875 0.390625 7.625 2.203125 \nL 7.625 11.71875 \nQ 11.71875 9.328125 16.59375 8.109375 \nQ 21.484375 6.890625 26.8125 6.890625 \nQ 36.078125 6.890625 40.9375 10.546875 \nQ 45.796875 14.203125 45.796875 21.1875 \nQ 45.796875 27.640625 41.28125 31.265625 \nQ 36.765625 34.90625 28.71875 34.90625 \nL 20.21875 34.90625 \nL 20.21875 43.015625 \nL 29.109375 43.015625 \nQ 36.375 43.015625 40.234375 45.921875 \nQ 44.09375 48.828125 44.09375 54.296875 \nQ 44.09375 59.90625 40.109375 62.90625 \nQ 36.140625 65.921875 28.71875 65.921875 \nQ 24.65625 65.921875 20.015625 65.03125 \nQ 15.375 64.15625 9.8125 62.3125 \nL 9.8125 71.09375 \nQ 15.4375 72.65625 20.34375 73.4375 \nQ 25.25 74.21875 29.59375 74.21875 \nQ 40.828125 74.21875 47.359375 69.109375 \nQ 53.90625 64.015625 53.90625 55.328125 \nQ 53.90625 49.265625 50.4375 45.09375 \nQ 46.96875 40.921875 40.578125 39.3125 \nz\n\" id=\"DejaVuSans-51\"/>\n       </defs>\n       <use xlink:href=\"#DejaVuSans-50\"/>\n       <use x=\"63.623047\" xlink:href=\"#DejaVuSans-48\"/>\n       <use x=\"127.246094\" xlink:href=\"#DejaVuSans-49\"/>\n       <use x=\"190.869141\" xlink:href=\"#DejaVuSans-51\"/>\n      </g>\n     </g>\n    </g>\n    <g id=\"xtick_5\">\n     <g id=\"line2d_5\">\n      <g>\n       <use style=\"stroke:#000000;stroke-width:0.8;\" x=\"301.978125\" xlink:href=\"#m8c39f97a8e\" y=\"315\"/>\n      </g>\n     </g>\n     <g id=\"text_5\">\n      <!-- 2014 -->\n      <g transform=\"translate(289.253125 329.598437)scale(0.1 -0.1)\">\n       <defs>\n        <path d=\"M 37.796875 64.3125 \nL 12.890625 25.390625 \nL 37.796875 25.390625 \nz\nM 35.203125 72.90625 \nL 47.609375 72.90625 \nL 47.609375 25.390625 \nL 58.015625 25.390625 \nL 58.015625 17.1875 \nL 47.609375 17.1875 \nL 47.609375 0 \nL 37.796875 0 \nL 37.796875 17.1875 \nL 4.890625 17.1875 \nL 4.890625 26.703125 \nz\n\" id=\"DejaVuSans-52\"/>\n       </defs>\n       <use xlink:href=\"#DejaVuSans-50\"/>\n       <use x=\"63.623047\" xlink:href=\"#DejaVuSans-48\"/>\n       <use x=\"127.246094\" xlink:href=\"#DejaVuSans-49\"/>\n       <use x=\"190.869141\" xlink:href=\"#DejaVuSans-52\"/>\n      </g>\n     </g>\n    </g>\n    <g id=\"xtick_6\">\n     <g id=\"line2d_6\">\n      <g>\n       <use style=\"stroke:#000000;stroke-width:0.8;\" x=\"352.705398\" xlink:href=\"#m8c39f97a8e\" y=\"315\"/>\n      </g>\n     </g>\n     <g id=\"text_6\">\n      <!-- 2015 -->\n      <g transform=\"translate(339.980398 329.598437)scale(0.1 -0.1)\">\n       <defs>\n        <path d=\"M 10.796875 72.90625 \nL 49.515625 72.90625 \nL 49.515625 64.59375 \nL 19.828125 64.59375 \nL 19.828125 46.734375 \nQ 21.96875 47.46875 24.109375 47.828125 \nQ 26.265625 48.1875 28.421875 48.1875 \nQ 40.625 48.1875 47.75 41.5 \nQ 54.890625 34.8125 54.890625 23.390625 \nQ 54.890625 11.625 47.5625 5.09375 \nQ 40.234375 -1.421875 26.90625 -1.421875 \nQ 22.3125 -1.421875 17.546875 -0.640625 \nQ 12.796875 0.140625 7.71875 1.703125 \nL 7.71875 11.625 \nQ 12.109375 9.234375 16.796875 8.0625 \nQ 21.484375 6.890625 26.703125 6.890625 \nQ 35.15625 6.890625 40.078125 11.328125 \nQ 45.015625 15.765625 45.015625 23.390625 \nQ 45.015625 31 40.078125 35.4375 \nQ 35.15625 39.890625 26.703125 39.890625 \nQ 22.75 39.890625 18.8125 39.015625 \nQ 14.890625 38.140625 10.796875 36.28125 \nz\n\" id=\"DejaVuSans-53\"/>\n       </defs>\n       <use xlink:href=\"#DejaVuSans-50\"/>\n       <use x=\"63.623047\" xlink:href=\"#DejaVuSans-48\"/>\n       <use x=\"127.246094\" xlink:href=\"#DejaVuSans-49\"/>\n       <use x=\"190.869141\" xlink:href=\"#DejaVuSans-53\"/>\n      </g>\n     </g>\n    </g>\n    <g id=\"xtick_7\">\n     <g id=\"line2d_7\">\n      <g>\n       <use style=\"stroke:#000000;stroke-width:0.8;\" x=\"403.43267\" xlink:href=\"#m8c39f97a8e\" y=\"315\"/>\n      </g>\n     </g>\n     <g id=\"text_7\">\n      <!-- 2016 -->\n      <g transform=\"translate(390.70767 329.598437)scale(0.1 -0.1)\">\n       <defs>\n        <path d=\"M 33.015625 40.375 \nQ 26.375 40.375 22.484375 35.828125 \nQ 18.609375 31.296875 18.609375 23.390625 \nQ 18.609375 15.53125 22.484375 10.953125 \nQ 26.375 6.390625 33.015625 6.390625 \nQ 39.65625 6.390625 43.53125 10.953125 \nQ 47.40625 15.53125 47.40625 23.390625 \nQ 47.40625 31.296875 43.53125 35.828125 \nQ 39.65625 40.375 33.015625 40.375 \nz\nM 52.59375 71.296875 \nL 52.59375 62.3125 \nQ 48.875 64.0625 45.09375 64.984375 \nQ 41.3125 65.921875 37.59375 65.921875 \nQ 27.828125 65.921875 22.671875 59.328125 \nQ 17.53125 52.734375 16.796875 39.40625 \nQ 19.671875 43.65625 24.015625 45.921875 \nQ 28.375 48.1875 33.59375 48.1875 \nQ 44.578125 48.1875 50.953125 41.515625 \nQ 57.328125 34.859375 57.328125 23.390625 \nQ 57.328125 12.15625 50.6875 5.359375 \nQ 44.046875 -1.421875 33.015625 -1.421875 \nQ 20.359375 -1.421875 13.671875 8.265625 \nQ 6.984375 17.96875 6.984375 36.375 \nQ 6.984375 53.65625 15.1875 63.9375 \nQ 23.390625 74.21875 37.203125 74.21875 \nQ 40.921875 74.21875 44.703125 73.484375 \nQ 48.484375 72.75 52.59375 71.296875 \nz\n\" id=\"DejaVuSans-54\"/>\n       </defs>\n       <use xlink:href=\"#DejaVuSans-50\"/>\n       <use x=\"63.623047\" xlink:href=\"#DejaVuSans-48\"/>\n       <use x=\"127.246094\" xlink:href=\"#DejaVuSans-49\"/>\n       <use x=\"190.869141\" xlink:href=\"#DejaVuSans-54\"/>\n      </g>\n     </g>\n    </g>\n    <g id=\"xtick_8\">\n     <g id=\"line2d_8\">\n      <g>\n       <use style=\"stroke:#000000;stroke-width:0.8;\" x=\"454.159943\" xlink:href=\"#m8c39f97a8e\" y=\"315\"/>\n      </g>\n     </g>\n     <g id=\"text_8\">\n      <!-- 2017 -->\n      <g transform=\"translate(441.434943 329.598437)scale(0.1 -0.1)\">\n       <defs>\n        <path d=\"M 8.203125 72.90625 \nL 55.078125 72.90625 \nL 55.078125 68.703125 \nL 28.609375 0 \nL 18.3125 0 \nL 43.21875 64.59375 \nL 8.203125 64.59375 \nz\n\" id=\"DejaVuSans-55\"/>\n       </defs>\n       <use xlink:href=\"#DejaVuSans-50\"/>\n       <use x=\"63.623047\" xlink:href=\"#DejaVuSans-48\"/>\n       <use x=\"127.246094\" xlink:href=\"#DejaVuSans-49\"/>\n       <use x=\"190.869141\" xlink:href=\"#DejaVuSans-55\"/>\n      </g>\n     </g>\n    </g>\n    <g id=\"xtick_9\">\n     <g id=\"line2d_9\">\n      <g>\n       <use style=\"stroke:#000000;stroke-width:0.8;\" x=\"504.887216\" xlink:href=\"#m8c39f97a8e\" y=\"315\"/>\n      </g>\n     </g>\n     <g id=\"text_9\">\n      <!-- 2018 -->\n      <g transform=\"translate(492.162216 329.598437)scale(0.1 -0.1)\">\n       <defs>\n        <path d=\"M 31.78125 34.625 \nQ 24.75 34.625 20.71875 30.859375 \nQ 16.703125 27.09375 16.703125 20.515625 \nQ 16.703125 13.921875 20.71875 10.15625 \nQ 24.75 6.390625 31.78125 6.390625 \nQ 38.8125 6.390625 42.859375 10.171875 \nQ 46.921875 13.96875 46.921875 20.515625 \nQ 46.921875 27.09375 42.890625 30.859375 \nQ 38.875 34.625 31.78125 34.625 \nz\nM 21.921875 38.8125 \nQ 15.578125 40.375 12.03125 44.71875 \nQ 8.5 49.078125 8.5 55.328125 \nQ 8.5 64.0625 14.71875 69.140625 \nQ 20.953125 74.21875 31.78125 74.21875 \nQ 42.671875 74.21875 48.875 69.140625 \nQ 55.078125 64.0625 55.078125 55.328125 \nQ 55.078125 49.078125 51.53125 44.71875 \nQ 48 40.375 41.703125 38.8125 \nQ 48.828125 37.15625 52.796875 32.3125 \nQ 56.78125 27.484375 56.78125 20.515625 \nQ 56.78125 9.90625 50.3125 4.234375 \nQ 43.84375 -1.421875 31.78125 -1.421875 \nQ 19.734375 -1.421875 13.25 4.234375 \nQ 6.78125 9.90625 6.78125 20.515625 \nQ 6.78125 27.484375 10.78125 32.3125 \nQ 14.796875 37.15625 21.921875 38.8125 \nz\nM 18.3125 54.390625 \nQ 18.3125 48.734375 21.84375 45.5625 \nQ 25.390625 42.390625 31.78125 42.390625 \nQ 38.140625 42.390625 41.71875 45.5625 \nQ 45.3125 48.734375 45.3125 54.390625 \nQ 45.3125 60.0625 41.71875 63.234375 \nQ 38.140625 66.40625 31.78125 66.40625 \nQ 25.390625 66.40625 21.84375 63.234375 \nQ 18.3125 60.0625 18.3125 54.390625 \nz\n\" id=\"DejaVuSans-56\"/>\n       </defs>\n       <use xlink:href=\"#DejaVuSans-50\"/>\n       <use x=\"63.623047\" xlink:href=\"#DejaVuSans-48\"/>\n       <use x=\"127.246094\" xlink:href=\"#DejaVuSans-49\"/>\n       <use x=\"190.869141\" xlink:href=\"#DejaVuSans-56\"/>\n      </g>\n     </g>\n    </g>\n    <g id=\"text_10\">\n     <!-- Year -->\n     <g transform=\"translate(291.390625 343.276562)scale(0.1 -0.1)\">\n      <defs>\n       <path d=\"M -0.203125 72.90625 \nL 10.40625 72.90625 \nL 30.609375 42.921875 \nL 50.6875 72.90625 \nL 61.28125 72.90625 \nL 35.5 34.71875 \nL 35.5 0 \nL 25.59375 0 \nL 25.59375 34.71875 \nz\n\" id=\"DejaVuSans-89\"/>\n       <path d=\"M 56.203125 29.59375 \nL 56.203125 25.203125 \nL 14.890625 25.203125 \nQ 15.484375 15.921875 20.484375 11.0625 \nQ 25.484375 6.203125 34.421875 6.203125 \nQ 39.59375 6.203125 44.453125 7.46875 \nQ 49.3125 8.734375 54.109375 11.28125 \nL 54.109375 2.78125 \nQ 49.265625 0.734375 44.1875 -0.34375 \nQ 39.109375 -1.421875 33.890625 -1.421875 \nQ 20.796875 -1.421875 13.15625 6.1875 \nQ 5.515625 13.8125 5.515625 26.8125 \nQ 5.515625 40.234375 12.765625 48.109375 \nQ 20.015625 56 32.328125 56 \nQ 43.359375 56 49.78125 48.890625 \nQ 56.203125 41.796875 56.203125 29.59375 \nz\nM 47.21875 32.234375 \nQ 47.125 39.59375 43.09375 43.984375 \nQ 39.0625 48.390625 32.421875 48.390625 \nQ 24.90625 48.390625 20.390625 44.140625 \nQ 15.875 39.890625 15.1875 32.171875 \nz\n\" id=\"DejaVuSans-101\"/>\n       <path d=\"M 34.28125 27.484375 \nQ 23.390625 27.484375 19.1875 25 \nQ 14.984375 22.515625 14.984375 16.5 \nQ 14.984375 11.71875 18.140625 8.90625 \nQ 21.296875 6.109375 26.703125 6.109375 \nQ 34.1875 6.109375 38.703125 11.40625 \nQ 43.21875 16.703125 43.21875 25.484375 \nL 43.21875 27.484375 \nz\nM 52.203125 31.203125 \nL 52.203125 0 \nL 43.21875 0 \nL 43.21875 8.296875 \nQ 40.140625 3.328125 35.546875 0.953125 \nQ 30.953125 -1.421875 24.3125 -1.421875 \nQ 15.921875 -1.421875 10.953125 3.296875 \nQ 6 8.015625 6 15.921875 \nQ 6 25.140625 12.171875 29.828125 \nQ 18.359375 34.515625 30.609375 34.515625 \nL 43.21875 34.515625 \nL 43.21875 35.40625 \nQ 43.21875 41.609375 39.140625 45 \nQ 35.0625 48.390625 27.6875 48.390625 \nQ 23 48.390625 18.546875 47.265625 \nQ 14.109375 46.140625 10.015625 43.890625 \nL 10.015625 52.203125 \nQ 14.9375 54.109375 19.578125 55.046875 \nQ 24.21875 56 28.609375 56 \nQ 40.484375 56 46.34375 49.84375 \nQ 52.203125 43.703125 52.203125 31.203125 \nz\n\" id=\"DejaVuSans-97\"/>\n       <path d=\"M 41.109375 46.296875 \nQ 39.59375 47.171875 37.8125 47.578125 \nQ 36.03125 48 33.890625 48 \nQ 26.265625 48 22.1875 43.046875 \nQ 18.109375 38.09375 18.109375 28.8125 \nL 18.109375 0 \nL 9.078125 0 \nL 9.078125 54.6875 \nL 18.109375 54.6875 \nL 18.109375 46.1875 \nQ 20.953125 51.171875 25.484375 53.578125 \nQ 30.03125 56 36.53125 56 \nQ 37.453125 56 38.578125 55.875 \nQ 39.703125 55.765625 41.0625 55.515625 \nz\n\" id=\"DejaVuSans-114\"/>\n      </defs>\n      <use xlink:href=\"#DejaVuSans-89\"/>\n      <use x=\"47.833984\" xlink:href=\"#DejaVuSans-101\"/>\n      <use x=\"109.357422\" xlink:href=\"#DejaVuSans-97\"/>\n      <use x=\"170.636719\" xlink:href=\"#DejaVuSans-114\"/>\n     </g>\n    </g>\n   </g>\n   <g id=\"matplotlib.axis_2\">\n    <g id=\"ytick_1\">\n     <g id=\"line2d_10\">\n      <defs>\n       <path d=\"M 0 0 \nL -3.5 0 \n\" id=\"m442c32c6cf\" style=\"stroke:#000000;stroke-width:0.8;\"/>\n      </defs>\n      <g>\n       <use style=\"stroke:#000000;stroke-width:0.8;\" x=\"78.778125\" xlink:href=\"#m442c32c6cf\" y=\"302.791059\"/>\n      </g>\n     </g>\n     <g id=\"text_11\">\n      <!-- 0 -->\n      <g transform=\"translate(65.415625 306.590278)scale(0.1 -0.1)\">\n       <use xlink:href=\"#DejaVuSans-48\"/>\n      </g>\n     </g>\n    </g>\n    <g id=\"ytick_2\">\n     <g id=\"line2d_11\">\n      <g>\n       <use style=\"stroke:#000000;stroke-width:0.8;\" x=\"78.778125\" xlink:href=\"#m442c32c6cf\" y=\"267.498974\"/>\n      </g>\n     </g>\n     <g id=\"text_12\">\n      <!-- 10000000 -->\n      <g transform=\"translate(20.878125 271.298192)scale(0.1 -0.1)\">\n       <use xlink:href=\"#DejaVuSans-49\"/>\n       <use x=\"63.623047\" xlink:href=\"#DejaVuSans-48\"/>\n       <use x=\"127.246094\" xlink:href=\"#DejaVuSans-48\"/>\n       <use x=\"190.869141\" xlink:href=\"#DejaVuSans-48\"/>\n       <use x=\"254.492188\" xlink:href=\"#DejaVuSans-48\"/>\n       <use x=\"318.115234\" xlink:href=\"#DejaVuSans-48\"/>\n       <use x=\"381.738281\" xlink:href=\"#DejaVuSans-48\"/>\n       <use x=\"445.361328\" xlink:href=\"#DejaVuSans-48\"/>\n      </g>\n     </g>\n    </g>\n    <g id=\"ytick_3\">\n     <g id=\"line2d_12\">\n      <g>\n       <use style=\"stroke:#000000;stroke-width:0.8;\" x=\"78.778125\" xlink:href=\"#m442c32c6cf\" y=\"232.206888\"/>\n      </g>\n     </g>\n     <g id=\"text_13\">\n      <!-- 20000000 -->\n      <g transform=\"translate(20.878125 236.006107)scale(0.1 -0.1)\">\n       <use xlink:href=\"#DejaVuSans-50\"/>\n       <use x=\"63.623047\" xlink:href=\"#DejaVuSans-48\"/>\n       <use x=\"127.246094\" xlink:href=\"#DejaVuSans-48\"/>\n       <use x=\"190.869141\" xlink:href=\"#DejaVuSans-48\"/>\n       <use x=\"254.492188\" xlink:href=\"#DejaVuSans-48\"/>\n       <use x=\"318.115234\" xlink:href=\"#DejaVuSans-48\"/>\n       <use x=\"381.738281\" xlink:href=\"#DejaVuSans-48\"/>\n       <use x=\"445.361328\" xlink:href=\"#DejaVuSans-48\"/>\n      </g>\n     </g>\n    </g>\n    <g id=\"ytick_4\">\n     <g id=\"line2d_13\">\n      <g>\n       <use style=\"stroke:#000000;stroke-width:0.8;\" x=\"78.778125\" xlink:href=\"#m442c32c6cf\" y=\"196.914802\"/>\n      </g>\n     </g>\n     <g id=\"text_14\">\n      <!-- 30000000 -->\n      <g transform=\"translate(20.878125 200.714021)scale(0.1 -0.1)\">\n       <use xlink:href=\"#DejaVuSans-51\"/>\n       <use x=\"63.623047\" xlink:href=\"#DejaVuSans-48\"/>\n       <use x=\"127.246094\" xlink:href=\"#DejaVuSans-48\"/>\n       <use x=\"190.869141\" xlink:href=\"#DejaVuSans-48\"/>\n       <use x=\"254.492188\" xlink:href=\"#DejaVuSans-48\"/>\n       <use x=\"318.115234\" xlink:href=\"#DejaVuSans-48\"/>\n       <use x=\"381.738281\" xlink:href=\"#DejaVuSans-48\"/>\n       <use x=\"445.361328\" xlink:href=\"#DejaVuSans-48\"/>\n      </g>\n     </g>\n    </g>\n    <g id=\"ytick_5\">\n     <g id=\"line2d_14\">\n      <g>\n       <use style=\"stroke:#000000;stroke-width:0.8;\" x=\"78.778125\" xlink:href=\"#m442c32c6cf\" y=\"161.622717\"/>\n      </g>\n     </g>\n     <g id=\"text_15\">\n      <!-- 40000000 -->\n      <g transform=\"translate(20.878125 165.421936)scale(0.1 -0.1)\">\n       <use xlink:href=\"#DejaVuSans-52\"/>\n       <use x=\"63.623047\" xlink:href=\"#DejaVuSans-48\"/>\n       <use x=\"127.246094\" xlink:href=\"#DejaVuSans-48\"/>\n       <use x=\"190.869141\" xlink:href=\"#DejaVuSans-48\"/>\n       <use x=\"254.492188\" xlink:href=\"#DejaVuSans-48\"/>\n       <use x=\"318.115234\" xlink:href=\"#DejaVuSans-48\"/>\n       <use x=\"381.738281\" xlink:href=\"#DejaVuSans-48\"/>\n       <use x=\"445.361328\" xlink:href=\"#DejaVuSans-48\"/>\n      </g>\n     </g>\n    </g>\n    <g id=\"ytick_6\">\n     <g id=\"line2d_15\">\n      <g>\n       <use style=\"stroke:#000000;stroke-width:0.8;\" x=\"78.778125\" xlink:href=\"#m442c32c6cf\" y=\"126.330631\"/>\n      </g>\n     </g>\n     <g id=\"text_16\">\n      <!-- 50000000 -->\n      <g transform=\"translate(20.878125 130.12985)scale(0.1 -0.1)\">\n       <use xlink:href=\"#DejaVuSans-53\"/>\n       <use x=\"63.623047\" xlink:href=\"#DejaVuSans-48\"/>\n       <use x=\"127.246094\" xlink:href=\"#DejaVuSans-48\"/>\n       <use x=\"190.869141\" xlink:href=\"#DejaVuSans-48\"/>\n       <use x=\"254.492188\" xlink:href=\"#DejaVuSans-48\"/>\n       <use x=\"318.115234\" xlink:href=\"#DejaVuSans-48\"/>\n       <use x=\"381.738281\" xlink:href=\"#DejaVuSans-48\"/>\n       <use x=\"445.361328\" xlink:href=\"#DejaVuSans-48\"/>\n      </g>\n     </g>\n    </g>\n    <g id=\"ytick_7\">\n     <g id=\"line2d_16\">\n      <g>\n       <use style=\"stroke:#000000;stroke-width:0.8;\" x=\"78.778125\" xlink:href=\"#m442c32c6cf\" y=\"91.038546\"/>\n      </g>\n     </g>\n     <g id=\"text_17\">\n      <!-- 60000000 -->\n      <g transform=\"translate(20.878125 94.837765)scale(0.1 -0.1)\">\n       <use xlink:href=\"#DejaVuSans-54\"/>\n       <use x=\"63.623047\" xlink:href=\"#DejaVuSans-48\"/>\n       <use x=\"127.246094\" xlink:href=\"#DejaVuSans-48\"/>\n       <use x=\"190.869141\" xlink:href=\"#DejaVuSans-48\"/>\n       <use x=\"254.492188\" xlink:href=\"#DejaVuSans-48\"/>\n       <use x=\"318.115234\" xlink:href=\"#DejaVuSans-48\"/>\n       <use x=\"381.738281\" xlink:href=\"#DejaVuSans-48\"/>\n       <use x=\"445.361328\" xlink:href=\"#DejaVuSans-48\"/>\n      </g>\n     </g>\n    </g>\n    <g id=\"ytick_8\">\n     <g id=\"line2d_17\">\n      <g>\n       <use style=\"stroke:#000000;stroke-width:0.8;\" x=\"78.778125\" xlink:href=\"#m442c32c6cf\" y=\"55.74646\"/>\n      </g>\n     </g>\n     <g id=\"text_18\">\n      <!-- 70000000 -->\n      <g transform=\"translate(20.878125 59.545679)scale(0.1 -0.1)\">\n       <use xlink:href=\"#DejaVuSans-55\"/>\n       <use x=\"63.623047\" xlink:href=\"#DejaVuSans-48\"/>\n       <use x=\"127.246094\" xlink:href=\"#DejaVuSans-48\"/>\n       <use x=\"190.869141\" xlink:href=\"#DejaVuSans-48\"/>\n       <use x=\"254.492188\" xlink:href=\"#DejaVuSans-48\"/>\n       <use x=\"318.115234\" xlink:href=\"#DejaVuSans-48\"/>\n       <use x=\"381.738281\" xlink:href=\"#DejaVuSans-48\"/>\n       <use x=\"445.361328\" xlink:href=\"#DejaVuSans-48\"/>\n      </g>\n     </g>\n    </g>\n    <g id=\"text_19\">\n     <!-- Dollar Amount -->\n     <g transform=\"translate(14.798437 215.14375)rotate(-90)scale(0.1 -0.1)\">\n      <defs>\n       <path d=\"M 19.671875 64.796875 \nL 19.671875 8.109375 \nL 31.59375 8.109375 \nQ 46.6875 8.109375 53.6875 14.9375 \nQ 60.6875 21.78125 60.6875 36.53125 \nQ 60.6875 51.171875 53.6875 57.984375 \nQ 46.6875 64.796875 31.59375 64.796875 \nz\nM 9.8125 72.90625 \nL 30.078125 72.90625 \nQ 51.265625 72.90625 61.171875 64.09375 \nQ 71.09375 55.28125 71.09375 36.53125 \nQ 71.09375 17.671875 61.125 8.828125 \nQ 51.171875 0 30.078125 0 \nL 9.8125 0 \nz\n\" id=\"DejaVuSans-68\"/>\n       <path d=\"M 30.609375 48.390625 \nQ 23.390625 48.390625 19.1875 42.75 \nQ 14.984375 37.109375 14.984375 27.296875 \nQ 14.984375 17.484375 19.15625 11.84375 \nQ 23.34375 6.203125 30.609375 6.203125 \nQ 37.796875 6.203125 41.984375 11.859375 \nQ 46.1875 17.53125 46.1875 27.296875 \nQ 46.1875 37.015625 41.984375 42.703125 \nQ 37.796875 48.390625 30.609375 48.390625 \nz\nM 30.609375 56 \nQ 42.328125 56 49.015625 48.375 \nQ 55.71875 40.765625 55.71875 27.296875 \nQ 55.71875 13.875 49.015625 6.21875 \nQ 42.328125 -1.421875 30.609375 -1.421875 \nQ 18.84375 -1.421875 12.171875 6.21875 \nQ 5.515625 13.875 5.515625 27.296875 \nQ 5.515625 40.765625 12.171875 48.375 \nQ 18.84375 56 30.609375 56 \nz\n\" id=\"DejaVuSans-111\"/>\n       <path d=\"M 9.421875 75.984375 \nL 18.40625 75.984375 \nL 18.40625 0 \nL 9.421875 0 \nz\n\" id=\"DejaVuSans-108\"/>\n       <path id=\"DejaVuSans-32\"/>\n       <path d=\"M 34.1875 63.1875 \nL 20.796875 26.90625 \nL 47.609375 26.90625 \nz\nM 28.609375 72.90625 \nL 39.796875 72.90625 \nL 67.578125 0 \nL 57.328125 0 \nL 50.6875 18.703125 \nL 17.828125 18.703125 \nL 11.1875 0 \nL 0.78125 0 \nz\n\" id=\"DejaVuSans-65\"/>\n       <path d=\"M 52 44.1875 \nQ 55.375 50.25 60.0625 53.125 \nQ 64.75 56 71.09375 56 \nQ 79.640625 56 84.28125 50.015625 \nQ 88.921875 44.046875 88.921875 33.015625 \nL 88.921875 0 \nL 79.890625 0 \nL 79.890625 32.71875 \nQ 79.890625 40.578125 77.09375 44.375 \nQ 74.3125 48.1875 68.609375 48.1875 \nQ 61.625 48.1875 57.5625 43.546875 \nQ 53.515625 38.921875 53.515625 30.90625 \nL 53.515625 0 \nL 44.484375 0 \nL 44.484375 32.71875 \nQ 44.484375 40.625 41.703125 44.40625 \nQ 38.921875 48.1875 33.109375 48.1875 \nQ 26.21875 48.1875 22.15625 43.53125 \nQ 18.109375 38.875 18.109375 30.90625 \nL 18.109375 0 \nL 9.078125 0 \nL 9.078125 54.6875 \nL 18.109375 54.6875 \nL 18.109375 46.1875 \nQ 21.1875 51.21875 25.484375 53.609375 \nQ 29.78125 56 35.6875 56 \nQ 41.65625 56 45.828125 52.96875 \nQ 50 49.953125 52 44.1875 \nz\n\" id=\"DejaVuSans-109\"/>\n       <path d=\"M 8.5 21.578125 \nL 8.5 54.6875 \nL 17.484375 54.6875 \nL 17.484375 21.921875 \nQ 17.484375 14.15625 20.5 10.265625 \nQ 23.53125 6.390625 29.59375 6.390625 \nQ 36.859375 6.390625 41.078125 11.03125 \nQ 45.3125 15.671875 45.3125 23.6875 \nL 45.3125 54.6875 \nL 54.296875 54.6875 \nL 54.296875 0 \nL 45.3125 0 \nL 45.3125 8.40625 \nQ 42.046875 3.421875 37.71875 1 \nQ 33.40625 -1.421875 27.6875 -1.421875 \nQ 18.265625 -1.421875 13.375 4.4375 \nQ 8.5 10.296875 8.5 21.578125 \nz\nM 31.109375 56 \nz\n\" id=\"DejaVuSans-117\"/>\n       <path d=\"M 54.890625 33.015625 \nL 54.890625 0 \nL 45.90625 0 \nL 45.90625 32.71875 \nQ 45.90625 40.484375 42.875 44.328125 \nQ 39.84375 48.1875 33.796875 48.1875 \nQ 26.515625 48.1875 22.3125 43.546875 \nQ 18.109375 38.921875 18.109375 30.90625 \nL 18.109375 0 \nL 9.078125 0 \nL 9.078125 54.6875 \nL 18.109375 54.6875 \nL 18.109375 46.1875 \nQ 21.34375 51.125 25.703125 53.5625 \nQ 30.078125 56 35.796875 56 \nQ 45.21875 56 50.046875 50.171875 \nQ 54.890625 44.34375 54.890625 33.015625 \nz\n\" id=\"DejaVuSans-110\"/>\n       <path d=\"M 18.3125 70.21875 \nL 18.3125 54.6875 \nL 36.8125 54.6875 \nL 36.8125 47.703125 \nL 18.3125 47.703125 \nL 18.3125 18.015625 \nQ 18.3125 11.328125 20.140625 9.421875 \nQ 21.96875 7.515625 27.59375 7.515625 \nL 36.8125 7.515625 \nL 36.8125 0 \nL 27.59375 0 \nQ 17.1875 0 13.234375 3.875 \nQ 9.28125 7.765625 9.28125 18.015625 \nL 9.28125 47.703125 \nL 2.6875 47.703125 \nL 2.6875 54.6875 \nL 9.28125 54.6875 \nL 9.28125 70.21875 \nz\n\" id=\"DejaVuSans-116\"/>\n      </defs>\n      <use xlink:href=\"#DejaVuSans-68\"/>\n      <use x=\"77.001953\" xlink:href=\"#DejaVuSans-111\"/>\n      <use x=\"138.183594\" xlink:href=\"#DejaVuSans-108\"/>\n      <use x=\"165.966797\" xlink:href=\"#DejaVuSans-108\"/>\n      <use x=\"193.75\" xlink:href=\"#DejaVuSans-97\"/>\n      <use x=\"255.029297\" xlink:href=\"#DejaVuSans-114\"/>\n      <use x=\"296.142578\" xlink:href=\"#DejaVuSans-32\"/>\n      <use x=\"327.929688\" xlink:href=\"#DejaVuSans-65\"/>\n      <use x=\"396.337891\" xlink:href=\"#DejaVuSans-109\"/>\n      <use x=\"493.75\" xlink:href=\"#DejaVuSans-111\"/>\n      <use x=\"554.931641\" xlink:href=\"#DejaVuSans-117\"/>\n      <use x=\"618.310547\" xlink:href=\"#DejaVuSans-110\"/>\n      <use x=\"681.689453\" xlink:href=\"#DejaVuSans-116\"/>\n     </g>\n    </g>\n   </g>\n   <g id=\"line2d_18\">\n    <path clip-path=\"url(#pf6bf65391c)\" d=\"M 99.069034 300.621436 \nL 149.796307 300.540624 \nL 200.52358 300.623183 \nL 251.250852 300.672359 \nL 301.978125 300.671014 \nL 352.705398 300.453534 \nL 403.43267 300.463987 \nL 454.159943 300.481849 \nL 504.887216 300.421009 \n\" style=\"fill:none;stroke:#1f77b4;stroke-linecap:square;stroke-width:1.5;\"/>\n    <defs>\n     <path d=\"M 0 1.5 \nC 0.397805 1.5 0.77937 1.341951 1.06066 1.06066 \nC 1.341951 0.77937 1.5 0.397805 1.5 0 \nC 1.5 -0.397805 1.341951 -0.77937 1.06066 -1.06066 \nC 0.77937 -1.341951 0.397805 -1.5 0 -1.5 \nC -0.397805 -1.5 -0.77937 -1.341951 -1.06066 -1.06066 \nC -1.341951 -0.77937 -1.5 -0.397805 -1.5 0 \nC -1.5 0.397805 -1.341951 0.77937 -1.06066 1.06066 \nC -0.77937 1.341951 -0.397805 1.5 0 1.5 \nz\n\" id=\"m514b3602b4\" style=\"stroke:#1f77b4;\"/>\n    </defs>\n    <g clip-path=\"url(#pf6bf65391c)\">\n     <use style=\"fill:#1f77b4;stroke:#1f77b4;\" x=\"99.069034\" xlink:href=\"#m514b3602b4\" y=\"300.621436\"/>\n     <use style=\"fill:#1f77b4;stroke:#1f77b4;\" x=\"149.796307\" xlink:href=\"#m514b3602b4\" y=\"300.540624\"/>\n     <use style=\"fill:#1f77b4;stroke:#1f77b4;\" x=\"200.52358\" xlink:href=\"#m514b3602b4\" y=\"300.623183\"/>\n     <use style=\"fill:#1f77b4;stroke:#1f77b4;\" x=\"251.250852\" xlink:href=\"#m514b3602b4\" y=\"300.672359\"/>\n     <use style=\"fill:#1f77b4;stroke:#1f77b4;\" x=\"301.978125\" xlink:href=\"#m514b3602b4\" y=\"300.671014\"/>\n     <use style=\"fill:#1f77b4;stroke:#1f77b4;\" x=\"352.705398\" xlink:href=\"#m514b3602b4\" y=\"300.453534\"/>\n     <use style=\"fill:#1f77b4;stroke:#1f77b4;\" x=\"403.43267\" xlink:href=\"#m514b3602b4\" y=\"300.463987\"/>\n     <use style=\"fill:#1f77b4;stroke:#1f77b4;\" x=\"454.159943\" xlink:href=\"#m514b3602b4\" y=\"300.481849\"/>\n     <use style=\"fill:#1f77b4;stroke:#1f77b4;\" x=\"504.887216\" xlink:href=\"#m514b3602b4\" y=\"300.421009\"/>\n    </g>\n   </g>\n   <g id=\"line2d_19\">\n    <path clip-path=\"url(#pf6bf65391c)\" d=\"M 99.069034 188.615343 \nL 149.796307 184.594946 \nL 200.52358 182.468365 \nL 251.250852 174.779349 \nL 301.978125 167.613672 \nL 352.705398 161.77634 \nL 403.43267 158.044996 \nL 454.159943 152.25426 \nL 504.887216 147.372217 \n\" style=\"fill:none;stroke:#ff7f0e;stroke-linecap:square;stroke-width:1.5;\"/>\n    <defs>\n     <path d=\"M 0 1.5 \nC 0.397805 1.5 0.77937 1.341951 1.06066 1.06066 \nC 1.341951 0.77937 1.5 0.397805 1.5 0 \nC 1.5 -0.397805 1.341951 -0.77937 1.06066 -1.06066 \nC 0.77937 -1.341951 0.397805 -1.5 0 -1.5 \nC -0.397805 -1.5 -0.77937 -1.341951 -1.06066 -1.06066 \nC -1.341951 -0.77937 -1.5 -0.397805 -1.5 0 \nC -1.5 0.397805 -1.341951 0.77937 -1.06066 1.06066 \nC -0.77937 1.341951 -0.397805 1.5 0 1.5 \nz\n\" id=\"m550096fe7f\" style=\"stroke:#ff7f0e;\"/>\n    </defs>\n    <g clip-path=\"url(#pf6bf65391c)\">\n     <use style=\"fill:#ff7f0e;stroke:#ff7f0e;\" x=\"99.069034\" xlink:href=\"#m550096fe7f\" y=\"188.615343\"/>\n     <use style=\"fill:#ff7f0e;stroke:#ff7f0e;\" x=\"149.796307\" xlink:href=\"#m550096fe7f\" y=\"184.594946\"/>\n     <use style=\"fill:#ff7f0e;stroke:#ff7f0e;\" x=\"200.52358\" xlink:href=\"#m550096fe7f\" y=\"182.468365\"/>\n     <use style=\"fill:#ff7f0e;stroke:#ff7f0e;\" x=\"251.250852\" xlink:href=\"#m550096fe7f\" y=\"174.779349\"/>\n     <use style=\"fill:#ff7f0e;stroke:#ff7f0e;\" x=\"301.978125\" xlink:href=\"#m550096fe7f\" y=\"167.613672\"/>\n     <use style=\"fill:#ff7f0e;stroke:#ff7f0e;\" x=\"352.705398\" xlink:href=\"#m550096fe7f\" y=\"161.77634\"/>\n     <use style=\"fill:#ff7f0e;stroke:#ff7f0e;\" x=\"403.43267\" xlink:href=\"#m550096fe7f\" y=\"158.044996\"/>\n     <use style=\"fill:#ff7f0e;stroke:#ff7f0e;\" x=\"454.159943\" xlink:href=\"#m550096fe7f\" y=\"152.25426\"/>\n     <use style=\"fill:#ff7f0e;stroke:#ff7f0e;\" x=\"504.887216\" xlink:href=\"#m550096fe7f\" y=\"147.372217\"/>\n    </g>\n   </g>\n   <g id=\"line2d_20\">\n    <path clip-path=\"url(#pf6bf65391c)\" d=\"M 99.069034 301.367323 \nL 149.796307 301.381578 \nL 200.52358 301.310242 \nL 251.250852 301.293418 \nL 301.978125 301.237127 \nL 352.705398 301.152148 \nL 403.43267 301.092889 \nL 454.159943 301.100254 \nL 504.887216 301.086681 \n\" style=\"fill:none;stroke:#2ca02c;stroke-linecap:square;stroke-width:1.5;\"/>\n    <defs>\n     <path d=\"M 0 1.5 \nC 0.397805 1.5 0.77937 1.341951 1.06066 1.06066 \nC 1.341951 0.77937 1.5 0.397805 1.5 0 \nC 1.5 -0.397805 1.341951 -0.77937 1.06066 -1.06066 \nC 0.77937 -1.341951 0.397805 -1.5 0 -1.5 \nC -0.397805 -1.5 -0.77937 -1.341951 -1.06066 -1.06066 \nC -1.341951 -0.77937 -1.5 -0.397805 -1.5 0 \nC -1.5 0.397805 -1.341951 0.77937 -1.06066 1.06066 \nC -0.77937 1.341951 -0.397805 1.5 0 1.5 \nz\n\" id=\"m33fece5399\" style=\"stroke:#2ca02c;\"/>\n    </defs>\n    <g clip-path=\"url(#pf6bf65391c)\">\n     <use style=\"fill:#2ca02c;stroke:#2ca02c;\" x=\"99.069034\" xlink:href=\"#m33fece5399\" y=\"301.367323\"/>\n     <use style=\"fill:#2ca02c;stroke:#2ca02c;\" x=\"149.796307\" xlink:href=\"#m33fece5399\" y=\"301.381578\"/>\n     <use style=\"fill:#2ca02c;stroke:#2ca02c;\" x=\"200.52358\" xlink:href=\"#m33fece5399\" y=\"301.310242\"/>\n     <use style=\"fill:#2ca02c;stroke:#2ca02c;\" x=\"251.250852\" xlink:href=\"#m33fece5399\" y=\"301.293418\"/>\n     <use style=\"fill:#2ca02c;stroke:#2ca02c;\" x=\"301.978125\" xlink:href=\"#m33fece5399\" y=\"301.237127\"/>\n     <use style=\"fill:#2ca02c;stroke:#2ca02c;\" x=\"352.705398\" xlink:href=\"#m33fece5399\" y=\"301.152148\"/>\n     <use style=\"fill:#2ca02c;stroke:#2ca02c;\" x=\"403.43267\" xlink:href=\"#m33fece5399\" y=\"301.092889\"/>\n     <use style=\"fill:#2ca02c;stroke:#2ca02c;\" x=\"454.159943\" xlink:href=\"#m33fece5399\" y=\"301.100254\"/>\n     <use style=\"fill:#2ca02c;stroke:#2ca02c;\" x=\"504.887216\" xlink:href=\"#m33fece5399\" y=\"301.086681\"/>\n    </g>\n   </g>\n   <g id=\"line2d_21\">\n    <path clip-path=\"url(#pf6bf65391c)\" d=\"M 99.069034 301.989664 \nL 149.796307 302.042285 \nL 200.52358 302.276162 \nL 251.250852 302.169922 \nL 301.978125 302.319578 \nL 352.705398 302.373176 \nL 403.43267 302.36093 \nL 454.159943 302.341254 \nL 504.887216 302.305888 \n\" style=\"fill:none;stroke:#d62728;stroke-linecap:square;stroke-width:1.5;\"/>\n    <defs>\n     <path d=\"M 0 1.5 \nC 0.397805 1.5 0.77937 1.341951 1.06066 1.06066 \nC 1.341951 0.77937 1.5 0.397805 1.5 0 \nC 1.5 -0.397805 1.341951 -0.77937 1.06066 -1.06066 \nC 0.77937 -1.341951 0.397805 -1.5 0 -1.5 \nC -0.397805 -1.5 -0.77937 -1.341951 -1.06066 -1.06066 \nC -1.341951 -0.77937 -1.5 -0.397805 -1.5 0 \nC -1.5 0.397805 -1.341951 0.77937 -1.06066 1.06066 \nC -0.77937 1.341951 -0.397805 1.5 0 1.5 \nz\n\" id=\"m2e2b3f65e5\" style=\"stroke:#d62728;\"/>\n    </defs>\n    <g clip-path=\"url(#pf6bf65391c)\">\n     <use style=\"fill:#d62728;stroke:#d62728;\" x=\"99.069034\" xlink:href=\"#m2e2b3f65e5\" y=\"301.989664\"/>\n     <use style=\"fill:#d62728;stroke:#d62728;\" x=\"149.796307\" xlink:href=\"#m2e2b3f65e5\" y=\"302.042285\"/>\n     <use style=\"fill:#d62728;stroke:#d62728;\" x=\"200.52358\" xlink:href=\"#m2e2b3f65e5\" y=\"302.276162\"/>\n     <use style=\"fill:#d62728;stroke:#d62728;\" x=\"251.250852\" xlink:href=\"#m2e2b3f65e5\" y=\"302.169922\"/>\n     <use style=\"fill:#d62728;stroke:#d62728;\" x=\"301.978125\" xlink:href=\"#m2e2b3f65e5\" y=\"302.319578\"/>\n     <use style=\"fill:#d62728;stroke:#d62728;\" x=\"352.705398\" xlink:href=\"#m2e2b3f65e5\" y=\"302.373176\"/>\n     <use style=\"fill:#d62728;stroke:#d62728;\" x=\"403.43267\" xlink:href=\"#m2e2b3f65e5\" y=\"302.36093\"/>\n     <use style=\"fill:#d62728;stroke:#d62728;\" x=\"454.159943\" xlink:href=\"#m2e2b3f65e5\" y=\"302.341254\"/>\n     <use style=\"fill:#d62728;stroke:#d62728;\" x=\"504.887216\" xlink:href=\"#m2e2b3f65e5\" y=\"302.305888\"/>\n    </g>\n   </g>\n   <g id=\"line2d_22\">\n    <path clip-path=\"url(#pf6bf65391c)\" d=\"M 99.069034 302.151926 \nL 149.796307 302.132481 \nL 200.52358 302.211009 \nL 251.250852 302.185013 \nL 301.978125 302.201501 \nL 352.705398 302.180637 \nL 403.43267 302.151432 \nL 454.159943 302.213426 \nL 504.887216 302.20641 \n\" style=\"fill:none;stroke:#9467bd;stroke-linecap:square;stroke-width:1.5;\"/>\n    <defs>\n     <path d=\"M 0 1.5 \nC 0.397805 1.5 0.77937 1.341951 1.06066 1.06066 \nC 1.341951 0.77937 1.5 0.397805 1.5 0 \nC 1.5 -0.397805 1.341951 -0.77937 1.06066 -1.06066 \nC 0.77937 -1.341951 0.397805 -1.5 0 -1.5 \nC -0.397805 -1.5 -0.77937 -1.341951 -1.06066 -1.06066 \nC -1.341951 -0.77937 -1.5 -0.397805 -1.5 0 \nC -1.5 0.397805 -1.341951 0.77937 -1.06066 1.06066 \nC -0.77937 1.341951 -0.397805 1.5 0 1.5 \nz\n\" id=\"mbd36c2ddd4\" style=\"stroke:#9467bd;\"/>\n    </defs>\n    <g clip-path=\"url(#pf6bf65391c)\">\n     <use style=\"fill:#9467bd;stroke:#9467bd;\" x=\"99.069034\" xlink:href=\"#mbd36c2ddd4\" y=\"302.151926\"/>\n     <use style=\"fill:#9467bd;stroke:#9467bd;\" x=\"149.796307\" xlink:href=\"#mbd36c2ddd4\" y=\"302.132481\"/>\n     <use style=\"fill:#9467bd;stroke:#9467bd;\" x=\"200.52358\" xlink:href=\"#mbd36c2ddd4\" y=\"302.211009\"/>\n     <use style=\"fill:#9467bd;stroke:#9467bd;\" x=\"251.250852\" xlink:href=\"#mbd36c2ddd4\" y=\"302.185013\"/>\n     <use style=\"fill:#9467bd;stroke:#9467bd;\" x=\"301.978125\" xlink:href=\"#mbd36c2ddd4\" y=\"302.201501\"/>\n     <use style=\"fill:#9467bd;stroke:#9467bd;\" x=\"352.705398\" xlink:href=\"#mbd36c2ddd4\" y=\"302.180637\"/>\n     <use style=\"fill:#9467bd;stroke:#9467bd;\" x=\"403.43267\" xlink:href=\"#mbd36c2ddd4\" y=\"302.151432\"/>\n     <use style=\"fill:#9467bd;stroke:#9467bd;\" x=\"454.159943\" xlink:href=\"#mbd36c2ddd4\" y=\"302.213426\"/>\n     <use style=\"fill:#9467bd;stroke:#9467bd;\" x=\"504.887216\" xlink:href=\"#mbd36c2ddd4\" y=\"302.20641\"/>\n    </g>\n   </g>\n   <g id=\"line2d_23\">\n    <path clip-path=\"url(#pf6bf65391c)\" d=\"M 99.069034 230.605923 \nL 149.796307 230.902665 \nL 200.52358 230.680078 \nL 251.250852 229.153823 \nL 301.978125 226.570417 \nL 352.705398 222.78539 \nL 403.43267 220.126164 \nL 454.159943 215.945516 \nL 504.887216 213.433411 \n\" style=\"fill:none;stroke:#8c564b;stroke-linecap:square;stroke-width:1.5;\"/>\n    <defs>\n     <path d=\"M 0 1.5 \nC 0.397805 1.5 0.77937 1.341951 1.06066 1.06066 \nC 1.341951 0.77937 1.5 0.397805 1.5 0 \nC 1.5 -0.397805 1.341951 -0.77937 1.06066 -1.06066 \nC 0.77937 -1.341951 0.397805 -1.5 0 -1.5 \nC -0.397805 -1.5 -0.77937 -1.341951 -1.06066 -1.06066 \nC -1.341951 -0.77937 -1.5 -0.397805 -1.5 0 \nC -1.5 0.397805 -1.341951 0.77937 -1.06066 1.06066 \nC -0.77937 1.341951 -0.397805 1.5 0 1.5 \nz\n\" id=\"me5a875bc03\" style=\"stroke:#8c564b;\"/>\n    </defs>\n    <g clip-path=\"url(#pf6bf65391c)\">\n     <use style=\"fill:#8c564b;stroke:#8c564b;\" x=\"99.069034\" xlink:href=\"#me5a875bc03\" y=\"230.605923\"/>\n     <use style=\"fill:#8c564b;stroke:#8c564b;\" x=\"149.796307\" xlink:href=\"#me5a875bc03\" y=\"230.902665\"/>\n     <use style=\"fill:#8c564b;stroke:#8c564b;\" x=\"200.52358\" xlink:href=\"#me5a875bc03\" y=\"230.680078\"/>\n     <use style=\"fill:#8c564b;stroke:#8c564b;\" x=\"251.250852\" xlink:href=\"#me5a875bc03\" y=\"229.153823\"/>\n     <use style=\"fill:#8c564b;stroke:#8c564b;\" x=\"301.978125\" xlink:href=\"#me5a875bc03\" y=\"226.570417\"/>\n     <use style=\"fill:#8c564b;stroke:#8c564b;\" x=\"352.705398\" xlink:href=\"#me5a875bc03\" y=\"222.78539\"/>\n     <use style=\"fill:#8c564b;stroke:#8c564b;\" x=\"403.43267\" xlink:href=\"#me5a875bc03\" y=\"220.126164\"/>\n     <use style=\"fill:#8c564b;stroke:#8c564b;\" x=\"454.159943\" xlink:href=\"#me5a875bc03\" y=\"215.945516\"/>\n     <use style=\"fill:#8c564b;stroke:#8c564b;\" x=\"504.887216\" xlink:href=\"#me5a875bc03\" y=\"213.433411\"/>\n    </g>\n   </g>\n   <g id=\"line2d_24\">\n    <path clip-path=\"url(#pf6bf65391c)\" d=\"M 99.069034 281.591661 \nL 149.796307 279.897207 \nL 200.52358 278.140466 \nL 251.250852 277.260962 \nL 301.978125 277.898965 \nL 352.705398 275.984504 \nL 403.43267 275.981059 \nL 454.159943 273.264391 \nL 504.887216 274.378495 \n\" style=\"fill:none;stroke:#e377c2;stroke-linecap:square;stroke-width:1.5;\"/>\n    <defs>\n     <path d=\"M 0 1.5 \nC 0.397805 1.5 0.77937 1.341951 1.06066 1.06066 \nC 1.341951 0.77937 1.5 0.397805 1.5 0 \nC 1.5 -0.397805 1.341951 -0.77937 1.06066 -1.06066 \nC 0.77937 -1.341951 0.397805 -1.5 0 -1.5 \nC -0.397805 -1.5 -0.77937 -1.341951 -1.06066 -1.06066 \nC -1.341951 -0.77937 -1.5 -0.397805 -1.5 0 \nC -1.5 0.397805 -1.341951 0.77937 -1.06066 1.06066 \nC -0.77937 1.341951 -0.397805 1.5 0 1.5 \nz\n\" id=\"m55cf5f246b\" style=\"stroke:#e377c2;\"/>\n    </defs>\n    <g clip-path=\"url(#pf6bf65391c)\">\n     <use style=\"fill:#e377c2;stroke:#e377c2;\" x=\"99.069034\" xlink:href=\"#m55cf5f246b\" y=\"281.591661\"/>\n     <use style=\"fill:#e377c2;stroke:#e377c2;\" x=\"149.796307\" xlink:href=\"#m55cf5f246b\" y=\"279.897207\"/>\n     <use style=\"fill:#e377c2;stroke:#e377c2;\" x=\"200.52358\" xlink:href=\"#m55cf5f246b\" y=\"278.140466\"/>\n     <use style=\"fill:#e377c2;stroke:#e377c2;\" x=\"251.250852\" xlink:href=\"#m55cf5f246b\" y=\"277.260962\"/>\n     <use style=\"fill:#e377c2;stroke:#e377c2;\" x=\"301.978125\" xlink:href=\"#m55cf5f246b\" y=\"277.898965\"/>\n     <use style=\"fill:#e377c2;stroke:#e377c2;\" x=\"352.705398\" xlink:href=\"#m55cf5f246b\" y=\"275.984504\"/>\n     <use style=\"fill:#e377c2;stroke:#e377c2;\" x=\"403.43267\" xlink:href=\"#m55cf5f246b\" y=\"275.981059\"/>\n     <use style=\"fill:#e377c2;stroke:#e377c2;\" x=\"454.159943\" xlink:href=\"#m55cf5f246b\" y=\"273.264391\"/>\n     <use style=\"fill:#e377c2;stroke:#e377c2;\" x=\"504.887216\" xlink:href=\"#m55cf5f246b\" y=\"274.378495\"/>\n    </g>\n   </g>\n   <g id=\"line2d_25\">\n    <path clip-path=\"url(#pf6bf65391c)\" d=\"M 99.069034 300.858659 \nL 149.796307 300.848364 \nL 200.52358 300.826433 \nL 251.250852 300.790848 \nL 301.978125 300.724337 \nL 352.705398 300.652242 \nL 403.43267 300.552807 \nL 454.159943 300.454109 \nL 504.887216 300.348444 \n\" style=\"fill:none;stroke:#7f7f7f;stroke-linecap:square;stroke-width:1.5;\"/>\n    <defs>\n     <path d=\"M 0 1.5 \nC 0.397805 1.5 0.77937 1.341951 1.06066 1.06066 \nC 1.341951 0.77937 1.5 0.397805 1.5 0 \nC 1.5 -0.397805 1.341951 -0.77937 1.06066 -1.06066 \nC 0.77937 -1.341951 0.397805 -1.5 0 -1.5 \nC -0.397805 -1.5 -0.77937 -1.341951 -1.06066 -1.06066 \nC -1.341951 -0.77937 -1.5 -0.397805 -1.5 0 \nC -1.5 0.397805 -1.341951 0.77937 -1.06066 1.06066 \nC -0.77937 1.341951 -0.397805 1.5 0 1.5 \nz\n\" id=\"m938cf40f2a\" style=\"stroke:#7f7f7f;\"/>\n    </defs>\n    <g clip-path=\"url(#pf6bf65391c)\">\n     <use style=\"fill:#7f7f7f;stroke:#7f7f7f;\" x=\"99.069034\" xlink:href=\"#m938cf40f2a\" y=\"300.858659\"/>\n     <use style=\"fill:#7f7f7f;stroke:#7f7f7f;\" x=\"149.796307\" xlink:href=\"#m938cf40f2a\" y=\"300.848364\"/>\n     <use style=\"fill:#7f7f7f;stroke:#7f7f7f;\" x=\"200.52358\" xlink:href=\"#m938cf40f2a\" y=\"300.826433\"/>\n     <use style=\"fill:#7f7f7f;stroke:#7f7f7f;\" x=\"251.250852\" xlink:href=\"#m938cf40f2a\" y=\"300.790848\"/>\n     <use style=\"fill:#7f7f7f;stroke:#7f7f7f;\" x=\"301.978125\" xlink:href=\"#m938cf40f2a\" y=\"300.724337\"/>\n     <use style=\"fill:#7f7f7f;stroke:#7f7f7f;\" x=\"352.705398\" xlink:href=\"#m938cf40f2a\" y=\"300.652242\"/>\n     <use style=\"fill:#7f7f7f;stroke:#7f7f7f;\" x=\"403.43267\" xlink:href=\"#m938cf40f2a\" y=\"300.552807\"/>\n     <use style=\"fill:#7f7f7f;stroke:#7f7f7f;\" x=\"454.159943\" xlink:href=\"#m938cf40f2a\" y=\"300.454109\"/>\n     <use style=\"fill:#7f7f7f;stroke:#7f7f7f;\" x=\"504.887216\" xlink:href=\"#m938cf40f2a\" y=\"300.348444\"/>\n    </g>\n   </g>\n   <g id=\"line2d_26\">\n    <path clip-path=\"url(#pf6bf65391c)\" d=\"M 99.069034 301.805662 \nL 149.796307 301.908997 \nL 200.52358 302.008334 \nL 251.250852 301.944497 \nL 301.978125 302.003961 \nL 352.705398 302.021963 \nL 403.43267 301.978889 \nL 454.159943 301.902376 \nL 504.887216 301.959803 \n\" style=\"fill:none;stroke:#bcbd22;stroke-linecap:square;stroke-width:1.5;\"/>\n    <defs>\n     <path d=\"M 0 1.5 \nC 0.397805 1.5 0.77937 1.341951 1.06066 1.06066 \nC 1.341951 0.77937 1.5 0.397805 1.5 0 \nC 1.5 -0.397805 1.341951 -0.77937 1.06066 -1.06066 \nC 0.77937 -1.341951 0.397805 -1.5 0 -1.5 \nC -0.397805 -1.5 -0.77937 -1.341951 -1.06066 -1.06066 \nC -1.341951 -0.77937 -1.5 -0.397805 -1.5 0 \nC -1.5 0.397805 -1.341951 0.77937 -1.06066 1.06066 \nC -0.77937 1.341951 -0.397805 1.5 0 1.5 \nz\n\" id=\"m106ca2c644\" style=\"stroke:#bcbd22;\"/>\n    </defs>\n    <g clip-path=\"url(#pf6bf65391c)\">\n     <use style=\"fill:#bcbd22;stroke:#bcbd22;\" x=\"99.069034\" xlink:href=\"#m106ca2c644\" y=\"301.805662\"/>\n     <use style=\"fill:#bcbd22;stroke:#bcbd22;\" x=\"149.796307\" xlink:href=\"#m106ca2c644\" y=\"301.908997\"/>\n     <use style=\"fill:#bcbd22;stroke:#bcbd22;\" x=\"200.52358\" xlink:href=\"#m106ca2c644\" y=\"302.008334\"/>\n     <use style=\"fill:#bcbd22;stroke:#bcbd22;\" x=\"251.250852\" xlink:href=\"#m106ca2c644\" y=\"301.944497\"/>\n     <use style=\"fill:#bcbd22;stroke:#bcbd22;\" x=\"301.978125\" xlink:href=\"#m106ca2c644\" y=\"302.003961\"/>\n     <use style=\"fill:#bcbd22;stroke:#bcbd22;\" x=\"352.705398\" xlink:href=\"#m106ca2c644\" y=\"302.021963\"/>\n     <use style=\"fill:#bcbd22;stroke:#bcbd22;\" x=\"403.43267\" xlink:href=\"#m106ca2c644\" y=\"301.978889\"/>\n     <use style=\"fill:#bcbd22;stroke:#bcbd22;\" x=\"454.159943\" xlink:href=\"#m106ca2c644\" y=\"301.902376\"/>\n     <use style=\"fill:#bcbd22;stroke:#bcbd22;\" x=\"504.887216\" xlink:href=\"#m106ca2c644\" y=\"301.959803\"/>\n    </g>\n   </g>\n   <g id=\"line2d_27\">\n    <path clip-path=\"url(#pf6bf65391c)\" d=\"M 99.069034 300.633435 \nL 149.796307 300.650481 \nL 200.52358 300.961951 \nL 251.250852 300.756199 \nL 301.978125 300.648547 \nL 352.705398 300.533608 \nL 403.43267 301.04589 \nL 454.159943 300.991403 \nL 504.887216 301.024574 \n\" style=\"fill:none;stroke:#17becf;stroke-linecap:square;stroke-width:1.5;\"/>\n    <defs>\n     <path d=\"M 0 1.5 \nC 0.397805 1.5 0.77937 1.341951 1.06066 1.06066 \nC 1.341951 0.77937 1.5 0.397805 1.5 0 \nC 1.5 -0.397805 1.341951 -0.77937 1.06066 -1.06066 \nC 0.77937 -1.341951 0.397805 -1.5 0 -1.5 \nC -0.397805 -1.5 -0.77937 -1.341951 -1.06066 -1.06066 \nC -1.341951 -0.77937 -1.5 -0.397805 -1.5 0 \nC -1.5 0.397805 -1.341951 0.77937 -1.06066 1.06066 \nC -0.77937 1.341951 -0.397805 1.5 0 1.5 \nz\n\" id=\"m9b97bcf085\" style=\"stroke:#17becf;\"/>\n    </defs>\n    <g clip-path=\"url(#pf6bf65391c)\">\n     <use style=\"fill:#17becf;stroke:#17becf;\" x=\"99.069034\" xlink:href=\"#m9b97bcf085\" y=\"300.633435\"/>\n     <use style=\"fill:#17becf;stroke:#17becf;\" x=\"149.796307\" xlink:href=\"#m9b97bcf085\" y=\"300.650481\"/>\n     <use style=\"fill:#17becf;stroke:#17becf;\" x=\"200.52358\" xlink:href=\"#m9b97bcf085\" y=\"300.961951\"/>\n     <use style=\"fill:#17becf;stroke:#17becf;\" x=\"251.250852\" xlink:href=\"#m9b97bcf085\" y=\"300.756199\"/>\n     <use style=\"fill:#17becf;stroke:#17becf;\" x=\"301.978125\" xlink:href=\"#m9b97bcf085\" y=\"300.648547\"/>\n     <use style=\"fill:#17becf;stroke:#17becf;\" x=\"352.705398\" xlink:href=\"#m9b97bcf085\" y=\"300.533608\"/>\n     <use style=\"fill:#17becf;stroke:#17becf;\" x=\"403.43267\" xlink:href=\"#m9b97bcf085\" y=\"301.04589\"/>\n     <use style=\"fill:#17becf;stroke:#17becf;\" x=\"454.159943\" xlink:href=\"#m9b97bcf085\" y=\"300.991403\"/>\n     <use style=\"fill:#17becf;stroke:#17becf;\" x=\"504.887216\" xlink:href=\"#m9b97bcf085\" y=\"301.024574\"/>\n    </g>\n   </g>\n   <g id=\"line2d_28\">\n    <path clip-path=\"url(#pf6bf65391c)\" d=\"M 99.069034 302.225263 \nL 149.796307 302.141702 \nL 200.52358 302.178191 \nL 251.250852 302.123312 \nL 301.978125 302.118145 \nL 352.705398 302.029929 \nL 403.43267 302.025408 \nL 454.159943 302.005997 \nL 504.887216 301.929057 \n\" style=\"fill:none;stroke:#1f77b4;stroke-linecap:square;stroke-width:1.5;\"/>\n    <g clip-path=\"url(#pf6bf65391c)\">\n     <use style=\"fill:#1f77b4;stroke:#1f77b4;\" x=\"99.069034\" xlink:href=\"#m514b3602b4\" y=\"302.225263\"/>\n     <use style=\"fill:#1f77b4;stroke:#1f77b4;\" x=\"149.796307\" xlink:href=\"#m514b3602b4\" y=\"302.141702\"/>\n     <use style=\"fill:#1f77b4;stroke:#1f77b4;\" x=\"200.52358\" xlink:href=\"#m514b3602b4\" y=\"302.178191\"/>\n     <use style=\"fill:#1f77b4;stroke:#1f77b4;\" x=\"251.250852\" xlink:href=\"#m514b3602b4\" y=\"302.123312\"/>\n     <use style=\"fill:#1f77b4;stroke:#1f77b4;\" x=\"301.978125\" xlink:href=\"#m514b3602b4\" y=\"302.118145\"/>\n     <use style=\"fill:#1f77b4;stroke:#1f77b4;\" x=\"352.705398\" xlink:href=\"#m514b3602b4\" y=\"302.029929\"/>\n     <use style=\"fill:#1f77b4;stroke:#1f77b4;\" x=\"403.43267\" xlink:href=\"#m514b3602b4\" y=\"302.025408\"/>\n     <use style=\"fill:#1f77b4;stroke:#1f77b4;\" x=\"454.159943\" xlink:href=\"#m514b3602b4\" y=\"302.005997\"/>\n     <use style=\"fill:#1f77b4;stroke:#1f77b4;\" x=\"504.887216\" xlink:href=\"#m514b3602b4\" y=\"301.929057\"/>\n    </g>\n   </g>\n   <g id=\"line2d_29\">\n    <path clip-path=\"url(#pf6bf65391c)\" d=\"M 99.069034 302.484329 \nL 149.796307 302.42766 \nL 200.52358 302.477485 \nL 251.250852 302.452107 \nL 301.978125 302.441897 \nL 352.705398 302.413413 \nL 403.43267 302.451094 \nL 454.159943 302.421389 \nL 504.887216 302.411097 \n\" style=\"fill:none;stroke:#ff7f0e;stroke-linecap:square;stroke-width:1.5;\"/>\n    <g clip-path=\"url(#pf6bf65391c)\">\n     <use style=\"fill:#ff7f0e;stroke:#ff7f0e;\" x=\"99.069034\" xlink:href=\"#m550096fe7f\" y=\"302.484329\"/>\n     <use style=\"fill:#ff7f0e;stroke:#ff7f0e;\" x=\"149.796307\" xlink:href=\"#m550096fe7f\" y=\"302.42766\"/>\n     <use style=\"fill:#ff7f0e;stroke:#ff7f0e;\" x=\"200.52358\" xlink:href=\"#m550096fe7f\" y=\"302.477485\"/>\n     <use style=\"fill:#ff7f0e;stroke:#ff7f0e;\" x=\"251.250852\" xlink:href=\"#m550096fe7f\" y=\"302.452107\"/>\n     <use style=\"fill:#ff7f0e;stroke:#ff7f0e;\" x=\"301.978125\" xlink:href=\"#m550096fe7f\" y=\"302.441897\"/>\n     <use style=\"fill:#ff7f0e;stroke:#ff7f0e;\" x=\"352.705398\" xlink:href=\"#m550096fe7f\" y=\"302.413413\"/>\n     <use style=\"fill:#ff7f0e;stroke:#ff7f0e;\" x=\"403.43267\" xlink:href=\"#m550096fe7f\" y=\"302.451094\"/>\n     <use style=\"fill:#ff7f0e;stroke:#ff7f0e;\" x=\"454.159943\" xlink:href=\"#m550096fe7f\" y=\"302.421389\"/>\n     <use style=\"fill:#ff7f0e;stroke:#ff7f0e;\" x=\"504.887216\" xlink:href=\"#m550096fe7f\" y=\"302.411097\"/>\n    </g>\n   </g>\n   <g id=\"line2d_30\">\n    <path clip-path=\"url(#pf6bf65391c)\" d=\"M 99.069034 302.406788 \nL 149.796307 302.436564 \nL 200.52358 302.339327 \nL 251.250852 302.338735 \nL 301.978125 302.328415 \nL 352.705398 302.196377 \nL 403.43267 302.148697 \nL 454.159943 302.248475 \nL 504.887216 302.344127 \n\" style=\"fill:none;stroke:#2ca02c;stroke-linecap:square;stroke-width:1.5;\"/>\n    <g clip-path=\"url(#pf6bf65391c)\">\n     <use style=\"fill:#2ca02c;stroke:#2ca02c;\" x=\"99.069034\" xlink:href=\"#m33fece5399\" y=\"302.406788\"/>\n     <use style=\"fill:#2ca02c;stroke:#2ca02c;\" x=\"149.796307\" xlink:href=\"#m33fece5399\" y=\"302.436564\"/>\n     <use style=\"fill:#2ca02c;stroke:#2ca02c;\" x=\"200.52358\" xlink:href=\"#m33fece5399\" y=\"302.339327\"/>\n     <use style=\"fill:#2ca02c;stroke:#2ca02c;\" x=\"251.250852\" xlink:href=\"#m33fece5399\" y=\"302.338735\"/>\n     <use style=\"fill:#2ca02c;stroke:#2ca02c;\" x=\"301.978125\" xlink:href=\"#m33fece5399\" y=\"302.328415\"/>\n     <use style=\"fill:#2ca02c;stroke:#2ca02c;\" x=\"352.705398\" xlink:href=\"#m33fece5399\" y=\"302.196377\"/>\n     <use style=\"fill:#2ca02c;stroke:#2ca02c;\" x=\"403.43267\" xlink:href=\"#m33fece5399\" y=\"302.148697\"/>\n     <use style=\"fill:#2ca02c;stroke:#2ca02c;\" x=\"454.159943\" xlink:href=\"#m33fece5399\" y=\"302.248475\"/>\n     <use style=\"fill:#2ca02c;stroke:#2ca02c;\" x=\"504.887216\" xlink:href=\"#m33fece5399\" y=\"302.344127\"/>\n    </g>\n   </g>\n   <g id=\"line2d_31\">\n    <path clip-path=\"url(#pf6bf65391c)\" d=\"M 99.069034 302.366291 \nL 149.796307 302.368941 \nL 200.52358 302.3742 \nL 251.250852 302.358943 \nL 301.978125 302.339306 \nL 352.705398 302.295601 \nL 403.43267 302.343958 \nL 454.159943 302.346718 \nL 504.887216 302.340065 \n\" style=\"fill:none;stroke:#d62728;stroke-linecap:square;stroke-width:1.5;\"/>\n    <g clip-path=\"url(#pf6bf65391c)\">\n     <use style=\"fill:#d62728;stroke:#d62728;\" x=\"99.069034\" xlink:href=\"#m2e2b3f65e5\" y=\"302.366291\"/>\n     <use style=\"fill:#d62728;stroke:#d62728;\" x=\"149.796307\" xlink:href=\"#m2e2b3f65e5\" y=\"302.368941\"/>\n     <use style=\"fill:#d62728;stroke:#d62728;\" x=\"200.52358\" xlink:href=\"#m2e2b3f65e5\" y=\"302.3742\"/>\n     <use style=\"fill:#d62728;stroke:#d62728;\" x=\"251.250852\" xlink:href=\"#m2e2b3f65e5\" y=\"302.358943\"/>\n     <use style=\"fill:#d62728;stroke:#d62728;\" x=\"301.978125\" xlink:href=\"#m2e2b3f65e5\" y=\"302.339306\"/>\n     <use style=\"fill:#d62728;stroke:#d62728;\" x=\"352.705398\" xlink:href=\"#m2e2b3f65e5\" y=\"302.295601\"/>\n     <use style=\"fill:#d62728;stroke:#d62728;\" x=\"403.43267\" xlink:href=\"#m2e2b3f65e5\" y=\"302.343958\"/>\n     <use style=\"fill:#d62728;stroke:#d62728;\" x=\"454.159943\" xlink:href=\"#m2e2b3f65e5\" y=\"302.346718\"/>\n     <use style=\"fill:#d62728;stroke:#d62728;\" x=\"504.887216\" xlink:href=\"#m2e2b3f65e5\" y=\"302.340065\"/>\n    </g>\n   </g>\n   <g id=\"line2d_32\">\n    <path clip-path=\"url(#pf6bf65391c)\" d=\"M 99.069034 299.98116 \nL 149.796307 299.707036 \nL 200.52358 299.625027 \nL 251.250852 299.741078 \nL 301.978125 299.893028 \nL 352.705398 299.99654 \nL 403.43267 300.122035 \nL 454.159943 300.143976 \nL 504.887216 300.018329 \n\" style=\"fill:none;stroke:#9467bd;stroke-linecap:square;stroke-width:1.5;\"/>\n    <g clip-path=\"url(#pf6bf65391c)\">\n     <use style=\"fill:#9467bd;stroke:#9467bd;\" x=\"99.069034\" xlink:href=\"#mbd36c2ddd4\" y=\"299.98116\"/>\n     <use style=\"fill:#9467bd;stroke:#9467bd;\" x=\"149.796307\" xlink:href=\"#mbd36c2ddd4\" y=\"299.707036\"/>\n     <use style=\"fill:#9467bd;stroke:#9467bd;\" x=\"200.52358\" xlink:href=\"#mbd36c2ddd4\" y=\"299.625027\"/>\n     <use style=\"fill:#9467bd;stroke:#9467bd;\" x=\"251.250852\" xlink:href=\"#mbd36c2ddd4\" y=\"299.741078\"/>\n     <use style=\"fill:#9467bd;stroke:#9467bd;\" x=\"301.978125\" xlink:href=\"#mbd36c2ddd4\" y=\"299.893028\"/>\n     <use style=\"fill:#9467bd;stroke:#9467bd;\" x=\"352.705398\" xlink:href=\"#mbd36c2ddd4\" y=\"299.99654\"/>\n     <use style=\"fill:#9467bd;stroke:#9467bd;\" x=\"403.43267\" xlink:href=\"#mbd36c2ddd4\" y=\"300.122035\"/>\n     <use style=\"fill:#9467bd;stroke:#9467bd;\" x=\"454.159943\" xlink:href=\"#mbd36c2ddd4\" y=\"300.143976\"/>\n     <use style=\"fill:#9467bd;stroke:#9467bd;\" x=\"504.887216\" xlink:href=\"#mbd36c2ddd4\" y=\"300.018329\"/>\n    </g>\n   </g>\n   <g id=\"line2d_33\">\n    <path clip-path=\"url(#pf6bf65391c)\" d=\"M 99.069034 117.819077 \nL 149.796307 115.246241 \nL 200.52358 109.564509 \nL 251.250852 99.472966 \nL 301.978125 89.865913 \nL 352.705398 76.509292 \nL 403.43267 73.656664 \nL 454.159943 66.19393 \nL 504.887216 55.554545 \n\" style=\"fill:none;stroke:#8c564b;stroke-linecap:square;stroke-width:1.5;\"/>\n    <g clip-path=\"url(#pf6bf65391c)\">\n     <use style=\"fill:#8c564b;stroke:#8c564b;\" x=\"99.069034\" xlink:href=\"#me5a875bc03\" y=\"117.819077\"/>\n     <use style=\"fill:#8c564b;stroke:#8c564b;\" x=\"149.796307\" xlink:href=\"#me5a875bc03\" y=\"115.246241\"/>\n     <use style=\"fill:#8c564b;stroke:#8c564b;\" x=\"200.52358\" xlink:href=\"#me5a875bc03\" y=\"109.564509\"/>\n     <use style=\"fill:#8c564b;stroke:#8c564b;\" x=\"251.250852\" xlink:href=\"#me5a875bc03\" y=\"99.472966\"/>\n     <use style=\"fill:#8c564b;stroke:#8c564b;\" x=\"301.978125\" xlink:href=\"#me5a875bc03\" y=\"89.865913\"/>\n     <use style=\"fill:#8c564b;stroke:#8c564b;\" x=\"352.705398\" xlink:href=\"#me5a875bc03\" y=\"76.509292\"/>\n     <use style=\"fill:#8c564b;stroke:#8c564b;\" x=\"403.43267\" xlink:href=\"#me5a875bc03\" y=\"73.656664\"/>\n     <use style=\"fill:#8c564b;stroke:#8c564b;\" x=\"454.159943\" xlink:href=\"#me5a875bc03\" y=\"66.19393\"/>\n     <use style=\"fill:#8c564b;stroke:#8c564b;\" x=\"504.887216\" xlink:href=\"#me5a875bc03\" y=\"55.554545\"/>\n    </g>\n   </g>\n   <g id=\"line2d_34\">\n    <path clip-path=\"url(#pf6bf65391c)\" d=\"M 99.069034 302.182331 \nL 149.796307 302.245909 \nL 200.52358 302.428158 \nL 251.250852 302.383986 \nL 301.978125 302.014527 \nL 352.705398 302.027151 \nL 403.43267 302.114425 \nL 454.159943 302.127466 \nL 504.887216 302.238438 \n\" style=\"fill:none;stroke:#e377c2;stroke-linecap:square;stroke-width:1.5;\"/>\n    <g clip-path=\"url(#pf6bf65391c)\">\n     <use style=\"fill:#e377c2;stroke:#e377c2;\" x=\"99.069034\" xlink:href=\"#m55cf5f246b\" y=\"302.182331\"/>\n     <use style=\"fill:#e377c2;stroke:#e377c2;\" x=\"149.796307\" xlink:href=\"#m55cf5f246b\" y=\"302.245909\"/>\n     <use style=\"fill:#e377c2;stroke:#e377c2;\" x=\"200.52358\" xlink:href=\"#m55cf5f246b\" y=\"302.428158\"/>\n     <use style=\"fill:#e377c2;stroke:#e377c2;\" x=\"251.250852\" xlink:href=\"#m55cf5f246b\" y=\"302.383986\"/>\n     <use style=\"fill:#e377c2;stroke:#e377c2;\" x=\"301.978125\" xlink:href=\"#m55cf5f246b\" y=\"302.014527\"/>\n     <use style=\"fill:#e377c2;stroke:#e377c2;\" x=\"352.705398\" xlink:href=\"#m55cf5f246b\" y=\"302.027151\"/>\n     <use style=\"fill:#e377c2;stroke:#e377c2;\" x=\"403.43267\" xlink:href=\"#m55cf5f246b\" y=\"302.114425\"/>\n     <use style=\"fill:#e377c2;stroke:#e377c2;\" x=\"454.159943\" xlink:href=\"#m55cf5f246b\" y=\"302.127466\"/>\n     <use style=\"fill:#e377c2;stroke:#e377c2;\" x=\"504.887216\" xlink:href=\"#m55cf5f246b\" y=\"302.238438\"/>\n    </g>\n   </g>\n   <g id=\"line2d_35\">\n    <path clip-path=\"url(#pf6bf65391c)\" d=\"M 99.069034 263.93977 \nL 149.796307 262.62406 \nL 200.52358 258.38631 \nL 251.250852 257.586037 \nL 301.978125 255.166825 \nL 352.705398 252.770376 \nL 403.43267 252.207054 \nL 454.159943 249.053254 \nL 504.887216 247.229783 \n\" style=\"fill:none;stroke:#7f7f7f;stroke-linecap:square;stroke-width:1.5;\"/>\n    <g clip-path=\"url(#pf6bf65391c)\">\n     <use style=\"fill:#7f7f7f;stroke:#7f7f7f;\" x=\"99.069034\" xlink:href=\"#m938cf40f2a\" y=\"263.93977\"/>\n     <use style=\"fill:#7f7f7f;stroke:#7f7f7f;\" x=\"149.796307\" xlink:href=\"#m938cf40f2a\" y=\"262.62406\"/>\n     <use style=\"fill:#7f7f7f;stroke:#7f7f7f;\" x=\"200.52358\" xlink:href=\"#m938cf40f2a\" y=\"258.38631\"/>\n     <use style=\"fill:#7f7f7f;stroke:#7f7f7f;\" x=\"251.250852\" xlink:href=\"#m938cf40f2a\" y=\"257.586037\"/>\n     <use style=\"fill:#7f7f7f;stroke:#7f7f7f;\" x=\"301.978125\" xlink:href=\"#m938cf40f2a\" y=\"255.166825\"/>\n     <use style=\"fill:#7f7f7f;stroke:#7f7f7f;\" x=\"352.705398\" xlink:href=\"#m938cf40f2a\" y=\"252.770376\"/>\n     <use style=\"fill:#7f7f7f;stroke:#7f7f7f;\" x=\"403.43267\" xlink:href=\"#m938cf40f2a\" y=\"252.207054\"/>\n     <use style=\"fill:#7f7f7f;stroke:#7f7f7f;\" x=\"454.159943\" xlink:href=\"#m938cf40f2a\" y=\"249.053254\"/>\n     <use style=\"fill:#7f7f7f;stroke:#7f7f7f;\" x=\"504.887216\" xlink:href=\"#m938cf40f2a\" y=\"247.229783\"/>\n    </g>\n   </g>\n   <g id=\"line2d_36\">\n    <path clip-path=\"url(#pf6bf65391c)\" d=\"M 99.069034 293.152928 \nL 149.796307 293.417612 \nL 200.52358 293.724028 \nL 251.250852 292.815921 \nL 301.978125 292.237628 \nL 352.705398 291.722191 \nL 403.43267 291.439416 \nL 454.159943 291.1139 \nL 504.887216 290.878357 \n\" style=\"fill:none;stroke:#bcbd22;stroke-linecap:square;stroke-width:1.5;\"/>\n    <g clip-path=\"url(#pf6bf65391c)\">\n     <use style=\"fill:#bcbd22;stroke:#bcbd22;\" x=\"99.069034\" xlink:href=\"#m106ca2c644\" y=\"293.152928\"/>\n     <use style=\"fill:#bcbd22;stroke:#bcbd22;\" x=\"149.796307\" xlink:href=\"#m106ca2c644\" y=\"293.417612\"/>\n     <use style=\"fill:#bcbd22;stroke:#bcbd22;\" x=\"200.52358\" xlink:href=\"#m106ca2c644\" y=\"293.724028\"/>\n     <use style=\"fill:#bcbd22;stroke:#bcbd22;\" x=\"251.250852\" xlink:href=\"#m106ca2c644\" y=\"292.815921\"/>\n     <use style=\"fill:#bcbd22;stroke:#bcbd22;\" x=\"301.978125\" xlink:href=\"#m106ca2c644\" y=\"292.237628\"/>\n     <use style=\"fill:#bcbd22;stroke:#bcbd22;\" x=\"352.705398\" xlink:href=\"#m106ca2c644\" y=\"291.722191\"/>\n     <use style=\"fill:#bcbd22;stroke:#bcbd22;\" x=\"403.43267\" xlink:href=\"#m106ca2c644\" y=\"291.439416\"/>\n     <use style=\"fill:#bcbd22;stroke:#bcbd22;\" x=\"454.159943\" xlink:href=\"#m106ca2c644\" y=\"291.1139\"/>\n     <use style=\"fill:#bcbd22;stroke:#bcbd22;\" x=\"504.887216\" xlink:href=\"#m106ca2c644\" y=\"290.878357\"/>\n    </g>\n   </g>\n   <g id=\"line2d_37\">\n    <path clip-path=\"url(#pf6bf65391c)\" d=\"M 99.069034 301.515497 \nL 149.796307 301.511753 \nL 200.52358 301.483113 \nL 251.250852 301.38354 \nL 301.978125 301.388947 \nL 352.705398 301.349967 \nL 403.43267 301.297064 \nL 454.159943 301.196683 \nL 504.887216 301.08259 \n\" style=\"fill:none;stroke:#17becf;stroke-linecap:square;stroke-width:1.5;\"/>\n    <g clip-path=\"url(#pf6bf65391c)\">\n     <use style=\"fill:#17becf;stroke:#17becf;\" x=\"99.069034\" xlink:href=\"#m9b97bcf085\" y=\"301.515497\"/>\n     <use style=\"fill:#17becf;stroke:#17becf;\" x=\"149.796307\" xlink:href=\"#m9b97bcf085\" y=\"301.511753\"/>\n     <use style=\"fill:#17becf;stroke:#17becf;\" x=\"200.52358\" xlink:href=\"#m9b97bcf085\" y=\"301.483113\"/>\n     <use style=\"fill:#17becf;stroke:#17becf;\" x=\"251.250852\" xlink:href=\"#m9b97bcf085\" y=\"301.38354\"/>\n     <use style=\"fill:#17becf;stroke:#17becf;\" x=\"301.978125\" xlink:href=\"#m9b97bcf085\" y=\"301.388947\"/>\n     <use style=\"fill:#17becf;stroke:#17becf;\" x=\"352.705398\" xlink:href=\"#m9b97bcf085\" y=\"301.349967\"/>\n     <use style=\"fill:#17becf;stroke:#17becf;\" x=\"403.43267\" xlink:href=\"#m9b97bcf085\" y=\"301.297064\"/>\n     <use style=\"fill:#17becf;stroke:#17becf;\" x=\"454.159943\" xlink:href=\"#m9b97bcf085\" y=\"301.196683\"/>\n     <use style=\"fill:#17becf;stroke:#17becf;\" x=\"504.887216\" xlink:href=\"#m9b97bcf085\" y=\"301.08259\"/>\n    </g>\n   </g>\n   <g id=\"line2d_38\">\n    <path clip-path=\"url(#pf6bf65391c)\" d=\"M 99.069034 203.82711 \nL 149.796307 201.572726 \nL 200.52358 201.232577 \nL 251.250852 200.025535 \nL 301.978125 198.792956 \nL 352.705398 196.203183 \nL 403.43267 193.711029 \nL 454.159943 188.918558 \nL 504.887216 185.094869 \n\" style=\"fill:none;stroke:#1f77b4;stroke-linecap:square;stroke-width:1.5;\"/>\n    <g clip-path=\"url(#pf6bf65391c)\">\n     <use style=\"fill:#1f77b4;stroke:#1f77b4;\" x=\"99.069034\" xlink:href=\"#m514b3602b4\" y=\"203.82711\"/>\n     <use style=\"fill:#1f77b4;stroke:#1f77b4;\" x=\"149.796307\" xlink:href=\"#m514b3602b4\" y=\"201.572726\"/>\n     <use style=\"fill:#1f77b4;stroke:#1f77b4;\" x=\"200.52358\" xlink:href=\"#m514b3602b4\" y=\"201.232577\"/>\n     <use style=\"fill:#1f77b4;stroke:#1f77b4;\" x=\"251.250852\" xlink:href=\"#m514b3602b4\" y=\"200.025535\"/>\n     <use style=\"fill:#1f77b4;stroke:#1f77b4;\" x=\"301.978125\" xlink:href=\"#m514b3602b4\" y=\"198.792956\"/>\n     <use style=\"fill:#1f77b4;stroke:#1f77b4;\" x=\"352.705398\" xlink:href=\"#m514b3602b4\" y=\"196.203183\"/>\n     <use style=\"fill:#1f77b4;stroke:#1f77b4;\" x=\"403.43267\" xlink:href=\"#m514b3602b4\" y=\"193.711029\"/>\n     <use style=\"fill:#1f77b4;stroke:#1f77b4;\" x=\"454.159943\" xlink:href=\"#m514b3602b4\" y=\"188.918558\"/>\n     <use style=\"fill:#1f77b4;stroke:#1f77b4;\" x=\"504.887216\" xlink:href=\"#m514b3602b4\" y=\"185.094869\"/>\n    </g>\n   </g>\n   <g id=\"line2d_39\">\n    <path clip-path=\"url(#pf6bf65391c)\" d=\"M 99.069034 298.456235 \nL 149.796307 298.383462 \nL 200.52358 298.445626 \nL 251.250852 298.570292 \nL 301.978125 298.547034 \nL 352.705398 298.385428 \nL 403.43267 298.309409 \nL 454.159943 298.21856 \nL 504.887216 298.114357 \n\" style=\"fill:none;stroke:#ff7f0e;stroke-linecap:square;stroke-width:1.5;\"/>\n    <g clip-path=\"url(#pf6bf65391c)\">\n     <use style=\"fill:#ff7f0e;stroke:#ff7f0e;\" x=\"99.069034\" xlink:href=\"#m550096fe7f\" y=\"298.456235\"/>\n     <use style=\"fill:#ff7f0e;stroke:#ff7f0e;\" x=\"149.796307\" xlink:href=\"#m550096fe7f\" y=\"298.383462\"/>\n     <use style=\"fill:#ff7f0e;stroke:#ff7f0e;\" x=\"200.52358\" xlink:href=\"#m550096fe7f\" y=\"298.445626\"/>\n     <use style=\"fill:#ff7f0e;stroke:#ff7f0e;\" x=\"251.250852\" xlink:href=\"#m550096fe7f\" y=\"298.570292\"/>\n     <use style=\"fill:#ff7f0e;stroke:#ff7f0e;\" x=\"301.978125\" xlink:href=\"#m550096fe7f\" y=\"298.547034\"/>\n     <use style=\"fill:#ff7f0e;stroke:#ff7f0e;\" x=\"352.705398\" xlink:href=\"#m550096fe7f\" y=\"298.385428\"/>\n     <use style=\"fill:#ff7f0e;stroke:#ff7f0e;\" x=\"403.43267\" xlink:href=\"#m550096fe7f\" y=\"298.309409\"/>\n     <use style=\"fill:#ff7f0e;stroke:#ff7f0e;\" x=\"454.159943\" xlink:href=\"#m550096fe7f\" y=\"298.21856\"/>\n     <use style=\"fill:#ff7f0e;stroke:#ff7f0e;\" x=\"504.887216\" xlink:href=\"#m550096fe7f\" y=\"298.114357\"/>\n    </g>\n   </g>\n   <g id=\"line2d_40\">\n    <path clip-path=\"url(#pf6bf65391c)\" d=\"M 99.069034 287.97205 \nL 149.796307 288.820684 \nL 200.52358 289.322925 \nL 251.250852 289.234148 \nL 301.978125 288.151729 \nL 352.705398 287.861063 \nL 403.43267 287.8055 \nL 454.159943 287.611256 \nL 504.887216 287.814361 \n\" style=\"fill:none;stroke:#2ca02c;stroke-linecap:square;stroke-width:1.5;\"/>\n    <g clip-path=\"url(#pf6bf65391c)\">\n     <use style=\"fill:#2ca02c;stroke:#2ca02c;\" x=\"99.069034\" xlink:href=\"#m33fece5399\" y=\"287.97205\"/>\n     <use style=\"fill:#2ca02c;stroke:#2ca02c;\" x=\"149.796307\" xlink:href=\"#m33fece5399\" y=\"288.820684\"/>\n     <use style=\"fill:#2ca02c;stroke:#2ca02c;\" x=\"200.52358\" xlink:href=\"#m33fece5399\" y=\"289.322925\"/>\n     <use style=\"fill:#2ca02c;stroke:#2ca02c;\" x=\"251.250852\" xlink:href=\"#m33fece5399\" y=\"289.234148\"/>\n     <use style=\"fill:#2ca02c;stroke:#2ca02c;\" x=\"301.978125\" xlink:href=\"#m33fece5399\" y=\"288.151729\"/>\n     <use style=\"fill:#2ca02c;stroke:#2ca02c;\" x=\"352.705398\" xlink:href=\"#m33fece5399\" y=\"287.861063\"/>\n     <use style=\"fill:#2ca02c;stroke:#2ca02c;\" x=\"403.43267\" xlink:href=\"#m33fece5399\" y=\"287.8055\"/>\n     <use style=\"fill:#2ca02c;stroke:#2ca02c;\" x=\"454.159943\" xlink:href=\"#m33fece5399\" y=\"287.611256\"/>\n     <use style=\"fill:#2ca02c;stroke:#2ca02c;\" x=\"504.887216\" xlink:href=\"#m33fece5399\" y=\"287.814361\"/>\n    </g>\n   </g>\n   <g id=\"line2d_41\">\n    <path clip-path=\"url(#pf6bf65391c)\" d=\"M 99.069034 300.548579 \nL 149.796307 300.720981 \nL 200.52358 300.89394 \nL 251.250852 300.93142 \nL 301.978125 301.019873 \nL 352.705398 301.006818 \nL 403.43267 301.014872 \nL 454.159943 300.841404 \nL 504.887216 300.937723 \n\" style=\"fill:none;stroke:#d62728;stroke-linecap:square;stroke-width:1.5;\"/>\n    <g clip-path=\"url(#pf6bf65391c)\">\n     <use style=\"fill:#d62728;stroke:#d62728;\" x=\"99.069034\" xlink:href=\"#m2e2b3f65e5\" y=\"300.548579\"/>\n     <use style=\"fill:#d62728;stroke:#d62728;\" x=\"149.796307\" xlink:href=\"#m2e2b3f65e5\" y=\"300.720981\"/>\n     <use style=\"fill:#d62728;stroke:#d62728;\" x=\"200.52358\" xlink:href=\"#m2e2b3f65e5\" y=\"300.89394\"/>\n     <use style=\"fill:#d62728;stroke:#d62728;\" x=\"251.250852\" xlink:href=\"#m2e2b3f65e5\" y=\"300.93142\"/>\n     <use style=\"fill:#d62728;stroke:#d62728;\" x=\"301.978125\" xlink:href=\"#m2e2b3f65e5\" y=\"301.019873\"/>\n     <use style=\"fill:#d62728;stroke:#d62728;\" x=\"352.705398\" xlink:href=\"#m2e2b3f65e5\" y=\"301.006818\"/>\n     <use style=\"fill:#d62728;stroke:#d62728;\" x=\"403.43267\" xlink:href=\"#m2e2b3f65e5\" y=\"301.014872\"/>\n     <use style=\"fill:#d62728;stroke:#d62728;\" x=\"454.159943\" xlink:href=\"#m2e2b3f65e5\" y=\"300.841404\"/>\n     <use style=\"fill:#d62728;stroke:#d62728;\" x=\"504.887216\" xlink:href=\"#m2e2b3f65e5\" y=\"300.937723\"/>\n    </g>\n   </g>\n   <g id=\"line2d_42\">\n    <path clip-path=\"url(#pf6bf65391c)\" d=\"M 99.069034 300.587252 \nL 149.796307 300.597907 \nL 200.52358 300.651459 \nL 251.250852 300.601792 \nL 301.978125 300.558411 \nL 352.705398 300.483747 \nL 403.43267 300.454931 \nL 454.159943 300.373301 \nL 504.887216 300.268723 \n\" style=\"fill:none;stroke:#9467bd;stroke-linecap:square;stroke-width:1.5;\"/>\n    <g clip-path=\"url(#pf6bf65391c)\">\n     <use style=\"fill:#9467bd;stroke:#9467bd;\" x=\"99.069034\" xlink:href=\"#mbd36c2ddd4\" y=\"300.587252\"/>\n     <use style=\"fill:#9467bd;stroke:#9467bd;\" x=\"149.796307\" xlink:href=\"#mbd36c2ddd4\" y=\"300.597907\"/>\n     <use style=\"fill:#9467bd;stroke:#9467bd;\" x=\"200.52358\" xlink:href=\"#mbd36c2ddd4\" y=\"300.651459\"/>\n     <use style=\"fill:#9467bd;stroke:#9467bd;\" x=\"251.250852\" xlink:href=\"#mbd36c2ddd4\" y=\"300.601792\"/>\n     <use style=\"fill:#9467bd;stroke:#9467bd;\" x=\"301.978125\" xlink:href=\"#mbd36c2ddd4\" y=\"300.558411\"/>\n     <use style=\"fill:#9467bd;stroke:#9467bd;\" x=\"352.705398\" xlink:href=\"#mbd36c2ddd4\" y=\"300.483747\"/>\n     <use style=\"fill:#9467bd;stroke:#9467bd;\" x=\"403.43267\" xlink:href=\"#mbd36c2ddd4\" y=\"300.454931\"/>\n     <use style=\"fill:#9467bd;stroke:#9467bd;\" x=\"454.159943\" xlink:href=\"#mbd36c2ddd4\" y=\"300.373301\"/>\n     <use style=\"fill:#9467bd;stroke:#9467bd;\" x=\"504.887216\" xlink:href=\"#mbd36c2ddd4\" y=\"300.268723\"/>\n    </g>\n   </g>\n   <g id=\"line2d_43\">\n    <path clip-path=\"url(#pf6bf65391c)\" d=\"M 99.069034 298.692515 \nL 149.796307 298.819665 \nL 200.52358 298.878949 \nL 251.250852 299.429943 \nL 301.978125 299.472689 \nL 352.705398 299.530977 \nL 403.43267 299.461261 \nL 454.159943 299.217065 \nL 504.887216 299.159779 \n\" style=\"fill:none;stroke:#8c564b;stroke-linecap:square;stroke-width:1.5;\"/>\n    <g clip-path=\"url(#pf6bf65391c)\">\n     <use style=\"fill:#8c564b;stroke:#8c564b;\" x=\"99.069034\" xlink:href=\"#me5a875bc03\" y=\"298.692515\"/>\n     <use style=\"fill:#8c564b;stroke:#8c564b;\" x=\"149.796307\" xlink:href=\"#me5a875bc03\" y=\"298.819665\"/>\n     <use style=\"fill:#8c564b;stroke:#8c564b;\" x=\"200.52358\" xlink:href=\"#me5a875bc03\" y=\"298.878949\"/>\n     <use style=\"fill:#8c564b;stroke:#8c564b;\" x=\"251.250852\" xlink:href=\"#me5a875bc03\" y=\"299.429943\"/>\n     <use style=\"fill:#8c564b;stroke:#8c564b;\" x=\"301.978125\" xlink:href=\"#me5a875bc03\" y=\"299.472689\"/>\n     <use style=\"fill:#8c564b;stroke:#8c564b;\" x=\"352.705398\" xlink:href=\"#me5a875bc03\" y=\"299.530977\"/>\n     <use style=\"fill:#8c564b;stroke:#8c564b;\" x=\"403.43267\" xlink:href=\"#me5a875bc03\" y=\"299.461261\"/>\n     <use style=\"fill:#8c564b;stroke:#8c564b;\" x=\"454.159943\" xlink:href=\"#me5a875bc03\" y=\"299.217065\"/>\n     <use style=\"fill:#8c564b;stroke:#8c564b;\" x=\"504.887216\" xlink:href=\"#me5a875bc03\" y=\"299.159779\"/>\n    </g>\n   </g>\n   <g id=\"line2d_44\">\n    <path clip-path=\"url(#pf6bf65391c)\" d=\"M 99.069034 302.627734 \nL 149.796307 302.624583 \nL 200.52358 302.624163 \nL 251.250852 302.626104 \nL 301.978125 302.623041 \nL 352.705398 302.620951 \nL 403.43267 302.621721 \nL 454.159943 302.606538 \nL 504.887216 302.605073 \n\" style=\"fill:none;stroke:#e377c2;stroke-linecap:square;stroke-width:1.5;\"/>\n    <g clip-path=\"url(#pf6bf65391c)\">\n     <use style=\"fill:#e377c2;stroke:#e377c2;\" x=\"99.069034\" xlink:href=\"#m55cf5f246b\" y=\"302.627734\"/>\n     <use style=\"fill:#e377c2;stroke:#e377c2;\" x=\"149.796307\" xlink:href=\"#m55cf5f246b\" y=\"302.624583\"/>\n     <use style=\"fill:#e377c2;stroke:#e377c2;\" x=\"200.52358\" xlink:href=\"#m55cf5f246b\" y=\"302.624163\"/>\n     <use style=\"fill:#e377c2;stroke:#e377c2;\" x=\"251.250852\" xlink:href=\"#m55cf5f246b\" y=\"302.626104\"/>\n     <use style=\"fill:#e377c2;stroke:#e377c2;\" x=\"301.978125\" xlink:href=\"#m55cf5f246b\" y=\"302.623041\"/>\n     <use style=\"fill:#e377c2;stroke:#e377c2;\" x=\"352.705398\" xlink:href=\"#m55cf5f246b\" y=\"302.620951\"/>\n     <use style=\"fill:#e377c2;stroke:#e377c2;\" x=\"403.43267\" xlink:href=\"#m55cf5f246b\" y=\"302.621721\"/>\n     <use style=\"fill:#e377c2;stroke:#e377c2;\" x=\"454.159943\" xlink:href=\"#m55cf5f246b\" y=\"302.606538\"/>\n     <use style=\"fill:#e377c2;stroke:#e377c2;\" x=\"504.887216\" xlink:href=\"#m55cf5f246b\" y=\"302.605073\"/>\n    </g>\n   </g>\n   <g id=\"line2d_45\">\n    <path clip-path=\"url(#pf6bf65391c)\" d=\"M 99.069034 301.869823 \nL 149.796307 301.981067 \nL 200.52358 302.058131 \nL 251.250852 302.030681 \nL 301.978125 301.974753 \nL 352.705398 301.966008 \nL 403.43267 301.920527 \nL 454.159943 301.83331 \nL 504.887216 301.824427 \n\" style=\"fill:none;stroke:#7f7f7f;stroke-linecap:square;stroke-width:1.5;\"/>\n    <g clip-path=\"url(#pf6bf65391c)\">\n     <use style=\"fill:#7f7f7f;stroke:#7f7f7f;\" x=\"99.069034\" xlink:href=\"#m938cf40f2a\" y=\"301.869823\"/>\n     <use style=\"fill:#7f7f7f;stroke:#7f7f7f;\" x=\"149.796307\" xlink:href=\"#m938cf40f2a\" y=\"301.981067\"/>\n     <use style=\"fill:#7f7f7f;stroke:#7f7f7f;\" x=\"200.52358\" xlink:href=\"#m938cf40f2a\" y=\"302.058131\"/>\n     <use style=\"fill:#7f7f7f;stroke:#7f7f7f;\" x=\"251.250852\" xlink:href=\"#m938cf40f2a\" y=\"302.030681\"/>\n     <use style=\"fill:#7f7f7f;stroke:#7f7f7f;\" x=\"301.978125\" xlink:href=\"#m938cf40f2a\" y=\"301.974753\"/>\n     <use style=\"fill:#7f7f7f;stroke:#7f7f7f;\" x=\"352.705398\" xlink:href=\"#m938cf40f2a\" y=\"301.966008\"/>\n     <use style=\"fill:#7f7f7f;stroke:#7f7f7f;\" x=\"403.43267\" xlink:href=\"#m938cf40f2a\" y=\"301.920527\"/>\n     <use style=\"fill:#7f7f7f;stroke:#7f7f7f;\" x=\"454.159943\" xlink:href=\"#m938cf40f2a\" y=\"301.83331\"/>\n     <use style=\"fill:#7f7f7f;stroke:#7f7f7f;\" x=\"504.887216\" xlink:href=\"#m938cf40f2a\" y=\"301.824427\"/>\n    </g>\n   </g>\n   <g id=\"line2d_46\">\n    <path clip-path=\"url(#pf6bf65391c)\" d=\"M 99.069034 302.51282 \nL 149.796307 302.499575 \nL 200.52358 302.551129 \nL 251.250852 302.542183 \nL 301.978125 302.513137 \nL 352.705398 302.476307 \nL 403.43267 302.460549 \nL 454.159943 302.442578 \nL 504.887216 302.372297 \n\" style=\"fill:none;stroke:#bcbd22;stroke-linecap:square;stroke-width:1.5;\"/>\n    <g clip-path=\"url(#pf6bf65391c)\">\n     <use style=\"fill:#bcbd22;stroke:#bcbd22;\" x=\"99.069034\" xlink:href=\"#m106ca2c644\" y=\"302.51282\"/>\n     <use style=\"fill:#bcbd22;stroke:#bcbd22;\" x=\"149.796307\" xlink:href=\"#m106ca2c644\" y=\"302.499575\"/>\n     <use style=\"fill:#bcbd22;stroke:#bcbd22;\" x=\"200.52358\" xlink:href=\"#m106ca2c644\" y=\"302.551129\"/>\n     <use style=\"fill:#bcbd22;stroke:#bcbd22;\" x=\"251.250852\" xlink:href=\"#m106ca2c644\" y=\"302.542183\"/>\n     <use style=\"fill:#bcbd22;stroke:#bcbd22;\" x=\"301.978125\" xlink:href=\"#m106ca2c644\" y=\"302.513137\"/>\n     <use style=\"fill:#bcbd22;stroke:#bcbd22;\" x=\"352.705398\" xlink:href=\"#m106ca2c644\" y=\"302.476307\"/>\n     <use style=\"fill:#bcbd22;stroke:#bcbd22;\" x=\"403.43267\" xlink:href=\"#m106ca2c644\" y=\"302.460549\"/>\n     <use style=\"fill:#bcbd22;stroke:#bcbd22;\" x=\"454.159943\" xlink:href=\"#m106ca2c644\" y=\"302.442578\"/>\n     <use style=\"fill:#bcbd22;stroke:#bcbd22;\" x=\"504.887216\" xlink:href=\"#m106ca2c644\" y=\"302.372297\"/>\n    </g>\n   </g>\n   <g id=\"line2d_47\">\n    <path clip-path=\"url(#pf6bf65391c)\" d=\"M 99.069034 218.080532 \nL 149.796307 217.984393 \nL 200.52358 217.678149 \nL 251.250852 216.713557 \nL 301.978125 213.933391 \nL 352.705398 210.764137 \nL 403.43267 205.382147 \nL 454.159943 202.44046 \nL 504.887216 198.871325 \n\" style=\"fill:none;stroke:#17becf;stroke-linecap:square;stroke-width:1.5;\"/>\n    <g clip-path=\"url(#pf6bf65391c)\">\n     <use style=\"fill:#17becf;stroke:#17becf;\" x=\"99.069034\" xlink:href=\"#m9b97bcf085\" y=\"218.080532\"/>\n     <use style=\"fill:#17becf;stroke:#17becf;\" x=\"149.796307\" xlink:href=\"#m9b97bcf085\" y=\"217.984393\"/>\n     <use style=\"fill:#17becf;stroke:#17becf;\" x=\"200.52358\" xlink:href=\"#m9b97bcf085\" y=\"217.678149\"/>\n     <use style=\"fill:#17becf;stroke:#17becf;\" x=\"251.250852\" xlink:href=\"#m9b97bcf085\" y=\"216.713557\"/>\n     <use style=\"fill:#17becf;stroke:#17becf;\" x=\"301.978125\" xlink:href=\"#m9b97bcf085\" y=\"213.933391\"/>\n     <use style=\"fill:#17becf;stroke:#17becf;\" x=\"352.705398\" xlink:href=\"#m9b97bcf085\" y=\"210.764137\"/>\n     <use style=\"fill:#17becf;stroke:#17becf;\" x=\"403.43267\" xlink:href=\"#m9b97bcf085\" y=\"205.382147\"/>\n     <use style=\"fill:#17becf;stroke:#17becf;\" x=\"454.159943\" xlink:href=\"#m9b97bcf085\" y=\"202.44046\"/>\n     <use style=\"fill:#17becf;stroke:#17becf;\" x=\"504.887216\" xlink:href=\"#m9b97bcf085\" y=\"198.871325\"/>\n    </g>\n   </g>\n   <g id=\"line2d_48\">\n    <path clip-path=\"url(#pf6bf65391c)\" d=\"M 99.069034 302.437482 \nL 149.796307 302.456656 \nL 200.52358 302.460192 \nL 251.250852 302.441847 \nL 301.978125 302.476123 \nL 352.705398 302.492672 \nL 403.43267 302.498107 \nL 454.159943 302.471214 \nL 504.887216 302.530611 \n\" style=\"fill:none;stroke:#1f77b4;stroke-linecap:square;stroke-width:1.5;\"/>\n    <g clip-path=\"url(#pf6bf65391c)\">\n     <use style=\"fill:#1f77b4;stroke:#1f77b4;\" x=\"99.069034\" xlink:href=\"#m514b3602b4\" y=\"302.437482\"/>\n     <use style=\"fill:#1f77b4;stroke:#1f77b4;\" x=\"149.796307\" xlink:href=\"#m514b3602b4\" y=\"302.456656\"/>\n     <use style=\"fill:#1f77b4;stroke:#1f77b4;\" x=\"200.52358\" xlink:href=\"#m514b3602b4\" y=\"302.460192\"/>\n     <use style=\"fill:#1f77b4;stroke:#1f77b4;\" x=\"251.250852\" xlink:href=\"#m514b3602b4\" y=\"302.441847\"/>\n     <use style=\"fill:#1f77b4;stroke:#1f77b4;\" x=\"301.978125\" xlink:href=\"#m514b3602b4\" y=\"302.476123\"/>\n     <use style=\"fill:#1f77b4;stroke:#1f77b4;\" x=\"352.705398\" xlink:href=\"#m514b3602b4\" y=\"302.492672\"/>\n     <use style=\"fill:#1f77b4;stroke:#1f77b4;\" x=\"403.43267\" xlink:href=\"#m514b3602b4\" y=\"302.498107\"/>\n     <use style=\"fill:#1f77b4;stroke:#1f77b4;\" x=\"454.159943\" xlink:href=\"#m514b3602b4\" y=\"302.471214\"/>\n     <use style=\"fill:#1f77b4;stroke:#1f77b4;\" x=\"504.887216\" xlink:href=\"#m514b3602b4\" y=\"302.530611\"/>\n    </g>\n   </g>\n   <g id=\"line2d_49\">\n    <path clip-path=\"url(#pf6bf65391c)\" d=\"M 99.069034 300.951883 \nL 149.796307 301.246268 \nL 200.52358 301.405915 \nL 251.250852 301.512183 \nL 301.978125 301.578331 \nL 352.705398 301.668076 \nL 403.43267 301.643036 \nL 454.159943 301.620375 \nL 504.887216 301.409303 \n\" style=\"fill:none;stroke:#ff7f0e;stroke-linecap:square;stroke-width:1.5;\"/>\n    <g clip-path=\"url(#pf6bf65391c)\">\n     <use style=\"fill:#ff7f0e;stroke:#ff7f0e;\" x=\"99.069034\" xlink:href=\"#m550096fe7f\" y=\"300.951883\"/>\n     <use style=\"fill:#ff7f0e;stroke:#ff7f0e;\" x=\"149.796307\" xlink:href=\"#m550096fe7f\" y=\"301.246268\"/>\n     <use style=\"fill:#ff7f0e;stroke:#ff7f0e;\" x=\"200.52358\" xlink:href=\"#m550096fe7f\" y=\"301.405915\"/>\n     <use style=\"fill:#ff7f0e;stroke:#ff7f0e;\" x=\"251.250852\" xlink:href=\"#m550096fe7f\" y=\"301.512183\"/>\n     <use style=\"fill:#ff7f0e;stroke:#ff7f0e;\" x=\"301.978125\" xlink:href=\"#m550096fe7f\" y=\"301.578331\"/>\n     <use style=\"fill:#ff7f0e;stroke:#ff7f0e;\" x=\"352.705398\" xlink:href=\"#m550096fe7f\" y=\"301.668076\"/>\n     <use style=\"fill:#ff7f0e;stroke:#ff7f0e;\" x=\"403.43267\" xlink:href=\"#m550096fe7f\" y=\"301.643036\"/>\n     <use style=\"fill:#ff7f0e;stroke:#ff7f0e;\" x=\"454.159943\" xlink:href=\"#m550096fe7f\" y=\"301.620375\"/>\n     <use style=\"fill:#ff7f0e;stroke:#ff7f0e;\" x=\"504.887216\" xlink:href=\"#m550096fe7f\" y=\"301.409303\"/>\n    </g>\n   </g>\n   <g id=\"line2d_50\">\n    <path clip-path=\"url(#pf6bf65391c)\" d=\"M 99.069034 302.131641 \nL 149.796307 302.063767 \nL 200.52358 301.807952 \nL 251.250852 301.807215 \nL 301.978125 301.752261 \nL 352.705398 301.812385 \nL 403.43267 301.85044 \nL 454.159943 301.743297 \nL 504.887216 301.699006 \n\" style=\"fill:none;stroke:#2ca02c;stroke-linecap:square;stroke-width:1.5;\"/>\n    <g clip-path=\"url(#pf6bf65391c)\">\n     <use style=\"fill:#2ca02c;stroke:#2ca02c;\" x=\"99.069034\" xlink:href=\"#m33fece5399\" y=\"302.131641\"/>\n     <use style=\"fill:#2ca02c;stroke:#2ca02c;\" x=\"149.796307\" xlink:href=\"#m33fece5399\" y=\"302.063767\"/>\n     <use style=\"fill:#2ca02c;stroke:#2ca02c;\" x=\"200.52358\" xlink:href=\"#m33fece5399\" y=\"301.807952\"/>\n     <use style=\"fill:#2ca02c;stroke:#2ca02c;\" x=\"251.250852\" xlink:href=\"#m33fece5399\" y=\"301.807215\"/>\n     <use style=\"fill:#2ca02c;stroke:#2ca02c;\" x=\"301.978125\" xlink:href=\"#m33fece5399\" y=\"301.752261\"/>\n     <use style=\"fill:#2ca02c;stroke:#2ca02c;\" x=\"352.705398\" xlink:href=\"#m33fece5399\" y=\"301.812385\"/>\n     <use style=\"fill:#2ca02c;stroke:#2ca02c;\" x=\"403.43267\" xlink:href=\"#m33fece5399\" y=\"301.85044\"/>\n     <use style=\"fill:#2ca02c;stroke:#2ca02c;\" x=\"454.159943\" xlink:href=\"#m33fece5399\" y=\"301.743297\"/>\n     <use style=\"fill:#2ca02c;stroke:#2ca02c;\" x=\"504.887216\" xlink:href=\"#m33fece5399\" y=\"301.699006\"/>\n    </g>\n   </g>\n   <g id=\"line2d_51\">\n    <path clip-path=\"url(#pf6bf65391c)\" d=\"M 99.069034 290.434079 \nL 149.796307 291.307678 \nL 200.52358 291.629828 \nL 251.250852 290.661102 \nL 301.978125 289.907997 \nL 352.705398 290.441794 \nL 403.43267 289.822552 \nL 454.159943 289.908784 \nL 504.887216 290.382778 \n\" style=\"fill:none;stroke:#d62728;stroke-linecap:square;stroke-width:1.5;\"/>\n    <g clip-path=\"url(#pf6bf65391c)\">\n     <use style=\"fill:#d62728;stroke:#d62728;\" x=\"99.069034\" xlink:href=\"#m2e2b3f65e5\" y=\"290.434079\"/>\n     <use style=\"fill:#d62728;stroke:#d62728;\" x=\"149.796307\" xlink:href=\"#m2e2b3f65e5\" y=\"291.307678\"/>\n     <use style=\"fill:#d62728;stroke:#d62728;\" x=\"200.52358\" xlink:href=\"#m2e2b3f65e5\" y=\"291.629828\"/>\n     <use style=\"fill:#d62728;stroke:#d62728;\" x=\"251.250852\" xlink:href=\"#m2e2b3f65e5\" y=\"290.661102\"/>\n     <use style=\"fill:#d62728;stroke:#d62728;\" x=\"301.978125\" xlink:href=\"#m2e2b3f65e5\" y=\"289.907997\"/>\n     <use style=\"fill:#d62728;stroke:#d62728;\" x=\"352.705398\" xlink:href=\"#m2e2b3f65e5\" y=\"290.441794\"/>\n     <use style=\"fill:#d62728;stroke:#d62728;\" x=\"403.43267\" xlink:href=\"#m2e2b3f65e5\" y=\"289.822552\"/>\n     <use style=\"fill:#d62728;stroke:#d62728;\" x=\"454.159943\" xlink:href=\"#m2e2b3f65e5\" y=\"289.908784\"/>\n     <use style=\"fill:#d62728;stroke:#d62728;\" x=\"504.887216\" xlink:href=\"#m2e2b3f65e5\" y=\"290.382778\"/>\n    </g>\n   </g>\n   <g id=\"line2d_52\">\n    <path clip-path=\"url(#pf6bf65391c)\" d=\"M 99.069034 258.208893 \nL 149.796307 257.58993 \nL 200.52358 256.541812 \nL 251.250852 254.8569 \nL 301.978125 252.979305 \nL 352.705398 250.612854 \nL 403.43267 248.586538 \nL 454.159943 245.894627 \nL 504.887216 243.523895 \n\" style=\"fill:none;stroke:#9467bd;stroke-linecap:square;stroke-width:1.5;\"/>\n    <g clip-path=\"url(#pf6bf65391c)\">\n     <use style=\"fill:#9467bd;stroke:#9467bd;\" x=\"99.069034\" xlink:href=\"#mbd36c2ddd4\" y=\"258.208893\"/>\n     <use style=\"fill:#9467bd;stroke:#9467bd;\" x=\"149.796307\" xlink:href=\"#mbd36c2ddd4\" y=\"257.58993\"/>\n     <use style=\"fill:#9467bd;stroke:#9467bd;\" x=\"200.52358\" xlink:href=\"#mbd36c2ddd4\" y=\"256.541812\"/>\n     <use style=\"fill:#9467bd;stroke:#9467bd;\" x=\"251.250852\" xlink:href=\"#mbd36c2ddd4\" y=\"254.8569\"/>\n     <use style=\"fill:#9467bd;stroke:#9467bd;\" x=\"301.978125\" xlink:href=\"#mbd36c2ddd4\" y=\"252.979305\"/>\n     <use style=\"fill:#9467bd;stroke:#9467bd;\" x=\"352.705398\" xlink:href=\"#mbd36c2ddd4\" y=\"250.612854\"/>\n     <use style=\"fill:#9467bd;stroke:#9467bd;\" x=\"403.43267\" xlink:href=\"#mbd36c2ddd4\" y=\"248.586538\"/>\n     <use style=\"fill:#9467bd;stroke:#9467bd;\" x=\"454.159943\" xlink:href=\"#mbd36c2ddd4\" y=\"245.894627\"/>\n     <use style=\"fill:#9467bd;stroke:#9467bd;\" x=\"504.887216\" xlink:href=\"#mbd36c2ddd4\" y=\"243.523895\"/>\n    </g>\n   </g>\n   <g id=\"line2d_53\">\n    <path clip-path=\"url(#pf6bf65391c)\" d=\"M 99.069034 299.950314 \nL 149.796307 300.236318 \nL 200.52358 300.375044 \nL 251.250852 300.377497 \nL 301.978125 300.211059 \nL 352.705398 300.254126 \nL 403.43267 300.193177 \nL 454.159943 300.236039 \nL 504.887216 300.280168 \n\" style=\"fill:none;stroke:#8c564b;stroke-linecap:square;stroke-width:1.5;\"/>\n    <g clip-path=\"url(#pf6bf65391c)\">\n     <use style=\"fill:#8c564b;stroke:#8c564b;\" x=\"99.069034\" xlink:href=\"#me5a875bc03\" y=\"299.950314\"/>\n     <use style=\"fill:#8c564b;stroke:#8c564b;\" x=\"149.796307\" xlink:href=\"#me5a875bc03\" y=\"300.236318\"/>\n     <use style=\"fill:#8c564b;stroke:#8c564b;\" x=\"200.52358\" xlink:href=\"#me5a875bc03\" y=\"300.375044\"/>\n     <use style=\"fill:#8c564b;stroke:#8c564b;\" x=\"251.250852\" xlink:href=\"#me5a875bc03\" y=\"300.377497\"/>\n     <use style=\"fill:#8c564b;stroke:#8c564b;\" x=\"301.978125\" xlink:href=\"#me5a875bc03\" y=\"300.211059\"/>\n     <use style=\"fill:#8c564b;stroke:#8c564b;\" x=\"352.705398\" xlink:href=\"#me5a875bc03\" y=\"300.254126\"/>\n     <use style=\"fill:#8c564b;stroke:#8c564b;\" x=\"403.43267\" xlink:href=\"#me5a875bc03\" y=\"300.193177\"/>\n     <use style=\"fill:#8c564b;stroke:#8c564b;\" x=\"454.159943\" xlink:href=\"#me5a875bc03\" y=\"300.236039\"/>\n     <use style=\"fill:#8c564b;stroke:#8c564b;\" x=\"504.887216\" xlink:href=\"#me5a875bc03\" y=\"300.280168\"/>\n    </g>\n   </g>\n   <g id=\"line2d_54\">\n    <path clip-path=\"url(#pf6bf65391c)\" d=\"M 99.069034 302.071323 \nL 149.796307 301.920594 \nL 200.52358 301.762454 \nL 251.250852 301.646329 \nL 301.978125 301.545668 \nL 352.705398 301.508044 \nL 403.43267 301.470789 \nL 454.159943 301.390419 \nL 504.887216 301.407927 \n\" style=\"fill:none;stroke:#e377c2;stroke-linecap:square;stroke-width:1.5;\"/>\n    <g clip-path=\"url(#pf6bf65391c)\">\n     <use style=\"fill:#e377c2;stroke:#e377c2;\" x=\"99.069034\" xlink:href=\"#m55cf5f246b\" y=\"302.071323\"/>\n     <use style=\"fill:#e377c2;stroke:#e377c2;\" x=\"149.796307\" xlink:href=\"#m55cf5f246b\" y=\"301.920594\"/>\n     <use style=\"fill:#e377c2;stroke:#e377c2;\" x=\"200.52358\" xlink:href=\"#m55cf5f246b\" y=\"301.762454\"/>\n     <use style=\"fill:#e377c2;stroke:#e377c2;\" x=\"251.250852\" xlink:href=\"#m55cf5f246b\" y=\"301.646329\"/>\n     <use style=\"fill:#e377c2;stroke:#e377c2;\" x=\"301.978125\" xlink:href=\"#m55cf5f246b\" y=\"301.545668\"/>\n     <use style=\"fill:#e377c2;stroke:#e377c2;\" x=\"352.705398\" xlink:href=\"#m55cf5f246b\" y=\"301.508044\"/>\n     <use style=\"fill:#e377c2;stroke:#e377c2;\" x=\"403.43267\" xlink:href=\"#m55cf5f246b\" y=\"301.470789\"/>\n     <use style=\"fill:#e377c2;stroke:#e377c2;\" x=\"454.159943\" xlink:href=\"#m55cf5f246b\" y=\"301.390419\"/>\n     <use style=\"fill:#e377c2;stroke:#e377c2;\" x=\"504.887216\" xlink:href=\"#m55cf5f246b\" y=\"301.407927\"/>\n    </g>\n   </g>\n   <g id=\"line2d_55\">\n    <path clip-path=\"url(#pf6bf65391c)\" d=\"M 99.069034 299.005443 \nL 149.796307 299.040756 \nL 200.52358 298.978003 \nL 251.250852 298.924271 \nL 301.978125 298.776009 \nL 352.705398 298.495056 \nL 403.43267 298.430133 \nL 454.159943 298.943879 \nL 504.887216 299.044172 \n\" style=\"fill:none;stroke:#7f7f7f;stroke-linecap:square;stroke-width:1.5;\"/>\n    <g clip-path=\"url(#pf6bf65391c)\">\n     <use style=\"fill:#7f7f7f;stroke:#7f7f7f;\" x=\"99.069034\" xlink:href=\"#m938cf40f2a\" y=\"299.005443\"/>\n     <use style=\"fill:#7f7f7f;stroke:#7f7f7f;\" x=\"149.796307\" xlink:href=\"#m938cf40f2a\" y=\"299.040756\"/>\n     <use style=\"fill:#7f7f7f;stroke:#7f7f7f;\" x=\"200.52358\" xlink:href=\"#m938cf40f2a\" y=\"298.978003\"/>\n     <use style=\"fill:#7f7f7f;stroke:#7f7f7f;\" x=\"251.250852\" xlink:href=\"#m938cf40f2a\" y=\"298.924271\"/>\n     <use style=\"fill:#7f7f7f;stroke:#7f7f7f;\" x=\"301.978125\" xlink:href=\"#m938cf40f2a\" y=\"298.776009\"/>\n     <use style=\"fill:#7f7f7f;stroke:#7f7f7f;\" x=\"352.705398\" xlink:href=\"#m938cf40f2a\" y=\"298.495056\"/>\n     <use style=\"fill:#7f7f7f;stroke:#7f7f7f;\" x=\"403.43267\" xlink:href=\"#m938cf40f2a\" y=\"298.430133\"/>\n     <use style=\"fill:#7f7f7f;stroke:#7f7f7f;\" x=\"454.159943\" xlink:href=\"#m938cf40f2a\" y=\"298.943879\"/>\n     <use style=\"fill:#7f7f7f;stroke:#7f7f7f;\" x=\"504.887216\" xlink:href=\"#m938cf40f2a\" y=\"299.044172\"/>\n    </g>\n   </g>\n   <g id=\"line2d_56\">\n    <path clip-path=\"url(#pf6bf65391c)\" d=\"M 99.069034 282.844036 \nL 149.796307 282.731786 \nL 200.52358 282.862437 \nL 251.250852 283.165716 \nL 301.978125 282.591309 \nL 352.705398 282.471867 \nL 403.43267 282.69144 \nL 454.159943 281.72161 \nL 504.887216 280.72241 \n\" style=\"fill:none;stroke:#bcbd22;stroke-linecap:square;stroke-width:1.5;\"/>\n    <g clip-path=\"url(#pf6bf65391c)\">\n     <use style=\"fill:#bcbd22;stroke:#bcbd22;\" x=\"99.069034\" xlink:href=\"#m106ca2c644\" y=\"282.844036\"/>\n     <use style=\"fill:#bcbd22;stroke:#bcbd22;\" x=\"149.796307\" xlink:href=\"#m106ca2c644\" y=\"282.731786\"/>\n     <use style=\"fill:#bcbd22;stroke:#bcbd22;\" x=\"200.52358\" xlink:href=\"#m106ca2c644\" y=\"282.862437\"/>\n     <use style=\"fill:#bcbd22;stroke:#bcbd22;\" x=\"251.250852\" xlink:href=\"#m106ca2c644\" y=\"283.165716\"/>\n     <use style=\"fill:#bcbd22;stroke:#bcbd22;\" x=\"301.978125\" xlink:href=\"#m106ca2c644\" y=\"282.591309\"/>\n     <use style=\"fill:#bcbd22;stroke:#bcbd22;\" x=\"352.705398\" xlink:href=\"#m106ca2c644\" y=\"282.471867\"/>\n     <use style=\"fill:#bcbd22;stroke:#bcbd22;\" x=\"403.43267\" xlink:href=\"#m106ca2c644\" y=\"282.69144\"/>\n     <use style=\"fill:#bcbd22;stroke:#bcbd22;\" x=\"454.159943\" xlink:href=\"#m106ca2c644\" y=\"281.72161\"/>\n     <use style=\"fill:#bcbd22;stroke:#bcbd22;\" x=\"504.887216\" xlink:href=\"#m106ca2c644\" y=\"280.72241\"/>\n    </g>\n   </g>\n   <g id=\"line2d_57\">\n    <path clip-path=\"url(#pf6bf65391c)\" d=\"M 99.069034 302.605451 \nL 149.796307 302.584943 \nL 200.52358 302.571659 \nL 251.250852 302.555876 \nL 301.978125 302.557697 \nL 352.705398 302.541364 \nL 403.43267 302.547568 \nL 454.159943 302.533063 \nL 504.887216 302.518996 \n\" style=\"fill:none;stroke:#17becf;stroke-linecap:square;stroke-width:1.5;\"/>\n    <g clip-path=\"url(#pf6bf65391c)\">\n     <use style=\"fill:#17becf;stroke:#17becf;\" x=\"99.069034\" xlink:href=\"#m9b97bcf085\" y=\"302.605451\"/>\n     <use style=\"fill:#17becf;stroke:#17becf;\" x=\"149.796307\" xlink:href=\"#m9b97bcf085\" y=\"302.584943\"/>\n     <use style=\"fill:#17becf;stroke:#17becf;\" x=\"200.52358\" xlink:href=\"#m9b97bcf085\" y=\"302.571659\"/>\n     <use style=\"fill:#17becf;stroke:#17becf;\" x=\"251.250852\" xlink:href=\"#m9b97bcf085\" y=\"302.555876\"/>\n     <use style=\"fill:#17becf;stroke:#17becf;\" x=\"301.978125\" xlink:href=\"#m9b97bcf085\" y=\"302.557697\"/>\n     <use style=\"fill:#17becf;stroke:#17becf;\" x=\"352.705398\" xlink:href=\"#m9b97bcf085\" y=\"302.541364\"/>\n     <use style=\"fill:#17becf;stroke:#17becf;\" x=\"403.43267\" xlink:href=\"#m9b97bcf085\" y=\"302.547568\"/>\n     <use style=\"fill:#17becf;stroke:#17becf;\" x=\"454.159943\" xlink:href=\"#m9b97bcf085\" y=\"302.533063\"/>\n     <use style=\"fill:#17becf;stroke:#17becf;\" x=\"504.887216\" xlink:href=\"#m9b97bcf085\" y=\"302.518996\"/>\n    </g>\n   </g>\n   <g id=\"line2d_58\">\n    <path clip-path=\"url(#pf6bf65391c)\" d=\"M 99.069034 298.458723 \nL 149.796307 298.574417 \nL 200.52358 298.844755 \nL 251.250852 299.0102 \nL 301.978125 298.908577 \nL 352.705398 299.110285 \nL 403.43267 299.102613 \nL 454.159943 299.169618 \nL 504.887216 299.304589 \n\" style=\"fill:none;stroke:#1f77b4;stroke-linecap:square;stroke-width:1.5;\"/>\n    <g clip-path=\"url(#pf6bf65391c)\">\n     <use style=\"fill:#1f77b4;stroke:#1f77b4;\" x=\"99.069034\" xlink:href=\"#m514b3602b4\" y=\"298.458723\"/>\n     <use style=\"fill:#1f77b4;stroke:#1f77b4;\" x=\"149.796307\" xlink:href=\"#m514b3602b4\" y=\"298.574417\"/>\n     <use style=\"fill:#1f77b4;stroke:#1f77b4;\" x=\"200.52358\" xlink:href=\"#m514b3602b4\" y=\"298.844755\"/>\n     <use style=\"fill:#1f77b4;stroke:#1f77b4;\" x=\"251.250852\" xlink:href=\"#m514b3602b4\" y=\"299.0102\"/>\n     <use style=\"fill:#1f77b4;stroke:#1f77b4;\" x=\"301.978125\" xlink:href=\"#m514b3602b4\" y=\"298.908577\"/>\n     <use style=\"fill:#1f77b4;stroke:#1f77b4;\" x=\"352.705398\" xlink:href=\"#m514b3602b4\" y=\"299.110285\"/>\n     <use style=\"fill:#1f77b4;stroke:#1f77b4;\" x=\"403.43267\" xlink:href=\"#m514b3602b4\" y=\"299.102613\"/>\n     <use style=\"fill:#1f77b4;stroke:#1f77b4;\" x=\"454.159943\" xlink:href=\"#m514b3602b4\" y=\"299.169618\"/>\n     <use style=\"fill:#1f77b4;stroke:#1f77b4;\" x=\"504.887216\" xlink:href=\"#m514b3602b4\" y=\"299.304589\"/>\n    </g>\n   </g>\n   <g id=\"line2d_59\">\n    <path clip-path=\"url(#pf6bf65391c)\" d=\"M 99.069034 298.233838 \nL 149.796307 296.850194 \nL 200.52358 297.37593 \nL 251.250852 298.290178 \nL 301.978125 297.142638 \nL 352.705398 296.408309 \nL 403.43267 296.125295 \nL 454.159943 295.647736 \nL 504.887216 296.441653 \n\" style=\"fill:none;stroke:#ff7f0e;stroke-linecap:square;stroke-width:1.5;\"/>\n    <g clip-path=\"url(#pf6bf65391c)\">\n     <use style=\"fill:#ff7f0e;stroke:#ff7f0e;\" x=\"99.069034\" xlink:href=\"#m550096fe7f\" y=\"298.233838\"/>\n     <use style=\"fill:#ff7f0e;stroke:#ff7f0e;\" x=\"149.796307\" xlink:href=\"#m550096fe7f\" y=\"296.850194\"/>\n     <use style=\"fill:#ff7f0e;stroke:#ff7f0e;\" x=\"200.52358\" xlink:href=\"#m550096fe7f\" y=\"297.37593\"/>\n     <use style=\"fill:#ff7f0e;stroke:#ff7f0e;\" x=\"251.250852\" xlink:href=\"#m550096fe7f\" y=\"298.290178\"/>\n     <use style=\"fill:#ff7f0e;stroke:#ff7f0e;\" x=\"301.978125\" xlink:href=\"#m550096fe7f\" y=\"297.142638\"/>\n     <use style=\"fill:#ff7f0e;stroke:#ff7f0e;\" x=\"352.705398\" xlink:href=\"#m550096fe7f\" y=\"296.408309\"/>\n     <use style=\"fill:#ff7f0e;stroke:#ff7f0e;\" x=\"403.43267\" xlink:href=\"#m550096fe7f\" y=\"296.125295\"/>\n     <use style=\"fill:#ff7f0e;stroke:#ff7f0e;\" x=\"454.159943\" xlink:href=\"#m550096fe7f\" y=\"295.647736\"/>\n     <use style=\"fill:#ff7f0e;stroke:#ff7f0e;\" x=\"504.887216\" xlink:href=\"#m550096fe7f\" y=\"296.441653\"/>\n    </g>\n   </g>\n   <g id=\"line2d_60\">\n    <path clip-path=\"url(#pf6bf65391c)\" d=\"M 99.069034 298.202199 \nL 149.796307 298.253757 \nL 200.52358 298.289098 \nL 251.250852 298.428227 \nL 301.978125 298.36559 \nL 352.705398 298.197717 \nL 403.43267 298.151498 \nL 454.159943 297.994148 \nL 504.887216 297.802075 \n\" style=\"fill:none;stroke:#2ca02c;stroke-linecap:square;stroke-width:1.5;\"/>\n    <g clip-path=\"url(#pf6bf65391c)\">\n     <use style=\"fill:#2ca02c;stroke:#2ca02c;\" x=\"99.069034\" xlink:href=\"#m33fece5399\" y=\"298.202199\"/>\n     <use style=\"fill:#2ca02c;stroke:#2ca02c;\" x=\"149.796307\" xlink:href=\"#m33fece5399\" y=\"298.253757\"/>\n     <use style=\"fill:#2ca02c;stroke:#2ca02c;\" x=\"200.52358\" xlink:href=\"#m33fece5399\" y=\"298.289098\"/>\n     <use style=\"fill:#2ca02c;stroke:#2ca02c;\" x=\"251.250852\" xlink:href=\"#m33fece5399\" y=\"298.428227\"/>\n     <use style=\"fill:#2ca02c;stroke:#2ca02c;\" x=\"301.978125\" xlink:href=\"#m33fece5399\" y=\"298.36559\"/>\n     <use style=\"fill:#2ca02c;stroke:#2ca02c;\" x=\"352.705398\" xlink:href=\"#m33fece5399\" y=\"298.197717\"/>\n     <use style=\"fill:#2ca02c;stroke:#2ca02c;\" x=\"403.43267\" xlink:href=\"#m33fece5399\" y=\"298.151498\"/>\n     <use style=\"fill:#2ca02c;stroke:#2ca02c;\" x=\"454.159943\" xlink:href=\"#m33fece5399\" y=\"297.994148\"/>\n     <use style=\"fill:#2ca02c;stroke:#2ca02c;\" x=\"504.887216\" xlink:href=\"#m33fece5399\" y=\"297.802075\"/>\n    </g>\n   </g>\n   <g id=\"line2d_61\">\n    <path clip-path=\"url(#pf6bf65391c)\" d=\"M 99.069034 297.993054 \nL 149.796307 298.080512 \nL 200.52358 297.927923 \nL 251.250852 297.921891 \nL 301.978125 297.67557 \nL 352.705398 297.398771 \nL 403.43267 297.515503 \nL 454.159943 297.28627 \nL 504.887216 297.171345 \n\" style=\"fill:none;stroke:#d62728;stroke-linecap:square;stroke-width:1.5;\"/>\n    <g clip-path=\"url(#pf6bf65391c)\">\n     <use style=\"fill:#d62728;stroke:#d62728;\" x=\"99.069034\" xlink:href=\"#m2e2b3f65e5\" y=\"297.993054\"/>\n     <use style=\"fill:#d62728;stroke:#d62728;\" x=\"149.796307\" xlink:href=\"#m2e2b3f65e5\" y=\"298.080512\"/>\n     <use style=\"fill:#d62728;stroke:#d62728;\" x=\"200.52358\" xlink:href=\"#m2e2b3f65e5\" y=\"297.927923\"/>\n     <use style=\"fill:#d62728;stroke:#d62728;\" x=\"251.250852\" xlink:href=\"#m2e2b3f65e5\" y=\"297.921891\"/>\n     <use style=\"fill:#d62728;stroke:#d62728;\" x=\"301.978125\" xlink:href=\"#m2e2b3f65e5\" y=\"297.67557\"/>\n     <use style=\"fill:#d62728;stroke:#d62728;\" x=\"352.705398\" xlink:href=\"#m2e2b3f65e5\" y=\"297.398771\"/>\n     <use style=\"fill:#d62728;stroke:#d62728;\" x=\"403.43267\" xlink:href=\"#m2e2b3f65e5\" y=\"297.515503\"/>\n     <use style=\"fill:#d62728;stroke:#d62728;\" x=\"454.159943\" xlink:href=\"#m2e2b3f65e5\" y=\"297.28627\"/>\n     <use style=\"fill:#d62728;stroke:#d62728;\" x=\"504.887216\" xlink:href=\"#m2e2b3f65e5\" y=\"297.171345\"/>\n    </g>\n   </g>\n   <g id=\"line2d_62\">\n    <path clip-path=\"url(#pf6bf65391c)\" d=\"M 99.069034 300.778486 \nL 149.796307 300.721976 \nL 200.52358 300.749345 \nL 251.250852 300.686546 \nL 301.978125 300.778884 \nL 352.705398 300.680811 \nL 403.43267 300.741771 \nL 454.159943 300.747206 \nL 504.887216 300.693936 \n\" style=\"fill:none;stroke:#9467bd;stroke-linecap:square;stroke-width:1.5;\"/>\n    <g clip-path=\"url(#pf6bf65391c)\">\n     <use style=\"fill:#9467bd;stroke:#9467bd;\" x=\"99.069034\" xlink:href=\"#mbd36c2ddd4\" y=\"300.778486\"/>\n     <use style=\"fill:#9467bd;stroke:#9467bd;\" x=\"149.796307\" xlink:href=\"#mbd36c2ddd4\" y=\"300.721976\"/>\n     <use style=\"fill:#9467bd;stroke:#9467bd;\" x=\"200.52358\" xlink:href=\"#mbd36c2ddd4\" y=\"300.749345\"/>\n     <use style=\"fill:#9467bd;stroke:#9467bd;\" x=\"251.250852\" xlink:href=\"#mbd36c2ddd4\" y=\"300.686546\"/>\n     <use style=\"fill:#9467bd;stroke:#9467bd;\" x=\"301.978125\" xlink:href=\"#mbd36c2ddd4\" y=\"300.778884\"/>\n     <use style=\"fill:#9467bd;stroke:#9467bd;\" x=\"352.705398\" xlink:href=\"#mbd36c2ddd4\" y=\"300.680811\"/>\n     <use style=\"fill:#9467bd;stroke:#9467bd;\" x=\"403.43267\" xlink:href=\"#mbd36c2ddd4\" y=\"300.741771\"/>\n     <use style=\"fill:#9467bd;stroke:#9467bd;\" x=\"454.159943\" xlink:href=\"#mbd36c2ddd4\" y=\"300.747206\"/>\n     <use style=\"fill:#9467bd;stroke:#9467bd;\" x=\"504.887216\" xlink:href=\"#mbd36c2ddd4\" y=\"300.693936\"/>\n    </g>\n   </g>\n   <g id=\"line2d_63\">\n    <path clip-path=\"url(#pf6bf65391c)\" d=\"M 99.069034 302.241417 \nL 149.796307 302.268443 \nL 200.52358 302.228941 \nL 251.250852 302.13109 \nL 301.978125 302.092428 \nL 352.705398 302.035498 \nL 403.43267 302.109544 \nL 454.159943 302.09626 \nL 504.887216 302.083417 \n\" style=\"fill:none;stroke:#8c564b;stroke-linecap:square;stroke-width:1.5;\"/>\n    <g clip-path=\"url(#pf6bf65391c)\">\n     <use style=\"fill:#8c564b;stroke:#8c564b;\" x=\"99.069034\" xlink:href=\"#me5a875bc03\" y=\"302.241417\"/>\n     <use style=\"fill:#8c564b;stroke:#8c564b;\" x=\"149.796307\" xlink:href=\"#me5a875bc03\" y=\"302.268443\"/>\n     <use style=\"fill:#8c564b;stroke:#8c564b;\" x=\"200.52358\" xlink:href=\"#me5a875bc03\" y=\"302.228941\"/>\n     <use style=\"fill:#8c564b;stroke:#8c564b;\" x=\"251.250852\" xlink:href=\"#me5a875bc03\" y=\"302.13109\"/>\n     <use style=\"fill:#8c564b;stroke:#8c564b;\" x=\"301.978125\" xlink:href=\"#me5a875bc03\" y=\"302.092428\"/>\n     <use style=\"fill:#8c564b;stroke:#8c564b;\" x=\"352.705398\" xlink:href=\"#me5a875bc03\" y=\"302.035498\"/>\n     <use style=\"fill:#8c564b;stroke:#8c564b;\" x=\"403.43267\" xlink:href=\"#me5a875bc03\" y=\"302.109544\"/>\n     <use style=\"fill:#8c564b;stroke:#8c564b;\" x=\"454.159943\" xlink:href=\"#me5a875bc03\" y=\"302.09626\"/>\n     <use style=\"fill:#8c564b;stroke:#8c564b;\" x=\"504.887216\" xlink:href=\"#me5a875bc03\" y=\"302.083417\"/>\n    </g>\n   </g>\n   <g id=\"line2d_64\">\n    <path clip-path=\"url(#pf6bf65391c)\" d=\"M 99.069034 301.596291 \nL 149.796307 301.596761 \nL 200.52358 301.603551 \nL 251.250852 301.629628 \nL 301.978125 301.630384 \nL 352.705398 301.557156 \nL 403.43267 301.504363 \nL 454.159943 301.436782 \nL 504.887216 301.376542 \n\" style=\"fill:none;stroke:#e377c2;stroke-linecap:square;stroke-width:1.5;\"/>\n    <g clip-path=\"url(#pf6bf65391c)\">\n     <use style=\"fill:#e377c2;stroke:#e377c2;\" x=\"99.069034\" xlink:href=\"#m55cf5f246b\" y=\"301.596291\"/>\n     <use style=\"fill:#e377c2;stroke:#e377c2;\" x=\"149.796307\" xlink:href=\"#m55cf5f246b\" y=\"301.596761\"/>\n     <use style=\"fill:#e377c2;stroke:#e377c2;\" x=\"200.52358\" xlink:href=\"#m55cf5f246b\" y=\"301.603551\"/>\n     <use style=\"fill:#e377c2;stroke:#e377c2;\" x=\"251.250852\" xlink:href=\"#m55cf5f246b\" y=\"301.629628\"/>\n     <use style=\"fill:#e377c2;stroke:#e377c2;\" x=\"301.978125\" xlink:href=\"#m55cf5f246b\" y=\"301.630384\"/>\n     <use style=\"fill:#e377c2;stroke:#e377c2;\" x=\"352.705398\" xlink:href=\"#m55cf5f246b\" y=\"301.557156\"/>\n     <use style=\"fill:#e377c2;stroke:#e377c2;\" x=\"403.43267\" xlink:href=\"#m55cf5f246b\" y=\"301.504363\"/>\n     <use style=\"fill:#e377c2;stroke:#e377c2;\" x=\"454.159943\" xlink:href=\"#m55cf5f246b\" y=\"301.436782\"/>\n     <use style=\"fill:#e377c2;stroke:#e377c2;\" x=\"504.887216\" xlink:href=\"#m55cf5f246b\" y=\"301.376542\"/>\n    </g>\n   </g>\n   <g id=\"line2d_65\">\n    <path clip-path=\"url(#pf6bf65391c)\" d=\"M 99.069034 301.950285 \nL 149.796307 301.866382 \nL 200.52358 301.949678 \nL 251.250852 301.99968 \nL 301.978125 302.009463 \nL 352.705398 302.089216 \nL 403.43267 302.022041 \nL 454.159943 302.076768 \nL 504.887216 302.038226 \n\" style=\"fill:none;stroke:#7f7f7f;stroke-linecap:square;stroke-width:1.5;\"/>\n    <g clip-path=\"url(#pf6bf65391c)\">\n     <use style=\"fill:#7f7f7f;stroke:#7f7f7f;\" x=\"99.069034\" xlink:href=\"#m938cf40f2a\" y=\"301.950285\"/>\n     <use style=\"fill:#7f7f7f;stroke:#7f7f7f;\" x=\"149.796307\" xlink:href=\"#m938cf40f2a\" y=\"301.866382\"/>\n     <use style=\"fill:#7f7f7f;stroke:#7f7f7f;\" x=\"200.52358\" xlink:href=\"#m938cf40f2a\" y=\"301.949678\"/>\n     <use style=\"fill:#7f7f7f;stroke:#7f7f7f;\" x=\"251.250852\" xlink:href=\"#m938cf40f2a\" y=\"301.99968\"/>\n     <use style=\"fill:#7f7f7f;stroke:#7f7f7f;\" x=\"301.978125\" xlink:href=\"#m938cf40f2a\" y=\"302.009463\"/>\n     <use style=\"fill:#7f7f7f;stroke:#7f7f7f;\" x=\"352.705398\" xlink:href=\"#m938cf40f2a\" y=\"302.089216\"/>\n     <use style=\"fill:#7f7f7f;stroke:#7f7f7f;\" x=\"403.43267\" xlink:href=\"#m938cf40f2a\" y=\"302.022041\"/>\n     <use style=\"fill:#7f7f7f;stroke:#7f7f7f;\" x=\"454.159943\" xlink:href=\"#m938cf40f2a\" y=\"302.076768\"/>\n     <use style=\"fill:#7f7f7f;stroke:#7f7f7f;\" x=\"504.887216\" xlink:href=\"#m938cf40f2a\" y=\"302.038226\"/>\n    </g>\n   </g>\n   <g id=\"line2d_66\">\n    <path clip-path=\"url(#pf6bf65391c)\" d=\"M 99.069034 297.27191 \nL 149.796307 297.304033 \nL 200.52358 297.195157 \nL 251.250852 296.900845 \nL 301.978125 296.551062 \nL 352.705398 296.402486 \nL 403.43267 296.212039 \nL 454.159943 296.18581 \nL 504.887216 296.082447 \n\" style=\"fill:none;stroke:#bcbd22;stroke-linecap:square;stroke-width:1.5;\"/>\n    <g clip-path=\"url(#pf6bf65391c)\">\n     <use style=\"fill:#bcbd22;stroke:#bcbd22;\" x=\"99.069034\" xlink:href=\"#m106ca2c644\" y=\"297.27191\"/>\n     <use style=\"fill:#bcbd22;stroke:#bcbd22;\" x=\"149.796307\" xlink:href=\"#m106ca2c644\" y=\"297.304033\"/>\n     <use style=\"fill:#bcbd22;stroke:#bcbd22;\" x=\"200.52358\" xlink:href=\"#m106ca2c644\" y=\"297.195157\"/>\n     <use style=\"fill:#bcbd22;stroke:#bcbd22;\" x=\"251.250852\" xlink:href=\"#m106ca2c644\" y=\"296.900845\"/>\n     <use style=\"fill:#bcbd22;stroke:#bcbd22;\" x=\"301.978125\" xlink:href=\"#m106ca2c644\" y=\"296.551062\"/>\n     <use style=\"fill:#bcbd22;stroke:#bcbd22;\" x=\"352.705398\" xlink:href=\"#m106ca2c644\" y=\"296.402486\"/>\n     <use style=\"fill:#bcbd22;stroke:#bcbd22;\" x=\"403.43267\" xlink:href=\"#m106ca2c644\" y=\"296.212039\"/>\n     <use style=\"fill:#bcbd22;stroke:#bcbd22;\" x=\"454.159943\" xlink:href=\"#m106ca2c644\" y=\"296.18581\"/>\n     <use style=\"fill:#bcbd22;stroke:#bcbd22;\" x=\"504.887216\" xlink:href=\"#m106ca2c644\" y=\"296.082447\"/>\n    </g>\n   </g>\n   <g id=\"line2d_67\">\n    <path clip-path=\"url(#pf6bf65391c)\" d=\"M 99.069034 300.694808 \nL 149.796307 300.896322 \nL 200.52358 300.794653 \nL 251.250852 300.755302 \nL 301.978125 300.911081 \nL 352.705398 300.805039 \nL 403.43267 300.698013 \nL 454.159943 300.878373 \nL 504.887216 300.725195 \n\" style=\"fill:none;stroke:#17becf;stroke-linecap:square;stroke-width:1.5;\"/>\n    <g clip-path=\"url(#pf6bf65391c)\">\n     <use style=\"fill:#17becf;stroke:#17becf;\" x=\"99.069034\" xlink:href=\"#m9b97bcf085\" y=\"300.694808\"/>\n     <use style=\"fill:#17becf;stroke:#17becf;\" x=\"149.796307\" xlink:href=\"#m9b97bcf085\" y=\"300.896322\"/>\n     <use style=\"fill:#17becf;stroke:#17becf;\" x=\"200.52358\" xlink:href=\"#m9b97bcf085\" y=\"300.794653\"/>\n     <use style=\"fill:#17becf;stroke:#17becf;\" x=\"251.250852\" xlink:href=\"#m9b97bcf085\" y=\"300.755302\"/>\n     <use style=\"fill:#17becf;stroke:#17becf;\" x=\"301.978125\" xlink:href=\"#m9b97bcf085\" y=\"300.911081\"/>\n     <use style=\"fill:#17becf;stroke:#17becf;\" x=\"352.705398\" xlink:href=\"#m9b97bcf085\" y=\"300.805039\"/>\n     <use style=\"fill:#17becf;stroke:#17becf;\" x=\"403.43267\" xlink:href=\"#m9b97bcf085\" y=\"300.698013\"/>\n     <use style=\"fill:#17becf;stroke:#17becf;\" x=\"454.159943\" xlink:href=\"#m9b97bcf085\" y=\"300.878373\"/>\n     <use style=\"fill:#17becf;stroke:#17becf;\" x=\"504.887216\" xlink:href=\"#m9b97bcf085\" y=\"300.725195\"/>\n    </g>\n   </g>\n   <g id=\"line2d_68\">\n    <path clip-path=\"url(#pf6bf65391c)\" d=\"M 99.069034 284.175634 \nL 149.796307 283.586137 \nL 200.52358 283.064498 \nL 251.250852 283.394614 \nL 301.978125 283.553894 \nL 352.705398 282.910131 \nL 403.43267 282.344505 \nL 454.159943 281.838794 \nL 504.887216 281.316019 \n\" style=\"fill:none;stroke:#1f77b4;stroke-linecap:square;stroke-width:1.5;\"/>\n    <g clip-path=\"url(#pf6bf65391c)\">\n     <use style=\"fill:#1f77b4;stroke:#1f77b4;\" x=\"99.069034\" xlink:href=\"#m514b3602b4\" y=\"284.175634\"/>\n     <use style=\"fill:#1f77b4;stroke:#1f77b4;\" x=\"149.796307\" xlink:href=\"#m514b3602b4\" y=\"283.586137\"/>\n     <use style=\"fill:#1f77b4;stroke:#1f77b4;\" x=\"200.52358\" xlink:href=\"#m514b3602b4\" y=\"283.064498\"/>\n     <use style=\"fill:#1f77b4;stroke:#1f77b4;\" x=\"251.250852\" xlink:href=\"#m514b3602b4\" y=\"283.394614\"/>\n     <use style=\"fill:#1f77b4;stroke:#1f77b4;\" x=\"301.978125\" xlink:href=\"#m514b3602b4\" y=\"283.553894\"/>\n     <use style=\"fill:#1f77b4;stroke:#1f77b4;\" x=\"352.705398\" xlink:href=\"#m514b3602b4\" y=\"282.910131\"/>\n     <use style=\"fill:#1f77b4;stroke:#1f77b4;\" x=\"403.43267\" xlink:href=\"#m514b3602b4\" y=\"282.344505\"/>\n     <use style=\"fill:#1f77b4;stroke:#1f77b4;\" x=\"454.159943\" xlink:href=\"#m514b3602b4\" y=\"281.838794\"/>\n     <use style=\"fill:#1f77b4;stroke:#1f77b4;\" x=\"504.887216\" xlink:href=\"#m514b3602b4\" y=\"281.316019\"/>\n    </g>\n   </g>\n   <g id=\"line2d_69\">\n    <path clip-path=\"url(#pf6bf65391c)\" d=\"M 99.069034 299.708895 \nL 149.796307 299.832209 \nL 200.52358 299.940768 \nL 251.250852 299.989019 \nL 301.978125 299.780662 \nL 352.705398 299.910265 \nL 403.43267 300.100553 \nL 454.159943 300.128307 \nL 504.887216 300.191839 \n\" style=\"fill:none;stroke:#ff7f0e;stroke-linecap:square;stroke-width:1.5;\"/>\n    <g clip-path=\"url(#pf6bf65391c)\">\n     <use style=\"fill:#ff7f0e;stroke:#ff7f0e;\" x=\"99.069034\" xlink:href=\"#m550096fe7f\" y=\"299.708895\"/>\n     <use style=\"fill:#ff7f0e;stroke:#ff7f0e;\" x=\"149.796307\" xlink:href=\"#m550096fe7f\" y=\"299.832209\"/>\n     <use style=\"fill:#ff7f0e;stroke:#ff7f0e;\" x=\"200.52358\" xlink:href=\"#m550096fe7f\" y=\"299.940768\"/>\n     <use style=\"fill:#ff7f0e;stroke:#ff7f0e;\" x=\"251.250852\" xlink:href=\"#m550096fe7f\" y=\"299.989019\"/>\n     <use style=\"fill:#ff7f0e;stroke:#ff7f0e;\" x=\"301.978125\" xlink:href=\"#m550096fe7f\" y=\"299.780662\"/>\n     <use style=\"fill:#ff7f0e;stroke:#ff7f0e;\" x=\"352.705398\" xlink:href=\"#m550096fe7f\" y=\"299.910265\"/>\n     <use style=\"fill:#ff7f0e;stroke:#ff7f0e;\" x=\"403.43267\" xlink:href=\"#m550096fe7f\" y=\"300.100553\"/>\n     <use style=\"fill:#ff7f0e;stroke:#ff7f0e;\" x=\"454.159943\" xlink:href=\"#m550096fe7f\" y=\"300.128307\"/>\n     <use style=\"fill:#ff7f0e;stroke:#ff7f0e;\" x=\"504.887216\" xlink:href=\"#m550096fe7f\" y=\"300.191839\"/>\n    </g>\n   </g>\n   <g id=\"line2d_70\">\n    <path clip-path=\"url(#pf6bf65391c)\" d=\"M 99.069034 301.398472 \nL 149.796307 301.329448 \nL 200.52358 301.472247 \nL 251.250852 301.475398 \nL 301.978125 301.46282 \nL 352.705398 301.253348 \nL 403.43267 301.238264 \nL 454.159943 301.292264 \nL 504.887216 301.253574 \n\" style=\"fill:none;stroke:#2ca02c;stroke-linecap:square;stroke-width:1.5;\"/>\n    <g clip-path=\"url(#pf6bf65391c)\">\n     <use style=\"fill:#2ca02c;stroke:#2ca02c;\" x=\"99.069034\" xlink:href=\"#m33fece5399\" y=\"301.398472\"/>\n     <use style=\"fill:#2ca02c;stroke:#2ca02c;\" x=\"149.796307\" xlink:href=\"#m33fece5399\" y=\"301.329448\"/>\n     <use style=\"fill:#2ca02c;stroke:#2ca02c;\" x=\"200.52358\" xlink:href=\"#m33fece5399\" y=\"301.472247\"/>\n     <use style=\"fill:#2ca02c;stroke:#2ca02c;\" x=\"251.250852\" xlink:href=\"#m33fece5399\" y=\"301.475398\"/>\n     <use style=\"fill:#2ca02c;stroke:#2ca02c;\" x=\"301.978125\" xlink:href=\"#m33fece5399\" y=\"301.46282\"/>\n     <use style=\"fill:#2ca02c;stroke:#2ca02c;\" x=\"352.705398\" xlink:href=\"#m33fece5399\" y=\"301.253348\"/>\n     <use style=\"fill:#2ca02c;stroke:#2ca02c;\" x=\"403.43267\" xlink:href=\"#m33fece5399\" y=\"301.238264\"/>\n     <use style=\"fill:#2ca02c;stroke:#2ca02c;\" x=\"454.159943\" xlink:href=\"#m33fece5399\" y=\"301.292264\"/>\n     <use style=\"fill:#2ca02c;stroke:#2ca02c;\" x=\"504.887216\" xlink:href=\"#m33fece5399\" y=\"301.253574\"/>\n    </g>\n   </g>\n   <g id=\"line2d_71\">\n    <path clip-path=\"url(#pf6bf65391c)\" d=\"M 99.069034 296.031418 \nL 149.796307 295.974125 \nL 200.52358 296.229667 \nL 251.250852 296.499684 \nL 301.978125 296.639719 \nL 352.705398 297.120373 \nL 403.43267 297.157581 \nL 454.159943 296.972785 \nL 504.887216 296.875273 \n\" style=\"fill:none;stroke:#d62728;stroke-linecap:square;stroke-width:1.5;\"/>\n    <g clip-path=\"url(#pf6bf65391c)\">\n     <use style=\"fill:#d62728;stroke:#d62728;\" x=\"99.069034\" xlink:href=\"#m2e2b3f65e5\" y=\"296.031418\"/>\n     <use style=\"fill:#d62728;stroke:#d62728;\" x=\"149.796307\" xlink:href=\"#m2e2b3f65e5\" y=\"295.974125\"/>\n     <use style=\"fill:#d62728;stroke:#d62728;\" x=\"200.52358\" xlink:href=\"#m2e2b3f65e5\" y=\"296.229667\"/>\n     <use style=\"fill:#d62728;stroke:#d62728;\" x=\"251.250852\" xlink:href=\"#m2e2b3f65e5\" y=\"296.499684\"/>\n     <use style=\"fill:#d62728;stroke:#d62728;\" x=\"301.978125\" xlink:href=\"#m2e2b3f65e5\" y=\"296.639719\"/>\n     <use style=\"fill:#d62728;stroke:#d62728;\" x=\"352.705398\" xlink:href=\"#m2e2b3f65e5\" y=\"297.120373\"/>\n     <use style=\"fill:#d62728;stroke:#d62728;\" x=\"403.43267\" xlink:href=\"#m2e2b3f65e5\" y=\"297.157581\"/>\n     <use style=\"fill:#d62728;stroke:#d62728;\" x=\"454.159943\" xlink:href=\"#m2e2b3f65e5\" y=\"296.972785\"/>\n     <use style=\"fill:#d62728;stroke:#d62728;\" x=\"504.887216\" xlink:href=\"#m2e2b3f65e5\" y=\"296.875273\"/>\n    </g>\n   </g>\n   <g id=\"line2d_72\">\n    <path clip-path=\"url(#pf6bf65391c)\" d=\"M 99.069034 302.191937 \nL 149.796307 302.099221 \nL 200.52358 302.20592 \nL 251.250852 302.257026 \nL 301.978125 302.268232 \nL 352.705398 302.141731 \nL 403.43267 302.161978 \nL 454.159943 302.205203 \nL 504.887216 302.188764 \n\" style=\"fill:none;stroke:#9467bd;stroke-linecap:square;stroke-width:1.5;\"/>\n    <g clip-path=\"url(#pf6bf65391c)\">\n     <use style=\"fill:#9467bd;stroke:#9467bd;\" x=\"99.069034\" xlink:href=\"#mbd36c2ddd4\" y=\"302.191937\"/>\n     <use style=\"fill:#9467bd;stroke:#9467bd;\" x=\"149.796307\" xlink:href=\"#mbd36c2ddd4\" y=\"302.099221\"/>\n     <use style=\"fill:#9467bd;stroke:#9467bd;\" x=\"200.52358\" xlink:href=\"#mbd36c2ddd4\" y=\"302.20592\"/>\n     <use style=\"fill:#9467bd;stroke:#9467bd;\" x=\"251.250852\" xlink:href=\"#mbd36c2ddd4\" y=\"302.257026\"/>\n     <use style=\"fill:#9467bd;stroke:#9467bd;\" x=\"301.978125\" xlink:href=\"#mbd36c2ddd4\" y=\"302.268232\"/>\n     <use style=\"fill:#9467bd;stroke:#9467bd;\" x=\"352.705398\" xlink:href=\"#mbd36c2ddd4\" y=\"302.141731\"/>\n     <use style=\"fill:#9467bd;stroke:#9467bd;\" x=\"403.43267\" xlink:href=\"#mbd36c2ddd4\" y=\"302.161978\"/>\n     <use style=\"fill:#9467bd;stroke:#9467bd;\" x=\"454.159943\" xlink:href=\"#mbd36c2ddd4\" y=\"302.205203\"/>\n     <use style=\"fill:#9467bd;stroke:#9467bd;\" x=\"504.887216\" xlink:href=\"#mbd36c2ddd4\" y=\"302.188764\"/>\n    </g>\n   </g>\n   <g id=\"line2d_73\">\n    <path clip-path=\"url(#pf6bf65391c)\" d=\"M 99.069034 302.63673 \nL 149.796307 302.626372 \nL 200.52358 302.626344 \nL 251.250852 302.608811 \nL 301.978125 302.621749 \nL 352.705398 302.616875 \nL 403.43267 302.645455 \nL 454.159943 302.633727 \nL 504.887216 302.633371 \n\" style=\"fill:none;stroke:#8c564b;stroke-linecap:square;stroke-width:1.5;\"/>\n    <g clip-path=\"url(#pf6bf65391c)\">\n     <use style=\"fill:#8c564b;stroke:#8c564b;\" x=\"99.069034\" xlink:href=\"#me5a875bc03\" y=\"302.63673\"/>\n     <use style=\"fill:#8c564b;stroke:#8c564b;\" x=\"149.796307\" xlink:href=\"#me5a875bc03\" y=\"302.626372\"/>\n     <use style=\"fill:#8c564b;stroke:#8c564b;\" x=\"200.52358\" xlink:href=\"#me5a875bc03\" y=\"302.626344\"/>\n     <use style=\"fill:#8c564b;stroke:#8c564b;\" x=\"251.250852\" xlink:href=\"#me5a875bc03\" y=\"302.608811\"/>\n     <use style=\"fill:#8c564b;stroke:#8c564b;\" x=\"301.978125\" xlink:href=\"#me5a875bc03\" y=\"302.621749\"/>\n     <use style=\"fill:#8c564b;stroke:#8c564b;\" x=\"352.705398\" xlink:href=\"#me5a875bc03\" y=\"302.616875\"/>\n     <use style=\"fill:#8c564b;stroke:#8c564b;\" x=\"403.43267\" xlink:href=\"#me5a875bc03\" y=\"302.645455\"/>\n     <use style=\"fill:#8c564b;stroke:#8c564b;\" x=\"454.159943\" xlink:href=\"#me5a875bc03\" y=\"302.633727\"/>\n     <use style=\"fill:#8c564b;stroke:#8c564b;\" x=\"504.887216\" xlink:href=\"#me5a875bc03\" y=\"302.633371\"/>\n    </g>\n   </g>\n   <g id=\"line2d_74\">\n    <path clip-path=\"url(#pf6bf65391c)\" d=\"M 99.069034 301.060963 \nL 149.796307 301.105823 \nL 200.52358 301.149751 \nL 251.250852 301.042873 \nL 301.978125 300.888396 \nL 352.705398 300.628865 \nL 403.43267 300.646959 \nL 454.159943 300.646161 \nL 504.887216 300.564227 \n\" style=\"fill:none;stroke:#e377c2;stroke-linecap:square;stroke-width:1.5;\"/>\n    <g clip-path=\"url(#pf6bf65391c)\">\n     <use style=\"fill:#e377c2;stroke:#e377c2;\" x=\"99.069034\" xlink:href=\"#m55cf5f246b\" y=\"301.060963\"/>\n     <use style=\"fill:#e377c2;stroke:#e377c2;\" x=\"149.796307\" xlink:href=\"#m55cf5f246b\" y=\"301.105823\"/>\n     <use style=\"fill:#e377c2;stroke:#e377c2;\" x=\"200.52358\" xlink:href=\"#m55cf5f246b\" y=\"301.149751\"/>\n     <use style=\"fill:#e377c2;stroke:#e377c2;\" x=\"251.250852\" xlink:href=\"#m55cf5f246b\" y=\"301.042873\"/>\n     <use style=\"fill:#e377c2;stroke:#e377c2;\" x=\"301.978125\" xlink:href=\"#m55cf5f246b\" y=\"300.888396\"/>\n     <use style=\"fill:#e377c2;stroke:#e377c2;\" x=\"352.705398\" xlink:href=\"#m55cf5f246b\" y=\"300.628865\"/>\n     <use style=\"fill:#e377c2;stroke:#e377c2;\" x=\"403.43267\" xlink:href=\"#m55cf5f246b\" y=\"300.646959\"/>\n     <use style=\"fill:#e377c2;stroke:#e377c2;\" x=\"454.159943\" xlink:href=\"#m55cf5f246b\" y=\"300.646161\"/>\n     <use style=\"fill:#e377c2;stroke:#e377c2;\" x=\"504.887216\" xlink:href=\"#m55cf5f246b\" y=\"300.564227\"/>\n    </g>\n   </g>\n   <g id=\"line2d_75\">\n    <path clip-path=\"url(#pf6bf65391c)\" d=\"M 99.069034 302.267646 \nL 149.796307 302.269897 \nL 200.52358 302.28333 \nL 251.250852 302.30388 \nL 301.978125 302.261473 \nL 352.705398 302.325871 \nL 403.43267 302.290815 \nL 454.159943 302.351517 \nL 504.887216 302.358869 \n\" style=\"fill:none;stroke:#7f7f7f;stroke-linecap:square;stroke-width:1.5;\"/>\n    <g clip-path=\"url(#pf6bf65391c)\">\n     <use style=\"fill:#7f7f7f;stroke:#7f7f7f;\" x=\"99.069034\" xlink:href=\"#m938cf40f2a\" y=\"302.267646\"/>\n     <use style=\"fill:#7f7f7f;stroke:#7f7f7f;\" x=\"149.796307\" xlink:href=\"#m938cf40f2a\" y=\"302.269897\"/>\n     <use style=\"fill:#7f7f7f;stroke:#7f7f7f;\" x=\"200.52358\" xlink:href=\"#m938cf40f2a\" y=\"302.28333\"/>\n     <use style=\"fill:#7f7f7f;stroke:#7f7f7f;\" x=\"251.250852\" xlink:href=\"#m938cf40f2a\" y=\"302.30388\"/>\n     <use style=\"fill:#7f7f7f;stroke:#7f7f7f;\" x=\"301.978125\" xlink:href=\"#m938cf40f2a\" y=\"302.261473\"/>\n     <use style=\"fill:#7f7f7f;stroke:#7f7f7f;\" x=\"352.705398\" xlink:href=\"#m938cf40f2a\" y=\"302.325871\"/>\n     <use style=\"fill:#7f7f7f;stroke:#7f7f7f;\" x=\"403.43267\" xlink:href=\"#m938cf40f2a\" y=\"302.290815\"/>\n     <use style=\"fill:#7f7f7f;stroke:#7f7f7f;\" x=\"454.159943\" xlink:href=\"#m938cf40f2a\" y=\"302.351517\"/>\n     <use style=\"fill:#7f7f7f;stroke:#7f7f7f;\" x=\"504.887216\" xlink:href=\"#m938cf40f2a\" y=\"302.358869\"/>\n    </g>\n   </g>\n   <g id=\"line2d_76\">\n    <path clip-path=\"url(#pf6bf65391c)\" d=\"M 99.069034 296.480658 \nL 149.796307 296.532103 \nL 200.52358 296.6592 \nL 251.250852 296.54286 \nL 301.978125 296.377866 \nL 352.705398 295.894132 \nL 403.43267 295.742079 \nL 454.159943 295.377286 \nL 504.887216 295.224058 \n\" style=\"fill:none;stroke:#bcbd22;stroke-linecap:square;stroke-width:1.5;\"/>\n    <g clip-path=\"url(#pf6bf65391c)\">\n     <use style=\"fill:#bcbd22;stroke:#bcbd22;\" x=\"99.069034\" xlink:href=\"#m106ca2c644\" y=\"296.480658\"/>\n     <use style=\"fill:#bcbd22;stroke:#bcbd22;\" x=\"149.796307\" xlink:href=\"#m106ca2c644\" y=\"296.532103\"/>\n     <use style=\"fill:#bcbd22;stroke:#bcbd22;\" x=\"200.52358\" xlink:href=\"#m106ca2c644\" y=\"296.6592\"/>\n     <use style=\"fill:#bcbd22;stroke:#bcbd22;\" x=\"251.250852\" xlink:href=\"#m106ca2c644\" y=\"296.54286\"/>\n     <use style=\"fill:#bcbd22;stroke:#bcbd22;\" x=\"301.978125\" xlink:href=\"#m106ca2c644\" y=\"296.377866\"/>\n     <use style=\"fill:#bcbd22;stroke:#bcbd22;\" x=\"352.705398\" xlink:href=\"#m106ca2c644\" y=\"295.894132\"/>\n     <use style=\"fill:#bcbd22;stroke:#bcbd22;\" x=\"403.43267\" xlink:href=\"#m106ca2c644\" y=\"295.742079\"/>\n     <use style=\"fill:#bcbd22;stroke:#bcbd22;\" x=\"454.159943\" xlink:href=\"#m106ca2c644\" y=\"295.377286\"/>\n     <use style=\"fill:#bcbd22;stroke:#bcbd22;\" x=\"504.887216\" xlink:href=\"#m106ca2c644\" y=\"295.224058\"/>\n    </g>\n   </g>\n   <g id=\"line2d_77\">\n    <path clip-path=\"url(#pf6bf65391c)\" d=\"M 99.069034 300.014574 \nL 149.796307 300.045649 \nL 200.52358 300.110188 \nL 251.250852 300.076911 \nL 301.978125 299.995714 \nL 352.705398 299.851419 \nL 403.43267 299.892259 \nL 454.159943 299.682299 \nL 504.887216 299.76249 \n\" style=\"fill:none;stroke:#17becf;stroke-linecap:square;stroke-width:1.5;\"/>\n    <g clip-path=\"url(#pf6bf65391c)\">\n     <use style=\"fill:#17becf;stroke:#17becf;\" x=\"99.069034\" xlink:href=\"#m9b97bcf085\" y=\"300.014574\"/>\n     <use style=\"fill:#17becf;stroke:#17becf;\" x=\"149.796307\" xlink:href=\"#m9b97bcf085\" y=\"300.045649\"/>\n     <use style=\"fill:#17becf;stroke:#17becf;\" x=\"200.52358\" xlink:href=\"#m9b97bcf085\" y=\"300.110188\"/>\n     <use style=\"fill:#17becf;stroke:#17becf;\" x=\"251.250852\" xlink:href=\"#m9b97bcf085\" y=\"300.076911\"/>\n     <use style=\"fill:#17becf;stroke:#17becf;\" x=\"301.978125\" xlink:href=\"#m9b97bcf085\" y=\"299.995714\"/>\n     <use style=\"fill:#17becf;stroke:#17becf;\" x=\"352.705398\" xlink:href=\"#m9b97bcf085\" y=\"299.851419\"/>\n     <use style=\"fill:#17becf;stroke:#17becf;\" x=\"403.43267\" xlink:href=\"#m9b97bcf085\" y=\"299.892259\"/>\n     <use style=\"fill:#17becf;stroke:#17becf;\" x=\"454.159943\" xlink:href=\"#m9b97bcf085\" y=\"299.682299\"/>\n     <use style=\"fill:#17becf;stroke:#17becf;\" x=\"504.887216\" xlink:href=\"#m9b97bcf085\" y=\"299.76249\"/>\n    </g>\n   </g>\n   <g id=\"line2d_78\">\n    <path clip-path=\"url(#pf6bf65391c)\" d=\"M 99.069034 301.822965 \nL 149.796307 301.824794 \nL 200.52358 301.908566 \nL 251.250852 301.925803 \nL 301.978125 301.899158 \nL 352.705398 302.017968 \nL 403.43267 301.985207 \nL 454.159943 302.087928 \nL 504.887216 301.941847 \n\" style=\"fill:none;stroke:#1f77b4;stroke-linecap:square;stroke-width:1.5;\"/>\n    <g clip-path=\"url(#pf6bf65391c)\">\n     <use style=\"fill:#1f77b4;stroke:#1f77b4;\" x=\"99.069034\" xlink:href=\"#m514b3602b4\" y=\"301.822965\"/>\n     <use style=\"fill:#1f77b4;stroke:#1f77b4;\" x=\"149.796307\" xlink:href=\"#m514b3602b4\" y=\"301.824794\"/>\n     <use style=\"fill:#1f77b4;stroke:#1f77b4;\" x=\"200.52358\" xlink:href=\"#m514b3602b4\" y=\"301.908566\"/>\n     <use style=\"fill:#1f77b4;stroke:#1f77b4;\" x=\"251.250852\" xlink:href=\"#m514b3602b4\" y=\"301.925803\"/>\n     <use style=\"fill:#1f77b4;stroke:#1f77b4;\" x=\"301.978125\" xlink:href=\"#m514b3602b4\" y=\"301.899158\"/>\n     <use style=\"fill:#1f77b4;stroke:#1f77b4;\" x=\"352.705398\" xlink:href=\"#m514b3602b4\" y=\"302.017968\"/>\n     <use style=\"fill:#1f77b4;stroke:#1f77b4;\" x=\"403.43267\" xlink:href=\"#m514b3602b4\" y=\"301.985207\"/>\n     <use style=\"fill:#1f77b4;stroke:#1f77b4;\" x=\"454.159943\" xlink:href=\"#m514b3602b4\" y=\"302.087928\"/>\n     <use style=\"fill:#1f77b4;stroke:#1f77b4;\" x=\"504.887216\" xlink:href=\"#m514b3602b4\" y=\"301.941847\"/>\n    </g>\n   </g>\n   <g id=\"line2d_79\">\n    <path clip-path=\"url(#pf6bf65391c)\" d=\"M 99.069034 265.798287 \nL 149.796307 264.317078 \nL 200.52358 260.702251 \nL 251.250852 256.176034 \nL 301.978125 247.592702 \nL 352.705398 241.769208 \nL 403.43267 240.651486 \nL 454.159943 236.556461 \nL 504.887216 230.332049 \n\" style=\"fill:none;stroke:#ff7f0e;stroke-linecap:square;stroke-width:1.5;\"/>\n    <g clip-path=\"url(#pf6bf65391c)\">\n     <use style=\"fill:#ff7f0e;stroke:#ff7f0e;\" x=\"99.069034\" xlink:href=\"#m550096fe7f\" y=\"265.798287\"/>\n     <use style=\"fill:#ff7f0e;stroke:#ff7f0e;\" x=\"149.796307\" xlink:href=\"#m550096fe7f\" y=\"264.317078\"/>\n     <use style=\"fill:#ff7f0e;stroke:#ff7f0e;\" x=\"200.52358\" xlink:href=\"#m550096fe7f\" y=\"260.702251\"/>\n     <use style=\"fill:#ff7f0e;stroke:#ff7f0e;\" x=\"251.250852\" xlink:href=\"#m550096fe7f\" y=\"256.176034\"/>\n     <use style=\"fill:#ff7f0e;stroke:#ff7f0e;\" x=\"301.978125\" xlink:href=\"#m550096fe7f\" y=\"247.592702\"/>\n     <use style=\"fill:#ff7f0e;stroke:#ff7f0e;\" x=\"352.705398\" xlink:href=\"#m550096fe7f\" y=\"241.769208\"/>\n     <use style=\"fill:#ff7f0e;stroke:#ff7f0e;\" x=\"403.43267\" xlink:href=\"#m550096fe7f\" y=\"240.651486\"/>\n     <use style=\"fill:#ff7f0e;stroke:#ff7f0e;\" x=\"454.159943\" xlink:href=\"#m550096fe7f\" y=\"236.556461\"/>\n     <use style=\"fill:#ff7f0e;stroke:#ff7f0e;\" x=\"504.887216\" xlink:href=\"#m550096fe7f\" y=\"230.332049\"/>\n    </g>\n   </g>\n   <g id=\"line2d_80\">\n    <path clip-path=\"url(#pf6bf65391c)\" d=\"M 99.069034 300.031709 \nL 149.796307 300.12609 \nL 200.52358 299.982077 \nL 251.250852 300.124922 \nL 301.978125 299.930696 \nL 352.705398 299.905409 \nL 403.43267 299.749827 \nL 454.159943 300.031317 \nL 504.887216 300.41497 \n\" style=\"fill:none;stroke:#2ca02c;stroke-linecap:square;stroke-width:1.5;\"/>\n    <g clip-path=\"url(#pf6bf65391c)\">\n     <use style=\"fill:#2ca02c;stroke:#2ca02c;\" x=\"99.069034\" xlink:href=\"#m33fece5399\" y=\"300.031709\"/>\n     <use style=\"fill:#2ca02c;stroke:#2ca02c;\" x=\"149.796307\" xlink:href=\"#m33fece5399\" y=\"300.12609\"/>\n     <use style=\"fill:#2ca02c;stroke:#2ca02c;\" x=\"200.52358\" xlink:href=\"#m33fece5399\" y=\"299.982077\"/>\n     <use style=\"fill:#2ca02c;stroke:#2ca02c;\" x=\"251.250852\" xlink:href=\"#m33fece5399\" y=\"300.124922\"/>\n     <use style=\"fill:#2ca02c;stroke:#2ca02c;\" x=\"301.978125\" xlink:href=\"#m33fece5399\" y=\"299.930696\"/>\n     <use style=\"fill:#2ca02c;stroke:#2ca02c;\" x=\"352.705398\" xlink:href=\"#m33fece5399\" y=\"299.905409\"/>\n     <use style=\"fill:#2ca02c;stroke:#2ca02c;\" x=\"403.43267\" xlink:href=\"#m33fece5399\" y=\"299.749827\"/>\n     <use style=\"fill:#2ca02c;stroke:#2ca02c;\" x=\"454.159943\" xlink:href=\"#m33fece5399\" y=\"300.031317\"/>\n     <use style=\"fill:#2ca02c;stroke:#2ca02c;\" x=\"504.887216\" xlink:href=\"#m33fece5399\" y=\"300.41497\"/>\n    </g>\n   </g>\n   <g id=\"patch_3\">\n    <path d=\"M 78.778125 315 \nL 78.778125 43.2 \n\" style=\"fill:none;stroke:#000000;stroke-linecap:square;stroke-linejoin:miter;stroke-width:0.8;\"/>\n   </g>\n   <g id=\"patch_4\">\n    <path d=\"M 525.178125 315 \nL 525.178125 43.2 \n\" style=\"fill:none;stroke:#000000;stroke-linecap:square;stroke-linejoin:miter;stroke-width:0.8;\"/>\n   </g>\n   <g id=\"patch_5\">\n    <path d=\"M 78.778125 315 \nL 525.178125 315 \n\" style=\"fill:none;stroke:#000000;stroke-linecap:square;stroke-linejoin:miter;stroke-width:0.8;\"/>\n   </g>\n   <g id=\"patch_6\">\n    <path d=\"M 78.778125 43.2 \nL 525.178125 43.2 \n\" style=\"fill:none;stroke:#000000;stroke-linecap:square;stroke-linejoin:miter;stroke-width:0.8;\"/>\n   </g>\n  </g>\n  <g id=\"text_20\">\n   <!-- Total GDP for Direct Cannabis Related Industries (2010 - 2018) -->\n   <g transform=\"translate(82.569375 16.318125)scale(0.12 -0.12)\">\n    <defs>\n     <path d=\"M 0.484375 72.90625 \nL 67.671875 72.90625 \nL 67.671875 58.6875 \nL 43.5 58.6875 \nL 43.5 0 \nL 24.703125 0 \nL 24.703125 58.6875 \nL 0.484375 58.6875 \nz\n\" id=\"DejaVuSans-Bold-84\"/>\n     <path d=\"M 34.421875 43.5 \nQ 28.609375 43.5 25.5625 39.328125 \nQ 22.515625 35.15625 22.515625 27.296875 \nQ 22.515625 19.4375 25.5625 15.25 \nQ 28.609375 11.078125 34.421875 11.078125 \nQ 40.140625 11.078125 43.15625 15.25 \nQ 46.1875 19.4375 46.1875 27.296875 \nQ 46.1875 35.15625 43.15625 39.328125 \nQ 40.140625 43.5 34.421875 43.5 \nz\nM 34.421875 56 \nQ 48.53125 56 56.46875 48.375 \nQ 64.40625 40.765625 64.40625 27.296875 \nQ 64.40625 13.8125 56.46875 6.1875 \nQ 48.53125 -1.421875 34.421875 -1.421875 \nQ 20.265625 -1.421875 12.28125 6.1875 \nQ 4.296875 13.8125 4.296875 27.296875 \nQ 4.296875 40.765625 12.28125 48.375 \nQ 20.265625 56 34.421875 56 \nz\n\" id=\"DejaVuSans-Bold-111\"/>\n     <path d=\"M 27.484375 70.21875 \nL 27.484375 54.6875 \nL 45.515625 54.6875 \nL 45.515625 42.1875 \nL 27.484375 42.1875 \nL 27.484375 19 \nQ 27.484375 15.1875 29 13.84375 \nQ 30.515625 12.5 35.015625 12.5 \nL 44 12.5 \nL 44 0 \nL 29 0 \nQ 18.65625 0 14.328125 4.3125 \nQ 10.015625 8.640625 10.015625 19 \nL 10.015625 42.1875 \nL 1.3125 42.1875 \nL 1.3125 54.6875 \nL 10.015625 54.6875 \nL 10.015625 70.21875 \nz\n\" id=\"DejaVuSans-Bold-116\"/>\n     <path d=\"M 32.90625 24.609375 \nQ 27.4375 24.609375 24.671875 22.75 \nQ 21.921875 20.90625 21.921875 17.28125 \nQ 21.921875 13.96875 24.140625 12.078125 \nQ 26.375 10.203125 30.328125 10.203125 \nQ 35.25 10.203125 38.625 13.734375 \nQ 42 17.28125 42 22.609375 \nL 42 24.609375 \nz\nM 59.625 31.203125 \nL 59.625 0 \nL 42 0 \nL 42 8.109375 \nQ 38.484375 3.125 34.078125 0.84375 \nQ 29.6875 -1.421875 23.390625 -1.421875 \nQ 14.890625 -1.421875 9.59375 3.53125 \nQ 4.296875 8.5 4.296875 16.40625 \nQ 4.296875 26.03125 10.90625 30.515625 \nQ 17.53125 35.015625 31.6875 35.015625 \nL 42 35.015625 \nL 42 36.375 \nQ 42 40.53125 38.71875 42.453125 \nQ 35.453125 44.390625 28.515625 44.390625 \nQ 22.90625 44.390625 18.0625 43.265625 \nQ 13.234375 42.140625 9.078125 39.890625 \nL 9.078125 53.21875 \nQ 14.703125 54.59375 20.359375 55.296875 \nQ 26.03125 56 31.6875 56 \nQ 46.484375 56 53.046875 50.171875 \nQ 59.625 44.34375 59.625 31.203125 \nz\n\" id=\"DejaVuSans-Bold-97\"/>\n     <path d=\"M 8.40625 75.984375 \nL 25.875 75.984375 \nL 25.875 0 \nL 8.40625 0 \nz\n\" id=\"DejaVuSans-Bold-108\"/>\n     <path id=\"DejaVuSans-Bold-32\"/>\n     <path d=\"M 74.703125 5.421875 \nQ 67.671875 2 60.109375 0.28125 \nQ 52.546875 -1.421875 44.484375 -1.421875 \nQ 26.265625 -1.421875 15.625 8.765625 \nQ 4.984375 18.953125 4.984375 36.375 \nQ 4.984375 54 15.8125 64.109375 \nQ 26.65625 74.21875 45.515625 74.21875 \nQ 52.78125 74.21875 59.4375 72.84375 \nQ 66.109375 71.484375 72.015625 68.796875 \nL 72.015625 53.71875 \nQ 65.921875 57.171875 59.890625 58.875 \nQ 53.859375 60.59375 47.796875 60.59375 \nQ 36.578125 60.59375 30.5 54.3125 \nQ 24.421875 48.046875 24.421875 36.375 \nQ 24.421875 24.8125 30.28125 18.5 \nQ 36.140625 12.203125 46.921875 12.203125 \nQ 49.859375 12.203125 52.375 12.5625 \nQ 54.890625 12.9375 56.890625 13.71875 \nL 56.890625 27.875 \nL 45.40625 27.875 \nL 45.40625 40.484375 \nL 74.703125 40.484375 \nz\n\" id=\"DejaVuSans-Bold-71\"/>\n     <path d=\"M 27.984375 58.6875 \nL 27.984375 14.203125 \nL 34.71875 14.203125 \nQ 46.234375 14.203125 52.3125 19.921875 \nQ 58.40625 25.640625 58.40625 36.53125 \nQ 58.40625 47.359375 52.34375 53.015625 \nQ 46.296875 58.6875 34.71875 58.6875 \nz\nM 9.1875 72.90625 \nL 29 72.90625 \nQ 45.609375 72.90625 53.734375 70.53125 \nQ 61.859375 68.171875 67.671875 62.5 \nQ 72.796875 57.5625 75.28125 51.109375 \nQ 77.78125 44.671875 77.78125 36.53125 \nQ 77.78125 28.265625 75.28125 21.796875 \nQ 72.796875 15.328125 67.671875 10.40625 \nQ 61.8125 4.734375 53.609375 2.359375 \nQ 45.40625 0 29 0 \nL 9.1875 0 \nz\n\" id=\"DejaVuSans-Bold-68\"/>\n     <path d=\"M 9.1875 72.90625 \nL 40.375 72.90625 \nQ 54.296875 72.90625 61.734375 66.71875 \nQ 69.1875 60.546875 69.1875 49.125 \nQ 69.1875 37.640625 61.734375 31.46875 \nQ 54.296875 25.296875 40.375 25.296875 \nL 27.984375 25.296875 \nL 27.984375 0 \nL 9.1875 0 \nz\nM 27.984375 59.28125 \nL 27.984375 38.921875 \nL 38.375 38.921875 \nQ 43.84375 38.921875 46.828125 41.578125 \nQ 49.8125 44.234375 49.8125 49.125 \nQ 49.8125 54 46.828125 56.640625 \nQ 43.84375 59.28125 38.375 59.28125 \nz\n\" id=\"DejaVuSans-Bold-80\"/>\n     <path d=\"M 44.390625 75.984375 \nL 44.390625 64.5 \nL 34.71875 64.5 \nQ 31 64.5 29.53125 63.15625 \nQ 28.078125 61.8125 28.078125 58.5 \nL 28.078125 54.6875 \nL 43.015625 54.6875 \nL 43.015625 42.1875 \nL 28.078125 42.1875 \nL 28.078125 0 \nL 10.59375 0 \nL 10.59375 42.1875 \nL 1.90625 42.1875 \nL 1.90625 54.6875 \nL 10.59375 54.6875 \nL 10.59375 58.5 \nQ 10.59375 67.4375 15.578125 71.703125 \nQ 20.5625 75.984375 31 75.984375 \nz\n\" id=\"DejaVuSans-Bold-102\"/>\n     <path d=\"M 49.03125 39.796875 \nQ 46.734375 40.875 44.453125 41.375 \nQ 42.1875 41.890625 39.890625 41.890625 \nQ 33.15625 41.890625 29.515625 37.5625 \nQ 25.875 33.25 25.875 25.203125 \nL 25.875 0 \nL 8.40625 0 \nL 8.40625 54.6875 \nL 25.875 54.6875 \nL 25.875 45.703125 \nQ 29.25 51.078125 33.609375 53.53125 \nQ 37.984375 56 44.09375 56 \nQ 44.96875 56 45.984375 55.921875 \nQ 47.015625 55.859375 48.96875 55.609375 \nz\n\" id=\"DejaVuSans-Bold-114\"/>\n     <path d=\"M 8.40625 54.6875 \nL 25.875 54.6875 \nL 25.875 0 \nL 8.40625 0 \nz\nM 8.40625 75.984375 \nL 25.875 75.984375 \nL 25.875 61.71875 \nL 8.40625 61.71875 \nz\n\" id=\"DejaVuSans-Bold-105\"/>\n     <path d=\"M 62.984375 27.484375 \nL 62.984375 22.515625 \nL 22.125 22.515625 \nQ 22.75 16.359375 26.5625 13.28125 \nQ 30.375 10.203125 37.203125 10.203125 \nQ 42.71875 10.203125 48.5 11.84375 \nQ 54.296875 13.484375 60.40625 16.796875 \nL 60.40625 3.328125 \nQ 54.203125 0.984375 48 -0.21875 \nQ 41.796875 -1.421875 35.59375 -1.421875 \nQ 20.75 -1.421875 12.515625 6.125 \nQ 4.296875 13.671875 4.296875 27.296875 \nQ 4.296875 40.671875 12.375 48.328125 \nQ 20.453125 56 34.625 56 \nQ 47.515625 56 55.25 48.234375 \nQ 62.984375 40.484375 62.984375 27.484375 \nz\nM 45.015625 33.296875 \nQ 45.015625 38.28125 42.109375 41.328125 \nQ 39.203125 44.390625 34.515625 44.390625 \nQ 29.4375 44.390625 26.265625 41.53125 \nQ 23.09375 38.671875 22.3125 33.296875 \nz\n\" id=\"DejaVuSans-Bold-101\"/>\n     <path d=\"M 52.59375 52.984375 \nL 52.59375 38.71875 \nQ 49.03125 41.15625 45.4375 42.328125 \nQ 41.84375 43.5 37.984375 43.5 \nQ 30.671875 43.5 26.59375 39.234375 \nQ 22.515625 34.96875 22.515625 27.296875 \nQ 22.515625 19.625 26.59375 15.34375 \nQ 30.671875 11.078125 37.984375 11.078125 \nQ 42.09375 11.078125 45.78125 12.296875 \nQ 49.46875 13.53125 52.59375 15.921875 \nL 52.59375 1.609375 \nQ 48.484375 0.09375 44.265625 -0.65625 \nQ 40.046875 -1.421875 35.796875 -1.421875 \nQ 21 -1.421875 12.640625 6.171875 \nQ 4.296875 13.765625 4.296875 27.296875 \nQ 4.296875 40.828125 12.640625 48.40625 \nQ 21 56 35.796875 56 \nQ 40.09375 56 44.265625 55.25 \nQ 48.4375 54.5 52.59375 52.984375 \nz\n\" id=\"DejaVuSans-Bold-99\"/>\n     <path d=\"M 67 4 \nQ 61.8125 1.3125 56.203125 -0.046875 \nQ 50.59375 -1.421875 44.484375 -1.421875 \nQ 26.265625 -1.421875 15.625 8.765625 \nQ 4.984375 18.953125 4.984375 36.375 \nQ 4.984375 53.859375 15.625 64.03125 \nQ 26.265625 74.21875 44.484375 74.21875 \nQ 50.59375 74.21875 56.203125 72.84375 \nQ 61.8125 71.484375 67 68.796875 \nL 67 53.71875 \nQ 61.765625 57.28125 56.6875 58.9375 \nQ 51.609375 60.59375 46 60.59375 \nQ 35.9375 60.59375 30.171875 54.140625 \nQ 24.421875 47.703125 24.421875 36.375 \nQ 24.421875 25.09375 30.171875 18.640625 \nQ 35.9375 12.203125 46 12.203125 \nQ 51.609375 12.203125 56.6875 13.859375 \nQ 61.765625 15.53125 67 19.09375 \nz\n\" id=\"DejaVuSans-Bold-67\"/>\n     <path d=\"M 63.375 33.296875 \nL 63.375 0 \nL 45.796875 0 \nL 45.796875 5.421875 \nL 45.796875 25.484375 \nQ 45.796875 32.5625 45.484375 35.25 \nQ 45.171875 37.9375 44.390625 39.203125 \nQ 43.359375 40.921875 41.59375 41.875 \nQ 39.84375 42.828125 37.59375 42.828125 \nQ 32.125 42.828125 29 38.59375 \nQ 25.875 34.375 25.875 26.90625 \nL 25.875 0 \nL 8.40625 0 \nL 8.40625 54.6875 \nL 25.875 54.6875 \nL 25.875 46.6875 \nQ 29.828125 51.46875 34.265625 53.734375 \nQ 38.71875 56 44.09375 56 \nQ 53.5625 56 58.46875 50.1875 \nQ 63.375 44.390625 63.375 33.296875 \nz\n\" id=\"DejaVuSans-Bold-110\"/>\n     <path d=\"M 37.5 11.28125 \nQ 43.109375 11.28125 46.0625 15.375 \nQ 49.03125 19.484375 49.03125 27.296875 \nQ 49.03125 35.109375 46.0625 39.203125 \nQ 43.109375 43.3125 37.5 43.3125 \nQ 31.890625 43.3125 28.875 39.1875 \nQ 25.875 35.0625 25.875 27.296875 \nQ 25.875 19.53125 28.875 15.40625 \nQ 31.890625 11.28125 37.5 11.28125 \nz\nM 25.875 46.6875 \nQ 29.5 51.46875 33.890625 53.734375 \nQ 38.28125 56 44 56 \nQ 54.109375 56 60.59375 47.96875 \nQ 67.09375 39.9375 67.09375 27.296875 \nQ 67.09375 14.65625 60.59375 6.609375 \nQ 54.109375 -1.421875 44 -1.421875 \nQ 38.28125 -1.421875 33.890625 0.84375 \nQ 29.5 3.125 25.875 7.90625 \nL 25.875 0 \nL 8.40625 0 \nL 8.40625 75.984375 \nL 25.875 75.984375 \nz\n\" id=\"DejaVuSans-Bold-98\"/>\n     <path d=\"M 51.125 52.984375 \nL 51.125 39.703125 \nQ 45.515625 42.046875 40.28125 43.21875 \nQ 35.0625 44.390625 30.421875 44.390625 \nQ 25.4375 44.390625 23.015625 43.140625 \nQ 20.609375 41.890625 20.609375 39.3125 \nQ 20.609375 37.203125 22.4375 36.078125 \nQ 24.265625 34.96875 29 34.421875 \nL 32.078125 33.984375 \nQ 45.515625 32.28125 50.140625 28.375 \nQ 54.78125 24.46875 54.78125 16.109375 \nQ 54.78125 7.375 48.328125 2.96875 \nQ 41.890625 -1.421875 29.109375 -1.421875 \nQ 23.6875 -1.421875 17.890625 -0.5625 \nQ 12.109375 0.296875 6 2 \nL 6 15.28125 \nQ 11.234375 12.75 16.71875 11.46875 \nQ 22.21875 10.203125 27.875 10.203125 \nQ 33.015625 10.203125 35.59375 11.609375 \nQ 38.1875 13.03125 38.1875 15.828125 \nQ 38.1875 18.171875 36.40625 19.3125 \nQ 34.625 20.453125 29.296875 21.09375 \nL 26.21875 21.484375 \nQ 14.546875 22.953125 9.859375 26.90625 \nQ 5.171875 30.859375 5.171875 38.921875 \nQ 5.171875 47.609375 11.125 51.796875 \nQ 17.09375 56 29.390625 56 \nQ 34.234375 56 39.546875 55.265625 \nQ 44.875 54.546875 51.125 52.984375 \nz\n\" id=\"DejaVuSans-Bold-115\"/>\n     <path d=\"M 35.890625 40.578125 \nQ 41.796875 40.578125 44.359375 42.765625 \nQ 46.921875 44.96875 46.921875 50 \nQ 46.921875 54.984375 44.359375 57.125 \nQ 41.796875 59.28125 35.890625 59.28125 \nL 27.984375 59.28125 \nL 27.984375 40.578125 \nz\nM 27.984375 27.59375 \nL 27.984375 0 \nL 9.1875 0 \nL 9.1875 72.90625 \nL 37.890625 72.90625 \nQ 52.296875 72.90625 59 68.0625 \nQ 65.71875 63.234375 65.71875 52.78125 \nQ 65.71875 45.5625 62.21875 40.921875 \nQ 58.734375 36.28125 51.703125 34.078125 \nQ 55.5625 33.203125 58.609375 30.09375 \nQ 61.671875 27 64.796875 20.703125 \nL 75 0 \nL 54.984375 0 \nL 46.09375 18.109375 \nQ 43.40625 23.578125 40.640625 25.578125 \nQ 37.890625 27.59375 33.296875 27.59375 \nz\n\" id=\"DejaVuSans-Bold-82\"/>\n     <path d=\"M 45.609375 46.6875 \nL 45.609375 75.984375 \nL 63.1875 75.984375 \nL 63.1875 0 \nL 45.609375 0 \nL 45.609375 7.90625 \nQ 42 3.078125 37.640625 0.828125 \nQ 33.296875 -1.421875 27.59375 -1.421875 \nQ 17.484375 -1.421875 10.984375 6.609375 \nQ 4.5 14.65625 4.5 27.296875 \nQ 4.5 39.9375 10.984375 47.96875 \nQ 17.484375 56 27.59375 56 \nQ 33.25 56 37.625 53.734375 \nQ 42 51.46875 45.609375 46.6875 \nz\nM 34.078125 11.28125 \nQ 39.703125 11.28125 42.65625 15.375 \nQ 45.609375 19.484375 45.609375 27.296875 \nQ 45.609375 35.109375 42.65625 39.203125 \nQ 39.703125 43.3125 34.078125 43.3125 \nQ 28.515625 43.3125 25.5625 39.203125 \nQ 22.609375 35.109375 22.609375 27.296875 \nQ 22.609375 19.484375 25.5625 15.375 \nQ 28.515625 11.28125 34.078125 11.28125 \nz\n\" id=\"DejaVuSans-Bold-100\"/>\n     <path d=\"M 9.1875 72.90625 \nL 27.984375 72.90625 \nL 27.984375 0 \nL 9.1875 0 \nz\n\" id=\"DejaVuSans-Bold-73\"/>\n     <path d=\"M 7.8125 21.296875 \nL 7.8125 54.6875 \nL 25.390625 54.6875 \nL 25.390625 49.21875 \nQ 25.390625 44.78125 25.34375 38.0625 \nQ 25.296875 31.34375 25.296875 29.109375 \nQ 25.296875 22.515625 25.640625 19.609375 \nQ 25.984375 16.703125 26.8125 15.375 \nQ 27.875 13.671875 29.609375 12.734375 \nQ 31.34375 11.8125 33.59375 11.8125 \nQ 39.0625 11.8125 42.1875 16.015625 \nQ 45.3125 20.21875 45.3125 27.6875 \nL 45.3125 54.6875 \nL 62.796875 54.6875 \nL 62.796875 0 \nL 45.3125 0 \nL 45.3125 7.90625 \nQ 41.359375 3.125 36.9375 0.84375 \nQ 32.515625 -1.421875 27.203125 -1.421875 \nQ 17.71875 -1.421875 12.765625 4.390625 \nQ 7.8125 10.203125 7.8125 21.296875 \nz\n\" id=\"DejaVuSans-Bold-117\"/>\n     <path d=\"M 37.703125 -13.1875 \nL 23.1875 -13.1875 \nQ 15.71875 -1.125 12.15625 9.734375 \nQ 8.59375 20.609375 8.59375 31.296875 \nQ 8.59375 42 12.171875 52.953125 \nQ 15.765625 63.921875 23.1875 75.875 \nL 37.703125 75.875 \nQ 31.453125 64.3125 28.328125 53.25 \nQ 25.203125 42.1875 25.203125 31.390625 \nQ 25.203125 20.609375 28.296875 9.515625 \nQ 31.390625 -1.5625 37.703125 -13.1875 \nz\n\" id=\"DejaVuSans-Bold-40\"/>\n     <path d=\"M 28.8125 13.8125 \nL 60.890625 13.8125 \nL 60.890625 0 \nL 7.90625 0 \nL 7.90625 13.8125 \nL 34.515625 37.3125 \nQ 38.09375 40.53125 39.796875 43.609375 \nQ 41.5 46.6875 41.5 50 \nQ 41.5 55.125 38.0625 58.25 \nQ 34.625 61.375 28.90625 61.375 \nQ 24.515625 61.375 19.28125 59.5 \nQ 14.0625 57.625 8.109375 53.90625 \nL 8.109375 69.921875 \nQ 14.453125 72.015625 20.65625 73.109375 \nQ 26.859375 74.21875 32.8125 74.21875 \nQ 45.90625 74.21875 53.15625 68.453125 \nQ 60.40625 62.703125 60.40625 52.390625 \nQ 60.40625 46.4375 57.328125 41.28125 \nQ 54.25 36.140625 44.390625 27.484375 \nz\n\" id=\"DejaVuSans-Bold-50\"/>\n     <path d=\"M 46 36.53125 \nQ 46 50.203125 43.4375 55.78125 \nQ 40.875 61.375 34.8125 61.375 \nQ 28.765625 61.375 26.171875 55.78125 \nQ 23.578125 50.203125 23.578125 36.53125 \nQ 23.578125 22.703125 26.171875 17.03125 \nQ 28.765625 11.375 34.8125 11.375 \nQ 40.828125 11.375 43.40625 17.03125 \nQ 46 22.703125 46 36.53125 \nz\nM 64.796875 36.375 \nQ 64.796875 18.265625 56.984375 8.421875 \nQ 49.171875 -1.421875 34.8125 -1.421875 \nQ 20.40625 -1.421875 12.59375 8.421875 \nQ 4.78125 18.265625 4.78125 36.375 \nQ 4.78125 54.546875 12.59375 64.375 \nQ 20.40625 74.21875 34.8125 74.21875 \nQ 49.171875 74.21875 56.984375 64.375 \nQ 64.796875 54.546875 64.796875 36.375 \nz\n\" id=\"DejaVuSans-Bold-48\"/>\n     <path d=\"M 11.71875 12.984375 \nL 28.328125 12.984375 \nL 28.328125 60.109375 \nL 11.28125 56.59375 \nL 11.28125 69.390625 \nL 28.21875 72.90625 \nL 46.09375 72.90625 \nL 46.09375 12.984375 \nL 62.703125 12.984375 \nL 62.703125 0 \nL 11.71875 0 \nz\n\" id=\"DejaVuSans-Bold-49\"/>\n     <path d=\"M 5.421875 35.890625 \nL 36.078125 35.890625 \nL 36.078125 21.6875 \nL 5.421875 21.6875 \nz\n\" id=\"DejaVuSans-Bold-45\"/>\n     <path d=\"M 34.8125 32.625 \nQ 29.546875 32.625 26.703125 29.734375 \nQ 23.875 26.859375 23.875 21.484375 \nQ 23.875 16.109375 26.703125 13.25 \nQ 29.546875 10.40625 34.8125 10.40625 \nQ 40.046875 10.40625 42.828125 13.25 \nQ 45.609375 16.109375 45.609375 21.484375 \nQ 45.609375 26.90625 42.828125 29.765625 \nQ 40.046875 32.625 34.8125 32.625 \nz\nM 21.09375 38.8125 \nQ 14.453125 40.828125 11.078125 44.96875 \nQ 7.71875 49.125 7.71875 55.328125 \nQ 7.71875 64.546875 14.59375 69.375 \nQ 21.484375 74.21875 34.8125 74.21875 \nQ 48.046875 74.21875 54.921875 69.40625 \nQ 61.8125 64.59375 61.8125 55.328125 \nQ 61.8125 49.125 58.421875 44.96875 \nQ 55.03125 40.828125 48.390625 38.8125 \nQ 55.8125 36.765625 59.59375 32.15625 \nQ 63.375 27.546875 63.375 20.515625 \nQ 63.375 9.671875 56.171875 4.125 \nQ 48.96875 -1.421875 34.8125 -1.421875 \nQ 20.609375 -1.421875 13.359375 4.125 \nQ 6.109375 9.671875 6.109375 20.515625 \nQ 6.109375 27.546875 9.890625 32.15625 \nQ 13.671875 36.765625 21.09375 38.8125 \nz\nM 25.484375 53.421875 \nQ 25.484375 49.078125 27.90625 46.734375 \nQ 30.328125 44.390625 34.8125 44.390625 \nQ 39.203125 44.390625 41.59375 46.734375 \nQ 44 49.078125 44 53.421875 \nQ 44 57.765625 41.59375 60.078125 \nQ 39.203125 62.40625 34.8125 62.40625 \nQ 30.328125 62.40625 27.90625 60.0625 \nQ 25.484375 57.71875 25.484375 53.421875 \nz\n\" id=\"DejaVuSans-Bold-56\"/>\n     <path d=\"M 8.015625 -13.1875 \nQ 14.265625 -1.5625 17.390625 9.515625 \nQ 20.515625 20.609375 20.515625 31.390625 \nQ 20.515625 42.1875 17.390625 53.25 \nQ 14.265625 64.3125 8.015625 75.875 \nL 22.515625 75.875 \nQ 29.9375 63.921875 33.515625 52.953125 \nQ 37.109375 42 37.109375 31.296875 \nQ 37.109375 20.609375 33.546875 9.734375 \nQ 29.984375 -1.125 22.515625 -13.1875 \nz\n\" id=\"DejaVuSans-Bold-41\"/>\n    </defs>\n    <use xlink:href=\"#DejaVuSans-Bold-84\"/>\n    <use x=\"54.962891\" xlink:href=\"#DejaVuSans-Bold-111\"/>\n    <use x=\"123.664062\" xlink:href=\"#DejaVuSans-Bold-116\"/>\n    <use x=\"171.466797\" xlink:href=\"#DejaVuSans-Bold-97\"/>\n    <use x=\"238.947266\" xlink:href=\"#DejaVuSans-Bold-108\"/>\n    <use x=\"273.224609\" xlink:href=\"#DejaVuSans-Bold-32\"/>\n    <use x=\"308.039062\" xlink:href=\"#DejaVuSans-Bold-71\"/>\n    <use x=\"390.119141\" xlink:href=\"#DejaVuSans-Bold-68\"/>\n    <use x=\"473.126953\" xlink:href=\"#DejaVuSans-Bold-80\"/>\n    <use x=\"546.417969\" xlink:href=\"#DejaVuSans-Bold-32\"/>\n    <use x=\"581.232422\" xlink:href=\"#DejaVuSans-Bold-102\"/>\n    <use x=\"624.738281\" xlink:href=\"#DejaVuSans-Bold-111\"/>\n    <use x=\"693.439453\" xlink:href=\"#DejaVuSans-Bold-114\"/>\n    <use x=\"742.755859\" xlink:href=\"#DejaVuSans-Bold-32\"/>\n    <use x=\"777.570312\" xlink:href=\"#DejaVuSans-Bold-68\"/>\n    <use x=\"860.578125\" xlink:href=\"#DejaVuSans-Bold-105\"/>\n    <use x=\"894.855469\" xlink:href=\"#DejaVuSans-Bold-114\"/>\n    <use x=\"944.171875\" xlink:href=\"#DejaVuSans-Bold-101\"/>\n    <use x=\"1011.994141\" xlink:href=\"#DejaVuSans-Bold-99\"/>\n    <use x=\"1071.271484\" xlink:href=\"#DejaVuSans-Bold-116\"/>\n    <use x=\"1119.074219\" xlink:href=\"#DejaVuSans-Bold-32\"/>\n    <use x=\"1153.888672\" xlink:href=\"#DejaVuSans-Bold-67\"/>\n    <use x=\"1227.277344\" xlink:href=\"#DejaVuSans-Bold-97\"/>\n    <use x=\"1294.757812\" xlink:href=\"#DejaVuSans-Bold-110\"/>\n    <use x=\"1365.949219\" xlink:href=\"#DejaVuSans-Bold-110\"/>\n    <use x=\"1437.140625\" xlink:href=\"#DejaVuSans-Bold-97\"/>\n    <use x=\"1504.621094\" xlink:href=\"#DejaVuSans-Bold-98\"/>\n    <use x=\"1576.203125\" xlink:href=\"#DejaVuSans-Bold-105\"/>\n    <use x=\"1610.480469\" xlink:href=\"#DejaVuSans-Bold-115\"/>\n    <use x=\"1670.001953\" xlink:href=\"#DejaVuSans-Bold-32\"/>\n    <use x=\"1704.816406\" xlink:href=\"#DejaVuSans-Bold-82\"/>\n    <use x=\"1781.818359\" xlink:href=\"#DejaVuSans-Bold-101\"/>\n    <use x=\"1849.640625\" xlink:href=\"#DejaVuSans-Bold-108\"/>\n    <use x=\"1883.917969\" xlink:href=\"#DejaVuSans-Bold-97\"/>\n    <use x=\"1951.398438\" xlink:href=\"#DejaVuSans-Bold-116\"/>\n    <use x=\"1999.201172\" xlink:href=\"#DejaVuSans-Bold-101\"/>\n    <use x=\"2067.023438\" xlink:href=\"#DejaVuSans-Bold-100\"/>\n    <use x=\"2138.605469\" xlink:href=\"#DejaVuSans-Bold-32\"/>\n    <use x=\"2173.419922\" xlink:href=\"#DejaVuSans-Bold-73\"/>\n    <use x=\"2210.626953\" xlink:href=\"#DejaVuSans-Bold-110\"/>\n    <use x=\"2281.818359\" xlink:href=\"#DejaVuSans-Bold-100\"/>\n    <use x=\"2353.400391\" xlink:href=\"#DejaVuSans-Bold-117\"/>\n    <use x=\"2424.591797\" xlink:href=\"#DejaVuSans-Bold-115\"/>\n    <use x=\"2484.113281\" xlink:href=\"#DejaVuSans-Bold-116\"/>\n    <use x=\"2531.916016\" xlink:href=\"#DejaVuSans-Bold-114\"/>\n    <use x=\"2581.232422\" xlink:href=\"#DejaVuSans-Bold-105\"/>\n    <use x=\"2615.509766\" xlink:href=\"#DejaVuSans-Bold-101\"/>\n    <use x=\"2683.332031\" xlink:href=\"#DejaVuSans-Bold-115\"/>\n    <use x=\"2742.853516\" xlink:href=\"#DejaVuSans-Bold-32\"/>\n    <use x=\"2777.667969\" xlink:href=\"#DejaVuSans-Bold-40\"/>\n    <use x=\"2823.371094\" xlink:href=\"#DejaVuSans-Bold-50\"/>\n    <use x=\"2892.951172\" xlink:href=\"#DejaVuSans-Bold-48\"/>\n    <use x=\"2962.53125\" xlink:href=\"#DejaVuSans-Bold-49\"/>\n    <use x=\"3032.111328\" xlink:href=\"#DejaVuSans-Bold-48\"/>\n    <use x=\"3101.691406\" xlink:href=\"#DejaVuSans-Bold-32\"/>\n    <use x=\"3136.505859\" xlink:href=\"#DejaVuSans-Bold-45\"/>\n    <use x=\"3178.009766\" xlink:href=\"#DejaVuSans-Bold-32\"/>\n    <use x=\"3212.824219\" xlink:href=\"#DejaVuSans-Bold-50\"/>\n    <use x=\"3282.404297\" xlink:href=\"#DejaVuSans-Bold-48\"/>\n    <use x=\"3351.984375\" xlink:href=\"#DejaVuSans-Bold-49\"/>\n    <use x=\"3421.564453\" xlink:href=\"#DejaVuSans-Bold-56\"/>\n    <use x=\"3491.144531\" xlink:href=\"#DejaVuSans-Bold-41\"/>\n   </g>\n  </g>\n </g>\n <defs>\n  <clipPath id=\"pf6bf65391c\">\n   <rect height=\"271.8\" width=\"446.4\" x=\"78.778125\" y=\"43.2\"/>\n  </clipPath>\n </defs>\n</svg>\n",
      "image/png": "[encoded data removed]"
     },
     "metadata": {
      "needs_background": "light"
     }
    }
   ],
   "source": [
    "#TOTAL COLORADO GDP BY COUNTY\n",
    "TotalGDP = pd.read_csv(\"../data/cleandata/COGDPbyCounties-Totals.csv\")\n",
    "TotalGDP.set_index(\"Location\", inplace=True)\n",
    "TotalGDP = TotalGDP.transpose()\n",
    "#TotalGDP.head(10)\n",
    "\n",
    "TotalGDP.T.plot.bar(stacked=True, figsize=(17,7), cmap=\"mako\")\n",
    "plt.suptitle('Colorado Gross Domestic Product by County', weight='bold')\n",
    "plt.ticklabel_format(style='plain', axis='y')"
   ]
  },
  {
   "cell_type": "code",
   "execution_count": 20,
   "metadata": {},
   "outputs": [
    {
     "output_type": "display_data",
     "data": {
      "text/plain": "<Figure size 576x360 with 1 Axes>",
      "image/svg+xml": "<?xml version=\"1.0\" encoding=\"utf-8\" standalone=\"no\"?>\n<!DOCTYPE svg PUBLIC \"-//W3C//DTD SVG 1.1//EN\"\n  \"http://www.w3.org/Graphics/SVG/1.1/DTD/svg11.dtd\">\n<!-- Created with matplotlib (https://matplotlib.org/) -->\n<svg height=\"352.55625pt\" version=\"1.1\" viewBox=\"0 0 538.740625 352.55625\" width=\"538.740625pt\" xmlns=\"http://www.w3.org/2000/svg\" xmlns:xlink=\"http://www.w3.org/1999/xlink\">\n <metadata>\n  <rdf:RDF xmlns:cc=\"http://creativecommons.org/ns#\" xmlns:dc=\"http://purl.org/dc/elements/1.1/\" xmlns:rdf=\"http://www.w3.org/1999/02/22-rdf-syntax-ns#\">\n   <cc:Work>\n    <dc:type rdf:resource=\"http://purl.org/dc/dcmitype/StillImage\"/>\n    <dc:date>2020-11-07T06:31:14.324238</dc:date>\n    <dc:format>image/svg+xml</dc:format>\n    <dc:creator>\n     <cc:Agent>\n      <dc:title>Matplotlib v3.3.1, https://matplotlib.org/</dc:title>\n     </cc:Agent>\n    </dc:creator>\n   </cc:Work>\n  </rdf:RDF>\n </metadata>\n <defs>\n  <style type=\"text/css\">*{stroke-linecap:butt;stroke-linejoin:round;}</style>\n </defs>\n <g id=\"figure_1\">\n  <g id=\"patch_1\">\n   <path d=\"M 0 352.55625 \nL 538.740625 352.55625 \nL 538.740625 0 \nL 0 0 \nz\n\" style=\"fill:none;\"/>\n  </g>\n  <g id=\"axes_1\">\n   <g id=\"patch_2\">\n    <path d=\"M 85.140625 315 \nL 531.540625 315 \nL 531.540625 43.2 \nL 85.140625 43.2 \nz\n\" style=\"fill:#ffffff;\"/>\n   </g>\n   <g id=\"matplotlib.axis_1\">\n    <g id=\"xtick_1\">\n     <g id=\"line2d_1\">\n      <path clip-path=\"url(#pa0c0fbd88f)\" d=\"M 105.431534 315 \nL 105.431534 43.2 \n\" style=\"fill:none;stroke:#b0b0b0;stroke-linecap:square;stroke-width:0.8;\"/>\n     </g>\n     <g id=\"line2d_2\">\n      <defs>\n       <path d=\"M 0 0 \nL 0 3.5 \n\" id=\"me133d53349\" style=\"stroke:#000000;stroke-width:0.8;\"/>\n      </defs>\n      <g>\n       <use style=\"stroke:#000000;stroke-width:0.8;\" x=\"105.431534\" xlink:href=\"#me133d53349\" y=\"315\"/>\n      </g>\n     </g>\n     <g id=\"text_1\">\n      <!-- 2010 -->\n      <g transform=\"translate(92.706534 329.598437)scale(0.1 -0.1)\">\n       <defs>\n        <path d=\"M 19.1875 8.296875 \nL 53.609375 8.296875 \nL 53.609375 0 \nL 7.328125 0 \nL 7.328125 8.296875 \nQ 12.9375 14.109375 22.625 23.890625 \nQ 32.328125 33.6875 34.8125 36.53125 \nQ 39.546875 41.84375 41.421875 45.53125 \nQ 43.3125 49.21875 43.3125 52.78125 \nQ 43.3125 58.59375 39.234375 62.25 \nQ 35.15625 65.921875 28.609375 65.921875 \nQ 23.96875 65.921875 18.8125 64.3125 \nQ 13.671875 62.703125 7.8125 59.421875 \nL 7.8125 69.390625 \nQ 13.765625 71.78125 18.9375 73 \nQ 24.125 74.21875 28.421875 74.21875 \nQ 39.75 74.21875 46.484375 68.546875 \nQ 53.21875 62.890625 53.21875 53.421875 \nQ 53.21875 48.921875 51.53125 44.890625 \nQ 49.859375 40.875 45.40625 35.40625 \nQ 44.1875 33.984375 37.640625 27.21875 \nQ 31.109375 20.453125 19.1875 8.296875 \nz\n\" id=\"DejaVuSans-50\"/>\n        <path d=\"M 31.78125 66.40625 \nQ 24.171875 66.40625 20.328125 58.90625 \nQ 16.5 51.421875 16.5 36.375 \nQ 16.5 21.390625 20.328125 13.890625 \nQ 24.171875 6.390625 31.78125 6.390625 \nQ 39.453125 6.390625 43.28125 13.890625 \nQ 47.125 21.390625 47.125 36.375 \nQ 47.125 51.421875 43.28125 58.90625 \nQ 39.453125 66.40625 31.78125 66.40625 \nz\nM 31.78125 74.21875 \nQ 44.046875 74.21875 50.515625 64.515625 \nQ 56.984375 54.828125 56.984375 36.375 \nQ 56.984375 17.96875 50.515625 8.265625 \nQ 44.046875 -1.421875 31.78125 -1.421875 \nQ 19.53125 -1.421875 13.0625 8.265625 \nQ 6.59375 17.96875 6.59375 36.375 \nQ 6.59375 54.828125 13.0625 64.515625 \nQ 19.53125 74.21875 31.78125 74.21875 \nz\n\" id=\"DejaVuSans-48\"/>\n        <path d=\"M 12.40625 8.296875 \nL 28.515625 8.296875 \nL 28.515625 63.921875 \nL 10.984375 60.40625 \nL 10.984375 69.390625 \nL 28.421875 72.90625 \nL 38.28125 72.90625 \nL 38.28125 8.296875 \nL 54.390625 8.296875 \nL 54.390625 0 \nL 12.40625 0 \nz\n\" id=\"DejaVuSans-49\"/>\n       </defs>\n       <use xlink:href=\"#DejaVuSans-50\"/>\n       <use x=\"63.623047\" xlink:href=\"#DejaVuSans-48\"/>\n       <use x=\"127.246094\" xlink:href=\"#DejaVuSans-49\"/>\n       <use x=\"190.869141\" xlink:href=\"#DejaVuSans-48\"/>\n      </g>\n     </g>\n    </g>\n    <g id=\"xtick_2\">\n     <g id=\"line2d_3\">\n      <path clip-path=\"url(#pa0c0fbd88f)\" d=\"M 156.158807 315 \nL 156.158807 43.2 \n\" style=\"fill:none;stroke:#b0b0b0;stroke-linecap:square;stroke-width:0.8;\"/>\n     </g>\n     <g id=\"line2d_4\">\n      <g>\n       <use style=\"stroke:#000000;stroke-width:0.8;\" x=\"156.158807\" xlink:href=\"#me133d53349\" y=\"315\"/>\n      </g>\n     </g>\n     <g id=\"text_2\">\n      <!-- 2011 -->\n      <g transform=\"translate(143.433807 329.598437)scale(0.1 -0.1)\">\n       <use xlink:href=\"#DejaVuSans-50\"/>\n       <use x=\"63.623047\" xlink:href=\"#DejaVuSans-48\"/>\n       <use x=\"127.246094\" xlink:href=\"#DejaVuSans-49\"/>\n       <use x=\"190.869141\" xlink:href=\"#DejaVuSans-49\"/>\n      </g>\n     </g>\n    </g>\n    <g id=\"xtick_3\">\n     <g id=\"line2d_5\">\n      <path clip-path=\"url(#pa0c0fbd88f)\" d=\"M 206.88608 315 \nL 206.88608 43.2 \n\" style=\"fill:none;stroke:#b0b0b0;stroke-linecap:square;stroke-width:0.8;\"/>\n     </g>\n     <g id=\"line2d_6\">\n      <g>\n       <use style=\"stroke:#000000;stroke-width:0.8;\" x=\"206.88608\" xlink:href=\"#me133d53349\" y=\"315\"/>\n      </g>\n     </g>\n     <g id=\"text_3\">\n      <!-- 2012 -->\n      <g transform=\"translate(194.16108 329.598437)scale(0.1 -0.1)\">\n       <use xlink:href=\"#DejaVuSans-50\"/>\n       <use x=\"63.623047\" xlink:href=\"#DejaVuSans-48\"/>\n       <use x=\"127.246094\" xlink:href=\"#DejaVuSans-49\"/>\n       <use x=\"190.869141\" xlink:href=\"#DejaVuSans-50\"/>\n      </g>\n     </g>\n    </g>\n    <g id=\"xtick_4\">\n     <g id=\"line2d_7\">\n      <path clip-path=\"url(#pa0c0fbd88f)\" d=\"M 257.613352 315 \nL 257.613352 43.2 \n\" style=\"fill:none;stroke:#b0b0b0;stroke-linecap:square;stroke-width:0.8;\"/>\n     </g>\n     <g id=\"line2d_8\">\n      <g>\n       <use style=\"stroke:#000000;stroke-width:0.8;\" x=\"257.613352\" xlink:href=\"#me133d53349\" y=\"315\"/>\n      </g>\n     </g>\n     <g id=\"text_4\">\n      <!-- 2013 -->\n      <g transform=\"translate(244.888352 329.598437)scale(0.1 -0.1)\">\n       <defs>\n        <path d=\"M 40.578125 39.3125 \nQ 47.65625 37.796875 51.625 33 \nQ 55.609375 28.21875 55.609375 21.1875 \nQ 55.609375 10.40625 48.1875 4.484375 \nQ 40.765625 -1.421875 27.09375 -1.421875 \nQ 22.515625 -1.421875 17.65625 -0.515625 \nQ 12.796875 0.390625 7.625 2.203125 \nL 7.625 11.71875 \nQ 11.71875 9.328125 16.59375 8.109375 \nQ 21.484375 6.890625 26.8125 6.890625 \nQ 36.078125 6.890625 40.9375 10.546875 \nQ 45.796875 14.203125 45.796875 21.1875 \nQ 45.796875 27.640625 41.28125 31.265625 \nQ 36.765625 34.90625 28.71875 34.90625 \nL 20.21875 34.90625 \nL 20.21875 43.015625 \nL 29.109375 43.015625 \nQ 36.375 43.015625 40.234375 45.921875 \nQ 44.09375 48.828125 44.09375 54.296875 \nQ 44.09375 59.90625 40.109375 62.90625 \nQ 36.140625 65.921875 28.71875 65.921875 \nQ 24.65625 65.921875 20.015625 65.03125 \nQ 15.375 64.15625 9.8125 62.3125 \nL 9.8125 71.09375 \nQ 15.4375 72.65625 20.34375 73.4375 \nQ 25.25 74.21875 29.59375 74.21875 \nQ 40.828125 74.21875 47.359375 69.109375 \nQ 53.90625 64.015625 53.90625 55.328125 \nQ 53.90625 49.265625 50.4375 45.09375 \nQ 46.96875 40.921875 40.578125 39.3125 \nz\n\" id=\"DejaVuSans-51\"/>\n       </defs>\n       <use xlink:href=\"#DejaVuSans-50\"/>\n       <use x=\"63.623047\" xlink:href=\"#DejaVuSans-48\"/>\n       <use x=\"127.246094\" xlink:href=\"#DejaVuSans-49\"/>\n       <use x=\"190.869141\" xlink:href=\"#DejaVuSans-51\"/>\n      </g>\n     </g>\n    </g>\n    <g id=\"xtick_5\">\n     <g id=\"line2d_9\">\n      <path clip-path=\"url(#pa0c0fbd88f)\" d=\"M 308.340625 315 \nL 308.340625 43.2 \n\" style=\"fill:none;stroke:#b0b0b0;stroke-linecap:square;stroke-width:0.8;\"/>\n     </g>\n     <g id=\"line2d_10\">\n      <g>\n       <use style=\"stroke:#000000;stroke-width:0.8;\" x=\"308.340625\" xlink:href=\"#me133d53349\" y=\"315\"/>\n      </g>\n     </g>\n     <g id=\"text_5\">\n      <!-- 2014 -->\n      <g transform=\"translate(295.615625 329.598437)scale(0.1 -0.1)\">\n       <defs>\n        <path d=\"M 37.796875 64.3125 \nL 12.890625 25.390625 \nL 37.796875 25.390625 \nz\nM 35.203125 72.90625 \nL 47.609375 72.90625 \nL 47.609375 25.390625 \nL 58.015625 25.390625 \nL 58.015625 17.1875 \nL 47.609375 17.1875 \nL 47.609375 0 \nL 37.796875 0 \nL 37.796875 17.1875 \nL 4.890625 17.1875 \nL 4.890625 26.703125 \nz\n\" id=\"DejaVuSans-52\"/>\n       </defs>\n       <use xlink:href=\"#DejaVuSans-50\"/>\n       <use x=\"63.623047\" xlink:href=\"#DejaVuSans-48\"/>\n       <use x=\"127.246094\" xlink:href=\"#DejaVuSans-49\"/>\n       <use x=\"190.869141\" xlink:href=\"#DejaVuSans-52\"/>\n      </g>\n     </g>\n    </g>\n    <g id=\"xtick_6\">\n     <g id=\"line2d_11\">\n      <path clip-path=\"url(#pa0c0fbd88f)\" d=\"M 359.067898 315 \nL 359.067898 43.2 \n\" style=\"fill:none;stroke:#b0b0b0;stroke-linecap:square;stroke-width:0.8;\"/>\n     </g>\n     <g id=\"line2d_12\">\n      <g>\n       <use style=\"stroke:#000000;stroke-width:0.8;\" x=\"359.067898\" xlink:href=\"#me133d53349\" y=\"315\"/>\n      </g>\n     </g>\n     <g id=\"text_6\">\n      <!-- 2015 -->\n      <g transform=\"translate(346.342898 329.598437)scale(0.1 -0.1)\">\n       <defs>\n        <path d=\"M 10.796875 72.90625 \nL 49.515625 72.90625 \nL 49.515625 64.59375 \nL 19.828125 64.59375 \nL 19.828125 46.734375 \nQ 21.96875 47.46875 24.109375 47.828125 \nQ 26.265625 48.1875 28.421875 48.1875 \nQ 40.625 48.1875 47.75 41.5 \nQ 54.890625 34.8125 54.890625 23.390625 \nQ 54.890625 11.625 47.5625 5.09375 \nQ 40.234375 -1.421875 26.90625 -1.421875 \nQ 22.3125 -1.421875 17.546875 -0.640625 \nQ 12.796875 0.140625 7.71875 1.703125 \nL 7.71875 11.625 \nQ 12.109375 9.234375 16.796875 8.0625 \nQ 21.484375 6.890625 26.703125 6.890625 \nQ 35.15625 6.890625 40.078125 11.328125 \nQ 45.015625 15.765625 45.015625 23.390625 \nQ 45.015625 31 40.078125 35.4375 \nQ 35.15625 39.890625 26.703125 39.890625 \nQ 22.75 39.890625 18.8125 39.015625 \nQ 14.890625 38.140625 10.796875 36.28125 \nz\n\" id=\"DejaVuSans-53\"/>\n       </defs>\n       <use xlink:href=\"#DejaVuSans-50\"/>\n       <use x=\"63.623047\" xlink:href=\"#DejaVuSans-48\"/>\n       <use x=\"127.246094\" xlink:href=\"#DejaVuSans-49\"/>\n       <use x=\"190.869141\" xlink:href=\"#DejaVuSans-53\"/>\n      </g>\n     </g>\n    </g>\n    <g id=\"xtick_7\">\n     <g id=\"line2d_13\">\n      <path clip-path=\"url(#pa0c0fbd88f)\" d=\"M 409.79517 315 \nL 409.79517 43.2 \n\" style=\"fill:none;stroke:#b0b0b0;stroke-linecap:square;stroke-width:0.8;\"/>\n     </g>\n     <g id=\"line2d_14\">\n      <g>\n       <use style=\"stroke:#000000;stroke-width:0.8;\" x=\"409.79517\" xlink:href=\"#me133d53349\" y=\"315\"/>\n      </g>\n     </g>\n     <g id=\"text_7\">\n      <!-- 2016 -->\n      <g transform=\"translate(397.07017 329.598437)scale(0.1 -0.1)\">\n       <defs>\n        <path d=\"M 33.015625 40.375 \nQ 26.375 40.375 22.484375 35.828125 \nQ 18.609375 31.296875 18.609375 23.390625 \nQ 18.609375 15.53125 22.484375 10.953125 \nQ 26.375 6.390625 33.015625 6.390625 \nQ 39.65625 6.390625 43.53125 10.953125 \nQ 47.40625 15.53125 47.40625 23.390625 \nQ 47.40625 31.296875 43.53125 35.828125 \nQ 39.65625 40.375 33.015625 40.375 \nz\nM 52.59375 71.296875 \nL 52.59375 62.3125 \nQ 48.875 64.0625 45.09375 64.984375 \nQ 41.3125 65.921875 37.59375 65.921875 \nQ 27.828125 65.921875 22.671875 59.328125 \nQ 17.53125 52.734375 16.796875 39.40625 \nQ 19.671875 43.65625 24.015625 45.921875 \nQ 28.375 48.1875 33.59375 48.1875 \nQ 44.578125 48.1875 50.953125 41.515625 \nQ 57.328125 34.859375 57.328125 23.390625 \nQ 57.328125 12.15625 50.6875 5.359375 \nQ 44.046875 -1.421875 33.015625 -1.421875 \nQ 20.359375 -1.421875 13.671875 8.265625 \nQ 6.984375 17.96875 6.984375 36.375 \nQ 6.984375 53.65625 15.1875 63.9375 \nQ 23.390625 74.21875 37.203125 74.21875 \nQ 40.921875 74.21875 44.703125 73.484375 \nQ 48.484375 72.75 52.59375 71.296875 \nz\n\" id=\"DejaVuSans-54\"/>\n       </defs>\n       <use xlink:href=\"#DejaVuSans-50\"/>\n       <use x=\"63.623047\" xlink:href=\"#DejaVuSans-48\"/>\n       <use x=\"127.246094\" xlink:href=\"#DejaVuSans-49\"/>\n       <use x=\"190.869141\" xlink:href=\"#DejaVuSans-54\"/>\n      </g>\n     </g>\n    </g>\n    <g id=\"xtick_8\">\n     <g id=\"line2d_15\">\n      <path clip-path=\"url(#pa0c0fbd88f)\" d=\"M 460.522443 315 \nL 460.522443 43.2 \n\" style=\"fill:none;stroke:#b0b0b0;stroke-linecap:square;stroke-width:0.8;\"/>\n     </g>\n     <g id=\"line2d_16\">\n      <g>\n       <use style=\"stroke:#000000;stroke-width:0.8;\" x=\"460.522443\" xlink:href=\"#me133d53349\" y=\"315\"/>\n      </g>\n     </g>\n     <g id=\"text_8\">\n      <!-- 2017 -->\n      <g transform=\"translate(447.797443 329.598437)scale(0.1 -0.1)\">\n       <defs>\n        <path d=\"M 8.203125 72.90625 \nL 55.078125 72.90625 \nL 55.078125 68.703125 \nL 28.609375 0 \nL 18.3125 0 \nL 43.21875 64.59375 \nL 8.203125 64.59375 \nz\n\" id=\"DejaVuSans-55\"/>\n       </defs>\n       <use xlink:href=\"#DejaVuSans-50\"/>\n       <use x=\"63.623047\" xlink:href=\"#DejaVuSans-48\"/>\n       <use x=\"127.246094\" xlink:href=\"#DejaVuSans-49\"/>\n       <use x=\"190.869141\" xlink:href=\"#DejaVuSans-55\"/>\n      </g>\n     </g>\n    </g>\n    <g id=\"xtick_9\">\n     <g id=\"line2d_17\">\n      <path clip-path=\"url(#pa0c0fbd88f)\" d=\"M 511.249716 315 \nL 511.249716 43.2 \n\" style=\"fill:none;stroke:#b0b0b0;stroke-linecap:square;stroke-width:0.8;\"/>\n     </g>\n     <g id=\"line2d_18\">\n      <g>\n       <use style=\"stroke:#000000;stroke-width:0.8;\" x=\"511.249716\" xlink:href=\"#me133d53349\" y=\"315\"/>\n      </g>\n     </g>\n     <g id=\"text_9\">\n      <!-- 2018 -->\n      <g transform=\"translate(498.524716 329.598437)scale(0.1 -0.1)\">\n       <defs>\n        <path d=\"M 31.78125 34.625 \nQ 24.75 34.625 20.71875 30.859375 \nQ 16.703125 27.09375 16.703125 20.515625 \nQ 16.703125 13.921875 20.71875 10.15625 \nQ 24.75 6.390625 31.78125 6.390625 \nQ 38.8125 6.390625 42.859375 10.171875 \nQ 46.921875 13.96875 46.921875 20.515625 \nQ 46.921875 27.09375 42.890625 30.859375 \nQ 38.875 34.625 31.78125 34.625 \nz\nM 21.921875 38.8125 \nQ 15.578125 40.375 12.03125 44.71875 \nQ 8.5 49.078125 8.5 55.328125 \nQ 8.5 64.0625 14.71875 69.140625 \nQ 20.953125 74.21875 31.78125 74.21875 \nQ 42.671875 74.21875 48.875 69.140625 \nQ 55.078125 64.0625 55.078125 55.328125 \nQ 55.078125 49.078125 51.53125 44.71875 \nQ 48 40.375 41.703125 38.8125 \nQ 48.828125 37.15625 52.796875 32.3125 \nQ 56.78125 27.484375 56.78125 20.515625 \nQ 56.78125 9.90625 50.3125 4.234375 \nQ 43.84375 -1.421875 31.78125 -1.421875 \nQ 19.734375 -1.421875 13.25 4.234375 \nQ 6.78125 9.90625 6.78125 20.515625 \nQ 6.78125 27.484375 10.78125 32.3125 \nQ 14.796875 37.15625 21.921875 38.8125 \nz\nM 18.3125 54.390625 \nQ 18.3125 48.734375 21.84375 45.5625 \nQ 25.390625 42.390625 31.78125 42.390625 \nQ 38.140625 42.390625 41.71875 45.5625 \nQ 45.3125 48.734375 45.3125 54.390625 \nQ 45.3125 60.0625 41.71875 63.234375 \nQ 38.140625 66.40625 31.78125 66.40625 \nQ 25.390625 66.40625 21.84375 63.234375 \nQ 18.3125 60.0625 18.3125 54.390625 \nz\n\" id=\"DejaVuSans-56\"/>\n       </defs>\n       <use xlink:href=\"#DejaVuSans-50\"/>\n       <use x=\"63.623047\" xlink:href=\"#DejaVuSans-48\"/>\n       <use x=\"127.246094\" xlink:href=\"#DejaVuSans-49\"/>\n       <use x=\"190.869141\" xlink:href=\"#DejaVuSans-56\"/>\n      </g>\n     </g>\n    </g>\n    <g id=\"text_10\">\n     <!-- Year -->\n     <g transform=\"translate(297.753125 343.276562)scale(0.1 -0.1)\">\n      <defs>\n       <path d=\"M -0.203125 72.90625 \nL 10.40625 72.90625 \nL 30.609375 42.921875 \nL 50.6875 72.90625 \nL 61.28125 72.90625 \nL 35.5 34.71875 \nL 35.5 0 \nL 25.59375 0 \nL 25.59375 34.71875 \nz\n\" id=\"DejaVuSans-89\"/>\n       <path d=\"M 56.203125 29.59375 \nL 56.203125 25.203125 \nL 14.890625 25.203125 \nQ 15.484375 15.921875 20.484375 11.0625 \nQ 25.484375 6.203125 34.421875 6.203125 \nQ 39.59375 6.203125 44.453125 7.46875 \nQ 49.3125 8.734375 54.109375 11.28125 \nL 54.109375 2.78125 \nQ 49.265625 0.734375 44.1875 -0.34375 \nQ 39.109375 -1.421875 33.890625 -1.421875 \nQ 20.796875 -1.421875 13.15625 6.1875 \nQ 5.515625 13.8125 5.515625 26.8125 \nQ 5.515625 40.234375 12.765625 48.109375 \nQ 20.015625 56 32.328125 56 \nQ 43.359375 56 49.78125 48.890625 \nQ 56.203125 41.796875 56.203125 29.59375 \nz\nM 47.21875 32.234375 \nQ 47.125 39.59375 43.09375 43.984375 \nQ 39.0625 48.390625 32.421875 48.390625 \nQ 24.90625 48.390625 20.390625 44.140625 \nQ 15.875 39.890625 15.1875 32.171875 \nz\n\" id=\"DejaVuSans-101\"/>\n       <path d=\"M 34.28125 27.484375 \nQ 23.390625 27.484375 19.1875 25 \nQ 14.984375 22.515625 14.984375 16.5 \nQ 14.984375 11.71875 18.140625 8.90625 \nQ 21.296875 6.109375 26.703125 6.109375 \nQ 34.1875 6.109375 38.703125 11.40625 \nQ 43.21875 16.703125 43.21875 25.484375 \nL 43.21875 27.484375 \nz\nM 52.203125 31.203125 \nL 52.203125 0 \nL 43.21875 0 \nL 43.21875 8.296875 \nQ 40.140625 3.328125 35.546875 0.953125 \nQ 30.953125 -1.421875 24.3125 -1.421875 \nQ 15.921875 -1.421875 10.953125 3.296875 \nQ 6 8.015625 6 15.921875 \nQ 6 25.140625 12.171875 29.828125 \nQ 18.359375 34.515625 30.609375 34.515625 \nL 43.21875 34.515625 \nL 43.21875 35.40625 \nQ 43.21875 41.609375 39.140625 45 \nQ 35.0625 48.390625 27.6875 48.390625 \nQ 23 48.390625 18.546875 47.265625 \nQ 14.109375 46.140625 10.015625 43.890625 \nL 10.015625 52.203125 \nQ 14.9375 54.109375 19.578125 55.046875 \nQ 24.21875 56 28.609375 56 \nQ 40.484375 56 46.34375 49.84375 \nQ 52.203125 43.703125 52.203125 31.203125 \nz\n\" id=\"DejaVuSans-97\"/>\n       <path d=\"M 41.109375 46.296875 \nQ 39.59375 47.171875 37.8125 47.578125 \nQ 36.03125 48 33.890625 48 \nQ 26.265625 48 22.1875 43.046875 \nQ 18.109375 38.09375 18.109375 28.8125 \nL 18.109375 0 \nL 9.078125 0 \nL 9.078125 54.6875 \nL 18.109375 54.6875 \nL 18.109375 46.1875 \nQ 20.953125 51.171875 25.484375 53.578125 \nQ 30.03125 56 36.53125 56 \nQ 37.453125 56 38.578125 55.875 \nQ 39.703125 55.765625 41.0625 55.515625 \nz\n\" id=\"DejaVuSans-114\"/>\n      </defs>\n      <use xlink:href=\"#DejaVuSans-89\"/>\n      <use x=\"47.833984\" xlink:href=\"#DejaVuSans-101\"/>\n      <use x=\"109.357422\" xlink:href=\"#DejaVuSans-97\"/>\n      <use x=\"170.636719\" xlink:href=\"#DejaVuSans-114\"/>\n     </g>\n    </g>\n   </g>\n   <g id=\"matplotlib.axis_2\">\n    <g id=\"ytick_1\">\n     <g id=\"line2d_19\">\n      <path clip-path=\"url(#pa0c0fbd88f)\" d=\"M 85.140625 302.870252 \nL 531.540625 302.870252 \n\" style=\"fill:none;stroke:#b0b0b0;stroke-linecap:square;stroke-width:0.8;\"/>\n     </g>\n     <g id=\"line2d_20\">\n      <defs>\n       <path d=\"M 0 0 \nL -3.5 0 \n\" id=\"m73ff5f0672\" style=\"stroke:#000000;stroke-width:0.8;\"/>\n      </defs>\n      <g>\n       <use style=\"stroke:#000000;stroke-width:0.8;\" x=\"85.140625\" xlink:href=\"#m73ff5f0672\" y=\"302.870252\"/>\n      </g>\n     </g>\n     <g id=\"text_11\">\n      <!-- 460000000 -->\n      <g transform=\"translate(20.878125 306.669471)scale(0.1 -0.1)\">\n       <use xlink:href=\"#DejaVuSans-52\"/>\n       <use x=\"63.623047\" xlink:href=\"#DejaVuSans-54\"/>\n       <use x=\"127.246094\" xlink:href=\"#DejaVuSans-48\"/>\n       <use x=\"190.869141\" xlink:href=\"#DejaVuSans-48\"/>\n       <use x=\"254.492188\" xlink:href=\"#DejaVuSans-48\"/>\n       <use x=\"318.115234\" xlink:href=\"#DejaVuSans-48\"/>\n       <use x=\"381.738281\" xlink:href=\"#DejaVuSans-48\"/>\n       <use x=\"445.361328\" xlink:href=\"#DejaVuSans-48\"/>\n       <use x=\"508.984375\" xlink:href=\"#DejaVuSans-48\"/>\n      </g>\n     </g>\n    </g>\n    <g id=\"ytick_2\">\n     <g id=\"line2d_21\">\n      <path clip-path=\"url(#pa0c0fbd88f)\" d=\"M 85.140625 266.81842 \nL 531.540625 266.81842 \n\" style=\"fill:none;stroke:#b0b0b0;stroke-linecap:square;stroke-width:0.8;\"/>\n     </g>\n     <g id=\"line2d_22\">\n      <g>\n       <use style=\"stroke:#000000;stroke-width:0.8;\" x=\"85.140625\" xlink:href=\"#m73ff5f0672\" y=\"266.81842\"/>\n      </g>\n     </g>\n     <g id=\"text_12\">\n      <!-- 480000000 -->\n      <g transform=\"translate(20.878125 270.617639)scale(0.1 -0.1)\">\n       <use xlink:href=\"#DejaVuSans-52\"/>\n       <use x=\"63.623047\" xlink:href=\"#DejaVuSans-56\"/>\n       <use x=\"127.246094\" xlink:href=\"#DejaVuSans-48\"/>\n       <use x=\"190.869141\" xlink:href=\"#DejaVuSans-48\"/>\n       <use x=\"254.492188\" xlink:href=\"#DejaVuSans-48\"/>\n       <use x=\"318.115234\" xlink:href=\"#DejaVuSans-48\"/>\n       <use x=\"381.738281\" xlink:href=\"#DejaVuSans-48\"/>\n       <use x=\"445.361328\" xlink:href=\"#DejaVuSans-48\"/>\n       <use x=\"508.984375\" xlink:href=\"#DejaVuSans-48\"/>\n      </g>\n     </g>\n    </g>\n    <g id=\"ytick_3\">\n     <g id=\"line2d_23\">\n      <path clip-path=\"url(#pa0c0fbd88f)\" d=\"M 85.140625 230.766589 \nL 531.540625 230.766589 \n\" style=\"fill:none;stroke:#b0b0b0;stroke-linecap:square;stroke-width:0.8;\"/>\n     </g>\n     <g id=\"line2d_24\">\n      <g>\n       <use style=\"stroke:#000000;stroke-width:0.8;\" x=\"85.140625\" xlink:href=\"#m73ff5f0672\" y=\"230.766589\"/>\n      </g>\n     </g>\n     <g id=\"text_13\">\n      <!-- 500000000 -->\n      <g transform=\"translate(20.878125 234.565807)scale(0.1 -0.1)\">\n       <use xlink:href=\"#DejaVuSans-53\"/>\n       <use x=\"63.623047\" xlink:href=\"#DejaVuSans-48\"/>\n       <use x=\"127.246094\" xlink:href=\"#DejaVuSans-48\"/>\n       <use x=\"190.869141\" xlink:href=\"#DejaVuSans-48\"/>\n       <use x=\"254.492188\" xlink:href=\"#DejaVuSans-48\"/>\n       <use x=\"318.115234\" xlink:href=\"#DejaVuSans-48\"/>\n       <use x=\"381.738281\" xlink:href=\"#DejaVuSans-48\"/>\n       <use x=\"445.361328\" xlink:href=\"#DejaVuSans-48\"/>\n       <use x=\"508.984375\" xlink:href=\"#DejaVuSans-48\"/>\n      </g>\n     </g>\n    </g>\n    <g id=\"ytick_4\">\n     <g id=\"line2d_25\">\n      <path clip-path=\"url(#pa0c0fbd88f)\" d=\"M 85.140625 194.714757 \nL 531.540625 194.714757 \n\" style=\"fill:none;stroke:#b0b0b0;stroke-linecap:square;stroke-width:0.8;\"/>\n     </g>\n     <g id=\"line2d_26\">\n      <g>\n       <use style=\"stroke:#000000;stroke-width:0.8;\" x=\"85.140625\" xlink:href=\"#m73ff5f0672\" y=\"194.714757\"/>\n      </g>\n     </g>\n     <g id=\"text_14\">\n      <!-- 520000000 -->\n      <g transform=\"translate(20.878125 198.513976)scale(0.1 -0.1)\">\n       <use xlink:href=\"#DejaVuSans-53\"/>\n       <use x=\"63.623047\" xlink:href=\"#DejaVuSans-50\"/>\n       <use x=\"127.246094\" xlink:href=\"#DejaVuSans-48\"/>\n       <use x=\"190.869141\" xlink:href=\"#DejaVuSans-48\"/>\n       <use x=\"254.492188\" xlink:href=\"#DejaVuSans-48\"/>\n       <use x=\"318.115234\" xlink:href=\"#DejaVuSans-48\"/>\n       <use x=\"381.738281\" xlink:href=\"#DejaVuSans-48\"/>\n       <use x=\"445.361328\" xlink:href=\"#DejaVuSans-48\"/>\n       <use x=\"508.984375\" xlink:href=\"#DejaVuSans-48\"/>\n      </g>\n     </g>\n    </g>\n    <g id=\"ytick_5\">\n     <g id=\"line2d_27\">\n      <path clip-path=\"url(#pa0c0fbd88f)\" d=\"M 85.140625 158.662925 \nL 531.540625 158.662925 \n\" style=\"fill:none;stroke:#b0b0b0;stroke-linecap:square;stroke-width:0.8;\"/>\n     </g>\n     <g id=\"line2d_28\">\n      <g>\n       <use style=\"stroke:#000000;stroke-width:0.8;\" x=\"85.140625\" xlink:href=\"#m73ff5f0672\" y=\"158.662925\"/>\n      </g>\n     </g>\n     <g id=\"text_15\">\n      <!-- 540000000 -->\n      <g transform=\"translate(20.878125 162.462144)scale(0.1 -0.1)\">\n       <use xlink:href=\"#DejaVuSans-53\"/>\n       <use x=\"63.623047\" xlink:href=\"#DejaVuSans-52\"/>\n       <use x=\"127.246094\" xlink:href=\"#DejaVuSans-48\"/>\n       <use x=\"190.869141\" xlink:href=\"#DejaVuSans-48\"/>\n       <use x=\"254.492188\" xlink:href=\"#DejaVuSans-48\"/>\n       <use x=\"318.115234\" xlink:href=\"#DejaVuSans-48\"/>\n       <use x=\"381.738281\" xlink:href=\"#DejaVuSans-48\"/>\n       <use x=\"445.361328\" xlink:href=\"#DejaVuSans-48\"/>\n       <use x=\"508.984375\" xlink:href=\"#DejaVuSans-48\"/>\n      </g>\n     </g>\n    </g>\n    <g id=\"ytick_6\">\n     <g id=\"line2d_29\">\n      <path clip-path=\"url(#pa0c0fbd88f)\" d=\"M 85.140625 122.611093 \nL 531.540625 122.611093 \n\" style=\"fill:none;stroke:#b0b0b0;stroke-linecap:square;stroke-width:0.8;\"/>\n     </g>\n     <g id=\"line2d_30\">\n      <g>\n       <use style=\"stroke:#000000;stroke-width:0.8;\" x=\"85.140625\" xlink:href=\"#m73ff5f0672\" y=\"122.611093\"/>\n      </g>\n     </g>\n     <g id=\"text_16\">\n      <!-- 560000000 -->\n      <g transform=\"translate(20.878125 126.410312)scale(0.1 -0.1)\">\n       <use xlink:href=\"#DejaVuSans-53\"/>\n       <use x=\"63.623047\" xlink:href=\"#DejaVuSans-54\"/>\n       <use x=\"127.246094\" xlink:href=\"#DejaVuSans-48\"/>\n       <use x=\"190.869141\" xlink:href=\"#DejaVuSans-48\"/>\n       <use x=\"254.492188\" xlink:href=\"#DejaVuSans-48\"/>\n       <use x=\"318.115234\" xlink:href=\"#DejaVuSans-48\"/>\n       <use x=\"381.738281\" xlink:href=\"#DejaVuSans-48\"/>\n       <use x=\"445.361328\" xlink:href=\"#DejaVuSans-48\"/>\n       <use x=\"508.984375\" xlink:href=\"#DejaVuSans-48\"/>\n      </g>\n     </g>\n    </g>\n    <g id=\"ytick_7\">\n     <g id=\"line2d_31\">\n      <path clip-path=\"url(#pa0c0fbd88f)\" d=\"M 85.140625 86.559261 \nL 531.540625 86.559261 \n\" style=\"fill:none;stroke:#b0b0b0;stroke-linecap:square;stroke-width:0.8;\"/>\n     </g>\n     <g id=\"line2d_32\">\n      <g>\n       <use style=\"stroke:#000000;stroke-width:0.8;\" x=\"85.140625\" xlink:href=\"#m73ff5f0672\" y=\"86.559261\"/>\n      </g>\n     </g>\n     <g id=\"text_17\">\n      <!-- 580000000 -->\n      <g transform=\"translate(20.878125 90.35848)scale(0.1 -0.1)\">\n       <use xlink:href=\"#DejaVuSans-53\"/>\n       <use x=\"63.623047\" xlink:href=\"#DejaVuSans-56\"/>\n       <use x=\"127.246094\" xlink:href=\"#DejaVuSans-48\"/>\n       <use x=\"190.869141\" xlink:href=\"#DejaVuSans-48\"/>\n       <use x=\"254.492188\" xlink:href=\"#DejaVuSans-48\"/>\n       <use x=\"318.115234\" xlink:href=\"#DejaVuSans-48\"/>\n       <use x=\"381.738281\" xlink:href=\"#DejaVuSans-48\"/>\n       <use x=\"445.361328\" xlink:href=\"#DejaVuSans-48\"/>\n       <use x=\"508.984375\" xlink:href=\"#DejaVuSans-48\"/>\n      </g>\n     </g>\n    </g>\n    <g id=\"ytick_8\">\n     <g id=\"line2d_33\">\n      <path clip-path=\"url(#pa0c0fbd88f)\" d=\"M 85.140625 50.50743 \nL 531.540625 50.50743 \n\" style=\"fill:none;stroke:#b0b0b0;stroke-linecap:square;stroke-width:0.8;\"/>\n     </g>\n     <g id=\"line2d_34\">\n      <g>\n       <use style=\"stroke:#000000;stroke-width:0.8;\" x=\"85.140625\" xlink:href=\"#m73ff5f0672\" y=\"50.50743\"/>\n      </g>\n     </g>\n     <g id=\"text_18\">\n      <!-- 600000000 -->\n      <g transform=\"translate(20.878125 54.306648)scale(0.1 -0.1)\">\n       <use xlink:href=\"#DejaVuSans-54\"/>\n       <use x=\"63.623047\" xlink:href=\"#DejaVuSans-48\"/>\n       <use x=\"127.246094\" xlink:href=\"#DejaVuSans-48\"/>\n       <use x=\"190.869141\" xlink:href=\"#DejaVuSans-48\"/>\n       <use x=\"254.492188\" xlink:href=\"#DejaVuSans-48\"/>\n       <use x=\"318.115234\" xlink:href=\"#DejaVuSans-48\"/>\n       <use x=\"381.738281\" xlink:href=\"#DejaVuSans-48\"/>\n       <use x=\"445.361328\" xlink:href=\"#DejaVuSans-48\"/>\n       <use x=\"508.984375\" xlink:href=\"#DejaVuSans-48\"/>\n      </g>\n     </g>\n    </g>\n    <g id=\"text_19\">\n     <!-- Dollar Amount -->\n     <g transform=\"translate(14.798437 215.14375)rotate(-90)scale(0.1 -0.1)\">\n      <defs>\n       <path d=\"M 19.671875 64.796875 \nL 19.671875 8.109375 \nL 31.59375 8.109375 \nQ 46.6875 8.109375 53.6875 14.9375 \nQ 60.6875 21.78125 60.6875 36.53125 \nQ 60.6875 51.171875 53.6875 57.984375 \nQ 46.6875 64.796875 31.59375 64.796875 \nz\nM 9.8125 72.90625 \nL 30.078125 72.90625 \nQ 51.265625 72.90625 61.171875 64.09375 \nQ 71.09375 55.28125 71.09375 36.53125 \nQ 71.09375 17.671875 61.125 8.828125 \nQ 51.171875 0 30.078125 0 \nL 9.8125 0 \nz\n\" id=\"DejaVuSans-68\"/>\n       <path d=\"M 30.609375 48.390625 \nQ 23.390625 48.390625 19.1875 42.75 \nQ 14.984375 37.109375 14.984375 27.296875 \nQ 14.984375 17.484375 19.15625 11.84375 \nQ 23.34375 6.203125 30.609375 6.203125 \nQ 37.796875 6.203125 41.984375 11.859375 \nQ 46.1875 17.53125 46.1875 27.296875 \nQ 46.1875 37.015625 41.984375 42.703125 \nQ 37.796875 48.390625 30.609375 48.390625 \nz\nM 30.609375 56 \nQ 42.328125 56 49.015625 48.375 \nQ 55.71875 40.765625 55.71875 27.296875 \nQ 55.71875 13.875 49.015625 6.21875 \nQ 42.328125 -1.421875 30.609375 -1.421875 \nQ 18.84375 -1.421875 12.171875 6.21875 \nQ 5.515625 13.875 5.515625 27.296875 \nQ 5.515625 40.765625 12.171875 48.375 \nQ 18.84375 56 30.609375 56 \nz\n\" id=\"DejaVuSans-111\"/>\n       <path d=\"M 9.421875 75.984375 \nL 18.40625 75.984375 \nL 18.40625 0 \nL 9.421875 0 \nz\n\" id=\"DejaVuSans-108\"/>\n       <path id=\"DejaVuSans-32\"/>\n       <path d=\"M 34.1875 63.1875 \nL 20.796875 26.90625 \nL 47.609375 26.90625 \nz\nM 28.609375 72.90625 \nL 39.796875 72.90625 \nL 67.578125 0 \nL 57.328125 0 \nL 50.6875 18.703125 \nL 17.828125 18.703125 \nL 11.1875 0 \nL 0.78125 0 \nz\n\" id=\"DejaVuSans-65\"/>\n       <path d=\"M 52 44.1875 \nQ 55.375 50.25 60.0625 53.125 \nQ 64.75 56 71.09375 56 \nQ 79.640625 56 84.28125 50.015625 \nQ 88.921875 44.046875 88.921875 33.015625 \nL 88.921875 0 \nL 79.890625 0 \nL 79.890625 32.71875 \nQ 79.890625 40.578125 77.09375 44.375 \nQ 74.3125 48.1875 68.609375 48.1875 \nQ 61.625 48.1875 57.5625 43.546875 \nQ 53.515625 38.921875 53.515625 30.90625 \nL 53.515625 0 \nL 44.484375 0 \nL 44.484375 32.71875 \nQ 44.484375 40.625 41.703125 44.40625 \nQ 38.921875 48.1875 33.109375 48.1875 \nQ 26.21875 48.1875 22.15625 43.53125 \nQ 18.109375 38.875 18.109375 30.90625 \nL 18.109375 0 \nL 9.078125 0 \nL 9.078125 54.6875 \nL 18.109375 54.6875 \nL 18.109375 46.1875 \nQ 21.1875 51.21875 25.484375 53.609375 \nQ 29.78125 56 35.6875 56 \nQ 41.65625 56 45.828125 52.96875 \nQ 50 49.953125 52 44.1875 \nz\n\" id=\"DejaVuSans-109\"/>\n       <path d=\"M 8.5 21.578125 \nL 8.5 54.6875 \nL 17.484375 54.6875 \nL 17.484375 21.921875 \nQ 17.484375 14.15625 20.5 10.265625 \nQ 23.53125 6.390625 29.59375 6.390625 \nQ 36.859375 6.390625 41.078125 11.03125 \nQ 45.3125 15.671875 45.3125 23.6875 \nL 45.3125 54.6875 \nL 54.296875 54.6875 \nL 54.296875 0 \nL 45.3125 0 \nL 45.3125 8.40625 \nQ 42.046875 3.421875 37.71875 1 \nQ 33.40625 -1.421875 27.6875 -1.421875 \nQ 18.265625 -1.421875 13.375 4.4375 \nQ 8.5 10.296875 8.5 21.578125 \nz\nM 31.109375 56 \nz\n\" id=\"DejaVuSans-117\"/>\n       <path d=\"M 54.890625 33.015625 \nL 54.890625 0 \nL 45.90625 0 \nL 45.90625 32.71875 \nQ 45.90625 40.484375 42.875 44.328125 \nQ 39.84375 48.1875 33.796875 48.1875 \nQ 26.515625 48.1875 22.3125 43.546875 \nQ 18.109375 38.921875 18.109375 30.90625 \nL 18.109375 0 \nL 9.078125 0 \nL 9.078125 54.6875 \nL 18.109375 54.6875 \nL 18.109375 46.1875 \nQ 21.34375 51.125 25.703125 53.5625 \nQ 30.078125 56 35.796875 56 \nQ 45.21875 56 50.046875 50.171875 \nQ 54.890625 44.34375 54.890625 33.015625 \nz\n\" id=\"DejaVuSans-110\"/>\n       <path d=\"M 18.3125 70.21875 \nL 18.3125 54.6875 \nL 36.8125 54.6875 \nL 36.8125 47.703125 \nL 18.3125 47.703125 \nL 18.3125 18.015625 \nQ 18.3125 11.328125 20.140625 9.421875 \nQ 21.96875 7.515625 27.59375 7.515625 \nL 36.8125 7.515625 \nL 36.8125 0 \nL 27.59375 0 \nQ 17.1875 0 13.234375 3.875 \nQ 9.28125 7.765625 9.28125 18.015625 \nL 9.28125 47.703125 \nL 2.6875 47.703125 \nL 2.6875 54.6875 \nL 9.28125 54.6875 \nL 9.28125 70.21875 \nz\n\" id=\"DejaVuSans-116\"/>\n      </defs>\n      <use xlink:href=\"#DejaVuSans-68\"/>\n      <use x=\"77.001953\" xlink:href=\"#DejaVuSans-111\"/>\n      <use x=\"138.183594\" xlink:href=\"#DejaVuSans-108\"/>\n      <use x=\"165.966797\" xlink:href=\"#DejaVuSans-108\"/>\n      <use x=\"193.75\" xlink:href=\"#DejaVuSans-97\"/>\n      <use x=\"255.029297\" xlink:href=\"#DejaVuSans-114\"/>\n      <use x=\"296.142578\" xlink:href=\"#DejaVuSans-32\"/>\n      <use x=\"327.929688\" xlink:href=\"#DejaVuSans-65\"/>\n      <use x=\"396.337891\" xlink:href=\"#DejaVuSans-109\"/>\n      <use x=\"493.75\" xlink:href=\"#DejaVuSans-111\"/>\n      <use x=\"554.931641\" xlink:href=\"#DejaVuSans-117\"/>\n      <use x=\"618.310547\" xlink:href=\"#DejaVuSans-110\"/>\n      <use x=\"681.689453\" xlink:href=\"#DejaVuSans-116\"/>\n     </g>\n    </g>\n   </g>\n   <g id=\"line2d_35\">\n    <path clip-path=\"url(#pa0c0fbd88f)\" d=\"M 105.431534 302.645455 \nL 156.158807 288.36708 \nL 206.88608 270.127438 \nL 257.613352 243.30614 \nL 308.340625 200.111743 \nL 359.067898 154.778344 \nL 409.79517 134.872222 \nL 460.522443 92.653887 \nL 511.249716 55.554545 \n\" style=\"fill:none;stroke:#1f77b4;stroke-linecap:square;stroke-width:1.5;\"/>\n    <defs>\n     <path d=\"M 0 1.5 \nC 0.397805 1.5 0.77937 1.341951 1.06066 1.06066 \nC 1.341951 0.77937 1.5 0.397805 1.5 0 \nC 1.5 -0.397805 1.341951 -0.77937 1.06066 -1.06066 \nC 0.77937 -1.341951 0.397805 -1.5 0 -1.5 \nC -0.397805 -1.5 -0.77937 -1.341951 -1.06066 -1.06066 \nC -1.341951 -0.77937 -1.5 -0.397805 -1.5 0 \nC -1.5 0.397805 -1.341951 0.77937 -1.06066 1.06066 \nC -0.77937 1.341951 -0.397805 1.5 0 1.5 \nz\n\" id=\"m5168117aaa\" style=\"stroke:#1f77b4;\"/>\n    </defs>\n    <g clip-path=\"url(#pa0c0fbd88f)\">\n     <use style=\"fill:#1f77b4;stroke:#1f77b4;\" x=\"105.431534\" xlink:href=\"#m5168117aaa\" y=\"302.645455\"/>\n     <use style=\"fill:#1f77b4;stroke:#1f77b4;\" x=\"156.158807\" xlink:href=\"#m5168117aaa\" y=\"288.36708\"/>\n     <use style=\"fill:#1f77b4;stroke:#1f77b4;\" x=\"206.88608\" xlink:href=\"#m5168117aaa\" y=\"270.127438\"/>\n     <use style=\"fill:#1f77b4;stroke:#1f77b4;\" x=\"257.613352\" xlink:href=\"#m5168117aaa\" y=\"243.30614\"/>\n     <use style=\"fill:#1f77b4;stroke:#1f77b4;\" x=\"308.340625\" xlink:href=\"#m5168117aaa\" y=\"200.111743\"/>\n     <use style=\"fill:#1f77b4;stroke:#1f77b4;\" x=\"359.067898\" xlink:href=\"#m5168117aaa\" y=\"154.778344\"/>\n     <use style=\"fill:#1f77b4;stroke:#1f77b4;\" x=\"409.79517\" xlink:href=\"#m5168117aaa\" y=\"134.872222\"/>\n     <use style=\"fill:#1f77b4;stroke:#1f77b4;\" x=\"460.522443\" xlink:href=\"#m5168117aaa\" y=\"92.653887\"/>\n     <use style=\"fill:#1f77b4;stroke:#1f77b4;\" x=\"511.249716\" xlink:href=\"#m5168117aaa\" y=\"55.554545\"/>\n    </g>\n   </g>\n   <g id=\"patch_3\">\n    <path d=\"M 85.140625 315 \nL 85.140625 43.2 \n\" style=\"fill:none;stroke:#000000;stroke-linecap:square;stroke-linejoin:miter;stroke-width:0.8;\"/>\n   </g>\n   <g id=\"patch_4\">\n    <path d=\"M 531.540625 315 \nL 531.540625 43.2 \n\" style=\"fill:none;stroke:#000000;stroke-linecap:square;stroke-linejoin:miter;stroke-width:0.8;\"/>\n   </g>\n   <g id=\"patch_5\">\n    <path d=\"M 85.140625 315 \nL 531.540625 315 \n\" style=\"fill:none;stroke:#000000;stroke-linecap:square;stroke-linejoin:miter;stroke-width:0.8;\"/>\n   </g>\n   <g id=\"patch_6\">\n    <path d=\"M 85.140625 43.2 \nL 531.540625 43.2 \n\" style=\"fill:none;stroke:#000000;stroke-linecap:square;stroke-linejoin:miter;stroke-width:0.8;\"/>\n   </g>\n  </g>\n  <g id=\"text_20\">\n   <!-- Total Gross Domestic Product in Colorado (2010 - 2018) -->\n   <g transform=\"translate(113.112813 16.318125)scale(0.12 -0.12)\">\n    <defs>\n     <path d=\"M 0.484375 72.90625 \nL 67.671875 72.90625 \nL 67.671875 58.6875 \nL 43.5 58.6875 \nL 43.5 0 \nL 24.703125 0 \nL 24.703125 58.6875 \nL 0.484375 58.6875 \nz\n\" id=\"DejaVuSans-Bold-84\"/>\n     <path d=\"M 34.421875 43.5 \nQ 28.609375 43.5 25.5625 39.328125 \nQ 22.515625 35.15625 22.515625 27.296875 \nQ 22.515625 19.4375 25.5625 15.25 \nQ 28.609375 11.078125 34.421875 11.078125 \nQ 40.140625 11.078125 43.15625 15.25 \nQ 46.1875 19.4375 46.1875 27.296875 \nQ 46.1875 35.15625 43.15625 39.328125 \nQ 40.140625 43.5 34.421875 43.5 \nz\nM 34.421875 56 \nQ 48.53125 56 56.46875 48.375 \nQ 64.40625 40.765625 64.40625 27.296875 \nQ 64.40625 13.8125 56.46875 6.1875 \nQ 48.53125 -1.421875 34.421875 -1.421875 \nQ 20.265625 -1.421875 12.28125 6.1875 \nQ 4.296875 13.8125 4.296875 27.296875 \nQ 4.296875 40.765625 12.28125 48.375 \nQ 20.265625 56 34.421875 56 \nz\n\" id=\"DejaVuSans-Bold-111\"/>\n     <path d=\"M 27.484375 70.21875 \nL 27.484375 54.6875 \nL 45.515625 54.6875 \nL 45.515625 42.1875 \nL 27.484375 42.1875 \nL 27.484375 19 \nQ 27.484375 15.1875 29 13.84375 \nQ 30.515625 12.5 35.015625 12.5 \nL 44 12.5 \nL 44 0 \nL 29 0 \nQ 18.65625 0 14.328125 4.3125 \nQ 10.015625 8.640625 10.015625 19 \nL 10.015625 42.1875 \nL 1.3125 42.1875 \nL 1.3125 54.6875 \nL 10.015625 54.6875 \nL 10.015625 70.21875 \nz\n\" id=\"DejaVuSans-Bold-116\"/>\n     <path d=\"M 32.90625 24.609375 \nQ 27.4375 24.609375 24.671875 22.75 \nQ 21.921875 20.90625 21.921875 17.28125 \nQ 21.921875 13.96875 24.140625 12.078125 \nQ 26.375 10.203125 30.328125 10.203125 \nQ 35.25 10.203125 38.625 13.734375 \nQ 42 17.28125 42 22.609375 \nL 42 24.609375 \nz\nM 59.625 31.203125 \nL 59.625 0 \nL 42 0 \nL 42 8.109375 \nQ 38.484375 3.125 34.078125 0.84375 \nQ 29.6875 -1.421875 23.390625 -1.421875 \nQ 14.890625 -1.421875 9.59375 3.53125 \nQ 4.296875 8.5 4.296875 16.40625 \nQ 4.296875 26.03125 10.90625 30.515625 \nQ 17.53125 35.015625 31.6875 35.015625 \nL 42 35.015625 \nL 42 36.375 \nQ 42 40.53125 38.71875 42.453125 \nQ 35.453125 44.390625 28.515625 44.390625 \nQ 22.90625 44.390625 18.0625 43.265625 \nQ 13.234375 42.140625 9.078125 39.890625 \nL 9.078125 53.21875 \nQ 14.703125 54.59375 20.359375 55.296875 \nQ 26.03125 56 31.6875 56 \nQ 46.484375 56 53.046875 50.171875 \nQ 59.625 44.34375 59.625 31.203125 \nz\n\" id=\"DejaVuSans-Bold-97\"/>\n     <path d=\"M 8.40625 75.984375 \nL 25.875 75.984375 \nL 25.875 0 \nL 8.40625 0 \nz\n\" id=\"DejaVuSans-Bold-108\"/>\n     <path id=\"DejaVuSans-Bold-32\"/>\n     <path d=\"M 74.703125 5.421875 \nQ 67.671875 2 60.109375 0.28125 \nQ 52.546875 -1.421875 44.484375 -1.421875 \nQ 26.265625 -1.421875 15.625 8.765625 \nQ 4.984375 18.953125 4.984375 36.375 \nQ 4.984375 54 15.8125 64.109375 \nQ 26.65625 74.21875 45.515625 74.21875 \nQ 52.78125 74.21875 59.4375 72.84375 \nQ 66.109375 71.484375 72.015625 68.796875 \nL 72.015625 53.71875 \nQ 65.921875 57.171875 59.890625 58.875 \nQ 53.859375 60.59375 47.796875 60.59375 \nQ 36.578125 60.59375 30.5 54.3125 \nQ 24.421875 48.046875 24.421875 36.375 \nQ 24.421875 24.8125 30.28125 18.5 \nQ 36.140625 12.203125 46.921875 12.203125 \nQ 49.859375 12.203125 52.375 12.5625 \nQ 54.890625 12.9375 56.890625 13.71875 \nL 56.890625 27.875 \nL 45.40625 27.875 \nL 45.40625 40.484375 \nL 74.703125 40.484375 \nz\n\" id=\"DejaVuSans-Bold-71\"/>\n     <path d=\"M 49.03125 39.796875 \nQ 46.734375 40.875 44.453125 41.375 \nQ 42.1875 41.890625 39.890625 41.890625 \nQ 33.15625 41.890625 29.515625 37.5625 \nQ 25.875 33.25 25.875 25.203125 \nL 25.875 0 \nL 8.40625 0 \nL 8.40625 54.6875 \nL 25.875 54.6875 \nL 25.875 45.703125 \nQ 29.25 51.078125 33.609375 53.53125 \nQ 37.984375 56 44.09375 56 \nQ 44.96875 56 45.984375 55.921875 \nQ 47.015625 55.859375 48.96875 55.609375 \nz\n\" id=\"DejaVuSans-Bold-114\"/>\n     <path d=\"M 51.125 52.984375 \nL 51.125 39.703125 \nQ 45.515625 42.046875 40.28125 43.21875 \nQ 35.0625 44.390625 30.421875 44.390625 \nQ 25.4375 44.390625 23.015625 43.140625 \nQ 20.609375 41.890625 20.609375 39.3125 \nQ 20.609375 37.203125 22.4375 36.078125 \nQ 24.265625 34.96875 29 34.421875 \nL 32.078125 33.984375 \nQ 45.515625 32.28125 50.140625 28.375 \nQ 54.78125 24.46875 54.78125 16.109375 \nQ 54.78125 7.375 48.328125 2.96875 \nQ 41.890625 -1.421875 29.109375 -1.421875 \nQ 23.6875 -1.421875 17.890625 -0.5625 \nQ 12.109375 0.296875 6 2 \nL 6 15.28125 \nQ 11.234375 12.75 16.71875 11.46875 \nQ 22.21875 10.203125 27.875 10.203125 \nQ 33.015625 10.203125 35.59375 11.609375 \nQ 38.1875 13.03125 38.1875 15.828125 \nQ 38.1875 18.171875 36.40625 19.3125 \nQ 34.625 20.453125 29.296875 21.09375 \nL 26.21875 21.484375 \nQ 14.546875 22.953125 9.859375 26.90625 \nQ 5.171875 30.859375 5.171875 38.921875 \nQ 5.171875 47.609375 11.125 51.796875 \nQ 17.09375 56 29.390625 56 \nQ 34.234375 56 39.546875 55.265625 \nQ 44.875 54.546875 51.125 52.984375 \nz\n\" id=\"DejaVuSans-Bold-115\"/>\n     <path d=\"M 27.984375 58.6875 \nL 27.984375 14.203125 \nL 34.71875 14.203125 \nQ 46.234375 14.203125 52.3125 19.921875 \nQ 58.40625 25.640625 58.40625 36.53125 \nQ 58.40625 47.359375 52.34375 53.015625 \nQ 46.296875 58.6875 34.71875 58.6875 \nz\nM 9.1875 72.90625 \nL 29 72.90625 \nQ 45.609375 72.90625 53.734375 70.53125 \nQ 61.859375 68.171875 67.671875 62.5 \nQ 72.796875 57.5625 75.28125 51.109375 \nQ 77.78125 44.671875 77.78125 36.53125 \nQ 77.78125 28.265625 75.28125 21.796875 \nQ 72.796875 15.328125 67.671875 10.40625 \nQ 61.8125 4.734375 53.609375 2.359375 \nQ 45.40625 0 29 0 \nL 9.1875 0 \nz\n\" id=\"DejaVuSans-Bold-68\"/>\n     <path d=\"M 59.078125 45.609375 \nQ 62.40625 50.6875 66.96875 53.34375 \nQ 71.53125 56 77 56 \nQ 86.421875 56 91.359375 50.1875 \nQ 96.296875 44.390625 96.296875 33.296875 \nL 96.296875 0 \nL 78.71875 0 \nL 78.71875 28.515625 \nQ 78.765625 29.15625 78.78125 29.828125 \nQ 78.8125 30.515625 78.8125 31.78125 \nQ 78.8125 37.59375 77.09375 40.203125 \nQ 75.390625 42.828125 71.578125 42.828125 \nQ 66.609375 42.828125 63.890625 38.71875 \nQ 61.1875 34.625 61.078125 26.859375 \nL 61.078125 0 \nL 43.5 0 \nL 43.5 28.515625 \nQ 43.5 37.59375 41.9375 40.203125 \nQ 40.375 42.828125 36.375 42.828125 \nQ 31.34375 42.828125 28.609375 38.703125 \nQ 25.875 34.578125 25.875 26.90625 \nL 25.875 0 \nL 8.296875 0 \nL 8.296875 54.6875 \nL 25.875 54.6875 \nL 25.875 46.6875 \nQ 29.109375 51.3125 33.28125 53.65625 \nQ 37.453125 56 42.484375 56 \nQ 48.140625 56 52.484375 53.265625 \nQ 56.84375 50.53125 59.078125 45.609375 \nz\n\" id=\"DejaVuSans-Bold-109\"/>\n     <path d=\"M 62.984375 27.484375 \nL 62.984375 22.515625 \nL 22.125 22.515625 \nQ 22.75 16.359375 26.5625 13.28125 \nQ 30.375 10.203125 37.203125 10.203125 \nQ 42.71875 10.203125 48.5 11.84375 \nQ 54.296875 13.484375 60.40625 16.796875 \nL 60.40625 3.328125 \nQ 54.203125 0.984375 48 -0.21875 \nQ 41.796875 -1.421875 35.59375 -1.421875 \nQ 20.75 -1.421875 12.515625 6.125 \nQ 4.296875 13.671875 4.296875 27.296875 \nQ 4.296875 40.671875 12.375 48.328125 \nQ 20.453125 56 34.625 56 \nQ 47.515625 56 55.25 48.234375 \nQ 62.984375 40.484375 62.984375 27.484375 \nz\nM 45.015625 33.296875 \nQ 45.015625 38.28125 42.109375 41.328125 \nQ 39.203125 44.390625 34.515625 44.390625 \nQ 29.4375 44.390625 26.265625 41.53125 \nQ 23.09375 38.671875 22.3125 33.296875 \nz\n\" id=\"DejaVuSans-Bold-101\"/>\n     <path d=\"M 8.40625 54.6875 \nL 25.875 54.6875 \nL 25.875 0 \nL 8.40625 0 \nz\nM 8.40625 75.984375 \nL 25.875 75.984375 \nL 25.875 61.71875 \nL 8.40625 61.71875 \nz\n\" id=\"DejaVuSans-Bold-105\"/>\n     <path d=\"M 52.59375 52.984375 \nL 52.59375 38.71875 \nQ 49.03125 41.15625 45.4375 42.328125 \nQ 41.84375 43.5 37.984375 43.5 \nQ 30.671875 43.5 26.59375 39.234375 \nQ 22.515625 34.96875 22.515625 27.296875 \nQ 22.515625 19.625 26.59375 15.34375 \nQ 30.671875 11.078125 37.984375 11.078125 \nQ 42.09375 11.078125 45.78125 12.296875 \nQ 49.46875 13.53125 52.59375 15.921875 \nL 52.59375 1.609375 \nQ 48.484375 0.09375 44.265625 -0.65625 \nQ 40.046875 -1.421875 35.796875 -1.421875 \nQ 21 -1.421875 12.640625 6.171875 \nQ 4.296875 13.765625 4.296875 27.296875 \nQ 4.296875 40.828125 12.640625 48.40625 \nQ 21 56 35.796875 56 \nQ 40.09375 56 44.265625 55.25 \nQ 48.4375 54.5 52.59375 52.984375 \nz\n\" id=\"DejaVuSans-Bold-99\"/>\n     <path d=\"M 9.1875 72.90625 \nL 40.375 72.90625 \nQ 54.296875 72.90625 61.734375 66.71875 \nQ 69.1875 60.546875 69.1875 49.125 \nQ 69.1875 37.640625 61.734375 31.46875 \nQ 54.296875 25.296875 40.375 25.296875 \nL 27.984375 25.296875 \nL 27.984375 0 \nL 9.1875 0 \nz\nM 27.984375 59.28125 \nL 27.984375 38.921875 \nL 38.375 38.921875 \nQ 43.84375 38.921875 46.828125 41.578125 \nQ 49.8125 44.234375 49.8125 49.125 \nQ 49.8125 54 46.828125 56.640625 \nQ 43.84375 59.28125 38.375 59.28125 \nz\n\" id=\"DejaVuSans-Bold-80\"/>\n     <path d=\"M 45.609375 46.6875 \nL 45.609375 75.984375 \nL 63.1875 75.984375 \nL 63.1875 0 \nL 45.609375 0 \nL 45.609375 7.90625 \nQ 42 3.078125 37.640625 0.828125 \nQ 33.296875 -1.421875 27.59375 -1.421875 \nQ 17.484375 -1.421875 10.984375 6.609375 \nQ 4.5 14.65625 4.5 27.296875 \nQ 4.5 39.9375 10.984375 47.96875 \nQ 17.484375 56 27.59375 56 \nQ 33.25 56 37.625 53.734375 \nQ 42 51.46875 45.609375 46.6875 \nz\nM 34.078125 11.28125 \nQ 39.703125 11.28125 42.65625 15.375 \nQ 45.609375 19.484375 45.609375 27.296875 \nQ 45.609375 35.109375 42.65625 39.203125 \nQ 39.703125 43.3125 34.078125 43.3125 \nQ 28.515625 43.3125 25.5625 39.203125 \nQ 22.609375 35.109375 22.609375 27.296875 \nQ 22.609375 19.484375 25.5625 15.375 \nQ 28.515625 11.28125 34.078125 11.28125 \nz\n\" id=\"DejaVuSans-Bold-100\"/>\n     <path d=\"M 7.8125 21.296875 \nL 7.8125 54.6875 \nL 25.390625 54.6875 \nL 25.390625 49.21875 \nQ 25.390625 44.78125 25.34375 38.0625 \nQ 25.296875 31.34375 25.296875 29.109375 \nQ 25.296875 22.515625 25.640625 19.609375 \nQ 25.984375 16.703125 26.8125 15.375 \nQ 27.875 13.671875 29.609375 12.734375 \nQ 31.34375 11.8125 33.59375 11.8125 \nQ 39.0625 11.8125 42.1875 16.015625 \nQ 45.3125 20.21875 45.3125 27.6875 \nL 45.3125 54.6875 \nL 62.796875 54.6875 \nL 62.796875 0 \nL 45.3125 0 \nL 45.3125 7.90625 \nQ 41.359375 3.125 36.9375 0.84375 \nQ 32.515625 -1.421875 27.203125 -1.421875 \nQ 17.71875 -1.421875 12.765625 4.390625 \nQ 7.8125 10.203125 7.8125 21.296875 \nz\n\" id=\"DejaVuSans-Bold-117\"/>\n     <path d=\"M 63.375 33.296875 \nL 63.375 0 \nL 45.796875 0 \nL 45.796875 5.421875 \nL 45.796875 25.484375 \nQ 45.796875 32.5625 45.484375 35.25 \nQ 45.171875 37.9375 44.390625 39.203125 \nQ 43.359375 40.921875 41.59375 41.875 \nQ 39.84375 42.828125 37.59375 42.828125 \nQ 32.125 42.828125 29 38.59375 \nQ 25.875 34.375 25.875 26.90625 \nL 25.875 0 \nL 8.40625 0 \nL 8.40625 54.6875 \nL 25.875 54.6875 \nL 25.875 46.6875 \nQ 29.828125 51.46875 34.265625 53.734375 \nQ 38.71875 56 44.09375 56 \nQ 53.5625 56 58.46875 50.1875 \nQ 63.375 44.390625 63.375 33.296875 \nz\n\" id=\"DejaVuSans-Bold-110\"/>\n     <path d=\"M 67 4 \nQ 61.8125 1.3125 56.203125 -0.046875 \nQ 50.59375 -1.421875 44.484375 -1.421875 \nQ 26.265625 -1.421875 15.625 8.765625 \nQ 4.984375 18.953125 4.984375 36.375 \nQ 4.984375 53.859375 15.625 64.03125 \nQ 26.265625 74.21875 44.484375 74.21875 \nQ 50.59375 74.21875 56.203125 72.84375 \nQ 61.8125 71.484375 67 68.796875 \nL 67 53.71875 \nQ 61.765625 57.28125 56.6875 58.9375 \nQ 51.609375 60.59375 46 60.59375 \nQ 35.9375 60.59375 30.171875 54.140625 \nQ 24.421875 47.703125 24.421875 36.375 \nQ 24.421875 25.09375 30.171875 18.640625 \nQ 35.9375 12.203125 46 12.203125 \nQ 51.609375 12.203125 56.6875 13.859375 \nQ 61.765625 15.53125 67 19.09375 \nz\n\" id=\"DejaVuSans-Bold-67\"/>\n     <path d=\"M 37.703125 -13.1875 \nL 23.1875 -13.1875 \nQ 15.71875 -1.125 12.15625 9.734375 \nQ 8.59375 20.609375 8.59375 31.296875 \nQ 8.59375 42 12.171875 52.953125 \nQ 15.765625 63.921875 23.1875 75.875 \nL 37.703125 75.875 \nQ 31.453125 64.3125 28.328125 53.25 \nQ 25.203125 42.1875 25.203125 31.390625 \nQ 25.203125 20.609375 28.296875 9.515625 \nQ 31.390625 -1.5625 37.703125 -13.1875 \nz\n\" id=\"DejaVuSans-Bold-40\"/>\n     <path d=\"M 28.8125 13.8125 \nL 60.890625 13.8125 \nL 60.890625 0 \nL 7.90625 0 \nL 7.90625 13.8125 \nL 34.515625 37.3125 \nQ 38.09375 40.53125 39.796875 43.609375 \nQ 41.5 46.6875 41.5 50 \nQ 41.5 55.125 38.0625 58.25 \nQ 34.625 61.375 28.90625 61.375 \nQ 24.515625 61.375 19.28125 59.5 \nQ 14.0625 57.625 8.109375 53.90625 \nL 8.109375 69.921875 \nQ 14.453125 72.015625 20.65625 73.109375 \nQ 26.859375 74.21875 32.8125 74.21875 \nQ 45.90625 74.21875 53.15625 68.453125 \nQ 60.40625 62.703125 60.40625 52.390625 \nQ 60.40625 46.4375 57.328125 41.28125 \nQ 54.25 36.140625 44.390625 27.484375 \nz\n\" id=\"DejaVuSans-Bold-50\"/>\n     <path d=\"M 46 36.53125 \nQ 46 50.203125 43.4375 55.78125 \nQ 40.875 61.375 34.8125 61.375 \nQ 28.765625 61.375 26.171875 55.78125 \nQ 23.578125 50.203125 23.578125 36.53125 \nQ 23.578125 22.703125 26.171875 17.03125 \nQ 28.765625 11.375 34.8125 11.375 \nQ 40.828125 11.375 43.40625 17.03125 \nQ 46 22.703125 46 36.53125 \nz\nM 64.796875 36.375 \nQ 64.796875 18.265625 56.984375 8.421875 \nQ 49.171875 -1.421875 34.8125 -1.421875 \nQ 20.40625 -1.421875 12.59375 8.421875 \nQ 4.78125 18.265625 4.78125 36.375 \nQ 4.78125 54.546875 12.59375 64.375 \nQ 20.40625 74.21875 34.8125 74.21875 \nQ 49.171875 74.21875 56.984375 64.375 \nQ 64.796875 54.546875 64.796875 36.375 \nz\n\" id=\"DejaVuSans-Bold-48\"/>\n     <path d=\"M 11.71875 12.984375 \nL 28.328125 12.984375 \nL 28.328125 60.109375 \nL 11.28125 56.59375 \nL 11.28125 69.390625 \nL 28.21875 72.90625 \nL 46.09375 72.90625 \nL 46.09375 12.984375 \nL 62.703125 12.984375 \nL 62.703125 0 \nL 11.71875 0 \nz\n\" id=\"DejaVuSans-Bold-49\"/>\n     <path d=\"M 5.421875 35.890625 \nL 36.078125 35.890625 \nL 36.078125 21.6875 \nL 5.421875 21.6875 \nz\n\" id=\"DejaVuSans-Bold-45\"/>\n     <path d=\"M 34.8125 32.625 \nQ 29.546875 32.625 26.703125 29.734375 \nQ 23.875 26.859375 23.875 21.484375 \nQ 23.875 16.109375 26.703125 13.25 \nQ 29.546875 10.40625 34.8125 10.40625 \nQ 40.046875 10.40625 42.828125 13.25 \nQ 45.609375 16.109375 45.609375 21.484375 \nQ 45.609375 26.90625 42.828125 29.765625 \nQ 40.046875 32.625 34.8125 32.625 \nz\nM 21.09375 38.8125 \nQ 14.453125 40.828125 11.078125 44.96875 \nQ 7.71875 49.125 7.71875 55.328125 \nQ 7.71875 64.546875 14.59375 69.375 \nQ 21.484375 74.21875 34.8125 74.21875 \nQ 48.046875 74.21875 54.921875 69.40625 \nQ 61.8125 64.59375 61.8125 55.328125 \nQ 61.8125 49.125 58.421875 44.96875 \nQ 55.03125 40.828125 48.390625 38.8125 \nQ 55.8125 36.765625 59.59375 32.15625 \nQ 63.375 27.546875 63.375 20.515625 \nQ 63.375 9.671875 56.171875 4.125 \nQ 48.96875 -1.421875 34.8125 -1.421875 \nQ 20.609375 -1.421875 13.359375 4.125 \nQ 6.109375 9.671875 6.109375 20.515625 \nQ 6.109375 27.546875 9.890625 32.15625 \nQ 13.671875 36.765625 21.09375 38.8125 \nz\nM 25.484375 53.421875 \nQ 25.484375 49.078125 27.90625 46.734375 \nQ 30.328125 44.390625 34.8125 44.390625 \nQ 39.203125 44.390625 41.59375 46.734375 \nQ 44 49.078125 44 53.421875 \nQ 44 57.765625 41.59375 60.078125 \nQ 39.203125 62.40625 34.8125 62.40625 \nQ 30.328125 62.40625 27.90625 60.0625 \nQ 25.484375 57.71875 25.484375 53.421875 \nz\n\" id=\"DejaVuSans-Bold-56\"/>\n     <path d=\"M 8.015625 -13.1875 \nQ 14.265625 -1.5625 17.390625 9.515625 \nQ 20.515625 20.609375 20.515625 31.390625 \nQ 20.515625 42.1875 17.390625 53.25 \nQ 14.265625 64.3125 8.015625 75.875 \nL 22.515625 75.875 \nQ 29.9375 63.921875 33.515625 52.953125 \nQ 37.109375 42 37.109375 31.296875 \nQ 37.109375 20.609375 33.546875 9.734375 \nQ 29.984375 -1.125 22.515625 -13.1875 \nz\n\" id=\"DejaVuSans-Bold-41\"/>\n    </defs>\n    <use xlink:href=\"#DejaVuSans-Bold-84\"/>\n    <use x=\"54.962891\" xlink:href=\"#DejaVuSans-Bold-111\"/>\n    <use x=\"123.664062\" xlink:href=\"#DejaVuSans-Bold-116\"/>\n    <use x=\"171.466797\" xlink:href=\"#DejaVuSans-Bold-97\"/>\n    <use x=\"238.947266\" xlink:href=\"#DejaVuSans-Bold-108\"/>\n    <use x=\"273.224609\" xlink:href=\"#DejaVuSans-Bold-32\"/>\n    <use x=\"308.039062\" xlink:href=\"#DejaVuSans-Bold-71\"/>\n    <use x=\"390.119141\" xlink:href=\"#DejaVuSans-Bold-114\"/>\n    <use x=\"439.435547\" xlink:href=\"#DejaVuSans-Bold-111\"/>\n    <use x=\"508.136719\" xlink:href=\"#DejaVuSans-Bold-115\"/>\n    <use x=\"567.658203\" xlink:href=\"#DejaVuSans-Bold-115\"/>\n    <use x=\"627.179688\" xlink:href=\"#DejaVuSans-Bold-32\"/>\n    <use x=\"661.994141\" xlink:href=\"#DejaVuSans-Bold-68\"/>\n    <use x=\"745.001953\" xlink:href=\"#DejaVuSans-Bold-111\"/>\n    <use x=\"813.703125\" xlink:href=\"#DejaVuSans-Bold-109\"/>\n    <use x=\"917.902344\" xlink:href=\"#DejaVuSans-Bold-101\"/>\n    <use x=\"985.724609\" xlink:href=\"#DejaVuSans-Bold-115\"/>\n    <use x=\"1045.246094\" xlink:href=\"#DejaVuSans-Bold-116\"/>\n    <use x=\"1093.048828\" xlink:href=\"#DejaVuSans-Bold-105\"/>\n    <use x=\"1127.326172\" xlink:href=\"#DejaVuSans-Bold-99\"/>\n    <use x=\"1186.603516\" xlink:href=\"#DejaVuSans-Bold-32\"/>\n    <use x=\"1221.417969\" xlink:href=\"#DejaVuSans-Bold-80\"/>\n    <use x=\"1294.708984\" xlink:href=\"#DejaVuSans-Bold-114\"/>\n    <use x=\"1344.025391\" xlink:href=\"#DejaVuSans-Bold-111\"/>\n    <use x=\"1412.726562\" xlink:href=\"#DejaVuSans-Bold-100\"/>\n    <use x=\"1484.308594\" xlink:href=\"#DejaVuSans-Bold-117\"/>\n    <use x=\"1555.5\" xlink:href=\"#DejaVuSans-Bold-99\"/>\n    <use x=\"1614.777344\" xlink:href=\"#DejaVuSans-Bold-116\"/>\n    <use x=\"1662.580078\" xlink:href=\"#DejaVuSans-Bold-32\"/>\n    <use x=\"1697.394531\" xlink:href=\"#DejaVuSans-Bold-105\"/>\n    <use x=\"1731.671875\" xlink:href=\"#DejaVuSans-Bold-110\"/>\n    <use x=\"1802.863281\" xlink:href=\"#DejaVuSans-Bold-32\"/>\n    <use x=\"1837.677734\" xlink:href=\"#DejaVuSans-Bold-67\"/>\n    <use x=\"1911.066406\" xlink:href=\"#DejaVuSans-Bold-111\"/>\n    <use x=\"1979.767578\" xlink:href=\"#DejaVuSans-Bold-108\"/>\n    <use x=\"2014.044922\" xlink:href=\"#DejaVuSans-Bold-111\"/>\n    <use x=\"2082.746094\" xlink:href=\"#DejaVuSans-Bold-114\"/>\n    <use x=\"2132.0625\" xlink:href=\"#DejaVuSans-Bold-97\"/>\n    <use x=\"2199.542969\" xlink:href=\"#DejaVuSans-Bold-100\"/>\n    <use x=\"2271.125\" xlink:href=\"#DejaVuSans-Bold-111\"/>\n    <use x=\"2339.826172\" xlink:href=\"#DejaVuSans-Bold-32\"/>\n    <use x=\"2374.640625\" xlink:href=\"#DejaVuSans-Bold-40\"/>\n    <use x=\"2420.34375\" xlink:href=\"#DejaVuSans-Bold-50\"/>\n    <use x=\"2489.923828\" xlink:href=\"#DejaVuSans-Bold-48\"/>\n    <use x=\"2559.503906\" xlink:href=\"#DejaVuSans-Bold-49\"/>\n    <use x=\"2629.083984\" xlink:href=\"#DejaVuSans-Bold-48\"/>\n    <use x=\"2698.664062\" xlink:href=\"#DejaVuSans-Bold-32\"/>\n    <use x=\"2733.478516\" xlink:href=\"#DejaVuSans-Bold-45\"/>\n    <use x=\"2774.982422\" xlink:href=\"#DejaVuSans-Bold-32\"/>\n    <use x=\"2809.796875\" xlink:href=\"#DejaVuSans-Bold-50\"/>\n    <use x=\"2879.376953\" xlink:href=\"#DejaVuSans-Bold-48\"/>\n    <use x=\"2948.957031\" xlink:href=\"#DejaVuSans-Bold-49\"/>\n    <use x=\"3018.537109\" xlink:href=\"#DejaVuSans-Bold-56\"/>\n    <use x=\"3088.117188\" xlink:href=\"#DejaVuSans-Bold-41\"/>\n   </g>\n  </g>\n </g>\n <defs>\n  <clipPath id=\"pa0c0fbd88f\">\n   <rect height=\"271.8\" width=\"446.4\" x=\"85.140625\" y=\"43.2\"/>\n  </clipPath>\n </defs>\n</svg>\n",
      "image/png": "[encoded data removed]"
     },
     "metadata": {
      "needs_background": "light"
     }
    }
   ],
   "source": [
    "#Growth percentage by Industry\n",
    "\n",
    "GrowthIndustry = pd.read_csv(\"../data/cleandata/COGDPDetailed.csv\")\n",
    "\n",
    "GrowthIndustry['Total'] = GrowthIndustry.sum(axis=1)\n",
    "GrowthIndustry = GrowthIndustry[['Description', 'Total']]\n",
    "#GrowthIndustry.to_csv(\"../data/cleandata/COGDPDetailedwithTOTAL.csv\")\n",
    "\n",
    "#GrowthIndustry.head(10)\n",
    "\n",
    "plt.figure(figsize=(8,5))\n",
    "plt.plot(GrowthIndustry['Description'], GrowthIndustry['Total'], linestyle='-', marker='.')\n",
    "\n",
    "plt.suptitle('Total Gross Domestic Product in Colorado (2010 - 2018)', weight='bold')\n",
    "plt.xlabel('Year')\n",
    "plt.ylabel('Dollar Amount')\n",
    "plt.ticklabel_format(style='plain', axis='y')\n",
    "\n",
    "\n",
    "plt.grid()\n",
    "plt.show()\n",
    "plt.close()"
   ]
  },
  {
   "cell_type": "code",
   "execution_count": 108,
   "metadata": {},
   "outputs": [],
   "source": [
    "Arrests = pd.read_csv(\"../data/cleandata/FinalizedCrimeStats.csv\")\n",
    "#Arrests = Arrests.drop(columns=['Offense Type'])\n",
    "#Arrests = Arrests.groupby(['Year', 'County', 'latitude', 'longtitude']).sum()\n",
    "#Arrests['Total Crime'] = Arrests['Number of Arrests'] + Arrests['Number of Offenses']\n",
    "#Arrests.to_csv(\"../data/cleandata/FinalizedCrimeStats.csv\")\n",
    "\n",
    "#Arrests.head(3)"
   ]
  },
  {
   "cell_type": "code",
   "execution_count": 109,
   "metadata": {},
   "outputs": [
    {
     "output_type": "display_data",
     "data": {
      "application/vnd.plotly.v1+json": {
       "config": {
        "plotlyServerURL": "https://plot.ly"
       },
       "data": [
        {
         "hovertemplate": "<b>%{hovertext}</b><br><br>Total Crime=%{marker.size}<br>latitude=%{lat}<br>longtitude=%{lon}<br>Year=%{marker.color}<extra></extra>",
         "hovertext": [
          "Adams",
          "Alamosa",
          "Arapahoe",
          "Archuleta",
          "Baca",
          "Bent",
          "Boulder",
          "Broomfield",
          "Chaffee",
          "Cheyenne",
          "Clear Creek",
          "Conejos",
          "Custer",
          "Delta",
          "Denver",
          "Douglas",
          "Eagle",
          "El Paso",
          "Elbert",
          "Fremont",
          "Garfield",
          "Gilpin",
          "Grand",
          "Gunnison",
          "Hinsdale",
          "Huerfano",
          "Jackson",
          "Jefferson",
          "Kiowa",
          "Kit Carson",
          "La Plata",
          "Lake",
          "Larimer",
          "Las Animas",
          "Lincoln",
          "Logan",
          "Mesa",
          "Moffat",
          "Montezuma",
          "Montrose",
          "Morgan",
          "Otero",
          "Ouray",
          "Park",
          "Phillips",
          "Pitkin",
          "Prowers",
          "Pueblo",
          "Rio Blanco",
          "Rio Grande",
          "Routt",
          "Saguache",
          "San Juan",
          "San Miguel",
          "Sedgwick",
          "Summit",
          "Teller",
          "Washington",
          "Weld",
          "Yuma",
          "Adams",
          "Alamosa",
          "Arapahoe",
          "Archuleta",
          "Baca",
          "Bent",
          "Boulder",
          "Broomfield",
          "Chaffee",
          "Cheyenne",
          "Clear Creek",
          "Custer",
          "Delta",
          "Denver",
          "Dolores",
          "Douglas",
          "Eagle",
          "El Paso",
          "Elbert",
          "Fremont",
          "Garfield",
          "Gilpin",
          "Grand",
          "Gunnison",
          "Huerfano",
          "Jefferson",
          "Kiowa",
          "Kit Carson",
          "La Plata",
          "Lake",
          "Larimer",
          "Las Animas",
          "Logan",
          "Mesa",
          "Moffat",
          "Montezuma",
          "Montrose",
          "Morgan",
          "Otero",
          "Park",
          "Phillips",
          "Pitkin",
          "Prowers",
          "Pueblo",
          "Rio Blanco",
          "Rio Grande",
          "Routt",
          "San Juan",
          "Sedgwick",
          "Summit",
          "Teller",
          "Washington",
          "Weld",
          "Yuma",
          "Adams",
          "Alamosa",
          "Arapahoe",
          "Archuleta",
          "Baca",
          "Boulder",
          "Broomfield",
          "Chaffee",
          "Cheyenne",
          "Clear Creek",
          "Costilla",
          "Custer",
          "Delta",
          "Denver",
          "Dolores",
          "Douglas",
          "Eagle",
          "El Paso",
          "Elbert",
          "Fremont",
          "Garfield",
          "Gilpin",
          "Grand",
          "Gunnison",
          "Huerfano",
          "Jefferson",
          "Kit Carson",
          "La Plata",
          "Lake",
          "Larimer",
          "Las Animas",
          "Logan",
          "Mesa",
          "Mineral",
          "Moffat",
          "Montezuma",
          "Montrose",
          "Morgan",
          "Otero",
          "Ouray",
          "Park",
          "Pitkin",
          "Prowers",
          "Pueblo",
          "Rio Blanco",
          "Rio Grande",
          "Routt",
          "Saguache",
          "Sedgwick",
          "Summit",
          "Teller",
          "Washington",
          "Weld",
          "Adams",
          "Alamosa",
          "Arapahoe",
          "Archuleta",
          "Baca",
          "Bent",
          "Boulder",
          "Broomfield",
          "Chaffee",
          "Clear Creek",
          "Crowley",
          "Custer",
          "Delta",
          "Denver",
          "Douglas",
          "Eagle",
          "El Paso",
          "Elbert",
          "Fremont",
          "Garfield",
          "Gilpin",
          "Grand",
          "Gunnison",
          "Huerfano",
          "Jefferson",
          "Kit Carson",
          "La Plata",
          "Larimer",
          "Las Animas",
          "Lincoln",
          "Logan",
          "Mesa",
          "Moffat",
          "Montezuma",
          "Montrose",
          "Morgan",
          "Otero",
          "Ouray",
          "Park",
          "Phillips",
          "Pitkin",
          "Prowers",
          "Pueblo",
          "Rio Blanco",
          "Rio Grande",
          "Routt",
          "Saguache",
          "San Miguel",
          "Summit",
          "Teller",
          "Washington",
          "Weld",
          "Adams",
          "Alamosa",
          "Arapahoe",
          "Archuleta",
          "Baca",
          "Bent",
          "Boulder",
          "Broomfield",
          "Chaffee",
          "Clear Creek",
          "Custer",
          "Delta",
          "Denver",
          "Dolores",
          "Douglas",
          "Eagle",
          "El Paso",
          "Elbert",
          "Fremont",
          "Garfield",
          "Gilpin",
          "Grand",
          "Gunnison",
          "Hinsdale",
          "Huerfano",
          "Jefferson",
          "Kit Carson",
          "La Plata",
          "Lake",
          "Larimer",
          "Lincoln",
          "Logan",
          "Mesa",
          "Moffat",
          "Montezuma",
          "Montrose",
          "Morgan",
          "Otero",
          "Park",
          "Phillips",
          "Pitkin",
          "Prowers",
          "Pueblo",
          "Rio Blanco",
          "Rio Grande",
          "Routt",
          "Saguache",
          "Summit",
          "Teller",
          "Washington",
          "Weld",
          "Adams",
          "Alamosa",
          "Arapahoe",
          "Archuleta",
          "Boulder",
          "Broomfield",
          "Chaffee",
          "Clear Creek",
          "Crowley",
          "Custer",
          "Delta",
          "Denver",
          "Dolores",
          "Douglas",
          "Eagle",
          "El Paso",
          "Elbert",
          "Fremont",
          "Garfield",
          "Gilpin",
          "Grand",
          "Gunnison",
          "Huerfano",
          "Jefferson",
          "Kit Carson",
          "La Plata",
          "Lake",
          "Larimer",
          "Las Animas",
          "Lincoln",
          "Logan",
          "Mesa",
          "Moffat",
          "Montezuma",
          "Montrose",
          "Morgan",
          "Otero",
          "Park",
          "Phillips",
          "Pitkin",
          "Prowers",
          "Pueblo",
          "Rio Blanco",
          "Rio Grande",
          "Routt",
          "Saguache",
          "Summit",
          "Teller",
          "Washington",
          "Weld"
         ],
         "lat": [
          39.69,
          37.46,
          39.69,
          37.02,
          37.1,
          38.1,
          39.93,
          39.94,
          38.53,
          38.85,
          39.78,
          37.07,
          38.13,
          38.78,
          39.59,
          39.37,
          39.87,
          39.07,
          39.47,
          38.44,
          39.54,
          39.8,
          39.93,
          38.67,
          38.07,
          37.78,
          40.57,
          39.82,
          38.33,
          39.3,
          37.23,
          39.37,
          40.37,
          37.4,
          39.28,
          40.55,
          39.08,
          40.24,
          37.35,
          38.49,
          40.33,
          38.1,
          38.08,
          39.28,
          40.68,
          39.19,
          38.06,
          38.27,
          40.05,
          37.67,
          40.7,
          37.75,
          37.82,
          37.92,
          40.98,
          39.5,
          38.74,
          40.16,
          40.17,
          40.11,
          39.69,
          37.46,
          39.69,
          37.02,
          37.1,
          38.1,
          39.93,
          39.94,
          38.53,
          38.85,
          39.78,
          38.13,
          38.78,
          39.59,
          37.65,
          39.37,
          39.87,
          39.07,
          39.47,
          38.44,
          39.54,
          39.8,
          39.93,
          38.67,
          37.78,
          39.82,
          38.33,
          39.3,
          37.23,
          39.37,
          40.37,
          37.4,
          40.55,
          39.08,
          40.24,
          37.35,
          38.49,
          40.33,
          38.1,
          39.28,
          40.68,
          39.19,
          38.06,
          38.27,
          40.05,
          37.67,
          40.7,
          37.82,
          40.98,
          39.5,
          38.74,
          40.16,
          40.17,
          40.11,
          39.69,
          37.46,
          39.69,
          37.02,
          37.1,
          39.93,
          39.94,
          38.53,
          38.85,
          39.78,
          37.43,
          38.13,
          38.78,
          39.59,
          37.65,
          39.37,
          39.87,
          39.07,
          39.47,
          38.44,
          39.54,
          39.8,
          39.93,
          38.67,
          37.78,
          39.82,
          39.3,
          37.23,
          39.37,
          40.37,
          37.4,
          40.55,
          39.08,
          37.85,
          40.24,
          37.35,
          38.49,
          40.33,
          38.1,
          38.08,
          39.28,
          39.19,
          38.06,
          38.27,
          40.05,
          37.67,
          40.7,
          37.75,
          40.98,
          39.5,
          38.74,
          40.16,
          40.17,
          39.69,
          37.46,
          39.69,
          37.02,
          37.1,
          38.1,
          39.93,
          39.94,
          38.53,
          39.78,
          38.19,
          38.13,
          38.78,
          39.59,
          39.37,
          39.87,
          39.07,
          39.47,
          38.44,
          39.54,
          39.8,
          39.93,
          38.67,
          37.78,
          39.82,
          39.3,
          37.23,
          40.37,
          37.4,
          39.28,
          40.55,
          39.08,
          40.24,
          37.35,
          38.49,
          40.33,
          38.1,
          38.08,
          39.28,
          40.68,
          39.19,
          38.06,
          38.27,
          40.05,
          37.67,
          40.7,
          37.75,
          37.92,
          39.5,
          38.74,
          40.16,
          40.17,
          39.69,
          37.46,
          39.69,
          37.02,
          37.1,
          38.1,
          39.93,
          39.94,
          38.53,
          39.78,
          38.13,
          38.78,
          39.59,
          37.65,
          39.37,
          39.87,
          39.07,
          39.47,
          38.44,
          39.54,
          39.8,
          39.93,
          38.67,
          38.07,
          37.78,
          39.82,
          39.3,
          37.23,
          39.37,
          40.37,
          39.28,
          40.55,
          39.08,
          40.24,
          37.35,
          38.49,
          40.33,
          38.1,
          39.28,
          40.68,
          39.19,
          38.06,
          38.27,
          40.05,
          37.67,
          40.7,
          37.75,
          39.5,
          38.74,
          40.16,
          40.17,
          39.69,
          37.46,
          39.69,
          37.02,
          39.93,
          39.94,
          38.53,
          39.78,
          38.19,
          38.13,
          38.78,
          39.59,
          37.65,
          39.37,
          39.87,
          39.07,
          39.47,
          38.44,
          39.54,
          39.8,
          39.93,
          38.67,
          37.78,
          39.82,
          39.3,
          37.23,
          39.37,
          40.37,
          37.4,
          39.28,
          40.55,
          39.08,
          40.24,
          37.35,
          38.49,
          40.33,
          38.1,
          39.28,
          40.68,
          39.19,
          38.06,
          38.27,
          40.05,
          37.67,
          40.7,
          37.75,
          39.5,
          38.74,
          40.16,
          40.17
         ],
         "legendgroup": "",
         "lon": [
          -104.81,
          -105.87,
          -104.81,
          -107.4,
          -102.57,
          -103.15,
          -105.27,
          -105.06,
          -106,
          -102.17,
          -105.6,
          -106.01,
          -105.46,
          -107.93,
          -105.01,
          -104.85,
          -106.7,
          -104.85,
          -103.95,
          -105.23,
          -107.33,
          -105.49,
          -105.79,
          -106.83,
          -107.3,
          -105.17,
          -106.43,
          -105.1,
          -103.33,
          -102.42,
          -107.59,
          -106.18,
          -105.52,
          -104.65,
          -103.27,
          -103.27,
          -108.55,
          -109,
          -108.57,
          -107.87,
          -104.12,
          -103.51,
          -107.69,
          -106.06,
          -102.17,
          -106.82,
          -102.31,
          -104.62,
          -107.89,
          -106.35,
          -106.92,
          -106.11,
          -107.64,
          -108.93,
          -102.26,
          -106.04,
          -105.17,
          -103.21,
          -105.11,
          -102.48,
          -104.81,
          -105.87,
          -104.81,
          -107.4,
          -102.57,
          -103.15,
          -105.27,
          -105.06,
          -106,
          -102.17,
          -105.6,
          -105.46,
          -107.93,
          -105.01,
          -108.82,
          -104.85,
          -106.7,
          -104.85,
          -103.95,
          -105.23,
          -107.33,
          -105.49,
          -105.79,
          -106.83,
          -105.17,
          -105.1,
          -103.33,
          -102.42,
          -107.59,
          -106.18,
          -105.52,
          -104.65,
          -103.27,
          -108.55,
          -109,
          -108.57,
          -107.87,
          -104.12,
          -103.51,
          -106.06,
          -102.17,
          -106.82,
          -102.31,
          -104.62,
          -107.89,
          -106.35,
          -106.92,
          -107.64,
          -102.26,
          -106.04,
          -105.17,
          -103.21,
          -105.11,
          -102.48,
          -104.81,
          -105.87,
          -104.81,
          -107.4,
          -102.57,
          -105.27,
          -105.06,
          -106,
          -102.17,
          -105.6,
          -105.51,
          -105.46,
          -107.93,
          -105.01,
          -108.82,
          -104.85,
          -106.7,
          -104.85,
          -103.95,
          -105.23,
          -107.33,
          -105.49,
          -105.79,
          -106.83,
          -105.17,
          -105.1,
          -102.42,
          -107.59,
          -106.18,
          -105.52,
          -104.65,
          -103.27,
          -108.55,
          -106.92,
          -109,
          -108.57,
          -107.87,
          -104.12,
          -103.51,
          -107.69,
          -106.06,
          -106.82,
          -102.31,
          -104.62,
          -107.89,
          -106.35,
          -106.92,
          -106.11,
          -102.26,
          -106.04,
          -105.17,
          -103.21,
          -105.11,
          -104.81,
          -105.87,
          -104.81,
          -107.4,
          -102.57,
          -103.15,
          -105.27,
          -105.06,
          -106,
          -105.6,
          -103.85,
          -105.46,
          -107.93,
          -105.01,
          -104.85,
          -106.7,
          -104.85,
          -103.95,
          -105.23,
          -107.33,
          -105.49,
          -105.79,
          -106.83,
          -105.17,
          -105.1,
          -102.42,
          -107.59,
          -105.52,
          -104.65,
          -103.27,
          -103.27,
          -108.55,
          -109,
          -108.57,
          -107.87,
          -104.12,
          -103.51,
          -107.69,
          -106.06,
          -102.17,
          -106.82,
          -102.31,
          -104.62,
          -107.89,
          -106.35,
          -106.92,
          -106.11,
          -108.93,
          -106.04,
          -105.17,
          -103.21,
          -105.11,
          -104.81,
          -105.87,
          -104.81,
          -107.4,
          -102.57,
          -103.15,
          -105.27,
          -105.06,
          -106,
          -105.6,
          -105.46,
          -107.93,
          -105.01,
          -108.82,
          -104.85,
          -106.7,
          -104.85,
          -103.95,
          -105.23,
          -107.33,
          -105.49,
          -105.79,
          -106.83,
          -107.3,
          -105.17,
          -105.1,
          -102.42,
          -107.59,
          -106.18,
          -105.52,
          -103.27,
          -103.27,
          -108.55,
          -109,
          -108.57,
          -107.87,
          -104.12,
          -103.51,
          -106.06,
          -102.17,
          -106.82,
          -102.31,
          -104.62,
          -107.89,
          -106.35,
          -106.92,
          -106.11,
          -106.04,
          -105.17,
          -103.21,
          -105.11,
          -104.81,
          -105.87,
          -104.81,
          -107.4,
          -105.27,
          -105.06,
          -106,
          -105.6,
          -103.85,
          -105.46,
          -107.93,
          -105.01,
          -108.82,
          -104.85,
          -106.7,
          -104.85,
          -103.95,
          -105.23,
          -107.33,
          -105.49,
          -105.79,
          -106.83,
          -105.17,
          -105.1,
          -102.42,
          -107.59,
          -106.18,
          -105.52,
          -104.65,
          -103.27,
          -103.27,
          -108.55,
          -109,
          -108.57,
          -107.87,
          -104.12,
          -103.51,
          -106.06,
          -102.17,
          -106.82,
          -102.31,
          -104.62,
          -107.89,
          -106.35,
          -106.92,
          -106.11,
          -106.04,
          -105.17,
          -103.21,
          -105.11
         ],
         "marker": {
          "color": [
           2012,
           2012,
           2012,
           2012,
           2012,
           2012,
           2012,
           2012,
           2012,
           2012,
           2012,
           2012,
           2012,
           2012,
           2012,
           2012,
           2012,
           2012,
           2012,
           2012,
           2012,
           2012,
           2012,
           2012,
           2012,
           2012,
           2012,
           2012,
           2012,
           2012,
           2012,
           2012,
           2012,
           2012,
           2012,
           2012,
           2012,
           2012,
           2012,
           2012,
           2012,
           2012,
           2012,
           2012,
           2012,
           2012,
           2012,
           2012,
           2012,
           2012,
           2012,
           2012,
           2012,
           2012,
           2012,
           2012,
           2012,
           2012,
           2012,
           2012,
           2013,
           2013,
           2013,
           2013,
           2013,
           2013,
           2013,
           2013,
           2013,
           2013,
           2013,
           2013,
           2013,
           2013,
           2013,
           2013,
           2013,
           2013,
           2013,
           2013,
           2013,
           2013,
           2013,
           2013,
           2013,
           2013,
           2013,
           2013,
           2013,
           2013,
           2013,
           2013,
           2013,
           2013,
           2013,
           2013,
           2013,
           2013,
           2013,
           2013,
           2013,
           2013,
           2013,
           2013,
           2013,
           2013,
           2013,
           2013,
           2013,
           2013,
           2013,
           2013,
           2013,
           2013,
           2014,
           2014,
           2014,
           2014,
           2014,
           2014,
           2014,
           2014,
           2014,
           2014,
           2014,
           2014,
           2014,
           2014,
           2014,
           2014,
           2014,
           2014,
           2014,
           2014,
           2014,
           2014,
           2014,
           2014,
           2014,
           2014,
           2014,
           2014,
           2014,
           2014,
           2014,
           2014,
           2014,
           2014,
           2014,
           2014,
           2014,
           2014,
           2014,
           2014,
           2014,
           2014,
           2014,
           2014,
           2014,
           2014,
           2014,
           2014,
           2014,
           2014,
           2014,
           2014,
           2014,
           2015,
           2015,
           2015,
           2015,
           2015,
           2015,
           2015,
           2015,
           2015,
           2015,
           2015,
           2015,
           2015,
           2015,
           2015,
           2015,
           2015,
           2015,
           2015,
           2015,
           2015,
           2015,
           2015,
           2015,
           2015,
           2015,
           2015,
           2015,
           2015,
           2015,
           2015,
           2015,
           2015,
           2015,
           2015,
           2015,
           2015,
           2015,
           2015,
           2015,
           2015,
           2015,
           2015,
           2015,
           2015,
           2015,
           2015,
           2015,
           2015,
           2015,
           2015,
           2015,
           2016,
           2016,
           2016,
           2016,
           2016,
           2016,
           2016,
           2016,
           2016,
           2016,
           2016,
           2016,
           2016,
           2016,
           2016,
           2016,
           2016,
           2016,
           2016,
           2016,
           2016,
           2016,
           2016,
           2016,
           2016,
           2016,
           2016,
           2016,
           2016,
           2016,
           2016,
           2016,
           2016,
           2016,
           2016,
           2016,
           2016,
           2016,
           2016,
           2016,
           2016,
           2016,
           2016,
           2016,
           2016,
           2016,
           2016,
           2016,
           2016,
           2016,
           2016,
           2017,
           2017,
           2017,
           2017,
           2017,
           2017,
           2017,
           2017,
           2017,
           2017,
           2017,
           2017,
           2017,
           2017,
           2017,
           2017,
           2017,
           2017,
           2017,
           2017,
           2017,
           2017,
           2017,
           2017,
           2017,
           2017,
           2017,
           2017,
           2017,
           2017,
           2017,
           2017,
           2017,
           2017,
           2017,
           2017,
           2017,
           2017,
           2017,
           2017,
           2017,
           2017,
           2017,
           2017,
           2017,
           2017,
           2017,
           2017,
           2017,
           2017
          ],
          "coloraxis": "coloraxis",
          "size": [
           4328,
           4,
           3242,
           29,
           33,
           1,
           1634,
           511,
           88,
           6,
           90,
           5,
           5,
           34,
           356,
           1016,
           499,
           1715,
           33,
           121,
           320,
           182,
           26,
           75,
           1,
           26,
           1,
           2776,
           2,
           36,
           118,
           49,
           2013,
           11,
           2,
           69,
           1123,
           178,
           140,
           260,
           109,
           36,
           1,
           21,
           5,
           31,
           160,
           80,
           44,
           55,
           169,
           20,
           1,
           7,
           2,
           144,
           104,
           39,
           1027,
           5,
           1811,
           10,
           1490,
           8,
           10,
           2,
           911,
           232,
           25,
           2,
           13,
           3,
           29,
           878,
           2,
           615,
           215,
           976,
           30,
           48,
           114,
           13,
           6,
           58,
           1,
           1438,
           6,
           22,
           105,
           7,
           956,
           10,
           5,
           713,
           39,
           12,
           99,
           37,
           5,
           4,
           2,
           4,
           60,
           62,
           7,
           9,
           65,
           2,
           6,
           24,
           87,
           5,
           644,
           4,
           1546,
           21,
           1714,
           15,
           2,
           757,
           221,
           36,
           1,
           15,
           2,
           5,
           14,
           1600,
           2,
           430,
           188,
           1121,
           30,
           42,
           98,
           9,
           9,
           59,
           8,
           1700,
           10,
           149,
           8,
           1013,
           3,
           37,
           743,
           2,
           40,
           23,
           83,
           60,
           11,
           7,
           8,
           24,
           61,
           62,
           30,
           3,
           105,
           4,
           2,
           16,
           60,
           2,
           669,
           1429,
           39,
           1513,
           34,
           2,
           3,
           899,
           149,
           27,
           17,
           2,
           7,
           9,
           2103,
           512,
           212,
           952,
           13,
           27,
           166,
           9,
           3,
           81,
           11,
           1553,
           31,
           126,
           967,
           2,
           2,
           67,
           695,
           52,
           13,
           80,
           26,
           24,
           1,
           5,
           2,
           18,
           6,
           84,
           18,
           17,
           90,
           5,
           1,
           36,
           47,
           2,
           542,
           1397,
           30,
           1408,
           21,
           3,
           1,
           1045,
           189,
           37,
           4,
           6,
           39,
           1192,
           1,
           566,
           168,
           1068,
           11,
           17,
           183,
           6,
           5,
           56,
           4,
           13,
           1576,
           18,
           119,
           4,
           1164,
           2,
           30,
           581,
           84,
           19,
           66,
           32,
           10,
           7,
           4,
           8,
           9,
           123,
           4,
           12,
           83,
           1,
           35,
           47,
           5,
           565,
           1498,
           52,
           1226,
           9,
           1417,
           176,
           20,
           2,
           6,
           4,
           41,
           542,
           7,
           752,
           159,
           982,
           24,
           61,
           235,
           13,
           1,
           83,
           3,
           1601,
           21,
           150,
           3,
           1078,
           10,
           9,
           23,
           759,
           58,
           19,
           60,
           47,
           19,
           2,
           2,
           9,
           3,
           102,
           5,
           14,
           85,
           19,
           18,
           49,
           1,
           449
          ],
          "sizemode": "area",
          "sizeref": 10.82
         },
         "mode": "markers",
         "name": "",
         "showlegend": false,
         "subplot": "mapbox",
         "type": "scattermapbox"
        }
       ],
       "layout": {
        "coloraxis": {
         "colorbar": {
          "title": {
           "text": "Year"
          }
         },
         "colorscale": [
          [
           0,
           "#0d0887"
          ],
          [
           0.1111111111111111,
           "#46039f"
          ],
          [
           0.2222222222222222,
           "#7201a8"
          ],
          [
           0.3333333333333333,
           "#9c179e"
          ],
          [
           0.4444444444444444,
           "#bd3786"
          ],
          [
           0.5555555555555556,
           "#d8576b"
          ],
          [
           0.6666666666666666,
           "#ed7953"
          ],
          [
           0.7777777777777778,
           "#fb9f3a"
          ],
          [
           0.8888888888888888,
           "#fdca26"
          ],
          [
           1,
           "#f0f921"
          ]
         ]
        },
        "legend": {
         "itemsizing": "constant",
         "tracegroupgap": 0
        },
        "mapbox": {
         "center": {
          "lat": 39.024781250000025,
          "lon": -105.53196874999995
         },
         "domain": {
          "x": [
           0,
           1
          ],
          "y": [
           0,
           1
          ]
         },
         "style": "carto-positron",
         "zoom": 5
        },
        "template": {
         "data": {
          "bar": [
           {
            "error_x": {
             "color": "#2a3f5f"
            },
            "error_y": {
             "color": "#2a3f5f"
            },
            "marker": {
             "line": {
              "color": "#E5ECF6",
              "width": 0.5
             }
            },
            "type": "bar"
           }
          ],
          "barpolar": [
           {
            "marker": {
             "line": {
              "color": "#E5ECF6",
              "width": 0.5
             }
            },
            "type": "barpolar"
           }
          ],
          "carpet": [
           {
            "aaxis": {
             "endlinecolor": "#2a3f5f",
             "gridcolor": "white",
             "linecolor": "white",
             "minorgridcolor": "white",
             "startlinecolor": "#2a3f5f"
            },
            "baxis": {
             "endlinecolor": "#2a3f5f",
             "gridcolor": "white",
             "linecolor": "white",
             "minorgridcolor": "white",
             "startlinecolor": "#2a3f5f"
            },
            "type": "carpet"
           }
          ],
          "choropleth": [
           {
            "colorbar": {
             "outlinewidth": 0,
             "ticks": ""
            },
            "type": "choropleth"
           }
          ],
          "contour": [
           {
            "colorbar": {
             "outlinewidth": 0,
             "ticks": ""
            },
            "colorscale": [
             [
              0,
              "#0d0887"
             ],
             [
              0.1111111111111111,
              "#46039f"
             ],
             [
              0.2222222222222222,
              "#7201a8"
             ],
             [
              0.3333333333333333,
              "#9c179e"
             ],
             [
              0.4444444444444444,
              "#bd3786"
             ],
             [
              0.5555555555555556,
              "#d8576b"
             ],
             [
              0.6666666666666666,
              "#ed7953"
             ],
             [
              0.7777777777777778,
              "#fb9f3a"
             ],
             [
              0.8888888888888888,
              "#fdca26"
             ],
             [
              1,
              "#f0f921"
             ]
            ],
            "type": "contour"
           }
          ],
          "contourcarpet": [
           {
            "colorbar": {
             "outlinewidth": 0,
             "ticks": ""
            },
            "type": "contourcarpet"
           }
          ],
          "heatmap": [
           {
            "colorbar": {
             "outlinewidth": 0,
             "ticks": ""
            },
            "colorscale": [
             [
              0,
              "#0d0887"
             ],
             [
              0.1111111111111111,
              "#46039f"
             ],
             [
              0.2222222222222222,
              "#7201a8"
             ],
             [
              0.3333333333333333,
              "#9c179e"
             ],
             [
              0.4444444444444444,
              "#bd3786"
             ],
             [
              0.5555555555555556,
              "#d8576b"
             ],
             [
              0.6666666666666666,
              "#ed7953"
             ],
             [
              0.7777777777777778,
              "#fb9f3a"
             ],
             [
              0.8888888888888888,
              "#fdca26"
             ],
             [
              1,
              "#f0f921"
             ]
            ],
            "type": "heatmap"
           }
          ],
          "heatmapgl": [
           {
            "colorbar": {
             "outlinewidth": 0,
             "ticks": ""
            },
            "colorscale": [
             [
              0,
              "#0d0887"
             ],
             [
              0.1111111111111111,
              "#46039f"
             ],
             [
              0.2222222222222222,
              "#7201a8"
             ],
             [
              0.3333333333333333,
              "#9c179e"
             ],
             [
              0.4444444444444444,
              "#bd3786"
             ],
             [
              0.5555555555555556,
              "#d8576b"
             ],
             [
              0.6666666666666666,
              "#ed7953"
             ],
             [
              0.7777777777777778,
              "#fb9f3a"
             ],
             [
              0.8888888888888888,
              "#fdca26"
             ],
             [
              1,
              "#f0f921"
             ]
            ],
            "type": "heatmapgl"
           }
          ],
          "histogram": [
           {
            "marker": {
             "colorbar": {
              "outlinewidth": 0,
              "ticks": ""
             }
            },
            "type": "histogram"
           }
          ],
          "histogram2d": [
           {
            "colorbar": {
             "outlinewidth": 0,
             "ticks": ""
            },
            "colorscale": [
             [
              0,
              "#0d0887"
             ],
             [
              0.1111111111111111,
              "#46039f"
             ],
             [
              0.2222222222222222,
              "#7201a8"
             ],
             [
              0.3333333333333333,
              "#9c179e"
             ],
             [
              0.4444444444444444,
              "#bd3786"
             ],
             [
              0.5555555555555556,
              "#d8576b"
             ],
             [
              0.6666666666666666,
              "#ed7953"
             ],
             [
              0.7777777777777778,
              "#fb9f3a"
             ],
             [
              0.8888888888888888,
              "#fdca26"
             ],
             [
              1,
              "#f0f921"
             ]
            ],
            "type": "histogram2d"
           }
          ],
          "histogram2dcontour": [
           {
            "colorbar": {
             "outlinewidth": 0,
             "ticks": ""
            },
            "colorscale": [
             [
              0,
              "#0d0887"
             ],
             [
              0.1111111111111111,
              "#46039f"
             ],
             [
              0.2222222222222222,
              "#7201a8"
             ],
             [
              0.3333333333333333,
              "#9c179e"
             ],
             [
              0.4444444444444444,
              "#bd3786"
             ],
             [
              0.5555555555555556,
              "#d8576b"
             ],
             [
              0.6666666666666666,
              "#ed7953"
             ],
             [
              0.7777777777777778,
              "#fb9f3a"
             ],
             [
              0.8888888888888888,
              "#fdca26"
             ],
             [
              1,
              "#f0f921"
             ]
            ],
            "type": "histogram2dcontour"
           }
          ],
          "mesh3d": [
           {
            "colorbar": {
             "outlinewidth": 0,
             "ticks": ""
            },
            "type": "mesh3d"
           }
          ],
          "parcoords": [
           {
            "line": {
             "colorbar": {
              "outlinewidth": 0,
              "ticks": ""
             }
            },
            "type": "parcoords"
           }
          ],
          "pie": [
           {
            "automargin": true,
            "type": "pie"
           }
          ],
          "scatter": [
           {
            "marker": {
             "colorbar": {
              "outlinewidth": 0,
              "ticks": ""
             }
            },
            "type": "scatter"
           }
          ],
          "scatter3d": [
           {
            "line": {
             "colorbar": {
              "outlinewidth": 0,
              "ticks": ""
             }
            },
            "marker": {
             "colorbar": {
              "outlinewidth": 0,
              "ticks": ""
             }
            },
            "type": "scatter3d"
           }
          ],
          "scattercarpet": [
           {
            "marker": {
             "colorbar": {
              "outlinewidth": 0,
              "ticks": ""
             }
            },
            "type": "scattercarpet"
           }
          ],
          "scattergeo": [
           {
            "marker": {
             "colorbar": {
              "outlinewidth": 0,
              "ticks": ""
             }
            },
            "type": "scattergeo"
           }
          ],
          "scattergl": [
           {
            "marker": {
             "colorbar": {
              "outlinewidth": 0,
              "ticks": ""
             }
            },
            "type": "scattergl"
           }
          ],
          "scattermapbox": [
           {
            "marker": {
             "colorbar": {
              "outlinewidth": 0,
              "ticks": ""
             }
            },
            "type": "scattermapbox"
           }
          ],
          "scatterpolar": [
           {
            "marker": {
             "colorbar": {
              "outlinewidth": 0,
              "ticks": ""
             }
            },
            "type": "scatterpolar"
           }
          ],
          "scatterpolargl": [
           {
            "marker": {
             "colorbar": {
              "outlinewidth": 0,
              "ticks": ""
             }
            },
            "type": "scatterpolargl"
           }
          ],
          "scatterternary": [
           {
            "marker": {
             "colorbar": {
              "outlinewidth": 0,
              "ticks": ""
             }
            },
            "type": "scatterternary"
           }
          ],
          "surface": [
           {
            "colorbar": {
             "outlinewidth": 0,
             "ticks": ""
            },
            "colorscale": [
             [
              0,
              "#0d0887"
             ],
             [
              0.1111111111111111,
              "#46039f"
             ],
             [
              0.2222222222222222,
              "#7201a8"
             ],
             [
              0.3333333333333333,
              "#9c179e"
             ],
             [
              0.4444444444444444,
              "#bd3786"
             ],
             [
              0.5555555555555556,
              "#d8576b"
             ],
             [
              0.6666666666666666,
              "#ed7953"
             ],
             [
              0.7777777777777778,
              "#fb9f3a"
             ],
             [
              0.8888888888888888,
              "#fdca26"
             ],
             [
              1,
              "#f0f921"
             ]
            ],
            "type": "surface"
           }
          ],
          "table": [
           {
            "cells": {
             "fill": {
              "color": "#EBF0F8"
             },
             "line": {
              "color": "white"
             }
            },
            "header": {
             "fill": {
              "color": "#C8D4E3"
             },
             "line": {
              "color": "white"
             }
            },
            "type": "table"
           }
          ]
         },
         "layout": {
          "annotationdefaults": {
           "arrowcolor": "#2a3f5f",
           "arrowhead": 0,
           "arrowwidth": 1
          },
          "coloraxis": {
           "colorbar": {
            "outlinewidth": 0,
            "ticks": ""
           }
          },
          "colorscale": {
           "diverging": [
            [
             0,
             "#8e0152"
            ],
            [
             0.1,
             "#c51b7d"
            ],
            [
             0.2,
             "#de77ae"
            ],
            [
             0.3,
             "#f1b6da"
            ],
            [
             0.4,
             "#fde0ef"
            ],
            [
             0.5,
             "#f7f7f7"
            ],
            [
             0.6,
             "#e6f5d0"
            ],
            [
             0.7,
             "#b8e186"
            ],
            [
             0.8,
             "#7fbc41"
            ],
            [
             0.9,
             "#4d9221"
            ],
            [
             1,
             "#276419"
            ]
           ],
           "sequential": [
            [
             0,
             "#0d0887"
            ],
            [
             0.1111111111111111,
             "#46039f"
            ],
            [
             0.2222222222222222,
             "#7201a8"
            ],
            [
             0.3333333333333333,
             "#9c179e"
            ],
            [
             0.4444444444444444,
             "#bd3786"
            ],
            [
             0.5555555555555556,
             "#d8576b"
            ],
            [
             0.6666666666666666,
             "#ed7953"
            ],
            [
             0.7777777777777778,
             "#fb9f3a"
            ],
            [
             0.8888888888888888,
             "#fdca26"
            ],
            [
             1,
             "#f0f921"
            ]
           ],
           "sequentialminus": [
            [
             0,
             "#0d0887"
            ],
            [
             0.1111111111111111,
             "#46039f"
            ],
            [
             0.2222222222222222,
             "#7201a8"
            ],
            [
             0.3333333333333333,
             "#9c179e"
            ],
            [
             0.4444444444444444,
             "#bd3786"
            ],
            [
             0.5555555555555556,
             "#d8576b"
            ],
            [
             0.6666666666666666,
             "#ed7953"
            ],
            [
             0.7777777777777778,
             "#fb9f3a"
            ],
            [
             0.8888888888888888,
             "#fdca26"
            ],
            [
             1,
             "#f0f921"
            ]
           ]
          },
          "colorway": [
           "#636efa",
           "#EF553B",
           "#00cc96",
           "#ab63fa",
           "#FFA15A",
           "#19d3f3",
           "#FF6692",
           "#B6E880",
           "#FF97FF",
           "#FECB52"
          ],
          "font": {
           "color": "#2a3f5f"
          },
          "geo": {
           "bgcolor": "white",
           "lakecolor": "white",
           "landcolor": "#E5ECF6",
           "showlakes": true,
           "showland": true,
           "subunitcolor": "white"
          },
          "hoverlabel": {
           "align": "left"
          },
          "hovermode": "closest",
          "mapbox": {
           "style": "light"
          },
          "paper_bgcolor": "white",
          "plot_bgcolor": "#E5ECF6",
          "polar": {
           "angularaxis": {
            "gridcolor": "white",
            "linecolor": "white",
            "ticks": ""
           },
           "bgcolor": "#E5ECF6",
           "radialaxis": {
            "gridcolor": "white",
            "linecolor": "white",
            "ticks": ""
           }
          },
          "scene": {
           "xaxis": {
            "backgroundcolor": "#E5ECF6",
            "gridcolor": "white",
            "gridwidth": 2,
            "linecolor": "white",
            "showbackground": true,
            "ticks": "",
            "zerolinecolor": "white"
           },
           "yaxis": {
            "backgroundcolor": "#E5ECF6",
            "gridcolor": "white",
            "gridwidth": 2,
            "linecolor": "white",
            "showbackground": true,
            "ticks": "",
            "zerolinecolor": "white"
           },
           "zaxis": {
            "backgroundcolor": "#E5ECF6",
            "gridcolor": "white",
            "gridwidth": 2,
            "linecolor": "white",
            "showbackground": true,
            "ticks": "",
            "zerolinecolor": "white"
           }
          },
          "shapedefaults": {
           "line": {
            "color": "#2a3f5f"
           }
          },
          "ternary": {
           "aaxis": {
            "gridcolor": "white",
            "linecolor": "white",
            "ticks": ""
           },
           "baxis": {
            "gridcolor": "white",
            "linecolor": "white",
            "ticks": ""
           },
           "bgcolor": "#E5ECF6",
           "caxis": {
            "gridcolor": "white",
            "linecolor": "white",
            "ticks": ""
           }
          },
          "title": {
           "x": 0.05
          },
          "xaxis": {
           "automargin": true,
           "gridcolor": "white",
           "linecolor": "white",
           "ticks": "",
           "title": {
            "standoff": 15
           },
           "zerolinecolor": "white",
           "zerolinewidth": 2
          },
          "yaxis": {
           "automargin": true,
           "gridcolor": "white",
           "linecolor": "white",
           "ticks": "",
           "title": {
            "standoff": 15
           },
           "zerolinecolor": "white",
           "zerolinewidth": 2
          }
         }
        },
        "title": {
         "text": "Reported Offenses and Arrests Related to Marijuana by County"
        }
       }
      }
     },
     "metadata": {}
    }
   ],
   "source": [
    "mapbox_token = os.getenv(\"MAPBOX_API_KEY\")\n",
    "px.set_mapbox_access_token(mapbox_token)\n",
    "\n",
    "ArrestsPlot = px.scatter_mapbox(Arrests, \n",
    "lat=\"latitude\", lon=\"longtitude\", \n",
    "size=\"Total Crime\", color=\"Year\", \n",
    "mapbox_style=\"carto-positron\",\n",
    "zoom=5,\n",
    "hover_name=\"County\",\n",
    "title=\"Reported Offenses and Arrests Related to Marijuana by County\",\n",
    ")\n",
    "\n",
    "#ArrestsPlot.layout.coloraxis.showscale = False\n",
    "ArrestsPlot.show()"
   ]
  },
  {
   "cell_type": "code",
   "execution_count": 110,
   "metadata": {},
   "outputs": [
    {
     "output_type": "display_data",
     "data": {
      "application/vnd.plotly.v1+json": {
       "config": {
        "plotlyServerURL": "https://plot.ly"
       },
       "data": [
        {
         "hovertemplate": "<b>%{hovertext}</b><br><br>Year=%{marker.color}<br>Total Crime=%{marker.size}<br>latitude=%{lat}<br>longtitude=%{lon}<extra></extra>",
         "hovertext": [
          "Adams",
          "Alamosa",
          "Arapahoe",
          "Archuleta",
          "Baca",
          "Bent",
          "Boulder",
          "Broomfield",
          "Chaffee",
          "Cheyenne",
          "Clear Creek",
          "Conejos",
          "Custer",
          "Delta",
          "Denver",
          "Douglas",
          "Eagle",
          "El Paso",
          "Elbert",
          "Fremont",
          "Garfield",
          "Gilpin",
          "Grand",
          "Gunnison",
          "Hinsdale",
          "Huerfano",
          "Jackson",
          "Jefferson",
          "Kiowa",
          "Kit Carson",
          "La Plata",
          "Lake",
          "Larimer",
          "Las Animas",
          "Lincoln",
          "Logan",
          "Mesa",
          "Moffat",
          "Montezuma",
          "Montrose",
          "Morgan",
          "Otero",
          "Ouray",
          "Park",
          "Phillips",
          "Pitkin",
          "Prowers",
          "Pueblo",
          "Rio Blanco",
          "Rio Grande",
          "Routt",
          "Saguache",
          "San Juan",
          "San Miguel",
          "Sedgwick",
          "Summit",
          "Teller",
          "Washington",
          "Weld",
          "Yuma"
         ],
         "ids": [
          "Adams",
          "Alamosa",
          "Arapahoe",
          "Archuleta",
          "Baca",
          "Bent",
          "Boulder",
          "Broomfield",
          "Chaffee",
          "Cheyenne",
          "Clear Creek",
          "Conejos",
          "Custer",
          "Delta",
          "Denver",
          "Douglas",
          "Eagle",
          "El Paso",
          "Elbert",
          "Fremont",
          "Garfield",
          "Gilpin",
          "Grand",
          "Gunnison",
          "Hinsdale",
          "Huerfano",
          "Jackson",
          "Jefferson",
          "Kiowa",
          "Kit Carson",
          "La Plata",
          "Lake",
          "Larimer",
          "Las Animas",
          "Lincoln",
          "Logan",
          "Mesa",
          "Moffat",
          "Montezuma",
          "Montrose",
          "Morgan",
          "Otero",
          "Ouray",
          "Park",
          "Phillips",
          "Pitkin",
          "Prowers",
          "Pueblo",
          "Rio Blanco",
          "Rio Grande",
          "Routt",
          "Saguache",
          "San Juan",
          "San Miguel",
          "Sedgwick",
          "Summit",
          "Teller",
          "Washington",
          "Weld",
          "Yuma"
         ],
         "lat": [
          39.69,
          37.46,
          39.69,
          37.02,
          37.1,
          38.1,
          39.93,
          39.94,
          38.53,
          38.85,
          39.78,
          37.07,
          38.13,
          38.78,
          39.59,
          39.37,
          39.87,
          39.07,
          39.47,
          38.44,
          39.54,
          39.8,
          39.93,
          38.67,
          38.07,
          37.78,
          40.57,
          39.82,
          38.33,
          39.3,
          37.23,
          39.37,
          40.37,
          37.4,
          39.28,
          40.55,
          39.08,
          40.24,
          37.35,
          38.49,
          40.33,
          38.1,
          38.08,
          39.28,
          40.68,
          39.19,
          38.06,
          38.27,
          40.05,
          37.67,
          40.7,
          37.75,
          37.82,
          37.92,
          40.98,
          39.5,
          38.74,
          40.16,
          40.17,
          40.11
         ],
         "legendgroup": "",
         "lon": [
          -104.81,
          -105.87,
          -104.81,
          -107.4,
          -102.57,
          -103.15,
          -105.27,
          -105.06,
          -106,
          -102.17,
          -105.6,
          -106.01,
          -105.46,
          -107.93,
          -105.01,
          -104.85,
          -106.7,
          -104.85,
          -103.95,
          -105.23,
          -107.33,
          -105.49,
          -105.79,
          -106.83,
          -107.3,
          -105.17,
          -106.43,
          -105.1,
          -103.33,
          -102.42,
          -107.59,
          -106.18,
          -105.52,
          -104.65,
          -103.27,
          -103.27,
          -108.55,
          -109,
          -108.57,
          -107.87,
          -104.12,
          -103.51,
          -107.69,
          -106.06,
          -102.17,
          -106.82,
          -102.31,
          -104.62,
          -107.89,
          -106.35,
          -106.92,
          -106.11,
          -107.64,
          -108.93,
          -102.26,
          -106.04,
          -105.17,
          -103.21,
          -105.11,
          -102.48
         ],
         "marker": {
          "color": [
           2012,
           2012,
           2012,
           2012,
           2012,
           2012,
           2012,
           2012,
           2012,
           2012,
           2012,
           2012,
           2012,
           2012,
           2012,
           2012,
           2012,
           2012,
           2012,
           2012,
           2012,
           2012,
           2012,
           2012,
           2012,
           2012,
           2012,
           2012,
           2012,
           2012,
           2012,
           2012,
           2012,
           2012,
           2012,
           2012,
           2012,
           2012,
           2012,
           2012,
           2012,
           2012,
           2012,
           2012,
           2012,
           2012,
           2012,
           2012,
           2012,
           2012,
           2012,
           2012,
           2012,
           2012,
           2012,
           2012,
           2012,
           2012,
           2012,
           2012
          ],
          "coloraxis": "coloraxis",
          "size": [
           4328,
           4,
           3242,
           29,
           33,
           1,
           1634,
           511,
           88,
           6,
           90,
           5,
           5,
           34,
           356,
           1016,
           499,
           1715,
           33,
           121,
           320,
           182,
           26,
           75,
           1,
           26,
           1,
           2776,
           2,
           36,
           118,
           49,
           2013,
           11,
           2,
           69,
           1123,
           178,
           140,
           260,
           109,
           36,
           1,
           21,
           5,
           31,
           160,
           80,
           44,
           55,
           169,
           20,
           1,
           7,
           2,
           144,
           104,
           39,
           1027,
           5
          ],
          "sizemode": "area",
          "sizeref": 10.82
         },
         "mode": "markers",
         "name": "",
         "showlegend": false,
         "subplot": "mapbox",
         "type": "scattermapbox"
        }
       ],
       "frames": [
        {
         "data": [
          {
           "hovertemplate": "<b>%{hovertext}</b><br><br>Year=%{marker.color}<br>Total Crime=%{marker.size}<br>latitude=%{lat}<br>longtitude=%{lon}<extra></extra>",
           "hovertext": [
            "Adams",
            "Alamosa",
            "Arapahoe",
            "Archuleta",
            "Baca",
            "Bent",
            "Boulder",
            "Broomfield",
            "Chaffee",
            "Cheyenne",
            "Clear Creek",
            "Conejos",
            "Custer",
            "Delta",
            "Denver",
            "Douglas",
            "Eagle",
            "El Paso",
            "Elbert",
            "Fremont",
            "Garfield",
            "Gilpin",
            "Grand",
            "Gunnison",
            "Hinsdale",
            "Huerfano",
            "Jackson",
            "Jefferson",
            "Kiowa",
            "Kit Carson",
            "La Plata",
            "Lake",
            "Larimer",
            "Las Animas",
            "Lincoln",
            "Logan",
            "Mesa",
            "Moffat",
            "Montezuma",
            "Montrose",
            "Morgan",
            "Otero",
            "Ouray",
            "Park",
            "Phillips",
            "Pitkin",
            "Prowers",
            "Pueblo",
            "Rio Blanco",
            "Rio Grande",
            "Routt",
            "Saguache",
            "San Juan",
            "San Miguel",
            "Sedgwick",
            "Summit",
            "Teller",
            "Washington",
            "Weld",
            "Yuma"
           ],
           "ids": [
            "Adams",
            "Alamosa",
            "Arapahoe",
            "Archuleta",
            "Baca",
            "Bent",
            "Boulder",
            "Broomfield",
            "Chaffee",
            "Cheyenne",
            "Clear Creek",
            "Conejos",
            "Custer",
            "Delta",
            "Denver",
            "Douglas",
            "Eagle",
            "El Paso",
            "Elbert",
            "Fremont",
            "Garfield",
            "Gilpin",
            "Grand",
            "Gunnison",
            "Hinsdale",
            "Huerfano",
            "Jackson",
            "Jefferson",
            "Kiowa",
            "Kit Carson",
            "La Plata",
            "Lake",
            "Larimer",
            "Las Animas",
            "Lincoln",
            "Logan",
            "Mesa",
            "Moffat",
            "Montezuma",
            "Montrose",
            "Morgan",
            "Otero",
            "Ouray",
            "Park",
            "Phillips",
            "Pitkin",
            "Prowers",
            "Pueblo",
            "Rio Blanco",
            "Rio Grande",
            "Routt",
            "Saguache",
            "San Juan",
            "San Miguel",
            "Sedgwick",
            "Summit",
            "Teller",
            "Washington",
            "Weld",
            "Yuma"
           ],
           "lat": [
            39.69,
            37.46,
            39.69,
            37.02,
            37.1,
            38.1,
            39.93,
            39.94,
            38.53,
            38.85,
            39.78,
            37.07,
            38.13,
            38.78,
            39.59,
            39.37,
            39.87,
            39.07,
            39.47,
            38.44,
            39.54,
            39.8,
            39.93,
            38.67,
            38.07,
            37.78,
            40.57,
            39.82,
            38.33,
            39.3,
            37.23,
            39.37,
            40.37,
            37.4,
            39.28,
            40.55,
            39.08,
            40.24,
            37.35,
            38.49,
            40.33,
            38.1,
            38.08,
            39.28,
            40.68,
            39.19,
            38.06,
            38.27,
            40.05,
            37.67,
            40.7,
            37.75,
            37.82,
            37.92,
            40.98,
            39.5,
            38.74,
            40.16,
            40.17,
            40.11
           ],
           "legendgroup": "",
           "lon": [
            -104.81,
            -105.87,
            -104.81,
            -107.4,
            -102.57,
            -103.15,
            -105.27,
            -105.06,
            -106,
            -102.17,
            -105.6,
            -106.01,
            -105.46,
            -107.93,
            -105.01,
            -104.85,
            -106.7,
            -104.85,
            -103.95,
            -105.23,
            -107.33,
            -105.49,
            -105.79,
            -106.83,
            -107.3,
            -105.17,
            -106.43,
            -105.1,
            -103.33,
            -102.42,
            -107.59,
            -106.18,
            -105.52,
            -104.65,
            -103.27,
            -103.27,
            -108.55,
            -109,
            -108.57,
            -107.87,
            -104.12,
            -103.51,
            -107.69,
            -106.06,
            -102.17,
            -106.82,
            -102.31,
            -104.62,
            -107.89,
            -106.35,
            -106.92,
            -106.11,
            -107.64,
            -108.93,
            -102.26,
            -106.04,
            -105.17,
            -103.21,
            -105.11,
            -102.48
           ],
           "marker": {
            "color": [
             2012,
             2012,
             2012,
             2012,
             2012,
             2012,
             2012,
             2012,
             2012,
             2012,
             2012,
             2012,
             2012,
             2012,
             2012,
             2012,
             2012,
             2012,
             2012,
             2012,
             2012,
             2012,
             2012,
             2012,
             2012,
             2012,
             2012,
             2012,
             2012,
             2012,
             2012,
             2012,
             2012,
             2012,
             2012,
             2012,
             2012,
             2012,
             2012,
             2012,
             2012,
             2012,
             2012,
             2012,
             2012,
             2012,
             2012,
             2012,
             2012,
             2012,
             2012,
             2012,
             2012,
             2012,
             2012,
             2012,
             2012,
             2012,
             2012,
             2012
            ],
            "coloraxis": "coloraxis",
            "size": [
             4328,
             4,
             3242,
             29,
             33,
             1,
             1634,
             511,
             88,
             6,
             90,
             5,
             5,
             34,
             356,
             1016,
             499,
             1715,
             33,
             121,
             320,
             182,
             26,
             75,
             1,
             26,
             1,
             2776,
             2,
             36,
             118,
             49,
             2013,
             11,
             2,
             69,
             1123,
             178,
             140,
             260,
             109,
             36,
             1,
             21,
             5,
             31,
             160,
             80,
             44,
             55,
             169,
             20,
             1,
             7,
             2,
             144,
             104,
             39,
             1027,
             5
            ],
            "sizemode": "area",
            "sizeref": 10.82
           },
           "mode": "markers",
           "name": "",
           "showlegend": false,
           "subplot": "mapbox",
           "type": "scattermapbox"
          }
         ],
         "name": "2012"
        },
        {
         "data": [
          {
           "hovertemplate": "<b>%{hovertext}</b><br><br>Year=%{marker.color}<br>Total Crime=%{marker.size}<br>latitude=%{lat}<br>longtitude=%{lon}<extra></extra>",
           "hovertext": [
            "Adams",
            "Alamosa",
            "Arapahoe",
            "Archuleta",
            "Baca",
            "Bent",
            "Boulder",
            "Broomfield",
            "Chaffee",
            "Cheyenne",
            "Clear Creek",
            "Custer",
            "Delta",
            "Denver",
            "Dolores",
            "Douglas",
            "Eagle",
            "El Paso",
            "Elbert",
            "Fremont",
            "Garfield",
            "Gilpin",
            "Grand",
            "Gunnison",
            "Huerfano",
            "Jefferson",
            "Kiowa",
            "Kit Carson",
            "La Plata",
            "Lake",
            "Larimer",
            "Las Animas",
            "Logan",
            "Mesa",
            "Moffat",
            "Montezuma",
            "Montrose",
            "Morgan",
            "Otero",
            "Park",
            "Phillips",
            "Pitkin",
            "Prowers",
            "Pueblo",
            "Rio Blanco",
            "Rio Grande",
            "Routt",
            "San Juan",
            "Sedgwick",
            "Summit",
            "Teller",
            "Washington",
            "Weld",
            "Yuma"
           ],
           "ids": [
            "Adams",
            "Alamosa",
            "Arapahoe",
            "Archuleta",
            "Baca",
            "Bent",
            "Boulder",
            "Broomfield",
            "Chaffee",
            "Cheyenne",
            "Clear Creek",
            "Custer",
            "Delta",
            "Denver",
            "Dolores",
            "Douglas",
            "Eagle",
            "El Paso",
            "Elbert",
            "Fremont",
            "Garfield",
            "Gilpin",
            "Grand",
            "Gunnison",
            "Huerfano",
            "Jefferson",
            "Kiowa",
            "Kit Carson",
            "La Plata",
            "Lake",
            "Larimer",
            "Las Animas",
            "Logan",
            "Mesa",
            "Moffat",
            "Montezuma",
            "Montrose",
            "Morgan",
            "Otero",
            "Park",
            "Phillips",
            "Pitkin",
            "Prowers",
            "Pueblo",
            "Rio Blanco",
            "Rio Grande",
            "Routt",
            "San Juan",
            "Sedgwick",
            "Summit",
            "Teller",
            "Washington",
            "Weld",
            "Yuma"
           ],
           "lat": [
            39.69,
            37.46,
            39.69,
            37.02,
            37.1,
            38.1,
            39.93,
            39.94,
            38.53,
            38.85,
            39.78,
            38.13,
            38.78,
            39.59,
            37.65,
            39.37,
            39.87,
            39.07,
            39.47,
            38.44,
            39.54,
            39.8,
            39.93,
            38.67,
            37.78,
            39.82,
            38.33,
            39.3,
            37.23,
            39.37,
            40.37,
            37.4,
            40.55,
            39.08,
            40.24,
            37.35,
            38.49,
            40.33,
            38.1,
            39.28,
            40.68,
            39.19,
            38.06,
            38.27,
            40.05,
            37.67,
            40.7,
            37.82,
            40.98,
            39.5,
            38.74,
            40.16,
            40.17,
            40.11
           ],
           "legendgroup": "",
           "lon": [
            -104.81,
            -105.87,
            -104.81,
            -107.4,
            -102.57,
            -103.15,
            -105.27,
            -105.06,
            -106,
            -102.17,
            -105.6,
            -105.46,
            -107.93,
            -105.01,
            -108.82,
            -104.85,
            -106.7,
            -104.85,
            -103.95,
            -105.23,
            -107.33,
            -105.49,
            -105.79,
            -106.83,
            -105.17,
            -105.1,
            -103.33,
            -102.42,
            -107.59,
            -106.18,
            -105.52,
            -104.65,
            -103.27,
            -108.55,
            -109,
            -108.57,
            -107.87,
            -104.12,
            -103.51,
            -106.06,
            -102.17,
            -106.82,
            -102.31,
            -104.62,
            -107.89,
            -106.35,
            -106.92,
            -107.64,
            -102.26,
            -106.04,
            -105.17,
            -103.21,
            -105.11,
            -102.48
           ],
           "marker": {
            "color": [
             2013,
             2013,
             2013,
             2013,
             2013,
             2013,
             2013,
             2013,
             2013,
             2013,
             2013,
             2013,
             2013,
             2013,
             2013,
             2013,
             2013,
             2013,
             2013,
             2013,
             2013,
             2013,
             2013,
             2013,
             2013,
             2013,
             2013,
             2013,
             2013,
             2013,
             2013,
             2013,
             2013,
             2013,
             2013,
             2013,
             2013,
             2013,
             2013,
             2013,
             2013,
             2013,
             2013,
             2013,
             2013,
             2013,
             2013,
             2013,
             2013,
             2013,
             2013,
             2013,
             2013,
             2013
            ],
            "coloraxis": "coloraxis",
            "size": [
             1811,
             10,
             1490,
             8,
             10,
             2,
             911,
             232,
             25,
             2,
             13,
             3,
             29,
             878,
             2,
             615,
             215,
             976,
             30,
             48,
             114,
             13,
             6,
             58,
             1,
             1438,
             6,
             22,
             105,
             7,
             956,
             10,
             5,
             713,
             39,
             12,
             99,
             37,
             5,
             4,
             2,
             4,
             60,
             62,
             7,
             9,
             65,
             2,
             6,
             24,
             87,
             5,
             644,
             4
            ],
            "sizemode": "area",
            "sizeref": 10.82
           },
           "mode": "markers",
           "name": "",
           "showlegend": false,
           "subplot": "mapbox",
           "type": "scattermapbox"
          }
         ],
         "name": "2013"
        },
        {
         "data": [
          {
           "hovertemplate": "<b>%{hovertext}</b><br><br>Year=%{marker.color}<br>Total Crime=%{marker.size}<br>latitude=%{lat}<br>longtitude=%{lon}<extra></extra>",
           "hovertext": [
            "Adams",
            "Alamosa",
            "Arapahoe",
            "Archuleta",
            "Baca",
            "Boulder",
            "Broomfield",
            "Chaffee",
            "Cheyenne",
            "Clear Creek",
            "Costilla",
            "Custer",
            "Delta",
            "Denver",
            "Dolores",
            "Douglas",
            "Eagle",
            "El Paso",
            "Elbert",
            "Fremont",
            "Garfield",
            "Gilpin",
            "Grand",
            "Gunnison",
            "Huerfano",
            "Jefferson",
            "Kit Carson",
            "La Plata",
            "Lake",
            "Larimer",
            "Las Animas",
            "Logan",
            "Mesa",
            "Mineral",
            "Moffat",
            "Montezuma",
            "Montrose",
            "Morgan",
            "Otero",
            "Ouray",
            "Park",
            "Pitkin",
            "Prowers",
            "Pueblo",
            "Rio Blanco",
            "Rio Grande",
            "Routt",
            "Saguache",
            "Sedgwick",
            "Summit",
            "Teller",
            "Washington",
            "Weld"
           ],
           "ids": [
            "Adams",
            "Alamosa",
            "Arapahoe",
            "Archuleta",
            "Baca",
            "Boulder",
            "Broomfield",
            "Chaffee",
            "Cheyenne",
            "Clear Creek",
            "Costilla",
            "Custer",
            "Delta",
            "Denver",
            "Dolores",
            "Douglas",
            "Eagle",
            "El Paso",
            "Elbert",
            "Fremont",
            "Garfield",
            "Gilpin",
            "Grand",
            "Gunnison",
            "Huerfano",
            "Jefferson",
            "Kit Carson",
            "La Plata",
            "Lake",
            "Larimer",
            "Las Animas",
            "Logan",
            "Mesa",
            "Mineral",
            "Moffat",
            "Montezuma",
            "Montrose",
            "Morgan",
            "Otero",
            "Ouray",
            "Park",
            "Pitkin",
            "Prowers",
            "Pueblo",
            "Rio Blanco",
            "Rio Grande",
            "Routt",
            "Saguache",
            "Sedgwick",
            "Summit",
            "Teller",
            "Washington",
            "Weld"
           ],
           "lat": [
            39.69,
            37.46,
            39.69,
            37.02,
            37.1,
            39.93,
            39.94,
            38.53,
            38.85,
            39.78,
            37.43,
            38.13,
            38.78,
            39.59,
            37.65,
            39.37,
            39.87,
            39.07,
            39.47,
            38.44,
            39.54,
            39.8,
            39.93,
            38.67,
            37.78,
            39.82,
            39.3,
            37.23,
            39.37,
            40.37,
            37.4,
            40.55,
            39.08,
            37.85,
            40.24,
            37.35,
            38.49,
            40.33,
            38.1,
            38.08,
            39.28,
            39.19,
            38.06,
            38.27,
            40.05,
            37.67,
            40.7,
            37.75,
            40.98,
            39.5,
            38.74,
            40.16,
            40.17
           ],
           "legendgroup": "",
           "lon": [
            -104.81,
            -105.87,
            -104.81,
            -107.4,
            -102.57,
            -105.27,
            -105.06,
            -106,
            -102.17,
            -105.6,
            -105.51,
            -105.46,
            -107.93,
            -105.01,
            -108.82,
            -104.85,
            -106.7,
            -104.85,
            -103.95,
            -105.23,
            -107.33,
            -105.49,
            -105.79,
            -106.83,
            -105.17,
            -105.1,
            -102.42,
            -107.59,
            -106.18,
            -105.52,
            -104.65,
            -103.27,
            -108.55,
            -106.92,
            -109,
            -108.57,
            -107.87,
            -104.12,
            -103.51,
            -107.69,
            -106.06,
            -106.82,
            -102.31,
            -104.62,
            -107.89,
            -106.35,
            -106.92,
            -106.11,
            -102.26,
            -106.04,
            -105.17,
            -103.21,
            -105.11
           ],
           "marker": {
            "color": [
             2014,
             2014,
             2014,
             2014,
             2014,
             2014,
             2014,
             2014,
             2014,
             2014,
             2014,
             2014,
             2014,
             2014,
             2014,
             2014,
             2014,
             2014,
             2014,
             2014,
             2014,
             2014,
             2014,
             2014,
             2014,
             2014,
             2014,
             2014,
             2014,
             2014,
             2014,
             2014,
             2014,
             2014,
             2014,
             2014,
             2014,
             2014,
             2014,
             2014,
             2014,
             2014,
             2014,
             2014,
             2014,
             2014,
             2014,
             2014,
             2014,
             2014,
             2014,
             2014,
             2014
            ],
            "coloraxis": "coloraxis",
            "size": [
             1546,
             21,
             1714,
             15,
             2,
             757,
             221,
             36,
             1,
             15,
             2,
             5,
             14,
             1600,
             2,
             430,
             188,
             1121,
             30,
             42,
             98,
             9,
             9,
             59,
             8,
             1700,
             10,
             149,
             8,
             1013,
             3,
             37,
             743,
             2,
             40,
             23,
             83,
             60,
             11,
             7,
             8,
             24,
             61,
             62,
             30,
             3,
             105,
             4,
             2,
             16,
             60,
             2,
             669
            ],
            "sizemode": "area",
            "sizeref": 10.82
           },
           "mode": "markers",
           "name": "",
           "showlegend": false,
           "subplot": "mapbox",
           "type": "scattermapbox"
          }
         ],
         "name": "2014"
        },
        {
         "data": [
          {
           "hovertemplate": "<b>%{hovertext}</b><br><br>Year=%{marker.color}<br>Total Crime=%{marker.size}<br>latitude=%{lat}<br>longtitude=%{lon}<extra></extra>",
           "hovertext": [
            "Adams",
            "Alamosa",
            "Arapahoe",
            "Archuleta",
            "Baca",
            "Bent",
            "Boulder",
            "Broomfield",
            "Chaffee",
            "Clear Creek",
            "Crowley",
            "Custer",
            "Delta",
            "Denver",
            "Douglas",
            "Eagle",
            "El Paso",
            "Elbert",
            "Fremont",
            "Garfield",
            "Gilpin",
            "Grand",
            "Gunnison",
            "Huerfano",
            "Jefferson",
            "Kit Carson",
            "La Plata",
            "Larimer",
            "Las Animas",
            "Lincoln",
            "Logan",
            "Mesa",
            "Moffat",
            "Montezuma",
            "Montrose",
            "Morgan",
            "Otero",
            "Ouray",
            "Park",
            "Phillips",
            "Pitkin",
            "Prowers",
            "Pueblo",
            "Rio Blanco",
            "Rio Grande",
            "Routt",
            "Saguache",
            "San Miguel",
            "Summit",
            "Teller",
            "Washington",
            "Weld"
           ],
           "ids": [
            "Adams",
            "Alamosa",
            "Arapahoe",
            "Archuleta",
            "Baca",
            "Bent",
            "Boulder",
            "Broomfield",
            "Chaffee",
            "Clear Creek",
            "Crowley",
            "Custer",
            "Delta",
            "Denver",
            "Douglas",
            "Eagle",
            "El Paso",
            "Elbert",
            "Fremont",
            "Garfield",
            "Gilpin",
            "Grand",
            "Gunnison",
            "Huerfano",
            "Jefferson",
            "Kit Carson",
            "La Plata",
            "Larimer",
            "Las Animas",
            "Lincoln",
            "Logan",
            "Mesa",
            "Moffat",
            "Montezuma",
            "Montrose",
            "Morgan",
            "Otero",
            "Ouray",
            "Park",
            "Phillips",
            "Pitkin",
            "Prowers",
            "Pueblo",
            "Rio Blanco",
            "Rio Grande",
            "Routt",
            "Saguache",
            "San Miguel",
            "Summit",
            "Teller",
            "Washington",
            "Weld"
           ],
           "lat": [
            39.69,
            37.46,
            39.69,
            37.02,
            37.1,
            38.1,
            39.93,
            39.94,
            38.53,
            39.78,
            38.19,
            38.13,
            38.78,
            39.59,
            39.37,
            39.87,
            39.07,
            39.47,
            38.44,
            39.54,
            39.8,
            39.93,
            38.67,
            37.78,
            39.82,
            39.3,
            37.23,
            40.37,
            37.4,
            39.28,
            40.55,
            39.08,
            40.24,
            37.35,
            38.49,
            40.33,
            38.1,
            38.08,
            39.28,
            40.68,
            39.19,
            38.06,
            38.27,
            40.05,
            37.67,
            40.7,
            37.75,
            37.92,
            39.5,
            38.74,
            40.16,
            40.17
           ],
           "legendgroup": "",
           "lon": [
            -104.81,
            -105.87,
            -104.81,
            -107.4,
            -102.57,
            -103.15,
            -105.27,
            -105.06,
            -106,
            -105.6,
            -103.85,
            -105.46,
            -107.93,
            -105.01,
            -104.85,
            -106.7,
            -104.85,
            -103.95,
            -105.23,
            -107.33,
            -105.49,
            -105.79,
            -106.83,
            -105.17,
            -105.1,
            -102.42,
            -107.59,
            -105.52,
            -104.65,
            -103.27,
            -103.27,
            -108.55,
            -109,
            -108.57,
            -107.87,
            -104.12,
            -103.51,
            -107.69,
            -106.06,
            -102.17,
            -106.82,
            -102.31,
            -104.62,
            -107.89,
            -106.35,
            -106.92,
            -106.11,
            -108.93,
            -106.04,
            -105.17,
            -103.21,
            -105.11
           ],
           "marker": {
            "color": [
             2015,
             2015,
             2015,
             2015,
             2015,
             2015,
             2015,
             2015,
             2015,
             2015,
             2015,
             2015,
             2015,
             2015,
             2015,
             2015,
             2015,
             2015,
             2015,
             2015,
             2015,
             2015,
             2015,
             2015,
             2015,
             2015,
             2015,
             2015,
             2015,
             2015,
             2015,
             2015,
             2015,
             2015,
             2015,
             2015,
             2015,
             2015,
             2015,
             2015,
             2015,
             2015,
             2015,
             2015,
             2015,
             2015,
             2015,
             2015,
             2015,
             2015,
             2015,
             2015
            ],
            "coloraxis": "coloraxis",
            "size": [
             1429,
             39,
             1513,
             34,
             2,
             3,
             899,
             149,
             27,
             17,
             2,
             7,
             9,
             2103,
             512,
             212,
             952,
             13,
             27,
             166,
             9,
             3,
             81,
             11,
             1553,
             31,
             126,
             967,
             2,
             2,
             67,
             695,
             52,
             13,
             80,
             26,
             24,
             1,
             5,
             2,
             18,
             6,
             84,
             18,
             17,
             90,
             5,
             1,
             36,
             47,
             2,
             542
            ],
            "sizemode": "area",
            "sizeref": 10.82
           },
           "mode": "markers",
           "name": "",
           "showlegend": false,
           "subplot": "mapbox",
           "type": "scattermapbox"
          }
         ],
         "name": "2015"
        },
        {
         "data": [
          {
           "hovertemplate": "<b>%{hovertext}</b><br><br>Year=%{marker.color}<br>Total Crime=%{marker.size}<br>latitude=%{lat}<br>longtitude=%{lon}<extra></extra>",
           "hovertext": [
            "Adams",
            "Alamosa",
            "Arapahoe",
            "Archuleta",
            "Baca",
            "Bent",
            "Boulder",
            "Broomfield",
            "Chaffee",
            "Clear Creek",
            "Custer",
            "Delta",
            "Denver",
            "Dolores",
            "Douglas",
            "Eagle",
            "El Paso",
            "Elbert",
            "Fremont",
            "Garfield",
            "Gilpin",
            "Grand",
            "Gunnison",
            "Hinsdale",
            "Huerfano",
            "Jefferson",
            "Kit Carson",
            "La Plata",
            "Lake",
            "Larimer",
            "Lincoln",
            "Logan",
            "Mesa",
            "Moffat",
            "Montezuma",
            "Montrose",
            "Morgan",
            "Otero",
            "Park",
            "Phillips",
            "Pitkin",
            "Prowers",
            "Pueblo",
            "Rio Blanco",
            "Rio Grande",
            "Routt",
            "Saguache",
            "Summit",
            "Teller",
            "Washington",
            "Weld"
           ],
           "ids": [
            "Adams",
            "Alamosa",
            "Arapahoe",
            "Archuleta",
            "Baca",
            "Bent",
            "Boulder",
            "Broomfield",
            "Chaffee",
            "Clear Creek",
            "Custer",
            "Delta",
            "Denver",
            "Dolores",
            "Douglas",
            "Eagle",
            "El Paso",
            "Elbert",
            "Fremont",
            "Garfield",
            "Gilpin",
            "Grand",
            "Gunnison",
            "Hinsdale",
            "Huerfano",
            "Jefferson",
            "Kit Carson",
            "La Plata",
            "Lake",
            "Larimer",
            "Lincoln",
            "Logan",
            "Mesa",
            "Moffat",
            "Montezuma",
            "Montrose",
            "Morgan",
            "Otero",
            "Park",
            "Phillips",
            "Pitkin",
            "Prowers",
            "Pueblo",
            "Rio Blanco",
            "Rio Grande",
            "Routt",
            "Saguache",
            "Summit",
            "Teller",
            "Washington",
            "Weld"
           ],
           "lat": [
            39.69,
            37.46,
            39.69,
            37.02,
            37.1,
            38.1,
            39.93,
            39.94,
            38.53,
            39.78,
            38.13,
            38.78,
            39.59,
            37.65,
            39.37,
            39.87,
            39.07,
            39.47,
            38.44,
            39.54,
            39.8,
            39.93,
            38.67,
            38.07,
            37.78,
            39.82,
            39.3,
            37.23,
            39.37,
            40.37,
            39.28,
            40.55,
            39.08,
            40.24,
            37.35,
            38.49,
            40.33,
            38.1,
            39.28,
            40.68,
            39.19,
            38.06,
            38.27,
            40.05,
            37.67,
            40.7,
            37.75,
            39.5,
            38.74,
            40.16,
            40.17
           ],
           "legendgroup": "",
           "lon": [
            -104.81,
            -105.87,
            -104.81,
            -107.4,
            -102.57,
            -103.15,
            -105.27,
            -105.06,
            -106,
            -105.6,
            -105.46,
            -107.93,
            -105.01,
            -108.82,
            -104.85,
            -106.7,
            -104.85,
            -103.95,
            -105.23,
            -107.33,
            -105.49,
            -105.79,
            -106.83,
            -107.3,
            -105.17,
            -105.1,
            -102.42,
            -107.59,
            -106.18,
            -105.52,
            -103.27,
            -103.27,
            -108.55,
            -109,
            -108.57,
            -107.87,
            -104.12,
            -103.51,
            -106.06,
            -102.17,
            -106.82,
            -102.31,
            -104.62,
            -107.89,
            -106.35,
            -106.92,
            -106.11,
            -106.04,
            -105.17,
            -103.21,
            -105.11
           ],
           "marker": {
            "color": [
             2016,
             2016,
             2016,
             2016,
             2016,
             2016,
             2016,
             2016,
             2016,
             2016,
             2016,
             2016,
             2016,
             2016,
             2016,
             2016,
             2016,
             2016,
             2016,
             2016,
             2016,
             2016,
             2016,
             2016,
             2016,
             2016,
             2016,
             2016,
             2016,
             2016,
             2016,
             2016,
             2016,
             2016,
             2016,
             2016,
             2016,
             2016,
             2016,
             2016,
             2016,
             2016,
             2016,
             2016,
             2016,
             2016,
             2016,
             2016,
             2016,
             2016,
             2016
            ],
            "coloraxis": "coloraxis",
            "size": [
             1397,
             30,
             1408,
             21,
             3,
             1,
             1045,
             189,
             37,
             4,
             6,
             39,
             1192,
             1,
             566,
             168,
             1068,
             11,
             17,
             183,
             6,
             5,
             56,
             4,
             13,
             1576,
             18,
             119,
             4,
             1164,
             2,
             30,
             581,
             84,
             19,
             66,
             32,
             10,
             7,
             4,
             8,
             9,
             123,
             4,
             12,
             83,
             1,
             35,
             47,
             5,
             565
            ],
            "sizemode": "area",
            "sizeref": 10.82
           },
           "mode": "markers",
           "name": "",
           "showlegend": false,
           "subplot": "mapbox",
           "type": "scattermapbox"
          }
         ],
         "name": "2016"
        },
        {
         "data": [
          {
           "hovertemplate": "<b>%{hovertext}</b><br><br>Year=%{marker.color}<br>Total Crime=%{marker.size}<br>latitude=%{lat}<br>longtitude=%{lon}<extra></extra>",
           "hovertext": [
            "Adams",
            "Alamosa",
            "Arapahoe",
            "Archuleta",
            "Boulder",
            "Broomfield",
            "Chaffee",
            "Clear Creek",
            "Crowley",
            "Custer",
            "Delta",
            "Denver",
            "Dolores",
            "Douglas",
            "Eagle",
            "El Paso",
            "Elbert",
            "Fremont",
            "Garfield",
            "Gilpin",
            "Grand",
            "Gunnison",
            "Huerfano",
            "Jefferson",
            "Kit Carson",
            "La Plata",
            "Lake",
            "Larimer",
            "Las Animas",
            "Lincoln",
            "Logan",
            "Mesa",
            "Moffat",
            "Montezuma",
            "Montrose",
            "Morgan",
            "Otero",
            "Park",
            "Phillips",
            "Pitkin",
            "Prowers",
            "Pueblo",
            "Rio Blanco",
            "Rio Grande",
            "Routt",
            "Saguache",
            "Summit",
            "Teller",
            "Washington",
            "Weld"
           ],
           "ids": [
            "Adams",
            "Alamosa",
            "Arapahoe",
            "Archuleta",
            "Boulder",
            "Broomfield",
            "Chaffee",
            "Clear Creek",
            "Crowley",
            "Custer",
            "Delta",
            "Denver",
            "Dolores",
            "Douglas",
            "Eagle",
            "El Paso",
            "Elbert",
            "Fremont",
            "Garfield",
            "Gilpin",
            "Grand",
            "Gunnison",
            "Huerfano",
            "Jefferson",
            "Kit Carson",
            "La Plata",
            "Lake",
            "Larimer",
            "Las Animas",
            "Lincoln",
            "Logan",
            "Mesa",
            "Moffat",
            "Montezuma",
            "Montrose",
            "Morgan",
            "Otero",
            "Park",
            "Phillips",
            "Pitkin",
            "Prowers",
            "Pueblo",
            "Rio Blanco",
            "Rio Grande",
            "Routt",
            "Saguache",
            "Summit",
            "Teller",
            "Washington",
            "Weld"
           ],
           "lat": [
            39.69,
            37.46,
            39.69,
            37.02,
            39.93,
            39.94,
            38.53,
            39.78,
            38.19,
            38.13,
            38.78,
            39.59,
            37.65,
            39.37,
            39.87,
            39.07,
            39.47,
            38.44,
            39.54,
            39.8,
            39.93,
            38.67,
            37.78,
            39.82,
            39.3,
            37.23,
            39.37,
            40.37,
            37.4,
            39.28,
            40.55,
            39.08,
            40.24,
            37.35,
            38.49,
            40.33,
            38.1,
            39.28,
            40.68,
            39.19,
            38.06,
            38.27,
            40.05,
            37.67,
            40.7,
            37.75,
            39.5,
            38.74,
            40.16,
            40.17
           ],
           "legendgroup": "",
           "lon": [
            -104.81,
            -105.87,
            -104.81,
            -107.4,
            -105.27,
            -105.06,
            -106,
            -105.6,
            -103.85,
            -105.46,
            -107.93,
            -105.01,
            -108.82,
            -104.85,
            -106.7,
            -104.85,
            -103.95,
            -105.23,
            -107.33,
            -105.49,
            -105.79,
            -106.83,
            -105.17,
            -105.1,
            -102.42,
            -107.59,
            -106.18,
            -105.52,
            -104.65,
            -103.27,
            -103.27,
            -108.55,
            -109,
            -108.57,
            -107.87,
            -104.12,
            -103.51,
            -106.06,
            -102.17,
            -106.82,
            -102.31,
            -104.62,
            -107.89,
            -106.35,
            -106.92,
            -106.11,
            -106.04,
            -105.17,
            -103.21,
            -105.11
           ],
           "marker": {
            "color": [
             2017,
             2017,
             2017,
             2017,
             2017,
             2017,
             2017,
             2017,
             2017,
             2017,
             2017,
             2017,
             2017,
             2017,
             2017,
             2017,
             2017,
             2017,
             2017,
             2017,
             2017,
             2017,
             2017,
             2017,
             2017,
             2017,
             2017,
             2017,
             2017,
             2017,
             2017,
             2017,
             2017,
             2017,
             2017,
             2017,
             2017,
             2017,
             2017,
             2017,
             2017,
             2017,
             2017,
             2017,
             2017,
             2017,
             2017,
             2017,
             2017,
             2017
            ],
            "coloraxis": "coloraxis",
            "size": [
             1498,
             52,
             1226,
             9,
             1417,
             176,
             20,
             2,
             6,
             4,
             41,
             542,
             7,
             752,
             159,
             982,
             24,
             61,
             235,
             13,
             1,
             83,
             3,
             1601,
             21,
             150,
             3,
             1078,
             10,
             9,
             23,
             759,
             58,
             19,
             60,
             47,
             19,
             2,
             2,
             9,
             3,
             102,
             5,
             14,
             85,
             19,
             18,
             49,
             1,
             449
            ],
            "sizemode": "area",
            "sizeref": 10.82
           },
           "mode": "markers",
           "name": "",
           "showlegend": false,
           "subplot": "mapbox",
           "type": "scattermapbox"
          }
         ],
         "name": "2017"
        }
       ],
       "layout": {
        "coloraxis": {
         "colorbar": {
          "title": {
           "text": "Year"
          }
         },
         "colorscale": [
          [
           0,
           "#0d0887"
          ],
          [
           0.1111111111111111,
           "#46039f"
          ],
          [
           0.2222222222222222,
           "#7201a8"
          ],
          [
           0.3333333333333333,
           "#9c179e"
          ],
          [
           0.4444444444444444,
           "#bd3786"
          ],
          [
           0.5555555555555556,
           "#d8576b"
          ],
          [
           0.6666666666666666,
           "#ed7953"
          ],
          [
           0.7777777777777778,
           "#fb9f3a"
          ],
          [
           0.8888888888888888,
           "#fdca26"
          ],
          [
           1,
           "#f0f921"
          ]
         ],
         "showscale": false
        },
        "legend": {
         "itemsizing": "constant",
         "tracegroupgap": 0
        },
        "mapbox": {
         "center": {
          "lat": 39.024781250000025,
          "lon": -105.53196874999995
         },
         "domain": {
          "x": [
           0,
           1
          ],
          "y": [
           0,
           1
          ]
         },
         "style": "carto-positron",
         "zoom": 5
        },
        "sliders": [
         {
          "active": 0,
          "currentvalue": {
           "prefix": "Year="
          },
          "len": 0.9,
          "pad": {
           "b": 10,
           "t": 60
          },
          "steps": [
           {
            "args": [
             [
              "2012"
             ],
             {
              "frame": {
               "duration": 0,
               "redraw": true
              },
              "fromcurrent": true,
              "mode": "immediate",
              "transition": {
               "duration": 0,
               "easing": "linear"
              }
             }
            ],
            "label": "2012",
            "method": "animate"
           },
           {
            "args": [
             [
              "2013"
             ],
             {
              "frame": {
               "duration": 0,
               "redraw": true
              },
              "fromcurrent": true,
              "mode": "immediate",
              "transition": {
               "duration": 0,
               "easing": "linear"
              }
             }
            ],
            "label": "2013",
            "method": "animate"
           },
           {
            "args": [
             [
              "2014"
             ],
             {
              "frame": {
               "duration": 0,
               "redraw": true
              },
              "fromcurrent": true,
              "mode": "immediate",
              "transition": {
               "duration": 0,
               "easing": "linear"
              }
             }
            ],
            "label": "2014",
            "method": "animate"
           },
           {
            "args": [
             [
              "2015"
             ],
             {
              "frame": {
               "duration": 0,
               "redraw": true
              },
              "fromcurrent": true,
              "mode": "immediate",
              "transition": {
               "duration": 0,
               "easing": "linear"
              }
             }
            ],
            "label": "2015",
            "method": "animate"
           },
           {
            "args": [
             [
              "2016"
             ],
             {
              "frame": {
               "duration": 0,
               "redraw": true
              },
              "fromcurrent": true,
              "mode": "immediate",
              "transition": {
               "duration": 0,
               "easing": "linear"
              }
             }
            ],
            "label": "2016",
            "method": "animate"
           },
           {
            "args": [
             [
              "2017"
             ],
             {
              "frame": {
               "duration": 0,
               "redraw": true
              },
              "fromcurrent": true,
              "mode": "immediate",
              "transition": {
               "duration": 0,
               "easing": "linear"
              }
             }
            ],
            "label": "2017",
            "method": "animate"
           }
          ],
          "x": 0.1,
          "xanchor": "left",
          "y": 0,
          "yanchor": "top"
         }
        ],
        "template": {
         "data": {
          "bar": [
           {
            "error_x": {
             "color": "#2a3f5f"
            },
            "error_y": {
             "color": "#2a3f5f"
            },
            "marker": {
             "line": {
              "color": "#E5ECF6",
              "width": 0.5
             }
            },
            "type": "bar"
           }
          ],
          "barpolar": [
           {
            "marker": {
             "line": {
              "color": "#E5ECF6",
              "width": 0.5
             }
            },
            "type": "barpolar"
           }
          ],
          "carpet": [
           {
            "aaxis": {
             "endlinecolor": "#2a3f5f",
             "gridcolor": "white",
             "linecolor": "white",
             "minorgridcolor": "white",
             "startlinecolor": "#2a3f5f"
            },
            "baxis": {
             "endlinecolor": "#2a3f5f",
             "gridcolor": "white",
             "linecolor": "white",
             "minorgridcolor": "white",
             "startlinecolor": "#2a3f5f"
            },
            "type": "carpet"
           }
          ],
          "choropleth": [
           {
            "colorbar": {
             "outlinewidth": 0,
             "ticks": ""
            },
            "type": "choropleth"
           }
          ],
          "contour": [
           {
            "colorbar": {
             "outlinewidth": 0,
             "ticks": ""
            },
            "colorscale": [
             [
              0,
              "#0d0887"
             ],
             [
              0.1111111111111111,
              "#46039f"
             ],
             [
              0.2222222222222222,
              "#7201a8"
             ],
             [
              0.3333333333333333,
              "#9c179e"
             ],
             [
              0.4444444444444444,
              "#bd3786"
             ],
             [
              0.5555555555555556,
              "#d8576b"
             ],
             [
              0.6666666666666666,
              "#ed7953"
             ],
             [
              0.7777777777777778,
              "#fb9f3a"
             ],
             [
              0.8888888888888888,
              "#fdca26"
             ],
             [
              1,
              "#f0f921"
             ]
            ],
            "type": "contour"
           }
          ],
          "contourcarpet": [
           {
            "colorbar": {
             "outlinewidth": 0,
             "ticks": ""
            },
            "type": "contourcarpet"
           }
          ],
          "heatmap": [
           {
            "colorbar": {
             "outlinewidth": 0,
             "ticks": ""
            },
            "colorscale": [
             [
              0,
              "#0d0887"
             ],
             [
              0.1111111111111111,
              "#46039f"
             ],
             [
              0.2222222222222222,
              "#7201a8"
             ],
             [
              0.3333333333333333,
              "#9c179e"
             ],
             [
              0.4444444444444444,
              "#bd3786"
             ],
             [
              0.5555555555555556,
              "#d8576b"
             ],
             [
              0.6666666666666666,
              "#ed7953"
             ],
             [
              0.7777777777777778,
              "#fb9f3a"
             ],
             [
              0.8888888888888888,
              "#fdca26"
             ],
             [
              1,
              "#f0f921"
             ]
            ],
            "type": "heatmap"
           }
          ],
          "heatmapgl": [
           {
            "colorbar": {
             "outlinewidth": 0,
             "ticks": ""
            },
            "colorscale": [
             [
              0,
              "#0d0887"
             ],
             [
              0.1111111111111111,
              "#46039f"
             ],
             [
              0.2222222222222222,
              "#7201a8"
             ],
             [
              0.3333333333333333,
              "#9c179e"
             ],
             [
              0.4444444444444444,
              "#bd3786"
             ],
             [
              0.5555555555555556,
              "#d8576b"
             ],
             [
              0.6666666666666666,
              "#ed7953"
             ],
             [
              0.7777777777777778,
              "#fb9f3a"
             ],
             [
              0.8888888888888888,
              "#fdca26"
             ],
             [
              1,
              "#f0f921"
             ]
            ],
            "type": "heatmapgl"
           }
          ],
          "histogram": [
           {
            "marker": {
             "colorbar": {
              "outlinewidth": 0,
              "ticks": ""
             }
            },
            "type": "histogram"
           }
          ],
          "histogram2d": [
           {
            "colorbar": {
             "outlinewidth": 0,
             "ticks": ""
            },
            "colorscale": [
             [
              0,
              "#0d0887"
             ],
             [
              0.1111111111111111,
              "#46039f"
             ],
             [
              0.2222222222222222,
              "#7201a8"
             ],
             [
              0.3333333333333333,
              "#9c179e"
             ],
             [
              0.4444444444444444,
              "#bd3786"
             ],
             [
              0.5555555555555556,
              "#d8576b"
             ],
             [
              0.6666666666666666,
              "#ed7953"
             ],
             [
              0.7777777777777778,
              "#fb9f3a"
             ],
             [
              0.8888888888888888,
              "#fdca26"
             ],
             [
              1,
              "#f0f921"
             ]
            ],
            "type": "histogram2d"
           }
          ],
          "histogram2dcontour": [
           {
            "colorbar": {
             "outlinewidth": 0,
             "ticks": ""
            },
            "colorscale": [
             [
              0,
              "#0d0887"
             ],
             [
              0.1111111111111111,
              "#46039f"
             ],
             [
              0.2222222222222222,
              "#7201a8"
             ],
             [
              0.3333333333333333,
              "#9c179e"
             ],
             [
              0.4444444444444444,
              "#bd3786"
             ],
             [
              0.5555555555555556,
              "#d8576b"
             ],
             [
              0.6666666666666666,
              "#ed7953"
             ],
             [
              0.7777777777777778,
              "#fb9f3a"
             ],
             [
              0.8888888888888888,
              "#fdca26"
             ],
             [
              1,
              "#f0f921"
             ]
            ],
            "type": "histogram2dcontour"
           }
          ],
          "mesh3d": [
           {
            "colorbar": {
             "outlinewidth": 0,
             "ticks": ""
            },
            "type": "mesh3d"
           }
          ],
          "parcoords": [
           {
            "line": {
             "colorbar": {
              "outlinewidth": 0,
              "ticks": ""
             }
            },
            "type": "parcoords"
           }
          ],
          "pie": [
           {
            "automargin": true,
            "type": "pie"
           }
          ],
          "scatter": [
           {
            "marker": {
             "colorbar": {
              "outlinewidth": 0,
              "ticks": ""
             }
            },
            "type": "scatter"
           }
          ],
          "scatter3d": [
           {
            "line": {
             "colorbar": {
              "outlinewidth": 0,
              "ticks": ""
             }
            },
            "marker": {
             "colorbar": {
              "outlinewidth": 0,
              "ticks": ""
             }
            },
            "type": "scatter3d"
           }
          ],
          "scattercarpet": [
           {
            "marker": {
             "colorbar": {
              "outlinewidth": 0,
              "ticks": ""
             }
            },
            "type": "scattercarpet"
           }
          ],
          "scattergeo": [
           {
            "marker": {
             "colorbar": {
              "outlinewidth": 0,
              "ticks": ""
             }
            },
            "type": "scattergeo"
           }
          ],
          "scattergl": [
           {
            "marker": {
             "colorbar": {
              "outlinewidth": 0,
              "ticks": ""
             }
            },
            "type": "scattergl"
           }
          ],
          "scattermapbox": [
           {
            "marker": {
             "colorbar": {
              "outlinewidth": 0,
              "ticks": ""
             }
            },
            "type": "scattermapbox"
           }
          ],
          "scatterpolar": [
           {
            "marker": {
             "colorbar": {
              "outlinewidth": 0,
              "ticks": ""
             }
            },
            "type": "scatterpolar"
           }
          ],
          "scatterpolargl": [
           {
            "marker": {
             "colorbar": {
              "outlinewidth": 0,
              "ticks": ""
             }
            },
            "type": "scatterpolargl"
           }
          ],
          "scatterternary": [
           {
            "marker": {
             "colorbar": {
              "outlinewidth": 0,
              "ticks": ""
             }
            },
            "type": "scatterternary"
           }
          ],
          "surface": [
           {
            "colorbar": {
             "outlinewidth": 0,
             "ticks": ""
            },
            "colorscale": [
             [
              0,
              "#0d0887"
             ],
             [
              0.1111111111111111,
              "#46039f"
             ],
             [
              0.2222222222222222,
              "#7201a8"
             ],
             [
              0.3333333333333333,
              "#9c179e"
             ],
             [
              0.4444444444444444,
              "#bd3786"
             ],
             [
              0.5555555555555556,
              "#d8576b"
             ],
             [
              0.6666666666666666,
              "#ed7953"
             ],
             [
              0.7777777777777778,
              "#fb9f3a"
             ],
             [
              0.8888888888888888,
              "#fdca26"
             ],
             [
              1,
              "#f0f921"
             ]
            ],
            "type": "surface"
           }
          ],
          "table": [
           {
            "cells": {
             "fill": {
              "color": "#EBF0F8"
             },
             "line": {
              "color": "white"
             }
            },
            "header": {
             "fill": {
              "color": "#C8D4E3"
             },
             "line": {
              "color": "white"
             }
            },
            "type": "table"
           }
          ]
         },
         "layout": {
          "annotationdefaults": {
           "arrowcolor": "#2a3f5f",
           "arrowhead": 0,
           "arrowwidth": 1
          },
          "coloraxis": {
           "colorbar": {
            "outlinewidth": 0,
            "ticks": ""
           }
          },
          "colorscale": {
           "diverging": [
            [
             0,
             "#8e0152"
            ],
            [
             0.1,
             "#c51b7d"
            ],
            [
             0.2,
             "#de77ae"
            ],
            [
             0.3,
             "#f1b6da"
            ],
            [
             0.4,
             "#fde0ef"
            ],
            [
             0.5,
             "#f7f7f7"
            ],
            [
             0.6,
             "#e6f5d0"
            ],
            [
             0.7,
             "#b8e186"
            ],
            [
             0.8,
             "#7fbc41"
            ],
            [
             0.9,
             "#4d9221"
            ],
            [
             1,
             "#276419"
            ]
           ],
           "sequential": [
            [
             0,
             "#0d0887"
            ],
            [
             0.1111111111111111,
             "#46039f"
            ],
            [
             0.2222222222222222,
             "#7201a8"
            ],
            [
             0.3333333333333333,
             "#9c179e"
            ],
            [
             0.4444444444444444,
             "#bd3786"
            ],
            [
             0.5555555555555556,
             "#d8576b"
            ],
            [
             0.6666666666666666,
             "#ed7953"
            ],
            [
             0.7777777777777778,
             "#fb9f3a"
            ],
            [
             0.8888888888888888,
             "#fdca26"
            ],
            [
             1,
             "#f0f921"
            ]
           ],
           "sequentialminus": [
            [
             0,
             "#0d0887"
            ],
            [
             0.1111111111111111,
             "#46039f"
            ],
            [
             0.2222222222222222,
             "#7201a8"
            ],
            [
             0.3333333333333333,
             "#9c179e"
            ],
            [
             0.4444444444444444,
             "#bd3786"
            ],
            [
             0.5555555555555556,
             "#d8576b"
            ],
            [
             0.6666666666666666,
             "#ed7953"
            ],
            [
             0.7777777777777778,
             "#fb9f3a"
            ],
            [
             0.8888888888888888,
             "#fdca26"
            ],
            [
             1,
             "#f0f921"
            ]
           ]
          },
          "colorway": [
           "#636efa",
           "#EF553B",
           "#00cc96",
           "#ab63fa",
           "#FFA15A",
           "#19d3f3",
           "#FF6692",
           "#B6E880",
           "#FF97FF",
           "#FECB52"
          ],
          "font": {
           "color": "#2a3f5f"
          },
          "geo": {
           "bgcolor": "white",
           "lakecolor": "white",
           "landcolor": "#E5ECF6",
           "showlakes": true,
           "showland": true,
           "subunitcolor": "white"
          },
          "hoverlabel": {
           "align": "left"
          },
          "hovermode": "closest",
          "mapbox": {
           "style": "light"
          },
          "paper_bgcolor": "white",
          "plot_bgcolor": "#E5ECF6",
          "polar": {
           "angularaxis": {
            "gridcolor": "white",
            "linecolor": "white",
            "ticks": ""
           },
           "bgcolor": "#E5ECF6",
           "radialaxis": {
            "gridcolor": "white",
            "linecolor": "white",
            "ticks": ""
           }
          },
          "scene": {
           "xaxis": {
            "backgroundcolor": "#E5ECF6",
            "gridcolor": "white",
            "gridwidth": 2,
            "linecolor": "white",
            "showbackground": true,
            "ticks": "",
            "zerolinecolor": "white"
           },
           "yaxis": {
            "backgroundcolor": "#E5ECF6",
            "gridcolor": "white",
            "gridwidth": 2,
            "linecolor": "white",
            "showbackground": true,
            "ticks": "",
            "zerolinecolor": "white"
           },
           "zaxis": {
            "backgroundcolor": "#E5ECF6",
            "gridcolor": "white",
            "gridwidth": 2,
            "linecolor": "white",
            "showbackground": true,
            "ticks": "",
            "zerolinecolor": "white"
           }
          },
          "shapedefaults": {
           "line": {
            "color": "#2a3f5f"
           }
          },
          "ternary": {
           "aaxis": {
            "gridcolor": "white",
            "linecolor": "white",
            "ticks": ""
           },
           "baxis": {
            "gridcolor": "white",
            "linecolor": "white",
            "ticks": ""
           },
           "bgcolor": "#E5ECF6",
           "caxis": {
            "gridcolor": "white",
            "linecolor": "white",
            "ticks": ""
           }
          },
          "title": {
           "x": 0.05
          },
          "xaxis": {
           "automargin": true,
           "gridcolor": "white",
           "linecolor": "white",
           "ticks": "",
           "title": {
            "standoff": 15
           },
           "zerolinecolor": "white",
           "zerolinewidth": 2
          },
          "yaxis": {
           "automargin": true,
           "gridcolor": "white",
           "linecolor": "white",
           "ticks": "",
           "title": {
            "standoff": 15
           },
           "zerolinecolor": "white",
           "zerolinewidth": 2
          }
         }
        },
        "title": {
         "text": "Reported Offenses and Arrests Related to Marijuana by County"
        },
        "updatemenus": [
         {
          "buttons": [
           {
            "args": [
             null,
             {
              "frame": {
               "duration": 500,
               "redraw": true
              },
              "fromcurrent": true,
              "mode": "immediate",
              "transition": {
               "duration": 500,
               "easing": "linear"
              }
             }
            ],
            "label": "&#9654;",
            "method": "animate"
           },
           {
            "args": [
             [
              null
             ],
             {
              "frame": {
               "duration": 0,
               "redraw": true
              },
              "fromcurrent": true,
              "mode": "immediate",
              "transition": {
               "duration": 0,
               "easing": "linear"
              }
             }
            ],
            "label": "&#9724;",
            "method": "animate"
           }
          ],
          "direction": "left",
          "pad": {
           "r": 10,
           "t": 70
          },
          "showactive": false,
          "type": "buttons",
          "x": 0.1,
          "xanchor": "right",
          "y": 0,
          "yanchor": "top"
         }
        ]
       }
      }
     },
     "metadata": {}
    }
   ],
   "source": [
    "##PLOT WITH SLIDER\n",
    "\n",
    "mapbox_token = os.getenv(\"MAPBOX_API_KEY\")\n",
    "px.set_mapbox_access_token(mapbox_token)\n",
    "\n",
    "ArrestsPlotSlider = px.scatter_mapbox(Arrests, \n",
    "lat=\"latitude\", lon=\"longtitude\", \n",
    "size=\"Total Crime\", color=\"Year\", \n",
    "mapbox_style=\"carto-positron\",\n",
    "zoom=5,\n",
    "hover_name=\"County\",\n",
    "title=\"Reported Offenses and Arrests Related to Marijuana by County\",\n",
    "animation_frame=\"Year\", animation_group=\"County\"\n",
    ")\n",
    "\n",
    "#ArrestsPlot.layout.updatemenus[0].buttons[0].args[1][\"frame\"][\"duration\"] = 200\n",
    "#rrestsPlot.layout.updatemenus[0].buttons[0].args[1][\"transition\"][\"duration\"] = 200\n",
    "ArrestsPlotSlider.layout.coloraxis.showscale = False\n",
    "#ArrestsPlot.layout.sliders[0].pad.t = 10\n",
    "#ArrestsPlot.layout.updatemenus[0].pad.t= 50\n",
    "\n",
    "#ArrestsPlot.layout.coloraxis.showscale = False\n",
    "ArrestsPlotSlider.show()"
   ]
  },
  {
   "cell_type": "code",
   "execution_count": null,
   "metadata": {},
   "outputs": [],
   "source": []
  }
 ]
}