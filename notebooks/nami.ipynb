{
 "metadata": {
  "language_info": {
   "codemirror_mode": {
    "name": "ipython",
    "version": 3
   },
   "file_extension": ".py",
   "mimetype": "text/x-python",
   "name": "python",
   "nbconvert_exporter": "python",
   "pygments_lexer": "ipython3",
   "version": "3.8.3-final"
  },
  "orig_nbformat": 2,
  "kernelspec": {
   "name": "Python 3.8.3 64-bit ('base': conda)",
   "display_name": "Python 3.8.3 64-bit ('base': conda)",
   "metadata": {
    "interpreter": {
     "hash": "dca0ade3e726a953b501b15e8e990130d2b7799f14cfd9f4271676035ebe5511"
    }
   }
  }
 },
 "nbformat": 4,
 "nbformat_minor": 2,
 "cells": [
  {
   "cell_type": "code",
   "execution_count": 1,
   "metadata": {},
   "outputs": [],
   "source": [
    "# Initial imports\n",
    "import os\n",
    "import requests\n",
    "import pandas as pd\n",
    "from dotenv import load_dotenv\n",
    "import alpaca_trade_api as tradeapi\n",
    "\n",
    "%matplotlib inline"
   ]
  },
  {
   "cell_type": "code",
   "execution_count": 2,
   "metadata": {},
   "outputs": [
    {
     "output_type": "execute_result",
     "data": {
      "text/plain": [
       "True"
      ]
     },
     "metadata": {},
     "execution_count": 2
    }
   ],
   "source": [
    "load_dotenv()"
   ]
  },
  {
   "cell_type": "code",
   "execution_count": 3,
   "metadata": {},
   "outputs": [],
   "source": [
    "alpaca_api_key = os.getenv(\"ALPACA_API_KEY\")\n",
    "alpaca_secret_key = os.getenv(\"ALPACA_SECRET_KEY\")"
   ]
  },
  {
   "cell_type": "code",
   "execution_count": 4,
   "metadata": {},
   "outputs": [
    {
     "output_type": "stream",
     "name": "stdout",
     "text": [
      "Alpaca Key type: <class 'str'>\nAlpaca Secret Key type: <class 'str'>\n"
     ]
    }
   ],
   "source": [
    "print(f\"Alpaca Key type: {type(alpaca_api_key)}\")\n",
    "print(f\"Alpaca Secret Key type: {type(alpaca_secret_key)}\") "
   ]
  },
  {
   "cell_type": "code",
   "execution_count": 5,
   "metadata": {},
   "outputs": [],
   "source": [
    "alpaca = tradeapi.REST(\n",
    "    alpaca_api_key,\n",
    "    alpaca_secret_key,\n",
    "    api_version=\"v2\")"
   ]
  },
  {
   "cell_type": "code",
   "execution_count": 49,
   "metadata": {},
   "outputs": [],
   "source": [
    "today = pd.Timestamp(\"2010-01-01\", tz=\"America/New_York\").isoformat()"
   ]
  },
  {
   "cell_type": "code",
   "execution_count": 52,
   "metadata": {},
   "outputs": [],
   "source": [
    "tickers = [\"APHA\", \"OGI\", \"AMRS\"]"
   ]
  },
  {
   "cell_type": "code",
   "execution_count": 53,
   "metadata": {},
   "outputs": [],
   "source": [
    "timeframe = \"1D\""
   ]
  },
  {
   "cell_type": "code",
   "execution_count": 88,
   "metadata": {},
   "outputs": [
    {
     "output_type": "execute_result",
     "data": {
      "text/plain": [
       "                           AMRS close  APHA close  OGI close\n",
       "2010-09-28 00:00:00-04:00    3712.500         NaN        NaN\n",
       "2010-09-29 00:00:00-04:00    3791.250         NaN        NaN\n",
       "2010-09-30 00:00:00-04:00    3881.250         NaN        NaN\n",
       "2010-10-01 00:00:00-04:00     258.450         NaN        NaN\n",
       "2010-10-04 00:00:00-04:00     255.900         NaN        NaN\n",
       "...                               ...         ...        ...\n",
       "2020-10-26 00:00:00-04:00       2.865      4.5800     1.2200\n",
       "2020-10-27 00:00:00-04:00       2.815      4.6800     1.2100\n",
       "2020-10-28 00:00:00-04:00       2.690      4.4369     1.1850\n",
       "2020-10-29 00:00:00-04:00       2.650      4.4900     1.2200\n",
       "2020-10-30 00:00:00-04:00       2.490      4.4950     1.1933\n",
       "\n",
       "[2542 rows x 3 columns]"
      ],
      "text/html": "<div>\n<style scoped>\n    .dataframe tbody tr th:only-of-type {\n        vertical-align: middle;\n    }\n\n    .dataframe tbody tr th {\n        vertical-align: top;\n    }\n\n    .dataframe thead th {\n        text-align: right;\n    }\n</style>\n<table border=\"1\" class=\"dataframe\">\n  <thead>\n    <tr style=\"text-align: right;\">\n      <th></th>\n      <th>AMRS close</th>\n      <th>APHA close</th>\n      <th>OGI close</th>\n    </tr>\n  </thead>\n  <tbody>\n    <tr>\n      <th>2010-09-28 00:00:00-04:00</th>\n      <td>3712.500</td>\n      <td>NaN</td>\n      <td>NaN</td>\n    </tr>\n    <tr>\n      <th>2010-09-29 00:00:00-04:00</th>\n      <td>3791.250</td>\n      <td>NaN</td>\n      <td>NaN</td>\n    </tr>\n    <tr>\n      <th>2010-09-30 00:00:00-04:00</th>\n      <td>3881.250</td>\n      <td>NaN</td>\n      <td>NaN</td>\n    </tr>\n    <tr>\n      <th>2010-10-01 00:00:00-04:00</th>\n      <td>258.450</td>\n      <td>NaN</td>\n      <td>NaN</td>\n    </tr>\n    <tr>\n      <th>2010-10-04 00:00:00-04:00</th>\n      <td>255.900</td>\n      <td>NaN</td>\n      <td>NaN</td>\n    </tr>\n    <tr>\n      <th>...</th>\n      <td>...</td>\n      <td>...</td>\n      <td>...</td>\n    </tr>\n    <tr>\n      <th>2020-10-26 00:00:00-04:00</th>\n      <td>2.865</td>\n      <td>4.5800</td>\n      <td>1.2200</td>\n    </tr>\n    <tr>\n      <th>2020-10-27 00:00:00-04:00</th>\n      <td>2.815</td>\n      <td>4.6800</td>\n      <td>1.2100</td>\n    </tr>\n    <tr>\n      <th>2020-10-28 00:00:00-04:00</th>\n      <td>2.690</td>\n      <td>4.4369</td>\n      <td>1.1850</td>\n    </tr>\n    <tr>\n      <th>2020-10-29 00:00:00-04:00</th>\n      <td>2.650</td>\n      <td>4.4900</td>\n      <td>1.2200</td>\n    </tr>\n    <tr>\n      <th>2020-10-30 00:00:00-04:00</th>\n      <td>2.490</td>\n      <td>4.4950</td>\n      <td>1.1933</td>\n    </tr>\n  </tbody>\n</table>\n<p>2542 rows × 3 columns</p>\n</div>"
     },
     "metadata": {},
     "execution_count": 88
    }
   ],
   "source": [
    "df_portfolio = alpaca.get_barset(\n",
    "    tickers,\n",
    "    timeframe,\n",
    "    start = today,\n",
    " \n",
    ").df\n",
    "\n",
    "df_portfolio.columns = ['AMRS open', 'AMRS high', 'AMRS low', 'AMRS close', 'AMRS volume', 'APHA open', 'APHA high', 'APHA low', 'APHA close', 'APHA volume', 'OGI open', 'OGI high', 'OGI low', 'OGI close', 'OGI volume']\n",
    "\n",
    "close = df_portfolio[['AMRS close', 'APHA close', 'OGI close']]\n",
    "close"
   ]
  },
  {
   "cell_type": "code",
   "execution_count": null,
   "metadata": {},
   "outputs": [],
   "source": []
  }
 ]
}